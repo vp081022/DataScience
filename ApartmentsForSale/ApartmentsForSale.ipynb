{
 "cells": [
  {
   "cell_type": "markdown",
   "metadata": {},
   "source": [
    "# Анализ объявлений о продаже квартир"
   ]
  },
  {
   "cell_type": "markdown",
   "metadata": {},
   "source": [
    "Необходимо выполнить анализ архива объявлений о продаже квартир в Санкт-Петербурге и соседних населённых пунктах. Нужно определить какие факторы более всего влияют на рыночную стоимость квартиры."
   ]
  },
  {
   "cell_type": "markdown",
   "metadata": {},
   "source": [
    "# План работы"
   ]
  },
  {
   "cell_type": "markdown",
   "metadata": {},
   "source": [
    "1. Изучение данных из файла\n",
    "    1. Вывод\n",
    "2. Предобработка данных\n",
    "3. Расчёты и добавление результатов в таблицу\n",
    "4. Исследовательский анализ данных\n",
    "5. Общий вывод\n",
    "6. Чек-лист готовности проекта"
   ]
  },
  {
   "cell_type": "markdown",
   "metadata": {},
   "source": [
    "# Описание данных"
   ]
  },
  {
   "cell_type": "markdown",
   "metadata": {},
   "source": [
    "* `airports_nearest` — расстояние до ближайшего аэропорта в метрах (м)\n",
    "* `balcony` — число балконов\n",
    "* `ceiling_height` — высота потолков (м)\n",
    "* `cityCenters_nearest` — расстояние до центра города (м)\n",
    "* `days_exposition` — сколько дней было размещено объявление (от публикации до снятия)\n",
    "* `first_day_exposition` — дата публикации\n",
    "* `floor` — этаж\n",
    "* `floors_total` — всего этажей в доме\n",
    "* `is_apartment` — апартаменты (булев тип)\n",
    "* `kitchen_area` — площадь кухни в квадратных метрах (м²)\n",
    "* `last_price` — цена на момент снятия с публикации\n",
    "* `living_area` — жилая площадь в квадратных метрах (м²)\n",
    "* `locality_name` — название населённого пункта\n",
    "* `open_plan` — свободная планировка (булев тип)\n",
    "* `parks_around3000` — число парков в радиусе 3 км\n",
    "* `parks_nearest` — расстояние до ближайшего парка (м)\n",
    "* `ponds_around3000` — число водоёмов в радиусе 3 км\n",
    "* `ponds_nearest` — расстояние до ближайшего водоёма (м)\n",
    "* `rooms` — число комнат\n",
    "* `studio` — квартира-студия (булев тип)\n",
    "* `total_area` — площадь квартиры в квадратных метрах (м²)\n",
    "* `total_images` — число фотографий квартиры в объявлении"
   ]
  },
  {
   "cell_type": "markdown",
   "metadata": {},
   "source": [
    "## Изучение данных из файла"
   ]
  },
  {
   "cell_type": "code",
   "execution_count": 380,
   "metadata": {},
   "outputs": [],
   "source": [
    "import pandas as pd\n",
    "import matplotlib.pyplot as plt\n",
    "#В данных в качестве разделителя колонок используется \"\\t\", поэтому при чтении файла указывается данный факт\n",
    "data = pd.read_csv('/datasets/real_estate_data.csv', sep='\\t')"
   ]
  },
  {
   "cell_type": "code",
   "execution_count": 381,
   "metadata": {},
   "outputs": [
    {
     "name": "stdout",
     "output_type": "stream",
     "text": [
      "   total_images  last_price  total_area first_day_exposition  rooms  \\\n",
      "0            20  13000000.0       108.0  2019-03-07T00:00:00      3   \n",
      "1             7   3350000.0        40.4  2018-12-04T00:00:00      1   \n",
      "2            10   5196000.0        56.0  2015-08-20T00:00:00      2   \n",
      "3             0  64900000.0       159.0  2015-07-24T00:00:00      3   \n",
      "4             2  10000000.0       100.0  2018-06-19T00:00:00      2   \n",
      "\n",
      "   ceiling_height  floors_total  living_area  floor is_apartment  ...  \\\n",
      "0            2.70          16.0         51.0      8          NaN  ...   \n",
      "1             NaN          11.0         18.6      1          NaN  ...   \n",
      "2             NaN           5.0         34.3      4          NaN  ...   \n",
      "3             NaN          14.0          NaN      9          NaN  ...   \n",
      "4            3.03          14.0         32.0     13          NaN  ...   \n",
      "\n",
      "   kitchen_area  balcony    locality_name  airports_nearest  \\\n",
      "0          25.0      NaN  Санкт-Петербург           18863.0   \n",
      "1          11.0      2.0   посёлок Шушары           12817.0   \n",
      "2           8.3      0.0  Санкт-Петербург           21741.0   \n",
      "3           NaN      0.0  Санкт-Петербург           28098.0   \n",
      "4          41.0      NaN  Санкт-Петербург           31856.0   \n",
      "\n",
      "  cityCenters_nearest  parks_around3000  parks_nearest  ponds_around3000  \\\n",
      "0             16028.0               1.0          482.0               2.0   \n",
      "1             18603.0               0.0            NaN               0.0   \n",
      "2             13933.0               1.0           90.0               2.0   \n",
      "3              6800.0               2.0           84.0               3.0   \n",
      "4              8098.0               2.0          112.0               1.0   \n",
      "\n",
      "   ponds_nearest  days_exposition  \n",
      "0          755.0              NaN  \n",
      "1            NaN             81.0  \n",
      "2          574.0            558.0  \n",
      "3          234.0            424.0  \n",
      "4           48.0            121.0  \n",
      "\n",
      "[5 rows x 22 columns]\n"
     ]
    }
   ],
   "source": [
    "#Вывод первых 5 строк файла\n",
    "print(data.head())"
   ]
  },
  {
   "cell_type": "code",
   "execution_count": 382,
   "metadata": {},
   "outputs": [
    {
     "data": {
      "text/plain": [
       "count    18180.000000\n",
       "mean     14191.277833\n",
       "std       8608.386210\n",
       "min        181.000000\n",
       "25%       9238.000000\n",
       "50%      13098.500000\n",
       "75%      16293.000000\n",
       "max      65968.000000\n",
       "Name: cityCenters_nearest, dtype: float64"
      ]
     },
     "execution_count": 382,
     "metadata": {},
     "output_type": "execute_result"
    }
   ],
   "source": [
    "data['cityCenters_nearest'].describe()"
   ]
  },
  {
   "cell_type": "code",
   "execution_count": 383,
   "metadata": {
    "scrolled": true
   },
   "outputs": [
    {
     "name": "stdout",
     "output_type": "stream",
     "text": [
      "<class 'pandas.core.frame.DataFrame'>\n",
      "RangeIndex: 23699 entries, 0 to 23698\n",
      "Data columns (total 22 columns):\n",
      "total_images            23699 non-null int64\n",
      "last_price              23699 non-null float64\n",
      "total_area              23699 non-null float64\n",
      "first_day_exposition    23699 non-null object\n",
      "rooms                   23699 non-null int64\n",
      "ceiling_height          14504 non-null float64\n",
      "floors_total            23613 non-null float64\n",
      "living_area             21796 non-null float64\n",
      "floor                   23699 non-null int64\n",
      "is_apartment            2775 non-null object\n",
      "studio                  23699 non-null bool\n",
      "open_plan               23699 non-null bool\n",
      "kitchen_area            21421 non-null float64\n",
      "balcony                 12180 non-null float64\n",
      "locality_name           23650 non-null object\n",
      "airports_nearest        18157 non-null float64\n",
      "cityCenters_nearest     18180 non-null float64\n",
      "parks_around3000        18181 non-null float64\n",
      "parks_nearest           8079 non-null float64\n",
      "ponds_around3000        18181 non-null float64\n",
      "ponds_nearest           9110 non-null float64\n",
      "days_exposition         20518 non-null float64\n",
      "dtypes: bool(2), float64(14), int64(3), object(3)\n",
      "memory usage: 3.7+ MB\n"
     ]
    }
   ],
   "source": [
    "#Вывод сводной информации о таблице\n",
    "data.info()"
   ]
  },
  {
   "cell_type": "markdown",
   "metadata": {},
   "source": [
    "### Вывод"
   ]
  },
  {
   "cell_type": "markdown",
   "metadata": {},
   "source": [
    "В таблице наблюдаются пропуски значений в 14 столбцах. Предварительно о количестве пропусков можно сказать следующее: В таблице всего 23699 строк. В столбцах \"ceiling_height\", \"floors_total\", \"living_area\", \"is_apartment\", \"kitchen_area\", \"balcony\", \"locality_name\", \"airports_nearest\", \"cityCenters_nearest\", \"parks_around3000\", \"parks_nearest\", \"ponds_around3000\", \"ponds_nearest\", \"days_exposition\" содержатся пропуски."
   ]
  },
  {
   "cell_type": "markdown",
   "metadata": {},
   "source": [
    "Поиск строк-дубликатов не выявил повторяющихся строк. Количество строк-дубликатов равно 0:"
   ]
  },
  {
   "cell_type": "code",
   "execution_count": 384,
   "metadata": {},
   "outputs": [
    {
     "data": {
      "text/plain": [
       "0"
      ]
     },
     "execution_count": 384,
     "metadata": {},
     "output_type": "execute_result"
    }
   ],
   "source": [
    "#Нахождение строк-дубликатов\n",
    "data.duplicated().sum()"
   ]
  },
  {
   "cell_type": "markdown",
   "metadata": {},
   "source": [
    "## Предобработка данных"
   ]
  },
  {
   "cell_type": "code",
   "execution_count": 385,
   "metadata": {},
   "outputs": [
    {
     "data": {
      "text/plain": [
       "total_images                0\n",
       "last_price                  0\n",
       "total_area                  0\n",
       "first_day_exposition        0\n",
       "rooms                       0\n",
       "ceiling_height           9195\n",
       "floors_total               86\n",
       "living_area              1903\n",
       "floor                       0\n",
       "is_apartment            20924\n",
       "studio                      0\n",
       "open_plan                   0\n",
       "kitchen_area             2278\n",
       "balcony                 11519\n",
       "locality_name              49\n",
       "airports_nearest         5542\n",
       "cityCenters_nearest      5519\n",
       "parks_around3000         5518\n",
       "parks_nearest           15620\n",
       "ponds_around3000         5518\n",
       "ponds_nearest           14589\n",
       "days_exposition          3181\n",
       "dtype: int64"
      ]
     },
     "execution_count": 385,
     "metadata": {},
     "output_type": "execute_result"
    }
   ],
   "source": [
    "#Теперь найдём количество пропусков\n",
    "data.isna().sum()"
   ]
  },
  {
   "cell_type": "markdown",
   "metadata": {},
   "source": [
    "Вычисленные данные о пропусках совпали с предварительными результатами. Как сказано в условиях задачи, логичную замену можно предположить только для пропусков значений в столбце \"число балконов\". Если человек не указал число балконов — скорее всего, их нет. Такие пропуски правильно заменить на 0. Для других типов данных нет подходящего значения на замену. В этом случае правильно оставить эти значения пустыми. Отсутствие значения — тоже важный сигнал."
   ]
  },
  {
   "cell_type": "markdown",
   "metadata": {},
   "source": [
    "Далее требуется заполнить пропуски там где это возможно."
   ]
  },
  {
   "cell_type": "code",
   "execution_count": 386,
   "metadata": {},
   "outputs": [],
   "source": [
    "# Заполним пропуски в столбце balcony значением 0.\n",
    "data['balcony'] = data['balcony'].fillna(0)"
   ]
  },
  {
   "cell_type": "code",
   "execution_count": 387,
   "metadata": {},
   "outputs": [
    {
     "data": {
      "text/plain": [
       "total_images                0\n",
       "last_price                  0\n",
       "total_area                  0\n",
       "first_day_exposition        0\n",
       "rooms                       0\n",
       "ceiling_height           9195\n",
       "floors_total               86\n",
       "living_area              1903\n",
       "floor                       0\n",
       "is_apartment            20924\n",
       "studio                      0\n",
       "open_plan                   0\n",
       "kitchen_area             2278\n",
       "balcony                     0\n",
       "locality_name              49\n",
       "airports_nearest         5542\n",
       "cityCenters_nearest      5519\n",
       "parks_around3000         5518\n",
       "parks_nearest           15620\n",
       "ponds_around3000         5518\n",
       "ponds_nearest           14589\n",
       "days_exposition          3181\n",
       "dtype: int64"
      ]
     },
     "execution_count": 387,
     "metadata": {},
     "output_type": "execute_result"
    }
   ],
   "source": [
    "#Проверим результат.\n",
    "data.isna().sum()"
   ]
  },
  {
   "cell_type": "markdown",
   "metadata": {},
   "source": [
    "Пропусков в столбце balcony больше нет."
   ]
  },
  {
   "cell_type": "markdown",
   "metadata": {},
   "source": [
    "Получим сводную информацию о таблице, чтобы узнать о текущих типах данных в каждом столбце"
   ]
  },
  {
   "cell_type": "code",
   "execution_count": 388,
   "metadata": {},
   "outputs": [
    {
     "name": "stdout",
     "output_type": "stream",
     "text": [
      "<class 'pandas.core.frame.DataFrame'>\n",
      "RangeIndex: 23699 entries, 0 to 23698\n",
      "Data columns (total 22 columns):\n",
      "total_images            23699 non-null int64\n",
      "last_price              23699 non-null float64\n",
      "total_area              23699 non-null float64\n",
      "first_day_exposition    23699 non-null object\n",
      "rooms                   23699 non-null int64\n",
      "ceiling_height          14504 non-null float64\n",
      "floors_total            23613 non-null float64\n",
      "living_area             21796 non-null float64\n",
      "floor                   23699 non-null int64\n",
      "is_apartment            2775 non-null object\n",
      "studio                  23699 non-null bool\n",
      "open_plan               23699 non-null bool\n",
      "kitchen_area            21421 non-null float64\n",
      "balcony                 23699 non-null float64\n",
      "locality_name           23650 non-null object\n",
      "airports_nearest        18157 non-null float64\n",
      "cityCenters_nearest     18180 non-null float64\n",
      "parks_around3000        18181 non-null float64\n",
      "parks_nearest           8079 non-null float64\n",
      "ponds_around3000        18181 non-null float64\n",
      "ponds_nearest           9110 non-null float64\n",
      "days_exposition         20518 non-null float64\n",
      "dtypes: bool(2), float64(14), int64(3), object(3)\n",
      "memory usage: 3.7+ MB\n"
     ]
    }
   ],
   "source": [
    "#Сводная информацию о таблице\n",
    "data.info()"
   ]
  },
  {
   "cell_type": "markdown",
   "metadata": {},
   "source": [
    "Вывод: \n",
    "\n",
    "1.Требуется изменить тип данных в стобце \"first_day_exposition\" на \"datetime64\".\n",
    "\n",
    "2.Требуется изменить тип данных в столбце \"floors_total\" на \"int64\", то есть на целочисленный, так как количество\n",
    "этажей - это всегда целое число. Однако, пропуски NaN не позволят это сделать. Поэтому текущим является вещественный тип данных.\n",
    "\n",
    "3.Требуется изменить тип данных в стобце \"is_apartment\" на \"bool\", так как здесь содержится булевый тип данных. Однако пропуски NaN не позволят это сделать. Поэтому текущим является смешанный тип данных.\n",
    "\n",
    "4.Требуется изменить тип данных в столбце \"balcony\" на \"int64\", то есть на целочисленный, так как количество\n",
    "балконов - это всегда целое число. Это возможно, так как после замены пропусков на целое число 0 , пропусков NaN не осталось.\n",
    "\n",
    "5.Требуется изменить тип данных в столбце \"airports_nearest\" на \"int64\", то есть на целочисленный, так как расстояние до ближайшего аэропорта в метрах - это всегда целое число. Пропуски NaN не позволят это сделать.\n",
    "\n",
    "6.Требуется изменить тип данных в столбце \"cityCenters_nearest\" на \"int64\", то есть на целочисленный, так как расстояние до центра города в метрах - это всегда целое число. Пропуски NaN не позволят это сделать.\n",
    "\n",
    "7.Требуется изменить тип данных в столбце \"parks_around3000\" на \"int64\", то есть на целочисленный, так как \"число парков в радиусе 3 км\" - это всегда целое число. Пропуски NaN не позволят это сделать.\n",
    "\n",
    "8.Требуется изменить тип данных в столбце \"parks_nearest\" на \"int64\", то есть на целочисленный, так как расстояние до ближайшего парка в метрах - это всегда целое число. Пропуски NaN не позволят это сделать. \n",
    "\n",
    "9.Требуется изменить тип данных в столбце \"ponds_around3000\" на \"int64\", то есть на целочисленный, так как \"число водоёмов в радиусе 3 км\" - это всегда целое число. Пропуски NaN не позволят это сделать.\n",
    "\n",
    "10.Требуется изменить тип данных в столбце \"ponds_nearest\" на \"int64\", то есть на целочисленный, так как расстояние до ближайшего водоёма в метрах - это всегда целое число. Пропуски NaN не позволят это сделать.\n",
    "\n",
    "11.Требуется изменить тип данных в столбце \"days_exposition\" на \"int64\", то есть на целочисленный, так как количество дней, в течении которых было размещено объявление (от публикации до снятия) - это всегда целое число. Пропуски NaN не позволят это сделать.\n",
    "\n",
    "Возможно изменение типа данных только в пункте 1 и 4."
   ]
  },
  {
   "cell_type": "code",
   "execution_count": 389,
   "metadata": {},
   "outputs": [
    {
     "data": {
      "text/html": [
       "<div>\n",
       "<style scoped>\n",
       "    .dataframe tbody tr th:only-of-type {\n",
       "        vertical-align: middle;\n",
       "    }\n",
       "\n",
       "    .dataframe tbody tr th {\n",
       "        vertical-align: top;\n",
       "    }\n",
       "\n",
       "    .dataframe thead th {\n",
       "        text-align: right;\n",
       "    }\n",
       "</style>\n",
       "<table border=\"1\" class=\"dataframe\">\n",
       "  <thead>\n",
       "    <tr style=\"text-align: right;\">\n",
       "      <th></th>\n",
       "      <th>total_images</th>\n",
       "      <th>last_price</th>\n",
       "      <th>total_area</th>\n",
       "      <th>first_day_exposition</th>\n",
       "      <th>rooms</th>\n",
       "      <th>ceiling_height</th>\n",
       "      <th>floors_total</th>\n",
       "      <th>living_area</th>\n",
       "      <th>floor</th>\n",
       "      <th>is_apartment</th>\n",
       "      <th>...</th>\n",
       "      <th>kitchen_area</th>\n",
       "      <th>balcony</th>\n",
       "      <th>locality_name</th>\n",
       "      <th>airports_nearest</th>\n",
       "      <th>cityCenters_nearest</th>\n",
       "      <th>parks_around3000</th>\n",
       "      <th>parks_nearest</th>\n",
       "      <th>ponds_around3000</th>\n",
       "      <th>ponds_nearest</th>\n",
       "      <th>days_exposition</th>\n",
       "    </tr>\n",
       "  </thead>\n",
       "  <tbody>\n",
       "    <tr>\n",
       "      <td>0</td>\n",
       "      <td>20</td>\n",
       "      <td>13000000.0</td>\n",
       "      <td>108.0</td>\n",
       "      <td>2019-03-07T00:00:00</td>\n",
       "      <td>3</td>\n",
       "      <td>2.70</td>\n",
       "      <td>16.0</td>\n",
       "      <td>51.0</td>\n",
       "      <td>8</td>\n",
       "      <td>NaN</td>\n",
       "      <td>...</td>\n",
       "      <td>25.0</td>\n",
       "      <td>0.0</td>\n",
       "      <td>Санкт-Петербург</td>\n",
       "      <td>18863.0</td>\n",
       "      <td>16028.0</td>\n",
       "      <td>1.0</td>\n",
       "      <td>482.0</td>\n",
       "      <td>2.0</td>\n",
       "      <td>755.0</td>\n",
       "      <td>NaN</td>\n",
       "    </tr>\n",
       "    <tr>\n",
       "      <td>1</td>\n",
       "      <td>7</td>\n",
       "      <td>3350000.0</td>\n",
       "      <td>40.4</td>\n",
       "      <td>2018-12-04T00:00:00</td>\n",
       "      <td>1</td>\n",
       "      <td>NaN</td>\n",
       "      <td>11.0</td>\n",
       "      <td>18.6</td>\n",
       "      <td>1</td>\n",
       "      <td>NaN</td>\n",
       "      <td>...</td>\n",
       "      <td>11.0</td>\n",
       "      <td>2.0</td>\n",
       "      <td>посёлок Шушары</td>\n",
       "      <td>12817.0</td>\n",
       "      <td>18603.0</td>\n",
       "      <td>0.0</td>\n",
       "      <td>NaN</td>\n",
       "      <td>0.0</td>\n",
       "      <td>NaN</td>\n",
       "      <td>81.0</td>\n",
       "    </tr>\n",
       "    <tr>\n",
       "      <td>2</td>\n",
       "      <td>10</td>\n",
       "      <td>5196000.0</td>\n",
       "      <td>56.0</td>\n",
       "      <td>2015-08-20T00:00:00</td>\n",
       "      <td>2</td>\n",
       "      <td>NaN</td>\n",
       "      <td>5.0</td>\n",
       "      <td>34.3</td>\n",
       "      <td>4</td>\n",
       "      <td>NaN</td>\n",
       "      <td>...</td>\n",
       "      <td>8.3</td>\n",
       "      <td>0.0</td>\n",
       "      <td>Санкт-Петербург</td>\n",
       "      <td>21741.0</td>\n",
       "      <td>13933.0</td>\n",
       "      <td>1.0</td>\n",
       "      <td>90.0</td>\n",
       "      <td>2.0</td>\n",
       "      <td>574.0</td>\n",
       "      <td>558.0</td>\n",
       "    </tr>\n",
       "    <tr>\n",
       "      <td>3</td>\n",
       "      <td>0</td>\n",
       "      <td>64900000.0</td>\n",
       "      <td>159.0</td>\n",
       "      <td>2015-07-24T00:00:00</td>\n",
       "      <td>3</td>\n",
       "      <td>NaN</td>\n",
       "      <td>14.0</td>\n",
       "      <td>NaN</td>\n",
       "      <td>9</td>\n",
       "      <td>NaN</td>\n",
       "      <td>...</td>\n",
       "      <td>NaN</td>\n",
       "      <td>0.0</td>\n",
       "      <td>Санкт-Петербург</td>\n",
       "      <td>28098.0</td>\n",
       "      <td>6800.0</td>\n",
       "      <td>2.0</td>\n",
       "      <td>84.0</td>\n",
       "      <td>3.0</td>\n",
       "      <td>234.0</td>\n",
       "      <td>424.0</td>\n",
       "    </tr>\n",
       "    <tr>\n",
       "      <td>4</td>\n",
       "      <td>2</td>\n",
       "      <td>10000000.0</td>\n",
       "      <td>100.0</td>\n",
       "      <td>2018-06-19T00:00:00</td>\n",
       "      <td>2</td>\n",
       "      <td>3.03</td>\n",
       "      <td>14.0</td>\n",
       "      <td>32.0</td>\n",
       "      <td>13</td>\n",
       "      <td>NaN</td>\n",
       "      <td>...</td>\n",
       "      <td>41.0</td>\n",
       "      <td>0.0</td>\n",
       "      <td>Санкт-Петербург</td>\n",
       "      <td>31856.0</td>\n",
       "      <td>8098.0</td>\n",
       "      <td>2.0</td>\n",
       "      <td>112.0</td>\n",
       "      <td>1.0</td>\n",
       "      <td>48.0</td>\n",
       "      <td>121.0</td>\n",
       "    </tr>\n",
       "  </tbody>\n",
       "</table>\n",
       "<p>5 rows × 22 columns</p>\n",
       "</div>"
      ],
      "text/plain": [
       "   total_images  last_price  total_area first_day_exposition  rooms  \\\n",
       "0            20  13000000.0       108.0  2019-03-07T00:00:00      3   \n",
       "1             7   3350000.0        40.4  2018-12-04T00:00:00      1   \n",
       "2            10   5196000.0        56.0  2015-08-20T00:00:00      2   \n",
       "3             0  64900000.0       159.0  2015-07-24T00:00:00      3   \n",
       "4             2  10000000.0       100.0  2018-06-19T00:00:00      2   \n",
       "\n",
       "   ceiling_height  floors_total  living_area  floor is_apartment  ...  \\\n",
       "0            2.70          16.0         51.0      8          NaN  ...   \n",
       "1             NaN          11.0         18.6      1          NaN  ...   \n",
       "2             NaN           5.0         34.3      4          NaN  ...   \n",
       "3             NaN          14.0          NaN      9          NaN  ...   \n",
       "4            3.03          14.0         32.0     13          NaN  ...   \n",
       "\n",
       "   kitchen_area  balcony    locality_name  airports_nearest  \\\n",
       "0          25.0      0.0  Санкт-Петербург           18863.0   \n",
       "1          11.0      2.0   посёлок Шушары           12817.0   \n",
       "2           8.3      0.0  Санкт-Петербург           21741.0   \n",
       "3           NaN      0.0  Санкт-Петербург           28098.0   \n",
       "4          41.0      0.0  Санкт-Петербург           31856.0   \n",
       "\n",
       "  cityCenters_nearest  parks_around3000  parks_nearest  ponds_around3000  \\\n",
       "0             16028.0               1.0          482.0               2.0   \n",
       "1             18603.0               0.0            NaN               0.0   \n",
       "2             13933.0               1.0           90.0               2.0   \n",
       "3              6800.0               2.0           84.0               3.0   \n",
       "4              8098.0               2.0          112.0               1.0   \n",
       "\n",
       "   ponds_nearest  days_exposition  \n",
       "0          755.0              NaN  \n",
       "1            NaN             81.0  \n",
       "2          574.0            558.0  \n",
       "3          234.0            424.0  \n",
       "4           48.0            121.0  \n",
       "\n",
       "[5 rows x 22 columns]"
      ]
     },
     "execution_count": 389,
     "metadata": {},
     "output_type": "execute_result"
    }
   ],
   "source": [
    "data.head()"
   ]
  },
  {
   "cell_type": "code",
   "execution_count": 390,
   "metadata": {},
   "outputs": [],
   "source": [
    "# Пункт 1\n",
    "data['first_day_exposition'] = pd.to_datetime(data['first_day_exposition'],format='%Y-%m-%dT%H:%M:%S')"
   ]
  },
  {
   "cell_type": "markdown",
   "metadata": {},
   "source": [
    "Если в каждом значении столбца \"first_day_exposition\" стоит время 00:00:00, то с таким же успехом можно было применить команду data['first_day_exposition'] = data['first_day_exposition'].astype('datetime64') поскольку время в результате исчезает."
   ]
  },
  {
   "cell_type": "code",
   "execution_count": 391,
   "metadata": {},
   "outputs": [
    {
     "data": {
      "text/html": [
       "<div>\n",
       "<style scoped>\n",
       "    .dataframe tbody tr th:only-of-type {\n",
       "        vertical-align: middle;\n",
       "    }\n",
       "\n",
       "    .dataframe tbody tr th {\n",
       "        vertical-align: top;\n",
       "    }\n",
       "\n",
       "    .dataframe thead th {\n",
       "        text-align: right;\n",
       "    }\n",
       "</style>\n",
       "<table border=\"1\" class=\"dataframe\">\n",
       "  <thead>\n",
       "    <tr style=\"text-align: right;\">\n",
       "      <th></th>\n",
       "      <th>total_images</th>\n",
       "      <th>last_price</th>\n",
       "      <th>total_area</th>\n",
       "      <th>first_day_exposition</th>\n",
       "      <th>rooms</th>\n",
       "      <th>ceiling_height</th>\n",
       "      <th>floors_total</th>\n",
       "      <th>living_area</th>\n",
       "      <th>floor</th>\n",
       "      <th>is_apartment</th>\n",
       "      <th>...</th>\n",
       "      <th>kitchen_area</th>\n",
       "      <th>balcony</th>\n",
       "      <th>locality_name</th>\n",
       "      <th>airports_nearest</th>\n",
       "      <th>cityCenters_nearest</th>\n",
       "      <th>parks_around3000</th>\n",
       "      <th>parks_nearest</th>\n",
       "      <th>ponds_around3000</th>\n",
       "      <th>ponds_nearest</th>\n",
       "      <th>days_exposition</th>\n",
       "    </tr>\n",
       "  </thead>\n",
       "  <tbody>\n",
       "    <tr>\n",
       "      <td>0</td>\n",
       "      <td>20</td>\n",
       "      <td>13000000.0</td>\n",
       "      <td>108.0</td>\n",
       "      <td>2019-03-07</td>\n",
       "      <td>3</td>\n",
       "      <td>2.70</td>\n",
       "      <td>16.0</td>\n",
       "      <td>51.0</td>\n",
       "      <td>8</td>\n",
       "      <td>NaN</td>\n",
       "      <td>...</td>\n",
       "      <td>25.0</td>\n",
       "      <td>0.0</td>\n",
       "      <td>Санкт-Петербург</td>\n",
       "      <td>18863.0</td>\n",
       "      <td>16028.0</td>\n",
       "      <td>1.0</td>\n",
       "      <td>482.0</td>\n",
       "      <td>2.0</td>\n",
       "      <td>755.0</td>\n",
       "      <td>NaN</td>\n",
       "    </tr>\n",
       "    <tr>\n",
       "      <td>1</td>\n",
       "      <td>7</td>\n",
       "      <td>3350000.0</td>\n",
       "      <td>40.4</td>\n",
       "      <td>2018-12-04</td>\n",
       "      <td>1</td>\n",
       "      <td>NaN</td>\n",
       "      <td>11.0</td>\n",
       "      <td>18.6</td>\n",
       "      <td>1</td>\n",
       "      <td>NaN</td>\n",
       "      <td>...</td>\n",
       "      <td>11.0</td>\n",
       "      <td>2.0</td>\n",
       "      <td>посёлок Шушары</td>\n",
       "      <td>12817.0</td>\n",
       "      <td>18603.0</td>\n",
       "      <td>0.0</td>\n",
       "      <td>NaN</td>\n",
       "      <td>0.0</td>\n",
       "      <td>NaN</td>\n",
       "      <td>81.0</td>\n",
       "    </tr>\n",
       "    <tr>\n",
       "      <td>2</td>\n",
       "      <td>10</td>\n",
       "      <td>5196000.0</td>\n",
       "      <td>56.0</td>\n",
       "      <td>2015-08-20</td>\n",
       "      <td>2</td>\n",
       "      <td>NaN</td>\n",
       "      <td>5.0</td>\n",
       "      <td>34.3</td>\n",
       "      <td>4</td>\n",
       "      <td>NaN</td>\n",
       "      <td>...</td>\n",
       "      <td>8.3</td>\n",
       "      <td>0.0</td>\n",
       "      <td>Санкт-Петербург</td>\n",
       "      <td>21741.0</td>\n",
       "      <td>13933.0</td>\n",
       "      <td>1.0</td>\n",
       "      <td>90.0</td>\n",
       "      <td>2.0</td>\n",
       "      <td>574.0</td>\n",
       "      <td>558.0</td>\n",
       "    </tr>\n",
       "    <tr>\n",
       "      <td>3</td>\n",
       "      <td>0</td>\n",
       "      <td>64900000.0</td>\n",
       "      <td>159.0</td>\n",
       "      <td>2015-07-24</td>\n",
       "      <td>3</td>\n",
       "      <td>NaN</td>\n",
       "      <td>14.0</td>\n",
       "      <td>NaN</td>\n",
       "      <td>9</td>\n",
       "      <td>NaN</td>\n",
       "      <td>...</td>\n",
       "      <td>NaN</td>\n",
       "      <td>0.0</td>\n",
       "      <td>Санкт-Петербург</td>\n",
       "      <td>28098.0</td>\n",
       "      <td>6800.0</td>\n",
       "      <td>2.0</td>\n",
       "      <td>84.0</td>\n",
       "      <td>3.0</td>\n",
       "      <td>234.0</td>\n",
       "      <td>424.0</td>\n",
       "    </tr>\n",
       "    <tr>\n",
       "      <td>4</td>\n",
       "      <td>2</td>\n",
       "      <td>10000000.0</td>\n",
       "      <td>100.0</td>\n",
       "      <td>2018-06-19</td>\n",
       "      <td>2</td>\n",
       "      <td>3.03</td>\n",
       "      <td>14.0</td>\n",
       "      <td>32.0</td>\n",
       "      <td>13</td>\n",
       "      <td>NaN</td>\n",
       "      <td>...</td>\n",
       "      <td>41.0</td>\n",
       "      <td>0.0</td>\n",
       "      <td>Санкт-Петербург</td>\n",
       "      <td>31856.0</td>\n",
       "      <td>8098.0</td>\n",
       "      <td>2.0</td>\n",
       "      <td>112.0</td>\n",
       "      <td>1.0</td>\n",
       "      <td>48.0</td>\n",
       "      <td>121.0</td>\n",
       "    </tr>\n",
       "  </tbody>\n",
       "</table>\n",
       "<p>5 rows × 22 columns</p>\n",
       "</div>"
      ],
      "text/plain": [
       "   total_images  last_price  total_area first_day_exposition  rooms  \\\n",
       "0            20  13000000.0       108.0           2019-03-07      3   \n",
       "1             7   3350000.0        40.4           2018-12-04      1   \n",
       "2            10   5196000.0        56.0           2015-08-20      2   \n",
       "3             0  64900000.0       159.0           2015-07-24      3   \n",
       "4             2  10000000.0       100.0           2018-06-19      2   \n",
       "\n",
       "   ceiling_height  floors_total  living_area  floor is_apartment  ...  \\\n",
       "0            2.70          16.0         51.0      8          NaN  ...   \n",
       "1             NaN          11.0         18.6      1          NaN  ...   \n",
       "2             NaN           5.0         34.3      4          NaN  ...   \n",
       "3             NaN          14.0          NaN      9          NaN  ...   \n",
       "4            3.03          14.0         32.0     13          NaN  ...   \n",
       "\n",
       "   kitchen_area  balcony    locality_name  airports_nearest  \\\n",
       "0          25.0      0.0  Санкт-Петербург           18863.0   \n",
       "1          11.0      2.0   посёлок Шушары           12817.0   \n",
       "2           8.3      0.0  Санкт-Петербург           21741.0   \n",
       "3           NaN      0.0  Санкт-Петербург           28098.0   \n",
       "4          41.0      0.0  Санкт-Петербург           31856.0   \n",
       "\n",
       "  cityCenters_nearest  parks_around3000  parks_nearest  ponds_around3000  \\\n",
       "0             16028.0               1.0          482.0               2.0   \n",
       "1             18603.0               0.0            NaN               0.0   \n",
       "2             13933.0               1.0           90.0               2.0   \n",
       "3              6800.0               2.0           84.0               3.0   \n",
       "4              8098.0               2.0          112.0               1.0   \n",
       "\n",
       "   ponds_nearest  days_exposition  \n",
       "0          755.0              NaN  \n",
       "1            NaN             81.0  \n",
       "2          574.0            558.0  \n",
       "3          234.0            424.0  \n",
       "4           48.0            121.0  \n",
       "\n",
       "[5 rows x 22 columns]"
      ]
     },
     "execution_count": 391,
     "metadata": {},
     "output_type": "execute_result"
    }
   ],
   "source": [
    "data.head()"
   ]
  },
  {
   "cell_type": "code",
   "execution_count": 392,
   "metadata": {},
   "outputs": [],
   "source": [
    "#Пункт 4\n",
    "data['balcony'] = data['balcony'].astype('int64')"
   ]
  },
  {
   "cell_type": "markdown",
   "metadata": {},
   "source": [
    "Было выполнено изменение типа данных по пунктам 1 и 4."
   ]
  },
  {
   "cell_type": "markdown",
   "metadata": {},
   "source": [
    "## Расчёты и добавление результатов в таблицу"
   ]
  },
  {
   "cell_type": "code",
   "execution_count": 393,
   "metadata": {},
   "outputs": [],
   "source": [
    "#Вычислим цену квадратного метра каждой квартиры и поместим в новый столбец square_meter_price\n",
    "data['square_meter_price'] = data['last_price'] / data['living_area']"
   ]
  },
  {
   "cell_type": "code",
   "execution_count": 394,
   "metadata": {},
   "outputs": [],
   "source": [
    "#День недели, месяц и год публикации\n",
    "data['weekday_exposition'] = data['first_day_exposition'].dt.weekday\n",
    "data['month_exposition'] = data['first_day_exposition'].dt.month\n",
    "data['year_exposition'] = data['first_day_exposition'].dt.year"
   ]
  },
  {
   "cell_type": "code",
   "execution_count": 395,
   "metadata": {},
   "outputs": [],
   "source": [
    "#Категория этажа квартиры\n",
    "data.loc[data['floor'] == 1, 'floor_categories'] = \"Первый\"\n",
    "data.loc[data['floor'] == data['floors_total'],'floor_categories'] = \"Последний\"\n",
    "data.loc[(data['floor'] > 1) & (data['floor'] < data['floors_total']), 'floor_categories'] = \"Другой\""
   ]
  },
  {
   "cell_type": "code",
   "execution_count": 396,
   "metadata": {},
   "outputs": [],
   "source": [
    "#Соотношение жилой и общей площади\n",
    "data['living_area_ratio'] = data['living_area'] / data['total_area']"
   ]
  },
  {
   "cell_type": "code",
   "execution_count": 397,
   "metadata": {},
   "outputs": [],
   "source": [
    "#Отношение площади кухни к общей\n",
    "data['kitchen_area_ratio'] = data['kitchen_area'] / data['total_area']"
   ]
  },
  {
   "cell_type": "markdown",
   "metadata": {},
   "source": [
    "Вывод: Были добавлены и заполнены данными новые столбцы - 'square_meter_price','weekday_exposition','','month_exposition','year_exposition','floor_categories','living_area_ratio','kitchen_area_ratio'"
   ]
  },
  {
   "cell_type": "markdown",
   "metadata": {},
   "source": [
    "## Исследовательский анализ данных"
   ]
  },
  {
   "cell_type": "code",
   "execution_count": 398,
   "metadata": {},
   "outputs": [
    {
     "data": {
      "text/html": [
       "<div>\n",
       "<style scoped>\n",
       "    .dataframe tbody tr th:only-of-type {\n",
       "        vertical-align: middle;\n",
       "    }\n",
       "\n",
       "    .dataframe tbody tr th {\n",
       "        vertical-align: top;\n",
       "    }\n",
       "\n",
       "    .dataframe thead th {\n",
       "        text-align: right;\n",
       "    }\n",
       "</style>\n",
       "<table border=\"1\" class=\"dataframe\">\n",
       "  <thead>\n",
       "    <tr style=\"text-align: right;\">\n",
       "      <th></th>\n",
       "      <th>total_area</th>\n",
       "      <th>last_price</th>\n",
       "      <th>rooms</th>\n",
       "      <th>ceiling_height</th>\n",
       "    </tr>\n",
       "  </thead>\n",
       "  <tbody>\n",
       "    <tr>\n",
       "      <td>0</td>\n",
       "      <td>108.00</td>\n",
       "      <td>13000000.0</td>\n",
       "      <td>3</td>\n",
       "      <td>2.70</td>\n",
       "    </tr>\n",
       "    <tr>\n",
       "      <td>1</td>\n",
       "      <td>40.40</td>\n",
       "      <td>3350000.0</td>\n",
       "      <td>1</td>\n",
       "      <td>NaN</td>\n",
       "    </tr>\n",
       "    <tr>\n",
       "      <td>2</td>\n",
       "      <td>56.00</td>\n",
       "      <td>5196000.0</td>\n",
       "      <td>2</td>\n",
       "      <td>NaN</td>\n",
       "    </tr>\n",
       "    <tr>\n",
       "      <td>3</td>\n",
       "      <td>159.00</td>\n",
       "      <td>64900000.0</td>\n",
       "      <td>3</td>\n",
       "      <td>NaN</td>\n",
       "    </tr>\n",
       "    <tr>\n",
       "      <td>4</td>\n",
       "      <td>100.00</td>\n",
       "      <td>10000000.0</td>\n",
       "      <td>2</td>\n",
       "      <td>3.03</td>\n",
       "    </tr>\n",
       "    <tr>\n",
       "      <td>5</td>\n",
       "      <td>30.40</td>\n",
       "      <td>2890000.0</td>\n",
       "      <td>1</td>\n",
       "      <td>NaN</td>\n",
       "    </tr>\n",
       "    <tr>\n",
       "      <td>6</td>\n",
       "      <td>37.30</td>\n",
       "      <td>3700000.0</td>\n",
       "      <td>1</td>\n",
       "      <td>NaN</td>\n",
       "    </tr>\n",
       "    <tr>\n",
       "      <td>7</td>\n",
       "      <td>71.60</td>\n",
       "      <td>7915000.0</td>\n",
       "      <td>2</td>\n",
       "      <td>NaN</td>\n",
       "    </tr>\n",
       "    <tr>\n",
       "      <td>8</td>\n",
       "      <td>33.16</td>\n",
       "      <td>2900000.0</td>\n",
       "      <td>1</td>\n",
       "      <td>NaN</td>\n",
       "    </tr>\n",
       "    <tr>\n",
       "      <td>9</td>\n",
       "      <td>61.00</td>\n",
       "      <td>5400000.0</td>\n",
       "      <td>3</td>\n",
       "      <td>2.50</td>\n",
       "    </tr>\n",
       "  </tbody>\n",
       "</table>\n",
       "</div>"
      ],
      "text/plain": [
       "   total_area  last_price  rooms  ceiling_height\n",
       "0      108.00  13000000.0      3            2.70\n",
       "1       40.40   3350000.0      1             NaN\n",
       "2       56.00   5196000.0      2             NaN\n",
       "3      159.00  64900000.0      3             NaN\n",
       "4      100.00  10000000.0      2            3.03\n",
       "5       30.40   2890000.0      1             NaN\n",
       "6       37.30   3700000.0      1             NaN\n",
       "7       71.60   7915000.0      2             NaN\n",
       "8       33.16   2900000.0      1             NaN\n",
       "9       61.00   5400000.0      3            2.50"
      ]
     },
     "execution_count": 398,
     "metadata": {},
     "output_type": "execute_result"
    }
   ],
   "source": [
    "#Площадь, цена, число комнат, высота потолков - изучение содержимого заданных столбцов\n",
    "data[['total_area','last_price','rooms','ceiling_height']].head(10)"
   ]
  },
  {
   "cell_type": "code",
   "execution_count": 399,
   "metadata": {},
   "outputs": [
    {
     "data": {
      "text/html": [
       "<div>\n",
       "<style scoped>\n",
       "    .dataframe tbody tr th:only-of-type {\n",
       "        vertical-align: middle;\n",
       "    }\n",
       "\n",
       "    .dataframe tbody tr th {\n",
       "        vertical-align: top;\n",
       "    }\n",
       "\n",
       "    .dataframe thead th {\n",
       "        text-align: right;\n",
       "    }\n",
       "</style>\n",
       "<table border=\"1\" class=\"dataframe\">\n",
       "  <thead>\n",
       "    <tr style=\"text-align: right;\">\n",
       "      <th></th>\n",
       "      <th>total_area</th>\n",
       "      <th>last_price</th>\n",
       "      <th>rooms</th>\n",
       "      <th>ceiling_height</th>\n",
       "    </tr>\n",
       "  </thead>\n",
       "  <tbody>\n",
       "    <tr>\n",
       "      <td>total_area</td>\n",
       "      <td>1.000000</td>\n",
       "      <td>0.653675</td>\n",
       "      <td>0.758344</td>\n",
       "      <td>0.095490</td>\n",
       "    </tr>\n",
       "    <tr>\n",
       "      <td>last_price</td>\n",
       "      <td>0.653675</td>\n",
       "      <td>1.000000</td>\n",
       "      <td>0.363343</td>\n",
       "      <td>0.085430</td>\n",
       "    </tr>\n",
       "    <tr>\n",
       "      <td>rooms</td>\n",
       "      <td>0.758344</td>\n",
       "      <td>0.363343</td>\n",
       "      <td>1.000000</td>\n",
       "      <td>0.054457</td>\n",
       "    </tr>\n",
       "    <tr>\n",
       "      <td>ceiling_height</td>\n",
       "      <td>0.095490</td>\n",
       "      <td>0.085430</td>\n",
       "      <td>0.054457</td>\n",
       "      <td>1.000000</td>\n",
       "    </tr>\n",
       "  </tbody>\n",
       "</table>\n",
       "</div>"
      ],
      "text/plain": [
       "                total_area  last_price     rooms  ceiling_height\n",
       "total_area        1.000000    0.653675  0.758344        0.095490\n",
       "last_price        0.653675    1.000000  0.363343        0.085430\n",
       "rooms             0.758344    0.363343  1.000000        0.054457\n",
       "ceiling_height    0.095490    0.085430  0.054457        1.000000"
      ]
     },
     "execution_count": 399,
     "metadata": {},
     "output_type": "execute_result"
    }
   ],
   "source": [
    "#Применение корреляции Пирсона для изучения зависимости друг от друга площади, цены, числа комнат и высоты потолков\n",
    "data[['total_area','last_price','rooms','ceiling_height']].corr()"
   ]
  },
  {
   "cell_type": "code",
   "execution_count": 400,
   "metadata": {},
   "outputs": [
    {
     "data": {
      "text/plain": [
       "array([[<matplotlib.axes._subplots.AxesSubplot object at 0x7f779d524810>,\n",
       "        <matplotlib.axes._subplots.AxesSubplot object at 0x7f779c9de990>],\n",
       "       [<matplotlib.axes._subplots.AxesSubplot object at 0x7f779c981c90>,\n",
       "        <matplotlib.axes._subplots.AxesSubplot object at 0x7f779c920f90>]],\n",
       "      dtype=object)"
      ]
     },
     "execution_count": 400,
     "metadata": {},
     "output_type": "execute_result"
    },
    {
     "data": {
      "image/png": "[encoded data removed]",
      "text/plain": [
       "<Figure size 432x288 with 4 Axes>"
      ]
     },
     "metadata": {
      "needs_background": "light"
     },
     "output_type": "display_data"
    }
   ],
   "source": [
    "#Совместное построение гистограмм указанных параметров - площади, цены, числа комнат и высоты потолков\n",
    "data[['total_area','last_price','rooms','ceiling_height']].hist()"
   ]
  },
  {
   "cell_type": "code",
   "execution_count": 401,
   "metadata": {},
   "outputs": [
    {
     "data": {
      "text/plain": [
       "array([[<matplotlib.axes._subplots.AxesSubplot object at 0x7f779c8330d0>]],\n",
       "      dtype=object)"
      ]
     },
     "execution_count": 401,
     "metadata": {},
     "output_type": "execute_result"
    },
    {
     "data": {
      "image/png": "[encoded data removed]",
      "text/plain": [
       "<Figure size 432x288 with 1 Axes>"
      ]
     },
     "metadata": {
      "needs_background": "light"
     },
     "output_type": "display_data"
    }
   ],
   "source": [
    "#Отдельное построение гистограмм. Площадь.\n",
    "data.hist('total_area')"
   ]
  },
  {
   "cell_type": "code",
   "execution_count": 402,
   "metadata": {},
   "outputs": [
    {
     "data": {
      "text/plain": [
       "array([[<matplotlib.axes._subplots.AxesSubplot object at 0x7f779cb75a10>]],\n",
       "      dtype=object)"
      ]
     },
     "execution_count": 402,
     "metadata": {},
     "output_type": "execute_result"
    },
    {
     "data": {
      "image/png": "[encoded data removed]",
      "text/plain": [
       "<Figure size 432x288 with 1 Axes>"
      ]
     },
     "metadata": {
      "needs_background": "light"
     },
     "output_type": "display_data"
    }
   ],
   "source": [
    "#Отдельное построение гистограмм. Цена.\n",
    "data.hist('last_price')"
   ]
  },
  {
   "cell_type": "code",
   "execution_count": 403,
   "metadata": {},
   "outputs": [
    {
     "data": {
      "text/plain": [
       "array([[<matplotlib.axes._subplots.AxesSubplot object at 0x7f779c788a10>]],\n",
       "      dtype=object)"
      ]
     },
     "execution_count": 403,
     "metadata": {},
     "output_type": "execute_result"
    },
    {
     "data": {
      "image/png": "[encoded data removed]",
      "text/plain": [
       "<Figure size 432x288 with 1 Axes>"
      ]
     },
     "metadata": {
      "needs_background": "light"
     },
     "output_type": "display_data"
    }
   ],
   "source": [
    "#Отдельное построение гистограмм. Количество комнат.\n",
    "data.hist('rooms')"
   ]
  },
  {
   "cell_type": "code",
   "execution_count": 404,
   "metadata": {},
   "outputs": [
    {
     "data": {
      "text/plain": [
       "array([[<matplotlib.axes._subplots.AxesSubplot object at 0x7f779c6b8410>]],\n",
       "      dtype=object)"
      ]
     },
     "execution_count": 404,
     "metadata": {},
     "output_type": "execute_result"
    },
    {
     "data": {
      "image/png": "[encoded data removed]",
      "text/plain": [
       "<Figure size 432x288 with 1 Axes>"
      ]
     },
     "metadata": {
      "needs_background": "light"
     },
     "output_type": "display_data"
    }
   ],
   "source": [
    "#Отдельное построение гистограмм. Высота потолков.\n",
    "data.hist('ceiling_height')"
   ]
  },
  {
   "cell_type": "markdown",
   "metadata": {},
   "source": [
    "Изучение времени продажи квартиры. Очевидно, что время продажи квартиры - это параметр days_exposition, то есть количество дней прошедших от публикации объявления до его снятия."
   ]
  },
  {
   "cell_type": "code",
   "execution_count": 405,
   "metadata": {},
   "outputs": [
    {
     "data": {
      "text/plain": [
       "0      NaN\n",
       "1     81.0\n",
       "2    558.0\n",
       "3    424.0\n",
       "4    121.0\n",
       "5     55.0\n",
       "6    155.0\n",
       "7      NaN\n",
       "8    189.0\n",
       "9    289.0\n",
       "Name: days_exposition, dtype: float64"
      ]
     },
     "execution_count": 405,
     "metadata": {},
     "output_type": "execute_result"
    }
   ],
   "source": [
    "#Изучение времени продажи квартиры\n",
    "data['days_exposition'].head(10)"
   ]
  },
  {
   "cell_type": "code",
   "execution_count": 406,
   "metadata": {},
   "outputs": [
    {
     "data": {
      "text/plain": [
       "array([[<matplotlib.axes._subplots.AxesSubplot object at 0x7f779c636a10>]],\n",
       "      dtype=object)"
      ]
     },
     "execution_count": 406,
     "metadata": {},
     "output_type": "execute_result"
    },
    {
     "data": {
      "image/png": "[encoded data removed]",
      "text/plain": [
       "<Figure size 432x288 with 1 Axes>"
      ]
     },
     "metadata": {
      "needs_background": "light"
     },
     "output_type": "display_data"
    }
   ],
   "source": [
    "#Построение гистограммы по параметру days_exposition\n",
    "data.hist('days_exposition')"
   ]
  },
  {
   "cell_type": "code",
   "execution_count": 407,
   "metadata": {},
   "outputs": [
    {
     "data": {
      "text/plain": [
       "180.88863436982163"
      ]
     },
     "execution_count": 407,
     "metadata": {},
     "output_type": "execute_result"
    }
   ],
   "source": [
    "#Определение среднего времени продажи\n",
    "data['days_exposition'].mean()"
   ]
  },
  {
   "cell_type": "code",
   "execution_count": 408,
   "metadata": {},
   "outputs": [
    {
     "data": {
      "text/plain": [
       "95.0"
      ]
     },
     "execution_count": 408,
     "metadata": {},
     "output_type": "execute_result"
    }
   ],
   "source": [
    "#Определение медианы\n",
    "data['days_exposition'].median()"
   ]
  },
  {
   "cell_type": "markdown",
   "metadata": {},
   "source": [
    "Вывод: Медиана существенно отличается от среднего значения. Это значит, что половина продаж занимала меньше 95 дней, а обычно продажа квартиры занимала меньше 180 дней."
   ]
  },
  {
   "cell_type": "code",
   "execution_count": 409,
   "metadata": {
    "scrolled": true
   },
   "outputs": [
    {
     "data": {
      "text/plain": [
       "count    20518.000000\n",
       "mean       180.888634\n",
       "std        219.727988\n",
       "min          1.000000\n",
       "25%         45.000000\n",
       "50%         95.000000\n",
       "75%        232.000000\n",
       "max       1580.000000\n",
       "Name: days_exposition, dtype: float64"
      ]
     },
     "execution_count": 409,
     "metadata": {},
     "output_type": "execute_result"
    }
   ],
   "source": [
    "# Исследуем время продаж с помощью метода describe()\n",
    "data['days_exposition'].describe()"
   ]
  },
  {
   "cell_type": "markdown",
   "metadata": {},
   "source": [
    "Можно заключить, что если время продажи составило до 45 дней - эта продажа прошла очень быстро. Последняя же четверть значений - от 232 дней до максимума, 1580 дней, - говорит об очень медленных продажах."
   ]
  },
  {
   "cell_type": "code",
   "execution_count": 411,
   "metadata": {},
   "outputs": [
    {
     "data": {
      "image/png": "[encoded data removed]",
      "text/plain": [
       "<Figure size 864x432 with 1 Axes>"
      ]
     },
     "metadata": {
      "needs_background": "light"
     },
     "output_type": "display_data"
    }
   ],
   "source": [
    "# Построение гистограммы с добавлением подписей осей.\n",
    "fig, ax = plt.subplots(figsize=(12, 6))\n",
    "ax.set_xlabel(\"data['days_exposition']\")\n",
    "ax.set_ylabel(\"Frequency\")\n",
    "data.hist('days_exposition', range=(0,500), ax=ax, bins = 20)\n",
    "plt.show()"
   ]
  },
  {
   "cell_type": "code",
   "execution_count": 412,
   "metadata": {},
   "outputs": [
    {
     "data": {
      "text/plain": [
       "0.6536750579657244"
      ]
     },
     "execution_count": 412,
     "metadata": {},
     "output_type": "execute_result"
    }
   ],
   "source": [
    "#Исследование зависимости цены от площади\n",
    "data['last_price'].corr(data['total_area'])"
   ]
  },
  {
   "cell_type": "markdown",
   "metadata": {},
   "source": [
    "Вывод: между указанными величинами наблюдается прямая заисимость."
   ]
  },
  {
   "cell_type": "code",
   "execution_count": 413,
   "metadata": {},
   "outputs": [
    {
     "data": {
      "text/plain": [
       "0.36334284996489546"
      ]
     },
     "execution_count": 413,
     "metadata": {},
     "output_type": "execute_result"
    }
   ],
   "source": [
    "#Исследование зависимости цены от числа комнат\n",
    "data['last_price'].corr(data['rooms'])"
   ]
  },
  {
   "cell_type": "markdown",
   "metadata": {},
   "source": [
    "Вывод: между указанными величинами наблюдается прямая зависимость. Поскольку, значение коэффициента Пирсона меньше, то эта зависимость слабее, чем в предыдущем случае."
   ]
  },
  {
   "cell_type": "code",
   "execution_count": 414,
   "metadata": {},
   "outputs": [
    {
     "data": {
      "text/plain": [
       "-0.20674734874298376"
      ]
     },
     "execution_count": 414,
     "metadata": {},
     "output_type": "execute_result"
    }
   ],
   "source": [
    "#Исследование зависимости цены от удаленности от центра\n",
    "data['last_price'].corr(data['cityCenters_nearest'])"
   ]
  },
  {
   "cell_type": "markdown",
   "metadata": {},
   "source": [
    "Вывод: между указанными величинами наблюдается слабая обратная зависимость. Об этом говорит отрицательное значение коэффициента Пирсона, небольшое по модулю."
   ]
  },
  {
   "cell_type": "code",
   "execution_count": 415,
   "metadata": {},
   "outputs": [],
   "source": [
    "#Исследование зависимости цены от категории этажа\n",
    "def id_floor_categories(floor_category):\n",
    "    if floor_category == 'Первый': return 1\n",
    "    if floor_category == 'Последний': return 2\n",
    "    if floor_category == 'Другой': return 3"
   ]
  },
  {
   "cell_type": "code",
   "execution_count": 416,
   "metadata": {},
   "outputs": [
    {
     "data": {
      "text/plain": [
       "0.04082616121436608"
      ]
     },
     "execution_count": 416,
     "metadata": {},
     "output_type": "execute_result"
    }
   ],
   "source": [
    "data['id_floor_categories'] = data['floor_categories'].apply(id_floor_categories)\n",
    "data['last_price'].corr(data['id_floor_categories'])"
   ]
  },
  {
   "cell_type": "markdown",
   "metadata": {},
   "source": [
    "Вывод: искать зависимость стоимости от категории этажа следует с учетом множества других факторов влияющих на стоимость. Например, искать такую зависимость лучше всего в одном доме среди квартир одной площади с одинаковым числом комнат. То есть стоит исключить влияние других факторов на цену, а без этого зависимость не будет найдена, о чем и свидетельствует коэффициент корреляции близкий к нулю."
   ]
  },
  {
   "cell_type": "markdown",
   "metadata": {},
   "source": [
    "Применение коэффициента корреляции Пирсона к остальным параметрам будет неэффективным, так как цена квартиры зависит от этих параметров нелинейно. Эту зависимость можно исследовать с помощью диаграммы рассеяния или матрицы диаграмм рассеяния. Однако, матрица даст нам искомую диаграмму рассеяния в уменьшенном масштабе и для изучения она будет малопригодна. Поэтому, построим одну диаграмму рассеяния, для каждой зависимости отдельно."
   ]
  },
  {
   "cell_type": "code",
   "execution_count": 417,
   "metadata": {},
   "outputs": [],
   "source": [
    "#Выделим необходимые для анализа столбцы и поместим их в sample\n",
    "sample = data[['last_price', 'weekday_exposition', 'month_exposition', 'year_exposition', 'id_floor_categories']]"
   ]
  },
  {
   "cell_type": "code",
   "execution_count": 418,
   "metadata": {
    "scrolled": true
   },
   "outputs": [
    {
     "data": {
      "text/plain": [
       "<matplotlib.axes._subplots.AxesSubplot at 0x7f779c484490>"
      ]
     },
     "execution_count": 418,
     "metadata": {},
     "output_type": "execute_result"
    },
    {
     "data": {
      "image/png": "[encoded data removed]",
      "text/plain": [
       "<Figure size 1080x1080 with 1 Axes>"
      ]
     },
     "metadata": {
      "needs_background": "light"
     },
     "output_type": "display_data"
    }
   ],
   "source": [
    "#Построим диаграмму зависимости цены от категории этажа\n",
    "sample.plot(x='id_floor_categories', y='last_price', kind='scatter', figsize=(15, 15))"
   ]
  },
  {
   "cell_type": "markdown",
   "metadata": {},
   "source": [
    "Глядя на построенную диаграмму можно сказать, что в целом самым дорогим на рынке является последний этаж, далее следуют другие этажи и самым дешевым можно считать первый этаж. Так можно описать зависимость цены от категории этажа."
   ]
  },
  {
   "cell_type": "code",
   "execution_count": 419,
   "metadata": {
    "scrolled": true
   },
   "outputs": [
    {
     "data": {
      "text/plain": [
       "<matplotlib.axes._subplots.AxesSubplot at 0x7f779c39aa10>"
      ]
     },
     "execution_count": 419,
     "metadata": {},
     "output_type": "execute_result"
    },
    {
     "data": {
      "image/png": "[encoded data removed]",
      "text/plain": [
       "<Figure size 1080x1080 with 1 Axes>"
      ]
     },
     "metadata": {
      "needs_background": "light"
     },
     "output_type": "display_data"
    }
   ],
   "source": [
    "#Построим диаграмму зависимости цены от дня недели\n",
    "sample.plot(x='weekday_exposition', y='last_price', kind='scatter', figsize=(15, 15))"
   ]
  },
  {
   "cell_type": "markdown",
   "metadata": {},
   "source": [
    "По данным диаграммы самая дорогая квартира была размещена в субботу, то есть 5-й начиная с 0 день, а в целом заметной разницы не наблюдается."
   ]
  },
  {
   "cell_type": "code",
   "execution_count": 420,
   "metadata": {},
   "outputs": [
    {
     "data": {
      "text/plain": [
       "<matplotlib.axes._subplots.AxesSubplot at 0x7f779c30f290>"
      ]
     },
     "execution_count": 420,
     "metadata": {},
     "output_type": "execute_result"
    },
    {
     "data": {
      "image/png": "[encoded data removed]",
      "text/plain": [
       "<Figure size 1080x1080 with 1 Axes>"
      ]
     },
     "metadata": {
      "needs_background": "light"
     },
     "output_type": "display_data"
    }
   ],
   "source": [
    "#Построим диаграмму зависимости цены от месяца\n",
    "sample.plot(x='month_exposition', y='last_price', kind='scatter', figsize=(15, 15))"
   ]
  },
  {
   "cell_type": "markdown",
   "metadata": {},
   "source": [
    "Самая дорогая квартира была размещена в 9-й месяц, то есть сентябрь, а в целом сильной зависимости не наблюдается."
   ]
  },
  {
   "cell_type": "code",
   "execution_count": 421,
   "metadata": {
    "scrolled": true
   },
   "outputs": [
    {
     "data": {
      "text/plain": [
       "<matplotlib.axes._subplots.AxesSubplot at 0x7f779c303cd0>"
      ]
     },
     "execution_count": 421,
     "metadata": {},
     "output_type": "execute_result"
    },
    {
     "data": {
      "image/png": "[encoded data removed]",
      "text/plain": [
       "<Figure size 1080x1080 with 1 Axes>"
      ]
     },
     "metadata": {
      "needs_background": "light"
     },
     "output_type": "display_data"
    }
   ],
   "source": [
    "#Построим диаграмму зависимости цены от года\n",
    "sample.plot(x='year_exposition', y='last_price', kind='scatter', figsize=(15, 15))"
   ]
  },
  {
   "cell_type": "markdown",
   "metadata": {},
   "source": [
    "В 2017 году цены оказались самыми высокими. В 2014 году цены оказались самыми низкими."
   ]
  },
  {
   "cell_type": "markdown",
   "metadata": {},
   "source": [
    "В заключении построим матрицу диаграмм рассеяния, которая в первой строке даст нам необходимый набор диаграмм."
   ]
  },
  {
   "cell_type": "code",
   "execution_count": 422,
   "metadata": {},
   "outputs": [
    {
     "data": {
      "text/plain": [
       "array([[<matplotlib.axes._subplots.AxesSubplot object at 0x7f779c278d90>,\n",
       "        <matplotlib.axes._subplots.AxesSubplot object at 0x7f779c215d10>,\n",
       "        <matplotlib.axes._subplots.AxesSubplot object at 0x7f779c1d3d50>,\n",
       "        <matplotlib.axes._subplots.AxesSubplot object at 0x7f779c20ca10>,\n",
       "        <matplotlib.axes._subplots.AxesSubplot object at 0x7f779c1c9d50>],\n",
       "       [<matplotlib.axes._subplots.AxesSubplot object at 0x7f779c181a10>,\n",
       "        <matplotlib.axes._subplots.AxesSubplot object at 0x7f779c13de90>,\n",
       "        <matplotlib.axes._subplots.AxesSubplot object at 0x7f779c0f5a50>,\n",
       "        <matplotlib.axes._subplots.AxesSubplot object at 0x7f779c0ff5d0>,\n",
       "        <matplotlib.axes._subplots.AxesSubplot object at 0x7f779c0b5f50>],\n",
       "       [<matplotlib.axes._subplots.AxesSubplot object at 0x7f779c02be10>,\n",
       "        <matplotlib.axes._subplots.AxesSubplot object at 0x7f779bfe1ad0>,\n",
       "        <matplotlib.axes._subplots.AxesSubplot object at 0x7f779bfa0e50>,\n",
       "        <matplotlib.axes._subplots.AxesSubplot object at 0x7f779bf54b10>,\n",
       "        <matplotlib.axes._subplots.AxesSubplot object at 0x7f779bf14e90>],\n",
       "       [<matplotlib.axes._subplots.AxesSubplot object at 0x7f779bf4ab50>,\n",
       "        <matplotlib.axes._subplots.AxesSubplot object at 0x7f779bf09ed0>,\n",
       "        <matplotlib.axes._subplots.AxesSubplot object at 0x7f779bec0b90>,\n",
       "        <matplotlib.axes._subplots.AxesSubplot object at 0x7f779be80f10>,\n",
       "        <matplotlib.axes._subplots.AxesSubplot object at 0x7f779be35bd0>],\n",
       "       [<matplotlib.axes._subplots.AxesSubplot object at 0x7f779bdf5f50>,\n",
       "        <matplotlib.axes._subplots.AxesSubplot object at 0x7f779bdacc10>,\n",
       "        <matplotlib.axes._subplots.AxesSubplot object at 0x7f779bd6cf90>,\n",
       "        <matplotlib.axes._subplots.AxesSubplot object at 0x7f779bd21c50>,\n",
       "        <matplotlib.axes._subplots.AxesSubplot object at 0x7f779bce0fd0>]],\n",
       "      dtype=object)"
      ]
     },
     "execution_count": 422,
     "metadata": {},
     "output_type": "execute_result"
    },
    {
     "data": {
      "image/png": "[encoded data removed]",
      "text/plain": [
       "<Figure size 1080x1080 with 25 Axes>"
      ]
     },
     "metadata": {
      "needs_background": "light"
     },
     "output_type": "display_data"
    }
   ],
   "source": [
    "#Матрица диаграмм рассеяния\n",
    "pd.plotting.scatter_matrix(sample, figsize=(15, 15)) "
   ]
  },
  {
   "cell_type": "code",
   "execution_count": 423,
   "metadata": {},
   "outputs": [
    {
     "data": {
      "text/plain": [
       "0.0015501452176215431"
      ]
     },
     "execution_count": 423,
     "metadata": {},
     "output_type": "execute_result"
    }
   ],
   "source": [
    "#Исследование зависимости цены от дня размещения объявления\n",
    "data['last_price'].corr(data['weekday_exposition'])"
   ]
  },
  {
   "cell_type": "code",
   "execution_count": 424,
   "metadata": {},
   "outputs": [
    {
     "data": {
      "text/plain": [
       "0.0027791287507397252"
      ]
     },
     "execution_count": 424,
     "metadata": {},
     "output_type": "execute_result"
    }
   ],
   "source": [
    "#Исследование зависимости цены от месяца размещения объявления\n",
    "data['last_price'].corr(data['month_exposition'])"
   ]
  },
  {
   "cell_type": "code",
   "execution_count": 425,
   "metadata": {},
   "outputs": [
    {
     "data": {
      "text/plain": [
       "-0.04308903619950858"
      ]
     },
     "execution_count": 425,
     "metadata": {},
     "output_type": "execute_result"
    }
   ],
   "source": [
    "#Исследование зависимости цены от года размещения объявления\n",
    "data['last_price'].corr(data['year_exposition'])"
   ]
  },
  {
   "cell_type": "code",
   "execution_count": 426,
   "metadata": {},
   "outputs": [],
   "source": [
    "#Выбор 10 населенных пунктов с наибольшим числом объявлений\n",
    "data10 = data['locality_name'].value_counts().head(10)"
   ]
  },
  {
   "cell_type": "code",
   "execution_count": 427,
   "metadata": {},
   "outputs": [
    {
     "data": {
      "text/plain": [
       "Санкт-Петербург      15721\n",
       "посёлок Мурино         522\n",
       "посёлок Шушары         440\n",
       "Всеволожск             398\n",
       "Пушкин                 369\n",
       "Колпино                338\n",
       "посёлок Парголово      327\n",
       "Гатчина                307\n",
       "деревня Кудрово        299\n",
       "Выборг                 237\n",
       "Name: locality_name, dtype: int64"
      ]
     },
     "execution_count": 427,
     "metadata": {},
     "output_type": "execute_result"
    }
   ],
   "source": [
    "#Перечень 10 населенных пунктов с наибольшим числом объявлений\n",
    "data10"
   ]
  },
  {
   "cell_type": "code",
   "execution_count": 428,
   "metadata": {},
   "outputs": [],
   "source": [
    "#Средняя цена квадратного метра в данных населенных пунктах\n",
    "data['mean_price'] = data.query('locality_name in @data10.index')['last_price'] / 1000000 / data.query('locality_name in @data10.index')['total_area']"
   ]
  },
  {
   "cell_type": "code",
   "execution_count": 429,
   "metadata": {
    "scrolled": true
   },
   "outputs": [
    {
     "data": {
      "text/html": [
       "<div>\n",
       "<style scoped>\n",
       "    .dataframe tbody tr th:only-of-type {\n",
       "        vertical-align: middle;\n",
       "    }\n",
       "\n",
       "    .dataframe tbody tr th {\n",
       "        vertical-align: top;\n",
       "    }\n",
       "\n",
       "    .dataframe thead th {\n",
       "        text-align: right;\n",
       "    }\n",
       "</style>\n",
       "<table border=\"1\" class=\"dataframe\">\n",
       "  <thead>\n",
       "    <tr style=\"text-align: right;\">\n",
       "      <th></th>\n",
       "      <th>locality_name</th>\n",
       "      <th>mean_price</th>\n",
       "    </tr>\n",
       "  </thead>\n",
       "  <tbody>\n",
       "    <tr>\n",
       "      <td>12971</td>\n",
       "      <td>Санкт-Петербург</td>\n",
       "      <td>1.907500</td>\n",
       "    </tr>\n",
       "    <tr>\n",
       "      <td>1436</td>\n",
       "      <td>Санкт-Петербург</td>\n",
       "      <td>1.736842</td>\n",
       "    </tr>\n",
       "    <tr>\n",
       "      <td>22831</td>\n",
       "      <td>Санкт-Петербург</td>\n",
       "      <td>1.542605</td>\n",
       "    </tr>\n",
       "    <tr>\n",
       "      <td>14706</td>\n",
       "      <td>Санкт-Петербург</td>\n",
       "      <td>1.000748</td>\n",
       "    </tr>\n",
       "    <tr>\n",
       "      <td>4996</td>\n",
       "      <td>Санкт-Петербург</td>\n",
       "      <td>0.995984</td>\n",
       "    </tr>\n",
       "  </tbody>\n",
       "</table>\n",
       "</div>"
      ],
      "text/plain": [
       "         locality_name  mean_price\n",
       "12971  Санкт-Петербург    1.907500\n",
       "1436   Санкт-Петербург    1.736842\n",
       "22831  Санкт-Петербург    1.542605\n",
       "14706  Санкт-Петербург    1.000748\n",
       "4996   Санкт-Петербург    0.995984"
      ]
     },
     "execution_count": 429,
     "metadata": {},
     "output_type": "execute_result"
    }
   ],
   "source": [
    "#Регионы с самой высокой стоимостью жилья\n",
    "data[['locality_name','mean_price']].sort_values('mean_price', ascending=False).head()"
   ]
  },
  {
   "cell_type": "markdown",
   "metadata": {},
   "source": [
    "mean_price указана в млн руб."
   ]
  },
  {
   "cell_type": "code",
   "execution_count": 430,
   "metadata": {},
   "outputs": [
    {
     "data": {
      "text/html": [
       "<div>\n",
       "<style scoped>\n",
       "    .dataframe tbody tr th:only-of-type {\n",
       "        vertical-align: middle;\n",
       "    }\n",
       "\n",
       "    .dataframe tbody tr th {\n",
       "        vertical-align: top;\n",
       "    }\n",
       "\n",
       "    .dataframe thead th {\n",
       "        text-align: right;\n",
       "    }\n",
       "</style>\n",
       "<table border=\"1\" class=\"dataframe\">\n",
       "  <thead>\n",
       "    <tr style=\"text-align: right;\">\n",
       "      <th></th>\n",
       "      <th>locality_name</th>\n",
       "      <th>mean_price</th>\n",
       "    </tr>\n",
       "  </thead>\n",
       "  <tbody>\n",
       "    <tr>\n",
       "      <td>8793</td>\n",
       "      <td>Санкт-Петербург</td>\n",
       "      <td>0.000112</td>\n",
       "    </tr>\n",
       "    <tr>\n",
       "      <td>23477</td>\n",
       "      <td>Гатчина</td>\n",
       "      <td>0.010507</td>\n",
       "    </tr>\n",
       "    <tr>\n",
       "      <td>9471</td>\n",
       "      <td>Гатчина</td>\n",
       "      <td>0.010897</td>\n",
       "    </tr>\n",
       "    <tr>\n",
       "      <td>17753</td>\n",
       "      <td>Санкт-Петербург</td>\n",
       "      <td>0.015345</td>\n",
       "    </tr>\n",
       "    <tr>\n",
       "      <td>19952</td>\n",
       "      <td>Санкт-Петербург</td>\n",
       "      <td>0.015862</td>\n",
       "    </tr>\n",
       "  </tbody>\n",
       "</table>\n",
       "</div>"
      ],
      "text/plain": [
       "         locality_name  mean_price\n",
       "8793   Санкт-Петербург    0.000112\n",
       "23477          Гатчина    0.010507\n",
       "9471           Гатчина    0.010897\n",
       "17753  Санкт-Петербург    0.015345\n",
       "19952  Санкт-Петербург    0.015862"
      ]
     },
     "execution_count": 430,
     "metadata": {},
     "output_type": "execute_result"
    }
   ],
   "source": [
    "#Регионы с самой низкой стоимостью жилья\n",
    "data[['locality_name','mean_price']].sort_values('mean_price', ascending=True).head()"
   ]
  },
  {
   "cell_type": "code",
   "execution_count": 431,
   "metadata": {},
   "outputs": [
    {
     "data": {
      "text/html": [
       "<div>\n",
       "<style scoped>\n",
       "    .dataframe tbody tr th:only-of-type {\n",
       "        vertical-align: middle;\n",
       "    }\n",
       "\n",
       "    .dataframe tbody tr th {\n",
       "        vertical-align: top;\n",
       "    }\n",
       "\n",
       "    .dataframe thead th {\n",
       "        text-align: right;\n",
       "    }\n",
       "</style>\n",
       "<table border=\"1\" class=\"dataframe\">\n",
       "  <thead>\n",
       "    <tr style=\"text-align: right;\">\n",
       "      <th></th>\n",
       "      <th>locality_name</th>\n",
       "      <th>cityCenters_nearest</th>\n",
       "    </tr>\n",
       "  </thead>\n",
       "  <tbody>\n",
       "    <tr>\n",
       "      <td>13694</td>\n",
       "      <td>Санкт-Петербург</td>\n",
       "      <td>181.0</td>\n",
       "    </tr>\n",
       "    <tr>\n",
       "      <td>1182</td>\n",
       "      <td>Санкт-Петербург</td>\n",
       "      <td>208.0</td>\n",
       "    </tr>\n",
       "    <tr>\n",
       "      <td>8614</td>\n",
       "      <td>Санкт-Петербург</td>\n",
       "      <td>215.0</td>\n",
       "    </tr>\n",
       "    <tr>\n",
       "      <td>1934</td>\n",
       "      <td>Санкт-Петербург</td>\n",
       "      <td>287.0</td>\n",
       "    </tr>\n",
       "    <tr>\n",
       "      <td>20873</td>\n",
       "      <td>Санкт-Петербург</td>\n",
       "      <td>291.0</td>\n",
       "    </tr>\n",
       "    <tr>\n",
       "      <td>11723</td>\n",
       "      <td>Санкт-Петербург</td>\n",
       "      <td>318.0</td>\n",
       "    </tr>\n",
       "    <tr>\n",
       "      <td>11492</td>\n",
       "      <td>Санкт-Петербург</td>\n",
       "      <td>318.0</td>\n",
       "    </tr>\n",
       "    <tr>\n",
       "      <td>7726</td>\n",
       "      <td>Санкт-Петербург</td>\n",
       "      <td>318.0</td>\n",
       "    </tr>\n",
       "    <tr>\n",
       "      <td>13919</td>\n",
       "      <td>Санкт-Петербург</td>\n",
       "      <td>318.0</td>\n",
       "    </tr>\n",
       "    <tr>\n",
       "      <td>10377</td>\n",
       "      <td>Санкт-Петербург</td>\n",
       "      <td>318.0</td>\n",
       "    </tr>\n",
       "  </tbody>\n",
       "</table>\n",
       "</div>"
      ],
      "text/plain": [
       "         locality_name  cityCenters_nearest\n",
       "13694  Санкт-Петербург                181.0\n",
       "1182   Санкт-Петербург                208.0\n",
       "8614   Санкт-Петербург                215.0\n",
       "1934   Санкт-Петербург                287.0\n",
       "20873  Санкт-Петербург                291.0\n",
       "11723  Санкт-Петербург                318.0\n",
       "11492  Санкт-Петербург                318.0\n",
       "7726   Санкт-Петербург                318.0\n",
       "13919  Санкт-Петербург                318.0\n",
       "10377  Санкт-Петербург                318.0"
      ]
     },
     "execution_count": 431,
     "metadata": {},
     "output_type": "execute_result"
    }
   ],
   "source": [
    "#Сортировка объявлений по расстоянию от центра с выводом расстояния\n",
    "data[['locality_name','cityCenters_nearest']].sort_values('cityCenters_nearest', ascending=True).head(10)"
   ]
  },
  {
   "cell_type": "markdown",
   "metadata": {},
   "source": [
    "Ближайшая к центру квартира расположена всего в 181 метре от центра, можно сказать, что расположена в центре города, в центральном районе. Остается выяснить расстояние до границы этого \"центрального района\" от его центра."
   ]
  },
  {
   "cell_type": "code",
   "execution_count": 432,
   "metadata": {},
   "outputs": [],
   "source": [
    "#Расстояние до центра города в Петербурге в км\n",
    "data['cityCenters_nearest_km'] = round(data[data['locality_name'] == 'Санкт-Петербург']['cityCenters_nearest'] / 1000)"
   ]
  },
  {
   "cell_type": "code",
   "execution_count": 433,
   "metadata": {},
   "outputs": [
    {
     "data": {
      "text/plain": [
       "0    16.0\n",
       "1     NaN\n",
       "2    14.0\n",
       "3     7.0\n",
       "4     8.0\n",
       "Name: cityCenters_nearest_km, dtype: float64"
      ]
     },
     "execution_count": 433,
     "metadata": {},
     "output_type": "execute_result"
    }
   ],
   "source": [
    "#Просмотрим столбец с округленными данными о расстоянии до центра в км\n",
    "data['cityCenters_nearest_km'].head()"
   ]
  },
  {
   "cell_type": "code",
   "execution_count": 434,
   "metadata": {},
   "outputs": [],
   "source": [
    "# \"Средняя цена для каждого километра\"\n",
    "data['last_price_per_km'] = round(data[data['locality_name'] == 'Санкт-Петербург']['last_price'] / (data[data['locality_name'] == 'Санкт-Петербург']['cityCenters_nearest'] / 1000))"
   ]
  },
  {
   "cell_type": "code",
   "execution_count": 435,
   "metadata": {},
   "outputs": [
    {
     "data": {
      "text/plain": [
       "<matplotlib.axes._subplots.AxesSubplot at 0x7f779bad1290>"
      ]
     },
     "execution_count": 435,
     "metadata": {},
     "output_type": "execute_result"
    },
    {
     "data": {
      "image/png": "[encoded data removed]",
      "text/plain": [
       "<Figure size 864x504 with 1 Axes>"
      ]
     },
     "metadata": {
      "needs_background": "light"
     },
     "output_type": "display_data"
    }
   ],
   "source": [
    "#Построение графиков зависимости двух вышеуказанных величин\n",
    "data.plot(x='cityCenters_nearest_km', y='last_price_per_km', style='o-', figsize=(12, 7))"
   ]
  },
  {
   "cell_type": "markdown",
   "metadata": {},
   "source": [
    "Здесь построена зависимость данных 'last_price_per_km' от 'cityCenters_nearest_km'. В зависимости от того ближе квартира к центру на 1 км или дальше от него на 1 км, ее цена больше на определенную сумму или меньше. Показатель 'last_price_per_km' говорит об этой разнице. А зависимость показывает как эта разница меняется с удалением от центра. В центральном районе цена зависит сильнее от близости к центру, а вне центрального района - слабее. Именно этим можно объяснить такую зависимость."
   ]
  },
  {
   "cell_type": "markdown",
   "metadata": {},
   "source": [
    "Из графика видно, что существенное изменение зависимости почти на всех графиках наблюдается в районе 10 км от центра. Следовательно, граница центрального района располагается в 10 км от центра."
   ]
  },
  {
   "cell_type": "code",
   "execution_count": 439,
   "metadata": {},
   "outputs": [
    {
     "name": "stderr",
     "output_type": "stream",
     "text": [
      "/opt/conda/lib/python3.7/site-packages/ipykernel_launcher.py:3: UserWarning: Boolean Series key will be reindexed to match DataFrame index.\n",
      "  This is separate from the ipykernel package so we can avoid doing imports until\n"
     ]
    }
   ],
   "source": [
    "#Выделим сегмент квартир в центре Петербурга c данными о площади, цене, числе комнат, высоте потолков.\n",
    "#Здесь же выделим этаж, удалённость от центра, дату размещения объявления\n",
    "data_center = data[data['locality_name'] == 'Санкт-Петербург'][data['cityCenters_nearest_km'] <= 10]\\\n",
    "[['total_area','last_price','rooms','ceiling_height','floor','cityCenters_nearest','first_day_exposition',\\\n",
    " 'weekday_exposition', 'month_exposition', 'year_exposition']].reset_index(drop = True)"
   ]
  },
  {
   "cell_type": "code",
   "execution_count": 440,
   "metadata": {},
   "outputs": [
    {
     "data": {
      "text/html": [
       "<div>\n",
       "<style scoped>\n",
       "    .dataframe tbody tr th:only-of-type {\n",
       "        vertical-align: middle;\n",
       "    }\n",
       "\n",
       "    .dataframe tbody tr th {\n",
       "        vertical-align: top;\n",
       "    }\n",
       "\n",
       "    .dataframe thead th {\n",
       "        text-align: right;\n",
       "    }\n",
       "</style>\n",
       "<table border=\"1\" class=\"dataframe\">\n",
       "  <thead>\n",
       "    <tr style=\"text-align: right;\">\n",
       "      <th></th>\n",
       "      <th>total_area</th>\n",
       "      <th>last_price</th>\n",
       "      <th>rooms</th>\n",
       "      <th>ceiling_height</th>\n",
       "      <th>floor</th>\n",
       "      <th>cityCenters_nearest</th>\n",
       "      <th>first_day_exposition</th>\n",
       "      <th>weekday_exposition</th>\n",
       "      <th>month_exposition</th>\n",
       "      <th>year_exposition</th>\n",
       "    </tr>\n",
       "  </thead>\n",
       "  <tbody>\n",
       "    <tr>\n",
       "      <td>0</td>\n",
       "      <td>159.0</td>\n",
       "      <td>64900000.0</td>\n",
       "      <td>3</td>\n",
       "      <td>NaN</td>\n",
       "      <td>9</td>\n",
       "      <td>6800.0</td>\n",
       "      <td>2015-07-24</td>\n",
       "      <td>4</td>\n",
       "      <td>7</td>\n",
       "      <td>2015</td>\n",
       "    </tr>\n",
       "    <tr>\n",
       "      <td>1</td>\n",
       "      <td>100.0</td>\n",
       "      <td>10000000.0</td>\n",
       "      <td>2</td>\n",
       "      <td>3.03</td>\n",
       "      <td>13</td>\n",
       "      <td>8098.0</td>\n",
       "      <td>2018-06-19</td>\n",
       "      <td>1</td>\n",
       "      <td>6</td>\n",
       "      <td>2018</td>\n",
       "    </tr>\n",
       "    <tr>\n",
       "      <td>2</td>\n",
       "      <td>31.6</td>\n",
       "      <td>3200000.0</td>\n",
       "      <td>1</td>\n",
       "      <td>NaN</td>\n",
       "      <td>2</td>\n",
       "      <td>9722.0</td>\n",
       "      <td>2018-03-14</td>\n",
       "      <td>2</td>\n",
       "      <td>3</td>\n",
       "      <td>2018</td>\n",
       "    </tr>\n",
       "    <tr>\n",
       "      <td>3</td>\n",
       "      <td>97.2</td>\n",
       "      <td>6500000.0</td>\n",
       "      <td>2</td>\n",
       "      <td>NaN</td>\n",
       "      <td>1</td>\n",
       "      <td>2336.0</td>\n",
       "      <td>2015-10-31</td>\n",
       "      <td>5</td>\n",
       "      <td>10</td>\n",
       "      <td>2015</td>\n",
       "    </tr>\n",
       "    <tr>\n",
       "      <td>4</td>\n",
       "      <td>149.0</td>\n",
       "      <td>15500000.0</td>\n",
       "      <td>5</td>\n",
       "      <td>NaN</td>\n",
       "      <td>4</td>\n",
       "      <td>3502.0</td>\n",
       "      <td>2017-06-26</td>\n",
       "      <td>0</td>\n",
       "      <td>6</td>\n",
       "      <td>2017</td>\n",
       "    </tr>\n",
       "  </tbody>\n",
       "</table>\n",
       "</div>"
      ],
      "text/plain": [
       "   total_area  last_price  rooms  ceiling_height  floor  cityCenters_nearest  \\\n",
       "0       159.0  64900000.0      3             NaN      9               6800.0   \n",
       "1       100.0  10000000.0      2            3.03     13               8098.0   \n",
       "2        31.6   3200000.0      1             NaN      2               9722.0   \n",
       "3        97.2   6500000.0      2             NaN      1               2336.0   \n",
       "4       149.0  15500000.0      5             NaN      4               3502.0   \n",
       "\n",
       "  first_day_exposition  weekday_exposition  month_exposition  year_exposition  \n",
       "0           2015-07-24                   4                 7             2015  \n",
       "1           2018-06-19                   1                 6             2018  \n",
       "2           2018-03-14                   2                 3             2018  \n",
       "3           2015-10-31                   5                10             2015  \n",
       "4           2017-06-26                   0                 6             2017  "
      ]
     },
     "execution_count": 440,
     "metadata": {},
     "output_type": "execute_result"
    }
   ],
   "source": [
    "#Просмотр\n",
    "data_center.head()"
   ]
  },
  {
   "cell_type": "markdown",
   "metadata": {},
   "source": [
    "Далее изучим общую площадь в центре и по городу"
   ]
  },
  {
   "cell_type": "code",
   "execution_count": 441,
   "metadata": {},
   "outputs": [
    {
     "data": {
      "text/plain": [
       "count    15721.000000\n",
       "mean        64.751488\n",
       "std         40.417095\n",
       "min         12.000000\n",
       "25%         42.000000\n",
       "50%         55.000000\n",
       "75%         74.600000\n",
       "max        900.000000\n",
       "Name: total_area, dtype: float64"
      ]
     },
     "execution_count": 441,
     "metadata": {},
     "output_type": "execute_result"
    }
   ],
   "source": [
    "#Площадь по всему городу\n",
    "data[data['locality_name'] == 'Санкт-Петербург']['total_area'].describe()"
   ]
  },
  {
   "cell_type": "code",
   "execution_count": 442,
   "metadata": {
    "scrolled": true
   },
   "outputs": [
    {
     "data": {
      "text/plain": [
       "count    5434.000000\n",
       "mean       82.550561\n",
       "std        54.997958\n",
       "min        12.000000\n",
       "25%        47.900000\n",
       "50%        69.650000\n",
       "75%        97.875000\n",
       "max       900.000000\n",
       "Name: total_area, dtype: float64"
      ]
     },
     "execution_count": 442,
     "metadata": {},
     "output_type": "execute_result"
    }
   ],
   "source": [
    "#Площадь в центре\n",
    "data_center['total_area'].describe()"
   ]
  },
  {
   "cell_type": "markdown",
   "metadata": {},
   "source": [
    "Вывод: среднее и медианное значение площади в центре почти не отличаются от значений по городу"
   ]
  },
  {
   "cell_type": "code",
   "execution_count": 443,
   "metadata": {},
   "outputs": [
    {
     "data": {
      "text/plain": [
       "count    1.572100e+04\n",
       "mean     8.062507e+06\n",
       "std      1.301313e+07\n",
       "min      1.219000e+04\n",
       "25%      4.200000e+06\n",
       "50%      5.500000e+06\n",
       "75%      8.160000e+06\n",
       "max      7.630000e+08\n",
       "Name: last_price, dtype: float64"
      ]
     },
     "execution_count": 443,
     "metadata": {},
     "output_type": "execute_result"
    }
   ],
   "source": [
    "#Цена по всему городу\n",
    "data[data['locality_name'] == 'Санкт-Петербург']['last_price'].describe()"
   ]
  },
  {
   "cell_type": "code",
   "execution_count": 444,
   "metadata": {
    "scrolled": true
   },
   "outputs": [
    {
     "data": {
      "text/plain": [
       "count    5.434000e+03\n",
       "mean     1.237573e+07\n",
       "std      2.090300e+07\n",
       "min      1.219000e+04\n",
       "25%      5.500000e+06\n",
       "50%      8.000000e+06\n",
       "75%      1.250000e+07\n",
       "max      7.630000e+08\n",
       "Name: last_price, dtype: float64"
      ]
     },
     "execution_count": 444,
     "metadata": {},
     "output_type": "execute_result"
    }
   ],
   "source": [
    "#Цена в центре\n",
    "data_center['last_price'].describe()"
   ]
  },
  {
   "cell_type": "markdown",
   "metadata": {},
   "source": [
    "Вывод: средняя цена в центре больше, медианная цена в центре больше"
   ]
  },
  {
   "cell_type": "code",
   "execution_count": 445,
   "metadata": {},
   "outputs": [
    {
     "data": {
      "text/plain": [
       "count    15721.000000\n",
       "mean         2.171618\n",
       "std          1.148098\n",
       "min          0.000000\n",
       "25%          1.000000\n",
       "50%          2.000000\n",
       "75%          3.000000\n",
       "max         19.000000\n",
       "Name: rooms, dtype: float64"
      ]
     },
     "execution_count": 445,
     "metadata": {},
     "output_type": "execute_result"
    }
   ],
   "source": [
    "#Количество комнат по всему городу\n",
    "data[data['locality_name'] == 'Санкт-Петербург']['rooms'].describe()"
   ]
  },
  {
   "cell_type": "code",
   "execution_count": 446,
   "metadata": {
    "scrolled": true
   },
   "outputs": [
    {
     "data": {
      "text/plain": [
       "count    5434.000000\n",
       "mean        2.583916\n",
       "std         1.372754\n",
       "min         0.000000\n",
       "25%         2.000000\n",
       "50%         2.000000\n",
       "75%         3.000000\n",
       "max        19.000000\n",
       "Name: rooms, dtype: float64"
      ]
     },
     "execution_count": 446,
     "metadata": {},
     "output_type": "execute_result"
    }
   ],
   "source": [
    "#Количество комнат в центре\n",
    "data_center['rooms'].describe()"
   ]
  },
  {
   "cell_type": "markdown",
   "metadata": {},
   "source": [
    "Вывод: среднее и медианное число комнат по городу и в центре равно 2. "
   ]
  },
  {
   "cell_type": "code",
   "execution_count": 447,
   "metadata": {},
   "outputs": [
    {
     "data": {
      "text/plain": [
       "count    10104.000000\n",
       "mean         2.803709\n",
       "std          1.296912\n",
       "min          1.000000\n",
       "25%          2.550000\n",
       "50%          2.700000\n",
       "75%          2.870000\n",
       "max        100.000000\n",
       "Name: ceiling_height, dtype: float64"
      ]
     },
     "execution_count": 447,
     "metadata": {},
     "output_type": "execute_result"
    }
   ],
   "source": [
    "#Высота потолков по всему городу\n",
    "data[data['locality_name'] == 'Санкт-Петербург']['ceiling_height'].describe()"
   ]
  },
  {
   "cell_type": "code",
   "execution_count": 448,
   "metadata": {},
   "outputs": [
    {
     "data": {
      "text/plain": [
       "count    3565.000000\n",
       "mean        3.038738\n",
       "std         1.898826\n",
       "min         2.000000\n",
       "25%         2.700000\n",
       "50%         3.000000\n",
       "75%         3.200000\n",
       "max       100.000000\n",
       "Name: ceiling_height, dtype: float64"
      ]
     },
     "execution_count": 448,
     "metadata": {},
     "output_type": "execute_result"
    }
   ],
   "source": [
    "#Высота потолков в центре\n",
    "data_center['ceiling_height'].describe()"
   ]
  },
  {
   "cell_type": "markdown",
   "metadata": {},
   "source": [
    "Вывод: среднее от высоты потолков по всему городу и в центре равны, медианные значения тоже равны"
   ]
  },
  {
   "cell_type": "markdown",
   "metadata": {},
   "source": [
    "Далее исследуется корреляция в центре и по городу между ценой и некоторыми факторами. "
   ]
  },
  {
   "cell_type": "code",
   "execution_count": 449,
   "metadata": {},
   "outputs": [
    {
     "data": {
      "text/plain": [
       "0.37237533826763347"
      ]
     },
     "execution_count": 449,
     "metadata": {},
     "output_type": "execute_result"
    }
   ],
   "source": [
    "#Число комнат по городу\n",
    "data[data['locality_name'] == 'Санкт-Петербург']['rooms'].corr(data[data['locality_name'] == 'Санкт-Петербург']['last_price'])"
   ]
  },
  {
   "cell_type": "code",
   "execution_count": 450,
   "metadata": {},
   "outputs": [
    {
     "data": {
      "text/plain": [
       "0.3592222618964666"
      ]
     },
     "execution_count": 450,
     "metadata": {},
     "output_type": "execute_result"
    }
   ],
   "source": [
    "#Число комнат в центре\n",
    "data_center['last_price'].corr(data_center['rooms'])"
   ]
  },
  {
   "cell_type": "markdown",
   "metadata": {},
   "source": [
    "Вывод: влияние на цену числа комнат по городу и в центре одинаковое"
   ]
  },
  {
   "cell_type": "code",
   "execution_count": 451,
   "metadata": {},
   "outputs": [
    {
     "data": {
      "text/plain": [
       "-0.000837942720881082"
      ]
     },
     "execution_count": 451,
     "metadata": {},
     "output_type": "execute_result"
    }
   ],
   "source": [
    "#Этаж по городу\n",
    "data[data['locality_name'] == 'Санкт-Петербург']['floor'].corr(data[data['locality_name'] == 'Санкт-Петербург']['last_price'])"
   ]
  },
  {
   "cell_type": "code",
   "execution_count": 452,
   "metadata": {},
   "outputs": [
    {
     "data": {
      "text/plain": [
       "0.027333863484153936"
      ]
     },
     "execution_count": 452,
     "metadata": {},
     "output_type": "execute_result"
    }
   ],
   "source": [
    "#Этаж в центре\n",
    "data_center['floor'].corr(data[data['locality_name'] == 'Санкт-Петербург']['last_price'])"
   ]
  },
  {
   "cell_type": "markdown",
   "metadata": {},
   "source": [
    "Вывод: влияние на цену этажа в центре и по городу отсутствует"
   ]
  },
  {
   "cell_type": "code",
   "execution_count": 453,
   "metadata": {},
   "outputs": [
    {
     "data": {
      "text/plain": [
       "-0.2595074646319885"
      ]
     },
     "execution_count": 453,
     "metadata": {},
     "output_type": "execute_result"
    }
   ],
   "source": [
    "#Удаленность от центра по городу\n",
    "data[data['locality_name'] == 'Санкт-Петербург']['cityCenters_nearest'].corr(data[data['locality_name'] == 'Санкт-Петербург']['last_price'])"
   ]
  },
  {
   "cell_type": "code",
   "execution_count": 454,
   "metadata": {},
   "outputs": [
    {
     "data": {
      "text/plain": [
       "0.02973664888683966"
      ]
     },
     "execution_count": 454,
     "metadata": {},
     "output_type": "execute_result"
    }
   ],
   "source": [
    "#Удаленность от центра в центральном районе\n",
    "data_center['cityCenters_nearest'].corr(data[data['locality_name'] == 'Санкт-Петербург']['cityCenters_nearest'])"
   ]
  },
  {
   "cell_type": "markdown",
   "metadata": {},
   "source": [
    "Вывод: в центральном районе влияние на цену практически отсутствует, а по городу наблюдается обратная связь,то есть при удалении от центра цена незначительно растет. Это можно объяснить тем, что пригороды выглядят немного привлекательнее, чем остальные нецентральные районы."
   ]
  },
  {
   "cell_type": "markdown",
   "metadata": {},
   "source": [
    "Дата размещения объявления в центре. Исследовать корреляцию по данным типа datetime метод corr() не позволяет. Поэтому исследуем корреляцию отдельно по дню недели, месяцу и году."
   ]
  },
  {
   "cell_type": "code",
   "execution_count": 456,
   "metadata": {},
   "outputs": [
    {
     "name": "stdout",
     "output_type": "stream",
     "text": [
      "0.0015501452176215431\n",
      "0.0027791287507397252\n",
      "-0.04308903619950858\n"
     ]
    }
   ],
   "source": [
    "# Корреляция цены от даты по городу\n",
    "print(data['last_price'].corr(data['weekday_exposition']))\n",
    "print(data['last_price'].corr(data['month_exposition']))\n",
    "print(data['last_price'].corr(data['year_exposition']))"
   ]
  },
  {
   "cell_type": "code",
   "execution_count": 457,
   "metadata": {},
   "outputs": [
    {
     "name": "stdout",
     "output_type": "stream",
     "text": [
      "0.017281628009775025\n",
      "0.004817552841137472\n",
      "-0.05351480462865782\n"
     ]
    }
   ],
   "source": [
    "#Корреляция цены от даты в центральном районе\n",
    "print(data_center['last_price'].corr(data_center['weekday_exposition']))\n",
    "print(data_center['last_price'].corr(data_center['month_exposition']))\n",
    "print(data_center['last_price'].corr(data_center['year_exposition']))"
   ]
  },
  {
   "cell_type": "code",
   "execution_count": 458,
   "metadata": {},
   "outputs": [
    {
     "data": {
      "text/html": [
       "<div>\n",
       "<style scoped>\n",
       "    .dataframe tbody tr th:only-of-type {\n",
       "        vertical-align: middle;\n",
       "    }\n",
       "\n",
       "    .dataframe tbody tr th {\n",
       "        vertical-align: top;\n",
       "    }\n",
       "\n",
       "    .dataframe thead th {\n",
       "        text-align: right;\n",
       "    }\n",
       "</style>\n",
       "<table border=\"1\" class=\"dataframe\">\n",
       "  <thead>\n",
       "    <tr style=\"text-align: right;\">\n",
       "      <th></th>\n",
       "      <th>last_price</th>\n",
       "      <th>total_area</th>\n",
       "      <th>rooms</th>\n",
       "      <th>cityCenters_nearest</th>\n",
       "    </tr>\n",
       "  </thead>\n",
       "  <tbody>\n",
       "    <tr>\n",
       "      <td>last_price</td>\n",
       "      <td>1.000000</td>\n",
       "      <td>0.653675</td>\n",
       "      <td>0.363343</td>\n",
       "      <td>-0.206747</td>\n",
       "    </tr>\n",
       "    <tr>\n",
       "      <td>total_area</td>\n",
       "      <td>0.653675</td>\n",
       "      <td>1.000000</td>\n",
       "      <td>0.758344</td>\n",
       "      <td>-0.231446</td>\n",
       "    </tr>\n",
       "    <tr>\n",
       "      <td>rooms</td>\n",
       "      <td>0.363343</td>\n",
       "      <td>0.758344</td>\n",
       "      <td>1.000000</td>\n",
       "      <td>-0.184864</td>\n",
       "    </tr>\n",
       "    <tr>\n",
       "      <td>cityCenters_nearest</td>\n",
       "      <td>-0.206747</td>\n",
       "      <td>-0.231446</td>\n",
       "      <td>-0.184864</td>\n",
       "      <td>1.000000</td>\n",
       "    </tr>\n",
       "  </tbody>\n",
       "</table>\n",
       "</div>"
      ],
      "text/plain": [
       "                     last_price  total_area     rooms  cityCenters_nearest\n",
       "last_price             1.000000    0.653675  0.363343            -0.206747\n",
       "total_area             0.653675    1.000000  0.758344            -0.231446\n",
       "rooms                  0.363343    0.758344  1.000000            -0.184864\n",
       "cityCenters_nearest   -0.206747   -0.231446 -0.184864             1.000000"
      ]
     },
     "execution_count": 458,
     "metadata": {},
     "output_type": "execute_result"
    }
   ],
   "source": [
    "#Корреляция параметров по городу\n",
    "data[['last_price', 'total_area', 'rooms', 'cityCenters_nearest']].corr()"
   ]
  },
  {
   "cell_type": "code",
   "execution_count": 459,
   "metadata": {
    "scrolled": true
   },
   "outputs": [
    {
     "data": {
      "text/html": [
       "<div>\n",
       "<style scoped>\n",
       "    .dataframe tbody tr th:only-of-type {\n",
       "        vertical-align: middle;\n",
       "    }\n",
       "\n",
       "    .dataframe tbody tr th {\n",
       "        vertical-align: top;\n",
       "    }\n",
       "\n",
       "    .dataframe thead th {\n",
       "        text-align: right;\n",
       "    }\n",
       "</style>\n",
       "<table border=\"1\" class=\"dataframe\">\n",
       "  <thead>\n",
       "    <tr style=\"text-align: right;\">\n",
       "      <th></th>\n",
       "      <th>last_price</th>\n",
       "      <th>total_area</th>\n",
       "      <th>rooms</th>\n",
       "      <th>cityCenters_nearest</th>\n",
       "    </tr>\n",
       "  </thead>\n",
       "  <tbody>\n",
       "    <tr>\n",
       "      <td>last_price</td>\n",
       "      <td>1.000000</td>\n",
       "      <td>0.646506</td>\n",
       "      <td>0.359222</td>\n",
       "      <td>-0.164522</td>\n",
       "    </tr>\n",
       "    <tr>\n",
       "      <td>total_area</td>\n",
       "      <td>0.646506</td>\n",
       "      <td>1.000000</td>\n",
       "      <td>0.760689</td>\n",
       "      <td>-0.273577</td>\n",
       "    </tr>\n",
       "    <tr>\n",
       "      <td>rooms</td>\n",
       "      <td>0.359222</td>\n",
       "      <td>0.760689</td>\n",
       "      <td>1.000000</td>\n",
       "      <td>-0.291614</td>\n",
       "    </tr>\n",
       "    <tr>\n",
       "      <td>cityCenters_nearest</td>\n",
       "      <td>-0.164522</td>\n",
       "      <td>-0.273577</td>\n",
       "      <td>-0.291614</td>\n",
       "      <td>1.000000</td>\n",
       "    </tr>\n",
       "  </tbody>\n",
       "</table>\n",
       "</div>"
      ],
      "text/plain": [
       "                     last_price  total_area     rooms  cityCenters_nearest\n",
       "last_price             1.000000    0.646506  0.359222            -0.164522\n",
       "total_area             0.646506    1.000000  0.760689            -0.273577\n",
       "rooms                  0.359222    0.760689  1.000000            -0.291614\n",
       "cityCenters_nearest   -0.164522   -0.273577 -0.291614             1.000000"
      ]
     },
     "execution_count": 459,
     "metadata": {},
     "output_type": "execute_result"
    }
   ],
   "source": [
    "#Корреляция параметров для центра города\n",
    "data_center[['last_price', 'total_area', 'rooms', 'cityCenters_nearest']].corr()"
   ]
  },
  {
   "cell_type": "code",
   "execution_count": 460,
   "metadata": {},
   "outputs": [
    {
     "data": {
      "text/plain": [
       "<seaborn.axisgrid.PairGrid at 0x7f779ba4e490>"
      ]
     },
     "execution_count": 460,
     "metadata": {},
     "output_type": "execute_result"
    },
    {
     "data": {
      "image/png": "[encoded data removed]",
      "text/plain": [
       "<Figure size 900x900 with 30 Axes>"
      ]
     },
     "metadata": {
      "needs_background": "light"
     },
     "output_type": "display_data"
    }
   ],
   "source": [
    "#Метод sns.pairplot\n",
    "import seaborn as sns\n",
    "sns.pairplot(data[['last_price', 'rooms', 'id_floor_categories', 'weekday_exposition', 'year_exposition']])"
   ]
  },
  {
   "cell_type": "code",
   "execution_count": 461,
   "metadata": {},
   "outputs": [
    {
     "data": {
      "text/plain": [
       "array([[<matplotlib.axes._subplots.AxesSubplot object at 0x7f7799e15ed0>,\n",
       "        <matplotlib.axes._subplots.AxesSubplot object at 0x7f7799dfac50>,\n",
       "        <matplotlib.axes._subplots.AxesSubplot object at 0x7f7799d57650>,\n",
       "        <matplotlib.axes._subplots.AxesSubplot object at 0x7f7799d89e10>,\n",
       "        <matplotlib.axes._subplots.AxesSubplot object at 0x7f7799d49650>,\n",
       "        <matplotlib.axes._subplots.AxesSubplot object at 0x7f7799cfce50>],\n",
       "       [<matplotlib.axes._subplots.AxesSubplot object at 0x7f7799cbe690>,\n",
       "        <matplotlib.axes._subplots.AxesSubplot object at 0x7f7799c71e90>,\n",
       "        <matplotlib.axes._subplots.AxesSubplot object at 0x7f7799c7ca10>,\n",
       "        <matplotlib.axes._subplots.AxesSubplot object at 0x7f7799c3e3d0>,\n",
       "        <matplotlib.axes._subplots.AxesSubplot object at 0x7f7799baa710>,\n",
       "        <matplotlib.axes._subplots.AxesSubplot object at 0x7f7799b5cf10>],\n",
       "       [<matplotlib.axes._subplots.AxesSubplot object at 0x7f7799b1f750>,\n",
       "        <matplotlib.axes._subplots.AxesSubplot object at 0x7f7799b52f50>,\n",
       "        <matplotlib.axes._subplots.AxesSubplot object at 0x7f7799b12790>,\n",
       "        <matplotlib.axes._subplots.AxesSubplot object at 0x7f7799ac7f90>,\n",
       "        <matplotlib.axes._subplots.AxesSubplot object at 0x7f7799a887d0>,\n",
       "        <matplotlib.axes._subplots.AxesSubplot object at 0x7f7799a3cfd0>],\n",
       "       [<matplotlib.axes._subplots.AxesSubplot object at 0x7f77999fe810>,\n",
       "        <matplotlib.axes._subplots.AxesSubplot object at 0x7f77999b1f90>,\n",
       "        <matplotlib.axes._subplots.AxesSubplot object at 0x7f7799975850>,\n",
       "        <matplotlib.axes._subplots.AxesSubplot object at 0x7f7799931bd0>,\n",
       "        <matplotlib.axes._subplots.AxesSubplot object at 0x7f77998e9890>,\n",
       "        <matplotlib.axes._subplots.AxesSubplot object at 0x7f77998a8c10>],\n",
       "       [<matplotlib.axes._subplots.AxesSubplot object at 0x7f779985f8d0>,\n",
       "        <matplotlib.axes._subplots.AxesSubplot object at 0x7f779981ec50>,\n",
       "        <matplotlib.axes._subplots.AxesSubplot object at 0x7f77997d5910>,\n",
       "        <matplotlib.axes._subplots.AxesSubplot object at 0x7f7799811c90>,\n",
       "        <matplotlib.axes._subplots.AxesSubplot object at 0x7f77997c8950>,\n",
       "        <matplotlib.axes._subplots.AxesSubplot object at 0x7f7799787cd0>],\n",
       "       [<matplotlib.axes._subplots.AxesSubplot object at 0x7f779973f990>,\n",
       "        <matplotlib.axes._subplots.AxesSubplot object at 0x7f77996fdd10>,\n",
       "        <matplotlib.axes._subplots.AxesSubplot object at 0x7f77996b59d0>,\n",
       "        <matplotlib.axes._subplots.AxesSubplot object at 0x7f7799673d50>,\n",
       "        <matplotlib.axes._subplots.AxesSubplot object at 0x7f7799629a10>,\n",
       "        <matplotlib.axes._subplots.AxesSubplot object at 0x7f77995e8d90>]],\n",
       "      dtype=object)"
      ]
     },
     "execution_count": 461,
     "metadata": {},
     "output_type": "execute_result"
    },
    {
     "data": {
      "image/png": "[encoded data removed]",
      "text/plain": [
       "<Figure size 1080x1080 with 36 Axes>"
      ]
     },
     "metadata": {
      "needs_background": "light"
     },
     "output_type": "display_data"
    }
   ],
   "source": [
    "#Матрица диаграмм рассеяния\n",
    "pd.plotting.scatter_matrix(data[['last_price','rooms', 'id_floor_categories', 'weekday_exposition', 'month_exposition', 'year_exposition']], figsize=(15, 15)) "
   ]
  },
  {
   "cell_type": "markdown",
   "metadata": {},
   "source": [
    "Вывод: По городу зависимости цены от даты не наблюдается. В центральном районе также зависимости не наблюдается."
   ]
  },
  {
   "cell_type": "markdown",
   "metadata": {},
   "source": [
    "Вывод по разделу 4: Было выявлено типичное время продажи квартир (меньше 95 дней), время быстрых продаж и долгих продаж. Проведено исследование данных с помощью графиков, выявлены границы центрального района с помощью анализа зависимости цены от удаленности от центра города. Были выявлены населенные пункты с наибольшим числом объявлений. Был выявлен сегмент квартир в центре и проведен сравнительный анализ с данными по всему городу."
   ]
  },
  {
   "cell_type": "markdown",
   "metadata": {},
   "source": [
    "## Общий вывод"
   ]
  },
  {
   "cell_type": "markdown",
   "metadata": {},
   "source": [
    "Был проведен исследовательский анализ данных, на основании которого выл выделен центральный район и исследован сегмент квартир в данном районе в сравнении со всем городом. На цену наибольшее влияние оказывает площадь и число комнат, причём в центре и остальном городе одинаковое, а также, судя по графику зависмости цены от удаленности от центра - удаленность от центра в центральном районе. В остальных же районах удаленность от центра оказывает незначительное вляние на цену. Судя по диаграммам рассеяния, в целом самым дорогим на рынке является последний этаж, далее следуют другие этажи и самым дешевым можно считать первый этаж, В 2017 году цены оказались самыми высокими. В 2014 году цены оказались самыми низкими. Из представленных регионов, регионом с самой высокой стоимостью жилья является Санкт-Петербург, с самой низкой - опять же Санкт-Петербург и Гатчина. Средняя и медианная цена в центральном районе Санкт-Петербурга больше, чем в остальных районах."
   ]
  },
  {
   "cell_type": "code",
   "execution_count": null,
   "metadata": {},
   "outputs": [],
   "source": []
  }
 ],
 "metadata": {
  "ExecuteTimeLog": [
   {
    "duration": 818,
    "start_time": "2021-11-23T05:45:28.355Z"
   },
   {
    "duration": 8,
    "start_time": "2021-11-23T05:46:39.022Z"
   },
   {
    "duration": 6,
    "start_time": "2021-11-23T05:46:54.507Z"
   },
   {
    "duration": 7,
    "start_time": "2021-11-23T05:47:30.258Z"
   },
   {
    "duration": 381,
    "start_time": "2021-11-23T05:50:38.629Z"
   },
   {
    "duration": 292,
    "start_time": "2021-11-23T05:50:42.405Z"
   },
   {
    "duration": 72,
    "start_time": "2021-11-23T05:51:12.708Z"
   },
   {
    "duration": 6,
    "start_time": "2021-11-23T05:51:14.356Z"
   },
   {
    "duration": 110,
    "start_time": "2021-11-23T05:51:28.500Z"
   },
   {
    "duration": 19,
    "start_time": "2021-11-23T05:51:29.012Z"
   },
   {
    "duration": 84,
    "start_time": "2021-11-23T05:51:44.683Z"
   },
   {
    "duration": 19,
    "start_time": "2021-11-23T05:51:45.164Z"
   },
   {
    "duration": 17,
    "start_time": "2021-11-23T05:56:20.237Z"
   },
   {
    "duration": 383,
    "start_time": "2021-11-23T07:09:53.650Z"
   },
   {
    "duration": 322,
    "start_time": "2021-11-23T07:09:58.289Z"
   },
   {
    "duration": 1124,
    "start_time": "2021-11-23T07:10:04.498Z"
   },
   {
    "duration": 22,
    "start_time": "2021-11-23T07:10:05.624Z"
   },
   {
    "duration": 18,
    "start_time": "2021-11-23T07:10:05.649Z"
   },
   {
    "duration": 13,
    "start_time": "2021-11-23T07:10:25.877Z"
   },
   {
    "duration": 732,
    "start_time": "2021-11-25T17:57:23.484Z"
   },
   {
    "duration": 14,
    "start_time": "2021-11-25T17:57:24.218Z"
   },
   {
    "duration": 14,
    "start_time": "2021-11-25T17:57:24.235Z"
   },
   {
    "duration": 14,
    "start_time": "2021-11-25T17:58:11.817Z"
   },
   {
    "duration": 451,
    "start_time": "2021-11-25T18:06:15.430Z"
   },
   {
    "duration": 44,
    "start_time": "2021-11-25T18:06:27.613Z"
   },
   {
    "duration": 23,
    "start_time": "2021-11-25T18:08:55.210Z"
   },
   {
    "duration": 23,
    "start_time": "2021-11-25T18:16:55.855Z"
   },
   {
    "duration": 322,
    "start_time": "2021-11-25T18:17:54.119Z"
   },
   {
    "duration": 119,
    "start_time": "2021-11-25T18:18:08.277Z"
   },
   {
    "duration": 5,
    "start_time": "2021-11-25T18:18:15.917Z"
   },
   {
    "duration": 5,
    "start_time": "2021-11-25T18:27:55.641Z"
   },
   {
    "duration": 11,
    "start_time": "2021-11-25T18:28:11.337Z"
   },
   {
    "duration": 14,
    "start_time": "2021-11-25T18:30:41.199Z"
   },
   {
    "duration": 12,
    "start_time": "2021-11-25T18:31:51.509Z"
   },
   {
    "duration": 22,
    "start_time": "2021-11-25T20:01:55.516Z"
   },
   {
    "duration": 331,
    "start_time": "2021-11-25T20:03:05.656Z"
   },
   {
    "duration": 79,
    "start_time": "2021-11-25T20:03:27.505Z"
   },
   {
    "duration": 15,
    "start_time": "2021-11-25T20:03:27.586Z"
   },
   {
    "duration": 20,
    "start_time": "2021-11-25T20:03:27.607Z"
   },
   {
    "duration": 10,
    "start_time": "2021-11-25T20:03:27.628Z"
   },
   {
    "duration": 6,
    "start_time": "2021-11-25T20:03:27.640Z"
   },
   {
    "duration": 11,
    "start_time": "2021-11-25T20:03:27.648Z"
   },
   {
    "duration": 9,
    "start_time": "2021-11-25T20:03:27.661Z"
   },
   {
    "duration": 41,
    "start_time": "2021-11-25T20:03:27.673Z"
   },
   {
    "duration": 332,
    "start_time": "2021-11-25T20:03:27.716Z"
   },
   {
    "duration": 8,
    "start_time": "2021-11-25T20:03:51.044Z"
   },
   {
    "duration": 23,
    "start_time": "2021-11-25T20:04:04.298Z"
   },
   {
    "duration": 42,
    "start_time": "2021-11-25T20:04:50.956Z"
   },
   {
    "duration": 69,
    "start_time": "2021-11-25T20:04:57.864Z"
   },
   {
    "duration": 11,
    "start_time": "2021-11-25T20:04:57.935Z"
   },
   {
    "duration": 33,
    "start_time": "2021-11-25T20:04:57.949Z"
   },
   {
    "duration": 18,
    "start_time": "2021-11-25T20:04:57.984Z"
   },
   {
    "duration": 29,
    "start_time": "2021-11-25T20:04:58.004Z"
   },
   {
    "duration": 20,
    "start_time": "2021-11-25T20:04:58.035Z"
   },
   {
    "duration": 28,
    "start_time": "2021-11-25T20:04:58.056Z"
   },
   {
    "duration": 61,
    "start_time": "2021-11-25T20:04:58.087Z"
   },
   {
    "duration": 8,
    "start_time": "2021-11-25T20:04:58.150Z"
   },
   {
    "duration": 41,
    "start_time": "2021-11-25T20:04:58.160Z"
   },
   {
    "duration": 24,
    "start_time": "2021-11-25T20:05:50.292Z"
   },
   {
    "duration": 70,
    "start_time": "2021-11-25T20:08:05.635Z"
   },
   {
    "duration": 13,
    "start_time": "2021-11-25T20:08:05.707Z"
   },
   {
    "duration": 12,
    "start_time": "2021-11-25T20:08:05.722Z"
   },
   {
    "duration": 9,
    "start_time": "2021-11-25T20:08:05.736Z"
   },
   {
    "duration": 5,
    "start_time": "2021-11-25T20:08:05.747Z"
   },
   {
    "duration": 14,
    "start_time": "2021-11-25T20:08:05.753Z"
   },
   {
    "duration": 38,
    "start_time": "2021-11-25T20:08:05.768Z"
   },
   {
    "duration": 21,
    "start_time": "2021-11-25T20:08:05.809Z"
   },
   {
    "duration": 16,
    "start_time": "2021-11-25T20:08:05.832Z"
   },
   {
    "duration": 26,
    "start_time": "2021-11-25T20:08:05.850Z"
   },
   {
    "duration": 335,
    "start_time": "2021-11-25T20:10:06.363Z"
   },
   {
    "duration": 367,
    "start_time": "2021-11-25T20:10:39.491Z"
   },
   {
    "duration": 2211,
    "start_time": "2021-11-25T20:10:53.554Z"
   },
   {
    "duration": 23,
    "start_time": "2021-11-25T20:10:56.010Z"
   },
   {
    "duration": 2494,
    "start_time": "2021-11-25T20:11:46.522Z"
   },
   {
    "duration": 2292,
    "start_time": "2021-11-25T20:12:39.529Z"
   },
   {
    "duration": 9,
    "start_time": "2021-11-25T20:14:17.294Z"
   },
   {
    "duration": 23,
    "start_time": "2021-11-25T20:14:20.526Z"
   },
   {
    "duration": 69,
    "start_time": "2021-11-25T20:14:34.475Z"
   },
   {
    "duration": 12,
    "start_time": "2021-11-25T20:14:34.546Z"
   },
   {
    "duration": 18,
    "start_time": "2021-11-25T20:14:34.560Z"
   },
   {
    "duration": 8,
    "start_time": "2021-11-25T20:14:34.580Z"
   },
   {
    "duration": 3,
    "start_time": "2021-11-25T20:14:34.606Z"
   },
   {
    "duration": 13,
    "start_time": "2021-11-25T20:14:34.611Z"
   },
   {
    "duration": 10,
    "start_time": "2021-11-25T20:14:34.626Z"
   },
   {
    "duration": 21,
    "start_time": "2021-11-25T20:14:34.638Z"
   },
   {
    "duration": 13,
    "start_time": "2021-11-25T20:14:34.661Z"
   },
   {
    "duration": 48,
    "start_time": "2021-11-25T20:14:34.676Z"
   },
   {
    "duration": 68,
    "start_time": "2021-11-25T20:18:50.198Z"
   },
   {
    "duration": 12,
    "start_time": "2021-11-25T20:18:50.268Z"
   },
   {
    "duration": 18,
    "start_time": "2021-11-25T20:18:50.282Z"
   },
   {
    "duration": 8,
    "start_time": "2021-11-25T20:18:50.307Z"
   },
   {
    "duration": 18,
    "start_time": "2021-11-25T20:18:50.317Z"
   },
   {
    "duration": 24,
    "start_time": "2021-11-25T20:18:50.336Z"
   },
   {
    "duration": 23,
    "start_time": "2021-11-25T20:18:50.362Z"
   },
   {
    "duration": 40,
    "start_time": "2021-11-25T20:18:50.387Z"
   },
   {
    "duration": 13,
    "start_time": "2021-11-25T20:18:50.428Z"
   },
   {
    "duration": 50,
    "start_time": "2021-11-25T20:18:50.442Z"
   },
   {
    "duration": 351,
    "start_time": "2021-11-25T20:32:34.805Z"
   },
   {
    "duration": 71,
    "start_time": "2021-11-25T21:30:57.788Z"
   },
   {
    "duration": 12,
    "start_time": "2021-11-25T21:30:57.862Z"
   },
   {
    "duration": 18,
    "start_time": "2021-11-25T21:30:57.876Z"
   },
   {
    "duration": 15,
    "start_time": "2021-11-25T21:30:57.907Z"
   },
   {
    "duration": 3,
    "start_time": "2021-11-25T21:30:57.924Z"
   },
   {
    "duration": 13,
    "start_time": "2021-11-25T21:30:57.928Z"
   },
   {
    "duration": 9,
    "start_time": "2021-11-25T21:30:57.943Z"
   },
   {
    "duration": 28,
    "start_time": "2021-11-25T21:30:57.955Z"
   },
   {
    "duration": 16,
    "start_time": "2021-11-25T21:30:58.007Z"
   },
   {
    "duration": 26,
    "start_time": "2021-11-25T21:30:58.025Z"
   },
   {
    "duration": 22,
    "start_time": "2021-11-25T21:31:02.268Z"
   },
   {
    "duration": 6,
    "start_time": "2021-11-25T21:31:03.707Z"
   },
   {
    "duration": 29,
    "start_time": "2021-11-25T21:45:31.397Z"
   },
   {
    "duration": 6,
    "start_time": "2021-11-25T21:46:11.078Z"
   },
   {
    "duration": 8,
    "start_time": "2021-11-25T22:06:05.183Z"
   },
   {
    "duration": 23,
    "start_time": "2021-11-25T22:06:33.659Z"
   },
   {
    "duration": 6,
    "start_time": "2021-11-25T22:39:17.549Z"
   },
   {
    "duration": 387,
    "start_time": "2021-11-25T22:45:37.108Z"
   },
   {
    "duration": 343,
    "start_time": "2021-11-25T22:48:04.525Z"
   },
   {
    "duration": 334,
    "start_time": "2021-11-25T22:49:49.691Z"
   },
   {
    "duration": 9,
    "start_time": "2021-11-25T22:50:01.786Z"
   },
   {
    "duration": 3,
    "start_time": "2021-11-26T05:35:51.975Z"
   },
   {
    "duration": 615,
    "start_time": "2021-11-26T05:35:58.397Z"
   },
   {
    "duration": 14,
    "start_time": "2021-11-26T05:35:59.014Z"
   },
   {
    "duration": 13,
    "start_time": "2021-11-26T05:35:59.030Z"
   },
   {
    "duration": 12,
    "start_time": "2021-11-26T05:35:59.045Z"
   },
   {
    "duration": 3,
    "start_time": "2021-11-26T05:35:59.058Z"
   },
   {
    "duration": 32,
    "start_time": "2021-11-26T05:35:59.063Z"
   },
   {
    "duration": 10,
    "start_time": "2021-11-26T05:35:59.097Z"
   },
   {
    "duration": 24,
    "start_time": "2021-11-26T05:35:59.108Z"
   },
   {
    "duration": 8,
    "start_time": "2021-11-26T05:35:59.135Z"
   },
   {
    "duration": 51,
    "start_time": "2021-11-26T05:35:59.145Z"
   },
   {
    "duration": 5,
    "start_time": "2021-11-26T05:35:59.198Z"
   },
   {
    "duration": 8,
    "start_time": "2021-11-26T05:35:59.205Z"
   },
   {
    "duration": 9,
    "start_time": "2021-11-26T05:35:59.215Z"
   },
   {
    "duration": 2,
    "start_time": "2021-11-26T05:35:59.226Z"
   },
   {
    "duration": 8,
    "start_time": "2021-11-26T05:36:53.383Z"
   },
   {
    "duration": 8,
    "start_time": "2021-11-26T05:37:05.229Z"
   },
   {
    "duration": 345,
    "start_time": "2021-11-26T12:33:27.082Z"
   },
   {
    "duration": 911,
    "start_time": "2021-11-26T12:33:32.537Z"
   },
   {
    "duration": 38,
    "start_time": "2021-11-26T12:33:33.452Z"
   },
   {
    "duration": 18,
    "start_time": "2021-11-26T12:33:33.493Z"
   },
   {
    "duration": 54,
    "start_time": "2021-11-26T12:33:33.514Z"
   },
   {
    "duration": 5,
    "start_time": "2021-11-26T12:33:33.571Z"
   },
   {
    "duration": 20,
    "start_time": "2021-11-26T12:33:33.579Z"
   },
   {
    "duration": 22,
    "start_time": "2021-11-26T12:33:33.602Z"
   },
   {
    "duration": 74,
    "start_time": "2021-11-26T12:33:33.627Z"
   },
   {
    "duration": 11,
    "start_time": "2021-11-26T12:33:33.705Z"
   },
   {
    "duration": 63,
    "start_time": "2021-11-26T12:33:33.719Z"
   },
   {
    "duration": 9,
    "start_time": "2021-11-26T12:33:33.784Z"
   },
   {
    "duration": 11,
    "start_time": "2021-11-26T12:33:33.795Z"
   },
   {
    "duration": 9,
    "start_time": "2021-11-26T12:33:33.808Z"
   },
   {
    "duration": 18,
    "start_time": "2021-11-26T12:35:28.212Z"
   },
   {
    "duration": 103,
    "start_time": "2021-11-26T12:36:31.574Z"
   },
   {
    "duration": 20,
    "start_time": "2021-11-26T12:36:31.679Z"
   },
   {
    "duration": 19,
    "start_time": "2021-11-26T12:36:31.702Z"
   },
   {
    "duration": 13,
    "start_time": "2021-11-26T12:36:31.723Z"
   },
   {
    "duration": 31,
    "start_time": "2021-11-26T12:36:31.739Z"
   },
   {
    "duration": 18,
    "start_time": "2021-11-26T12:36:31.772Z"
   },
   {
    "duration": 19,
    "start_time": "2021-11-26T12:36:31.792Z"
   },
   {
    "duration": 64,
    "start_time": "2021-11-26T12:36:31.814Z"
   },
   {
    "duration": 18,
    "start_time": "2021-11-26T12:36:31.880Z"
   },
   {
    "duration": 39,
    "start_time": "2021-11-26T12:36:31.901Z"
   },
   {
    "duration": 28,
    "start_time": "2021-11-26T12:36:31.942Z"
   },
   {
    "duration": 6,
    "start_time": "2021-11-26T12:36:31.973Z"
   },
   {
    "duration": 4,
    "start_time": "2021-11-26T12:36:34.009Z"
   },
   {
    "duration": 19,
    "start_time": "2021-11-26T12:36:34.519Z"
   },
   {
    "duration": 33,
    "start_time": "2021-11-26T12:37:15.896Z"
   },
   {
    "duration": 35,
    "start_time": "2021-11-26T12:41:55.697Z"
   },
   {
    "duration": 4,
    "start_time": "2021-11-26T12:46:52.875Z"
   },
   {
    "duration": 99,
    "start_time": "2021-11-26T12:55:31.960Z"
   },
   {
    "duration": 110,
    "start_time": "2021-11-26T12:55:53.881Z"
   },
   {
    "duration": 25,
    "start_time": "2021-11-26T12:57:20.861Z"
   },
   {
    "duration": 32,
    "start_time": "2021-11-26T12:57:25.463Z"
   },
   {
    "duration": 66,
    "start_time": "2021-11-26T12:57:57.231Z"
   },
   {
    "duration": 41,
    "start_time": "2021-11-26T12:58:29.057Z"
   },
   {
    "duration": 13,
    "start_time": "2021-11-26T12:59:30.753Z"
   },
   {
    "duration": 319,
    "start_time": "2021-11-26T13:01:07.792Z"
   },
   {
    "duration": 17,
    "start_time": "2021-11-26T13:01:36.696Z"
   },
   {
    "duration": 41,
    "start_time": "2021-11-26T13:01:48.817Z"
   },
   {
    "duration": 93,
    "start_time": "2021-11-26T13:03:14.541Z"
   },
   {
    "duration": 368,
    "start_time": "2021-11-26T13:04:19.844Z"
   },
   {
    "duration": 310,
    "start_time": "2021-11-26T13:11:06.940Z"
   },
   {
    "duration": 89,
    "start_time": "2021-11-26T13:11:15.067Z"
   },
   {
    "duration": 27,
    "start_time": "2021-11-26T13:11:15.158Z"
   },
   {
    "duration": 25,
    "start_time": "2021-11-26T13:11:15.188Z"
   },
   {
    "duration": 12,
    "start_time": "2021-11-26T13:11:15.216Z"
   },
   {
    "duration": 4,
    "start_time": "2021-11-26T13:11:15.230Z"
   },
   {
    "duration": 41,
    "start_time": "2021-11-26T13:11:15.236Z"
   },
   {
    "duration": 15,
    "start_time": "2021-11-26T13:11:15.279Z"
   },
   {
    "duration": 38,
    "start_time": "2021-11-26T13:11:15.298Z"
   },
   {
    "duration": 11,
    "start_time": "2021-11-26T13:11:15.368Z"
   },
   {
    "duration": 37,
    "start_time": "2021-11-26T13:11:15.382Z"
   },
   {
    "duration": 6,
    "start_time": "2021-11-26T13:11:15.421Z"
   },
   {
    "duration": 39,
    "start_time": "2021-11-26T13:11:15.429Z"
   },
   {
    "duration": 17,
    "start_time": "2021-11-26T13:11:15.471Z"
   },
   {
    "duration": 18,
    "start_time": "2021-11-26T13:11:17.811Z"
   },
   {
    "duration": 303,
    "start_time": "2021-11-26T13:11:18.396Z"
   },
   {
    "duration": 6,
    "start_time": "2021-11-26T13:12:19.116Z"
   },
   {
    "duration": 30,
    "start_time": "2021-11-26T13:26:21.681Z"
   },
   {
    "duration": 315,
    "start_time": "2021-11-26T13:28:09.436Z"
   },
   {
    "duration": 14,
    "start_time": "2021-11-26T13:28:18.635Z"
   },
   {
    "duration": 319,
    "start_time": "2021-11-26T13:28:27.155Z"
   },
   {
    "duration": 303,
    "start_time": "2021-11-26T13:30:44.528Z"
   },
   {
    "duration": 20,
    "start_time": "2021-11-26T13:30:53.805Z"
   },
   {
    "duration": 34,
    "start_time": "2021-11-26T13:31:07.457Z"
   },
   {
    "duration": 63,
    "start_time": "2021-11-26T13:31:18.769Z"
   },
   {
    "duration": 6,
    "start_time": "2021-11-26T13:40:04.748Z"
   },
   {
    "duration": 83,
    "start_time": "2021-11-26T13:57:50.627Z"
   },
   {
    "duration": 18,
    "start_time": "2021-11-26T13:57:50.713Z"
   },
   {
    "duration": 36,
    "start_time": "2021-11-26T13:57:50.735Z"
   },
   {
    "duration": 11,
    "start_time": "2021-11-26T13:57:50.774Z"
   },
   {
    "duration": 4,
    "start_time": "2021-11-26T13:57:50.788Z"
   },
   {
    "duration": 17,
    "start_time": "2021-11-26T13:57:50.794Z"
   },
   {
    "duration": 14,
    "start_time": "2021-11-26T13:57:50.813Z"
   },
   {
    "duration": 69,
    "start_time": "2021-11-26T13:57:50.831Z"
   },
   {
    "duration": 13,
    "start_time": "2021-11-26T13:57:50.903Z"
   },
   {
    "duration": 66,
    "start_time": "2021-11-26T13:57:50.918Z"
   },
   {
    "duration": 6,
    "start_time": "2021-11-26T13:57:50.986Z"
   },
   {
    "duration": 13,
    "start_time": "2021-11-26T13:57:50.994Z"
   },
   {
    "duration": 23,
    "start_time": "2021-11-26T13:57:51.010Z"
   },
   {
    "duration": 53,
    "start_time": "2021-11-26T13:57:51.036Z"
   },
   {
    "duration": 6,
    "start_time": "2021-11-26T13:57:51.091Z"
   },
   {
    "duration": 5,
    "start_time": "2021-11-26T13:57:52.748Z"
   },
   {
    "duration": 6,
    "start_time": "2021-11-26T13:57:53.604Z"
   },
   {
    "duration": 86,
    "start_time": "2021-11-26T14:06:48.651Z"
   },
   {
    "duration": 32,
    "start_time": "2021-11-26T14:06:48.740Z"
   },
   {
    "duration": 17,
    "start_time": "2021-11-26T14:06:48.775Z"
   },
   {
    "duration": 12,
    "start_time": "2021-11-26T14:06:48.794Z"
   },
   {
    "duration": 5,
    "start_time": "2021-11-26T14:06:48.808Z"
   },
   {
    "duration": 54,
    "start_time": "2021-11-26T14:06:48.815Z"
   },
   {
    "duration": 16,
    "start_time": "2021-11-26T14:06:48.871Z"
   },
   {
    "duration": 37,
    "start_time": "2021-11-26T14:06:48.889Z"
   },
   {
    "duration": 45,
    "start_time": "2021-11-26T14:06:48.929Z"
   },
   {
    "duration": 34,
    "start_time": "2021-11-26T14:06:48.977Z"
   },
   {
    "duration": 5,
    "start_time": "2021-11-26T14:06:49.013Z"
   },
   {
    "duration": 6,
    "start_time": "2021-11-26T14:06:49.020Z"
   },
   {
    "duration": 49,
    "start_time": "2021-11-26T14:06:49.028Z"
   },
   {
    "duration": 30,
    "start_time": "2021-11-26T14:06:49.079Z"
   },
   {
    "duration": 4,
    "start_time": "2021-11-26T14:06:49.111Z"
   },
   {
    "duration": 13,
    "start_time": "2021-11-26T14:06:49.118Z"
   },
   {
    "duration": 413,
    "start_time": "2021-11-26T14:33:36.271Z"
   },
   {
    "duration": 6901,
    "start_time": "2021-11-26T14:43:55.712Z"
   },
   {
    "duration": 279,
    "start_time": "2021-11-26T14:44:29.623Z"
   },
   {
    "duration": 318,
    "start_time": "2021-11-26T14:44:46.230Z"
   },
   {
    "duration": 277,
    "start_time": "2021-11-26T14:45:24.935Z"
   },
   {
    "duration": 26,
    "start_time": "2021-11-26T14:47:44.163Z"
   },
   {
    "duration": 16,
    "start_time": "2021-11-26T14:48:31.738Z"
   },
   {
    "duration": 873,
    "start_time": "2021-11-26T14:52:59.651Z"
   },
   {
    "duration": 1166,
    "start_time": "2021-11-26T14:53:27.525Z"
   },
   {
    "duration": 1029,
    "start_time": "2021-11-26T14:53:39.171Z"
   },
   {
    "duration": 849,
    "start_time": "2021-11-26T14:56:23.968Z"
   },
   {
    "duration": 268,
    "start_time": "2021-11-26T14:57:20.200Z"
   },
   {
    "duration": 316,
    "start_time": "2021-11-26T14:58:27.109Z"
   },
   {
    "duration": 334,
    "start_time": "2021-11-26T14:58:28.436Z"
   },
   {
    "duration": 298,
    "start_time": "2021-11-26T14:58:30.982Z"
   },
   {
    "duration": 297,
    "start_time": "2021-11-26T15:09:48.980Z"
   },
   {
    "duration": 304,
    "start_time": "2021-11-26T15:09:57.788Z"
   },
   {
    "duration": 410,
    "start_time": "2021-11-26T15:10:28.459Z"
   },
   {
    "duration": 330,
    "start_time": "2021-11-26T15:10:48.855Z"
   },
   {
    "duration": 311,
    "start_time": "2021-11-26T15:11:03.290Z"
   },
   {
    "duration": 261,
    "start_time": "2021-11-26T15:29:38.282Z"
   },
   {
    "duration": 7,
    "start_time": "2021-11-26T15:30:02.016Z"
   },
   {
    "duration": 7,
    "start_time": "2021-11-26T15:30:08.007Z"
   },
   {
    "duration": 329,
    "start_time": "2021-11-26T15:32:20.741Z"
   },
   {
    "duration": 6,
    "start_time": "2021-11-26T15:42:21.433Z"
   },
   {
    "duration": 13,
    "start_time": "2021-11-26T15:42:59.672Z"
   },
   {
    "duration": 7,
    "start_time": "2021-11-26T15:43:40.942Z"
   },
   {
    "duration": 7,
    "start_time": "2021-11-26T15:49:35.894Z"
   },
   {
    "duration": 280,
    "start_time": "2021-11-26T16:05:00.075Z"
   },
   {
    "duration": 296,
    "start_time": "2021-11-26T16:05:04.850Z"
   },
   {
    "duration": 251,
    "start_time": "2021-11-26T16:05:10.851Z"
   },
   {
    "duration": 11,
    "start_time": "2021-11-26T16:05:19.835Z"
   },
   {
    "duration": 6,
    "start_time": "2021-11-26T16:16:07.843Z"
   },
   {
    "duration": 6,
    "start_time": "2021-11-26T16:16:46.308Z"
   },
   {
    "duration": 50,
    "start_time": "2021-11-26T16:17:08.467Z"
   },
   {
    "duration": 790,
    "start_time": "2021-11-26T16:46:03.480Z"
   },
   {
    "duration": 578,
    "start_time": "2021-11-26T16:46:36.891Z"
   },
   {
    "duration": 603,
    "start_time": "2021-11-26T16:47:22.089Z"
   },
   {
    "duration": 654,
    "start_time": "2021-11-26T16:47:46.144Z"
   },
   {
    "duration": 553,
    "start_time": "2021-11-26T16:47:56.000Z"
   },
   {
    "duration": 12,
    "start_time": "2021-11-26T16:54:43.705Z"
   },
   {
    "duration": 13,
    "start_time": "2021-11-26T18:12:41.707Z"
   },
   {
    "duration": 11,
    "start_time": "2021-11-26T18:13:59.521Z"
   },
   {
    "duration": 10,
    "start_time": "2021-11-26T18:16:08.087Z"
   },
   {
    "duration": 11,
    "start_time": "2021-11-26T18:18:02.100Z"
   },
   {
    "duration": 11,
    "start_time": "2021-11-26T18:18:43.532Z"
   },
   {
    "duration": 11,
    "start_time": "2021-11-26T18:18:52.395Z"
   },
   {
    "duration": 10,
    "start_time": "2021-11-26T18:19:00.043Z"
   },
   {
    "duration": 14,
    "start_time": "2021-11-26T18:19:08.154Z"
   },
   {
    "duration": 18,
    "start_time": "2021-11-26T18:20:29.961Z"
   },
   {
    "duration": 344,
    "start_time": "2021-11-26T18:48:56.389Z"
   },
   {
    "duration": 1422,
    "start_time": "2021-11-26T18:49:08.947Z"
   },
   {
    "duration": 230,
    "start_time": "2021-11-26T18:49:34.010Z"
   },
   {
    "duration": 217,
    "start_time": "2021-11-26T18:51:41.064Z"
   },
   {
    "duration": 207,
    "start_time": "2021-11-26T18:52:04.903Z"
   },
   {
    "duration": 224,
    "start_time": "2021-11-26T18:52:23.086Z"
   },
   {
    "duration": 240,
    "start_time": "2021-11-26T18:52:39.750Z"
   },
   {
    "duration": 307,
    "start_time": "2021-11-26T19:05:10.182Z"
   },
   {
    "duration": 516,
    "start_time": "2021-11-26T19:11:25.246Z"
   },
   {
    "duration": 388,
    "start_time": "2021-11-26T19:11:47.623Z"
   },
   {
    "duration": 631,
    "start_time": "2021-11-26T19:12:11.436Z"
   },
   {
    "duration": 602,
    "start_time": "2021-11-26T19:12:27.604Z"
   },
   {
    "duration": 597,
    "start_time": "2021-11-26T19:12:36.851Z"
   },
   {
    "duration": 567,
    "start_time": "2021-11-26T19:12:44.500Z"
   },
   {
    "duration": 546,
    "start_time": "2021-11-26T19:12:51.667Z"
   },
   {
    "duration": 494,
    "start_time": "2021-11-26T19:12:58.339Z"
   },
   {
    "duration": 617,
    "start_time": "2021-11-26T19:13:05.555Z"
   },
   {
    "duration": 430,
    "start_time": "2021-11-26T19:13:13.115Z"
   },
   {
    "duration": 427,
    "start_time": "2021-11-26T19:13:20.003Z"
   },
   {
    "duration": 1737,
    "start_time": "2021-11-26T19:13:36.747Z"
   },
   {
    "duration": 1700,
    "start_time": "2021-11-26T19:13:48.434Z"
   },
   {
    "duration": 1200,
    "start_time": "2021-11-26T19:13:58.498Z"
   },
   {
    "duration": 434,
    "start_time": "2021-11-26T19:14:07.770Z"
   },
   {
    "duration": 408,
    "start_time": "2021-11-26T19:14:13.690Z"
   },
   {
    "duration": 411,
    "start_time": "2021-11-26T19:14:28.433Z"
   },
   {
    "duration": 436,
    "start_time": "2021-11-26T19:14:37.057Z"
   },
   {
    "duration": 425,
    "start_time": "2021-11-26T19:14:44.825Z"
   },
   {
    "duration": 13,
    "start_time": "2021-11-26T19:43:38.997Z"
   },
   {
    "duration": 7,
    "start_time": "2021-11-26T19:46:23.392Z"
   },
   {
    "duration": 7,
    "start_time": "2021-11-26T19:46:26.064Z"
   },
   {
    "duration": 35,
    "start_time": "2021-11-26T19:58:38.489Z"
   },
   {
    "duration": 1139,
    "start_time": "2021-11-26T19:59:09.321Z"
   },
   {
    "duration": 4,
    "start_time": "2021-11-26T19:59:43.552Z"
   },
   {
    "duration": 154,
    "start_time": "2021-11-26T20:01:48.389Z"
   },
   {
    "duration": 300,
    "start_time": "2021-11-27T05:35:25.471Z"
   },
   {
    "duration": 799,
    "start_time": "2021-11-27T05:35:33.662Z"
   },
   {
    "duration": 22,
    "start_time": "2021-11-27T05:35:34.464Z"
   },
   {
    "duration": 17,
    "start_time": "2021-11-27T05:35:34.490Z"
   },
   {
    "duration": 21,
    "start_time": "2021-11-27T05:35:34.529Z"
   },
   {
    "duration": 6,
    "start_time": "2021-11-27T05:35:34.553Z"
   },
   {
    "duration": 14,
    "start_time": "2021-11-27T05:35:34.562Z"
   },
   {
    "duration": 53,
    "start_time": "2021-11-27T05:35:34.578Z"
   },
   {
    "duration": 38,
    "start_time": "2021-11-27T05:35:34.634Z"
   },
   {
    "duration": 12,
    "start_time": "2021-11-27T05:35:34.679Z"
   },
   {
    "duration": 39,
    "start_time": "2021-11-27T05:35:34.729Z"
   },
   {
    "duration": 7,
    "start_time": "2021-11-27T05:35:34.770Z"
   },
   {
    "duration": 11,
    "start_time": "2021-11-27T05:35:34.780Z"
   },
   {
    "duration": 41,
    "start_time": "2021-11-27T05:35:34.794Z"
   },
   {
    "duration": 32,
    "start_time": "2021-11-27T05:35:34.837Z"
   },
   {
    "duration": 5,
    "start_time": "2021-11-27T05:35:34.871Z"
   },
   {
    "duration": 11,
    "start_time": "2021-11-27T05:35:34.878Z"
   },
   {
    "duration": 49,
    "start_time": "2021-11-27T05:35:34.892Z"
   },
   {
    "duration": 1028,
    "start_time": "2021-11-27T05:35:34.943Z"
   },
   {
    "duration": 337,
    "start_time": "2021-11-27T05:35:35.973Z"
   },
   {
    "duration": 310,
    "start_time": "2021-11-27T05:35:36.312Z"
   },
   {
    "duration": 322,
    "start_time": "2021-11-27T05:35:36.628Z"
   },
   {
    "duration": 319,
    "start_time": "2021-11-27T05:35:36.952Z"
   },
   {
    "duration": 7,
    "start_time": "2021-11-27T05:35:37.273Z"
   },
   {
    "duration": 333,
    "start_time": "2021-11-27T05:35:37.282Z"
   },
   {
    "duration": 13,
    "start_time": "2021-11-27T05:35:37.617Z"
   },
   {
    "duration": 12,
    "start_time": "2021-11-27T05:35:37.632Z"
   },
   {
    "duration": 13,
    "start_time": "2021-11-27T05:35:37.649Z"
   },
   {
    "duration": 430,
    "start_time": "2021-11-27T05:35:37.665Z"
   },
   {
    "duration": 7,
    "start_time": "2021-11-27T05:35:38.097Z"
   },
   {
    "duration": 23,
    "start_time": "2021-11-27T05:35:38.107Z"
   },
   {
    "duration": 7,
    "start_time": "2021-11-27T05:35:38.133Z"
   },
   {
    "duration": 7,
    "start_time": "2021-11-27T05:35:43.472Z"
   },
   {
    "duration": 481,
    "start_time": "2021-11-27T05:36:05.448Z"
   },
   {
    "duration": 336,
    "start_time": "2021-11-27T05:36:29.872Z"
   },
   {
    "duration": 296,
    "start_time": "2021-11-27T05:45:50.803Z"
   },
   {
    "duration": 17,
    "start_time": "2021-11-27T05:51:52.203Z"
   },
   {
    "duration": 4,
    "start_time": "2021-11-27T05:52:23.924Z"
   },
   {
    "duration": 13,
    "start_time": "2021-11-27T05:54:39.471Z"
   },
   {
    "duration": 34,
    "start_time": "2021-11-27T05:54:44.912Z"
   },
   {
    "duration": 5,
    "start_time": "2021-11-27T05:55:12.286Z"
   },
   {
    "duration": 14,
    "start_time": "2021-11-27T05:55:14.846Z"
   },
   {
    "duration": 3,
    "start_time": "2021-11-27T05:55:16.150Z"
   },
   {
    "duration": 34,
    "start_time": "2021-11-27T05:55:17.008Z"
   },
   {
    "duration": 19,
    "start_time": "2021-11-27T05:56:38.109Z"
   },
   {
    "duration": 251,
    "start_time": "2021-11-27T06:04:14.284Z"
   },
   {
    "duration": 8,
    "start_time": "2021-11-27T06:12:57.044Z"
   },
   {
    "duration": 287,
    "start_time": "2021-11-27T06:13:29.277Z"
   },
   {
    "duration": 1789,
    "start_time": "2021-11-27T06:13:43.669Z"
   },
   {
    "duration": 8,
    "start_time": "2021-11-27T06:13:54.568Z"
   },
   {
    "duration": 7,
    "start_time": "2021-11-27T06:14:37.780Z"
   },
   {
    "duration": 6,
    "start_time": "2021-11-27T06:15:03.380Z"
   },
   {
    "duration": 8430,
    "start_time": "2021-11-27T06:19:00.471Z"
   },
   {
    "duration": 11,
    "start_time": "2021-11-27T08:59:37.856Z"
   },
   {
    "duration": 11,
    "start_time": "2021-11-27T08:59:47.127Z"
   },
   {
    "duration": 9,
    "start_time": "2021-11-27T09:00:08.215Z"
   },
   {
    "duration": 7,
    "start_time": "2021-11-27T09:00:46.181Z"
   },
   {
    "duration": 253,
    "start_time": "2021-11-27T09:01:03.638Z"
   },
   {
    "duration": 273,
    "start_time": "2021-11-27T09:01:11.670Z"
   },
   {
    "duration": 7,
    "start_time": "2021-11-27T09:01:55.261Z"
   },
   {
    "duration": 6,
    "start_time": "2021-11-27T09:02:13.067Z"
   },
   {
    "duration": 6,
    "start_time": "2021-11-27T09:02:21.212Z"
   },
   {
    "duration": 243,
    "start_time": "2021-11-27T09:04:42.352Z"
   },
   {
    "duration": 94,
    "start_time": "2021-11-27T09:05:08.216Z"
   },
   {
    "duration": 250,
    "start_time": "2021-11-27T09:06:05.591Z"
   },
   {
    "duration": 272,
    "start_time": "2021-11-27T09:06:17.454Z"
   },
   {
    "duration": 7,
    "start_time": "2021-11-27T09:06:30.783Z"
   },
   {
    "duration": 6,
    "start_time": "2021-11-27T09:06:59.166Z"
   },
   {
    "duration": 264,
    "start_time": "2021-11-27T09:07:15.341Z"
   },
   {
    "duration": 261,
    "start_time": "2021-11-27T09:07:26.293Z"
   },
   {
    "duration": 270,
    "start_time": "2021-11-27T09:08:23.485Z"
   },
   {
    "duration": 7,
    "start_time": "2021-11-27T09:08:39.741Z"
   },
   {
    "duration": 5,
    "start_time": "2021-11-27T09:11:34.785Z"
   },
   {
    "duration": 5,
    "start_time": "2021-11-27T09:11:52.728Z"
   },
   {
    "duration": 294,
    "start_time": "2021-11-27T09:12:13.863Z"
   },
   {
    "duration": 7389,
    "start_time": "2021-11-27T09:13:23.798Z"
   },
   {
    "duration": 275,
    "start_time": "2021-11-27T09:13:46.390Z"
   },
   {
    "duration": 6,
    "start_time": "2021-11-27T09:13:55.406Z"
   },
   {
    "duration": 286,
    "start_time": "2021-11-27T09:19:39.158Z"
   },
   {
    "duration": 257,
    "start_time": "2021-11-27T09:20:28.285Z"
   },
   {
    "duration": 5,
    "start_time": "2021-11-27T09:20:43.580Z"
   },
   {
    "duration": 6,
    "start_time": "2021-11-27T09:21:01.965Z"
   },
   {
    "duration": 8,
    "start_time": "2021-11-27T09:21:20.627Z"
   },
   {
    "duration": 246,
    "start_time": "2021-11-27T09:21:46.675Z"
   },
   {
    "duration": 300,
    "start_time": "2021-11-27T09:22:29.451Z"
   },
   {
    "duration": 244,
    "start_time": "2021-11-27T09:23:36.913Z"
   },
   {
    "duration": 226,
    "start_time": "2021-11-27T09:24:10.056Z"
   },
   {
    "duration": 4,
    "start_time": "2021-11-27T09:25:38.926Z"
   },
   {
    "duration": 5,
    "start_time": "2021-11-27T09:25:50.597Z"
   },
   {
    "duration": 296,
    "start_time": "2021-11-27T09:27:04.301Z"
   },
   {
    "duration": 6,
    "start_time": "2021-11-27T09:27:39.012Z"
   },
   {
    "duration": 244,
    "start_time": "2021-11-27T09:29:22.506Z"
   },
   {
    "duration": 273,
    "start_time": "2021-11-27T09:29:31.474Z"
   },
   {
    "duration": 240,
    "start_time": "2021-11-27T09:37:06.724Z"
   },
   {
    "duration": 8,
    "start_time": "2021-11-27T09:38:05.013Z"
   },
   {
    "duration": 9,
    "start_time": "2021-11-27T09:38:11.925Z"
   },
   {
    "duration": 6,
    "start_time": "2021-11-27T09:38:30.878Z"
   },
   {
    "duration": 8,
    "start_time": "2021-11-27T10:32:08.478Z"
   },
   {
    "duration": 78,
    "start_time": "2021-11-27T10:33:15.124Z"
   },
   {
    "duration": 8,
    "start_time": "2021-11-27T10:33:51.149Z"
   },
   {
    "duration": 93,
    "start_time": "2021-11-27T10:33:54.558Z"
   },
   {
    "duration": 254,
    "start_time": "2021-11-27T10:34:04.285Z"
   },
   {
    "duration": 241,
    "start_time": "2021-11-27T10:34:18.965Z"
   },
   {
    "duration": 82,
    "start_time": "2021-11-27T10:34:38.317Z"
   },
   {
    "duration": 15,
    "start_time": "2021-11-27T10:35:21.907Z"
   },
   {
    "duration": 267,
    "start_time": "2021-11-27T10:36:05.903Z"
   },
   {
    "duration": 41,
    "start_time": "2021-11-27T10:36:25.251Z"
   },
   {
    "duration": 70,
    "start_time": "2021-11-27T10:37:11.065Z"
   },
   {
    "duration": 15,
    "start_time": "2021-11-27T10:37:50.178Z"
   },
   {
    "duration": 15,
    "start_time": "2021-11-27T10:38:13.319Z"
   },
   {
    "duration": 15,
    "start_time": "2021-11-27T10:38:24.655Z"
   },
   {
    "duration": 16,
    "start_time": "2021-11-27T10:38:30.887Z"
   },
   {
    "duration": 8,
    "start_time": "2021-11-27T10:38:48.495Z"
   },
   {
    "duration": 14,
    "start_time": "2021-11-27T11:47:05.508Z"
   },
   {
    "duration": 26,
    "start_time": "2021-11-27T11:56:41.963Z"
   },
   {
    "duration": 25,
    "start_time": "2021-11-27T11:58:43.014Z"
   },
   {
    "duration": 7,
    "start_time": "2021-11-27T12:00:02.460Z"
   },
   {
    "duration": 260,
    "start_time": "2021-11-27T12:00:30.739Z"
   },
   {
    "duration": 6200,
    "start_time": "2021-11-27T12:01:43.290Z"
   },
   {
    "duration": 6173,
    "start_time": "2021-11-27T12:02:20.289Z"
   },
   {
    "duration": 296,
    "start_time": "2021-11-27T12:02:56.401Z"
   },
   {
    "duration": 6,
    "start_time": "2021-11-27T12:03:21.416Z"
   },
   {
    "duration": 3983,
    "start_time": "2021-11-27T12:03:57.047Z"
   },
   {
    "duration": 6,
    "start_time": "2021-11-27T12:04:45.303Z"
   },
   {
    "duration": 287,
    "start_time": "2021-11-27T12:06:05.140Z"
   },
   {
    "duration": 6642,
    "start_time": "2021-11-27T12:06:12.060Z"
   },
   {
    "duration": 78,
    "start_time": "2021-11-27T12:10:52.613Z"
   },
   {
    "duration": 76,
    "start_time": "2021-11-27T12:11:25.422Z"
   },
   {
    "duration": 81,
    "start_time": "2021-11-27T12:11:37.638Z"
   },
   {
    "duration": 21,
    "start_time": "2021-11-27T12:12:30.261Z"
   },
   {
    "duration": 18,
    "start_time": "2021-11-27T12:13:00.259Z"
   },
   {
    "duration": 24,
    "start_time": "2021-11-27T12:13:29.363Z"
   },
   {
    "duration": 20,
    "start_time": "2021-11-27T13:47:32.113Z"
   },
   {
    "duration": 309,
    "start_time": "2021-11-27T17:59:22.183Z"
   },
   {
    "duration": 847,
    "start_time": "2021-11-27T17:59:29.298Z"
   },
   {
    "duration": 26,
    "start_time": "2021-11-27T17:59:30.148Z"
   },
   {
    "duration": 32,
    "start_time": "2021-11-27T17:59:30.177Z"
   },
   {
    "duration": 28,
    "start_time": "2021-11-27T17:59:30.212Z"
   },
   {
    "duration": 5,
    "start_time": "2021-11-27T17:59:30.243Z"
   },
   {
    "duration": 30,
    "start_time": "2021-11-27T17:59:30.251Z"
   },
   {
    "duration": 29,
    "start_time": "2021-11-27T17:59:30.283Z"
   },
   {
    "duration": 76,
    "start_time": "2021-11-27T17:59:30.315Z"
   },
   {
    "duration": 11,
    "start_time": "2021-11-27T17:59:30.397Z"
   },
   {
    "duration": 57,
    "start_time": "2021-11-27T17:59:30.411Z"
   },
   {
    "duration": 30,
    "start_time": "2021-11-27T17:59:30.470Z"
   },
   {
    "duration": 36,
    "start_time": "2021-11-27T17:59:30.502Z"
   },
   {
    "duration": 29,
    "start_time": "2021-11-27T17:59:30.540Z"
   },
   {
    "duration": 40,
    "start_time": "2021-11-27T17:59:30.572Z"
   },
   {
    "duration": 5,
    "start_time": "2021-11-27T17:59:30.614Z"
   },
   {
    "duration": 36,
    "start_time": "2021-11-27T17:59:30.622Z"
   },
   {
    "duration": 34,
    "start_time": "2021-11-27T17:59:30.660Z"
   },
   {
    "duration": 941,
    "start_time": "2021-11-27T17:59:30.696Z"
   },
   {
    "duration": 374,
    "start_time": "2021-11-27T17:59:31.639Z"
   },
   {
    "duration": 344,
    "start_time": "2021-11-27T17:59:32.016Z"
   },
   {
    "duration": 341,
    "start_time": "2021-11-27T17:59:32.362Z"
   },
   {
    "duration": 326,
    "start_time": "2021-11-27T17:59:32.705Z"
   },
   {
    "duration": 7,
    "start_time": "2021-11-27T17:59:33.034Z"
   },
   {
    "duration": 358,
    "start_time": "2021-11-27T17:59:33.043Z"
   },
   {
    "duration": 6,
    "start_time": "2021-11-27T17:59:33.404Z"
   },
   {
    "duration": 10,
    "start_time": "2021-11-27T17:59:33.412Z"
   },
   {
    "duration": 46,
    "start_time": "2021-11-27T17:59:33.428Z"
   },
   {
    "duration": 498,
    "start_time": "2021-11-27T17:59:33.478Z"
   },
   {
    "duration": 8,
    "start_time": "2021-11-27T17:59:33.980Z"
   },
   {
    "duration": 10,
    "start_time": "2021-11-27T17:59:33.991Z"
   },
   {
    "duration": 14,
    "start_time": "2021-11-27T17:59:34.003Z"
   },
   {
    "duration": 4,
    "start_time": "2021-11-27T17:59:34.019Z"
   },
   {
    "duration": 55,
    "start_time": "2021-11-27T17:59:34.025Z"
   },
   {
    "duration": 7,
    "start_time": "2021-11-27T17:59:34.082Z"
   },
   {
    "duration": 12,
    "start_time": "2021-11-27T17:59:34.091Z"
   },
   {
    "duration": 7,
    "start_time": "2021-11-27T17:59:34.105Z"
   },
   {
    "duration": 8,
    "start_time": "2021-11-27T17:59:34.115Z"
   },
   {
    "duration": 46,
    "start_time": "2021-11-27T17:59:34.125Z"
   },
   {
    "duration": 36,
    "start_time": "2021-11-27T17:59:34.173Z"
   },
   {
    "duration": 21,
    "start_time": "2021-11-27T17:59:34.212Z"
   },
   {
    "duration": 40,
    "start_time": "2021-11-27T17:59:34.235Z"
   },
   {
    "duration": 16,
    "start_time": "2021-11-27T17:59:34.278Z"
   },
   {
    "duration": 104,
    "start_time": "2021-11-27T17:59:41.020Z"
   },
   {
    "duration": 51,
    "start_time": "2021-11-27T17:59:41.127Z"
   },
   {
    "duration": 17,
    "start_time": "2021-11-27T17:59:41.182Z"
   },
   {
    "duration": 13,
    "start_time": "2021-11-27T17:59:41.203Z"
   },
   {
    "duration": 51,
    "start_time": "2021-11-27T17:59:41.219Z"
   },
   {
    "duration": 14,
    "start_time": "2021-11-27T17:59:41.273Z"
   },
   {
    "duration": 15,
    "start_time": "2021-11-27T17:59:41.290Z"
   },
   {
    "duration": 72,
    "start_time": "2021-11-27T17:59:41.308Z"
   },
   {
    "duration": 19,
    "start_time": "2021-11-27T17:59:41.384Z"
   },
   {
    "duration": 39,
    "start_time": "2021-11-27T17:59:41.405Z"
   },
   {
    "duration": 21,
    "start_time": "2021-11-27T17:59:41.446Z"
   },
   {
    "duration": 11,
    "start_time": "2021-11-27T17:59:41.469Z"
   },
   {
    "duration": 22,
    "start_time": "2021-11-27T17:59:41.482Z"
   },
   {
    "duration": 27,
    "start_time": "2021-11-27T17:59:41.506Z"
   },
   {
    "duration": 5,
    "start_time": "2021-11-27T17:59:41.535Z"
   },
   {
    "duration": 30,
    "start_time": "2021-11-27T17:59:41.542Z"
   },
   {
    "duration": 19,
    "start_time": "2021-11-27T17:59:41.574Z"
   },
   {
    "duration": 984,
    "start_time": "2021-11-27T17:59:41.595Z"
   },
   {
    "duration": 303,
    "start_time": "2021-11-27T17:59:42.582Z"
   },
   {
    "duration": 427,
    "start_time": "2021-11-27T17:59:42.888Z"
   },
   {
    "duration": 406,
    "start_time": "2021-11-27T17:59:43.317Z"
   },
   {
    "duration": 320,
    "start_time": "2021-11-27T17:59:43.726Z"
   },
   {
    "duration": 16,
    "start_time": "2021-11-27T17:59:44.053Z"
   },
   {
    "duration": 348,
    "start_time": "2021-11-27T17:59:44.072Z"
   },
   {
    "duration": 6,
    "start_time": "2021-11-27T17:59:44.422Z"
   },
   {
    "duration": 17,
    "start_time": "2021-11-27T17:59:44.431Z"
   },
   {
    "duration": 12,
    "start_time": "2021-11-27T17:59:44.466Z"
   },
   {
    "duration": 430,
    "start_time": "2021-11-27T17:59:44.480Z"
   },
   {
    "duration": 7,
    "start_time": "2021-11-27T17:59:44.912Z"
   },
   {
    "duration": 7,
    "start_time": "2021-11-27T17:59:44.922Z"
   },
   {
    "duration": 37,
    "start_time": "2021-11-27T17:59:44.931Z"
   },
   {
    "duration": 4,
    "start_time": "2021-11-27T17:59:44.971Z"
   },
   {
    "duration": 22,
    "start_time": "2021-11-27T17:59:44.977Z"
   },
   {
    "duration": 6,
    "start_time": "2021-11-27T17:59:45.003Z"
   },
   {
    "duration": 15,
    "start_time": "2021-11-27T17:59:45.013Z"
   },
   {
    "duration": 8,
    "start_time": "2021-11-27T17:59:45.067Z"
   },
   {
    "duration": 8,
    "start_time": "2021-11-27T17:59:45.077Z"
   },
   {
    "duration": 10,
    "start_time": "2021-11-27T17:59:45.087Z"
   },
   {
    "duration": 31,
    "start_time": "2021-11-27T17:59:45.100Z"
   },
   {
    "duration": 22,
    "start_time": "2021-11-27T17:59:45.168Z"
   },
   {
    "duration": 17,
    "start_time": "2021-11-27T17:59:45.193Z"
   },
   {
    "duration": 16,
    "start_time": "2021-11-27T17:59:45.212Z"
   },
   {
    "duration": 18,
    "start_time": "2021-11-27T17:59:56.337Z"
   },
   {
    "duration": 59,
    "start_time": "2021-11-27T17:59:58.289Z"
   },
   {
    "duration": 14,
    "start_time": "2021-11-27T18:04:17.772Z"
   },
   {
    "duration": 16,
    "start_time": "2021-11-27T18:04:47.922Z"
   },
   {
    "duration": 16,
    "start_time": "2021-11-27T18:07:47.767Z"
   },
   {
    "duration": 15,
    "start_time": "2021-11-27T18:08:01.639Z"
   },
   {
    "duration": 12,
    "start_time": "2021-11-27T18:13:20.600Z"
   },
   {
    "duration": 18,
    "start_time": "2021-11-27T18:19:51.551Z"
   },
   {
    "duration": 14,
    "start_time": "2021-11-27T18:20:17.391Z"
   },
   {
    "duration": 23,
    "start_time": "2021-11-27T18:21:34.390Z"
   },
   {
    "duration": 22,
    "start_time": "2021-11-27T18:22:19.436Z"
   },
   {
    "duration": 22,
    "start_time": "2021-11-27T18:22:34.580Z"
   },
   {
    "duration": 310,
    "start_time": "2021-11-27T18:36:09.538Z"
   },
   {
    "duration": 10,
    "start_time": "2021-11-27T18:44:08.681Z"
   },
   {
    "duration": 17,
    "start_time": "2021-11-27T18:44:10.896Z"
   },
   {
    "duration": 296,
    "start_time": "2021-11-27T18:44:49.807Z"
   },
   {
    "duration": 266,
    "start_time": "2021-11-27T18:55:24.608Z"
   },
   {
    "duration": 10,
    "start_time": "2021-11-27T18:55:34.224Z"
   },
   {
    "duration": 17,
    "start_time": "2021-11-27T18:55:35.999Z"
   },
   {
    "duration": 280,
    "start_time": "2021-11-27T18:55:38.552Z"
   },
   {
    "duration": 280,
    "start_time": "2021-11-27T18:55:48.439Z"
   },
   {
    "duration": 255,
    "start_time": "2021-11-27T18:56:56.838Z"
   },
   {
    "duration": 272,
    "start_time": "2021-11-27T18:57:57.940Z"
   },
   {
    "duration": 5,
    "start_time": "2021-11-27T18:58:09.108Z"
   },
   {
    "duration": 4,
    "start_time": "2021-11-27T18:58:28.643Z"
   },
   {
    "duration": 19,
    "start_time": "2021-11-27T18:59:57.265Z"
   },
   {
    "duration": 12,
    "start_time": "2021-11-27T19:00:23.505Z"
   },
   {
    "duration": 12,
    "start_time": "2021-11-27T19:00:33.841Z"
   },
   {
    "duration": 394,
    "start_time": "2021-11-27T19:01:34.576Z"
   },
   {
    "duration": 8,
    "start_time": "2021-11-27T19:03:28.572Z"
   },
   {
    "duration": 9,
    "start_time": "2021-11-27T19:03:42.377Z"
   },
   {
    "duration": 6588,
    "start_time": "2021-11-27T19:04:27.588Z"
   },
   {
    "duration": 119,
    "start_time": "2021-11-27T19:04:40.061Z"
   },
   {
    "duration": 20,
    "start_time": "2021-11-27T19:04:40.183Z"
   },
   {
    "duration": 16,
    "start_time": "2021-11-27T19:04:40.207Z"
   },
   {
    "duration": 51,
    "start_time": "2021-11-27T19:04:40.226Z"
   },
   {
    "duration": 4,
    "start_time": "2021-11-27T19:04:40.279Z"
   },
   {
    "duration": 16,
    "start_time": "2021-11-27T19:04:40.286Z"
   },
   {
    "duration": 15,
    "start_time": "2021-11-27T19:04:40.305Z"
   },
   {
    "duration": 76,
    "start_time": "2021-11-27T19:04:40.324Z"
   },
   {
    "duration": 12,
    "start_time": "2021-11-27T19:04:40.404Z"
   },
   {
    "duration": 63,
    "start_time": "2021-11-27T19:04:40.418Z"
   },
   {
    "duration": 5,
    "start_time": "2021-11-27T19:04:40.484Z"
   },
   {
    "duration": 9,
    "start_time": "2021-11-27T19:04:40.492Z"
   },
   {
    "duration": 24,
    "start_time": "2021-11-27T19:04:40.503Z"
   },
   {
    "duration": 55,
    "start_time": "2021-11-27T19:04:40.530Z"
   },
   {
    "duration": 5,
    "start_time": "2021-11-27T19:04:40.587Z"
   },
   {
    "duration": 7,
    "start_time": "2021-11-27T19:04:40.595Z"
   },
   {
    "duration": 21,
    "start_time": "2021-11-27T19:04:40.604Z"
   },
   {
    "duration": 1019,
    "start_time": "2021-11-27T19:04:40.628Z"
   },
   {
    "duration": 313,
    "start_time": "2021-11-27T19:04:41.650Z"
   },
   {
    "duration": 330,
    "start_time": "2021-11-27T19:04:41.968Z"
   },
   {
    "duration": 416,
    "start_time": "2021-11-27T19:04:42.300Z"
   },
   {
    "duration": 320,
    "start_time": "2021-11-27T19:04:42.719Z"
   },
   {
    "duration": 7,
    "start_time": "2021-11-27T19:04:43.044Z"
   },
   {
    "duration": 332,
    "start_time": "2021-11-27T19:04:43.067Z"
   },
   {
    "duration": 6,
    "start_time": "2021-11-27T19:04:43.402Z"
   },
   {
    "duration": 7,
    "start_time": "2021-11-27T19:04:43.410Z"
   },
   {
    "duration": 12,
    "start_time": "2021-11-27T19:04:43.419Z"
   },
   {
    "duration": 433,
    "start_time": "2021-11-27T19:04:43.467Z"
   },
   {
    "duration": 7,
    "start_time": "2021-11-27T19:04:43.903Z"
   },
   {
    "duration": 7,
    "start_time": "2021-11-27T19:04:43.912Z"
   },
   {
    "duration": 7,
    "start_time": "2021-11-27T19:04:43.922Z"
   },
   {
    "duration": 6,
    "start_time": "2021-11-27T19:04:43.968Z"
   },
   {
    "duration": 22,
    "start_time": "2021-11-27T19:04:43.977Z"
   },
   {
    "duration": 7,
    "start_time": "2021-11-27T19:04:44.001Z"
   },
   {
    "duration": 6,
    "start_time": "2021-11-27T19:04:44.011Z"
   },
   {
    "duration": 51,
    "start_time": "2021-11-27T19:04:44.020Z"
   },
   {
    "duration": 10,
    "start_time": "2021-11-27T19:04:44.074Z"
   },
   {
    "duration": 11,
    "start_time": "2021-11-27T19:04:44.087Z"
   },
   {
    "duration": 34,
    "start_time": "2021-11-27T19:04:44.100Z"
   },
   {
    "duration": 23,
    "start_time": "2021-11-27T19:04:44.166Z"
   },
   {
    "duration": 17,
    "start_time": "2021-11-27T19:04:44.192Z"
   },
   {
    "duration": 17,
    "start_time": "2021-11-27T19:04:44.212Z"
   },
   {
    "duration": 43,
    "start_time": "2021-11-27T19:04:44.231Z"
   },
   {
    "duration": 16,
    "start_time": "2021-11-27T19:04:44.277Z"
   },
   {
    "duration": 4,
    "start_time": "2021-11-27T19:04:44.295Z"
   },
   {
    "duration": 6,
    "start_time": "2021-11-27T19:04:44.302Z"
   },
   {
    "duration": 10,
    "start_time": "2021-11-27T19:04:44.311Z"
   },
   {
    "duration": 45,
    "start_time": "2021-11-27T19:04:44.323Z"
   },
   {
    "duration": 8116,
    "start_time": "2021-11-27T19:04:44.371Z"
   },
   {
    "duration": 730,
    "start_time": "2021-11-27T19:05:24.266Z"
   },
   {
    "duration": 13,
    "start_time": "2021-11-27T19:06:05.241Z"
   },
   {
    "duration": 732,
    "start_time": "2021-11-27T19:08:06.335Z"
   },
   {
    "duration": 774,
    "start_time": "2021-11-27T19:10:24.507Z"
   },
   {
    "duration": 303,
    "start_time": "2021-11-27T19:11:38.514Z"
   },
   {
    "duration": 280,
    "start_time": "2021-11-27T19:11:48.602Z"
   },
   {
    "duration": 1504,
    "start_time": "2021-11-27T19:12:07.841Z"
   },
   {
    "duration": 399,
    "start_time": "2021-11-27T19:12:23.368Z"
   },
   {
    "duration": 285,
    "start_time": "2021-11-27T19:12:32.120Z"
   },
   {
    "duration": 298,
    "start_time": "2021-11-27T19:12:41.200Z"
   },
   {
    "duration": 283,
    "start_time": "2021-11-27T19:12:51.208Z"
   },
   {
    "duration": 310,
    "start_time": "2021-11-27T19:13:00.704Z"
   },
   {
    "duration": 345,
    "start_time": "2021-11-27T19:13:10.016Z"
   },
   {
    "duration": 1604,
    "start_time": "2021-11-27T19:13:19.416Z"
   },
   {
    "duration": 11,
    "start_time": "2021-11-27T19:13:54.494Z"
   },
   {
    "duration": 636,
    "start_time": "2021-11-27T19:14:10.263Z"
   },
   {
    "duration": 771,
    "start_time": "2021-11-27T19:14:36.878Z"
   },
   {
    "duration": 1446,
    "start_time": "2021-11-27T19:15:07.526Z"
   },
   {
    "duration": 712,
    "start_time": "2021-11-28T07:21:22.577Z"
   },
   {
    "duration": 14,
    "start_time": "2021-11-28T07:21:23.291Z"
   },
   {
    "duration": 13,
    "start_time": "2021-11-28T07:21:23.307Z"
   },
   {
    "duration": 14,
    "start_time": "2021-11-28T07:21:23.322Z"
   },
   {
    "duration": 4,
    "start_time": "2021-11-28T07:21:23.338Z"
   },
   {
    "duration": 10,
    "start_time": "2021-11-28T07:21:23.343Z"
   },
   {
    "duration": 12,
    "start_time": "2021-11-28T07:21:23.355Z"
   },
   {
    "duration": 25,
    "start_time": "2021-11-28T07:21:23.409Z"
   },
   {
    "duration": 10,
    "start_time": "2021-11-28T07:21:23.437Z"
   },
   {
    "duration": 23,
    "start_time": "2021-11-28T07:21:23.448Z"
   },
   {
    "duration": 36,
    "start_time": "2021-11-28T07:21:23.473Z"
   },
   {
    "duration": 6,
    "start_time": "2021-11-28T07:21:23.511Z"
   },
   {
    "duration": 17,
    "start_time": "2021-11-28T07:21:23.519Z"
   },
   {
    "duration": 25,
    "start_time": "2021-11-28T07:21:23.538Z"
   },
   {
    "duration": 5,
    "start_time": "2021-11-28T07:21:23.565Z"
   },
   {
    "duration": 35,
    "start_time": "2021-11-28T07:21:23.572Z"
   },
   {
    "duration": 17,
    "start_time": "2021-11-28T07:21:23.609Z"
   },
   {
    "duration": 561,
    "start_time": "2021-11-28T07:21:23.628Z"
   },
   {
    "duration": 220,
    "start_time": "2021-11-28T07:21:24.191Z"
   },
   {
    "duration": 193,
    "start_time": "2021-11-28T07:21:24.413Z"
   },
   {
    "duration": 189,
    "start_time": "2021-11-28T07:21:24.608Z"
   },
   {
    "duration": 189,
    "start_time": "2021-11-28T07:21:24.798Z"
   },
   {
    "duration": 5,
    "start_time": "2021-11-28T07:21:24.990Z"
   },
   {
    "duration": 205,
    "start_time": "2021-11-28T07:21:24.997Z"
   },
   {
    "duration": 5,
    "start_time": "2021-11-28T07:21:25.204Z"
   },
   {
    "duration": 9,
    "start_time": "2021-11-28T07:21:25.211Z"
   },
   {
    "duration": 10,
    "start_time": "2021-11-28T07:21:25.221Z"
   },
   {
    "duration": 261,
    "start_time": "2021-11-28T07:21:25.232Z"
   },
   {
    "duration": 12,
    "start_time": "2021-11-28T07:21:25.495Z"
   },
   {
    "duration": 5,
    "start_time": "2021-11-28T07:21:25.509Z"
   },
   {
    "duration": 5,
    "start_time": "2021-11-28T07:21:25.515Z"
   },
   {
    "duration": 4,
    "start_time": "2021-11-28T07:21:25.522Z"
   },
   {
    "duration": 13,
    "start_time": "2021-11-28T07:21:25.527Z"
   },
   {
    "duration": 4,
    "start_time": "2021-11-28T07:21:25.542Z"
   },
   {
    "duration": 4,
    "start_time": "2021-11-28T07:21:25.548Z"
   },
   {
    "duration": 13,
    "start_time": "2021-11-28T07:21:25.553Z"
   },
   {
    "duration": 41,
    "start_time": "2021-11-28T07:21:25.568Z"
   },
   {
    "duration": 5,
    "start_time": "2021-11-28T07:21:25.610Z"
   },
   {
    "duration": 25,
    "start_time": "2021-11-28T07:21:25.617Z"
   },
   {
    "duration": 15,
    "start_time": "2021-11-28T07:21:25.644Z"
   },
   {
    "duration": 11,
    "start_time": "2021-11-28T07:21:25.660Z"
   },
   {
    "duration": 11,
    "start_time": "2021-11-28T07:21:32.690Z"
   },
   {
    "duration": 12,
    "start_time": "2021-11-28T07:24:22.846Z"
   },
   {
    "duration": 9,
    "start_time": "2021-11-28T07:42:30.901Z"
   },
   {
    "duration": 19,
    "start_time": "2021-11-28T07:43:56.412Z"
   },
   {
    "duration": 723,
    "start_time": "2021-11-28T07:46:30.696Z"
   },
   {
    "duration": 647,
    "start_time": "2021-11-28T07:47:48.494Z"
   },
   {
    "duration": 9,
    "start_time": "2021-11-28T07:55:56.309Z"
   },
   {
    "duration": 15,
    "start_time": "2021-11-28T07:55:59.428Z"
   },
   {
    "duration": 692,
    "start_time": "2021-11-28T07:56:00.789Z"
   },
   {
    "duration": 900,
    "start_time": "2021-11-28T07:56:08.317Z"
   },
   {
    "duration": 6,
    "start_time": "2021-11-28T07:57:07.051Z"
   },
   {
    "duration": 8,
    "start_time": "2021-11-28T08:00:30.735Z"
   },
   {
    "duration": 13,
    "start_time": "2021-11-28T08:01:23.566Z"
   },
   {
    "duration": 3,
    "start_time": "2021-11-28T08:02:33.804Z"
   },
   {
    "duration": 3,
    "start_time": "2021-11-28T08:02:35.980Z"
   },
   {
    "duration": 3,
    "start_time": "2021-11-28T08:02:36.436Z"
   },
   {
    "duration": 5,
    "start_time": "2021-11-28T08:05:02.210Z"
   },
   {
    "duration": 11,
    "start_time": "2021-11-28T08:05:19.633Z"
   },
   {
    "duration": 4,
    "start_time": "2021-11-28T08:10:09.820Z"
   },
   {
    "duration": 10,
    "start_time": "2021-11-28T08:10:25.172Z"
   },
   {
    "duration": 902,
    "start_time": "2021-11-28T08:11:14.698Z"
   },
   {
    "duration": 965,
    "start_time": "2021-11-28T08:12:11.201Z"
   },
   {
    "duration": 1217,
    "start_time": "2021-11-28T08:13:10.960Z"
   },
   {
    "duration": 5,
    "start_time": "2021-11-28T08:49:38.945Z"
   },
   {
    "duration": 2504,
    "start_time": "2021-11-28T09:02:05.315Z"
   },
   {
    "duration": 16,
    "start_time": "2021-11-28T09:03:05.997Z"
   },
   {
    "duration": 40,
    "start_time": "2021-11-28T09:03:32.038Z"
   },
   {
    "duration": 41,
    "start_time": "2021-11-28T09:04:53.381Z"
   },
   {
    "duration": 40,
    "start_time": "2021-11-28T09:06:25.330Z"
   },
   {
    "duration": 19,
    "start_time": "2021-11-28T09:08:53.856Z"
   },
   {
    "duration": 6,
    "start_time": "2021-11-28T09:30:12.818Z"
   },
   {
    "duration": 6,
    "start_time": "2021-11-28T09:30:14.153Z"
   },
   {
    "duration": 5,
    "start_time": "2021-11-28T09:30:15.530Z"
   },
   {
    "duration": 9370,
    "start_time": "2021-11-28T09:30:16.890Z"
   },
   {
    "duration": 356,
    "start_time": "2021-11-28T09:51:48.079Z"
   },
   {
    "duration": 26,
    "start_time": "2021-11-28T09:52:04.564Z"
   },
   {
    "duration": 13,
    "start_time": "2021-11-28T09:55:59.113Z"
   },
   {
    "duration": 15,
    "start_time": "2021-11-28T09:56:12.663Z"
   },
   {
    "duration": 5,
    "start_time": "2021-11-28T09:58:18.948Z"
   },
   {
    "duration": 5,
    "start_time": "2021-11-28T09:58:48.980Z"
   },
   {
    "duration": 4,
    "start_time": "2021-11-28T09:59:17.419Z"
   },
   {
    "duration": 9,
    "start_time": "2021-11-28T09:59:52.003Z"
   },
   {
    "duration": 9,
    "start_time": "2021-11-28T10:02:04.200Z"
   },
   {
    "duration": 9,
    "start_time": "2021-11-28T10:02:08.208Z"
   },
   {
    "duration": 4,
    "start_time": "2021-11-28T10:02:48.207Z"
   },
   {
    "duration": 9,
    "start_time": "2021-11-28T10:02:53.511Z"
   },
   {
    "duration": 11,
    "start_time": "2021-11-28T10:03:53.821Z"
   },
   {
    "duration": 5,
    "start_time": "2021-11-28T10:04:19.917Z"
   },
   {
    "duration": 8,
    "start_time": "2021-11-28T10:32:48.880Z"
   },
   {
    "duration": 17,
    "start_time": "2021-11-28T10:34:08.396Z"
   },
   {
    "duration": 8,
    "start_time": "2021-11-28T10:34:18.586Z"
   },
   {
    "duration": 12,
    "start_time": "2021-11-28T10:38:32.903Z"
   },
   {
    "duration": 8,
    "start_time": "2021-11-28T10:38:34.054Z"
   },
   {
    "duration": 11,
    "start_time": "2021-11-28T10:38:36.830Z"
   },
   {
    "duration": 8,
    "start_time": "2021-11-28T10:38:37.759Z"
   },
   {
    "duration": 13,
    "start_time": "2021-11-28T10:38:40.158Z"
   },
   {
    "duration": 8,
    "start_time": "2021-11-28T10:38:41.222Z"
   },
   {
    "duration": 13,
    "start_time": "2021-11-28T11:18:50.523Z"
   },
   {
    "duration": 15,
    "start_time": "2021-11-28T11:19:14.601Z"
   },
   {
    "duration": 13,
    "start_time": "2021-11-28T11:19:40.098Z"
   },
   {
    "duration": 13,
    "start_time": "2021-11-28T11:21:14.688Z"
   },
   {
    "duration": 11,
    "start_time": "2021-11-28T11:21:15.807Z"
   },
   {
    "duration": 15,
    "start_time": "2021-11-28T12:15:13.219Z"
   },
   {
    "duration": 10,
    "start_time": "2021-11-28T12:15:17.489Z"
   },
   {
    "duration": 5,
    "start_time": "2021-11-28T12:16:13.268Z"
   },
   {
    "duration": 5,
    "start_time": "2021-11-28T12:17:58.402Z"
   },
   {
    "duration": 37,
    "start_time": "2021-11-28T12:25:18.424Z"
   },
   {
    "duration": 6,
    "start_time": "2021-11-28T12:26:10.930Z"
   },
   {
    "duration": 36,
    "start_time": "2021-11-28T12:31:10.793Z"
   },
   {
    "duration": 1278,
    "start_time": "2021-11-28T12:35:34.228Z"
   },
   {
    "duration": 1849,
    "start_time": "2021-11-28T12:35:51.643Z"
   },
   {
    "duration": 13,
    "start_time": "2021-11-28T12:36:20.988Z"
   },
   {
    "duration": 5,
    "start_time": "2021-11-28T12:36:43.019Z"
   },
   {
    "duration": 6,
    "start_time": "2021-11-28T12:37:58.057Z"
   },
   {
    "duration": 7,
    "start_time": "2021-11-28T12:38:27.392Z"
   },
   {
    "duration": 12121,
    "start_time": "2021-11-28T12:39:32.639Z"
   },
   {
    "duration": 382,
    "start_time": "2021-11-28T12:41:36.149Z"
   },
   {
    "duration": 13,
    "start_time": "2021-11-28T12:41:54.741Z"
   },
   {
    "duration": 11,
    "start_time": "2021-11-28T12:41:57.869Z"
   },
   {
    "duration": 7,
    "start_time": "2021-11-28T12:42:07.308Z"
   },
   {
    "duration": 346,
    "start_time": "2021-11-28T12:47:28.188Z"
   },
   {
    "duration": 11,
    "start_time": "2021-11-28T12:47:35.917Z"
   },
   {
    "duration": 1851,
    "start_time": "2021-11-30T11:46:55.302Z"
   },
   {
    "duration": 913,
    "start_time": "2021-11-30T11:47:00.975Z"
   },
   {
    "duration": 21,
    "start_time": "2021-11-30T11:47:01.891Z"
   },
   {
    "duration": 21,
    "start_time": "2021-11-30T11:47:01.915Z"
   },
   {
    "duration": 32,
    "start_time": "2021-11-30T11:47:01.938Z"
   },
   {
    "duration": 6,
    "start_time": "2021-11-30T11:47:01.972Z"
   },
   {
    "duration": 17,
    "start_time": "2021-11-30T11:47:01.981Z"
   },
   {
    "duration": 26,
    "start_time": "2021-11-30T11:47:02.001Z"
   },
   {
    "duration": 60,
    "start_time": "2021-11-30T11:47:02.029Z"
   },
   {
    "duration": 12,
    "start_time": "2021-11-30T11:47:02.093Z"
   },
   {
    "duration": 57,
    "start_time": "2021-11-30T11:47:02.107Z"
   },
   {
    "duration": 16,
    "start_time": "2021-11-30T11:47:02.166Z"
   },
   {
    "duration": 18,
    "start_time": "2021-11-30T11:47:02.184Z"
   },
   {
    "duration": 18,
    "start_time": "2021-11-30T11:47:02.204Z"
   },
   {
    "duration": 55,
    "start_time": "2021-11-30T11:47:02.225Z"
   },
   {
    "duration": 5,
    "start_time": "2021-11-30T11:47:02.282Z"
   },
   {
    "duration": 9,
    "start_time": "2021-11-30T11:47:02.289Z"
   },
   {
    "duration": 53,
    "start_time": "2021-11-30T11:47:02.300Z"
   },
   {
    "duration": 17,
    "start_time": "2021-11-30T11:47:10.798Z"
   },
   {
    "duration": 16,
    "start_time": "2021-11-30T11:53:23.821Z"
   },
   {
    "duration": 11080,
    "start_time": "2021-11-30T12:00:02.527Z"
   },
   {
    "duration": 1003,
    "start_time": "2021-11-30T12:58:59.310Z"
   },
   {
    "duration": 831,
    "start_time": "2021-11-30T12:59:34.461Z"
   },
   {
    "duration": 1346,
    "start_time": "2021-11-30T12:59:53.237Z"
   },
   {
    "duration": 445,
    "start_time": "2021-11-30T13:18:30.821Z"
   },
   {
    "duration": 747,
    "start_time": "2021-11-30T13:18:52.185Z"
   },
   {
    "duration": 3,
    "start_time": "2021-11-30T13:19:39.666Z"
   },
   {
    "duration": 3,
    "start_time": "2021-11-30T13:25:48.192Z"
   },
   {
    "duration": 820,
    "start_time": "2021-11-30T13:25:56.274Z"
   },
   {
    "duration": 367,
    "start_time": "2021-11-30T13:26:15.409Z"
   },
   {
    "duration": 11110,
    "start_time": "2021-11-30T13:26:22.720Z"
   },
   {
    "duration": 667,
    "start_time": "2021-11-30T14:43:01.999Z"
   },
   {
    "duration": 856,
    "start_time": "2021-11-30T14:43:08.268Z"
   },
   {
    "duration": 21,
    "start_time": "2021-11-30T14:43:09.127Z"
   },
   {
    "duration": 15,
    "start_time": "2021-11-30T14:43:09.159Z"
   },
   {
    "duration": 19,
    "start_time": "2021-11-30T14:43:09.177Z"
   },
   {
    "duration": 5,
    "start_time": "2021-11-30T14:43:09.198Z"
   },
   {
    "duration": 16,
    "start_time": "2021-11-30T14:43:09.204Z"
   },
   {
    "duration": 50,
    "start_time": "2021-11-30T14:43:09.222Z"
   },
   {
    "duration": 34,
    "start_time": "2021-11-30T14:43:09.275Z"
   },
   {
    "duration": 12,
    "start_time": "2021-11-30T14:43:09.313Z"
   },
   {
    "duration": 63,
    "start_time": "2021-11-30T14:43:09.327Z"
   },
   {
    "duration": 5,
    "start_time": "2021-11-30T14:43:09.393Z"
   },
   {
    "duration": 12,
    "start_time": "2021-11-30T14:43:09.401Z"
   },
   {
    "duration": 43,
    "start_time": "2021-11-30T14:43:09.416Z"
   },
   {
    "duration": 32,
    "start_time": "2021-11-30T14:43:09.462Z"
   },
   {
    "duration": 4,
    "start_time": "2021-11-30T14:43:09.496Z"
   },
   {
    "duration": 8,
    "start_time": "2021-11-30T14:43:09.503Z"
   },
   {
    "duration": 48,
    "start_time": "2021-11-30T14:43:09.513Z"
   },
   {
    "duration": 16,
    "start_time": "2021-11-30T14:43:09.563Z"
   },
   {
    "duration": 911,
    "start_time": "2021-11-30T14:43:09.581Z"
   },
   {
    "duration": 322,
    "start_time": "2021-11-30T14:43:10.494Z"
   },
   {
    "duration": 322,
    "start_time": "2021-11-30T14:43:10.819Z"
   },
   {
    "duration": 333,
    "start_time": "2021-11-30T14:43:11.144Z"
   },
   {
    "duration": 410,
    "start_time": "2021-11-30T14:43:11.481Z"
   },
   {
    "duration": 7,
    "start_time": "2021-11-30T14:43:11.894Z"
   },
   {
    "duration": 333,
    "start_time": "2021-11-30T14:43:11.904Z"
   },
   {
    "duration": 5,
    "start_time": "2021-11-30T14:43:12.240Z"
   },
   {
    "duration": 17,
    "start_time": "2021-11-30T14:43:12.247Z"
   },
   {
    "duration": 15,
    "start_time": "2021-11-30T14:43:12.266Z"
   },
   {
    "duration": 416,
    "start_time": "2021-11-30T14:43:12.283Z"
   },
   {
    "duration": 437,
    "start_time": "2021-11-30T14:43:20.304Z"
   },
   {
    "duration": 503,
    "start_time": "2021-11-30T14:52:43.587Z"
   },
   {
    "duration": 407,
    "start_time": "2021-11-30T14:56:27.092Z"
   },
   {
    "duration": 1035,
    "start_time": "2021-11-30T14:57:41.226Z"
   },
   {
    "duration": 164,
    "start_time": "2021-11-30T14:57:52.617Z"
   },
   {
    "duration": 1307,
    "start_time": "2021-11-30T14:58:02.978Z"
   },
   {
    "duration": 1023,
    "start_time": "2021-11-30T14:58:12.627Z"
   },
   {
    "duration": 130,
    "start_time": "2021-11-30T14:58:20.611Z"
   },
   {
    "duration": 131,
    "start_time": "2021-11-30T14:58:59.816Z"
   },
   {
    "duration": 124,
    "start_time": "2021-11-30T14:59:12.497Z"
   },
   {
    "duration": 110,
    "start_time": "2021-11-30T14:59:56.984Z"
   },
   {
    "duration": 1183,
    "start_time": "2021-11-30T15:00:12.767Z"
   },
   {
    "duration": 1174,
    "start_time": "2021-11-30T15:00:20.272Z"
   },
   {
    "duration": 1037,
    "start_time": "2021-11-30T15:00:55.864Z"
   },
   {
    "duration": 4740,
    "start_time": "2021-11-30T15:02:26.933Z"
   },
   {
    "duration": 130,
    "start_time": "2021-11-30T15:02:49.145Z"
   },
   {
    "duration": 31,
    "start_time": "2021-11-30T15:02:49.279Z"
   },
   {
    "duration": 48,
    "start_time": "2021-11-30T15:02:49.314Z"
   },
   {
    "duration": 18,
    "start_time": "2021-11-30T15:02:49.366Z"
   },
   {
    "duration": 6,
    "start_time": "2021-11-30T15:02:49.387Z"
   },
   {
    "duration": 16,
    "start_time": "2021-11-30T15:02:49.396Z"
   },
   {
    "duration": 54,
    "start_time": "2021-11-30T15:02:49.416Z"
   },
   {
    "duration": 35,
    "start_time": "2021-11-30T15:02:49.474Z"
   },
   {
    "duration": 12,
    "start_time": "2021-11-30T15:02:49.512Z"
   },
   {
    "duration": 65,
    "start_time": "2021-11-30T15:02:49.526Z"
   },
   {
    "duration": 10,
    "start_time": "2021-11-30T15:02:49.593Z"
   },
   {
    "duration": 6,
    "start_time": "2021-11-30T15:02:49.605Z"
   },
   {
    "duration": 19,
    "start_time": "2021-11-30T15:02:49.613Z"
   },
   {
    "duration": 45,
    "start_time": "2021-11-30T15:02:49.634Z"
   },
   {
    "duration": 6,
    "start_time": "2021-11-30T15:02:49.681Z"
   },
   {
    "duration": 11,
    "start_time": "2021-11-30T15:02:49.689Z"
   },
   {
    "duration": 27,
    "start_time": "2021-11-30T15:02:49.702Z"
   },
   {
    "duration": 38,
    "start_time": "2021-11-30T15:02:49.732Z"
   },
   {
    "duration": 802,
    "start_time": "2021-11-30T15:02:49.772Z"
   },
   {
    "duration": 286,
    "start_time": "2021-11-30T15:02:50.576Z"
   },
   {
    "duration": 315,
    "start_time": "2021-11-30T15:02:50.864Z"
   },
   {
    "duration": 419,
    "start_time": "2021-11-30T15:02:51.181Z"
   },
   {
    "duration": 493,
    "start_time": "2021-11-30T15:02:51.607Z"
   },
   {
    "duration": 9,
    "start_time": "2021-11-30T15:02:52.104Z"
   },
   {
    "duration": 326,
    "start_time": "2021-11-30T15:02:52.115Z"
   },
   {
    "duration": 17,
    "start_time": "2021-11-30T15:02:52.443Z"
   },
   {
    "duration": 19,
    "start_time": "2021-11-30T15:02:52.462Z"
   },
   {
    "duration": 25,
    "start_time": "2021-11-30T15:02:52.484Z"
   },
   {
    "duration": 397,
    "start_time": "2021-11-30T15:02:52.512Z"
   },
   {
    "duration": 4459,
    "start_time": "2021-11-30T15:02:56.461Z"
   },
   {
    "duration": 392,
    "start_time": "2021-11-30T15:07:53.692Z"
   },
   {
    "duration": 642,
    "start_time": "2021-11-30T15:08:19.109Z"
   },
   {
    "duration": 698,
    "start_time": "2021-11-30T15:16:02.822Z"
   },
   {
    "duration": 420,
    "start_time": "2021-11-30T15:16:36.539Z"
   },
   {
    "duration": 425,
    "start_time": "2021-11-30T15:17:18.659Z"
   },
   {
    "duration": 1664,
    "start_time": "2021-11-30T15:18:02.936Z"
   },
   {
    "duration": 509,
    "start_time": "2021-11-30T15:19:13.824Z"
   },
   {
    "duration": 1251,
    "start_time": "2021-11-30T15:19:52.653Z"
   },
   {
    "duration": 1020,
    "start_time": "2021-11-30T15:20:00.310Z"
   },
   {
    "duration": 416,
    "start_time": "2021-11-30T15:20:36.118Z"
   },
   {
    "duration": 827,
    "start_time": "2021-11-30T15:53:13.287Z"
   },
   {
    "duration": 1102,
    "start_time": "2021-11-30T15:54:40.291Z"
   },
   {
    "duration": 184,
    "start_time": "2021-11-30T15:56:21.292Z"
   },
   {
    "duration": 1534,
    "start_time": "2021-11-30T15:56:29.763Z"
   },
   {
    "duration": 1238,
    "start_time": "2021-11-30T15:56:41.108Z"
   },
   {
    "duration": 1435,
    "start_time": "2021-11-30T16:25:15.290Z"
   },
   {
    "duration": 676,
    "start_time": "2021-11-30T16:25:53.136Z"
   },
   {
    "duration": 349,
    "start_time": "2021-11-30T16:36:25.985Z"
   },
   {
    "duration": 151,
    "start_time": "2021-11-30T16:36:38.270Z"
   },
   {
    "duration": 511,
    "start_time": "2021-11-30T16:36:47.878Z"
   },
   {
    "duration": 373,
    "start_time": "2021-11-30T16:37:03.870Z"
   },
   {
    "duration": 381,
    "start_time": "2021-11-30T16:38:54.939Z"
   },
   {
    "duration": 150,
    "start_time": "2021-11-30T16:40:56.680Z"
   },
   {
    "duration": 131,
    "start_time": "2021-11-30T16:41:03.751Z"
   },
   {
    "duration": 415,
    "start_time": "2021-11-30T16:41:10.911Z"
   },
   {
    "duration": 515,
    "start_time": "2021-11-30T16:41:22.991Z"
   },
   {
    "duration": 440,
    "start_time": "2021-11-30T16:41:34.399Z"
   },
   {
    "duration": 394,
    "start_time": "2021-11-30T16:41:45.143Z"
   },
   {
    "duration": 2404,
    "start_time": "2021-11-30T16:42:05.878Z"
   },
   {
    "duration": 534,
    "start_time": "2021-11-30T16:42:18.174Z"
   },
   {
    "duration": 875,
    "start_time": "2021-11-30T16:45:40.465Z"
   },
   {
    "duration": 515,
    "start_time": "2021-11-30T16:45:45.355Z"
   },
   {
    "duration": 527,
    "start_time": "2021-11-30T16:45:53.682Z"
   },
   {
    "duration": 3,
    "start_time": "2021-11-30T16:47:37.510Z"
   },
   {
    "duration": 4,
    "start_time": "2021-11-30T16:47:53.086Z"
   },
   {
    "duration": 360,
    "start_time": "2021-11-30T16:48:20.315Z"
   },
   {
    "duration": 661,
    "start_time": "2021-11-30T16:48:41.342Z"
   },
   {
    "duration": 392,
    "start_time": "2021-11-30T16:49:00.558Z"
   },
   {
    "duration": 815,
    "start_time": "2021-11-30T16:49:29.165Z"
   },
   {
    "duration": 992,
    "start_time": "2021-11-30T16:49:57.412Z"
   },
   {
    "duration": 801,
    "start_time": "2021-11-30T16:51:24.794Z"
   },
   {
    "duration": 146,
    "start_time": "2021-11-30T16:51:42.890Z"
   },
   {
    "duration": 795,
    "start_time": "2021-11-30T16:51:51.505Z"
   },
   {
    "duration": 719,
    "start_time": "2021-11-30T16:52:56.672Z"
   },
   {
    "duration": 751,
    "start_time": "2021-11-30T16:53:09.625Z"
   },
   {
    "duration": 889,
    "start_time": "2021-11-30T16:53:18.048Z"
   },
   {
    "duration": 1027,
    "start_time": "2021-11-30T16:55:19.686Z"
   },
   {
    "duration": 513,
    "start_time": "2021-11-30T16:55:32.253Z"
   },
   {
    "duration": 512,
    "start_time": "2021-11-30T16:55:45.437Z"
   },
   {
    "duration": 408,
    "start_time": "2021-11-30T16:56:33.684Z"
   },
   {
    "duration": 455,
    "start_time": "2021-11-30T16:56:45.012Z"
   },
   {
    "duration": 655,
    "start_time": "2021-11-30T16:57:33.586Z"
   },
   {
    "duration": 618,
    "start_time": "2021-11-30T16:57:43.579Z"
   },
   {
    "duration": 768,
    "start_time": "2021-11-30T16:58:22.169Z"
   },
   {
    "duration": 226,
    "start_time": "2021-11-30T17:00:38.891Z"
   },
   {
    "duration": 96,
    "start_time": "2021-11-30T17:00:43.791Z"
   },
   {
    "duration": 21,
    "start_time": "2021-11-30T17:00:43.890Z"
   },
   {
    "duration": 52,
    "start_time": "2021-11-30T17:00:43.914Z"
   },
   {
    "duration": 13,
    "start_time": "2021-11-30T17:00:43.969Z"
   },
   {
    "duration": 8,
    "start_time": "2021-11-30T17:00:43.984Z"
   },
   {
    "duration": 19,
    "start_time": "2021-11-30T17:00:43.994Z"
   },
   {
    "duration": 61,
    "start_time": "2021-11-30T17:00:44.016Z"
   },
   {
    "duration": 37,
    "start_time": "2021-11-30T17:00:44.080Z"
   },
   {
    "duration": 40,
    "start_time": "2021-11-30T17:00:44.121Z"
   },
   {
    "duration": 36,
    "start_time": "2021-11-30T17:00:44.164Z"
   },
   {
    "duration": 7,
    "start_time": "2021-11-30T17:00:44.203Z"
   },
   {
    "duration": 6,
    "start_time": "2021-11-30T17:00:44.213Z"
   },
   {
    "duration": 57,
    "start_time": "2021-11-30T17:00:44.222Z"
   },
   {
    "duration": 33,
    "start_time": "2021-11-30T17:00:44.282Z"
   },
   {
    "duration": 6,
    "start_time": "2021-11-30T17:00:44.317Z"
   },
   {
    "duration": 9,
    "start_time": "2021-11-30T17:00:44.325Z"
   },
   {
    "duration": 40,
    "start_time": "2021-11-30T17:00:44.337Z"
   },
   {
    "duration": 16,
    "start_time": "2021-11-30T17:00:44.380Z"
   },
   {
    "duration": 834,
    "start_time": "2021-11-30T17:00:44.399Z"
   },
   {
    "duration": 304,
    "start_time": "2021-11-30T17:00:45.236Z"
   },
   {
    "duration": 337,
    "start_time": "2021-11-30T17:00:45.542Z"
   },
   {
    "duration": 344,
    "start_time": "2021-11-30T17:00:45.883Z"
   },
   {
    "duration": 337,
    "start_time": "2021-11-30T17:00:46.230Z"
   },
   {
    "duration": 7,
    "start_time": "2021-11-30T17:00:46.570Z"
   },
   {
    "duration": 335,
    "start_time": "2021-11-30T17:00:46.580Z"
   },
   {
    "duration": 6,
    "start_time": "2021-11-30T17:00:46.917Z"
   },
   {
    "duration": 8,
    "start_time": "2021-11-30T17:00:46.928Z"
   },
   {
    "duration": 12,
    "start_time": "2021-11-30T17:00:46.959Z"
   },
   {
    "duration": 431,
    "start_time": "2021-11-30T17:00:46.973Z"
   },
   {
    "duration": 388,
    "start_time": "2021-11-30T17:00:47.406Z"
   },
   {
    "duration": 237,
    "start_time": "2021-11-30T17:01:06.546Z"
   },
   {
    "duration": 630,
    "start_time": "2021-11-30T17:01:35.075Z"
   },
   {
    "duration": 357,
    "start_time": "2021-11-30T17:02:30.608Z"
   },
   {
    "duration": 347,
    "start_time": "2021-11-30T17:02:44.415Z"
   },
   {
    "duration": 327,
    "start_time": "2021-11-30T17:03:25.774Z"
   },
   {
    "duration": 315,
    "start_time": "2021-11-30T17:03:34.998Z"
   },
   {
    "duration": 316,
    "start_time": "2021-11-30T17:03:51.669Z"
   },
   {
    "duration": 1557,
    "start_time": "2021-11-30T17:04:23.708Z"
   },
   {
    "duration": 1144,
    "start_time": "2021-11-30T17:04:38.876Z"
   },
   {
    "duration": 691,
    "start_time": "2021-11-30T17:04:54.211Z"
   },
   {
    "duration": 307,
    "start_time": "2021-11-30T17:05:13.396Z"
   },
   {
    "duration": 4,
    "start_time": "2021-11-30T17:08:15.383Z"
   },
   {
    "duration": 326,
    "start_time": "2021-11-30T17:08:34.135Z"
   },
   {
    "duration": 1055,
    "start_time": "2021-11-30T17:09:02.023Z"
   },
   {
    "duration": 1001,
    "start_time": "2021-11-30T17:09:18.838Z"
   },
   {
    "duration": 589,
    "start_time": "2021-11-30T17:09:29.560Z"
   },
   {
    "duration": 400,
    "start_time": "2021-11-30T17:09:45.061Z"
   },
   {
    "duration": 325,
    "start_time": "2021-11-30T17:09:59.262Z"
   },
   {
    "duration": 700,
    "start_time": "2021-11-30T17:10:07.862Z"
   },
   {
    "duration": 235,
    "start_time": "2021-11-30T17:10:16.957Z"
   },
   {
    "duration": 683,
    "start_time": "2021-11-30T17:11:37.579Z"
   },
   {
    "duration": 690,
    "start_time": "2021-11-30T17:11:55.923Z"
   },
   {
    "duration": 461,
    "start_time": "2021-11-30T17:12:54.114Z"
   },
   {
    "duration": 463,
    "start_time": "2021-11-30T17:13:14.010Z"
   },
   {
    "duration": 482,
    "start_time": "2021-11-30T17:13:30.329Z"
   },
   {
    "duration": 817,
    "start_time": "2021-11-30T17:13:44.081Z"
   },
   {
    "duration": 680,
    "start_time": "2021-11-30T17:14:08.456Z"
   },
   {
    "duration": 540,
    "start_time": "2021-11-30T17:14:35.183Z"
   },
   {
    "duration": 328,
    "start_time": "2021-11-30T17:14:49.256Z"
   },
   {
    "duration": 471,
    "start_time": "2021-11-30T17:15:01.967Z"
   },
   {
    "duration": 334,
    "start_time": "2021-11-30T17:15:13.533Z"
   },
   {
    "duration": 330,
    "start_time": "2021-11-30T17:15:45.134Z"
   },
   {
    "duration": 328,
    "start_time": "2021-11-30T17:15:55.070Z"
   },
   {
    "duration": 1038,
    "start_time": "2021-11-30T17:16:17.061Z"
   },
   {
    "duration": 378,
    "start_time": "2021-11-30T17:17:04.839Z"
   },
   {
    "duration": 541,
    "start_time": "2021-11-30T17:18:13.813Z"
   },
   {
    "duration": 405,
    "start_time": "2021-11-30T17:21:21.808Z"
   },
   {
    "duration": 425,
    "start_time": "2021-11-30T17:22:02.346Z"
   },
   {
    "duration": 616,
    "start_time": "2021-11-30T17:22:37.686Z"
   },
   {
    "duration": 35,
    "start_time": "2021-11-30T18:22:49.581Z"
   },
   {
    "duration": 19,
    "start_time": "2021-11-30T18:23:28.442Z"
   },
   {
    "duration": 19,
    "start_time": "2021-11-30T18:27:46.342Z"
   },
   {
    "duration": 17,
    "start_time": "2021-11-30T18:28:02.277Z"
   },
   {
    "duration": 349,
    "start_time": "2021-11-30T18:30:17.585Z"
   },
   {
    "duration": 794,
    "start_time": "2021-11-30T18:34:27.099Z"
   },
   {
    "duration": 1772,
    "start_time": "2021-11-30T18:34:26.126Z"
   },
   {
    "duration": 691,
    "start_time": "2021-11-30T18:34:31.900Z"
   },
   {
    "duration": 385,
    "start_time": "2021-11-30T18:34:44.541Z"
   },
   {
    "duration": 345,
    "start_time": "2021-11-30T18:35:42.307Z"
   },
   {
    "duration": 12,
    "start_time": "2021-11-30T18:40:36.565Z"
   },
   {
    "duration": 10,
    "start_time": "2021-11-30T18:41:00.612Z"
   },
   {
    "duration": 595,
    "start_time": "2021-11-30T18:41:49.169Z"
   },
   {
    "duration": 52,
    "start_time": "2021-11-30T18:41:57.537Z"
   },
   {
    "duration": 4863,
    "start_time": "2021-11-30T18:43:23.431Z"
   },
   {
    "duration": 4733,
    "start_time": "2021-11-30T18:43:50.136Z"
   },
   {
    "duration": 322,
    "start_time": "2021-11-30T18:44:11.973Z"
   },
   {
    "duration": 361,
    "start_time": "2021-11-30T18:44:33.368Z"
   },
   {
    "duration": 636,
    "start_time": "2021-11-30T18:44:46.438Z"
   },
   {
    "duration": 584,
    "start_time": "2021-11-30T18:45:41.177Z"
   },
   {
    "duration": 574,
    "start_time": "2021-11-30T18:45:48.420Z"
   },
   {
    "duration": 591,
    "start_time": "2021-11-30T18:45:55.805Z"
   },
   {
    "duration": 586,
    "start_time": "2021-11-30T18:46:05.213Z"
   },
   {
    "duration": 622,
    "start_time": "2021-11-30T18:46:13.012Z"
   },
   {
    "duration": 11,
    "start_time": "2021-11-30T18:47:40.882Z"
   },
   {
    "duration": 648,
    "start_time": "2021-11-30T18:47:51.697Z"
   },
   {
    "duration": 599,
    "start_time": "2021-11-30T18:48:39.241Z"
   },
   {
    "duration": 11,
    "start_time": "2021-11-30T18:49:09.728Z"
   },
   {
    "duration": 604,
    "start_time": "2021-11-30T18:49:13.209Z"
   },
   {
    "duration": 594,
    "start_time": "2021-11-30T18:49:49.391Z"
   },
   {
    "duration": 571,
    "start_time": "2021-11-30T18:50:14.766Z"
   },
   {
    "duration": 647,
    "start_time": "2021-11-30T18:50:43.447Z"
   },
   {
    "duration": 585,
    "start_time": "2021-11-30T18:51:13.598Z"
   },
   {
    "duration": 547,
    "start_time": "2021-11-30T18:51:27.317Z"
   },
   {
    "duration": 642,
    "start_time": "2021-11-30T18:52:20.877Z"
   },
   {
    "duration": 10,
    "start_time": "2021-11-30T19:13:15.793Z"
   },
   {
    "duration": 428,
    "start_time": "2021-11-30T19:15:15.867Z"
   },
   {
    "duration": 9763,
    "start_time": "2021-11-30T19:15:34.692Z"
   },
   {
    "duration": 3,
    "start_time": "2021-11-30T19:16:03.764Z"
   },
   {
    "duration": 731,
    "start_time": "2021-11-30T19:20:22.006Z"
   },
   {
    "duration": 90,
    "start_time": "2021-11-30T19:20:28.696Z"
   },
   {
    "duration": 20,
    "start_time": "2021-11-30T19:20:28.790Z"
   },
   {
    "duration": 26,
    "start_time": "2021-11-30T19:20:28.813Z"
   },
   {
    "duration": 13,
    "start_time": "2021-11-30T19:20:28.858Z"
   },
   {
    "duration": 8,
    "start_time": "2021-11-30T19:20:28.873Z"
   },
   {
    "duration": 30,
    "start_time": "2021-11-30T19:20:28.883Z"
   },
   {
    "duration": 15,
    "start_time": "2021-11-30T19:20:28.915Z"
   },
   {
    "duration": 57,
    "start_time": "2021-11-30T19:20:28.963Z"
   },
   {
    "duration": 38,
    "start_time": "2021-11-30T19:20:29.024Z"
   },
   {
    "duration": 37,
    "start_time": "2021-11-30T19:20:29.065Z"
   },
   {
    "duration": 6,
    "start_time": "2021-11-30T19:20:29.105Z"
   },
   {
    "duration": 19,
    "start_time": "2021-11-30T19:20:29.113Z"
   },
   {
    "duration": 49,
    "start_time": "2021-11-30T19:20:29.134Z"
   },
   {
    "duration": 38,
    "start_time": "2021-11-30T19:20:29.185Z"
   },
   {
    "duration": 7,
    "start_time": "2021-11-30T19:20:29.226Z"
   },
   {
    "duration": 26,
    "start_time": "2021-11-30T19:20:29.236Z"
   },
   {
    "duration": 25,
    "start_time": "2021-11-30T19:20:29.265Z"
   },
   {
    "duration": 19,
    "start_time": "2021-11-30T19:20:29.293Z"
   },
   {
    "duration": 845,
    "start_time": "2021-11-30T19:20:29.314Z"
   },
   {
    "duration": 292,
    "start_time": "2021-11-30T19:20:30.161Z"
   },
   {
    "duration": 319,
    "start_time": "2021-11-30T19:20:30.459Z"
   },
   {
    "duration": 395,
    "start_time": "2021-11-30T19:20:30.780Z"
   },
   {
    "duration": 318,
    "start_time": "2021-11-30T19:20:31.179Z"
   },
   {
    "duration": 7,
    "start_time": "2021-11-30T19:20:31.502Z"
   },
   {
    "duration": 347,
    "start_time": "2021-11-30T19:20:31.512Z"
   },
   {
    "duration": 6,
    "start_time": "2021-11-30T19:20:31.861Z"
   },
   {
    "duration": 11,
    "start_time": "2021-11-30T19:20:31.870Z"
   },
   {
    "duration": 12,
    "start_time": "2021-11-30T19:20:31.883Z"
   },
   {
    "duration": 437,
    "start_time": "2021-11-30T19:20:31.898Z"
   },
   {
    "duration": 429,
    "start_time": "2021-11-30T19:20:32.338Z"
   },
   {
    "duration": 8,
    "start_time": "2021-11-30T19:20:32.771Z"
   },
   {
    "duration": 19,
    "start_time": "2021-11-30T19:20:32.782Z"
   },
   {
    "duration": 20,
    "start_time": "2021-11-30T19:20:32.804Z"
   },
   {
    "duration": 32,
    "start_time": "2021-11-30T19:20:32.827Z"
   },
   {
    "duration": 19,
    "start_time": "2021-11-30T19:20:32.862Z"
   },
   {
    "duration": 17,
    "start_time": "2021-11-30T19:20:37.673Z"
   },
   {
    "duration": 35,
    "start_time": "2021-11-30T19:20:43.534Z"
   },
   {
    "duration": 20,
    "start_time": "2021-11-30T19:20:46.853Z"
   },
   {
    "duration": 694,
    "start_time": "2021-11-30T19:21:24.605Z"
   },
   {
    "duration": 2159,
    "start_time": "2021-11-30T19:24:41.633Z"
   },
   {
    "duration": 941,
    "start_time": "2021-11-30T19:25:01.461Z"
   },
   {
    "duration": 377,
    "start_time": "2021-11-30T19:25:56.352Z"
   },
   {
    "duration": 5,
    "start_time": "2021-11-30T19:31:39.408Z"
   },
   {
    "duration": 12,
    "start_time": "2021-11-30T19:31:57.488Z"
   },
   {
    "duration": 2052,
    "start_time": "2021-11-30T19:32:26.624Z"
   },
   {
    "duration": 2395,
    "start_time": "2021-11-30T19:34:07.469Z"
   },
   {
    "duration": 7,
    "start_time": "2021-11-30T19:35:12.084Z"
   },
   {
    "duration": 788,
    "start_time": "2021-11-30T19:35:12.884Z"
   },
   {
    "duration": 8,
    "start_time": "2021-11-30T19:35:26.979Z"
   },
   {
    "duration": 2164,
    "start_time": "2021-11-30T19:35:32.772Z"
   },
   {
    "duration": 35,
    "start_time": "2021-11-30T19:38:21.337Z"
   },
   {
    "duration": 420,
    "start_time": "2021-11-30T19:39:16.134Z"
   },
   {
    "duration": 5,
    "start_time": "2021-11-30T19:39:33.614Z"
   },
   {
    "duration": 8961,
    "start_time": "2021-11-30T19:39:44.629Z"
   },
   {
    "duration": 5,
    "start_time": "2021-11-30T19:43:17.697Z"
   },
   {
    "duration": 18111,
    "start_time": "2021-11-30T19:46:14.541Z"
   },
   {
    "duration": 1631,
    "start_time": "2021-11-30T19:46:31.027Z"
   },
   {
    "duration": 1619,
    "start_time": "2021-11-30T19:46:31.040Z"
   },
   {
    "duration": 5,
    "start_time": "2021-11-30T19:46:44.302Z"
   },
   {
    "duration": 2199,
    "start_time": "2021-11-30T19:46:45.324Z"
   },
   {
    "duration": 1180,
    "start_time": "2021-11-30T19:46:50.438Z"
   },
   {
    "duration": 724,
    "start_time": "2021-11-30T19:47:24.508Z"
   },
   {
    "duration": 1047,
    "start_time": "2021-11-30T19:47:49.916Z"
   },
   {
    "duration": 5,
    "start_time": "2021-11-30T19:52:55.028Z"
   },
   {
    "duration": 2211,
    "start_time": "2021-11-30T19:52:56.330Z"
   },
   {
    "duration": 1007,
    "start_time": "2021-11-30T19:54:37.440Z"
   },
   {
    "duration": 4,
    "start_time": "2021-11-30T19:54:50.983Z"
   },
   {
    "duration": 6,
    "start_time": "2021-11-30T19:57:36.828Z"
   },
   {
    "duration": 10497,
    "start_time": "2021-11-30T19:57:37.461Z"
   },
   {
    "duration": 8,
    "start_time": "2021-11-30T19:58:31.051Z"
   },
   {
    "duration": 1210,
    "start_time": "2021-11-30T19:58:31.788Z"
   },
   {
    "duration": 1089,
    "start_time": "2021-11-30T19:58:37.395Z"
   },
   {
    "duration": 1102,
    "start_time": "2021-11-30T19:58:49.268Z"
   },
   {
    "duration": 1062,
    "start_time": "2021-11-30T19:58:57.907Z"
   },
   {
    "duration": 16837,
    "start_time": "2021-11-30T19:59:18.091Z"
   },
   {
    "duration": 15196,
    "start_time": "2021-11-30T20:05:54.412Z"
   },
   {
    "duration": 458,
    "start_time": "2021-11-30T20:19:20.352Z"
   },
   {
    "duration": 150,
    "start_time": "2021-11-30T20:19:26.640Z"
   },
   {
    "duration": 23,
    "start_time": "2021-11-30T20:19:26.793Z"
   },
   {
    "duration": 59,
    "start_time": "2021-11-30T20:19:26.819Z"
   },
   {
    "duration": 15,
    "start_time": "2021-11-30T20:19:26.882Z"
   },
   {
    "duration": 4,
    "start_time": "2021-11-30T20:19:26.900Z"
   },
   {
    "duration": 73,
    "start_time": "2021-11-30T20:19:26.906Z"
   },
   {
    "duration": 16,
    "start_time": "2021-11-30T20:19:26.982Z"
   },
   {
    "duration": 86,
    "start_time": "2021-11-30T20:19:27.003Z"
   },
   {
    "duration": 12,
    "start_time": "2021-11-30T20:19:27.092Z"
   },
   {
    "duration": 59,
    "start_time": "2021-11-30T20:19:27.106Z"
   },
   {
    "duration": 7,
    "start_time": "2021-11-30T20:19:27.168Z"
   },
   {
    "duration": 9,
    "start_time": "2021-11-30T20:19:27.177Z"
   },
   {
    "duration": 20,
    "start_time": "2021-11-30T20:19:27.189Z"
   },
   {
    "duration": 65,
    "start_time": "2021-11-30T20:19:27.212Z"
   },
   {
    "duration": 6,
    "start_time": "2021-11-30T20:19:27.280Z"
   },
   {
    "duration": 12,
    "start_time": "2021-11-30T20:19:27.289Z"
   },
   {
    "duration": 19,
    "start_time": "2021-11-30T20:19:27.304Z"
   },
   {
    "duration": 45,
    "start_time": "2021-11-30T20:19:27.326Z"
   },
   {
    "duration": 986,
    "start_time": "2021-11-30T20:19:27.373Z"
   },
   {
    "duration": 414,
    "start_time": "2021-11-30T20:19:28.362Z"
   },
   {
    "duration": 415,
    "start_time": "2021-11-30T20:19:28.778Z"
   },
   {
    "duration": 376,
    "start_time": "2021-11-30T20:19:29.196Z"
   },
   {
    "duration": 333,
    "start_time": "2021-11-30T20:19:29.579Z"
   },
   {
    "duration": 7,
    "start_time": "2021-11-30T20:19:29.916Z"
   },
   {
    "duration": 359,
    "start_time": "2021-11-30T20:19:29.925Z"
   },
   {
    "duration": 5,
    "start_time": "2021-11-30T20:19:30.286Z"
   },
   {
    "duration": 15,
    "start_time": "2021-11-30T20:19:30.294Z"
   },
   {
    "duration": 12,
    "start_time": "2021-11-30T20:19:30.311Z"
   },
   {
    "duration": 464,
    "start_time": "2021-11-30T20:19:30.325Z"
   },
   {
    "duration": 472,
    "start_time": "2021-11-30T20:19:30.792Z"
   },
   {
    "duration": 9,
    "start_time": "2021-11-30T20:19:31.267Z"
   },
   {
    "duration": 10,
    "start_time": "2021-11-30T20:19:31.278Z"
   },
   {
    "duration": 8,
    "start_time": "2021-11-30T20:19:31.291Z"
   },
   {
    "duration": 4,
    "start_time": "2021-11-30T20:19:31.301Z"
   },
   {
    "duration": 61,
    "start_time": "2021-11-30T20:19:31.308Z"
   },
   {
    "duration": 13,
    "start_time": "2021-11-30T20:19:31.373Z"
   },
   {
    "duration": 1199,
    "start_time": "2021-11-30T20:19:31.389Z"
   },
   {
    "duration": 1088,
    "start_time": "2021-11-30T20:19:32.591Z"
   },
   {
    "duration": 1140,
    "start_time": "2021-11-30T20:19:33.682Z"
   },
   {
    "duration": 1056,
    "start_time": "2021-11-30T20:19:34.825Z"
   },
   {
    "duration": 15308,
    "start_time": "2021-11-30T20:19:35.883Z"
   },
   {
    "duration": 8,
    "start_time": "2021-11-30T20:19:51.194Z"
   },
   {
    "duration": 7,
    "start_time": "2021-11-30T20:19:51.204Z"
   },
   {
    "duration": 8,
    "start_time": "2021-11-30T20:19:51.213Z"
   },
   {
    "duration": 36,
    "start_time": "2021-11-30T20:19:51.224Z"
   },
   {
    "duration": 23,
    "start_time": "2021-11-30T20:19:51.264Z"
   },
   {
    "duration": 28,
    "start_time": "2021-11-30T20:19:51.290Z"
   },
   {
    "duration": 53,
    "start_time": "2021-11-30T20:19:51.321Z"
   },
   {
    "duration": 16,
    "start_time": "2021-11-30T20:19:51.377Z"
   },
   {
    "duration": 17,
    "start_time": "2021-11-30T20:19:51.396Z"
   },
   {
    "duration": 13,
    "start_time": "2021-11-30T20:19:51.415Z"
   },
   {
    "duration": 12,
    "start_time": "2021-11-30T20:19:51.462Z"
   },
   {
    "duration": 41,
    "start_time": "2021-11-30T20:19:51.478Z"
   },
   {
    "duration": 1058,
    "start_time": "2021-11-30T20:19:51.522Z"
   },
   {
    "duration": 463,
    "start_time": "2021-11-30T20:19:52.582Z"
   },
   {
    "duration": 1707,
    "start_time": "2021-11-30T20:19:51.341Z"
   },
   {
    "duration": 1701,
    "start_time": "2021-11-30T20:19:51.349Z"
   },
   {
    "duration": 1693,
    "start_time": "2021-11-30T20:19:51.359Z"
   },
   {
    "duration": 1682,
    "start_time": "2021-11-30T20:19:51.371Z"
   },
   {
    "duration": 1679,
    "start_time": "2021-11-30T20:19:51.377Z"
   },
   {
    "duration": 1670,
    "start_time": "2021-11-30T20:19:51.387Z"
   },
   {
    "duration": 1666,
    "start_time": "2021-11-30T20:19:51.392Z"
   },
   {
    "duration": 1661,
    "start_time": "2021-11-30T20:19:51.399Z"
   },
   {
    "duration": 1656,
    "start_time": "2021-11-30T20:19:51.407Z"
   },
   {
    "duration": 1651,
    "start_time": "2021-11-30T20:19:51.414Z"
   },
   {
    "duration": 1643,
    "start_time": "2021-11-30T20:19:51.423Z"
   },
   {
    "duration": 1637,
    "start_time": "2021-11-30T20:19:51.431Z"
   },
   {
    "duration": 1631,
    "start_time": "2021-11-30T20:19:51.439Z"
   },
   {
    "duration": 1614,
    "start_time": "2021-11-30T20:19:51.457Z"
   },
   {
    "duration": 1610,
    "start_time": "2021-11-30T20:19:51.463Z"
   },
   {
    "duration": 1602,
    "start_time": "2021-11-30T20:19:51.472Z"
   },
   {
    "duration": 1598,
    "start_time": "2021-11-30T20:19:51.478Z"
   },
   {
    "duration": 1588,
    "start_time": "2021-11-30T20:19:51.489Z"
   },
   {
    "duration": 1584,
    "start_time": "2021-11-30T20:19:51.495Z"
   },
   {
    "duration": 1576,
    "start_time": "2021-11-30T20:19:51.504Z"
   },
   {
    "duration": 17,
    "start_time": "2021-11-30T20:32:33.440Z"
   },
   {
    "duration": 16,
    "start_time": "2021-11-30T20:46:36.669Z"
   },
   {
    "duration": 475,
    "start_time": "2021-12-01T06:27:25.672Z"
   },
   {
    "duration": 959,
    "start_time": "2021-12-01T06:27:36.021Z"
   },
   {
    "duration": 26,
    "start_time": "2021-12-01T06:27:36.983Z"
   },
   {
    "duration": 27,
    "start_time": "2021-12-01T06:27:37.817Z"
   },
   {
    "duration": 7787,
    "start_time": "2021-12-01T06:47:12.457Z"
   },
   {
    "duration": 90,
    "start_time": "2021-12-01T06:47:27.320Z"
   },
   {
    "duration": 19,
    "start_time": "2021-12-01T06:47:27.413Z"
   },
   {
    "duration": 48,
    "start_time": "2021-12-01T06:47:27.435Z"
   },
   {
    "duration": 19,
    "start_time": "2021-12-01T06:47:27.487Z"
   },
   {
    "duration": 14,
    "start_time": "2021-12-01T06:47:27.510Z"
   },
   {
    "duration": 6,
    "start_time": "2021-12-01T06:47:27.527Z"
   },
   {
    "duration": 20,
    "start_time": "2021-12-01T06:47:27.583Z"
   },
   {
    "duration": 15,
    "start_time": "2021-12-01T06:47:27.607Z"
   },
   {
    "duration": 87,
    "start_time": "2021-12-01T06:47:27.627Z"
   },
   {
    "duration": 12,
    "start_time": "2021-12-01T06:47:27.718Z"
   },
   {
    "duration": 65,
    "start_time": "2021-12-01T06:47:27.733Z"
   },
   {
    "duration": 12,
    "start_time": "2021-12-01T06:47:27.802Z"
   },
   {
    "duration": 15,
    "start_time": "2021-12-01T06:47:27.817Z"
   },
   {
    "duration": 19,
    "start_time": "2021-12-01T06:47:27.834Z"
   },
   {
    "duration": 53,
    "start_time": "2021-12-01T06:47:27.856Z"
   },
   {
    "duration": 5,
    "start_time": "2021-12-01T06:47:27.912Z"
   },
   {
    "duration": 8,
    "start_time": "2021-12-01T06:47:27.920Z"
   },
   {
    "duration": 27,
    "start_time": "2021-12-01T06:47:27.930Z"
   },
   {
    "duration": 15,
    "start_time": "2021-12-01T06:47:27.983Z"
   },
   {
    "duration": 912,
    "start_time": "2021-12-01T06:47:28.001Z"
   },
   {
    "duration": 335,
    "start_time": "2021-12-01T06:47:28.915Z"
   },
   {
    "duration": 311,
    "start_time": "2021-12-01T06:47:29.253Z"
   },
   {
    "duration": 338,
    "start_time": "2021-12-01T06:47:29.569Z"
   },
   {
    "duration": 332,
    "start_time": "2021-12-01T06:47:29.910Z"
   },
   {
    "duration": 7,
    "start_time": "2021-12-01T06:47:30.244Z"
   },
   {
    "duration": 341,
    "start_time": "2021-12-01T06:47:30.254Z"
   },
   {
    "duration": 8,
    "start_time": "2021-12-01T06:47:30.598Z"
   },
   {
    "duration": 26,
    "start_time": "2021-12-01T06:47:30.609Z"
   },
   {
    "duration": 33,
    "start_time": "2021-12-01T06:47:30.638Z"
   },
   {
    "duration": 429,
    "start_time": "2021-12-01T06:47:30.674Z"
   },
   {
    "duration": 427,
    "start_time": "2021-12-01T06:47:31.107Z"
   },
   {
    "duration": 8,
    "start_time": "2021-12-01T06:47:31.537Z"
   },
   {
    "duration": 34,
    "start_time": "2021-12-01T06:47:31.548Z"
   },
   {
    "duration": 19,
    "start_time": "2021-12-01T06:47:31.584Z"
   },
   {
    "duration": 15,
    "start_time": "2021-12-01T06:47:31.605Z"
   },
   {
    "duration": 27,
    "start_time": "2021-12-01T06:47:31.622Z"
   },
   {
    "duration": 11,
    "start_time": "2021-12-01T06:47:31.652Z"
   },
   {
    "duration": 1067,
    "start_time": "2021-12-01T06:47:31.665Z"
   },
   {
    "duration": 1030,
    "start_time": "2021-12-01T06:47:32.735Z"
   },
   {
    "duration": 1035,
    "start_time": "2021-12-01T06:47:33.767Z"
   },
   {
    "duration": 1046,
    "start_time": "2021-12-01T06:47:34.804Z"
   },
   {
    "duration": 14557,
    "start_time": "2021-12-01T06:47:35.852Z"
   },
   {
    "duration": 6,
    "start_time": "2021-12-01T06:47:50.411Z"
   },
   {
    "duration": 9,
    "start_time": "2021-12-01T06:47:50.419Z"
   },
   {
    "duration": 19,
    "start_time": "2021-12-01T06:47:50.431Z"
   },
   {
    "duration": 36,
    "start_time": "2021-12-01T06:47:50.453Z"
   },
   {
    "duration": 22,
    "start_time": "2021-12-01T06:47:50.492Z"
   },
   {
    "duration": 25,
    "start_time": "2021-12-01T06:47:50.516Z"
   },
   {
    "duration": 42,
    "start_time": "2021-12-01T06:47:50.543Z"
   },
   {
    "duration": 16,
    "start_time": "2021-12-01T06:47:50.588Z"
   },
   {
    "duration": 16,
    "start_time": "2021-12-01T06:47:50.607Z"
   },
   {
    "duration": 12,
    "start_time": "2021-12-01T06:47:50.625Z"
   },
   {
    "duration": 47,
    "start_time": "2021-12-01T06:47:50.640Z"
   },
   {
    "duration": 27,
    "start_time": "2021-12-01T06:47:50.689Z"
   },
   {
    "duration": 1141,
    "start_time": "2021-12-01T06:47:50.718Z"
   },
   {
    "duration": 489,
    "start_time": "2021-12-01T06:47:51.862Z"
   },
   {
    "duration": 1994,
    "start_time": "2021-12-01T06:47:50.359Z"
   },
   {
    "duration": 1098,
    "start_time": "2021-12-01T06:58:57.864Z"
   },
   {
    "duration": 17,
    "start_time": "2021-12-01T07:01:58.821Z"
   },
   {
    "duration": 18,
    "start_time": "2021-12-01T07:02:14.339Z"
   },
   {
    "duration": 77,
    "start_time": "2021-12-01T07:03:02.082Z"
   },
   {
    "duration": 29,
    "start_time": "2021-12-01T07:03:02.162Z"
   },
   {
    "duration": 29,
    "start_time": "2021-12-01T07:03:02.195Z"
   },
   {
    "duration": 28,
    "start_time": "2021-12-01T07:03:02.227Z"
   },
   {
    "duration": 125,
    "start_time": "2021-12-01T07:03:02.258Z"
   },
   {
    "duration": 5,
    "start_time": "2021-12-01T07:03:02.385Z"
   },
   {
    "duration": 24,
    "start_time": "2021-12-01T07:03:02.392Z"
   },
   {
    "duration": 27,
    "start_time": "2021-12-01T07:03:02.418Z"
   },
   {
    "duration": 50,
    "start_time": "2021-12-01T07:03:02.450Z"
   },
   {
    "duration": 19,
    "start_time": "2021-12-01T07:03:02.504Z"
   },
   {
    "duration": 65,
    "start_time": "2021-12-01T07:03:02.526Z"
   },
   {
    "duration": 15,
    "start_time": "2021-12-01T07:03:02.593Z"
   },
   {
    "duration": 7,
    "start_time": "2021-12-01T07:03:02.611Z"
   },
   {
    "duration": 21,
    "start_time": "2021-12-01T07:03:02.621Z"
   },
   {
    "duration": 51,
    "start_time": "2021-12-01T07:03:02.645Z"
   },
   {
    "duration": 5,
    "start_time": "2021-12-01T07:03:02.699Z"
   },
   {
    "duration": 12,
    "start_time": "2021-12-01T07:03:02.706Z"
   },
   {
    "duration": 24,
    "start_time": "2021-12-01T07:03:02.721Z"
   },
   {
    "duration": 38,
    "start_time": "2021-12-01T07:03:02.748Z"
   },
   {
    "duration": 833,
    "start_time": "2021-12-01T07:03:02.789Z"
   },
   {
    "duration": 296,
    "start_time": "2021-12-01T07:03:03.625Z"
   },
   {
    "duration": 306,
    "start_time": "2021-12-01T07:03:03.923Z"
   },
   {
    "duration": 332,
    "start_time": "2021-12-01T07:03:04.231Z"
   },
   {
    "duration": 422,
    "start_time": "2021-12-01T07:03:04.565Z"
   },
   {
    "duration": 8,
    "start_time": "2021-12-01T07:03:04.990Z"
   },
   {
    "duration": 475,
    "start_time": "2021-12-01T07:03:05.001Z"
   },
   {
    "duration": 7,
    "start_time": "2021-12-01T07:03:05.488Z"
   },
   {
    "duration": 9,
    "start_time": "2021-12-01T07:03:05.500Z"
   },
   {
    "duration": 17,
    "start_time": "2021-12-01T07:03:05.512Z"
   },
   {
    "duration": 623,
    "start_time": "2021-12-01T07:03:05.532Z"
   },
   {
    "duration": 612,
    "start_time": "2021-12-01T07:03:06.158Z"
   },
   {
    "duration": 13,
    "start_time": "2021-12-01T07:03:06.773Z"
   },
   {
    "duration": 13,
    "start_time": "2021-12-01T07:03:06.789Z"
   },
   {
    "duration": 8,
    "start_time": "2021-12-01T07:03:06.805Z"
   },
   {
    "duration": 4,
    "start_time": "2021-12-01T07:03:06.816Z"
   },
   {
    "duration": 33,
    "start_time": "2021-12-01T07:03:06.822Z"
   },
   {
    "duration": 7,
    "start_time": "2021-12-01T07:03:06.882Z"
   },
   {
    "duration": 1053,
    "start_time": "2021-12-01T07:03:06.892Z"
   },
   {
    "duration": 1008,
    "start_time": "2021-12-01T07:03:07.948Z"
   },
   {
    "duration": 1014,
    "start_time": "2021-12-01T07:03:08.958Z"
   },
   {
    "duration": 1018,
    "start_time": "2021-12-01T07:03:09.982Z"
   },
   {
    "duration": 14286,
    "start_time": "2021-12-01T07:03:11.002Z"
   },
   {
    "duration": 7,
    "start_time": "2021-12-01T07:03:25.291Z"
   },
   {
    "duration": 16,
    "start_time": "2021-12-01T07:03:25.300Z"
   },
   {
    "duration": 6,
    "start_time": "2021-12-01T07:03:25.320Z"
   },
   {
    "duration": 8,
    "start_time": "2021-12-01T07:03:25.329Z"
   },
   {
    "duration": 44,
    "start_time": "2021-12-01T07:03:25.339Z"
   },
   {
    "duration": 28,
    "start_time": "2021-12-01T07:03:25.386Z"
   },
   {
    "duration": 20,
    "start_time": "2021-12-01T07:03:25.416Z"
   },
   {
    "duration": 43,
    "start_time": "2021-12-01T07:03:25.439Z"
   },
   {
    "duration": 18,
    "start_time": "2021-12-01T07:03:25.484Z"
   },
   {
    "duration": 13,
    "start_time": "2021-12-01T07:03:25.504Z"
   },
   {
    "duration": 6,
    "start_time": "2021-12-01T07:03:25.520Z"
   },
   {
    "duration": 56,
    "start_time": "2021-12-01T07:03:25.529Z"
   },
   {
    "duration": 1037,
    "start_time": "2021-12-01T07:03:25.588Z"
   },
   {
    "duration": 324,
    "start_time": "2021-12-01T07:03:26.627Z"
   },
   {
    "duration": 1995,
    "start_time": "2021-12-01T07:03:24.959Z"
   },
   {
    "duration": 17,
    "start_time": "2021-12-01T07:03:48.873Z"
   },
   {
    "duration": 18,
    "start_time": "2021-12-01T07:04:01.649Z"
   },
   {
    "duration": 12,
    "start_time": "2021-12-01T07:04:19.696Z"
   },
   {
    "duration": 17,
    "start_time": "2021-12-01T07:04:25.672Z"
   },
   {
    "duration": 14,
    "start_time": "2021-12-01T07:04:26.896Z"
   },
   {
    "duration": 18,
    "start_time": "2021-12-01T07:04:47.320Z"
   },
   {
    "duration": 10,
    "start_time": "2021-12-01T07:04:48.095Z"
   },
   {
    "duration": 18,
    "start_time": "2021-12-01T07:04:49.767Z"
   },
   {
    "duration": 11,
    "start_time": "2021-12-01T07:04:52.695Z"
   },
   {
    "duration": 19,
    "start_time": "2021-12-01T07:04:57.415Z"
   },
   {
    "duration": 7,
    "start_time": "2021-12-01T07:04:58.771Z"
   },
   {
    "duration": 20,
    "start_time": "2021-12-01T07:05:01.975Z"
   },
   {
    "duration": 15,
    "start_time": "2021-12-01T07:05:16.351Z"
   },
   {
    "duration": 19,
    "start_time": "2021-12-01T07:05:31.847Z"
   },
   {
    "duration": 14,
    "start_time": "2021-12-01T07:05:32.918Z"
   },
   {
    "duration": 8859,
    "start_time": "2021-12-01T07:05:37.349Z"
   },
   {
    "duration": 1970,
    "start_time": "2021-12-01T07:05:44.241Z"
   },
   {
    "duration": 1959,
    "start_time": "2021-12-01T07:05:44.253Z"
   },
   {
    "duration": 83,
    "start_time": "2021-12-01T08:00:14.852Z"
   },
   {
    "duration": 43,
    "start_time": "2021-12-01T08:00:14.938Z"
   },
   {
    "duration": 13,
    "start_time": "2021-12-01T08:00:14.985Z"
   },
   {
    "duration": 19,
    "start_time": "2021-12-01T08:00:15.002Z"
   },
   {
    "duration": 68,
    "start_time": "2021-12-01T08:00:15.024Z"
   },
   {
    "duration": 5,
    "start_time": "2021-12-01T08:00:15.096Z"
   },
   {
    "duration": 28,
    "start_time": "2021-12-01T08:00:15.104Z"
   },
   {
    "duration": 57,
    "start_time": "2021-12-01T08:00:15.137Z"
   },
   {
    "duration": 38,
    "start_time": "2021-12-01T08:00:15.197Z"
   },
   {
    "duration": 51,
    "start_time": "2021-12-01T08:00:15.238Z"
   },
   {
    "duration": 36,
    "start_time": "2021-12-01T08:00:15.292Z"
   },
   {
    "duration": 35,
    "start_time": "2021-12-01T08:00:15.331Z"
   },
   {
    "duration": 25,
    "start_time": "2021-12-01T08:00:15.369Z"
   },
   {
    "duration": 31,
    "start_time": "2021-12-01T08:00:15.396Z"
   },
   {
    "duration": 28,
    "start_time": "2021-12-01T08:00:15.429Z"
   },
   {
    "duration": 6,
    "start_time": "2021-12-01T08:00:15.459Z"
   },
   {
    "duration": 22,
    "start_time": "2021-12-01T08:00:15.467Z"
   },
   {
    "duration": 34,
    "start_time": "2021-12-01T08:00:15.491Z"
   },
   {
    "duration": 29,
    "start_time": "2021-12-01T08:00:15.527Z"
   },
   {
    "duration": 844,
    "start_time": "2021-12-01T08:00:15.559Z"
   },
   {
    "duration": 432,
    "start_time": "2021-12-01T08:00:16.405Z"
   },
   {
    "duration": 335,
    "start_time": "2021-12-01T08:00:16.839Z"
   },
   {
    "duration": 330,
    "start_time": "2021-12-01T08:00:17.185Z"
   },
   {
    "duration": 331,
    "start_time": "2021-12-01T08:00:17.522Z"
   },
   {
    "duration": 8,
    "start_time": "2021-12-01T08:00:17.856Z"
   },
   {
    "duration": 344,
    "start_time": "2021-12-01T08:00:17.866Z"
   },
   {
    "duration": 5,
    "start_time": "2021-12-01T08:00:18.213Z"
   },
   {
    "duration": 9,
    "start_time": "2021-12-01T08:00:18.221Z"
   },
   {
    "duration": 14,
    "start_time": "2021-12-01T08:00:18.233Z"
   },
   {
    "duration": 447,
    "start_time": "2021-12-01T08:00:18.250Z"
   },
   {
    "duration": 421,
    "start_time": "2021-12-01T08:00:18.700Z"
   },
   {
    "duration": 8,
    "start_time": "2021-12-01T08:00:19.124Z"
   },
   {
    "duration": 8,
    "start_time": "2021-12-01T08:00:19.135Z"
   },
   {
    "duration": 36,
    "start_time": "2021-12-01T08:00:19.146Z"
   },
   {
    "duration": 4,
    "start_time": "2021-12-01T08:00:19.184Z"
   },
   {
    "duration": 32,
    "start_time": "2021-12-01T08:00:19.191Z"
   },
   {
    "duration": 12,
    "start_time": "2021-12-01T08:00:19.225Z"
   },
   {
    "duration": 1029,
    "start_time": "2021-12-01T08:00:19.239Z"
   },
   {
    "duration": 1019,
    "start_time": "2021-12-01T08:00:20.270Z"
   },
   {
    "duration": 1053,
    "start_time": "2021-12-01T08:00:21.292Z"
   },
   {
    "duration": 1023,
    "start_time": "2021-12-01T08:00:22.347Z"
   },
   {
    "duration": 14189,
    "start_time": "2021-12-01T08:00:23.372Z"
   },
   {
    "duration": 19,
    "start_time": "2021-12-01T08:00:37.563Z"
   },
   {
    "duration": 6,
    "start_time": "2021-12-01T08:00:37.585Z"
   },
   {
    "duration": 14,
    "start_time": "2021-12-01T08:00:37.593Z"
   },
   {
    "duration": 10,
    "start_time": "2021-12-01T08:00:37.610Z"
   },
   {
    "duration": 12,
    "start_time": "2021-12-01T08:00:37.623Z"
   },
   {
    "duration": 65,
    "start_time": "2021-12-01T08:00:37.638Z"
   },
   {
    "duration": 22,
    "start_time": "2021-12-01T08:00:37.706Z"
   },
   {
    "duration": 51,
    "start_time": "2021-12-01T08:00:37.731Z"
   },
   {
    "duration": 24,
    "start_time": "2021-12-01T08:00:37.785Z"
   },
   {
    "duration": 19,
    "start_time": "2021-12-01T08:00:37.812Z"
   },
   {
    "duration": 8,
    "start_time": "2021-12-01T08:00:37.834Z"
   },
   {
    "duration": 67,
    "start_time": "2021-12-01T08:00:37.845Z"
   },
   {
    "duration": 1024,
    "start_time": "2021-12-01T08:00:37.915Z"
   },
   {
    "duration": 323,
    "start_time": "2021-12-01T08:00:38.941Z"
   },
   {
    "duration": 2377,
    "start_time": "2021-12-01T08:00:36.890Z"
   },
   {
    "duration": 2373,
    "start_time": "2021-12-01T08:00:36.896Z"
   },
   {
    "duration": 2366,
    "start_time": "2021-12-01T08:00:36.905Z"
   },
   {
    "duration": 2360,
    "start_time": "2021-12-01T08:00:36.912Z"
   },
   {
    "duration": 2353,
    "start_time": "2021-12-01T08:00:36.920Z"
   },
   {
    "duration": 2348,
    "start_time": "2021-12-01T08:00:36.927Z"
   },
   {
    "duration": 2344,
    "start_time": "2021-12-01T08:00:36.933Z"
   },
   {
    "duration": 2336,
    "start_time": "2021-12-01T08:00:36.943Z"
   },
   {
    "duration": 2332,
    "start_time": "2021-12-01T08:00:36.948Z"
   },
   {
    "duration": 2325,
    "start_time": "2021-12-01T08:00:36.957Z"
   },
   {
    "duration": 2322,
    "start_time": "2021-12-01T08:00:36.962Z"
   },
   {
    "duration": 2315,
    "start_time": "2021-12-01T08:00:36.970Z"
   },
   {
    "duration": 2310,
    "start_time": "2021-12-01T08:00:36.976Z"
   },
   {
    "duration": 2306,
    "start_time": "2021-12-01T08:00:36.981Z"
   },
   {
    "duration": 2298,
    "start_time": "2021-12-01T08:00:36.991Z"
   },
   {
    "duration": 2294,
    "start_time": "2021-12-01T08:00:36.997Z"
   },
   {
    "duration": 2287,
    "start_time": "2021-12-01T08:00:37.006Z"
   },
   {
    "duration": 2284,
    "start_time": "2021-12-01T08:00:37.011Z"
   },
   {
    "duration": 2277,
    "start_time": "2021-12-01T08:00:37.020Z"
   },
   {
    "duration": 2275,
    "start_time": "2021-12-01T08:00:37.025Z"
   },
   {
    "duration": 2272,
    "start_time": "2021-12-01T08:00:37.031Z"
   },
   {
    "duration": 2265,
    "start_time": "2021-12-01T08:00:37.040Z"
   },
   {
    "duration": 1511,
    "start_time": "2021-12-01T08:00:52.671Z"
   },
   {
    "duration": 22,
    "start_time": "2021-12-01T08:01:00.420Z"
   },
   {
    "duration": 17,
    "start_time": "2021-12-01T08:01:04.350Z"
   },
   {
    "duration": 18,
    "start_time": "2021-12-01T08:01:05.699Z"
   },
   {
    "duration": 17,
    "start_time": "2021-12-01T08:01:09.283Z"
   },
   {
    "duration": 12,
    "start_time": "2021-12-01T08:01:10.171Z"
   },
   {
    "duration": 18,
    "start_time": "2021-12-01T08:01:13.531Z"
   },
   {
    "duration": 12,
    "start_time": "2021-12-01T08:01:14.132Z"
   },
   {
    "duration": 18,
    "start_time": "2021-12-01T08:01:17.148Z"
   },
   {
    "duration": 12,
    "start_time": "2021-12-01T08:01:17.708Z"
   },
   {
    "duration": 17,
    "start_time": "2021-12-01T08:01:21.404Z"
   },
   {
    "duration": 11,
    "start_time": "2021-12-01T08:01:21.979Z"
   },
   {
    "duration": 19,
    "start_time": "2021-12-01T08:01:26.220Z"
   },
   {
    "duration": 8,
    "start_time": "2021-12-01T08:01:26.851Z"
   },
   {
    "duration": 19,
    "start_time": "2021-12-01T08:01:27.962Z"
   },
   {
    "duration": 15,
    "start_time": "2021-12-01T08:01:31.339Z"
   },
   {
    "duration": 19,
    "start_time": "2021-12-01T08:01:32.155Z"
   },
   {
    "duration": 16,
    "start_time": "2021-12-01T08:01:32.602Z"
   },
   {
    "duration": 10043,
    "start_time": "2021-12-01T08:01:33.523Z"
   },
   {
    "duration": 10,
    "start_time": "2021-12-01T08:01:50.347Z"
   },
   {
    "duration": 8,
    "start_time": "2021-12-01T08:01:53.452Z"
   },
   {
    "duration": 318,
    "start_time": "2021-12-01T08:02:07.507Z"
   },
   {
    "duration": 316,
    "start_time": "2021-12-01T08:02:28.931Z"
   },
   {
    "duration": 331,
    "start_time": "2021-12-01T08:02:52.042Z"
   },
   {
    "duration": 334,
    "start_time": "2021-12-01T08:45:23.614Z"
   },
   {
    "duration": 88,
    "start_time": "2021-12-01T08:46:23.020Z"
   },
   {
    "duration": 20,
    "start_time": "2021-12-01T08:46:23.111Z"
   },
   {
    "duration": 14,
    "start_time": "2021-12-01T08:46:23.134Z"
   },
   {
    "duration": 49,
    "start_time": "2021-12-01T08:46:23.151Z"
   },
   {
    "duration": 16,
    "start_time": "2021-12-01T08:46:23.203Z"
   },
   {
    "duration": 5,
    "start_time": "2021-12-01T08:46:23.221Z"
   },
   {
    "duration": 75,
    "start_time": "2021-12-01T08:46:23.228Z"
   },
   {
    "duration": 15,
    "start_time": "2021-12-01T08:46:23.306Z"
   },
   {
    "duration": 87,
    "start_time": "2021-12-01T08:46:23.325Z"
   },
   {
    "duration": 14,
    "start_time": "2021-12-01T08:46:23.415Z"
   },
   {
    "duration": 70,
    "start_time": "2021-12-01T08:46:23.431Z"
   },
   {
    "duration": 6,
    "start_time": "2021-12-01T08:46:23.504Z"
   },
   {
    "duration": 15,
    "start_time": "2021-12-01T08:46:23.512Z"
   },
   {
    "duration": 23,
    "start_time": "2021-12-01T08:46:23.529Z"
   },
   {
    "duration": 55,
    "start_time": "2021-12-01T08:46:23.555Z"
   },
   {
    "duration": 5,
    "start_time": "2021-12-01T08:46:23.612Z"
   },
   {
    "duration": 9,
    "start_time": "2021-12-01T08:46:23.620Z"
   },
   {
    "duration": 32,
    "start_time": "2021-12-01T08:46:23.632Z"
   },
   {
    "duration": 38,
    "start_time": "2021-12-01T08:46:23.666Z"
   },
   {
    "duration": 983,
    "start_time": "2021-12-01T08:46:23.706Z"
   },
   {
    "duration": 340,
    "start_time": "2021-12-01T08:46:24.692Z"
   },
   {
    "duration": 363,
    "start_time": "2021-12-01T08:46:25.035Z"
   },
   {
    "duration": 358,
    "start_time": "2021-12-01T08:46:25.400Z"
   },
   {
    "duration": 363,
    "start_time": "2021-12-01T08:46:25.761Z"
   },
   {
    "duration": 8,
    "start_time": "2021-12-01T08:46:26.127Z"
   },
   {
    "duration": 368,
    "start_time": "2021-12-01T08:46:26.139Z"
   },
   {
    "duration": 6,
    "start_time": "2021-12-01T08:46:26.514Z"
   },
   {
    "duration": 8,
    "start_time": "2021-12-01T08:46:26.524Z"
   },
   {
    "duration": 46,
    "start_time": "2021-12-01T08:46:26.535Z"
   },
   {
    "duration": 612,
    "start_time": "2021-12-01T08:46:26.585Z"
   },
   {
    "duration": 617,
    "start_time": "2021-12-01T08:46:27.200Z"
   },
   {
    "duration": 8,
    "start_time": "2021-12-01T08:46:27.820Z"
   },
   {
    "duration": 11,
    "start_time": "2021-12-01T08:46:27.830Z"
   },
   {
    "duration": 38,
    "start_time": "2021-12-01T08:46:27.843Z"
   },
   {
    "duration": 9,
    "start_time": "2021-12-01T08:46:27.885Z"
   },
   {
    "duration": 28,
    "start_time": "2021-12-01T08:46:27.899Z"
   },
   {
    "duration": 10,
    "start_time": "2021-12-01T08:46:27.930Z"
   },
   {
    "duration": 1520,
    "start_time": "2021-12-01T08:46:27.943Z"
   },
   {
    "duration": 1097,
    "start_time": "2021-12-01T08:46:29.466Z"
   },
   {
    "duration": 1204,
    "start_time": "2021-12-01T08:46:30.566Z"
   },
   {
    "duration": 1178,
    "start_time": "2021-12-01T08:46:31.773Z"
   },
   {
    "duration": 15492,
    "start_time": "2021-12-01T08:46:32.954Z"
   },
   {
    "duration": 7,
    "start_time": "2021-12-01T08:46:48.448Z"
   },
   {
    "duration": 29,
    "start_time": "2021-12-01T08:46:48.458Z"
   },
   {
    "duration": 10,
    "start_time": "2021-12-01T08:46:48.490Z"
   },
   {
    "duration": 9,
    "start_time": "2021-12-01T08:46:48.503Z"
   },
   {
    "duration": 17,
    "start_time": "2021-12-01T08:46:48.514Z"
   },
   {
    "duration": 69,
    "start_time": "2021-12-01T08:46:48.533Z"
   },
   {
    "duration": 20,
    "start_time": "2021-12-01T08:46:48.604Z"
   },
   {
    "duration": 17,
    "start_time": "2021-12-01T08:46:48.627Z"
   },
   {
    "duration": 58,
    "start_time": "2021-12-01T08:46:48.647Z"
   },
   {
    "duration": 17,
    "start_time": "2021-12-01T08:46:48.708Z"
   },
   {
    "duration": 14,
    "start_time": "2021-12-01T08:46:48.728Z"
   },
   {
    "duration": 60,
    "start_time": "2021-12-01T08:46:48.745Z"
   },
   {
    "duration": 1106,
    "start_time": "2021-12-01T08:46:48.808Z"
   },
   {
    "duration": 332,
    "start_time": "2021-12-01T08:46:49.916Z"
   },
   {
    "duration": 2583,
    "start_time": "2021-12-01T08:46:47.668Z"
   },
   {
    "duration": 2573,
    "start_time": "2021-12-01T08:46:47.679Z"
   },
   {
    "duration": 2568,
    "start_time": "2021-12-01T08:46:47.685Z"
   },
   {
    "duration": 2554,
    "start_time": "2021-12-01T08:46:47.700Z"
   },
   {
    "duration": 2551,
    "start_time": "2021-12-01T08:46:47.705Z"
   },
   {
    "duration": 2543,
    "start_time": "2021-12-01T08:46:47.714Z"
   },
   {
    "duration": 2537,
    "start_time": "2021-12-01T08:46:47.721Z"
   },
   {
    "duration": 2531,
    "start_time": "2021-12-01T08:46:47.729Z"
   },
   {
    "duration": 2527,
    "start_time": "2021-12-01T08:46:47.734Z"
   },
   {
    "duration": 2520,
    "start_time": "2021-12-01T08:46:47.742Z"
   },
   {
    "duration": 2516,
    "start_time": "2021-12-01T08:46:47.748Z"
   },
   {
    "duration": 2511,
    "start_time": "2021-12-01T08:46:47.754Z"
   },
   {
    "duration": 2503,
    "start_time": "2021-12-01T08:46:47.763Z"
   },
   {
    "duration": 2499,
    "start_time": "2021-12-01T08:46:47.768Z"
   },
   {
    "duration": 2492,
    "start_time": "2021-12-01T08:46:47.776Z"
   },
   {
    "duration": 2488,
    "start_time": "2021-12-01T08:46:47.782Z"
   },
   {
    "duration": 2483,
    "start_time": "2021-12-01T08:46:47.788Z"
   },
   {
    "duration": 2476,
    "start_time": "2021-12-01T08:46:47.796Z"
   },
   {
    "duration": 2472,
    "start_time": "2021-12-01T08:46:47.802Z"
   },
   {
    "duration": 2465,
    "start_time": "2021-12-01T08:46:47.810Z"
   },
   {
    "duration": 2460,
    "start_time": "2021-12-01T08:46:47.816Z"
   },
   {
    "duration": 2455,
    "start_time": "2021-12-01T08:46:47.822Z"
   },
   {
    "duration": 1170,
    "start_time": "2021-12-01T08:47:01.835Z"
   },
   {
    "duration": 25,
    "start_time": "2021-12-01T08:47:04.284Z"
   },
   {
    "duration": 23,
    "start_time": "2021-12-01T08:47:04.787Z"
   },
   {
    "duration": 17,
    "start_time": "2021-12-01T08:47:05.026Z"
   },
   {
    "duration": 17,
    "start_time": "2021-12-01T08:47:05.498Z"
   },
   {
    "duration": 11,
    "start_time": "2021-12-01T08:47:05.746Z"
   },
   {
    "duration": 16,
    "start_time": "2021-12-01T08:47:06.235Z"
   },
   {
    "duration": 13,
    "start_time": "2021-12-01T08:47:06.491Z"
   },
   {
    "duration": 21,
    "start_time": "2021-12-01T08:47:06.988Z"
   },
   {
    "duration": 12,
    "start_time": "2021-12-01T08:47:07.234Z"
   },
   {
    "duration": 19,
    "start_time": "2021-12-01T08:47:07.746Z"
   },
   {
    "duration": 14,
    "start_time": "2021-12-01T08:47:07.988Z"
   },
   {
    "duration": 19,
    "start_time": "2021-12-01T08:47:08.723Z"
   },
   {
    "duration": 7,
    "start_time": "2021-12-01T08:47:08.963Z"
   },
   {
    "duration": 26,
    "start_time": "2021-12-01T08:47:09.474Z"
   },
   {
    "duration": 19,
    "start_time": "2021-12-01T08:47:09.755Z"
   },
   {
    "duration": 23,
    "start_time": "2021-12-01T08:47:10.291Z"
   },
   {
    "duration": 15,
    "start_time": "2021-12-01T08:47:10.595Z"
   },
   {
    "duration": 8084,
    "start_time": "2021-12-01T08:47:11.155Z"
   },
   {
    "duration": 2575,
    "start_time": "2021-12-01T08:47:16.668Z"
   },
   {
    "duration": 2566,
    "start_time": "2021-12-01T08:47:16.679Z"
   },
   {
    "duration": 2562,
    "start_time": "2021-12-01T08:47:16.685Z"
   },
   {
    "duration": 9,
    "start_time": "2021-12-01T08:47:35.699Z"
   },
   {
    "duration": 17,
    "start_time": "2021-12-01T08:47:36.586Z"
   },
   {
    "duration": 1362,
    "start_time": "2021-12-01T08:47:50.083Z"
   },
   {
    "duration": 49,
    "start_time": "2021-12-01T08:48:11.809Z"
   },
   {
    "duration": 4,
    "start_time": "2021-12-01T09:28:51.505Z"
   },
   {
    "duration": 17,
    "start_time": "2021-12-01T13:13:20.540Z"
   },
   {
    "duration": 21,
    "start_time": "2021-12-01T13:14:03.851Z"
   },
   {
    "duration": 16,
    "start_time": "2021-12-01T13:14:18.501Z"
   },
   {
    "duration": 9059,
    "start_time": "2021-12-01T13:21:54.573Z"
   },
   {
    "duration": 9437,
    "start_time": "2021-12-01T13:22:16.469Z"
   },
   {
    "duration": 15239,
    "start_time": "2021-12-01T13:24:39.657Z"
   },
   {
    "duration": 11815,
    "start_time": "2021-12-01T13:25:59.312Z"
   },
   {
    "duration": 23,
    "start_time": "2021-12-01T13:27:27.792Z"
   },
   {
    "duration": 18939,
    "start_time": "2021-12-01T13:27:37.153Z"
   },
   {
    "duration": 15673,
    "start_time": "2021-12-01T13:28:02.654Z"
   },
   {
    "duration": 21095,
    "start_time": "2021-12-01T13:29:02.557Z"
   },
   {
    "duration": 56,
    "start_time": "2021-12-01T13:57:45.518Z"
   },
   {
    "duration": 21,
    "start_time": "2021-12-01T14:45:08.797Z"
   },
   {
    "duration": 17,
    "start_time": "2021-12-01T14:45:11.101Z"
   },
   {
    "duration": 17,
    "start_time": "2021-12-01T14:46:13.947Z"
   },
   {
    "duration": 20,
    "start_time": "2021-12-01T14:48:52.247Z"
   },
   {
    "duration": 20,
    "start_time": "2021-12-01T14:48:53.230Z"
   },
   {
    "duration": 15,
    "start_time": "2021-12-01T14:49:05.430Z"
   },
   {
    "duration": 7,
    "start_time": "2021-12-01T14:49:06.061Z"
   },
   {
    "duration": 20,
    "start_time": "2021-12-01T14:49:07.326Z"
   },
   {
    "duration": 1014,
    "start_time": "2021-12-01T14:49:12.990Z"
   },
   {
    "duration": 380,
    "start_time": "2021-12-01T14:49:23.373Z"
   },
   {
    "duration": 1182,
    "start_time": "2021-12-01T14:49:25.766Z"
   },
   {
    "duration": 313,
    "start_time": "2021-12-01T15:08:56.378Z"
   },
   {
    "duration": 301,
    "start_time": "2021-12-01T15:09:44.106Z"
   },
   {
    "duration": 76,
    "start_time": "2021-12-01T15:13:52.004Z"
   },
   {
    "duration": 19,
    "start_time": "2021-12-01T15:13:52.083Z"
   },
   {
    "duration": 42,
    "start_time": "2021-12-01T15:13:52.105Z"
   },
   {
    "duration": 32,
    "start_time": "2021-12-01T15:13:52.150Z"
   },
   {
    "duration": 41,
    "start_time": "2021-12-01T15:13:52.185Z"
   },
   {
    "duration": 19,
    "start_time": "2021-12-01T15:13:52.230Z"
   },
   {
    "duration": 6,
    "start_time": "2021-12-01T15:13:52.284Z"
   },
   {
    "duration": 52,
    "start_time": "2021-12-01T15:13:52.293Z"
   },
   {
    "duration": 36,
    "start_time": "2021-12-01T15:13:52.348Z"
   },
   {
    "duration": 53,
    "start_time": "2021-12-01T15:13:52.387Z"
   },
   {
    "duration": 53,
    "start_time": "2021-12-01T15:13:52.443Z"
   },
   {
    "duration": 58,
    "start_time": "2021-12-01T15:13:52.499Z"
   },
   {
    "duration": 21,
    "start_time": "2021-12-01T15:13:52.561Z"
   },
   {
    "duration": 13,
    "start_time": "2021-12-01T15:13:52.589Z"
   },
   {
    "duration": 26,
    "start_time": "2021-12-01T15:13:52.606Z"
   },
   {
    "duration": 58,
    "start_time": "2021-12-01T15:13:52.635Z"
   },
   {
    "duration": 6,
    "start_time": "2021-12-01T15:13:52.698Z"
   },
   {
    "duration": 17,
    "start_time": "2021-12-01T15:13:52.706Z"
   },
   {
    "duration": 48,
    "start_time": "2021-12-01T15:13:52.725Z"
   },
   {
    "duration": 30,
    "start_time": "2021-12-01T15:13:52.776Z"
   },
   {
    "duration": 975,
    "start_time": "2021-12-01T15:13:52.809Z"
   },
   {
    "duration": 310,
    "start_time": "2021-12-01T15:13:53.787Z"
   },
   {
    "duration": 347,
    "start_time": "2021-12-01T15:13:54.100Z"
   },
   {
    "duration": 451,
    "start_time": "2021-12-01T15:13:54.449Z"
   },
   {
    "duration": 336,
    "start_time": "2021-12-01T15:13:54.904Z"
   },
   {
    "duration": 7,
    "start_time": "2021-12-01T15:13:55.243Z"
   },
   {
    "duration": 355,
    "start_time": "2021-12-01T15:13:55.253Z"
   },
   {
    "duration": 7,
    "start_time": "2021-12-01T15:13:55.611Z"
   },
   {
    "duration": 10,
    "start_time": "2021-12-01T15:13:55.621Z"
   },
   {
    "duration": 48,
    "start_time": "2021-12-01T15:13:55.635Z"
   },
   {
    "duration": 604,
    "start_time": "2021-12-01T15:13:55.686Z"
   },
   {
    "duration": 468,
    "start_time": "2021-12-01T15:13:56.293Z"
   },
   {
    "duration": 18,
    "start_time": "2021-12-01T15:13:56.764Z"
   },
   {
    "duration": 7,
    "start_time": "2021-12-01T15:13:56.784Z"
   },
   {
    "duration": 8,
    "start_time": "2021-12-01T15:13:56.794Z"
   },
   {
    "duration": 10,
    "start_time": "2021-12-01T15:13:56.805Z"
   },
   {
    "duration": 26,
    "start_time": "2021-12-01T15:13:56.817Z"
   },
   {
    "duration": 10,
    "start_time": "2021-12-01T15:13:56.890Z"
   },
   {
    "duration": 1102,
    "start_time": "2021-12-01T15:13:56.903Z"
   },
   {
    "duration": 1469,
    "start_time": "2021-12-01T15:13:58.007Z"
   },
   {
    "duration": 1442,
    "start_time": "2021-12-01T15:13:59.482Z"
   },
   {
    "duration": 1474,
    "start_time": "2021-12-01T15:14:00.927Z"
   },
   {
    "duration": 17746,
    "start_time": "2021-12-01T15:14:02.404Z"
   },
   {
    "duration": 29,
    "start_time": "2021-12-01T15:14:20.153Z"
   },
   {
    "duration": 8,
    "start_time": "2021-12-01T15:14:20.185Z"
   },
   {
    "duration": 18,
    "start_time": "2021-12-01T15:14:20.196Z"
   },
   {
    "duration": 15,
    "start_time": "2021-12-01T15:14:20.217Z"
   },
   {
    "duration": 23,
    "start_time": "2021-12-01T15:14:20.235Z"
   },
   {
    "duration": 39,
    "start_time": "2021-12-01T15:14:20.260Z"
   },
   {
    "duration": 23,
    "start_time": "2021-12-01T15:14:20.302Z"
   },
   {
    "duration": 21,
    "start_time": "2021-12-01T15:14:20.327Z"
   },
   {
    "duration": 48,
    "start_time": "2021-12-01T15:14:20.351Z"
   },
   {
    "duration": 16,
    "start_time": "2021-12-01T15:14:20.403Z"
   },
   {
    "duration": 26,
    "start_time": "2021-12-01T15:14:20.422Z"
   },
   {
    "duration": 46,
    "start_time": "2021-12-01T15:14:20.451Z"
   },
   {
    "duration": 1082,
    "start_time": "2021-12-01T15:14:20.500Z"
   },
   {
    "duration": 296,
    "start_time": "2021-12-01T15:14:21.584Z"
   },
   {
    "duration": -942,
    "start_time": "2021-12-01T15:14:22.825Z"
   },
   {
    "duration": -952,
    "start_time": "2021-12-01T15:14:22.836Z"
   },
   {
    "duration": -957,
    "start_time": "2021-12-01T15:14:22.842Z"
   },
   {
    "duration": -966,
    "start_time": "2021-12-01T15:14:22.853Z"
   },
   {
    "duration": -970,
    "start_time": "2021-12-01T15:14:22.859Z"
   },
   {
    "duration": -979,
    "start_time": "2021-12-01T15:14:22.870Z"
   },
   {
    "duration": -984,
    "start_time": "2021-12-01T15:14:22.876Z"
   },
   {
    "duration": -992,
    "start_time": "2021-12-01T15:14:22.885Z"
   },
   {
    "duration": -996,
    "start_time": "2021-12-01T15:14:22.891Z"
   },
   {
    "duration": -1003,
    "start_time": "2021-12-01T15:14:22.900Z"
   },
   {
    "duration": -1008,
    "start_time": "2021-12-01T15:14:22.906Z"
   },
   {
    "duration": -1015,
    "start_time": "2021-12-01T15:14:22.915Z"
   },
   {
    "duration": -1020,
    "start_time": "2021-12-01T15:14:22.921Z"
   },
   {
    "duration": -1029,
    "start_time": "2021-12-01T15:14:22.931Z"
   },
   {
    "duration": -1033,
    "start_time": "2021-12-01T15:14:22.937Z"
   },
   {
    "duration": -1039,
    "start_time": "2021-12-01T15:14:22.944Z"
   },
   {
    "duration": -1046,
    "start_time": "2021-12-01T15:14:22.953Z"
   },
   {
    "duration": -1052,
    "start_time": "2021-12-01T15:14:22.960Z"
   },
   {
    "duration": -1065,
    "start_time": "2021-12-01T15:14:22.975Z"
   },
   {
    "duration": -1073,
    "start_time": "2021-12-01T15:14:22.984Z"
   },
   {
    "duration": -1076,
    "start_time": "2021-12-01T15:14:22.989Z"
   },
   {
    "duration": -1084,
    "start_time": "2021-12-01T15:14:22.998Z"
   },
   {
    "duration": -1087,
    "start_time": "2021-12-01T15:14:23.003Z"
   },
   {
    "duration": -1092,
    "start_time": "2021-12-01T15:14:23.009Z"
   },
   {
    "duration": -1100,
    "start_time": "2021-12-01T15:14:23.019Z"
   },
   {
    "duration": 77,
    "start_time": "2021-12-01T15:18:52.696Z"
   },
   {
    "duration": 23,
    "start_time": "2021-12-01T15:18:52.776Z"
   },
   {
    "duration": 16,
    "start_time": "2021-12-01T15:18:52.803Z"
   },
   {
    "duration": 16,
    "start_time": "2021-12-01T15:18:52.822Z"
   },
   {
    "duration": 77,
    "start_time": "2021-12-01T15:18:52.840Z"
   },
   {
    "duration": 19,
    "start_time": "2021-12-01T15:18:52.920Z"
   },
   {
    "duration": 45,
    "start_time": "2021-12-01T15:18:52.942Z"
   },
   {
    "duration": 23,
    "start_time": "2021-12-01T15:18:52.993Z"
   },
   {
    "duration": 65,
    "start_time": "2021-12-01T15:18:53.020Z"
   },
   {
    "duration": 55,
    "start_time": "2021-12-01T15:18:53.088Z"
   },
   {
    "duration": 40,
    "start_time": "2021-12-01T15:18:53.147Z"
   },
   {
    "duration": 55,
    "start_time": "2021-12-01T15:18:53.190Z"
   },
   {
    "duration": 6,
    "start_time": "2021-12-01T15:18:53.248Z"
   },
   {
    "duration": 5,
    "start_time": "2021-12-01T15:18:53.283Z"
   },
   {
    "duration": 22,
    "start_time": "2021-12-01T15:18:53.290Z"
   },
   {
    "duration": 26,
    "start_time": "2021-12-01T15:18:53.315Z"
   },
   {
    "duration": 6,
    "start_time": "2021-12-01T15:18:53.343Z"
   },
   {
    "duration": 5,
    "start_time": "2021-12-01T15:18:53.383Z"
   },
   {
    "duration": 22,
    "start_time": "2021-12-01T15:18:53.391Z"
   },
   {
    "duration": 15,
    "start_time": "2021-12-01T15:18:53.415Z"
   },
   {
    "duration": 877,
    "start_time": "2021-12-01T15:18:53.433Z"
   },
   {
    "duration": 296,
    "start_time": "2021-12-01T15:18:54.312Z"
   },
   {
    "duration": 596,
    "start_time": "2021-12-01T15:18:54.616Z"
   },
   {
    "duration": 485,
    "start_time": "2021-12-01T15:18:55.218Z"
   },
   {
    "duration": 326,
    "start_time": "2021-12-01T15:18:55.706Z"
   },
   {
    "duration": 7,
    "start_time": "2021-12-01T15:18:56.034Z"
   },
   {
    "duration": 344,
    "start_time": "2021-12-01T15:18:56.044Z"
   },
   {
    "duration": 7,
    "start_time": "2021-12-01T15:18:56.390Z"
   },
   {
    "duration": 23,
    "start_time": "2021-12-01T15:18:56.399Z"
   },
   {
    "duration": 18,
    "start_time": "2021-12-01T15:18:56.424Z"
   },
   {
    "duration": 450,
    "start_time": "2021-12-01T15:18:56.444Z"
   },
   {
    "duration": 434,
    "start_time": "2021-12-01T15:18:56.897Z"
   },
   {
    "duration": 8,
    "start_time": "2021-12-01T15:18:57.333Z"
   },
   {
    "duration": 39,
    "start_time": "2021-12-01T15:18:57.345Z"
   },
   {
    "duration": 7,
    "start_time": "2021-12-01T15:18:57.387Z"
   },
   {
    "duration": 4,
    "start_time": "2021-12-01T15:18:57.397Z"
   },
   {
    "duration": 20,
    "start_time": "2021-12-01T15:18:57.404Z"
   },
   {
    "duration": 8,
    "start_time": "2021-12-01T15:18:57.426Z"
   },
   {
    "duration": 1068,
    "start_time": "2021-12-01T15:18:57.436Z"
   },
   {
    "duration": 1043,
    "start_time": "2021-12-01T15:18:58.506Z"
   },
   {
    "duration": 1046,
    "start_time": "2021-12-01T15:18:59.552Z"
   },
   {
    "duration": 1045,
    "start_time": "2021-12-01T15:19:00.600Z"
   },
   {
    "duration": 14558,
    "start_time": "2021-12-01T15:19:01.648Z"
   },
   {
    "duration": 6,
    "start_time": "2021-12-01T15:19:16.209Z"
   },
   {
    "duration": 10,
    "start_time": "2021-12-01T15:19:16.218Z"
   },
   {
    "duration": 9,
    "start_time": "2021-12-01T15:19:16.230Z"
   },
   {
    "duration": 11,
    "start_time": "2021-12-01T15:19:16.283Z"
   },
   {
    "duration": 11,
    "start_time": "2021-12-01T15:19:16.297Z"
   },
   {
    "duration": 28,
    "start_time": "2021-12-01T15:19:16.311Z"
   },
   {
    "duration": 54,
    "start_time": "2021-12-01T15:19:16.342Z"
   },
   {
    "duration": 18,
    "start_time": "2021-12-01T15:19:16.399Z"
   },
   {
    "duration": 18,
    "start_time": "2021-12-01T15:19:16.419Z"
   },
   {
    "duration": 51,
    "start_time": "2021-12-01T15:19:16.440Z"
   },
   {
    "duration": 7,
    "start_time": "2021-12-01T15:19:16.493Z"
   },
   {
    "duration": 25,
    "start_time": "2021-12-01T15:19:16.503Z"
   },
   {
    "duration": 1205,
    "start_time": "2021-12-01T15:19:16.530Z"
   },
   {
    "duration": 299,
    "start_time": "2021-12-01T15:19:17.738Z"
   },
   {
    "duration": -948,
    "start_time": "2021-12-01T15:19:18.988Z"
   },
   {
    "duration": -953,
    "start_time": "2021-12-01T15:19:18.994Z"
   },
   {
    "duration": -962,
    "start_time": "2021-12-01T15:19:19.005Z"
   },
   {
    "duration": -967,
    "start_time": "2021-12-01T15:19:19.011Z"
   },
   {
    "duration": -975,
    "start_time": "2021-12-01T15:19:19.021Z"
   },
   {
    "duration": -982,
    "start_time": "2021-12-01T15:19:19.029Z"
   },
   {
    "duration": -988,
    "start_time": "2021-12-01T15:19:19.037Z"
   },
   {
    "duration": -995,
    "start_time": "2021-12-01T15:19:19.045Z"
   },
   {
    "duration": -1002,
    "start_time": "2021-12-01T15:19:19.053Z"
   },
   {
    "duration": -1007,
    "start_time": "2021-12-01T15:19:19.059Z"
   },
   {
    "duration": -1013,
    "start_time": "2021-12-01T15:19:19.067Z"
   },
   {
    "duration": -1019,
    "start_time": "2021-12-01T15:19:19.074Z"
   },
   {
    "duration": -1027,
    "start_time": "2021-12-01T15:19:19.083Z"
   },
   {
    "duration": -1031,
    "start_time": "2021-12-01T15:19:19.089Z"
   },
   {
    "duration": -1047,
    "start_time": "2021-12-01T15:19:19.106Z"
   },
   {
    "duration": -1051,
    "start_time": "2021-12-01T15:19:19.111Z"
   },
   {
    "duration": -1059,
    "start_time": "2021-12-01T15:19:19.121Z"
   },
   {
    "duration": -1064,
    "start_time": "2021-12-01T15:19:19.127Z"
   },
   {
    "duration": -1072,
    "start_time": "2021-12-01T15:19:19.136Z"
   },
   {
    "duration": -1076,
    "start_time": "2021-12-01T15:19:19.141Z"
   },
   {
    "duration": -1083,
    "start_time": "2021-12-01T15:19:19.150Z"
   },
   {
    "duration": -1088,
    "start_time": "2021-12-01T15:19:19.156Z"
   },
   {
    "duration": -1093,
    "start_time": "2021-12-01T15:19:19.162Z"
   },
   {
    "duration": -1101,
    "start_time": "2021-12-01T15:19:19.171Z"
   },
   {
    "duration": -1105,
    "start_time": "2021-12-01T15:19:19.177Z"
   },
   {
    "duration": 113,
    "start_time": "2021-12-01T16:16:25.983Z"
   },
   {
    "duration": 1083,
    "start_time": "2021-12-01T16:26:53.128Z"
   },
   {
    "duration": 20,
    "start_time": "2021-12-01T16:28:04.247Z"
   },
   {
    "duration": 17,
    "start_time": "2021-12-01T16:28:07.574Z"
   },
   {
    "duration": 17,
    "start_time": "2021-12-01T16:28:14.142Z"
   },
   {
    "duration": 12,
    "start_time": "2021-12-01T16:28:15.590Z"
   },
   {
    "duration": 18,
    "start_time": "2021-12-01T16:28:21.246Z"
   },
   {
    "duration": 12,
    "start_time": "2021-12-01T16:28:22.510Z"
   },
   {
    "duration": 16,
    "start_time": "2021-12-01T16:28:28.678Z"
   },
   {
    "duration": 12,
    "start_time": "2021-12-01T16:28:29.526Z"
   },
   {
    "duration": 17,
    "start_time": "2021-12-01T16:28:42.734Z"
   },
   {
    "duration": 12,
    "start_time": "2021-12-01T16:28:43.501Z"
   },
   {
    "duration": 27,
    "start_time": "2021-12-01T16:29:04.341Z"
   },
   {
    "duration": 8,
    "start_time": "2021-12-01T16:29:06.397Z"
   },
   {
    "duration": 24,
    "start_time": "2021-12-01T16:29:18.997Z"
   },
   {
    "duration": 18,
    "start_time": "2021-12-01T16:29:19.629Z"
   },
   {
    "duration": 20,
    "start_time": "2021-12-01T16:29:31.005Z"
   },
   {
    "duration": 14,
    "start_time": "2021-12-01T16:29:32.285Z"
   },
   {
    "duration": 3,
    "start_time": "2021-12-01T16:29:39.308Z"
   },
   {
    "duration": 11,
    "start_time": "2021-12-01T16:32:57.168Z"
   },
   {
    "duration": 9,
    "start_time": "2021-12-01T16:32:58.801Z"
   },
   {
    "duration": 18,
    "start_time": "2021-12-01T16:33:18.991Z"
   },
   {
    "duration": 18,
    "start_time": "2021-12-01T16:33:33.709Z"
   },
   {
    "duration": 19834,
    "start_time": "2021-12-01T16:33:40.487Z"
   },
   {
    "duration": 21380,
    "start_time": "2021-12-01T16:34:04.702Z"
   }
  ],
  "kernelspec": {
   "display_name": "Python 3 (ipykernel)",
   "language": "python",
   "name": "python3"
  },
  "language_info": {
   "codemirror_mode": {
    "name": "ipython",
    "version": 3
   },
   "file_extension": ".py",
   "mimetype": "text/x-python",
   "name": "python",
   "nbconvert_exporter": "python",
   "pygments_lexer": "ipython3",
   "version": "3.11.0"
  },
  "toc": {
   "base_numbering": 1,
   "nav_menu": {},
   "number_sections": true,
   "sideBar": true,
   "skip_h1_title": true,
   "title_cell": "Содержание",
   "title_sidebar": "Contents",
   "toc_cell": true,
   "toc_position": {},
   "toc_section_display": true,
   "toc_window_display": true
  }
 },
 "nbformat": 4,
 "nbformat_minor": 4
}
