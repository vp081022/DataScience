{
 "cells": [
  {
   "cell_type": "markdown",
   "metadata": {},
   "source": [
    "# Оценка способности потенциального заёмщика вернуть кредит банку"
   ]
  },
  {
   "cell_type": "markdown",
   "metadata": {},
   "source": [
    "# Описание задачи"
   ]
  },
  {
   "cell_type": "markdown",
   "metadata": {},
   "source": [
    "Имеются статистические данные о платёжеспособности клиентов. Требуется определить факторы, такие как сеймейное положение и количество детей, влияющие на возврат кредита в срок."
   ]
  },
  {
   "cell_type": "markdown",
   "metadata": {},
   "source": [
    "# План работы"
   ]
  },
  {
   "cell_type": "markdown",
   "metadata": {},
   "source": [
    "1. Обзор данных\n",
    "    1. Чтение файла с данными. Оценка содержимого и размера прочитанной таблицы\n",
    "2. Предобработка данных\n",
    "    1. Обработка аномальных значений\n",
    "    2. Обработка пропусков\n",
    "    3. Замена типа данных\n",
    "    4. Обработка дубликатов\n",
    "    5. Лемматизация\n",
    "    6. Категоризация данных\n",
    "3. Анализ факторов, влияющих на возврат кредита в срок\n",
    "4. Общий вывод"
   ]
  },
  {
   "cell_type": "markdown",
   "metadata": {},
   "source": [
    "# Описание данных"
   ]
  },
  {
   "cell_type": "markdown",
   "metadata": {},
   "source": [
    "* `children` — количество детей в семье\n",
    "* `days_employed` — общий трудовой стаж в днях\n",
    "* `dob_years` — возраст клиента в годах\n",
    "* `education` — уровень образования клиента\n",
    "* `education_id` — идентификатор уровня образования\n",
    "* `family_status` — семейное положение\n",
    "* `family_status_id` — идентификатор семейного положения\n",
    "* `gender` — пол клиента\n",
    "* `income_type` — тип занятости\n",
    "* `debt` — имел ли задолженность по возврату кредитов\n",
    "* `total_income` — ежемесячный доход\n",
    "* `purpose` — цель получения кредита"
   ]
  },
  {
   "cell_type": "markdown",
   "metadata": {},
   "source": [
    "# Обзор данных"
   ]
  },
  {
   "cell_type": "markdown",
   "metadata": {},
   "source": [
    "## Чтение файла с данными. Оценка содержимого и размера прочитанной таблицы."
   ]
  },
  {
   "cell_type": "code",
   "execution_count": 1018,
   "metadata": {},
   "outputs": [],
   "source": [
    "#Импорт библиотек.\n",
    "import pandas as pd\n",
    "import numpy as np\n",
    "import matplotlib as plt\n",
    "import pymorphy3"
   ]
  },
  {
   "cell_type": "code",
   "execution_count": 1019,
   "metadata": {},
   "outputs": [
    {
     "name": "stdout",
     "output_type": "stream",
     "text": [
      "<class 'pandas.core.frame.DataFrame'>\n",
      "RangeIndex: 21525 entries, 0 to 21524\n",
      "Data columns (total 12 columns):\n",
      " #   Column            Non-Null Count  Dtype  \n",
      "---  ------            --------------  -----  \n",
      " 0   children          21525 non-null  int64  \n",
      " 1   days_employed     19351 non-null  float64\n",
      " 2   dob_years         21525 non-null  int64  \n",
      " 3   education         21525 non-null  object \n",
      " 4   education_id      21525 non-null  int64  \n",
      " 5   family_status     21525 non-null  object \n",
      " 6   family_status_id  21525 non-null  int64  \n",
      " 7   gender            21525 non-null  object \n",
      " 8   income_type       21525 non-null  object \n",
      " 9   debt              21525 non-null  int64  \n",
      " 10  total_income      19351 non-null  float64\n",
      " 11  purpose           21525 non-null  object \n",
      "dtypes: float64(2), int64(5), object(5)\n",
      "memory usage: 2.0+ MB\n"
     ]
    }
   ],
   "source": [
    "# Чтение файла с данными и просмотр сводной информации о таблице.\n",
    "data = pd.read_csv('datasets/data.csv')\n",
    "data.info()"
   ]
  },
  {
   "cell_type": "markdown",
   "metadata": {},
   "source": [
    "Из вышеприведённой таблицы видно, что всего в ней 21525 записей, а в столбцах \"days_employed\" и \"total_income\" присутствуют только по 19351 записи. Во всех остальных столбцах количество записей равно размеру таблицы. Следовательно, стоит искать пропуски в столбцах \"days_employed\" и \"total_income\"."
   ]
  },
  {
   "cell_type": "code",
   "execution_count": 1020,
   "metadata": {
    "scrolled": true
   },
   "outputs": [
    {
     "data": {
      "text/html": [
       "<div>\n",
       "<style scoped>\n",
       "    .dataframe tbody tr th:only-of-type {\n",
       "        vertical-align: middle;\n",
       "    }\n",
       "\n",
       "    .dataframe tbody tr th {\n",
       "        vertical-align: top;\n",
       "    }\n",
       "\n",
       "    .dataframe thead th {\n",
       "        text-align: right;\n",
       "    }\n",
       "</style>\n",
       "<table border=\"1\" class=\"dataframe\">\n",
       "  <thead>\n",
       "    <tr style=\"text-align: right;\">\n",
       "      <th></th>\n",
       "      <th>children</th>\n",
       "      <th>days_employed</th>\n",
       "      <th>dob_years</th>\n",
       "      <th>education</th>\n",
       "      <th>education_id</th>\n",
       "      <th>family_status</th>\n",
       "      <th>family_status_id</th>\n",
       "      <th>gender</th>\n",
       "      <th>income_type</th>\n",
       "      <th>debt</th>\n",
       "      <th>total_income</th>\n",
       "      <th>purpose</th>\n",
       "    </tr>\n",
       "  </thead>\n",
       "  <tbody>\n",
       "    <tr>\n",
       "      <th>0</th>\n",
       "      <td>1</td>\n",
       "      <td>-8437.673028</td>\n",
       "      <td>42</td>\n",
       "      <td>высшее</td>\n",
       "      <td>0</td>\n",
       "      <td>женат / замужем</td>\n",
       "      <td>0</td>\n",
       "      <td>F</td>\n",
       "      <td>сотрудник</td>\n",
       "      <td>0</td>\n",
       "      <td>253875.639453</td>\n",
       "      <td>покупка жилья</td>\n",
       "    </tr>\n",
       "    <tr>\n",
       "      <th>1</th>\n",
       "      <td>1</td>\n",
       "      <td>-4024.803754</td>\n",
       "      <td>36</td>\n",
       "      <td>среднее</td>\n",
       "      <td>1</td>\n",
       "      <td>женат / замужем</td>\n",
       "      <td>0</td>\n",
       "      <td>F</td>\n",
       "      <td>сотрудник</td>\n",
       "      <td>0</td>\n",
       "      <td>112080.014102</td>\n",
       "      <td>приобретение автомобиля</td>\n",
       "    </tr>\n",
       "    <tr>\n",
       "      <th>2</th>\n",
       "      <td>0</td>\n",
       "      <td>-5623.422610</td>\n",
       "      <td>33</td>\n",
       "      <td>Среднее</td>\n",
       "      <td>1</td>\n",
       "      <td>женат / замужем</td>\n",
       "      <td>0</td>\n",
       "      <td>M</td>\n",
       "      <td>сотрудник</td>\n",
       "      <td>0</td>\n",
       "      <td>145885.952297</td>\n",
       "      <td>покупка жилья</td>\n",
       "    </tr>\n",
       "    <tr>\n",
       "      <th>3</th>\n",
       "      <td>3</td>\n",
       "      <td>-4124.747207</td>\n",
       "      <td>32</td>\n",
       "      <td>среднее</td>\n",
       "      <td>1</td>\n",
       "      <td>женат / замужем</td>\n",
       "      <td>0</td>\n",
       "      <td>M</td>\n",
       "      <td>сотрудник</td>\n",
       "      <td>0</td>\n",
       "      <td>267628.550329</td>\n",
       "      <td>дополнительное образование</td>\n",
       "    </tr>\n",
       "    <tr>\n",
       "      <th>4</th>\n",
       "      <td>0</td>\n",
       "      <td>340266.072047</td>\n",
       "      <td>53</td>\n",
       "      <td>среднее</td>\n",
       "      <td>1</td>\n",
       "      <td>гражданский брак</td>\n",
       "      <td>1</td>\n",
       "      <td>F</td>\n",
       "      <td>пенсионер</td>\n",
       "      <td>0</td>\n",
       "      <td>158616.077870</td>\n",
       "      <td>сыграть свадьбу</td>\n",
       "    </tr>\n",
       "    <tr>\n",
       "      <th>5</th>\n",
       "      <td>0</td>\n",
       "      <td>-926.185831</td>\n",
       "      <td>27</td>\n",
       "      <td>высшее</td>\n",
       "      <td>0</td>\n",
       "      <td>гражданский брак</td>\n",
       "      <td>1</td>\n",
       "      <td>M</td>\n",
       "      <td>компаньон</td>\n",
       "      <td>0</td>\n",
       "      <td>255763.565419</td>\n",
       "      <td>покупка жилья</td>\n",
       "    </tr>\n",
       "    <tr>\n",
       "      <th>6</th>\n",
       "      <td>0</td>\n",
       "      <td>-2879.202052</td>\n",
       "      <td>43</td>\n",
       "      <td>высшее</td>\n",
       "      <td>0</td>\n",
       "      <td>женат / замужем</td>\n",
       "      <td>0</td>\n",
       "      <td>F</td>\n",
       "      <td>компаньон</td>\n",
       "      <td>0</td>\n",
       "      <td>240525.971920</td>\n",
       "      <td>операции с жильем</td>\n",
       "    </tr>\n",
       "    <tr>\n",
       "      <th>7</th>\n",
       "      <td>0</td>\n",
       "      <td>-152.779569</td>\n",
       "      <td>50</td>\n",
       "      <td>СРЕДНЕЕ</td>\n",
       "      <td>1</td>\n",
       "      <td>женат / замужем</td>\n",
       "      <td>0</td>\n",
       "      <td>M</td>\n",
       "      <td>сотрудник</td>\n",
       "      <td>0</td>\n",
       "      <td>135823.934197</td>\n",
       "      <td>образование</td>\n",
       "    </tr>\n",
       "    <tr>\n",
       "      <th>8</th>\n",
       "      <td>2</td>\n",
       "      <td>-6929.865299</td>\n",
       "      <td>35</td>\n",
       "      <td>ВЫСШЕЕ</td>\n",
       "      <td>0</td>\n",
       "      <td>гражданский брак</td>\n",
       "      <td>1</td>\n",
       "      <td>F</td>\n",
       "      <td>сотрудник</td>\n",
       "      <td>0</td>\n",
       "      <td>95856.832424</td>\n",
       "      <td>на проведение свадьбы</td>\n",
       "    </tr>\n",
       "    <tr>\n",
       "      <th>9</th>\n",
       "      <td>0</td>\n",
       "      <td>-2188.756445</td>\n",
       "      <td>41</td>\n",
       "      <td>среднее</td>\n",
       "      <td>1</td>\n",
       "      <td>женат / замужем</td>\n",
       "      <td>0</td>\n",
       "      <td>M</td>\n",
       "      <td>сотрудник</td>\n",
       "      <td>0</td>\n",
       "      <td>144425.938277</td>\n",
       "      <td>покупка жилья для семьи</td>\n",
       "    </tr>\n",
       "  </tbody>\n",
       "</table>\n",
       "</div>"
      ],
      "text/plain": [
       "   children  days_employed  dob_years education  education_id  \\\n",
       "0         1   -8437.673028         42    высшее             0   \n",
       "1         1   -4024.803754         36   среднее             1   \n",
       "2         0   -5623.422610         33   Среднее             1   \n",
       "3         3   -4124.747207         32   среднее             1   \n",
       "4         0  340266.072047         53   среднее             1   \n",
       "5         0    -926.185831         27    высшее             0   \n",
       "6         0   -2879.202052         43    высшее             0   \n",
       "7         0    -152.779569         50   СРЕДНЕЕ             1   \n",
       "8         2   -6929.865299         35    ВЫСШЕЕ             0   \n",
       "9         0   -2188.756445         41   среднее             1   \n",
       "\n",
       "      family_status  family_status_id gender income_type  debt   total_income  \\\n",
       "0   женат / замужем                 0      F   сотрудник     0  253875.639453   \n",
       "1   женат / замужем                 0      F   сотрудник     0  112080.014102   \n",
       "2   женат / замужем                 0      M   сотрудник     0  145885.952297   \n",
       "3   женат / замужем                 0      M   сотрудник     0  267628.550329   \n",
       "4  гражданский брак                 1      F   пенсионер     0  158616.077870   \n",
       "5  гражданский брак                 1      M   компаньон     0  255763.565419   \n",
       "6   женат / замужем                 0      F   компаньон     0  240525.971920   \n",
       "7   женат / замужем                 0      M   сотрудник     0  135823.934197   \n",
       "8  гражданский брак                 1      F   сотрудник     0   95856.832424   \n",
       "9   женат / замужем                 0      M   сотрудник     0  144425.938277   \n",
       "\n",
       "                      purpose  \n",
       "0               покупка жилья  \n",
       "1     приобретение автомобиля  \n",
       "2               покупка жилья  \n",
       "3  дополнительное образование  \n",
       "4             сыграть свадьбу  \n",
       "5               покупка жилья  \n",
       "6           операции с жильем  \n",
       "7                 образование  \n",
       "8       на проведение свадьбы  \n",
       "9     покупка жилья для семьи  "
      ]
     },
     "execution_count": 1020,
     "metadata": {},
     "output_type": "execute_result"
    }
   ],
   "source": [
    "#Изучение содержимого первых 10 строк таблицы\n",
    "data.head(10)"
   ]
  },
  {
   "cell_type": "markdown",
   "metadata": {},
   "source": [
    "**Вывод**"
   ]
  },
  {
   "cell_type": "markdown",
   "metadata": {},
   "source": [
    "По содержимому таблицы в первых 10 строках видно, что значение трудового стажа указано с дробной частью и местами со знаком минус. Также местами значение трудового стажа доходит до аномальных значений. Образование в таблице указывается без единого регистра, то есть можно встретить как \"среднее\", так и \"Среднее\", а также \"СРЕДНЕЕ\" образование. Это недопустимо, все значения далее будут приведены к единому регистру."
   ]
  },
  {
   "cell_type": "markdown",
   "metadata": {},
   "source": [
    "# Предобработка данных"
   ]
  },
  {
   "cell_type": "markdown",
   "metadata": {},
   "source": [
    "## Обработка аномальных значений"
   ]
  },
  {
   "cell_type": "markdown",
   "metadata": {},
   "source": [
    "Перед дальнейшей обработкой пропусков избавимся от отрицательных и аномальных значений в столбце days_employed взяв данные по модулю."
   ]
  },
  {
   "cell_type": "code",
   "execution_count": 1021,
   "metadata": {},
   "outputs": [],
   "source": [
    "#Избавление от отрицательных значений трудового стажа\n",
    "data['days_employed'] = abs(data['days_employed'])"
   ]
  },
  {
   "cell_type": "markdown",
   "metadata": {},
   "source": [
    "Исследуем значения столбца days_employed детальнее."
   ]
  },
  {
   "cell_type": "code",
   "execution_count": 1022,
   "metadata": {},
   "outputs": [
    {
     "data": {
      "text/plain": [
       "count     19351.000000\n",
       "mean      66914.728907\n",
       "std      139030.880527\n",
       "min          24.141633\n",
       "25%         927.009265\n",
       "50%        2194.220567\n",
       "75%        5537.882441\n",
       "max      401755.400475\n",
       "Name: days_employed, dtype: float64"
      ]
     },
     "execution_count": 1022,
     "metadata": {},
     "output_type": "execute_result"
    }
   ],
   "source": [
    "data['days_employed'].describe()"
   ]
  },
  {
   "cell_type": "markdown",
   "metadata": {},
   "source": [
    "Максимальное значение трудового стажа составляет 401755 дней, что составляет больше 1000 лет, это аномальное значение. Проверим данные в этом столбце на наличие выбросов."
   ]
  },
  {
   "cell_type": "code",
   "execution_count": 1023,
   "metadata": {
    "scrolled": true
   },
   "outputs": [
    {
     "data": {
      "text/plain": [
       "<Axes: >"
      ]
     },
     "execution_count": 1023,
     "metadata": {},
     "output_type": "execute_result"
    },
    {
     "data": {
      "image/png": "[encoded data removed]",
      "text/plain": [
       "<Figure size 640x480 with 1 Axes>"
      ]
     },
     "metadata": {},
     "output_type": "display_data"
    }
   ],
   "source": [
    "data['days_employed'].plot(kind='box')"
   ]
  },
  {
   "cell_type": "markdown",
   "metadata": {},
   "source": [
    "В столбце days_employed имеются выбросы. Заполним аномальные значения стажа пропусками NaN чтобы потом вместе с остальными пропусками заполнить их медианными значениями. Для этого сначала создадим функцию заполнения аномальных значений пропусками."
   ]
  },
  {
   "cell_type": "code",
   "execution_count": 1024,
   "metadata": {},
   "outputs": [],
   "source": [
    "def vybrosy_del(data,column):\n",
    "    q25=np.array(data[column].quantile(0.25))\n",
    "    \n",
    "    q75=np.array(data[column].quantile(0.75))\n",
    "    first_part=q25-1.5*(q75-q25)\n",
    "    second_part=q75+1.5*(q75-q25)\n",
    "    del_index = []\n",
    "    for index_value, value in zip(data[column].index,data[column]):\n",
    "        if second_part <= value or value <= first_part:\n",
    "            del_index.append(index_value)\n",
    "    \n",
    "    print('Количество строк для заполнения пропусками в '+ str(column) + ':', len(del_index))\n",
    "    return del_index"
   ]
  },
  {
   "cell_type": "markdown",
   "metadata": {},
   "source": [
    "Далее применим эту функцию"
   ]
  },
  {
   "cell_type": "code",
   "execution_count": 1025,
   "metadata": {},
   "outputs": [
    {
     "name": "stdout",
     "output_type": "stream",
     "text": [
      "Количество строк для заполнения пропусками в days_employed: 3516\n",
      "Было заполнено: 3516\n"
     ]
    }
   ],
   "source": [
    "array_num_col = [\"days_employed\"]\n",
    "count = 0 \n",
    "for column in array_num_col:\n",
    "    index_del = vybrosy_del(data,column)\n",
    "    count += len(index_del)\n",
    "    data.loc[index_del, column] = np.NaN\n",
    "print(\"Было заполнено:\", count)"
   ]
  },
  {
   "cell_type": "markdown",
   "metadata": {},
   "source": [
    "## Обработка пропусков"
   ]
  },
  {
   "cell_type": "markdown",
   "metadata": {},
   "source": [
    "Найдем количество пропусков"
   ]
  },
  {
   "cell_type": "code",
   "execution_count": 1026,
   "metadata": {},
   "outputs": [
    {
     "data": {
      "text/plain": [
       "children               0\n",
       "days_employed       5690\n",
       "dob_years              0\n",
       "education              0\n",
       "education_id           0\n",
       "family_status          0\n",
       "family_status_id       0\n",
       "gender                 0\n",
       "income_type            0\n",
       "debt                   0\n",
       "total_income        2174\n",
       "purpose                0\n",
       "dtype: int64"
      ]
     },
     "metadata": {},
     "output_type": "display_data"
    }
   ],
   "source": [
    "display(data.isna().sum())"
   ]
  },
  {
   "cell_type": "markdown",
   "metadata": {},
   "source": [
    "Количество пропусков в столбце \"days_employed\" увеличилось после заполнения пропусками выбросов."
   ]
  },
  {
   "cell_type": "markdown",
   "metadata": {},
   "source": [
    "Изучим строки с пропусками"
   ]
  },
  {
   "cell_type": "code",
   "execution_count": 1027,
   "metadata": {
    "scrolled": true
   },
   "outputs": [
    {
     "data": {
      "text/html": [
       "<div>\n",
       "<style scoped>\n",
       "    .dataframe tbody tr th:only-of-type {\n",
       "        vertical-align: middle;\n",
       "    }\n",
       "\n",
       "    .dataframe tbody tr th {\n",
       "        vertical-align: top;\n",
       "    }\n",
       "\n",
       "    .dataframe thead th {\n",
       "        text-align: right;\n",
       "    }\n",
       "</style>\n",
       "<table border=\"1\" class=\"dataframe\">\n",
       "  <thead>\n",
       "    <tr style=\"text-align: right;\">\n",
       "      <th></th>\n",
       "      <th>children</th>\n",
       "      <th>days_employed</th>\n",
       "      <th>dob_years</th>\n",
       "      <th>education</th>\n",
       "      <th>education_id</th>\n",
       "      <th>family_status</th>\n",
       "      <th>family_status_id</th>\n",
       "      <th>gender</th>\n",
       "      <th>income_type</th>\n",
       "      <th>debt</th>\n",
       "      <th>total_income</th>\n",
       "      <th>purpose</th>\n",
       "    </tr>\n",
       "  </thead>\n",
       "  <tbody>\n",
       "    <tr>\n",
       "      <th>4</th>\n",
       "      <td>0</td>\n",
       "      <td>NaN</td>\n",
       "      <td>53</td>\n",
       "      <td>среднее</td>\n",
       "      <td>1</td>\n",
       "      <td>гражданский брак</td>\n",
       "      <td>1</td>\n",
       "      <td>F</td>\n",
       "      <td>пенсионер</td>\n",
       "      <td>0</td>\n",
       "      <td>158616.077870</td>\n",
       "      <td>сыграть свадьбу</td>\n",
       "    </tr>\n",
       "    <tr>\n",
       "      <th>12</th>\n",
       "      <td>0</td>\n",
       "      <td>NaN</td>\n",
       "      <td>65</td>\n",
       "      <td>среднее</td>\n",
       "      <td>1</td>\n",
       "      <td>гражданский брак</td>\n",
       "      <td>1</td>\n",
       "      <td>M</td>\n",
       "      <td>пенсионер</td>\n",
       "      <td>0</td>\n",
       "      <td>NaN</td>\n",
       "      <td>сыграть свадьбу</td>\n",
       "    </tr>\n",
       "    <tr>\n",
       "      <th>18</th>\n",
       "      <td>0</td>\n",
       "      <td>NaN</td>\n",
       "      <td>53</td>\n",
       "      <td>среднее</td>\n",
       "      <td>1</td>\n",
       "      <td>вдовец / вдова</td>\n",
       "      <td>2</td>\n",
       "      <td>F</td>\n",
       "      <td>пенсионер</td>\n",
       "      <td>0</td>\n",
       "      <td>56823.777243</td>\n",
       "      <td>на покупку подержанного автомобиля</td>\n",
       "    </tr>\n",
       "    <tr>\n",
       "      <th>24</th>\n",
       "      <td>1</td>\n",
       "      <td>NaN</td>\n",
       "      <td>57</td>\n",
       "      <td>среднее</td>\n",
       "      <td>1</td>\n",
       "      <td>Не женат / не замужем</td>\n",
       "      <td>4</td>\n",
       "      <td>F</td>\n",
       "      <td>пенсионер</td>\n",
       "      <td>0</td>\n",
       "      <td>290547.235997</td>\n",
       "      <td>операции с коммерческой недвижимостью</td>\n",
       "    </tr>\n",
       "    <tr>\n",
       "      <th>25</th>\n",
       "      <td>0</td>\n",
       "      <td>NaN</td>\n",
       "      <td>67</td>\n",
       "      <td>среднее</td>\n",
       "      <td>1</td>\n",
       "      <td>женат / замужем</td>\n",
       "      <td>0</td>\n",
       "      <td>M</td>\n",
       "      <td>пенсионер</td>\n",
       "      <td>0</td>\n",
       "      <td>55112.757732</td>\n",
       "      <td>покупка недвижимости</td>\n",
       "    </tr>\n",
       "    <tr>\n",
       "      <th>...</th>\n",
       "      <td>...</td>\n",
       "      <td>...</td>\n",
       "      <td>...</td>\n",
       "      <td>...</td>\n",
       "      <td>...</td>\n",
       "      <td>...</td>\n",
       "      <td>...</td>\n",
       "      <td>...</td>\n",
       "      <td>...</td>\n",
       "      <td>...</td>\n",
       "      <td>...</td>\n",
       "      <td>...</td>\n",
       "    </tr>\n",
       "    <tr>\n",
       "      <th>21508</th>\n",
       "      <td>0</td>\n",
       "      <td>NaN</td>\n",
       "      <td>62</td>\n",
       "      <td>среднее</td>\n",
       "      <td>1</td>\n",
       "      <td>женат / замужем</td>\n",
       "      <td>0</td>\n",
       "      <td>M</td>\n",
       "      <td>пенсионер</td>\n",
       "      <td>0</td>\n",
       "      <td>72638.590915</td>\n",
       "      <td>недвижимость</td>\n",
       "    </tr>\n",
       "    <tr>\n",
       "      <th>21509</th>\n",
       "      <td>0</td>\n",
       "      <td>NaN</td>\n",
       "      <td>59</td>\n",
       "      <td>высшее</td>\n",
       "      <td>0</td>\n",
       "      <td>женат / замужем</td>\n",
       "      <td>0</td>\n",
       "      <td>M</td>\n",
       "      <td>пенсионер</td>\n",
       "      <td>0</td>\n",
       "      <td>73029.059379</td>\n",
       "      <td>операции с недвижимостью</td>\n",
       "    </tr>\n",
       "    <tr>\n",
       "      <th>21510</th>\n",
       "      <td>2</td>\n",
       "      <td>NaN</td>\n",
       "      <td>28</td>\n",
       "      <td>среднее</td>\n",
       "      <td>1</td>\n",
       "      <td>женат / замужем</td>\n",
       "      <td>0</td>\n",
       "      <td>F</td>\n",
       "      <td>сотрудник</td>\n",
       "      <td>0</td>\n",
       "      <td>NaN</td>\n",
       "      <td>приобретение автомобиля</td>\n",
       "    </tr>\n",
       "    <tr>\n",
       "      <th>21518</th>\n",
       "      <td>0</td>\n",
       "      <td>NaN</td>\n",
       "      <td>59</td>\n",
       "      <td>СРЕДНЕЕ</td>\n",
       "      <td>1</td>\n",
       "      <td>женат / замужем</td>\n",
       "      <td>0</td>\n",
       "      <td>F</td>\n",
       "      <td>пенсионер</td>\n",
       "      <td>0</td>\n",
       "      <td>153864.650328</td>\n",
       "      <td>сделка с автомобилем</td>\n",
       "    </tr>\n",
       "    <tr>\n",
       "      <th>21521</th>\n",
       "      <td>0</td>\n",
       "      <td>NaN</td>\n",
       "      <td>67</td>\n",
       "      <td>среднее</td>\n",
       "      <td>1</td>\n",
       "      <td>женат / замужем</td>\n",
       "      <td>0</td>\n",
       "      <td>F</td>\n",
       "      <td>пенсионер</td>\n",
       "      <td>0</td>\n",
       "      <td>155999.806512</td>\n",
       "      <td>сделка с автомобилем</td>\n",
       "    </tr>\n",
       "  </tbody>\n",
       "</table>\n",
       "<p>5690 rows × 12 columns</p>\n",
       "</div>"
      ],
      "text/plain": [
       "       children  days_employed  dob_years education  education_id  \\\n",
       "4             0            NaN         53   среднее             1   \n",
       "12            0            NaN         65   среднее             1   \n",
       "18            0            NaN         53   среднее             1   \n",
       "24            1            NaN         57   среднее             1   \n",
       "25            0            NaN         67   среднее             1   \n",
       "...         ...            ...        ...       ...           ...   \n",
       "21508         0            NaN         62   среднее             1   \n",
       "21509         0            NaN         59    высшее             0   \n",
       "21510         2            NaN         28   среднее             1   \n",
       "21518         0            NaN         59   СРЕДНЕЕ             1   \n",
       "21521         0            NaN         67   среднее             1   \n",
       "\n",
       "               family_status  family_status_id gender income_type  debt  \\\n",
       "4           гражданский брак                 1      F   пенсионер     0   \n",
       "12          гражданский брак                 1      M   пенсионер     0   \n",
       "18            вдовец / вдова                 2      F   пенсионер     0   \n",
       "24     Не женат / не замужем                 4      F   пенсионер     0   \n",
       "25           женат / замужем                 0      M   пенсионер     0   \n",
       "...                      ...               ...    ...         ...   ...   \n",
       "21508        женат / замужем                 0      M   пенсионер     0   \n",
       "21509        женат / замужем                 0      M   пенсионер     0   \n",
       "21510        женат / замужем                 0      F   сотрудник     0   \n",
       "21518        женат / замужем                 0      F   пенсионер     0   \n",
       "21521        женат / замужем                 0      F   пенсионер     0   \n",
       "\n",
       "        total_income                                purpose  \n",
       "4      158616.077870                        сыграть свадьбу  \n",
       "12               NaN                        сыграть свадьбу  \n",
       "18      56823.777243     на покупку подержанного автомобиля  \n",
       "24     290547.235997  операции с коммерческой недвижимостью  \n",
       "25      55112.757732                   покупка недвижимости  \n",
       "...              ...                                    ...  \n",
       "21508   72638.590915                           недвижимость  \n",
       "21509   73029.059379               операции с недвижимостью  \n",
       "21510            NaN                приобретение автомобиля  \n",
       "21518  153864.650328                   сделка с автомобилем  \n",
       "21521  155999.806512                   сделка с автомобилем  \n",
       "\n",
       "[5690 rows x 12 columns]"
      ]
     },
     "metadata": {},
     "output_type": "display_data"
    }
   ],
   "source": [
    "#Все строки с пропусками в столбцах \"days_employed\" и \"total_income\"\n",
    "display(data[(data['days_employed'].isna()) | (data['total_income'].isna())])"
   ]
  },
  {
   "cell_type": "markdown",
   "metadata": {},
   "source": [
    "Причины появления пропусков в данных могут быть разными. Например, пользователь мог не указать о себе какие-нибудь \n",
    "сведения, или автоматизированная система сбора информации могла дать сбой."
   ]
  },
  {
   "cell_type": "markdown",
   "metadata": {},
   "source": [
    "Пропущенные значения заменим на медианы из выборки значений столбца. Если заменять пропуски на средние значения выборки, это, \n",
    "скорее всего, даст нам значительное отклонение от фактических значений."
   ]
  },
  {
   "cell_type": "markdown",
   "metadata": {},
   "source": [
    "Заменим пропуски в указанных столбцах медианой взятой по нескольким характеристикам клиента - по типу занятости, по образованию и по возрастной группе. Это позволит нам определить наиболее приближенные к фактическим значения."
   ]
  },
  {
   "cell_type": "code",
   "execution_count": 1028,
   "metadata": {},
   "outputs": [],
   "source": [
    "# Выполним последовательную группировку по трём характеристикам клиента - типу занятости, образованию и возрасту\n",
    "data_group_income_type = data.groupby(['income_type', 'education', 'dob_years'])[\"total_income\"].median()"
   ]
  },
  {
   "cell_type": "markdown",
   "metadata": {},
   "source": [
    "Посмотрим что получилось в результате группировки"
   ]
  },
  {
   "cell_type": "code",
   "execution_count": 1029,
   "metadata": {
    "scrolled": true
   },
   "outputs": [
    {
     "data": {
      "text/plain": [
       "income_type  education  dob_years\n",
       "безработный  Высшее     45           202722.511368\n",
       "             среднее    31            59956.991984\n",
       "в декрете    СРЕДНЕЕ    39            53829.130729\n",
       "госслужащий  ВЫСШЕЕ     21           349229.424952\n",
       "                        24           175195.751491\n",
       "                        26           179528.083992\n",
       "                        27           208293.756930\n",
       "                        28           191092.037741\n",
       "                        29           108089.602781\n",
       "                        31           292742.007744\n",
       "                        32           184967.678506\n",
       "                        34           108685.967340\n",
       "                        35           185280.550633\n",
       "                        36           136824.245650\n",
       "                        38           134044.429576\n",
       "                        40           162361.426048\n",
       "                        42           250978.214319\n",
       "                        43           350242.246669\n",
       "                        45           480756.590214\n",
       "                        47           162007.725708\n",
       "                        49           167170.112319\n",
       "                        50           115146.937413\n",
       "                        54           111979.853100\n",
       "                        59           145256.520312\n",
       "                        60                     NaN\n",
       "             Высшее     25           144780.213466\n",
       "                        26           120953.306346\n",
       "                        27           158086.735297\n",
       "                        28           190468.194609\n",
       "                        31                     NaN\n",
       "                        33           124908.582771\n",
       "                        35           142921.958625\n",
       "                        36           272104.293990\n",
       "                        37           300610.714126\n",
       "                        38           157939.165164\n",
       "                        39           105361.915410\n",
       "                        41           165255.959954\n",
       "                        42           465213.734417\n",
       "                        43           100851.564265\n",
       "                        44           195163.472553\n",
       "Name: total_income, dtype: float64"
      ]
     },
     "execution_count": 1029,
     "metadata": {},
     "output_type": "execute_result"
    }
   ],
   "source": [
    "data_group_income_type.head(40)"
   ]
  },
  {
   "cell_type": "markdown",
   "metadata": {},
   "source": [
    "Из вышеприведенной таблицы, первых 40 ее строк, видно, что для некоторых групп медиану вычислить не удалось из-за того, что все значения в группе оказались заполнены пропусками. Например для \"госслужащих\" с \"ВЫСШИМ\" образованием, 60 лет, стоит значение NaN.\n",
    "Из получившейся таблицы брать константы не представляется возможным, так как получается слишком много значений. Поэтому напишем функцию извлекающую значения из этой таблицы. Для извлечения значений медианы из таблицы сгруппированной по трем характеристикам понадобятся сама таблица и эти три характеристики в качестве аргументов"
   ]
  },
  {
   "cell_type": "code",
   "execution_count": 1030,
   "metadata": {},
   "outputs": [],
   "source": [
    "# Создадим функцию, принимающую в качестве аргументов таблицу с медианами, тип занятости, образование и возраст\n",
    "# и возвращающую значение медианы для данной категории для заполнения пропусков в столбце \"total_income\"\n",
    "def income_type_group3_total_income\t(data_income_type, income_type_value, education_value, dob_years_value):\n",
    "    return data_income_type.loc[income_type_value, education_value, dob_years_value]"
   ]
  },
  {
   "cell_type": "markdown",
   "metadata": {},
   "source": [
    "Можно проверить как работает функция"
   ]
  },
  {
   "cell_type": "code",
   "execution_count": 1031,
   "metadata": {},
   "outputs": [
    {
     "data": {
      "text/plain": [
       "175195.7514909646"
      ]
     },
     "execution_count": 1031,
     "metadata": {},
     "output_type": "execute_result"
    }
   ],
   "source": [
    "income_type_group3_total_income(data_group_income_type, 'госслужащий', 'ВЫСШЕЕ', 24)"
   ]
  },
  {
   "cell_type": "markdown",
   "metadata": {},
   "source": [
    "Как видно из таблицы значение верное - функция работает верно."
   ]
  },
  {
   "cell_type": "markdown",
   "metadata": {},
   "source": [
    "Для замены пропусков с помощью метода apply нам понадобится передавать функции четыре аргумента вместе с таблицей."
   ]
  },
  {
   "cell_type": "code",
   "execution_count": 1032,
   "metadata": {},
   "outputs": [],
   "source": [
    "# Функция возвращающая возрастную категорию по значению возраста\n",
    "def age_categories_func(age):\n",
    "    if age <= 25: return 'до 25'\n",
    "    if 25 < age <= 35: return 'от 26 до 35'\n",
    "    if 35 < age <= 45: return 'от 36 до 45'\n",
    "    if 45 < age <= 60: return 'от 46 до 60'\n",
    "    if age > 60: return 'от 61'\n",
    "    "
   ]
  },
  {
   "cell_type": "code",
   "execution_count": 1033,
   "metadata": {},
   "outputs": [],
   "source": [
    "# Приведение всех значений в столбце образования к нижнему регистру \n",
    "data.education = data.education.str.lower()"
   ]
  },
  {
   "cell_type": "code",
   "execution_count": 1034,
   "metadata": {},
   "outputs": [],
   "source": [
    "# Создание нового столбца с возрастными категориями, которые определяются по значениям из столбца \"возраст\"\n",
    "data['age_categories'] = data['dob_years'].apply(age_categories_func)"
   ]
  },
  {
   "cell_type": "code",
   "execution_count": 1035,
   "metadata": {},
   "outputs": [
    {
     "name": "stdout",
     "output_type": "stream",
     "text": [
      "<class 'pandas.core.frame.DataFrame'>\n",
      "RangeIndex: 21525 entries, 0 to 21524\n",
      "Data columns (total 13 columns):\n",
      " #   Column            Non-Null Count  Dtype  \n",
      "---  ------            --------------  -----  \n",
      " 0   children          21525 non-null  int64  \n",
      " 1   days_employed     15835 non-null  float64\n",
      " 2   dob_years         21525 non-null  int64  \n",
      " 3   education         21525 non-null  object \n",
      " 4   education_id      21525 non-null  int64  \n",
      " 5   family_status     21525 non-null  object \n",
      " 6   family_status_id  21525 non-null  int64  \n",
      " 7   gender            21525 non-null  object \n",
      " 8   income_type       21525 non-null  object \n",
      " 9   debt              21525 non-null  int64  \n",
      " 10  total_income      19351 non-null  float64\n",
      " 11  purpose           21525 non-null  object \n",
      " 12  age_categories    21525 non-null  object \n",
      "dtypes: float64(2), int64(5), object(6)\n",
      "memory usage: 2.1+ MB\n"
     ]
    }
   ],
   "source": [
    "data.info()"
   ]
  },
  {
   "cell_type": "code",
   "execution_count": 1036,
   "metadata": {},
   "outputs": [
    {
     "data": {
      "text/html": [
       "<div>\n",
       "<style scoped>\n",
       "    .dataframe tbody tr th:only-of-type {\n",
       "        vertical-align: middle;\n",
       "    }\n",
       "\n",
       "    .dataframe tbody tr th {\n",
       "        vertical-align: top;\n",
       "    }\n",
       "\n",
       "    .dataframe thead th {\n",
       "        text-align: right;\n",
       "    }\n",
       "</style>\n",
       "<table border=\"1\" class=\"dataframe\">\n",
       "  <thead>\n",
       "    <tr style=\"text-align: right;\">\n",
       "      <th></th>\n",
       "      <th>education</th>\n",
       "      <th>высшее</th>\n",
       "      <th>начальное</th>\n",
       "      <th>неоконченное высшее</th>\n",
       "      <th>среднее</th>\n",
       "      <th>ученая степень</th>\n",
       "    </tr>\n",
       "    <tr>\n",
       "      <th>income_type</th>\n",
       "      <th>age_categories</th>\n",
       "      <th></th>\n",
       "      <th></th>\n",
       "      <th></th>\n",
       "      <th></th>\n",
       "      <th></th>\n",
       "    </tr>\n",
       "  </thead>\n",
       "  <tbody>\n",
       "    <tr>\n",
       "      <th rowspan=\"2\" valign=\"top\">безработный</th>\n",
       "      <th>от 26 до 35</th>\n",
       "      <td>NaN</td>\n",
       "      <td>NaN</td>\n",
       "      <td>NaN</td>\n",
       "      <td>59956.991984</td>\n",
       "      <td>NaN</td>\n",
       "    </tr>\n",
       "    <tr>\n",
       "      <th>от 36 до 45</th>\n",
       "      <td>202722.511368</td>\n",
       "      <td>NaN</td>\n",
       "      <td>NaN</td>\n",
       "      <td>NaN</td>\n",
       "      <td>NaN</td>\n",
       "    </tr>\n",
       "    <tr>\n",
       "      <th>в декрете</th>\n",
       "      <th>от 36 до 45</th>\n",
       "      <td>NaN</td>\n",
       "      <td>NaN</td>\n",
       "      <td>NaN</td>\n",
       "      <td>53829.130729</td>\n",
       "      <td>NaN</td>\n",
       "    </tr>\n",
       "    <tr>\n",
       "      <th rowspan=\"5\" valign=\"top\">госслужащий</th>\n",
       "      <th>до 25</th>\n",
       "      <td>148996.629480</td>\n",
       "      <td>NaN</td>\n",
       "      <td>135252.995358</td>\n",
       "      <td>135023.973156</td>\n",
       "      <td>NaN</td>\n",
       "    </tr>\n",
       "    <tr>\n",
       "      <th>от 26 до 35</th>\n",
       "      <td>164390.448491</td>\n",
       "      <td>191021.140719</td>\n",
       "      <td>156388.620171</td>\n",
       "      <td>141532.517774</td>\n",
       "      <td>NaN</td>\n",
       "    </tr>\n",
       "    <tr>\n",
       "      <th>от 36 до 45</th>\n",
       "      <td>174957.345503</td>\n",
       "      <td>132191.849854</td>\n",
       "      <td>174803.231306</td>\n",
       "      <td>135350.142556</td>\n",
       "      <td>111392.231107</td>\n",
       "    </tr>\n",
       "    <tr>\n",
       "      <th>от 46 до 60</th>\n",
       "      <td>183847.630963</td>\n",
       "      <td>105766.403301</td>\n",
       "      <td>266011.945539</td>\n",
       "      <td>134189.711629</td>\n",
       "      <td>NaN</td>\n",
       "    </tr>\n",
       "    <tr>\n",
       "      <th>от 61</th>\n",
       "      <td>233952.871796</td>\n",
       "      <td>NaN</td>\n",
       "      <td>NaN</td>\n",
       "      <td>143847.253036</td>\n",
       "      <td>NaN</td>\n",
       "    </tr>\n",
       "    <tr>\n",
       "      <th rowspan=\"5\" valign=\"top\">компаньон</th>\n",
       "      <th>до 25</th>\n",
       "      <td>159291.733847</td>\n",
       "      <td>124320.640472</td>\n",
       "      <td>141932.179972</td>\n",
       "      <td>135891.639552</td>\n",
       "      <td>NaN</td>\n",
       "    </tr>\n",
       "    <tr>\n",
       "      <th>от 26 до 35</th>\n",
       "      <td>197165.262008</td>\n",
       "      <td>131455.738975</td>\n",
       "      <td>177633.929267</td>\n",
       "      <td>159165.567457</td>\n",
       "      <td>NaN</td>\n",
       "    </tr>\n",
       "    <tr>\n",
       "      <th>от 36 до 45</th>\n",
       "      <td>213764.990713</td>\n",
       "      <td>194995.338395</td>\n",
       "      <td>213744.325082</td>\n",
       "      <td>163115.068645</td>\n",
       "      <td>NaN</td>\n",
       "    </tr>\n",
       "    <tr>\n",
       "      <th>от 46 до 60</th>\n",
       "      <td>221348.566557</td>\n",
       "      <td>163403.016785</td>\n",
       "      <td>219164.136223</td>\n",
       "      <td>158899.868414</td>\n",
       "      <td>NaN</td>\n",
       "    </tr>\n",
       "    <tr>\n",
       "      <th>от 61</th>\n",
       "      <td>188400.822321</td>\n",
       "      <td>NaN</td>\n",
       "      <td>189610.009306</td>\n",
       "      <td>173896.618274</td>\n",
       "      <td>NaN</td>\n",
       "    </tr>\n",
       "    <tr>\n",
       "      <th rowspan=\"5\" valign=\"top\">пенсионер</th>\n",
       "      <th>до 25</th>\n",
       "      <td>137674.117012</td>\n",
       "      <td>NaN</td>\n",
       "      <td>NaN</td>\n",
       "      <td>100121.194356</td>\n",
       "      <td>NaN</td>\n",
       "    </tr>\n",
       "    <tr>\n",
       "      <th>от 26 до 35</th>\n",
       "      <td>214963.301941</td>\n",
       "      <td>NaN</td>\n",
       "      <td>NaN</td>\n",
       "      <td>96116.021663</td>\n",
       "      <td>NaN</td>\n",
       "    </tr>\n",
       "    <tr>\n",
       "      <th>от 36 до 45</th>\n",
       "      <td>169619.794309</td>\n",
       "      <td>112332.918273</td>\n",
       "      <td>34466.133539</td>\n",
       "      <td>124440.429591</td>\n",
       "      <td>NaN</td>\n",
       "    </tr>\n",
       "    <tr>\n",
       "      <th>от 46 до 60</th>\n",
       "      <td>143400.454272</td>\n",
       "      <td>110026.007572</td>\n",
       "      <td>112018.336684</td>\n",
       "      <td>118228.074585</td>\n",
       "      <td>NaN</td>\n",
       "    </tr>\n",
       "    <tr>\n",
       "      <th>от 61</th>\n",
       "      <td>143939.043160</td>\n",
       "      <td>98095.380008</td>\n",
       "      <td>145557.484323</td>\n",
       "      <td>111743.076949</td>\n",
       "      <td>177088.845999</td>\n",
       "    </tr>\n",
       "    <tr>\n",
       "      <th>предприниматель</th>\n",
       "      <th>от 26 до 35</th>\n",
       "      <td>499163.144947</td>\n",
       "      <td>NaN</td>\n",
       "      <td>NaN</td>\n",
       "      <td>NaN</td>\n",
       "      <td>NaN</td>\n",
       "    </tr>\n",
       "    <tr>\n",
       "      <th rowspan=\"5\" valign=\"top\">сотрудник</th>\n",
       "      <th>до 25</th>\n",
       "      <td>134934.796706</td>\n",
       "      <td>152742.882148</td>\n",
       "      <td>134925.188145</td>\n",
       "      <td>123717.918962</td>\n",
       "      <td>NaN</td>\n",
       "    </tr>\n",
       "    <tr>\n",
       "      <th>от 26 до 35</th>\n",
       "      <td>161891.999794</td>\n",
       "      <td>124157.255544</td>\n",
       "      <td>158116.053707</td>\n",
       "      <td>133938.686944</td>\n",
       "      <td>NaN</td>\n",
       "    </tr>\n",
       "    <tr>\n",
       "      <th>от 36 до 45</th>\n",
       "      <td>172602.293435</td>\n",
       "      <td>122114.452405</td>\n",
       "      <td>163675.468278</td>\n",
       "      <td>140501.784542</td>\n",
       "      <td>157259.898555</td>\n",
       "    </tr>\n",
       "    <tr>\n",
       "      <th>от 46 до 60</th>\n",
       "      <td>171699.598561</td>\n",
       "      <td>130600.077985</td>\n",
       "      <td>167686.286724</td>\n",
       "      <td>136253.671561</td>\n",
       "      <td>268411.214536</td>\n",
       "    </tr>\n",
       "    <tr>\n",
       "      <th>от 61</th>\n",
       "      <td>174933.507875</td>\n",
       "      <td>164412.796712</td>\n",
       "      <td>229339.200509</td>\n",
       "      <td>133299.194693</td>\n",
       "      <td>NaN</td>\n",
       "    </tr>\n",
       "    <tr>\n",
       "      <th>студент</th>\n",
       "      <th>до 25</th>\n",
       "      <td>98201.625314</td>\n",
       "      <td>NaN</td>\n",
       "      <td>NaN</td>\n",
       "      <td>NaN</td>\n",
       "      <td>NaN</td>\n",
       "    </tr>\n",
       "  </tbody>\n",
       "</table>\n",
       "</div>"
      ],
      "text/plain": [
       "education                              высшее      начальное  \\\n",
       "income_type     age_categories                                 \n",
       "безработный     от 26 до 35               NaN            NaN   \n",
       "                от 36 до 45     202722.511368            NaN   \n",
       "в декрете       от 36 до 45               NaN            NaN   \n",
       "госслужащий     до 25           148996.629480            NaN   \n",
       "                от 26 до 35     164390.448491  191021.140719   \n",
       "                от 36 до 45     174957.345503  132191.849854   \n",
       "                от 46 до 60     183847.630963  105766.403301   \n",
       "                от 61           233952.871796            NaN   \n",
       "компаньон       до 25           159291.733847  124320.640472   \n",
       "                от 26 до 35     197165.262008  131455.738975   \n",
       "                от 36 до 45     213764.990713  194995.338395   \n",
       "                от 46 до 60     221348.566557  163403.016785   \n",
       "                от 61           188400.822321            NaN   \n",
       "пенсионер       до 25           137674.117012            NaN   \n",
       "                от 26 до 35     214963.301941            NaN   \n",
       "                от 36 до 45     169619.794309  112332.918273   \n",
       "                от 46 до 60     143400.454272  110026.007572   \n",
       "                от 61           143939.043160   98095.380008   \n",
       "предприниматель от 26 до 35     499163.144947            NaN   \n",
       "сотрудник       до 25           134934.796706  152742.882148   \n",
       "                от 26 до 35     161891.999794  124157.255544   \n",
       "                от 36 до 45     172602.293435  122114.452405   \n",
       "                от 46 до 60     171699.598561  130600.077985   \n",
       "                от 61           174933.507875  164412.796712   \n",
       "студент         до 25            98201.625314            NaN   \n",
       "\n",
       "education                       неоконченное высшее        среднее  \\\n",
       "income_type     age_categories                                       \n",
       "безработный     от 26 до 35                     NaN   59956.991984   \n",
       "                от 36 до 45                     NaN            NaN   \n",
       "в декрете       от 36 до 45                     NaN   53829.130729   \n",
       "госслужащий     до 25                 135252.995358  135023.973156   \n",
       "                от 26 до 35           156388.620171  141532.517774   \n",
       "                от 36 до 45           174803.231306  135350.142556   \n",
       "                от 46 до 60           266011.945539  134189.711629   \n",
       "                от 61                           NaN  143847.253036   \n",
       "компаньон       до 25                 141932.179972  135891.639552   \n",
       "                от 26 до 35           177633.929267  159165.567457   \n",
       "                от 36 до 45           213744.325082  163115.068645   \n",
       "                от 46 до 60           219164.136223  158899.868414   \n",
       "                от 61                 189610.009306  173896.618274   \n",
       "пенсионер       до 25                           NaN  100121.194356   \n",
       "                от 26 до 35                     NaN   96116.021663   \n",
       "                от 36 до 45            34466.133539  124440.429591   \n",
       "                от 46 до 60           112018.336684  118228.074585   \n",
       "                от 61                 145557.484323  111743.076949   \n",
       "предприниматель от 26 до 35                     NaN            NaN   \n",
       "сотрудник       до 25                 134925.188145  123717.918962   \n",
       "                от 26 до 35           158116.053707  133938.686944   \n",
       "                от 36 до 45           163675.468278  140501.784542   \n",
       "                от 46 до 60           167686.286724  136253.671561   \n",
       "                от 61                 229339.200509  133299.194693   \n",
       "студент         до 25                           NaN            NaN   \n",
       "\n",
       "education                       ученая степень  \n",
       "income_type     age_categories                  \n",
       "безработный     от 26 до 35                NaN  \n",
       "                от 36 до 45                NaN  \n",
       "в декрете       от 36 до 45                NaN  \n",
       "госслужащий     до 25                      NaN  \n",
       "                от 26 до 35                NaN  \n",
       "                от 36 до 45      111392.231107  \n",
       "                от 46 до 60                NaN  \n",
       "                от 61                      NaN  \n",
       "компаньон       до 25                      NaN  \n",
       "                от 26 до 35                NaN  \n",
       "                от 36 до 45                NaN  \n",
       "                от 46 до 60                NaN  \n",
       "                от 61                      NaN  \n",
       "пенсионер       до 25                      NaN  \n",
       "                от 26 до 35                NaN  \n",
       "                от 36 до 45                NaN  \n",
       "                от 46 до 60                NaN  \n",
       "                от 61            177088.845999  \n",
       "предприниматель от 26 до 35                NaN  \n",
       "сотрудник       до 25                      NaN  \n",
       "                от 26 до 35                NaN  \n",
       "                от 36 до 45      157259.898555  \n",
       "                от 46 до 60      268411.214536  \n",
       "                от 61                      NaN  \n",
       "студент         до 25                      NaN  "
      ]
     },
     "execution_count": 1036,
     "metadata": {},
     "output_type": "execute_result"
    }
   ],
   "source": [
    "#Просмотр сводной таблицы\n",
    "data.pivot_table(index=['income_type', 'age_categories'], columns='education', values='total_income', aggfunc='median')"
   ]
  },
  {
   "cell_type": "code",
   "execution_count": 1037,
   "metadata": {},
   "outputs": [],
   "source": [
    "#Получение сводной таблицы \n",
    "data_pivot = data.pivot_table(index=['income_type', 'age_categories'], columns='education', values='total_income', aggfunc='median')"
   ]
  },
  {
   "cell_type": "code",
   "execution_count": 1038,
   "metadata": {},
   "outputs": [
    {
     "name": "stdout",
     "output_type": "stream",
     "text": [
      "98201.62531401133\n"
     ]
    }
   ],
   "source": [
    "# Описание функции возвращающей медиану и проверка ее работы\n",
    "def super_fillna_func(income_type, age_categories, education):\n",
    "    '''\n",
    "    Находит в таблице data нужную медиану.\n",
    "    '''\n",
    "    try:\n",
    "        return data_pivot.loc[(income_type, age_categories)][education]\n",
    "    except:\n",
    "        return 0\n",
    "print(super_fillna_func('студент', 'до 25','высшее') )     "
   ]
  },
  {
   "cell_type": "code",
   "execution_count": 1039,
   "metadata": {},
   "outputs": [],
   "source": [
    "# Создание нового столбца с медианными значениями столбца total_income\n",
    "data['new_income'] = data.apply(lambda row: super_fillna_func(row['income_type'], row['age_categories'], row['education']), axis=1)\n",
    "\n",
    "# Заполнение столбца total_income на основе значений столбца new_income\n",
    "data['total_income'] = data['total_income'].fillna(data['new_income'])"
   ]
  },
  {
   "cell_type": "code",
   "execution_count": 1040,
   "metadata": {},
   "outputs": [
    {
     "name": "stdout",
     "output_type": "stream",
     "text": [
      "<class 'pandas.core.frame.DataFrame'>\n",
      "RangeIndex: 21525 entries, 0 to 21524\n",
      "Data columns (total 14 columns):\n",
      " #   Column            Non-Null Count  Dtype  \n",
      "---  ------            --------------  -----  \n",
      " 0   children          21525 non-null  int64  \n",
      " 1   days_employed     15835 non-null  float64\n",
      " 2   dob_years         21525 non-null  int64  \n",
      " 3   education         21525 non-null  object \n",
      " 4   education_id      21525 non-null  int64  \n",
      " 5   family_status     21525 non-null  object \n",
      " 6   family_status_id  21525 non-null  int64  \n",
      " 7   gender            21525 non-null  object \n",
      " 8   income_type       21525 non-null  object \n",
      " 9   debt              21525 non-null  int64  \n",
      " 10  total_income      21524 non-null  float64\n",
      " 11  purpose           21525 non-null  object \n",
      " 12  age_categories    21525 non-null  object \n",
      " 13  new_income        21524 non-null  float64\n",
      "dtypes: float64(3), int64(5), object(6)\n",
      "memory usage: 2.3+ MB\n"
     ]
    }
   ],
   "source": [
    "data.info()"
   ]
  },
  {
   "cell_type": "markdown",
   "metadata": {},
   "source": [
    "В столбце \"total_income\" остался один пропуск. Посмотрим запись с этим пропуском."
   ]
  },
  {
   "cell_type": "code",
   "execution_count": 1041,
   "metadata": {},
   "outputs": [
    {
     "data": {
      "text/html": [
       "<div>\n",
       "<style scoped>\n",
       "    .dataframe tbody tr th:only-of-type {\n",
       "        vertical-align: middle;\n",
       "    }\n",
       "\n",
       "    .dataframe tbody tr th {\n",
       "        vertical-align: top;\n",
       "    }\n",
       "\n",
       "    .dataframe thead th {\n",
       "        text-align: right;\n",
       "    }\n",
       "</style>\n",
       "<table border=\"1\" class=\"dataframe\">\n",
       "  <thead>\n",
       "    <tr style=\"text-align: right;\">\n",
       "      <th></th>\n",
       "      <th>children</th>\n",
       "      <th>days_employed</th>\n",
       "      <th>dob_years</th>\n",
       "      <th>education</th>\n",
       "      <th>education_id</th>\n",
       "      <th>family_status</th>\n",
       "      <th>family_status_id</th>\n",
       "      <th>gender</th>\n",
       "      <th>income_type</th>\n",
       "      <th>debt</th>\n",
       "      <th>total_income</th>\n",
       "      <th>purpose</th>\n",
       "      <th>age_categories</th>\n",
       "      <th>new_income</th>\n",
       "    </tr>\n",
       "  </thead>\n",
       "  <tbody>\n",
       "    <tr>\n",
       "      <th>8142</th>\n",
       "      <td>0</td>\n",
       "      <td>NaN</td>\n",
       "      <td>64</td>\n",
       "      <td>начальное</td>\n",
       "      <td>3</td>\n",
       "      <td>гражданский брак</td>\n",
       "      <td>1</td>\n",
       "      <td>F</td>\n",
       "      <td>госслужащий</td>\n",
       "      <td>0</td>\n",
       "      <td>NaN</td>\n",
       "      <td>сыграть свадьбу</td>\n",
       "      <td>от 61</td>\n",
       "      <td>NaN</td>\n",
       "    </tr>\n",
       "  </tbody>\n",
       "</table>\n",
       "</div>"
      ],
      "text/plain": [
       "      children  days_employed  dob_years  education  education_id  \\\n",
       "8142         0            NaN         64  начальное             3   \n",
       "\n",
       "         family_status  family_status_id gender  income_type  debt  \\\n",
       "8142  гражданский брак                 1      F  госслужащий     0   \n",
       "\n",
       "      total_income          purpose age_categories  new_income  \n",
       "8142           NaN  сыграть свадьбу          от 61         NaN  "
      ]
     },
     "execution_count": 1041,
     "metadata": {},
     "output_type": "execute_result"
    }
   ],
   "source": [
    "data[data['total_income'].isna()]"
   ]
  },
  {
   "cell_type": "markdown",
   "metadata": {},
   "source": [
    "Параметры данной записи в сводной таблице полученной выше дают нам значение NaN. Очевидно, что NaN получается потому что в группе в столбце total_income присутствуют одни пропуски. Проверим это предположение выведя все записи с текущими параметрами."
   ]
  },
  {
   "cell_type": "code",
   "execution_count": 1042,
   "metadata": {},
   "outputs": [
    {
     "data": {
      "text/html": [
       "<div>\n",
       "<style scoped>\n",
       "    .dataframe tbody tr th:only-of-type {\n",
       "        vertical-align: middle;\n",
       "    }\n",
       "\n",
       "    .dataframe tbody tr th {\n",
       "        vertical-align: top;\n",
       "    }\n",
       "\n",
       "    .dataframe thead th {\n",
       "        text-align: right;\n",
       "    }\n",
       "</style>\n",
       "<table border=\"1\" class=\"dataframe\">\n",
       "  <thead>\n",
       "    <tr style=\"text-align: right;\">\n",
       "      <th></th>\n",
       "      <th>children</th>\n",
       "      <th>days_employed</th>\n",
       "      <th>dob_years</th>\n",
       "      <th>education</th>\n",
       "      <th>education_id</th>\n",
       "      <th>family_status</th>\n",
       "      <th>family_status_id</th>\n",
       "      <th>gender</th>\n",
       "      <th>income_type</th>\n",
       "      <th>debt</th>\n",
       "      <th>total_income</th>\n",
       "      <th>purpose</th>\n",
       "      <th>age_categories</th>\n",
       "      <th>new_income</th>\n",
       "    </tr>\n",
       "  </thead>\n",
       "  <tbody>\n",
       "    <tr>\n",
       "      <th>8142</th>\n",
       "      <td>0</td>\n",
       "      <td>NaN</td>\n",
       "      <td>64</td>\n",
       "      <td>начальное</td>\n",
       "      <td>3</td>\n",
       "      <td>гражданский брак</td>\n",
       "      <td>1</td>\n",
       "      <td>F</td>\n",
       "      <td>госслужащий</td>\n",
       "      <td>0</td>\n",
       "      <td>NaN</td>\n",
       "      <td>сыграть свадьбу</td>\n",
       "      <td>от 61</td>\n",
       "      <td>NaN</td>\n",
       "    </tr>\n",
       "  </tbody>\n",
       "</table>\n",
       "</div>"
      ],
      "text/plain": [
       "      children  days_employed  dob_years  education  education_id  \\\n",
       "8142         0            NaN         64  начальное             3   \n",
       "\n",
       "         family_status  family_status_id gender  income_type  debt  \\\n",
       "8142  гражданский брак                 1      F  госслужащий     0   \n",
       "\n",
       "      total_income          purpose age_categories  new_income  \n",
       "8142           NaN  сыграть свадьбу          от 61         NaN  "
      ]
     },
     "execution_count": 1042,
     "metadata": {},
     "output_type": "execute_result"
    }
   ],
   "source": [
    "data[(data['income_type'] == 'госслужащий') & (data['age_categories'] == 'от 61') & (data['education'] == 'начальное')]"
   ]
  },
  {
   "cell_type": "markdown",
   "metadata": {},
   "source": [
    "Медиана считается в группе с одним объектом c пропуском в столбце total_income и поэтому получается равной NaN. Для заполнения пропуска возьмем медиану из группы с той же занятостью, той же возрастной категории и ближайшим к начальному образованием."
   ]
  },
  {
   "cell_type": "code",
   "execution_count": 1043,
   "metadata": {},
   "outputs": [],
   "source": [
    "data.loc[(data['total_income'].isna()), 'total_income']=super_fillna_func('госслужащий', 'от 61','среднее')"
   ]
  },
  {
   "cell_type": "code",
   "execution_count": 1044,
   "metadata": {},
   "outputs": [
    {
     "name": "stdout",
     "output_type": "stream",
     "text": [
      "<class 'pandas.core.frame.DataFrame'>\n",
      "RangeIndex: 21525 entries, 0 to 21524\n",
      "Data columns (total 14 columns):\n",
      " #   Column            Non-Null Count  Dtype  \n",
      "---  ------            --------------  -----  \n",
      " 0   children          21525 non-null  int64  \n",
      " 1   days_employed     15835 non-null  float64\n",
      " 2   dob_years         21525 non-null  int64  \n",
      " 3   education         21525 non-null  object \n",
      " 4   education_id      21525 non-null  int64  \n",
      " 5   family_status     21525 non-null  object \n",
      " 6   family_status_id  21525 non-null  int64  \n",
      " 7   gender            21525 non-null  object \n",
      " 8   income_type       21525 non-null  object \n",
      " 9   debt              21525 non-null  int64  \n",
      " 10  total_income      21525 non-null  float64\n",
      " 11  purpose           21525 non-null  object \n",
      " 12  age_categories    21525 non-null  object \n",
      " 13  new_income        21524 non-null  float64\n",
      "dtypes: float64(3), int64(5), object(6)\n",
      "memory usage: 2.3+ MB\n"
     ]
    }
   ],
   "source": [
    "data.info()"
   ]
  },
  {
   "cell_type": "markdown",
   "metadata": {},
   "source": [
    "Теперь пропусков в столбце total_income нет. Остались пропуски в столбце days_employed."
   ]
  },
  {
   "cell_type": "code",
   "execution_count": 1045,
   "metadata": {
    "scrolled": true
   },
   "outputs": [
    {
     "data": {
      "text/html": [
       "<div>\n",
       "<style scoped>\n",
       "    .dataframe tbody tr th:only-of-type {\n",
       "        vertical-align: middle;\n",
       "    }\n",
       "\n",
       "    .dataframe tbody tr th {\n",
       "        vertical-align: top;\n",
       "    }\n",
       "\n",
       "    .dataframe thead th {\n",
       "        text-align: right;\n",
       "    }\n",
       "</style>\n",
       "<table border=\"1\" class=\"dataframe\">\n",
       "  <thead>\n",
       "    <tr style=\"text-align: right;\">\n",
       "      <th></th>\n",
       "      <th>education</th>\n",
       "      <th>высшее</th>\n",
       "      <th>начальное</th>\n",
       "      <th>неоконченное высшее</th>\n",
       "      <th>среднее</th>\n",
       "      <th>ученая степень</th>\n",
       "    </tr>\n",
       "    <tr>\n",
       "      <th>income_type</th>\n",
       "      <th>age_categories</th>\n",
       "      <th></th>\n",
       "      <th></th>\n",
       "      <th></th>\n",
       "      <th></th>\n",
       "      <th></th>\n",
       "    </tr>\n",
       "  </thead>\n",
       "  <tbody>\n",
       "    <tr>\n",
       "      <th>в декрете</th>\n",
       "      <th>от 36 до 45</th>\n",
       "      <td>NaN</td>\n",
       "      <td>NaN</td>\n",
       "      <td>NaN</td>\n",
       "      <td>3296.759962</td>\n",
       "      <td>NaN</td>\n",
       "    </tr>\n",
       "    <tr>\n",
       "      <th rowspan=\"5\" valign=\"top\">госслужащий</th>\n",
       "      <th>до 25</th>\n",
       "      <td>1211.124543</td>\n",
       "      <td>NaN</td>\n",
       "      <td>569.104305</td>\n",
       "      <td>1194.903719</td>\n",
       "      <td>NaN</td>\n",
       "    </tr>\n",
       "    <tr>\n",
       "      <th>от 26 до 35</th>\n",
       "      <td>1864.901726</td>\n",
       "      <td>760.901517</td>\n",
       "      <td>2297.801475</td>\n",
       "      <td>1961.230415</td>\n",
       "      <td>NaN</td>\n",
       "    </tr>\n",
       "    <tr>\n",
       "      <th>от 36 до 45</th>\n",
       "      <td>3869.820084</td>\n",
       "      <td>1672.633661</td>\n",
       "      <td>3500.323779</td>\n",
       "      <td>3062.038243</td>\n",
       "      <td>5968.075884</td>\n",
       "    </tr>\n",
       "    <tr>\n",
       "      <th>от 46 до 60</th>\n",
       "      <td>4141.630427</td>\n",
       "      <td>4193.718465</td>\n",
       "      <td>1643.155616</td>\n",
       "      <td>3397.569149</td>\n",
       "      <td>NaN</td>\n",
       "    </tr>\n",
       "    <tr>\n",
       "      <th>от 61</th>\n",
       "      <td>3717.274125</td>\n",
       "      <td>NaN</td>\n",
       "      <td>NaN</td>\n",
       "      <td>2219.855114</td>\n",
       "      <td>NaN</td>\n",
       "    </tr>\n",
       "    <tr>\n",
       "      <th rowspan=\"5\" valign=\"top\">компаньон</th>\n",
       "      <th>до 25</th>\n",
       "      <td>822.164196</td>\n",
       "      <td>1180.618510</td>\n",
       "      <td>749.841414</td>\n",
       "      <td>745.688380</td>\n",
       "      <td>NaN</td>\n",
       "    </tr>\n",
       "    <tr>\n",
       "      <th>от 26 до 35</th>\n",
       "      <td>1188.774514</td>\n",
       "      <td>682.177316</td>\n",
       "      <td>992.122926</td>\n",
       "      <td>1393.491585</td>\n",
       "      <td>NaN</td>\n",
       "    </tr>\n",
       "    <tr>\n",
       "      <th>от 36 до 45</th>\n",
       "      <td>1684.041245</td>\n",
       "      <td>2146.950218</td>\n",
       "      <td>1566.826499</td>\n",
       "      <td>1757.344692</td>\n",
       "      <td>NaN</td>\n",
       "    </tr>\n",
       "    <tr>\n",
       "      <th>от 46 до 60</th>\n",
       "      <td>1916.355500</td>\n",
       "      <td>1151.634460</td>\n",
       "      <td>1581.687051</td>\n",
       "      <td>2110.186400</td>\n",
       "      <td>NaN</td>\n",
       "    </tr>\n",
       "    <tr>\n",
       "      <th>от 61</th>\n",
       "      <td>2350.897005</td>\n",
       "      <td>NaN</td>\n",
       "      <td>927.335994</td>\n",
       "      <td>2279.986189</td>\n",
       "      <td>NaN</td>\n",
       "    </tr>\n",
       "    <tr>\n",
       "      <th>предприниматель</th>\n",
       "      <th>от 26 до 35</th>\n",
       "      <td>520.848083</td>\n",
       "      <td>NaN</td>\n",
       "      <td>NaN</td>\n",
       "      <td>NaN</td>\n",
       "      <td>NaN</td>\n",
       "    </tr>\n",
       "    <tr>\n",
       "      <th rowspan=\"5\" valign=\"top\">сотрудник</th>\n",
       "      <th>до 25</th>\n",
       "      <td>722.194948</td>\n",
       "      <td>849.989871</td>\n",
       "      <td>731.999015</td>\n",
       "      <td>907.079891</td>\n",
       "      <td>NaN</td>\n",
       "    </tr>\n",
       "    <tr>\n",
       "      <th>от 26 до 35</th>\n",
       "      <td>1350.336971</td>\n",
       "      <td>1292.411432</td>\n",
       "      <td>1203.830172</td>\n",
       "      <td>1330.725397</td>\n",
       "      <td>NaN</td>\n",
       "    </tr>\n",
       "    <tr>\n",
       "      <th>от 36 до 45</th>\n",
       "      <td>1958.647477</td>\n",
       "      <td>1058.945815</td>\n",
       "      <td>1391.450290</td>\n",
       "      <td>1791.040318</td>\n",
       "      <td>1380.316041</td>\n",
       "    </tr>\n",
       "    <tr>\n",
       "      <th>от 46 до 60</th>\n",
       "      <td>2024.157707</td>\n",
       "      <td>1342.523267</td>\n",
       "      <td>2070.709589</td>\n",
       "      <td>2142.827443</td>\n",
       "      <td>5352.038180</td>\n",
       "    </tr>\n",
       "    <tr>\n",
       "      <th>от 61</th>\n",
       "      <td>2674.713083</td>\n",
       "      <td>4053.359572</td>\n",
       "      <td>3551.828180</td>\n",
       "      <td>2295.468279</td>\n",
       "      <td>NaN</td>\n",
       "    </tr>\n",
       "    <tr>\n",
       "      <th>студент</th>\n",
       "      <th>до 25</th>\n",
       "      <td>578.751554</td>\n",
       "      <td>NaN</td>\n",
       "      <td>NaN</td>\n",
       "      <td>NaN</td>\n",
       "      <td>NaN</td>\n",
       "    </tr>\n",
       "  </tbody>\n",
       "</table>\n",
       "</div>"
      ],
      "text/plain": [
       "education                            высшее    начальное  неоконченное высшее  \\\n",
       "income_type     age_categories                                                  \n",
       "в декрете       от 36 до 45             NaN          NaN                  NaN   \n",
       "госслужащий     до 25           1211.124543          NaN           569.104305   \n",
       "                от 26 до 35     1864.901726   760.901517          2297.801475   \n",
       "                от 36 до 45     3869.820084  1672.633661          3500.323779   \n",
       "                от 46 до 60     4141.630427  4193.718465          1643.155616   \n",
       "                от 61           3717.274125          NaN                  NaN   \n",
       "компаньон       до 25            822.164196  1180.618510           749.841414   \n",
       "                от 26 до 35     1188.774514   682.177316           992.122926   \n",
       "                от 36 до 45     1684.041245  2146.950218          1566.826499   \n",
       "                от 46 до 60     1916.355500  1151.634460          1581.687051   \n",
       "                от 61           2350.897005          NaN           927.335994   \n",
       "предприниматель от 26 до 35      520.848083          NaN                  NaN   \n",
       "сотрудник       до 25            722.194948   849.989871           731.999015   \n",
       "                от 26 до 35     1350.336971  1292.411432          1203.830172   \n",
       "                от 36 до 45     1958.647477  1058.945815          1391.450290   \n",
       "                от 46 до 60     2024.157707  1342.523267          2070.709589   \n",
       "                от 61           2674.713083  4053.359572          3551.828180   \n",
       "студент         до 25            578.751554          NaN                  NaN   \n",
       "\n",
       "education                           среднее  ученая степень  \n",
       "income_type     age_categories                               \n",
       "в декрете       от 36 до 45     3296.759962             NaN  \n",
       "госслужащий     до 25           1194.903719             NaN  \n",
       "                от 26 до 35     1961.230415             NaN  \n",
       "                от 36 до 45     3062.038243     5968.075884  \n",
       "                от 46 до 60     3397.569149             NaN  \n",
       "                от 61           2219.855114             NaN  \n",
       "компаньон       до 25            745.688380             NaN  \n",
       "                от 26 до 35     1393.491585             NaN  \n",
       "                от 36 до 45     1757.344692             NaN  \n",
       "                от 46 до 60     2110.186400             NaN  \n",
       "                от 61           2279.986189             NaN  \n",
       "предприниматель от 26 до 35             NaN             NaN  \n",
       "сотрудник       до 25            907.079891             NaN  \n",
       "                от 26 до 35     1330.725397             NaN  \n",
       "                от 36 до 45     1791.040318     1380.316041  \n",
       "                от 46 до 60     2142.827443     5352.038180  \n",
       "                от 61           2295.468279             NaN  \n",
       "студент         до 25                   NaN             NaN  "
      ]
     },
     "execution_count": 1045,
     "metadata": {},
     "output_type": "execute_result"
    }
   ],
   "source": [
    "data.pivot_table(index=['income_type', 'age_categories'], columns='education', values='days_employed', aggfunc='median')"
   ]
  },
  {
   "cell_type": "code",
   "execution_count": 1046,
   "metadata": {},
   "outputs": [
    {
     "data": {
      "text/plain": [
       "578.7515535382181"
      ]
     },
     "execution_count": 1046,
     "metadata": {},
     "output_type": "execute_result"
    }
   ],
   "source": [
    "#Получение сводной таблицы\n",
    "data_pivot = data.pivot_table(index=['income_type', 'age_categories'], columns='education', values='days_employed', aggfunc='median')\n",
    "data_pivot.loc[('студент', 'до 25')]['высшее']"
   ]
  },
  {
   "cell_type": "code",
   "execution_count": 1047,
   "metadata": {},
   "outputs": [],
   "source": [
    "# Создание нового столбца с медианными значениями столбца days_employed\n",
    "data['new_days_employed'] = data.apply(lambda row: super_fillna_func(row['income_type'], row['age_categories'], row['education']), axis=1)\n",
    "\n",
    "# Заполнение столбца days_employed на основе значений столбца new_days_employed\n",
    "data['days_employed'] = data['days_employed'].fillna(data['new_days_employed'])"
   ]
  },
  {
   "cell_type": "code",
   "execution_count": 1048,
   "metadata": {},
   "outputs": [
    {
     "name": "stdout",
     "output_type": "stream",
     "text": [
      "<class 'pandas.core.frame.DataFrame'>\n",
      "RangeIndex: 21525 entries, 0 to 21524\n",
      "Data columns (total 15 columns):\n",
      " #   Column             Non-Null Count  Dtype  \n",
      "---  ------             --------------  -----  \n",
      " 0   children           21525 non-null  int64  \n",
      " 1   days_employed      21524 non-null  float64\n",
      " 2   dob_years          21525 non-null  int64  \n",
      " 3   education          21525 non-null  object \n",
      " 4   education_id       21525 non-null  int64  \n",
      " 5   family_status      21525 non-null  object \n",
      " 6   family_status_id   21525 non-null  int64  \n",
      " 7   gender             21525 non-null  object \n",
      " 8   income_type        21525 non-null  object \n",
      " 9   debt               21525 non-null  int64  \n",
      " 10  total_income       21525 non-null  float64\n",
      " 11  purpose            21525 non-null  object \n",
      " 12  age_categories     21525 non-null  object \n",
      " 13  new_income         21524 non-null  float64\n",
      " 14  new_days_employed  21524 non-null  float64\n",
      "dtypes: float64(4), int64(5), object(6)\n",
      "memory usage: 2.5+ MB\n"
     ]
    }
   ],
   "source": [
    "data.info()"
   ]
  },
  {
   "cell_type": "markdown",
   "metadata": {},
   "source": [
    "В столбце \"days_employed\" остался один пропуск. Посмотрим запись с этим пропуском."
   ]
  },
  {
   "cell_type": "code",
   "execution_count": 1049,
   "metadata": {},
   "outputs": [
    {
     "data": {
      "text/html": [
       "<div>\n",
       "<style scoped>\n",
       "    .dataframe tbody tr th:only-of-type {\n",
       "        vertical-align: middle;\n",
       "    }\n",
       "\n",
       "    .dataframe tbody tr th {\n",
       "        vertical-align: top;\n",
       "    }\n",
       "\n",
       "    .dataframe thead th {\n",
       "        text-align: right;\n",
       "    }\n",
       "</style>\n",
       "<table border=\"1\" class=\"dataframe\">\n",
       "  <thead>\n",
       "    <tr style=\"text-align: right;\">\n",
       "      <th></th>\n",
       "      <th>children</th>\n",
       "      <th>days_employed</th>\n",
       "      <th>dob_years</th>\n",
       "      <th>education</th>\n",
       "      <th>education_id</th>\n",
       "      <th>family_status</th>\n",
       "      <th>family_status_id</th>\n",
       "      <th>gender</th>\n",
       "      <th>income_type</th>\n",
       "      <th>debt</th>\n",
       "      <th>total_income</th>\n",
       "      <th>purpose</th>\n",
       "      <th>age_categories</th>\n",
       "      <th>new_income</th>\n",
       "      <th>new_days_employed</th>\n",
       "    </tr>\n",
       "  </thead>\n",
       "  <tbody>\n",
       "    <tr>\n",
       "      <th>8142</th>\n",
       "      <td>0</td>\n",
       "      <td>NaN</td>\n",
       "      <td>64</td>\n",
       "      <td>начальное</td>\n",
       "      <td>3</td>\n",
       "      <td>гражданский брак</td>\n",
       "      <td>1</td>\n",
       "      <td>F</td>\n",
       "      <td>госслужащий</td>\n",
       "      <td>0</td>\n",
       "      <td>143847.253036</td>\n",
       "      <td>сыграть свадьбу</td>\n",
       "      <td>от 61</td>\n",
       "      <td>NaN</td>\n",
       "      <td>NaN</td>\n",
       "    </tr>\n",
       "  </tbody>\n",
       "</table>\n",
       "</div>"
      ],
      "text/plain": [
       "      children  days_employed  dob_years  education  education_id  \\\n",
       "8142         0            NaN         64  начальное             3   \n",
       "\n",
       "         family_status  family_status_id gender  income_type  debt  \\\n",
       "8142  гражданский брак                 1      F  госслужащий     0   \n",
       "\n",
       "       total_income          purpose age_categories  new_income  \\\n",
       "8142  143847.253036  сыграть свадьбу          от 61         NaN   \n",
       "\n",
       "      new_days_employed  \n",
       "8142                NaN  "
      ]
     },
     "execution_count": 1049,
     "metadata": {},
     "output_type": "execute_result"
    }
   ],
   "source": [
    "data[data['days_employed'].isna()]"
   ]
  },
  {
   "cell_type": "markdown",
   "metadata": {},
   "source": [
    "Параметры данной записи в сводной таблице полученной выше дают нам значение NaN. Очевидно, что NaN получается потому что в группе в столбце days_employed присутствуют одни пропуски. Проверим это предположение выведя все записи с текущими параметрами."
   ]
  },
  {
   "cell_type": "code",
   "execution_count": 1050,
   "metadata": {
    "scrolled": true
   },
   "outputs": [
    {
     "data": {
      "text/html": [
       "<div>\n",
       "<style scoped>\n",
       "    .dataframe tbody tr th:only-of-type {\n",
       "        vertical-align: middle;\n",
       "    }\n",
       "\n",
       "    .dataframe tbody tr th {\n",
       "        vertical-align: top;\n",
       "    }\n",
       "\n",
       "    .dataframe thead th {\n",
       "        text-align: right;\n",
       "    }\n",
       "</style>\n",
       "<table border=\"1\" class=\"dataframe\">\n",
       "  <thead>\n",
       "    <tr style=\"text-align: right;\">\n",
       "      <th></th>\n",
       "      <th>children</th>\n",
       "      <th>days_employed</th>\n",
       "      <th>dob_years</th>\n",
       "      <th>education</th>\n",
       "      <th>education_id</th>\n",
       "      <th>family_status</th>\n",
       "      <th>family_status_id</th>\n",
       "      <th>gender</th>\n",
       "      <th>income_type</th>\n",
       "      <th>debt</th>\n",
       "      <th>total_income</th>\n",
       "      <th>purpose</th>\n",
       "      <th>age_categories</th>\n",
       "      <th>new_income</th>\n",
       "      <th>new_days_employed</th>\n",
       "    </tr>\n",
       "  </thead>\n",
       "  <tbody>\n",
       "    <tr>\n",
       "      <th>8142</th>\n",
       "      <td>0</td>\n",
       "      <td>NaN</td>\n",
       "      <td>64</td>\n",
       "      <td>начальное</td>\n",
       "      <td>3</td>\n",
       "      <td>гражданский брак</td>\n",
       "      <td>1</td>\n",
       "      <td>F</td>\n",
       "      <td>госслужащий</td>\n",
       "      <td>0</td>\n",
       "      <td>143847.253036</td>\n",
       "      <td>сыграть свадьбу</td>\n",
       "      <td>от 61</td>\n",
       "      <td>NaN</td>\n",
       "      <td>NaN</td>\n",
       "    </tr>\n",
       "  </tbody>\n",
       "</table>\n",
       "</div>"
      ],
      "text/plain": [
       "      children  days_employed  dob_years  education  education_id  \\\n",
       "8142         0            NaN         64  начальное             3   \n",
       "\n",
       "         family_status  family_status_id gender  income_type  debt  \\\n",
       "8142  гражданский брак                 1      F  госслужащий     0   \n",
       "\n",
       "       total_income          purpose age_categories  new_income  \\\n",
       "8142  143847.253036  сыграть свадьбу          от 61         NaN   \n",
       "\n",
       "      new_days_employed  \n",
       "8142                NaN  "
      ]
     },
     "execution_count": 1050,
     "metadata": {},
     "output_type": "execute_result"
    }
   ],
   "source": [
    "data[(data['income_type'] == 'госслужащий') & (data['age_categories'] == 'от 61') & (data['education'] == 'начальное')]"
   ]
  },
  {
   "cell_type": "markdown",
   "metadata": {},
   "source": [
    "Медиана считается в группе с одним объектом c пропуском в столбце days_employed и поэтому получается равной NaN. Для заполнения пропуска возьмем медиану из группы с той же занятостью, той же возрастной категории и ближайшим к начальному образованием."
   ]
  },
  {
   "cell_type": "code",
   "execution_count": 1051,
   "metadata": {},
   "outputs": [],
   "source": [
    "data.loc[(data['days_employed'].isna()), 'days_employed']=super_fillna_func('госслужащий', 'от 61','среднее')"
   ]
  },
  {
   "cell_type": "code",
   "execution_count": 1052,
   "metadata": {},
   "outputs": [
    {
     "name": "stdout",
     "output_type": "stream",
     "text": [
      "<class 'pandas.core.frame.DataFrame'>\n",
      "RangeIndex: 21525 entries, 0 to 21524\n",
      "Data columns (total 15 columns):\n",
      " #   Column             Non-Null Count  Dtype  \n",
      "---  ------             --------------  -----  \n",
      " 0   children           21525 non-null  int64  \n",
      " 1   days_employed      21525 non-null  float64\n",
      " 2   dob_years          21525 non-null  int64  \n",
      " 3   education          21525 non-null  object \n",
      " 4   education_id       21525 non-null  int64  \n",
      " 5   family_status      21525 non-null  object \n",
      " 6   family_status_id   21525 non-null  int64  \n",
      " 7   gender             21525 non-null  object \n",
      " 8   income_type        21525 non-null  object \n",
      " 9   debt               21525 non-null  int64  \n",
      " 10  total_income       21525 non-null  float64\n",
      " 11  purpose            21525 non-null  object \n",
      " 12  age_categories     21525 non-null  object \n",
      " 13  new_income         21524 non-null  float64\n",
      " 14  new_days_employed  21524 non-null  float64\n",
      "dtypes: float64(4), int64(5), object(6)\n",
      "memory usage: 2.5+ MB\n"
     ]
    }
   ],
   "source": [
    "data.info()"
   ]
  },
  {
   "cell_type": "markdown",
   "metadata": {},
   "source": [
    "## Замена типа данных"
   ]
  },
  {
   "cell_type": "code",
   "execution_count": 1053,
   "metadata": {},
   "outputs": [
    {
     "name": "stdout",
     "output_type": "stream",
     "text": [
      "<class 'pandas.core.frame.DataFrame'>\n",
      "RangeIndex: 21525 entries, 0 to 21524\n",
      "Data columns (total 15 columns):\n",
      " #   Column             Non-Null Count  Dtype  \n",
      "---  ------             --------------  -----  \n",
      " 0   children           21525 non-null  int64  \n",
      " 1   days_employed      21525 non-null  float64\n",
      " 2   dob_years          21525 non-null  int64  \n",
      " 3   education          21525 non-null  object \n",
      " 4   education_id       21525 non-null  int64  \n",
      " 5   family_status      21525 non-null  object \n",
      " 6   family_status_id   21525 non-null  int64  \n",
      " 7   gender             21525 non-null  object \n",
      " 8   income_type        21525 non-null  object \n",
      " 9   debt               21525 non-null  int64  \n",
      " 10  total_income       21525 non-null  float64\n",
      " 11  purpose            21525 non-null  object \n",
      " 12  age_categories     21525 non-null  object \n",
      " 13  new_income         21524 non-null  float64\n",
      " 14  new_days_employed  21524 non-null  float64\n",
      "dtypes: float64(4), int64(5), object(6)\n",
      "memory usage: 2.5+ MB\n"
     ]
    }
   ],
   "source": [
    "# Выведем общую информацию о таблице\n",
    "data.info()"
   ]
  },
  {
   "cell_type": "markdown",
   "metadata": {},
   "source": [
    "В столбцах \"days_employed\" и \"total_income\" целесообразно изменить вещественный тип данных на целочисленный."
   ]
  },
  {
   "cell_type": "code",
   "execution_count": 1054,
   "metadata": {},
   "outputs": [],
   "source": [
    "data['days_employed'] = data['days_employed'].astype('int64')\n",
    "data['total_income'] = data['total_income'].astype('int64')"
   ]
  },
  {
   "cell_type": "markdown",
   "metadata": {},
   "source": [
    "Повторный просмотр общей информации о таблице для проверки типов данных столбцов \"days_employed\" и \"total_income\""
   ]
  },
  {
   "cell_type": "code",
   "execution_count": 1055,
   "metadata": {},
   "outputs": [
    {
     "name": "stdout",
     "output_type": "stream",
     "text": [
      "<class 'pandas.core.frame.DataFrame'>\n",
      "RangeIndex: 21525 entries, 0 to 21524\n",
      "Data columns (total 15 columns):\n",
      " #   Column             Non-Null Count  Dtype  \n",
      "---  ------             --------------  -----  \n",
      " 0   children           21525 non-null  int64  \n",
      " 1   days_employed      21525 non-null  int64  \n",
      " 2   dob_years          21525 non-null  int64  \n",
      " 3   education          21525 non-null  object \n",
      " 4   education_id       21525 non-null  int64  \n",
      " 5   family_status      21525 non-null  object \n",
      " 6   family_status_id   21525 non-null  int64  \n",
      " 7   gender             21525 non-null  object \n",
      " 8   income_type        21525 non-null  object \n",
      " 9   debt               21525 non-null  int64  \n",
      " 10  total_income       21525 non-null  int64  \n",
      " 11  purpose            21525 non-null  object \n",
      " 12  age_categories     21525 non-null  object \n",
      " 13  new_income         21524 non-null  float64\n",
      " 14  new_days_employed  21524 non-null  float64\n",
      "dtypes: float64(2), int64(7), object(6)\n",
      "memory usage: 2.5+ MB\n"
     ]
    }
   ],
   "source": [
    "data.info()"
   ]
  },
  {
   "cell_type": "markdown",
   "metadata": {},
   "source": [
    "## Обработка дубликатов"
   ]
  },
  {
   "cell_type": "code",
   "execution_count": 1056,
   "metadata": {
    "scrolled": true
   },
   "outputs": [
    {
     "data": {
      "text/plain": [
       "72"
      ]
     },
     "execution_count": 1056,
     "metadata": {},
     "output_type": "execute_result"
    }
   ],
   "source": [
    "#Подсчет количества дубликатов\n",
    "data.duplicated().sum()"
   ]
  },
  {
   "cell_type": "code",
   "execution_count": 1057,
   "metadata": {},
   "outputs": [],
   "source": [
    "# Удаление дубликатов с обновлением индексов\n",
    "data = data.drop_duplicates().reset_index(drop = True)"
   ]
  },
  {
   "cell_type": "markdown",
   "metadata": {},
   "source": [
    "Чтобы убедиться в удалении дубликатов выполним повторный подсчет их количества."
   ]
  },
  {
   "cell_type": "code",
   "execution_count": 1058,
   "metadata": {},
   "outputs": [
    {
     "data": {
      "text/plain": [
       "0"
      ]
     },
     "execution_count": 1058,
     "metadata": {},
     "output_type": "execute_result"
    }
   ],
   "source": [
    "# Повторный подсчет количества дубликатов\n",
    "data.duplicated().sum()"
   ]
  },
  {
   "cell_type": "markdown",
   "metadata": {},
   "source": [
    "Далее будет выполнен поиск дубликатов среди строковых значений. Для этого определим в каких столбцах используются строковые значения, если требуется приведем все строковые значения к единому регистру и выявим дубликаты."
   ]
  },
  {
   "cell_type": "code",
   "execution_count": 1059,
   "metadata": {},
   "outputs": [
    {
     "name": "stdout",
     "output_type": "stream",
     "text": [
      "<class 'pandas.core.frame.DataFrame'>\n",
      "RangeIndex: 21453 entries, 0 to 21452\n",
      "Data columns (total 15 columns):\n",
      " #   Column             Non-Null Count  Dtype  \n",
      "---  ------             --------------  -----  \n",
      " 0   children           21453 non-null  int64  \n",
      " 1   days_employed      21453 non-null  int64  \n",
      " 2   dob_years          21453 non-null  int64  \n",
      " 3   education          21453 non-null  object \n",
      " 4   education_id       21453 non-null  int64  \n",
      " 5   family_status      21453 non-null  object \n",
      " 6   family_status_id   21453 non-null  int64  \n",
      " 7   gender             21453 non-null  object \n",
      " 8   income_type        21453 non-null  object \n",
      " 9   debt               21453 non-null  int64  \n",
      " 10  total_income       21453 non-null  int64  \n",
      " 11  purpose            21453 non-null  object \n",
      " 12  age_categories     21453 non-null  object \n",
      " 13  new_income         21452 non-null  float64\n",
      " 14  new_days_employed  21452 non-null  float64\n",
      "dtypes: float64(2), int64(7), object(6)\n",
      "memory usage: 2.5+ MB\n"
     ]
    }
   ],
   "source": [
    "# Вывод общей информации о таблице\n",
    "data.info()"
   ]
  },
  {
   "cell_type": "markdown",
   "metadata": {},
   "source": [
    "Строковые значения используются в столбцах \"education\", \"family_status\", \"gender\", \"income_type\", \"purpose\"."
   ]
  },
  {
   "cell_type": "code",
   "execution_count": 1060,
   "metadata": {},
   "outputs": [
    {
     "data": {
      "text/plain": [
       "array(['высшее', 'среднее', 'неоконченное высшее', 'начальное',\n",
       "       'ученая степень'], dtype=object)"
      ]
     },
     "execution_count": 1060,
     "metadata": {},
     "output_type": "execute_result"
    }
   ],
   "source": [
    "# Уникальные значения в столбце education\n",
    "data['education'].unique()"
   ]
  },
  {
   "cell_type": "code",
   "execution_count": 1061,
   "metadata": {},
   "outputs": [
    {
     "data": {
      "text/plain": [
       "array(['женат / замужем', 'гражданский брак', 'вдовец / вдова',\n",
       "       'в разводе', 'Не женат / не замужем'], dtype=object)"
      ]
     },
     "execution_count": 1061,
     "metadata": {},
     "output_type": "execute_result"
    }
   ],
   "source": [
    "# Уникальные значения в столбце family_status\n",
    "data['family_status'].unique()"
   ]
  },
  {
   "cell_type": "code",
   "execution_count": 1062,
   "metadata": {},
   "outputs": [
    {
     "data": {
      "text/plain": [
       "array(['F', 'M', 'XNA'], dtype=object)"
      ]
     },
     "execution_count": 1062,
     "metadata": {},
     "output_type": "execute_result"
    }
   ],
   "source": [
    "# Уникальные значения в столбце gender\n",
    "data['gender'].unique()"
   ]
  },
  {
   "cell_type": "code",
   "execution_count": 1063,
   "metadata": {},
   "outputs": [
    {
     "data": {
      "text/plain": [
       "array(['сотрудник', 'пенсионер', 'компаньон', 'госслужащий',\n",
       "       'безработный', 'предприниматель', 'студент', 'в декрете'],\n",
       "      dtype=object)"
      ]
     },
     "execution_count": 1063,
     "metadata": {},
     "output_type": "execute_result"
    }
   ],
   "source": [
    "# Уникальные значения в столбце income_type\n",
    "data['income_type'].unique()"
   ]
  },
  {
   "cell_type": "code",
   "execution_count": 1064,
   "metadata": {},
   "outputs": [
    {
     "data": {
      "text/plain": [
       "array(['покупка жилья', 'приобретение автомобиля',\n",
       "       'дополнительное образование', 'сыграть свадьбу',\n",
       "       'операции с жильем', 'образование', 'на проведение свадьбы',\n",
       "       'покупка жилья для семьи', 'покупка недвижимости',\n",
       "       'покупка коммерческой недвижимости', 'покупка жилой недвижимости',\n",
       "       'строительство собственной недвижимости', 'недвижимость',\n",
       "       'строительство недвижимости', 'на покупку подержанного автомобиля',\n",
       "       'на покупку своего автомобиля',\n",
       "       'операции с коммерческой недвижимостью',\n",
       "       'строительство жилой недвижимости', 'жилье',\n",
       "       'операции со своей недвижимостью', 'автомобили',\n",
       "       'заняться образованием', 'сделка с подержанным автомобилем',\n",
       "       'получение образования', 'автомобиль', 'свадьба',\n",
       "       'получение дополнительного образования', 'покупка своего жилья',\n",
       "       'операции с недвижимостью', 'получение высшего образования',\n",
       "       'свой автомобиль', 'сделка с автомобилем',\n",
       "       'профильное образование', 'высшее образование',\n",
       "       'покупка жилья для сдачи', 'на покупку автомобиля', 'ремонт жилью',\n",
       "       'заняться высшим образованием'], dtype=object)"
      ]
     },
     "execution_count": 1064,
     "metadata": {},
     "output_type": "execute_result"
    }
   ],
   "source": [
    "# Уникальные значения в столбце purpose\n",
    "data['purpose'].unique()"
   ]
  },
  {
   "cell_type": "markdown",
   "metadata": {},
   "source": [
    "Приведение к единому регистру не требуется. Это требовалось только в столбце education и уже было проделано. Следовательно, не требуется и повторно искать дубликаты."
   ]
  },
  {
   "cell_type": "markdown",
   "metadata": {},
   "source": [
    "В таблице data столбцы education и education_id являются взаимозаменяемыми. То же самое можно сказать про столбцы family_status и family_status_id. Поэтому стоит удалить дублирующую информацию из таблицы, а именно столбцы education и family_status, предварительно создав датафреймы (словари), сопоставляющие education_id c education и family_status_id с family_status."
   ]
  },
  {
   "cell_type": "markdown",
   "metadata": {},
   "source": [
    "Создадим новый датафрейм (словарь) сопоставляющий каждому уникальному значению education уникальное значение education_id и удалим из исходной таблицы стобец education."
   ]
  },
  {
   "cell_type": "code",
   "execution_count": 1065,
   "metadata": {},
   "outputs": [
    {
     "name": "stdout",
     "output_type": "stream",
     "text": [
      "Словарь:\n"
     ]
    },
    {
     "data": {
      "text/html": [
       "<div>\n",
       "<style scoped>\n",
       "    .dataframe tbody tr th:only-of-type {\n",
       "        vertical-align: middle;\n",
       "    }\n",
       "\n",
       "    .dataframe tbody tr th {\n",
       "        vertical-align: top;\n",
       "    }\n",
       "\n",
       "    .dataframe thead th {\n",
       "        text-align: right;\n",
       "    }\n",
       "</style>\n",
       "<table border=\"1\" class=\"dataframe\">\n",
       "  <thead>\n",
       "    <tr style=\"text-align: right;\">\n",
       "      <th></th>\n",
       "      <th>education_id</th>\n",
       "      <th>education</th>\n",
       "    </tr>\n",
       "  </thead>\n",
       "  <tbody>\n",
       "    <tr>\n",
       "      <th>0</th>\n",
       "      <td>0</td>\n",
       "      <td>высшее</td>\n",
       "    </tr>\n",
       "    <tr>\n",
       "      <th>1</th>\n",
       "      <td>1</td>\n",
       "      <td>среднее</td>\n",
       "    </tr>\n",
       "    <tr>\n",
       "      <th>2</th>\n",
       "      <td>2</td>\n",
       "      <td>неоконченное высшее</td>\n",
       "    </tr>\n",
       "    <tr>\n",
       "      <th>3</th>\n",
       "      <td>3</td>\n",
       "      <td>начальное</td>\n",
       "    </tr>\n",
       "    <tr>\n",
       "      <th>4</th>\n",
       "      <td>4</td>\n",
       "      <td>ученая степень</td>\n",
       "    </tr>\n",
       "  </tbody>\n",
       "</table>\n",
       "</div>"
      ],
      "text/plain": [
       "   education_id            education\n",
       "0             0               высшее\n",
       "1             1              среднее\n",
       "2             2  неоконченное высшее\n",
       "3             3            начальное\n",
       "4             4       ученая степень"
      ]
     },
     "metadata": {},
     "output_type": "display_data"
    }
   ],
   "source": [
    "print('Словарь:')\n",
    "education_dict = data[['education_id', 'education']]\n",
    "education_dict = education_dict.drop_duplicates().reset_index(drop=True)\n",
    "data.drop('education', axis = 1, inplace = True)\n",
    "display(education_dict)"
   ]
  },
  {
   "cell_type": "markdown",
   "metadata": {},
   "source": [
    "Создадим новый датафрейм (словарь) сопоставляющий каждому уникальному значению family_status уникальное значение family_status_id и удалим из исходной таблицы стобец family_status. А также выведем предыдущую таблицу как с использованием family_status_id, так и снова с помощью family_status."
   ]
  },
  {
   "cell_type": "code",
   "execution_count": 1066,
   "metadata": {},
   "outputs": [
    {
     "name": "stdout",
     "output_type": "stream",
     "text": [
      "Словарь:\n"
     ]
    },
    {
     "data": {
      "text/html": [
       "<div>\n",
       "<style scoped>\n",
       "    .dataframe tbody tr th:only-of-type {\n",
       "        vertical-align: middle;\n",
       "    }\n",
       "\n",
       "    .dataframe tbody tr th {\n",
       "        vertical-align: top;\n",
       "    }\n",
       "\n",
       "    .dataframe thead th {\n",
       "        text-align: right;\n",
       "    }\n",
       "</style>\n",
       "<table border=\"1\" class=\"dataframe\">\n",
       "  <thead>\n",
       "    <tr style=\"text-align: right;\">\n",
       "      <th></th>\n",
       "      <th>family_status_id</th>\n",
       "      <th>family_status</th>\n",
       "    </tr>\n",
       "  </thead>\n",
       "  <tbody>\n",
       "    <tr>\n",
       "      <th>0</th>\n",
       "      <td>0</td>\n",
       "      <td>женат / замужем</td>\n",
       "    </tr>\n",
       "    <tr>\n",
       "      <th>1</th>\n",
       "      <td>1</td>\n",
       "      <td>гражданский брак</td>\n",
       "    </tr>\n",
       "    <tr>\n",
       "      <th>2</th>\n",
       "      <td>2</td>\n",
       "      <td>вдовец / вдова</td>\n",
       "    </tr>\n",
       "    <tr>\n",
       "      <th>3</th>\n",
       "      <td>3</td>\n",
       "      <td>в разводе</td>\n",
       "    </tr>\n",
       "    <tr>\n",
       "      <th>4</th>\n",
       "      <td>4</td>\n",
       "      <td>Не женат / не замужем</td>\n",
       "    </tr>\n",
       "  </tbody>\n",
       "</table>\n",
       "</div>"
      ],
      "text/plain": [
       "   family_status_id          family_status\n",
       "0                 0        женат / замужем\n",
       "1                 1       гражданский брак\n",
       "2                 2         вдовец / вдова\n",
       "3                 3              в разводе\n",
       "4                 4  Не женат / не замужем"
      ]
     },
     "metadata": {},
     "output_type": "display_data"
    }
   ],
   "source": [
    "print('Словарь:')\n",
    "family_dict = data[['family_status_id', 'family_status']]\n",
    "family_dict = family_dict.drop_duplicates().reset_index(drop=True)\n",
    "data.drop('family_status', axis = 1, inplace = True)\n",
    "display(family_dict)"
   ]
  },
  {
   "cell_type": "markdown",
   "metadata": {},
   "source": [
    "Созданные датафреймы можно использовать для извлечения значений следующим образом:"
   ]
  },
  {
   "cell_type": "code",
   "execution_count": 1067,
   "metadata": {
    "scrolled": true
   },
   "outputs": [
    {
     "name": "stdout",
     "output_type": "stream",
     "text": [
      "\n",
      "\n",
      "Сгруппированная таблица:\n"
     ]
    },
    {
     "data": {
      "text/html": [
       "<div>\n",
       "<style scoped>\n",
       "    .dataframe tbody tr th:only-of-type {\n",
       "        vertical-align: middle;\n",
       "    }\n",
       "\n",
       "    .dataframe tbody tr th {\n",
       "        vertical-align: top;\n",
       "    }\n",
       "\n",
       "    .dataframe thead th {\n",
       "        text-align: right;\n",
       "    }\n",
       "</style>\n",
       "<table border=\"1\" class=\"dataframe\">\n",
       "  <thead>\n",
       "    <tr style=\"text-align: right;\">\n",
       "      <th></th>\n",
       "      <th>count</th>\n",
       "      <th>sum</th>\n",
       "      <th>&lt;lambda_0&gt;</th>\n",
       "    </tr>\n",
       "    <tr>\n",
       "      <th>family_status_id</th>\n",
       "      <th></th>\n",
       "      <th></th>\n",
       "      <th></th>\n",
       "    </tr>\n",
       "  </thead>\n",
       "  <tbody>\n",
       "    <tr>\n",
       "      <th>0</th>\n",
       "      <td>12338</td>\n",
       "      <td>931</td>\n",
       "      <td>7.55%</td>\n",
       "    </tr>\n",
       "    <tr>\n",
       "      <th>1</th>\n",
       "      <td>4151</td>\n",
       "      <td>388</td>\n",
       "      <td>9.35%</td>\n",
       "    </tr>\n",
       "    <tr>\n",
       "      <th>2</th>\n",
       "      <td>959</td>\n",
       "      <td>63</td>\n",
       "      <td>6.57%</td>\n",
       "    </tr>\n",
       "    <tr>\n",
       "      <th>3</th>\n",
       "      <td>1195</td>\n",
       "      <td>85</td>\n",
       "      <td>7.11%</td>\n",
       "    </tr>\n",
       "    <tr>\n",
       "      <th>4</th>\n",
       "      <td>2810</td>\n",
       "      <td>274</td>\n",
       "      <td>9.75%</td>\n",
       "    </tr>\n",
       "  </tbody>\n",
       "</table>\n",
       "</div>"
      ],
      "text/plain": [
       "                  count  sum <lambda_0>\n",
       "family_status_id                       \n",
       "0                 12338  931     7.55% \n",
       "1                  4151  388     9.35% \n",
       "2                   959   63     6.57% \n",
       "3                  1195   85     7.11% \n",
       "4                  2810  274     9.75% "
      ]
     },
     "metadata": {},
     "output_type": "display_data"
    },
    {
     "name": "stdout",
     "output_type": "stream",
     "text": [
      "\n",
      "\n",
      "Заменяем численные значения по ключу словаря:\n"
     ]
    },
    {
     "data": {
      "text/html": [
       "<div>\n",
       "<style scoped>\n",
       "    .dataframe tbody tr th:only-of-type {\n",
       "        vertical-align: middle;\n",
       "    }\n",
       "\n",
       "    .dataframe tbody tr th {\n",
       "        vertical-align: top;\n",
       "    }\n",
       "\n",
       "    .dataframe thead th {\n",
       "        text-align: right;\n",
       "    }\n",
       "</style>\n",
       "<table border=\"1\" class=\"dataframe\">\n",
       "  <thead>\n",
       "    <tr style=\"text-align: right;\">\n",
       "      <th></th>\n",
       "      <th>family_status_id</th>\n",
       "      <th>count</th>\n",
       "      <th>sum</th>\n",
       "      <th>&lt;lambda_0&gt;</th>\n",
       "    </tr>\n",
       "  </thead>\n",
       "  <tbody>\n",
       "    <tr>\n",
       "      <th>0</th>\n",
       "      <td>женат / замужем</td>\n",
       "      <td>12338</td>\n",
       "      <td>931</td>\n",
       "      <td>7.55%</td>\n",
       "    </tr>\n",
       "    <tr>\n",
       "      <th>1</th>\n",
       "      <td>гражданский брак</td>\n",
       "      <td>4151</td>\n",
       "      <td>388</td>\n",
       "      <td>9.35%</td>\n",
       "    </tr>\n",
       "    <tr>\n",
       "      <th>2</th>\n",
       "      <td>вдовец / вдова</td>\n",
       "      <td>959</td>\n",
       "      <td>63</td>\n",
       "      <td>6.57%</td>\n",
       "    </tr>\n",
       "    <tr>\n",
       "      <th>3</th>\n",
       "      <td>в разводе</td>\n",
       "      <td>1195</td>\n",
       "      <td>85</td>\n",
       "      <td>7.11%</td>\n",
       "    </tr>\n",
       "    <tr>\n",
       "      <th>4</th>\n",
       "      <td>Не женат / не замужем</td>\n",
       "      <td>2810</td>\n",
       "      <td>274</td>\n",
       "      <td>9.75%</td>\n",
       "    </tr>\n",
       "  </tbody>\n",
       "</table>\n",
       "</div>"
      ],
      "text/plain": [
       "        family_status_id  count  sum <lambda_0>\n",
       "0        женат / замужем  12338  931     7.55% \n",
       "1       гражданский брак   4151  388     9.35% \n",
       "2         вдовец / вдова    959   63     6.57% \n",
       "3              в разводе   1195   85     7.11% \n",
       "4  Не женат / не замужем   2810  274     9.75% "
      ]
     },
     "execution_count": 1067,
     "metadata": {},
     "output_type": "execute_result"
    }
   ],
   "source": [
    "print('\\n\\nСгруппированная таблица:')\n",
    "a = data.groupby('family_status_id')['debt'].agg(['count', 'sum', lambda x: '{:.2%} '.format(x.mean())])\n",
    "display(a)\n",
    "\n",
    "\n",
    "# Заменяем\n",
    "print('\\n\\nЗаменяем численные значения по ключу словаря:')\n",
    "a.reset_index().replace({'family_status_id': family_dict.family_status.to_dict()})"
   ]
  },
  {
   "cell_type": "markdown",
   "metadata": {},
   "source": [
    "## Лемматизация."
   ]
  },
  {
   "cell_type": "markdown",
   "metadata": {},
   "source": [
    "Для каждой записи составим список лемм цели кредита и добавим их в новый столбец \"purpose_lemmas\""
   ]
  },
  {
   "cell_type": "code",
   "execution_count": 1068,
   "metadata": {},
   "outputs": [],
   "source": [
    "morph = pymorphy3.MorphAnalyzer()"
   ]
  },
  {
   "cell_type": "code",
   "execution_count": 1069,
   "metadata": {},
   "outputs": [],
   "source": [
    "def lemm(text):\n",
    "    spisok_slov = text.split()\n",
    "    lemma = []\n",
    "    for word in spisok_slov:\n",
    "        lemma.append(morph.normal_forms(word)[0])\n",
    "    return lemma"
   ]
  },
  {
   "cell_type": "code",
   "execution_count": 1070,
   "metadata": {},
   "outputs": [],
   "source": [
    "data['purpose_lemmas'] = data['purpose'].apply(lemm) "
   ]
  },
  {
   "cell_type": "code",
   "execution_count": 1071,
   "metadata": {},
   "outputs": [
    {
     "data": {
      "text/html": [
       "<div>\n",
       "<style scoped>\n",
       "    .dataframe tbody tr th:only-of-type {\n",
       "        vertical-align: middle;\n",
       "    }\n",
       "\n",
       "    .dataframe tbody tr th {\n",
       "        vertical-align: top;\n",
       "    }\n",
       "\n",
       "    .dataframe thead th {\n",
       "        text-align: right;\n",
       "    }\n",
       "</style>\n",
       "<table border=\"1\" class=\"dataframe\">\n",
       "  <thead>\n",
       "    <tr style=\"text-align: right;\">\n",
       "      <th></th>\n",
       "      <th>children</th>\n",
       "      <th>days_employed</th>\n",
       "      <th>dob_years</th>\n",
       "      <th>education_id</th>\n",
       "      <th>family_status_id</th>\n",
       "      <th>gender</th>\n",
       "      <th>income_type</th>\n",
       "      <th>debt</th>\n",
       "      <th>total_income</th>\n",
       "      <th>purpose</th>\n",
       "      <th>age_categories</th>\n",
       "      <th>new_income</th>\n",
       "      <th>new_days_employed</th>\n",
       "      <th>purpose_lemmas</th>\n",
       "    </tr>\n",
       "  </thead>\n",
       "  <tbody>\n",
       "    <tr>\n",
       "      <th>0</th>\n",
       "      <td>1</td>\n",
       "      <td>8437</td>\n",
       "      <td>42</td>\n",
       "      <td>0</td>\n",
       "      <td>0</td>\n",
       "      <td>F</td>\n",
       "      <td>сотрудник</td>\n",
       "      <td>0</td>\n",
       "      <td>253875</td>\n",
       "      <td>покупка жилья</td>\n",
       "      <td>от 36 до 45</td>\n",
       "      <td>172602.293435</td>\n",
       "      <td>1958.647477</td>\n",
       "      <td>[покупка, жильё]</td>\n",
       "    </tr>\n",
       "    <tr>\n",
       "      <th>1</th>\n",
       "      <td>1</td>\n",
       "      <td>4024</td>\n",
       "      <td>36</td>\n",
       "      <td>1</td>\n",
       "      <td>0</td>\n",
       "      <td>F</td>\n",
       "      <td>сотрудник</td>\n",
       "      <td>0</td>\n",
       "      <td>112080</td>\n",
       "      <td>приобретение автомобиля</td>\n",
       "      <td>от 36 до 45</td>\n",
       "      <td>140501.784542</td>\n",
       "      <td>1791.040318</td>\n",
       "      <td>[приобретение, автомобиль]</td>\n",
       "    </tr>\n",
       "    <tr>\n",
       "      <th>2</th>\n",
       "      <td>0</td>\n",
       "      <td>5623</td>\n",
       "      <td>33</td>\n",
       "      <td>1</td>\n",
       "      <td>0</td>\n",
       "      <td>M</td>\n",
       "      <td>сотрудник</td>\n",
       "      <td>0</td>\n",
       "      <td>145885</td>\n",
       "      <td>покупка жилья</td>\n",
       "      <td>от 26 до 35</td>\n",
       "      <td>133938.686944</td>\n",
       "      <td>1330.725397</td>\n",
       "      <td>[покупка, жильё]</td>\n",
       "    </tr>\n",
       "    <tr>\n",
       "      <th>3</th>\n",
       "      <td>3</td>\n",
       "      <td>4124</td>\n",
       "      <td>32</td>\n",
       "      <td>1</td>\n",
       "      <td>0</td>\n",
       "      <td>M</td>\n",
       "      <td>сотрудник</td>\n",
       "      <td>0</td>\n",
       "      <td>267628</td>\n",
       "      <td>дополнительное образование</td>\n",
       "      <td>от 26 до 35</td>\n",
       "      <td>133938.686944</td>\n",
       "      <td>1330.725397</td>\n",
       "      <td>[дополнительный, образование]</td>\n",
       "    </tr>\n",
       "    <tr>\n",
       "      <th>4</th>\n",
       "      <td>0</td>\n",
       "      <td>0</td>\n",
       "      <td>53</td>\n",
       "      <td>1</td>\n",
       "      <td>1</td>\n",
       "      <td>F</td>\n",
       "      <td>пенсионер</td>\n",
       "      <td>0</td>\n",
       "      <td>158616</td>\n",
       "      <td>сыграть свадьбу</td>\n",
       "      <td>от 46 до 60</td>\n",
       "      <td>118228.074585</td>\n",
       "      <td>0.000000</td>\n",
       "      <td>[сыграть, свадьба]</td>\n",
       "    </tr>\n",
       "    <tr>\n",
       "      <th>...</th>\n",
       "      <td>...</td>\n",
       "      <td>...</td>\n",
       "      <td>...</td>\n",
       "      <td>...</td>\n",
       "      <td>...</td>\n",
       "      <td>...</td>\n",
       "      <td>...</td>\n",
       "      <td>...</td>\n",
       "      <td>...</td>\n",
       "      <td>...</td>\n",
       "      <td>...</td>\n",
       "      <td>...</td>\n",
       "      <td>...</td>\n",
       "      <td>...</td>\n",
       "    </tr>\n",
       "    <tr>\n",
       "      <th>21448</th>\n",
       "      <td>1</td>\n",
       "      <td>4529</td>\n",
       "      <td>43</td>\n",
       "      <td>1</td>\n",
       "      <td>1</td>\n",
       "      <td>F</td>\n",
       "      <td>компаньон</td>\n",
       "      <td>0</td>\n",
       "      <td>224791</td>\n",
       "      <td>операции с жильем</td>\n",
       "      <td>от 36 до 45</td>\n",
       "      <td>163115.068645</td>\n",
       "      <td>1757.344692</td>\n",
       "      <td>[операция, с, жильё]</td>\n",
       "    </tr>\n",
       "    <tr>\n",
       "      <th>21449</th>\n",
       "      <td>0</td>\n",
       "      <td>0</td>\n",
       "      <td>67</td>\n",
       "      <td>1</td>\n",
       "      <td>0</td>\n",
       "      <td>F</td>\n",
       "      <td>пенсионер</td>\n",
       "      <td>0</td>\n",
       "      <td>155999</td>\n",
       "      <td>сделка с автомобилем</td>\n",
       "      <td>от 61</td>\n",
       "      <td>111743.076949</td>\n",
       "      <td>0.000000</td>\n",
       "      <td>[сделка, с, автомобиль]</td>\n",
       "    </tr>\n",
       "    <tr>\n",
       "      <th>21450</th>\n",
       "      <td>1</td>\n",
       "      <td>2113</td>\n",
       "      <td>38</td>\n",
       "      <td>1</td>\n",
       "      <td>1</td>\n",
       "      <td>M</td>\n",
       "      <td>сотрудник</td>\n",
       "      <td>1</td>\n",
       "      <td>89672</td>\n",
       "      <td>недвижимость</td>\n",
       "      <td>от 36 до 45</td>\n",
       "      <td>140501.784542</td>\n",
       "      <td>1791.040318</td>\n",
       "      <td>[недвижимость]</td>\n",
       "    </tr>\n",
       "    <tr>\n",
       "      <th>21451</th>\n",
       "      <td>3</td>\n",
       "      <td>3112</td>\n",
       "      <td>38</td>\n",
       "      <td>1</td>\n",
       "      <td>0</td>\n",
       "      <td>M</td>\n",
       "      <td>сотрудник</td>\n",
       "      <td>1</td>\n",
       "      <td>244093</td>\n",
       "      <td>на покупку своего автомобиля</td>\n",
       "      <td>от 36 до 45</td>\n",
       "      <td>140501.784542</td>\n",
       "      <td>1791.040318</td>\n",
       "      <td>[на, покупка, свой, автомобиль]</td>\n",
       "    </tr>\n",
       "    <tr>\n",
       "      <th>21452</th>\n",
       "      <td>2</td>\n",
       "      <td>1984</td>\n",
       "      <td>40</td>\n",
       "      <td>1</td>\n",
       "      <td>0</td>\n",
       "      <td>F</td>\n",
       "      <td>сотрудник</td>\n",
       "      <td>0</td>\n",
       "      <td>82047</td>\n",
       "      <td>на покупку автомобиля</td>\n",
       "      <td>от 36 до 45</td>\n",
       "      <td>140501.784542</td>\n",
       "      <td>1791.040318</td>\n",
       "      <td>[на, покупка, автомобиль]</td>\n",
       "    </tr>\n",
       "  </tbody>\n",
       "</table>\n",
       "<p>21453 rows × 14 columns</p>\n",
       "</div>"
      ],
      "text/plain": [
       "       children  days_employed  dob_years  education_id  family_status_id  \\\n",
       "0             1           8437         42             0                 0   \n",
       "1             1           4024         36             1                 0   \n",
       "2             0           5623         33             1                 0   \n",
       "3             3           4124         32             1                 0   \n",
       "4             0              0         53             1                 1   \n",
       "...         ...            ...        ...           ...               ...   \n",
       "21448         1           4529         43             1                 1   \n",
       "21449         0              0         67             1                 0   \n",
       "21450         1           2113         38             1                 1   \n",
       "21451         3           3112         38             1                 0   \n",
       "21452         2           1984         40             1                 0   \n",
       "\n",
       "      gender income_type  debt  total_income                       purpose  \\\n",
       "0          F   сотрудник     0        253875                 покупка жилья   \n",
       "1          F   сотрудник     0        112080       приобретение автомобиля   \n",
       "2          M   сотрудник     0        145885                 покупка жилья   \n",
       "3          M   сотрудник     0        267628    дополнительное образование   \n",
       "4          F   пенсионер     0        158616               сыграть свадьбу   \n",
       "...      ...         ...   ...           ...                           ...   \n",
       "21448      F   компаньон     0        224791             операции с жильем   \n",
       "21449      F   пенсионер     0        155999          сделка с автомобилем   \n",
       "21450      M   сотрудник     1         89672                  недвижимость   \n",
       "21451      M   сотрудник     1        244093  на покупку своего автомобиля   \n",
       "21452      F   сотрудник     0         82047         на покупку автомобиля   \n",
       "\n",
       "      age_categories     new_income  new_days_employed  \\\n",
       "0        от 36 до 45  172602.293435        1958.647477   \n",
       "1        от 36 до 45  140501.784542        1791.040318   \n",
       "2        от 26 до 35  133938.686944        1330.725397   \n",
       "3        от 26 до 35  133938.686944        1330.725397   \n",
       "4        от 46 до 60  118228.074585           0.000000   \n",
       "...              ...            ...                ...   \n",
       "21448    от 36 до 45  163115.068645        1757.344692   \n",
       "21449          от 61  111743.076949           0.000000   \n",
       "21450    от 36 до 45  140501.784542        1791.040318   \n",
       "21451    от 36 до 45  140501.784542        1791.040318   \n",
       "21452    от 36 до 45  140501.784542        1791.040318   \n",
       "\n",
       "                        purpose_lemmas  \n",
       "0                     [покупка, жильё]  \n",
       "1           [приобретение, автомобиль]  \n",
       "2                     [покупка, жильё]  \n",
       "3        [дополнительный, образование]  \n",
       "4                   [сыграть, свадьба]  \n",
       "...                                ...  \n",
       "21448             [операция, с, жильё]  \n",
       "21449          [сделка, с, автомобиль]  \n",
       "21450                   [недвижимость]  \n",
       "21451  [на, покупка, свой, автомобиль]  \n",
       "21452        [на, покупка, автомобиль]  \n",
       "\n",
       "[21453 rows x 14 columns]"
      ]
     },
     "execution_count": 1071,
     "metadata": {},
     "output_type": "execute_result"
    }
   ],
   "source": [
    "data"
   ]
  },
  {
   "cell_type": "markdown",
   "metadata": {},
   "source": [
    "**Вывод**"
   ]
  },
  {
   "cell_type": "markdown",
   "metadata": {},
   "source": [
    "В значениях столбца с целями получения кредита были выделены леммы и помещены в новый столбец с названием \"purpose_lemmas\""
   ]
  },
  {
   "cell_type": "markdown",
   "metadata": {},
   "source": [
    "## Категоризация данных"
   ]
  },
  {
   "cell_type": "markdown",
   "metadata": {},
   "source": [
    "Указанные цели кредита могут совпадать по смыслу, но быть сформулированы по-разному. Опишем одной формулировкой такие цели."
   ]
  },
  {
   "cell_type": "code",
   "execution_count": 1072,
   "metadata": {
    "scrolled": true
   },
   "outputs": [
    {
     "name": "stdout",
     "output_type": "stream",
     "text": [
      "purpose\n",
      "свадьба                                   791\n",
      "на проведение свадьбы                     768\n",
      "сыграть свадьбу                           765\n",
      "операции с недвижимостью                  675\n",
      "покупка коммерческой недвижимости         661\n",
      "операции с жильем                         652\n",
      "покупка жилья для сдачи                   651\n",
      "операции с коммерческой недвижимостью     650\n",
      "покупка жилья                             646\n",
      "жилье                                     646\n",
      "покупка жилья для семьи                   638\n",
      "строительство собственной недвижимости    635\n",
      "недвижимость                              633\n",
      "операции со своей недвижимостью           627\n",
      "строительство жилой недвижимости          624\n",
      "покупка недвижимости                      621\n",
      "покупка своего жилья                      620\n",
      "строительство недвижимости                619\n",
      "ремонт жилью                              607\n",
      "покупка жилой недвижимости                606\n",
      "на покупку своего автомобиля              505\n",
      "заняться высшим образованием              496\n",
      "автомобиль                                494\n",
      "сделка с подержанным автомобилем          486\n",
      "свой автомобиль                           478\n",
      "на покупку подержанного автомобиля        478\n",
      "автомобили                                477\n",
      "на покупку автомобиля                     471\n",
      "приобретение автомобиля                   461\n",
      "дополнительное образование                460\n",
      "сделка с автомобилем                      455\n",
      "высшее образование                        452\n",
      "образование                               447\n",
      "получение дополнительного образования     446\n",
      "получение образования                     442\n",
      "профильное образование                    436\n",
      "получение высшего образования             426\n",
      "заняться образованием                     408\n",
      "Name: count, dtype: int64\n"
     ]
    }
   ],
   "source": [
    "# Получим уникальные значения столбца 'purpose' и значения, показывающие сколько раз они встречаются\n",
    "print (data['purpose'].value_counts())"
   ]
  },
  {
   "cell_type": "code",
   "execution_count": 1073,
   "metadata": {},
   "outputs": [],
   "source": [
    "# Для каждого значения столбца 'purpose' выделим одно ключевое слово, отражающее цель кредита.\n",
    "# Сформируем из ключевых слов список\n",
    "categories_keyword = [\"недвижимость\", \"жильё\", \"автомобиль\", \"образование\",  \"свадьба\"]  "
   ]
  },
  {
   "cell_type": "markdown",
   "metadata": {},
   "source": [
    "Далее сформируем словарь, где ключам соответствуют ключевые слова из предыдущего списка, а значениям - категории цели кредита."
   ]
  },
  {
   "cell_type": "code",
   "execution_count": 1074,
   "metadata": {},
   "outputs": [],
   "source": [
    "categories_dict = {\"недвижимость\": 'операции с недвижимостью', \"жильё\": 'операции с жильем', \"автомобиль\": 'операции с автомобилем', \n",
    "                   \"образование\": 'получение образования', \"свадьба\": 'проведение свадьбы'}"
   ]
  },
  {
   "cell_type": "code",
   "execution_count": 1075,
   "metadata": {
    "scrolled": true
   },
   "outputs": [
    {
     "data": {
      "text/plain": [
       "0        [операции с жильем, операции с автомобилем, оп...\n",
       "1        [операции с жильем, операции с автомобилем, оп...\n",
       "2        [операции с жильем, операции с автомобилем, оп...\n",
       "3        [операции с жильем, операции с автомобилем, оп...\n",
       "4        [операции с жильем, операции с автомобилем, оп...\n",
       "                               ...                        \n",
       "21448    [операции с жильем, операции с автомобилем, оп...\n",
       "21449    [операции с жильем, операции с автомобилем, оп...\n",
       "21450    [операции с жильем, операции с автомобилем, оп...\n",
       "21451    [операции с жильем, операции с автомобилем, оп...\n",
       "21452    [операции с жильем, операции с автомобилем, оп...\n",
       "Name: purpose_lemmas, Length: 21453, dtype: object"
      ]
     },
     "execution_count": 1075,
     "metadata": {},
     "output_type": "execute_result"
    }
   ],
   "source": [
    "# Создание списка с категориями цели кредита\n",
    "categories=[]\n",
    "def purpose_categories(text):\n",
    "    for word in categories_dict.keys():\n",
    "        if word in text:\n",
    "            categories.append(categories_dict[word])\n",
    "    return categories\n",
    "\n",
    "data['purpose_lemmas'].apply(purpose_categories)"
   ]
  },
  {
   "cell_type": "code",
   "execution_count": 1076,
   "metadata": {},
   "outputs": [],
   "source": [
    "# Добавим сформированный список categories в таблицу как новую колонку 'purpose_categories'\n",
    "data['purpose_categories'] = categories"
   ]
  },
  {
   "cell_type": "code",
   "execution_count": 1077,
   "metadata": {},
   "outputs": [
    {
     "data": {
      "text/html": [
       "<div>\n",
       "<style scoped>\n",
       "    .dataframe tbody tr th:only-of-type {\n",
       "        vertical-align: middle;\n",
       "    }\n",
       "\n",
       "    .dataframe tbody tr th {\n",
       "        vertical-align: top;\n",
       "    }\n",
       "\n",
       "    .dataframe thead th {\n",
       "        text-align: right;\n",
       "    }\n",
       "</style>\n",
       "<table border=\"1\" class=\"dataframe\">\n",
       "  <thead>\n",
       "    <tr style=\"text-align: right;\">\n",
       "      <th></th>\n",
       "      <th>children</th>\n",
       "      <th>days_employed</th>\n",
       "      <th>dob_years</th>\n",
       "      <th>education_id</th>\n",
       "      <th>family_status_id</th>\n",
       "      <th>gender</th>\n",
       "      <th>income_type</th>\n",
       "      <th>debt</th>\n",
       "      <th>total_income</th>\n",
       "      <th>purpose</th>\n",
       "      <th>age_categories</th>\n",
       "      <th>new_income</th>\n",
       "      <th>new_days_employed</th>\n",
       "      <th>purpose_lemmas</th>\n",
       "      <th>purpose_categories</th>\n",
       "    </tr>\n",
       "  </thead>\n",
       "  <tbody>\n",
       "    <tr>\n",
       "      <th>0</th>\n",
       "      <td>1</td>\n",
       "      <td>8437</td>\n",
       "      <td>42</td>\n",
       "      <td>0</td>\n",
       "      <td>0</td>\n",
       "      <td>F</td>\n",
       "      <td>сотрудник</td>\n",
       "      <td>0</td>\n",
       "      <td>253875</td>\n",
       "      <td>покупка жилья</td>\n",
       "      <td>от 36 до 45</td>\n",
       "      <td>172602.293435</td>\n",
       "      <td>1958.647477</td>\n",
       "      <td>[покупка, жильё]</td>\n",
       "      <td>операции с жильем</td>\n",
       "    </tr>\n",
       "    <tr>\n",
       "      <th>1</th>\n",
       "      <td>1</td>\n",
       "      <td>4024</td>\n",
       "      <td>36</td>\n",
       "      <td>1</td>\n",
       "      <td>0</td>\n",
       "      <td>F</td>\n",
       "      <td>сотрудник</td>\n",
       "      <td>0</td>\n",
       "      <td>112080</td>\n",
       "      <td>приобретение автомобиля</td>\n",
       "      <td>от 36 до 45</td>\n",
       "      <td>140501.784542</td>\n",
       "      <td>1791.040318</td>\n",
       "      <td>[приобретение, автомобиль]</td>\n",
       "      <td>операции с автомобилем</td>\n",
       "    </tr>\n",
       "    <tr>\n",
       "      <th>2</th>\n",
       "      <td>0</td>\n",
       "      <td>5623</td>\n",
       "      <td>33</td>\n",
       "      <td>1</td>\n",
       "      <td>0</td>\n",
       "      <td>M</td>\n",
       "      <td>сотрудник</td>\n",
       "      <td>0</td>\n",
       "      <td>145885</td>\n",
       "      <td>покупка жилья</td>\n",
       "      <td>от 26 до 35</td>\n",
       "      <td>133938.686944</td>\n",
       "      <td>1330.725397</td>\n",
       "      <td>[покупка, жильё]</td>\n",
       "      <td>операции с жильем</td>\n",
       "    </tr>\n",
       "    <tr>\n",
       "      <th>3</th>\n",
       "      <td>3</td>\n",
       "      <td>4124</td>\n",
       "      <td>32</td>\n",
       "      <td>1</td>\n",
       "      <td>0</td>\n",
       "      <td>M</td>\n",
       "      <td>сотрудник</td>\n",
       "      <td>0</td>\n",
       "      <td>267628</td>\n",
       "      <td>дополнительное образование</td>\n",
       "      <td>от 26 до 35</td>\n",
       "      <td>133938.686944</td>\n",
       "      <td>1330.725397</td>\n",
       "      <td>[дополнительный, образование]</td>\n",
       "      <td>получение образования</td>\n",
       "    </tr>\n",
       "    <tr>\n",
       "      <th>4</th>\n",
       "      <td>0</td>\n",
       "      <td>0</td>\n",
       "      <td>53</td>\n",
       "      <td>1</td>\n",
       "      <td>1</td>\n",
       "      <td>F</td>\n",
       "      <td>пенсионер</td>\n",
       "      <td>0</td>\n",
       "      <td>158616</td>\n",
       "      <td>сыграть свадьбу</td>\n",
       "      <td>от 46 до 60</td>\n",
       "      <td>118228.074585</td>\n",
       "      <td>0.000000</td>\n",
       "      <td>[сыграть, свадьба]</td>\n",
       "      <td>проведение свадьбы</td>\n",
       "    </tr>\n",
       "    <tr>\n",
       "      <th>...</th>\n",
       "      <td>...</td>\n",
       "      <td>...</td>\n",
       "      <td>...</td>\n",
       "      <td>...</td>\n",
       "      <td>...</td>\n",
       "      <td>...</td>\n",
       "      <td>...</td>\n",
       "      <td>...</td>\n",
       "      <td>...</td>\n",
       "      <td>...</td>\n",
       "      <td>...</td>\n",
       "      <td>...</td>\n",
       "      <td>...</td>\n",
       "      <td>...</td>\n",
       "      <td>...</td>\n",
       "    </tr>\n",
       "    <tr>\n",
       "      <th>21448</th>\n",
       "      <td>1</td>\n",
       "      <td>4529</td>\n",
       "      <td>43</td>\n",
       "      <td>1</td>\n",
       "      <td>1</td>\n",
       "      <td>F</td>\n",
       "      <td>компаньон</td>\n",
       "      <td>0</td>\n",
       "      <td>224791</td>\n",
       "      <td>операции с жильем</td>\n",
       "      <td>от 36 до 45</td>\n",
       "      <td>163115.068645</td>\n",
       "      <td>1757.344692</td>\n",
       "      <td>[операция, с, жильё]</td>\n",
       "      <td>операции с жильем</td>\n",
       "    </tr>\n",
       "    <tr>\n",
       "      <th>21449</th>\n",
       "      <td>0</td>\n",
       "      <td>0</td>\n",
       "      <td>67</td>\n",
       "      <td>1</td>\n",
       "      <td>0</td>\n",
       "      <td>F</td>\n",
       "      <td>пенсионер</td>\n",
       "      <td>0</td>\n",
       "      <td>155999</td>\n",
       "      <td>сделка с автомобилем</td>\n",
       "      <td>от 61</td>\n",
       "      <td>111743.076949</td>\n",
       "      <td>0.000000</td>\n",
       "      <td>[сделка, с, автомобиль]</td>\n",
       "      <td>операции с автомобилем</td>\n",
       "    </tr>\n",
       "    <tr>\n",
       "      <th>21450</th>\n",
       "      <td>1</td>\n",
       "      <td>2113</td>\n",
       "      <td>38</td>\n",
       "      <td>1</td>\n",
       "      <td>1</td>\n",
       "      <td>M</td>\n",
       "      <td>сотрудник</td>\n",
       "      <td>1</td>\n",
       "      <td>89672</td>\n",
       "      <td>недвижимость</td>\n",
       "      <td>от 36 до 45</td>\n",
       "      <td>140501.784542</td>\n",
       "      <td>1791.040318</td>\n",
       "      <td>[недвижимость]</td>\n",
       "      <td>операции с недвижимостью</td>\n",
       "    </tr>\n",
       "    <tr>\n",
       "      <th>21451</th>\n",
       "      <td>3</td>\n",
       "      <td>3112</td>\n",
       "      <td>38</td>\n",
       "      <td>1</td>\n",
       "      <td>0</td>\n",
       "      <td>M</td>\n",
       "      <td>сотрудник</td>\n",
       "      <td>1</td>\n",
       "      <td>244093</td>\n",
       "      <td>на покупку своего автомобиля</td>\n",
       "      <td>от 36 до 45</td>\n",
       "      <td>140501.784542</td>\n",
       "      <td>1791.040318</td>\n",
       "      <td>[на, покупка, свой, автомобиль]</td>\n",
       "      <td>операции с автомобилем</td>\n",
       "    </tr>\n",
       "    <tr>\n",
       "      <th>21452</th>\n",
       "      <td>2</td>\n",
       "      <td>1984</td>\n",
       "      <td>40</td>\n",
       "      <td>1</td>\n",
       "      <td>0</td>\n",
       "      <td>F</td>\n",
       "      <td>сотрудник</td>\n",
       "      <td>0</td>\n",
       "      <td>82047</td>\n",
       "      <td>на покупку автомобиля</td>\n",
       "      <td>от 36 до 45</td>\n",
       "      <td>140501.784542</td>\n",
       "      <td>1791.040318</td>\n",
       "      <td>[на, покупка, автомобиль]</td>\n",
       "      <td>операции с автомобилем</td>\n",
       "    </tr>\n",
       "  </tbody>\n",
       "</table>\n",
       "<p>21453 rows × 15 columns</p>\n",
       "</div>"
      ],
      "text/plain": [
       "       children  days_employed  dob_years  education_id  family_status_id  \\\n",
       "0             1           8437         42             0                 0   \n",
       "1             1           4024         36             1                 0   \n",
       "2             0           5623         33             1                 0   \n",
       "3             3           4124         32             1                 0   \n",
       "4             0              0         53             1                 1   \n",
       "...         ...            ...        ...           ...               ...   \n",
       "21448         1           4529         43             1                 1   \n",
       "21449         0              0         67             1                 0   \n",
       "21450         1           2113         38             1                 1   \n",
       "21451         3           3112         38             1                 0   \n",
       "21452         2           1984         40             1                 0   \n",
       "\n",
       "      gender income_type  debt  total_income                       purpose  \\\n",
       "0          F   сотрудник     0        253875                 покупка жилья   \n",
       "1          F   сотрудник     0        112080       приобретение автомобиля   \n",
       "2          M   сотрудник     0        145885                 покупка жилья   \n",
       "3          M   сотрудник     0        267628    дополнительное образование   \n",
       "4          F   пенсионер     0        158616               сыграть свадьбу   \n",
       "...      ...         ...   ...           ...                           ...   \n",
       "21448      F   компаньон     0        224791             операции с жильем   \n",
       "21449      F   пенсионер     0        155999          сделка с автомобилем   \n",
       "21450      M   сотрудник     1         89672                  недвижимость   \n",
       "21451      M   сотрудник     1        244093  на покупку своего автомобиля   \n",
       "21452      F   сотрудник     0         82047         на покупку автомобиля   \n",
       "\n",
       "      age_categories     new_income  new_days_employed  \\\n",
       "0        от 36 до 45  172602.293435        1958.647477   \n",
       "1        от 36 до 45  140501.784542        1791.040318   \n",
       "2        от 26 до 35  133938.686944        1330.725397   \n",
       "3        от 26 до 35  133938.686944        1330.725397   \n",
       "4        от 46 до 60  118228.074585           0.000000   \n",
       "...              ...            ...                ...   \n",
       "21448    от 36 до 45  163115.068645        1757.344692   \n",
       "21449          от 61  111743.076949           0.000000   \n",
       "21450    от 36 до 45  140501.784542        1791.040318   \n",
       "21451    от 36 до 45  140501.784542        1791.040318   \n",
       "21452    от 36 до 45  140501.784542        1791.040318   \n",
       "\n",
       "                        purpose_lemmas        purpose_categories  \n",
       "0                     [покупка, жильё]         операции с жильем  \n",
       "1           [приобретение, автомобиль]    операции с автомобилем  \n",
       "2                     [покупка, жильё]         операции с жильем  \n",
       "3        [дополнительный, образование]     получение образования  \n",
       "4                   [сыграть, свадьба]        проведение свадьбы  \n",
       "...                                ...                       ...  \n",
       "21448             [операция, с, жильё]         операции с жильем  \n",
       "21449          [сделка, с, автомобиль]    операции с автомобилем  \n",
       "21450                   [недвижимость]  операции с недвижимостью  \n",
       "21451  [на, покупка, свой, автомобиль]    операции с автомобилем  \n",
       "21452        [на, покупка, автомобиль]    операции с автомобилем  \n",
       "\n",
       "[21453 rows x 15 columns]"
      ]
     },
     "execution_count": 1077,
     "metadata": {},
     "output_type": "execute_result"
    }
   ],
   "source": [
    "# Проверим содержимое таблицы\n",
    "data"
   ]
  },
  {
   "cell_type": "markdown",
   "metadata": {},
   "source": [
    "**Вывод**"
   ]
  },
  {
   "cell_type": "markdown",
   "metadata": {},
   "source": [
    "Были выведены уникальные значения целей получения кредита из столбца с целями. Многие из этих целей совпадают по смыслу\n",
    "но сформулированы по-разному. В каждом значении было выделено одно ключевое слово, описывающее цель кредита и помещено в список categories_keyword. В дальнейшем этот список ключевых слов и леммы из столбца \"purpose_lemmas\" были использованы для заполнения столбца purpose_categories. В этом столбце одинаковые цели с разными формулировками описаны одинаковым образом."
   ]
  },
  {
   "cell_type": "markdown",
   "metadata": {},
   "source": [
    "# Анализ факторов, влияющих на возврат кредита в срок"
   ]
  },
  {
   "cell_type": "markdown",
   "metadata": {},
   "source": [
    "## Определить, вляет ли наличие и количество детей на возврат кредита в срок."
   ]
  },
  {
   "cell_type": "markdown",
   "metadata": {},
   "source": [
    "Сформируем таблицу для лиц возвративших кредиты (debt = 0). Посчитаем количество лиц вернувших кредиты по критерию \"количество детей\". Лица вернувшие кредиты будут сгруппированы по количеству детей"
   ]
  },
  {
   "cell_type": "code",
   "execution_count": 1078,
   "metadata": {},
   "outputs": [],
   "source": [
    "data_children_debt0 = data[data['debt'] == 0]['children'].value_counts()"
   ]
  },
  {
   "cell_type": "code",
   "execution_count": 1079,
   "metadata": {},
   "outputs": [
    {
     "data": {
      "text/plain": [
       "children\n",
       " 0     13028\n",
       " 1      4363\n",
       " 2      1858\n",
       " 3       303\n",
       " 20       68\n",
       "-1        46\n",
       " 4        37\n",
       " 5         9\n",
       "Name: count, dtype: int64"
      ]
     },
     "execution_count": 1079,
     "metadata": {},
     "output_type": "execute_result"
    }
   ],
   "source": [
    "data_children_debt0"
   ]
  },
  {
   "cell_type": "markdown",
   "metadata": {},
   "source": [
    "В первом столбце мы видим количество детей. Значение \"-1\" явно ошибочно, как и значение 20."
   ]
  },
  {
   "cell_type": "markdown",
   "metadata": {},
   "source": [
    "Исправим в столбце \"children\" значения -1 на 1. Скорее всего, имелось ввиду значение 1."
   ]
  },
  {
   "cell_type": "code",
   "execution_count": 1080,
   "metadata": {},
   "outputs": [],
   "source": [
    "data.loc[data['children']==-1, 'children']=data.loc[data['children']==-1, 'children'].replace(-1,1)"
   ]
  },
  {
   "cell_type": "code",
   "execution_count": 1081,
   "metadata": {},
   "outputs": [],
   "source": [
    "#Повторно сформируем таблицу для лиц вернувших кредиты\n",
    "data_children_debt0 = data[data['debt'] == 0]['children'].value_counts()"
   ]
  },
  {
   "cell_type": "code",
   "execution_count": 1082,
   "metadata": {
    "scrolled": true
   },
   "outputs": [
    {
     "data": {
      "text/plain": [
       "children\n",
       "0     13028\n",
       "1      4409\n",
       "2      1858\n",
       "3       303\n",
       "20       68\n",
       "4        37\n",
       "5         9\n",
       "Name: count, dtype: int64"
      ]
     },
     "execution_count": 1082,
     "metadata": {},
     "output_type": "execute_result"
    }
   ],
   "source": [
    "#Проверим сформированную таблицу\n",
    "data_children_debt0"
   ]
  },
  {
   "cell_type": "markdown",
   "metadata": {},
   "source": [
    "Запись с числом детей 20 удалим, поскольку такое значение, скорее всего ошибочно"
   ]
  },
  {
   "cell_type": "code",
   "execution_count": 1083,
   "metadata": {},
   "outputs": [],
   "source": [
    "# Удаление записи с числом детей 20\n",
    "data_children_debt0 = data_children_debt0.drop([20])"
   ]
  },
  {
   "cell_type": "code",
   "execution_count": 1084,
   "metadata": {},
   "outputs": [
    {
     "data": {
      "text/plain": [
       "children\n",
       "0    13028\n",
       "1     4409\n",
       "2     1858\n",
       "3      303\n",
       "4       37\n",
       "5        9\n",
       "Name: count, dtype: int64"
      ]
     },
     "execution_count": 1084,
     "metadata": {},
     "output_type": "execute_result"
    }
   ],
   "source": [
    "# Повторная проверка таблицы\n",
    "data_children_debt0"
   ]
  },
  {
   "cell_type": "markdown",
   "metadata": {},
   "source": [
    "Мы видим, что число лиц вернувших кредиты уменьшается с ростом числа детей. Это может быть связано с тем, что \n",
    "с ростом числа детей люди меньше берут кредиты"
   ]
  },
  {
   "cell_type": "code",
   "execution_count": 1085,
   "metadata": {},
   "outputs": [],
   "source": [
    "#Сформируем таблицу для лиц не вернувших кредиты\n",
    "data_children_debt1 = data[data['debt'] == 1]['children'].value_counts()"
   ]
  },
  {
   "cell_type": "code",
   "execution_count": 1086,
   "metadata": {},
   "outputs": [
    {
     "data": {
      "text/plain": [
       "children\n",
       "0     1063\n",
       "1      445\n",
       "2      194\n",
       "3       27\n",
       "20       8\n",
       "4        4\n",
       "Name: count, dtype: int64"
      ]
     },
     "execution_count": 1086,
     "metadata": {},
     "output_type": "execute_result"
    }
   ],
   "source": [
    "# Проверим сформированную таблицу\n",
    "data_children_debt1"
   ]
  },
  {
   "cell_type": "code",
   "execution_count": 1087,
   "metadata": {},
   "outputs": [],
   "source": [
    "# Удалим запись со значением детей 20\n",
    "data_children_debt1=data_children_debt1.drop([20])"
   ]
  },
  {
   "cell_type": "code",
   "execution_count": 1088,
   "metadata": {},
   "outputs": [
    {
     "data": {
      "text/plain": [
       "children\n",
       "0    1063\n",
       "1     445\n",
       "2     194\n",
       "3      27\n",
       "4       4\n",
       "Name: count, dtype: int64"
      ]
     },
     "execution_count": 1088,
     "metadata": {},
     "output_type": "execute_result"
    }
   ],
   "source": [
    "# Проверим сформированную таблицу повторно\n",
    "data_children_debt1"
   ]
  },
  {
   "cell_type": "markdown",
   "metadata": {},
   "source": [
    "Из таблицы мы видим, что количество лиц не вернувших кредиты уменьшается с ростом числа детей. В предыдущем случае наблюдалась такая же тенденция. Скорее всего, это связано с тем, что люди с большим количеством детей меньше берут кредиты"
   ]
  },
  {
   "cell_type": "code",
   "execution_count": 1089,
   "metadata": {},
   "outputs": [],
   "source": [
    "# Функция выделяющая две категории и возвращающая два значения - \"1\", если есть дети, и \"0\", если нет детей.\n",
    "def determine_children(children):\n",
    "    if children > 0: return 1\n",
    "    else: return 0"
   ]
  },
  {
   "cell_type": "code",
   "execution_count": 1090,
   "metadata": {},
   "outputs": [],
   "source": [
    "# Добавление нового столбца в таблицу с категориями 1-\"есть дети\" и 0-\"нет детей\"\n",
    "data['child_exist'] = data['children'].apply(determine_children)"
   ]
  },
  {
   "cell_type": "code",
   "execution_count": 1091,
   "metadata": {},
   "outputs": [],
   "source": [
    "#Построим сводную таблицу наподобие словаря со значением индекса категории и соответствующей вероятностью \n",
    "#невозврата кредита\n",
    "data_pivot = data.pivot_table(index = ['child_exist'], values = 'debt', aggfunc = 'mean').round(3)"
   ]
  },
  {
   "cell_type": "code",
   "execution_count": 1092,
   "metadata": {
    "scrolled": true
   },
   "outputs": [
    {
     "data": {
      "text/html": [
       "<div>\n",
       "<style scoped>\n",
       "    .dataframe tbody tr th:only-of-type {\n",
       "        vertical-align: middle;\n",
       "    }\n",
       "\n",
       "    .dataframe tbody tr th {\n",
       "        vertical-align: top;\n",
       "    }\n",
       "\n",
       "    .dataframe thead th {\n",
       "        text-align: right;\n",
       "    }\n",
       "</style>\n",
       "<table border=\"1\" class=\"dataframe\">\n",
       "  <thead>\n",
       "    <tr style=\"text-align: right;\">\n",
       "      <th></th>\n",
       "      <th>debt</th>\n",
       "    </tr>\n",
       "    <tr>\n",
       "      <th>child_exist</th>\n",
       "      <th></th>\n",
       "    </tr>\n",
       "  </thead>\n",
       "  <tbody>\n",
       "    <tr>\n",
       "      <th>0</th>\n",
       "      <td>0.075</td>\n",
       "    </tr>\n",
       "    <tr>\n",
       "      <th>1</th>\n",
       "      <td>0.092</td>\n",
       "    </tr>\n",
       "  </tbody>\n",
       "</table>\n",
       "</div>"
      ],
      "text/plain": [
       "              debt\n",
       "child_exist       \n",
       "0            0.075\n",
       "1            0.092"
      ]
     },
     "execution_count": 1092,
     "metadata": {},
     "output_type": "execute_result"
    }
   ],
   "source": [
    "data_pivot.head()"
   ]
  },
  {
   "cell_type": "code",
   "execution_count": 1093,
   "metadata": {},
   "outputs": [
    {
     "data": {
      "text/html": [
       "<div>\n",
       "<style scoped>\n",
       "    .dataframe tbody tr th:only-of-type {\n",
       "        vertical-align: middle;\n",
       "    }\n",
       "\n",
       "    .dataframe tbody tr th {\n",
       "        vertical-align: top;\n",
       "    }\n",
       "\n",
       "    .dataframe thead th {\n",
       "        text-align: right;\n",
       "    }\n",
       "</style>\n",
       "<table border=\"1\" class=\"dataframe\">\n",
       "  <thead>\n",
       "    <tr style=\"text-align: right;\">\n",
       "      <th></th>\n",
       "      <th>count</th>\n",
       "      <th>sum</th>\n",
       "      <th>&lt;lambda_0&gt;</th>\n",
       "    </tr>\n",
       "    <tr>\n",
       "      <th>children</th>\n",
       "      <th></th>\n",
       "      <th></th>\n",
       "      <th></th>\n",
       "    </tr>\n",
       "  </thead>\n",
       "  <tbody>\n",
       "    <tr>\n",
       "      <th>0</th>\n",
       "      <td>14091</td>\n",
       "      <td>1063</td>\n",
       "      <td>7.54%</td>\n",
       "    </tr>\n",
       "    <tr>\n",
       "      <th>1</th>\n",
       "      <td>4854</td>\n",
       "      <td>445</td>\n",
       "      <td>9.17%</td>\n",
       "    </tr>\n",
       "    <tr>\n",
       "      <th>2</th>\n",
       "      <td>2052</td>\n",
       "      <td>194</td>\n",
       "      <td>9.45%</td>\n",
       "    </tr>\n",
       "    <tr>\n",
       "      <th>3</th>\n",
       "      <td>330</td>\n",
       "      <td>27</td>\n",
       "      <td>8.18%</td>\n",
       "    </tr>\n",
       "    <tr>\n",
       "      <th>4</th>\n",
       "      <td>41</td>\n",
       "      <td>4</td>\n",
       "      <td>9.76%</td>\n",
       "    </tr>\n",
       "    <tr>\n",
       "      <th>5</th>\n",
       "      <td>9</td>\n",
       "      <td>0</td>\n",
       "      <td>0.00%</td>\n",
       "    </tr>\n",
       "  </tbody>\n",
       "</table>\n",
       "</div>"
      ],
      "text/plain": [
       "          count   sum <lambda_0>\n",
       "children                        \n",
       "0         14091  1063     7.54% \n",
       "1          4854   445     9.17% \n",
       "2          2052   194     9.45% \n",
       "3           330    27     8.18% \n",
       "4            41     4     9.76% \n",
       "5             9     0     0.00% "
      ]
     },
     "execution_count": 1093,
     "metadata": {},
     "output_type": "execute_result"
    }
   ],
   "source": [
    "# Вероятность невозврата кредита в зависимости от числа детей.\n",
    "chidren_table = data.groupby('children')['debt'].agg(['count', 'sum', lambda x: '{:.2%} '.format(x.mean())])\n",
    "chidren_table.drop([20])"
   ]
  },
  {
   "cell_type": "code",
   "execution_count": 1094,
   "metadata": {},
   "outputs": [
    {
     "data": {
      "text/html": [
       "<div>\n",
       "<style scoped>\n",
       "    .dataframe tbody tr th:only-of-type {\n",
       "        vertical-align: middle;\n",
       "    }\n",
       "\n",
       "    .dataframe tbody tr th {\n",
       "        vertical-align: top;\n",
       "    }\n",
       "\n",
       "    .dataframe thead th {\n",
       "        text-align: right;\n",
       "    }\n",
       "</style>\n",
       "<table border=\"1\" class=\"dataframe\">\n",
       "  <thead>\n",
       "    <tr style=\"text-align: right;\">\n",
       "      <th></th>\n",
       "      <th>count</th>\n",
       "      <th>sum</th>\n",
       "      <th>&lt;lambda_0&gt;</th>\n",
       "    </tr>\n",
       "    <tr>\n",
       "      <th>children</th>\n",
       "      <th></th>\n",
       "      <th></th>\n",
       "      <th></th>\n",
       "    </tr>\n",
       "  </thead>\n",
       "  <tbody>\n",
       "    <tr>\n",
       "      <th>Есть</th>\n",
       "      <td>7362</td>\n",
       "      <td>678</td>\n",
       "      <td>9.21%</td>\n",
       "    </tr>\n",
       "    <tr>\n",
       "      <th>Нет</th>\n",
       "      <td>14091</td>\n",
       "      <td>1063</td>\n",
       "      <td>7.54%</td>\n",
       "    </tr>\n",
       "  </tbody>\n",
       "</table>\n",
       "</div>"
      ],
      "text/plain": [
       "          count   sum <lambda_0>\n",
       "children                        \n",
       "Есть       7362   678     9.21% \n",
       "Нет       14091  1063     7.54% "
      ]
     },
     "execution_count": 1094,
     "metadata": {},
     "output_type": "execute_result"
    }
   ],
   "source": [
    "# Бинарная категоризация с группировкой:\n",
    "data.groupby( data['children'].apply(lambda x: 'Есть' if x>0 else 'Нет') )['debt'].agg(['count', 'sum', lambda x: '{:.2%} '.format(x.mean())])"
   ]
  },
  {
   "cell_type": "markdown",
   "metadata": {},
   "source": [
    "**Вывод**"
   ]
  },
  {
   "cell_type": "markdown",
   "metadata": {},
   "source": [
    "Вероятность невозврата кредита в категории \"есть дети\" выше, чем в категории \"нет детей\". Наибольшая вероятность возврата кредита у клиентов с количеством детей 5 и у клиентов без детей. Однако, стоит учесть, что число взятых кредитов у клиентов с 5 детьми минимально и если бы оно было больше, то вероятность могла быть другой."
   ]
  },
  {
   "cell_type": "markdown",
   "metadata": {},
   "source": [
    "## Определить, есть ли зависимость между семейным положением и возвратом кредита в срок"
   ]
  },
  {
   "cell_type": "code",
   "execution_count": 1095,
   "metadata": {},
   "outputs": [
    {
     "data": {
      "text/html": [
       "<div>\n",
       "<style scoped>\n",
       "    .dataframe tbody tr th:only-of-type {\n",
       "        vertical-align: middle;\n",
       "    }\n",
       "\n",
       "    .dataframe tbody tr th {\n",
       "        vertical-align: top;\n",
       "    }\n",
       "\n",
       "    .dataframe thead th {\n",
       "        text-align: right;\n",
       "    }\n",
       "</style>\n",
       "<table border=\"1\" class=\"dataframe\">\n",
       "  <thead>\n",
       "    <tr style=\"text-align: right;\">\n",
       "      <th></th>\n",
       "      <th>family_status_id</th>\n",
       "      <th>count</th>\n",
       "      <th>sum</th>\n",
       "      <th>&lt;lambda_0&gt;</th>\n",
       "    </tr>\n",
       "  </thead>\n",
       "  <tbody>\n",
       "    <tr>\n",
       "      <th>0</th>\n",
       "      <td>женат / замужем</td>\n",
       "      <td>12338</td>\n",
       "      <td>931</td>\n",
       "      <td>7.55%</td>\n",
       "    </tr>\n",
       "    <tr>\n",
       "      <th>1</th>\n",
       "      <td>гражданский брак</td>\n",
       "      <td>4151</td>\n",
       "      <td>388</td>\n",
       "      <td>9.35%</td>\n",
       "    </tr>\n",
       "    <tr>\n",
       "      <th>2</th>\n",
       "      <td>вдовец / вдова</td>\n",
       "      <td>959</td>\n",
       "      <td>63</td>\n",
       "      <td>6.57%</td>\n",
       "    </tr>\n",
       "    <tr>\n",
       "      <th>3</th>\n",
       "      <td>в разводе</td>\n",
       "      <td>1195</td>\n",
       "      <td>85</td>\n",
       "      <td>7.11%</td>\n",
       "    </tr>\n",
       "    <tr>\n",
       "      <th>4</th>\n",
       "      <td>Не женат / не замужем</td>\n",
       "      <td>2810</td>\n",
       "      <td>274</td>\n",
       "      <td>9.75%</td>\n",
       "    </tr>\n",
       "  </tbody>\n",
       "</table>\n",
       "</div>"
      ],
      "text/plain": [
       "        family_status_id  count  sum <lambda_0>\n",
       "0        женат / замужем  12338  931     7.55% \n",
       "1       гражданский брак   4151  388     9.35% \n",
       "2         вдовец / вдова    959   63     6.57% \n",
       "3              в разводе   1195   85     7.11% \n",
       "4  Не женат / не замужем   2810  274     9.75% "
      ]
     },
     "execution_count": 1095,
     "metadata": {},
     "output_type": "execute_result"
    }
   ],
   "source": [
    "# Группировка таблицы по семейному статусу и вычисление в каждой группе среднего, то есть вероятности, в процентах.\n",
    "a = data.groupby('family_status_id')['debt'].agg(['count', 'sum', lambda x: '{:.2%} '.format(x.mean())])\n",
    "a.reset_index().replace({'family_status_id': family_dict.family_status.to_dict()})"
   ]
  },
  {
   "cell_type": "markdown",
   "metadata": {},
   "source": [
    "**Вывод**"
   ]
  },
  {
   "cell_type": "markdown",
   "metadata": {},
   "source": [
    "Наименьшая вероятность возврата кредита у клиентов с статусом \"Не женат / не замужем\", а наибольшая - у клиентов со статусом  \"вдовец / вдова\" и \"в разводе\"."
   ]
  },
  {
   "cell_type": "markdown",
   "metadata": {},
   "source": [
    "## Определить, есть ли зависимость между уровнем дохода и возвратом кредита в срок"
   ]
  },
  {
   "cell_type": "code",
   "execution_count": 1096,
   "metadata": {},
   "outputs": [],
   "source": [
    "#Деление выборки на 4 категории\n",
    "income_categories = pd.qcut(data['total_income'], q=4)"
   ]
  },
  {
   "cell_type": "markdown",
   "metadata": {},
   "source": [
    "В каждой записи вместо значений дохода теперь указываются диапазон, в который попадает доход. Соответственно, появляется много дубликатов."
   ]
  },
  {
   "cell_type": "code",
   "execution_count": 1097,
   "metadata": {},
   "outputs": [],
   "source": [
    "# Удалим из результатов дубликаты и останутся 4 категории дохода\n",
    "income_categories=income_categories.drop_duplicates().sort_values().reset_index(drop\n",
    "= True)\n",
    "    "
   ]
  },
  {
   "cell_type": "code",
   "execution_count": 1098,
   "metadata": {
    "scrolled": true
   },
   "outputs": [
    {
     "data": {
      "text/plain": [
       "0       (-0.001, 107515.0]\n",
       "1     (107515.0, 143345.0]\n",
       "2     (143345.0, 197263.0]\n",
       "3    (197263.0, 2265604.0]\n",
       "Name: total_income, dtype: category\n",
       "Categories (4, interval[float64, right]): [(-0.001, 107515.0] < (107515.0, 143345.0] < (143345.0, 197263.0] < (197263.0, 2265604.0]]"
      ]
     },
     "execution_count": 1098,
     "metadata": {},
     "output_type": "execute_result"
    }
   ],
   "source": [
    "# 4 категории доходов - значения\n",
    "income_categories"
   ]
  },
  {
   "cell_type": "code",
   "execution_count": 1099,
   "metadata": {},
   "outputs": [],
   "source": [
    "# Напишем функцию, возвращающую индексы для каждой категории дохода\n",
    "def income_group(income):\n",
    "    if income in income_categories[0]: return 1\n",
    "    if income in income_categories[1]: return 2\n",
    "    if income in income_categories[2]: return 3\n",
    "    return 4"
   ]
  },
  {
   "cell_type": "code",
   "execution_count": 1100,
   "metadata": {},
   "outputs": [],
   "source": [
    "# Добавим в таблицу data столбец с индексами категорий дохода\n",
    "data['income_group'] = data['total_income'].apply(income_group)"
   ]
  },
  {
   "cell_type": "code",
   "execution_count": 1101,
   "metadata": {},
   "outputs": [],
   "source": [
    "# Сформируем сводную таблицу для лиц вернувших и невернувших кредит, поделенных по 4 категориям дохода\n",
    "data_pivot = data.pivot_table(index='income_group', columns='debt', values = 'income_type', aggfunc = 'count')\n",
    "# Добавим в таблицу столбец с вероятностью невозврата кредита\n",
    "data_pivot['ratio'] = round(data_pivot[1] / (data_pivot[0] + data_pivot[1]), 3)"
   ]
  },
  {
   "cell_type": "code",
   "execution_count": 1102,
   "metadata": {
    "scrolled": true
   },
   "outputs": [
    {
     "data": {
      "text/html": [
       "<div>\n",
       "<style scoped>\n",
       "    .dataframe tbody tr th:only-of-type {\n",
       "        vertical-align: middle;\n",
       "    }\n",
       "\n",
       "    .dataframe tbody tr th {\n",
       "        vertical-align: top;\n",
       "    }\n",
       "\n",
       "    .dataframe thead th {\n",
       "        text-align: right;\n",
       "    }\n",
       "</style>\n",
       "<table border=\"1\" class=\"dataframe\">\n",
       "  <thead>\n",
       "    <tr style=\"text-align: right;\">\n",
       "      <th>debt</th>\n",
       "      <th>0</th>\n",
       "      <th>1</th>\n",
       "      <th>ratio</th>\n",
       "    </tr>\n",
       "    <tr>\n",
       "      <th>income_group</th>\n",
       "      <th></th>\n",
       "      <th></th>\n",
       "      <th></th>\n",
       "    </tr>\n",
       "  </thead>\n",
       "  <tbody>\n",
       "    <tr>\n",
       "      <th>1</th>\n",
       "      <td>4937</td>\n",
       "      <td>427</td>\n",
       "      <td>0.080</td>\n",
       "    </tr>\n",
       "    <tr>\n",
       "      <th>2</th>\n",
       "      <td>4878</td>\n",
       "      <td>485</td>\n",
       "      <td>0.090</td>\n",
       "    </tr>\n",
       "    <tr>\n",
       "      <th>3</th>\n",
       "      <td>4913</td>\n",
       "      <td>450</td>\n",
       "      <td>0.084</td>\n",
       "    </tr>\n",
       "    <tr>\n",
       "      <th>4</th>\n",
       "      <td>4984</td>\n",
       "      <td>379</td>\n",
       "      <td>0.071</td>\n",
       "    </tr>\n",
       "  </tbody>\n",
       "</table>\n",
       "</div>"
      ],
      "text/plain": [
       "debt             0    1  ratio\n",
       "income_group                  \n",
       "1             4937  427  0.080\n",
       "2             4878  485  0.090\n",
       "3             4913  450  0.084\n",
       "4             4984  379  0.071"
      ]
     },
     "execution_count": 1102,
     "metadata": {},
     "output_type": "execute_result"
    }
   ],
   "source": [
    "data_pivot"
   ]
  },
  {
   "cell_type": "markdown",
   "metadata": {},
   "source": [
    "**Вывод**"
   ]
  },
  {
   "cell_type": "markdown",
   "metadata": {},
   "source": [
    "В целом, разница невозврата в различных категориях дохода незначительна. Кредиты более всего склонны невозвращать лица со средними доходами - 2 и 3 категориями доходов. Объяснить это можно тем, что лица с меньшими доходами (1 категория) более ответственны и организованы в расходах, а лица с большими доходами (4 категория) испытывают меньшие материальные трудности."
   ]
  },
  {
   "cell_type": "markdown",
   "metadata": {},
   "source": [
    "## Определить, как разные цели кредита влияют на его возврат в срок"
   ]
  },
  {
   "cell_type": "code",
   "execution_count": 1103,
   "metadata": {},
   "outputs": [
    {
     "data": {
      "text/plain": [
       "purpose_categories\n",
       "операции с недвижимостью    5877\n",
       "операции с жильем           4152\n",
       "операции с автомобилем      3902\n",
       "получение образования       3643\n",
       "проведение свадьбы          2138\n",
       "Name: count, dtype: int64"
      ]
     },
     "execution_count": 1103,
     "metadata": {},
     "output_type": "execute_result"
    }
   ],
   "source": [
    "#Сформируем таблицу в которой будут цели кредита и количество возвратов кредита для каждой цели\n",
    "data_purpose_categories_debt0 = data[data['debt'] == 0]['purpose_categories'].value_counts()\n",
    "data_purpose_categories_debt0"
   ]
  },
  {
   "cell_type": "code",
   "execution_count": 1104,
   "metadata": {
    "scrolled": true
   },
   "outputs": [
    {
     "data": {
      "text/plain": [
       "purpose_categories\n",
       "операции с недвижимостью    474\n",
       "операции с автомобилем      403\n",
       "получение образования       370\n",
       "операции с жильем           308\n",
       "проведение свадьбы          186\n",
       "Name: count, dtype: int64"
      ]
     },
     "execution_count": 1104,
     "metadata": {},
     "output_type": "execute_result"
    }
   ],
   "source": [
    "# Сформируем таблицу в которой будут цели кредита и количество невозвратов кредита для каждой цели\n",
    "data_purpose_categories_debt1 = data[data['debt'] == 1]['purpose_categories'].value_counts()\n",
    "data_purpose_categories_debt1"
   ]
  },
  {
   "cell_type": "code",
   "execution_count": 1105,
   "metadata": {},
   "outputs": [
    {
     "name": "stdout",
     "output_type": "stream",
     "text": [
      "purpose_categories\n",
      "операции с автомобилем      0.093612\n",
      "получение образования       0.092200\n",
      "проведение свадьбы          0.080034\n",
      "операции с недвижимостью    0.074634\n",
      "операции с жильем           0.069058\n",
      "Name: count, dtype: float64\n"
     ]
    }
   ],
   "source": [
    "# Вычислим вероятность невозврата кредита для каждой цели\n",
    "print(((data_purpose_categories_debt1) / (data_purpose_categories_debt0 + data_purpose_categories_debt1))\\\n",
    "      .sort_values(ascending = False))"
   ]
  },
  {
   "cell_type": "markdown",
   "metadata": {},
   "source": [
    "**Вывод**"
   ]
  },
  {
   "cell_type": "markdown",
   "metadata": {},
   "source": [
    "Самая высокая вероятность невозврата у целей \"операции с автомобилем\" и \"получение образования\". Далее в порядке убывания вероятности следуют цели \"проведение свадьбы\", \"операции с недвижимостью\", \"операции с жильем\"."
   ]
  },
  {
   "cell_type": "markdown",
   "metadata": {},
   "source": [
    "# Общий вывод"
   ]
  },
  {
   "cell_type": "markdown",
   "metadata": {},
   "source": [
    "Наилучшим, более всех склонным к возврату кредита, является клиент обладающий следующими характеристиками:\n",
    "1. Без детей.\n",
    "2. Женатый мужчина/замужняя женщина.\n",
    "3. Доход от 197 тысяч рублей.\n",
    "4. Цель кредита - приобретение жилья."
   ]
  }
 ],
 "metadata": {
  "ExecuteTimeLog": [
   {
    "duration": 2764,
    "start_time": "2021-11-08T04:34:25.460Z"
   },
   {
    "duration": 78,
    "start_time": "2021-11-08T04:36:27.578Z"
   },
   {
    "duration": 29,
    "start_time": "2021-11-08T04:37:21.643Z"
   },
   {
    "duration": 13,
    "start_time": "2021-11-08T04:38:29.990Z"
   },
   {
    "duration": 35,
    "start_time": "2021-11-08T04:39:13.805Z"
   },
   {
    "duration": 18,
    "start_time": "2021-11-08T04:42:32.865Z"
   },
   {
    "duration": 12,
    "start_time": "2021-11-08T04:52:36.838Z"
   },
   {
    "duration": 11,
    "start_time": "2021-11-08T04:52:52.277Z"
   },
   {
    "duration": 7,
    "start_time": "2021-11-08T04:53:08.221Z"
   },
   {
    "duration": 5,
    "start_time": "2021-11-08T04:53:43.076Z"
   },
   {
    "duration": 4,
    "start_time": "2021-11-08T04:53:57.252Z"
   },
   {
    "duration": 15,
    "start_time": "2021-11-08T04:54:15.148Z"
   },
   {
    "duration": 12,
    "start_time": "2021-11-08T04:54:27.563Z"
   },
   {
    "duration": 15,
    "start_time": "2021-11-08T04:54:42.563Z"
   },
   {
    "duration": 13,
    "start_time": "2021-11-08T04:54:58.275Z"
   },
   {
    "duration": 15,
    "start_time": "2021-11-08T04:55:35.154Z"
   },
   {
    "duration": 7,
    "start_time": "2021-11-08T04:56:36.594Z"
   },
   {
    "duration": 16,
    "start_time": "2021-11-08T04:56:42.545Z"
   },
   {
    "duration": 21,
    "start_time": "2021-11-08T04:57:32.561Z"
   },
   {
    "duration": 26,
    "start_time": "2021-11-08T04:57:47.591Z"
   },
   {
    "duration": 22,
    "start_time": "2021-11-08T04:57:58.936Z"
   },
   {
    "duration": 19,
    "start_time": "2021-11-08T04:58:16.191Z"
   },
   {
    "duration": 70,
    "start_time": "2021-11-08T05:49:27.783Z"
   },
   {
    "duration": 34,
    "start_time": "2021-11-08T05:49:49.971Z"
   },
   {
    "duration": 38,
    "start_time": "2021-11-08T05:50:02.403Z"
   },
   {
    "duration": 24,
    "start_time": "2021-11-08T05:50:21.277Z"
   },
   {
    "duration": 10,
    "start_time": "2021-11-08T05:51:20.129Z"
   },
   {
    "duration": 4,
    "start_time": "2021-11-08T05:51:40.296Z"
   },
   {
    "duration": 4,
    "start_time": "2021-11-08T05:51:55.552Z"
   },
   {
    "duration": 3,
    "start_time": "2021-11-08T05:52:03.064Z"
   },
   {
    "duration": 4,
    "start_time": "2021-11-08T05:52:24.144Z"
   },
   {
    "duration": 276,
    "start_time": "2021-11-08T05:52:35.831Z"
   },
   {
    "duration": 12850,
    "start_time": "2021-11-08T05:52:53.032Z"
   },
   {
    "duration": 595,
    "start_time": "2021-11-08T09:19:54.960Z"
   },
   {
    "duration": 17,
    "start_time": "2021-11-08T09:19:55.557Z"
   },
   {
    "duration": 8,
    "start_time": "2021-11-08T09:19:55.575Z"
   },
   {
    "duration": 75,
    "start_time": "2021-11-08T09:19:55.585Z"
   },
   {
    "duration": 2739,
    "start_time": "2021-11-08T09:19:52.923Z"
   },
   {
    "duration": 2730,
    "start_time": "2021-11-08T09:19:52.933Z"
   },
   {
    "duration": 2726,
    "start_time": "2021-11-08T09:19:52.938Z"
   },
   {
    "duration": 2698,
    "start_time": "2021-11-08T09:19:52.967Z"
   },
   {
    "duration": 2694,
    "start_time": "2021-11-08T09:19:52.972Z"
   },
   {
    "duration": 2685,
    "start_time": "2021-11-08T09:19:52.982Z"
   },
   {
    "duration": 2682,
    "start_time": "2021-11-08T09:19:52.986Z"
   },
   {
    "duration": 2678,
    "start_time": "2021-11-08T09:19:52.991Z"
   },
   {
    "duration": 2670,
    "start_time": "2021-11-08T09:19:53.000Z"
   },
   {
    "duration": 2666,
    "start_time": "2021-11-08T09:19:53.004Z"
   },
   {
    "duration": 2658,
    "start_time": "2021-11-08T09:19:53.013Z"
   },
   {
    "duration": 2656,
    "start_time": "2021-11-08T09:19:53.017Z"
   },
   {
    "duration": 2653,
    "start_time": "2021-11-08T09:19:53.021Z"
   },
   {
    "duration": 2646,
    "start_time": "2021-11-08T09:19:53.029Z"
   },
   {
    "duration": 2642,
    "start_time": "2021-11-08T09:19:53.034Z"
   },
   {
    "duration": 2639,
    "start_time": "2021-11-08T09:19:53.038Z"
   },
   {
    "duration": 2632,
    "start_time": "2021-11-08T09:19:53.046Z"
   },
   {
    "duration": 2629,
    "start_time": "2021-11-08T09:19:53.050Z"
   },
   {
    "duration": 2626,
    "start_time": "2021-11-08T09:19:53.054Z"
   },
   {
    "duration": 2617,
    "start_time": "2021-11-08T09:19:53.064Z"
   },
   {
    "duration": 2615,
    "start_time": "2021-11-08T09:19:53.067Z"
   },
   {
    "duration": 2612,
    "start_time": "2021-11-08T09:19:53.071Z"
   },
   {
    "duration": 2603,
    "start_time": "2021-11-08T09:19:53.081Z"
   },
   {
    "duration": 2600,
    "start_time": "2021-11-08T09:19:53.085Z"
   },
   {
    "duration": 3,
    "start_time": "2021-11-08T09:20:00.637Z"
   },
   {
    "duration": 905,
    "start_time": "2021-11-08T09:20:02.484Z"
   },
   {
    "duration": 4,
    "start_time": "2021-11-08T09:20:14.803Z"
   },
   {
    "duration": 3,
    "start_time": "2021-11-08T09:20:15.778Z"
   },
   {
    "duration": 3327,
    "start_time": "2021-11-08T09:20:16.539Z"
   },
   {
    "duration": 26,
    "start_time": "2021-11-08T09:20:27.834Z"
   },
   {
    "duration": 23,
    "start_time": "2021-11-08T09:22:34.241Z"
   },
   {
    "duration": 181,
    "start_time": "2021-11-08T10:17:19.772Z"
   },
   {
    "duration": 1266,
    "start_time": "2021-11-08T10:35:29.260Z"
   },
   {
    "duration": 23,
    "start_time": "2021-11-08T10:35:59.394Z"
   },
   {
    "duration": 25,
    "start_time": "2021-11-08T10:37:00.248Z"
   },
   {
    "duration": 167,
    "start_time": "2021-11-08T10:37:31.375Z"
   },
   {
    "duration": 172,
    "start_time": "2021-11-08T10:37:49.735Z"
   },
   {
    "duration": 4,
    "start_time": "2021-11-08T10:38:01.503Z"
   },
   {
    "duration": 6,
    "start_time": "2021-11-08T10:38:35.471Z"
   },
   {
    "duration": 4,
    "start_time": "2021-11-08T10:38:58.389Z"
   },
   {
    "duration": 6,
    "start_time": "2021-11-08T10:39:16.934Z"
   },
   {
    "duration": 5,
    "start_time": "2021-11-08T10:39:39.013Z"
   },
   {
    "duration": 2650,
    "start_time": "2021-11-08T10:39:56.709Z"
   },
   {
    "duration": 55,
    "start_time": "2021-11-08T10:40:48.891Z"
   },
   {
    "duration": 13114,
    "start_time": "2021-11-08T10:40:54.835Z"
   },
   {
    "duration": 243,
    "start_time": "2021-11-08T10:41:44.389Z"
   },
   {
    "duration": 6,
    "start_time": "2021-11-08T10:45:32.695Z"
   },
   {
    "duration": 69,
    "start_time": "2021-11-08T10:45:42.150Z"
   },
   {
    "duration": 18,
    "start_time": "2021-11-08T10:46:44.493Z"
   },
   {
    "duration": 16,
    "start_time": "2021-11-08T10:46:54.799Z"
   },
   {
    "duration": 13,
    "start_time": "2021-11-08T10:46:56.075Z"
   },
   {
    "duration": 194,
    "start_time": "2021-11-08T10:47:33.740Z"
   },
   {
    "duration": 172,
    "start_time": "2021-11-08T10:47:52.492Z"
   },
   {
    "duration": 167,
    "start_time": "2021-11-08T10:49:45.411Z"
   },
   {
    "duration": 9,
    "start_time": "2021-11-08T10:50:00.537Z"
   },
   {
    "duration": 7,
    "start_time": "2021-11-08T10:50:06.122Z"
   },
   {
    "duration": 171,
    "start_time": "2021-11-08T10:50:22.746Z"
   },
   {
    "duration": 8,
    "start_time": "2021-11-08T10:50:32.793Z"
   },
   {
    "duration": 8,
    "start_time": "2021-11-08T10:50:43.913Z"
   },
   {
    "duration": 17,
    "start_time": "2021-11-08T10:51:11.336Z"
   },
   {
    "duration": 18,
    "start_time": "2021-11-08T10:55:47.475Z"
   },
   {
    "duration": 17,
    "start_time": "2021-11-08T10:56:00.289Z"
   },
   {
    "duration": 8,
    "start_time": "2021-11-08T10:56:00.793Z"
   },
   {
    "duration": 18,
    "start_time": "2021-11-08T10:56:01.226Z"
   },
   {
    "duration": 19,
    "start_time": "2021-11-08T10:56:29.337Z"
   },
   {
    "duration": 22,
    "start_time": "2021-11-08T10:56:57.712Z"
   },
   {
    "duration": 18,
    "start_time": "2021-11-08T10:57:01.048Z"
   },
   {
    "duration": 19,
    "start_time": "2021-11-08T10:57:42.327Z"
   },
   {
    "duration": 26,
    "start_time": "2021-11-08T11:15:20.063Z"
   },
   {
    "duration": 8,
    "start_time": "2021-11-08T12:42:50.974Z"
   },
   {
    "duration": 796,
    "start_time": "2021-11-08T16:11:04.122Z"
   },
   {
    "duration": 28,
    "start_time": "2021-11-08T16:11:04.920Z"
   },
   {
    "duration": 34,
    "start_time": "2021-11-08T16:11:04.950Z"
   },
   {
    "duration": 102,
    "start_time": "2021-11-08T16:11:04.988Z"
   },
   {
    "duration": -144,
    "start_time": "2021-11-08T16:11:05.239Z"
   },
   {
    "duration": -152,
    "start_time": "2021-11-08T16:11:05.249Z"
   },
   {
    "duration": -155,
    "start_time": "2021-11-08T16:11:05.254Z"
   },
   {
    "duration": -177,
    "start_time": "2021-11-08T16:11:05.278Z"
   },
   {
    "duration": -179,
    "start_time": "2021-11-08T16:11:05.282Z"
   },
   {
    "duration": -194,
    "start_time": "2021-11-08T16:11:05.300Z"
   },
   {
    "duration": -196,
    "start_time": "2021-11-08T16:11:05.304Z"
   },
   {
    "duration": -203,
    "start_time": "2021-11-08T16:11:05.314Z"
   },
   {
    "duration": -205,
    "start_time": "2021-11-08T16:11:05.318Z"
   },
   {
    "duration": -207,
    "start_time": "2021-11-08T16:11:05.322Z"
   },
   {
    "duration": -215,
    "start_time": "2021-11-08T16:11:05.332Z"
   },
   {
    "duration": -218,
    "start_time": "2021-11-08T16:11:05.338Z"
   },
   {
    "duration": -227,
    "start_time": "2021-11-08T16:11:05.349Z"
   },
   {
    "duration": -241,
    "start_time": "2021-11-08T16:11:05.365Z"
   },
   {
    "duration": -245,
    "start_time": "2021-11-08T16:11:05.371Z"
   },
   {
    "duration": -252,
    "start_time": "2021-11-08T16:11:05.381Z"
   },
   {
    "duration": -255,
    "start_time": "2021-11-08T16:11:05.386Z"
   },
   {
    "duration": -211,
    "start_time": "2021-11-08T16:11:05.392Z"
   },
   {
    "duration": -218,
    "start_time": "2021-11-08T16:11:05.401Z"
   },
   {
    "duration": -222,
    "start_time": "2021-11-08T16:11:05.406Z"
   },
   {
    "duration": -228,
    "start_time": "2021-11-08T16:11:05.414Z"
   },
   {
    "duration": -232,
    "start_time": "2021-11-08T16:11:05.419Z"
   },
   {
    "duration": -234,
    "start_time": "2021-11-08T16:11:05.423Z"
   },
   {
    "duration": -242,
    "start_time": "2021-11-08T16:11:05.432Z"
   },
   {
    "duration": -244,
    "start_time": "2021-11-08T16:11:05.435Z"
   },
   {
    "duration": -247,
    "start_time": "2021-11-08T16:11:05.440Z"
   },
   {
    "duration": -256,
    "start_time": "2021-11-08T16:11:05.450Z"
   },
   {
    "duration": -259,
    "start_time": "2021-11-08T16:11:05.454Z"
   },
   {
    "duration": 361,
    "start_time": "2021-11-08T16:11:08.546Z"
   },
   {
    "duration": 300,
    "start_time": "2021-11-08T16:11:09.146Z"
   },
   {
    "duration": 267,
    "start_time": "2021-11-08T16:11:21.570Z"
   },
   {
    "duration": 8355,
    "start_time": "2021-11-08T16:11:27.722Z"
   },
   {
    "duration": 7469,
    "start_time": "2021-11-08T16:11:39.554Z"
   },
   {
    "duration": 102,
    "start_time": "2021-11-08T16:12:09.380Z"
   },
   {
    "duration": 21,
    "start_time": "2021-11-08T16:12:09.485Z"
   },
   {
    "duration": 12,
    "start_time": "2021-11-08T16:12:09.509Z"
   },
   {
    "duration": 93,
    "start_time": "2021-11-08T16:12:09.523Z"
   },
   {
    "duration": -163,
    "start_time": "2021-11-08T16:12:09.783Z"
   },
   {
    "duration": -166,
    "start_time": "2021-11-08T16:12:09.788Z"
   },
   {
    "duration": -170,
    "start_time": "2021-11-08T16:12:09.793Z"
   },
   {
    "duration": -178,
    "start_time": "2021-11-08T16:12:09.802Z"
   },
   {
    "duration": -194,
    "start_time": "2021-11-08T16:12:09.820Z"
   },
   {
    "duration": -198,
    "start_time": "2021-11-08T16:12:09.825Z"
   },
   {
    "duration": -207,
    "start_time": "2021-11-08T16:12:09.835Z"
   },
   {
    "duration": -210,
    "start_time": "2021-11-08T16:12:09.840Z"
   },
   {
    "duration": -220,
    "start_time": "2021-11-08T16:12:09.851Z"
   },
   {
    "duration": -223,
    "start_time": "2021-11-08T16:12:09.855Z"
   },
   {
    "duration": -226,
    "start_time": "2021-11-08T16:12:09.859Z"
   },
   {
    "duration": -232,
    "start_time": "2021-11-08T16:12:09.867Z"
   },
   {
    "duration": -236,
    "start_time": "2021-11-08T16:12:09.872Z"
   },
   {
    "duration": -239,
    "start_time": "2021-11-08T16:12:09.876Z"
   },
   {
    "duration": -247,
    "start_time": "2021-11-08T16:12:09.885Z"
   },
   {
    "duration": -249,
    "start_time": "2021-11-08T16:12:09.889Z"
   },
   {
    "duration": -262,
    "start_time": "2021-11-08T16:12:09.903Z"
   },
   {
    "duration": -266,
    "start_time": "2021-11-08T16:12:09.908Z"
   },
   {
    "duration": -275,
    "start_time": "2021-11-08T16:12:09.918Z"
   },
   {
    "duration": -277,
    "start_time": "2021-11-08T16:12:09.921Z"
   },
   {
    "duration": -280,
    "start_time": "2021-11-08T16:12:09.926Z"
   },
   {
    "duration": -288,
    "start_time": "2021-11-08T16:12:09.935Z"
   },
   {
    "duration": -291,
    "start_time": "2021-11-08T16:12:09.939Z"
   },
   {
    "duration": -294,
    "start_time": "2021-11-08T16:12:09.943Z"
   },
   {
    "duration": -303,
    "start_time": "2021-11-08T16:12:09.954Z"
   },
   {
    "duration": -307,
    "start_time": "2021-11-08T16:12:09.959Z"
   },
   {
    "duration": -316,
    "start_time": "2021-11-08T16:12:09.969Z"
   },
   {
    "duration": 70,
    "start_time": "2021-11-08T16:12:18.195Z"
   },
   {
    "duration": 26,
    "start_time": "2021-11-08T16:12:18.268Z"
   },
   {
    "duration": 12,
    "start_time": "2021-11-08T16:12:18.297Z"
   },
   {
    "duration": 93,
    "start_time": "2021-11-08T16:12:18.312Z"
   },
   {
    "duration": -158,
    "start_time": "2021-11-08T16:12:18.567Z"
   },
   {
    "duration": -168,
    "start_time": "2021-11-08T16:12:18.579Z"
   },
   {
    "duration": -171,
    "start_time": "2021-11-08T16:12:18.583Z"
   },
   {
    "duration": -174,
    "start_time": "2021-11-08T16:12:18.588Z"
   },
   {
    "duration": -181,
    "start_time": "2021-11-08T16:12:18.597Z"
   },
   {
    "duration": -186,
    "start_time": "2021-11-08T16:12:18.603Z"
   },
   {
    "duration": -193,
    "start_time": "2021-11-08T16:12:18.612Z"
   },
   {
    "duration": -198,
    "start_time": "2021-11-08T16:12:18.618Z"
   },
   {
    "duration": -201,
    "start_time": "2021-11-08T16:12:18.623Z"
   },
   {
    "duration": -209,
    "start_time": "2021-11-08T16:12:18.633Z"
   },
   {
    "duration": -213,
    "start_time": "2021-11-08T16:12:18.638Z"
   },
   {
    "duration": -222,
    "start_time": "2021-11-08T16:12:18.648Z"
   },
   {
    "duration": -225,
    "start_time": "2021-11-08T16:12:18.652Z"
   },
   {
    "duration": -232,
    "start_time": "2021-11-08T16:12:18.661Z"
   },
   {
    "duration": -236,
    "start_time": "2021-11-08T16:12:18.666Z"
   },
   {
    "duration": -238,
    "start_time": "2021-11-08T16:12:18.670Z"
   },
   {
    "duration": -246,
    "start_time": "2021-11-08T16:12:18.679Z"
   },
   {
    "duration": -249,
    "start_time": "2021-11-08T16:12:18.683Z"
   },
   {
    "duration": -252,
    "start_time": "2021-11-08T16:12:18.688Z"
   },
   {
    "duration": -266,
    "start_time": "2021-11-08T16:12:18.703Z"
   },
   {
    "duration": -274,
    "start_time": "2021-11-08T16:12:18.712Z"
   },
   {
    "duration": -277,
    "start_time": "2021-11-08T16:12:18.717Z"
   },
   {
    "duration": -280,
    "start_time": "2021-11-08T16:12:18.721Z"
   },
   {
    "duration": -287,
    "start_time": "2021-11-08T16:12:18.730Z"
   },
   {
    "duration": -291,
    "start_time": "2021-11-08T16:12:18.735Z"
   },
   {
    "duration": -300,
    "start_time": "2021-11-08T16:12:18.745Z"
   },
   {
    "duration": -267,
    "start_time": "2021-11-08T16:12:18.749Z"
   },
   {
    "duration": -272,
    "start_time": "2021-11-08T16:12:18.755Z"
   },
   {
    "duration": -280,
    "start_time": "2021-11-08T16:12:18.765Z"
   },
   {
    "duration": -286,
    "start_time": "2021-11-08T16:12:18.772Z"
   },
   {
    "duration": 35,
    "start_time": "2021-11-08T16:12:45.086Z"
   },
   {
    "duration": 459,
    "start_time": "2021-11-08T18:36:50.716Z"
   },
   {
    "duration": 715,
    "start_time": "2021-11-08T18:37:14.590Z"
   },
   {
    "duration": 19,
    "start_time": "2021-11-08T18:37:15.307Z"
   },
   {
    "duration": 10,
    "start_time": "2021-11-08T18:37:15.328Z"
   },
   {
    "duration": 113,
    "start_time": "2021-11-08T18:37:15.340Z"
   },
   {
    "duration": 294,
    "start_time": "2021-11-08T18:37:15.162Z"
   },
   {
    "duration": 263,
    "start_time": "2021-11-08T18:37:15.194Z"
   },
   {
    "duration": 259,
    "start_time": "2021-11-08T18:37:15.199Z"
   },
   {
    "duration": 254,
    "start_time": "2021-11-08T18:37:15.205Z"
   },
   {
    "duration": 242,
    "start_time": "2021-11-08T18:37:15.218Z"
   },
   {
    "duration": 208,
    "start_time": "2021-11-08T18:37:15.253Z"
   },
   {
    "duration": 198,
    "start_time": "2021-11-08T18:37:15.264Z"
   },
   {
    "duration": 193,
    "start_time": "2021-11-08T18:37:15.270Z"
   },
   {
    "duration": 184,
    "start_time": "2021-11-08T18:37:15.280Z"
   },
   {
    "duration": 181,
    "start_time": "2021-11-08T18:37:15.285Z"
   },
   {
    "duration": 177,
    "start_time": "2021-11-08T18:37:15.290Z"
   },
   {
    "duration": 168,
    "start_time": "2021-11-08T18:37:15.300Z"
   },
   {
    "duration": 164,
    "start_time": "2021-11-08T18:37:15.305Z"
   },
   {
    "duration": 154,
    "start_time": "2021-11-08T18:37:15.316Z"
   },
   {
    "duration": 151,
    "start_time": "2021-11-08T18:37:15.320Z"
   },
   {
    "duration": 138,
    "start_time": "2021-11-08T18:37:15.334Z"
   },
   {
    "duration": 134,
    "start_time": "2021-11-08T18:37:15.340Z"
   },
   {
    "duration": 125,
    "start_time": "2021-11-08T18:37:15.350Z"
   },
   {
    "duration": 120,
    "start_time": "2021-11-08T18:37:15.356Z"
   },
   {
    "duration": 105,
    "start_time": "2021-11-08T18:37:15.372Z"
   },
   {
    "duration": 98,
    "start_time": "2021-11-08T18:37:15.380Z"
   },
   {
    "duration": 94,
    "start_time": "2021-11-08T18:37:15.385Z"
   },
   {
    "duration": 90,
    "start_time": "2021-11-08T18:37:15.390Z"
   },
   {
    "duration": 82,
    "start_time": "2021-11-08T18:37:15.399Z"
   },
   {
    "duration": 79,
    "start_time": "2021-11-08T18:37:15.403Z"
   },
   {
    "duration": 70,
    "start_time": "2021-11-08T18:37:15.413Z"
   },
   {
    "duration": 68,
    "start_time": "2021-11-08T18:37:15.416Z"
   },
   {
    "duration": 64,
    "start_time": "2021-11-08T18:37:15.421Z"
   },
   {
    "duration": 54,
    "start_time": "2021-11-08T18:37:15.432Z"
   },
   {
    "duration": 50,
    "start_time": "2021-11-08T18:37:15.437Z"
   },
   {
    "duration": 42,
    "start_time": "2021-11-08T18:37:15.446Z"
   },
   {
    "duration": 22,
    "start_time": "2021-11-08T18:37:31.326Z"
   },
   {
    "duration": 13,
    "start_time": "2021-11-08T18:37:33.229Z"
   },
   {
    "duration": 8,
    "start_time": "2021-11-08T18:37:33.461Z"
   },
   {
    "duration": 8,
    "start_time": "2021-11-08T18:37:33.717Z"
   },
   {
    "duration": 5,
    "start_time": "2021-11-08T18:37:34.045Z"
   },
   {
    "duration": 3,
    "start_time": "2021-11-08T18:37:34.557Z"
   },
   {
    "duration": 3,
    "start_time": "2021-11-08T18:37:34.813Z"
   },
   {
    "duration": 12,
    "start_time": "2021-11-08T18:37:35.076Z"
   },
   {
    "duration": 10,
    "start_time": "2021-11-08T18:37:35.333Z"
   },
   {
    "duration": 11,
    "start_time": "2021-11-08T18:37:35.573Z"
   },
   {
    "duration": 10,
    "start_time": "2021-11-08T18:37:35.829Z"
   },
   {
    "duration": 12,
    "start_time": "2021-11-08T18:37:36.853Z"
   },
   {
    "duration": 4,
    "start_time": "2021-11-08T18:37:37.646Z"
   },
   {
    "duration": 12,
    "start_time": "2021-11-08T18:37:37.924Z"
   },
   {
    "duration": 16,
    "start_time": "2021-11-08T18:37:38.900Z"
   },
   {
    "duration": 18,
    "start_time": "2021-11-08T18:37:39.156Z"
   },
   {
    "duration": 17,
    "start_time": "2021-11-08T18:37:39.397Z"
   },
   {
    "duration": 10,
    "start_time": "2021-11-08T18:37:39.637Z"
   },
   {
    "duration": 54,
    "start_time": "2021-11-08T18:37:39.869Z"
   },
   {
    "duration": 26,
    "start_time": "2021-11-08T18:37:40.116Z"
   },
   {
    "duration": 20,
    "start_time": "2021-11-08T18:37:40.380Z"
   },
   {
    "duration": 18,
    "start_time": "2021-11-08T18:37:40.629Z"
   },
   {
    "duration": 8,
    "start_time": "2021-11-08T18:37:42.180Z"
   },
   {
    "duration": 4,
    "start_time": "2021-11-08T18:37:42.492Z"
   },
   {
    "duration": 3688,
    "start_time": "2021-11-08T18:37:42.788Z"
   },
   {
    "duration": 38,
    "start_time": "2021-11-08T18:37:46.478Z"
   },
   {
    "duration": 20,
    "start_time": "2021-11-08T18:37:47.492Z"
   },
   {
    "duration": 7,
    "start_time": "2021-11-08T18:37:48.149Z"
   },
   {
    "duration": 22,
    "start_time": "2021-11-08T18:37:48.398Z"
   },
   {
    "duration": 3,
    "start_time": "2021-11-08T18:37:50.771Z"
   },
   {
    "duration": 2979,
    "start_time": "2021-11-08T18:37:51.308Z"
   },
   {
    "duration": 15111,
    "start_time": "2021-11-08T18:38:29.508Z"
   },
   {
    "duration": 555,
    "start_time": "2021-11-08T18:43:47.645Z"
   },
   {
    "duration": 125,
    "start_time": "2021-11-08T18:45:50.422Z"
   },
   {
    "duration": 3093,
    "start_time": "2021-11-08T18:45:58.955Z"
   },
   {
    "duration": 23,
    "start_time": "2021-11-08T18:46:58.249Z"
   },
   {
    "duration": 24,
    "start_time": "2021-11-08T18:47:20.849Z"
   },
   {
    "duration": 18,
    "start_time": "2021-11-08T18:48:33.615Z"
   },
   {
    "duration": 26,
    "start_time": "2021-11-08T18:51:46.069Z"
   },
   {
    "duration": 3,
    "start_time": "2021-11-08T18:52:11.667Z"
   },
   {
    "duration": 23,
    "start_time": "2021-11-08T18:52:13.100Z"
   },
   {
    "duration": 3,
    "start_time": "2021-11-08T18:52:26.667Z"
   },
   {
    "duration": 23,
    "start_time": "2021-11-08T18:52:34.715Z"
   },
   {
    "duration": 23,
    "start_time": "2021-11-08T18:52:38.385Z"
   },
   {
    "duration": 26,
    "start_time": "2021-11-08T18:53:53.281Z"
   },
   {
    "duration": 45,
    "start_time": "2021-11-08T18:54:03.217Z"
   },
   {
    "duration": 16,
    "start_time": "2021-11-08T19:59:33.994Z"
   },
   {
    "duration": 15,
    "start_time": "2021-11-08T20:24:19.216Z"
   },
   {
    "duration": 9,
    "start_time": "2021-11-08T20:24:34.595Z"
   },
   {
    "duration": 8,
    "start_time": "2021-11-08T20:25:58.385Z"
   },
   {
    "duration": 65,
    "start_time": "2021-11-08T20:42:14.710Z"
   },
   {
    "duration": 13,
    "start_time": "2021-11-08T20:42:14.777Z"
   },
   {
    "duration": 32,
    "start_time": "2021-11-08T20:42:14.792Z"
   },
   {
    "duration": 30,
    "start_time": "2021-11-08T20:42:14.827Z"
   },
   {
    "duration": 14,
    "start_time": "2021-11-08T20:42:14.859Z"
   },
   {
    "duration": 18,
    "start_time": "2021-11-08T20:42:14.876Z"
   },
   {
    "duration": 22,
    "start_time": "2021-11-08T20:42:14.896Z"
   },
   {
    "duration": 34,
    "start_time": "2021-11-08T20:42:14.920Z"
   },
   {
    "duration": 15,
    "start_time": "2021-11-08T20:42:14.956Z"
   },
   {
    "duration": 12,
    "start_time": "2021-11-08T20:42:14.973Z"
   },
   {
    "duration": 30,
    "start_time": "2021-11-08T20:42:14.987Z"
   },
   {
    "duration": 31,
    "start_time": "2021-11-08T20:42:15.019Z"
   },
   {
    "duration": 39,
    "start_time": "2021-11-08T20:42:15.052Z"
   },
   {
    "duration": 43,
    "start_time": "2021-11-08T20:42:15.095Z"
   },
   {
    "duration": 29,
    "start_time": "2021-11-08T20:42:15.141Z"
   },
   {
    "duration": 16,
    "start_time": "2021-11-08T20:42:15.172Z"
   },
   {
    "duration": 33,
    "start_time": "2021-11-08T20:42:15.190Z"
   },
   {
    "duration": 27,
    "start_time": "2021-11-08T20:42:15.224Z"
   },
   {
    "duration": 24,
    "start_time": "2021-11-08T20:42:15.252Z"
   },
   {
    "duration": 29,
    "start_time": "2021-11-08T20:42:15.278Z"
   },
   {
    "duration": 15,
    "start_time": "2021-11-08T20:42:15.309Z"
   },
   {
    "duration": 88,
    "start_time": "2021-11-08T20:42:15.326Z"
   },
   {
    "duration": 36,
    "start_time": "2021-11-08T20:42:15.416Z"
   },
   {
    "duration": 28,
    "start_time": "2021-11-08T20:42:15.453Z"
   },
   {
    "duration": 41,
    "start_time": "2021-11-08T20:42:15.483Z"
   },
   {
    "duration": 3,
    "start_time": "2021-11-08T20:42:15.526Z"
   },
   {
    "duration": 11,
    "start_time": "2021-11-08T20:42:15.531Z"
   },
   {
    "duration": 4036,
    "start_time": "2021-11-08T20:42:15.544Z"
   },
   {
    "duration": 35,
    "start_time": "2021-11-08T20:42:19.582Z"
   },
   {
    "duration": 16,
    "start_time": "2021-11-08T20:42:19.619Z"
   },
   {
    "duration": 54,
    "start_time": "2021-11-08T20:42:19.637Z"
   },
   {
    "duration": 33,
    "start_time": "2021-11-08T20:42:19.693Z"
   },
   {
    "duration": 49,
    "start_time": "2021-11-08T20:42:19.728Z"
   },
   {
    "duration": 25,
    "start_time": "2021-11-08T20:43:03.972Z"
   },
   {
    "duration": 4,
    "start_time": "2021-11-08T20:43:20.421Z"
   },
   {
    "duration": 3,
    "start_time": "2021-11-08T20:51:16.308Z"
   },
   {
    "duration": 23,
    "start_time": "2021-11-08T20:51:20.292Z"
   },
   {
    "duration": 4,
    "start_time": "2021-11-08T20:51:23.083Z"
   },
   {
    "duration": 912,
    "start_time": "2021-11-08T20:54:14.518Z"
   },
   {
    "duration": 14,
    "start_time": "2021-11-08T20:54:15.433Z"
   },
   {
    "duration": 11,
    "start_time": "2021-11-08T20:54:15.450Z"
   },
   {
    "duration": 50,
    "start_time": "2021-11-08T20:54:15.464Z"
   },
   {
    "duration": 12,
    "start_time": "2021-11-08T20:54:15.516Z"
   },
   {
    "duration": 6,
    "start_time": "2021-11-08T20:54:15.530Z"
   },
   {
    "duration": 7,
    "start_time": "2021-11-08T20:54:15.538Z"
   },
   {
    "duration": 8,
    "start_time": "2021-11-08T20:54:15.547Z"
   },
   {
    "duration": 3,
    "start_time": "2021-11-08T20:54:15.557Z"
   },
   {
    "duration": 4,
    "start_time": "2021-11-08T20:54:15.606Z"
   },
   {
    "duration": 16,
    "start_time": "2021-11-08T20:54:15.612Z"
   },
   {
    "duration": 13,
    "start_time": "2021-11-08T20:54:15.630Z"
   },
   {
    "duration": 13,
    "start_time": "2021-11-08T20:54:15.645Z"
   },
   {
    "duration": 51,
    "start_time": "2021-11-08T20:54:15.660Z"
   },
   {
    "duration": 14,
    "start_time": "2021-11-08T20:54:15.713Z"
   },
   {
    "duration": 4,
    "start_time": "2021-11-08T20:54:15.730Z"
   },
   {
    "duration": 16,
    "start_time": "2021-11-08T20:54:15.736Z"
   },
   {
    "duration": 59,
    "start_time": "2021-11-08T20:54:15.754Z"
   },
   {
    "duration": 18,
    "start_time": "2021-11-08T20:54:15.814Z"
   },
   {
    "duration": 17,
    "start_time": "2021-11-08T20:54:15.834Z"
   },
   {
    "duration": 10,
    "start_time": "2021-11-08T20:54:15.853Z"
   },
   {
    "duration": 79,
    "start_time": "2021-11-08T20:54:15.864Z"
   },
   {
    "duration": 26,
    "start_time": "2021-11-08T20:54:15.947Z"
   },
   {
    "duration": 35,
    "start_time": "2021-11-08T20:54:15.974Z"
   },
   {
    "duration": 19,
    "start_time": "2021-11-08T20:54:16.010Z"
   },
   {
    "duration": 28,
    "start_time": "2021-11-08T20:54:16.031Z"
   },
   {
    "duration": 3,
    "start_time": "2021-11-08T20:54:16.061Z"
   },
   {
    "duration": 4784,
    "start_time": "2021-11-08T20:54:16.066Z"
   },
   {
    "duration": 28,
    "start_time": "2021-11-08T20:54:20.852Z"
   },
   {
    "duration": 26,
    "start_time": "2021-11-08T20:54:20.882Z"
   },
   {
    "duration": 5,
    "start_time": "2021-11-08T20:54:20.911Z"
   },
   {
    "duration": 39,
    "start_time": "2021-11-08T20:54:20.918Z"
   },
   {
    "duration": 6,
    "start_time": "2021-11-08T20:54:20.959Z"
   },
   {
    "duration": 10,
    "start_time": "2021-11-08T20:54:20.967Z"
   },
   {
    "duration": 6,
    "start_time": "2021-11-08T20:54:20.979Z"
   },
   {
    "duration": 40,
    "start_time": "2021-11-08T20:54:20.987Z"
   },
   {
    "duration": 24,
    "start_time": "2021-11-08T20:54:28.440Z"
   },
   {
    "duration": 23,
    "start_time": "2021-11-08T20:56:01.081Z"
   },
   {
    "duration": 11,
    "start_time": "2021-11-08T21:07:40.552Z"
   },
   {
    "duration": -120,
    "start_time": "2021-11-08T21:08:27.618Z"
   },
   {
    "duration": 137,
    "start_time": "2021-11-08T21:11:07.212Z"
   },
   {
    "duration": 381,
    "start_time": "2021-11-08T21:11:16.122Z"
   },
   {
    "duration": 16,
    "start_time": "2021-11-08T21:11:26.043Z"
   },
   {
    "duration": 14,
    "start_time": "2021-11-08T21:12:13.475Z"
   },
   {
    "duration": 373,
    "start_time": "2021-11-08T21:12:36.296Z"
   },
   {
    "duration": 374,
    "start_time": "2021-11-08T21:12:57.100Z"
   },
   {
    "duration": 11,
    "start_time": "2021-11-08T21:13:17.031Z"
   },
   {
    "duration": 377,
    "start_time": "2021-11-08T21:13:58.559Z"
   },
   {
    "duration": 12,
    "start_time": "2021-11-08T21:15:49.772Z"
   },
   {
    "duration": 12,
    "start_time": "2021-11-08T21:17:01.955Z"
   },
   {
    "duration": 12,
    "start_time": "2021-11-08T21:18:20.619Z"
   },
   {
    "duration": 10,
    "start_time": "2021-11-08T21:20:39.720Z"
   },
   {
    "duration": 14,
    "start_time": "2021-11-08T21:29:22.967Z"
   },
   {
    "duration": 5,
    "start_time": "2021-11-08T21:29:45.582Z"
   },
   {
    "duration": 9,
    "start_time": "2021-11-08T21:29:53.629Z"
   },
   {
    "duration": 10,
    "start_time": "2021-11-08T21:30:18.590Z"
   },
   {
    "duration": 4,
    "start_time": "2021-11-08T21:30:33.317Z"
   },
   {
    "duration": 5,
    "start_time": "2021-11-08T21:31:18.046Z"
   },
   {
    "duration": 1027,
    "start_time": "2021-11-08T21:34:18.561Z"
   },
   {
    "duration": 367,
    "start_time": "2021-11-08T21:34:39.560Z"
   },
   {
    "duration": 388,
    "start_time": "2021-11-08T21:35:42.520Z"
   },
   {
    "duration": 378,
    "start_time": "2021-11-08T21:39:05.644Z"
   },
   {
    "duration": 6,
    "start_time": "2021-11-08T21:39:28.643Z"
   },
   {
    "duration": 369,
    "start_time": "2021-11-08T21:40:36.344Z"
   },
   {
    "duration": 385,
    "start_time": "2021-11-08T21:41:01.970Z"
   },
   {
    "duration": 366,
    "start_time": "2021-11-08T21:41:42.952Z"
   },
   {
    "duration": 411,
    "start_time": "2021-11-08T21:42:36.536Z"
   },
   {
    "duration": 4,
    "start_time": "2021-11-08T21:47:07.704Z"
   },
   {
    "duration": 5,
    "start_time": "2021-11-08T21:47:16.729Z"
   },
   {
    "duration": 6,
    "start_time": "2021-11-08T21:47:33.503Z"
   },
   {
    "duration": 11,
    "start_time": "2021-11-08T21:47:35.472Z"
   },
   {
    "duration": 5,
    "start_time": "2021-11-08T21:47:36.511Z"
   },
   {
    "duration": 5427,
    "start_time": "2021-11-08T21:47:38.072Z"
   },
   {
    "duration": -162,
    "start_time": "2021-11-08T21:47:43.663Z"
   },
   {
    "duration": 4845,
    "start_time": "2021-11-08T21:48:08.783Z"
   },
   {
    "duration": 6596,
    "start_time": "2021-11-08T21:49:20.375Z"
   },
   {
    "duration": 373,
    "start_time": "2021-11-08T21:50:23.228Z"
   },
   {
    "duration": 388,
    "start_time": "2021-11-08T21:50:28.821Z"
   },
   {
    "duration": 10,
    "start_time": "2021-11-08T21:51:13.563Z"
   },
   {
    "duration": 62,
    "start_time": "2021-11-08T21:51:38.893Z"
   },
   {
    "duration": 13,
    "start_time": "2021-11-08T21:51:38.957Z"
   },
   {
    "duration": 38,
    "start_time": "2021-11-08T21:51:38.973Z"
   },
   {
    "duration": 28,
    "start_time": "2021-11-08T21:51:39.013Z"
   },
   {
    "duration": 11,
    "start_time": "2021-11-08T21:51:39.043Z"
   },
   {
    "duration": 8,
    "start_time": "2021-11-08T21:51:39.056Z"
   },
   {
    "duration": 42,
    "start_time": "2021-11-08T21:51:39.065Z"
   },
   {
    "duration": 5,
    "start_time": "2021-11-08T21:51:39.110Z"
   },
   {
    "duration": 12,
    "start_time": "2021-11-08T21:51:39.117Z"
   },
   {
    "duration": 11,
    "start_time": "2021-11-08T21:51:39.131Z"
   },
   {
    "duration": 14,
    "start_time": "2021-11-08T21:51:39.144Z"
   },
   {
    "duration": 19,
    "start_time": "2021-11-08T21:51:39.159Z"
   },
   {
    "duration": 11,
    "start_time": "2021-11-08T21:51:39.180Z"
   },
   {
    "duration": 21,
    "start_time": "2021-11-08T21:51:39.193Z"
   },
   {
    "duration": 24,
    "start_time": "2021-11-08T21:51:39.216Z"
   },
   {
    "duration": 4,
    "start_time": "2021-11-08T21:51:39.242Z"
   },
   {
    "duration": 22,
    "start_time": "2021-11-08T21:51:39.248Z"
   },
   {
    "duration": 15,
    "start_time": "2021-11-08T21:51:39.272Z"
   },
   {
    "duration": 22,
    "start_time": "2021-11-08T21:51:39.288Z"
   },
   {
    "duration": 16,
    "start_time": "2021-11-08T21:51:39.312Z"
   },
   {
    "duration": 10,
    "start_time": "2021-11-08T21:51:39.329Z"
   },
   {
    "duration": 70,
    "start_time": "2021-11-08T21:51:39.341Z"
   },
   {
    "duration": 26,
    "start_time": "2021-11-08T21:51:39.414Z"
   },
   {
    "duration": 22,
    "start_time": "2021-11-08T21:51:39.442Z"
   },
   {
    "duration": 18,
    "start_time": "2021-11-08T21:51:39.466Z"
   },
   {
    "duration": 27,
    "start_time": "2021-11-08T21:51:39.507Z"
   },
   {
    "duration": 5,
    "start_time": "2021-11-08T21:51:39.536Z"
   },
   {
    "duration": 3639,
    "start_time": "2021-11-08T21:51:39.542Z"
   },
   {
    "duration": 37,
    "start_time": "2021-11-08T21:51:43.183Z"
   },
   {
    "duration": 9,
    "start_time": "2021-11-08T21:51:43.222Z"
   },
   {
    "duration": 12,
    "start_time": "2021-11-08T21:51:43.233Z"
   },
   {
    "duration": 34,
    "start_time": "2021-11-08T21:51:43.247Z"
   },
   {
    "duration": 15,
    "start_time": "2021-11-08T21:51:43.283Z"
   },
   {
    "duration": 14,
    "start_time": "2021-11-08T21:51:43.300Z"
   },
   {
    "duration": 30,
    "start_time": "2021-11-08T21:51:43.315Z"
   },
   {
    "duration": 2,
    "start_time": "2021-11-08T21:51:43.347Z"
   },
   {
    "duration": 30,
    "start_time": "2021-11-08T21:51:43.351Z"
   },
   {
    "duration": 4,
    "start_time": "2021-11-08T21:51:43.383Z"
   },
   {
    "duration": 21,
    "start_time": "2021-11-08T21:51:43.389Z"
   },
   {
    "duration": 4,
    "start_time": "2021-11-08T21:51:55.756Z"
   },
   {
    "duration": 5,
    "start_time": "2021-11-08T21:52:14.468Z"
   },
   {
    "duration": 5,
    "start_time": "2021-11-08T21:52:24.931Z"
   },
   {
    "duration": 378,
    "start_time": "2021-11-08T21:53:03.698Z"
   },
   {
    "duration": 474,
    "start_time": "2021-11-08T21:53:12.674Z"
   },
   {
    "duration": 5,
    "start_time": "2021-11-08T21:56:23.190Z"
   },
   {
    "duration": 388,
    "start_time": "2021-11-08T21:56:37.431Z"
   },
   {
    "duration": 6439,
    "start_time": "2021-11-08T21:56:46.231Z"
   },
   {
    "duration": 36,
    "start_time": "2021-11-08T22:00:26.369Z"
   },
   {
    "duration": 5,
    "start_time": "2021-11-08T22:02:05.512Z"
   },
   {
    "duration": 54,
    "start_time": "2021-11-08T22:02:34.407Z"
   },
   {
    "duration": 6,
    "start_time": "2021-11-08T22:02:55.106Z"
   },
   {
    "duration": 6,
    "start_time": "2021-11-08T22:03:28.102Z"
   },
   {
    "duration": 6,
    "start_time": "2021-11-08T22:04:05.045Z"
   },
   {
    "duration": 12,
    "start_time": "2021-11-08T22:04:25.869Z"
   },
   {
    "duration": 5,
    "start_time": "2021-11-08T22:05:13.836Z"
   },
   {
    "duration": 7,
    "start_time": "2021-11-08T22:05:18.044Z"
   },
   {
    "duration": 7,
    "start_time": "2021-11-08T22:05:24.956Z"
   },
   {
    "duration": 6,
    "start_time": "2021-11-08T22:05:58.628Z"
   },
   {
    "duration": 5,
    "start_time": "2021-11-08T22:06:04.139Z"
   },
   {
    "duration": 7,
    "start_time": "2021-11-08T22:07:05.514Z"
   },
   {
    "duration": 5,
    "start_time": "2021-11-08T22:07:30.377Z"
   },
   {
    "duration": 5424,
    "start_time": "2021-11-08T22:07:54.040Z"
   },
   {
    "duration": 5,
    "start_time": "2021-11-08T22:08:48.591Z"
   },
   {
    "duration": 4,
    "start_time": "2021-11-08T22:08:53.711Z"
   },
   {
    "duration": 62,
    "start_time": "2021-11-08T22:09:17.199Z"
   },
   {
    "duration": 12,
    "start_time": "2021-11-08T22:09:17.263Z"
   },
   {
    "duration": 33,
    "start_time": "2021-11-08T22:09:17.277Z"
   },
   {
    "duration": 27,
    "start_time": "2021-11-08T22:09:17.312Z"
   },
   {
    "duration": 13,
    "start_time": "2021-11-08T22:09:17.341Z"
   },
   {
    "duration": 8,
    "start_time": "2021-11-08T22:09:17.356Z"
   },
   {
    "duration": 46,
    "start_time": "2021-11-08T22:09:17.366Z"
   },
   {
    "duration": 5,
    "start_time": "2021-11-08T22:09:17.415Z"
   },
   {
    "duration": 3,
    "start_time": "2021-11-08T22:09:17.422Z"
   },
   {
    "duration": 10,
    "start_time": "2021-11-08T22:09:17.427Z"
   },
   {
    "duration": 44,
    "start_time": "2021-11-08T22:09:17.439Z"
   },
   {
    "duration": 32,
    "start_time": "2021-11-08T22:09:17.484Z"
   },
   {
    "duration": 33,
    "start_time": "2021-11-08T22:09:17.517Z"
   },
   {
    "duration": 11,
    "start_time": "2021-11-08T22:09:17.552Z"
   },
   {
    "duration": 15,
    "start_time": "2021-11-08T22:09:17.565Z"
   },
   {
    "duration": 5,
    "start_time": "2021-11-08T22:09:17.582Z"
   },
   {
    "duration": 21,
    "start_time": "2021-11-08T22:09:17.589Z"
   },
   {
    "duration": 15,
    "start_time": "2021-11-08T22:09:17.612Z"
   },
   {
    "duration": 18,
    "start_time": "2021-11-08T22:09:17.629Z"
   },
   {
    "duration": 17,
    "start_time": "2021-11-08T22:09:17.649Z"
   },
   {
    "duration": 39,
    "start_time": "2021-11-08T22:09:17.668Z"
   },
   {
    "duration": 51,
    "start_time": "2021-11-08T22:09:17.708Z"
   },
   {
    "duration": 27,
    "start_time": "2021-11-08T22:09:17.763Z"
   },
   {
    "duration": 25,
    "start_time": "2021-11-08T22:09:17.807Z"
   },
   {
    "duration": 19,
    "start_time": "2021-11-08T22:09:17.834Z"
   },
   {
    "duration": 26,
    "start_time": "2021-11-08T22:09:17.855Z"
   },
   {
    "duration": 3,
    "start_time": "2021-11-08T22:09:17.907Z"
   },
   {
    "duration": 3830,
    "start_time": "2021-11-08T22:09:17.911Z"
   },
   {
    "duration": 22,
    "start_time": "2021-11-08T22:09:21.743Z"
   },
   {
    "duration": 8,
    "start_time": "2021-11-08T22:09:21.767Z"
   },
   {
    "duration": 12,
    "start_time": "2021-11-08T22:09:21.776Z"
   },
   {
    "duration": 41,
    "start_time": "2021-11-08T22:09:21.789Z"
   },
   {
    "duration": 8,
    "start_time": "2021-11-08T22:09:21.831Z"
   },
   {
    "duration": 8,
    "start_time": "2021-11-08T22:09:21.841Z"
   },
   {
    "duration": 32,
    "start_time": "2021-11-08T22:09:21.850Z"
   },
   {
    "duration": 25,
    "start_time": "2021-11-08T22:09:21.884Z"
   },
   {
    "duration": 4,
    "start_time": "2021-11-08T22:09:21.910Z"
   },
   {
    "duration": 23,
    "start_time": "2021-11-08T22:09:21.916Z"
   },
   {
    "duration": 26,
    "start_time": "2021-11-08T22:09:21.940Z"
   },
   {
    "duration": 13,
    "start_time": "2021-11-08T22:09:21.967Z"
   },
   {
    "duration": 17,
    "start_time": "2021-11-08T22:09:21.982Z"
   },
   {
    "duration": 7,
    "start_time": "2021-11-08T22:10:05.229Z"
   },
   {
    "duration": 7,
    "start_time": "2021-11-08T22:10:10.885Z"
   },
   {
    "duration": 7,
    "start_time": "2021-11-08T22:10:41.500Z"
   },
   {
    "duration": 10,
    "start_time": "2021-11-08T22:11:13.267Z"
   },
   {
    "duration": 5,
    "start_time": "2021-11-08T22:11:25.132Z"
   },
   {
    "duration": 7,
    "start_time": "2021-11-08T22:11:48.923Z"
   },
   {
    "duration": 11,
    "start_time": "2021-11-08T22:11:51.419Z"
   },
   {
    "duration": 5,
    "start_time": "2021-11-08T22:11:52.355Z"
   },
   {
    "duration": 6,
    "start_time": "2021-11-08T22:13:59.545Z"
   },
   {
    "duration": 2963,
    "start_time": "2021-11-08T22:16:57.186Z"
   },
   {
    "duration": 2547,
    "start_time": "2021-11-08T22:17:06.518Z"
   },
   {
    "duration": 9,
    "start_time": "2021-11-08T22:17:30.062Z"
   },
   {
    "duration": 23,
    "start_time": "2021-11-08T22:17:37.334Z"
   },
   {
    "duration": 18,
    "start_time": "2021-11-08T22:17:46.094Z"
   },
   {
    "duration": 31,
    "start_time": "2021-11-08T22:17:59.478Z"
   },
   {
    "duration": 6,
    "start_time": "2021-11-08T22:19:01.750Z"
   },
   {
    "duration": 4,
    "start_time": "2021-11-08T22:19:19.428Z"
   },
   {
    "duration": 5,
    "start_time": "2021-11-08T22:19:30.259Z"
   },
   {
    "duration": 6,
    "start_time": "2021-11-08T22:19:46.579Z"
   },
   {
    "duration": 4,
    "start_time": "2021-11-08T22:21:23.569Z"
   },
   {
    "duration": 7,
    "start_time": "2021-11-08T22:25:11.796Z"
   },
   {
    "duration": 63,
    "start_time": "2021-11-08T22:25:27.616Z"
   },
   {
    "duration": 12,
    "start_time": "2021-11-08T22:25:27.681Z"
   },
   {
    "duration": 16,
    "start_time": "2021-11-08T22:25:27.695Z"
   },
   {
    "duration": 25,
    "start_time": "2021-11-08T22:25:27.713Z"
   },
   {
    "duration": 21,
    "start_time": "2021-11-08T22:25:27.740Z"
   },
   {
    "duration": 7,
    "start_time": "2021-11-08T22:25:27.762Z"
   },
   {
    "duration": 8,
    "start_time": "2021-11-08T22:25:27.806Z"
   },
   {
    "duration": 5,
    "start_time": "2021-11-08T22:25:27.817Z"
   },
   {
    "duration": 3,
    "start_time": "2021-11-08T22:25:27.824Z"
   },
   {
    "duration": 6,
    "start_time": "2021-11-08T22:25:27.829Z"
   },
   {
    "duration": 16,
    "start_time": "2021-11-08T22:25:27.837Z"
   },
   {
    "duration": 11,
    "start_time": "2021-11-08T22:25:27.855Z"
   },
   {
    "duration": 40,
    "start_time": "2021-11-08T22:25:27.867Z"
   },
   {
    "duration": 10,
    "start_time": "2021-11-08T22:25:27.909Z"
   },
   {
    "duration": 13,
    "start_time": "2021-11-08T22:25:27.921Z"
   },
   {
    "duration": 5,
    "start_time": "2021-11-08T22:25:27.935Z"
   },
   {
    "duration": 15,
    "start_time": "2021-11-08T22:25:27.942Z"
   },
   {
    "duration": 17,
    "start_time": "2021-11-08T22:25:27.959Z"
   },
   {
    "duration": 20,
    "start_time": "2021-11-08T22:25:28.007Z"
   },
   {
    "duration": 17,
    "start_time": "2021-11-08T22:25:28.029Z"
   },
   {
    "duration": 11,
    "start_time": "2021-11-08T22:25:28.048Z"
   },
   {
    "duration": 84,
    "start_time": "2021-11-08T22:25:28.061Z"
   },
   {
    "duration": 26,
    "start_time": "2021-11-08T22:25:28.149Z"
   },
   {
    "duration": 39,
    "start_time": "2021-11-08T22:25:28.177Z"
   },
   {
    "duration": 18,
    "start_time": "2021-11-08T22:25:28.219Z"
   },
   {
    "duration": 27,
    "start_time": "2021-11-08T22:25:28.239Z"
   },
   {
    "duration": 3,
    "start_time": "2021-11-08T22:25:28.268Z"
   },
   {
    "duration": 3945,
    "start_time": "2021-11-08T22:25:28.273Z"
   },
   {
    "duration": 25,
    "start_time": "2021-11-08T22:25:32.220Z"
   },
   {
    "duration": 17,
    "start_time": "2021-11-08T22:25:32.247Z"
   },
   {
    "duration": 12,
    "start_time": "2021-11-08T22:25:32.266Z"
   },
   {
    "duration": 40,
    "start_time": "2021-11-08T22:25:32.280Z"
   },
   {
    "duration": 22,
    "start_time": "2021-11-08T22:25:32.322Z"
   },
   {
    "duration": 6,
    "start_time": "2021-11-08T22:25:32.346Z"
   },
   {
    "duration": 37,
    "start_time": "2021-11-08T22:25:32.354Z"
   },
   {
    "duration": 18,
    "start_time": "2021-11-08T22:25:32.392Z"
   },
   {
    "duration": 9,
    "start_time": "2021-11-08T22:25:32.412Z"
   },
   {
    "duration": 17,
    "start_time": "2021-11-08T22:25:32.423Z"
   },
   {
    "duration": 24,
    "start_time": "2021-11-08T22:25:32.442Z"
   },
   {
    "duration": 3,
    "start_time": "2021-11-08T22:25:32.468Z"
   },
   {
    "duration": 31,
    "start_time": "2021-11-08T22:25:32.473Z"
   },
   {
    "duration": 38,
    "start_time": "2021-11-08T22:25:32.506Z"
   },
   {
    "duration": 31,
    "start_time": "2021-11-08T22:25:32.546Z"
   },
   {
    "duration": 12,
    "start_time": "2021-11-08T22:25:32.579Z"
   },
   {
    "duration": 4,
    "start_time": "2021-11-08T22:26:23.406Z"
   },
   {
    "duration": 4,
    "start_time": "2021-11-08T22:26:33.452Z"
   },
   {
    "duration": 5,
    "start_time": "2021-11-08T22:27:13.226Z"
   },
   {
    "duration": 5,
    "start_time": "2021-11-08T22:27:22.530Z"
   },
   {
    "duration": 5,
    "start_time": "2021-11-08T22:31:23.374Z"
   },
   {
    "duration": 6,
    "start_time": "2021-11-08T22:37:17.440Z"
   },
   {
    "duration": 6,
    "start_time": "2021-11-08T22:38:55.606Z"
   },
   {
    "duration": 4822,
    "start_time": "2021-11-08T22:40:45.957Z"
   },
   {
    "duration": 5,
    "start_time": "2021-11-08T22:40:58.931Z"
   },
   {
    "duration": 5,
    "start_time": "2021-11-08T22:41:09.755Z"
   },
   {
    "duration": 6,
    "start_time": "2021-11-08T22:43:08.673Z"
   },
   {
    "duration": 850,
    "start_time": "2021-11-09T05:49:58.999Z"
   },
   {
    "duration": 30,
    "start_time": "2021-11-09T05:49:59.852Z"
   },
   {
    "duration": 13,
    "start_time": "2021-11-09T05:49:59.885Z"
   },
   {
    "duration": 33,
    "start_time": "2021-11-09T05:49:59.900Z"
   },
   {
    "duration": 16,
    "start_time": "2021-11-09T05:49:59.960Z"
   },
   {
    "duration": 12,
    "start_time": "2021-11-09T05:49:59.978Z"
   },
   {
    "duration": 12,
    "start_time": "2021-11-09T05:49:59.993Z"
   },
   {
    "duration": 8,
    "start_time": "2021-11-09T05:50:00.008Z"
   },
   {
    "duration": 42,
    "start_time": "2021-11-09T05:50:00.019Z"
   },
   {
    "duration": 7,
    "start_time": "2021-11-09T05:50:00.063Z"
   },
   {
    "duration": 22,
    "start_time": "2021-11-09T05:50:00.072Z"
   },
   {
    "duration": 13,
    "start_time": "2021-11-09T05:50:00.096Z"
   },
   {
    "duration": 47,
    "start_time": "2021-11-09T05:50:00.112Z"
   },
   {
    "duration": 12,
    "start_time": "2021-11-09T05:50:00.162Z"
   },
   {
    "duration": 16,
    "start_time": "2021-11-09T05:50:00.177Z"
   },
   {
    "duration": 11,
    "start_time": "2021-11-09T05:50:00.195Z"
   },
   {
    "duration": 31,
    "start_time": "2021-11-09T05:50:00.209Z"
   },
   {
    "duration": 22,
    "start_time": "2021-11-09T05:50:00.259Z"
   },
   {
    "duration": 28,
    "start_time": "2021-11-09T05:50:00.284Z"
   },
   {
    "duration": 58,
    "start_time": "2021-11-09T05:50:00.315Z"
   },
   {
    "duration": 21,
    "start_time": "2021-11-09T05:50:00.376Z"
   },
   {
    "duration": 133,
    "start_time": "2021-11-09T05:50:00.400Z"
   },
   {
    "duration": 45,
    "start_time": "2021-11-09T05:50:00.540Z"
   },
   {
    "duration": 28,
    "start_time": "2021-11-09T05:50:00.588Z"
   },
   {
    "duration": 44,
    "start_time": "2021-11-09T05:50:00.619Z"
   },
   {
    "duration": 10,
    "start_time": "2021-11-09T05:50:00.666Z"
   },
   {
    "duration": 5,
    "start_time": "2021-11-09T05:50:00.678Z"
   },
   {
    "duration": 4883,
    "start_time": "2021-11-09T05:50:00.685Z"
   },
   {
    "duration": 36,
    "start_time": "2021-11-09T05:50:05.570Z"
   },
   {
    "duration": 43,
    "start_time": "2021-11-09T05:50:05.608Z"
   },
   {
    "duration": 31,
    "start_time": "2021-11-09T05:50:05.653Z"
   },
   {
    "duration": 50,
    "start_time": "2021-11-09T05:50:05.687Z"
   },
   {
    "duration": 16,
    "start_time": "2021-11-09T05:50:05.739Z"
   },
   {
    "duration": 17,
    "start_time": "2021-11-09T05:50:05.757Z"
   },
   {
    "duration": 62,
    "start_time": "2021-11-09T05:50:05.776Z"
   },
   {
    "duration": 26,
    "start_time": "2021-11-09T05:50:05.841Z"
   },
   {
    "duration": 12,
    "start_time": "2021-11-09T05:50:05.870Z"
   },
   {
    "duration": 28,
    "start_time": "2021-11-09T05:50:05.884Z"
   },
   {
    "duration": 23,
    "start_time": "2021-11-09T05:50:05.914Z"
   },
   {
    "duration": 8,
    "start_time": "2021-11-09T05:50:05.939Z"
   },
   {
    "duration": 13,
    "start_time": "2021-11-09T05:50:05.949Z"
   },
   {
    "duration": 14,
    "start_time": "2021-11-09T05:50:05.964Z"
   },
   {
    "duration": 30,
    "start_time": "2021-11-09T05:50:05.980Z"
   },
   {
    "duration": 12,
    "start_time": "2021-11-09T05:50:06.013Z"
   },
   {
    "duration": 26,
    "start_time": "2021-11-09T05:50:06.027Z"
   },
   {
    "duration": 33,
    "start_time": "2021-11-09T05:50:06.055Z"
   },
   {
    "duration": 16,
    "start_time": "2021-11-09T05:50:13.818Z"
   },
   {
    "duration": 6,
    "start_time": "2021-11-09T05:50:29.281Z"
   },
   {
    "duration": 9,
    "start_time": "2021-11-09T05:51:37.226Z"
   },
   {
    "duration": 6,
    "start_time": "2021-11-09T05:51:45.025Z"
   },
   {
    "duration": 13,
    "start_time": "2021-11-09T05:58:02.657Z"
   },
   {
    "duration": 7,
    "start_time": "2021-11-09T05:58:03.608Z"
   },
   {
    "duration": 6,
    "start_time": "2021-11-09T05:58:24.274Z"
   },
   {
    "duration": 16,
    "start_time": "2021-11-09T06:05:27.327Z"
   },
   {
    "duration": 7,
    "start_time": "2021-11-09T06:05:41.624Z"
   },
   {
    "duration": 6,
    "start_time": "2021-11-09T06:26:26.129Z"
   },
   {
    "duration": 7,
    "start_time": "2021-11-09T06:27:59.844Z"
   },
   {
    "duration": 6,
    "start_time": "2021-11-09T06:28:17.044Z"
   },
   {
    "duration": 7,
    "start_time": "2021-11-09T06:28:40.172Z"
   },
   {
    "duration": 717,
    "start_time": "2021-11-09T06:29:50.043Z"
   },
   {
    "duration": 19,
    "start_time": "2021-11-09T06:30:18.633Z"
   },
   {
    "duration": 512,
    "start_time": "2021-11-09T06:31:09.114Z"
   },
   {
    "duration": 18,
    "start_time": "2021-11-09T06:31:21.825Z"
   },
   {
    "duration": 13,
    "start_time": "2021-11-09T06:32:12.841Z"
   },
   {
    "duration": 18,
    "start_time": "2021-11-09T06:32:40.544Z"
   },
   {
    "duration": 20,
    "start_time": "2021-11-09T06:33:26.752Z"
   },
   {
    "duration": 388,
    "start_time": "2021-11-09T06:34:37.645Z"
   },
   {
    "duration": 19,
    "start_time": "2021-11-09T06:34:50.741Z"
   },
   {
    "duration": 34,
    "start_time": "2021-11-09T06:35:02.445Z"
   },
   {
    "duration": 21,
    "start_time": "2021-11-09T06:35:36.053Z"
   },
   {
    "duration": 14,
    "start_time": "2021-11-09T06:46:36.353Z"
   },
   {
    "duration": 6,
    "start_time": "2021-11-09T06:46:42.055Z"
   },
   {
    "duration": 382,
    "start_time": "2021-11-09T06:47:03.382Z"
   },
   {
    "duration": 386,
    "start_time": "2021-11-09T06:47:08.759Z"
   },
   {
    "duration": 15,
    "start_time": "2021-11-09T06:47:45.198Z"
   },
   {
    "duration": 19,
    "start_time": "2021-11-09T06:47:52.370Z"
   },
   {
    "duration": 144,
    "start_time": "2021-11-09T06:51:19.816Z"
   },
   {
    "duration": 149,
    "start_time": "2021-11-09T06:51:22.697Z"
   },
   {
    "duration": 13,
    "start_time": "2021-11-09T06:51:42.008Z"
   },
   {
    "duration": 7,
    "start_time": "2021-11-09T06:51:48.097Z"
   },
   {
    "duration": 11,
    "start_time": "2021-11-09T06:52:55.143Z"
   },
   {
    "duration": 20,
    "start_time": "2021-11-09T06:55:50.323Z"
   },
   {
    "duration": 384,
    "start_time": "2021-11-09T06:55:51.483Z"
   },
   {
    "duration": 13,
    "start_time": "2021-11-09T06:56:03.275Z"
   },
   {
    "duration": 18,
    "start_time": "2021-11-09T07:13:38.703Z"
   },
   {
    "duration": 378,
    "start_time": "2021-11-09T07:23:37.756Z"
   },
   {
    "duration": 13,
    "start_time": "2021-11-09T07:24:02.490Z"
   },
   {
    "duration": 16,
    "start_time": "2021-11-09T07:28:26.532Z"
   },
   {
    "duration": 11,
    "start_time": "2021-11-09T07:28:48.300Z"
   },
   {
    "duration": 11,
    "start_time": "2021-11-09T07:29:02.780Z"
   },
   {
    "duration": 458,
    "start_time": "2021-11-09T07:32:57.311Z"
   },
   {
    "duration": 54,
    "start_time": "2021-11-09T07:33:11.855Z"
   },
   {
    "duration": 54,
    "start_time": "2021-11-09T07:34:11.573Z"
   },
   {
    "duration": 143,
    "start_time": "2021-11-09T07:38:22.936Z"
   },
   {
    "duration": 84,
    "start_time": "2021-11-09T07:38:43.000Z"
   },
   {
    "duration": 24,
    "start_time": "2021-11-09T07:42:45.443Z"
   },
   {
    "duration": 28,
    "start_time": "2021-11-09T07:43:11.012Z"
   },
   {
    "duration": 94,
    "start_time": "2021-11-09T07:43:48.067Z"
   },
   {
    "duration": 130,
    "start_time": "2021-11-09T07:52:04.672Z"
   },
   {
    "duration": 66,
    "start_time": "2021-11-09T07:52:38.888Z"
   },
   {
    "duration": 67,
    "start_time": "2021-11-09T07:53:22.397Z"
   },
   {
    "duration": 19,
    "start_time": "2021-11-09T08:13:22.375Z"
   },
   {
    "duration": 18,
    "start_time": "2021-11-09T08:41:12.583Z"
   },
   {
    "duration": 6,
    "start_time": "2021-11-09T08:41:23.580Z"
   },
   {
    "duration": 11,
    "start_time": "2021-11-09T08:42:33.732Z"
   },
   {
    "duration": 419,
    "start_time": "2021-11-09T08:43:16.003Z"
   },
   {
    "duration": 439,
    "start_time": "2021-11-09T08:43:25.802Z"
   },
   {
    "duration": 19,
    "start_time": "2021-11-09T08:43:45.682Z"
   },
   {
    "duration": 12,
    "start_time": "2021-11-09T08:43:48.425Z"
   },
   {
    "duration": 5,
    "start_time": "2021-11-09T08:43:49.266Z"
   },
   {
    "duration": 5,
    "start_time": "2021-11-09T08:45:47.479Z"
   },
   {
    "duration": 6,
    "start_time": "2021-11-09T08:47:06.046Z"
   },
   {
    "duration": 11083,
    "start_time": "2021-11-09T08:48:32.927Z"
   },
   {
    "duration": 14,
    "start_time": "2021-11-09T08:49:08.142Z"
   },
   {
    "duration": 12,
    "start_time": "2021-11-09T08:50:01.070Z"
   },
   {
    "duration": 9,
    "start_time": "2021-11-09T08:50:52.363Z"
   },
   {
    "duration": 18,
    "start_time": "2021-11-09T08:54:39.286Z"
   },
   {
    "duration": 9,
    "start_time": "2021-11-09T08:55:45.286Z"
   },
   {
    "duration": 12,
    "start_time": "2021-11-09T08:56:19.058Z"
   },
   {
    "duration": 9,
    "start_time": "2021-11-09T08:57:19.563Z"
   },
   {
    "duration": 8,
    "start_time": "2021-11-09T08:58:20.051Z"
   },
   {
    "duration": 8,
    "start_time": "2021-11-09T09:10:27.938Z"
   },
   {
    "duration": 9,
    "start_time": "2021-11-09T09:14:35.341Z"
   },
   {
    "duration": 8,
    "start_time": "2021-11-09T09:14:57.669Z"
   },
   {
    "duration": 8,
    "start_time": "2021-11-09T09:15:25.709Z"
   },
   {
    "duration": 8,
    "start_time": "2021-11-09T09:15:41.077Z"
   },
   {
    "duration": 19,
    "start_time": "2021-11-09T09:21:43.260Z"
   },
   {
    "duration": 627,
    "start_time": "2021-11-09T12:36:02.692Z"
   },
   {
    "duration": 22,
    "start_time": "2021-11-09T12:36:03.321Z"
   },
   {
    "duration": 9,
    "start_time": "2021-11-09T12:36:03.345Z"
   },
   {
    "duration": 28,
    "start_time": "2021-11-09T12:36:03.356Z"
   },
   {
    "duration": 11,
    "start_time": "2021-11-09T12:36:03.386Z"
   },
   {
    "duration": 14,
    "start_time": "2021-11-09T12:36:03.399Z"
   },
   {
    "duration": 7,
    "start_time": "2021-11-09T12:36:03.415Z"
   },
   {
    "duration": 4,
    "start_time": "2021-11-09T12:36:03.425Z"
   },
   {
    "duration": 33,
    "start_time": "2021-11-09T12:36:03.431Z"
   },
   {
    "duration": 9,
    "start_time": "2021-11-09T12:36:03.466Z"
   },
   {
    "duration": 14,
    "start_time": "2021-11-09T12:36:03.477Z"
   },
   {
    "duration": 13,
    "start_time": "2021-11-09T12:36:03.492Z"
   },
   {
    "duration": 11,
    "start_time": "2021-11-09T12:36:03.506Z"
   },
   {
    "duration": 39,
    "start_time": "2021-11-09T12:36:03.519Z"
   },
   {
    "duration": 12,
    "start_time": "2021-11-09T12:36:03.560Z"
   },
   {
    "duration": 12,
    "start_time": "2021-11-09T12:36:03.574Z"
   },
   {
    "duration": 7,
    "start_time": "2021-11-09T12:36:03.588Z"
   },
   {
    "duration": 15,
    "start_time": "2021-11-09T12:36:03.596Z"
   },
   {
    "duration": 16,
    "start_time": "2021-11-09T12:36:03.613Z"
   },
   {
    "duration": 45,
    "start_time": "2021-11-09T12:36:03.631Z"
   },
   {
    "duration": 17,
    "start_time": "2021-11-09T12:36:03.678Z"
   },
   {
    "duration": 9,
    "start_time": "2021-11-09T12:36:03.697Z"
   },
   {
    "duration": 62,
    "start_time": "2021-11-09T12:36:03.710Z"
   },
   {
    "duration": 26,
    "start_time": "2021-11-09T12:36:03.775Z"
   },
   {
    "duration": 23,
    "start_time": "2021-11-09T12:36:03.802Z"
   },
   {
    "duration": 42,
    "start_time": "2021-11-09T12:36:03.827Z"
   },
   {
    "duration": 6,
    "start_time": "2021-11-09T12:36:03.871Z"
   },
   {
    "duration": 12,
    "start_time": "2021-11-09T12:36:03.879Z"
   },
   {
    "duration": 3716,
    "start_time": "2021-11-09T12:36:03.893Z"
   },
   {
    "duration": 22,
    "start_time": "2021-11-09T12:36:07.611Z"
   },
   {
    "duration": 16,
    "start_time": "2021-11-09T12:36:07.635Z"
   },
   {
    "duration": 3,
    "start_time": "2021-11-09T12:36:07.663Z"
   },
   {
    "duration": 30,
    "start_time": "2021-11-09T12:36:07.667Z"
   },
   {
    "duration": 12,
    "start_time": "2021-11-09T12:36:07.698Z"
   },
   {
    "duration": 8,
    "start_time": "2021-11-09T12:36:07.712Z"
   },
   {
    "duration": 28,
    "start_time": "2021-11-09T12:36:07.721Z"
   },
   {
    "duration": 32,
    "start_time": "2021-11-09T12:36:07.750Z"
   },
   {
    "duration": 5,
    "start_time": "2021-11-09T12:36:07.784Z"
   },
   {
    "duration": 13,
    "start_time": "2021-11-09T12:36:07.790Z"
   },
   {
    "duration": 18,
    "start_time": "2021-11-09T12:36:07.805Z"
   },
   {
    "duration": 10,
    "start_time": "2021-11-09T12:36:07.825Z"
   },
   {
    "duration": 9,
    "start_time": "2021-11-09T12:36:07.836Z"
   },
   {
    "duration": 20,
    "start_time": "2021-11-09T12:36:07.846Z"
   },
   {
    "duration": 11,
    "start_time": "2021-11-09T12:36:07.867Z"
   },
   {
    "duration": 10,
    "start_time": "2021-11-09T12:36:07.880Z"
   },
   {
    "duration": 10,
    "start_time": "2021-11-09T12:36:07.892Z"
   },
   {
    "duration": 15,
    "start_time": "2021-11-09T12:36:07.904Z"
   },
   {
    "duration": 15,
    "start_time": "2021-11-09T12:36:07.920Z"
   },
   {
    "duration": 22,
    "start_time": "2021-11-09T12:36:07.937Z"
   },
   {
    "duration": 13,
    "start_time": "2021-11-09T12:36:07.961Z"
   },
   {
    "duration": 8,
    "start_time": "2021-11-09T12:36:07.976Z"
   },
   {
    "duration": 17,
    "start_time": "2021-11-09T12:36:07.985Z"
   },
   {
    "duration": 10,
    "start_time": "2021-11-09T12:36:08.004Z"
   },
   {
    "duration": 10,
    "start_time": "2021-11-09T12:36:08.016Z"
   },
   {
    "duration": 62,
    "start_time": "2021-11-09T12:36:08.028Z"
   },
   {
    "duration": 14,
    "start_time": "2021-11-09T12:36:08.092Z"
   },
   {
    "duration": 11,
    "start_time": "2021-11-09T12:36:08.108Z"
   },
   {
    "duration": 368,
    "start_time": "2021-11-09T12:36:08.121Z"
   },
   {
    "duration": 5,
    "start_time": "2021-11-09T12:44:30.567Z"
   },
   {
    "duration": 5,
    "start_time": "2021-11-09T12:44:33.926Z"
   },
   {
    "duration": 802,
    "start_time": "2021-11-10T03:51:38.265Z"
   },
   {
    "duration": 30,
    "start_time": "2021-11-10T03:51:39.070Z"
   },
   {
    "duration": 27,
    "start_time": "2021-11-10T03:51:39.102Z"
   },
   {
    "duration": 35,
    "start_time": "2021-11-10T03:51:39.132Z"
   },
   {
    "duration": 16,
    "start_time": "2021-11-10T03:51:39.170Z"
   },
   {
    "duration": 43,
    "start_time": "2021-11-10T03:51:39.189Z"
   },
   {
    "duration": 11,
    "start_time": "2021-11-10T03:51:39.234Z"
   },
   {
    "duration": 14,
    "start_time": "2021-11-10T03:51:39.249Z"
   },
   {
    "duration": 7,
    "start_time": "2021-11-10T03:51:39.265Z"
   },
   {
    "duration": 7,
    "start_time": "2021-11-10T03:51:39.275Z"
   },
   {
    "duration": 32,
    "start_time": "2021-11-10T03:51:47.277Z"
   },
   {
    "duration": 24,
    "start_time": "2021-11-10T04:41:51.451Z"
   },
   {
    "duration": 25,
    "start_time": "2021-11-10T04:42:19.841Z"
   },
   {
    "duration": 25,
    "start_time": "2021-11-10T04:43:02.851Z"
   },
   {
    "duration": 397,
    "start_time": "2021-11-10T04:43:30.518Z"
   },
   {
    "duration": 27,
    "start_time": "2021-11-10T04:43:43.346Z"
   },
   {
    "duration": 27,
    "start_time": "2021-11-10T04:44:20.378Z"
   },
   {
    "duration": 520,
    "start_time": "2021-11-10T14:40:44.285Z"
   },
   {
    "duration": 738,
    "start_time": "2021-11-10T14:40:57.150Z"
   },
   {
    "duration": 17,
    "start_time": "2021-11-10T14:40:57.890Z"
   },
   {
    "duration": 126,
    "start_time": "2021-11-10T14:40:57.909Z"
   },
   {
    "duration": 51,
    "start_time": "2021-11-10T14:40:58.038Z"
   },
   {
    "duration": 13,
    "start_time": "2021-11-10T14:40:58.091Z"
   },
   {
    "duration": 13,
    "start_time": "2021-11-10T14:40:58.106Z"
   },
   {
    "duration": 22,
    "start_time": "2021-11-10T14:40:58.121Z"
   },
   {
    "duration": 22,
    "start_time": "2021-11-10T14:40:58.145Z"
   },
   {
    "duration": 10,
    "start_time": "2021-11-10T14:40:58.169Z"
   },
   {
    "duration": 17,
    "start_time": "2021-11-10T14:40:58.181Z"
   },
   {
    "duration": 12,
    "start_time": "2021-11-10T14:41:01.283Z"
   },
   {
    "duration": 8,
    "start_time": "2021-11-10T14:43:45.624Z"
   },
   {
    "duration": 8,
    "start_time": "2021-11-10T14:44:09.384Z"
   },
   {
    "duration": 7,
    "start_time": "2021-11-10T14:53:30.877Z"
   },
   {
    "duration": 9,
    "start_time": "2021-11-10T14:54:03.419Z"
   },
   {
    "duration": 5,
    "start_time": "2021-11-10T15:00:10.204Z"
   },
   {
    "duration": 5,
    "start_time": "2021-11-10T15:00:24.277Z"
   },
   {
    "duration": 287,
    "start_time": "2021-11-10T15:03:45.623Z"
   },
   {
    "duration": 290,
    "start_time": "2021-11-10T15:04:11.534Z"
   },
   {
    "duration": 273,
    "start_time": "2021-11-10T15:04:28.854Z"
   },
   {
    "duration": 11,
    "start_time": "2021-11-10T15:05:54.299Z"
   },
   {
    "duration": 10,
    "start_time": "2021-11-10T15:05:56.492Z"
   },
   {
    "duration": 6663,
    "start_time": "2021-11-10T15:06:02.365Z"
   },
   {
    "duration": 7,
    "start_time": "2021-11-10T15:06:48.787Z"
   },
   {
    "duration": 7347,
    "start_time": "2021-11-10T15:07:30.737Z"
   },
   {
    "duration": 9,
    "start_time": "2021-11-10T15:08:06.440Z"
   },
   {
    "duration": 8,
    "start_time": "2021-11-10T15:09:07.799Z"
   },
   {
    "duration": 5,
    "start_time": "2021-11-10T15:09:10.273Z"
   },
   {
    "duration": 6,
    "start_time": "2021-11-10T15:09:16.495Z"
   },
   {
    "duration": 8,
    "start_time": "2021-11-10T15:10:00.933Z"
   },
   {
    "duration": 5,
    "start_time": "2021-11-10T15:10:57.565Z"
   },
   {
    "duration": 397,
    "start_time": "2021-11-10T15:11:57.651Z"
   },
   {
    "duration": 271,
    "start_time": "2021-11-10T15:12:34.996Z"
   },
   {
    "duration": 269,
    "start_time": "2021-11-10T15:12:45.532Z"
   },
   {
    "duration": 5,
    "start_time": "2021-11-10T15:14:36.104Z"
   },
   {
    "duration": 5,
    "start_time": "2021-11-10T15:14:55.768Z"
   },
   {
    "duration": 6638,
    "start_time": "2021-11-10T15:15:15.159Z"
   },
   {
    "duration": 7,
    "start_time": "2021-11-10T15:15:34.663Z"
   },
   {
    "duration": 7,
    "start_time": "2021-11-10T15:16:38.398Z"
   },
   {
    "duration": 6,
    "start_time": "2021-11-10T15:16:55.484Z"
   },
   {
    "duration": 6,
    "start_time": "2021-11-10T15:17:01.069Z"
   },
   {
    "duration": 7,
    "start_time": "2021-11-10T15:17:55.501Z"
   },
   {
    "duration": 6,
    "start_time": "2021-11-10T15:18:19.611Z"
   },
   {
    "duration": 8,
    "start_time": "2021-11-10T15:18:25.271Z"
   },
   {
    "duration": 12,
    "start_time": "2021-11-10T15:19:31.451Z"
   },
   {
    "duration": 6,
    "start_time": "2021-11-10T15:19:43.065Z"
   },
   {
    "duration": 6,
    "start_time": "2021-11-10T15:19:52.994Z"
   },
   {
    "duration": 7,
    "start_time": "2021-11-10T15:20:01.577Z"
   },
   {
    "duration": 7597,
    "start_time": "2021-11-10T15:20:35.625Z"
   },
   {
    "duration": 8621,
    "start_time": "2021-11-10T15:20:54.297Z"
   },
   {
    "duration": 7,
    "start_time": "2021-11-10T15:34:25.346Z"
   },
   {
    "duration": 98,
    "start_time": "2021-11-10T15:35:02.829Z"
   },
   {
    "duration": 2600,
    "start_time": "2021-11-10T15:35:14.513Z"
   },
   {
    "duration": 7,
    "start_time": "2021-11-10T15:35:21.830Z"
   },
   {
    "duration": 7,
    "start_time": "2021-11-10T15:35:54.956Z"
   },
   {
    "duration": 6839,
    "start_time": "2021-11-10T15:36:57.699Z"
   },
   {
    "duration": 11,
    "start_time": "2021-11-10T15:38:05.880Z"
   },
   {
    "duration": 10,
    "start_time": "2021-11-10T15:38:11.480Z"
   },
   {
    "duration": 10,
    "start_time": "2021-11-10T15:38:18.801Z"
   },
   {
    "duration": 7868,
    "start_time": "2021-11-10T15:38:25.688Z"
   },
   {
    "duration": 14507,
    "start_time": "2021-11-10T15:38:59.936Z"
   },
   {
    "duration": 7,
    "start_time": "2021-11-10T15:39:22.504Z"
   },
   {
    "duration": 8,
    "start_time": "2021-11-10T15:40:41.317Z"
   },
   {
    "duration": 6,
    "start_time": "2021-11-10T15:40:43.478Z"
   },
   {
    "duration": 340,
    "start_time": "2021-11-10T15:41:13.851Z"
   },
   {
    "duration": 4,
    "start_time": "2021-11-10T15:41:50.540Z"
   },
   {
    "duration": 3,
    "start_time": "2021-11-10T15:52:41.087Z"
   },
   {
    "duration": 8,
    "start_time": "2021-11-10T15:52:42.584Z"
   },
   {
    "duration": 6,
    "start_time": "2021-11-10T15:52:44.104Z"
   },
   {
    "duration": 8,
    "start_time": "2021-11-10T15:52:46.952Z"
   },
   {
    "duration": 8,
    "start_time": "2021-11-10T15:53:15.031Z"
   },
   {
    "duration": 9,
    "start_time": "2021-11-10T15:53:21.094Z"
   },
   {
    "duration": 7,
    "start_time": "2021-11-10T15:53:22.390Z"
   },
   {
    "duration": 7,
    "start_time": "2021-11-10T15:53:23.112Z"
   },
   {
    "duration": 342,
    "start_time": "2021-11-10T15:54:59.445Z"
   },
   {
    "duration": 309,
    "start_time": "2021-11-10T15:55:21.885Z"
   },
   {
    "duration": 8,
    "start_time": "2021-11-10T15:56:23.012Z"
   },
   {
    "duration": 1780,
    "start_time": "2021-11-10T15:56:43.211Z"
   },
   {
    "duration": 7,
    "start_time": "2021-11-10T15:57:02.563Z"
   },
   {
    "duration": 7,
    "start_time": "2021-11-10T15:57:10.962Z"
   },
   {
    "duration": 8,
    "start_time": "2021-11-10T15:57:37.243Z"
   },
   {
    "duration": 6,
    "start_time": "2021-11-10T15:57:48.938Z"
   },
   {
    "duration": 5,
    "start_time": "2021-11-10T15:58:04.745Z"
   },
   {
    "duration": 280,
    "start_time": "2021-11-10T16:13:02.766Z"
   },
   {
    "duration": 5,
    "start_time": "2021-11-10T16:16:43.303Z"
   },
   {
    "duration": 257,
    "start_time": "2021-11-10T16:17:18.704Z"
   },
   {
    "duration": 3,
    "start_time": "2021-11-10T16:17:28.757Z"
   },
   {
    "duration": 258,
    "start_time": "2021-11-10T16:17:34.886Z"
   },
   {
    "duration": 293,
    "start_time": "2021-11-10T16:18:05.573Z"
   },
   {
    "duration": 4,
    "start_time": "2021-11-10T16:18:41.284Z"
   },
   {
    "duration": 255,
    "start_time": "2021-11-10T16:20:42.746Z"
   },
   {
    "duration": 3,
    "start_time": "2021-11-10T16:20:49.265Z"
   },
   {
    "duration": 9,
    "start_time": "2021-11-10T16:20:50.410Z"
   },
   {
    "duration": 7,
    "start_time": "2021-11-10T16:20:51.721Z"
   },
   {
    "duration": 5,
    "start_time": "2021-11-10T16:20:58.689Z"
   },
   {
    "duration": 4,
    "start_time": "2021-11-10T16:20:59.657Z"
   },
   {
    "duration": 12,
    "start_time": "2021-11-10T16:22:34.728Z"
   },
   {
    "duration": 286,
    "start_time": "2021-11-10T16:24:00.814Z"
   },
   {
    "duration": 288,
    "start_time": "2021-11-10T16:24:39.246Z"
   },
   {
    "duration": 4292,
    "start_time": "2021-11-10T16:25:59.676Z"
   },
   {
    "duration": 12,
    "start_time": "2021-11-10T16:26:36.365Z"
   },
   {
    "duration": 288,
    "start_time": "2021-11-10T16:26:57.755Z"
   },
   {
    "duration": 256,
    "start_time": "2021-11-10T16:31:15.518Z"
   },
   {
    "duration": 268,
    "start_time": "2021-11-10T16:32:06.412Z"
   },
   {
    "duration": 7228,
    "start_time": "2021-11-10T16:40:36.978Z"
   },
   {
    "duration": 12,
    "start_time": "2021-11-10T16:41:06.119Z"
   },
   {
    "duration": 12,
    "start_time": "2021-11-10T16:41:26.656Z"
   },
   {
    "duration": 955,
    "start_time": "2021-11-10T16:41:42.022Z"
   },
   {
    "duration": 286,
    "start_time": "2021-11-10T16:53:38.977Z"
   },
   {
    "duration": 267,
    "start_time": "2021-11-10T16:55:24.131Z"
   },
   {
    "duration": 11,
    "start_time": "2021-11-10T16:57:16.426Z"
   },
   {
    "duration": 309,
    "start_time": "2021-11-10T16:58:42.272Z"
   },
   {
    "duration": 266,
    "start_time": "2021-11-10T16:59:35.513Z"
   },
   {
    "duration": 261,
    "start_time": "2021-11-10T16:59:56.216Z"
   },
   {
    "duration": 285,
    "start_time": "2021-11-10T17:00:12.319Z"
   },
   {
    "duration": 9,
    "start_time": "2021-11-10T17:01:01.462Z"
   },
   {
    "duration": 275,
    "start_time": "2021-11-10T17:01:23.646Z"
   },
   {
    "duration": 11,
    "start_time": "2021-11-10T20:46:22.406Z"
   },
   {
    "duration": 59,
    "start_time": "2021-11-10T20:51:15.421Z"
   },
   {
    "duration": 12,
    "start_time": "2021-11-10T20:51:15.482Z"
   },
   {
    "duration": 21,
    "start_time": "2021-11-10T20:51:15.495Z"
   },
   {
    "duration": 41,
    "start_time": "2021-11-10T20:51:15.517Z"
   },
   {
    "duration": 10,
    "start_time": "2021-11-10T20:51:15.560Z"
   },
   {
    "duration": 16,
    "start_time": "2021-11-10T20:51:15.572Z"
   },
   {
    "duration": 12,
    "start_time": "2021-11-10T20:51:15.590Z"
   },
   {
    "duration": 11,
    "start_time": "2021-11-10T20:51:15.605Z"
   },
   {
    "duration": 14,
    "start_time": "2021-11-10T20:51:15.618Z"
   },
   {
    "duration": 11,
    "start_time": "2021-11-10T20:51:15.634Z"
   },
   {
    "duration": 13,
    "start_time": "2021-11-10T20:51:15.648Z"
   },
   {
    "duration": 21,
    "start_time": "2021-11-10T20:51:15.662Z"
   },
   {
    "duration": 8,
    "start_time": "2021-11-10T20:51:15.684Z"
   },
   {
    "duration": 14,
    "start_time": "2021-11-10T20:51:15.693Z"
   },
   {
    "duration": 6,
    "start_time": "2021-11-10T20:51:15.709Z"
   },
   {
    "duration": 22,
    "start_time": "2021-11-10T20:51:15.717Z"
   },
   {
    "duration": 14,
    "start_time": "2021-11-10T20:51:15.740Z"
   },
   {
    "duration": 11,
    "start_time": "2021-11-10T20:51:21.782Z"
   },
   {
    "duration": 6748,
    "start_time": "2021-11-10T20:51:23.133Z"
   },
   {
    "duration": 8,
    "start_time": "2021-11-10T20:52:15.021Z"
   },
   {
    "duration": 276,
    "start_time": "2021-11-10T20:55:15.913Z"
   },
   {
    "duration": 352,
    "start_time": "2021-11-10T21:14:30.919Z"
   },
   {
    "duration": 508,
    "start_time": "2021-11-10T21:15:09.431Z"
   },
   {
    "duration": 64,
    "start_time": "2021-11-10T21:15:15.623Z"
   },
   {
    "duration": 13,
    "start_time": "2021-11-10T21:15:15.689Z"
   },
   {
    "duration": 20,
    "start_time": "2021-11-10T21:15:15.704Z"
   },
   {
    "duration": 41,
    "start_time": "2021-11-10T21:15:15.726Z"
   },
   {
    "duration": 12,
    "start_time": "2021-11-10T21:15:15.769Z"
   },
   {
    "duration": 9,
    "start_time": "2021-11-10T21:15:15.783Z"
   },
   {
    "duration": 9,
    "start_time": "2021-11-10T21:15:15.793Z"
   },
   {
    "duration": 41,
    "start_time": "2021-11-10T21:15:15.805Z"
   },
   {
    "duration": 3,
    "start_time": "2021-11-10T21:15:15.849Z"
   },
   {
    "duration": 13,
    "start_time": "2021-11-10T21:15:15.854Z"
   },
   {
    "duration": 16,
    "start_time": "2021-11-10T21:15:15.869Z"
   },
   {
    "duration": 19,
    "start_time": "2021-11-10T21:15:15.887Z"
   },
   {
    "duration": 7,
    "start_time": "2021-11-10T21:15:15.908Z"
   },
   {
    "duration": 11,
    "start_time": "2021-11-10T21:15:15.917Z"
   },
   {
    "duration": 6,
    "start_time": "2021-11-10T21:15:15.930Z"
   },
   {
    "duration": 522,
    "start_time": "2021-11-10T21:15:18.678Z"
   },
   {
    "duration": 57,
    "start_time": "2021-11-10T21:53:07.715Z"
   },
   {
    "duration": 12,
    "start_time": "2021-11-10T21:53:07.773Z"
   },
   {
    "duration": 13,
    "start_time": "2021-11-10T21:53:07.787Z"
   },
   {
    "duration": 43,
    "start_time": "2021-11-10T21:53:07.802Z"
   },
   {
    "duration": 13,
    "start_time": "2021-11-10T21:53:07.846Z"
   },
   {
    "duration": 7,
    "start_time": "2021-11-10T21:53:07.860Z"
   },
   {
    "duration": 9,
    "start_time": "2021-11-10T21:53:07.868Z"
   },
   {
    "duration": 7,
    "start_time": "2021-11-10T21:53:07.879Z"
   },
   {
    "duration": 3,
    "start_time": "2021-11-10T21:53:07.887Z"
   },
   {
    "duration": 5,
    "start_time": "2021-11-10T21:53:07.892Z"
   },
   {
    "duration": 14,
    "start_time": "2021-11-10T21:53:07.898Z"
   },
   {
    "duration": 36,
    "start_time": "2021-11-10T21:53:07.913Z"
   },
   {
    "duration": 6,
    "start_time": "2021-11-10T21:53:07.951Z"
   },
   {
    "duration": 6,
    "start_time": "2021-11-10T21:53:07.959Z"
   },
   {
    "duration": 5,
    "start_time": "2021-11-10T21:53:07.967Z"
   },
   {
    "duration": 11,
    "start_time": "2021-11-10T21:53:14.516Z"
   },
   {
    "duration": 10,
    "start_time": "2021-11-10T21:53:23.251Z"
   },
   {
    "duration": 12,
    "start_time": "2021-11-10T21:53:32.211Z"
   },
   {
    "duration": 10,
    "start_time": "2021-11-10T21:53:33.764Z"
   },
   {
    "duration": 12,
    "start_time": "2021-11-10T22:01:57.425Z"
   },
   {
    "duration": 5,
    "start_time": "2021-11-10T22:07:01.538Z"
   },
   {
    "duration": 4,
    "start_time": "2021-11-10T22:07:09.259Z"
   },
   {
    "duration": 4,
    "start_time": "2021-11-10T22:07:15.410Z"
   },
   {
    "duration": 4,
    "start_time": "2021-11-10T22:07:20.554Z"
   },
   {
    "duration": 4,
    "start_time": "2021-11-10T22:07:25.346Z"
   },
   {
    "duration": 384,
    "start_time": "2021-11-10T22:07:39.625Z"
   },
   {
    "duration": 256,
    "start_time": "2021-11-10T22:08:53.280Z"
   },
   {
    "duration": 4,
    "start_time": "2021-11-10T22:09:05.119Z"
   },
   {
    "duration": 14,
    "start_time": "2021-11-10T22:11:35.597Z"
   },
   {
    "duration": 6442,
    "start_time": "2021-11-10T22:12:42.708Z"
   },
   {
    "duration": 6426,
    "start_time": "2021-11-10T22:13:26.052Z"
   },
   {
    "duration": 6,
    "start_time": "2021-11-10T22:13:47.874Z"
   },
   {
    "duration": 3662,
    "start_time": "2021-11-10T22:21:51.671Z"
   },
   {
    "duration": 11,
    "start_time": "2021-11-10T22:22:16.199Z"
   },
   {
    "duration": 260,
    "start_time": "2021-11-10T22:22:44.863Z"
   },
   {
    "duration": 244,
    "start_time": "2021-11-10T22:27:46.905Z"
   },
   {
    "duration": 6557,
    "start_time": "2021-11-10T22:29:07.823Z"
   },
   {
    "duration": 471,
    "start_time": "2021-11-10T22:31:55.987Z"
   },
   {
    "duration": 1049,
    "start_time": "2021-11-10T23:02:22.026Z"
   },
   {
    "duration": 4,
    "start_time": "2021-11-10T23:02:32.147Z"
   },
   {
    "duration": 2,
    "start_time": "2021-11-10T23:02:35.498Z"
   },
   {
    "duration": 8843,
    "start_time": "2021-11-10T23:02:41.737Z"
   },
   {
    "duration": 3,
    "start_time": "2021-11-10T23:02:56.105Z"
   },
   {
    "duration": 3,
    "start_time": "2021-11-10T23:03:11.775Z"
   },
   {
    "duration": 870,
    "start_time": "2021-11-10T23:03:15.245Z"
   },
   {
    "duration": 10,
    "start_time": "2021-11-10T23:03:57.056Z"
   },
   {
    "duration": 682,
    "start_time": "2021-11-10T23:04:02.952Z"
   },
   {
    "duration": 3,
    "start_time": "2021-11-10T23:04:37.662Z"
   },
   {
    "duration": 537,
    "start_time": "2021-11-10T23:04:42.286Z"
   },
   {
    "duration": 3,
    "start_time": "2021-11-10T23:05:17.806Z"
   },
   {
    "duration": 867,
    "start_time": "2021-11-10T23:05:21.637Z"
   },
   {
    "duration": 8,
    "start_time": "2021-11-10T23:06:21.372Z"
   },
   {
    "duration": 6,
    "start_time": "2021-11-10T23:07:23.356Z"
   },
   {
    "duration": 5,
    "start_time": "2021-11-10T23:07:37.914Z"
   },
   {
    "duration": 800,
    "start_time": "2021-11-11T15:10:43.761Z"
   },
   {
    "duration": 35,
    "start_time": "2021-11-11T15:10:44.564Z"
   },
   {
    "duration": 13,
    "start_time": "2021-11-11T15:10:44.602Z"
   },
   {
    "duration": 36,
    "start_time": "2021-11-11T15:10:44.631Z"
   },
   {
    "duration": 16,
    "start_time": "2021-11-11T15:10:44.669Z"
   },
   {
    "duration": 45,
    "start_time": "2021-11-11T15:10:44.687Z"
   },
   {
    "duration": 12,
    "start_time": "2021-11-11T15:10:44.734Z"
   },
   {
    "duration": 8,
    "start_time": "2021-11-11T15:10:44.749Z"
   },
   {
    "duration": 9,
    "start_time": "2021-11-11T15:10:44.759Z"
   },
   {
    "duration": 14,
    "start_time": "2021-11-11T15:10:44.770Z"
   },
   {
    "duration": 12,
    "start_time": "2021-11-11T15:10:46.932Z"
   },
   {
    "duration": 9,
    "start_time": "2021-11-11T15:10:48.804Z"
   },
   {
    "duration": 9,
    "start_time": "2021-11-11T16:20:07.496Z"
   },
   {
    "duration": 3,
    "start_time": "2021-11-11T16:20:23.384Z"
   },
   {
    "duration": 9,
    "start_time": "2021-11-11T16:20:26.903Z"
   },
   {
    "duration": 4,
    "start_time": "2021-11-11T20:01:46.829Z"
   },
   {
    "duration": 301,
    "start_time": "2021-11-11T20:03:19.325Z"
   },
   {
    "duration": 3,
    "start_time": "2021-11-11T20:03:36.759Z"
   },
   {
    "duration": 249,
    "start_time": "2021-11-11T20:03:43.509Z"
   },
   {
    "duration": 405,
    "start_time": "2021-11-11T20:04:20.733Z"
   },
   {
    "duration": 273,
    "start_time": "2021-11-11T20:04:30.933Z"
   },
   {
    "duration": 660,
    "start_time": "2021-11-11T20:04:43.878Z"
   },
   {
    "duration": 28,
    "start_time": "2021-11-11T20:04:44.540Z"
   },
   {
    "duration": 24,
    "start_time": "2021-11-11T20:04:44.571Z"
   },
   {
    "duration": 49,
    "start_time": "2021-11-11T20:04:44.597Z"
   },
   {
    "duration": 13,
    "start_time": "2021-11-11T20:04:44.649Z"
   },
   {
    "duration": 8,
    "start_time": "2021-11-11T20:04:44.664Z"
   },
   {
    "duration": 11,
    "start_time": "2021-11-11T20:04:44.673Z"
   },
   {
    "duration": 10,
    "start_time": "2021-11-11T20:04:44.686Z"
   },
   {
    "duration": 8,
    "start_time": "2021-11-11T20:04:44.697Z"
   },
   {
    "duration": 13,
    "start_time": "2021-11-11T20:04:44.706Z"
   },
   {
    "duration": 11,
    "start_time": "2021-11-11T20:04:47.517Z"
   },
   {
    "duration": 6,
    "start_time": "2021-11-11T20:04:49.221Z"
   },
   {
    "duration": 3,
    "start_time": "2021-11-11T20:04:53.926Z"
   },
   {
    "duration": 7,
    "start_time": "2021-11-11T20:04:56.454Z"
   },
   {
    "duration": 5,
    "start_time": "2021-11-11T20:06:05.140Z"
   },
   {
    "duration": 280,
    "start_time": "2021-11-11T20:20:59.673Z"
   },
   {
    "duration": 3,
    "start_time": "2021-11-11T20:22:41.512Z"
   },
   {
    "duration": 957,
    "start_time": "2021-11-12T04:24:06.894Z"
   },
   {
    "duration": 30,
    "start_time": "2021-11-12T04:24:07.853Z"
   },
   {
    "duration": 25,
    "start_time": "2021-11-12T04:24:07.886Z"
   },
   {
    "duration": 36,
    "start_time": "2021-11-12T04:24:07.914Z"
   },
   {
    "duration": 16,
    "start_time": "2021-11-12T04:24:07.953Z"
   },
   {
    "duration": 11,
    "start_time": "2021-11-12T04:24:08.001Z"
   },
   {
    "duration": 21,
    "start_time": "2021-11-12T04:24:08.015Z"
   },
   {
    "duration": 7,
    "start_time": "2021-11-12T04:24:08.040Z"
   },
   {
    "duration": 4,
    "start_time": "2021-11-12T04:24:08.050Z"
   },
   {
    "duration": 5,
    "start_time": "2021-11-12T04:24:08.057Z"
   },
   {
    "duration": 13,
    "start_time": "2021-11-12T04:24:08.100Z"
   },
   {
    "duration": 9,
    "start_time": "2021-11-12T04:24:08.115Z"
   },
   {
    "duration": 10,
    "start_time": "2021-11-12T04:24:08.126Z"
   },
   {
    "duration": 9,
    "start_time": "2021-11-12T04:24:08.138Z"
   },
   {
    "duration": 477,
    "start_time": "2021-11-12T04:24:08.149Z"
   },
   {
    "duration": 717,
    "start_time": "2021-11-12T04:24:07.913Z"
   },
   {
    "duration": 710,
    "start_time": "2021-11-12T04:24:07.922Z"
   },
   {
    "duration": 706,
    "start_time": "2021-11-12T04:24:07.928Z"
   },
   {
    "duration": 700,
    "start_time": "2021-11-12T04:24:07.937Z"
   },
   {
    "duration": 696,
    "start_time": "2021-11-12T04:24:07.943Z"
   },
   {
    "duration": 689,
    "start_time": "2021-11-12T04:24:07.952Z"
   },
   {
    "duration": 686,
    "start_time": "2021-11-12T04:24:07.958Z"
   },
   {
    "duration": 679,
    "start_time": "2021-11-12T04:24:07.967Z"
   },
   {
    "duration": 674,
    "start_time": "2021-11-12T04:24:07.974Z"
   },
   {
    "duration": 666,
    "start_time": "2021-11-12T04:24:07.984Z"
   },
   {
    "duration": 662,
    "start_time": "2021-11-12T04:24:07.990Z"
   },
   {
    "duration": 660,
    "start_time": "2021-11-12T04:24:07.995Z"
   },
   {
    "duration": 653,
    "start_time": "2021-11-12T04:24:08.004Z"
   },
   {
    "duration": 648,
    "start_time": "2021-11-12T04:24:08.011Z"
   },
   {
    "duration": 643,
    "start_time": "2021-11-12T04:24:08.019Z"
   },
   {
    "duration": 639,
    "start_time": "2021-11-12T04:24:08.025Z"
   },
   {
    "duration": 633,
    "start_time": "2021-11-12T04:24:08.033Z"
   },
   {
    "duration": 664,
    "start_time": "2021-11-12T04:24:08.038Z"
   },
   {
    "duration": 660,
    "start_time": "2021-11-12T04:24:08.044Z"
   },
   {
    "duration": 653,
    "start_time": "2021-11-12T04:24:08.053Z"
   },
   {
    "duration": 650,
    "start_time": "2021-11-12T04:24:08.058Z"
   },
   {
    "duration": 645,
    "start_time": "2021-11-12T04:24:08.066Z"
   },
   {
    "duration": 641,
    "start_time": "2021-11-12T04:24:08.072Z"
   },
   {
    "duration": 638,
    "start_time": "2021-11-12T04:24:08.077Z"
   },
   {
    "duration": 630,
    "start_time": "2021-11-12T04:24:08.087Z"
   },
   {
    "duration": 624,
    "start_time": "2021-11-12T04:24:08.094Z"
   },
   {
    "duration": 34,
    "start_time": "2021-11-12T04:27:26.657Z"
   },
   {
    "duration": 16,
    "start_time": "2021-11-12T04:43:33.549Z"
   },
   {
    "duration": 8,
    "start_time": "2021-11-12T04:47:22.416Z"
   },
   {
    "duration": 138,
    "start_time": "2021-11-12T04:55:15.262Z"
   },
   {
    "duration": 8,
    "start_time": "2021-11-12T04:55:24.013Z"
   },
   {
    "duration": 7,
    "start_time": "2021-11-12T04:56:42.372Z"
   },
   {
    "duration": 4,
    "start_time": "2021-11-12T05:53:33.159Z"
   },
   {
    "duration": 15,
    "start_time": "2021-11-12T05:53:48.735Z"
   },
   {
    "duration": 19,
    "start_time": "2021-11-12T05:54:05.078Z"
   },
   {
    "duration": 9,
    "start_time": "2021-11-12T05:54:15.935Z"
   },
   {
    "duration": 37,
    "start_time": "2021-11-12T05:55:00.733Z"
   },
   {
    "duration": 373,
    "start_time": "2021-11-12T06:15:57.726Z"
   },
   {
    "duration": 591,
    "start_time": "2021-11-12T06:16:39.953Z"
   },
   {
    "duration": 7156,
    "start_time": "2021-11-12T06:16:44.337Z"
   },
   {
    "duration": 8,
    "start_time": "2021-11-12T06:17:15.520Z"
   },
   {
    "duration": 16,
    "start_time": "2021-11-12T06:22:25.337Z"
   },
   {
    "duration": 9,
    "start_time": "2021-11-12T06:22:26.541Z"
   },
   {
    "duration": 376,
    "start_time": "2021-11-12T16:27:08.612Z"
   },
   {
    "duration": 392,
    "start_time": "2021-11-12T16:27:15.892Z"
   },
   {
    "duration": 715,
    "start_time": "2021-11-12T16:27:25.775Z"
   },
   {
    "duration": 19,
    "start_time": "2021-11-12T16:27:26.492Z"
   },
   {
    "duration": 9,
    "start_time": "2021-11-12T16:27:26.514Z"
   },
   {
    "duration": 21,
    "start_time": "2021-11-12T16:27:26.526Z"
   },
   {
    "duration": 12,
    "start_time": "2021-11-12T16:27:26.549Z"
   },
   {
    "duration": 6,
    "start_time": "2021-11-12T16:27:26.563Z"
   },
   {
    "duration": 8,
    "start_time": "2021-11-12T16:27:26.607Z"
   },
   {
    "duration": 7,
    "start_time": "2021-11-12T16:27:26.618Z"
   },
   {
    "duration": 5,
    "start_time": "2021-11-12T16:27:26.627Z"
   },
   {
    "duration": 5,
    "start_time": "2021-11-12T16:27:26.634Z"
   },
   {
    "duration": 15,
    "start_time": "2021-11-12T16:27:26.641Z"
   },
   {
    "duration": 7,
    "start_time": "2021-11-12T16:27:26.658Z"
   },
   {
    "duration": 4,
    "start_time": "2021-11-12T16:27:26.667Z"
   },
   {
    "duration": 6,
    "start_time": "2021-11-12T16:27:26.707Z"
   },
   {
    "duration": 430,
    "start_time": "2021-11-12T16:27:26.715Z"
   },
   {
    "duration": 930,
    "start_time": "2021-11-12T16:27:26.219Z"
   },
   {
    "duration": 919,
    "start_time": "2021-11-12T16:27:26.232Z"
   },
   {
    "duration": 914,
    "start_time": "2021-11-12T16:27:26.238Z"
   },
   {
    "duration": 906,
    "start_time": "2021-11-12T16:27:26.247Z"
   },
   {
    "duration": 902,
    "start_time": "2021-11-12T16:27:26.253Z"
   },
   {
    "duration": 895,
    "start_time": "2021-11-12T16:27:26.261Z"
   },
   {
    "duration": 891,
    "start_time": "2021-11-12T16:27:26.267Z"
   },
   {
    "duration": 884,
    "start_time": "2021-11-12T16:27:26.275Z"
   },
   {
    "duration": 880,
    "start_time": "2021-11-12T16:27:26.281Z"
   },
   {
    "duration": 876,
    "start_time": "2021-11-12T16:27:26.286Z"
   },
   {
    "duration": 869,
    "start_time": "2021-11-12T16:27:26.294Z"
   },
   {
    "duration": 864,
    "start_time": "2021-11-12T16:27:26.300Z"
   },
   {
    "duration": 861,
    "start_time": "2021-11-12T16:27:26.309Z"
   },
   {
    "duration": 856,
    "start_time": "2021-11-12T16:27:26.315Z"
   },
   {
    "duration": 815,
    "start_time": "2021-11-12T16:27:26.357Z"
   },
   {
    "duration": 811,
    "start_time": "2021-11-12T16:27:26.362Z"
   },
   {
    "duration": 806,
    "start_time": "2021-11-12T16:27:26.368Z"
   },
   {
    "duration": 796,
    "start_time": "2021-11-12T16:27:26.378Z"
   },
   {
    "duration": 793,
    "start_time": "2021-11-12T16:27:26.383Z"
   },
   {
    "duration": 785,
    "start_time": "2021-11-12T16:27:26.392Z"
   },
   {
    "duration": 780,
    "start_time": "2021-11-12T16:27:26.398Z"
   },
   {
    "duration": 775,
    "start_time": "2021-11-12T16:27:26.404Z"
   },
   {
    "duration": 767,
    "start_time": "2021-11-12T16:27:26.413Z"
   },
   {
    "duration": 762,
    "start_time": "2021-11-12T16:27:26.419Z"
   },
   {
    "duration": 752,
    "start_time": "2021-11-12T16:27:26.430Z"
   },
   {
    "duration": 747,
    "start_time": "2021-11-12T16:27:26.436Z"
   },
   {
    "duration": 740,
    "start_time": "2021-11-12T16:27:26.445Z"
   },
   {
    "duration": 735,
    "start_time": "2021-11-12T16:27:26.452Z"
   },
   {
    "duration": 727,
    "start_time": "2021-11-12T16:27:26.461Z"
   },
   {
    "duration": 722,
    "start_time": "2021-11-12T16:27:26.467Z"
   },
   {
    "duration": 714,
    "start_time": "2021-11-12T16:27:26.476Z"
   },
   {
    "duration": 709,
    "start_time": "2021-11-12T16:27:26.482Z"
   },
   {
    "duration": 701,
    "start_time": "2021-11-12T16:27:26.491Z"
   },
   {
    "duration": 695,
    "start_time": "2021-11-12T16:27:26.498Z"
   },
   {
    "duration": 703,
    "start_time": "2021-11-12T16:27:26.503Z"
   },
   {
    "duration": 694,
    "start_time": "2021-11-12T16:27:26.513Z"
   },
   {
    "duration": 689,
    "start_time": "2021-11-12T16:27:26.520Z"
   },
   {
    "duration": 662,
    "start_time": "2021-11-12T16:27:26.548Z"
   },
   {
    "duration": 657,
    "start_time": "2021-11-12T16:27:26.554Z"
   },
   {
    "duration": 647,
    "start_time": "2021-11-12T16:27:26.565Z"
   },
   {
    "duration": 637,
    "start_time": "2021-11-12T16:27:26.576Z"
   },
   {
    "duration": 633,
    "start_time": "2021-11-12T16:27:26.582Z"
   },
   {
    "duration": 623,
    "start_time": "2021-11-12T16:27:26.593Z"
   },
   {
    "duration": 618,
    "start_time": "2021-11-12T16:27:26.599Z"
   },
   {
    "duration": 613,
    "start_time": "2021-11-12T16:27:26.605Z"
   },
   {
    "duration": 605,
    "start_time": "2021-11-12T16:27:26.614Z"
   },
   {
    "duration": 600,
    "start_time": "2021-11-12T16:27:26.620Z"
   },
   {
    "duration": 593,
    "start_time": "2021-11-12T16:27:26.629Z"
   },
   {
    "duration": 589,
    "start_time": "2021-11-12T16:27:26.634Z"
   },
   {
    "duration": 75,
    "start_time": "2021-11-12T16:27:39.072Z"
   },
   {
    "duration": 17,
    "start_time": "2021-11-12T16:27:39.150Z"
   },
   {
    "duration": 13,
    "start_time": "2021-11-12T16:27:39.169Z"
   },
   {
    "duration": 39,
    "start_time": "2021-11-12T16:27:39.184Z"
   },
   {
    "duration": 10,
    "start_time": "2021-11-12T16:27:39.224Z"
   },
   {
    "duration": 8,
    "start_time": "2021-11-12T16:27:39.236Z"
   },
   {
    "duration": 6,
    "start_time": "2021-11-12T16:27:39.246Z"
   },
   {
    "duration": 7,
    "start_time": "2021-11-12T16:27:39.254Z"
   },
   {
    "duration": 46,
    "start_time": "2021-11-12T16:27:39.263Z"
   },
   {
    "duration": 5,
    "start_time": "2021-11-12T16:27:39.311Z"
   },
   {
    "duration": 13,
    "start_time": "2021-11-12T16:27:39.317Z"
   },
   {
    "duration": 6,
    "start_time": "2021-11-12T16:27:39.331Z"
   },
   {
    "duration": 7,
    "start_time": "2021-11-12T16:27:39.339Z"
   },
   {
    "duration": 9,
    "start_time": "2021-11-12T16:27:39.347Z"
   },
   {
    "duration": 370,
    "start_time": "2021-11-12T16:27:39.358Z"
   },
   {
    "duration": 954,
    "start_time": "2021-11-12T16:27:38.778Z"
   },
   {
    "duration": 949,
    "start_time": "2021-11-12T16:27:38.785Z"
   },
   {
    "duration": 944,
    "start_time": "2021-11-12T16:27:38.791Z"
   },
   {
    "duration": 938,
    "start_time": "2021-11-12T16:27:38.798Z"
   },
   {
    "duration": 931,
    "start_time": "2021-11-12T16:27:38.806Z"
   },
   {
    "duration": 925,
    "start_time": "2021-11-12T16:27:38.814Z"
   },
   {
    "duration": 916,
    "start_time": "2021-11-12T16:27:38.824Z"
   },
   {
    "duration": 909,
    "start_time": "2021-11-12T16:27:38.832Z"
   },
   {
    "duration": 902,
    "start_time": "2021-11-12T16:27:38.841Z"
   },
   {
    "duration": 896,
    "start_time": "2021-11-12T16:27:38.848Z"
   },
   {
    "duration": 888,
    "start_time": "2021-11-12T16:27:38.857Z"
   },
   {
    "duration": 882,
    "start_time": "2021-11-12T16:27:38.865Z"
   },
   {
    "duration": 874,
    "start_time": "2021-11-12T16:27:38.874Z"
   },
   {
    "duration": 868,
    "start_time": "2021-11-12T16:27:38.881Z"
   },
   {
    "duration": 861,
    "start_time": "2021-11-12T16:27:38.890Z"
   },
   {
    "duration": 855,
    "start_time": "2021-11-12T16:27:38.897Z"
   },
   {
    "duration": 848,
    "start_time": "2021-11-12T16:27:38.906Z"
   },
   {
    "duration": 842,
    "start_time": "2021-11-12T16:27:38.913Z"
   },
   {
    "duration": 834,
    "start_time": "2021-11-12T16:27:38.922Z"
   },
   {
    "duration": 828,
    "start_time": "2021-11-12T16:27:38.929Z"
   },
   {
    "duration": 780,
    "start_time": "2021-11-12T16:27:38.979Z"
   },
   {
    "duration": 771,
    "start_time": "2021-11-12T16:27:38.989Z"
   },
   {
    "duration": 766,
    "start_time": "2021-11-12T16:27:38.995Z"
   },
   {
    "duration": 759,
    "start_time": "2021-11-12T16:27:39.004Z"
   },
   {
    "duration": 754,
    "start_time": "2021-11-12T16:27:39.010Z"
   },
   {
    "duration": 746,
    "start_time": "2021-11-12T16:27:39.019Z"
   },
   {
    "duration": 741,
    "start_time": "2021-11-12T16:27:39.026Z"
   },
   {
    "duration": 736,
    "start_time": "2021-11-12T16:27:39.032Z"
   },
   {
    "duration": 728,
    "start_time": "2021-11-12T16:27:39.041Z"
   },
   {
    "duration": 758,
    "start_time": "2021-11-12T16:27:39.047Z"
   },
   {
    "duration": 752,
    "start_time": "2021-11-12T16:27:39.055Z"
   },
   {
    "duration": 746,
    "start_time": "2021-11-12T16:27:39.062Z"
   },
   {
    "duration": 739,
    "start_time": "2021-11-12T16:27:39.071Z"
   },
   {
    "duration": 734,
    "start_time": "2021-11-12T16:27:39.077Z"
   },
   {
    "duration": 727,
    "start_time": "2021-11-12T16:27:39.086Z"
   },
   {
    "duration": 722,
    "start_time": "2021-11-12T16:27:39.092Z"
   },
   {
    "duration": 717,
    "start_time": "2021-11-12T16:27:39.098Z"
   },
   {
    "duration": 710,
    "start_time": "2021-11-12T16:27:39.107Z"
   },
   {
    "duration": 705,
    "start_time": "2021-11-12T16:27:39.113Z"
   },
   {
    "duration": 698,
    "start_time": "2021-11-12T16:27:39.122Z"
   },
   {
    "duration": 693,
    "start_time": "2021-11-12T16:27:39.128Z"
   },
   {
    "duration": 685,
    "start_time": "2021-11-12T16:27:39.137Z"
   },
   {
    "duration": 681,
    "start_time": "2021-11-12T16:27:39.143Z"
   },
   {
    "duration": 673,
    "start_time": "2021-11-12T16:27:39.152Z"
   },
   {
    "duration": 669,
    "start_time": "2021-11-12T16:27:39.158Z"
   },
   {
    "duration": 664,
    "start_time": "2021-11-12T16:27:39.164Z"
   },
   {
    "duration": 657,
    "start_time": "2021-11-12T16:27:39.172Z"
   },
   {
    "duration": 651,
    "start_time": "2021-11-12T16:27:39.179Z"
   },
   {
    "duration": 645,
    "start_time": "2021-11-12T16:27:39.187Z"
   },
   {
    "duration": 640,
    "start_time": "2021-11-12T16:27:39.193Z"
   },
   {
    "duration": 632,
    "start_time": "2021-11-12T16:27:39.202Z"
   },
   {
    "duration": 628,
    "start_time": "2021-11-12T16:27:39.208Z"
   },
   {
    "duration": 623,
    "start_time": "2021-11-12T16:27:39.214Z"
   },
   {
    "duration": 11,
    "start_time": "2021-11-12T16:28:17.237Z"
   },
   {
    "duration": 11,
    "start_time": "2021-11-12T16:28:18.124Z"
   },
   {
    "duration": 13,
    "start_time": "2021-11-12T16:28:21.660Z"
   },
   {
    "duration": 14,
    "start_time": "2021-11-12T16:28:22.292Z"
   },
   {
    "duration": 15,
    "start_time": "2021-11-12T16:28:23.404Z"
   },
   {
    "duration": 9,
    "start_time": "2021-11-12T16:28:30.876Z"
   },
   {
    "duration": 5,
    "start_time": "2021-11-12T16:28:32.195Z"
   },
   {
    "duration": 16,
    "start_time": "2021-11-12T16:28:33.987Z"
   },
   {
    "duration": 20,
    "start_time": "2021-11-12T16:28:35.476Z"
   },
   {
    "duration": 19,
    "start_time": "2021-11-12T16:28:35.899Z"
   },
   {
    "duration": 15,
    "start_time": "2021-11-12T16:28:37.220Z"
   },
   {
    "duration": 11,
    "start_time": "2021-11-12T16:28:37.715Z"
   },
   {
    "duration": 70,
    "start_time": "2021-11-12T16:28:38.939Z"
   },
   {
    "duration": 37,
    "start_time": "2021-11-12T16:28:39.540Z"
   },
   {
    "duration": 29,
    "start_time": "2021-11-12T16:28:40.515Z"
   },
   {
    "duration": 23,
    "start_time": "2021-11-12T16:28:41.027Z"
   },
   {
    "duration": 8,
    "start_time": "2021-11-12T16:28:48.547Z"
   },
   {
    "duration": 2,
    "start_time": "2021-11-12T16:28:48.995Z"
   },
   {
    "duration": 3624,
    "start_time": "2021-11-12T16:28:49.411Z"
   },
   {
    "duration": 22,
    "start_time": "2021-11-12T16:28:53.038Z"
   },
   {
    "duration": 8,
    "start_time": "2021-11-12T16:28:58.163Z"
   },
   {
    "duration": 3,
    "start_time": "2021-11-12T16:28:58.834Z"
   },
   {
    "duration": 20,
    "start_time": "2021-11-12T16:29:00.059Z"
   },
   {
    "duration": 3,
    "start_time": "2021-11-12T16:29:01.803Z"
   },
   {
    "duration": 6,
    "start_time": "2021-11-12T16:29:02.467Z"
   },
   {
    "duration": 28,
    "start_time": "2021-11-12T16:29:02.771Z"
   },
   {
    "duration": 23,
    "start_time": "2021-11-12T16:29:06.851Z"
   },
   {
    "duration": 8,
    "start_time": "2021-11-12T16:29:07.498Z"
   },
   {
    "duration": 10,
    "start_time": "2021-11-12T16:29:08.499Z"
   },
   {
    "duration": 4,
    "start_time": "2021-11-12T16:29:09.122Z"
   },
   {
    "duration": 6,
    "start_time": "2021-11-12T16:29:10.267Z"
   },
   {
    "duration": 12,
    "start_time": "2021-11-12T16:29:11.083Z"
   },
   {
    "duration": 4,
    "start_time": "2021-11-12T16:29:11.482Z"
   },
   {
    "duration": 6,
    "start_time": "2021-11-12T16:29:12.307Z"
   },
   {
    "duration": 4,
    "start_time": "2021-11-12T16:29:14.051Z"
   },
   {
    "duration": 7,
    "start_time": "2021-11-12T16:29:14.611Z"
   },
   {
    "duration": 3,
    "start_time": "2021-11-12T16:29:14.883Z"
   },
   {
    "duration": 3,
    "start_time": "2021-11-12T16:29:15.140Z"
   },
   {
    "duration": 5,
    "start_time": "2021-11-12T16:29:15.386Z"
   },
   {
    "duration": 2,
    "start_time": "2021-11-12T16:29:17.855Z"
   },
   {
    "duration": 16,
    "start_time": "2021-11-12T16:29:17.860Z"
   },
   {
    "duration": 12,
    "start_time": "2021-11-12T16:29:17.878Z"
   },
   {
    "duration": 5,
    "start_time": "2021-11-12T16:29:17.892Z"
   },
   {
    "duration": 16,
    "start_time": "2021-11-12T16:29:21.323Z"
   },
   {
    "duration": 5,
    "start_time": "2021-11-12T16:29:21.587Z"
   },
   {
    "duration": 7,
    "start_time": "2021-11-12T16:29:22.075Z"
   },
   {
    "duration": 4,
    "start_time": "2021-11-12T16:29:22.349Z"
   },
   {
    "duration": 11,
    "start_time": "2021-11-12T16:29:22.898Z"
   },
   {
    "duration": 51,
    "start_time": "2021-11-12T16:29:24.798Z"
   },
   {
    "duration": 5,
    "start_time": "2021-11-12T16:29:28.066Z"
   },
   {
    "duration": 9,
    "start_time": "2021-11-12T16:31:14.657Z"
   },
   {
    "duration": 13,
    "start_time": "2021-11-12T16:33:44.901Z"
   },
   {
    "duration": 297,
    "start_time": "2021-11-12T19:08:00.085Z"
   },
   {
    "duration": 670,
    "start_time": "2021-11-12T19:08:17.189Z"
   },
   {
    "duration": 19,
    "start_time": "2021-11-12T19:08:17.861Z"
   },
   {
    "duration": 15,
    "start_time": "2021-11-12T19:08:17.882Z"
   },
   {
    "duration": 32,
    "start_time": "2021-11-12T19:08:17.899Z"
   },
   {
    "duration": 12,
    "start_time": "2021-11-12T19:08:17.932Z"
   },
   {
    "duration": 21,
    "start_time": "2021-11-12T19:08:17.945Z"
   },
   {
    "duration": 7,
    "start_time": "2021-11-12T19:08:17.968Z"
   },
   {
    "duration": 13,
    "start_time": "2021-11-12T19:08:17.978Z"
   },
   {
    "duration": 3,
    "start_time": "2021-11-12T19:08:17.993Z"
   },
   {
    "duration": 9,
    "start_time": "2021-11-12T19:08:17.998Z"
   },
   {
    "duration": 14,
    "start_time": "2021-11-12T19:08:18.008Z"
   },
   {
    "duration": 11,
    "start_time": "2021-11-12T19:08:18.024Z"
   },
   {
    "duration": 6,
    "start_time": "2021-11-12T19:08:18.037Z"
   },
   {
    "duration": 20,
    "start_time": "2021-11-12T19:08:18.045Z"
   },
   {
    "duration": 288,
    "start_time": "2021-11-12T19:08:18.067Z"
   },
   {
    "duration": 1115,
    "start_time": "2021-11-12T19:08:17.244Z"
   },
   {
    "duration": 1105,
    "start_time": "2021-11-12T19:08:17.255Z"
   },
   {
    "duration": 1100,
    "start_time": "2021-11-12T19:08:17.261Z"
   },
   {
    "duration": 1092,
    "start_time": "2021-11-12T19:08:17.270Z"
   },
   {
    "duration": 1083,
    "start_time": "2021-11-12T19:08:17.280Z"
   },
   {
    "duration": 1073,
    "start_time": "2021-11-12T19:08:17.290Z"
   },
   {
    "duration": 1068,
    "start_time": "2021-11-12T19:08:17.296Z"
   },
   {
    "duration": 1060,
    "start_time": "2021-11-12T19:08:17.305Z"
   },
   {
    "duration": 1054,
    "start_time": "2021-11-12T19:08:17.312Z"
   },
   {
    "duration": 1045,
    "start_time": "2021-11-12T19:08:17.322Z"
   },
   {
    "duration": 1038,
    "start_time": "2021-11-12T19:08:17.329Z"
   },
   {
    "duration": 1030,
    "start_time": "2021-11-12T19:08:17.338Z"
   },
   {
    "duration": 1025,
    "start_time": "2021-11-12T19:08:17.344Z"
   },
   {
    "duration": 1017,
    "start_time": "2021-11-12T19:08:17.353Z"
   },
   {
    "duration": 1012,
    "start_time": "2021-11-12T19:08:17.359Z"
   },
   {
    "duration": 1003,
    "start_time": "2021-11-12T19:08:17.369Z"
   },
   {
    "duration": 997,
    "start_time": "2021-11-12T19:08:17.375Z"
   },
   {
    "duration": 988,
    "start_time": "2021-11-12T19:08:17.385Z"
   },
   {
    "duration": 982,
    "start_time": "2021-11-12T19:08:17.392Z"
   },
   {
    "duration": 973,
    "start_time": "2021-11-12T19:08:17.402Z"
   },
   {
    "duration": 966,
    "start_time": "2021-11-12T19:08:17.409Z"
   },
   {
    "duration": 962,
    "start_time": "2021-11-12T19:08:17.414Z"
   },
   {
    "duration": 952,
    "start_time": "2021-11-12T19:08:17.425Z"
   },
   {
    "duration": 946,
    "start_time": "2021-11-12T19:08:17.431Z"
   },
   {
    "duration": 936,
    "start_time": "2021-11-12T19:08:17.442Z"
   },
   {
    "duration": 931,
    "start_time": "2021-11-12T19:08:17.448Z"
   },
   {
    "duration": 921,
    "start_time": "2021-11-12T19:08:17.458Z"
   },
   {
    "duration": 916,
    "start_time": "2021-11-12T19:08:17.464Z"
   },
   {
    "duration": 908,
    "start_time": "2021-11-12T19:08:17.473Z"
   },
   {
    "duration": 876,
    "start_time": "2021-11-12T19:08:17.506Z"
   },
   {
    "duration": 869,
    "start_time": "2021-11-12T19:08:17.513Z"
   },
   {
    "duration": 860,
    "start_time": "2021-11-12T19:08:17.523Z"
   },
   {
    "duration": 854,
    "start_time": "2021-11-12T19:08:17.530Z"
   },
   {
    "duration": 845,
    "start_time": "2021-11-12T19:08:17.540Z"
   },
   {
    "duration": 839,
    "start_time": "2021-11-12T19:08:17.546Z"
   },
   {
    "duration": 831,
    "start_time": "2021-11-12T19:08:17.555Z"
   },
   {
    "duration": 825,
    "start_time": "2021-11-12T19:08:17.562Z"
   },
   {
    "duration": 815,
    "start_time": "2021-11-12T19:08:17.573Z"
   },
   {
    "duration": 808,
    "start_time": "2021-11-12T19:08:17.580Z"
   },
   {
    "duration": 799,
    "start_time": "2021-11-12T19:08:17.590Z"
   },
   {
    "duration": 795,
    "start_time": "2021-11-12T19:08:17.595Z"
   },
   {
    "duration": 786,
    "start_time": "2021-11-12T19:08:17.605Z"
   },
   {
    "duration": 780,
    "start_time": "2021-11-12T19:08:17.612Z"
   },
   {
    "duration": 771,
    "start_time": "2021-11-12T19:08:17.621Z"
   },
   {
    "duration": 765,
    "start_time": "2021-11-12T19:08:17.628Z"
   },
   {
    "duration": 756,
    "start_time": "2021-11-12T19:08:17.638Z"
   },
   {
    "duration": 750,
    "start_time": "2021-11-12T19:08:17.645Z"
   },
   {
    "duration": 740,
    "start_time": "2021-11-12T19:08:17.655Z"
   },
   {
    "duration": 735,
    "start_time": "2021-11-12T19:08:17.661Z"
   },
   {
    "duration": 726,
    "start_time": "2021-11-12T19:08:17.671Z"
   },
   {
    "duration": 57,
    "start_time": "2021-11-12T19:08:38.096Z"
   },
   {
    "duration": 11,
    "start_time": "2021-11-12T19:08:38.155Z"
   },
   {
    "duration": 17,
    "start_time": "2021-11-12T19:08:38.168Z"
   },
   {
    "duration": 23,
    "start_time": "2021-11-12T19:08:38.186Z"
   },
   {
    "duration": 11,
    "start_time": "2021-11-12T19:08:38.212Z"
   },
   {
    "duration": 42,
    "start_time": "2021-11-12T19:08:38.225Z"
   },
   {
    "duration": 8,
    "start_time": "2021-11-12T19:08:38.269Z"
   },
   {
    "duration": 20,
    "start_time": "2021-11-12T19:08:38.280Z"
   },
   {
    "duration": 7,
    "start_time": "2021-11-12T19:08:38.302Z"
   },
   {
    "duration": 13,
    "start_time": "2021-11-12T19:08:38.310Z"
   },
   {
    "duration": 24,
    "start_time": "2021-11-12T19:08:38.325Z"
   },
   {
    "duration": 14,
    "start_time": "2021-11-12T19:08:38.351Z"
   },
   {
    "duration": 15,
    "start_time": "2021-11-12T19:08:38.367Z"
   },
   {
    "duration": 11,
    "start_time": "2021-11-12T19:08:38.384Z"
   },
   {
    "duration": 17,
    "start_time": "2021-11-12T19:08:38.397Z"
   },
   {
    "duration": 30,
    "start_time": "2021-11-12T19:08:38.416Z"
   },
   {
    "duration": 20,
    "start_time": "2021-11-12T19:08:38.448Z"
   },
   {
    "duration": 18,
    "start_time": "2021-11-12T19:08:38.470Z"
   },
   {
    "duration": 22,
    "start_time": "2021-11-12T19:08:38.489Z"
   },
   {
    "duration": 15,
    "start_time": "2021-11-12T19:08:38.513Z"
   },
   {
    "duration": 12,
    "start_time": "2021-11-12T19:08:38.530Z"
   },
   {
    "duration": 12,
    "start_time": "2021-11-12T19:08:38.543Z"
   },
   {
    "duration": 15,
    "start_time": "2021-11-12T19:08:38.560Z"
   },
   {
    "duration": 16,
    "start_time": "2021-11-12T19:08:38.578Z"
   },
   {
    "duration": 18,
    "start_time": "2021-11-12T19:08:38.596Z"
   },
   {
    "duration": 16,
    "start_time": "2021-11-12T19:08:38.616Z"
   },
   {
    "duration": 36,
    "start_time": "2021-11-12T19:08:38.634Z"
   },
   {
    "duration": 47,
    "start_time": "2021-11-12T19:08:38.672Z"
   },
   {
    "duration": 46,
    "start_time": "2021-11-12T19:08:38.721Z"
   },
   {
    "duration": 24,
    "start_time": "2021-11-12T19:08:38.769Z"
   },
   {
    "duration": 17,
    "start_time": "2021-11-12T19:08:38.795Z"
   },
   {
    "duration": 8,
    "start_time": "2021-11-12T19:08:38.814Z"
   },
   {
    "duration": 3,
    "start_time": "2021-11-12T19:08:38.823Z"
   },
   {
    "duration": 3904,
    "start_time": "2021-11-12T19:08:38.828Z"
   },
   {
    "duration": 36,
    "start_time": "2021-11-12T19:08:42.735Z"
   },
   {
    "duration": 9,
    "start_time": "2021-11-12T19:08:42.774Z"
   },
   {
    "duration": 4,
    "start_time": "2021-11-12T19:08:42.786Z"
   },
   {
    "duration": 25,
    "start_time": "2021-11-12T19:08:42.792Z"
   },
   {
    "duration": 9,
    "start_time": "2021-11-12T19:08:42.819Z"
   },
   {
    "duration": 33,
    "start_time": "2021-11-12T19:08:42.830Z"
   },
   {
    "duration": 22,
    "start_time": "2021-11-12T19:08:42.865Z"
   },
   {
    "duration": 35,
    "start_time": "2021-11-12T19:08:42.889Z"
   },
   {
    "duration": 6,
    "start_time": "2021-11-12T19:08:42.926Z"
   },
   {
    "duration": 30,
    "start_time": "2021-11-12T19:08:42.933Z"
   },
   {
    "duration": 5,
    "start_time": "2021-11-12T19:08:42.965Z"
   },
   {
    "duration": 12,
    "start_time": "2021-11-12T19:08:42.972Z"
   },
   {
    "duration": 14,
    "start_time": "2021-11-12T19:08:42.985Z"
   },
   {
    "duration": 4,
    "start_time": "2021-11-12T19:08:43.001Z"
   },
   {
    "duration": 13,
    "start_time": "2021-11-12T19:08:43.007Z"
   },
   {
    "duration": 11,
    "start_time": "2021-11-12T19:08:43.022Z"
   },
   {
    "duration": 12,
    "start_time": "2021-11-12T19:08:43.035Z"
   },
   {
    "duration": 18,
    "start_time": "2021-11-12T19:08:43.048Z"
   },
   {
    "duration": 8,
    "start_time": "2021-11-12T19:08:43.067Z"
   },
   {
    "duration": 12,
    "start_time": "2021-11-12T19:08:43.076Z"
   },
   {
    "duration": 7,
    "start_time": "2021-11-12T19:08:43.090Z"
   },
   {
    "duration": 21,
    "start_time": "2021-11-12T19:08:43.099Z"
   },
   {
    "duration": 20,
    "start_time": "2021-11-12T19:08:43.122Z"
   },
   {
    "duration": 19,
    "start_time": "2021-11-12T19:08:43.144Z"
   },
   {
    "duration": 17,
    "start_time": "2021-11-12T19:08:43.165Z"
   },
   {
    "duration": 4,
    "start_time": "2021-11-12T19:08:43.184Z"
   },
   {
    "duration": 11,
    "start_time": "2021-11-12T19:08:43.190Z"
   },
   {
    "duration": 4,
    "start_time": "2021-11-12T19:08:43.203Z"
   },
   {
    "duration": 10,
    "start_time": "2021-11-12T19:08:43.209Z"
   },
   {
    "duration": 88,
    "start_time": "2021-11-12T19:08:43.221Z"
   },
   {
    "duration": 10,
    "start_time": "2021-11-12T19:08:43.312Z"
   },
   {
    "duration": 9,
    "start_time": "2021-11-12T19:08:43.324Z"
   },
   {
    "duration": 43,
    "start_time": "2021-11-12T19:08:43.335Z"
   },
   {
    "duration": 9,
    "start_time": "2021-11-12T19:08:43.383Z"
   },
   {
    "duration": 270,
    "start_time": "2021-11-12T19:08:43.395Z"
   },
   {
    "duration": 4,
    "start_time": "2021-11-12T19:09:09.820Z"
   },
   {
    "duration": 9,
    "start_time": "2021-11-12T19:09:25.331Z"
   },
   {
    "duration": 4,
    "start_time": "2021-11-12T19:12:46.164Z"
   },
   {
    "duration": 4,
    "start_time": "2021-11-12T19:12:57.525Z"
   },
   {
    "duration": 13,
    "start_time": "2021-11-12T19:13:34.276Z"
   },
   {
    "duration": 9,
    "start_time": "2021-11-12T19:27:28.979Z"
   },
   {
    "duration": 10,
    "start_time": "2021-11-12T19:27:42.426Z"
   },
   {
    "duration": 13,
    "start_time": "2021-11-12T19:28:05.249Z"
   },
   {
    "duration": 11,
    "start_time": "2021-11-12T19:28:17.231Z"
   },
   {
    "duration": 245,
    "start_time": "2021-11-12T19:28:38.231Z"
   },
   {
    "duration": 11,
    "start_time": "2021-11-12T19:28:45.775Z"
   },
   {
    "duration": 14,
    "start_time": "2021-11-12T19:29:15.614Z"
   },
   {
    "duration": 4551,
    "start_time": "2021-11-12T19:29:39.430Z"
   },
   {
    "duration": 159,
    "start_time": "2021-11-12T19:29:54.310Z"
   },
   {
    "duration": 11,
    "start_time": "2021-11-12T19:30:16.693Z"
   },
   {
    "duration": 5642,
    "start_time": "2021-11-12T19:56:49.756Z"
   },
   {
    "duration": 4697,
    "start_time": "2021-11-12T19:56:55.731Z"
   },
   {
    "duration": 264,
    "start_time": "2021-11-12T19:57:45.978Z"
   },
   {
    "duration": 316,
    "start_time": "2021-11-12T19:58:03.794Z"
   },
   {
    "duration": 253,
    "start_time": "2021-11-12T19:58:13.089Z"
   },
   {
    "duration": 279,
    "start_time": "2021-11-12T19:58:20.265Z"
   },
   {
    "duration": 17,
    "start_time": "2021-11-12T19:58:33.535Z"
   },
   {
    "duration": 659,
    "start_time": "2021-11-12T19:59:20.575Z"
   },
   {
    "duration": 14,
    "start_time": "2021-11-12T19:59:34.255Z"
   },
   {
    "duration": 1752,
    "start_time": "2021-11-12T20:00:09.149Z"
   },
   {
    "duration": 1766,
    "start_time": "2021-11-12T20:00:21.510Z"
   },
   {
    "duration": 10,
    "start_time": "2021-11-12T20:01:02.853Z"
   },
   {
    "duration": 364,
    "start_time": "2021-11-12T20:02:34.804Z"
   },
   {
    "duration": 267,
    "start_time": "2021-11-12T20:03:06.091Z"
   },
   {
    "duration": 261,
    "start_time": "2021-11-12T20:03:11.052Z"
   },
   {
    "duration": 244,
    "start_time": "2021-11-12T20:03:19.714Z"
   },
   {
    "duration": 9,
    "start_time": "2021-11-12T20:03:48.986Z"
   },
   {
    "duration": 21,
    "start_time": "2021-11-12T20:04:47.856Z"
   },
   {
    "duration": 4,
    "start_time": "2021-11-12T20:05:40.392Z"
   },
   {
    "duration": 259,
    "start_time": "2021-11-12T20:06:15.190Z"
   },
   {
    "duration": 4,
    "start_time": "2021-11-12T20:06:33.871Z"
   },
   {
    "duration": 14,
    "start_time": "2021-11-12T20:07:31.222Z"
   },
   {
    "duration": 4595,
    "start_time": "2021-11-12T20:07:40.909Z"
   },
   {
    "duration": 19,
    "start_time": "2021-11-12T20:09:21.914Z"
   },
   {
    "duration": 4555,
    "start_time": "2021-11-12T20:21:20.077Z"
   },
   {
    "duration": 267,
    "start_time": "2021-11-12T20:22:04.636Z"
   },
   {
    "duration": 261,
    "start_time": "2021-11-12T20:22:27.778Z"
   },
   {
    "duration": 1510,
    "start_time": "2021-11-12T20:22:34.378Z"
   },
   {
    "duration": 10,
    "start_time": "2021-11-12T20:22:46.049Z"
   },
   {
    "duration": 11,
    "start_time": "2021-11-12T20:23:08.451Z"
   },
   {
    "duration": 5492,
    "start_time": "2021-11-12T20:23:31.777Z"
   },
   {
    "duration": 8,
    "start_time": "2021-11-12T20:23:48.072Z"
   },
   {
    "duration": 45,
    "start_time": "2021-11-12T20:24:57.487Z"
   },
   {
    "duration": 1455,
    "start_time": "2021-11-12T20:27:28.835Z"
   },
   {
    "duration": 46,
    "start_time": "2021-11-12T20:27:56.203Z"
   },
   {
    "duration": 83,
    "start_time": "2021-11-12T20:30:05.207Z"
   },
   {
    "duration": 102,
    "start_time": "2021-11-12T20:32:38.956Z"
   },
   {
    "duration": 48,
    "start_time": "2021-11-12T20:32:55.740Z"
   },
   {
    "duration": 82,
    "start_time": "2021-11-12T20:33:19.060Z"
   },
   {
    "duration": 87,
    "start_time": "2021-11-12T20:34:58.513Z"
   },
   {
    "duration": 1000,
    "start_time": "2021-11-12T20:36:00.078Z"
   },
   {
    "duration": 1138,
    "start_time": "2021-11-12T20:38:07.718Z"
   },
   {
    "duration": 10,
    "start_time": "2021-11-12T20:57:53.355Z"
   },
   {
    "duration": 48,
    "start_time": "2021-11-12T20:57:54.154Z"
   },
   {
    "duration": 3,
    "start_time": "2021-11-12T20:58:24.498Z"
   },
   {
    "duration": 4,
    "start_time": "2021-11-12T21:00:30.159Z"
   },
   {
    "duration": 3,
    "start_time": "2021-11-12T21:01:17.478Z"
   },
   {
    "duration": 4,
    "start_time": "2021-11-12T21:01:18.135Z"
   },
   {
    "duration": 4,
    "start_time": "2021-11-12T21:02:43.117Z"
   },
   {
    "duration": 4,
    "start_time": "2021-11-12T21:02:43.732Z"
   },
   {
    "duration": 47,
    "start_time": "2021-11-12T21:03:35.731Z"
   },
   {
    "duration": 3,
    "start_time": "2021-11-12T21:03:38.508Z"
   },
   {
    "duration": 4,
    "start_time": "2021-11-12T21:03:50.644Z"
   },
   {
    "duration": 102,
    "start_time": "2021-11-12T21:04:21.948Z"
   },
   {
    "duration": 3,
    "start_time": "2021-11-12T21:04:26.851Z"
   },
   {
    "duration": 4,
    "start_time": "2021-11-12T21:04:33.972Z"
   },
   {
    "duration": 4,
    "start_time": "2021-11-12T21:04:45.939Z"
   },
   {
    "duration": 466,
    "start_time": "2021-11-12T21:06:30.978Z"
   },
   {
    "duration": 17,
    "start_time": "2021-11-12T21:21:15.567Z"
   },
   {
    "duration": 8,
    "start_time": "2021-11-12T21:21:37.292Z"
   },
   {
    "duration": 7,
    "start_time": "2021-11-12T21:24:10.577Z"
   },
   {
    "duration": 25,
    "start_time": "2021-11-12T21:25:07.144Z"
   },
   {
    "duration": 274,
    "start_time": "2021-11-12T21:25:56.511Z"
   },
   {
    "duration": 18,
    "start_time": "2021-11-12T21:26:10.720Z"
   },
   {
    "duration": 8,
    "start_time": "2021-11-12T21:26:18.184Z"
   },
   {
    "duration": 17,
    "start_time": "2021-11-12T21:27:50.507Z"
   },
   {
    "duration": 7,
    "start_time": "2021-11-12T21:27:51.019Z"
   },
   {
    "duration": 17,
    "start_time": "2021-11-12T21:28:03.103Z"
   },
   {
    "duration": 8,
    "start_time": "2021-11-12T21:28:04.079Z"
   },
   {
    "duration": 25,
    "start_time": "2021-11-12T21:28:13.807Z"
   },
   {
    "duration": 11,
    "start_time": "2021-11-12T21:28:14.335Z"
   },
   {
    "duration": 22,
    "start_time": "2021-11-12T21:28:29.422Z"
   },
   {
    "duration": 8,
    "start_time": "2021-11-12T21:28:30.278Z"
   },
   {
    "duration": 246,
    "start_time": "2021-11-12T21:44:19.982Z"
   },
   {
    "duration": 6,
    "start_time": "2021-11-12T21:54:03.714Z"
   },
   {
    "duration": 7,
    "start_time": "2021-11-12T21:57:09.531Z"
   },
   {
    "duration": 6,
    "start_time": "2021-11-12T21:57:28.713Z"
   },
   {
    "duration": 6,
    "start_time": "2021-11-12T22:20:03.982Z"
   },
   {
    "duration": 90,
    "start_time": "2021-11-12T22:24:15.906Z"
   },
   {
    "duration": 820,
    "start_time": "2021-11-13T18:19:23.022Z"
   },
   {
    "duration": 29,
    "start_time": "2021-11-13T18:19:23.845Z"
   },
   {
    "duration": 13,
    "start_time": "2021-11-13T18:19:23.877Z"
   },
   {
    "duration": 57,
    "start_time": "2021-11-13T18:19:23.894Z"
   },
   {
    "duration": 15,
    "start_time": "2021-11-13T18:19:23.954Z"
   },
   {
    "duration": 11,
    "start_time": "2021-11-13T18:19:23.972Z"
   },
   {
    "duration": 43,
    "start_time": "2021-11-13T18:19:23.985Z"
   },
   {
    "duration": 6,
    "start_time": "2021-11-13T18:19:24.032Z"
   },
   {
    "duration": 5,
    "start_time": "2021-11-13T18:19:24.040Z"
   },
   {
    "duration": 9,
    "start_time": "2021-11-13T18:19:24.047Z"
   },
   {
    "duration": 15,
    "start_time": "2021-11-13T18:19:24.058Z"
   },
   {
    "duration": 9,
    "start_time": "2021-11-13T18:19:24.075Z"
   },
   {
    "duration": 38,
    "start_time": "2021-11-13T18:19:24.086Z"
   },
   {
    "duration": 9,
    "start_time": "2021-11-13T18:19:24.126Z"
   },
   {
    "duration": 56,
    "start_time": "2021-11-13T18:24:22.492Z"
   },
   {
    "duration": 29,
    "start_time": "2021-11-13T18:24:37.901Z"
   },
   {
    "duration": 7,
    "start_time": "2021-11-13T18:24:43.516Z"
   },
   {
    "duration": 4,
    "start_time": "2021-11-13T18:24:47.645Z"
   },
   {
    "duration": 7176,
    "start_time": "2021-11-13T18:24:52.059Z"
   },
   {
    "duration": 58,
    "start_time": "2021-11-13T18:25:28.710Z"
   },
   {
    "duration": 12,
    "start_time": "2021-11-13T18:26:34.894Z"
   },
   {
    "duration": 2,
    "start_time": "2021-11-13T18:26:47.860Z"
   },
   {
    "duration": 18,
    "start_time": "2021-11-13T18:26:47.865Z"
   },
   {
    "duration": 13,
    "start_time": "2021-11-13T18:26:47.886Z"
   },
   {
    "duration": 29,
    "start_time": "2021-11-13T18:26:47.902Z"
   },
   {
    "duration": 13,
    "start_time": "2021-11-13T18:26:47.933Z"
   },
   {
    "duration": 15,
    "start_time": "2021-11-13T18:26:47.948Z"
   },
   {
    "duration": 12,
    "start_time": "2021-11-13T18:26:47.965Z"
   },
   {
    "duration": 6,
    "start_time": "2021-11-13T18:26:48.023Z"
   },
   {
    "duration": 21,
    "start_time": "2021-11-13T18:26:48.032Z"
   },
   {
    "duration": 22,
    "start_time": "2021-11-13T18:26:48.056Z"
   },
   {
    "duration": 52,
    "start_time": "2021-11-13T18:26:48.081Z"
   },
   {
    "duration": 20,
    "start_time": "2021-11-13T18:26:48.135Z"
   },
   {
    "duration": 11,
    "start_time": "2021-11-13T18:26:48.158Z"
   },
   {
    "duration": 94,
    "start_time": "2021-11-13T18:26:48.172Z"
   },
   {
    "duration": 32,
    "start_time": "2021-11-13T18:26:48.269Z"
   },
   {
    "duration": 26,
    "start_time": "2021-11-13T18:26:48.323Z"
   },
   {
    "duration": 23,
    "start_time": "2021-11-13T18:26:48.351Z"
   },
   {
    "duration": 10,
    "start_time": "2021-11-13T18:26:48.376Z"
   },
   {
    "duration": 3,
    "start_time": "2021-11-13T18:26:48.388Z"
   },
   {
    "duration": 4432,
    "start_time": "2021-11-13T18:26:48.393Z"
   },
   {
    "duration": 36,
    "start_time": "2021-11-13T18:26:52.828Z"
   },
   {
    "duration": 13,
    "start_time": "2021-11-13T18:26:52.866Z"
   },
   {
    "duration": 3,
    "start_time": "2021-11-13T18:26:52.882Z"
   },
   {
    "duration": 63,
    "start_time": "2021-11-13T18:26:52.888Z"
   },
   {
    "duration": 8,
    "start_time": "2021-11-13T18:26:52.954Z"
   },
   {
    "duration": 8,
    "start_time": "2021-11-13T18:26:52.966Z"
   },
   {
    "duration": 70,
    "start_time": "2021-11-13T18:26:52.982Z"
   },
   {
    "duration": 17,
    "start_time": "2021-11-13T18:26:53.056Z"
   },
   {
    "duration": 67,
    "start_time": "2021-11-13T18:26:53.076Z"
   },
   {
    "duration": 10,
    "start_time": "2021-11-13T18:26:53.146Z"
   },
   {
    "duration": 13,
    "start_time": "2021-11-13T18:26:53.158Z"
   },
   {
    "duration": 6,
    "start_time": "2021-11-13T18:26:53.173Z"
   },
   {
    "duration": 47,
    "start_time": "2021-11-13T18:26:53.182Z"
   },
   {
    "duration": 19,
    "start_time": "2021-11-13T18:26:53.231Z"
   },
   {
    "duration": 6,
    "start_time": "2021-11-13T18:26:53.252Z"
   },
   {
    "duration": 7,
    "start_time": "2021-11-13T18:26:53.261Z"
   },
   {
    "duration": 8,
    "start_time": "2021-11-13T18:26:53.270Z"
   },
   {
    "duration": 8,
    "start_time": "2021-11-13T18:26:53.280Z"
   },
   {
    "duration": 6,
    "start_time": "2021-11-13T18:26:53.322Z"
   },
   {
    "duration": 5,
    "start_time": "2021-11-13T18:26:53.331Z"
   },
   {
    "duration": 7,
    "start_time": "2021-11-13T18:26:53.339Z"
   },
   {
    "duration": 4,
    "start_time": "2021-11-13T18:26:53.348Z"
   },
   {
    "duration": 16,
    "start_time": "2021-11-13T18:26:53.354Z"
   },
   {
    "duration": 61,
    "start_time": "2021-11-13T18:26:53.372Z"
   },
   {
    "duration": 8,
    "start_time": "2021-11-13T18:26:53.435Z"
   },
   {
    "duration": 16,
    "start_time": "2021-11-13T18:26:53.446Z"
   },
   {
    "duration": 5,
    "start_time": "2021-11-13T18:26:53.464Z"
   },
   {
    "duration": 13,
    "start_time": "2021-11-13T18:26:53.471Z"
   },
   {
    "duration": 38,
    "start_time": "2021-11-13T18:26:53.486Z"
   },
   {
    "duration": 15,
    "start_time": "2021-11-13T18:26:53.526Z"
   },
   {
    "duration": 95,
    "start_time": "2021-11-13T18:26:53.543Z"
   },
   {
    "duration": 13,
    "start_time": "2021-11-13T18:26:53.640Z"
   },
   {
    "duration": 87,
    "start_time": "2021-11-13T18:26:53.655Z"
   },
   {
    "duration": 7,
    "start_time": "2021-11-13T18:26:53.745Z"
   },
   {
    "duration": 6,
    "start_time": "2021-11-13T18:26:53.754Z"
   },
   {
    "duration": 944,
    "start_time": "2021-11-13T18:26:53.762Z"
   },
   {
    "duration": 35,
    "start_time": "2021-11-13T18:26:54.708Z"
   },
   {
    "duration": 8,
    "start_time": "2021-11-13T18:26:54.745Z"
   },
   {
    "duration": 18,
    "start_time": "2021-11-13T18:26:54.756Z"
   },
   {
    "duration": 10,
    "start_time": "2021-11-13T18:26:54.776Z"
   },
   {
    "duration": 42,
    "start_time": "2021-11-13T18:26:54.788Z"
   },
   {
    "duration": 20,
    "start_time": "2021-11-13T18:28:01.409Z"
   },
   {
    "duration": 14,
    "start_time": "2021-11-13T18:28:41.563Z"
   },
   {
    "duration": 25,
    "start_time": "2021-11-13T18:29:06.950Z"
   },
   {
    "duration": 636,
    "start_time": "2021-11-15T08:08:18.450Z"
   },
   {
    "duration": 17,
    "start_time": "2021-11-15T08:08:23.474Z"
   },
   {
    "duration": 10,
    "start_time": "2021-11-15T08:08:33.476Z"
   },
   {
    "duration": 20,
    "start_time": "2021-11-15T08:08:36.772Z"
   },
   {
    "duration": 10,
    "start_time": "2021-11-15T08:08:42.156Z"
   },
   {
    "duration": 8,
    "start_time": "2021-11-15T08:08:46.395Z"
   },
   {
    "duration": 7,
    "start_time": "2021-11-15T08:08:47.099Z"
   },
   {
    "duration": 5,
    "start_time": "2021-11-15T08:08:51.339Z"
   },
   {
    "duration": 4,
    "start_time": "2021-11-15T08:08:55.482Z"
   },
   {
    "duration": 3,
    "start_time": "2021-11-15T08:08:58.115Z"
   },
   {
    "duration": 8,
    "start_time": "2021-11-15T08:09:05.826Z"
   },
   {
    "duration": 7,
    "start_time": "2021-11-15T08:09:07.323Z"
   },
   {
    "duration": 3,
    "start_time": "2021-11-15T08:09:16.875Z"
   },
   {
    "duration": 5,
    "start_time": "2021-11-15T08:09:17.499Z"
   },
   {
    "duration": 8,
    "start_time": "2021-11-15T08:09:40.834Z"
   },
   {
    "duration": 3,
    "start_time": "2021-11-15T08:50:04.556Z"
   },
   {
    "duration": 13,
    "start_time": "2021-11-15T08:53:36.775Z"
   },
   {
    "duration": 770,
    "start_time": "2021-11-15T08:57:29.458Z"
   },
   {
    "duration": 2,
    "start_time": "2021-11-15T08:58:35.878Z"
   },
   {
    "duration": 11,
    "start_time": "2021-11-15T08:58:50.476Z"
   },
   {
    "duration": 705,
    "start_time": "2021-11-15T08:59:34.667Z"
   },
   {
    "duration": 4,
    "start_time": "2021-11-15T09:03:04.695Z"
   },
   {
    "duration": 14,
    "start_time": "2021-11-15T09:03:06.159Z"
   },
   {
    "duration": 706,
    "start_time": "2021-11-15T09:03:07.127Z"
   },
   {
    "duration": 4,
    "start_time": "2021-11-15T09:03:42.934Z"
   },
   {
    "duration": 703,
    "start_time": "2021-11-15T09:03:45.773Z"
   },
   {
    "duration": 3,
    "start_time": "2021-11-15T09:04:05.293Z"
   },
   {
    "duration": 123,
    "start_time": "2021-11-15T09:05:11.508Z"
   },
   {
    "duration": 115,
    "start_time": "2021-11-15T09:05:27.579Z"
   },
   {
    "duration": 128,
    "start_time": "2021-11-15T09:06:02.227Z"
   },
   {
    "duration": 3,
    "start_time": "2021-11-15T09:06:46.794Z"
   },
   {
    "duration": 838,
    "start_time": "2021-11-15T09:06:52.538Z"
   },
   {
    "duration": 5,
    "start_time": "2021-11-15T09:07:25.065Z"
   },
   {
    "duration": 419,
    "start_time": "2021-11-15T09:08:03.994Z"
   },
   {
    "duration": 682,
    "start_time": "2021-11-15T09:09:28.343Z"
   },
   {
    "duration": 3,
    "start_time": "2021-11-15T09:09:47.880Z"
   },
   {
    "duration": 3,
    "start_time": "2021-11-15T09:09:50.407Z"
   },
   {
    "duration": 14,
    "start_time": "2021-11-15T09:10:04.238Z"
   },
   {
    "duration": 715,
    "start_time": "2021-11-15T09:10:04.983Z"
   },
   {
    "duration": 2,
    "start_time": "2021-11-15T09:14:31.386Z"
   },
   {
    "duration": 8,
    "start_time": "2021-11-15T09:16:13.590Z"
   },
   {
    "duration": 29,
    "start_time": "2021-11-15T09:16:57.277Z"
   },
   {
    "duration": 4,
    "start_time": "2021-11-15T09:40:28.694Z"
   },
   {
    "duration": 1521,
    "start_time": "2021-11-15T09:42:46.515Z"
   },
   {
    "duration": 36,
    "start_time": "2021-11-15T09:44:03.184Z"
   },
   {
    "duration": 23,
    "start_time": "2021-11-15T09:44:38.634Z"
   },
   {
    "duration": 11,
    "start_time": "2021-11-15T09:44:57.777Z"
   },
   {
    "duration": 10,
    "start_time": "2021-11-15T09:54:39.934Z"
   },
   {
    "duration": 57,
    "start_time": "2021-11-15T09:55:08.940Z"
   },
   {
    "duration": 11,
    "start_time": "2021-11-15T09:55:25.692Z"
   },
   {
    "duration": 12,
    "start_time": "2021-11-15T09:55:36.533Z"
   },
   {
    "duration": 11,
    "start_time": "2021-11-15T09:55:43.619Z"
   },
   {
    "duration": 20,
    "start_time": "2021-11-15T09:55:46.909Z"
   },
   {
    "duration": 10,
    "start_time": "2021-11-15T09:55:51.524Z"
   },
   {
    "duration": 8,
    "start_time": "2021-11-15T09:55:54.465Z"
   },
   {
    "duration": 7,
    "start_time": "2021-11-15T09:55:57.461Z"
   },
   {
    "duration": 3,
    "start_time": "2021-11-15T09:56:01.331Z"
   },
   {
    "duration": 3,
    "start_time": "2021-11-15T09:56:02.140Z"
   },
   {
    "duration": 8,
    "start_time": "2021-11-15T09:56:06.411Z"
   },
   {
    "duration": 6,
    "start_time": "2021-11-15T09:56:06.987Z"
   },
   {
    "duration": 3,
    "start_time": "2021-11-15T09:56:10.851Z"
   },
   {
    "duration": 5,
    "start_time": "2021-11-15T09:56:11.475Z"
   },
   {
    "duration": 3,
    "start_time": "2021-11-15T09:56:23.515Z"
   },
   {
    "duration": 11,
    "start_time": "2021-11-15T09:56:32.818Z"
   },
   {
    "duration": 15,
    "start_time": "2021-11-15T09:56:40.770Z"
   },
   {
    "duration": 9,
    "start_time": "2021-11-15T09:56:43.058Z"
   },
   {
    "duration": 29,
    "start_time": "2021-11-15T09:56:43.963Z"
   },
   {
    "duration": 3,
    "start_time": "2021-11-15T09:56:49.450Z"
   },
   {
    "duration": 1366,
    "start_time": "2021-11-15T09:56:50.322Z"
   },
   {
    "duration": 12,
    "start_time": "2021-11-15T09:56:54.698Z"
   },
   {
    "duration": 10,
    "start_time": "2021-11-15T09:56:57.282Z"
   },
   {
    "duration": 3,
    "start_time": "2021-11-15T09:58:55.968Z"
   },
   {
    "duration": 11,
    "start_time": "2021-11-15T09:58:57.240Z"
   },
   {
    "duration": 8,
    "start_time": "2021-11-15T09:59:00.320Z"
   },
   {
    "duration": 40,
    "start_time": "2021-11-15T09:59:00.874Z"
   },
   {
    "duration": 3,
    "start_time": "2021-11-15T09:59:04.432Z"
   },
   {
    "duration": 1288,
    "start_time": "2021-11-15T09:59:05.183Z"
   },
   {
    "duration": 11,
    "start_time": "2021-11-15T09:59:06.473Z"
   },
   {
    "duration": 12,
    "start_time": "2021-11-15T09:59:15.512Z"
   },
   {
    "duration": 12,
    "start_time": "2021-11-15T11:17:27.994Z"
   },
   {
    "duration": 306,
    "start_time": "2021-11-15T12:12:10.460Z"
   },
   {
    "duration": 676,
    "start_time": "2021-11-15T12:12:29.224Z"
   },
   {
    "duration": 19,
    "start_time": "2021-11-15T12:12:29.902Z"
   },
   {
    "duration": 16,
    "start_time": "2021-11-15T12:12:29.923Z"
   },
   {
    "duration": 22,
    "start_time": "2021-11-15T12:12:29.941Z"
   },
   {
    "duration": 11,
    "start_time": "2021-11-15T12:12:29.965Z"
   },
   {
    "duration": 7,
    "start_time": "2021-11-15T12:12:29.978Z"
   },
   {
    "duration": 16,
    "start_time": "2021-11-15T12:12:29.987Z"
   },
   {
    "duration": 17,
    "start_time": "2021-11-15T12:12:30.006Z"
   },
   {
    "duration": 20,
    "start_time": "2021-11-15T12:12:30.025Z"
   },
   {
    "duration": 16,
    "start_time": "2021-11-15T12:12:30.047Z"
   },
   {
    "duration": 21,
    "start_time": "2021-11-15T12:12:30.065Z"
   },
   {
    "duration": 22,
    "start_time": "2021-11-15T12:12:30.088Z"
   },
   {
    "duration": 12,
    "start_time": "2021-11-15T12:12:30.112Z"
   },
   {
    "duration": 18,
    "start_time": "2021-11-15T12:12:30.126Z"
   },
   {
    "duration": 53,
    "start_time": "2021-11-15T12:12:30.146Z"
   },
   {
    "duration": 18,
    "start_time": "2021-11-15T12:12:30.201Z"
   },
   {
    "duration": 7,
    "start_time": "2021-11-15T12:12:30.221Z"
   },
   {
    "duration": 29,
    "start_time": "2021-11-15T12:12:30.229Z"
   },
   {
    "duration": 4,
    "start_time": "2021-11-15T12:12:38.662Z"
   },
   {
    "duration": 36,
    "start_time": "2021-11-15T12:12:38.668Z"
   },
   {
    "duration": 20,
    "start_time": "2021-11-15T12:12:38.706Z"
   },
   {
    "duration": 36,
    "start_time": "2021-11-15T12:12:38.729Z"
   },
   {
    "duration": 4,
    "start_time": "2021-11-15T12:12:38.767Z"
   },
   {
    "duration": 4204,
    "start_time": "2021-11-15T12:12:38.773Z"
   },
   {
    "duration": 13,
    "start_time": "2021-11-15T12:12:42.979Z"
   },
   {
    "duration": 3,
    "start_time": "2021-11-15T12:12:42.995Z"
   },
   {
    "duration": 14,
    "start_time": "2021-11-15T12:12:43.001Z"
   },
   {
    "duration": 33,
    "start_time": "2021-11-15T12:12:43.016Z"
   },
   {
    "duration": 31,
    "start_time": "2021-11-15T12:12:43.051Z"
   },
   {
    "duration": 20,
    "start_time": "2021-11-15T12:12:43.084Z"
   },
   {
    "duration": 20,
    "start_time": "2021-11-15T12:12:43.106Z"
   },
   {
    "duration": 11,
    "start_time": "2021-11-15T12:12:43.128Z"
   },
   {
    "duration": 12,
    "start_time": "2021-11-15T12:12:43.141Z"
   },
   {
    "duration": 30,
    "start_time": "2021-11-15T12:12:43.154Z"
   },
   {
    "duration": 19,
    "start_time": "2021-11-15T12:12:43.186Z"
   },
   {
    "duration": 22,
    "start_time": "2021-11-15T12:12:43.206Z"
   },
   {
    "duration": 22,
    "start_time": "2021-11-15T12:12:43.230Z"
   },
   {
    "duration": 11,
    "start_time": "2021-11-15T12:12:43.254Z"
   },
   {
    "duration": 52,
    "start_time": "2021-11-15T12:12:43.267Z"
   },
   {
    "duration": 43,
    "start_time": "2021-11-15T12:12:43.321Z"
   },
   {
    "duration": 22,
    "start_time": "2021-11-15T12:12:43.368Z"
   },
   {
    "duration": 25,
    "start_time": "2021-11-15T12:12:43.392Z"
   },
   {
    "duration": 9,
    "start_time": "2021-11-15T12:12:43.418Z"
   },
   {
    "duration": 2,
    "start_time": "2021-11-15T12:12:43.445Z"
   },
   {
    "duration": 3458,
    "start_time": "2021-11-15T12:12:43.449Z"
   },
   {
    "duration": 36,
    "start_time": "2021-11-15T12:12:46.909Z"
   },
   {
    "duration": 7,
    "start_time": "2021-11-15T12:12:46.947Z"
   },
   {
    "duration": 7,
    "start_time": "2021-11-15T12:12:46.956Z"
   },
   {
    "duration": 27,
    "start_time": "2021-11-15T12:12:46.965Z"
   },
   {
    "duration": 12,
    "start_time": "2021-11-15T12:12:46.993Z"
   },
   {
    "duration": 10,
    "start_time": "2021-11-15T12:12:47.007Z"
   },
   {
    "duration": 38,
    "start_time": "2021-11-15T12:12:47.018Z"
   },
   {
    "duration": 15,
    "start_time": "2021-11-15T12:12:47.057Z"
   },
   {
    "duration": 28,
    "start_time": "2021-11-15T12:12:47.074Z"
   },
   {
    "duration": 6,
    "start_time": "2021-11-15T12:12:47.104Z"
   },
   {
    "duration": 19,
    "start_time": "2021-11-15T12:12:47.111Z"
   },
   {
    "duration": 13,
    "start_time": "2021-11-15T12:12:47.132Z"
   },
   {
    "duration": 17,
    "start_time": "2021-11-15T12:12:47.147Z"
   },
   {
    "duration": 23,
    "start_time": "2021-11-15T12:12:47.166Z"
   },
   {
    "duration": 18,
    "start_time": "2021-11-15T12:12:47.192Z"
   },
   {
    "duration": 19,
    "start_time": "2021-11-15T12:12:47.212Z"
   },
   {
    "duration": 13,
    "start_time": "2021-11-15T12:12:47.232Z"
   },
   {
    "duration": 18,
    "start_time": "2021-11-15T12:12:47.247Z"
   },
   {
    "duration": 8,
    "start_time": "2021-11-15T12:12:47.266Z"
   },
   {
    "duration": 8,
    "start_time": "2021-11-15T12:12:47.275Z"
   },
   {
    "duration": 28,
    "start_time": "2021-11-15T12:12:47.285Z"
   },
   {
    "duration": 22,
    "start_time": "2021-11-15T12:12:47.315Z"
   },
   {
    "duration": 19,
    "start_time": "2021-11-15T12:12:47.339Z"
   },
   {
    "duration": 23,
    "start_time": "2021-11-15T12:12:47.359Z"
   },
   {
    "duration": 8,
    "start_time": "2021-11-15T12:12:47.384Z"
   },
   {
    "duration": 29,
    "start_time": "2021-11-15T12:12:47.394Z"
   },
   {
    "duration": 17,
    "start_time": "2021-11-15T12:12:47.425Z"
   },
   {
    "duration": 19,
    "start_time": "2021-11-15T12:12:47.444Z"
   },
   {
    "duration": 13,
    "start_time": "2021-11-15T12:12:47.465Z"
   },
   {
    "duration": 6,
    "start_time": "2021-11-15T12:12:47.480Z"
   },
   {
    "duration": 9,
    "start_time": "2021-11-15T12:12:47.488Z"
   },
   {
    "duration": 21,
    "start_time": "2021-11-15T12:12:47.499Z"
   },
   {
    "duration": 31,
    "start_time": "2021-11-15T12:12:47.522Z"
   },
   {
    "duration": 18,
    "start_time": "2021-11-15T12:12:47.555Z"
   },
   {
    "duration": 72,
    "start_time": "2021-11-15T12:12:47.575Z"
   },
   {
    "duration": 9,
    "start_time": "2021-11-15T12:12:47.649Z"
   },
   {
    "duration": 80,
    "start_time": "2021-11-15T12:12:47.660Z"
   },
   {
    "duration": 6,
    "start_time": "2021-11-15T12:12:47.742Z"
   },
   {
    "duration": 20,
    "start_time": "2021-11-15T12:12:47.750Z"
   },
   {
    "duration": 672,
    "start_time": "2021-11-15T12:12:47.772Z"
   },
   {
    "duration": 18,
    "start_time": "2021-11-15T12:12:48.449Z"
   },
   {
    "duration": 7,
    "start_time": "2021-11-15T12:12:48.469Z"
   },
   {
    "duration": 19,
    "start_time": "2021-11-15T12:12:48.478Z"
   },
   {
    "duration": 11,
    "start_time": "2021-11-15T12:12:48.499Z"
   },
   {
    "duration": 34,
    "start_time": "2021-11-15T12:12:48.512Z"
   },
   {
    "duration": 32,
    "start_time": "2021-11-15T12:15:32.856Z"
   }
  ],
  "kernelspec": {
   "display_name": "Python 3 (ipykernel)",
   "language": "python",
   "name": "python3"
  },
  "language_info": {
   "codemirror_mode": {
    "name": "ipython",
    "version": 3
   },
   "file_extension": ".py",
   "mimetype": "text/x-python",
   "name": "python",
   "nbconvert_exporter": "python",
   "pygments_lexer": "ipython3",
   "version": "3.11.0"
  },
  "toc": {
   "base_numbering": 1,
   "nav_menu": {},
   "number_sections": true,
   "sideBar": true,
   "skip_h1_title": true,
   "title_cell": "Table of Contents",
   "title_sidebar": "Contents",
   "toc_cell": false,
   "toc_position": {
    "height": "calc(100% - 180px)",
    "left": "10px",
    "top": "150px",
    "width": "291.81px"
   },
   "toc_section_display": true,
   "toc_window_display": true
  }
 },
 "nbformat": 4,
 "nbformat_minor": 4
}
