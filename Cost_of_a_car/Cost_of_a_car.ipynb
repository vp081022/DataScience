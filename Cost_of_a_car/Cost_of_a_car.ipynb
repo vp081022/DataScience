{
 "cells": [
  {
   "cell_type": "markdown",
   "metadata": {},
   "source": [
    "# Определение рыночной стоимости автомобиля"
   ]
  },
  {
   "cell_type": "markdown",
   "metadata": {},
   "source": [
    "# Описание задачи"
   ]
  },
  {
   "cell_type": "markdown",
   "metadata": {},
   "source": [
    "Необходимо определить рыночную стоимость автомобиля. Для этого имеются следующие данные: технические характеристики, комплектации и цены автомобилей. Нужно построить модель для определения рыночной стоимости автомобиля с учётом качества предсказания, скорости предсказания и времени обучения."
   ]
  },
  {
   "cell_type": "markdown",
   "metadata": {},
   "source": [
    "# План работы"
   ]
  },
  {
   "cell_type": "markdown",
   "metadata": {},
   "source": [
    "1. Подготовка данных\n",
    "2. Обучение моделей\n",
    "    1. Кодирование данных и деление на обучающую и тестовую выборки\n",
    "    2. Создание и обучение модели RandomForestRegressor\n",
    "    3. Создание и обучение модели LinearRegression\n",
    "    4. Создание и обучение модели CatBoostRegressor\n",
    "    5. Создание и обучение модели LightGBM\n",
    "3. Анализ моделей\n",
    "    1. Модель RandomForestRegressor\n",
    "    2. Модель LinearRegression\n",
    "    3. Модель CatboostRegressor\n",
    "    4. Модель LightGBM\n",
    "    5. Вывод\n",
    "4. Вывод"
   ]
  },
  {
   "cell_type": "markdown",
   "metadata": {},
   "source": [
    "# Описание данных"
   ]
  },
  {
   "cell_type": "markdown",
   "metadata": {},
   "source": [
    "**Признаки**\n",
    "* DateCrawled — дата скачивания анкеты из базы\n",
    "* VehicleType — тип автомобильного кузова\n",
    "* RegistrationYear — год регистрации автомобиля\n",
    "* Gearbox — тип коробки передач\n",
    "* Power — мощность (л. с.)\n",
    "* Model — модель автомобиля\n",
    "* Kilometer — пробег (км)\n",
    "* RegistrationMonth — месяц регистрации автомобиля\n",
    "* FuelType — тип топлива\n",
    "* Brand — марка автомобиля\n",
    "* Repaired — была машина в ремонте или нет\n",
    "* DateCreated — дата создания анкеты\n",
    "* NumberOfPictures — количество фотографий автомобиля\n",
    "* PostalCode — почтовый индекс владельца анкеты (пользователя)\n",
    "* LastSeen — дата последней активности пользователя"
   ]
  },
  {
   "cell_type": "markdown",
   "metadata": {},
   "source": [
    "**Целевой признак**\n",
    "\n",
    "Price — цена (евро)"
   ]
  },
  {
   "cell_type": "markdown",
   "metadata": {},
   "source": [
    "## Подготовка данных"
   ]
  },
  {
   "cell_type": "code",
   "execution_count": 210,
   "metadata": {},
   "outputs": [],
   "source": [
    "# Импорт библиотек и функций\n",
    "import pandas as pd\n",
    "import numpy as np\n",
    "import seaborn as sns\n",
    "\n",
    "from sklearn.model_selection import train_test_split\n",
    "from sklearn.metrics import mean_squared_error\n",
    "\n",
    "from sklearn.linear_model import LinearRegression\n",
    "from catboost import CatBoostRegressor\n",
    "from sklearn.ensemble import RandomForestRegressor\n",
    "from sklearn.model_selection import GridSearchCV\n",
    "from lightgbm import LGBMRegressor\n",
    "\n",
    "from sklearn.preprocessing import OrdinalEncoder\n",
    "from sklearn.preprocessing import StandardScaler "
   ]
  },
  {
   "cell_type": "code",
   "execution_count": 211,
   "metadata": {},
   "outputs": [],
   "source": [
    "# Чтение таблицы данных\n",
    "data = pd.read_csv('datasets/autos.csv')"
   ]
  },
  {
   "cell_type": "code",
   "execution_count": 212,
   "metadata": {},
   "outputs": [
    {
     "data": {
      "text/html": [
       "<div>\n",
       "<style scoped>\n",
       "    .dataframe tbody tr th:only-of-type {\n",
       "        vertical-align: middle;\n",
       "    }\n",
       "\n",
       "    .dataframe tbody tr th {\n",
       "        vertical-align: top;\n",
       "    }\n",
       "\n",
       "    .dataframe thead th {\n",
       "        text-align: right;\n",
       "    }\n",
       "</style>\n",
       "<table border=\"1\" class=\"dataframe\">\n",
       "  <thead>\n",
       "    <tr style=\"text-align: right;\">\n",
       "      <th></th>\n",
       "      <th>DateCrawled</th>\n",
       "      <th>Price</th>\n",
       "      <th>VehicleType</th>\n",
       "      <th>RegistrationYear</th>\n",
       "      <th>Gearbox</th>\n",
       "      <th>Power</th>\n",
       "      <th>Model</th>\n",
       "      <th>Kilometer</th>\n",
       "      <th>RegistrationMonth</th>\n",
       "      <th>FuelType</th>\n",
       "      <th>Brand</th>\n",
       "      <th>NotRepaired</th>\n",
       "      <th>DateCreated</th>\n",
       "      <th>NumberOfPictures</th>\n",
       "      <th>PostalCode</th>\n",
       "      <th>LastSeen</th>\n",
       "    </tr>\n",
       "  </thead>\n",
       "  <tbody>\n",
       "    <tr>\n",
       "      <th>0</th>\n",
       "      <td>2016-03-24 11:52:17</td>\n",
       "      <td>480</td>\n",
       "      <td>NaN</td>\n",
       "      <td>1993</td>\n",
       "      <td>manual</td>\n",
       "      <td>0</td>\n",
       "      <td>golf</td>\n",
       "      <td>150000</td>\n",
       "      <td>0</td>\n",
       "      <td>petrol</td>\n",
       "      <td>volkswagen</td>\n",
       "      <td>NaN</td>\n",
       "      <td>2016-03-24 00:00:00</td>\n",
       "      <td>0</td>\n",
       "      <td>70435</td>\n",
       "      <td>2016-04-07 03:16:57</td>\n",
       "    </tr>\n",
       "    <tr>\n",
       "      <th>1</th>\n",
       "      <td>2016-03-24 10:58:45</td>\n",
       "      <td>18300</td>\n",
       "      <td>coupe</td>\n",
       "      <td>2011</td>\n",
       "      <td>manual</td>\n",
       "      <td>190</td>\n",
       "      <td>NaN</td>\n",
       "      <td>125000</td>\n",
       "      <td>5</td>\n",
       "      <td>gasoline</td>\n",
       "      <td>audi</td>\n",
       "      <td>yes</td>\n",
       "      <td>2016-03-24 00:00:00</td>\n",
       "      <td>0</td>\n",
       "      <td>66954</td>\n",
       "      <td>2016-04-07 01:46:50</td>\n",
       "    </tr>\n",
       "    <tr>\n",
       "      <th>2</th>\n",
       "      <td>2016-03-14 12:52:21</td>\n",
       "      <td>9800</td>\n",
       "      <td>suv</td>\n",
       "      <td>2004</td>\n",
       "      <td>auto</td>\n",
       "      <td>163</td>\n",
       "      <td>grand</td>\n",
       "      <td>125000</td>\n",
       "      <td>8</td>\n",
       "      <td>gasoline</td>\n",
       "      <td>jeep</td>\n",
       "      <td>NaN</td>\n",
       "      <td>2016-03-14 00:00:00</td>\n",
       "      <td>0</td>\n",
       "      <td>90480</td>\n",
       "      <td>2016-04-05 12:47:46</td>\n",
       "    </tr>\n",
       "    <tr>\n",
       "      <th>3</th>\n",
       "      <td>2016-03-17 16:54:04</td>\n",
       "      <td>1500</td>\n",
       "      <td>small</td>\n",
       "      <td>2001</td>\n",
       "      <td>manual</td>\n",
       "      <td>75</td>\n",
       "      <td>golf</td>\n",
       "      <td>150000</td>\n",
       "      <td>6</td>\n",
       "      <td>petrol</td>\n",
       "      <td>volkswagen</td>\n",
       "      <td>no</td>\n",
       "      <td>2016-03-17 00:00:00</td>\n",
       "      <td>0</td>\n",
       "      <td>91074</td>\n",
       "      <td>2016-03-17 17:40:17</td>\n",
       "    </tr>\n",
       "    <tr>\n",
       "      <th>4</th>\n",
       "      <td>2016-03-31 17:25:20</td>\n",
       "      <td>3600</td>\n",
       "      <td>small</td>\n",
       "      <td>2008</td>\n",
       "      <td>manual</td>\n",
       "      <td>69</td>\n",
       "      <td>fabia</td>\n",
       "      <td>90000</td>\n",
       "      <td>7</td>\n",
       "      <td>gasoline</td>\n",
       "      <td>skoda</td>\n",
       "      <td>no</td>\n",
       "      <td>2016-03-31 00:00:00</td>\n",
       "      <td>0</td>\n",
       "      <td>60437</td>\n",
       "      <td>2016-04-06 10:17:21</td>\n",
       "    </tr>\n",
       "    <tr>\n",
       "      <th>...</th>\n",
       "      <td>...</td>\n",
       "      <td>...</td>\n",
       "      <td>...</td>\n",
       "      <td>...</td>\n",
       "      <td>...</td>\n",
       "      <td>...</td>\n",
       "      <td>...</td>\n",
       "      <td>...</td>\n",
       "      <td>...</td>\n",
       "      <td>...</td>\n",
       "      <td>...</td>\n",
       "      <td>...</td>\n",
       "      <td>...</td>\n",
       "      <td>...</td>\n",
       "      <td>...</td>\n",
       "      <td>...</td>\n",
       "    </tr>\n",
       "    <tr>\n",
       "      <th>354364</th>\n",
       "      <td>2016-03-21 09:50:58</td>\n",
       "      <td>0</td>\n",
       "      <td>NaN</td>\n",
       "      <td>2005</td>\n",
       "      <td>manual</td>\n",
       "      <td>0</td>\n",
       "      <td>colt</td>\n",
       "      <td>150000</td>\n",
       "      <td>7</td>\n",
       "      <td>petrol</td>\n",
       "      <td>mitsubishi</td>\n",
       "      <td>yes</td>\n",
       "      <td>2016-03-21 00:00:00</td>\n",
       "      <td>0</td>\n",
       "      <td>2694</td>\n",
       "      <td>2016-03-21 10:42:49</td>\n",
       "    </tr>\n",
       "    <tr>\n",
       "      <th>354365</th>\n",
       "      <td>2016-03-14 17:48:27</td>\n",
       "      <td>2200</td>\n",
       "      <td>NaN</td>\n",
       "      <td>2005</td>\n",
       "      <td>NaN</td>\n",
       "      <td>0</td>\n",
       "      <td>NaN</td>\n",
       "      <td>20000</td>\n",
       "      <td>1</td>\n",
       "      <td>NaN</td>\n",
       "      <td>sonstige_autos</td>\n",
       "      <td>NaN</td>\n",
       "      <td>2016-03-14 00:00:00</td>\n",
       "      <td>0</td>\n",
       "      <td>39576</td>\n",
       "      <td>2016-04-06 00:46:52</td>\n",
       "    </tr>\n",
       "    <tr>\n",
       "      <th>354366</th>\n",
       "      <td>2016-03-05 19:56:21</td>\n",
       "      <td>1199</td>\n",
       "      <td>convertible</td>\n",
       "      <td>2000</td>\n",
       "      <td>auto</td>\n",
       "      <td>101</td>\n",
       "      <td>fortwo</td>\n",
       "      <td>125000</td>\n",
       "      <td>3</td>\n",
       "      <td>petrol</td>\n",
       "      <td>smart</td>\n",
       "      <td>no</td>\n",
       "      <td>2016-03-05 00:00:00</td>\n",
       "      <td>0</td>\n",
       "      <td>26135</td>\n",
       "      <td>2016-03-11 18:17:12</td>\n",
       "    </tr>\n",
       "    <tr>\n",
       "      <th>354367</th>\n",
       "      <td>2016-03-19 18:57:12</td>\n",
       "      <td>9200</td>\n",
       "      <td>bus</td>\n",
       "      <td>1996</td>\n",
       "      <td>manual</td>\n",
       "      <td>102</td>\n",
       "      <td>transporter</td>\n",
       "      <td>150000</td>\n",
       "      <td>3</td>\n",
       "      <td>gasoline</td>\n",
       "      <td>volkswagen</td>\n",
       "      <td>no</td>\n",
       "      <td>2016-03-19 00:00:00</td>\n",
       "      <td>0</td>\n",
       "      <td>87439</td>\n",
       "      <td>2016-04-07 07:15:26</td>\n",
       "    </tr>\n",
       "    <tr>\n",
       "      <th>354368</th>\n",
       "      <td>2016-03-20 19:41:08</td>\n",
       "      <td>3400</td>\n",
       "      <td>wagon</td>\n",
       "      <td>2002</td>\n",
       "      <td>manual</td>\n",
       "      <td>100</td>\n",
       "      <td>golf</td>\n",
       "      <td>150000</td>\n",
       "      <td>6</td>\n",
       "      <td>gasoline</td>\n",
       "      <td>volkswagen</td>\n",
       "      <td>NaN</td>\n",
       "      <td>2016-03-20 00:00:00</td>\n",
       "      <td>0</td>\n",
       "      <td>40764</td>\n",
       "      <td>2016-03-24 12:45:21</td>\n",
       "    </tr>\n",
       "  </tbody>\n",
       "</table>\n",
       "<p>354369 rows × 16 columns</p>\n",
       "</div>"
      ],
      "text/plain": [
       "                DateCrawled  Price  VehicleType  RegistrationYear Gearbox  \\\n",
       "0       2016-03-24 11:52:17    480          NaN              1993  manual   \n",
       "1       2016-03-24 10:58:45  18300        coupe              2011  manual   \n",
       "2       2016-03-14 12:52:21   9800          suv              2004    auto   \n",
       "3       2016-03-17 16:54:04   1500        small              2001  manual   \n",
       "4       2016-03-31 17:25:20   3600        small              2008  manual   \n",
       "...                     ...    ...          ...               ...     ...   \n",
       "354364  2016-03-21 09:50:58      0          NaN              2005  manual   \n",
       "354365  2016-03-14 17:48:27   2200          NaN              2005     NaN   \n",
       "354366  2016-03-05 19:56:21   1199  convertible              2000    auto   \n",
       "354367  2016-03-19 18:57:12   9200          bus              1996  manual   \n",
       "354368  2016-03-20 19:41:08   3400        wagon              2002  manual   \n",
       "\n",
       "        Power        Model  Kilometer  RegistrationMonth  FuelType  \\\n",
       "0           0         golf     150000                  0    petrol   \n",
       "1         190          NaN     125000                  5  gasoline   \n",
       "2         163        grand     125000                  8  gasoline   \n",
       "3          75         golf     150000                  6    petrol   \n",
       "4          69        fabia      90000                  7  gasoline   \n",
       "...       ...          ...        ...                ...       ...   \n",
       "354364      0         colt     150000                  7    petrol   \n",
       "354365      0          NaN      20000                  1       NaN   \n",
       "354366    101       fortwo     125000                  3    petrol   \n",
       "354367    102  transporter     150000                  3  gasoline   \n",
       "354368    100         golf     150000                  6  gasoline   \n",
       "\n",
       "                 Brand NotRepaired          DateCreated  NumberOfPictures  \\\n",
       "0           volkswagen         NaN  2016-03-24 00:00:00                 0   \n",
       "1                 audi         yes  2016-03-24 00:00:00                 0   \n",
       "2                 jeep         NaN  2016-03-14 00:00:00                 0   \n",
       "3           volkswagen          no  2016-03-17 00:00:00                 0   \n",
       "4                skoda          no  2016-03-31 00:00:00                 0   \n",
       "...                ...         ...                  ...               ...   \n",
       "354364      mitsubishi         yes  2016-03-21 00:00:00                 0   \n",
       "354365  sonstige_autos         NaN  2016-03-14 00:00:00                 0   \n",
       "354366           smart          no  2016-03-05 00:00:00                 0   \n",
       "354367      volkswagen          no  2016-03-19 00:00:00                 0   \n",
       "354368      volkswagen         NaN  2016-03-20 00:00:00                 0   \n",
       "\n",
       "        PostalCode             LastSeen  \n",
       "0            70435  2016-04-07 03:16:57  \n",
       "1            66954  2016-04-07 01:46:50  \n",
       "2            90480  2016-04-05 12:47:46  \n",
       "3            91074  2016-03-17 17:40:17  \n",
       "4            60437  2016-04-06 10:17:21  \n",
       "...            ...                  ...  \n",
       "354364        2694  2016-03-21 10:42:49  \n",
       "354365       39576  2016-04-06 00:46:52  \n",
       "354366       26135  2016-03-11 18:17:12  \n",
       "354367       87439  2016-04-07 07:15:26  \n",
       "354368       40764  2016-03-24 12:45:21  \n",
       "\n",
       "[354369 rows x 16 columns]"
      ]
     },
     "execution_count": 212,
     "metadata": {},
     "output_type": "execute_result"
    }
   ],
   "source": [
    "#Просмотр таблицы и оценка ее размеров\n",
    "data"
   ]
  },
  {
   "cell_type": "code",
   "execution_count": 213,
   "metadata": {
    "scrolled": true
   },
   "outputs": [
    {
     "name": "stdout",
     "output_type": "stream",
     "text": [
      "<class 'pandas.core.frame.DataFrame'>\n",
      "RangeIndex: 354369 entries, 0 to 354368\n",
      "Data columns (total 16 columns):\n",
      " #   Column             Non-Null Count   Dtype \n",
      "---  ------             --------------   ----- \n",
      " 0   DateCrawled        354369 non-null  object\n",
      " 1   Price              354369 non-null  int64 \n",
      " 2   VehicleType        316879 non-null  object\n",
      " 3   RegistrationYear   354369 non-null  int64 \n",
      " 4   Gearbox            334536 non-null  object\n",
      " 5   Power              354369 non-null  int64 \n",
      " 6   Model              334664 non-null  object\n",
      " 7   Kilometer          354369 non-null  int64 \n",
      " 8   RegistrationMonth  354369 non-null  int64 \n",
      " 9   FuelType           321474 non-null  object\n",
      " 10  Brand              354369 non-null  object\n",
      " 11  NotRepaired        283215 non-null  object\n",
      " 12  DateCreated        354369 non-null  object\n",
      " 13  NumberOfPictures   354369 non-null  int64 \n",
      " 14  PostalCode         354369 non-null  int64 \n",
      " 15  LastSeen           354369 non-null  object\n",
      "dtypes: int64(7), object(9)\n",
      "memory usage: 43.3+ MB\n"
     ]
    }
   ],
   "source": [
    "# Вывод сводной информации о таблице\n",
    "data.info()"
   ]
  },
  {
   "cell_type": "markdown",
   "metadata": {},
   "source": [
    "В таблице есть пропуски у следующих признаков: \"VehicleType\", \"Gearbox\", \"Model\", \"FuelType\", \"NotRepaired\". "
   ]
  },
  {
   "cell_type": "code",
   "execution_count": 214,
   "metadata": {},
   "outputs": [
    {
     "data": {
      "text/plain": [
       "DateCrawled              0\n",
       "Price                    0\n",
       "VehicleType          37490\n",
       "RegistrationYear         0\n",
       "Gearbox              19833\n",
       "Power                    0\n",
       "Model                19705\n",
       "Kilometer                0\n",
       "RegistrationMonth        0\n",
       "FuelType             32895\n",
       "Brand                    0\n",
       "NotRepaired          71154\n",
       "DateCreated              0\n",
       "NumberOfPictures         0\n",
       "PostalCode               0\n",
       "LastSeen                 0\n",
       "dtype: int64"
      ]
     },
     "execution_count": 214,
     "metadata": {},
     "output_type": "execute_result"
    }
   ],
   "source": [
    "#Количество пропусков nan\n",
    "data.isna().sum()"
   ]
  },
  {
   "cell_type": "markdown",
   "metadata": {},
   "source": [
    "Все указанные признаки являются категориальными, заполним их значением \"unknown\"."
   ]
  },
  {
   "cell_type": "code",
   "execution_count": 215,
   "metadata": {},
   "outputs": [],
   "source": [
    "#Заполнение пропусков nan значением \"unknown\"\n",
    "data['VehicleType'] = data['VehicleType'].fillna('unknown')\n",
    "data['Gearbox'] = data['Gearbox'].fillna('unknown')\n",
    "data['Model'] = data['Model'].fillna('unknown')\n",
    "data['FuelType'] = data['FuelType'].fillna('unknown')\n",
    "data['NotRepaired'] = data['NotRepaired'].fillna('unknown')"
   ]
  },
  {
   "cell_type": "code",
   "execution_count": 216,
   "metadata": {},
   "outputs": [
    {
     "data": {
      "text/plain": [
       "DateCrawled          0\n",
       "Price                0\n",
       "VehicleType          0\n",
       "RegistrationYear     0\n",
       "Gearbox              0\n",
       "Power                0\n",
       "Model                0\n",
       "Kilometer            0\n",
       "RegistrationMonth    0\n",
       "FuelType             0\n",
       "Brand                0\n",
       "NotRepaired          0\n",
       "DateCreated          0\n",
       "NumberOfPictures     0\n",
       "PostalCode           0\n",
       "LastSeen             0\n",
       "dtype: int64"
      ]
     },
     "execution_count": 216,
     "metadata": {},
     "output_type": "execute_result"
    }
   ],
   "source": [
    "#Повторная проверка на пропуски\n",
    "data.isna().sum()"
   ]
  },
  {
   "cell_type": "markdown",
   "metadata": {},
   "source": [
    "Удаление столбцов:"
   ]
  },
  {
   "cell_type": "markdown",
   "metadata": {},
   "source": [
    "Столбцы с типом данных \"дата и время\" не обрабатываются моделью при ее обучении. Поэтому удалим их."
   ]
  },
  {
   "cell_type": "code",
   "execution_count": 217,
   "metadata": {},
   "outputs": [],
   "source": [
    "#Удалим столбцы с типом данных \"дата и время\"\n",
    "data = data.drop(['DateCrawled', 'DateCreated', 'LastSeen'], axis = 1)"
   ]
  },
  {
   "cell_type": "markdown",
   "metadata": {},
   "source": [
    "Столбец \"NumberOfPictures\" содержит одно уникальное значение равное нулю:"
   ]
  },
  {
   "cell_type": "code",
   "execution_count": 218,
   "metadata": {},
   "outputs": [
    {
     "data": {
      "text/plain": [
       "array([0], dtype=int64)"
      ]
     },
     "execution_count": 218,
     "metadata": {},
     "output_type": "execute_result"
    }
   ],
   "source": [
    "#Уникальные значения в столбце \"NumberOfPictures\"\n",
    "data['NumberOfPictures'].unique()"
   ]
  },
  {
   "cell_type": "markdown",
   "metadata": {},
   "source": [
    "Поэтому столбец \"NumberOfPictures\" можно тоже удалить:"
   ]
  },
  {
   "cell_type": "code",
   "execution_count": 219,
   "metadata": {},
   "outputs": [],
   "source": [
    "#Удаление столбца \"NumberOfPictures\"\n",
    "data = data.drop(['NumberOfPictures'], axis = 1)"
   ]
  },
  {
   "cell_type": "markdown",
   "metadata": {},
   "source": [
    "Столбец \"PostalCode\" содержит почтовый индекс владельца анкеты (пользователя), что является уникальными данными пользователя и для обучение модели бесполезно. Поэтому данный столбец тоже можно удалить:"
   ]
  },
  {
   "cell_type": "code",
   "execution_count": 220,
   "metadata": {},
   "outputs": [],
   "source": [
    "#Удаление столбца \"PostalCode\"\n",
    "data = data.drop(['PostalCode'], axis = 1)"
   ]
  },
  {
   "cell_type": "markdown",
   "metadata": {},
   "source": [
    "Далее исследуем данные на наличие некорректных значений и заменим их."
   ]
  },
  {
   "cell_type": "code",
   "execution_count": 221,
   "metadata": {},
   "outputs": [
    {
     "data": {
      "text/plain": [
       "array([1910, 1111, 1000, 1500, 1800, 1234, 1400, 1200, 1255, 1001, 1688,\n",
       "       1253, 1919, 1600, 1039, 1300, 1915, 1602], dtype=int64)"
      ]
     },
     "execution_count": 221,
     "metadata": {},
     "output_type": "execute_result"
    }
   ],
   "source": [
    "#Проверка на наличие слишком низких значений года регистрации\n",
    "data[data['RegistrationYear'] < 1920][\"RegistrationYear\"].unique()"
   ]
  },
  {
   "cell_type": "code",
   "execution_count": 222,
   "metadata": {},
   "outputs": [
    {
     "data": {
      "text/plain": [
       "array([5000, 9999, 3200, 8888, 2200, 4100, 3000, 2066, 8000, 5300, 9000,\n",
       "       2900, 6000, 5900, 5911, 4000, 8500, 3700, 3800, 4800, 7000, 6500,\n",
       "       2290, 2500, 9450, 2800, 5555, 5600, 2222, 9996, 8455, 4500, 7800,\n",
       "       9229, 7100, 8200, 7500, 3500], dtype=int64)"
      ]
     },
     "execution_count": 222,
     "metadata": {},
     "output_type": "execute_result"
    }
   ],
   "source": [
    "#Проверка на наличие слишком больших значений года регистрации\n",
    "data[data['RegistrationYear'] > 2020][\"RegistrationYear\"].unique()"
   ]
  },
  {
   "cell_type": "markdown",
   "metadata": {},
   "source": [
    "Строки с некорректными значениями года регистрации автомобиля можно было бы удалить, но в таком случае значения RMSE у обученных моделей получаются хуже. Поэтому заменим их на ближайшие корректные."
   ]
  },
  {
   "cell_type": "markdown",
   "metadata": {},
   "source": [
    "Далее описана функция, заменяющая некорректные значения года регистрации на ближайшие корректные."
   ]
  },
  {
   "cell_type": "code",
   "execution_count": 227,
   "metadata": {},
   "outputs": [],
   "source": [
    "#Функция замены некорректных значений года регистрации на ближайшие корректные значения\n",
    "def RegistrationYear_replace(value):\n",
    "    if value > 2020:\n",
    "        return 2020\n",
    "    elif value < 1920:\n",
    "        return 1920\n",
    "    else:\n",
    "        return value"
   ]
  },
  {
   "cell_type": "code",
   "execution_count": 228,
   "metadata": {},
   "outputs": [],
   "source": [
    "#Замена некорректных значений года регистрации на ближайшие корректные\n",
    "data[\"RegistrationYear\"] = data[\"RegistrationYear\"].apply(RegistrationYear_replace)"
   ]
  },
  {
   "cell_type": "code",
   "execution_count": 229,
   "metadata": {},
   "outputs": [
    {
     "data": {
      "text/plain": [
       "array([ 0,  5,  8,  6,  7, 10, 12, 11,  2,  3,  1,  4,  9], dtype=int64)"
      ]
     },
     "execution_count": 229,
     "metadata": {},
     "output_type": "execute_result"
    }
   ],
   "source": [
    "#Уникальные значения месяца регистрации\n",
    "data[\"RegistrationMonth\"].unique()"
   ]
  },
  {
   "cell_type": "markdown",
   "metadata": {},
   "source": [
    "В столбце \"RegistrationMonth\" присутствует некорректное значение 0. Заменим его на ближайшее корректное значение, то есть на 1."
   ]
  },
  {
   "cell_type": "code",
   "execution_count": 230,
   "metadata": {},
   "outputs": [],
   "source": [
    "# Замена в столбце \"RegistrationMonth\" некорректного значения 0 на 1.\n",
    "data.loc[data['RegistrationMonth'] == 0, 'RegistrationMonth'] = 1"
   ]
  },
  {
   "cell_type": "code",
   "execution_count": 231,
   "metadata": {},
   "outputs": [
    {
     "data": {
      "text/plain": [
       "array([ 7515, 10317, 10520,  6920,  7512, 10218,  7544,  5411,  3750,\n",
       "       11530,  5000, 12012, 17932, 12510, 10912, 15016,  6226,  8404,\n",
       "        4400, 10710, 10522,  9010, 11509, 11635, 10000,  5575, 19211,\n",
       "        3199,  7508,  4700,  3454, 19208,  8011,  6006,  3500,  5815,\n",
       "        6018,  5809, 15020,  5867, 17410,  6011, 15001,  6045,  6010,\n",
       "       17011, 16051,  9000, 10311, 17019, 12684,  8259, 17700, 11011,\n",
       "       15033,  6512, 13616, 16312, 20000,  6012, 13636,  9710,  6062,\n",
       "       16011, 12512,  9013,  9011, 15017, 10910, 11025, 14009, 11111,\n",
       "        9007,  5420,  7511, 19312,  9012, 16311,  7529,  8500, 10110,\n",
       "        4507,  7518], dtype=int64)"
      ]
     },
     "execution_count": 231,
     "metadata": {},
     "output_type": "execute_result"
    }
   ],
   "source": [
    "#Проверка значений столбца \"Power\" на слишком большие значения.\n",
    "data[data['Power'] > 3000][\"Power\"].unique()"
   ]
  },
  {
   "cell_type": "code",
   "execution_count": 232,
   "metadata": {},
   "outputs": [
    {
     "data": {
      "text/plain": [
       "array([ 0, 75, 69, 50, 60, 90, 99, 70, 95, 61, 80, 55, 64, 82, 54, 87, 86,\n",
       "       84, 77, 88, 45, 41, 98, 56, 58, 83, 85, 73, 68, 66, 74, 52, 65, 71,\n",
       "       97,  5, 63, 81, 44, 59, 39, 92, 51, 53, 43, 67, 72, 23, 96, 26, 37,\n",
       "       33, 94, 48, 40, 79, 57, 30,  7, 47, 78, 91, 89, 76, 93, 16, 46, 35,\n",
       "       34,  2, 18, 62, 10, 15, 22, 42,  4, 21,  1, 24, 29, 38, 14, 49, 27,\n",
       "       20, 11, 25, 12, 17,  9, 13,  8, 19,  6,  3, 32, 36, 31, 28],\n",
       "      dtype=int64)"
      ]
     },
     "execution_count": 232,
     "metadata": {},
     "output_type": "execute_result"
    }
   ],
   "source": [
    "#Проверка столбца \"Power\" на слишком малые значения\n",
    "data[data['Power'] < 100][\"Power\"].unique()"
   ]
  },
  {
   "cell_type": "markdown",
   "metadata": {},
   "source": [
    "В столбце \"Power\" присутствует множество слишком больших и слишком малых значений. Строки с такими значениями можно было бы удалить, но это приведет к ухудшению значений RMSE обученных моделей. Поэтому, некорректные значения заменим на ближайшие корректные."
   ]
  },
  {
   "cell_type": "code",
   "execution_count": 237,
   "metadata": {},
   "outputs": [],
   "source": [
    "#Замена в столбце \"Power\" слишком больших значений\n",
    "data.loc[data['Power'] > 3000, 'Power'] = 3000"
   ]
  },
  {
   "cell_type": "code",
   "execution_count": 238,
   "metadata": {},
   "outputs": [],
   "source": [
    "#Замена в столбце \"Power\" слишком малых значений\n",
    "data.loc[data['Power'] < 100, 'Power'] = 100"
   ]
  },
  {
   "cell_type": "markdown",
   "metadata": {},
   "source": [
    "Просмотрим статистические характеристики данных в столбцах."
   ]
  },
  {
   "cell_type": "code",
   "execution_count": 239,
   "metadata": {
    "scrolled": true
   },
   "outputs": [
    {
     "data": {
      "text/html": [
       "<div>\n",
       "<style scoped>\n",
       "    .dataframe tbody tr th:only-of-type {\n",
       "        vertical-align: middle;\n",
       "    }\n",
       "\n",
       "    .dataframe tbody tr th {\n",
       "        vertical-align: top;\n",
       "    }\n",
       "\n",
       "    .dataframe thead th {\n",
       "        text-align: right;\n",
       "    }\n",
       "</style>\n",
       "<table border=\"1\" class=\"dataframe\">\n",
       "  <thead>\n",
       "    <tr style=\"text-align: right;\">\n",
       "      <th></th>\n",
       "      <th>Price</th>\n",
       "      <th>RegistrationYear</th>\n",
       "      <th>Power</th>\n",
       "      <th>Kilometer</th>\n",
       "      <th>RegistrationMonth</th>\n",
       "    </tr>\n",
       "  </thead>\n",
       "  <tbody>\n",
       "    <tr>\n",
       "      <th>count</th>\n",
       "      <td>354369.000000</td>\n",
       "      <td>354369.000000</td>\n",
       "      <td>354369.000000</td>\n",
       "      <td>354369.000000</td>\n",
       "      <td>354369.000000</td>\n",
       "    </tr>\n",
       "    <tr>\n",
       "      <th>mean</th>\n",
       "      <td>4416.656776</td>\n",
       "      <td>2003.077194</td>\n",
       "      <td>129.067969</td>\n",
       "      <td>128211.172535</td>\n",
       "      <td>5.820049</td>\n",
       "    </tr>\n",
       "    <tr>\n",
       "      <th>std</th>\n",
       "      <td>4514.158514</td>\n",
       "      <td>7.591811</td>\n",
       "      <td>73.734474</td>\n",
       "      <td>37905.341530</td>\n",
       "      <td>3.574326</td>\n",
       "    </tr>\n",
       "    <tr>\n",
       "      <th>min</th>\n",
       "      <td>0.000000</td>\n",
       "      <td>1920.000000</td>\n",
       "      <td>100.000000</td>\n",
       "      <td>5000.000000</td>\n",
       "      <td>1.000000</td>\n",
       "    </tr>\n",
       "    <tr>\n",
       "      <th>25%</th>\n",
       "      <td>1050.000000</td>\n",
       "      <td>1999.000000</td>\n",
       "      <td>100.000000</td>\n",
       "      <td>125000.000000</td>\n",
       "      <td>3.000000</td>\n",
       "    </tr>\n",
       "    <tr>\n",
       "      <th>50%</th>\n",
       "      <td>2700.000000</td>\n",
       "      <td>2003.000000</td>\n",
       "      <td>105.000000</td>\n",
       "      <td>150000.000000</td>\n",
       "      <td>6.000000</td>\n",
       "    </tr>\n",
       "    <tr>\n",
       "      <th>75%</th>\n",
       "      <td>6400.000000</td>\n",
       "      <td>2008.000000</td>\n",
       "      <td>143.000000</td>\n",
       "      <td>150000.000000</td>\n",
       "      <td>9.000000</td>\n",
       "    </tr>\n",
       "    <tr>\n",
       "      <th>max</th>\n",
       "      <td>20000.000000</td>\n",
       "      <td>2020.000000</td>\n",
       "      <td>3000.000000</td>\n",
       "      <td>150000.000000</td>\n",
       "      <td>12.000000</td>\n",
       "    </tr>\n",
       "  </tbody>\n",
       "</table>\n",
       "</div>"
      ],
      "text/plain": [
       "               Price  RegistrationYear          Power      Kilometer  \\\n",
       "count  354369.000000     354369.000000  354369.000000  354369.000000   \n",
       "mean     4416.656776       2003.077194     129.067969  128211.172535   \n",
       "std      4514.158514          7.591811      73.734474   37905.341530   \n",
       "min         0.000000       1920.000000     100.000000    5000.000000   \n",
       "25%      1050.000000       1999.000000     100.000000  125000.000000   \n",
       "50%      2700.000000       2003.000000     105.000000  150000.000000   \n",
       "75%      6400.000000       2008.000000     143.000000  150000.000000   \n",
       "max     20000.000000       2020.000000    3000.000000  150000.000000   \n",
       "\n",
       "       RegistrationMonth  \n",
       "count      354369.000000  \n",
       "mean            5.820049  \n",
       "std             3.574326  \n",
       "min             1.000000  \n",
       "25%             3.000000  \n",
       "50%             6.000000  \n",
       "75%             9.000000  \n",
       "max            12.000000  "
      ]
     },
     "execution_count": 239,
     "metadata": {},
     "output_type": "execute_result"
    }
   ],
   "source": [
    "#Статистические характеристики данных в столбцах\n",
    "data.describe()"
   ]
  },
  {
   "cell_type": "code",
   "execution_count": 240,
   "metadata": {},
   "outputs": [
    {
     "data": {
      "text/plain": [
       "<AxesSubplot:>"
      ]
     },
     "execution_count": 240,
     "metadata": {},
     "output_type": "execute_result"
    },
    {
     "data": {
      "image/png": "[encoded data removed]",
      "text/plain": [
       "<Figure size 432x288 with 1 Axes>"
      ]
     },
     "metadata": {
      "needs_background": "light"
     },
     "output_type": "display_data"
    }
   ],
   "source": [
    "#Ящик с усами для исследования распределения данных в столбцах\n",
    "data.boxplot()"
   ]
  },
  {
   "cell_type": "markdown",
   "metadata": {},
   "source": [
    "Из графика видно, что имеются выбросы в столбцах \"Price\",\"Power\" и \"Kilometer\""
   ]
  },
  {
   "cell_type": "markdown",
   "metadata": {},
   "source": [
    "Удалим выбросы в указанных столбцах, удаляя строки. Без удаления выбросов значения RMSE обученных моделей в дальнейшем окажутся хуже."
   ]
  },
  {
   "cell_type": "code",
   "execution_count": 241,
   "metadata": {},
   "outputs": [],
   "source": [
    "#Функция удаления выбросов\n",
    "def vybrosy_del(data,column):\n",
    "    q25=np.array(data[column].quantile(0.25))\n",
    "    \n",
    "    q75=np.array(data[column].quantile(0.75))\n",
    "    first_part=q25-1.5*(q75-q25)\n",
    "    second_part=q75+1.5*(q75-q25)\n",
    "    del_index = []\n",
    "    for index_value, value in zip(data[column].index,data[column]):\n",
    "        if second_part <= value or value <= first_part:\n",
    "            del_index.append(index_value)\n",
    "    \n",
    "    print('Количество строк для удаления ' + str(column)+\":\",len(del_index))\n",
    "    return del_index"
   ]
  },
  {
   "cell_type": "code",
   "execution_count": 242,
   "metadata": {},
   "outputs": [
    {
     "name": "stdout",
     "output_type": "stream",
     "text": [
      "Количество строк для удаления Price: 18979\n",
      "Количество строк для удаления Power: 18762\n",
      "Количество строк для удаления Kilometer: 43285\n",
      "Было удалено: 81026\n"
     ]
    }
   ],
   "source": [
    "#Удаление выбросов в столбцах \"Price\",\"Power\",\"Kilometer\"\n",
    "array_num_col = [\"Price\",\"Power\",\"Kilometer\"]\n",
    "count = 0 \n",
    "for column in array_num_col:\n",
    "    index_del = vybrosy_del(data,column)\n",
    "    count += len(index_del)\n",
    "    data = data.drop(index_del,axis = 0)\n",
    "print(\"Было удалено:\", count)"
   ]
  },
  {
   "cell_type": "markdown",
   "metadata": {},
   "source": [
    "## Обучение моделей"
   ]
  },
  {
   "cell_type": "markdown",
   "metadata": {},
   "source": [
    "### Кодирование данных и деление на обучающую и тестовую выборки"
   ]
  },
  {
   "cell_type": "code",
   "execution_count": 243,
   "metadata": {},
   "outputs": [],
   "source": [
    "#Кодирование данных\n",
    "data_ohe = data.copy()\n",
    "data_ohe = pd.get_dummies(data_ohe, drop_first=True)"
   ]
  },
  {
   "cell_type": "code",
   "execution_count": 244,
   "metadata": {},
   "outputs": [],
   "source": [
    "#Выделение основных признаков и целевого признака не обработанных кодированием\n",
    "features = data.drop('Price', axis=1)\n",
    "target = data['Price']"
   ]
  },
  {
   "cell_type": "code",
   "execution_count": 245,
   "metadata": {},
   "outputs": [],
   "source": [
    "# Выделение в таблице основных признаков и целевого обработанных кодированием\n",
    "features_ohe = data_ohe.drop('Price', axis=1)\n",
    "target_ohe = data_ohe['Price']"
   ]
  },
  {
   "cell_type": "code",
   "execution_count": 246,
   "metadata": {},
   "outputs": [],
   "source": [
    "#Выделение обучающей и тестовой выборок не обработанных кодированием\n",
    "features_train,features_test,target_train,target_test = train_test_split(features,\n",
    "                                             target,\n",
    "                                             test_size = 0.25,\n",
    "                                             random_state = 12345)"
   ]
  },
  {
   "cell_type": "code",
   "execution_count": 247,
   "metadata": {},
   "outputs": [],
   "source": [
    "#Выделение обучающей и тестовой выборок обработанных кодированием\n",
    "features_ohe_train,features_ohe_test,target_ohe_train,target_ohe_test = train_test_split(features_ohe,\n",
    "                                             target_ohe,\n",
    "                                             test_size = 0.25,\n",
    "                                             random_state = 12345)"
   ]
  },
  {
   "cell_type": "markdown",
   "metadata": {},
   "source": [
    "Было выполнено кодирование категориальных признаков."
   ]
  },
  {
   "cell_type": "markdown",
   "metadata": {},
   "source": [
    "### Создание и обучение модели RandomForestRegressor"
   ]
  },
  {
   "cell_type": "code",
   "execution_count": 258,
   "metadata": {},
   "outputs": [],
   "source": [
    "#Создание модели случайного леса для поиска лучших значений ее параметров\n",
    "model_rfr = RandomForestRegressor()"
   ]
  },
  {
   "cell_type": "code",
   "execution_count": 259,
   "metadata": {},
   "outputs": [],
   "source": [
    "#Список параметров и диапазоны значений для определения наилучших для модели\n",
    "parameters = {'n_estimators': range (5, 15, 5),\n",
    "              'max_depth': range (5,15, 5)}"
   ]
  },
  {
   "cell_type": "code",
   "execution_count": 260,
   "metadata": {},
   "outputs": [],
   "source": [
    "#Для определения наилучших значений параметров модели используем функцию GridSearchCV\n",
    "grid = GridSearchCV(model_rfr, parameters, cv=5, scoring='neg_mean_squared_error')"
   ]
  },
  {
   "cell_type": "code",
   "execution_count": 261,
   "metadata": {},
   "outputs": [
    {
     "data": {
      "text/plain": [
       "GridSearchCV(cv=5, estimator=RandomForestRegressor(),\n",
       "             param_grid={'max_depth': range(5, 15, 5),\n",
       "                         'n_estimators': range(5, 15, 5)},\n",
       "             scoring='neg_mean_squared_error')"
      ]
     },
     "execution_count": 261,
     "metadata": {},
     "output_type": "execute_result"
    }
   ],
   "source": [
    "#Поиск лучших значений параметров модели\n",
    "grid.fit(features_ohe_train, target_ohe_train)"
   ]
  },
  {
   "cell_type": "code",
   "execution_count": 262,
   "metadata": {},
   "outputs": [
    {
     "data": {
      "text/plain": [
       "{'max_depth': 10, 'n_estimators': 10}"
      ]
     },
     "execution_count": 262,
     "metadata": {},
     "output_type": "execute_result"
    }
   ],
   "source": [
    "#Вывод лучших значений параметров модели\n",
    "grid.best_params_"
   ]
  },
  {
   "cell_type": "code",
   "execution_count": 263,
   "metadata": {},
   "outputs": [],
   "source": [
    "#Создание модели случайного леса с использованием найденных значений ее параметров\n",
    "model_rfr = RandomForestRegressor(random_state=12345, n_estimators=10, max_depth=10)"
   ]
  },
  {
   "cell_type": "code",
   "execution_count": 264,
   "metadata": {},
   "outputs": [
    {
     "name": "stdout",
     "output_type": "stream",
     "text": [
      "Wall time: 35.8 s\n"
     ]
    },
    {
     "data": {
      "text/plain": [
       "RandomForestRegressor(max_depth=10, n_estimators=10, random_state=12345)"
      ]
     },
     "execution_count": 264,
     "metadata": {},
     "output_type": "execute_result"
    }
   ],
   "source": [
    "%%time\n",
    "#Обучение модели случайного леса\n",
    "model_rfr.fit(features_ohe_train,target_ohe_train)"
   ]
  },
  {
   "cell_type": "markdown",
   "metadata": {},
   "source": [
    "### Создание и обучение модели LinearRegression"
   ]
  },
  {
   "cell_type": "code",
   "execution_count": 265,
   "metadata": {},
   "outputs": [],
   "source": [
    "#Создание модели LinearRegression\n",
    "model_lr = LinearRegression()"
   ]
  },
  {
   "cell_type": "code",
   "execution_count": 266,
   "metadata": {},
   "outputs": [
    {
     "name": "stdout",
     "output_type": "stream",
     "text": [
      "Wall time: 4.08 s\n"
     ]
    },
    {
     "data": {
      "text/plain": [
       "LinearRegression()"
      ]
     },
     "execution_count": 266,
     "metadata": {},
     "output_type": "execute_result"
    }
   ],
   "source": [
    "%%time\n",
    "#Обучение модели LinearRegression\n",
    "model_lr.fit(features_ohe_train, target_ohe_train)"
   ]
  },
  {
   "cell_type": "markdown",
   "metadata": {},
   "source": [
    "### Создание и обучение модели CatBoostRegressor"
   ]
  },
  {
   "cell_type": "code",
   "execution_count": 267,
   "metadata": {
    "scrolled": true
   },
   "outputs": [],
   "source": [
    "# Создание модели catboostregressor\n",
    "model_catboost  = CatBoostRegressor(loss_function='RMSE')"
   ]
  },
  {
   "cell_type": "code",
   "execution_count": 268,
   "metadata": {},
   "outputs": [],
   "source": [
    "#Указание для модели категориальных признаков обучающей выборки\n",
    "cat_features = ['VehicleType', 'Gearbox', 'Model','FuelType', 'NotRepaired', 'Brand']"
   ]
  },
  {
   "cell_type": "code",
   "execution_count": 269,
   "metadata": {},
   "outputs": [
    {
     "name": "stdout",
     "output_type": "stream",
     "text": [
      "Learning rate set to 0.094938\n",
      "0:\tlearn: 2827.7241552\ttotal: 214ms\tremaining: 3m 34s\n",
      "1:\tlearn: 2682.0336352\ttotal: 402ms\tremaining: 3m 20s\n",
      "2:\tlearn: 2554.2419310\ttotal: 543ms\tremaining: 3m\n",
      "3:\tlearn: 2437.9126658\ttotal: 698ms\tremaining: 2m 53s\n",
      "4:\tlearn: 2330.6790919\ttotal: 847ms\tremaining: 2m 48s\n",
      "5:\tlearn: 2242.5204300\ttotal: 1.02s\tremaining: 2m 49s\n",
      "6:\tlearn: 2157.0546484\ttotal: 1.18s\tremaining: 2m 47s\n",
      "7:\tlearn: 2084.2284349\ttotal: 1.33s\tremaining: 2m 44s\n",
      "8:\tlearn: 2021.2605953\ttotal: 1.48s\tremaining: 2m 42s\n",
      "9:\tlearn: 1966.9342901\ttotal: 1.64s\tremaining: 2m 42s\n",
      "10:\tlearn: 1918.8612341\ttotal: 1.8s\tremaining: 2m 41s\n",
      "11:\tlearn: 1877.5940253\ttotal: 1.97s\tremaining: 2m 42s\n",
      "12:\tlearn: 1835.0919589\ttotal: 2.13s\tremaining: 2m 41s\n",
      "13:\tlearn: 1798.6903561\ttotal: 2.3s\tremaining: 2m 41s\n",
      "14:\tlearn: 1760.9168116\ttotal: 2.49s\tremaining: 2m 43s\n",
      "15:\tlearn: 1731.5195839\ttotal: 2.65s\tremaining: 2m 42s\n",
      "16:\tlearn: 1703.6555414\ttotal: 2.8s\tremaining: 2m 41s\n",
      "17:\tlearn: 1680.6413337\ttotal: 2.95s\tremaining: 2m 40s\n",
      "18:\tlearn: 1659.6031505\ttotal: 3.12s\tremaining: 2m 40s\n",
      "19:\tlearn: 1640.9726686\ttotal: 3.28s\tremaining: 2m 40s\n",
      "20:\tlearn: 1623.7143536\ttotal: 3.45s\tremaining: 2m 40s\n",
      "21:\tlearn: 1609.2190771\ttotal: 3.6s\tremaining: 2m 39s\n",
      "22:\tlearn: 1595.6345373\ttotal: 3.78s\tremaining: 2m 40s\n",
      "23:\tlearn: 1583.1687286\ttotal: 3.92s\tremaining: 2m 39s\n",
      "24:\tlearn: 1572.8535609\ttotal: 4.07s\tremaining: 2m 38s\n",
      "25:\tlearn: 1561.7095631\ttotal: 4.22s\tremaining: 2m 38s\n",
      "26:\tlearn: 1553.6512430\ttotal: 4.38s\tremaining: 2m 37s\n",
      "27:\tlearn: 1545.1353436\ttotal: 4.55s\tremaining: 2m 37s\n",
      "28:\tlearn: 1536.7636248\ttotal: 4.72s\tremaining: 2m 38s\n",
      "29:\tlearn: 1529.3318924\ttotal: 4.88s\tremaining: 2m 37s\n",
      "30:\tlearn: 1521.6441665\ttotal: 5.04s\tremaining: 2m 37s\n",
      "31:\tlearn: 1516.1789030\ttotal: 5.19s\tremaining: 2m 37s\n",
      "32:\tlearn: 1511.5102430\ttotal: 5.36s\tremaining: 2m 37s\n",
      "33:\tlearn: 1507.1976143\ttotal: 5.53s\tremaining: 2m 37s\n",
      "34:\tlearn: 1501.2180387\ttotal: 5.7s\tremaining: 2m 37s\n",
      "35:\tlearn: 1496.8157463\ttotal: 5.87s\tremaining: 2m 37s\n",
      "36:\tlearn: 1491.8020063\ttotal: 6.01s\tremaining: 2m 36s\n",
      "37:\tlearn: 1487.6909734\ttotal: 6.15s\tremaining: 2m 35s\n",
      "38:\tlearn: 1483.3011890\ttotal: 6.3s\tremaining: 2m 35s\n",
      "39:\tlearn: 1479.2464048\ttotal: 6.48s\tremaining: 2m 35s\n",
      "40:\tlearn: 1476.3047750\ttotal: 6.68s\tremaining: 2m 36s\n",
      "41:\tlearn: 1472.4858006\ttotal: 6.83s\tremaining: 2m 35s\n",
      "42:\tlearn: 1470.1935627\ttotal: 6.99s\tremaining: 2m 35s\n",
      "43:\tlearn: 1466.8182040\ttotal: 7.15s\tremaining: 2m 35s\n",
      "44:\tlearn: 1464.1840568\ttotal: 7.32s\tremaining: 2m 35s\n",
      "45:\tlearn: 1461.4396209\ttotal: 7.5s\tremaining: 2m 35s\n",
      "46:\tlearn: 1459.5159316\ttotal: 7.66s\tremaining: 2m 35s\n",
      "47:\tlearn: 1456.9524518\ttotal: 7.81s\tremaining: 2m 34s\n",
      "48:\tlearn: 1454.8644795\ttotal: 7.98s\tremaining: 2m 34s\n",
      "49:\tlearn: 1452.8978458\ttotal: 8.14s\tremaining: 2m 34s\n",
      "50:\tlearn: 1451.1149647\ttotal: 8.29s\tremaining: 2m 34s\n",
      "51:\tlearn: 1448.7089278\ttotal: 8.46s\tremaining: 2m 34s\n",
      "52:\tlearn: 1447.1976424\ttotal: 8.58s\tremaining: 2m 33s\n",
      "53:\tlearn: 1445.5388484\ttotal: 8.76s\tremaining: 2m 33s\n",
      "54:\tlearn: 1443.2907864\ttotal: 8.92s\tremaining: 2m 33s\n",
      "55:\tlearn: 1441.8155105\ttotal: 9.1s\tremaining: 2m 33s\n",
      "56:\tlearn: 1440.2028093\ttotal: 9.28s\tremaining: 2m 33s\n",
      "57:\tlearn: 1439.2818333\ttotal: 9.42s\tremaining: 2m 32s\n",
      "58:\tlearn: 1438.4362561\ttotal: 9.59s\tremaining: 2m 32s\n",
      "59:\tlearn: 1436.6232484\ttotal: 9.72s\tremaining: 2m 32s\n",
      "60:\tlearn: 1435.3715613\ttotal: 9.88s\tremaining: 2m 32s\n",
      "61:\tlearn: 1433.8278160\ttotal: 10s\tremaining: 2m 31s\n",
      "62:\tlearn: 1432.5018684\ttotal: 10.1s\tremaining: 2m 30s\n",
      "63:\tlearn: 1431.5581559\ttotal: 10.3s\tremaining: 2m 30s\n",
      "64:\tlearn: 1430.4009591\ttotal: 10.5s\tremaining: 2m 30s\n",
      "65:\tlearn: 1429.1082222\ttotal: 10.6s\tremaining: 2m 30s\n",
      "66:\tlearn: 1428.0283364\ttotal: 10.8s\tremaining: 2m 29s\n",
      "67:\tlearn: 1427.3489820\ttotal: 10.9s\tremaining: 2m 29s\n",
      "68:\tlearn: 1426.6908021\ttotal: 11s\tremaining: 2m 29s\n",
      "69:\tlearn: 1425.3576641\ttotal: 11.2s\tremaining: 2m 28s\n",
      "70:\tlearn: 1424.6964715\ttotal: 11.3s\tremaining: 2m 28s\n",
      "71:\tlearn: 1423.8249606\ttotal: 11.5s\tremaining: 2m 28s\n",
      "72:\tlearn: 1422.9858044\ttotal: 11.7s\tremaining: 2m 28s\n",
      "73:\tlearn: 1422.0128115\ttotal: 11.8s\tremaining: 2m 28s\n",
      "74:\tlearn: 1421.1388651\ttotal: 12s\tremaining: 2m 28s\n",
      "75:\tlearn: 1419.8755879\ttotal: 12.2s\tremaining: 2m 28s\n",
      "76:\tlearn: 1419.2925418\ttotal: 12.4s\tremaining: 2m 28s\n",
      "77:\tlearn: 1418.0041830\ttotal: 12.5s\tremaining: 2m 28s\n",
      "78:\tlearn: 1416.9206956\ttotal: 12.7s\tremaining: 2m 27s\n",
      "79:\tlearn: 1416.0427463\ttotal: 12.9s\tremaining: 2m 28s\n",
      "80:\tlearn: 1415.1054567\ttotal: 13.1s\tremaining: 2m 28s\n",
      "81:\tlearn: 1414.3031687\ttotal: 13.2s\tremaining: 2m 28s\n",
      "82:\tlearn: 1413.6518334\ttotal: 13.4s\tremaining: 2m 28s\n",
      "83:\tlearn: 1412.4017172\ttotal: 13.6s\tremaining: 2m 27s\n",
      "84:\tlearn: 1411.6216202\ttotal: 13.7s\tremaining: 2m 27s\n",
      "85:\tlearn: 1410.7640407\ttotal: 13.9s\tremaining: 2m 27s\n",
      "86:\tlearn: 1409.7429437\ttotal: 14.1s\tremaining: 2m 27s\n",
      "87:\tlearn: 1408.9498972\ttotal: 14.3s\tremaining: 2m 28s\n",
      "88:\tlearn: 1408.0367193\ttotal: 14.5s\tremaining: 2m 28s\n",
      "89:\tlearn: 1407.0250837\ttotal: 14.6s\tremaining: 2m 27s\n",
      "90:\tlearn: 1406.3582495\ttotal: 14.8s\tremaining: 2m 27s\n",
      "91:\tlearn: 1405.5446960\ttotal: 15s\tremaining: 2m 27s\n",
      "92:\tlearn: 1404.8332428\ttotal: 15.1s\tremaining: 2m 27s\n",
      "93:\tlearn: 1404.2302189\ttotal: 15.3s\tremaining: 2m 27s\n",
      "94:\tlearn: 1403.1497593\ttotal: 15.4s\tremaining: 2m 27s\n",
      "95:\tlearn: 1402.4438297\ttotal: 15.6s\tremaining: 2m 26s\n",
      "96:\tlearn: 1402.0953656\ttotal: 15.7s\tremaining: 2m 26s\n",
      "97:\tlearn: 1401.4922283\ttotal: 15.9s\tremaining: 2m 26s\n",
      "98:\tlearn: 1400.2817624\ttotal: 16.1s\tremaining: 2m 26s\n",
      "99:\tlearn: 1399.8191617\ttotal: 16.3s\tremaining: 2m 26s\n",
      "100:\tlearn: 1399.2008972\ttotal: 16.4s\tremaining: 2m 26s\n",
      "101:\tlearn: 1398.3244375\ttotal: 16.6s\tremaining: 2m 25s\n",
      "102:\tlearn: 1398.0258845\ttotal: 16.7s\tremaining: 2m 25s\n",
      "103:\tlearn: 1397.6664389\ttotal: 16.9s\tremaining: 2m 25s\n",
      "104:\tlearn: 1397.1105243\ttotal: 17s\tremaining: 2m 25s\n",
      "105:\tlearn: 1396.5287344\ttotal: 17.2s\tremaining: 2m 25s\n",
      "106:\tlearn: 1395.7459381\ttotal: 17.3s\tremaining: 2m 24s\n",
      "107:\tlearn: 1395.1096958\ttotal: 17.5s\tremaining: 2m 24s\n",
      "108:\tlearn: 1394.1401710\ttotal: 17.7s\tremaining: 2m 24s\n",
      "109:\tlearn: 1393.3421544\ttotal: 17.8s\tremaining: 2m 23s\n",
      "110:\tlearn: 1392.8524227\ttotal: 17.9s\tremaining: 2m 23s\n",
      "111:\tlearn: 1392.0428068\ttotal: 18.1s\tremaining: 2m 23s\n",
      "112:\tlearn: 1391.7317120\ttotal: 18.3s\tremaining: 2m 23s\n",
      "113:\tlearn: 1391.2789899\ttotal: 18.5s\tremaining: 2m 23s\n",
      "114:\tlearn: 1390.6672071\ttotal: 18.6s\tremaining: 2m 23s\n",
      "115:\tlearn: 1389.8588115\ttotal: 18.8s\tremaining: 2m 23s\n",
      "116:\tlearn: 1389.4426246\ttotal: 18.9s\tremaining: 2m 22s\n",
      "117:\tlearn: 1389.1113106\ttotal: 19.1s\tremaining: 2m 22s\n",
      "118:\tlearn: 1388.6910263\ttotal: 19.3s\tremaining: 2m 22s\n",
      "119:\tlearn: 1387.9917709\ttotal: 19.5s\tremaining: 2m 22s\n",
      "120:\tlearn: 1387.4341661\ttotal: 19.6s\tremaining: 2m 22s\n",
      "121:\tlearn: 1386.8614250\ttotal: 19.8s\tremaining: 2m 22s\n",
      "122:\tlearn: 1386.3708007\ttotal: 20s\tremaining: 2m 22s\n",
      "123:\tlearn: 1385.8541970\ttotal: 20.2s\tremaining: 2m 22s\n",
      "124:\tlearn: 1385.5706948\ttotal: 20.3s\tremaining: 2m 22s\n",
      "125:\tlearn: 1384.8204504\ttotal: 20.5s\tremaining: 2m 22s\n",
      "126:\tlearn: 1384.3956219\ttotal: 20.7s\tremaining: 2m 22s\n",
      "127:\tlearn: 1383.8198561\ttotal: 20.8s\tremaining: 2m 21s\n",
      "128:\tlearn: 1383.4175453\ttotal: 21s\tremaining: 2m 21s\n",
      "129:\tlearn: 1382.8307039\ttotal: 21.1s\tremaining: 2m 21s\n",
      "130:\tlearn: 1382.0682721\ttotal: 21.3s\tremaining: 2m 21s\n",
      "131:\tlearn: 1381.5514575\ttotal: 21.5s\tremaining: 2m 21s\n",
      "132:\tlearn: 1381.1088279\ttotal: 21.6s\tremaining: 2m 20s\n",
      "133:\tlearn: 1380.1644307\ttotal: 21.7s\tremaining: 2m 20s\n",
      "134:\tlearn: 1379.7912521\ttotal: 21.9s\tremaining: 2m 20s\n",
      "135:\tlearn: 1379.5906035\ttotal: 22.1s\tremaining: 2m 20s\n",
      "136:\tlearn: 1378.9931462\ttotal: 22.2s\tremaining: 2m 20s\n",
      "137:\tlearn: 1378.3243756\ttotal: 22.4s\tremaining: 2m 20s\n",
      "138:\tlearn: 1377.9689404\ttotal: 22.6s\tremaining: 2m 19s\n",
      "139:\tlearn: 1377.3011936\ttotal: 22.7s\tremaining: 2m 19s\n",
      "140:\tlearn: 1376.9666997\ttotal: 22.9s\tremaining: 2m 19s\n",
      "141:\tlearn: 1376.2572333\ttotal: 23.1s\tremaining: 2m 19s\n",
      "142:\tlearn: 1375.7989449\ttotal: 23.3s\tremaining: 2m 19s\n",
      "143:\tlearn: 1375.1466160\ttotal: 23.4s\tremaining: 2m 19s\n",
      "144:\tlearn: 1374.8492968\ttotal: 23.6s\tremaining: 2m 18s\n",
      "145:\tlearn: 1373.9156862\ttotal: 23.7s\tremaining: 2m 18s\n",
      "146:\tlearn: 1373.5247347\ttotal: 23.9s\tremaining: 2m 18s\n",
      "147:\tlearn: 1373.0665987\ttotal: 24.1s\tremaining: 2m 18s\n",
      "148:\tlearn: 1372.4273814\ttotal: 24.2s\tremaining: 2m 18s\n",
      "149:\tlearn: 1371.6508833\ttotal: 24.4s\tremaining: 2m 18s\n",
      "150:\tlearn: 1371.1051456\ttotal: 24.5s\tremaining: 2m 17s\n",
      "151:\tlearn: 1370.8715038\ttotal: 24.6s\tremaining: 2m 17s\n",
      "152:\tlearn: 1370.5573142\ttotal: 24.8s\tremaining: 2m 17s\n",
      "153:\tlearn: 1370.0457213\ttotal: 25s\tremaining: 2m 17s\n",
      "154:\tlearn: 1369.7187896\ttotal: 25.2s\tremaining: 2m 17s\n",
      "155:\tlearn: 1369.5632177\ttotal: 25.4s\tremaining: 2m 17s\n",
      "156:\tlearn: 1369.2275504\ttotal: 25.6s\tremaining: 2m 17s\n",
      "157:\tlearn: 1368.5302512\ttotal: 25.8s\tremaining: 2m 17s\n",
      "158:\tlearn: 1368.0680323\ttotal: 26s\tremaining: 2m 17s\n",
      "159:\tlearn: 1367.7320272\ttotal: 26.1s\tremaining: 2m 17s\n",
      "160:\tlearn: 1367.2406566\ttotal: 26.3s\tremaining: 2m 16s\n",
      "161:\tlearn: 1366.9964235\ttotal: 26.5s\tremaining: 2m 16s\n",
      "162:\tlearn: 1366.7195578\ttotal: 26.6s\tremaining: 2m 16s\n",
      "163:\tlearn: 1365.9492819\ttotal: 26.8s\tremaining: 2m 16s\n",
      "164:\tlearn: 1365.6332623\ttotal: 27s\tremaining: 2m 16s\n",
      "165:\tlearn: 1365.3670876\ttotal: 27.2s\tremaining: 2m 16s\n",
      "166:\tlearn: 1365.0168686\ttotal: 27.3s\tremaining: 2m 16s\n",
      "167:\tlearn: 1364.4198624\ttotal: 27.5s\tremaining: 2m 16s\n",
      "168:\tlearn: 1364.2377773\ttotal: 27.7s\tremaining: 2m 16s\n",
      "169:\tlearn: 1363.7381583\ttotal: 27.9s\tremaining: 2m 16s\n",
      "170:\tlearn: 1363.4404713\ttotal: 28.1s\tremaining: 2m 16s\n",
      "171:\tlearn: 1363.1620177\ttotal: 28.2s\tremaining: 2m 15s\n",
      "172:\tlearn: 1362.8636396\ttotal: 28.4s\tremaining: 2m 15s\n",
      "173:\tlearn: 1362.3747821\ttotal: 28.6s\tremaining: 2m 15s\n",
      "174:\tlearn: 1362.0324542\ttotal: 28.8s\tremaining: 2m 15s\n",
      "175:\tlearn: 1361.4748046\ttotal: 29s\tremaining: 2m 15s\n",
      "176:\tlearn: 1361.0976409\ttotal: 29.1s\tremaining: 2m 15s\n",
      "177:\tlearn: 1360.8816960\ttotal: 29.3s\tremaining: 2m 15s\n",
      "178:\tlearn: 1360.4970812\ttotal: 29.5s\tremaining: 2m 15s\n",
      "179:\tlearn: 1359.9216339\ttotal: 29.7s\tremaining: 2m 15s\n",
      "180:\tlearn: 1359.3842838\ttotal: 29.8s\tremaining: 2m 15s\n",
      "181:\tlearn: 1359.2424841\ttotal: 30s\tremaining: 2m 14s\n",
      "182:\tlearn: 1358.7084682\ttotal: 30.2s\tremaining: 2m 14s\n",
      "183:\tlearn: 1358.3820324\ttotal: 30.4s\tremaining: 2m 14s\n",
      "184:\tlearn: 1357.8705467\ttotal: 30.6s\tremaining: 2m 14s\n",
      "185:\tlearn: 1357.1646747\ttotal: 30.7s\tremaining: 2m 14s\n",
      "186:\tlearn: 1356.6417586\ttotal: 30.9s\tremaining: 2m 14s\n",
      "187:\tlearn: 1356.1153234\ttotal: 31s\tremaining: 2m 13s\n",
      "188:\tlearn: 1355.5735006\ttotal: 31.1s\tremaining: 2m 13s\n",
      "189:\tlearn: 1355.3573952\ttotal: 31.3s\tremaining: 2m 13s\n",
      "190:\tlearn: 1354.9894637\ttotal: 31.5s\tremaining: 2m 13s\n",
      "191:\tlearn: 1354.7099668\ttotal: 31.6s\tremaining: 2m 13s\n",
      "192:\tlearn: 1354.2379118\ttotal: 31.8s\tremaining: 2m 12s\n",
      "193:\tlearn: 1353.8721742\ttotal: 31.9s\tremaining: 2m 12s\n",
      "194:\tlearn: 1353.5809877\ttotal: 32.1s\tremaining: 2m 12s\n",
      "195:\tlearn: 1353.3850957\ttotal: 32.3s\tremaining: 2m 12s\n",
      "196:\tlearn: 1353.0951909\ttotal: 32.4s\tremaining: 2m 12s\n",
      "197:\tlearn: 1352.8570553\ttotal: 32.6s\tremaining: 2m 11s\n",
      "198:\tlearn: 1352.6510703\ttotal: 32.7s\tremaining: 2m 11s\n",
      "199:\tlearn: 1352.5087124\ttotal: 32.9s\tremaining: 2m 11s\n",
      "200:\tlearn: 1352.1973525\ttotal: 33s\tremaining: 2m 11s\n",
      "201:\tlearn: 1351.9179069\ttotal: 33.1s\tremaining: 2m 10s\n",
      "202:\tlearn: 1351.8359295\ttotal: 33.3s\tremaining: 2m 10s\n",
      "203:\tlearn: 1351.3990113\ttotal: 33.5s\tremaining: 2m 10s\n",
      "204:\tlearn: 1351.0115794\ttotal: 33.6s\tremaining: 2m 10s\n",
      "205:\tlearn: 1350.5989073\ttotal: 33.8s\tremaining: 2m 10s\n",
      "206:\tlearn: 1350.4849722\ttotal: 33.9s\tremaining: 2m 10s\n",
      "207:\tlearn: 1350.1556393\ttotal: 34.1s\tremaining: 2m 9s\n",
      "208:\tlearn: 1349.6753988\ttotal: 34.3s\tremaining: 2m 9s\n",
      "209:\tlearn: 1349.3986386\ttotal: 34.5s\tremaining: 2m 9s\n",
      "210:\tlearn: 1349.1938526\ttotal: 34.6s\tremaining: 2m 9s\n",
      "211:\tlearn: 1348.9486916\ttotal: 34.8s\tremaining: 2m 9s\n",
      "212:\tlearn: 1348.7890378\ttotal: 34.9s\tremaining: 2m 9s\n",
      "213:\tlearn: 1348.3567200\ttotal: 35.1s\tremaining: 2m 8s\n",
      "214:\tlearn: 1348.1510075\ttotal: 35.3s\tremaining: 2m 8s\n",
      "215:\tlearn: 1347.8302173\ttotal: 35.4s\tremaining: 2m 8s\n",
      "216:\tlearn: 1347.5515861\ttotal: 35.6s\tremaining: 2m 8s\n",
      "217:\tlearn: 1347.5060050\ttotal: 35.7s\tremaining: 2m 8s\n",
      "218:\tlearn: 1347.2527328\ttotal: 35.9s\tremaining: 2m 7s\n",
      "219:\tlearn: 1347.1320372\ttotal: 36s\tremaining: 2m 7s\n",
      "220:\tlearn: 1347.0675721\ttotal: 36.2s\tremaining: 2m 7s\n",
      "221:\tlearn: 1346.7319465\ttotal: 36.3s\tremaining: 2m 7s\n",
      "222:\tlearn: 1346.4516136\ttotal: 36.5s\tremaining: 2m 7s\n",
      "223:\tlearn: 1346.1697444\ttotal: 36.6s\tremaining: 2m 6s\n",
      "224:\tlearn: 1345.8264747\ttotal: 36.8s\tremaining: 2m 6s\n",
      "225:\tlearn: 1345.4498246\ttotal: 36.9s\tremaining: 2m 6s\n",
      "226:\tlearn: 1345.2353238\ttotal: 37.1s\tremaining: 2m 6s\n",
      "227:\tlearn: 1345.0902559\ttotal: 37.3s\tremaining: 2m 6s\n",
      "228:\tlearn: 1344.5909215\ttotal: 37.4s\tremaining: 2m 5s\n",
      "229:\tlearn: 1344.1840035\ttotal: 37.6s\tremaining: 2m 5s\n",
      "230:\tlearn: 1344.0100403\ttotal: 37.8s\tremaining: 2m 5s\n",
      "231:\tlearn: 1343.8029471\ttotal: 37.9s\tremaining: 2m 5s\n",
      "232:\tlearn: 1343.6437621\ttotal: 38.1s\tremaining: 2m 5s\n",
      "233:\tlearn: 1343.4192705\ttotal: 38.2s\tremaining: 2m 5s\n",
      "234:\tlearn: 1343.2414592\ttotal: 38.4s\tremaining: 2m 4s\n",
      "235:\tlearn: 1343.1238164\ttotal: 38.6s\tremaining: 2m 4s\n",
      "236:\tlearn: 1343.0204452\ttotal: 38.7s\tremaining: 2m 4s\n",
      "237:\tlearn: 1342.7655194\ttotal: 38.9s\tremaining: 2m 4s\n",
      "238:\tlearn: 1342.4926987\ttotal: 39.1s\tremaining: 2m 4s\n",
      "239:\tlearn: 1342.0499852\ttotal: 39.2s\tremaining: 2m 4s\n",
      "240:\tlearn: 1341.9325578\ttotal: 39.4s\tremaining: 2m 3s\n",
      "241:\tlearn: 1341.7115431\ttotal: 39.5s\tremaining: 2m 3s\n",
      "242:\tlearn: 1341.6352183\ttotal: 39.7s\tremaining: 2m 3s\n",
      "243:\tlearn: 1341.4608653\ttotal: 39.8s\tremaining: 2m 3s\n",
      "244:\tlearn: 1341.1956183\ttotal: 40s\tremaining: 2m 3s\n",
      "245:\tlearn: 1341.0194292\ttotal: 40.2s\tremaining: 2m 3s\n",
      "246:\tlearn: 1340.7677208\ttotal: 40.3s\tremaining: 2m 3s\n",
      "247:\tlearn: 1340.6010212\ttotal: 40.5s\tremaining: 2m 2s\n",
      "248:\tlearn: 1340.3059883\ttotal: 40.7s\tremaining: 2m 2s\n",
      "249:\tlearn: 1340.2346470\ttotal: 40.9s\tremaining: 2m 2s\n",
      "250:\tlearn: 1340.0638167\ttotal: 41s\tremaining: 2m 2s\n",
      "251:\tlearn: 1339.9038165\ttotal: 41.2s\tremaining: 2m 2s\n",
      "252:\tlearn: 1339.6701927\ttotal: 41.4s\tremaining: 2m 2s\n",
      "253:\tlearn: 1339.5541980\ttotal: 41.5s\tremaining: 2m 1s\n",
      "254:\tlearn: 1339.3589749\ttotal: 41.7s\tremaining: 2m 1s\n",
      "255:\tlearn: 1339.3170365\ttotal: 41.9s\tremaining: 2m 1s\n",
      "256:\tlearn: 1339.1934975\ttotal: 42.1s\tremaining: 2m 1s\n",
      "257:\tlearn: 1338.7539065\ttotal: 42.2s\tremaining: 2m 1s\n",
      "258:\tlearn: 1338.6290617\ttotal: 42.4s\tremaining: 2m 1s\n",
      "259:\tlearn: 1338.4601176\ttotal: 42.5s\tremaining: 2m\n",
      "260:\tlearn: 1338.3365008\ttotal: 42.6s\tremaining: 2m\n",
      "261:\tlearn: 1338.1354962\ttotal: 42.7s\tremaining: 2m\n",
      "262:\tlearn: 1337.9821322\ttotal: 42.9s\tremaining: 2m\n",
      "263:\tlearn: 1337.7616250\ttotal: 43.1s\tremaining: 2m\n",
      "264:\tlearn: 1337.4098326\ttotal: 43.2s\tremaining: 1m 59s\n",
      "265:\tlearn: 1337.2475243\ttotal: 43.4s\tremaining: 1m 59s\n",
      "266:\tlearn: 1337.1083552\ttotal: 43.5s\tremaining: 1m 59s\n",
      "267:\tlearn: 1336.8412841\ttotal: 43.7s\tremaining: 1m 59s\n",
      "268:\tlearn: 1336.7528588\ttotal: 43.9s\tremaining: 1m 59s\n",
      "269:\tlearn: 1336.5062226\ttotal: 44s\tremaining: 1m 59s\n",
      "270:\tlearn: 1336.1681041\ttotal: 44.2s\tremaining: 1m 58s\n",
      "271:\tlearn: 1335.9848272\ttotal: 44.4s\tremaining: 1m 58s\n",
      "272:\tlearn: 1335.8386574\ttotal: 44.6s\tremaining: 1m 58s\n",
      "273:\tlearn: 1335.8094474\ttotal: 44.7s\tremaining: 1m 58s\n",
      "274:\tlearn: 1335.6765505\ttotal: 44.9s\tremaining: 1m 58s\n",
      "275:\tlearn: 1335.5857877\ttotal: 45.1s\tremaining: 1m 58s\n",
      "276:\tlearn: 1335.4035266\ttotal: 45.3s\tremaining: 1m 58s\n",
      "277:\tlearn: 1335.3193392\ttotal: 45.5s\tremaining: 1m 58s\n",
      "278:\tlearn: 1335.1080038\ttotal: 45.7s\tremaining: 1m 57s\n",
      "279:\tlearn: 1335.0322832\ttotal: 45.8s\tremaining: 1m 57s\n",
      "280:\tlearn: 1334.9383269\ttotal: 46s\tremaining: 1m 57s\n",
      "281:\tlearn: 1334.7986588\ttotal: 46.2s\tremaining: 1m 57s\n",
      "282:\tlearn: 1334.7737395\ttotal: 46.3s\tremaining: 1m 57s\n",
      "283:\tlearn: 1334.6207969\ttotal: 46.5s\tremaining: 1m 57s\n",
      "284:\tlearn: 1334.5623780\ttotal: 46.7s\tremaining: 1m 57s\n",
      "285:\tlearn: 1334.2749373\ttotal: 46.9s\tremaining: 1m 57s\n",
      "286:\tlearn: 1333.9868275\ttotal: 47.1s\tremaining: 1m 57s\n",
      "287:\tlearn: 1333.8779795\ttotal: 47.3s\tremaining: 1m 56s\n",
      "288:\tlearn: 1333.7785885\ttotal: 47.5s\tremaining: 1m 56s\n",
      "289:\tlearn: 1333.5812066\ttotal: 47.6s\tremaining: 1m 56s\n",
      "290:\tlearn: 1333.5474293\ttotal: 47.8s\tremaining: 1m 56s\n",
      "291:\tlearn: 1333.5207293\ttotal: 47.8s\tremaining: 1m 55s\n",
      "292:\tlearn: 1333.4852415\ttotal: 48s\tremaining: 1m 55s\n",
      "293:\tlearn: 1333.2401545\ttotal: 48.1s\tremaining: 1m 55s\n",
      "294:\tlearn: 1332.9421792\ttotal: 48.3s\tremaining: 1m 55s\n",
      "295:\tlearn: 1332.6361351\ttotal: 48.5s\tremaining: 1m 55s\n",
      "296:\tlearn: 1332.3465423\ttotal: 48.7s\tremaining: 1m 55s\n",
      "297:\tlearn: 1332.1308779\ttotal: 48.8s\tremaining: 1m 55s\n",
      "298:\tlearn: 1331.9915780\ttotal: 49s\tremaining: 1m 54s\n",
      "299:\tlearn: 1331.7308805\ttotal: 49.2s\tremaining: 1m 54s\n",
      "300:\tlearn: 1331.6771851\ttotal: 49.4s\tremaining: 1m 54s\n",
      "301:\tlearn: 1331.5077122\ttotal: 49.6s\tremaining: 1m 54s\n",
      "302:\tlearn: 1331.3643718\ttotal: 49.7s\tremaining: 1m 54s\n",
      "303:\tlearn: 1331.1734712\ttotal: 49.9s\tremaining: 1m 54s\n",
      "304:\tlearn: 1330.8956514\ttotal: 50.1s\tremaining: 1m 54s\n",
      "305:\tlearn: 1330.6782680\ttotal: 50.2s\tremaining: 1m 53s\n",
      "306:\tlearn: 1330.5815959\ttotal: 50.3s\tremaining: 1m 53s\n",
      "307:\tlearn: 1330.5514052\ttotal: 50.4s\tremaining: 1m 53s\n",
      "308:\tlearn: 1330.4792573\ttotal: 50.6s\tremaining: 1m 53s\n",
      "309:\tlearn: 1330.1324747\ttotal: 50.8s\tremaining: 1m 53s\n",
      "310:\tlearn: 1330.0929017\ttotal: 51s\tremaining: 1m 52s\n",
      "311:\tlearn: 1329.9642298\ttotal: 51.2s\tremaining: 1m 52s\n",
      "312:\tlearn: 1329.8776987\ttotal: 51.4s\tremaining: 1m 52s\n",
      "313:\tlearn: 1329.6867457\ttotal: 51.5s\tremaining: 1m 52s\n",
      "314:\tlearn: 1329.4931182\ttotal: 51.7s\tremaining: 1m 52s\n",
      "315:\tlearn: 1329.2662587\ttotal: 51.8s\tremaining: 1m 52s\n",
      "316:\tlearn: 1329.0096287\ttotal: 52s\tremaining: 1m 52s\n",
      "317:\tlearn: 1328.8896811\ttotal: 52.2s\tremaining: 1m 51s\n",
      "318:\tlearn: 1328.7348559\ttotal: 52.4s\tremaining: 1m 51s\n",
      "319:\tlearn: 1328.5014352\ttotal: 52.5s\tremaining: 1m 51s\n",
      "320:\tlearn: 1328.1685142\ttotal: 52.7s\tremaining: 1m 51s\n",
      "321:\tlearn: 1328.0537467\ttotal: 52.8s\tremaining: 1m 51s\n",
      "322:\tlearn: 1327.7991897\ttotal: 52.9s\tremaining: 1m 50s\n",
      "323:\tlearn: 1327.6698144\ttotal: 53.1s\tremaining: 1m 50s\n",
      "324:\tlearn: 1327.4283816\ttotal: 53.3s\tremaining: 1m 50s\n",
      "325:\tlearn: 1327.2091301\ttotal: 53.4s\tremaining: 1m 50s\n",
      "326:\tlearn: 1327.2066905\ttotal: 53.6s\tremaining: 1m 50s\n",
      "327:\tlearn: 1327.0188161\ttotal: 53.7s\tremaining: 1m 50s\n",
      "328:\tlearn: 1326.8124157\ttotal: 53.9s\tremaining: 1m 49s\n",
      "329:\tlearn: 1326.7086113\ttotal: 54.1s\tremaining: 1m 49s\n",
      "330:\tlearn: 1326.5890276\ttotal: 54.3s\tremaining: 1m 49s\n",
      "331:\tlearn: 1326.4945552\ttotal: 54.4s\tremaining: 1m 49s\n",
      "332:\tlearn: 1326.2739702\ttotal: 54.6s\tremaining: 1m 49s\n",
      "333:\tlearn: 1326.0730877\ttotal: 54.7s\tremaining: 1m 49s\n",
      "334:\tlearn: 1325.8728333\ttotal: 54.9s\tremaining: 1m 48s\n",
      "335:\tlearn: 1325.6482799\ttotal: 55.1s\tremaining: 1m 48s\n",
      "336:\tlearn: 1325.4264554\ttotal: 55.2s\tremaining: 1m 48s\n",
      "337:\tlearn: 1325.3988251\ttotal: 55.3s\tremaining: 1m 48s\n",
      "338:\tlearn: 1325.1707014\ttotal: 55.5s\tremaining: 1m 48s\n",
      "339:\tlearn: 1325.1123983\ttotal: 55.6s\tremaining: 1m 47s\n",
      "340:\tlearn: 1324.9476575\ttotal: 55.7s\tremaining: 1m 47s\n",
      "341:\tlearn: 1324.7990646\ttotal: 55.9s\tremaining: 1m 47s\n",
      "342:\tlearn: 1324.5268580\ttotal: 56s\tremaining: 1m 47s\n",
      "343:\tlearn: 1324.2985547\ttotal: 56.1s\tremaining: 1m 47s\n",
      "344:\tlearn: 1324.0861053\ttotal: 56.3s\tremaining: 1m 46s\n",
      "345:\tlearn: 1323.8761311\ttotal: 56.4s\tremaining: 1m 46s\n",
      "346:\tlearn: 1323.7616099\ttotal: 56.6s\tremaining: 1m 46s\n",
      "347:\tlearn: 1323.5725152\ttotal: 56.7s\tremaining: 1m 46s\n",
      "348:\tlearn: 1323.4214190\ttotal: 56.9s\tremaining: 1m 46s\n",
      "349:\tlearn: 1323.3604459\ttotal: 57.1s\tremaining: 1m 46s\n",
      "350:\tlearn: 1323.1994493\ttotal: 57.2s\tremaining: 1m 45s\n",
      "351:\tlearn: 1323.0311721\ttotal: 57.3s\tremaining: 1m 45s\n",
      "352:\tlearn: 1322.8110296\ttotal: 57.5s\tremaining: 1m 45s\n",
      "353:\tlearn: 1322.6583534\ttotal: 57.6s\tremaining: 1m 45s\n",
      "354:\tlearn: 1322.5371142\ttotal: 57.8s\tremaining: 1m 45s\n",
      "355:\tlearn: 1322.3886703\ttotal: 58s\tremaining: 1m 44s\n",
      "356:\tlearn: 1322.3220971\ttotal: 58.1s\tremaining: 1m 44s\n",
      "357:\tlearn: 1322.2607839\ttotal: 58.2s\tremaining: 1m 44s\n",
      "358:\tlearn: 1321.9494851\ttotal: 58.4s\tremaining: 1m 44s\n",
      "359:\tlearn: 1321.8091688\ttotal: 58.5s\tremaining: 1m 44s\n",
      "360:\tlearn: 1321.6377008\ttotal: 58.7s\tremaining: 1m 43s\n",
      "361:\tlearn: 1321.4842609\ttotal: 58.8s\tremaining: 1m 43s\n",
      "362:\tlearn: 1321.2518148\ttotal: 59s\tremaining: 1m 43s\n",
      "363:\tlearn: 1321.0311023\ttotal: 59.2s\tremaining: 1m 43s\n",
      "364:\tlearn: 1320.7792303\ttotal: 59.3s\tremaining: 1m 43s\n",
      "365:\tlearn: 1320.6668391\ttotal: 59.4s\tremaining: 1m 42s\n",
      "366:\tlearn: 1320.5998755\ttotal: 59.6s\tremaining: 1m 42s\n",
      "367:\tlearn: 1320.5090476\ttotal: 59.8s\tremaining: 1m 42s\n",
      "368:\tlearn: 1320.2107690\ttotal: 60s\tremaining: 1m 42s\n",
      "369:\tlearn: 1320.1687503\ttotal: 1m\tremaining: 1m 42s\n",
      "370:\tlearn: 1320.0665254\ttotal: 1m\tremaining: 1m 42s\n",
      "371:\tlearn: 1319.8501605\ttotal: 1m\tremaining: 1m 42s\n",
      "372:\tlearn: 1319.7284630\ttotal: 1m\tremaining: 1m 41s\n",
      "373:\tlearn: 1319.6866985\ttotal: 1m\tremaining: 1m 41s\n",
      "374:\tlearn: 1319.6534391\ttotal: 1m 1s\tremaining: 1m 41s\n",
      "375:\tlearn: 1319.6166607\ttotal: 1m 1s\tremaining: 1m 41s\n",
      "376:\tlearn: 1319.5620961\ttotal: 1m 1s\tremaining: 1m 41s\n",
      "377:\tlearn: 1319.4487666\ttotal: 1m 1s\tremaining: 1m 41s\n",
      "378:\tlearn: 1319.3161059\ttotal: 1m 1s\tremaining: 1m 41s\n",
      "379:\tlearn: 1319.1737513\ttotal: 1m 1s\tremaining: 1m 41s\n",
      "380:\tlearn: 1319.0432697\ttotal: 1m 2s\tremaining: 1m 40s\n",
      "381:\tlearn: 1318.8594131\ttotal: 1m 2s\tremaining: 1m 40s\n",
      "382:\tlearn: 1318.6881450\ttotal: 1m 2s\tremaining: 1m 40s\n",
      "383:\tlearn: 1318.5421275\ttotal: 1m 2s\tremaining: 1m 40s\n",
      "384:\tlearn: 1318.3517629\ttotal: 1m 2s\tremaining: 1m 40s\n",
      "385:\tlearn: 1318.2447351\ttotal: 1m 2s\tremaining: 1m 40s\n",
      "386:\tlearn: 1318.0874527\ttotal: 1m 3s\tremaining: 1m 39s\n",
      "387:\tlearn: 1317.8786083\ttotal: 1m 3s\tremaining: 1m 39s\n",
      "388:\tlearn: 1317.8005575\ttotal: 1m 3s\tremaining: 1m 39s\n",
      "389:\tlearn: 1317.7052276\ttotal: 1m 3s\tremaining: 1m 39s\n",
      "390:\tlearn: 1317.4180195\ttotal: 1m 3s\tremaining: 1m 39s\n",
      "391:\tlearn: 1317.1813349\ttotal: 1m 3s\tremaining: 1m 39s\n",
      "392:\tlearn: 1317.0632550\ttotal: 1m 4s\tremaining: 1m 39s\n",
      "393:\tlearn: 1317.0339099\ttotal: 1m 4s\tremaining: 1m 38s\n",
      "394:\tlearn: 1316.8950943\ttotal: 1m 4s\tremaining: 1m 38s\n",
      "395:\tlearn: 1316.8536891\ttotal: 1m 4s\tremaining: 1m 38s\n",
      "396:\tlearn: 1316.6086371\ttotal: 1m 4s\tremaining: 1m 38s\n",
      "397:\tlearn: 1316.4992882\ttotal: 1m 4s\tremaining: 1m 38s\n",
      "398:\tlearn: 1316.2647452\ttotal: 1m 5s\tremaining: 1m 38s\n",
      "399:\tlearn: 1316.0340123\ttotal: 1m 5s\tremaining: 1m 37s\n",
      "400:\tlearn: 1315.7817049\ttotal: 1m 5s\tremaining: 1m 37s\n",
      "401:\tlearn: 1315.5982217\ttotal: 1m 5s\tremaining: 1m 37s\n",
      "402:\tlearn: 1315.4401180\ttotal: 1m 5s\tremaining: 1m 37s\n",
      "403:\tlearn: 1315.2745814\ttotal: 1m 5s\tremaining: 1m 37s\n",
      "404:\tlearn: 1315.1583541\ttotal: 1m 6s\tremaining: 1m 37s\n",
      "405:\tlearn: 1314.9871816\ttotal: 1m 6s\tremaining: 1m 36s\n",
      "406:\tlearn: 1314.8378119\ttotal: 1m 6s\tremaining: 1m 36s\n",
      "407:\tlearn: 1314.8116374\ttotal: 1m 6s\tremaining: 1m 36s\n",
      "408:\tlearn: 1314.6109504\ttotal: 1m 6s\tremaining: 1m 36s\n",
      "409:\tlearn: 1314.5236759\ttotal: 1m 6s\tremaining: 1m 36s\n",
      "410:\tlearn: 1314.3848840\ttotal: 1m 6s\tremaining: 1m 35s\n",
      "411:\tlearn: 1314.2714173\ttotal: 1m 7s\tremaining: 1m 35s\n",
      "412:\tlearn: 1314.1316972\ttotal: 1m 7s\tremaining: 1m 35s\n",
      "413:\tlearn: 1313.9528951\ttotal: 1m 7s\tremaining: 1m 35s\n",
      "414:\tlearn: 1313.8610894\ttotal: 1m 7s\tremaining: 1m 35s\n",
      "415:\tlearn: 1313.7954336\ttotal: 1m 7s\tremaining: 1m 35s\n",
      "416:\tlearn: 1313.6171462\ttotal: 1m 7s\tremaining: 1m 34s\n",
      "417:\tlearn: 1313.5528791\ttotal: 1m 8s\tremaining: 1m 34s\n",
      "418:\tlearn: 1313.5319607\ttotal: 1m 8s\tremaining: 1m 34s\n",
      "419:\tlearn: 1313.4685734\ttotal: 1m 8s\tremaining: 1m 34s\n",
      "420:\tlearn: 1313.2841226\ttotal: 1m 8s\tremaining: 1m 34s\n",
      "421:\tlearn: 1313.0850397\ttotal: 1m 8s\tremaining: 1m 34s\n",
      "422:\tlearn: 1312.9797843\ttotal: 1m 8s\tremaining: 1m 33s\n",
      "423:\tlearn: 1312.8606452\ttotal: 1m 9s\tremaining: 1m 33s\n",
      "424:\tlearn: 1312.6979187\ttotal: 1m 9s\tremaining: 1m 33s\n",
      "425:\tlearn: 1312.6730772\ttotal: 1m 9s\tremaining: 1m 33s\n",
      "426:\tlearn: 1312.5429114\ttotal: 1m 9s\tremaining: 1m 33s\n",
      "427:\tlearn: 1312.2261285\ttotal: 1m 9s\tremaining: 1m 33s\n",
      "428:\tlearn: 1311.9078565\ttotal: 1m 9s\tremaining: 1m 33s\n",
      "429:\tlearn: 1311.7655801\ttotal: 1m 10s\tremaining: 1m 32s\n",
      "430:\tlearn: 1311.5668436\ttotal: 1m 10s\tremaining: 1m 32s\n",
      "431:\tlearn: 1311.4509477\ttotal: 1m 10s\tremaining: 1m 32s\n",
      "432:\tlearn: 1311.3480536\ttotal: 1m 10s\tremaining: 1m 32s\n",
      "433:\tlearn: 1311.3087217\ttotal: 1m 10s\tremaining: 1m 32s\n",
      "434:\tlearn: 1311.2647475\ttotal: 1m 10s\tremaining: 1m 32s\n",
      "435:\tlearn: 1311.2168976\ttotal: 1m 11s\tremaining: 1m 31s\n",
      "436:\tlearn: 1311.1174828\ttotal: 1m 11s\tremaining: 1m 31s\n",
      "437:\tlearn: 1311.0542931\ttotal: 1m 11s\tremaining: 1m 31s\n",
      "438:\tlearn: 1310.8320361\ttotal: 1m 11s\tremaining: 1m 31s\n",
      "439:\tlearn: 1310.7630837\ttotal: 1m 11s\tremaining: 1m 31s\n",
      "440:\tlearn: 1310.6463757\ttotal: 1m 11s\tremaining: 1m 31s\n",
      "441:\tlearn: 1310.5823349\ttotal: 1m 11s\tremaining: 1m 30s\n",
      "442:\tlearn: 1310.3932896\ttotal: 1m 12s\tremaining: 1m 30s\n",
      "443:\tlearn: 1310.3331104\ttotal: 1m 12s\tremaining: 1m 30s\n",
      "444:\tlearn: 1310.3061085\ttotal: 1m 12s\tremaining: 1m 30s\n",
      "445:\tlearn: 1310.1119771\ttotal: 1m 12s\tremaining: 1m 30s\n",
      "446:\tlearn: 1310.0531403\ttotal: 1m 12s\tremaining: 1m 30s\n",
      "447:\tlearn: 1309.9009725\ttotal: 1m 13s\tremaining: 1m 29s\n",
      "448:\tlearn: 1309.7980170\ttotal: 1m 13s\tremaining: 1m 29s\n",
      "449:\tlearn: 1309.6605257\ttotal: 1m 13s\tremaining: 1m 29s\n",
      "450:\tlearn: 1309.6028936\ttotal: 1m 13s\tremaining: 1m 29s\n",
      "451:\tlearn: 1309.4554594\ttotal: 1m 13s\tremaining: 1m 29s\n",
      "452:\tlearn: 1309.3443536\ttotal: 1m 13s\tremaining: 1m 29s\n",
      "453:\tlearn: 1309.2690386\ttotal: 1m 14s\tremaining: 1m 29s\n",
      "454:\tlearn: 1309.2363059\ttotal: 1m 14s\tremaining: 1m 28s\n",
      "455:\tlearn: 1309.1718830\ttotal: 1m 14s\tremaining: 1m 28s\n",
      "456:\tlearn: 1309.0237875\ttotal: 1m 14s\tremaining: 1m 28s\n",
      "457:\tlearn: 1308.7658722\ttotal: 1m 14s\tremaining: 1m 28s\n",
      "458:\tlearn: 1308.5906067\ttotal: 1m 14s\tremaining: 1m 28s\n",
      "459:\tlearn: 1308.3727001\ttotal: 1m 15s\tremaining: 1m 28s\n",
      "460:\tlearn: 1308.2769512\ttotal: 1m 15s\tremaining: 1m 28s\n",
      "461:\tlearn: 1308.2359000\ttotal: 1m 15s\tremaining: 1m 27s\n",
      "462:\tlearn: 1308.1732979\ttotal: 1m 15s\tremaining: 1m 27s\n",
      "463:\tlearn: 1308.1101748\ttotal: 1m 15s\tremaining: 1m 27s\n",
      "464:\tlearn: 1307.9878213\ttotal: 1m 16s\tremaining: 1m 27s\n",
      "465:\tlearn: 1307.8401696\ttotal: 1m 16s\tremaining: 1m 27s\n",
      "466:\tlearn: 1307.8239690\ttotal: 1m 16s\tremaining: 1m 27s\n",
      "467:\tlearn: 1307.6476354\ttotal: 1m 16s\tremaining: 1m 27s\n",
      "468:\tlearn: 1307.5960755\ttotal: 1m 16s\tremaining: 1m 26s\n",
      "469:\tlearn: 1307.4672751\ttotal: 1m 16s\tremaining: 1m 26s\n",
      "470:\tlearn: 1307.3516836\ttotal: 1m 17s\tremaining: 1m 26s\n",
      "471:\tlearn: 1307.2838232\ttotal: 1m 17s\tremaining: 1m 26s\n",
      "472:\tlearn: 1307.2132826\ttotal: 1m 17s\tremaining: 1m 26s\n",
      "473:\tlearn: 1307.1948910\ttotal: 1m 17s\tremaining: 1m 26s\n",
      "474:\tlearn: 1306.9951711\ttotal: 1m 17s\tremaining: 1m 26s\n",
      "475:\tlearn: 1306.8660058\ttotal: 1m 17s\tremaining: 1m 25s\n",
      "476:\tlearn: 1306.8158936\ttotal: 1m 18s\tremaining: 1m 25s\n",
      "477:\tlearn: 1306.6502824\ttotal: 1m 18s\tremaining: 1m 25s\n",
      "478:\tlearn: 1306.6342677\ttotal: 1m 18s\tremaining: 1m 25s\n",
      "479:\tlearn: 1306.6106717\ttotal: 1m 18s\tremaining: 1m 25s\n",
      "480:\tlearn: 1306.5556111\ttotal: 1m 18s\tremaining: 1m 25s\n",
      "481:\tlearn: 1306.3251377\ttotal: 1m 18s\tremaining: 1m 24s\n",
      "482:\tlearn: 1306.1605503\ttotal: 1m 19s\tremaining: 1m 24s\n",
      "483:\tlearn: 1306.1331564\ttotal: 1m 19s\tremaining: 1m 24s\n",
      "484:\tlearn: 1305.9320100\ttotal: 1m 19s\tremaining: 1m 24s\n",
      "485:\tlearn: 1305.7209139\ttotal: 1m 19s\tremaining: 1m 24s\n",
      "486:\tlearn: 1305.6396462\ttotal: 1m 19s\tremaining: 1m 23s\n",
      "487:\tlearn: 1305.5097203\ttotal: 1m 19s\tremaining: 1m 23s\n",
      "488:\tlearn: 1305.4189409\ttotal: 1m 20s\tremaining: 1m 23s\n",
      "489:\tlearn: 1305.3746019\ttotal: 1m 20s\tremaining: 1m 23s\n",
      "490:\tlearn: 1305.1554639\ttotal: 1m 20s\tremaining: 1m 23s\n",
      "491:\tlearn: 1305.0872700\ttotal: 1m 20s\tremaining: 1m 23s\n",
      "492:\tlearn: 1304.8067599\ttotal: 1m 20s\tremaining: 1m 23s\n",
      "493:\tlearn: 1304.6940177\ttotal: 1m 20s\tremaining: 1m 22s\n",
      "494:\tlearn: 1304.4934765\ttotal: 1m 21s\tremaining: 1m 22s\n",
      "495:\tlearn: 1304.3802057\ttotal: 1m 21s\tremaining: 1m 22s\n",
      "496:\tlearn: 1304.2952500\ttotal: 1m 21s\tremaining: 1m 22s\n",
      "497:\tlearn: 1304.2233371\ttotal: 1m 21s\tremaining: 1m 22s\n",
      "498:\tlearn: 1304.1570216\ttotal: 1m 21s\tremaining: 1m 22s\n",
      "499:\tlearn: 1303.8872982\ttotal: 1m 21s\tremaining: 1m 21s\n",
      "500:\tlearn: 1303.6903020\ttotal: 1m 22s\tremaining: 1m 21s\n",
      "501:\tlearn: 1303.5652122\ttotal: 1m 22s\tremaining: 1m 21s\n",
      "502:\tlearn: 1303.4150660\ttotal: 1m 22s\tremaining: 1m 21s\n",
      "503:\tlearn: 1303.3204856\ttotal: 1m 22s\tremaining: 1m 21s\n",
      "504:\tlearn: 1303.2965825\ttotal: 1m 22s\tremaining: 1m 21s\n",
      "505:\tlearn: 1303.2130681\ttotal: 1m 22s\tremaining: 1m 20s\n",
      "506:\tlearn: 1302.9852966\ttotal: 1m 23s\tremaining: 1m 20s\n",
      "507:\tlearn: 1302.8605698\ttotal: 1m 23s\tremaining: 1m 20s\n",
      "508:\tlearn: 1302.8181025\ttotal: 1m 23s\tremaining: 1m 20s\n",
      "509:\tlearn: 1302.7461706\ttotal: 1m 23s\tremaining: 1m 20s\n",
      "510:\tlearn: 1302.5041833\ttotal: 1m 23s\tremaining: 1m 20s\n",
      "511:\tlearn: 1302.3950045\ttotal: 1m 23s\tremaining: 1m 19s\n",
      "512:\tlearn: 1302.3524753\ttotal: 1m 24s\tremaining: 1m 19s\n",
      "513:\tlearn: 1302.2612474\ttotal: 1m 24s\tremaining: 1m 19s\n",
      "514:\tlearn: 1302.1150546\ttotal: 1m 24s\tremaining: 1m 19s\n",
      "515:\tlearn: 1301.9434492\ttotal: 1m 24s\tremaining: 1m 19s\n",
      "516:\tlearn: 1301.9029921\ttotal: 1m 24s\tremaining: 1m 19s\n",
      "517:\tlearn: 1301.8253184\ttotal: 1m 24s\tremaining: 1m 18s\n",
      "518:\tlearn: 1301.5116647\ttotal: 1m 24s\tremaining: 1m 18s\n",
      "519:\tlearn: 1301.3728230\ttotal: 1m 25s\tremaining: 1m 18s\n",
      "520:\tlearn: 1301.0901304\ttotal: 1m 25s\tremaining: 1m 18s\n",
      "521:\tlearn: 1300.9092105\ttotal: 1m 25s\tremaining: 1m 18s\n",
      "522:\tlearn: 1300.8885666\ttotal: 1m 25s\tremaining: 1m 18s\n",
      "523:\tlearn: 1300.7970508\ttotal: 1m 25s\tremaining: 1m 17s\n",
      "524:\tlearn: 1300.7067623\ttotal: 1m 25s\tremaining: 1m 17s\n",
      "525:\tlearn: 1300.6612266\ttotal: 1m 26s\tremaining: 1m 17s\n",
      "526:\tlearn: 1300.6044697\ttotal: 1m 26s\tremaining: 1m 17s\n",
      "527:\tlearn: 1300.5520630\ttotal: 1m 26s\tremaining: 1m 17s\n",
      "528:\tlearn: 1300.4117279\ttotal: 1m 26s\tremaining: 1m 17s\n",
      "529:\tlearn: 1300.3570741\ttotal: 1m 26s\tremaining: 1m 16s\n",
      "530:\tlearn: 1300.3054445\ttotal: 1m 26s\tremaining: 1m 16s\n",
      "531:\tlearn: 1300.2459294\ttotal: 1m 27s\tremaining: 1m 16s\n",
      "532:\tlearn: 1300.2187825\ttotal: 1m 27s\tremaining: 1m 16s\n",
      "533:\tlearn: 1300.1956057\ttotal: 1m 27s\tremaining: 1m 16s\n",
      "534:\tlearn: 1300.1197483\ttotal: 1m 27s\tremaining: 1m 16s\n",
      "535:\tlearn: 1300.0398440\ttotal: 1m 27s\tremaining: 1m 15s\n",
      "536:\tlearn: 1300.0241855\ttotal: 1m 27s\tremaining: 1m 15s\n",
      "537:\tlearn: 1299.8419092\ttotal: 1m 27s\tremaining: 1m 15s\n",
      "538:\tlearn: 1299.7500571\ttotal: 1m 28s\tremaining: 1m 15s\n",
      "539:\tlearn: 1299.6696507\ttotal: 1m 28s\tremaining: 1m 15s\n",
      "540:\tlearn: 1299.4215802\ttotal: 1m 28s\tremaining: 1m 15s\n",
      "541:\tlearn: 1299.3801174\ttotal: 1m 28s\tremaining: 1m 14s\n",
      "542:\tlearn: 1299.3671768\ttotal: 1m 28s\tremaining: 1m 14s\n",
      "543:\tlearn: 1299.2321728\ttotal: 1m 28s\tremaining: 1m 14s\n",
      "544:\tlearn: 1299.1029304\ttotal: 1m 29s\tremaining: 1m 14s\n",
      "545:\tlearn: 1298.9052436\ttotal: 1m 29s\tremaining: 1m 14s\n",
      "546:\tlearn: 1298.8160583\ttotal: 1m 29s\tremaining: 1m 14s\n",
      "547:\tlearn: 1298.7316346\ttotal: 1m 29s\tremaining: 1m 13s\n",
      "548:\tlearn: 1298.7155591\ttotal: 1m 29s\tremaining: 1m 13s\n",
      "549:\tlearn: 1298.6277948\ttotal: 1m 29s\tremaining: 1m 13s\n",
      "550:\tlearn: 1298.5610997\ttotal: 1m 30s\tremaining: 1m 13s\n",
      "551:\tlearn: 1298.5301751\ttotal: 1m 30s\tremaining: 1m 13s\n",
      "552:\tlearn: 1298.4098913\ttotal: 1m 30s\tremaining: 1m 13s\n",
      "553:\tlearn: 1298.3712525\ttotal: 1m 30s\tremaining: 1m 12s\n",
      "554:\tlearn: 1298.1497729\ttotal: 1m 30s\tremaining: 1m 12s\n",
      "555:\tlearn: 1298.0929835\ttotal: 1m 30s\tremaining: 1m 12s\n",
      "556:\tlearn: 1297.9757509\ttotal: 1m 31s\tremaining: 1m 12s\n",
      "557:\tlearn: 1297.7845960\ttotal: 1m 31s\tremaining: 1m 12s\n",
      "558:\tlearn: 1297.7100812\ttotal: 1m 31s\tremaining: 1m 12s\n",
      "559:\tlearn: 1297.6415290\ttotal: 1m 31s\tremaining: 1m 12s\n",
      "560:\tlearn: 1297.5829646\ttotal: 1m 31s\tremaining: 1m 11s\n",
      "561:\tlearn: 1297.3783586\ttotal: 1m 32s\tremaining: 1m 11s\n",
      "562:\tlearn: 1297.2552520\ttotal: 1m 32s\tremaining: 1m 11s\n",
      "563:\tlearn: 1297.1912406\ttotal: 1m 32s\tremaining: 1m 11s\n",
      "564:\tlearn: 1297.0797224\ttotal: 1m 32s\tremaining: 1m 11s\n",
      "565:\tlearn: 1296.9867476\ttotal: 1m 32s\tremaining: 1m 11s\n",
      "566:\tlearn: 1296.8902042\ttotal: 1m 32s\tremaining: 1m 10s\n",
      "567:\tlearn: 1296.7785691\ttotal: 1m 33s\tremaining: 1m 10s\n",
      "568:\tlearn: 1296.6343363\ttotal: 1m 33s\tremaining: 1m 10s\n",
      "569:\tlearn: 1296.4615546\ttotal: 1m 33s\tremaining: 1m 10s\n",
      "570:\tlearn: 1296.4576099\ttotal: 1m 33s\tremaining: 1m 10s\n",
      "571:\tlearn: 1296.4470979\ttotal: 1m 33s\tremaining: 1m 10s\n",
      "572:\tlearn: 1296.4220489\ttotal: 1m 33s\tremaining: 1m 9s\n",
      "573:\tlearn: 1296.3663411\ttotal: 1m 34s\tremaining: 1m 9s\n",
      "574:\tlearn: 1296.3208494\ttotal: 1m 34s\tremaining: 1m 9s\n",
      "575:\tlearn: 1296.1964870\ttotal: 1m 34s\tremaining: 1m 9s\n",
      "576:\tlearn: 1296.1083935\ttotal: 1m 34s\tremaining: 1m 9s\n",
      "577:\tlearn: 1296.0732317\ttotal: 1m 34s\tremaining: 1m 9s\n",
      "578:\tlearn: 1295.9866855\ttotal: 1m 35s\tremaining: 1m 9s\n",
      "579:\tlearn: 1295.9709468\ttotal: 1m 35s\tremaining: 1m 8s\n",
      "580:\tlearn: 1295.9339589\ttotal: 1m 35s\tremaining: 1m 8s\n",
      "581:\tlearn: 1295.8397759\ttotal: 1m 35s\tremaining: 1m 8s\n",
      "582:\tlearn: 1295.7478554\ttotal: 1m 35s\tremaining: 1m 8s\n",
      "583:\tlearn: 1295.7162885\ttotal: 1m 35s\tremaining: 1m 8s\n",
      "584:\tlearn: 1295.5219489\ttotal: 1m 35s\tremaining: 1m 8s\n",
      "585:\tlearn: 1295.4316795\ttotal: 1m 36s\tremaining: 1m 7s\n",
      "586:\tlearn: 1295.4012193\ttotal: 1m 36s\tremaining: 1m 7s\n",
      "587:\tlearn: 1295.3406470\ttotal: 1m 36s\tremaining: 1m 7s\n",
      "588:\tlearn: 1295.2019081\ttotal: 1m 36s\tremaining: 1m 7s\n",
      "589:\tlearn: 1295.1767057\ttotal: 1m 36s\tremaining: 1m 7s\n",
      "590:\tlearn: 1295.0917281\ttotal: 1m 36s\tremaining: 1m 7s\n",
      "591:\tlearn: 1294.9225660\ttotal: 1m 37s\tremaining: 1m 6s\n",
      "592:\tlearn: 1294.8685070\ttotal: 1m 37s\tremaining: 1m 6s\n",
      "593:\tlearn: 1294.8498503\ttotal: 1m 37s\tremaining: 1m 6s\n",
      "594:\tlearn: 1294.7359918\ttotal: 1m 37s\tremaining: 1m 6s\n",
      "595:\tlearn: 1294.5297700\ttotal: 1m 37s\tremaining: 1m 6s\n",
      "596:\tlearn: 1294.3359581\ttotal: 1m 38s\tremaining: 1m 6s\n",
      "597:\tlearn: 1294.1691542\ttotal: 1m 38s\tremaining: 1m 6s\n",
      "598:\tlearn: 1294.1081223\ttotal: 1m 38s\tremaining: 1m 5s\n",
      "599:\tlearn: 1293.9842231\ttotal: 1m 38s\tremaining: 1m 5s\n",
      "600:\tlearn: 1293.9560790\ttotal: 1m 38s\tremaining: 1m 5s\n",
      "601:\tlearn: 1293.9039172\ttotal: 1m 38s\tremaining: 1m 5s\n",
      "602:\tlearn: 1293.8250051\ttotal: 1m 38s\tremaining: 1m 5s\n",
      "603:\tlearn: 1293.7746411\ttotal: 1m 39s\tremaining: 1m 4s\n",
      "604:\tlearn: 1293.6620268\ttotal: 1m 39s\tremaining: 1m 4s\n",
      "605:\tlearn: 1293.6321615\ttotal: 1m 39s\tremaining: 1m 4s\n",
      "606:\tlearn: 1293.4897642\ttotal: 1m 39s\tremaining: 1m 4s\n",
      "607:\tlearn: 1293.4870386\ttotal: 1m 39s\tremaining: 1m 4s\n",
      "608:\tlearn: 1293.2630071\ttotal: 1m 39s\tremaining: 1m 4s\n",
      "609:\tlearn: 1293.2267941\ttotal: 1m 40s\tremaining: 1m 3s\n",
      "610:\tlearn: 1293.1808386\ttotal: 1m 40s\tremaining: 1m 3s\n",
      "611:\tlearn: 1293.1742190\ttotal: 1m 40s\tremaining: 1m 3s\n",
      "612:\tlearn: 1293.0635035\ttotal: 1m 40s\tremaining: 1m 3s\n",
      "613:\tlearn: 1292.9791676\ttotal: 1m 40s\tremaining: 1m 3s\n",
      "614:\tlearn: 1292.9733682\ttotal: 1m 40s\tremaining: 1m 3s\n",
      "615:\tlearn: 1292.9225256\ttotal: 1m 41s\tremaining: 1m 2s\n",
      "616:\tlearn: 1292.8456789\ttotal: 1m 41s\tremaining: 1m 2s\n",
      "617:\tlearn: 1292.7788762\ttotal: 1m 41s\tremaining: 1m 2s\n",
      "618:\tlearn: 1292.7375831\ttotal: 1m 41s\tremaining: 1m 2s\n",
      "619:\tlearn: 1292.6526500\ttotal: 1m 41s\tremaining: 1m 2s\n",
      "620:\tlearn: 1292.4959352\ttotal: 1m 41s\tremaining: 1m 2s\n",
      "621:\tlearn: 1292.3738654\ttotal: 1m 41s\tremaining: 1m 1s\n",
      "622:\tlearn: 1292.3552303\ttotal: 1m 42s\tremaining: 1m 1s\n",
      "623:\tlearn: 1292.2044431\ttotal: 1m 42s\tremaining: 1m 1s\n",
      "624:\tlearn: 1292.1021657\ttotal: 1m 42s\tremaining: 1m 1s\n",
      "625:\tlearn: 1292.0931707\ttotal: 1m 42s\tremaining: 1m 1s\n",
      "626:\tlearn: 1292.0133926\ttotal: 1m 42s\tremaining: 1m 1s\n",
      "627:\tlearn: 1291.9501346\ttotal: 1m 42s\tremaining: 1m\n",
      "628:\tlearn: 1291.9172771\ttotal: 1m 43s\tremaining: 1m\n",
      "629:\tlearn: 1291.8524471\ttotal: 1m 43s\tremaining: 1m\n",
      "630:\tlearn: 1291.7609170\ttotal: 1m 43s\tremaining: 1m\n",
      "631:\tlearn: 1291.6693427\ttotal: 1m 43s\tremaining: 1m\n",
      "632:\tlearn: 1291.5401380\ttotal: 1m 43s\tremaining: 1m\n",
      "633:\tlearn: 1291.3058646\ttotal: 1m 43s\tremaining: 60s\n",
      "634:\tlearn: 1291.2327359\ttotal: 1m 44s\tremaining: 59.8s\n",
      "635:\tlearn: 1291.1510689\ttotal: 1m 44s\tremaining: 59.7s\n",
      "636:\tlearn: 1291.0728100\ttotal: 1m 44s\tremaining: 59.5s\n",
      "637:\tlearn: 1290.9466929\ttotal: 1m 44s\tremaining: 59.3s\n",
      "638:\tlearn: 1290.9312877\ttotal: 1m 44s\tremaining: 59.2s\n",
      "639:\tlearn: 1290.9101544\ttotal: 1m 44s\tremaining: 59s\n",
      "640:\tlearn: 1290.8755933\ttotal: 1m 45s\tremaining: 58.9s\n",
      "641:\tlearn: 1290.7516465\ttotal: 1m 45s\tremaining: 58.7s\n",
      "642:\tlearn: 1290.6703680\ttotal: 1m 45s\tremaining: 58.5s\n",
      "643:\tlearn: 1290.4980552\ttotal: 1m 45s\tremaining: 58.3s\n",
      "644:\tlearn: 1290.3366435\ttotal: 1m 45s\tremaining: 58.2s\n",
      "645:\tlearn: 1290.3017978\ttotal: 1m 45s\tremaining: 58s\n",
      "646:\tlearn: 1290.2054645\ttotal: 1m 45s\tremaining: 57.8s\n",
      "647:\tlearn: 1290.0650763\ttotal: 1m 46s\tremaining: 57.7s\n",
      "648:\tlearn: 1290.0100986\ttotal: 1m 46s\tremaining: 57.5s\n",
      "649:\tlearn: 1289.9532630\ttotal: 1m 46s\tremaining: 57.3s\n",
      "650:\tlearn: 1289.8491537\ttotal: 1m 46s\tremaining: 57.2s\n",
      "651:\tlearn: 1289.7951518\ttotal: 1m 46s\tremaining: 57s\n",
      "652:\tlearn: 1289.7452615\ttotal: 1m 47s\tremaining: 56.9s\n",
      "653:\tlearn: 1289.6353704\ttotal: 1m 47s\tremaining: 56.7s\n",
      "654:\tlearn: 1289.6172319\ttotal: 1m 47s\tremaining: 56.5s\n",
      "655:\tlearn: 1289.4845955\ttotal: 1m 47s\tremaining: 56.4s\n",
      "656:\tlearn: 1289.4768032\ttotal: 1m 47s\tremaining: 56.2s\n",
      "657:\tlearn: 1289.3955981\ttotal: 1m 47s\tremaining: 56.1s\n",
      "658:\tlearn: 1289.3887016\ttotal: 1m 48s\tremaining: 55.9s\n",
      "659:\tlearn: 1289.2290550\ttotal: 1m 48s\tremaining: 55.8s\n",
      "660:\tlearn: 1289.1774782\ttotal: 1m 48s\tremaining: 55.6s\n",
      "661:\tlearn: 1289.1379292\ttotal: 1m 48s\tremaining: 55.4s\n",
      "662:\tlearn: 1289.1111245\ttotal: 1m 48s\tremaining: 55.3s\n",
      "663:\tlearn: 1289.0246429\ttotal: 1m 48s\tremaining: 55.1s\n",
      "664:\tlearn: 1288.9978492\ttotal: 1m 49s\tremaining: 55s\n",
      "665:\tlearn: 1288.9368636\ttotal: 1m 49s\tremaining: 54.8s\n",
      "666:\tlearn: 1288.8317903\ttotal: 1m 49s\tremaining: 54.7s\n",
      "667:\tlearn: 1288.7786224\ttotal: 1m 49s\tremaining: 54.5s\n",
      "668:\tlearn: 1288.6408313\ttotal: 1m 49s\tremaining: 54.4s\n",
      "669:\tlearn: 1288.5475410\ttotal: 1m 50s\tremaining: 54.2s\n",
      "670:\tlearn: 1288.5183824\ttotal: 1m 50s\tremaining: 54.1s\n",
      "671:\tlearn: 1288.4503813\ttotal: 1m 50s\tremaining: 53.9s\n",
      "672:\tlearn: 1288.3807202\ttotal: 1m 50s\tremaining: 53.8s\n",
      "673:\tlearn: 1288.3721536\ttotal: 1m 50s\tremaining: 53.6s\n",
      "674:\tlearn: 1288.3174475\ttotal: 1m 51s\tremaining: 53.5s\n",
      "675:\tlearn: 1288.3037518\ttotal: 1m 51s\tremaining: 53.3s\n",
      "676:\tlearn: 1288.2993923\ttotal: 1m 51s\tremaining: 53.1s\n",
      "677:\tlearn: 1288.2909234\ttotal: 1m 51s\tremaining: 52.9s\n",
      "678:\tlearn: 1288.2466341\ttotal: 1m 51s\tremaining: 52.8s\n",
      "679:\tlearn: 1288.1896099\ttotal: 1m 51s\tremaining: 52.6s\n",
      "680:\tlearn: 1288.1869062\ttotal: 1m 51s\tremaining: 52.4s\n",
      "681:\tlearn: 1288.1048962\ttotal: 1m 52s\tremaining: 52.3s\n",
      "682:\tlearn: 1287.9513507\ttotal: 1m 52s\tremaining: 52.1s\n",
      "683:\tlearn: 1287.9134575\ttotal: 1m 52s\tremaining: 52s\n",
      "684:\tlearn: 1287.8041943\ttotal: 1m 52s\tremaining: 51.8s\n",
      "685:\tlearn: 1287.6632997\ttotal: 1m 52s\tremaining: 51.6s\n",
      "686:\tlearn: 1287.5119384\ttotal: 1m 52s\tremaining: 51.5s\n",
      "687:\tlearn: 1287.3794912\ttotal: 1m 53s\tremaining: 51.3s\n",
      "688:\tlearn: 1287.3085133\ttotal: 1m 53s\tremaining: 51.1s\n",
      "689:\tlearn: 1287.1960479\ttotal: 1m 53s\tremaining: 51s\n",
      "690:\tlearn: 1287.1863569\ttotal: 1m 53s\tremaining: 50.8s\n",
      "691:\tlearn: 1287.1192651\ttotal: 1m 53s\tremaining: 50.6s\n",
      "692:\tlearn: 1287.0283360\ttotal: 1m 53s\tremaining: 50.5s\n",
      "693:\tlearn: 1286.8950060\ttotal: 1m 54s\tremaining: 50.3s\n",
      "694:\tlearn: 1286.7844290\ttotal: 1m 54s\tremaining: 50.1s\n",
      "695:\tlearn: 1286.7453777\ttotal: 1m 54s\tremaining: 49.9s\n",
      "696:\tlearn: 1286.7369501\ttotal: 1m 54s\tremaining: 49.8s\n",
      "697:\tlearn: 1286.6987381\ttotal: 1m 54s\tremaining: 49.6s\n",
      "698:\tlearn: 1286.6627809\ttotal: 1m 54s\tremaining: 49.4s\n",
      "699:\tlearn: 1286.5669689\ttotal: 1m 54s\tremaining: 49.3s\n",
      "700:\tlearn: 1286.5090790\ttotal: 1m 55s\tremaining: 49.1s\n",
      "701:\tlearn: 1286.4930179\ttotal: 1m 55s\tremaining: 48.9s\n",
      "702:\tlearn: 1286.4089383\ttotal: 1m 55s\tremaining: 48.8s\n",
      "703:\tlearn: 1286.3848508\ttotal: 1m 55s\tremaining: 48.6s\n",
      "704:\tlearn: 1286.3137822\ttotal: 1m 55s\tremaining: 48.4s\n",
      "705:\tlearn: 1286.2108419\ttotal: 1m 55s\tremaining: 48.3s\n",
      "706:\tlearn: 1286.1773970\ttotal: 1m 56s\tremaining: 48.1s\n",
      "707:\tlearn: 1286.1047287\ttotal: 1m 56s\tremaining: 47.9s\n",
      "708:\tlearn: 1285.9604633\ttotal: 1m 56s\tremaining: 47.8s\n",
      "709:\tlearn: 1285.8482015\ttotal: 1m 56s\tremaining: 47.6s\n",
      "710:\tlearn: 1285.7899166\ttotal: 1m 56s\tremaining: 47.4s\n",
      "711:\tlearn: 1285.7205232\ttotal: 1m 56s\tremaining: 47.2s\n",
      "712:\tlearn: 1285.6506098\ttotal: 1m 56s\tremaining: 47.1s\n",
      "713:\tlearn: 1285.5568954\ttotal: 1m 57s\tremaining: 46.9s\n",
      "714:\tlearn: 1285.4629060\ttotal: 1m 57s\tremaining: 46.7s\n",
      "715:\tlearn: 1285.3874603\ttotal: 1m 57s\tremaining: 46.6s\n",
      "716:\tlearn: 1285.3129635\ttotal: 1m 57s\tremaining: 46.4s\n",
      "717:\tlearn: 1285.1782265\ttotal: 1m 57s\tremaining: 46.3s\n",
      "718:\tlearn: 1285.0624561\ttotal: 1m 57s\tremaining: 46.1s\n",
      "719:\tlearn: 1284.9831535\ttotal: 1m 58s\tremaining: 45.9s\n",
      "720:\tlearn: 1284.9133845\ttotal: 1m 58s\tremaining: 45.8s\n",
      "721:\tlearn: 1284.8871406\ttotal: 1m 58s\tremaining: 45.6s\n",
      "722:\tlearn: 1284.8263274\ttotal: 1m 58s\tremaining: 45.4s\n",
      "723:\tlearn: 1284.5890113\ttotal: 1m 58s\tremaining: 45.3s\n",
      "724:\tlearn: 1284.4468029\ttotal: 1m 58s\tremaining: 45.1s\n",
      "725:\tlearn: 1284.3655611\ttotal: 1m 59s\tremaining: 45s\n",
      "726:\tlearn: 1284.2755445\ttotal: 1m 59s\tremaining: 44.8s\n",
      "727:\tlearn: 1284.2566381\ttotal: 1m 59s\tremaining: 44.6s\n",
      "728:\tlearn: 1284.2450348\ttotal: 1m 59s\tremaining: 44.5s\n",
      "729:\tlearn: 1284.2201086\ttotal: 1m 59s\tremaining: 44.3s\n",
      "730:\tlearn: 1284.1289013\ttotal: 1m 59s\tremaining: 44.1s\n",
      "731:\tlearn: 1284.0568494\ttotal: 2m\tremaining: 44s\n",
      "732:\tlearn: 1283.9982340\ttotal: 2m\tremaining: 43.8s\n",
      "733:\tlearn: 1283.9100733\ttotal: 2m\tremaining: 43.7s\n",
      "734:\tlearn: 1283.8801202\ttotal: 2m\tremaining: 43.5s\n",
      "735:\tlearn: 1283.8586058\ttotal: 2m\tremaining: 43.3s\n",
      "736:\tlearn: 1283.8004203\ttotal: 2m\tremaining: 43.1s\n",
      "737:\tlearn: 1283.7626593\ttotal: 2m 1s\tremaining: 43s\n",
      "738:\tlearn: 1283.7170404\ttotal: 2m 1s\tremaining: 42.8s\n",
      "739:\tlearn: 1283.6934860\ttotal: 2m 1s\tremaining: 42.6s\n",
      "740:\tlearn: 1283.6605480\ttotal: 2m 1s\tremaining: 42.5s\n",
      "741:\tlearn: 1283.5568915\ttotal: 2m 1s\tremaining: 42.3s\n",
      "742:\tlearn: 1283.5086244\ttotal: 2m 1s\tremaining: 42.1s\n",
      "743:\tlearn: 1283.4041008\ttotal: 2m 1s\tremaining: 42s\n",
      "744:\tlearn: 1283.3779305\ttotal: 2m 2s\tremaining: 41.8s\n",
      "745:\tlearn: 1283.2766660\ttotal: 2m 2s\tremaining: 41.7s\n",
      "746:\tlearn: 1283.2228793\ttotal: 2m 2s\tremaining: 41.5s\n",
      "747:\tlearn: 1283.1691127\ttotal: 2m 2s\tremaining: 41.3s\n",
      "748:\tlearn: 1283.1064153\ttotal: 2m 2s\tremaining: 41.2s\n",
      "749:\tlearn: 1282.9410849\ttotal: 2m 2s\tremaining: 41s\n",
      "750:\tlearn: 1282.8491229\ttotal: 2m 3s\tremaining: 40.8s\n",
      "751:\tlearn: 1282.7847882\ttotal: 2m 3s\tremaining: 40.7s\n",
      "752:\tlearn: 1282.7290027\ttotal: 2m 3s\tremaining: 40.5s\n",
      "753:\tlearn: 1282.7049732\ttotal: 2m 3s\tremaining: 40.4s\n",
      "754:\tlearn: 1282.6673797\ttotal: 2m 3s\tremaining: 40.2s\n",
      "755:\tlearn: 1282.6137663\ttotal: 2m 4s\tremaining: 40s\n",
      "756:\tlearn: 1282.5798497\ttotal: 2m 4s\tremaining: 39.9s\n",
      "757:\tlearn: 1282.4939146\ttotal: 2m 4s\tremaining: 39.7s\n",
      "758:\tlearn: 1282.3817425\ttotal: 2m 4s\tremaining: 39.6s\n",
      "759:\tlearn: 1282.3231219\ttotal: 2m 4s\tremaining: 39.4s\n",
      "760:\tlearn: 1282.2157236\ttotal: 2m 4s\tremaining: 39.3s\n",
      "761:\tlearn: 1282.1692999\ttotal: 2m 5s\tremaining: 39.1s\n",
      "762:\tlearn: 1282.1322552\ttotal: 2m 5s\tremaining: 38.9s\n",
      "763:\tlearn: 1282.0405018\ttotal: 2m 5s\tremaining: 38.8s\n",
      "764:\tlearn: 1282.0348351\ttotal: 2m 5s\tremaining: 38.6s\n",
      "765:\tlearn: 1281.9278279\ttotal: 2m 5s\tremaining: 38.5s\n",
      "766:\tlearn: 1281.8992141\ttotal: 2m 6s\tremaining: 38.3s\n",
      "767:\tlearn: 1281.8282973\ttotal: 2m 6s\tremaining: 38.1s\n",
      "768:\tlearn: 1281.7345643\ttotal: 2m 6s\tremaining: 38s\n",
      "769:\tlearn: 1281.6262237\ttotal: 2m 6s\tremaining: 37.8s\n",
      "770:\tlearn: 1281.5349032\ttotal: 2m 6s\tremaining: 37.6s\n",
      "771:\tlearn: 1281.3351052\ttotal: 2m 6s\tremaining: 37.5s\n",
      "772:\tlearn: 1281.3070495\ttotal: 2m 7s\tremaining: 37.3s\n",
      "773:\tlearn: 1281.1443882\ttotal: 2m 7s\tremaining: 37.1s\n",
      "774:\tlearn: 1281.0139801\ttotal: 2m 7s\tremaining: 37s\n",
      "775:\tlearn: 1280.9819713\ttotal: 2m 7s\tremaining: 36.8s\n",
      "776:\tlearn: 1280.8630119\ttotal: 2m 7s\tremaining: 36.6s\n",
      "777:\tlearn: 1280.8174112\ttotal: 2m 7s\tremaining: 36.5s\n",
      "778:\tlearn: 1280.7688528\ttotal: 2m 8s\tremaining: 36.3s\n",
      "779:\tlearn: 1280.7219141\ttotal: 2m 8s\tremaining: 36.2s\n",
      "780:\tlearn: 1280.6286198\ttotal: 2m 8s\tremaining: 36s\n",
      "781:\tlearn: 1280.5726142\ttotal: 2m 8s\tremaining: 35.8s\n",
      "782:\tlearn: 1280.5453001\ttotal: 2m 8s\tremaining: 35.7s\n",
      "783:\tlearn: 1280.5010914\ttotal: 2m 8s\tremaining: 35.5s\n",
      "784:\tlearn: 1280.4090272\ttotal: 2m 9s\tremaining: 35.3s\n",
      "785:\tlearn: 1280.2660037\ttotal: 2m 9s\tremaining: 35.2s\n",
      "786:\tlearn: 1280.1792855\ttotal: 2m 9s\tremaining: 35s\n",
      "787:\tlearn: 1280.1665273\ttotal: 2m 9s\tremaining: 34.8s\n",
      "788:\tlearn: 1280.0746779\ttotal: 2m 9s\tremaining: 34.7s\n",
      "789:\tlearn: 1279.9296210\ttotal: 2m 9s\tremaining: 34.5s\n",
      "790:\tlearn: 1279.8136361\ttotal: 2m 9s\tremaining: 34.3s\n",
      "791:\tlearn: 1279.7324522\ttotal: 2m 10s\tremaining: 34.2s\n",
      "792:\tlearn: 1279.6797779\ttotal: 2m 10s\tremaining: 34s\n",
      "793:\tlearn: 1279.6380990\ttotal: 2m 10s\tremaining: 33.8s\n",
      "794:\tlearn: 1279.4650340\ttotal: 2m 10s\tremaining: 33.7s\n",
      "795:\tlearn: 1279.2988303\ttotal: 2m 10s\tremaining: 33.5s\n",
      "796:\tlearn: 1279.2249579\ttotal: 2m 10s\tremaining: 33.4s\n",
      "797:\tlearn: 1279.0630169\ttotal: 2m 11s\tremaining: 33.2s\n",
      "798:\tlearn: 1279.0267074\ttotal: 2m 11s\tremaining: 33s\n",
      "799:\tlearn: 1278.9657256\ttotal: 2m 11s\tremaining: 32.9s\n",
      "800:\tlearn: 1278.9181675\ttotal: 2m 11s\tremaining: 32.7s\n",
      "801:\tlearn: 1278.7649892\ttotal: 2m 11s\tremaining: 32.5s\n",
      "802:\tlearn: 1278.7209453\ttotal: 2m 11s\tremaining: 32.4s\n",
      "803:\tlearn: 1278.7010293\ttotal: 2m 12s\tremaining: 32.2s\n",
      "804:\tlearn: 1278.6561696\ttotal: 2m 12s\tremaining: 32s\n",
      "805:\tlearn: 1278.5974388\ttotal: 2m 12s\tremaining: 31.9s\n",
      "806:\tlearn: 1278.4724740\ttotal: 2m 12s\tremaining: 31.7s\n",
      "807:\tlearn: 1278.4463644\ttotal: 2m 12s\tremaining: 31.6s\n",
      "808:\tlearn: 1278.3844052\ttotal: 2m 12s\tremaining: 31.4s\n",
      "809:\tlearn: 1278.3804181\ttotal: 2m 13s\tremaining: 31.2s\n",
      "810:\tlearn: 1278.3540988\ttotal: 2m 13s\tremaining: 31.1s\n",
      "811:\tlearn: 1278.3066885\ttotal: 2m 13s\tremaining: 30.9s\n",
      "812:\tlearn: 1278.2351247\ttotal: 2m 13s\tremaining: 30.7s\n",
      "813:\tlearn: 1278.2167979\ttotal: 2m 13s\tremaining: 30.6s\n",
      "814:\tlearn: 1278.1776757\ttotal: 2m 13s\tremaining: 30.4s\n",
      "815:\tlearn: 1278.1452980\ttotal: 2m 14s\tremaining: 30.2s\n",
      "816:\tlearn: 1278.1222148\ttotal: 2m 14s\tremaining: 30.1s\n",
      "817:\tlearn: 1278.0886229\ttotal: 2m 14s\tremaining: 29.9s\n",
      "818:\tlearn: 1278.0406569\ttotal: 2m 14s\tremaining: 29.8s\n",
      "819:\tlearn: 1277.9983943\ttotal: 2m 14s\tremaining: 29.6s\n",
      "820:\tlearn: 1277.9101007\ttotal: 2m 14s\tremaining: 29.4s\n",
      "821:\tlearn: 1277.8993751\ttotal: 2m 15s\tremaining: 29.3s\n",
      "822:\tlearn: 1277.8727464\ttotal: 2m 15s\tremaining: 29.1s\n",
      "823:\tlearn: 1277.8134532\ttotal: 2m 15s\tremaining: 28.9s\n",
      "824:\tlearn: 1277.7575029\ttotal: 2m 15s\tremaining: 28.8s\n",
      "825:\tlearn: 1277.6414546\ttotal: 2m 15s\tremaining: 28.6s\n",
      "826:\tlearn: 1277.6367765\ttotal: 2m 15s\tremaining: 28.4s\n",
      "827:\tlearn: 1277.4509620\ttotal: 2m 16s\tremaining: 28.3s\n",
      "828:\tlearn: 1277.3726454\ttotal: 2m 16s\tremaining: 28.1s\n",
      "829:\tlearn: 1277.3169197\ttotal: 2m 16s\tremaining: 27.9s\n",
      "830:\tlearn: 1277.2498425\ttotal: 2m 16s\tremaining: 27.8s\n",
      "831:\tlearn: 1277.2400248\ttotal: 2m 16s\tremaining: 27.6s\n",
      "832:\tlearn: 1277.1364701\ttotal: 2m 16s\tremaining: 27.4s\n",
      "833:\tlearn: 1276.9658448\ttotal: 2m 17s\tremaining: 27.3s\n",
      "834:\tlearn: 1276.9118946\ttotal: 2m 17s\tremaining: 27.1s\n",
      "835:\tlearn: 1276.8408856\ttotal: 2m 17s\tremaining: 26.9s\n",
      "836:\tlearn: 1276.8090176\ttotal: 2m 17s\tremaining: 26.8s\n",
      "837:\tlearn: 1276.7112857\ttotal: 2m 17s\tremaining: 26.6s\n",
      "838:\tlearn: 1276.5781949\ttotal: 2m 17s\tremaining: 26.5s\n",
      "839:\tlearn: 1276.5625375\ttotal: 2m 18s\tremaining: 26.3s\n",
      "840:\tlearn: 1276.4869211\ttotal: 2m 18s\tremaining: 26.1s\n",
      "841:\tlearn: 1276.4630257\ttotal: 2m 18s\tremaining: 26s\n",
      "842:\tlearn: 1276.4017392\ttotal: 2m 18s\tremaining: 25.8s\n",
      "843:\tlearn: 1276.2007350\ttotal: 2m 18s\tremaining: 25.6s\n",
      "844:\tlearn: 1276.1488459\ttotal: 2m 18s\tremaining: 25.5s\n",
      "845:\tlearn: 1276.1223817\ttotal: 2m 19s\tremaining: 25.3s\n",
      "846:\tlearn: 1276.0982851\ttotal: 2m 19s\tremaining: 25.1s\n",
      "847:\tlearn: 1276.0448591\ttotal: 2m 19s\tremaining: 25s\n",
      "848:\tlearn: 1276.0124399\ttotal: 2m 19s\tremaining: 24.8s\n",
      "849:\tlearn: 1275.9631767\ttotal: 2m 19s\tremaining: 24.7s\n",
      "850:\tlearn: 1275.7393968\ttotal: 2m 20s\tremaining: 24.5s\n",
      "851:\tlearn: 1275.6253881\ttotal: 2m 20s\tremaining: 24.4s\n",
      "852:\tlearn: 1275.4868005\ttotal: 2m 20s\tremaining: 24.2s\n",
      "853:\tlearn: 1275.3636780\ttotal: 2m 20s\tremaining: 24s\n",
      "854:\tlearn: 1275.3552099\ttotal: 2m 20s\tremaining: 23.9s\n",
      "855:\tlearn: 1275.3449388\ttotal: 2m 20s\tremaining: 23.7s\n",
      "856:\tlearn: 1275.2944707\ttotal: 2m 21s\tremaining: 23.5s\n",
      "857:\tlearn: 1275.1584844\ttotal: 2m 21s\tremaining: 23.4s\n",
      "858:\tlearn: 1275.1142782\ttotal: 2m 21s\tremaining: 23.2s\n",
      "859:\tlearn: 1274.9968959\ttotal: 2m 21s\tremaining: 23.1s\n",
      "860:\tlearn: 1274.9151675\ttotal: 2m 21s\tremaining: 22.9s\n",
      "861:\tlearn: 1274.8653411\ttotal: 2m 22s\tremaining: 22.7s\n",
      "862:\tlearn: 1274.8364335\ttotal: 2m 22s\tremaining: 22.6s\n",
      "863:\tlearn: 1274.8083319\ttotal: 2m 22s\tremaining: 22.4s\n",
      "864:\tlearn: 1274.6441902\ttotal: 2m 22s\tremaining: 22.3s\n",
      "865:\tlearn: 1274.6249679\ttotal: 2m 22s\tremaining: 22.1s\n",
      "866:\tlearn: 1274.5816948\ttotal: 2m 22s\tremaining: 21.9s\n",
      "867:\tlearn: 1274.5280642\ttotal: 2m 23s\tremaining: 21.8s\n",
      "868:\tlearn: 1274.4482095\ttotal: 2m 23s\tremaining: 21.6s\n",
      "869:\tlearn: 1274.3927968\ttotal: 2m 23s\tremaining: 21.4s\n",
      "870:\tlearn: 1274.2771308\ttotal: 2m 23s\tremaining: 21.3s\n",
      "871:\tlearn: 1274.1808181\ttotal: 2m 23s\tremaining: 21.1s\n",
      "872:\tlearn: 1274.1736496\ttotal: 2m 23s\tremaining: 20.9s\n",
      "873:\tlearn: 1274.0208421\ttotal: 2m 24s\tremaining: 20.8s\n",
      "874:\tlearn: 1274.0105407\ttotal: 2m 24s\tremaining: 20.6s\n",
      "875:\tlearn: 1273.9616420\ttotal: 2m 24s\tremaining: 20.5s\n",
      "876:\tlearn: 1273.9059783\ttotal: 2m 24s\tremaining: 20.3s\n",
      "877:\tlearn: 1273.7926722\ttotal: 2m 25s\tremaining: 20.1s\n",
      "878:\tlearn: 1273.7796872\ttotal: 2m 25s\tremaining: 20s\n",
      "879:\tlearn: 1273.7000424\ttotal: 2m 25s\tremaining: 19.8s\n",
      "880:\tlearn: 1273.6643033\ttotal: 2m 25s\tremaining: 19.7s\n",
      "881:\tlearn: 1273.5974423\ttotal: 2m 25s\tremaining: 19.5s\n",
      "882:\tlearn: 1273.5804761\ttotal: 2m 25s\tremaining: 19.3s\n",
      "883:\tlearn: 1273.5227822\ttotal: 2m 26s\tremaining: 19.2s\n",
      "884:\tlearn: 1273.4757868\ttotal: 2m 26s\tremaining: 19s\n",
      "885:\tlearn: 1273.4565071\ttotal: 2m 26s\tremaining: 18.8s\n",
      "886:\tlearn: 1273.3352899\ttotal: 2m 26s\tremaining: 18.7s\n",
      "887:\tlearn: 1273.2331398\ttotal: 2m 26s\tremaining: 18.5s\n",
      "888:\tlearn: 1273.1713551\ttotal: 2m 26s\tremaining: 18.3s\n",
      "889:\tlearn: 1273.1619937\ttotal: 2m 27s\tremaining: 18.2s\n",
      "890:\tlearn: 1273.0441427\ttotal: 2m 27s\tremaining: 18s\n",
      "891:\tlearn: 1273.0051553\ttotal: 2m 27s\tremaining: 17.8s\n",
      "892:\tlearn: 1273.0018332\ttotal: 2m 27s\tremaining: 17.7s\n",
      "893:\tlearn: 1272.9566960\ttotal: 2m 27s\tremaining: 17.5s\n",
      "894:\tlearn: 1272.7737465\ttotal: 2m 27s\tremaining: 17.4s\n",
      "895:\tlearn: 1272.7656075\ttotal: 2m 28s\tremaining: 17.2s\n",
      "896:\tlearn: 1272.7584280\ttotal: 2m 28s\tremaining: 17s\n",
      "897:\tlearn: 1272.7185427\ttotal: 2m 28s\tremaining: 16.9s\n",
      "898:\tlearn: 1272.6471651\ttotal: 2m 28s\tremaining: 16.7s\n",
      "899:\tlearn: 1272.4923425\ttotal: 2m 28s\tremaining: 16.5s\n",
      "900:\tlearn: 1272.4100481\ttotal: 2m 28s\tremaining: 16.4s\n",
      "901:\tlearn: 1272.3087842\ttotal: 2m 29s\tremaining: 16.2s\n",
      "902:\tlearn: 1272.2505173\ttotal: 2m 29s\tremaining: 16s\n",
      "903:\tlearn: 1272.2462578\ttotal: 2m 29s\tremaining: 15.9s\n",
      "904:\tlearn: 1272.1666867\ttotal: 2m 29s\tremaining: 15.7s\n",
      "905:\tlearn: 1272.1585690\ttotal: 2m 29s\tremaining: 15.5s\n",
      "906:\tlearn: 1272.0853928\ttotal: 2m 29s\tremaining: 15.4s\n",
      "907:\tlearn: 1272.0693207\ttotal: 2m 30s\tremaining: 15.2s\n",
      "908:\tlearn: 1272.0139543\ttotal: 2m 30s\tremaining: 15s\n",
      "909:\tlearn: 1271.9335745\ttotal: 2m 30s\tremaining: 14.9s\n",
      "910:\tlearn: 1271.9224681\ttotal: 2m 30s\tremaining: 14.7s\n",
      "911:\tlearn: 1271.8347702\ttotal: 2m 30s\tremaining: 14.5s\n",
      "912:\tlearn: 1271.7167100\ttotal: 2m 30s\tremaining: 14.4s\n",
      "913:\tlearn: 1271.6626319\ttotal: 2m 31s\tremaining: 14.2s\n",
      "914:\tlearn: 1271.6477447\ttotal: 2m 31s\tremaining: 14s\n",
      "915:\tlearn: 1271.5815062\ttotal: 2m 31s\tremaining: 13.9s\n",
      "916:\tlearn: 1271.5730144\ttotal: 2m 31s\tremaining: 13.7s\n",
      "917:\tlearn: 1271.5429268\ttotal: 2m 31s\tremaining: 13.6s\n",
      "918:\tlearn: 1271.4177562\ttotal: 2m 31s\tremaining: 13.4s\n",
      "919:\tlearn: 1271.3445722\ttotal: 2m 32s\tremaining: 13.2s\n",
      "920:\tlearn: 1271.2984926\ttotal: 2m 32s\tremaining: 13.1s\n",
      "921:\tlearn: 1271.2250542\ttotal: 2m 32s\tremaining: 12.9s\n",
      "922:\tlearn: 1271.1608996\ttotal: 2m 32s\tremaining: 12.7s\n",
      "923:\tlearn: 1271.0355966\ttotal: 2m 32s\tremaining: 12.6s\n",
      "924:\tlearn: 1270.9916104\ttotal: 2m 32s\tremaining: 12.4s\n",
      "925:\tlearn: 1270.9598718\ttotal: 2m 33s\tremaining: 12.2s\n",
      "926:\tlearn: 1270.9242016\ttotal: 2m 33s\tremaining: 12.1s\n",
      "927:\tlearn: 1270.9062749\ttotal: 2m 33s\tremaining: 11.9s\n",
      "928:\tlearn: 1270.8460928\ttotal: 2m 33s\tremaining: 11.7s\n",
      "929:\tlearn: 1270.8229020\ttotal: 2m 33s\tremaining: 11.6s\n",
      "930:\tlearn: 1270.7538596\ttotal: 2m 34s\tremaining: 11.4s\n",
      "931:\tlearn: 1270.7165902\ttotal: 2m 34s\tremaining: 11.3s\n",
      "932:\tlearn: 1270.6066058\ttotal: 2m 34s\tremaining: 11.1s\n",
      "933:\tlearn: 1270.5623925\ttotal: 2m 34s\tremaining: 10.9s\n",
      "934:\tlearn: 1270.5033205\ttotal: 2m 34s\tremaining: 10.8s\n",
      "935:\tlearn: 1270.4728260\ttotal: 2m 34s\tremaining: 10.6s\n",
      "936:\tlearn: 1270.2855677\ttotal: 2m 35s\tremaining: 10.4s\n",
      "937:\tlearn: 1270.1869857\ttotal: 2m 35s\tremaining: 10.3s\n",
      "938:\tlearn: 1270.0359448\ttotal: 2m 35s\tremaining: 10.1s\n",
      "939:\tlearn: 1270.0312037\ttotal: 2m 35s\tremaining: 9.93s\n",
      "940:\tlearn: 1269.9660837\ttotal: 2m 35s\tremaining: 9.76s\n",
      "941:\tlearn: 1269.9184121\ttotal: 2m 35s\tremaining: 9.6s\n",
      "942:\tlearn: 1269.8567865\ttotal: 2m 36s\tremaining: 9.44s\n",
      "943:\tlearn: 1269.8228491\ttotal: 2m 36s\tremaining: 9.27s\n",
      "944:\tlearn: 1269.7612130\ttotal: 2m 36s\tremaining: 9.11s\n",
      "945:\tlearn: 1269.7338404\ttotal: 2m 36s\tremaining: 8.94s\n",
      "946:\tlearn: 1269.7058730\ttotal: 2m 36s\tremaining: 8.78s\n",
      "947:\tlearn: 1269.6532789\ttotal: 2m 37s\tremaining: 8.61s\n",
      "948:\tlearn: 1269.5289785\ttotal: 2m 37s\tremaining: 8.45s\n",
      "949:\tlearn: 1269.4862988\ttotal: 2m 37s\tremaining: 8.28s\n",
      "950:\tlearn: 1269.4771584\ttotal: 2m 37s\tremaining: 8.12s\n",
      "951:\tlearn: 1269.4368652\ttotal: 2m 37s\tremaining: 7.96s\n",
      "952:\tlearn: 1269.3738886\ttotal: 2m 37s\tremaining: 7.79s\n",
      "953:\tlearn: 1269.3121463\ttotal: 2m 38s\tremaining: 7.63s\n",
      "954:\tlearn: 1269.3095844\ttotal: 2m 38s\tremaining: 7.46s\n",
      "955:\tlearn: 1269.2876064\ttotal: 2m 38s\tremaining: 7.29s\n",
      "956:\tlearn: 1269.2326564\ttotal: 2m 38s\tremaining: 7.13s\n",
      "957:\tlearn: 1269.1711118\ttotal: 2m 38s\tremaining: 6.96s\n",
      "958:\tlearn: 1269.1455323\ttotal: 2m 38s\tremaining: 6.8s\n",
      "959:\tlearn: 1269.1005300\ttotal: 2m 39s\tremaining: 6.63s\n",
      "960:\tlearn: 1269.0694274\ttotal: 2m 39s\tremaining: 6.46s\n",
      "961:\tlearn: 1269.0365245\ttotal: 2m 39s\tremaining: 6.3s\n",
      "962:\tlearn: 1269.0173394\ttotal: 2m 39s\tremaining: 6.14s\n",
      "963:\tlearn: 1268.9222564\ttotal: 2m 39s\tremaining: 5.97s\n",
      "964:\tlearn: 1268.8707882\ttotal: 2m 40s\tremaining: 5.8s\n",
      "965:\tlearn: 1268.8337871\ttotal: 2m 40s\tremaining: 5.64s\n",
      "966:\tlearn: 1268.7944559\ttotal: 2m 40s\tremaining: 5.47s\n",
      "967:\tlearn: 1268.7257936\ttotal: 2m 40s\tremaining: 5.31s\n",
      "968:\tlearn: 1268.7062535\ttotal: 2m 40s\tremaining: 5.14s\n",
      "969:\tlearn: 1268.6979288\ttotal: 2m 40s\tremaining: 4.97s\n",
      "970:\tlearn: 1268.6918028\ttotal: 2m 41s\tremaining: 4.81s\n",
      "971:\tlearn: 1268.6597627\ttotal: 2m 41s\tremaining: 4.64s\n",
      "972:\tlearn: 1268.4910076\ttotal: 2m 41s\tremaining: 4.48s\n",
      "973:\tlearn: 1268.4770970\ttotal: 2m 41s\tremaining: 4.31s\n",
      "974:\tlearn: 1268.4684605\ttotal: 2m 41s\tremaining: 4.15s\n",
      "975:\tlearn: 1268.4642311\ttotal: 2m 41s\tremaining: 3.98s\n",
      "976:\tlearn: 1268.3545880\ttotal: 2m 42s\tremaining: 3.82s\n",
      "977:\tlearn: 1268.3470762\ttotal: 2m 42s\tremaining: 3.65s\n",
      "978:\tlearn: 1268.3351862\ttotal: 2m 42s\tremaining: 3.48s\n",
      "979:\tlearn: 1268.2573305\ttotal: 2m 42s\tremaining: 3.32s\n",
      "980:\tlearn: 1268.1946256\ttotal: 2m 42s\tremaining: 3.15s\n",
      "981:\tlearn: 1268.1753111\ttotal: 2m 42s\tremaining: 2.99s\n",
      "982:\tlearn: 1268.1492984\ttotal: 2m 43s\tremaining: 2.82s\n",
      "983:\tlearn: 1268.1073635\ttotal: 2m 43s\tremaining: 2.65s\n",
      "984:\tlearn: 1268.0354904\ttotal: 2m 43s\tremaining: 2.49s\n",
      "985:\tlearn: 1267.9377510\ttotal: 2m 43s\tremaining: 2.32s\n",
      "986:\tlearn: 1267.8645242\ttotal: 2m 43s\tremaining: 2.16s\n",
      "987:\tlearn: 1267.8375691\ttotal: 2m 43s\tremaining: 1.99s\n",
      "988:\tlearn: 1267.7998386\ttotal: 2m 44s\tremaining: 1.82s\n",
      "989:\tlearn: 1267.6584156\ttotal: 2m 44s\tremaining: 1.66s\n",
      "990:\tlearn: 1267.6372269\ttotal: 2m 44s\tremaining: 1.49s\n",
      "991:\tlearn: 1267.6231401\ttotal: 2m 44s\tremaining: 1.33s\n",
      "992:\tlearn: 1267.5246207\ttotal: 2m 44s\tremaining: 1.16s\n",
      "993:\tlearn: 1267.4780244\ttotal: 2m 44s\tremaining: 996ms\n",
      "994:\tlearn: 1267.4387523\ttotal: 2m 45s\tremaining: 830ms\n",
      "995:\tlearn: 1267.3503000\ttotal: 2m 45s\tremaining: 664ms\n",
      "996:\tlearn: 1267.2846846\ttotal: 2m 45s\tremaining: 498ms\n",
      "997:\tlearn: 1267.2532740\ttotal: 2m 45s\tremaining: 332ms\n",
      "998:\tlearn: 1267.2480125\ttotal: 2m 45s\tremaining: 166ms\n",
      "999:\tlearn: 1267.1484980\ttotal: 2m 45s\tremaining: 0us\n",
      "Wall time: 2min 47s\n"
     ]
    },
    {
     "data": {
      "text/plain": [
       "<catboost.core.CatBoostRegressor at 0x1cb0e1d8490>"
      ]
     },
     "execution_count": 269,
     "metadata": {},
     "output_type": "execute_result"
    }
   ],
   "source": [
    "%%time\n",
    "#Обучение модели CatBoostRegressor\n",
    "model_catboost.fit(features_train, target_train, cat_features) "
   ]
  },
  {
   "cell_type": "markdown",
   "metadata": {},
   "source": [
    "### Создание и обучение модели LightGBM"
   ]
  },
  {
   "cell_type": "code",
   "execution_count": 270,
   "metadata": {},
   "outputs": [],
   "source": [
    "#Создание модели LightGBM\n",
    "model_LGBM = LGBMRegressor()"
   ]
  },
  {
   "cell_type": "code",
   "execution_count": 271,
   "metadata": {},
   "outputs": [],
   "source": [
    "features_train_LGBM = features_train.copy()\n",
    "features_test_LGBM = features_test.copy()\n",
    "\n",
    "features_train_LGBM = features_train_LGBM.astype({\"VehicleType\":'category',\n",
    "                                  \"Gearbox\":'category',\n",
    "                                  \"Model\":'category',\n",
    "                                  \"FuelType\":'category',\n",
    "                                  \"Brand\":'category',\n",
    "                                  \"NotRepaired\":'category'})\n",
    "features_test_LGBM = features_test_LGBM.astype({\"VehicleType\":'category',\n",
    "                                  \"Gearbox\":'category',\n",
    "                                  \"Model\":'category',\n",
    "                                  \"FuelType\":'category',\n",
    "                                  \"Brand\":'category',\n",
    "                                  \"NotRepaired\":'category'})"
   ]
  },
  {
   "cell_type": "code",
   "execution_count": 272,
   "metadata": {},
   "outputs": [
    {
     "name": "stdout",
     "output_type": "stream",
     "text": [
      "Wall time: 1.3 s\n"
     ]
    },
    {
     "data": {
      "text/plain": [
       "LGBMRegressor()"
      ]
     },
     "execution_count": 272,
     "metadata": {},
     "output_type": "execute_result"
    }
   ],
   "source": [
    "%%time\n",
    "#Обучение модели LightGBM\n",
    "model_LGBM.fit(features_train_LGBM, target_train)"
   ]
  },
  {
   "cell_type": "markdown",
   "metadata": {},
   "source": [
    "## Анализ моделей"
   ]
  },
  {
   "cell_type": "markdown",
   "metadata": {},
   "source": [
    "### Модель RandomForestRegressor"
   ]
  },
  {
   "cell_type": "code",
   "execution_count": 273,
   "metadata": {},
   "outputs": [
    {
     "name": "stdout",
     "output_type": "stream",
     "text": [
      "Wall time: 251 ms\n"
     ]
    }
   ],
   "source": [
    "%%time\n",
    "#Предсказания модели случайного леса на тестовой выборке\n",
    "predictions_rfr = model_rfr.predict(features_ohe_test)"
   ]
  },
  {
   "cell_type": "code",
   "execution_count": 274,
   "metadata": {},
   "outputs": [],
   "source": [
    "#RMSE\n",
    "result = mean_squared_error(target_ohe_test,predictions_rfr,squared=False)"
   ]
  },
  {
   "cell_type": "code",
   "execution_count": 275,
   "metadata": {},
   "outputs": [
    {
     "name": "stdout",
     "output_type": "stream",
     "text": [
      "RMSE модели случайного леса: 1504.4202732927\n"
     ]
    }
   ],
   "source": [
    "#Вывод RMSE\n",
    "print(\"RMSE модели случайного леса:\",result)"
   ]
  },
  {
   "cell_type": "code",
   "execution_count": 276,
   "metadata": {},
   "outputs": [],
   "source": [
    "#Предсказания модели случайного леса на обучающей выборке для сравнения\n",
    "predictions_rfr = model_rfr.predict(features_ohe_train)"
   ]
  },
  {
   "cell_type": "code",
   "execution_count": 277,
   "metadata": {},
   "outputs": [],
   "source": [
    "#RMSE\n",
    "result = mean_squared_error(target_ohe_train,predictions_rfr,squared=False)"
   ]
  },
  {
   "cell_type": "code",
   "execution_count": 278,
   "metadata": {},
   "outputs": [
    {
     "name": "stdout",
     "output_type": "stream",
     "text": [
      "RMSE модели случайного леса: 1463.7195896940675\n"
     ]
    }
   ],
   "source": [
    "#Вывод RMSE\n",
    "print(\"RMSE модели случайного леса:\",result)"
   ]
  },
  {
   "cell_type": "markdown",
   "metadata": {},
   "source": [
    "### Модель LinearRegression"
   ]
  },
  {
   "cell_type": "code",
   "execution_count": 279,
   "metadata": {},
   "outputs": [
    {
     "name": "stdout",
     "output_type": "stream",
     "text": [
      "Wall time: 167 ms\n"
     ]
    }
   ],
   "source": [
    "%%time\n",
    "#Предсказания модели LinearRegression\n",
    "predictions_lr = model_lr.predict(features_ohe_test)"
   ]
  },
  {
   "cell_type": "code",
   "execution_count": 280,
   "metadata": {},
   "outputs": [],
   "source": [
    "#RMSE\n",
    "result = mean_squared_error(target_ohe_test, predictions_lr) ** 0.5"
   ]
  },
  {
   "cell_type": "code",
   "execution_count": 281,
   "metadata": {},
   "outputs": [
    {
     "name": "stdout",
     "output_type": "stream",
     "text": [
      "RMSE модели линейной регрессии: 1896.553816842921\n"
     ]
    }
   ],
   "source": [
    "#Вывод RMSE\n",
    "print(\"RMSE модели линейной регрессии:\", result)"
   ]
  },
  {
   "cell_type": "markdown",
   "metadata": {},
   "source": [
    "### Модель CatboostRegressor"
   ]
  },
  {
   "cell_type": "code",
   "execution_count": 282,
   "metadata": {},
   "outputs": [
    {
     "name": "stdout",
     "output_type": "stream",
     "text": [
      "Wall time: 367 ms\n"
     ]
    }
   ],
   "source": [
    "%%time\n",
    "#Предсказания модели CatboostRegressor\n",
    "predictions_catboost = model_catboost.predict(features_test)"
   ]
  },
  {
   "cell_type": "code",
   "execution_count": 283,
   "metadata": {},
   "outputs": [],
   "source": [
    "#RMSE\n",
    "result = mean_squared_error(target_test, predictions_catboost) ** 0.5"
   ]
  },
  {
   "cell_type": "code",
   "execution_count": 284,
   "metadata": {},
   "outputs": [
    {
     "name": "stdout",
     "output_type": "stream",
     "text": [
      "RMSE модели CatBoostRegressor: 1299.8626699755064\n"
     ]
    }
   ],
   "source": [
    "#Вывод RMSE\n",
    "print(\"RMSE модели CatBoostRegressor:\", result)"
   ]
  },
  {
   "cell_type": "markdown",
   "metadata": {},
   "source": [
    "### Модель LightGBM"
   ]
  },
  {
   "cell_type": "code",
   "execution_count": 285,
   "metadata": {},
   "outputs": [
    {
     "name": "stdout",
     "output_type": "stream",
     "text": [
      "Wall time: 253 ms\n"
     ]
    }
   ],
   "source": [
    "%%time\n",
    "#Предсказания модели Модель LightGBM\n",
    "predictions_LGBM = model_LGBM.predict(features_test_LGBM)"
   ]
  },
  {
   "cell_type": "code",
   "execution_count": 286,
   "metadata": {},
   "outputs": [],
   "source": [
    "#RMSE\n",
    "result = mean_squared_error(target_test, predictions_LGBM) ** 0.5"
   ]
  },
  {
   "cell_type": "code",
   "execution_count": 287,
   "metadata": {},
   "outputs": [
    {
     "name": "stdout",
     "output_type": "stream",
     "text": [
      "RMSE модели LightGBM: 1300.390517614397\n"
     ]
    }
   ],
   "source": [
    "#Вывод RMSE\n",
    "print(\"RMSE модели LightGBM:\", result)"
   ]
  },
  {
   "cell_type": "markdown",
   "metadata": {},
   "source": [
    "Все показатели(время обучения, время предсказания и качество) для удобства были собраны в одной таблице."
   ]
  },
  {
   "cell_type": "code",
   "execution_count": 306,
   "metadata": {},
   "outputs": [],
   "source": [
    "df_review = pd.DataFrame(np.array([['35.8 s','251 ms','1504.4'],\n",
    "                            ['4.08 s','167 ms','1896.55'],\n",
    "                            ['2min 47s','367 ms','1299.86'],\n",
    "                            ['1.3 s','253 ms','1300.39']]), \n",
    "                  columns=['время обучения', 'время предсказания','качество'], \n",
    "                  index=['RandomForestRegressor','LinearRegression','CatBoostRegressor', 'LGBMRegressor'])"
   ]
  },
  {
   "cell_type": "code",
   "execution_count": 307,
   "metadata": {},
   "outputs": [
    {
     "data": {
      "text/html": [
       "<div>\n",
       "<style scoped>\n",
       "    .dataframe tbody tr th:only-of-type {\n",
       "        vertical-align: middle;\n",
       "    }\n",
       "\n",
       "    .dataframe tbody tr th {\n",
       "        vertical-align: top;\n",
       "    }\n",
       "\n",
       "    .dataframe thead th {\n",
       "        text-align: right;\n",
       "    }\n",
       "</style>\n",
       "<table border=\"1\" class=\"dataframe\">\n",
       "  <thead>\n",
       "    <tr style=\"text-align: right;\">\n",
       "      <th></th>\n",
       "      <th>время обучения</th>\n",
       "      <th>время предсказания</th>\n",
       "      <th>качество</th>\n",
       "    </tr>\n",
       "  </thead>\n",
       "  <tbody>\n",
       "    <tr>\n",
       "      <th>RandomForestRegressor</th>\n",
       "      <td>35.8 s</td>\n",
       "      <td>251 ms</td>\n",
       "      <td>1504.4</td>\n",
       "    </tr>\n",
       "    <tr>\n",
       "      <th>LinearRegression</th>\n",
       "      <td>4.08 s</td>\n",
       "      <td>167 ms</td>\n",
       "      <td>1896.55</td>\n",
       "    </tr>\n",
       "    <tr>\n",
       "      <th>CatBoostRegressor</th>\n",
       "      <td>2min 47s</td>\n",
       "      <td>367 ms</td>\n",
       "      <td>1299.86</td>\n",
       "    </tr>\n",
       "    <tr>\n",
       "      <th>LGBMRegressor</th>\n",
       "      <td>1.3 s</td>\n",
       "      <td>253 ms</td>\n",
       "      <td>1300.39</td>\n",
       "    </tr>\n",
       "  </tbody>\n",
       "</table>\n",
       "</div>"
      ],
      "text/plain": [
       "                      время обучения время предсказания качество\n",
       "RandomForestRegressor         35.8 s             251 ms   1504.4\n",
       "LinearRegression              4.08 s             167 ms  1896.55\n",
       "CatBoostRegressor           2min 47s             367 ms  1299.86\n",
       "LGBMRegressor                  1.3 s             253 ms  1300.39"
      ]
     },
     "execution_count": 307,
     "metadata": {},
     "output_type": "execute_result"
    }
   ],
   "source": [
    "df_review"
   ]
  },
  {
   "cell_type": "markdown",
   "metadata": {},
   "source": [
    "### Вывод"
   ]
  },
  {
   "cell_type": "markdown",
   "metadata": {},
   "source": [
    "Модель градиентного бустинга LGBMRegressor обладает наименьшим временем обучения и вместе с другой моделью градиентого бустинга, CatBoostRegressor, - наилучшим качеством, значения метрики RMSE у них практически не отличаются. \n",
    "На втором месте по времени обучения и времени предсказания стоит модель линейной регрессии, но ее качество оказывается хуже, чем у всех остальных моделей.\n",
    "Модели линейной регрессии и случайного леса уступают моделям градиентного бустинга, CatBoostRegressor и LGBMRegressor, по качеству, превосходя их только по времени предсказания и превосходя CatBoostRegressor\tпо времени обучения. Однако, наблюдаемая разница по времени предсказания и времени обучения некритична и предпочтение при выборе моделей стоит отдать их качеству. То есть при решении данной задачи остановить свой выбор стоит на моделях CatBoostRegressor и LGBMRegressor, или на одной модели - LGBMRegressor."
   ]
  },
  {
   "cell_type": "markdown",
   "metadata": {},
   "source": [
    "## Вывод"
   ]
  },
  {
   "cell_type": "markdown",
   "metadata": {},
   "source": [
    "При решении задачи было обучено несколько разных моделей. Были проанализированы время обучения, время предсказания и качество этих моделей. В результате, стоит остановить свой выбор на моделях CatBoostRegressor и LGBMRegressor, или на одной модели - LGBMRegressor."
   ]
  }
 ],
 "metadata": {
  "ExecuteTimeLog": [
   {
    "duration": 478,
    "start_time": "2022-03-27T15:55:54.104Z"
   },
   {
    "duration": 2833,
    "start_time": "2022-03-27T15:56:31.042Z"
   },
   {
    "duration": 28,
    "start_time": "2022-03-27T15:56:52.153Z"
   },
   {
    "duration": 174,
    "start_time": "2022-03-27T15:57:07.864Z"
   },
   {
    "duration": 57,
    "start_time": "2022-03-27T15:58:25.240Z"
   },
   {
    "duration": 45,
    "start_time": "2022-03-27T16:32:53.418Z"
   },
   {
    "duration": 1030,
    "start_time": "2022-03-27T16:33:21.095Z"
   },
   {
    "duration": 58,
    "start_time": "2022-03-27T16:33:26.943Z"
   },
   {
    "duration": 3,
    "start_time": "2022-03-27T16:33:30.926Z"
   },
   {
    "duration": 772,
    "start_time": "2022-03-27T16:33:32.062Z"
   },
   {
    "duration": 19,
    "start_time": "2022-03-27T16:33:32.889Z"
   },
   {
    "duration": 133,
    "start_time": "2022-03-27T16:33:33.943Z"
   },
   {
    "duration": 38,
    "start_time": "2022-03-27T16:33:37.566Z"
   },
   {
    "duration": 179,
    "start_time": "2022-03-27T16:33:38.990Z"
   },
   {
    "duration": 8,
    "start_time": "2022-03-27T17:02:08.539Z"
   },
   {
    "duration": 248,
    "start_time": "2022-03-27T17:02:40.106Z"
   },
   {
    "duration": 135,
    "start_time": "2022-03-27T17:02:51.204Z"
   },
   {
    "duration": 161,
    "start_time": "2022-03-27T17:03:57.657Z"
   },
   {
    "duration": 119,
    "start_time": "2022-03-27T17:04:11.649Z"
   },
   {
    "duration": 6,
    "start_time": "2022-03-27T17:05:23.886Z"
   },
   {
    "duration": 20,
    "start_time": "2022-03-27T17:05:52.646Z"
   },
   {
    "duration": 19,
    "start_time": "2022-03-27T17:07:03.892Z"
   },
   {
    "duration": 21,
    "start_time": "2022-03-27T17:07:26.804Z"
   },
   {
    "duration": 22,
    "start_time": "2022-03-27T17:14:57.772Z"
   },
   {
    "duration": 34,
    "start_time": "2022-03-27T17:16:09.585Z"
   },
   {
    "duration": 89,
    "start_time": "2022-03-27T17:19:49.932Z"
   },
   {
    "duration": 7,
    "start_time": "2022-03-27T17:20:18.071Z"
   },
   {
    "duration": 30,
    "start_time": "2022-03-27T17:21:04.114Z"
   },
   {
    "duration": 328,
    "start_time": "2022-03-27T17:24:01.474Z"
   },
   {
    "duration": 4,
    "start_time": "2022-03-27T17:32:44.492Z"
   },
   {
    "duration": 3,
    "start_time": "2022-03-27T17:32:59.844Z"
   },
   {
    "duration": 20,
    "start_time": "2022-03-27T17:33:43.148Z"
   },
   {
    "duration": 6,
    "start_time": "2022-03-27T17:34:03.189Z"
   },
   {
    "duration": 7,
    "start_time": "2022-03-27T17:36:04.977Z"
   },
   {
    "duration": 7,
    "start_time": "2022-03-27T17:36:09.361Z"
   },
   {
    "duration": 4,
    "start_time": "2022-03-27T17:39:43.597Z"
   },
   {
    "duration": 5,
    "start_time": "2022-03-27T17:39:49.964Z"
   },
   {
    "duration": 84,
    "start_time": "2022-03-27T17:40:58.060Z"
   },
   {
    "duration": 23,
    "start_time": "2022-03-27T17:43:28.975Z"
   },
   {
    "duration": 19,
    "start_time": "2022-03-27T17:44:13.336Z"
   },
   {
    "duration": 24,
    "start_time": "2022-03-27T17:44:30.086Z"
   },
   {
    "duration": 76,
    "start_time": "2022-03-27T17:45:00.463Z"
   },
   {
    "duration": 1554,
    "start_time": "2022-03-28T15:16:40.180Z"
   },
   {
    "duration": 799,
    "start_time": "2022-03-28T15:16:43.825Z"
   },
   {
    "duration": 3,
    "start_time": "2022-03-28T15:28:34.323Z"
   },
   {
    "duration": 87,
    "start_time": "2022-03-28T16:27:29.206Z"
   },
   {
    "duration": 3,
    "start_time": "2022-03-28T16:27:34.337Z"
   },
   {
    "duration": 717,
    "start_time": "2022-03-28T16:27:34.342Z"
   },
   {
    "duration": 29,
    "start_time": "2022-03-28T16:27:35.061Z"
   },
   {
    "duration": 122,
    "start_time": "2022-03-28T16:27:35.091Z"
   },
   {
    "duration": 116,
    "start_time": "2022-03-28T16:27:35.215Z"
   },
   {
    "duration": 78,
    "start_time": "2022-03-28T16:27:35.333Z"
   },
   {
    "duration": 19,
    "start_time": "2022-03-28T16:27:35.413Z"
   },
   {
    "duration": 22,
    "start_time": "2022-03-28T16:27:35.433Z"
   },
   {
    "duration": 30,
    "start_time": "2022-03-28T16:27:35.457Z"
   },
   {
    "duration": 26,
    "start_time": "2022-03-28T16:27:35.488Z"
   },
   {
    "duration": 19,
    "start_time": "2022-03-28T16:27:35.516Z"
   },
   {
    "duration": 44,
    "start_time": "2022-03-28T16:27:35.537Z"
   },
   {
    "duration": 162,
    "start_time": "2022-03-28T16:27:35.583Z"
   },
   {
    "duration": 176,
    "start_time": "2022-03-28T16:27:37.949Z"
   },
   {
    "duration": 3,
    "start_time": "2022-03-28T16:27:38.925Z"
   },
   {
    "duration": 3,
    "start_time": "2022-03-28T16:27:39.733Z"
   },
   {
    "duration": 6219,
    "start_time": "2022-03-28T16:28:08.204Z"
   },
   {
    "duration": 67,
    "start_time": "2022-03-29T04:17:41.598Z"
   },
   {
    "duration": 1464,
    "start_time": "2022-03-29T04:17:46.107Z"
   },
   {
    "duration": 1013,
    "start_time": "2022-03-29T04:17:47.573Z"
   },
   {
    "duration": 30,
    "start_time": "2022-03-29T04:17:48.588Z"
   },
   {
    "duration": 175,
    "start_time": "2022-03-29T04:17:48.620Z"
   },
   {
    "duration": 157,
    "start_time": "2022-03-29T04:17:48.799Z"
   },
   {
    "duration": 123,
    "start_time": "2022-03-29T04:17:48.957Z"
   },
   {
    "duration": 28,
    "start_time": "2022-03-29T04:17:49.082Z"
   },
   {
    "duration": 28,
    "start_time": "2022-03-29T04:17:49.112Z"
   },
   {
    "duration": 51,
    "start_time": "2022-03-29T04:17:49.142Z"
   },
   {
    "duration": 30,
    "start_time": "2022-03-29T04:17:49.195Z"
   },
   {
    "duration": 47,
    "start_time": "2022-03-29T04:17:49.227Z"
   },
   {
    "duration": 59,
    "start_time": "2022-03-29T04:17:49.276Z"
   },
   {
    "duration": 255,
    "start_time": "2022-03-29T04:17:49.337Z"
   },
   {
    "duration": 3,
    "start_time": "2022-03-29T04:17:49.596Z"
   },
   {
    "duration": 7,
    "start_time": "2022-03-29T04:17:49.601Z"
   },
   {
    "duration": 4082,
    "start_time": "2022-03-29T04:17:49.610Z"
   },
   {
    "duration": 106,
    "start_time": "2022-03-29T04:18:42.052Z"
   },
   {
    "duration": 8,
    "start_time": "2022-03-29T04:18:58.741Z"
   },
   {
    "duration": 132,
    "start_time": "2022-03-29T04:25:29.140Z"
   },
   {
    "duration": 5,
    "start_time": "2022-03-29T04:26:08.491Z"
   },
   {
    "duration": 21,
    "start_time": "2022-03-29T04:28:18.849Z"
   },
   {
    "duration": 4743,
    "start_time": "2022-03-29T04:28:39.520Z"
   },
   {
    "duration": 9,
    "start_time": "2022-03-29T04:29:56.190Z"
   },
   {
    "duration": 7,
    "start_time": "2022-03-29T04:30:22.886Z"
   },
   {
    "duration": 17,
    "start_time": "2022-03-29T04:30:42.525Z"
   },
   {
    "duration": 4,
    "start_time": "2022-03-29T04:30:52.616Z"
   },
   {
    "duration": 1032,
    "start_time": "2022-03-29T04:30:52.623Z"
   },
   {
    "duration": 20,
    "start_time": "2022-03-29T04:30:53.657Z"
   },
   {
    "duration": 172,
    "start_time": "2022-03-29T04:30:53.680Z"
   },
   {
    "duration": 155,
    "start_time": "2022-03-29T04:30:53.854Z"
   },
   {
    "duration": 16,
    "start_time": "2022-03-29T04:30:54.011Z"
   },
   {
    "duration": 46,
    "start_time": "2022-03-29T04:30:54.029Z"
   },
   {
    "duration": 137,
    "start_time": "2022-03-29T04:30:54.077Z"
   },
   {
    "duration": 9,
    "start_time": "2022-03-29T04:30:54.216Z"
   },
   {
    "duration": 52,
    "start_time": "2022-03-29T04:30:54.228Z"
   },
   {
    "duration": 27,
    "start_time": "2022-03-29T04:30:54.282Z"
   },
   {
    "duration": 30,
    "start_time": "2022-03-29T04:30:54.311Z"
   },
   {
    "duration": 25,
    "start_time": "2022-03-29T04:30:54.367Z"
   },
   {
    "duration": 27,
    "start_time": "2022-03-29T04:30:54.395Z"
   },
   {
    "duration": 99,
    "start_time": "2022-03-29T04:30:54.424Z"
   },
   {
    "duration": 249,
    "start_time": "2022-03-29T04:30:54.526Z"
   },
   {
    "duration": 5,
    "start_time": "2022-03-29T04:30:54.777Z"
   },
   {
    "duration": 6,
    "start_time": "2022-03-29T04:30:54.784Z"
   },
   {
    "duration": 4366,
    "start_time": "2022-03-29T04:30:54.793Z"
   },
   {
    "duration": 37,
    "start_time": "2022-03-29T04:32:31.371Z"
   },
   {
    "duration": 43,
    "start_time": "2022-03-29T04:34:34.689Z"
   },
   {
    "duration": 37,
    "start_time": "2022-03-29T04:35:35.040Z"
   },
   {
    "duration": 4,
    "start_time": "2022-03-29T04:35:43.363Z"
   },
   {
    "duration": 1011,
    "start_time": "2022-03-29T04:35:43.371Z"
   },
   {
    "duration": 21,
    "start_time": "2022-03-29T04:35:44.385Z"
   },
   {
    "duration": 188,
    "start_time": "2022-03-29T04:35:44.411Z"
   },
   {
    "duration": 167,
    "start_time": "2022-03-29T04:35:44.602Z"
   },
   {
    "duration": 44,
    "start_time": "2022-03-29T04:35:44.771Z"
   },
   {
    "duration": 15,
    "start_time": "2022-03-29T04:35:44.817Z"
   },
   {
    "duration": 61,
    "start_time": "2022-03-29T04:35:44.835Z"
   },
   {
    "duration": 149,
    "start_time": "2022-03-29T04:35:44.899Z"
   },
   {
    "duration": 22,
    "start_time": "2022-03-29T04:35:45.050Z"
   },
   {
    "duration": 28,
    "start_time": "2022-03-29T04:35:45.074Z"
   },
   {
    "duration": 28,
    "start_time": "2022-03-29T04:35:45.105Z"
   },
   {
    "duration": 55,
    "start_time": "2022-03-29T04:35:45.136Z"
   },
   {
    "duration": 75,
    "start_time": "2022-03-29T04:35:45.193Z"
   },
   {
    "duration": 28,
    "start_time": "2022-03-29T04:35:45.271Z"
   },
   {
    "duration": 82,
    "start_time": "2022-03-29T04:35:45.301Z"
   },
   {
    "duration": 248,
    "start_time": "2022-03-29T04:35:45.386Z"
   },
   {
    "duration": 4,
    "start_time": "2022-03-29T04:35:45.636Z"
   },
   {
    "duration": 12,
    "start_time": "2022-03-29T04:35:45.642Z"
   },
   {
    "duration": 4201,
    "start_time": "2022-03-29T04:35:45.656Z"
   },
   {
    "duration": 158,
    "start_time": "2022-03-29T04:38:56.029Z"
   },
   {
    "duration": 44,
    "start_time": "2022-03-29T04:40:11.043Z"
   },
   {
    "duration": 34,
    "start_time": "2022-03-29T04:40:51.121Z"
   },
   {
    "duration": 160,
    "start_time": "2022-03-29T04:41:06.592Z"
   },
   {
    "duration": 4,
    "start_time": "2022-03-29T04:41:12.604Z"
   },
   {
    "duration": 1032,
    "start_time": "2022-03-29T04:41:12.611Z"
   },
   {
    "duration": 25,
    "start_time": "2022-03-29T04:41:13.645Z"
   },
   {
    "duration": 172,
    "start_time": "2022-03-29T04:41:13.673Z"
   },
   {
    "duration": 162,
    "start_time": "2022-03-29T04:41:13.847Z"
   },
   {
    "duration": 67,
    "start_time": "2022-03-29T04:41:14.012Z"
   },
   {
    "duration": 37,
    "start_time": "2022-03-29T04:41:14.081Z"
   },
   {
    "duration": 180,
    "start_time": "2022-03-29T04:41:14.121Z"
   },
   {
    "duration": 17,
    "start_time": "2022-03-29T04:41:14.303Z"
   },
   {
    "duration": 62,
    "start_time": "2022-03-29T04:41:14.324Z"
   },
   {
    "duration": 163,
    "start_time": "2022-03-29T04:41:14.389Z"
   },
   {
    "duration": 153,
    "start_time": "2022-03-29T04:41:14.555Z"
   },
   {
    "duration": 10,
    "start_time": "2022-03-29T04:41:14.711Z"
   },
   {
    "duration": 49,
    "start_time": "2022-03-29T04:41:14.724Z"
   },
   {
    "duration": 30,
    "start_time": "2022-03-29T04:41:14.776Z"
   },
   {
    "duration": 30,
    "start_time": "2022-03-29T04:41:14.808Z"
   },
   {
    "duration": 29,
    "start_time": "2022-03-29T04:41:14.868Z"
   },
   {
    "duration": 28,
    "start_time": "2022-03-29T04:41:14.900Z"
   },
   {
    "duration": 92,
    "start_time": "2022-03-29T04:41:14.930Z"
   },
   {
    "duration": 238,
    "start_time": "2022-03-29T04:41:15.024Z"
   },
   {
    "duration": 4,
    "start_time": "2022-03-29T04:41:15.267Z"
   },
   {
    "duration": 5,
    "start_time": "2022-03-29T04:41:15.273Z"
   },
   {
    "duration": 4206,
    "start_time": "2022-03-29T04:41:15.280Z"
   },
   {
    "duration": 50,
    "start_time": "2022-03-29T04:48:53.031Z"
   },
   {
    "duration": 5,
    "start_time": "2022-03-29T04:49:08.626Z"
   },
   {
    "duration": 1018,
    "start_time": "2022-03-29T04:49:08.635Z"
   },
   {
    "duration": 26,
    "start_time": "2022-03-29T04:49:09.655Z"
   },
   {
    "duration": 182,
    "start_time": "2022-03-29T04:49:09.685Z"
   },
   {
    "duration": 169,
    "start_time": "2022-03-29T04:49:09.870Z"
   },
   {
    "duration": 57,
    "start_time": "2022-03-29T04:49:10.041Z"
   },
   {
    "duration": 38,
    "start_time": "2022-03-29T04:49:10.100Z"
   },
   {
    "duration": 189,
    "start_time": "2022-03-29T04:49:10.140Z"
   },
   {
    "duration": 61,
    "start_time": "2022-03-29T04:49:10.333Z"
   },
   {
    "duration": 17,
    "start_time": "2022-03-29T04:49:10.396Z"
   },
   {
    "duration": 1777,
    "start_time": "2022-03-29T04:49:10.415Z"
   },
   {
    "duration": 0,
    "start_time": "2022-03-29T04:49:12.195Z"
   },
   {
    "duration": 0,
    "start_time": "2022-03-29T04:49:12.196Z"
   },
   {
    "duration": 0,
    "start_time": "2022-03-29T04:49:12.198Z"
   },
   {
    "duration": 0,
    "start_time": "2022-03-29T04:49:12.199Z"
   },
   {
    "duration": 0,
    "start_time": "2022-03-29T04:49:12.201Z"
   },
   {
    "duration": 0,
    "start_time": "2022-03-29T04:49:12.202Z"
   },
   {
    "duration": 0,
    "start_time": "2022-03-29T04:49:12.204Z"
   },
   {
    "duration": 0,
    "start_time": "2022-03-29T04:49:12.206Z"
   },
   {
    "duration": 0,
    "start_time": "2022-03-29T04:49:12.208Z"
   },
   {
    "duration": 0,
    "start_time": "2022-03-29T04:49:12.209Z"
   },
   {
    "duration": 0,
    "start_time": "2022-03-29T04:49:12.212Z"
   },
   {
    "duration": 0,
    "start_time": "2022-03-29T04:49:12.213Z"
   },
   {
    "duration": 0,
    "start_time": "2022-03-29T04:49:12.215Z"
   },
   {
    "duration": 5,
    "start_time": "2022-03-29T04:49:40.433Z"
   },
   {
    "duration": 958,
    "start_time": "2022-03-29T04:49:40.442Z"
   },
   {
    "duration": 20,
    "start_time": "2022-03-29T04:49:41.402Z"
   },
   {
    "duration": 176,
    "start_time": "2022-03-29T04:49:41.426Z"
   },
   {
    "duration": 167,
    "start_time": "2022-03-29T04:49:41.604Z"
   },
   {
    "duration": 45,
    "start_time": "2022-03-29T04:49:41.773Z"
   },
   {
    "duration": 63,
    "start_time": "2022-03-29T04:49:41.820Z"
   },
   {
    "duration": 169,
    "start_time": "2022-03-29T04:49:41.886Z"
   },
   {
    "duration": 47,
    "start_time": "2022-03-29T04:49:42.057Z"
   },
   {
    "duration": 16,
    "start_time": "2022-03-29T04:49:42.108Z"
   },
   {
    "duration": 166,
    "start_time": "2022-03-29T04:49:42.126Z"
   },
   {
    "duration": 1918,
    "start_time": "2022-03-29T04:49:42.294Z"
   },
   {
    "duration": 0,
    "start_time": "2022-03-29T04:49:44.214Z"
   },
   {
    "duration": 0,
    "start_time": "2022-03-29T04:49:44.216Z"
   },
   {
    "duration": 0,
    "start_time": "2022-03-29T04:49:44.217Z"
   },
   {
    "duration": 0,
    "start_time": "2022-03-29T04:49:44.219Z"
   },
   {
    "duration": 0,
    "start_time": "2022-03-29T04:49:44.220Z"
   },
   {
    "duration": 0,
    "start_time": "2022-03-29T04:49:44.221Z"
   },
   {
    "duration": 0,
    "start_time": "2022-03-29T04:49:44.222Z"
   },
   {
    "duration": 0,
    "start_time": "2022-03-29T04:49:44.223Z"
   },
   {
    "duration": 0,
    "start_time": "2022-03-29T04:49:44.225Z"
   },
   {
    "duration": 0,
    "start_time": "2022-03-29T04:49:44.227Z"
   },
   {
    "duration": 0,
    "start_time": "2022-03-29T04:49:44.228Z"
   },
   {
    "duration": 5,
    "start_time": "2022-03-29T04:49:57.305Z"
   },
   {
    "duration": 1001,
    "start_time": "2022-03-29T04:49:57.313Z"
   },
   {
    "duration": 21,
    "start_time": "2022-03-29T04:49:58.316Z"
   },
   {
    "duration": 171,
    "start_time": "2022-03-29T04:49:58.340Z"
   },
   {
    "duration": 164,
    "start_time": "2022-03-29T04:49:58.513Z"
   },
   {
    "duration": 44,
    "start_time": "2022-03-29T04:49:58.679Z"
   },
   {
    "duration": 59,
    "start_time": "2022-03-29T04:49:58.725Z"
   },
   {
    "duration": 157,
    "start_time": "2022-03-29T04:49:58.786Z"
   },
   {
    "duration": 47,
    "start_time": "2022-03-29T04:49:58.945Z"
   },
   {
    "duration": 17,
    "start_time": "2022-03-29T04:49:58.996Z"
   },
   {
    "duration": 165,
    "start_time": "2022-03-29T04:49:59.015Z"
   },
   {
    "duration": 8,
    "start_time": "2022-03-29T04:49:59.182Z"
   },
   {
    "duration": 27,
    "start_time": "2022-03-29T04:49:59.193Z"
   },
   {
    "duration": 54,
    "start_time": "2022-03-29T04:49:59.222Z"
   },
   {
    "duration": 29,
    "start_time": "2022-03-29T04:49:59.280Z"
   },
   {
    "duration": 28,
    "start_time": "2022-03-29T04:49:59.312Z"
   },
   {
    "duration": 27,
    "start_time": "2022-03-29T04:49:59.367Z"
   },
   {
    "duration": 84,
    "start_time": "2022-03-29T04:49:59.396Z"
   },
   {
    "duration": 208,
    "start_time": "2022-03-29T04:49:59.482Z"
   },
   {
    "duration": 4,
    "start_time": "2022-03-29T04:49:59.692Z"
   },
   {
    "duration": 6,
    "start_time": "2022-03-29T04:49:59.698Z"
   },
   {
    "duration": 3399,
    "start_time": "2022-03-29T04:49:59.706Z"
   },
   {
    "duration": 27,
    "start_time": "2022-03-29T04:56:12.526Z"
   },
   {
    "duration": 15,
    "start_time": "2022-03-29T04:57:19.843Z"
   },
   {
    "duration": 59,
    "start_time": "2022-03-29T04:57:24.587Z"
   },
   {
    "duration": 71,
    "start_time": "2022-03-29T05:46:45.831Z"
   },
   {
    "duration": 38,
    "start_time": "2022-03-29T05:48:18.873Z"
   },
   {
    "duration": 541,
    "start_time": "2022-03-29T05:48:31.607Z"
   },
   {
    "duration": 518,
    "start_time": "2022-03-29T05:49:51.039Z"
   },
   {
    "duration": 36,
    "start_time": "2022-03-29T05:50:44.212Z"
   },
   {
    "duration": 60,
    "start_time": "2022-03-29T05:54:06.071Z"
   },
   {
    "duration": 63,
    "start_time": "2022-03-29T05:54:18.383Z"
   },
   {
    "duration": 43,
    "start_time": "2022-03-29T06:06:20.009Z"
   },
   {
    "duration": 73,
    "start_time": "2022-03-29T06:06:40.671Z"
   },
   {
    "duration": 93,
    "start_time": "2022-03-29T06:07:47.040Z"
   },
   {
    "duration": 1311,
    "start_time": "2022-03-29T08:55:16.088Z"
   },
   {
    "duration": 800,
    "start_time": "2022-03-29T08:55:17.401Z"
   },
   {
    "duration": 19,
    "start_time": "2022-03-29T08:55:18.203Z"
   },
   {
    "duration": 145,
    "start_time": "2022-03-29T08:55:18.224Z"
   },
   {
    "duration": 136,
    "start_time": "2022-03-29T08:55:18.371Z"
   },
   {
    "duration": 97,
    "start_time": "2022-03-29T08:56:34.795Z"
   },
   {
    "duration": 44,
    "start_time": "2022-03-29T08:56:40.322Z"
   },
   {
    "duration": 225,
    "start_time": "2022-03-29T08:57:06.929Z"
   },
   {
    "duration": 252,
    "start_time": "2022-03-29T08:57:22.440Z"
   },
   {
    "duration": 103,
    "start_time": "2022-03-29T08:57:56.344Z"
   },
   {
    "duration": 221,
    "start_time": "2022-03-29T08:58:03.816Z"
   },
   {
    "duration": 110,
    "start_time": "2022-03-29T08:58:35.831Z"
   },
   {
    "duration": 104,
    "start_time": "2022-03-29T08:59:08.822Z"
   },
   {
    "duration": 111,
    "start_time": "2022-03-29T08:59:51.293Z"
   },
   {
    "duration": 214,
    "start_time": "2022-03-29T09:00:00.500Z"
   },
   {
    "duration": 209,
    "start_time": "2022-03-29T09:01:08.659Z"
   },
   {
    "duration": 59,
    "start_time": "2022-03-29T09:01:09.475Z"
   },
   {
    "duration": 193,
    "start_time": "2022-03-29T09:01:26.387Z"
   },
   {
    "duration": 3,
    "start_time": "2022-03-29T09:02:20.435Z"
   },
   {
    "duration": 827,
    "start_time": "2022-03-29T09:02:21.857Z"
   },
   {
    "duration": 12,
    "start_time": "2022-03-29T09:02:24.641Z"
   },
   {
    "duration": 130,
    "start_time": "2022-03-29T09:02:25.761Z"
   },
   {
    "duration": 131,
    "start_time": "2022-03-29T09:02:29.825Z"
   },
   {
    "duration": 206,
    "start_time": "2022-03-29T09:02:33.425Z"
   },
   {
    "duration": 121,
    "start_time": "2022-03-29T09:02:34.313Z"
   },
   {
    "duration": 118,
    "start_time": "2022-03-29T09:02:34.961Z"
   },
   {
    "duration": 120,
    "start_time": "2022-03-29T09:02:35.521Z"
   },
   {
    "duration": 124,
    "start_time": "2022-03-29T09:02:36.113Z"
   },
   {
    "duration": 237,
    "start_time": "2022-03-29T09:02:37.080Z"
   },
   {
    "duration": 328,
    "start_time": "2022-03-29T09:02:40.488Z"
   },
   {
    "duration": 86,
    "start_time": "2022-03-29T09:02:42.392Z"
   },
   {
    "duration": 195,
    "start_time": "2022-03-29T09:02:45.032Z"
   },
   {
    "duration": 22,
    "start_time": "2022-03-29T09:02:51.040Z"
   },
   {
    "duration": 15,
    "start_time": "2022-03-29T09:02:51.928Z"
   },
   {
    "duration": 21,
    "start_time": "2022-03-29T09:02:52.776Z"
   },
   {
    "duration": 20,
    "start_time": "2022-03-29T09:02:54.968Z"
   },
   {
    "duration": 22,
    "start_time": "2022-03-29T09:02:55.928Z"
   },
   {
    "duration": 24,
    "start_time": "2022-03-29T09:02:58.800Z"
   },
   {
    "duration": 19,
    "start_time": "2022-03-29T09:02:59.536Z"
   },
   {
    "duration": 41,
    "start_time": "2022-03-29T09:03:01.376Z"
   },
   {
    "duration": 184,
    "start_time": "2022-03-29T09:03:04.544Z"
   },
   {
    "duration": 2,
    "start_time": "2022-03-29T09:03:13.360Z"
   },
   {
    "duration": 5,
    "start_time": "2022-03-29T09:03:15.176Z"
   },
   {
    "duration": 6183,
    "start_time": "2022-03-29T09:03:19.767Z"
   },
   {
    "duration": 3,
    "start_time": "2022-03-29T09:09:19.931Z"
   },
   {
    "duration": 793,
    "start_time": "2022-03-29T09:09:19.936Z"
   },
   {
    "duration": 12,
    "start_time": "2022-03-29T09:09:20.731Z"
   },
   {
    "duration": 149,
    "start_time": "2022-03-29T09:09:20.745Z"
   },
   {
    "duration": 139,
    "start_time": "2022-03-29T09:09:20.896Z"
   },
   {
    "duration": 134,
    "start_time": "2022-03-29T09:09:27.327Z"
   },
   {
    "duration": 19,
    "start_time": "2022-03-29T09:09:29.334Z"
   },
   {
    "duration": 19,
    "start_time": "2022-03-29T09:09:58.604Z"
   },
   {
    "duration": 194,
    "start_time": "2022-03-29T09:10:13.564Z"
   },
   {
    "duration": 128,
    "start_time": "2022-03-29T09:10:14.278Z"
   },
   {
    "duration": 134,
    "start_time": "2022-03-29T09:10:14.821Z"
   },
   {
    "duration": 127,
    "start_time": "2022-03-29T09:10:15.269Z"
   },
   {
    "duration": 137,
    "start_time": "2022-03-29T09:10:15.742Z"
   },
   {
    "duration": 226,
    "start_time": "2022-03-29T09:10:16.438Z"
   },
   {
    "duration": 261,
    "start_time": "2022-03-29T09:10:16.941Z"
   },
   {
    "duration": 65,
    "start_time": "2022-03-29T09:10:17.398Z"
   },
   {
    "duration": 210,
    "start_time": "2022-03-29T09:10:17.726Z"
   },
   {
    "duration": 25,
    "start_time": "2022-03-29T09:10:18.470Z"
   },
   {
    "duration": 13,
    "start_time": "2022-03-29T09:10:18.710Z"
   },
   {
    "duration": 22,
    "start_time": "2022-03-29T09:10:18.942Z"
   },
   {
    "duration": 21,
    "start_time": "2022-03-29T09:10:19.173Z"
   },
   {
    "duration": 25,
    "start_time": "2022-03-29T09:10:19.421Z"
   },
   {
    "duration": 23,
    "start_time": "2022-03-29T09:10:19.638Z"
   },
   {
    "duration": 22,
    "start_time": "2022-03-29T09:10:19.862Z"
   },
   {
    "duration": 103,
    "start_time": "2022-03-29T09:10:20.350Z"
   },
   {
    "duration": 234,
    "start_time": "2022-03-29T09:10:20.838Z"
   },
   {
    "duration": 3,
    "start_time": "2022-03-29T09:10:21.229Z"
   },
   {
    "duration": 3,
    "start_time": "2022-03-29T09:10:21.470Z"
   },
   {
    "duration": 6726,
    "start_time": "2022-03-29T09:10:21.729Z"
   },
   {
    "duration": 3,
    "start_time": "2022-03-29T09:14:50.180Z"
   },
   {
    "duration": 810,
    "start_time": "2022-03-29T09:14:50.184Z"
   },
   {
    "duration": 14,
    "start_time": "2022-03-29T09:14:50.996Z"
   },
   {
    "duration": 168,
    "start_time": "2022-03-29T09:14:51.012Z"
   },
   {
    "duration": 134,
    "start_time": "2022-03-29T09:14:51.182Z"
   },
   {
    "duration": 51,
    "start_time": "2022-03-29T09:14:51.318Z"
   },
   {
    "duration": 201,
    "start_time": "2022-03-29T09:14:51.371Z"
   },
   {
    "duration": 153,
    "start_time": "2022-03-29T09:14:51.573Z"
   },
   {
    "duration": 149,
    "start_time": "2022-03-29T09:14:51.729Z"
   },
   {
    "duration": 148,
    "start_time": "2022-03-29T09:14:51.879Z"
   },
   {
    "duration": 151,
    "start_time": "2022-03-29T09:14:52.029Z"
   },
   {
    "duration": 241,
    "start_time": "2022-03-29T09:14:52.182Z"
   },
   {
    "duration": 251,
    "start_time": "2022-03-29T09:14:52.424Z"
   },
   {
    "duration": 81,
    "start_time": "2022-03-29T09:14:52.677Z"
   },
   {
    "duration": 227,
    "start_time": "2022-03-29T09:14:52.760Z"
   },
   {
    "duration": 21,
    "start_time": "2022-03-29T09:14:52.989Z"
   },
   {
    "duration": 20,
    "start_time": "2022-03-29T09:14:53.012Z"
   },
   {
    "duration": 26,
    "start_time": "2022-03-29T09:14:53.033Z"
   },
   {
    "duration": 42,
    "start_time": "2022-03-29T09:14:53.060Z"
   },
   {
    "duration": 23,
    "start_time": "2022-03-29T09:14:53.104Z"
   },
   {
    "duration": 23,
    "start_time": "2022-03-29T09:14:53.129Z"
   },
   {
    "duration": 20,
    "start_time": "2022-03-29T09:14:53.153Z"
   },
   {
    "duration": 99,
    "start_time": "2022-03-29T09:14:53.175Z"
   },
   {
    "duration": 203,
    "start_time": "2022-03-29T09:14:53.277Z"
   },
   {
    "duration": 2,
    "start_time": "2022-03-29T09:14:53.482Z"
   },
   {
    "duration": 15,
    "start_time": "2022-03-29T09:14:53.485Z"
   },
   {
    "duration": 6310,
    "start_time": "2022-03-29T09:14:53.502Z"
   },
   {
    "duration": 219,
    "start_time": "2022-03-29T09:22:32.558Z"
   },
   {
    "duration": 8,
    "start_time": "2022-03-29T10:04:54.123Z"
   },
   {
    "duration": 1195,
    "start_time": "2022-03-29T10:04:58.325Z"
   },
   {
    "duration": 794,
    "start_time": "2022-03-29T10:04:59.521Z"
   },
   {
    "duration": 18,
    "start_time": "2022-03-29T10:05:00.316Z"
   },
   {
    "duration": 138,
    "start_time": "2022-03-29T10:05:00.336Z"
   },
   {
    "duration": 133,
    "start_time": "2022-03-29T10:05:00.476Z"
   },
   {
    "duration": 33,
    "start_time": "2022-03-29T10:05:00.610Z"
   },
   {
    "duration": 190,
    "start_time": "2022-03-29T10:05:00.645Z"
   },
   {
    "duration": 126,
    "start_time": "2022-03-29T10:05:00.837Z"
   },
   {
    "duration": 123,
    "start_time": "2022-03-29T10:05:00.965Z"
   },
   {
    "duration": 122,
    "start_time": "2022-03-29T10:05:01.091Z"
   },
   {
    "duration": 126,
    "start_time": "2022-03-29T10:05:01.215Z"
   },
   {
    "duration": 215,
    "start_time": "2022-03-29T10:05:01.343Z"
   },
   {
    "duration": 283,
    "start_time": "2022-03-29T10:05:01.560Z"
   },
   {
    "duration": 74,
    "start_time": "2022-03-29T10:05:01.845Z"
   },
   {
    "duration": 216,
    "start_time": "2022-03-29T10:05:01.921Z"
   },
   {
    "duration": 22,
    "start_time": "2022-03-29T10:05:02.138Z"
   },
   {
    "duration": 14,
    "start_time": "2022-03-29T10:05:02.162Z"
   },
   {
    "duration": 59,
    "start_time": "2022-03-29T10:05:02.177Z"
   },
   {
    "duration": 21,
    "start_time": "2022-03-29T10:05:02.238Z"
   },
   {
    "duration": 24,
    "start_time": "2022-03-29T10:05:02.260Z"
   },
   {
    "duration": 30,
    "start_time": "2022-03-29T10:05:02.285Z"
   },
   {
    "duration": 20,
    "start_time": "2022-03-29T10:05:02.316Z"
   },
   {
    "duration": 64,
    "start_time": "2022-03-29T10:05:02.338Z"
   },
   {
    "duration": 189,
    "start_time": "2022-03-29T10:05:02.404Z"
   },
   {
    "duration": 6,
    "start_time": "2022-03-29T10:05:02.595Z"
   },
   {
    "duration": 3,
    "start_time": "2022-03-29T10:05:04.872Z"
   },
   {
    "duration": 187,
    "start_time": "2022-03-29T10:05:06.776Z"
   },
   {
    "duration": 3,
    "start_time": "2022-03-29T10:05:10.048Z"
   },
   {
    "duration": 6243,
    "start_time": "2022-03-29T10:05:11.089Z"
   },
   {
    "duration": 3,
    "start_time": "2022-03-29T10:33:03.320Z"
   },
   {
    "duration": 792,
    "start_time": "2022-03-29T10:33:03.326Z"
   },
   {
    "duration": 14,
    "start_time": "2022-03-29T10:33:04.120Z"
   },
   {
    "duration": 148,
    "start_time": "2022-03-29T10:33:04.135Z"
   },
   {
    "duration": 143,
    "start_time": "2022-03-29T10:33:04.285Z"
   },
   {
    "duration": 21,
    "start_time": "2022-03-29T10:33:04.429Z"
   },
   {
    "duration": 201,
    "start_time": "2022-03-29T10:33:04.452Z"
   },
   {
    "duration": 135,
    "start_time": "2022-03-29T10:33:04.655Z"
   },
   {
    "duration": 134,
    "start_time": "2022-03-29T10:33:04.792Z"
   },
   {
    "duration": 140,
    "start_time": "2022-03-29T10:33:04.928Z"
   },
   {
    "duration": 146,
    "start_time": "2022-03-29T10:33:05.070Z"
   },
   {
    "duration": 122,
    "start_time": "2022-03-29T10:33:10.172Z"
   },
   {
    "duration": 155,
    "start_time": "2022-03-29T10:33:13.010Z"
   },
   {
    "duration": 3,
    "start_time": "2022-03-29T10:33:18.697Z"
   },
   {
    "duration": 807,
    "start_time": "2022-03-29T10:33:18.702Z"
   },
   {
    "duration": 13,
    "start_time": "2022-03-29T10:33:19.510Z"
   },
   {
    "duration": 158,
    "start_time": "2022-03-29T10:33:19.525Z"
   },
   {
    "duration": 138,
    "start_time": "2022-03-29T10:33:19.687Z"
   },
   {
    "duration": 21,
    "start_time": "2022-03-29T10:33:19.827Z"
   },
   {
    "duration": 211,
    "start_time": "2022-03-29T10:33:19.850Z"
   },
   {
    "duration": 141,
    "start_time": "2022-03-29T10:33:20.063Z"
   },
   {
    "duration": 136,
    "start_time": "2022-03-29T10:33:20.205Z"
   },
   {
    "duration": 135,
    "start_time": "2022-03-29T10:33:20.343Z"
   },
   {
    "duration": 143,
    "start_time": "2022-03-29T10:33:20.480Z"
   },
   {
    "duration": 157,
    "start_time": "2022-03-29T10:33:20.625Z"
   },
   {
    "duration": 239,
    "start_time": "2022-03-29T10:33:20.785Z"
   },
   {
    "duration": 251,
    "start_time": "2022-03-29T10:33:21.026Z"
   },
   {
    "duration": 78,
    "start_time": "2022-03-29T10:33:21.279Z"
   },
   {
    "duration": 206,
    "start_time": "2022-03-29T10:33:21.359Z"
   },
   {
    "duration": 21,
    "start_time": "2022-03-29T10:33:21.567Z"
   },
   {
    "duration": 14,
    "start_time": "2022-03-29T10:33:21.601Z"
   },
   {
    "duration": 30,
    "start_time": "2022-03-29T10:33:21.616Z"
   },
   {
    "duration": 27,
    "start_time": "2022-03-29T10:33:21.647Z"
   },
   {
    "duration": 43,
    "start_time": "2022-03-29T10:33:21.676Z"
   },
   {
    "duration": 22,
    "start_time": "2022-03-29T10:33:21.721Z"
   },
   {
    "duration": 23,
    "start_time": "2022-03-29T10:33:21.744Z"
   },
   {
    "duration": 82,
    "start_time": "2022-03-29T10:33:21.768Z"
   },
   {
    "duration": 214,
    "start_time": "2022-03-29T10:33:21.852Z"
   },
   {
    "duration": 3,
    "start_time": "2022-03-29T10:33:22.067Z"
   },
   {
    "duration": 228,
    "start_time": "2022-03-29T10:33:22.072Z"
   },
   {
    "duration": 4,
    "start_time": "2022-03-29T10:33:22.301Z"
   },
   {
    "duration": 7036,
    "start_time": "2022-03-29T10:33:22.306Z"
   },
   {
    "duration": 3,
    "start_time": "2022-03-29T10:35:07.829Z"
   },
   {
    "duration": 910,
    "start_time": "2022-03-29T10:35:07.835Z"
   },
   {
    "duration": 14,
    "start_time": "2022-03-29T10:35:08.747Z"
   },
   {
    "duration": 221,
    "start_time": "2022-03-29T10:35:08.763Z"
   },
   {
    "duration": 272,
    "start_time": "2022-03-29T10:35:08.986Z"
   },
   {
    "duration": 21,
    "start_time": "2022-03-29T10:35:09.260Z"
   },
   {
    "duration": 227,
    "start_time": "2022-03-29T10:35:09.283Z"
   },
   {
    "duration": 163,
    "start_time": "2022-03-29T10:35:09.512Z"
   },
   {
    "duration": 157,
    "start_time": "2022-03-29T10:35:09.677Z"
   },
   {
    "duration": 154,
    "start_time": "2022-03-29T10:35:09.837Z"
   },
   {
    "duration": 160,
    "start_time": "2022-03-29T10:35:09.992Z"
   },
   {
    "duration": 184,
    "start_time": "2022-03-29T10:35:10.154Z"
   },
   {
    "duration": 344,
    "start_time": "2022-03-29T10:35:10.339Z"
   },
   {
    "duration": 281,
    "start_time": "2022-03-29T10:35:10.685Z"
   },
   {
    "duration": 83,
    "start_time": "2022-03-29T10:35:10.968Z"
   },
   {
    "duration": 223,
    "start_time": "2022-03-29T10:35:11.053Z"
   },
   {
    "duration": 32,
    "start_time": "2022-03-29T10:35:11.278Z"
   },
   {
    "duration": 20,
    "start_time": "2022-03-29T10:35:11.311Z"
   },
   {
    "duration": 23,
    "start_time": "2022-03-29T10:35:11.333Z"
   },
   {
    "duration": 47,
    "start_time": "2022-03-29T10:35:11.358Z"
   },
   {
    "duration": 23,
    "start_time": "2022-03-29T10:35:11.407Z"
   },
   {
    "duration": 22,
    "start_time": "2022-03-29T10:35:11.432Z"
   },
   {
    "duration": 49,
    "start_time": "2022-03-29T10:35:11.456Z"
   },
   {
    "duration": 76,
    "start_time": "2022-03-29T10:35:11.507Z"
   },
   {
    "duration": 197,
    "start_time": "2022-03-29T10:35:11.585Z"
   },
   {
    "duration": 4,
    "start_time": "2022-03-29T10:35:11.783Z"
   },
   {
    "duration": 232,
    "start_time": "2022-03-29T10:35:11.788Z"
   },
   {
    "duration": 3,
    "start_time": "2022-03-29T10:35:12.024Z"
   },
   {
    "duration": 16057,
    "start_time": "2022-03-29T10:35:12.029Z"
   },
   {
    "duration": 1114,
    "start_time": "2022-03-29T17:04:51.355Z"
   },
   {
    "duration": 3,
    "start_time": "2022-03-29T17:14:23.260Z"
   },
   {
    "duration": 96,
    "start_time": "2022-03-29T17:14:26.669Z"
   },
   {
    "duration": 3,
    "start_time": "2022-03-29T17:14:31.698Z"
   },
   {
    "duration": 758,
    "start_time": "2022-03-29T17:14:31.703Z"
   },
   {
    "duration": 19,
    "start_time": "2022-03-29T17:14:32.462Z"
   },
   {
    "duration": 142,
    "start_time": "2022-03-29T17:14:32.482Z"
   },
   {
    "duration": 126,
    "start_time": "2022-03-29T17:14:32.626Z"
   },
   {
    "duration": 19,
    "start_time": "2022-03-29T17:14:32.754Z"
   },
   {
    "duration": 180,
    "start_time": "2022-03-29T17:14:32.774Z"
   },
   {
    "duration": 105,
    "start_time": "2022-03-29T17:14:32.956Z"
   },
   {
    "duration": 108,
    "start_time": "2022-03-29T17:14:33.064Z"
   },
   {
    "duration": 105,
    "start_time": "2022-03-29T17:14:33.174Z"
   },
   {
    "duration": 112,
    "start_time": "2022-03-29T17:14:33.280Z"
   },
   {
    "duration": 133,
    "start_time": "2022-03-29T17:14:33.394Z"
   },
   {
    "duration": 211,
    "start_time": "2022-03-29T17:14:33.529Z"
   },
   {
    "duration": 241,
    "start_time": "2022-03-29T17:14:33.742Z"
   },
   {
    "duration": 63,
    "start_time": "2022-03-29T17:14:33.985Z"
   },
   {
    "duration": 193,
    "start_time": "2022-03-29T17:14:34.049Z"
   },
   {
    "duration": 21,
    "start_time": "2022-03-29T17:14:34.244Z"
   },
   {
    "duration": 15,
    "start_time": "2022-03-29T17:14:34.267Z"
   },
   {
    "duration": 43,
    "start_time": "2022-03-29T17:14:34.284Z"
   },
   {
    "duration": 23,
    "start_time": "2022-03-29T17:14:34.329Z"
   },
   {
    "duration": 24,
    "start_time": "2022-03-29T17:14:34.354Z"
   },
   {
    "duration": 43,
    "start_time": "2022-03-29T17:14:34.380Z"
   },
   {
    "duration": 22,
    "start_time": "2022-03-29T17:14:34.425Z"
   },
   {
    "duration": 63,
    "start_time": "2022-03-29T17:14:34.450Z"
   },
   {
    "duration": 173,
    "start_time": "2022-03-29T17:14:34.515Z"
   },
   {
    "duration": 3,
    "start_time": "2022-03-29T17:14:34.689Z"
   },
   {
    "duration": 201,
    "start_time": "2022-03-29T17:14:34.694Z"
   },
   {
    "duration": 3,
    "start_time": "2022-03-29T17:14:34.897Z"
   },
   {
    "duration": 20,
    "start_time": "2022-03-29T17:14:34.908Z"
   },
   {
    "duration": 1574,
    "start_time": "2022-03-30T09:11:41.735Z"
   },
   {
    "duration": 1020,
    "start_time": "2022-03-30T09:11:43.312Z"
   },
   {
    "duration": 31,
    "start_time": "2022-03-30T09:11:44.334Z"
   },
   {
    "duration": 161,
    "start_time": "2022-03-30T09:11:44.381Z"
   },
   {
    "duration": 163,
    "start_time": "2022-03-30T09:11:44.545Z"
   },
   {
    "duration": 27,
    "start_time": "2022-03-30T09:11:44.710Z"
   },
   {
    "duration": 277,
    "start_time": "2022-03-30T09:11:44.740Z"
   },
   {
    "duration": 188,
    "start_time": "2022-03-30T09:11:45.020Z"
   },
   {
    "duration": 184,
    "start_time": "2022-03-30T09:11:45.211Z"
   },
   {
    "duration": 173,
    "start_time": "2022-03-30T09:11:45.398Z"
   },
   {
    "duration": 187,
    "start_time": "2022-03-30T09:11:45.573Z"
   },
   {
    "duration": 220,
    "start_time": "2022-03-30T09:11:45.762Z"
   },
   {
    "duration": 328,
    "start_time": "2022-03-30T09:11:45.985Z"
   },
   {
    "duration": 324,
    "start_time": "2022-03-30T09:11:46.317Z"
   },
   {
    "duration": 101,
    "start_time": "2022-03-30T09:11:46.644Z"
   },
   {
    "duration": 231,
    "start_time": "2022-03-30T09:11:46.748Z"
   },
   {
    "duration": 68,
    "start_time": "2022-03-30T09:12:20.216Z"
   },
   {
    "duration": 1563,
    "start_time": "2022-03-30T09:12:32.153Z"
   },
   {
    "duration": 988,
    "start_time": "2022-03-30T09:12:36.273Z"
   },
   {
    "duration": 35,
    "start_time": "2022-03-30T09:12:37.264Z"
   },
   {
    "duration": 159,
    "start_time": "2022-03-30T09:12:37.713Z"
   },
   {
    "duration": 164,
    "start_time": "2022-03-30T09:12:38.609Z"
   },
   {
    "duration": 39,
    "start_time": "2022-03-30T09:12:39.074Z"
   },
   {
    "duration": 222,
    "start_time": "2022-03-30T09:12:39.490Z"
   },
   {
    "duration": 154,
    "start_time": "2022-03-30T09:12:39.831Z"
   },
   {
    "duration": 148,
    "start_time": "2022-03-30T09:12:40.256Z"
   },
   {
    "duration": 148,
    "start_time": "2022-03-30T09:12:42.255Z"
   },
   {
    "duration": 158,
    "start_time": "2022-03-30T09:12:42.920Z"
   },
   {
    "duration": 183,
    "start_time": "2022-03-30T09:12:43.359Z"
   },
   {
    "duration": 250,
    "start_time": "2022-03-30T09:12:44.087Z"
   },
   {
    "duration": 297,
    "start_time": "2022-03-30T09:12:47.249Z"
   },
   {
    "duration": 88,
    "start_time": "2022-03-30T09:12:47.930Z"
   },
   {
    "duration": 207,
    "start_time": "2022-03-30T09:12:49.209Z"
   },
   {
    "duration": 1544,
    "start_time": "2022-03-30T09:24:15.435Z"
   },
   {
    "duration": 950,
    "start_time": "2022-03-30T09:24:16.982Z"
   },
   {
    "duration": 28,
    "start_time": "2022-03-30T09:24:17.934Z"
   },
   {
    "duration": 167,
    "start_time": "2022-03-30T09:24:17.965Z"
   },
   {
    "duration": 160,
    "start_time": "2022-03-30T09:24:18.135Z"
   },
   {
    "duration": 26,
    "start_time": "2022-03-30T09:24:18.297Z"
   },
   {
    "duration": 248,
    "start_time": "2022-03-30T09:24:18.325Z"
   },
   {
    "duration": 164,
    "start_time": "2022-03-30T09:24:18.576Z"
   },
   {
    "duration": 165,
    "start_time": "2022-03-30T09:24:18.742Z"
   },
   {
    "duration": 181,
    "start_time": "2022-03-30T09:24:18.909Z"
   },
   {
    "duration": 171,
    "start_time": "2022-03-30T09:24:19.092Z"
   },
   {
    "duration": 189,
    "start_time": "2022-03-30T09:24:19.265Z"
   },
   {
    "duration": 245,
    "start_time": "2022-03-30T09:24:19.456Z"
   },
   {
    "duration": 318,
    "start_time": "2022-03-30T09:24:19.704Z"
   },
   {
    "duration": 94,
    "start_time": "2022-03-30T09:24:20.027Z"
   },
   {
    "duration": 231,
    "start_time": "2022-03-30T09:24:20.124Z"
   },
   {
    "duration": 1651,
    "start_time": "2022-03-30T10:11:47.907Z"
   },
   {
    "duration": 976,
    "start_time": "2022-03-30T10:11:49.560Z"
   },
   {
    "duration": 30,
    "start_time": "2022-03-30T10:11:50.538Z"
   },
   {
    "duration": 173,
    "start_time": "2022-03-30T10:11:50.583Z"
   },
   {
    "duration": 159,
    "start_time": "2022-03-30T10:11:50.758Z"
   },
   {
    "duration": 37,
    "start_time": "2022-03-30T10:11:50.920Z"
   },
   {
    "duration": 254,
    "start_time": "2022-03-30T10:11:50.960Z"
   },
   {
    "duration": 159,
    "start_time": "2022-03-30T10:11:51.216Z"
   },
   {
    "duration": 156,
    "start_time": "2022-03-30T10:11:51.377Z"
   },
   {
    "duration": 160,
    "start_time": "2022-03-30T10:11:51.536Z"
   },
   {
    "duration": 169,
    "start_time": "2022-03-30T10:11:51.698Z"
   },
   {
    "duration": 189,
    "start_time": "2022-03-30T10:11:51.869Z"
   },
   {
    "duration": 266,
    "start_time": "2022-03-30T10:11:52.060Z"
   },
   {
    "duration": 315,
    "start_time": "2022-03-30T10:11:52.328Z"
   },
   {
    "duration": 98,
    "start_time": "2022-03-30T10:11:52.645Z"
   },
   {
    "duration": 228,
    "start_time": "2022-03-30T10:11:52.745Z"
   },
   {
    "duration": 110,
    "start_time": "2022-03-30T10:13:20.589Z"
   },
   {
    "duration": 1677,
    "start_time": "2022-03-30T10:13:26.547Z"
   },
   {
    "duration": 985,
    "start_time": "2022-03-30T10:13:28.227Z"
   },
   {
    "duration": 41,
    "start_time": "2022-03-30T10:13:30.103Z"
   },
   {
    "duration": 83,
    "start_time": "2022-03-30T10:14:41.699Z"
   },
   {
    "duration": 5,
    "start_time": "2022-03-30T10:14:46.408Z"
   },
   {
    "duration": 1017,
    "start_time": "2022-03-30T10:14:46.416Z"
   },
   {
    "duration": 34,
    "start_time": "2022-03-30T10:14:47.435Z"
   },
   {
    "duration": 20,
    "start_time": "2022-03-30T10:14:47.484Z"
   },
   {
    "duration": 183,
    "start_time": "2022-03-30T10:14:47.507Z"
   },
   {
    "duration": 156,
    "start_time": "2022-03-30T10:14:47.692Z"
   },
   {
    "duration": 41,
    "start_time": "2022-03-30T10:14:47.850Z"
   },
   {
    "duration": 244,
    "start_time": "2022-03-30T10:14:47.893Z"
   },
   {
    "duration": 168,
    "start_time": "2022-03-30T10:14:48.141Z"
   },
   {
    "duration": 168,
    "start_time": "2022-03-30T10:14:48.312Z"
   },
   {
    "duration": 167,
    "start_time": "2022-03-30T10:14:48.483Z"
   },
   {
    "duration": 179,
    "start_time": "2022-03-30T10:14:48.653Z"
   },
   {
    "duration": 240,
    "start_time": "2022-03-30T10:14:48.835Z"
   },
   {
    "duration": 395,
    "start_time": "2022-03-30T10:14:49.078Z"
   },
   {
    "duration": 353,
    "start_time": "2022-03-30T10:14:49.483Z"
   },
   {
    "duration": 104,
    "start_time": "2022-03-30T10:14:49.838Z"
   },
   {
    "duration": 456,
    "start_time": "2022-03-30T10:14:49.945Z"
   },
   {
    "duration": 32,
    "start_time": "2022-03-30T10:14:50.404Z"
   },
   {
    "duration": 19,
    "start_time": "2022-03-30T10:14:50.439Z"
   },
   {
    "duration": 35,
    "start_time": "2022-03-30T10:14:50.483Z"
   },
   {
    "duration": 41,
    "start_time": "2022-03-30T10:14:50.520Z"
   },
   {
    "duration": 48,
    "start_time": "2022-03-30T10:14:50.563Z"
   },
   {
    "duration": 45,
    "start_time": "2022-03-30T10:14:50.614Z"
   },
   {
    "duration": 60,
    "start_time": "2022-03-30T10:14:50.664Z"
   },
   {
    "duration": 73,
    "start_time": "2022-03-30T10:14:50.726Z"
   },
   {
    "duration": 338,
    "start_time": "2022-03-30T10:14:50.801Z"
   },
   {
    "duration": 70,
    "start_time": "2022-03-30T10:15:22.858Z"
   },
   {
    "duration": 1520,
    "start_time": "2022-03-30T10:15:30.327Z"
   },
   {
    "duration": 1082,
    "start_time": "2022-03-30T10:15:31.851Z"
   },
   {
    "duration": 52,
    "start_time": "2022-03-30T10:15:32.936Z"
   },
   {
    "duration": 18,
    "start_time": "2022-03-30T10:15:32.990Z"
   },
   {
    "duration": 182,
    "start_time": "2022-03-30T10:15:33.012Z"
   },
   {
    "duration": 166,
    "start_time": "2022-03-30T10:15:33.196Z"
   },
   {
    "duration": 39,
    "start_time": "2022-03-30T10:15:33.365Z"
   },
   {
    "duration": 275,
    "start_time": "2022-03-30T10:15:33.407Z"
   },
   {
    "duration": 176,
    "start_time": "2022-03-30T10:15:33.684Z"
   },
   {
    "duration": 191,
    "start_time": "2022-03-30T10:15:33.863Z"
   },
   {
    "duration": 182,
    "start_time": "2022-03-30T10:15:34.056Z"
   },
   {
    "duration": 183,
    "start_time": "2022-03-30T10:15:34.240Z"
   },
   {
    "duration": 204,
    "start_time": "2022-03-30T10:15:34.425Z"
   },
   {
    "duration": 272,
    "start_time": "2022-03-30T10:15:34.635Z"
   },
   {
    "duration": 296,
    "start_time": "2022-03-30T10:15:34.910Z"
   },
   {
    "duration": 111,
    "start_time": "2022-03-30T10:15:35.209Z"
   },
   {
    "duration": 230,
    "start_time": "2022-03-30T10:15:35.323Z"
   },
   {
    "duration": 52,
    "start_time": "2022-03-30T10:15:35.556Z"
   },
   {
    "duration": 23,
    "start_time": "2022-03-30T10:15:35.610Z"
   },
   {
    "duration": 62,
    "start_time": "2022-03-30T10:15:35.636Z"
   },
   {
    "duration": 35,
    "start_time": "2022-03-30T10:15:35.700Z"
   },
   {
    "duration": 56,
    "start_time": "2022-03-30T10:15:35.737Z"
   },
   {
    "duration": 34,
    "start_time": "2022-03-30T10:15:35.795Z"
   },
   {
    "duration": 56,
    "start_time": "2022-03-30T10:15:35.831Z"
   },
   {
    "duration": 58,
    "start_time": "2022-03-30T10:15:35.889Z"
   },
   {
    "duration": 335,
    "start_time": "2022-03-30T10:15:35.949Z"
   },
   {
    "duration": 70,
    "start_time": "2022-03-30T10:15:44.812Z"
   },
   {
    "duration": 1719,
    "start_time": "2022-03-30T10:15:53.044Z"
   },
   {
    "duration": 87,
    "start_time": "2022-03-30T10:16:01.040Z"
   },
   {
    "duration": 5,
    "start_time": "2022-03-30T10:16:08.110Z"
   },
   {
    "duration": 993,
    "start_time": "2022-03-30T10:16:08.117Z"
   },
   {
    "duration": 44,
    "start_time": "2022-03-30T10:16:09.112Z"
   },
   {
    "duration": 39,
    "start_time": "2022-03-30T10:16:09.159Z"
   },
   {
    "duration": 171,
    "start_time": "2022-03-30T10:16:09.201Z"
   },
   {
    "duration": 153,
    "start_time": "2022-03-30T10:16:09.382Z"
   },
   {
    "duration": 27,
    "start_time": "2022-03-30T10:16:09.537Z"
   },
   {
    "duration": 254,
    "start_time": "2022-03-30T10:16:09.583Z"
   },
   {
    "duration": 173,
    "start_time": "2022-03-30T10:16:09.840Z"
   },
   {
    "duration": 171,
    "start_time": "2022-03-30T10:16:10.016Z"
   },
   {
    "duration": 173,
    "start_time": "2022-03-30T10:16:10.189Z"
   },
   {
    "duration": 177,
    "start_time": "2022-03-30T10:16:10.364Z"
   },
   {
    "duration": 198,
    "start_time": "2022-03-30T10:16:10.543Z"
   },
   {
    "duration": 247,
    "start_time": "2022-03-30T10:16:10.743Z"
   },
   {
    "duration": 292,
    "start_time": "2022-03-30T10:16:10.992Z"
   },
   {
    "duration": 97,
    "start_time": "2022-03-30T10:16:11.286Z"
   },
   {
    "duration": 238,
    "start_time": "2022-03-30T10:16:11.386Z"
   },
   {
    "duration": 34,
    "start_time": "2022-03-30T10:16:11.626Z"
   },
   {
    "duration": 34,
    "start_time": "2022-03-30T10:16:11.662Z"
   },
   {
    "duration": 42,
    "start_time": "2022-03-30T10:16:11.698Z"
   },
   {
    "duration": 62,
    "start_time": "2022-03-30T10:16:11.743Z"
   },
   {
    "duration": 48,
    "start_time": "2022-03-30T10:16:11.808Z"
   },
   {
    "duration": 62,
    "start_time": "2022-03-30T10:16:11.859Z"
   },
   {
    "duration": 56,
    "start_time": "2022-03-30T10:16:11.927Z"
   },
   {
    "duration": 63,
    "start_time": "2022-03-30T10:16:11.986Z"
   },
   {
    "duration": 331,
    "start_time": "2022-03-30T10:16:12.051Z"
   },
   {
    "duration": 68,
    "start_time": "2022-03-30T10:16:21.779Z"
   },
   {
    "duration": 1847,
    "start_time": "2022-03-30T14:26:28.905Z"
   },
   {
    "duration": 1476,
    "start_time": "2022-03-30T14:26:30.755Z"
   },
   {
    "duration": 61,
    "start_time": "2022-03-30T14:26:32.233Z"
   },
   {
    "duration": 19,
    "start_time": "2022-03-30T14:26:32.296Z"
   },
   {
    "duration": 200,
    "start_time": "2022-03-30T14:26:32.318Z"
   },
   {
    "duration": 171,
    "start_time": "2022-03-30T14:26:32.520Z"
   },
   {
    "duration": 26,
    "start_time": "2022-03-30T14:26:43.185Z"
   },
   {
    "duration": 25,
    "start_time": "2022-03-30T14:27:33.040Z"
   },
   {
    "duration": 26,
    "start_time": "2022-03-30T14:28:16.902Z"
   },
   {
    "duration": 173,
    "start_time": "2022-03-30T14:28:27.917Z"
   },
   {
    "duration": 27,
    "start_time": "2022-03-30T14:31:07.570Z"
   },
   {
    "duration": 26,
    "start_time": "2022-03-30T14:33:20.575Z"
   },
   {
    "duration": 27,
    "start_time": "2022-03-30T14:35:11.484Z"
   },
   {
    "duration": 25,
    "start_time": "2022-03-30T14:35:25.043Z"
   },
   {
    "duration": 65,
    "start_time": "2022-03-30T14:36:35.009Z"
   },
   {
    "duration": 244,
    "start_time": "2022-03-30T14:38:58.673Z"
   },
   {
    "duration": 161,
    "start_time": "2022-03-30T14:39:07.399Z"
   },
   {
    "duration": 37,
    "start_time": "2022-03-30T14:42:29.242Z"
   },
   {
    "duration": 712,
    "start_time": "2022-03-30T14:43:30.920Z"
   },
   {
    "duration": 789,
    "start_time": "2022-03-30T14:43:39.882Z"
   },
   {
    "duration": 659,
    "start_time": "2022-03-30T14:44:18.280Z"
   },
   {
    "duration": 635,
    "start_time": "2022-03-30T14:45:26.976Z"
   },
   {
    "duration": 7,
    "start_time": "2022-03-30T15:13:31.057Z"
   },
   {
    "duration": 8,
    "start_time": "2022-03-30T15:13:44.904Z"
   },
   {
    "duration": 8,
    "start_time": "2022-03-30T15:13:58.659Z"
   },
   {
    "duration": 7,
    "start_time": "2022-03-30T15:14:16.015Z"
   },
   {
    "duration": 10,
    "start_time": "2022-03-30T15:14:44.823Z"
   },
   {
    "duration": 13,
    "start_time": "2022-03-30T15:15:04.134Z"
   },
   {
    "duration": 41,
    "start_time": "2022-03-30T15:21:26.605Z"
   },
   {
    "duration": 8,
    "start_time": "2022-03-30T15:24:05.194Z"
   },
   {
    "duration": 54,
    "start_time": "2022-03-30T15:25:26.762Z"
   },
   {
    "duration": 48,
    "start_time": "2022-03-30T15:28:41.366Z"
   },
   {
    "duration": 35,
    "start_time": "2022-03-30T16:02:49.872Z"
   },
   {
    "duration": 4,
    "start_time": "2022-03-30T16:48:23.123Z"
   },
   {
    "duration": 4,
    "start_time": "2022-03-30T16:53:08.605Z"
   },
   {
    "duration": 187,
    "start_time": "2022-03-30T16:53:14.498Z"
   },
   {
    "duration": 12,
    "start_time": "2022-03-30T16:53:15.538Z"
   },
   {
    "duration": 13,
    "start_time": "2022-03-30T16:53:34.898Z"
   },
   {
    "duration": 10,
    "start_time": "2022-03-30T16:54:35.137Z"
   },
   {
    "duration": 104,
    "start_time": "2022-03-30T17:13:45.765Z"
   },
   {
    "duration": 1899,
    "start_time": "2022-03-30T17:13:50.466Z"
   },
   {
    "duration": 1004,
    "start_time": "2022-03-30T17:13:52.368Z"
   },
   {
    "duration": 47,
    "start_time": "2022-03-30T17:13:53.374Z"
   },
   {
    "duration": 19,
    "start_time": "2022-03-30T17:13:53.424Z"
   },
   {
    "duration": 192,
    "start_time": "2022-03-30T17:13:53.445Z"
   },
   {
    "duration": 171,
    "start_time": "2022-03-30T17:13:53.640Z"
   },
   {
    "duration": 242,
    "start_time": "2022-03-30T17:13:53.814Z"
   },
   {
    "duration": 152,
    "start_time": "2022-03-30T17:13:54.059Z"
   },
   {
    "duration": 48,
    "start_time": "2022-03-30T17:13:54.213Z"
   },
   {
    "duration": 24,
    "start_time": "2022-03-30T17:13:54.267Z"
   },
   {
    "duration": 68,
    "start_time": "2022-03-30T17:13:54.293Z"
   },
   {
    "duration": 51,
    "start_time": "2022-03-30T17:13:54.363Z"
   },
   {
    "duration": 16,
    "start_time": "2022-03-30T17:13:54.416Z"
   },
   {
    "duration": 27,
    "start_time": "2022-03-30T17:13:54.435Z"
   },
   {
    "duration": 14,
    "start_time": "2022-03-30T17:13:54.465Z"
   },
   {
    "duration": 15,
    "start_time": "2022-03-30T17:13:54.482Z"
   },
   {
    "duration": 16,
    "start_time": "2022-03-30T17:13:54.500Z"
   },
   {
    "duration": 14,
    "start_time": "2022-03-30T17:13:54.519Z"
   },
   {
    "duration": 23,
    "start_time": "2022-03-30T17:13:54.536Z"
   },
   {
    "duration": 12,
    "start_time": "2022-03-30T17:13:54.561Z"
   },
   {
    "duration": 198,
    "start_time": "2022-03-30T17:13:54.575Z"
   },
   {
    "duration": 15,
    "start_time": "2022-03-30T17:13:54.775Z"
   },
   {
    "duration": 22,
    "start_time": "2022-03-30T17:13:54.792Z"
   },
   {
    "duration": 8,
    "start_time": "2022-03-30T17:17:15.144Z"
   },
   {
    "duration": 619,
    "start_time": "2022-03-30T17:19:17.910Z"
   },
   {
    "duration": 1145,
    "start_time": "2022-03-30T17:26:35.013Z"
   },
   {
    "duration": 672,
    "start_time": "2022-03-30T17:29:08.698Z"
   },
   {
    "duration": 167,
    "start_time": "2022-03-30T17:29:10.151Z"
   },
   {
    "duration": 53,
    "start_time": "2022-03-30T17:29:11.039Z"
   },
   {
    "duration": 201,
    "start_time": "2022-03-30T17:30:41.654Z"
   },
   {
    "duration": 12,
    "start_time": "2022-03-30T17:31:58.901Z"
   },
   {
    "duration": 127,
    "start_time": "2022-03-30T17:32:22.501Z"
   },
   {
    "duration": 13,
    "start_time": "2022-03-30T17:34:38.978Z"
   },
   {
    "duration": 243,
    "start_time": "2022-03-30T17:35:11.634Z"
   },
   {
    "duration": 798802,
    "start_time": "2022-03-30T17:35:31.209Z"
   },
   {
    "duration": 5,
    "start_time": "2022-03-30T17:48:50.014Z"
   },
   {
    "duration": 5774,
    "start_time": "2022-03-30T17:48:50.021Z"
   },
   {
    "duration": 76298,
    "start_time": "2022-03-30T17:59:26.706Z"
   },
   {
    "duration": 766,
    "start_time": "2022-03-30T18:00:43.006Z"
   },
   {
    "duration": 719,
    "start_time": "2022-03-30T18:11:42.691Z"
   },
   {
    "duration": 158768,
    "start_time": "2022-03-30T18:23:06.475Z"
   },
   {
    "duration": 509,
    "start_time": "2022-03-30T18:25:45.246Z"
   },
   {
    "duration": 8,
    "start_time": "2022-03-30T18:31:43.312Z"
   },
   {
    "duration": 1417,
    "start_time": "2022-03-30T18:31:43.323Z"
   },
   {
    "duration": 60,
    "start_time": "2022-03-30T18:31:44.743Z"
   },
   {
    "duration": 18,
    "start_time": "2022-03-30T18:31:44.806Z"
   },
   {
    "duration": 172,
    "start_time": "2022-03-30T18:31:44.826Z"
   },
   {
    "duration": 159,
    "start_time": "2022-03-30T18:31:45.001Z"
   },
   {
    "duration": 231,
    "start_time": "2022-03-30T18:31:45.163Z"
   },
   {
    "duration": 155,
    "start_time": "2022-03-30T18:31:45.397Z"
   },
   {
    "duration": 43,
    "start_time": "2022-03-30T18:31:45.554Z"
   },
   {
    "duration": 10,
    "start_time": "2022-03-30T18:31:45.602Z"
   },
   {
    "duration": 71,
    "start_time": "2022-03-30T18:31:45.615Z"
   },
   {
    "duration": 51,
    "start_time": "2022-03-30T18:31:45.688Z"
   },
   {
    "duration": 4,
    "start_time": "2022-03-30T18:31:45.741Z"
   },
   {
    "duration": 41,
    "start_time": "2022-03-30T18:31:45.747Z"
   },
   {
    "duration": 43,
    "start_time": "2022-03-30T18:31:45.790Z"
   },
   {
    "duration": 28,
    "start_time": "2022-03-30T18:31:45.835Z"
   },
   {
    "duration": 23,
    "start_time": "2022-03-30T18:31:45.865Z"
   },
   {
    "duration": 23,
    "start_time": "2022-03-30T18:31:45.890Z"
   },
   {
    "duration": 37,
    "start_time": "2022-03-30T18:31:45.915Z"
   },
   {
    "duration": 23,
    "start_time": "2022-03-30T18:31:45.954Z"
   },
   {
    "duration": 192,
    "start_time": "2022-03-30T18:31:45.979Z"
   },
   {
    "duration": 11,
    "start_time": "2022-03-30T18:31:46.173Z"
   },
   {
    "duration": 14,
    "start_time": "2022-03-30T18:31:46.186Z"
   },
   {
    "duration": 25,
    "start_time": "2022-03-30T18:31:46.203Z"
   },
   {
    "duration": 38,
    "start_time": "2022-03-30T18:31:46.230Z"
   },
   {
    "duration": 37,
    "start_time": "2022-03-30T18:31:46.270Z"
   },
   {
    "duration": 37,
    "start_time": "2022-03-30T18:31:46.309Z"
   },
   {
    "duration": 16,
    "start_time": "2022-03-30T18:31:46.352Z"
   },
   {
    "duration": 43,
    "start_time": "2022-03-30T18:31:46.370Z"
   },
   {
    "duration": 45,
    "start_time": "2022-03-30T18:31:46.415Z"
   },
   {
    "duration": 59,
    "start_time": "2022-03-30T18:31:46.462Z"
   },
   {
    "duration": 38,
    "start_time": "2022-03-30T18:31:46.524Z"
   },
   {
    "duration": 33,
    "start_time": "2022-03-30T18:31:46.564Z"
   },
   {
    "duration": 45,
    "start_time": "2022-03-30T18:31:46.600Z"
   },
   {
    "duration": 1261,
    "start_time": "2022-03-30T18:31:46.647Z"
   },
   {
    "duration": 151,
    "start_time": "2022-03-30T18:31:47.911Z"
   },
   {
    "duration": 3,
    "start_time": "2022-03-30T18:31:48.064Z"
   },
   {
    "duration": 13,
    "start_time": "2022-03-30T18:31:48.070Z"
   }
  ],
  "kernelspec": {
   "display_name": "Python 3 (ipykernel)",
   "language": "python",
   "name": "python3"
  },
  "language_info": {
   "codemirror_mode": {
    "name": "ipython",
    "version": 3
   },
   "file_extension": ".py",
   "mimetype": "text/x-python",
   "name": "python",
   "nbconvert_exporter": "python",
   "pygments_lexer": "ipython3",
   "version": "3.11.0"
  },
  "toc": {
   "base_numbering": 1,
   "nav_menu": {},
   "number_sections": true,
   "sideBar": true,
   "skip_h1_title": true,
   "title_cell": "Table of Contents",
   "title_sidebar": "Contents",
   "toc_cell": false,
   "toc_position": {},
   "toc_section_display": true,
   "toc_window_display": false
  }
 },
 "nbformat": 4,
 "nbformat_minor": 4
}
