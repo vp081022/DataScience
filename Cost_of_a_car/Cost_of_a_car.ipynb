{
 "cells": [
  {
   "cell_type": "markdown",
   "metadata": {},
   "source": [
    "# Определение рыночной стоимости автомобиля"
   ]
  },
  {
   "cell_type": "markdown",
   "metadata": {},
   "source": [
    "# Описание задачи"
   ]
  },
  {
   "cell_type": "markdown",
   "metadata": {},
   "source": [
    "Необходимо определить рыночную стоимость автомобиля. Для этого имеются следующие данные: технические характеристики, комплектации и цены автомобилей. Нужно построить модель для определения рыночной стоимости автомобиля с учётом качества предсказания, скорости предсказания и времени обучения."
   ]
  },
  {
   "cell_type": "markdown",
   "metadata": {},
   "source": [
    "# План работы"
   ]
  },
  {
   "cell_type": "markdown",
   "metadata": {},
   "source": [
    "1. Подготовка данных\n",
    "2. Обучение моделей\n",
    "    1. Кодирование данных и деление на обучающую и тестовую выборки\n",
    "    2. Создание и обучение модели RandomForestRegressor\n",
    "    3. Создание и обучение модели LinearRegression\n",
    "    4. Создание и обучение модели CatBoostRegressor\n",
    "    5. Создание и обучение модели LightGBM\n",
    "3. Анализ моделей\n",
    "    1. Модель RandomForestRegressor\n",
    "    2. Модель LinearRegression\n",
    "    3. Модель CatboostRegressor\n",
    "    4. Модель LightGBM\n",
    "    5. Вывод\n",
    "4. Вывод"
   ]
  },
  {
   "cell_type": "markdown",
   "metadata": {},
   "source": [
    "# Описание данных"
   ]
  },
  {
   "cell_type": "markdown",
   "metadata": {},
   "source": [
    "**Признаки**\n",
    "* DateCrawled — дата скачивания анкеты из базы\n",
    "* VehicleType — тип автомобильного кузова\n",
    "* RegistrationYear — год регистрации автомобиля\n",
    "* Gearbox — тип коробки передач\n",
    "* Power — мощность (л. с.)\n",
    "* Model — модель автомобиля\n",
    "* Kilometer — пробег (км)\n",
    "* RegistrationMonth — месяц регистрации автомобиля\n",
    "* FuelType — тип топлива\n",
    "* Brand — марка автомобиля\n",
    "* Repaired — была машина в ремонте или нет\n",
    "* DateCreated — дата создания анкеты\n",
    "* NumberOfPictures — количество фотографий автомобиля\n",
    "* PostalCode — почтовый индекс владельца анкеты (пользователя)\n",
    "* LastSeen — дата последней активности пользователя"
   ]
  },
  {
   "cell_type": "markdown",
   "metadata": {},
   "source": [
    "**Целевой признак**\n",
    "\n",
    "Price — цена (евро)"
   ]
  },
  {
   "cell_type": "markdown",
   "metadata": {},
   "source": [
    "## Подготовка данных"
   ]
  },
  {
   "cell_type": "code",
   "execution_count": 1531,
   "metadata": {},
   "outputs": [],
   "source": [
    "# Импорт библиотек и функций\n",
    "import pandas as pd\n",
    "import numpy as np\n",
    "import matplotlib.pyplot as plt\n",
    "from sklearn.model_selection import train_test_split\n",
    "from sklearn.metrics import mean_squared_error\n",
    "from sklearn.linear_model import LinearRegression\n",
    "from catboost import CatBoostRegressor\n",
    "from sklearn.ensemble import RandomForestRegressor\n",
    "from sklearn.model_selection import GridSearchCV\n",
    "from lightgbm import LGBMRegressor"
   ]
  },
  {
   "cell_type": "code",
   "execution_count": 1532,
   "metadata": {},
   "outputs": [],
   "source": [
    "# Чтение таблицы данных\n",
    "data = pd.read_csv('datasets/autos.csv')"
   ]
  },
  {
   "cell_type": "code",
   "execution_count": 1533,
   "metadata": {},
   "outputs": [
    {
     "data": {
      "text/html": [
       "<div>\n",
       "<style scoped>\n",
       "    .dataframe tbody tr th:only-of-type {\n",
       "        vertical-align: middle;\n",
       "    }\n",
       "\n",
       "    .dataframe tbody tr th {\n",
       "        vertical-align: top;\n",
       "    }\n",
       "\n",
       "    .dataframe thead th {\n",
       "        text-align: right;\n",
       "    }\n",
       "</style>\n",
       "<table border=\"1\" class=\"dataframe\">\n",
       "  <thead>\n",
       "    <tr style=\"text-align: right;\">\n",
       "      <th></th>\n",
       "      <th>DateCrawled</th>\n",
       "      <th>Price</th>\n",
       "      <th>VehicleType</th>\n",
       "      <th>RegistrationYear</th>\n",
       "      <th>Gearbox</th>\n",
       "      <th>Power</th>\n",
       "      <th>Model</th>\n",
       "      <th>Kilometer</th>\n",
       "      <th>RegistrationMonth</th>\n",
       "      <th>FuelType</th>\n",
       "      <th>Brand</th>\n",
       "      <th>Repaired</th>\n",
       "      <th>DateCreated</th>\n",
       "      <th>NumberOfPictures</th>\n",
       "      <th>PostalCode</th>\n",
       "      <th>LastSeen</th>\n",
       "    </tr>\n",
       "  </thead>\n",
       "  <tbody>\n",
       "    <tr>\n",
       "      <th>0</th>\n",
       "      <td>2016-03-24 11:52:17</td>\n",
       "      <td>480</td>\n",
       "      <td>NaN</td>\n",
       "      <td>1993</td>\n",
       "      <td>manual</td>\n",
       "      <td>0</td>\n",
       "      <td>golf</td>\n",
       "      <td>150000</td>\n",
       "      <td>0</td>\n",
       "      <td>petrol</td>\n",
       "      <td>volkswagen</td>\n",
       "      <td>NaN</td>\n",
       "      <td>2016-03-24 00:00:00</td>\n",
       "      <td>0</td>\n",
       "      <td>70435</td>\n",
       "      <td>2016-04-07 03:16:57</td>\n",
       "    </tr>\n",
       "    <tr>\n",
       "      <th>1</th>\n",
       "      <td>2016-03-24 10:58:45</td>\n",
       "      <td>18300</td>\n",
       "      <td>coupe</td>\n",
       "      <td>2011</td>\n",
       "      <td>manual</td>\n",
       "      <td>190</td>\n",
       "      <td>NaN</td>\n",
       "      <td>125000</td>\n",
       "      <td>5</td>\n",
       "      <td>gasoline</td>\n",
       "      <td>audi</td>\n",
       "      <td>yes</td>\n",
       "      <td>2016-03-24 00:00:00</td>\n",
       "      <td>0</td>\n",
       "      <td>66954</td>\n",
       "      <td>2016-04-07 01:46:50</td>\n",
       "    </tr>\n",
       "    <tr>\n",
       "      <th>2</th>\n",
       "      <td>2016-03-14 12:52:21</td>\n",
       "      <td>9800</td>\n",
       "      <td>suv</td>\n",
       "      <td>2004</td>\n",
       "      <td>auto</td>\n",
       "      <td>163</td>\n",
       "      <td>grand</td>\n",
       "      <td>125000</td>\n",
       "      <td>8</td>\n",
       "      <td>gasoline</td>\n",
       "      <td>jeep</td>\n",
       "      <td>NaN</td>\n",
       "      <td>2016-03-14 00:00:00</td>\n",
       "      <td>0</td>\n",
       "      <td>90480</td>\n",
       "      <td>2016-04-05 12:47:46</td>\n",
       "    </tr>\n",
       "    <tr>\n",
       "      <th>3</th>\n",
       "      <td>2016-03-17 16:54:04</td>\n",
       "      <td>1500</td>\n",
       "      <td>small</td>\n",
       "      <td>2001</td>\n",
       "      <td>manual</td>\n",
       "      <td>75</td>\n",
       "      <td>golf</td>\n",
       "      <td>150000</td>\n",
       "      <td>6</td>\n",
       "      <td>petrol</td>\n",
       "      <td>volkswagen</td>\n",
       "      <td>no</td>\n",
       "      <td>2016-03-17 00:00:00</td>\n",
       "      <td>0</td>\n",
       "      <td>91074</td>\n",
       "      <td>2016-03-17 17:40:17</td>\n",
       "    </tr>\n",
       "    <tr>\n",
       "      <th>4</th>\n",
       "      <td>2016-03-31 17:25:20</td>\n",
       "      <td>3600</td>\n",
       "      <td>small</td>\n",
       "      <td>2008</td>\n",
       "      <td>manual</td>\n",
       "      <td>69</td>\n",
       "      <td>fabia</td>\n",
       "      <td>90000</td>\n",
       "      <td>7</td>\n",
       "      <td>gasoline</td>\n",
       "      <td>skoda</td>\n",
       "      <td>no</td>\n",
       "      <td>2016-03-31 00:00:00</td>\n",
       "      <td>0</td>\n",
       "      <td>60437</td>\n",
       "      <td>2016-04-06 10:17:21</td>\n",
       "    </tr>\n",
       "    <tr>\n",
       "      <th>...</th>\n",
       "      <td>...</td>\n",
       "      <td>...</td>\n",
       "      <td>...</td>\n",
       "      <td>...</td>\n",
       "      <td>...</td>\n",
       "      <td>...</td>\n",
       "      <td>...</td>\n",
       "      <td>...</td>\n",
       "      <td>...</td>\n",
       "      <td>...</td>\n",
       "      <td>...</td>\n",
       "      <td>...</td>\n",
       "      <td>...</td>\n",
       "      <td>...</td>\n",
       "      <td>...</td>\n",
       "      <td>...</td>\n",
       "    </tr>\n",
       "    <tr>\n",
       "      <th>354364</th>\n",
       "      <td>2016-03-21 09:50:58</td>\n",
       "      <td>0</td>\n",
       "      <td>NaN</td>\n",
       "      <td>2005</td>\n",
       "      <td>manual</td>\n",
       "      <td>0</td>\n",
       "      <td>colt</td>\n",
       "      <td>150000</td>\n",
       "      <td>7</td>\n",
       "      <td>petrol</td>\n",
       "      <td>mitsubishi</td>\n",
       "      <td>yes</td>\n",
       "      <td>2016-03-21 00:00:00</td>\n",
       "      <td>0</td>\n",
       "      <td>2694</td>\n",
       "      <td>2016-03-21 10:42:49</td>\n",
       "    </tr>\n",
       "    <tr>\n",
       "      <th>354365</th>\n",
       "      <td>2016-03-14 17:48:27</td>\n",
       "      <td>2200</td>\n",
       "      <td>NaN</td>\n",
       "      <td>2005</td>\n",
       "      <td>NaN</td>\n",
       "      <td>0</td>\n",
       "      <td>NaN</td>\n",
       "      <td>20000</td>\n",
       "      <td>1</td>\n",
       "      <td>NaN</td>\n",
       "      <td>sonstige_autos</td>\n",
       "      <td>NaN</td>\n",
       "      <td>2016-03-14 00:00:00</td>\n",
       "      <td>0</td>\n",
       "      <td>39576</td>\n",
       "      <td>2016-04-06 00:46:52</td>\n",
       "    </tr>\n",
       "    <tr>\n",
       "      <th>354366</th>\n",
       "      <td>2016-03-05 19:56:21</td>\n",
       "      <td>1199</td>\n",
       "      <td>convertible</td>\n",
       "      <td>2000</td>\n",
       "      <td>auto</td>\n",
       "      <td>101</td>\n",
       "      <td>fortwo</td>\n",
       "      <td>125000</td>\n",
       "      <td>3</td>\n",
       "      <td>petrol</td>\n",
       "      <td>smart</td>\n",
       "      <td>no</td>\n",
       "      <td>2016-03-05 00:00:00</td>\n",
       "      <td>0</td>\n",
       "      <td>26135</td>\n",
       "      <td>2016-03-11 18:17:12</td>\n",
       "    </tr>\n",
       "    <tr>\n",
       "      <th>354367</th>\n",
       "      <td>2016-03-19 18:57:12</td>\n",
       "      <td>9200</td>\n",
       "      <td>bus</td>\n",
       "      <td>1996</td>\n",
       "      <td>manual</td>\n",
       "      <td>102</td>\n",
       "      <td>transporter</td>\n",
       "      <td>150000</td>\n",
       "      <td>3</td>\n",
       "      <td>gasoline</td>\n",
       "      <td>volkswagen</td>\n",
       "      <td>no</td>\n",
       "      <td>2016-03-19 00:00:00</td>\n",
       "      <td>0</td>\n",
       "      <td>87439</td>\n",
       "      <td>2016-04-07 07:15:26</td>\n",
       "    </tr>\n",
       "    <tr>\n",
       "      <th>354368</th>\n",
       "      <td>2016-03-20 19:41:08</td>\n",
       "      <td>3400</td>\n",
       "      <td>wagon</td>\n",
       "      <td>2002</td>\n",
       "      <td>manual</td>\n",
       "      <td>100</td>\n",
       "      <td>golf</td>\n",
       "      <td>150000</td>\n",
       "      <td>6</td>\n",
       "      <td>gasoline</td>\n",
       "      <td>volkswagen</td>\n",
       "      <td>NaN</td>\n",
       "      <td>2016-03-20 00:00:00</td>\n",
       "      <td>0</td>\n",
       "      <td>40764</td>\n",
       "      <td>2016-03-24 12:45:21</td>\n",
       "    </tr>\n",
       "  </tbody>\n",
       "</table>\n",
       "<p>354369 rows × 16 columns</p>\n",
       "</div>"
      ],
      "text/plain": [
       "                DateCrawled  Price  VehicleType  RegistrationYear Gearbox  \\\n",
       "0       2016-03-24 11:52:17    480          NaN              1993  manual   \n",
       "1       2016-03-24 10:58:45  18300        coupe              2011  manual   \n",
       "2       2016-03-14 12:52:21   9800          suv              2004    auto   \n",
       "3       2016-03-17 16:54:04   1500        small              2001  manual   \n",
       "4       2016-03-31 17:25:20   3600        small              2008  manual   \n",
       "...                     ...    ...          ...               ...     ...   \n",
       "354364  2016-03-21 09:50:58      0          NaN              2005  manual   \n",
       "354365  2016-03-14 17:48:27   2200          NaN              2005     NaN   \n",
       "354366  2016-03-05 19:56:21   1199  convertible              2000    auto   \n",
       "354367  2016-03-19 18:57:12   9200          bus              1996  manual   \n",
       "354368  2016-03-20 19:41:08   3400        wagon              2002  manual   \n",
       "\n",
       "        Power        Model  Kilometer  RegistrationMonth  FuelType  \\\n",
       "0           0         golf     150000                  0    petrol   \n",
       "1         190          NaN     125000                  5  gasoline   \n",
       "2         163        grand     125000                  8  gasoline   \n",
       "3          75         golf     150000                  6    petrol   \n",
       "4          69        fabia      90000                  7  gasoline   \n",
       "...       ...          ...        ...                ...       ...   \n",
       "354364      0         colt     150000                  7    petrol   \n",
       "354365      0          NaN      20000                  1       NaN   \n",
       "354366    101       fortwo     125000                  3    petrol   \n",
       "354367    102  transporter     150000                  3  gasoline   \n",
       "354368    100         golf     150000                  6  gasoline   \n",
       "\n",
       "                 Brand Repaired          DateCreated  NumberOfPictures  \\\n",
       "0           volkswagen      NaN  2016-03-24 00:00:00                 0   \n",
       "1                 audi      yes  2016-03-24 00:00:00                 0   \n",
       "2                 jeep      NaN  2016-03-14 00:00:00                 0   \n",
       "3           volkswagen       no  2016-03-17 00:00:00                 0   \n",
       "4                skoda       no  2016-03-31 00:00:00                 0   \n",
       "...                ...      ...                  ...               ...   \n",
       "354364      mitsubishi      yes  2016-03-21 00:00:00                 0   \n",
       "354365  sonstige_autos      NaN  2016-03-14 00:00:00                 0   \n",
       "354366           smart       no  2016-03-05 00:00:00                 0   \n",
       "354367      volkswagen       no  2016-03-19 00:00:00                 0   \n",
       "354368      volkswagen      NaN  2016-03-20 00:00:00                 0   \n",
       "\n",
       "        PostalCode             LastSeen  \n",
       "0            70435  2016-04-07 03:16:57  \n",
       "1            66954  2016-04-07 01:46:50  \n",
       "2            90480  2016-04-05 12:47:46  \n",
       "3            91074  2016-03-17 17:40:17  \n",
       "4            60437  2016-04-06 10:17:21  \n",
       "...            ...                  ...  \n",
       "354364        2694  2016-03-21 10:42:49  \n",
       "354365       39576  2016-04-06 00:46:52  \n",
       "354366       26135  2016-03-11 18:17:12  \n",
       "354367       87439  2016-04-07 07:15:26  \n",
       "354368       40764  2016-03-24 12:45:21  \n",
       "\n",
       "[354369 rows x 16 columns]"
      ]
     },
     "execution_count": 1533,
     "metadata": {},
     "output_type": "execute_result"
    }
   ],
   "source": [
    "#Просмотр таблицы и оценка ее размеров\n",
    "data"
   ]
  },
  {
   "cell_type": "code",
   "execution_count": 1534,
   "metadata": {
    "scrolled": true
   },
   "outputs": [
    {
     "name": "stdout",
     "output_type": "stream",
     "text": [
      "<class 'pandas.core.frame.DataFrame'>\n",
      "RangeIndex: 354369 entries, 0 to 354368\n",
      "Data columns (total 16 columns):\n",
      " #   Column             Non-Null Count   Dtype \n",
      "---  ------             --------------   ----- \n",
      " 0   DateCrawled        354369 non-null  object\n",
      " 1   Price              354369 non-null  int64 \n",
      " 2   VehicleType        316879 non-null  object\n",
      " 3   RegistrationYear   354369 non-null  int64 \n",
      " 4   Gearbox            334536 non-null  object\n",
      " 5   Power              354369 non-null  int64 \n",
      " 6   Model              334664 non-null  object\n",
      " 7   Kilometer          354369 non-null  int64 \n",
      " 8   RegistrationMonth  354369 non-null  int64 \n",
      " 9   FuelType           321474 non-null  object\n",
      " 10  Brand              354369 non-null  object\n",
      " 11  Repaired           283215 non-null  object\n",
      " 12  DateCreated        354369 non-null  object\n",
      " 13  NumberOfPictures   354369 non-null  int64 \n",
      " 14  PostalCode         354369 non-null  int64 \n",
      " 15  LastSeen           354369 non-null  object\n",
      "dtypes: int64(7), object(9)\n",
      "memory usage: 43.3+ MB\n"
     ]
    }
   ],
   "source": [
    "# Вывод сводной информации о таблице\n",
    "data.info()"
   ]
  },
  {
   "cell_type": "markdown",
   "metadata": {},
   "source": [
    "В таблице есть пропуски у следующих признаков: \"VehicleType\", \"Gearbox\", \"Model\", \"FuelType\", \"Repaired\". "
   ]
  },
  {
   "cell_type": "code",
   "execution_count": 1535,
   "metadata": {},
   "outputs": [
    {
     "data": {
      "text/plain": [
       "DateCrawled              0\n",
       "Price                    0\n",
       "VehicleType          37490\n",
       "RegistrationYear         0\n",
       "Gearbox              19833\n",
       "Power                    0\n",
       "Model                19705\n",
       "Kilometer                0\n",
       "RegistrationMonth        0\n",
       "FuelType             32895\n",
       "Brand                    0\n",
       "Repaired             71154\n",
       "DateCreated              0\n",
       "NumberOfPictures         0\n",
       "PostalCode               0\n",
       "LastSeen                 0\n",
       "dtype: int64"
      ]
     },
     "execution_count": 1535,
     "metadata": {},
     "output_type": "execute_result"
    }
   ],
   "source": [
    "#Количество пропусков nan\n",
    "data.isna().sum()"
   ]
  },
  {
   "cell_type": "markdown",
   "metadata": {},
   "source": [
    "Все указанные признаки являются категориальными, заполним их значением \"unknown\"."
   ]
  },
  {
   "cell_type": "code",
   "execution_count": 1536,
   "metadata": {},
   "outputs": [],
   "source": [
    "#Заполнение пропусков nan значением \"unknown\"\n",
    "data['VehicleType'] = data['VehicleType'].fillna('unknown')\n",
    "data['Gearbox'] = data['Gearbox'].fillna('unknown')\n",
    "data['Model'] = data['Model'].fillna('unknown')\n",
    "data['FuelType'] = data['FuelType'].fillna('unknown')\n",
    "data['Repaired'] = data['Repaired'].fillna('unknown')"
   ]
  },
  {
   "cell_type": "code",
   "execution_count": 1537,
   "metadata": {},
   "outputs": [
    {
     "data": {
      "text/plain": [
       "DateCrawled          0\n",
       "Price                0\n",
       "VehicleType          0\n",
       "RegistrationYear     0\n",
       "Gearbox              0\n",
       "Power                0\n",
       "Model                0\n",
       "Kilometer            0\n",
       "RegistrationMonth    0\n",
       "FuelType             0\n",
       "Brand                0\n",
       "Repaired             0\n",
       "DateCreated          0\n",
       "NumberOfPictures     0\n",
       "PostalCode           0\n",
       "LastSeen             0\n",
       "dtype: int64"
      ]
     },
     "execution_count": 1537,
     "metadata": {},
     "output_type": "execute_result"
    }
   ],
   "source": [
    "#Повторная проверка на пропуски\n",
    "data.isna().sum()"
   ]
  },
  {
   "cell_type": "markdown",
   "metadata": {},
   "source": [
    "Удаление столбцов:"
   ]
  },
  {
   "cell_type": "markdown",
   "metadata": {},
   "source": [
    "Столбцы с типом данных \"дата и время\" не обрабатываются моделью при ее обучении. Поэтому удалим их."
   ]
  },
  {
   "cell_type": "code",
   "execution_count": 1538,
   "metadata": {},
   "outputs": [],
   "source": [
    "#Удалим столбцы с типом данных \"дата и время\"\n",
    "data = data.drop(['DateCrawled', 'DateCreated', 'LastSeen'], axis = 1)"
   ]
  },
  {
   "cell_type": "markdown",
   "metadata": {},
   "source": [
    "Столбец \"NumberOfPictures\" содержит одно уникальное значение равное нулю:"
   ]
  },
  {
   "cell_type": "code",
   "execution_count": 1539,
   "metadata": {},
   "outputs": [
    {
     "data": {
      "text/plain": [
       "array([0], dtype=int64)"
      ]
     },
     "execution_count": 1539,
     "metadata": {},
     "output_type": "execute_result"
    }
   ],
   "source": [
    "#Уникальные значения в столбце \"NumberOfPictures\"\n",
    "data['NumberOfPictures'].unique()"
   ]
  },
  {
   "cell_type": "markdown",
   "metadata": {},
   "source": [
    "Поэтому столбец \"NumberOfPictures\" можно тоже удалить:"
   ]
  },
  {
   "cell_type": "code",
   "execution_count": 1540,
   "metadata": {},
   "outputs": [],
   "source": [
    "#Удаление столбца \"NumberOfPictures\"\n",
    "data = data.drop(['NumberOfPictures'], axis = 1)"
   ]
  },
  {
   "cell_type": "markdown",
   "metadata": {},
   "source": [
    "Столбец \"PostalCode\" содержит почтовый индекс владельца анкеты (пользователя), что является уникальными данными пользователя и для обучение модели бесполезно. Поэтому данный столбец тоже можно удалить:"
   ]
  },
  {
   "cell_type": "code",
   "execution_count": 1541,
   "metadata": {},
   "outputs": [],
   "source": [
    "#Удаление столбца \"PostalCode\"\n",
    "data = data.drop(['PostalCode'], axis = 1)"
   ]
  },
  {
   "cell_type": "markdown",
   "metadata": {},
   "source": [
    "Далее исследуем данные на наличие некорректных значений и заменим их."
   ]
  },
  {
   "cell_type": "code",
   "execution_count": 1542,
   "metadata": {
    "scrolled": true
   },
   "outputs": [
    {
     "data": {
      "text/plain": [
       "array([1910, 1111, 1000, 1500, 1800, 1234, 1400, 1200, 1255, 1001, 1688,\n",
       "       1253, 1919, 1600, 1039, 1300, 1915, 1602], dtype=int64)"
      ]
     },
     "execution_count": 1542,
     "metadata": {},
     "output_type": "execute_result"
    }
   ],
   "source": [
    "#Проверка на наличие слишком низких значений года регистрации\n",
    "data[data['RegistrationYear'] < 1920][\"RegistrationYear\"].unique()"
   ]
  },
  {
   "cell_type": "code",
   "execution_count": 1543,
   "metadata": {
    "scrolled": true
   },
   "outputs": [
    {
     "data": {
      "text/plain": [
       "array([5000, 9999, 3200, 8888, 2200, 4100, 3000, 2066, 8000, 5300, 9000,\n",
       "       2900, 6000, 5900, 5911, 4000, 8500, 3700, 3800, 4800, 7000, 6500,\n",
       "       2290, 2500, 9450, 2800, 5555, 5600, 2222, 9996, 8455, 4500, 7800,\n",
       "       9229, 7100, 8200, 7500, 3500], dtype=int64)"
      ]
     },
     "execution_count": 1543,
     "metadata": {},
     "output_type": "execute_result"
    }
   ],
   "source": [
    "#Проверка на наличие слишком больших значений года регистрации\n",
    "data[data['RegistrationYear'] > 2020][\"RegistrationYear\"].unique()"
   ]
  },
  {
   "cell_type": "markdown",
   "metadata": {},
   "source": [
    "Используем для замены некорректных значений года регистрации значение моды."
   ]
  },
  {
   "cell_type": "code",
   "execution_count": 1544,
   "metadata": {},
   "outputs": [
    {
     "data": {
      "text/plain": [
       "0    2000\n",
       "Name: RegistrationYear, dtype: int64"
      ]
     },
     "execution_count": 1544,
     "metadata": {},
     "output_type": "execute_result"
    }
   ],
   "source": [
    "#Определение значения моды для корректных данных столбца RegistrationYear\n",
    "data[(data['RegistrationYear'] > 1920) & (data['RegistrationYear'] < 2020)][\"RegistrationYear\"].mode()"
   ]
  },
  {
   "cell_type": "code",
   "execution_count": 1545,
   "metadata": {},
   "outputs": [],
   "source": [
    "#Замена некорректных значений года регистрации\n",
    "data.loc[(data['RegistrationYear'] < 1920) | (data['RegistrationYear'] > 2020), 'RegistrationYear'] = 2000"
   ]
  },
  {
   "cell_type": "code",
   "execution_count": 1546,
   "metadata": {},
   "outputs": [
    {
     "data": {
      "text/plain": [
       "array([ 0,  5,  8,  6,  7, 10, 12, 11,  2,  3,  1,  4,  9], dtype=int64)"
      ]
     },
     "execution_count": 1546,
     "metadata": {},
     "output_type": "execute_result"
    }
   ],
   "source": [
    "#Уникальные значения месяца регистрации\n",
    "data[\"RegistrationMonth\"].unique()"
   ]
  },
  {
   "cell_type": "markdown",
   "metadata": {},
   "source": [
    "В столбце \"RegistrationMonth\" присутствует некорректное значение 0. Заменим его на значение моды."
   ]
  },
  {
   "cell_type": "code",
   "execution_count": 1547,
   "metadata": {},
   "outputs": [
    {
     "data": {
      "text/plain": [
       "0    3\n",
       "Name: RegistrationMonth, dtype: int64"
      ]
     },
     "execution_count": 1547,
     "metadata": {},
     "output_type": "execute_result"
    }
   ],
   "source": [
    "#Определение значения моды для корректных данных столбца RegistrationMonth\n",
    "data[data[\"RegistrationMonth\"]!=0][\"RegistrationMonth\"].mode()"
   ]
  },
  {
   "cell_type": "code",
   "execution_count": 1548,
   "metadata": {},
   "outputs": [],
   "source": [
    "#Замена некорректных значений месяца регистрации\n",
    "data.loc[data['RegistrationMonth'] == 0, 'RegistrationMonth'] = 3"
   ]
  },
  {
   "cell_type": "code",
   "execution_count": 1549,
   "metadata": {},
   "outputs": [
    {
     "data": {
      "text/plain": [
       "array([ 1799,  7515,  1779,  1753, 10317,  2729,  1704,  1900,  1993,\n",
       "       10520,  1999,  1659,  6920,  1800,  1625,  2017,  1597,  7512,\n",
       "       10218,  7544,  5411,  3750, 11530,  1796,  5000,  1780, 12012,\n",
       "       17932,  2005,  1653, 12510,  2016, 10912, 15016,  6226,  2340,\n",
       "        8404,  1968,  1920,  4400, 10710, 10522,  9010, 11509,  1501,\n",
       "       11635,  1703,  1910,  1995, 10000,  5575, 19211,  1801,  3199,\n",
       "        7508,  1937,  4700,  1600,  3454, 19208,  8011,  2331,  2789,\n",
       "        2461,  6006,  3500,  5815,  6018,  1781,  1503,  1596,  1506,\n",
       "        5809, 15020,  5867,  2172,  1598, 17410,  1700,  6011,  1771,\n",
       "       15001,  6045,  6010,  2000,  2799, 17011,  1521, 16051,  9000,\n",
       "        1998, 10311, 17019, 12684,  8259,  1895,  2201,  1595, 17700,\n",
       "       11011, 15033,  1896,  6512, 13616, 16312, 20000,  6012,  1870,\n",
       "       13636,  9710,  2009,  6062,  2402, 16011, 12512,  1986,  9013,\n",
       "        9011, 15017, 10910,  1992,  2018, 11025,  1701,  2792,  1502,\n",
       "       14009, 11111,  1783,  9007,  1988,  2004,  5420,  1793,  7511,\n",
       "       19312,  1689,  9012,  1933, 16311,  1922,  7529,  2389,  2200,\n",
       "        1707,  8500,  3000, 10110,  4507,  1631,  7518,  2007,  2598,\n",
       "        1548], dtype=int64)"
      ]
     },
     "execution_count": 1549,
     "metadata": {},
     "output_type": "execute_result"
    }
   ],
   "source": [
    "#Проверка значений столбца \"Power\" на слишком большие значения.\n",
    "data[data['Power'] > 1500][\"Power\"].unique()"
   ]
  },
  {
   "cell_type": "code",
   "execution_count": 1550,
   "metadata": {
    "scrolled": true
   },
   "outputs": [
    {
     "data": {
      "text/plain": [
       "array([ 0, 45, 41,  5, 44, 39, 43, 23, 26, 37, 33, 48, 40, 30,  7, 47, 16,\n",
       "       46, 35, 34,  2, 18, 10, 15, 22, 42,  4, 21,  1, 24, 29, 38, 14, 49,\n",
       "       27, 20, 11, 25, 12, 17,  9, 13,  8, 19,  6,  3, 32, 36, 31, 28],\n",
       "      dtype=int64)"
      ]
     },
     "execution_count": 1550,
     "metadata": {},
     "output_type": "execute_result"
    }
   ],
   "source": [
    "#Проверка столбца \"Power\" на слишком малые значения\n",
    "data[data['Power'] < 50][\"Power\"].unique()"
   ]
  },
  {
   "cell_type": "markdown",
   "metadata": {},
   "source": [
    "В столбце \"Power\" присутствует множество некорректных значений. Заменим их на значение моды."
   ]
  },
  {
   "cell_type": "code",
   "execution_count": 1551,
   "metadata": {},
   "outputs": [
    {
     "data": {
      "text/plain": [
       "0    75\n",
       "Name: Power, dtype: int64"
      ]
     },
     "execution_count": 1551,
     "metadata": {},
     "output_type": "execute_result"
    }
   ],
   "source": [
    "#Определение значения моды для корректных данных столбца Power\n",
    "data[(data['Power']>50) & (data['Power']<1500)][\"Power\"].mode()"
   ]
  },
  {
   "cell_type": "code",
   "execution_count": 1552,
   "metadata": {},
   "outputs": [],
   "source": [
    "#Замена некорректных значений в столбце Power\n",
    "data.loc[(data['Power']<50) | (data['Power']>1500), 'Power'] = 75"
   ]
  },
  {
   "cell_type": "markdown",
   "metadata": {},
   "source": [
    "Построим гистрограмму для данных столбца Price"
   ]
  },
  {
   "cell_type": "code",
   "execution_count": 1553,
   "metadata": {
    "scrolled": true
   },
   "outputs": [
    {
     "data": {
      "text/plain": [
       "<Axes: >"
      ]
     },
     "execution_count": 1553,
     "metadata": {},
     "output_type": "execute_result"
    },
    {
     "data": {
      "image/png": "[encoded data removed]",
      "text/plain": [
       "<Figure size 640x480 with 1 Axes>"
      ]
     },
     "metadata": {},
     "output_type": "display_data"
    }
   ],
   "source": [
    "data['Price'].hist()"
   ]
  },
  {
   "cell_type": "markdown",
   "metadata": {},
   "source": [
    "Проверим данные столбца Price на слишком низкие значения"
   ]
  },
  {
   "cell_type": "code",
   "execution_count": 1554,
   "metadata": {
    "scrolled": true
   },
   "outputs": [
    {
     "data": {
      "text/plain": [
       "array([0, 1, 3, 2, 9, 8, 5, 4, 7], dtype=int64)"
      ]
     },
     "execution_count": 1554,
     "metadata": {},
     "output_type": "execute_result"
    }
   ],
   "source": [
    "#Проверка столбца \"Price\" на слишком малые значения\n",
    "data[data['Price']<10]['Price'].unique()"
   ]
  },
  {
   "cell_type": "markdown",
   "metadata": {},
   "source": [
    "В столбце \"Price\" присутствуют слишком низкие значения. Удалим строки с данными значениями."
   ]
  },
  {
   "cell_type": "code",
   "execution_count": 1555,
   "metadata": {},
   "outputs": [
    {
     "data": {
      "text/plain": [
       "12028"
      ]
     },
     "execution_count": 1555,
     "metadata": {},
     "output_type": "execute_result"
    }
   ],
   "source": [
    "#Количество строк для удаления в столбце Price\n",
    "data[data['Price']<10]['Price'].count()"
   ]
  },
  {
   "cell_type": "code",
   "execution_count": 1556,
   "metadata": {},
   "outputs": [],
   "source": [
    "#Удаление некорректных значений в столбце Price\n",
    "data = data.drop(data[data['Price']<10]['Price'].index, axis=0)"
   ]
  },
  {
   "cell_type": "markdown",
   "metadata": {},
   "source": [
    "Просмотрим статистические характеристики данных в столбцах."
   ]
  },
  {
   "cell_type": "code",
   "execution_count": 1557,
   "metadata": {
    "scrolled": true
   },
   "outputs": [
    {
     "data": {
      "text/html": [
       "<div>\n",
       "<style scoped>\n",
       "    .dataframe tbody tr th:only-of-type {\n",
       "        vertical-align: middle;\n",
       "    }\n",
       "\n",
       "    .dataframe tbody tr th {\n",
       "        vertical-align: top;\n",
       "    }\n",
       "\n",
       "    .dataframe thead th {\n",
       "        text-align: right;\n",
       "    }\n",
       "</style>\n",
       "<table border=\"1\" class=\"dataframe\">\n",
       "  <thead>\n",
       "    <tr style=\"text-align: right;\">\n",
       "      <th></th>\n",
       "      <th>Price</th>\n",
       "      <th>RegistrationYear</th>\n",
       "      <th>Power</th>\n",
       "      <th>Kilometer</th>\n",
       "      <th>RegistrationMonth</th>\n",
       "    </tr>\n",
       "  </thead>\n",
       "  <tbody>\n",
       "    <tr>\n",
       "      <th>count</th>\n",
       "      <td>342341.000000</td>\n",
       "      <td>342341.000000</td>\n",
       "      <td>342341.000000</td>\n",
       "      <td>342341.000000</td>\n",
       "      <td>342341.000000</td>\n",
       "    </tr>\n",
       "    <tr>\n",
       "      <th>mean</th>\n",
       "      <td>4571.829576</td>\n",
       "      <td>2003.203937</td>\n",
       "      <td>116.474492</td>\n",
       "      <td>128387.076044</td>\n",
       "      <td>6.070246</td>\n",
       "    </tr>\n",
       "    <tr>\n",
       "      <th>std</th>\n",
       "      <td>4514.884523</td>\n",
       "      <td>7.259167</td>\n",
       "      <td>56.153207</td>\n",
       "      <td>37423.070271</td>\n",
       "      <td>3.337647</td>\n",
       "    </tr>\n",
       "    <tr>\n",
       "      <th>min</th>\n",
       "      <td>10.000000</td>\n",
       "      <td>1923.000000</td>\n",
       "      <td>50.000000</td>\n",
       "      <td>5000.000000</td>\n",
       "      <td>1.000000</td>\n",
       "    </tr>\n",
       "    <tr>\n",
       "      <th>25%</th>\n",
       "      <td>1200.000000</td>\n",
       "      <td>1999.000000</td>\n",
       "      <td>75.000000</td>\n",
       "      <td>125000.000000</td>\n",
       "      <td>3.000000</td>\n",
       "    </tr>\n",
       "    <tr>\n",
       "      <th>50%</th>\n",
       "      <td>2900.000000</td>\n",
       "      <td>2003.000000</td>\n",
       "      <td>105.000000</td>\n",
       "      <td>150000.000000</td>\n",
       "      <td>6.000000</td>\n",
       "    </tr>\n",
       "    <tr>\n",
       "      <th>75%</th>\n",
       "      <td>6500.000000</td>\n",
       "      <td>2008.000000</td>\n",
       "      <td>143.000000</td>\n",
       "      <td>150000.000000</td>\n",
       "      <td>9.000000</td>\n",
       "    </tr>\n",
       "    <tr>\n",
       "      <th>max</th>\n",
       "      <td>20000.000000</td>\n",
       "      <td>2019.000000</td>\n",
       "      <td>1500.000000</td>\n",
       "      <td>150000.000000</td>\n",
       "      <td>12.000000</td>\n",
       "    </tr>\n",
       "  </tbody>\n",
       "</table>\n",
       "</div>"
      ],
      "text/plain": [
       "               Price  RegistrationYear          Power      Kilometer  \\\n",
       "count  342341.000000     342341.000000  342341.000000  342341.000000   \n",
       "mean     4571.829576       2003.203937     116.474492  128387.076044   \n",
       "std      4514.884523          7.259167      56.153207   37423.070271   \n",
       "min        10.000000       1923.000000      50.000000    5000.000000   \n",
       "25%      1200.000000       1999.000000      75.000000  125000.000000   \n",
       "50%      2900.000000       2003.000000     105.000000  150000.000000   \n",
       "75%      6500.000000       2008.000000     143.000000  150000.000000   \n",
       "max     20000.000000       2019.000000    1500.000000  150000.000000   \n",
       "\n",
       "       RegistrationMonth  \n",
       "count      342341.000000  \n",
       "mean            6.070246  \n",
       "std             3.337647  \n",
       "min             1.000000  \n",
       "25%             3.000000  \n",
       "50%             6.000000  \n",
       "75%             9.000000  \n",
       "max            12.000000  "
      ]
     },
     "execution_count": 1557,
     "metadata": {},
     "output_type": "execute_result"
    }
   ],
   "source": [
    "#Статистические характеристики данных в столбцах\n",
    "data.describe()"
   ]
  },
  {
   "cell_type": "code",
   "execution_count": 1558,
   "metadata": {},
   "outputs": [
    {
     "data": {
      "image/png": "[encoded data removed]",
      "text/plain": [
       "<Figure size 640x480 with 1 Axes>"
      ]
     },
     "metadata": {},
     "output_type": "display_data"
    }
   ],
   "source": [
    "#Ящик с усами для исследования распределения данных в столбцах\n",
    "data.boxplot()\n",
    "plt.show()"
   ]
  },
  {
   "cell_type": "markdown",
   "metadata": {},
   "source": [
    "Поскольку у ящиков с усами разные диапазоны значений, рассмотрим их в отдельности"
   ]
  },
  {
   "cell_type": "code",
   "execution_count": 1559,
   "metadata": {
    "scrolled": true
   },
   "outputs": [
    {
     "data": {
      "image/png": "[encoded data removed]",
      "text/plain": [
       "<Figure size 1500x300 with 5 Axes>"
      ]
     },
     "metadata": {},
     "output_type": "display_data"
    }
   ],
   "source": [
    "#Ящик с усами для исследования распределения данных в столбцах\n",
    "figure, axis = plt.subplots(1, 5, figsize=(15,3), width_ratios=None)\n",
    "plt.subplots_adjust( wspace= 0.4)\n",
    "columns = ['Price', 'RegistrationYear', 'Power', 'Kilometer', 'RegistrationMonth']\n",
    "for i,column in enumerate(columns):\n",
    "    axis[i].boxplot(data[column], widths=0.5)\n",
    "    axis[i].set_title(column)\n",
    "plt.show()"
   ]
  },
  {
   "cell_type": "markdown",
   "metadata": {},
   "source": [
    "Из графика видно, что имеются выбросы в столбцах \"Price\", \"RegistrationYear\", \"Power\" и \"Kilometer\""
   ]
  },
  {
   "cell_type": "markdown",
   "metadata": {},
   "source": [
    "Удалим выбросы в указанных столбцах, удаляя строки. Без удаления выбросов значения RMSE обученных моделей в дальнейшем окажутся хуже."
   ]
  },
  {
   "cell_type": "code",
   "execution_count": 1560,
   "metadata": {
    "scrolled": true
   },
   "outputs": [
    {
     "name": "stdout",
     "output_type": "stream",
     "text": [
      "Количество строк для удаления Price: 18951\n",
      "Количество строк для удаления RegistrationYear: 5963\n",
      "Количество строк для удаления Power: 6164\n",
      "Количество строк для удаления Kilometer: 39940\n",
      "Было удалено: 71018\n"
     ]
    }
   ],
   "source": [
    "columns = [\"Price\", \"RegistrationYear\", \"Power\", \"Kilometer\"]\n",
    "total_number_of_lines = 0\n",
    "for column in columns:\n",
    "    Q1=np.array(data[column].quantile(0.25))\n",
    "    Q3=np.array(data[column].quantile(0.75))\n",
    "    IQR = Q3 - Q1\n",
    "    lower=Q1-1.5*IQR\n",
    "    upper=Q3+1.5*IQR    \n",
    "    number_of_lines = data[(data[column]>=upper) | (data[column]<=lower)][column].count()\n",
    "    total_number_of_lines += number_of_lines\n",
    "    print('Количество строк для удаления ' + column + \":\", number_of_lines)\n",
    "    data = data.drop(data[(data[column]>=upper) | (data[column]<=lower)].index, axis=0)\n",
    "\n",
    "print(\"Было удалено:\", total_number_of_lines)"
   ]
  },
  {
   "cell_type": "markdown",
   "metadata": {},
   "source": [
    "## Обучение моделей"
   ]
  },
  {
   "cell_type": "markdown",
   "metadata": {},
   "source": [
    "### Кодирование данных и деление на обучающую и тестовую выборки"
   ]
  },
  {
   "cell_type": "code",
   "execution_count": 1561,
   "metadata": {},
   "outputs": [],
   "source": [
    "#Кодирование данных\n",
    "data_ohe = data.copy()\n",
    "data_ohe = pd.get_dummies(data_ohe, drop_first=True)"
   ]
  },
  {
   "cell_type": "code",
   "execution_count": 1562,
   "metadata": {},
   "outputs": [],
   "source": [
    "#Выделение основных признаков и целевого признака не обработанных кодированием\n",
    "features = data.drop('Price', axis=1)\n",
    "target = data['Price']"
   ]
  },
  {
   "cell_type": "code",
   "execution_count": 1563,
   "metadata": {},
   "outputs": [],
   "source": [
    "# Выделение в таблице основных признаков и целевого обработанных кодированием\n",
    "features_ohe = data_ohe.drop('Price', axis=1)\n",
    "target_ohe = data_ohe['Price']"
   ]
  },
  {
   "cell_type": "code",
   "execution_count": 1564,
   "metadata": {},
   "outputs": [],
   "source": [
    "#Выделение обучающей и тестовой выборок не обработанных кодированием\n",
    "features_train,features_test,target_train,target_test = train_test_split(features,\n",
    "                                             target,\n",
    "                                             test_size = 0.25,\n",
    "                                             random_state = 12345)"
   ]
  },
  {
   "cell_type": "code",
   "execution_count": 1565,
   "metadata": {},
   "outputs": [],
   "source": [
    "#Выделение обучающей и тестовой выборок обработанных кодированием\n",
    "features_ohe_train,features_ohe_test,target_ohe_train,target_ohe_test = train_test_split(features_ohe,\n",
    "                                             target_ohe,\n",
    "                                             test_size = 0.25,\n",
    "                                             random_state = 12345)"
   ]
  },
  {
   "cell_type": "markdown",
   "metadata": {},
   "source": [
    "Было выполнено кодирование категориальных признаков."
   ]
  },
  {
   "cell_type": "markdown",
   "metadata": {},
   "source": [
    "### Создание и обучение модели RandomForestRegressor"
   ]
  },
  {
   "cell_type": "code",
   "execution_count": 1566,
   "metadata": {},
   "outputs": [],
   "source": [
    "#Создание модели случайного леса для поиска лучших значений ее параметров\n",
    "model_rfr = RandomForestRegressor()"
   ]
  },
  {
   "cell_type": "code",
   "execution_count": 1567,
   "metadata": {},
   "outputs": [],
   "source": [
    "#Список параметров и диапазоны значений для определения наилучших для модели\n",
    "parameters = {'n_estimators': range (5, 15, 5),\n",
    "              'max_depth': range (5,15, 5)}"
   ]
  },
  {
   "cell_type": "code",
   "execution_count": 1568,
   "metadata": {},
   "outputs": [],
   "source": [
    "#Для определения наилучших значений параметров модели используем функцию GridSearchCV\n",
    "grid = GridSearchCV(model_rfr, parameters, cv=5, scoring='neg_mean_squared_error')"
   ]
  },
  {
   "cell_type": "code",
   "execution_count": 1569,
   "metadata": {},
   "outputs": [
    {
     "data": {
      "text/html": [
       "<style>#sk-container-id-57 {color: black;}#sk-container-id-57 pre{padding: 0;}#sk-container-id-57 div.sk-toggleable {background-color: white;}#sk-container-id-57 label.sk-toggleable__label {cursor: pointer;display: block;width: 100%;margin-bottom: 0;padding: 0.3em;box-sizing: border-box;text-align: center;}#sk-container-id-57 label.sk-toggleable__label-arrow:before {content: \"▸\";float: left;margin-right: 0.25em;color: #696969;}#sk-container-id-57 label.sk-toggleable__label-arrow:hover:before {color: black;}#sk-container-id-57 div.sk-estimator:hover label.sk-toggleable__label-arrow:before {color: black;}#sk-container-id-57 div.sk-toggleable__content {max-height: 0;max-width: 0;overflow: hidden;text-align: left;background-color: #f0f8ff;}#sk-container-id-57 div.sk-toggleable__content pre {margin: 0.2em;color: black;border-radius: 0.25em;background-color: #f0f8ff;}#sk-container-id-57 input.sk-toggleable__control:checked~div.sk-toggleable__content {max-height: 200px;max-width: 100%;overflow: auto;}#sk-container-id-57 input.sk-toggleable__control:checked~label.sk-toggleable__label-arrow:before {content: \"▾\";}#sk-container-id-57 div.sk-estimator input.sk-toggleable__control:checked~label.sk-toggleable__label {background-color: #d4ebff;}#sk-container-id-57 div.sk-label input.sk-toggleable__control:checked~label.sk-toggleable__label {background-color: #d4ebff;}#sk-container-id-57 input.sk-hidden--visually {border: 0;clip: rect(1px 1px 1px 1px);clip: rect(1px, 1px, 1px, 1px);height: 1px;margin: -1px;overflow: hidden;padding: 0;position: absolute;width: 1px;}#sk-container-id-57 div.sk-estimator {font-family: monospace;background-color: #f0f8ff;border: 1px dotted black;border-radius: 0.25em;box-sizing: border-box;margin-bottom: 0.5em;}#sk-container-id-57 div.sk-estimator:hover {background-color: #d4ebff;}#sk-container-id-57 div.sk-parallel-item::after {content: \"\";width: 100%;border-bottom: 1px solid gray;flex-grow: 1;}#sk-container-id-57 div.sk-label:hover label.sk-toggleable__label {background-color: #d4ebff;}#sk-container-id-57 div.sk-serial::before {content: \"\";position: absolute;border-left: 1px solid gray;box-sizing: border-box;top: 0;bottom: 0;left: 50%;z-index: 0;}#sk-container-id-57 div.sk-serial {display: flex;flex-direction: column;align-items: center;background-color: white;padding-right: 0.2em;padding-left: 0.2em;position: relative;}#sk-container-id-57 div.sk-item {position: relative;z-index: 1;}#sk-container-id-57 div.sk-parallel {display: flex;align-items: stretch;justify-content: center;background-color: white;position: relative;}#sk-container-id-57 div.sk-item::before, #sk-container-id-57 div.sk-parallel-item::before {content: \"\";position: absolute;border-left: 1px solid gray;box-sizing: border-box;top: 0;bottom: 0;left: 50%;z-index: -1;}#sk-container-id-57 div.sk-parallel-item {display: flex;flex-direction: column;z-index: 1;position: relative;background-color: white;}#sk-container-id-57 div.sk-parallel-item:first-child::after {align-self: flex-end;width: 50%;}#sk-container-id-57 div.sk-parallel-item:last-child::after {align-self: flex-start;width: 50%;}#sk-container-id-57 div.sk-parallel-item:only-child::after {width: 0;}#sk-container-id-57 div.sk-dashed-wrapped {border: 1px dashed gray;margin: 0 0.4em 0.5em 0.4em;box-sizing: border-box;padding-bottom: 0.4em;background-color: white;}#sk-container-id-57 div.sk-label label {font-family: monospace;font-weight: bold;display: inline-block;line-height: 1.2em;}#sk-container-id-57 div.sk-label-container {text-align: center;}#sk-container-id-57 div.sk-container {/* jupyter's `normalize.less` sets `[hidden] { display: none; }` but bootstrap.min.css set `[hidden] { display: none !important; }` so we also need the `!important` here to be able to override the default hidden behavior on the sphinx rendered scikit-learn.org. See: https://github.com/scikit-learn/scikit-learn/issues/21755 */display: inline-block !important;position: relative;}#sk-container-id-57 div.sk-text-repr-fallback {display: none;}</style><div id=\"sk-container-id-57\" class=\"sk-top-container\"><div class=\"sk-text-repr-fallback\"><pre>GridSearchCV(cv=5, estimator=RandomForestRegressor(),\n",
       "             param_grid={&#x27;max_depth&#x27;: range(5, 15, 5),\n",
       "                         &#x27;n_estimators&#x27;: range(5, 15, 5)},\n",
       "             scoring=&#x27;neg_mean_squared_error&#x27;)</pre><b>In a Jupyter environment, please rerun this cell to show the HTML representation or trust the notebook. <br />On GitHub, the HTML representation is unable to render, please try loading this page with nbviewer.org.</b></div><div class=\"sk-container\" hidden><div class=\"sk-item sk-dashed-wrapped\"><div class=\"sk-label-container\"><div class=\"sk-label sk-toggleable\"><input class=\"sk-toggleable__control sk-hidden--visually\" id=\"sk-estimator-id-85\" type=\"checkbox\" ><label for=\"sk-estimator-id-85\" class=\"sk-toggleable__label sk-toggleable__label-arrow\">GridSearchCV</label><div class=\"sk-toggleable__content\"><pre>GridSearchCV(cv=5, estimator=RandomForestRegressor(),\n",
       "             param_grid={&#x27;max_depth&#x27;: range(5, 15, 5),\n",
       "                         &#x27;n_estimators&#x27;: range(5, 15, 5)},\n",
       "             scoring=&#x27;neg_mean_squared_error&#x27;)</pre></div></div></div><div class=\"sk-parallel\"><div class=\"sk-parallel-item\"><div class=\"sk-item\"><div class=\"sk-label-container\"><div class=\"sk-label sk-toggleable\"><input class=\"sk-toggleable__control sk-hidden--visually\" id=\"sk-estimator-id-86\" type=\"checkbox\" ><label for=\"sk-estimator-id-86\" class=\"sk-toggleable__label sk-toggleable__label-arrow\">estimator: RandomForestRegressor</label><div class=\"sk-toggleable__content\"><pre>RandomForestRegressor()</pre></div></div></div><div class=\"sk-serial\"><div class=\"sk-item\"><div class=\"sk-estimator sk-toggleable\"><input class=\"sk-toggleable__control sk-hidden--visually\" id=\"sk-estimator-id-87\" type=\"checkbox\" ><label for=\"sk-estimator-id-87\" class=\"sk-toggleable__label sk-toggleable__label-arrow\">RandomForestRegressor</label><div class=\"sk-toggleable__content\"><pre>RandomForestRegressor()</pre></div></div></div></div></div></div></div></div></div></div>"
      ],
      "text/plain": [
       "GridSearchCV(cv=5, estimator=RandomForestRegressor(),\n",
       "             param_grid={'max_depth': range(5, 15, 5),\n",
       "                         'n_estimators': range(5, 15, 5)},\n",
       "             scoring='neg_mean_squared_error')"
      ]
     },
     "execution_count": 1569,
     "metadata": {},
     "output_type": "execute_result"
    }
   ],
   "source": [
    "#Поиск лучших значений параметров модели\n",
    "grid.fit(features_ohe_train, target_ohe_train)"
   ]
  },
  {
   "cell_type": "code",
   "execution_count": 1570,
   "metadata": {},
   "outputs": [
    {
     "data": {
      "text/plain": [
       "{'max_depth': 10, 'n_estimators': 10}"
      ]
     },
     "execution_count": 1570,
     "metadata": {},
     "output_type": "execute_result"
    }
   ],
   "source": [
    "#Вывод лучших значений параметров модели\n",
    "grid.best_params_"
   ]
  },
  {
   "cell_type": "code",
   "execution_count": 1571,
   "metadata": {},
   "outputs": [],
   "source": [
    "#Создание модели случайного леса с использованием найденных значений ее параметров\n",
    "model_rfr = RandomForestRegressor(random_state=12345, n_estimators=10, max_depth=10)"
   ]
  },
  {
   "cell_type": "code",
   "execution_count": 1572,
   "metadata": {},
   "outputs": [
    {
     "name": "stdout",
     "output_type": "stream",
     "text": [
      "CPU times: total: 32 s\n",
      "Wall time: 32 s\n"
     ]
    },
    {
     "data": {
      "text/html": [
       "<style>#sk-container-id-58 {color: black;}#sk-container-id-58 pre{padding: 0;}#sk-container-id-58 div.sk-toggleable {background-color: white;}#sk-container-id-58 label.sk-toggleable__label {cursor: pointer;display: block;width: 100%;margin-bottom: 0;padding: 0.3em;box-sizing: border-box;text-align: center;}#sk-container-id-58 label.sk-toggleable__label-arrow:before {content: \"▸\";float: left;margin-right: 0.25em;color: #696969;}#sk-container-id-58 label.sk-toggleable__label-arrow:hover:before {color: black;}#sk-container-id-58 div.sk-estimator:hover label.sk-toggleable__label-arrow:before {color: black;}#sk-container-id-58 div.sk-toggleable__content {max-height: 0;max-width: 0;overflow: hidden;text-align: left;background-color: #f0f8ff;}#sk-container-id-58 div.sk-toggleable__content pre {margin: 0.2em;color: black;border-radius: 0.25em;background-color: #f0f8ff;}#sk-container-id-58 input.sk-toggleable__control:checked~div.sk-toggleable__content {max-height: 200px;max-width: 100%;overflow: auto;}#sk-container-id-58 input.sk-toggleable__control:checked~label.sk-toggleable__label-arrow:before {content: \"▾\";}#sk-container-id-58 div.sk-estimator input.sk-toggleable__control:checked~label.sk-toggleable__label {background-color: #d4ebff;}#sk-container-id-58 div.sk-label input.sk-toggleable__control:checked~label.sk-toggleable__label {background-color: #d4ebff;}#sk-container-id-58 input.sk-hidden--visually {border: 0;clip: rect(1px 1px 1px 1px);clip: rect(1px, 1px, 1px, 1px);height: 1px;margin: -1px;overflow: hidden;padding: 0;position: absolute;width: 1px;}#sk-container-id-58 div.sk-estimator {font-family: monospace;background-color: #f0f8ff;border: 1px dotted black;border-radius: 0.25em;box-sizing: border-box;margin-bottom: 0.5em;}#sk-container-id-58 div.sk-estimator:hover {background-color: #d4ebff;}#sk-container-id-58 div.sk-parallel-item::after {content: \"\";width: 100%;border-bottom: 1px solid gray;flex-grow: 1;}#sk-container-id-58 div.sk-label:hover label.sk-toggleable__label {background-color: #d4ebff;}#sk-container-id-58 div.sk-serial::before {content: \"\";position: absolute;border-left: 1px solid gray;box-sizing: border-box;top: 0;bottom: 0;left: 50%;z-index: 0;}#sk-container-id-58 div.sk-serial {display: flex;flex-direction: column;align-items: center;background-color: white;padding-right: 0.2em;padding-left: 0.2em;position: relative;}#sk-container-id-58 div.sk-item {position: relative;z-index: 1;}#sk-container-id-58 div.sk-parallel {display: flex;align-items: stretch;justify-content: center;background-color: white;position: relative;}#sk-container-id-58 div.sk-item::before, #sk-container-id-58 div.sk-parallel-item::before {content: \"\";position: absolute;border-left: 1px solid gray;box-sizing: border-box;top: 0;bottom: 0;left: 50%;z-index: -1;}#sk-container-id-58 div.sk-parallel-item {display: flex;flex-direction: column;z-index: 1;position: relative;background-color: white;}#sk-container-id-58 div.sk-parallel-item:first-child::after {align-self: flex-end;width: 50%;}#sk-container-id-58 div.sk-parallel-item:last-child::after {align-self: flex-start;width: 50%;}#sk-container-id-58 div.sk-parallel-item:only-child::after {width: 0;}#sk-container-id-58 div.sk-dashed-wrapped {border: 1px dashed gray;margin: 0 0.4em 0.5em 0.4em;box-sizing: border-box;padding-bottom: 0.4em;background-color: white;}#sk-container-id-58 div.sk-label label {font-family: monospace;font-weight: bold;display: inline-block;line-height: 1.2em;}#sk-container-id-58 div.sk-label-container {text-align: center;}#sk-container-id-58 div.sk-container {/* jupyter's `normalize.less` sets `[hidden] { display: none; }` but bootstrap.min.css set `[hidden] { display: none !important; }` so we also need the `!important` here to be able to override the default hidden behavior on the sphinx rendered scikit-learn.org. See: https://github.com/scikit-learn/scikit-learn/issues/21755 */display: inline-block !important;position: relative;}#sk-container-id-58 div.sk-text-repr-fallback {display: none;}</style><div id=\"sk-container-id-58\" class=\"sk-top-container\"><div class=\"sk-text-repr-fallback\"><pre>RandomForestRegressor(max_depth=10, n_estimators=10, random_state=12345)</pre><b>In a Jupyter environment, please rerun this cell to show the HTML representation or trust the notebook. <br />On GitHub, the HTML representation is unable to render, please try loading this page with nbviewer.org.</b></div><div class=\"sk-container\" hidden><div class=\"sk-item\"><div class=\"sk-estimator sk-toggleable\"><input class=\"sk-toggleable__control sk-hidden--visually\" id=\"sk-estimator-id-88\" type=\"checkbox\" checked><label for=\"sk-estimator-id-88\" class=\"sk-toggleable__label sk-toggleable__label-arrow\">RandomForestRegressor</label><div class=\"sk-toggleable__content\"><pre>RandomForestRegressor(max_depth=10, n_estimators=10, random_state=12345)</pre></div></div></div></div></div>"
      ],
      "text/plain": [
       "RandomForestRegressor(max_depth=10, n_estimators=10, random_state=12345)"
      ]
     },
     "execution_count": 1572,
     "metadata": {},
     "output_type": "execute_result"
    }
   ],
   "source": [
    "%%time\n",
    "#Обучение модели случайного леса\n",
    "model_rfr.fit(features_ohe_train,target_ohe_train)"
   ]
  },
  {
   "cell_type": "markdown",
   "metadata": {},
   "source": [
    "### Создание и обучение модели LinearRegression"
   ]
  },
  {
   "cell_type": "code",
   "execution_count": 1573,
   "metadata": {},
   "outputs": [],
   "source": [
    "#Создание модели LinearRegression\n",
    "model_lr = LinearRegression()"
   ]
  },
  {
   "cell_type": "code",
   "execution_count": 1574,
   "metadata": {},
   "outputs": [
    {
     "name": "stdout",
     "output_type": "stream",
     "text": [
      "CPU times: total: 27.4 s\n",
      "Wall time: 5.69 s\n"
     ]
    },
    {
     "data": {
      "text/html": [
       "<style>#sk-container-id-59 {color: black;}#sk-container-id-59 pre{padding: 0;}#sk-container-id-59 div.sk-toggleable {background-color: white;}#sk-container-id-59 label.sk-toggleable__label {cursor: pointer;display: block;width: 100%;margin-bottom: 0;padding: 0.3em;box-sizing: border-box;text-align: center;}#sk-container-id-59 label.sk-toggleable__label-arrow:before {content: \"▸\";float: left;margin-right: 0.25em;color: #696969;}#sk-container-id-59 label.sk-toggleable__label-arrow:hover:before {color: black;}#sk-container-id-59 div.sk-estimator:hover label.sk-toggleable__label-arrow:before {color: black;}#sk-container-id-59 div.sk-toggleable__content {max-height: 0;max-width: 0;overflow: hidden;text-align: left;background-color: #f0f8ff;}#sk-container-id-59 div.sk-toggleable__content pre {margin: 0.2em;color: black;border-radius: 0.25em;background-color: #f0f8ff;}#sk-container-id-59 input.sk-toggleable__control:checked~div.sk-toggleable__content {max-height: 200px;max-width: 100%;overflow: auto;}#sk-container-id-59 input.sk-toggleable__control:checked~label.sk-toggleable__label-arrow:before {content: \"▾\";}#sk-container-id-59 div.sk-estimator input.sk-toggleable__control:checked~label.sk-toggleable__label {background-color: #d4ebff;}#sk-container-id-59 div.sk-label input.sk-toggleable__control:checked~label.sk-toggleable__label {background-color: #d4ebff;}#sk-container-id-59 input.sk-hidden--visually {border: 0;clip: rect(1px 1px 1px 1px);clip: rect(1px, 1px, 1px, 1px);height: 1px;margin: -1px;overflow: hidden;padding: 0;position: absolute;width: 1px;}#sk-container-id-59 div.sk-estimator {font-family: monospace;background-color: #f0f8ff;border: 1px dotted black;border-radius: 0.25em;box-sizing: border-box;margin-bottom: 0.5em;}#sk-container-id-59 div.sk-estimator:hover {background-color: #d4ebff;}#sk-container-id-59 div.sk-parallel-item::after {content: \"\";width: 100%;border-bottom: 1px solid gray;flex-grow: 1;}#sk-container-id-59 div.sk-label:hover label.sk-toggleable__label {background-color: #d4ebff;}#sk-container-id-59 div.sk-serial::before {content: \"\";position: absolute;border-left: 1px solid gray;box-sizing: border-box;top: 0;bottom: 0;left: 50%;z-index: 0;}#sk-container-id-59 div.sk-serial {display: flex;flex-direction: column;align-items: center;background-color: white;padding-right: 0.2em;padding-left: 0.2em;position: relative;}#sk-container-id-59 div.sk-item {position: relative;z-index: 1;}#sk-container-id-59 div.sk-parallel {display: flex;align-items: stretch;justify-content: center;background-color: white;position: relative;}#sk-container-id-59 div.sk-item::before, #sk-container-id-59 div.sk-parallel-item::before {content: \"\";position: absolute;border-left: 1px solid gray;box-sizing: border-box;top: 0;bottom: 0;left: 50%;z-index: -1;}#sk-container-id-59 div.sk-parallel-item {display: flex;flex-direction: column;z-index: 1;position: relative;background-color: white;}#sk-container-id-59 div.sk-parallel-item:first-child::after {align-self: flex-end;width: 50%;}#sk-container-id-59 div.sk-parallel-item:last-child::after {align-self: flex-start;width: 50%;}#sk-container-id-59 div.sk-parallel-item:only-child::after {width: 0;}#sk-container-id-59 div.sk-dashed-wrapped {border: 1px dashed gray;margin: 0 0.4em 0.5em 0.4em;box-sizing: border-box;padding-bottom: 0.4em;background-color: white;}#sk-container-id-59 div.sk-label label {font-family: monospace;font-weight: bold;display: inline-block;line-height: 1.2em;}#sk-container-id-59 div.sk-label-container {text-align: center;}#sk-container-id-59 div.sk-container {/* jupyter's `normalize.less` sets `[hidden] { display: none; }` but bootstrap.min.css set `[hidden] { display: none !important; }` so we also need the `!important` here to be able to override the default hidden behavior on the sphinx rendered scikit-learn.org. See: https://github.com/scikit-learn/scikit-learn/issues/21755 */display: inline-block !important;position: relative;}#sk-container-id-59 div.sk-text-repr-fallback {display: none;}</style><div id=\"sk-container-id-59\" class=\"sk-top-container\"><div class=\"sk-text-repr-fallback\"><pre>LinearRegression()</pre><b>In a Jupyter environment, please rerun this cell to show the HTML representation or trust the notebook. <br />On GitHub, the HTML representation is unable to render, please try loading this page with nbviewer.org.</b></div><div class=\"sk-container\" hidden><div class=\"sk-item\"><div class=\"sk-estimator sk-toggleable\"><input class=\"sk-toggleable__control sk-hidden--visually\" id=\"sk-estimator-id-89\" type=\"checkbox\" checked><label for=\"sk-estimator-id-89\" class=\"sk-toggleable__label sk-toggleable__label-arrow\">LinearRegression</label><div class=\"sk-toggleable__content\"><pre>LinearRegression()</pre></div></div></div></div></div>"
      ],
      "text/plain": [
       "LinearRegression()"
      ]
     },
     "execution_count": 1574,
     "metadata": {},
     "output_type": "execute_result"
    }
   ],
   "source": [
    "%%time\n",
    "#Обучение модели LinearRegression\n",
    "model_lr.fit(features_ohe_train, target_ohe_train)"
   ]
  },
  {
   "cell_type": "markdown",
   "metadata": {},
   "source": [
    "### Создание и обучение модели CatBoostRegressor"
   ]
  },
  {
   "cell_type": "code",
   "execution_count": 1575,
   "metadata": {
    "scrolled": true
   },
   "outputs": [],
   "source": [
    "# Создание модели catboostregressor\n",
    "model_catboost  = CatBoostRegressor(loss_function='RMSE')"
   ]
  },
  {
   "cell_type": "code",
   "execution_count": 1576,
   "metadata": {},
   "outputs": [],
   "source": [
    "#Указание для модели категориальных признаков обучающей выборки\n",
    "cat_features = ['VehicleType', 'Gearbox', 'Model','FuelType', 'Repaired', 'Brand']"
   ]
  },
  {
   "cell_type": "code",
   "execution_count": 1577,
   "metadata": {},
   "outputs": [
    {
     "name": "stdout",
     "output_type": "stream",
     "text": [
      "CPU times: total: 18min 26s\n",
      "Wall time: 3min 3s\n"
     ]
    },
    {
     "data": {
      "text/plain": [
       "<catboost.core.CatBoostRegressor at 0x227969c62d0>"
      ]
     },
     "execution_count": 1577,
     "metadata": {},
     "output_type": "execute_result"
    }
   ],
   "source": [
    "%%time\n",
    "#Обучение модели CatBoostRegressor\n",
    "model_catboost.fit(features_train, target_train, cat_features, verbose=False) "
   ]
  },
  {
   "cell_type": "markdown",
   "metadata": {},
   "source": [
    "### Создание и обучение модели LightGBM"
   ]
  },
  {
   "cell_type": "code",
   "execution_count": 1578,
   "metadata": {},
   "outputs": [],
   "source": [
    "#Создание модели LightGBM\n",
    "model_LGBM = LGBMRegressor()"
   ]
  },
  {
   "cell_type": "code",
   "execution_count": 1579,
   "metadata": {},
   "outputs": [],
   "source": [
    "features_train_LGBM = features_train.copy()\n",
    "features_test_LGBM = features_test.copy()\n",
    "\n",
    "features_train_LGBM = features_train_LGBM.astype({\"VehicleType\":'category',\n",
    "                                  \"Gearbox\":'category',\n",
    "                                  \"Model\":'category',\n",
    "                                  \"FuelType\":'category',\n",
    "                                  \"Brand\":'category',\n",
    "                                  \"Repaired\":'category'})\n",
    "features_test_LGBM = features_test_LGBM.astype({\"VehicleType\":'category',\n",
    "                                  \"Gearbox\":'category',\n",
    "                                  \"Model\":'category',\n",
    "                                  \"FuelType\":'category',\n",
    "                                  \"Brand\":'category',\n",
    "                                  \"Repaired\":'category'})"
   ]
  },
  {
   "cell_type": "code",
   "execution_count": 1580,
   "metadata": {},
   "outputs": [
    {
     "name": "stdout",
     "output_type": "stream",
     "text": [
      "[LightGBM] [Info] Auto-choosing col-wise multi-threading, the overhead of testing was 0.015195 seconds.\n",
      "You can set `force_col_wise=true` to remove the overhead.\n",
      "[LightGBM] [Info] Total Bins 541\n",
      "[LightGBM] [Info] Number of data points in the train set: 203492, number of used features: 10\n",
      "[LightGBM] [Info] Start training from score 3380.193226\n",
      "CPU times: total: 4.97 s\n",
      "Wall time: 1.33 s\n"
     ]
    },
    {
     "data": {
      "text/html": [
       "<style>#sk-container-id-60 {color: black;}#sk-container-id-60 pre{padding: 0;}#sk-container-id-60 div.sk-toggleable {background-color: white;}#sk-container-id-60 label.sk-toggleable__label {cursor: pointer;display: block;width: 100%;margin-bottom: 0;padding: 0.3em;box-sizing: border-box;text-align: center;}#sk-container-id-60 label.sk-toggleable__label-arrow:before {content: \"▸\";float: left;margin-right: 0.25em;color: #696969;}#sk-container-id-60 label.sk-toggleable__label-arrow:hover:before {color: black;}#sk-container-id-60 div.sk-estimator:hover label.sk-toggleable__label-arrow:before {color: black;}#sk-container-id-60 div.sk-toggleable__content {max-height: 0;max-width: 0;overflow: hidden;text-align: left;background-color: #f0f8ff;}#sk-container-id-60 div.sk-toggleable__content pre {margin: 0.2em;color: black;border-radius: 0.25em;background-color: #f0f8ff;}#sk-container-id-60 input.sk-toggleable__control:checked~div.sk-toggleable__content {max-height: 200px;max-width: 100%;overflow: auto;}#sk-container-id-60 input.sk-toggleable__control:checked~label.sk-toggleable__label-arrow:before {content: \"▾\";}#sk-container-id-60 div.sk-estimator input.sk-toggleable__control:checked~label.sk-toggleable__label {background-color: #d4ebff;}#sk-container-id-60 div.sk-label input.sk-toggleable__control:checked~label.sk-toggleable__label {background-color: #d4ebff;}#sk-container-id-60 input.sk-hidden--visually {border: 0;clip: rect(1px 1px 1px 1px);clip: rect(1px, 1px, 1px, 1px);height: 1px;margin: -1px;overflow: hidden;padding: 0;position: absolute;width: 1px;}#sk-container-id-60 div.sk-estimator {font-family: monospace;background-color: #f0f8ff;border: 1px dotted black;border-radius: 0.25em;box-sizing: border-box;margin-bottom: 0.5em;}#sk-container-id-60 div.sk-estimator:hover {background-color: #d4ebff;}#sk-container-id-60 div.sk-parallel-item::after {content: \"\";width: 100%;border-bottom: 1px solid gray;flex-grow: 1;}#sk-container-id-60 div.sk-label:hover label.sk-toggleable__label {background-color: #d4ebff;}#sk-container-id-60 div.sk-serial::before {content: \"\";position: absolute;border-left: 1px solid gray;box-sizing: border-box;top: 0;bottom: 0;left: 50%;z-index: 0;}#sk-container-id-60 div.sk-serial {display: flex;flex-direction: column;align-items: center;background-color: white;padding-right: 0.2em;padding-left: 0.2em;position: relative;}#sk-container-id-60 div.sk-item {position: relative;z-index: 1;}#sk-container-id-60 div.sk-parallel {display: flex;align-items: stretch;justify-content: center;background-color: white;position: relative;}#sk-container-id-60 div.sk-item::before, #sk-container-id-60 div.sk-parallel-item::before {content: \"\";position: absolute;border-left: 1px solid gray;box-sizing: border-box;top: 0;bottom: 0;left: 50%;z-index: -1;}#sk-container-id-60 div.sk-parallel-item {display: flex;flex-direction: column;z-index: 1;position: relative;background-color: white;}#sk-container-id-60 div.sk-parallel-item:first-child::after {align-self: flex-end;width: 50%;}#sk-container-id-60 div.sk-parallel-item:last-child::after {align-self: flex-start;width: 50%;}#sk-container-id-60 div.sk-parallel-item:only-child::after {width: 0;}#sk-container-id-60 div.sk-dashed-wrapped {border: 1px dashed gray;margin: 0 0.4em 0.5em 0.4em;box-sizing: border-box;padding-bottom: 0.4em;background-color: white;}#sk-container-id-60 div.sk-label label {font-family: monospace;font-weight: bold;display: inline-block;line-height: 1.2em;}#sk-container-id-60 div.sk-label-container {text-align: center;}#sk-container-id-60 div.sk-container {/* jupyter's `normalize.less` sets `[hidden] { display: none; }` but bootstrap.min.css set `[hidden] { display: none !important; }` so we also need the `!important` here to be able to override the default hidden behavior on the sphinx rendered scikit-learn.org. See: https://github.com/scikit-learn/scikit-learn/issues/21755 */display: inline-block !important;position: relative;}#sk-container-id-60 div.sk-text-repr-fallback {display: none;}</style><div id=\"sk-container-id-60\" class=\"sk-top-container\"><div class=\"sk-text-repr-fallback\"><pre>LGBMRegressor()</pre><b>In a Jupyter environment, please rerun this cell to show the HTML representation or trust the notebook. <br />On GitHub, the HTML representation is unable to render, please try loading this page with nbviewer.org.</b></div><div class=\"sk-container\" hidden><div class=\"sk-item\"><div class=\"sk-estimator sk-toggleable\"><input class=\"sk-toggleable__control sk-hidden--visually\" id=\"sk-estimator-id-90\" type=\"checkbox\" checked><label for=\"sk-estimator-id-90\" class=\"sk-toggleable__label sk-toggleable__label-arrow\">LGBMRegressor</label><div class=\"sk-toggleable__content\"><pre>LGBMRegressor()</pre></div></div></div></div></div>"
      ],
      "text/plain": [
       "LGBMRegressor()"
      ]
     },
     "execution_count": 1580,
     "metadata": {},
     "output_type": "execute_result"
    }
   ],
   "source": [
    "%%time\n",
    "#Обучение модели LightGBM\n",
    "model_LGBM.fit(features_train_LGBM, target_train)"
   ]
  },
  {
   "cell_type": "markdown",
   "metadata": {},
   "source": [
    "## Анализ моделей"
   ]
  },
  {
   "cell_type": "markdown",
   "metadata": {},
   "source": [
    "### Модель RandomForestRegressor"
   ]
  },
  {
   "cell_type": "code",
   "execution_count": 1581,
   "metadata": {},
   "outputs": [
    {
     "name": "stdout",
     "output_type": "stream",
     "text": [
      "CPU times: total: 297 ms\n",
      "Wall time: 240 ms\n"
     ]
    }
   ],
   "source": [
    "%%time\n",
    "#Предсказания модели случайного леса на тестовой выборке\n",
    "predictions_rfr = model_rfr.predict(features_ohe_test)"
   ]
  },
  {
   "cell_type": "code",
   "execution_count": 1582,
   "metadata": {},
   "outputs": [],
   "source": [
    "#RMSE\n",
    "result = mean_squared_error(target_ohe_test,predictions_rfr,squared=False)"
   ]
  },
  {
   "cell_type": "code",
   "execution_count": 1583,
   "metadata": {},
   "outputs": [
    {
     "name": "stdout",
     "output_type": "stream",
     "text": [
      "RMSE модели случайного леса: 1461.3245253240334\n"
     ]
    }
   ],
   "source": [
    "#Вывод RMSE\n",
    "print(\"RMSE модели случайного леса:\",result)"
   ]
  },
  {
   "cell_type": "markdown",
   "metadata": {},
   "source": [
    "### Модель LinearRegression"
   ]
  },
  {
   "cell_type": "code",
   "execution_count": 1584,
   "metadata": {},
   "outputs": [
    {
     "name": "stdout",
     "output_type": "stream",
     "text": [
      "CPU times: total: 406 ms\n",
      "Wall time: 289 ms\n"
     ]
    }
   ],
   "source": [
    "%%time\n",
    "#Предсказания модели LinearRegression\n",
    "predictions_lr = model_lr.predict(features_ohe_test)"
   ]
  },
  {
   "cell_type": "code",
   "execution_count": 1585,
   "metadata": {},
   "outputs": [],
   "source": [
    "#RMSE\n",
    "result = mean_squared_error(target_ohe_test, predictions_lr) ** 0.5"
   ]
  },
  {
   "cell_type": "code",
   "execution_count": 1586,
   "metadata": {},
   "outputs": [
    {
     "name": "stdout",
     "output_type": "stream",
     "text": [
      "RMSE модели линейной регрессии: 1779.5527113019134\n"
     ]
    }
   ],
   "source": [
    "#Вывод RMSE\n",
    "print(\"RMSE модели линейной регрессии:\", result)"
   ]
  },
  {
   "cell_type": "markdown",
   "metadata": {},
   "source": [
    "### Модель CatboostRegressor"
   ]
  },
  {
   "cell_type": "code",
   "execution_count": 1587,
   "metadata": {},
   "outputs": [
    {
     "name": "stdout",
     "output_type": "stream",
     "text": [
      "CPU times: total: 1.52 s\n",
      "Wall time: 429 ms\n"
     ]
    }
   ],
   "source": [
    "%%time\n",
    "#Предсказания модели CatboostRegressor\n",
    "predictions_catboost = model_catboost.predict(features_test)"
   ]
  },
  {
   "cell_type": "code",
   "execution_count": 1588,
   "metadata": {},
   "outputs": [],
   "source": [
    "#RMSE\n",
    "result = mean_squared_error(target_test, predictions_catboost) ** 0.5"
   ]
  },
  {
   "cell_type": "code",
   "execution_count": 1589,
   "metadata": {},
   "outputs": [
    {
     "name": "stdout",
     "output_type": "stream",
     "text": [
      "RMSE модели CatBoostRegressor: 1226.839090058853\n"
     ]
    }
   ],
   "source": [
    "#Вывод RMSE\n",
    "print(\"RMSE модели CatBoostRegressor:\", result)"
   ]
  },
  {
   "cell_type": "markdown",
   "metadata": {},
   "source": [
    "### Модель LightGBM"
   ]
  },
  {
   "cell_type": "code",
   "execution_count": 1590,
   "metadata": {},
   "outputs": [
    {
     "name": "stdout",
     "output_type": "stream",
     "text": [
      "CPU times: total: 1.03 s\n",
      "Wall time: 281 ms\n"
     ]
    }
   ],
   "source": [
    "%%time\n",
    "#Предсказания модели Модель LightGBM\n",
    "predictions_LGBM = model_LGBM.predict(features_test_LGBM)"
   ]
  },
  {
   "cell_type": "code",
   "execution_count": 1591,
   "metadata": {},
   "outputs": [],
   "source": [
    "#RMSE\n",
    "result = mean_squared_error(target_test, predictions_LGBM) ** 0.5"
   ]
  },
  {
   "cell_type": "code",
   "execution_count": 1592,
   "metadata": {},
   "outputs": [
    {
     "name": "stdout",
     "output_type": "stream",
     "text": [
      "RMSE модели LightGBM: 1238.704679582154\n"
     ]
    }
   ],
   "source": [
    "#Вывод RMSE\n",
    "print(\"RMSE модели LightGBM:\", result)"
   ]
  },
  {
   "cell_type": "markdown",
   "metadata": {},
   "source": [
    "Все показатели(время обучения, время предсказания и качество) для удобства были собраны в одной таблице."
   ]
  },
  {
   "cell_type": "code",
   "execution_count": 1593,
   "metadata": {},
   "outputs": [],
   "source": [
    "df_review = pd.DataFrame(np.array([['32 s','240 ms','1461.3'],\n",
    "                            ['5.69 s','289 ms','1779.55'],\n",
    "                            ['3min 3s','429 ms','1226.8'],\n",
    "                            ['1.33 s','281 ms','1238.7']]), \n",
    "                  columns=['время обучения', 'время предсказания','качество'], \n",
    "                  index=['RandomForestRegressor','LinearRegression','CatBoostRegressor', 'LGBMRegressor'])"
   ]
  },
  {
   "cell_type": "code",
   "execution_count": 1594,
   "metadata": {},
   "outputs": [
    {
     "data": {
      "text/html": [
       "<div>\n",
       "<style scoped>\n",
       "    .dataframe tbody tr th:only-of-type {\n",
       "        vertical-align: middle;\n",
       "    }\n",
       "\n",
       "    .dataframe tbody tr th {\n",
       "        vertical-align: top;\n",
       "    }\n",
       "\n",
       "    .dataframe thead th {\n",
       "        text-align: right;\n",
       "    }\n",
       "</style>\n",
       "<table border=\"1\" class=\"dataframe\">\n",
       "  <thead>\n",
       "    <tr style=\"text-align: right;\">\n",
       "      <th></th>\n",
       "      <th>время обучения</th>\n",
       "      <th>время предсказания</th>\n",
       "      <th>качество</th>\n",
       "    </tr>\n",
       "  </thead>\n",
       "  <tbody>\n",
       "    <tr>\n",
       "      <th>RandomForestRegressor</th>\n",
       "      <td>32 s</td>\n",
       "      <td>240 ms</td>\n",
       "      <td>1461.3</td>\n",
       "    </tr>\n",
       "    <tr>\n",
       "      <th>LinearRegression</th>\n",
       "      <td>5.69 s</td>\n",
       "      <td>289 ms</td>\n",
       "      <td>1779.55</td>\n",
       "    </tr>\n",
       "    <tr>\n",
       "      <th>CatBoostRegressor</th>\n",
       "      <td>3min 3s</td>\n",
       "      <td>429 ms</td>\n",
       "      <td>1226.8</td>\n",
       "    </tr>\n",
       "    <tr>\n",
       "      <th>LGBMRegressor</th>\n",
       "      <td>1.33 s</td>\n",
       "      <td>281 ms</td>\n",
       "      <td>1238.7</td>\n",
       "    </tr>\n",
       "  </tbody>\n",
       "</table>\n",
       "</div>"
      ],
      "text/plain": [
       "                      время обучения время предсказания качество\n",
       "RandomForestRegressor           32 s             240 ms   1461.3\n",
       "LinearRegression              5.69 s             289 ms  1779.55\n",
       "CatBoostRegressor            3min 3s             429 ms   1226.8\n",
       "LGBMRegressor                 1.33 s             281 ms   1238.7"
      ]
     },
     "execution_count": 1594,
     "metadata": {},
     "output_type": "execute_result"
    }
   ],
   "source": [
    "df_review"
   ]
  },
  {
   "cell_type": "markdown",
   "metadata": {},
   "source": [
    "### Вывод"
   ]
  },
  {
   "cell_type": "markdown",
   "metadata": {},
   "source": [
    "Модель градиентного бустинга LGBMRegressor обладает наименьшим временем обучения и вместе с другой моделью градиентого бустинга, CatBoostRegressor, - наилучшим качеством, значения метрики RMSE у них отличаются незначительно. \n",
    "На втором месте по времени обучения стоит модель линейной регрессии, но ее качество оказывается хуже, чем у всех остальных моделей.\n",
    "Модели линейной регрессии и случайного леса уступают по качеству моделям градиентного бустинга, CatBoostRegressor и LGBMRegressor. Эти модели выигрывают у CatBoostRegressor по времени обучения и времени предсказания и модель случайного леса немного выигрывает у модели LGBMRegressor по времени предсказания. Однако, наблюдаемая разница по времени предсказания и времени обучения некритична, особенно в сравнении с LGBMRegressor, и предпочтение при выборе моделей стоит отдать их качеству. То есть при решении данной задачи остановить свой выбор стоит на моделях CatBoostRegressor и LGBMRegressor, или, учитывая время обучения и время предсказания, на одной модели - LGBMRegressor. Её качество лишь немногим уступает качеству модели CatBoostRegressor, а время обучения и время предсказания существенно меньше."
   ]
  },
  {
   "cell_type": "markdown",
   "metadata": {},
   "source": [
    "## Вывод"
   ]
  },
  {
   "cell_type": "markdown",
   "metadata": {},
   "source": [
    "При решении задачи было обучено несколько разных моделей. Были проанализированы время обучения, время предсказания и качество этих моделей. В результате, стоит остановить свой выбор на моделях CatBoostRegressor и LGBMRegressor, или на одной модели - LGBMRegressor."
   ]
  }
 ],
 "metadata": {
  "ExecuteTimeLog": [
   {
    "duration": 478,
    "start_time": "2022-03-27T15:55:54.104Z"
   },
   {
    "duration": 2833,
    "start_time": "2022-03-27T15:56:31.042Z"
   },
   {
    "duration": 28,
    "start_time": "2022-03-27T15:56:52.153Z"
   },
   {
    "duration": 174,
    "start_time": "2022-03-27T15:57:07.864Z"
   },
   {
    "duration": 57,
    "start_time": "2022-03-27T15:58:25.240Z"
   },
   {
    "duration": 45,
    "start_time": "2022-03-27T16:32:53.418Z"
   },
   {
    "duration": 1030,
    "start_time": "2022-03-27T16:33:21.095Z"
   },
   {
    "duration": 58,
    "start_time": "2022-03-27T16:33:26.943Z"
   },
   {
    "duration": 3,
    "start_time": "2022-03-27T16:33:30.926Z"
   },
   {
    "duration": 772,
    "start_time": "2022-03-27T16:33:32.062Z"
   },
   {
    "duration": 19,
    "start_time": "2022-03-27T16:33:32.889Z"
   },
   {
    "duration": 133,
    "start_time": "2022-03-27T16:33:33.943Z"
   },
   {
    "duration": 38,
    "start_time": "2022-03-27T16:33:37.566Z"
   },
   {
    "duration": 179,
    "start_time": "2022-03-27T16:33:38.990Z"
   },
   {
    "duration": 8,
    "start_time": "2022-03-27T17:02:08.539Z"
   },
   {
    "duration": 248,
    "start_time": "2022-03-27T17:02:40.106Z"
   },
   {
    "duration": 135,
    "start_time": "2022-03-27T17:02:51.204Z"
   },
   {
    "duration": 161,
    "start_time": "2022-03-27T17:03:57.657Z"
   },
   {
    "duration": 119,
    "start_time": "2022-03-27T17:04:11.649Z"
   },
   {
    "duration": 6,
    "start_time": "2022-03-27T17:05:23.886Z"
   },
   {
    "duration": 20,
    "start_time": "2022-03-27T17:05:52.646Z"
   },
   {
    "duration": 19,
    "start_time": "2022-03-27T17:07:03.892Z"
   },
   {
    "duration": 21,
    "start_time": "2022-03-27T17:07:26.804Z"
   },
   {
    "duration": 22,
    "start_time": "2022-03-27T17:14:57.772Z"
   },
   {
    "duration": 34,
    "start_time": "2022-03-27T17:16:09.585Z"
   },
   {
    "duration": 89,
    "start_time": "2022-03-27T17:19:49.932Z"
   },
   {
    "duration": 7,
    "start_time": "2022-03-27T17:20:18.071Z"
   },
   {
    "duration": 30,
    "start_time": "2022-03-27T17:21:04.114Z"
   },
   {
    "duration": 328,
    "start_time": "2022-03-27T17:24:01.474Z"
   },
   {
    "duration": 4,
    "start_time": "2022-03-27T17:32:44.492Z"
   },
   {
    "duration": 3,
    "start_time": "2022-03-27T17:32:59.844Z"
   },
   {
    "duration": 20,
    "start_time": "2022-03-27T17:33:43.148Z"
   },
   {
    "duration": 6,
    "start_time": "2022-03-27T17:34:03.189Z"
   },
   {
    "duration": 7,
    "start_time": "2022-03-27T17:36:04.977Z"
   },
   {
    "duration": 7,
    "start_time": "2022-03-27T17:36:09.361Z"
   },
   {
    "duration": 4,
    "start_time": "2022-03-27T17:39:43.597Z"
   },
   {
    "duration": 5,
    "start_time": "2022-03-27T17:39:49.964Z"
   },
   {
    "duration": 84,
    "start_time": "2022-03-27T17:40:58.060Z"
   },
   {
    "duration": 23,
    "start_time": "2022-03-27T17:43:28.975Z"
   },
   {
    "duration": 19,
    "start_time": "2022-03-27T17:44:13.336Z"
   },
   {
    "duration": 24,
    "start_time": "2022-03-27T17:44:30.086Z"
   },
   {
    "duration": 76,
    "start_time": "2022-03-27T17:45:00.463Z"
   },
   {
    "duration": 1554,
    "start_time": "2022-03-28T15:16:40.180Z"
   },
   {
    "duration": 799,
    "start_time": "2022-03-28T15:16:43.825Z"
   },
   {
    "duration": 3,
    "start_time": "2022-03-28T15:28:34.323Z"
   },
   {
    "duration": 87,
    "start_time": "2022-03-28T16:27:29.206Z"
   },
   {
    "duration": 3,
    "start_time": "2022-03-28T16:27:34.337Z"
   },
   {
    "duration": 717,
    "start_time": "2022-03-28T16:27:34.342Z"
   },
   {
    "duration": 29,
    "start_time": "2022-03-28T16:27:35.061Z"
   },
   {
    "duration": 122,
    "start_time": "2022-03-28T16:27:35.091Z"
   },
   {
    "duration": 116,
    "start_time": "2022-03-28T16:27:35.215Z"
   },
   {
    "duration": 78,
    "start_time": "2022-03-28T16:27:35.333Z"
   },
   {
    "duration": 19,
    "start_time": "2022-03-28T16:27:35.413Z"
   },
   {
    "duration": 22,
    "start_time": "2022-03-28T16:27:35.433Z"
   },
   {
    "duration": 30,
    "start_time": "2022-03-28T16:27:35.457Z"
   },
   {
    "duration": 26,
    "start_time": "2022-03-28T16:27:35.488Z"
   },
   {
    "duration": 19,
    "start_time": "2022-03-28T16:27:35.516Z"
   },
   {
    "duration": 44,
    "start_time": "2022-03-28T16:27:35.537Z"
   },
   {
    "duration": 162,
    "start_time": "2022-03-28T16:27:35.583Z"
   },
   {
    "duration": 176,
    "start_time": "2022-03-28T16:27:37.949Z"
   },
   {
    "duration": 3,
    "start_time": "2022-03-28T16:27:38.925Z"
   },
   {
    "duration": 3,
    "start_time": "2022-03-28T16:27:39.733Z"
   },
   {
    "duration": 6219,
    "start_time": "2022-03-28T16:28:08.204Z"
   },
   {
    "duration": 67,
    "start_time": "2022-03-29T04:17:41.598Z"
   },
   {
    "duration": 1464,
    "start_time": "2022-03-29T04:17:46.107Z"
   },
   {
    "duration": 1013,
    "start_time": "2022-03-29T04:17:47.573Z"
   },
   {
    "duration": 30,
    "start_time": "2022-03-29T04:17:48.588Z"
   },
   {
    "duration": 175,
    "start_time": "2022-03-29T04:17:48.620Z"
   },
   {
    "duration": 157,
    "start_time": "2022-03-29T04:17:48.799Z"
   },
   {
    "duration": 123,
    "start_time": "2022-03-29T04:17:48.957Z"
   },
   {
    "duration": 28,
    "start_time": "2022-03-29T04:17:49.082Z"
   },
   {
    "duration": 28,
    "start_time": "2022-03-29T04:17:49.112Z"
   },
   {
    "duration": 51,
    "start_time": "2022-03-29T04:17:49.142Z"
   },
   {
    "duration": 30,
    "start_time": "2022-03-29T04:17:49.195Z"
   },
   {
    "duration": 47,
    "start_time": "2022-03-29T04:17:49.227Z"
   },
   {
    "duration": 59,
    "start_time": "2022-03-29T04:17:49.276Z"
   },
   {
    "duration": 255,
    "start_time": "2022-03-29T04:17:49.337Z"
   },
   {
    "duration": 3,
    "start_time": "2022-03-29T04:17:49.596Z"
   },
   {
    "duration": 7,
    "start_time": "2022-03-29T04:17:49.601Z"
   },
   {
    "duration": 4082,
    "start_time": "2022-03-29T04:17:49.610Z"
   },
   {
    "duration": 106,
    "start_time": "2022-03-29T04:18:42.052Z"
   },
   {
    "duration": 8,
    "start_time": "2022-03-29T04:18:58.741Z"
   },
   {
    "duration": 132,
    "start_time": "2022-03-29T04:25:29.140Z"
   },
   {
    "duration": 5,
    "start_time": "2022-03-29T04:26:08.491Z"
   },
   {
    "duration": 21,
    "start_time": "2022-03-29T04:28:18.849Z"
   },
   {
    "duration": 4743,
    "start_time": "2022-03-29T04:28:39.520Z"
   },
   {
    "duration": 9,
    "start_time": "2022-03-29T04:29:56.190Z"
   },
   {
    "duration": 7,
    "start_time": "2022-03-29T04:30:22.886Z"
   },
   {
    "duration": 17,
    "start_time": "2022-03-29T04:30:42.525Z"
   },
   {
    "duration": 4,
    "start_time": "2022-03-29T04:30:52.616Z"
   },
   {
    "duration": 1032,
    "start_time": "2022-03-29T04:30:52.623Z"
   },
   {
    "duration": 20,
    "start_time": "2022-03-29T04:30:53.657Z"
   },
   {
    "duration": 172,
    "start_time": "2022-03-29T04:30:53.680Z"
   },
   {
    "duration": 155,
    "start_time": "2022-03-29T04:30:53.854Z"
   },
   {
    "duration": 16,
    "start_time": "2022-03-29T04:30:54.011Z"
   },
   {
    "duration": 46,
    "start_time": "2022-03-29T04:30:54.029Z"
   },
   {
    "duration": 137,
    "start_time": "2022-03-29T04:30:54.077Z"
   },
   {
    "duration": 9,
    "start_time": "2022-03-29T04:30:54.216Z"
   },
   {
    "duration": 52,
    "start_time": "2022-03-29T04:30:54.228Z"
   },
   {
    "duration": 27,
    "start_time": "2022-03-29T04:30:54.282Z"
   },
   {
    "duration": 30,
    "start_time": "2022-03-29T04:30:54.311Z"
   },
   {
    "duration": 25,
    "start_time": "2022-03-29T04:30:54.367Z"
   },
   {
    "duration": 27,
    "start_time": "2022-03-29T04:30:54.395Z"
   },
   {
    "duration": 99,
    "start_time": "2022-03-29T04:30:54.424Z"
   },
   {
    "duration": 249,
    "start_time": "2022-03-29T04:30:54.526Z"
   },
   {
    "duration": 5,
    "start_time": "2022-03-29T04:30:54.777Z"
   },
   {
    "duration": 6,
    "start_time": "2022-03-29T04:30:54.784Z"
   },
   {
    "duration": 4366,
    "start_time": "2022-03-29T04:30:54.793Z"
   },
   {
    "duration": 37,
    "start_time": "2022-03-29T04:32:31.371Z"
   },
   {
    "duration": 43,
    "start_time": "2022-03-29T04:34:34.689Z"
   },
   {
    "duration": 37,
    "start_time": "2022-03-29T04:35:35.040Z"
   },
   {
    "duration": 4,
    "start_time": "2022-03-29T04:35:43.363Z"
   },
   {
    "duration": 1011,
    "start_time": "2022-03-29T04:35:43.371Z"
   },
   {
    "duration": 21,
    "start_time": "2022-03-29T04:35:44.385Z"
   },
   {
    "duration": 188,
    "start_time": "2022-03-29T04:35:44.411Z"
   },
   {
    "duration": 167,
    "start_time": "2022-03-29T04:35:44.602Z"
   },
   {
    "duration": 44,
    "start_time": "2022-03-29T04:35:44.771Z"
   },
   {
    "duration": 15,
    "start_time": "2022-03-29T04:35:44.817Z"
   },
   {
    "duration": 61,
    "start_time": "2022-03-29T04:35:44.835Z"
   },
   {
    "duration": 149,
    "start_time": "2022-03-29T04:35:44.899Z"
   },
   {
    "duration": 22,
    "start_time": "2022-03-29T04:35:45.050Z"
   },
   {
    "duration": 28,
    "start_time": "2022-03-29T04:35:45.074Z"
   },
   {
    "duration": 28,
    "start_time": "2022-03-29T04:35:45.105Z"
   },
   {
    "duration": 55,
    "start_time": "2022-03-29T04:35:45.136Z"
   },
   {
    "duration": 75,
    "start_time": "2022-03-29T04:35:45.193Z"
   },
   {
    "duration": 28,
    "start_time": "2022-03-29T04:35:45.271Z"
   },
   {
    "duration": 82,
    "start_time": "2022-03-29T04:35:45.301Z"
   },
   {
    "duration": 248,
    "start_time": "2022-03-29T04:35:45.386Z"
   },
   {
    "duration": 4,
    "start_time": "2022-03-29T04:35:45.636Z"
   },
   {
    "duration": 12,
    "start_time": "2022-03-29T04:35:45.642Z"
   },
   {
    "duration": 4201,
    "start_time": "2022-03-29T04:35:45.656Z"
   },
   {
    "duration": 158,
    "start_time": "2022-03-29T04:38:56.029Z"
   },
   {
    "duration": 44,
    "start_time": "2022-03-29T04:40:11.043Z"
   },
   {
    "duration": 34,
    "start_time": "2022-03-29T04:40:51.121Z"
   },
   {
    "duration": 160,
    "start_time": "2022-03-29T04:41:06.592Z"
   },
   {
    "duration": 4,
    "start_time": "2022-03-29T04:41:12.604Z"
   },
   {
    "duration": 1032,
    "start_time": "2022-03-29T04:41:12.611Z"
   },
   {
    "duration": 25,
    "start_time": "2022-03-29T04:41:13.645Z"
   },
   {
    "duration": 172,
    "start_time": "2022-03-29T04:41:13.673Z"
   },
   {
    "duration": 162,
    "start_time": "2022-03-29T04:41:13.847Z"
   },
   {
    "duration": 67,
    "start_time": "2022-03-29T04:41:14.012Z"
   },
   {
    "duration": 37,
    "start_time": "2022-03-29T04:41:14.081Z"
   },
   {
    "duration": 180,
    "start_time": "2022-03-29T04:41:14.121Z"
   },
   {
    "duration": 17,
    "start_time": "2022-03-29T04:41:14.303Z"
   },
   {
    "duration": 62,
    "start_time": "2022-03-29T04:41:14.324Z"
   },
   {
    "duration": 163,
    "start_time": "2022-03-29T04:41:14.389Z"
   },
   {
    "duration": 153,
    "start_time": "2022-03-29T04:41:14.555Z"
   },
   {
    "duration": 10,
    "start_time": "2022-03-29T04:41:14.711Z"
   },
   {
    "duration": 49,
    "start_time": "2022-03-29T04:41:14.724Z"
   },
   {
    "duration": 30,
    "start_time": "2022-03-29T04:41:14.776Z"
   },
   {
    "duration": 30,
    "start_time": "2022-03-29T04:41:14.808Z"
   },
   {
    "duration": 29,
    "start_time": "2022-03-29T04:41:14.868Z"
   },
   {
    "duration": 28,
    "start_time": "2022-03-29T04:41:14.900Z"
   },
   {
    "duration": 92,
    "start_time": "2022-03-29T04:41:14.930Z"
   },
   {
    "duration": 238,
    "start_time": "2022-03-29T04:41:15.024Z"
   },
   {
    "duration": 4,
    "start_time": "2022-03-29T04:41:15.267Z"
   },
   {
    "duration": 5,
    "start_time": "2022-03-29T04:41:15.273Z"
   },
   {
    "duration": 4206,
    "start_time": "2022-03-29T04:41:15.280Z"
   },
   {
    "duration": 50,
    "start_time": "2022-03-29T04:48:53.031Z"
   },
   {
    "duration": 5,
    "start_time": "2022-03-29T04:49:08.626Z"
   },
   {
    "duration": 1018,
    "start_time": "2022-03-29T04:49:08.635Z"
   },
   {
    "duration": 26,
    "start_time": "2022-03-29T04:49:09.655Z"
   },
   {
    "duration": 182,
    "start_time": "2022-03-29T04:49:09.685Z"
   },
   {
    "duration": 169,
    "start_time": "2022-03-29T04:49:09.870Z"
   },
   {
    "duration": 57,
    "start_time": "2022-03-29T04:49:10.041Z"
   },
   {
    "duration": 38,
    "start_time": "2022-03-29T04:49:10.100Z"
   },
   {
    "duration": 189,
    "start_time": "2022-03-29T04:49:10.140Z"
   },
   {
    "duration": 61,
    "start_time": "2022-03-29T04:49:10.333Z"
   },
   {
    "duration": 17,
    "start_time": "2022-03-29T04:49:10.396Z"
   },
   {
    "duration": 1777,
    "start_time": "2022-03-29T04:49:10.415Z"
   },
   {
    "duration": 0,
    "start_time": "2022-03-29T04:49:12.195Z"
   },
   {
    "duration": 0,
    "start_time": "2022-03-29T04:49:12.196Z"
   },
   {
    "duration": 0,
    "start_time": "2022-03-29T04:49:12.198Z"
   },
   {
    "duration": 0,
    "start_time": "2022-03-29T04:49:12.199Z"
   },
   {
    "duration": 0,
    "start_time": "2022-03-29T04:49:12.201Z"
   },
   {
    "duration": 0,
    "start_time": "2022-03-29T04:49:12.202Z"
   },
   {
    "duration": 0,
    "start_time": "2022-03-29T04:49:12.204Z"
   },
   {
    "duration": 0,
    "start_time": "2022-03-29T04:49:12.206Z"
   },
   {
    "duration": 0,
    "start_time": "2022-03-29T04:49:12.208Z"
   },
   {
    "duration": 0,
    "start_time": "2022-03-29T04:49:12.209Z"
   },
   {
    "duration": 0,
    "start_time": "2022-03-29T04:49:12.212Z"
   },
   {
    "duration": 0,
    "start_time": "2022-03-29T04:49:12.213Z"
   },
   {
    "duration": 0,
    "start_time": "2022-03-29T04:49:12.215Z"
   },
   {
    "duration": 5,
    "start_time": "2022-03-29T04:49:40.433Z"
   },
   {
    "duration": 958,
    "start_time": "2022-03-29T04:49:40.442Z"
   },
   {
    "duration": 20,
    "start_time": "2022-03-29T04:49:41.402Z"
   },
   {
    "duration": 176,
    "start_time": "2022-03-29T04:49:41.426Z"
   },
   {
    "duration": 167,
    "start_time": "2022-03-29T04:49:41.604Z"
   },
   {
    "duration": 45,
    "start_time": "2022-03-29T04:49:41.773Z"
   },
   {
    "duration": 63,
    "start_time": "2022-03-29T04:49:41.820Z"
   },
   {
    "duration": 169,
    "start_time": "2022-03-29T04:49:41.886Z"
   },
   {
    "duration": 47,
    "start_time": "2022-03-29T04:49:42.057Z"
   },
   {
    "duration": 16,
    "start_time": "2022-03-29T04:49:42.108Z"
   },
   {
    "duration": 166,
    "start_time": "2022-03-29T04:49:42.126Z"
   },
   {
    "duration": 1918,
    "start_time": "2022-03-29T04:49:42.294Z"
   },
   {
    "duration": 0,
    "start_time": "2022-03-29T04:49:44.214Z"
   },
   {
    "duration": 0,
    "start_time": "2022-03-29T04:49:44.216Z"
   },
   {
    "duration": 0,
    "start_time": "2022-03-29T04:49:44.217Z"
   },
   {
    "duration": 0,
    "start_time": "2022-03-29T04:49:44.219Z"
   },
   {
    "duration": 0,
    "start_time": "2022-03-29T04:49:44.220Z"
   },
   {
    "duration": 0,
    "start_time": "2022-03-29T04:49:44.221Z"
   },
   {
    "duration": 0,
    "start_time": "2022-03-29T04:49:44.222Z"
   },
   {
    "duration": 0,
    "start_time": "2022-03-29T04:49:44.223Z"
   },
   {
    "duration": 0,
    "start_time": "2022-03-29T04:49:44.225Z"
   },
   {
    "duration": 0,
    "start_time": "2022-03-29T04:49:44.227Z"
   },
   {
    "duration": 0,
    "start_time": "2022-03-29T04:49:44.228Z"
   },
   {
    "duration": 5,
    "start_time": "2022-03-29T04:49:57.305Z"
   },
   {
    "duration": 1001,
    "start_time": "2022-03-29T04:49:57.313Z"
   },
   {
    "duration": 21,
    "start_time": "2022-03-29T04:49:58.316Z"
   },
   {
    "duration": 171,
    "start_time": "2022-03-29T04:49:58.340Z"
   },
   {
    "duration": 164,
    "start_time": "2022-03-29T04:49:58.513Z"
   },
   {
    "duration": 44,
    "start_time": "2022-03-29T04:49:58.679Z"
   },
   {
    "duration": 59,
    "start_time": "2022-03-29T04:49:58.725Z"
   },
   {
    "duration": 157,
    "start_time": "2022-03-29T04:49:58.786Z"
   },
   {
    "duration": 47,
    "start_time": "2022-03-29T04:49:58.945Z"
   },
   {
    "duration": 17,
    "start_time": "2022-03-29T04:49:58.996Z"
   },
   {
    "duration": 165,
    "start_time": "2022-03-29T04:49:59.015Z"
   },
   {
    "duration": 8,
    "start_time": "2022-03-29T04:49:59.182Z"
   },
   {
    "duration": 27,
    "start_time": "2022-03-29T04:49:59.193Z"
   },
   {
    "duration": 54,
    "start_time": "2022-03-29T04:49:59.222Z"
   },
   {
    "duration": 29,
    "start_time": "2022-03-29T04:49:59.280Z"
   },
   {
    "duration": 28,
    "start_time": "2022-03-29T04:49:59.312Z"
   },
   {
    "duration": 27,
    "start_time": "2022-03-29T04:49:59.367Z"
   },
   {
    "duration": 84,
    "start_time": "2022-03-29T04:49:59.396Z"
   },
   {
    "duration": 208,
    "start_time": "2022-03-29T04:49:59.482Z"
   },
   {
    "duration": 4,
    "start_time": "2022-03-29T04:49:59.692Z"
   },
   {
    "duration": 6,
    "start_time": "2022-03-29T04:49:59.698Z"
   },
   {
    "duration": 3399,
    "start_time": "2022-03-29T04:49:59.706Z"
   },
   {
    "duration": 27,
    "start_time": "2022-03-29T04:56:12.526Z"
   },
   {
    "duration": 15,
    "start_time": "2022-03-29T04:57:19.843Z"
   },
   {
    "duration": 59,
    "start_time": "2022-03-29T04:57:24.587Z"
   },
   {
    "duration": 71,
    "start_time": "2022-03-29T05:46:45.831Z"
   },
   {
    "duration": 38,
    "start_time": "2022-03-29T05:48:18.873Z"
   },
   {
    "duration": 541,
    "start_time": "2022-03-29T05:48:31.607Z"
   },
   {
    "duration": 518,
    "start_time": "2022-03-29T05:49:51.039Z"
   },
   {
    "duration": 36,
    "start_time": "2022-03-29T05:50:44.212Z"
   },
   {
    "duration": 60,
    "start_time": "2022-03-29T05:54:06.071Z"
   },
   {
    "duration": 63,
    "start_time": "2022-03-29T05:54:18.383Z"
   },
   {
    "duration": 43,
    "start_time": "2022-03-29T06:06:20.009Z"
   },
   {
    "duration": 73,
    "start_time": "2022-03-29T06:06:40.671Z"
   },
   {
    "duration": 93,
    "start_time": "2022-03-29T06:07:47.040Z"
   },
   {
    "duration": 1311,
    "start_time": "2022-03-29T08:55:16.088Z"
   },
   {
    "duration": 800,
    "start_time": "2022-03-29T08:55:17.401Z"
   },
   {
    "duration": 19,
    "start_time": "2022-03-29T08:55:18.203Z"
   },
   {
    "duration": 145,
    "start_time": "2022-03-29T08:55:18.224Z"
   },
   {
    "duration": 136,
    "start_time": "2022-03-29T08:55:18.371Z"
   },
   {
    "duration": 97,
    "start_time": "2022-03-29T08:56:34.795Z"
   },
   {
    "duration": 44,
    "start_time": "2022-03-29T08:56:40.322Z"
   },
   {
    "duration": 225,
    "start_time": "2022-03-29T08:57:06.929Z"
   },
   {
    "duration": 252,
    "start_time": "2022-03-29T08:57:22.440Z"
   },
   {
    "duration": 103,
    "start_time": "2022-03-29T08:57:56.344Z"
   },
   {
    "duration": 221,
    "start_time": "2022-03-29T08:58:03.816Z"
   },
   {
    "duration": 110,
    "start_time": "2022-03-29T08:58:35.831Z"
   },
   {
    "duration": 104,
    "start_time": "2022-03-29T08:59:08.822Z"
   },
   {
    "duration": 111,
    "start_time": "2022-03-29T08:59:51.293Z"
   },
   {
    "duration": 214,
    "start_time": "2022-03-29T09:00:00.500Z"
   },
   {
    "duration": 209,
    "start_time": "2022-03-29T09:01:08.659Z"
   },
   {
    "duration": 59,
    "start_time": "2022-03-29T09:01:09.475Z"
   },
   {
    "duration": 193,
    "start_time": "2022-03-29T09:01:26.387Z"
   },
   {
    "duration": 3,
    "start_time": "2022-03-29T09:02:20.435Z"
   },
   {
    "duration": 827,
    "start_time": "2022-03-29T09:02:21.857Z"
   },
   {
    "duration": 12,
    "start_time": "2022-03-29T09:02:24.641Z"
   },
   {
    "duration": 130,
    "start_time": "2022-03-29T09:02:25.761Z"
   },
   {
    "duration": 131,
    "start_time": "2022-03-29T09:02:29.825Z"
   },
   {
    "duration": 206,
    "start_time": "2022-03-29T09:02:33.425Z"
   },
   {
    "duration": 121,
    "start_time": "2022-03-29T09:02:34.313Z"
   },
   {
    "duration": 118,
    "start_time": "2022-03-29T09:02:34.961Z"
   },
   {
    "duration": 120,
    "start_time": "2022-03-29T09:02:35.521Z"
   },
   {
    "duration": 124,
    "start_time": "2022-03-29T09:02:36.113Z"
   },
   {
    "duration": 237,
    "start_time": "2022-03-29T09:02:37.080Z"
   },
   {
    "duration": 328,
    "start_time": "2022-03-29T09:02:40.488Z"
   },
   {
    "duration": 86,
    "start_time": "2022-03-29T09:02:42.392Z"
   },
   {
    "duration": 195,
    "start_time": "2022-03-29T09:02:45.032Z"
   },
   {
    "duration": 22,
    "start_time": "2022-03-29T09:02:51.040Z"
   },
   {
    "duration": 15,
    "start_time": "2022-03-29T09:02:51.928Z"
   },
   {
    "duration": 21,
    "start_time": "2022-03-29T09:02:52.776Z"
   },
   {
    "duration": 20,
    "start_time": "2022-03-29T09:02:54.968Z"
   },
   {
    "duration": 22,
    "start_time": "2022-03-29T09:02:55.928Z"
   },
   {
    "duration": 24,
    "start_time": "2022-03-29T09:02:58.800Z"
   },
   {
    "duration": 19,
    "start_time": "2022-03-29T09:02:59.536Z"
   },
   {
    "duration": 41,
    "start_time": "2022-03-29T09:03:01.376Z"
   },
   {
    "duration": 184,
    "start_time": "2022-03-29T09:03:04.544Z"
   },
   {
    "duration": 2,
    "start_time": "2022-03-29T09:03:13.360Z"
   },
   {
    "duration": 5,
    "start_time": "2022-03-29T09:03:15.176Z"
   },
   {
    "duration": 6183,
    "start_time": "2022-03-29T09:03:19.767Z"
   },
   {
    "duration": 3,
    "start_time": "2022-03-29T09:09:19.931Z"
   },
   {
    "duration": 793,
    "start_time": "2022-03-29T09:09:19.936Z"
   },
   {
    "duration": 12,
    "start_time": "2022-03-29T09:09:20.731Z"
   },
   {
    "duration": 149,
    "start_time": "2022-03-29T09:09:20.745Z"
   },
   {
    "duration": 139,
    "start_time": "2022-03-29T09:09:20.896Z"
   },
   {
    "duration": 134,
    "start_time": "2022-03-29T09:09:27.327Z"
   },
   {
    "duration": 19,
    "start_time": "2022-03-29T09:09:29.334Z"
   },
   {
    "duration": 19,
    "start_time": "2022-03-29T09:09:58.604Z"
   },
   {
    "duration": 194,
    "start_time": "2022-03-29T09:10:13.564Z"
   },
   {
    "duration": 128,
    "start_time": "2022-03-29T09:10:14.278Z"
   },
   {
    "duration": 134,
    "start_time": "2022-03-29T09:10:14.821Z"
   },
   {
    "duration": 127,
    "start_time": "2022-03-29T09:10:15.269Z"
   },
   {
    "duration": 137,
    "start_time": "2022-03-29T09:10:15.742Z"
   },
   {
    "duration": 226,
    "start_time": "2022-03-29T09:10:16.438Z"
   },
   {
    "duration": 261,
    "start_time": "2022-03-29T09:10:16.941Z"
   },
   {
    "duration": 65,
    "start_time": "2022-03-29T09:10:17.398Z"
   },
   {
    "duration": 210,
    "start_time": "2022-03-29T09:10:17.726Z"
   },
   {
    "duration": 25,
    "start_time": "2022-03-29T09:10:18.470Z"
   },
   {
    "duration": 13,
    "start_time": "2022-03-29T09:10:18.710Z"
   },
   {
    "duration": 22,
    "start_time": "2022-03-29T09:10:18.942Z"
   },
   {
    "duration": 21,
    "start_time": "2022-03-29T09:10:19.173Z"
   },
   {
    "duration": 25,
    "start_time": "2022-03-29T09:10:19.421Z"
   },
   {
    "duration": 23,
    "start_time": "2022-03-29T09:10:19.638Z"
   },
   {
    "duration": 22,
    "start_time": "2022-03-29T09:10:19.862Z"
   },
   {
    "duration": 103,
    "start_time": "2022-03-29T09:10:20.350Z"
   },
   {
    "duration": 234,
    "start_time": "2022-03-29T09:10:20.838Z"
   },
   {
    "duration": 3,
    "start_time": "2022-03-29T09:10:21.229Z"
   },
   {
    "duration": 3,
    "start_time": "2022-03-29T09:10:21.470Z"
   },
   {
    "duration": 6726,
    "start_time": "2022-03-29T09:10:21.729Z"
   },
   {
    "duration": 3,
    "start_time": "2022-03-29T09:14:50.180Z"
   },
   {
    "duration": 810,
    "start_time": "2022-03-29T09:14:50.184Z"
   },
   {
    "duration": 14,
    "start_time": "2022-03-29T09:14:50.996Z"
   },
   {
    "duration": 168,
    "start_time": "2022-03-29T09:14:51.012Z"
   },
   {
    "duration": 134,
    "start_time": "2022-03-29T09:14:51.182Z"
   },
   {
    "duration": 51,
    "start_time": "2022-03-29T09:14:51.318Z"
   },
   {
    "duration": 201,
    "start_time": "2022-03-29T09:14:51.371Z"
   },
   {
    "duration": 153,
    "start_time": "2022-03-29T09:14:51.573Z"
   },
   {
    "duration": 149,
    "start_time": "2022-03-29T09:14:51.729Z"
   },
   {
    "duration": 148,
    "start_time": "2022-03-29T09:14:51.879Z"
   },
   {
    "duration": 151,
    "start_time": "2022-03-29T09:14:52.029Z"
   },
   {
    "duration": 241,
    "start_time": "2022-03-29T09:14:52.182Z"
   },
   {
    "duration": 251,
    "start_time": "2022-03-29T09:14:52.424Z"
   },
   {
    "duration": 81,
    "start_time": "2022-03-29T09:14:52.677Z"
   },
   {
    "duration": 227,
    "start_time": "2022-03-29T09:14:52.760Z"
   },
   {
    "duration": 21,
    "start_time": "2022-03-29T09:14:52.989Z"
   },
   {
    "duration": 20,
    "start_time": "2022-03-29T09:14:53.012Z"
   },
   {
    "duration": 26,
    "start_time": "2022-03-29T09:14:53.033Z"
   },
   {
    "duration": 42,
    "start_time": "2022-03-29T09:14:53.060Z"
   },
   {
    "duration": 23,
    "start_time": "2022-03-29T09:14:53.104Z"
   },
   {
    "duration": 23,
    "start_time": "2022-03-29T09:14:53.129Z"
   },
   {
    "duration": 20,
    "start_time": "2022-03-29T09:14:53.153Z"
   },
   {
    "duration": 99,
    "start_time": "2022-03-29T09:14:53.175Z"
   },
   {
    "duration": 203,
    "start_time": "2022-03-29T09:14:53.277Z"
   },
   {
    "duration": 2,
    "start_time": "2022-03-29T09:14:53.482Z"
   },
   {
    "duration": 15,
    "start_time": "2022-03-29T09:14:53.485Z"
   },
   {
    "duration": 6310,
    "start_time": "2022-03-29T09:14:53.502Z"
   },
   {
    "duration": 219,
    "start_time": "2022-03-29T09:22:32.558Z"
   },
   {
    "duration": 8,
    "start_time": "2022-03-29T10:04:54.123Z"
   },
   {
    "duration": 1195,
    "start_time": "2022-03-29T10:04:58.325Z"
   },
   {
    "duration": 794,
    "start_time": "2022-03-29T10:04:59.521Z"
   },
   {
    "duration": 18,
    "start_time": "2022-03-29T10:05:00.316Z"
   },
   {
    "duration": 138,
    "start_time": "2022-03-29T10:05:00.336Z"
   },
   {
    "duration": 133,
    "start_time": "2022-03-29T10:05:00.476Z"
   },
   {
    "duration": 33,
    "start_time": "2022-03-29T10:05:00.610Z"
   },
   {
    "duration": 190,
    "start_time": "2022-03-29T10:05:00.645Z"
   },
   {
    "duration": 126,
    "start_time": "2022-03-29T10:05:00.837Z"
   },
   {
    "duration": 123,
    "start_time": "2022-03-29T10:05:00.965Z"
   },
   {
    "duration": 122,
    "start_time": "2022-03-29T10:05:01.091Z"
   },
   {
    "duration": 126,
    "start_time": "2022-03-29T10:05:01.215Z"
   },
   {
    "duration": 215,
    "start_time": "2022-03-29T10:05:01.343Z"
   },
   {
    "duration": 283,
    "start_time": "2022-03-29T10:05:01.560Z"
   },
   {
    "duration": 74,
    "start_time": "2022-03-29T10:05:01.845Z"
   },
   {
    "duration": 216,
    "start_time": "2022-03-29T10:05:01.921Z"
   },
   {
    "duration": 22,
    "start_time": "2022-03-29T10:05:02.138Z"
   },
   {
    "duration": 14,
    "start_time": "2022-03-29T10:05:02.162Z"
   },
   {
    "duration": 59,
    "start_time": "2022-03-29T10:05:02.177Z"
   },
   {
    "duration": 21,
    "start_time": "2022-03-29T10:05:02.238Z"
   },
   {
    "duration": 24,
    "start_time": "2022-03-29T10:05:02.260Z"
   },
   {
    "duration": 30,
    "start_time": "2022-03-29T10:05:02.285Z"
   },
   {
    "duration": 20,
    "start_time": "2022-03-29T10:05:02.316Z"
   },
   {
    "duration": 64,
    "start_time": "2022-03-29T10:05:02.338Z"
   },
   {
    "duration": 189,
    "start_time": "2022-03-29T10:05:02.404Z"
   },
   {
    "duration": 6,
    "start_time": "2022-03-29T10:05:02.595Z"
   },
   {
    "duration": 3,
    "start_time": "2022-03-29T10:05:04.872Z"
   },
   {
    "duration": 187,
    "start_time": "2022-03-29T10:05:06.776Z"
   },
   {
    "duration": 3,
    "start_time": "2022-03-29T10:05:10.048Z"
   },
   {
    "duration": 6243,
    "start_time": "2022-03-29T10:05:11.089Z"
   },
   {
    "duration": 3,
    "start_time": "2022-03-29T10:33:03.320Z"
   },
   {
    "duration": 792,
    "start_time": "2022-03-29T10:33:03.326Z"
   },
   {
    "duration": 14,
    "start_time": "2022-03-29T10:33:04.120Z"
   },
   {
    "duration": 148,
    "start_time": "2022-03-29T10:33:04.135Z"
   },
   {
    "duration": 143,
    "start_time": "2022-03-29T10:33:04.285Z"
   },
   {
    "duration": 21,
    "start_time": "2022-03-29T10:33:04.429Z"
   },
   {
    "duration": 201,
    "start_time": "2022-03-29T10:33:04.452Z"
   },
   {
    "duration": 135,
    "start_time": "2022-03-29T10:33:04.655Z"
   },
   {
    "duration": 134,
    "start_time": "2022-03-29T10:33:04.792Z"
   },
   {
    "duration": 140,
    "start_time": "2022-03-29T10:33:04.928Z"
   },
   {
    "duration": 146,
    "start_time": "2022-03-29T10:33:05.070Z"
   },
   {
    "duration": 122,
    "start_time": "2022-03-29T10:33:10.172Z"
   },
   {
    "duration": 155,
    "start_time": "2022-03-29T10:33:13.010Z"
   },
   {
    "duration": 3,
    "start_time": "2022-03-29T10:33:18.697Z"
   },
   {
    "duration": 807,
    "start_time": "2022-03-29T10:33:18.702Z"
   },
   {
    "duration": 13,
    "start_time": "2022-03-29T10:33:19.510Z"
   },
   {
    "duration": 158,
    "start_time": "2022-03-29T10:33:19.525Z"
   },
   {
    "duration": 138,
    "start_time": "2022-03-29T10:33:19.687Z"
   },
   {
    "duration": 21,
    "start_time": "2022-03-29T10:33:19.827Z"
   },
   {
    "duration": 211,
    "start_time": "2022-03-29T10:33:19.850Z"
   },
   {
    "duration": 141,
    "start_time": "2022-03-29T10:33:20.063Z"
   },
   {
    "duration": 136,
    "start_time": "2022-03-29T10:33:20.205Z"
   },
   {
    "duration": 135,
    "start_time": "2022-03-29T10:33:20.343Z"
   },
   {
    "duration": 143,
    "start_time": "2022-03-29T10:33:20.480Z"
   },
   {
    "duration": 157,
    "start_time": "2022-03-29T10:33:20.625Z"
   },
   {
    "duration": 239,
    "start_time": "2022-03-29T10:33:20.785Z"
   },
   {
    "duration": 251,
    "start_time": "2022-03-29T10:33:21.026Z"
   },
   {
    "duration": 78,
    "start_time": "2022-03-29T10:33:21.279Z"
   },
   {
    "duration": 206,
    "start_time": "2022-03-29T10:33:21.359Z"
   },
   {
    "duration": 21,
    "start_time": "2022-03-29T10:33:21.567Z"
   },
   {
    "duration": 14,
    "start_time": "2022-03-29T10:33:21.601Z"
   },
   {
    "duration": 30,
    "start_time": "2022-03-29T10:33:21.616Z"
   },
   {
    "duration": 27,
    "start_time": "2022-03-29T10:33:21.647Z"
   },
   {
    "duration": 43,
    "start_time": "2022-03-29T10:33:21.676Z"
   },
   {
    "duration": 22,
    "start_time": "2022-03-29T10:33:21.721Z"
   },
   {
    "duration": 23,
    "start_time": "2022-03-29T10:33:21.744Z"
   },
   {
    "duration": 82,
    "start_time": "2022-03-29T10:33:21.768Z"
   },
   {
    "duration": 214,
    "start_time": "2022-03-29T10:33:21.852Z"
   },
   {
    "duration": 3,
    "start_time": "2022-03-29T10:33:22.067Z"
   },
   {
    "duration": 228,
    "start_time": "2022-03-29T10:33:22.072Z"
   },
   {
    "duration": 4,
    "start_time": "2022-03-29T10:33:22.301Z"
   },
   {
    "duration": 7036,
    "start_time": "2022-03-29T10:33:22.306Z"
   },
   {
    "duration": 3,
    "start_time": "2022-03-29T10:35:07.829Z"
   },
   {
    "duration": 910,
    "start_time": "2022-03-29T10:35:07.835Z"
   },
   {
    "duration": 14,
    "start_time": "2022-03-29T10:35:08.747Z"
   },
   {
    "duration": 221,
    "start_time": "2022-03-29T10:35:08.763Z"
   },
   {
    "duration": 272,
    "start_time": "2022-03-29T10:35:08.986Z"
   },
   {
    "duration": 21,
    "start_time": "2022-03-29T10:35:09.260Z"
   },
   {
    "duration": 227,
    "start_time": "2022-03-29T10:35:09.283Z"
   },
   {
    "duration": 163,
    "start_time": "2022-03-29T10:35:09.512Z"
   },
   {
    "duration": 157,
    "start_time": "2022-03-29T10:35:09.677Z"
   },
   {
    "duration": 154,
    "start_time": "2022-03-29T10:35:09.837Z"
   },
   {
    "duration": 160,
    "start_time": "2022-03-29T10:35:09.992Z"
   },
   {
    "duration": 184,
    "start_time": "2022-03-29T10:35:10.154Z"
   },
   {
    "duration": 344,
    "start_time": "2022-03-29T10:35:10.339Z"
   },
   {
    "duration": 281,
    "start_time": "2022-03-29T10:35:10.685Z"
   },
   {
    "duration": 83,
    "start_time": "2022-03-29T10:35:10.968Z"
   },
   {
    "duration": 223,
    "start_time": "2022-03-29T10:35:11.053Z"
   },
   {
    "duration": 32,
    "start_time": "2022-03-29T10:35:11.278Z"
   },
   {
    "duration": 20,
    "start_time": "2022-03-29T10:35:11.311Z"
   },
   {
    "duration": 23,
    "start_time": "2022-03-29T10:35:11.333Z"
   },
   {
    "duration": 47,
    "start_time": "2022-03-29T10:35:11.358Z"
   },
   {
    "duration": 23,
    "start_time": "2022-03-29T10:35:11.407Z"
   },
   {
    "duration": 22,
    "start_time": "2022-03-29T10:35:11.432Z"
   },
   {
    "duration": 49,
    "start_time": "2022-03-29T10:35:11.456Z"
   },
   {
    "duration": 76,
    "start_time": "2022-03-29T10:35:11.507Z"
   },
   {
    "duration": 197,
    "start_time": "2022-03-29T10:35:11.585Z"
   },
   {
    "duration": 4,
    "start_time": "2022-03-29T10:35:11.783Z"
   },
   {
    "duration": 232,
    "start_time": "2022-03-29T10:35:11.788Z"
   },
   {
    "duration": 3,
    "start_time": "2022-03-29T10:35:12.024Z"
   },
   {
    "duration": 16057,
    "start_time": "2022-03-29T10:35:12.029Z"
   },
   {
    "duration": 1114,
    "start_time": "2022-03-29T17:04:51.355Z"
   },
   {
    "duration": 3,
    "start_time": "2022-03-29T17:14:23.260Z"
   },
   {
    "duration": 96,
    "start_time": "2022-03-29T17:14:26.669Z"
   },
   {
    "duration": 3,
    "start_time": "2022-03-29T17:14:31.698Z"
   },
   {
    "duration": 758,
    "start_time": "2022-03-29T17:14:31.703Z"
   },
   {
    "duration": 19,
    "start_time": "2022-03-29T17:14:32.462Z"
   },
   {
    "duration": 142,
    "start_time": "2022-03-29T17:14:32.482Z"
   },
   {
    "duration": 126,
    "start_time": "2022-03-29T17:14:32.626Z"
   },
   {
    "duration": 19,
    "start_time": "2022-03-29T17:14:32.754Z"
   },
   {
    "duration": 180,
    "start_time": "2022-03-29T17:14:32.774Z"
   },
   {
    "duration": 105,
    "start_time": "2022-03-29T17:14:32.956Z"
   },
   {
    "duration": 108,
    "start_time": "2022-03-29T17:14:33.064Z"
   },
   {
    "duration": 105,
    "start_time": "2022-03-29T17:14:33.174Z"
   },
   {
    "duration": 112,
    "start_time": "2022-03-29T17:14:33.280Z"
   },
   {
    "duration": 133,
    "start_time": "2022-03-29T17:14:33.394Z"
   },
   {
    "duration": 211,
    "start_time": "2022-03-29T17:14:33.529Z"
   },
   {
    "duration": 241,
    "start_time": "2022-03-29T17:14:33.742Z"
   },
   {
    "duration": 63,
    "start_time": "2022-03-29T17:14:33.985Z"
   },
   {
    "duration": 193,
    "start_time": "2022-03-29T17:14:34.049Z"
   },
   {
    "duration": 21,
    "start_time": "2022-03-29T17:14:34.244Z"
   },
   {
    "duration": 15,
    "start_time": "2022-03-29T17:14:34.267Z"
   },
   {
    "duration": 43,
    "start_time": "2022-03-29T17:14:34.284Z"
   },
   {
    "duration": 23,
    "start_time": "2022-03-29T17:14:34.329Z"
   },
   {
    "duration": 24,
    "start_time": "2022-03-29T17:14:34.354Z"
   },
   {
    "duration": 43,
    "start_time": "2022-03-29T17:14:34.380Z"
   },
   {
    "duration": 22,
    "start_time": "2022-03-29T17:14:34.425Z"
   },
   {
    "duration": 63,
    "start_time": "2022-03-29T17:14:34.450Z"
   },
   {
    "duration": 173,
    "start_time": "2022-03-29T17:14:34.515Z"
   },
   {
    "duration": 3,
    "start_time": "2022-03-29T17:14:34.689Z"
   },
   {
    "duration": 201,
    "start_time": "2022-03-29T17:14:34.694Z"
   },
   {
    "duration": 3,
    "start_time": "2022-03-29T17:14:34.897Z"
   },
   {
    "duration": 20,
    "start_time": "2022-03-29T17:14:34.908Z"
   },
   {
    "duration": 1574,
    "start_time": "2022-03-30T09:11:41.735Z"
   },
   {
    "duration": 1020,
    "start_time": "2022-03-30T09:11:43.312Z"
   },
   {
    "duration": 31,
    "start_time": "2022-03-30T09:11:44.334Z"
   },
   {
    "duration": 161,
    "start_time": "2022-03-30T09:11:44.381Z"
   },
   {
    "duration": 163,
    "start_time": "2022-03-30T09:11:44.545Z"
   },
   {
    "duration": 27,
    "start_time": "2022-03-30T09:11:44.710Z"
   },
   {
    "duration": 277,
    "start_time": "2022-03-30T09:11:44.740Z"
   },
   {
    "duration": 188,
    "start_time": "2022-03-30T09:11:45.020Z"
   },
   {
    "duration": 184,
    "start_time": "2022-03-30T09:11:45.211Z"
   },
   {
    "duration": 173,
    "start_time": "2022-03-30T09:11:45.398Z"
   },
   {
    "duration": 187,
    "start_time": "2022-03-30T09:11:45.573Z"
   },
   {
    "duration": 220,
    "start_time": "2022-03-30T09:11:45.762Z"
   },
   {
    "duration": 328,
    "start_time": "2022-03-30T09:11:45.985Z"
   },
   {
    "duration": 324,
    "start_time": "2022-03-30T09:11:46.317Z"
   },
   {
    "duration": 101,
    "start_time": "2022-03-30T09:11:46.644Z"
   },
   {
    "duration": 231,
    "start_time": "2022-03-30T09:11:46.748Z"
   },
   {
    "duration": 68,
    "start_time": "2022-03-30T09:12:20.216Z"
   },
   {
    "duration": 1563,
    "start_time": "2022-03-30T09:12:32.153Z"
   },
   {
    "duration": 988,
    "start_time": "2022-03-30T09:12:36.273Z"
   },
   {
    "duration": 35,
    "start_time": "2022-03-30T09:12:37.264Z"
   },
   {
    "duration": 159,
    "start_time": "2022-03-30T09:12:37.713Z"
   },
   {
    "duration": 164,
    "start_time": "2022-03-30T09:12:38.609Z"
   },
   {
    "duration": 39,
    "start_time": "2022-03-30T09:12:39.074Z"
   },
   {
    "duration": 222,
    "start_time": "2022-03-30T09:12:39.490Z"
   },
   {
    "duration": 154,
    "start_time": "2022-03-30T09:12:39.831Z"
   },
   {
    "duration": 148,
    "start_time": "2022-03-30T09:12:40.256Z"
   },
   {
    "duration": 148,
    "start_time": "2022-03-30T09:12:42.255Z"
   },
   {
    "duration": 158,
    "start_time": "2022-03-30T09:12:42.920Z"
   },
   {
    "duration": 183,
    "start_time": "2022-03-30T09:12:43.359Z"
   },
   {
    "duration": 250,
    "start_time": "2022-03-30T09:12:44.087Z"
   },
   {
    "duration": 297,
    "start_time": "2022-03-30T09:12:47.249Z"
   },
   {
    "duration": 88,
    "start_time": "2022-03-30T09:12:47.930Z"
   },
   {
    "duration": 207,
    "start_time": "2022-03-30T09:12:49.209Z"
   },
   {
    "duration": 1544,
    "start_time": "2022-03-30T09:24:15.435Z"
   },
   {
    "duration": 950,
    "start_time": "2022-03-30T09:24:16.982Z"
   },
   {
    "duration": 28,
    "start_time": "2022-03-30T09:24:17.934Z"
   },
   {
    "duration": 167,
    "start_time": "2022-03-30T09:24:17.965Z"
   },
   {
    "duration": 160,
    "start_time": "2022-03-30T09:24:18.135Z"
   },
   {
    "duration": 26,
    "start_time": "2022-03-30T09:24:18.297Z"
   },
   {
    "duration": 248,
    "start_time": "2022-03-30T09:24:18.325Z"
   },
   {
    "duration": 164,
    "start_time": "2022-03-30T09:24:18.576Z"
   },
   {
    "duration": 165,
    "start_time": "2022-03-30T09:24:18.742Z"
   },
   {
    "duration": 181,
    "start_time": "2022-03-30T09:24:18.909Z"
   },
   {
    "duration": 171,
    "start_time": "2022-03-30T09:24:19.092Z"
   },
   {
    "duration": 189,
    "start_time": "2022-03-30T09:24:19.265Z"
   },
   {
    "duration": 245,
    "start_time": "2022-03-30T09:24:19.456Z"
   },
   {
    "duration": 318,
    "start_time": "2022-03-30T09:24:19.704Z"
   },
   {
    "duration": 94,
    "start_time": "2022-03-30T09:24:20.027Z"
   },
   {
    "duration": 231,
    "start_time": "2022-03-30T09:24:20.124Z"
   },
   {
    "duration": 1651,
    "start_time": "2022-03-30T10:11:47.907Z"
   },
   {
    "duration": 976,
    "start_time": "2022-03-30T10:11:49.560Z"
   },
   {
    "duration": 30,
    "start_time": "2022-03-30T10:11:50.538Z"
   },
   {
    "duration": 173,
    "start_time": "2022-03-30T10:11:50.583Z"
   },
   {
    "duration": 159,
    "start_time": "2022-03-30T10:11:50.758Z"
   },
   {
    "duration": 37,
    "start_time": "2022-03-30T10:11:50.920Z"
   },
   {
    "duration": 254,
    "start_time": "2022-03-30T10:11:50.960Z"
   },
   {
    "duration": 159,
    "start_time": "2022-03-30T10:11:51.216Z"
   },
   {
    "duration": 156,
    "start_time": "2022-03-30T10:11:51.377Z"
   },
   {
    "duration": 160,
    "start_time": "2022-03-30T10:11:51.536Z"
   },
   {
    "duration": 169,
    "start_time": "2022-03-30T10:11:51.698Z"
   },
   {
    "duration": 189,
    "start_time": "2022-03-30T10:11:51.869Z"
   },
   {
    "duration": 266,
    "start_time": "2022-03-30T10:11:52.060Z"
   },
   {
    "duration": 315,
    "start_time": "2022-03-30T10:11:52.328Z"
   },
   {
    "duration": 98,
    "start_time": "2022-03-30T10:11:52.645Z"
   },
   {
    "duration": 228,
    "start_time": "2022-03-30T10:11:52.745Z"
   },
   {
    "duration": 110,
    "start_time": "2022-03-30T10:13:20.589Z"
   },
   {
    "duration": 1677,
    "start_time": "2022-03-30T10:13:26.547Z"
   },
   {
    "duration": 985,
    "start_time": "2022-03-30T10:13:28.227Z"
   },
   {
    "duration": 41,
    "start_time": "2022-03-30T10:13:30.103Z"
   },
   {
    "duration": 83,
    "start_time": "2022-03-30T10:14:41.699Z"
   },
   {
    "duration": 5,
    "start_time": "2022-03-30T10:14:46.408Z"
   },
   {
    "duration": 1017,
    "start_time": "2022-03-30T10:14:46.416Z"
   },
   {
    "duration": 34,
    "start_time": "2022-03-30T10:14:47.435Z"
   },
   {
    "duration": 20,
    "start_time": "2022-03-30T10:14:47.484Z"
   },
   {
    "duration": 183,
    "start_time": "2022-03-30T10:14:47.507Z"
   },
   {
    "duration": 156,
    "start_time": "2022-03-30T10:14:47.692Z"
   },
   {
    "duration": 41,
    "start_time": "2022-03-30T10:14:47.850Z"
   },
   {
    "duration": 244,
    "start_time": "2022-03-30T10:14:47.893Z"
   },
   {
    "duration": 168,
    "start_time": "2022-03-30T10:14:48.141Z"
   },
   {
    "duration": 168,
    "start_time": "2022-03-30T10:14:48.312Z"
   },
   {
    "duration": 167,
    "start_time": "2022-03-30T10:14:48.483Z"
   },
   {
    "duration": 179,
    "start_time": "2022-03-30T10:14:48.653Z"
   },
   {
    "duration": 240,
    "start_time": "2022-03-30T10:14:48.835Z"
   },
   {
    "duration": 395,
    "start_time": "2022-03-30T10:14:49.078Z"
   },
   {
    "duration": 353,
    "start_time": "2022-03-30T10:14:49.483Z"
   },
   {
    "duration": 104,
    "start_time": "2022-03-30T10:14:49.838Z"
   },
   {
    "duration": 456,
    "start_time": "2022-03-30T10:14:49.945Z"
   },
   {
    "duration": 32,
    "start_time": "2022-03-30T10:14:50.404Z"
   },
   {
    "duration": 19,
    "start_time": "2022-03-30T10:14:50.439Z"
   },
   {
    "duration": 35,
    "start_time": "2022-03-30T10:14:50.483Z"
   },
   {
    "duration": 41,
    "start_time": "2022-03-30T10:14:50.520Z"
   },
   {
    "duration": 48,
    "start_time": "2022-03-30T10:14:50.563Z"
   },
   {
    "duration": 45,
    "start_time": "2022-03-30T10:14:50.614Z"
   },
   {
    "duration": 60,
    "start_time": "2022-03-30T10:14:50.664Z"
   },
   {
    "duration": 73,
    "start_time": "2022-03-30T10:14:50.726Z"
   },
   {
    "duration": 338,
    "start_time": "2022-03-30T10:14:50.801Z"
   },
   {
    "duration": 70,
    "start_time": "2022-03-30T10:15:22.858Z"
   },
   {
    "duration": 1520,
    "start_time": "2022-03-30T10:15:30.327Z"
   },
   {
    "duration": 1082,
    "start_time": "2022-03-30T10:15:31.851Z"
   },
   {
    "duration": 52,
    "start_time": "2022-03-30T10:15:32.936Z"
   },
   {
    "duration": 18,
    "start_time": "2022-03-30T10:15:32.990Z"
   },
   {
    "duration": 182,
    "start_time": "2022-03-30T10:15:33.012Z"
   },
   {
    "duration": 166,
    "start_time": "2022-03-30T10:15:33.196Z"
   },
   {
    "duration": 39,
    "start_time": "2022-03-30T10:15:33.365Z"
   },
   {
    "duration": 275,
    "start_time": "2022-03-30T10:15:33.407Z"
   },
   {
    "duration": 176,
    "start_time": "2022-03-30T10:15:33.684Z"
   },
   {
    "duration": 191,
    "start_time": "2022-03-30T10:15:33.863Z"
   },
   {
    "duration": 182,
    "start_time": "2022-03-30T10:15:34.056Z"
   },
   {
    "duration": 183,
    "start_time": "2022-03-30T10:15:34.240Z"
   },
   {
    "duration": 204,
    "start_time": "2022-03-30T10:15:34.425Z"
   },
   {
    "duration": 272,
    "start_time": "2022-03-30T10:15:34.635Z"
   },
   {
    "duration": 296,
    "start_time": "2022-03-30T10:15:34.910Z"
   },
   {
    "duration": 111,
    "start_time": "2022-03-30T10:15:35.209Z"
   },
   {
    "duration": 230,
    "start_time": "2022-03-30T10:15:35.323Z"
   },
   {
    "duration": 52,
    "start_time": "2022-03-30T10:15:35.556Z"
   },
   {
    "duration": 23,
    "start_time": "2022-03-30T10:15:35.610Z"
   },
   {
    "duration": 62,
    "start_time": "2022-03-30T10:15:35.636Z"
   },
   {
    "duration": 35,
    "start_time": "2022-03-30T10:15:35.700Z"
   },
   {
    "duration": 56,
    "start_time": "2022-03-30T10:15:35.737Z"
   },
   {
    "duration": 34,
    "start_time": "2022-03-30T10:15:35.795Z"
   },
   {
    "duration": 56,
    "start_time": "2022-03-30T10:15:35.831Z"
   },
   {
    "duration": 58,
    "start_time": "2022-03-30T10:15:35.889Z"
   },
   {
    "duration": 335,
    "start_time": "2022-03-30T10:15:35.949Z"
   },
   {
    "duration": 70,
    "start_time": "2022-03-30T10:15:44.812Z"
   },
   {
    "duration": 1719,
    "start_time": "2022-03-30T10:15:53.044Z"
   },
   {
    "duration": 87,
    "start_time": "2022-03-30T10:16:01.040Z"
   },
   {
    "duration": 5,
    "start_time": "2022-03-30T10:16:08.110Z"
   },
   {
    "duration": 993,
    "start_time": "2022-03-30T10:16:08.117Z"
   },
   {
    "duration": 44,
    "start_time": "2022-03-30T10:16:09.112Z"
   },
   {
    "duration": 39,
    "start_time": "2022-03-30T10:16:09.159Z"
   },
   {
    "duration": 171,
    "start_time": "2022-03-30T10:16:09.201Z"
   },
   {
    "duration": 153,
    "start_time": "2022-03-30T10:16:09.382Z"
   },
   {
    "duration": 27,
    "start_time": "2022-03-30T10:16:09.537Z"
   },
   {
    "duration": 254,
    "start_time": "2022-03-30T10:16:09.583Z"
   },
   {
    "duration": 173,
    "start_time": "2022-03-30T10:16:09.840Z"
   },
   {
    "duration": 171,
    "start_time": "2022-03-30T10:16:10.016Z"
   },
   {
    "duration": 173,
    "start_time": "2022-03-30T10:16:10.189Z"
   },
   {
    "duration": 177,
    "start_time": "2022-03-30T10:16:10.364Z"
   },
   {
    "duration": 198,
    "start_time": "2022-03-30T10:16:10.543Z"
   },
   {
    "duration": 247,
    "start_time": "2022-03-30T10:16:10.743Z"
   },
   {
    "duration": 292,
    "start_time": "2022-03-30T10:16:10.992Z"
   },
   {
    "duration": 97,
    "start_time": "2022-03-30T10:16:11.286Z"
   },
   {
    "duration": 238,
    "start_time": "2022-03-30T10:16:11.386Z"
   },
   {
    "duration": 34,
    "start_time": "2022-03-30T10:16:11.626Z"
   },
   {
    "duration": 34,
    "start_time": "2022-03-30T10:16:11.662Z"
   },
   {
    "duration": 42,
    "start_time": "2022-03-30T10:16:11.698Z"
   },
   {
    "duration": 62,
    "start_time": "2022-03-30T10:16:11.743Z"
   },
   {
    "duration": 48,
    "start_time": "2022-03-30T10:16:11.808Z"
   },
   {
    "duration": 62,
    "start_time": "2022-03-30T10:16:11.859Z"
   },
   {
    "duration": 56,
    "start_time": "2022-03-30T10:16:11.927Z"
   },
   {
    "duration": 63,
    "start_time": "2022-03-30T10:16:11.986Z"
   },
   {
    "duration": 331,
    "start_time": "2022-03-30T10:16:12.051Z"
   },
   {
    "duration": 68,
    "start_time": "2022-03-30T10:16:21.779Z"
   },
   {
    "duration": 1847,
    "start_time": "2022-03-30T14:26:28.905Z"
   },
   {
    "duration": 1476,
    "start_time": "2022-03-30T14:26:30.755Z"
   },
   {
    "duration": 61,
    "start_time": "2022-03-30T14:26:32.233Z"
   },
   {
    "duration": 19,
    "start_time": "2022-03-30T14:26:32.296Z"
   },
   {
    "duration": 200,
    "start_time": "2022-03-30T14:26:32.318Z"
   },
   {
    "duration": 171,
    "start_time": "2022-03-30T14:26:32.520Z"
   },
   {
    "duration": 26,
    "start_time": "2022-03-30T14:26:43.185Z"
   },
   {
    "duration": 25,
    "start_time": "2022-03-30T14:27:33.040Z"
   },
   {
    "duration": 26,
    "start_time": "2022-03-30T14:28:16.902Z"
   },
   {
    "duration": 173,
    "start_time": "2022-03-30T14:28:27.917Z"
   },
   {
    "duration": 27,
    "start_time": "2022-03-30T14:31:07.570Z"
   },
   {
    "duration": 26,
    "start_time": "2022-03-30T14:33:20.575Z"
   },
   {
    "duration": 27,
    "start_time": "2022-03-30T14:35:11.484Z"
   },
   {
    "duration": 25,
    "start_time": "2022-03-30T14:35:25.043Z"
   },
   {
    "duration": 65,
    "start_time": "2022-03-30T14:36:35.009Z"
   },
   {
    "duration": 244,
    "start_time": "2022-03-30T14:38:58.673Z"
   },
   {
    "duration": 161,
    "start_time": "2022-03-30T14:39:07.399Z"
   },
   {
    "duration": 37,
    "start_time": "2022-03-30T14:42:29.242Z"
   },
   {
    "duration": 712,
    "start_time": "2022-03-30T14:43:30.920Z"
   },
   {
    "duration": 789,
    "start_time": "2022-03-30T14:43:39.882Z"
   },
   {
    "duration": 659,
    "start_time": "2022-03-30T14:44:18.280Z"
   },
   {
    "duration": 635,
    "start_time": "2022-03-30T14:45:26.976Z"
   },
   {
    "duration": 7,
    "start_time": "2022-03-30T15:13:31.057Z"
   },
   {
    "duration": 8,
    "start_time": "2022-03-30T15:13:44.904Z"
   },
   {
    "duration": 8,
    "start_time": "2022-03-30T15:13:58.659Z"
   },
   {
    "duration": 7,
    "start_time": "2022-03-30T15:14:16.015Z"
   },
   {
    "duration": 10,
    "start_time": "2022-03-30T15:14:44.823Z"
   },
   {
    "duration": 13,
    "start_time": "2022-03-30T15:15:04.134Z"
   },
   {
    "duration": 41,
    "start_time": "2022-03-30T15:21:26.605Z"
   },
   {
    "duration": 8,
    "start_time": "2022-03-30T15:24:05.194Z"
   },
   {
    "duration": 54,
    "start_time": "2022-03-30T15:25:26.762Z"
   },
   {
    "duration": 48,
    "start_time": "2022-03-30T15:28:41.366Z"
   },
   {
    "duration": 35,
    "start_time": "2022-03-30T16:02:49.872Z"
   },
   {
    "duration": 4,
    "start_time": "2022-03-30T16:48:23.123Z"
   },
   {
    "duration": 4,
    "start_time": "2022-03-30T16:53:08.605Z"
   },
   {
    "duration": 187,
    "start_time": "2022-03-30T16:53:14.498Z"
   },
   {
    "duration": 12,
    "start_time": "2022-03-30T16:53:15.538Z"
   },
   {
    "duration": 13,
    "start_time": "2022-03-30T16:53:34.898Z"
   },
   {
    "duration": 10,
    "start_time": "2022-03-30T16:54:35.137Z"
   },
   {
    "duration": 104,
    "start_time": "2022-03-30T17:13:45.765Z"
   },
   {
    "duration": 1899,
    "start_time": "2022-03-30T17:13:50.466Z"
   },
   {
    "duration": 1004,
    "start_time": "2022-03-30T17:13:52.368Z"
   },
   {
    "duration": 47,
    "start_time": "2022-03-30T17:13:53.374Z"
   },
   {
    "duration": 19,
    "start_time": "2022-03-30T17:13:53.424Z"
   },
   {
    "duration": 192,
    "start_time": "2022-03-30T17:13:53.445Z"
   },
   {
    "duration": 171,
    "start_time": "2022-03-30T17:13:53.640Z"
   },
   {
    "duration": 242,
    "start_time": "2022-03-30T17:13:53.814Z"
   },
   {
    "duration": 152,
    "start_time": "2022-03-30T17:13:54.059Z"
   },
   {
    "duration": 48,
    "start_time": "2022-03-30T17:13:54.213Z"
   },
   {
    "duration": 24,
    "start_time": "2022-03-30T17:13:54.267Z"
   },
   {
    "duration": 68,
    "start_time": "2022-03-30T17:13:54.293Z"
   },
   {
    "duration": 51,
    "start_time": "2022-03-30T17:13:54.363Z"
   },
   {
    "duration": 16,
    "start_time": "2022-03-30T17:13:54.416Z"
   },
   {
    "duration": 27,
    "start_time": "2022-03-30T17:13:54.435Z"
   },
   {
    "duration": 14,
    "start_time": "2022-03-30T17:13:54.465Z"
   },
   {
    "duration": 15,
    "start_time": "2022-03-30T17:13:54.482Z"
   },
   {
    "duration": 16,
    "start_time": "2022-03-30T17:13:54.500Z"
   },
   {
    "duration": 14,
    "start_time": "2022-03-30T17:13:54.519Z"
   },
   {
    "duration": 23,
    "start_time": "2022-03-30T17:13:54.536Z"
   },
   {
    "duration": 12,
    "start_time": "2022-03-30T17:13:54.561Z"
   },
   {
    "duration": 198,
    "start_time": "2022-03-30T17:13:54.575Z"
   },
   {
    "duration": 15,
    "start_time": "2022-03-30T17:13:54.775Z"
   },
   {
    "duration": 22,
    "start_time": "2022-03-30T17:13:54.792Z"
   },
   {
    "duration": 8,
    "start_time": "2022-03-30T17:17:15.144Z"
   },
   {
    "duration": 619,
    "start_time": "2022-03-30T17:19:17.910Z"
   },
   {
    "duration": 1145,
    "start_time": "2022-03-30T17:26:35.013Z"
   },
   {
    "duration": 672,
    "start_time": "2022-03-30T17:29:08.698Z"
   },
   {
    "duration": 167,
    "start_time": "2022-03-30T17:29:10.151Z"
   },
   {
    "duration": 53,
    "start_time": "2022-03-30T17:29:11.039Z"
   },
   {
    "duration": 201,
    "start_time": "2022-03-30T17:30:41.654Z"
   },
   {
    "duration": 12,
    "start_time": "2022-03-30T17:31:58.901Z"
   },
   {
    "duration": 127,
    "start_time": "2022-03-30T17:32:22.501Z"
   },
   {
    "duration": 13,
    "start_time": "2022-03-30T17:34:38.978Z"
   },
   {
    "duration": 243,
    "start_time": "2022-03-30T17:35:11.634Z"
   },
   {
    "duration": 798802,
    "start_time": "2022-03-30T17:35:31.209Z"
   },
   {
    "duration": 5,
    "start_time": "2022-03-30T17:48:50.014Z"
   },
   {
    "duration": 5774,
    "start_time": "2022-03-30T17:48:50.021Z"
   },
   {
    "duration": 76298,
    "start_time": "2022-03-30T17:59:26.706Z"
   },
   {
    "duration": 766,
    "start_time": "2022-03-30T18:00:43.006Z"
   },
   {
    "duration": 719,
    "start_time": "2022-03-30T18:11:42.691Z"
   },
   {
    "duration": 158768,
    "start_time": "2022-03-30T18:23:06.475Z"
   },
   {
    "duration": 509,
    "start_time": "2022-03-30T18:25:45.246Z"
   },
   {
    "duration": 8,
    "start_time": "2022-03-30T18:31:43.312Z"
   },
   {
    "duration": 1417,
    "start_time": "2022-03-30T18:31:43.323Z"
   },
   {
    "duration": 60,
    "start_time": "2022-03-30T18:31:44.743Z"
   },
   {
    "duration": 18,
    "start_time": "2022-03-30T18:31:44.806Z"
   },
   {
    "duration": 172,
    "start_time": "2022-03-30T18:31:44.826Z"
   },
   {
    "duration": 159,
    "start_time": "2022-03-30T18:31:45.001Z"
   },
   {
    "duration": 231,
    "start_time": "2022-03-30T18:31:45.163Z"
   },
   {
    "duration": 155,
    "start_time": "2022-03-30T18:31:45.397Z"
   },
   {
    "duration": 43,
    "start_time": "2022-03-30T18:31:45.554Z"
   },
   {
    "duration": 10,
    "start_time": "2022-03-30T18:31:45.602Z"
   },
   {
    "duration": 71,
    "start_time": "2022-03-30T18:31:45.615Z"
   },
   {
    "duration": 51,
    "start_time": "2022-03-30T18:31:45.688Z"
   },
   {
    "duration": 4,
    "start_time": "2022-03-30T18:31:45.741Z"
   },
   {
    "duration": 41,
    "start_time": "2022-03-30T18:31:45.747Z"
   },
   {
    "duration": 43,
    "start_time": "2022-03-30T18:31:45.790Z"
   },
   {
    "duration": 28,
    "start_time": "2022-03-30T18:31:45.835Z"
   },
   {
    "duration": 23,
    "start_time": "2022-03-30T18:31:45.865Z"
   },
   {
    "duration": 23,
    "start_time": "2022-03-30T18:31:45.890Z"
   },
   {
    "duration": 37,
    "start_time": "2022-03-30T18:31:45.915Z"
   },
   {
    "duration": 23,
    "start_time": "2022-03-30T18:31:45.954Z"
   },
   {
    "duration": 192,
    "start_time": "2022-03-30T18:31:45.979Z"
   },
   {
    "duration": 11,
    "start_time": "2022-03-30T18:31:46.173Z"
   },
   {
    "duration": 14,
    "start_time": "2022-03-30T18:31:46.186Z"
   },
   {
    "duration": 25,
    "start_time": "2022-03-30T18:31:46.203Z"
   },
   {
    "duration": 38,
    "start_time": "2022-03-30T18:31:46.230Z"
   },
   {
    "duration": 37,
    "start_time": "2022-03-30T18:31:46.270Z"
   },
   {
    "duration": 37,
    "start_time": "2022-03-30T18:31:46.309Z"
   },
   {
    "duration": 16,
    "start_time": "2022-03-30T18:31:46.352Z"
   },
   {
    "duration": 43,
    "start_time": "2022-03-30T18:31:46.370Z"
   },
   {
    "duration": 45,
    "start_time": "2022-03-30T18:31:46.415Z"
   },
   {
    "duration": 59,
    "start_time": "2022-03-30T18:31:46.462Z"
   },
   {
    "duration": 38,
    "start_time": "2022-03-30T18:31:46.524Z"
   },
   {
    "duration": 33,
    "start_time": "2022-03-30T18:31:46.564Z"
   },
   {
    "duration": 45,
    "start_time": "2022-03-30T18:31:46.600Z"
   },
   {
    "duration": 1261,
    "start_time": "2022-03-30T18:31:46.647Z"
   },
   {
    "duration": 151,
    "start_time": "2022-03-30T18:31:47.911Z"
   },
   {
    "duration": 3,
    "start_time": "2022-03-30T18:31:48.064Z"
   },
   {
    "duration": 13,
    "start_time": "2022-03-30T18:31:48.070Z"
   }
  ],
  "kernelspec": {
   "display_name": "Python 3 (ipykernel)",
   "language": "python",
   "name": "python3"
  },
  "language_info": {
   "codemirror_mode": {
    "name": "ipython",
    "version": 3
   },
   "file_extension": ".py",
   "mimetype": "text/x-python",
   "name": "python",
   "nbconvert_exporter": "python",
   "pygments_lexer": "ipython3",
   "version": "3.11.0"
  },
  "toc": {
   "base_numbering": 1,
   "nav_menu": {},
   "number_sections": true,
   "sideBar": true,
   "skip_h1_title": true,
   "title_cell": "Table of Contents",
   "title_sidebar": "Contents",
   "toc_cell": false,
   "toc_position": {},
   "toc_section_display": true,
   "toc_window_display": false
  }
 },
 "nbformat": 4,
 "nbformat_minor": 4
}
