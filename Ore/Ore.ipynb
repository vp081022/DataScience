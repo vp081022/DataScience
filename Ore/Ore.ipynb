{
 "cells": [
  {
   "cell_type": "markdown",
   "metadata": {},
   "source": [
    "# Восстановление золота из руды"
   ]
  },
  {
   "cell_type": "markdown",
   "metadata": {},
   "source": [
    "# Описание задачи"
   ]
  },
  {
   "cell_type": "markdown",
   "metadata": {},
   "source": [
    "Имеются данные с параметрами добычи и очистки руды. Необходимо построить модель машинного обучения, которая предскажет коэффициент восстановления золота из золотосодержащей руды."
   ]
  },
  {
   "cell_type": "markdown",
   "metadata": {},
   "source": [
    "# План работы"
   ]
  },
  {
   "cell_type": "markdown",
   "metadata": {},
   "source": [
    "1. Подготовка данных\n",
    "    1. Загрузка и изучение данных\n",
    "    2. Проверка правильности расчёта эффективности обогащения\n",
    "    3. Анализ признаков, недоступных в тестовой выборке\n",
    "    4. Предобработка данных\n",
    "2. Анализ данных\n",
    "    1. Концентрация металлов на различных этапах очистки\n",
    "    2. Распределение размеров гранул сырья\n",
    "    3. Суммарная концентрация всех веществ на разных стадиях\n",
    "3. Модель\n",
    "    1. Функция для вычисления итоговой sMAPE\n",
    "    2. Кросс-валидация\n",
    "        1. Модель линейной регрессии\n",
    "        2. Модель решающего дерева в регрессии\n",
    "        3. Модель случайного леса в регрессии\n",
    "    3. Оценка константной модели\n",
    "    4. Проверка лучшей модели на тестовой выборке"
   ]
  },
  {
   "cell_type": "markdown",
   "metadata": {},
   "source": [
    "# Описание данных"
   ]
  },
  {
   "cell_type": "markdown",
   "metadata": {},
   "source": [
    "**Технологический процесс**\n",
    "* Rougher feed — исходное сырье\n",
    "* Rougher additions (или reagent additions) — флотационные реагенты: Xanthate, Sulphate, Depressant\n",
    "    * Xanthate — ксантогенат (промотер, или активатор флотации);\n",
    "    * Sulphate — сульфат (на данном производстве сульфид натрия);\n",
    "    * Depressant — депрессант (силикат натрия).\n",
    "* Rougher process (англ. «грубый процесс») — флотация\n",
    "* Rougher tails — отвальные хвосты\n",
    "* Float banks — флотационная установка\n",
    "* Cleaner process — очистка\n",
    "* Rougher Au — черновой концентрат золота\n",
    "* Final Au — финальный концентрат золота\n",
    "\n",
    "**Параметры этапов**\n",
    "* air amount — объём воздуха\n",
    "* fluid levels — уровень жидкости\n",
    "* feed size — размер гранул сырья\n",
    "* feed rate — скорость подачи"
   ]
  },
  {
   "cell_type": "markdown",
   "metadata": {},
   "source": [
    "## Подготовка данных"
   ]
  },
  {
   "cell_type": "markdown",
   "metadata": {},
   "source": [
    "### Загрузка и изучение данных"
   ]
  },
  {
   "cell_type": "code",
   "execution_count": 227,
   "metadata": {},
   "outputs": [],
   "source": [
    "#Импорт библиотек\n",
    "import pandas as pd\n",
    "import matplotlib.pyplot as plt\n",
    "from sklearn.metrics import mean_absolute_error\n",
    "from sklearn.linear_model import LinearRegression\n",
    "from sklearn.tree import DecisionTreeRegressor\n",
    "from sklearn.ensemble import RandomForestRegressor"
   ]
  },
  {
   "cell_type": "code",
   "execution_count": 228,
   "metadata": {},
   "outputs": [],
   "source": [
    "#Загрузка таблиц\n",
    "data_train = pd.read_csv('datasets/gold_recovery_train_new.csv')\n",
    "data_test = pd.read_csv('datasets/gold_recovery_test_new.csv')\n",
    "data_full = pd.read_csv('datasets/gold_recovery_full_new.csv')"
   ]
  },
  {
   "cell_type": "code",
   "execution_count": 229,
   "metadata": {},
   "outputs": [
    {
     "data": {
      "text/html": [
       "<div>\n",
       "<style scoped>\n",
       "    .dataframe tbody tr th:only-of-type {\n",
       "        vertical-align: middle;\n",
       "    }\n",
       "\n",
       "    .dataframe tbody tr th {\n",
       "        vertical-align: top;\n",
       "    }\n",
       "\n",
       "    .dataframe thead th {\n",
       "        text-align: right;\n",
       "    }\n",
       "</style>\n",
       "<table border=\"1\" class=\"dataframe\">\n",
       "  <thead>\n",
       "    <tr style=\"text-align: right;\">\n",
       "      <th></th>\n",
       "      <th>date</th>\n",
       "      <th>final.output.concentrate_ag</th>\n",
       "      <th>final.output.concentrate_pb</th>\n",
       "      <th>final.output.concentrate_sol</th>\n",
       "      <th>final.output.concentrate_au</th>\n",
       "      <th>final.output.recovery</th>\n",
       "      <th>final.output.tail_ag</th>\n",
       "      <th>final.output.tail_pb</th>\n",
       "      <th>final.output.tail_sol</th>\n",
       "      <th>final.output.tail_au</th>\n",
       "      <th>...</th>\n",
       "      <th>secondary_cleaner.state.floatbank4_a_air</th>\n",
       "      <th>secondary_cleaner.state.floatbank4_a_level</th>\n",
       "      <th>secondary_cleaner.state.floatbank4_b_air</th>\n",
       "      <th>secondary_cleaner.state.floatbank4_b_level</th>\n",
       "      <th>secondary_cleaner.state.floatbank5_a_air</th>\n",
       "      <th>secondary_cleaner.state.floatbank5_a_level</th>\n",
       "      <th>secondary_cleaner.state.floatbank5_b_air</th>\n",
       "      <th>secondary_cleaner.state.floatbank5_b_level</th>\n",
       "      <th>secondary_cleaner.state.floatbank6_a_air</th>\n",
       "      <th>secondary_cleaner.state.floatbank6_a_level</th>\n",
       "    </tr>\n",
       "  </thead>\n",
       "  <tbody>\n",
       "    <tr>\n",
       "      <th>0</th>\n",
       "      <td>2016-01-15 00:00:00</td>\n",
       "      <td>6.055403</td>\n",
       "      <td>9.889648</td>\n",
       "      <td>5.507324</td>\n",
       "      <td>42.192020</td>\n",
       "      <td>70.541216</td>\n",
       "      <td>10.411962</td>\n",
       "      <td>0.895447</td>\n",
       "      <td>16.904297</td>\n",
       "      <td>2.143149</td>\n",
       "      <td>...</td>\n",
       "      <td>14.016835</td>\n",
       "      <td>-502.488007</td>\n",
       "      <td>12.099931</td>\n",
       "      <td>-504.715942</td>\n",
       "      <td>9.925633</td>\n",
       "      <td>-498.310211</td>\n",
       "      <td>8.079666</td>\n",
       "      <td>-500.470978</td>\n",
       "      <td>14.151341</td>\n",
       "      <td>-605.841980</td>\n",
       "    </tr>\n",
       "    <tr>\n",
       "      <th>1</th>\n",
       "      <td>2016-01-15 01:00:00</td>\n",
       "      <td>6.029369</td>\n",
       "      <td>9.968944</td>\n",
       "      <td>5.257781</td>\n",
       "      <td>42.701629</td>\n",
       "      <td>69.266198</td>\n",
       "      <td>10.462676</td>\n",
       "      <td>0.927452</td>\n",
       "      <td>16.634514</td>\n",
       "      <td>2.224930</td>\n",
       "      <td>...</td>\n",
       "      <td>13.992281</td>\n",
       "      <td>-505.503262</td>\n",
       "      <td>11.950531</td>\n",
       "      <td>-501.331529</td>\n",
       "      <td>10.039245</td>\n",
       "      <td>-500.169983</td>\n",
       "      <td>7.984757</td>\n",
       "      <td>-500.582168</td>\n",
       "      <td>13.998353</td>\n",
       "      <td>-599.787184</td>\n",
       "    </tr>\n",
       "    <tr>\n",
       "      <th>2</th>\n",
       "      <td>2016-01-15 02:00:00</td>\n",
       "      <td>6.055926</td>\n",
       "      <td>10.213995</td>\n",
       "      <td>5.383759</td>\n",
       "      <td>42.657501</td>\n",
       "      <td>68.116445</td>\n",
       "      <td>10.507046</td>\n",
       "      <td>0.953716</td>\n",
       "      <td>16.208849</td>\n",
       "      <td>2.257889</td>\n",
       "      <td>...</td>\n",
       "      <td>14.015015</td>\n",
       "      <td>-502.520901</td>\n",
       "      <td>11.912783</td>\n",
       "      <td>-501.133383</td>\n",
       "      <td>10.070913</td>\n",
       "      <td>-500.129135</td>\n",
       "      <td>8.013877</td>\n",
       "      <td>-500.517572</td>\n",
       "      <td>14.028663</td>\n",
       "      <td>-601.427363</td>\n",
       "    </tr>\n",
       "    <tr>\n",
       "      <th>3</th>\n",
       "      <td>2016-01-15 03:00:00</td>\n",
       "      <td>6.047977</td>\n",
       "      <td>9.977019</td>\n",
       "      <td>4.858634</td>\n",
       "      <td>42.689819</td>\n",
       "      <td>68.347543</td>\n",
       "      <td>10.422762</td>\n",
       "      <td>0.883763</td>\n",
       "      <td>16.532835</td>\n",
       "      <td>2.146849</td>\n",
       "      <td>...</td>\n",
       "      <td>14.036510</td>\n",
       "      <td>-500.857308</td>\n",
       "      <td>11.999550</td>\n",
       "      <td>-501.193686</td>\n",
       "      <td>9.970366</td>\n",
       "      <td>-499.201640</td>\n",
       "      <td>7.977324</td>\n",
       "      <td>-500.255908</td>\n",
       "      <td>14.005551</td>\n",
       "      <td>-599.996129</td>\n",
       "    </tr>\n",
       "    <tr>\n",
       "      <th>4</th>\n",
       "      <td>2016-01-15 04:00:00</td>\n",
       "      <td>6.148599</td>\n",
       "      <td>10.142511</td>\n",
       "      <td>4.939416</td>\n",
       "      <td>42.774141</td>\n",
       "      <td>66.927016</td>\n",
       "      <td>10.360302</td>\n",
       "      <td>0.792826</td>\n",
       "      <td>16.525686</td>\n",
       "      <td>2.055292</td>\n",
       "      <td>...</td>\n",
       "      <td>14.027298</td>\n",
       "      <td>-499.838632</td>\n",
       "      <td>11.953070</td>\n",
       "      <td>-501.053894</td>\n",
       "      <td>9.925709</td>\n",
       "      <td>-501.686727</td>\n",
       "      <td>7.894242</td>\n",
       "      <td>-500.356035</td>\n",
       "      <td>13.996647</td>\n",
       "      <td>-601.496691</td>\n",
       "    </tr>\n",
       "  </tbody>\n",
       "</table>\n",
       "<p>5 rows × 87 columns</p>\n",
       "</div>"
      ],
      "text/plain": [
       "                  date  final.output.concentrate_ag  \\\n",
       "0  2016-01-15 00:00:00                     6.055403   \n",
       "1  2016-01-15 01:00:00                     6.029369   \n",
       "2  2016-01-15 02:00:00                     6.055926   \n",
       "3  2016-01-15 03:00:00                     6.047977   \n",
       "4  2016-01-15 04:00:00                     6.148599   \n",
       "\n",
       "   final.output.concentrate_pb  final.output.concentrate_sol  \\\n",
       "0                     9.889648                      5.507324   \n",
       "1                     9.968944                      5.257781   \n",
       "2                    10.213995                      5.383759   \n",
       "3                     9.977019                      4.858634   \n",
       "4                    10.142511                      4.939416   \n",
       "\n",
       "   final.output.concentrate_au  final.output.recovery  final.output.tail_ag  \\\n",
       "0                    42.192020              70.541216             10.411962   \n",
       "1                    42.701629              69.266198             10.462676   \n",
       "2                    42.657501              68.116445             10.507046   \n",
       "3                    42.689819              68.347543             10.422762   \n",
       "4                    42.774141              66.927016             10.360302   \n",
       "\n",
       "   final.output.tail_pb  final.output.tail_sol  final.output.tail_au  ...  \\\n",
       "0              0.895447              16.904297              2.143149  ...   \n",
       "1              0.927452              16.634514              2.224930  ...   \n",
       "2              0.953716              16.208849              2.257889  ...   \n",
       "3              0.883763              16.532835              2.146849  ...   \n",
       "4              0.792826              16.525686              2.055292  ...   \n",
       "\n",
       "   secondary_cleaner.state.floatbank4_a_air  \\\n",
       "0                                 14.016835   \n",
       "1                                 13.992281   \n",
       "2                                 14.015015   \n",
       "3                                 14.036510   \n",
       "4                                 14.027298   \n",
       "\n",
       "   secondary_cleaner.state.floatbank4_a_level  \\\n",
       "0                                 -502.488007   \n",
       "1                                 -505.503262   \n",
       "2                                 -502.520901   \n",
       "3                                 -500.857308   \n",
       "4                                 -499.838632   \n",
       "\n",
       "   secondary_cleaner.state.floatbank4_b_air  \\\n",
       "0                                 12.099931   \n",
       "1                                 11.950531   \n",
       "2                                 11.912783   \n",
       "3                                 11.999550   \n",
       "4                                 11.953070   \n",
       "\n",
       "   secondary_cleaner.state.floatbank4_b_level  \\\n",
       "0                                 -504.715942   \n",
       "1                                 -501.331529   \n",
       "2                                 -501.133383   \n",
       "3                                 -501.193686   \n",
       "4                                 -501.053894   \n",
       "\n",
       "   secondary_cleaner.state.floatbank5_a_air  \\\n",
       "0                                  9.925633   \n",
       "1                                 10.039245   \n",
       "2                                 10.070913   \n",
       "3                                  9.970366   \n",
       "4                                  9.925709   \n",
       "\n",
       "   secondary_cleaner.state.floatbank5_a_level  \\\n",
       "0                                 -498.310211   \n",
       "1                                 -500.169983   \n",
       "2                                 -500.129135   \n",
       "3                                 -499.201640   \n",
       "4                                 -501.686727   \n",
       "\n",
       "   secondary_cleaner.state.floatbank5_b_air  \\\n",
       "0                                  8.079666   \n",
       "1                                  7.984757   \n",
       "2                                  8.013877   \n",
       "3                                  7.977324   \n",
       "4                                  7.894242   \n",
       "\n",
       "   secondary_cleaner.state.floatbank5_b_level  \\\n",
       "0                                 -500.470978   \n",
       "1                                 -500.582168   \n",
       "2                                 -500.517572   \n",
       "3                                 -500.255908   \n",
       "4                                 -500.356035   \n",
       "\n",
       "   secondary_cleaner.state.floatbank6_a_air  \\\n",
       "0                                 14.151341   \n",
       "1                                 13.998353   \n",
       "2                                 14.028663   \n",
       "3                                 14.005551   \n",
       "4                                 13.996647   \n",
       "\n",
       "   secondary_cleaner.state.floatbank6_a_level  \n",
       "0                                 -605.841980  \n",
       "1                                 -599.787184  \n",
       "2                                 -601.427363  \n",
       "3                                 -599.996129  \n",
       "4                                 -601.496691  \n",
       "\n",
       "[5 rows x 87 columns]"
      ]
     },
     "execution_count": 229,
     "metadata": {},
     "output_type": "execute_result"
    }
   ],
   "source": [
    "#Просмотр обучающих данных, первые 5 строк\n",
    "data_train.head()"
   ]
  },
  {
   "cell_type": "code",
   "execution_count": 230,
   "metadata": {
    "scrolled": true
   },
   "outputs": [
    {
     "name": "stdout",
     "output_type": "stream",
     "text": [
      "<class 'pandas.core.frame.DataFrame'>\n",
      "RangeIndex: 14149 entries, 0 to 14148\n",
      "Data columns (total 87 columns):\n",
      " #   Column                                              Non-Null Count  Dtype  \n",
      "---  ------                                              --------------  -----  \n",
      " 0   date                                                14149 non-null  object \n",
      " 1   final.output.concentrate_ag                         14148 non-null  float64\n",
      " 2   final.output.concentrate_pb                         14148 non-null  float64\n",
      " 3   final.output.concentrate_sol                        13938 non-null  float64\n",
      " 4   final.output.concentrate_au                         14149 non-null  float64\n",
      " 5   final.output.recovery                               14149 non-null  float64\n",
      " 6   final.output.tail_ag                                14149 non-null  float64\n",
      " 7   final.output.tail_pb                                14049 non-null  float64\n",
      " 8   final.output.tail_sol                               14144 non-null  float64\n",
      " 9   final.output.tail_au                                14149 non-null  float64\n",
      " 10  primary_cleaner.input.sulfate                       14129 non-null  float64\n",
      " 11  primary_cleaner.input.depressant                    14117 non-null  float64\n",
      " 12  primary_cleaner.input.feed_size                     14149 non-null  float64\n",
      " 13  primary_cleaner.input.xanthate                      14049 non-null  float64\n",
      " 14  primary_cleaner.output.concentrate_ag               14149 non-null  float64\n",
      " 15  primary_cleaner.output.concentrate_pb               14063 non-null  float64\n",
      " 16  primary_cleaner.output.concentrate_sol              13863 non-null  float64\n",
      " 17  primary_cleaner.output.concentrate_au               14149 non-null  float64\n",
      " 18  primary_cleaner.output.tail_ag                      14148 non-null  float64\n",
      " 19  primary_cleaner.output.tail_pb                      14134 non-null  float64\n",
      " 20  primary_cleaner.output.tail_sol                     14103 non-null  float64\n",
      " 21  primary_cleaner.output.tail_au                      14149 non-null  float64\n",
      " 22  primary_cleaner.state.floatbank8_a_air              14145 non-null  float64\n",
      " 23  primary_cleaner.state.floatbank8_a_level            14148 non-null  float64\n",
      " 24  primary_cleaner.state.floatbank8_b_air              14145 non-null  float64\n",
      " 25  primary_cleaner.state.floatbank8_b_level            14148 non-null  float64\n",
      " 26  primary_cleaner.state.floatbank8_c_air              14147 non-null  float64\n",
      " 27  primary_cleaner.state.floatbank8_c_level            14148 non-null  float64\n",
      " 28  primary_cleaner.state.floatbank8_d_air              14146 non-null  float64\n",
      " 29  primary_cleaner.state.floatbank8_d_level            14148 non-null  float64\n",
      " 30  rougher.calculation.sulfate_to_au_concentrate       14148 non-null  float64\n",
      " 31  rougher.calculation.floatbank10_sulfate_to_au_feed  14148 non-null  float64\n",
      " 32  rougher.calculation.floatbank11_sulfate_to_au_feed  14148 non-null  float64\n",
      " 33  rougher.calculation.au_pb_ratio                     14149 non-null  float64\n",
      " 34  rougher.input.feed_ag                               14149 non-null  float64\n",
      " 35  rougher.input.feed_pb                               14049 non-null  float64\n",
      " 36  rougher.input.feed_rate                             14141 non-null  float64\n",
      " 37  rougher.input.feed_size                             14005 non-null  float64\n",
      " 38  rougher.input.feed_sol                              14071 non-null  float64\n",
      " 39  rougher.input.feed_au                               14149 non-null  float64\n",
      " 40  rougher.input.floatbank10_sulfate                   14120 non-null  float64\n",
      " 41  rougher.input.floatbank10_xanthate                  14141 non-null  float64\n",
      " 42  rougher.input.floatbank11_sulfate                   14113 non-null  float64\n",
      " 43  rougher.input.floatbank11_xanthate                  13721 non-null  float64\n",
      " 44  rougher.output.concentrate_ag                       14149 non-null  float64\n",
      " 45  rougher.output.concentrate_pb                       14149 non-null  float64\n",
      " 46  rougher.output.concentrate_sol                      14127 non-null  float64\n",
      " 47  rougher.output.concentrate_au                       14149 non-null  float64\n",
      " 48  rougher.output.recovery                             14149 non-null  float64\n",
      " 49  rougher.output.tail_ag                              14148 non-null  float64\n",
      " 50  rougher.output.tail_pb                              14149 non-null  float64\n",
      " 51  rougher.output.tail_sol                             14149 non-null  float64\n",
      " 52  rougher.output.tail_au                              14149 non-null  float64\n",
      " 53  rougher.state.floatbank10_a_air                     14148 non-null  float64\n",
      " 54  rougher.state.floatbank10_a_level                   14148 non-null  float64\n",
      " 55  rougher.state.floatbank10_b_air                     14148 non-null  float64\n",
      " 56  rougher.state.floatbank10_b_level                   14148 non-null  float64\n",
      " 57  rougher.state.floatbank10_c_air                     14148 non-null  float64\n",
      " 58  rougher.state.floatbank10_c_level                   14148 non-null  float64\n",
      " 59  rougher.state.floatbank10_d_air                     14149 non-null  float64\n",
      " 60  rougher.state.floatbank10_d_level                   14149 non-null  float64\n",
      " 61  rougher.state.floatbank10_e_air                     13713 non-null  float64\n",
      " 62  rougher.state.floatbank10_e_level                   14149 non-null  float64\n",
      " 63  rougher.state.floatbank10_f_air                     14149 non-null  float64\n",
      " 64  rougher.state.floatbank10_f_level                   14149 non-null  float64\n",
      " 65  secondary_cleaner.output.tail_ag                    14147 non-null  float64\n",
      " 66  secondary_cleaner.output.tail_pb                    14139 non-null  float64\n",
      " 67  secondary_cleaner.output.tail_sol                   12544 non-null  float64\n",
      " 68  secondary_cleaner.output.tail_au                    14149 non-null  float64\n",
      " 69  secondary_cleaner.state.floatbank2_a_air            13932 non-null  float64\n",
      " 70  secondary_cleaner.state.floatbank2_a_level          14148 non-null  float64\n",
      " 71  secondary_cleaner.state.floatbank2_b_air            14128 non-null  float64\n",
      " 72  secondary_cleaner.state.floatbank2_b_level          14148 non-null  float64\n",
      " 73  secondary_cleaner.state.floatbank3_a_air            14145 non-null  float64\n",
      " 74  secondary_cleaner.state.floatbank3_a_level          14148 non-null  float64\n",
      " 75  secondary_cleaner.state.floatbank3_b_air            14148 non-null  float64\n",
      " 76  secondary_cleaner.state.floatbank3_b_level          14148 non-null  float64\n",
      " 77  secondary_cleaner.state.floatbank4_a_air            14143 non-null  float64\n",
      " 78  secondary_cleaner.state.floatbank4_a_level          14148 non-null  float64\n",
      " 79  secondary_cleaner.state.floatbank4_b_air            14148 non-null  float64\n",
      " 80  secondary_cleaner.state.floatbank4_b_level          14148 non-null  float64\n",
      " 81  secondary_cleaner.state.floatbank5_a_air            14148 non-null  float64\n",
      " 82  secondary_cleaner.state.floatbank5_a_level          14148 non-null  float64\n",
      " 83  secondary_cleaner.state.floatbank5_b_air            14148 non-null  float64\n",
      " 84  secondary_cleaner.state.floatbank5_b_level          14148 non-null  float64\n",
      " 85  secondary_cleaner.state.floatbank6_a_air            14147 non-null  float64\n",
      " 86  secondary_cleaner.state.floatbank6_a_level          14148 non-null  float64\n",
      "dtypes: float64(86), object(1)\n",
      "memory usage: 9.4+ MB\n"
     ]
    }
   ],
   "source": [
    "#Просмотр сводной информации об обучающих данных\n",
    "data_train.info()"
   ]
  },
  {
   "cell_type": "code",
   "execution_count": 231,
   "metadata": {
    "scrolled": true
   },
   "outputs": [
    {
     "data": {
      "text/plain": [
       "date                                                     0\n",
       "final.output.concentrate_ag                              1\n",
       "final.output.concentrate_pb                              1\n",
       "final.output.concentrate_sol                           211\n",
       "final.output.concentrate_au                              0\n",
       "final.output.recovery                                    0\n",
       "final.output.tail_ag                                     0\n",
       "final.output.tail_pb                                   100\n",
       "final.output.tail_sol                                    5\n",
       "final.output.tail_au                                     0\n",
       "primary_cleaner.input.sulfate                           20\n",
       "primary_cleaner.input.depressant                        32\n",
       "primary_cleaner.input.feed_size                          0\n",
       "primary_cleaner.input.xanthate                         100\n",
       "primary_cleaner.output.concentrate_ag                    0\n",
       "primary_cleaner.output.concentrate_pb                   86\n",
       "primary_cleaner.output.concentrate_sol                 286\n",
       "primary_cleaner.output.concentrate_au                    0\n",
       "primary_cleaner.output.tail_ag                           1\n",
       "primary_cleaner.output.tail_pb                          15\n",
       "primary_cleaner.output.tail_sol                         46\n",
       "primary_cleaner.output.tail_au                           0\n",
       "primary_cleaner.state.floatbank8_a_air                   4\n",
       "primary_cleaner.state.floatbank8_a_level                 1\n",
       "primary_cleaner.state.floatbank8_b_air                   4\n",
       "primary_cleaner.state.floatbank8_b_level                 1\n",
       "primary_cleaner.state.floatbank8_c_air                   2\n",
       "primary_cleaner.state.floatbank8_c_level                 1\n",
       "primary_cleaner.state.floatbank8_d_air                   3\n",
       "primary_cleaner.state.floatbank8_d_level                 1\n",
       "rougher.calculation.sulfate_to_au_concentrate            1\n",
       "rougher.calculation.floatbank10_sulfate_to_au_feed       1\n",
       "rougher.calculation.floatbank11_sulfate_to_au_feed       1\n",
       "rougher.calculation.au_pb_ratio                          0\n",
       "rougher.input.feed_ag                                    0\n",
       "rougher.input.feed_pb                                  100\n",
       "rougher.input.feed_rate                                  8\n",
       "rougher.input.feed_size                                144\n",
       "rougher.input.feed_sol                                  78\n",
       "rougher.input.feed_au                                    0\n",
       "rougher.input.floatbank10_sulfate                       29\n",
       "rougher.input.floatbank10_xanthate                       8\n",
       "rougher.input.floatbank11_sulfate                       36\n",
       "rougher.input.floatbank11_xanthate                     428\n",
       "rougher.output.concentrate_ag                            0\n",
       "rougher.output.concentrate_pb                            0\n",
       "rougher.output.concentrate_sol                          22\n",
       "rougher.output.concentrate_au                            0\n",
       "rougher.output.recovery                                  0\n",
       "rougher.output.tail_ag                                   1\n",
       "rougher.output.tail_pb                                   0\n",
       "rougher.output.tail_sol                                  0\n",
       "rougher.output.tail_au                                   0\n",
       "rougher.state.floatbank10_a_air                          1\n",
       "rougher.state.floatbank10_a_level                        1\n",
       "rougher.state.floatbank10_b_air                          1\n",
       "rougher.state.floatbank10_b_level                        1\n",
       "rougher.state.floatbank10_c_air                          1\n",
       "rougher.state.floatbank10_c_level                        1\n",
       "rougher.state.floatbank10_d_air                          0\n",
       "rougher.state.floatbank10_d_level                        0\n",
       "rougher.state.floatbank10_e_air                        436\n",
       "rougher.state.floatbank10_e_level                        0\n",
       "rougher.state.floatbank10_f_air                          0\n",
       "rougher.state.floatbank10_f_level                        0\n",
       "secondary_cleaner.output.tail_ag                         2\n",
       "secondary_cleaner.output.tail_pb                        10\n",
       "secondary_cleaner.output.tail_sol                     1605\n",
       "secondary_cleaner.output.tail_au                         0\n",
       "secondary_cleaner.state.floatbank2_a_air               217\n",
       "secondary_cleaner.state.floatbank2_a_level               1\n",
       "secondary_cleaner.state.floatbank2_b_air                21\n",
       "secondary_cleaner.state.floatbank2_b_level               1\n",
       "secondary_cleaner.state.floatbank3_a_air                 4\n",
       "secondary_cleaner.state.floatbank3_a_level               1\n",
       "secondary_cleaner.state.floatbank3_b_air                 1\n",
       "secondary_cleaner.state.floatbank3_b_level               1\n",
       "secondary_cleaner.state.floatbank4_a_air                 6\n",
       "secondary_cleaner.state.floatbank4_a_level               1\n",
       "secondary_cleaner.state.floatbank4_b_air                 1\n",
       "secondary_cleaner.state.floatbank4_b_level               1\n",
       "secondary_cleaner.state.floatbank5_a_air                 1\n",
       "secondary_cleaner.state.floatbank5_a_level               1\n",
       "secondary_cleaner.state.floatbank5_b_air                 1\n",
       "secondary_cleaner.state.floatbank5_b_level               1\n",
       "secondary_cleaner.state.floatbank6_a_air                 2\n",
       "secondary_cleaner.state.floatbank6_a_level               1\n",
       "dtype: int64"
      ]
     },
     "execution_count": 231,
     "metadata": {},
     "output_type": "execute_result"
    }
   ],
   "source": [
    "#Поиск пропусков в обучающих данных\n",
    "pd.set_option('display.max_rows', None)\n",
    "data_train.isna().sum()"
   ]
  },
  {
   "cell_type": "code",
   "execution_count": 232,
   "metadata": {},
   "outputs": [
    {
     "data": {
      "text/html": [
       "<div>\n",
       "<style scoped>\n",
       "    .dataframe tbody tr th:only-of-type {\n",
       "        vertical-align: middle;\n",
       "    }\n",
       "\n",
       "    .dataframe tbody tr th {\n",
       "        vertical-align: top;\n",
       "    }\n",
       "\n",
       "    .dataframe thead th {\n",
       "        text-align: right;\n",
       "    }\n",
       "</style>\n",
       "<table border=\"1\" class=\"dataframe\">\n",
       "  <thead>\n",
       "    <tr style=\"text-align: right;\">\n",
       "      <th></th>\n",
       "      <th>date</th>\n",
       "      <th>primary_cleaner.input.sulfate</th>\n",
       "      <th>primary_cleaner.input.depressant</th>\n",
       "      <th>primary_cleaner.input.feed_size</th>\n",
       "      <th>primary_cleaner.input.xanthate</th>\n",
       "      <th>primary_cleaner.state.floatbank8_a_air</th>\n",
       "      <th>primary_cleaner.state.floatbank8_a_level</th>\n",
       "      <th>primary_cleaner.state.floatbank8_b_air</th>\n",
       "      <th>primary_cleaner.state.floatbank8_b_level</th>\n",
       "      <th>primary_cleaner.state.floatbank8_c_air</th>\n",
       "      <th>...</th>\n",
       "      <th>secondary_cleaner.state.floatbank4_a_air</th>\n",
       "      <th>secondary_cleaner.state.floatbank4_a_level</th>\n",
       "      <th>secondary_cleaner.state.floatbank4_b_air</th>\n",
       "      <th>secondary_cleaner.state.floatbank4_b_level</th>\n",
       "      <th>secondary_cleaner.state.floatbank5_a_air</th>\n",
       "      <th>secondary_cleaner.state.floatbank5_a_level</th>\n",
       "      <th>secondary_cleaner.state.floatbank5_b_air</th>\n",
       "      <th>secondary_cleaner.state.floatbank5_b_level</th>\n",
       "      <th>secondary_cleaner.state.floatbank6_a_air</th>\n",
       "      <th>secondary_cleaner.state.floatbank6_a_level</th>\n",
       "    </tr>\n",
       "  </thead>\n",
       "  <tbody>\n",
       "    <tr>\n",
       "      <th>0</th>\n",
       "      <td>2016-09-01 00:59:59</td>\n",
       "      <td>210.800909</td>\n",
       "      <td>14.993118</td>\n",
       "      <td>8.080000</td>\n",
       "      <td>1.005021</td>\n",
       "      <td>1398.981301</td>\n",
       "      <td>-500.225577</td>\n",
       "      <td>1399.144926</td>\n",
       "      <td>-499.919735</td>\n",
       "      <td>1400.102998</td>\n",
       "      <td>...</td>\n",
       "      <td>12.023554</td>\n",
       "      <td>-497.795834</td>\n",
       "      <td>8.016656</td>\n",
       "      <td>-501.289139</td>\n",
       "      <td>7.946562</td>\n",
       "      <td>-432.317850</td>\n",
       "      <td>4.872511</td>\n",
       "      <td>-500.037437</td>\n",
       "      <td>26.705889</td>\n",
       "      <td>-499.709414</td>\n",
       "    </tr>\n",
       "    <tr>\n",
       "      <th>1</th>\n",
       "      <td>2016-09-01 01:59:59</td>\n",
       "      <td>215.392455</td>\n",
       "      <td>14.987471</td>\n",
       "      <td>8.080000</td>\n",
       "      <td>0.990469</td>\n",
       "      <td>1398.777912</td>\n",
       "      <td>-500.057435</td>\n",
       "      <td>1398.055362</td>\n",
       "      <td>-499.778182</td>\n",
       "      <td>1396.151033</td>\n",
       "      <td>...</td>\n",
       "      <td>12.058140</td>\n",
       "      <td>-498.695773</td>\n",
       "      <td>8.130979</td>\n",
       "      <td>-499.634209</td>\n",
       "      <td>7.958270</td>\n",
       "      <td>-525.839648</td>\n",
       "      <td>4.878850</td>\n",
       "      <td>-500.162375</td>\n",
       "      <td>25.019940</td>\n",
       "      <td>-499.819438</td>\n",
       "    </tr>\n",
       "    <tr>\n",
       "      <th>2</th>\n",
       "      <td>2016-09-01 02:59:59</td>\n",
       "      <td>215.259946</td>\n",
       "      <td>12.884934</td>\n",
       "      <td>7.786667</td>\n",
       "      <td>0.996043</td>\n",
       "      <td>1398.493666</td>\n",
       "      <td>-500.868360</td>\n",
       "      <td>1398.860436</td>\n",
       "      <td>-499.764529</td>\n",
       "      <td>1398.075709</td>\n",
       "      <td>...</td>\n",
       "      <td>11.962366</td>\n",
       "      <td>-498.767484</td>\n",
       "      <td>8.096893</td>\n",
       "      <td>-500.827423</td>\n",
       "      <td>8.071056</td>\n",
       "      <td>-500.801673</td>\n",
       "      <td>4.905125</td>\n",
       "      <td>-499.828510</td>\n",
       "      <td>24.994862</td>\n",
       "      <td>-500.622559</td>\n",
       "    </tr>\n",
       "    <tr>\n",
       "      <th>3</th>\n",
       "      <td>2016-09-01 03:59:59</td>\n",
       "      <td>215.336236</td>\n",
       "      <td>12.006805</td>\n",
       "      <td>7.640000</td>\n",
       "      <td>0.863514</td>\n",
       "      <td>1399.618111</td>\n",
       "      <td>-498.863574</td>\n",
       "      <td>1397.440120</td>\n",
       "      <td>-499.211024</td>\n",
       "      <td>1400.129303</td>\n",
       "      <td>...</td>\n",
       "      <td>12.033091</td>\n",
       "      <td>-498.350935</td>\n",
       "      <td>8.074946</td>\n",
       "      <td>-499.474407</td>\n",
       "      <td>7.897085</td>\n",
       "      <td>-500.868509</td>\n",
       "      <td>4.931400</td>\n",
       "      <td>-499.963623</td>\n",
       "      <td>24.948919</td>\n",
       "      <td>-498.709987</td>\n",
       "    </tr>\n",
       "    <tr>\n",
       "      <th>4</th>\n",
       "      <td>2016-09-01 04:59:59</td>\n",
       "      <td>199.099327</td>\n",
       "      <td>10.682530</td>\n",
       "      <td>7.530000</td>\n",
       "      <td>0.805575</td>\n",
       "      <td>1401.268123</td>\n",
       "      <td>-500.808305</td>\n",
       "      <td>1398.128818</td>\n",
       "      <td>-499.504543</td>\n",
       "      <td>1402.172226</td>\n",
       "      <td>...</td>\n",
       "      <td>12.025367</td>\n",
       "      <td>-500.786497</td>\n",
       "      <td>8.054678</td>\n",
       "      <td>-500.397500</td>\n",
       "      <td>8.107890</td>\n",
       "      <td>-509.526725</td>\n",
       "      <td>4.957674</td>\n",
       "      <td>-500.360026</td>\n",
       "      <td>25.003331</td>\n",
       "      <td>-500.856333</td>\n",
       "    </tr>\n",
       "  </tbody>\n",
       "</table>\n",
       "<p>5 rows × 53 columns</p>\n",
       "</div>"
      ],
      "text/plain": [
       "                  date  primary_cleaner.input.sulfate  \\\n",
       "0  2016-09-01 00:59:59                     210.800909   \n",
       "1  2016-09-01 01:59:59                     215.392455   \n",
       "2  2016-09-01 02:59:59                     215.259946   \n",
       "3  2016-09-01 03:59:59                     215.336236   \n",
       "4  2016-09-01 04:59:59                     199.099327   \n",
       "\n",
       "   primary_cleaner.input.depressant  primary_cleaner.input.feed_size  \\\n",
       "0                         14.993118                         8.080000   \n",
       "1                         14.987471                         8.080000   \n",
       "2                         12.884934                         7.786667   \n",
       "3                         12.006805                         7.640000   \n",
       "4                         10.682530                         7.530000   \n",
       "\n",
       "   primary_cleaner.input.xanthate  primary_cleaner.state.floatbank8_a_air  \\\n",
       "0                        1.005021                             1398.981301   \n",
       "1                        0.990469                             1398.777912   \n",
       "2                        0.996043                             1398.493666   \n",
       "3                        0.863514                             1399.618111   \n",
       "4                        0.805575                             1401.268123   \n",
       "\n",
       "   primary_cleaner.state.floatbank8_a_level  \\\n",
       "0                               -500.225577   \n",
       "1                               -500.057435   \n",
       "2                               -500.868360   \n",
       "3                               -498.863574   \n",
       "4                               -500.808305   \n",
       "\n",
       "   primary_cleaner.state.floatbank8_b_air  \\\n",
       "0                             1399.144926   \n",
       "1                             1398.055362   \n",
       "2                             1398.860436   \n",
       "3                             1397.440120   \n",
       "4                             1398.128818   \n",
       "\n",
       "   primary_cleaner.state.floatbank8_b_level  \\\n",
       "0                               -499.919735   \n",
       "1                               -499.778182   \n",
       "2                               -499.764529   \n",
       "3                               -499.211024   \n",
       "4                               -499.504543   \n",
       "\n",
       "   primary_cleaner.state.floatbank8_c_air  ...  \\\n",
       "0                             1400.102998  ...   \n",
       "1                             1396.151033  ...   \n",
       "2                             1398.075709  ...   \n",
       "3                             1400.129303  ...   \n",
       "4                             1402.172226  ...   \n",
       "\n",
       "   secondary_cleaner.state.floatbank4_a_air  \\\n",
       "0                                 12.023554   \n",
       "1                                 12.058140   \n",
       "2                                 11.962366   \n",
       "3                                 12.033091   \n",
       "4                                 12.025367   \n",
       "\n",
       "   secondary_cleaner.state.floatbank4_a_level  \\\n",
       "0                                 -497.795834   \n",
       "1                                 -498.695773   \n",
       "2                                 -498.767484   \n",
       "3                                 -498.350935   \n",
       "4                                 -500.786497   \n",
       "\n",
       "   secondary_cleaner.state.floatbank4_b_air  \\\n",
       "0                                  8.016656   \n",
       "1                                  8.130979   \n",
       "2                                  8.096893   \n",
       "3                                  8.074946   \n",
       "4                                  8.054678   \n",
       "\n",
       "   secondary_cleaner.state.floatbank4_b_level  \\\n",
       "0                                 -501.289139   \n",
       "1                                 -499.634209   \n",
       "2                                 -500.827423   \n",
       "3                                 -499.474407   \n",
       "4                                 -500.397500   \n",
       "\n",
       "   secondary_cleaner.state.floatbank5_a_air  \\\n",
       "0                                  7.946562   \n",
       "1                                  7.958270   \n",
       "2                                  8.071056   \n",
       "3                                  7.897085   \n",
       "4                                  8.107890   \n",
       "\n",
       "   secondary_cleaner.state.floatbank5_a_level  \\\n",
       "0                                 -432.317850   \n",
       "1                                 -525.839648   \n",
       "2                                 -500.801673   \n",
       "3                                 -500.868509   \n",
       "4                                 -509.526725   \n",
       "\n",
       "   secondary_cleaner.state.floatbank5_b_air  \\\n",
       "0                                  4.872511   \n",
       "1                                  4.878850   \n",
       "2                                  4.905125   \n",
       "3                                  4.931400   \n",
       "4                                  4.957674   \n",
       "\n",
       "   secondary_cleaner.state.floatbank5_b_level  \\\n",
       "0                                 -500.037437   \n",
       "1                                 -500.162375   \n",
       "2                                 -499.828510   \n",
       "3                                 -499.963623   \n",
       "4                                 -500.360026   \n",
       "\n",
       "   secondary_cleaner.state.floatbank6_a_air  \\\n",
       "0                                 26.705889   \n",
       "1                                 25.019940   \n",
       "2                                 24.994862   \n",
       "3                                 24.948919   \n",
       "4                                 25.003331   \n",
       "\n",
       "   secondary_cleaner.state.floatbank6_a_level  \n",
       "0                                 -499.709414  \n",
       "1                                 -499.819438  \n",
       "2                                 -500.622559  \n",
       "3                                 -498.709987  \n",
       "4                                 -500.856333  \n",
       "\n",
       "[5 rows x 53 columns]"
      ]
     },
     "execution_count": 232,
     "metadata": {},
     "output_type": "execute_result"
    }
   ],
   "source": [
    "#Просмотр тестовых данных, первые 5 строк\n",
    "data_test.head()"
   ]
  },
  {
   "cell_type": "markdown",
   "metadata": {},
   "source": [
    "Вывод. Тестовые данные состоят из 53 столбцов. Это меньше, чем у обучающих данных (87 столбцов)."
   ]
  },
  {
   "cell_type": "code",
   "execution_count": 233,
   "metadata": {
    "scrolled": true
   },
   "outputs": [
    {
     "name": "stdout",
     "output_type": "stream",
     "text": [
      "<class 'pandas.core.frame.DataFrame'>\n",
      "RangeIndex: 5290 entries, 0 to 5289\n",
      "Data columns (total 53 columns):\n",
      " #   Column                                      Non-Null Count  Dtype  \n",
      "---  ------                                      --------------  -----  \n",
      " 0   date                                        5290 non-null   object \n",
      " 1   primary_cleaner.input.sulfate               5286 non-null   float64\n",
      " 2   primary_cleaner.input.depressant            5285 non-null   float64\n",
      " 3   primary_cleaner.input.feed_size             5290 non-null   float64\n",
      " 4   primary_cleaner.input.xanthate              5286 non-null   float64\n",
      " 5   primary_cleaner.state.floatbank8_a_air      5290 non-null   float64\n",
      " 6   primary_cleaner.state.floatbank8_a_level    5290 non-null   float64\n",
      " 7   primary_cleaner.state.floatbank8_b_air      5290 non-null   float64\n",
      " 8   primary_cleaner.state.floatbank8_b_level    5290 non-null   float64\n",
      " 9   primary_cleaner.state.floatbank8_c_air      5290 non-null   float64\n",
      " 10  primary_cleaner.state.floatbank8_c_level    5290 non-null   float64\n",
      " 11  primary_cleaner.state.floatbank8_d_air      5290 non-null   float64\n",
      " 12  primary_cleaner.state.floatbank8_d_level    5290 non-null   float64\n",
      " 13  rougher.input.feed_ag                       5290 non-null   float64\n",
      " 14  rougher.input.feed_pb                       5290 non-null   float64\n",
      " 15  rougher.input.feed_rate                     5287 non-null   float64\n",
      " 16  rougher.input.feed_size                     5289 non-null   float64\n",
      " 17  rougher.input.feed_sol                      5269 non-null   float64\n",
      " 18  rougher.input.feed_au                       5290 non-null   float64\n",
      " 19  rougher.input.floatbank10_sulfate           5285 non-null   float64\n",
      " 20  rougher.input.floatbank10_xanthate          5290 non-null   float64\n",
      " 21  rougher.input.floatbank11_sulfate           5282 non-null   float64\n",
      " 22  rougher.input.floatbank11_xanthate          5265 non-null   float64\n",
      " 23  rougher.state.floatbank10_a_air             5290 non-null   float64\n",
      " 24  rougher.state.floatbank10_a_level           5290 non-null   float64\n",
      " 25  rougher.state.floatbank10_b_air             5290 non-null   float64\n",
      " 26  rougher.state.floatbank10_b_level           5290 non-null   float64\n",
      " 27  rougher.state.floatbank10_c_air             5290 non-null   float64\n",
      " 28  rougher.state.floatbank10_c_level           5290 non-null   float64\n",
      " 29  rougher.state.floatbank10_d_air             5290 non-null   float64\n",
      " 30  rougher.state.floatbank10_d_level           5290 non-null   float64\n",
      " 31  rougher.state.floatbank10_e_air             5290 non-null   float64\n",
      " 32  rougher.state.floatbank10_e_level           5290 non-null   float64\n",
      " 33  rougher.state.floatbank10_f_air             5290 non-null   float64\n",
      " 34  rougher.state.floatbank10_f_level           5290 non-null   float64\n",
      " 35  secondary_cleaner.state.floatbank2_a_air    5287 non-null   float64\n",
      " 36  secondary_cleaner.state.floatbank2_a_level  5290 non-null   float64\n",
      " 37  secondary_cleaner.state.floatbank2_b_air    5288 non-null   float64\n",
      " 38  secondary_cleaner.state.floatbank2_b_level  5290 non-null   float64\n",
      " 39  secondary_cleaner.state.floatbank3_a_air    5281 non-null   float64\n",
      " 40  secondary_cleaner.state.floatbank3_a_level  5290 non-null   float64\n",
      " 41  secondary_cleaner.state.floatbank3_b_air    5290 non-null   float64\n",
      " 42  secondary_cleaner.state.floatbank3_b_level  5290 non-null   float64\n",
      " 43  secondary_cleaner.state.floatbank4_a_air    5290 non-null   float64\n",
      " 44  secondary_cleaner.state.floatbank4_a_level  5290 non-null   float64\n",
      " 45  secondary_cleaner.state.floatbank4_b_air    5290 non-null   float64\n",
      " 46  secondary_cleaner.state.floatbank4_b_level  5290 non-null   float64\n",
      " 47  secondary_cleaner.state.floatbank5_a_air    5290 non-null   float64\n",
      " 48  secondary_cleaner.state.floatbank5_a_level  5290 non-null   float64\n",
      " 49  secondary_cleaner.state.floatbank5_b_air    5290 non-null   float64\n",
      " 50  secondary_cleaner.state.floatbank5_b_level  5290 non-null   float64\n",
      " 51  secondary_cleaner.state.floatbank6_a_air    5290 non-null   float64\n",
      " 52  secondary_cleaner.state.floatbank6_a_level  5290 non-null   float64\n",
      "dtypes: float64(52), object(1)\n",
      "memory usage: 2.1+ MB\n"
     ]
    }
   ],
   "source": [
    "#Просмотр сводной информации о тестовых данных\n",
    "data_test.info()"
   ]
  },
  {
   "cell_type": "code",
   "execution_count": 234,
   "metadata": {
    "scrolled": true
   },
   "outputs": [
    {
     "data": {
      "text/plain": [
       "date                                           0\n",
       "primary_cleaner.input.sulfate                  4\n",
       "primary_cleaner.input.depressant               5\n",
       "primary_cleaner.input.feed_size                0\n",
       "primary_cleaner.input.xanthate                 4\n",
       "primary_cleaner.state.floatbank8_a_air         0\n",
       "primary_cleaner.state.floatbank8_a_level       0\n",
       "primary_cleaner.state.floatbank8_b_air         0\n",
       "primary_cleaner.state.floatbank8_b_level       0\n",
       "primary_cleaner.state.floatbank8_c_air         0\n",
       "primary_cleaner.state.floatbank8_c_level       0\n",
       "primary_cleaner.state.floatbank8_d_air         0\n",
       "primary_cleaner.state.floatbank8_d_level       0\n",
       "rougher.input.feed_ag                          0\n",
       "rougher.input.feed_pb                          0\n",
       "rougher.input.feed_rate                        3\n",
       "rougher.input.feed_size                        1\n",
       "rougher.input.feed_sol                        21\n",
       "rougher.input.feed_au                          0\n",
       "rougher.input.floatbank10_sulfate              5\n",
       "rougher.input.floatbank10_xanthate             0\n",
       "rougher.input.floatbank11_sulfate              8\n",
       "rougher.input.floatbank11_xanthate            25\n",
       "rougher.state.floatbank10_a_air                0\n",
       "rougher.state.floatbank10_a_level              0\n",
       "rougher.state.floatbank10_b_air                0\n",
       "rougher.state.floatbank10_b_level              0\n",
       "rougher.state.floatbank10_c_air                0\n",
       "rougher.state.floatbank10_c_level              0\n",
       "rougher.state.floatbank10_d_air                0\n",
       "rougher.state.floatbank10_d_level              0\n",
       "rougher.state.floatbank10_e_air                0\n",
       "rougher.state.floatbank10_e_level              0\n",
       "rougher.state.floatbank10_f_air                0\n",
       "rougher.state.floatbank10_f_level              0\n",
       "secondary_cleaner.state.floatbank2_a_air       3\n",
       "secondary_cleaner.state.floatbank2_a_level     0\n",
       "secondary_cleaner.state.floatbank2_b_air       2\n",
       "secondary_cleaner.state.floatbank2_b_level     0\n",
       "secondary_cleaner.state.floatbank3_a_air       9\n",
       "secondary_cleaner.state.floatbank3_a_level     0\n",
       "secondary_cleaner.state.floatbank3_b_air       0\n",
       "secondary_cleaner.state.floatbank3_b_level     0\n",
       "secondary_cleaner.state.floatbank4_a_air       0\n",
       "secondary_cleaner.state.floatbank4_a_level     0\n",
       "secondary_cleaner.state.floatbank4_b_air       0\n",
       "secondary_cleaner.state.floatbank4_b_level     0\n",
       "secondary_cleaner.state.floatbank5_a_air       0\n",
       "secondary_cleaner.state.floatbank5_a_level     0\n",
       "secondary_cleaner.state.floatbank5_b_air       0\n",
       "secondary_cleaner.state.floatbank5_b_level     0\n",
       "secondary_cleaner.state.floatbank6_a_air       0\n",
       "secondary_cleaner.state.floatbank6_a_level     0\n",
       "dtype: int64"
      ]
     },
     "execution_count": 234,
     "metadata": {},
     "output_type": "execute_result"
    }
   ],
   "source": [
    "#Поиск пропусков в тестовых данных\n",
    "data_test.isna().sum()"
   ]
  },
  {
   "cell_type": "code",
   "execution_count": 235,
   "metadata": {
    "scrolled": true
   },
   "outputs": [
    {
     "data": {
      "text/html": [
       "<div>\n",
       "<style scoped>\n",
       "    .dataframe tbody tr th:only-of-type {\n",
       "        vertical-align: middle;\n",
       "    }\n",
       "\n",
       "    .dataframe tbody tr th {\n",
       "        vertical-align: top;\n",
       "    }\n",
       "\n",
       "    .dataframe thead th {\n",
       "        text-align: right;\n",
       "    }\n",
       "</style>\n",
       "<table border=\"1\" class=\"dataframe\">\n",
       "  <thead>\n",
       "    <tr style=\"text-align: right;\">\n",
       "      <th></th>\n",
       "      <th>date</th>\n",
       "      <th>final.output.concentrate_ag</th>\n",
       "      <th>final.output.concentrate_pb</th>\n",
       "      <th>final.output.concentrate_sol</th>\n",
       "      <th>final.output.concentrate_au</th>\n",
       "      <th>final.output.recovery</th>\n",
       "      <th>final.output.tail_ag</th>\n",
       "      <th>final.output.tail_pb</th>\n",
       "      <th>final.output.tail_sol</th>\n",
       "      <th>final.output.tail_au</th>\n",
       "      <th>...</th>\n",
       "      <th>secondary_cleaner.state.floatbank4_a_air</th>\n",
       "      <th>secondary_cleaner.state.floatbank4_a_level</th>\n",
       "      <th>secondary_cleaner.state.floatbank4_b_air</th>\n",
       "      <th>secondary_cleaner.state.floatbank4_b_level</th>\n",
       "      <th>secondary_cleaner.state.floatbank5_a_air</th>\n",
       "      <th>secondary_cleaner.state.floatbank5_a_level</th>\n",
       "      <th>secondary_cleaner.state.floatbank5_b_air</th>\n",
       "      <th>secondary_cleaner.state.floatbank5_b_level</th>\n",
       "      <th>secondary_cleaner.state.floatbank6_a_air</th>\n",
       "      <th>secondary_cleaner.state.floatbank6_a_level</th>\n",
       "    </tr>\n",
       "  </thead>\n",
       "  <tbody>\n",
       "    <tr>\n",
       "      <th>0</th>\n",
       "      <td>2016-01-15 00:00:00</td>\n",
       "      <td>6.055403</td>\n",
       "      <td>9.889648</td>\n",
       "      <td>5.507324</td>\n",
       "      <td>42.192020</td>\n",
       "      <td>70.541216</td>\n",
       "      <td>10.411962</td>\n",
       "      <td>0.895447</td>\n",
       "      <td>16.904297</td>\n",
       "      <td>2.143149</td>\n",
       "      <td>...</td>\n",
       "      <td>14.016835</td>\n",
       "      <td>-502.488007</td>\n",
       "      <td>12.099931</td>\n",
       "      <td>-504.715942</td>\n",
       "      <td>9.925633</td>\n",
       "      <td>-498.310211</td>\n",
       "      <td>8.079666</td>\n",
       "      <td>-500.470978</td>\n",
       "      <td>14.151341</td>\n",
       "      <td>-605.841980</td>\n",
       "    </tr>\n",
       "    <tr>\n",
       "      <th>1</th>\n",
       "      <td>2016-01-15 01:00:00</td>\n",
       "      <td>6.029369</td>\n",
       "      <td>9.968944</td>\n",
       "      <td>5.257781</td>\n",
       "      <td>42.701629</td>\n",
       "      <td>69.266198</td>\n",
       "      <td>10.462676</td>\n",
       "      <td>0.927452</td>\n",
       "      <td>16.634514</td>\n",
       "      <td>2.224930</td>\n",
       "      <td>...</td>\n",
       "      <td>13.992281</td>\n",
       "      <td>-505.503262</td>\n",
       "      <td>11.950531</td>\n",
       "      <td>-501.331529</td>\n",
       "      <td>10.039245</td>\n",
       "      <td>-500.169983</td>\n",
       "      <td>7.984757</td>\n",
       "      <td>-500.582168</td>\n",
       "      <td>13.998353</td>\n",
       "      <td>-599.787184</td>\n",
       "    </tr>\n",
       "    <tr>\n",
       "      <th>2</th>\n",
       "      <td>2016-01-15 02:00:00</td>\n",
       "      <td>6.055926</td>\n",
       "      <td>10.213995</td>\n",
       "      <td>5.383759</td>\n",
       "      <td>42.657501</td>\n",
       "      <td>68.116445</td>\n",
       "      <td>10.507046</td>\n",
       "      <td>0.953716</td>\n",
       "      <td>16.208849</td>\n",
       "      <td>2.257889</td>\n",
       "      <td>...</td>\n",
       "      <td>14.015015</td>\n",
       "      <td>-502.520901</td>\n",
       "      <td>11.912783</td>\n",
       "      <td>-501.133383</td>\n",
       "      <td>10.070913</td>\n",
       "      <td>-500.129135</td>\n",
       "      <td>8.013877</td>\n",
       "      <td>-500.517572</td>\n",
       "      <td>14.028663</td>\n",
       "      <td>-601.427363</td>\n",
       "    </tr>\n",
       "    <tr>\n",
       "      <th>3</th>\n",
       "      <td>2016-01-15 03:00:00</td>\n",
       "      <td>6.047977</td>\n",
       "      <td>9.977019</td>\n",
       "      <td>4.858634</td>\n",
       "      <td>42.689819</td>\n",
       "      <td>68.347543</td>\n",
       "      <td>10.422762</td>\n",
       "      <td>0.883763</td>\n",
       "      <td>16.532835</td>\n",
       "      <td>2.146849</td>\n",
       "      <td>...</td>\n",
       "      <td>14.036510</td>\n",
       "      <td>-500.857308</td>\n",
       "      <td>11.999550</td>\n",
       "      <td>-501.193686</td>\n",
       "      <td>9.970366</td>\n",
       "      <td>-499.201640</td>\n",
       "      <td>7.977324</td>\n",
       "      <td>-500.255908</td>\n",
       "      <td>14.005551</td>\n",
       "      <td>-599.996129</td>\n",
       "    </tr>\n",
       "    <tr>\n",
       "      <th>4</th>\n",
       "      <td>2016-01-15 04:00:00</td>\n",
       "      <td>6.148599</td>\n",
       "      <td>10.142511</td>\n",
       "      <td>4.939416</td>\n",
       "      <td>42.774141</td>\n",
       "      <td>66.927016</td>\n",
       "      <td>10.360302</td>\n",
       "      <td>0.792826</td>\n",
       "      <td>16.525686</td>\n",
       "      <td>2.055292</td>\n",
       "      <td>...</td>\n",
       "      <td>14.027298</td>\n",
       "      <td>-499.838632</td>\n",
       "      <td>11.953070</td>\n",
       "      <td>-501.053894</td>\n",
       "      <td>9.925709</td>\n",
       "      <td>-501.686727</td>\n",
       "      <td>7.894242</td>\n",
       "      <td>-500.356035</td>\n",
       "      <td>13.996647</td>\n",
       "      <td>-601.496691</td>\n",
       "    </tr>\n",
       "  </tbody>\n",
       "</table>\n",
       "<p>5 rows × 87 columns</p>\n",
       "</div>"
      ],
      "text/plain": [
       "                  date  final.output.concentrate_ag  \\\n",
       "0  2016-01-15 00:00:00                     6.055403   \n",
       "1  2016-01-15 01:00:00                     6.029369   \n",
       "2  2016-01-15 02:00:00                     6.055926   \n",
       "3  2016-01-15 03:00:00                     6.047977   \n",
       "4  2016-01-15 04:00:00                     6.148599   \n",
       "\n",
       "   final.output.concentrate_pb  final.output.concentrate_sol  \\\n",
       "0                     9.889648                      5.507324   \n",
       "1                     9.968944                      5.257781   \n",
       "2                    10.213995                      5.383759   \n",
       "3                     9.977019                      4.858634   \n",
       "4                    10.142511                      4.939416   \n",
       "\n",
       "   final.output.concentrate_au  final.output.recovery  final.output.tail_ag  \\\n",
       "0                    42.192020              70.541216             10.411962   \n",
       "1                    42.701629              69.266198             10.462676   \n",
       "2                    42.657501              68.116445             10.507046   \n",
       "3                    42.689819              68.347543             10.422762   \n",
       "4                    42.774141              66.927016             10.360302   \n",
       "\n",
       "   final.output.tail_pb  final.output.tail_sol  final.output.tail_au  ...  \\\n",
       "0              0.895447              16.904297              2.143149  ...   \n",
       "1              0.927452              16.634514              2.224930  ...   \n",
       "2              0.953716              16.208849              2.257889  ...   \n",
       "3              0.883763              16.532835              2.146849  ...   \n",
       "4              0.792826              16.525686              2.055292  ...   \n",
       "\n",
       "   secondary_cleaner.state.floatbank4_a_air  \\\n",
       "0                                 14.016835   \n",
       "1                                 13.992281   \n",
       "2                                 14.015015   \n",
       "3                                 14.036510   \n",
       "4                                 14.027298   \n",
       "\n",
       "   secondary_cleaner.state.floatbank4_a_level  \\\n",
       "0                                 -502.488007   \n",
       "1                                 -505.503262   \n",
       "2                                 -502.520901   \n",
       "3                                 -500.857308   \n",
       "4                                 -499.838632   \n",
       "\n",
       "   secondary_cleaner.state.floatbank4_b_air  \\\n",
       "0                                 12.099931   \n",
       "1                                 11.950531   \n",
       "2                                 11.912783   \n",
       "3                                 11.999550   \n",
       "4                                 11.953070   \n",
       "\n",
       "   secondary_cleaner.state.floatbank4_b_level  \\\n",
       "0                                 -504.715942   \n",
       "1                                 -501.331529   \n",
       "2                                 -501.133383   \n",
       "3                                 -501.193686   \n",
       "4                                 -501.053894   \n",
       "\n",
       "   secondary_cleaner.state.floatbank5_a_air  \\\n",
       "0                                  9.925633   \n",
       "1                                 10.039245   \n",
       "2                                 10.070913   \n",
       "3                                  9.970366   \n",
       "4                                  9.925709   \n",
       "\n",
       "   secondary_cleaner.state.floatbank5_a_level  \\\n",
       "0                                 -498.310211   \n",
       "1                                 -500.169983   \n",
       "2                                 -500.129135   \n",
       "3                                 -499.201640   \n",
       "4                                 -501.686727   \n",
       "\n",
       "   secondary_cleaner.state.floatbank5_b_air  \\\n",
       "0                                  8.079666   \n",
       "1                                  7.984757   \n",
       "2                                  8.013877   \n",
       "3                                  7.977324   \n",
       "4                                  7.894242   \n",
       "\n",
       "   secondary_cleaner.state.floatbank5_b_level  \\\n",
       "0                                 -500.470978   \n",
       "1                                 -500.582168   \n",
       "2                                 -500.517572   \n",
       "3                                 -500.255908   \n",
       "4                                 -500.356035   \n",
       "\n",
       "   secondary_cleaner.state.floatbank6_a_air  \\\n",
       "0                                 14.151341   \n",
       "1                                 13.998353   \n",
       "2                                 14.028663   \n",
       "3                                 14.005551   \n",
       "4                                 13.996647   \n",
       "\n",
       "   secondary_cleaner.state.floatbank6_a_level  \n",
       "0                                 -605.841980  \n",
       "1                                 -599.787184  \n",
       "2                                 -601.427363  \n",
       "3                                 -599.996129  \n",
       "4                                 -601.496691  \n",
       "\n",
       "[5 rows x 87 columns]"
      ]
     },
     "execution_count": 235,
     "metadata": {},
     "output_type": "execute_result"
    }
   ],
   "source": [
    "#Просмотр исходных данных, первые 5 строк\n",
    "data_full.head()"
   ]
  },
  {
   "cell_type": "markdown",
   "metadata": {},
   "source": [
    "Вывод. Исходные данные, как и обучающие, состоят из 87 столбцов."
   ]
  },
  {
   "cell_type": "code",
   "execution_count": 236,
   "metadata": {
    "scrolled": true
   },
   "outputs": [
    {
     "name": "stdout",
     "output_type": "stream",
     "text": [
      "<class 'pandas.core.frame.DataFrame'>\n",
      "RangeIndex: 19439 entries, 0 to 19438\n",
      "Data columns (total 87 columns):\n",
      " #   Column                                              Non-Null Count  Dtype  \n",
      "---  ------                                              --------------  -----  \n",
      " 0   date                                                19439 non-null  object \n",
      " 1   final.output.concentrate_ag                         19438 non-null  float64\n",
      " 2   final.output.concentrate_pb                         19438 non-null  float64\n",
      " 3   final.output.concentrate_sol                        19228 non-null  float64\n",
      " 4   final.output.concentrate_au                         19439 non-null  float64\n",
      " 5   final.output.recovery                               19439 non-null  float64\n",
      " 6   final.output.tail_ag                                19438 non-null  float64\n",
      " 7   final.output.tail_pb                                19338 non-null  float64\n",
      " 8   final.output.tail_sol                               19433 non-null  float64\n",
      " 9   final.output.tail_au                                19439 non-null  float64\n",
      " 10  primary_cleaner.input.sulfate                       19415 non-null  float64\n",
      " 11  primary_cleaner.input.depressant                    19402 non-null  float64\n",
      " 12  primary_cleaner.input.feed_size                     19439 non-null  float64\n",
      " 13  primary_cleaner.input.xanthate                      19335 non-null  float64\n",
      " 14  primary_cleaner.output.concentrate_ag               19439 non-null  float64\n",
      " 15  primary_cleaner.output.concentrate_pb               19323 non-null  float64\n",
      " 16  primary_cleaner.output.concentrate_sol              19069 non-null  float64\n",
      " 17  primary_cleaner.output.concentrate_au               19439 non-null  float64\n",
      " 18  primary_cleaner.output.tail_ag                      19435 non-null  float64\n",
      " 19  primary_cleaner.output.tail_pb                      19418 non-null  float64\n",
      " 20  primary_cleaner.output.tail_sol                     19377 non-null  float64\n",
      " 21  primary_cleaner.output.tail_au                      19439 non-null  float64\n",
      " 22  primary_cleaner.state.floatbank8_a_air              19435 non-null  float64\n",
      " 23  primary_cleaner.state.floatbank8_a_level            19438 non-null  float64\n",
      " 24  primary_cleaner.state.floatbank8_b_air              19435 non-null  float64\n",
      " 25  primary_cleaner.state.floatbank8_b_level            19438 non-null  float64\n",
      " 26  primary_cleaner.state.floatbank8_c_air              19437 non-null  float64\n",
      " 27  primary_cleaner.state.floatbank8_c_level            19438 non-null  float64\n",
      " 28  primary_cleaner.state.floatbank8_d_air              19436 non-null  float64\n",
      " 29  primary_cleaner.state.floatbank8_d_level            19438 non-null  float64\n",
      " 30  rougher.calculation.sulfate_to_au_concentrate       19437 non-null  float64\n",
      " 31  rougher.calculation.floatbank10_sulfate_to_au_feed  19437 non-null  float64\n",
      " 32  rougher.calculation.floatbank11_sulfate_to_au_feed  19437 non-null  float64\n",
      " 33  rougher.calculation.au_pb_ratio                     19439 non-null  float64\n",
      " 34  rougher.input.feed_ag                               19439 non-null  float64\n",
      " 35  rougher.input.feed_pb                               19339 non-null  float64\n",
      " 36  rougher.input.feed_rate                             19428 non-null  float64\n",
      " 37  rougher.input.feed_size                             19294 non-null  float64\n",
      " 38  rougher.input.feed_sol                              19340 non-null  float64\n",
      " 39  rougher.input.feed_au                               19439 non-null  float64\n",
      " 40  rougher.input.floatbank10_sulfate                   19405 non-null  float64\n",
      " 41  rougher.input.floatbank10_xanthate                  19431 non-null  float64\n",
      " 42  rougher.input.floatbank11_sulfate                   19395 non-null  float64\n",
      " 43  rougher.input.floatbank11_xanthate                  18986 non-null  float64\n",
      " 44  rougher.output.concentrate_ag                       19439 non-null  float64\n",
      " 45  rougher.output.concentrate_pb                       19439 non-null  float64\n",
      " 46  rougher.output.concentrate_sol                      19416 non-null  float64\n",
      " 47  rougher.output.concentrate_au                       19439 non-null  float64\n",
      " 48  rougher.output.recovery                             19439 non-null  float64\n",
      " 49  rougher.output.tail_ag                              19438 non-null  float64\n",
      " 50  rougher.output.tail_pb                              19439 non-null  float64\n",
      " 51  rougher.output.tail_sol                             19439 non-null  float64\n",
      " 52  rougher.output.tail_au                              19439 non-null  float64\n",
      " 53  rougher.state.floatbank10_a_air                     19438 non-null  float64\n",
      " 54  rougher.state.floatbank10_a_level                   19438 non-null  float64\n",
      " 55  rougher.state.floatbank10_b_air                     19438 non-null  float64\n",
      " 56  rougher.state.floatbank10_b_level                   19438 non-null  float64\n",
      " 57  rougher.state.floatbank10_c_air                     19438 non-null  float64\n",
      " 58  rougher.state.floatbank10_c_level                   19438 non-null  float64\n",
      " 59  rougher.state.floatbank10_d_air                     19439 non-null  float64\n",
      " 60  rougher.state.floatbank10_d_level                   19439 non-null  float64\n",
      " 61  rougher.state.floatbank10_e_air                     19003 non-null  float64\n",
      " 62  rougher.state.floatbank10_e_level                   19439 non-null  float64\n",
      " 63  rougher.state.floatbank10_f_air                     19439 non-null  float64\n",
      " 64  rougher.state.floatbank10_f_level                   19439 non-null  float64\n",
      " 65  secondary_cleaner.output.tail_ag                    19437 non-null  float64\n",
      " 66  secondary_cleaner.output.tail_pb                    19427 non-null  float64\n",
      " 67  secondary_cleaner.output.tail_sol                   17691 non-null  float64\n",
      " 68  secondary_cleaner.output.tail_au                    19439 non-null  float64\n",
      " 69  secondary_cleaner.state.floatbank2_a_air            19219 non-null  float64\n",
      " 70  secondary_cleaner.state.floatbank2_a_level          19438 non-null  float64\n",
      " 71  secondary_cleaner.state.floatbank2_b_air            19416 non-null  float64\n",
      " 72  secondary_cleaner.state.floatbank2_b_level          19438 non-null  float64\n",
      " 73  secondary_cleaner.state.floatbank3_a_air            19426 non-null  float64\n",
      " 74  secondary_cleaner.state.floatbank3_a_level          19438 non-null  float64\n",
      " 75  secondary_cleaner.state.floatbank3_b_air            19438 non-null  float64\n",
      " 76  secondary_cleaner.state.floatbank3_b_level          19438 non-null  float64\n",
      " 77  secondary_cleaner.state.floatbank4_a_air            19433 non-null  float64\n",
      " 78  secondary_cleaner.state.floatbank4_a_level          19438 non-null  float64\n",
      " 79  secondary_cleaner.state.floatbank4_b_air            19438 non-null  float64\n",
      " 80  secondary_cleaner.state.floatbank4_b_level          19438 non-null  float64\n",
      " 81  secondary_cleaner.state.floatbank5_a_air            19438 non-null  float64\n",
      " 82  secondary_cleaner.state.floatbank5_a_level          19438 non-null  float64\n",
      " 83  secondary_cleaner.state.floatbank5_b_air            19438 non-null  float64\n",
      " 84  secondary_cleaner.state.floatbank5_b_level          19438 non-null  float64\n",
      " 85  secondary_cleaner.state.floatbank6_a_air            19437 non-null  float64\n",
      " 86  secondary_cleaner.state.floatbank6_a_level          19438 non-null  float64\n",
      "dtypes: float64(86), object(1)\n",
      "memory usage: 12.9+ MB\n"
     ]
    }
   ],
   "source": [
    "#Просмотр сводной информации об исходных данных\n",
    "data_full.info()"
   ]
  },
  {
   "cell_type": "markdown",
   "metadata": {},
   "source": [
    "Вывод. Исходные данные имеют 19438 объектов, что равно сумме объектов обучающих и тестовых данных."
   ]
  },
  {
   "cell_type": "code",
   "execution_count": 237,
   "metadata": {
    "scrolled": true
   },
   "outputs": [
    {
     "data": {
      "text/plain": [
       "date                                                     0\n",
       "final.output.concentrate_ag                              1\n",
       "final.output.concentrate_pb                              1\n",
       "final.output.concentrate_sol                           211\n",
       "final.output.concentrate_au                              0\n",
       "final.output.recovery                                    0\n",
       "final.output.tail_ag                                     1\n",
       "final.output.tail_pb                                   101\n",
       "final.output.tail_sol                                    6\n",
       "final.output.tail_au                                     0\n",
       "primary_cleaner.input.sulfate                           24\n",
       "primary_cleaner.input.depressant                        37\n",
       "primary_cleaner.input.feed_size                          0\n",
       "primary_cleaner.input.xanthate                         104\n",
       "primary_cleaner.output.concentrate_ag                    0\n",
       "primary_cleaner.output.concentrate_pb                  116\n",
       "primary_cleaner.output.concentrate_sol                 370\n",
       "primary_cleaner.output.concentrate_au                    0\n",
       "primary_cleaner.output.tail_ag                           4\n",
       "primary_cleaner.output.tail_pb                          21\n",
       "primary_cleaner.output.tail_sol                         62\n",
       "primary_cleaner.output.tail_au                           0\n",
       "primary_cleaner.state.floatbank8_a_air                   4\n",
       "primary_cleaner.state.floatbank8_a_level                 1\n",
       "primary_cleaner.state.floatbank8_b_air                   4\n",
       "primary_cleaner.state.floatbank8_b_level                 1\n",
       "primary_cleaner.state.floatbank8_c_air                   2\n",
       "primary_cleaner.state.floatbank8_c_level                 1\n",
       "primary_cleaner.state.floatbank8_d_air                   3\n",
       "primary_cleaner.state.floatbank8_d_level                 1\n",
       "rougher.calculation.sulfate_to_au_concentrate            2\n",
       "rougher.calculation.floatbank10_sulfate_to_au_feed       2\n",
       "rougher.calculation.floatbank11_sulfate_to_au_feed       2\n",
       "rougher.calculation.au_pb_ratio                          0\n",
       "rougher.input.feed_ag                                    0\n",
       "rougher.input.feed_pb                                  100\n",
       "rougher.input.feed_rate                                 11\n",
       "rougher.input.feed_size                                145\n",
       "rougher.input.feed_sol                                  99\n",
       "rougher.input.feed_au                                    0\n",
       "rougher.input.floatbank10_sulfate                       34\n",
       "rougher.input.floatbank10_xanthate                       8\n",
       "rougher.input.floatbank11_sulfate                       44\n",
       "rougher.input.floatbank11_xanthate                     453\n",
       "rougher.output.concentrate_ag                            0\n",
       "rougher.output.concentrate_pb                            0\n",
       "rougher.output.concentrate_sol                          23\n",
       "rougher.output.concentrate_au                            0\n",
       "rougher.output.recovery                                  0\n",
       "rougher.output.tail_ag                                   1\n",
       "rougher.output.tail_pb                                   0\n",
       "rougher.output.tail_sol                                  0\n",
       "rougher.output.tail_au                                   0\n",
       "rougher.state.floatbank10_a_air                          1\n",
       "rougher.state.floatbank10_a_level                        1\n",
       "rougher.state.floatbank10_b_air                          1\n",
       "rougher.state.floatbank10_b_level                        1\n",
       "rougher.state.floatbank10_c_air                          1\n",
       "rougher.state.floatbank10_c_level                        1\n",
       "rougher.state.floatbank10_d_air                          0\n",
       "rougher.state.floatbank10_d_level                        0\n",
       "rougher.state.floatbank10_e_air                        436\n",
       "rougher.state.floatbank10_e_level                        0\n",
       "rougher.state.floatbank10_f_air                          0\n",
       "rougher.state.floatbank10_f_level                        0\n",
       "secondary_cleaner.output.tail_ag                         2\n",
       "secondary_cleaner.output.tail_pb                        12\n",
       "secondary_cleaner.output.tail_sol                     1748\n",
       "secondary_cleaner.output.tail_au                         0\n",
       "secondary_cleaner.state.floatbank2_a_air               220\n",
       "secondary_cleaner.state.floatbank2_a_level               1\n",
       "secondary_cleaner.state.floatbank2_b_air                23\n",
       "secondary_cleaner.state.floatbank2_b_level               1\n",
       "secondary_cleaner.state.floatbank3_a_air                13\n",
       "secondary_cleaner.state.floatbank3_a_level               1\n",
       "secondary_cleaner.state.floatbank3_b_air                 1\n",
       "secondary_cleaner.state.floatbank3_b_level               1\n",
       "secondary_cleaner.state.floatbank4_a_air                 6\n",
       "secondary_cleaner.state.floatbank4_a_level               1\n",
       "secondary_cleaner.state.floatbank4_b_air                 1\n",
       "secondary_cleaner.state.floatbank4_b_level               1\n",
       "secondary_cleaner.state.floatbank5_a_air                 1\n",
       "secondary_cleaner.state.floatbank5_a_level               1\n",
       "secondary_cleaner.state.floatbank5_b_air                 1\n",
       "secondary_cleaner.state.floatbank5_b_level               1\n",
       "secondary_cleaner.state.floatbank6_a_air                 2\n",
       "secondary_cleaner.state.floatbank6_a_level               1\n",
       "dtype: int64"
      ]
     },
     "execution_count": 237,
     "metadata": {},
     "output_type": "execute_result"
    }
   ],
   "source": [
    "#Поиск пропусков в таблице исходных данных\n",
    "data_full.isna().sum()"
   ]
  },
  {
   "cell_type": "markdown",
   "metadata": {},
   "source": [
    "### Проверка правильности расчёта эффективности обогащения"
   ]
  },
  {
   "cell_type": "code",
   "execution_count": 238,
   "metadata": {},
   "outputs": [],
   "source": [
    "#С-концентрация Au после флотации, F-концентрация Au в сырье, T-концентрация Au в отвальных хвостах после флотации\n",
    "C = data_train['rougher.output.concentrate_au']\n",
    "F = data_train['rougher.input.feed_au']\n",
    "T = data_train['rougher.output.tail_au']\n",
    "data_train_recovery_calc = C * (F - T) / (F * (C - T)) * 100\n",
    "data_train_recovery = data_train['rougher.output.recovery']"
   ]
  },
  {
   "cell_type": "code",
   "execution_count": 239,
   "metadata": {},
   "outputs": [
    {
     "data": {
      "text/plain": [
       "9.73512347450521e-15"
      ]
     },
     "execution_count": 239,
     "metadata": {},
     "output_type": "execute_result"
    }
   ],
   "source": [
    "#Средняя абсолютная ошибка\n",
    "mean_absolute_error(data_train_recovery, data_train_recovery_calc)"
   ]
  },
  {
   "cell_type": "markdown",
   "metadata": {},
   "source": [
    "Выводы. Поскольку средняя абсолютная ошибка близка к нулю, эффективность обогащения рассчитана правильно."
   ]
  },
  {
   "cell_type": "markdown",
   "metadata": {},
   "source": [
    "### Анализ признаков, недоступных в тестовой выборке"
   ]
  },
  {
   "cell_type": "code",
   "execution_count": 240,
   "metadata": {},
   "outputs": [
    {
     "data": {
      "text/plain": [
       "(14149, 87)"
      ]
     },
     "execution_count": 240,
     "metadata": {},
     "output_type": "execute_result"
    }
   ],
   "source": [
    "#Размер таблицы обучающих данных\n",
    "data_train.shape"
   ]
  },
  {
   "cell_type": "code",
   "execution_count": 241,
   "metadata": {},
   "outputs": [
    {
     "data": {
      "text/plain": [
       "(5290, 53)"
      ]
     },
     "execution_count": 241,
     "metadata": {},
     "output_type": "execute_result"
    }
   ],
   "source": [
    "#Размер таблицы тестовых данных\n",
    "data_test.shape"
   ]
  },
  {
   "cell_type": "markdown",
   "metadata": {},
   "source": [
    "Вывод. У таблиц разница в 34 столбца."
   ]
  },
  {
   "cell_type": "code",
   "execution_count": 242,
   "metadata": {},
   "outputs": [
    {
     "name": "stdout",
     "output_type": "stream",
     "text": [
      "final.output.concentrate_ag\n",
      "final.output.concentrate_pb\n",
      "final.output.concentrate_sol\n",
      "final.output.concentrate_au\n",
      "final.output.recovery\n",
      "final.output.tail_ag\n",
      "final.output.tail_pb\n",
      "final.output.tail_sol\n",
      "final.output.tail_au\n",
      "primary_cleaner.output.concentrate_ag\n",
      "primary_cleaner.output.concentrate_pb\n",
      "primary_cleaner.output.concentrate_sol\n",
      "primary_cleaner.output.concentrate_au\n",
      "primary_cleaner.output.tail_ag\n",
      "primary_cleaner.output.tail_pb\n",
      "primary_cleaner.output.tail_sol\n",
      "primary_cleaner.output.tail_au\n",
      "rougher.calculation.sulfate_to_au_concentrate\n",
      "rougher.calculation.floatbank10_sulfate_to_au_feed\n",
      "rougher.calculation.floatbank11_sulfate_to_au_feed\n",
      "rougher.calculation.au_pb_ratio\n",
      "rougher.output.concentrate_ag\n",
      "rougher.output.concentrate_pb\n",
      "rougher.output.concentrate_sol\n",
      "rougher.output.concentrate_au\n",
      "rougher.output.recovery\n",
      "rougher.output.tail_ag\n",
      "rougher.output.tail_pb\n",
      "rougher.output.tail_sol\n",
      "rougher.output.tail_au\n",
      "secondary_cleaner.output.tail_ag\n",
      "secondary_cleaner.output.tail_pb\n",
      "secondary_cleaner.output.tail_sol\n",
      "secondary_cleaner.output.tail_au\n"
     ]
    }
   ],
   "source": [
    "#Вывод столбцов отсутствующих в таблице тестовых данных\n",
    "for value in data_train.columns:\n",
    "    if value not in data_test.columns:\n",
    "        print(value)"
   ]
  },
  {
   "cell_type": "markdown",
   "metadata": {},
   "source": [
    "Вывод. Рассматривая названия перечисленных признаков с использованием шаблона [этап].[тип параметра].[название параметра], можно сказать, что все эти признаки имеют тип параметра output или calculation, то есть относятся к параметрам продукта или являются расчетными характеристиками. Очевидно, что тест должен проводится только на параметрах сырья, без параметров продукта и расчетных характеристик."
   ]
  },
  {
   "cell_type": "markdown",
   "metadata": {},
   "source": [
    "### Предобработка данных"
   ]
  },
  {
   "cell_type": "code",
   "execution_count": 243,
   "metadata": {},
   "outputs": [],
   "source": [
    "#Заполнение пропусков в обучающих данных\n",
    "data_train.ffill(inplace=True)"
   ]
  },
  {
   "cell_type": "code",
   "execution_count": 244,
   "metadata": {},
   "outputs": [],
   "source": [
    "#Заполнение пропусков в исходных данных\n",
    "data_full.ffill(inplace=True)"
   ]
  },
  {
   "cell_type": "code",
   "execution_count": 245,
   "metadata": {},
   "outputs": [],
   "source": [
    "#Заполнение пропусков в тестовых данных\n",
    "data_test.ffill(inplace=True)"
   ]
  },
  {
   "cell_type": "markdown",
   "metadata": {},
   "source": [
    "## Анализ данных"
   ]
  },
  {
   "cell_type": "markdown",
   "metadata": {},
   "source": [
    "### Концентрация металлов на различных этапах очистки"
   ]
  },
  {
   "cell_type": "code",
   "execution_count": 246,
   "metadata": {},
   "outputs": [],
   "source": [
    "#Функция для построения графика изменения концентрации Ag, Au, Pb на различных этапах очистки\n",
    "def graph():\n",
    "    s=pd.Series([rougher_in_mean,rougher_out_mean,primary_cleaner_mean,final_mean],index=x_values)\n",
    "    ax=s.plot(title='metall concentration', style='o-')\n",
    "    ax.legend(['Ag','Au','Pb'])\n",
    "    plt.xlabel('Этапы очистки')\n",
    "    plt.ylabel('Концентрация')"
   ]
  },
  {
   "cell_type": "code",
   "execution_count": 247,
   "metadata": {},
   "outputs": [
    {
     "data": {
      "image/png": "[encoded data removed]",
      "text/plain": [
       "<Figure size 640x480 with 1 Axes>"
      ]
     },
     "metadata": {},
     "output_type": "display_data"
    }
   ],
   "source": [
    "#Названия этапов очистки для построения графика\n",
    "x_values = ['rougher_in_mean','rougher_out_mean','primary_cleaner_mean','final_mean']\n",
    "\n",
    "#Вычисление средних значений концентрации Ag на различных этапах очистки\n",
    "rougher_in_mean = data_full['rougher.input.feed_ag'].mean()\n",
    "rougher_out_mean = data_full['rougher.output.concentrate_ag'].mean()\n",
    "primary_cleaner_mean = data_full['primary_cleaner.output.concentrate_ag'].mean()\n",
    "\n",
    "final_mean = data_full['final.output.concentrate_ag'].mean()\n",
    "\n",
    "#Построение графика на основе полученных средних\n",
    "graph()\n",
    "\n",
    "#Вычисление средних значений концентрации Au на различных этапах очистки\n",
    "rougher_in_mean = data_full['rougher.input.feed_au'].mean()\n",
    "rougher_out_mean = data_full['rougher.output.concentrate_au'].mean()\n",
    "primary_cleaner_mean = data_full['primary_cleaner.output.concentrate_au'].mean()\n",
    "final_mean = data_full['final.output.concentrate_au'].mean()\n",
    "\n",
    "#Построение графика на основе полученных средних\n",
    "graph()\n",
    "\n",
    "#Вычисление средних значений концентрации Pb на различных этапах очистки\n",
    "rougher_in_mean = data_full['rougher.input.feed_pb'].mean()\n",
    "rougher_out_mean = data_full['rougher.output.concentrate_pb'].mean()\n",
    "primary_cleaner_mean = data_full['primary_cleaner.output.concentrate_pb'].mean()\n",
    "final_mean = data_full['final.output.concentrate_pb'].mean()\n",
    "\n",
    "#Построение графика на основе полученных средних\n",
    "graph()"
   ]
  },
  {
   "cell_type": "markdown",
   "metadata": {},
   "source": [
    "Выводы. Концентрация Au растет существенно, концентрация Pb растет несущественно, а концентрация Ag, после незначительного роста вначале, падает."
   ]
  },
  {
   "cell_type": "markdown",
   "metadata": {},
   "source": [
    "### Распределение размеров гранул сырья "
   ]
  },
  {
   "cell_type": "markdown",
   "metadata": {},
   "source": [
    "Размеры гранул сырья представлены в столбце 'rougher.input.feed_size'"
   ]
  },
  {
   "cell_type": "code",
   "execution_count": 248,
   "metadata": {},
   "outputs": [
    {
     "data": {
      "text/plain": [
       "Text(0, 0.5, 'Частота значений размера гранул')"
      ]
     },
     "execution_count": 248,
     "metadata": {},
     "output_type": "execute_result"
    },
    {
     "data": {
      "image/png": "[encoded data removed]",
      "text/plain": [
       "<Figure size 640x480 with 1 Axes>"
      ]
     },
     "metadata": {},
     "output_type": "display_data"
    }
   ],
   "source": [
    "#Построение гистограммы распределения размеров гранул сырья на обучающей выборке\n",
    "data_train.plot(kind='hist', y='rougher.input.feed_size', range = (0, 150), bins=100)\n",
    "plt.title('Распределение размеров гранул сырья на обучающей выборке')\n",
    "plt.xlabel('Размер гранул')\n",
    "plt.ylabel('Частота значений размера гранул')"
   ]
  },
  {
   "cell_type": "code",
   "execution_count": 249,
   "metadata": {},
   "outputs": [
    {
     "data": {
      "text/plain": [
       "Text(0, 0.5, 'Частота значений размера гранул')"
      ]
     },
     "execution_count": 249,
     "metadata": {},
     "output_type": "execute_result"
    },
    {
     "data": {
      "image/png": "[encoded data removed]",
      "text/plain": [
       "<Figure size 640x480 with 1 Axes>"
      ]
     },
     "metadata": {},
     "output_type": "display_data"
    }
   ],
   "source": [
    "#Построение гистограммы распределения размеров гранул сырья по тестовой выборке\n",
    "data_test.plot(kind='hist', y='rougher.input.feed_size', range = (0, 150), bins=100)\n",
    "plt.title('Распределение размеров гранул сырья на тестовой выборке')\n",
    "plt.xlabel('Размер гранул')\n",
    "plt.ylabel('Частота значений размера гранул')"
   ]
  },
  {
   "cell_type": "code",
   "execution_count": 250,
   "metadata": {},
   "outputs": [],
   "source": [
    "#Выделение признака с размерами гранул сырья из обучающей и тестовой выборки для дальнейшего сравнения распределений\n",
    "x=data_train['rougher.input.feed_size']\n",
    "y=data_test['rougher.input.feed_size']"
   ]
  },
  {
   "cell_type": "code",
   "execution_count": 251,
   "metadata": {},
   "outputs": [
    {
     "data": {
      "text/plain": [
       "Text(0, 0.5, 'Частота значений размера гранул')"
      ]
     },
     "execution_count": 251,
     "metadata": {},
     "output_type": "execute_result"
    },
    {
     "data": {
      "image/png": "[encoded data removed]",
      "text/plain": [
       "<Figure size 640x480 with 1 Axes>"
      ]
     },
     "metadata": {},
     "output_type": "display_data"
    }
   ],
   "source": [
    "#Сравнение распределений размера гранул сырья в обучающей и тестовой выборках\n",
    "x.hist(alpha=0.5,label='x',range = (0, 150), bins=100)\n",
    "y.hist(alpha=0.5,label='y',range = (0, 150), bins=100)\n",
    "plt.legend(['на обучающей выборке', 'на тестовой выборке'])\n",
    "plt.title('Распределение размеров гранул сырья на обучающей и тестовой выборках')\n",
    "plt.xlabel('Размер гранул')\n",
    "plt.ylabel('Частота значений размера гранул')"
   ]
  },
  {
   "cell_type": "markdown",
   "metadata": {},
   "source": [
    "### Суммарная концентрация всех веществ на разных стадиях"
   ]
  },
  {
   "cell_type": "code",
   "execution_count": 252,
   "metadata": {},
   "outputs": [],
   "source": [
    "#Четыре выборки на основе исходных данных для четырех стадий\n",
    "data_rougher_input = data_full[['rougher.input.feed_ag', 'rougher.input.feed_pb', 'rougher.input.feed_sol',\n",
    "                              'rougher.input.feed_au']]\n",
    "\n",
    "data_rougher_output = data_full[['rougher.output.concentrate_ag', 'rougher.output.concentrate_pb',\n",
    "                                'rougher.output.concentrate_sol', 'rougher.output.concentrate_au']]\n",
    "\n",
    "data_primary_cleaner = data_full[['primary_cleaner.output.concentrate_ag', 'primary_cleaner.output.concentrate_pb',\n",
    "                                 'primary_cleaner.output.concentrate_sol', 'primary_cleaner.output.concentrate_au']]\n",
    "\n",
    "data_final = data_full[['final.output.concentrate_ag', 'final.output.concentrate_pb',\n",
    "                       'final.output.concentrate_sol', 'final.output.concentrate_au']]"
   ]
  },
  {
   "cell_type": "code",
   "execution_count": 253,
   "metadata": {},
   "outputs": [],
   "source": [
    "#Сумма концентрации всех веществ на каждой из четырех стадий\n",
    "data_rougher_input_sum = data_rougher_input.sum(axis=1)\n",
    "\n",
    "data_rougher_output_sum = data_rougher_output.sum(axis=1)\n",
    "\n",
    "data_primary_cleaner_sum = data_primary_cleaner.sum(axis=1)\n",
    "\n",
    "data_final_sum = data_final.sum(axis=1)"
   ]
  },
  {
   "cell_type": "code",
   "execution_count": 254,
   "metadata": {},
   "outputs": [
    {
     "data": {
      "text/plain": [
       "Text(0, 0.5, 'Частота значений концентрации')"
      ]
     },
     "execution_count": 254,
     "metadata": {},
     "output_type": "execute_result"
    },
    {
     "data": {
      "image/png": "[encoded data removed]",
      "text/plain": [
       "<Figure size 640x480 with 1 Axes>"
      ]
     },
     "metadata": {},
     "output_type": "display_data"
    }
   ],
   "source": [
    "#Распределение суммарной концентрации всех веществ в сырье\n",
    "data_rougher_input_sum.plot(kind='hist', bins=100, grid=True, title='Суммарная концентрация всех веществ в сырье')\n",
    "plt.xlabel('Концентрация')\n",
    "plt.ylabel('Частота значений концентрации')"
   ]
  },
  {
   "cell_type": "code",
   "execution_count": 255,
   "metadata": {
    "scrolled": true
   },
   "outputs": [
    {
     "data": {
      "text/plain": [
       "Text(0, 0.5, 'Частота значений концентрации')"
      ]
     },
     "execution_count": 255,
     "metadata": {},
     "output_type": "execute_result"
    },
    {
     "data": {
      "image/png": "[encoded data removed]",
      "text/plain": [
       "<Figure size 640x480 with 1 Axes>"
      ]
     },
     "metadata": {},
     "output_type": "display_data"
    }
   ],
   "source": [
    "#Распределение суммарной концентрации всех веществ после флотации\n",
    "data_rougher_output_sum.plot(kind='hist', bins=100, grid=True, title='Суммарная концентрация всех веществ после флотации')\n",
    "plt.xlabel('Концентрация')\n",
    "plt.ylabel('Частота значений концентрации')"
   ]
  },
  {
   "cell_type": "markdown",
   "metadata": {},
   "source": [
    "Вывод. Заметно значительное количество аномальных значений равных 0. Удалим их из распределения."
   ]
  },
  {
   "cell_type": "code",
   "execution_count": 256,
   "metadata": {},
   "outputs": [],
   "source": [
    "#Удаление аномальных значений на предыдущем распределении\n",
    "data_rougher_output_sum = data_rougher_output_sum[data_rougher_output_sum>0]"
   ]
  },
  {
   "cell_type": "code",
   "execution_count": 257,
   "metadata": {},
   "outputs": [
    {
     "data": {
      "text/plain": [
       "Text(0, 0.5, 'Частота значений концентрации')"
      ]
     },
     "execution_count": 257,
     "metadata": {},
     "output_type": "execute_result"
    },
    {
     "data": {
      "image/png": "[encoded data removed]",
      "text/plain": [
       "<Figure size 640x480 with 1 Axes>"
      ]
     },
     "metadata": {},
     "output_type": "display_data"
    }
   ],
   "source": [
    "#Распределение суммарной концентрации всех веществ после флотации без аномальных значений\n",
    "data_rougher_output_sum.plot(kind='hist', bins=100, grid=True, title='Суммарная концентрация всех веществ после флотации')\n",
    "plt.xlabel('Концентрация')\n",
    "plt.ylabel('Частота значений концентрации')"
   ]
  },
  {
   "cell_type": "code",
   "execution_count": 258,
   "metadata": {},
   "outputs": [
    {
     "data": {
      "text/plain": [
       "Text(0, 0.5, 'Частота значений концентрации')"
      ]
     },
     "execution_count": 258,
     "metadata": {},
     "output_type": "execute_result"
    },
    {
     "data": {
      "image/png": "[encoded data removed]",
      "text/plain": [
       "<Figure size 640x480 with 1 Axes>"
      ]
     },
     "metadata": {},
     "output_type": "display_data"
    }
   ],
   "source": [
    "#Распределение суммарной концентрации всех веществ после первого этапа очистки\n",
    "data_primary_cleaner_sum.plot(kind='hist', bins=100, grid=True, title='Суммарная концентрация всех веществ после первого этапа очистки')\n",
    "plt.xlabel('Концентрация')\n",
    "plt.ylabel('Частота значений концентрации')"
   ]
  },
  {
   "cell_type": "markdown",
   "metadata": {},
   "source": [
    "Вывод. Заметны аномальные значения вблизи 0. Удалим их из распределения."
   ]
  },
  {
   "cell_type": "code",
   "execution_count": 259,
   "metadata": {},
   "outputs": [],
   "source": [
    "#Удаление аномальных значений из предыдущего распределения.\n",
    "data_primary_cleaner_sum = data_primary_cleaner_sum[data_primary_cleaner_sum>1]"
   ]
  },
  {
   "cell_type": "code",
   "execution_count": 260,
   "metadata": {
    "scrolled": true
   },
   "outputs": [
    {
     "data": {
      "text/plain": [
       "Text(0, 0.5, 'Частота значений концентрации')"
      ]
     },
     "execution_count": 260,
     "metadata": {},
     "output_type": "execute_result"
    },
    {
     "data": {
      "image/png": "[encoded data removed]",
      "text/plain": [
       "<Figure size 640x480 with 1 Axes>"
      ]
     },
     "metadata": {},
     "output_type": "display_data"
    }
   ],
   "source": [
    "#Распределение суммарной концентрации всех веществ после первого этапа очистки без аномальных значений.\n",
    "data_primary_cleaner_sum.plot(kind='hist', bins=100, grid=True, title='Суммарная концентрация всех веществ после первого этапа очистки')\n",
    "plt.xlabel('Концентрация')\n",
    "plt.ylabel('Частота значений концентрации')"
   ]
  },
  {
   "cell_type": "code",
   "execution_count": 261,
   "metadata": {},
   "outputs": [
    {
     "data": {
      "text/plain": [
       "Text(0, 0.5, 'Частота значений концентрации')"
      ]
     },
     "execution_count": 261,
     "metadata": {},
     "output_type": "execute_result"
    },
    {
     "data": {
      "image/png": "[encoded data removed]",
      "text/plain": [
       "<Figure size 640x480 with 1 Axes>"
      ]
     },
     "metadata": {},
     "output_type": "display_data"
    }
   ],
   "source": [
    "#Распределение суммарной концентрации всех веществ после второго этапа очистки.\n",
    "data_final_sum.plot(kind='hist', bins=100, grid=True, title='Суммарная концентрация всех веществ после второго этапа очистки')\n",
    "plt.xlabel('Концентрация')\n",
    "plt.ylabel('Частота значений концентрации')"
   ]
  },
  {
   "cell_type": "markdown",
   "metadata": {},
   "source": [
    "Вывод. Заметны аномальные значения вблизи 0. Удалим их из распределения."
   ]
  },
  {
   "cell_type": "code",
   "execution_count": 262,
   "metadata": {},
   "outputs": [],
   "source": [
    "#Удаление аномальных значений из предыдущего распределения.\n",
    "data_final_sum = data_final_sum[data_final_sum>0]"
   ]
  },
  {
   "cell_type": "code",
   "execution_count": 263,
   "metadata": {},
   "outputs": [
    {
     "data": {
      "text/plain": [
       "Text(0, 0.5, 'Частота значений концентрации')"
      ]
     },
     "execution_count": 263,
     "metadata": {},
     "output_type": "execute_result"
    },
    {
     "data": {
      "image/png": "[encoded data removed]",
      "text/plain": [
       "<Figure size 640x480 with 1 Axes>"
      ]
     },
     "metadata": {},
     "output_type": "display_data"
    }
   ],
   "source": [
    "#Распределение суммарной концентрации всех веществ после второго этапа очистки без аномальных значений.\n",
    "data_final_sum.plot(kind='hist', bins=100, grid=True, title='Суммарная концентрация всех веществ после второго этапа очистки')\n",
    "plt.xlabel('Концентрация')\n",
    "plt.ylabel('Частота значений концентрации')"
   ]
  },
  {
   "cell_type": "markdown",
   "metadata": {},
   "source": [
    "<div style=\"background: #cceeaa; padding: 5px; border: 1px solid green; border-radius: 5px;\">\n",
    "<font color='green'> \n",
    "<u>КОММЕНТАРИЙ РЕВЬЮЕРА</u>\n",
    "<font color='green'><br>\n",
    "ОК. Ещё пару строк по выбросам: в некоторых проектах - это важно, избавиться от выбросов<br>\n",
    "\n",
    "И вот если обратиться к нашему проекту:<br>\n",
    "1) Есть нулевые аномалии в суммарных концентрациях - и их надо \"убить\". Дело в том, что хоть грамм чего-нибудь но есть в \"суммарной руде\"- соли+золото+серебро+свинец - точно что-то должно быть.. А если мы имеем ноль, значит большая вероятность неточности измерений.<br>\n",
    "    \n",
    "2)А вот с выбросами как в приниципе..<br>\n",
    "Тут на обсуждение: наша цель - предсказывать модель на реальных данных. И вот эти выбросы - это и есть реальная концентрация. И нам важно, чтобы модель умела и их тоже видеть и обрабатывать. Если их убрать из модели, то получится, что у нас она станет как бы искусственной. Т.е. будет работать только в небольших диапазонах - потому что обучалась только в них.<br>\n",
    "    \n",
    "Поэтому, тут так: выбросы - это не всегда то, от чего надо избавляться))) Ещё зависит от бизнес-задачи.<br>\n",
    "    \n",
    "Кстати<br>\n",
    "если говорить о теории выбросов с помощью графика \"ящик с усами\", то вот это интервал q3+-1.5*iqr говорит действильно о них самых<br>\n",
    "Но нет рекоммендаций к их удалению. Говорят так \"на усмотрение бизнеса\".<br>\n",
    "А вот если взять вот этот интервал q3+3*iqr:  то тут уж с очень высокой вероятность можно говорить о грубых выбросах."
   ]
  },
  {
   "cell_type": "markdown",
   "metadata": {},
   "source": [
    "## Модель"
   ]
  },
  {
   "cell_type": "markdown",
   "metadata": {},
   "source": [
    "### Функция для вычисления итоговой sMAPE"
   ]
  },
  {
   "cell_type": "code",
   "execution_count": 264,
   "metadata": {},
   "outputs": [],
   "source": [
    "#Функция для вычисления итоговой sMAPE\n",
    "def smape(target_rougher, predict_rougher, target_final, predict_final):\n",
    "    \n",
    "    differevce_target_predict_rougher = abs(target_rougher - predict_rougher)\n",
    "    summa_target_predict_rougher = abs(target_rougher) + abs(predict_rougher)\n",
    "    smape__rougher = ((differevce_target_predict_rougher / (summa_target_predict_rougher / 2)).sum() * 100) / len(target_rougher)\n",
    "    \n",
    "    differevce_target_predict_final = abs(target_final - predict_final)\n",
    "    summa_target_predict_final = abs(target_final) + abs(predict_final)\n",
    "    smape__final = ((differevce_target_predict_final / (summa_target_predict_final / 2)).sum() * 100) / len(target_final)\n",
    "    \n",
    "    return ((1/4) * smape__rougher + (3/4) * smape__final)"
   ]
  },
  {
   "cell_type": "markdown",
   "metadata": {},
   "source": [
    "### Кросс-валидация"
   ]
  },
  {
   "cell_type": "code",
   "execution_count": 265,
   "metadata": {},
   "outputs": [],
   "source": [
    "#Для обучения модели используем в качестве обучающую выборку с признаками тестовых данных.\n",
    "data = data_train[data_test.columns]"
   ]
  },
  {
   "cell_type": "code",
   "execution_count": 266,
   "metadata": {},
   "outputs": [],
   "source": [
    "#Удалим из обучающей выборки бесполезный для обчения признак даты.\n",
    "data = data.drop(['date'], axis=1)"
   ]
  },
  {
   "cell_type": "code",
   "execution_count": 267,
   "metadata": {},
   "outputs": [],
   "source": [
    "#Сохраним признаки для обучения модели в переменную features\n",
    "features = data"
   ]
  },
  {
   "cell_type": "code",
   "execution_count": 268,
   "metadata": {},
   "outputs": [],
   "source": [
    "#Извлечем целевые признаки из исходных данных у тех объектов, которые присутствуют в выборке data_train\n",
    "target_1 = data_full[data_full['date'].isin(data_train['date'])]['rougher.output.recovery'].reset_index(drop\n",
    "= True)\n",
    "target_2 = data_full[data_full['date'].isin(data_train['date'])]['final.output.recovery'].reset_index(drop\n",
    "= True)"
   ]
  },
  {
   "cell_type": "markdown",
   "metadata": {},
   "source": [
    "#### Модель линейной регрессии"
   ]
  },
  {
   "cell_type": "code",
   "execution_count": 269,
   "metadata": {},
   "outputs": [],
   "source": [
    "#Пустой список для оценок модели\n",
    "scores = []"
   ]
  },
  {
   "cell_type": "code",
   "execution_count": 270,
   "metadata": {},
   "outputs": [],
   "source": [
    "#Размер каждого блока данных в кросс-валидации\n",
    "sample_size = int(len(data)/100)"
   ]
  },
  {
   "cell_type": "code",
   "execution_count": 271,
   "metadata": {},
   "outputs": [],
   "source": [
    "#Обучение и оценка моделей методом кросс-валидации\n",
    "for i in range(0, len(data), sample_size):\n",
    "    valid_indexes = list(data.loc[i:i+sample_size-1].index)\n",
    "    train_indexes = list(data.loc[:i-1].index) + list(data.loc[i+sample_size:].index)\n",
    "    features_train = features.query('index in @train_indexes')\n",
    "    features_valid = features.query('index in @valid_indexes')    \n",
    "    target_1_train = target_1[train_indexes]\n",
    "    target_1_valid = target_1[valid_indexes]\n",
    "    target_2_train = target_2[train_indexes]\n",
    "    target_2_valid = target_2[valid_indexes]\n",
    "    lg_model_1 = LinearRegression()\n",
    "    lg_model_2 = LinearRegression()\n",
    "    lg_model_1 = lg_model_1.fit(features_train, target_1_train)\n",
    "    lg_model_2 = lg_model_2.fit(features_train, target_2_train)\n",
    "    predictions_valid_1 = lg_model_1.predict(features_valid)\n",
    "    predictions_valid_2 = lg_model_2.predict(features_valid)\n",
    "    score = smape(target_1_valid, predictions_valid_1, target_2_valid, predictions_valid_2)\n",
    "    scores.append(score)"
   ]
  },
  {
   "cell_type": "code",
   "execution_count": 272,
   "metadata": {},
   "outputs": [],
   "source": [
    "#Итоговая оценка модели\n",
    "final_score = sum(scores) / len(scores)"
   ]
  },
  {
   "cell_type": "code",
   "execution_count": 273,
   "metadata": {},
   "outputs": [
    {
     "data": {
      "text/plain": [
       "10.09327935375315"
      ]
     },
     "execution_count": 273,
     "metadata": {},
     "output_type": "execute_result"
    }
   ],
   "source": [
    "#Вывод итоговой оценки модели\n",
    "final_score"
   ]
  },
  {
   "cell_type": "markdown",
   "metadata": {},
   "source": [
    "#### Модель решающего дерева в регрессии"
   ]
  },
  {
   "cell_type": "code",
   "execution_count": 274,
   "metadata": {},
   "outputs": [],
   "source": [
    "#Пустой список для оценок модели\n",
    "scores = []"
   ]
  },
  {
   "cell_type": "code",
   "execution_count": 275,
   "metadata": {},
   "outputs": [],
   "source": [
    "#Размер каждого блока данных в кросс-валидации\n",
    "sample_size = int(len(data)/100)"
   ]
  },
  {
   "cell_type": "code",
   "execution_count": 276,
   "metadata": {},
   "outputs": [],
   "source": [
    "#Обучение и оценка моделей методом кросс-валидации\n",
    "for i in range(0, len(data), sample_size):\n",
    "    valid_indexes = list(data.loc[i:i+sample_size-1].index)\n",
    "    train_indexes = list(data.loc[:i-1].index) + list(data.loc[i+sample_size:].index)\n",
    "    features_train = features.query('index in @train_indexes')\n",
    "    features_valid = features.query('index in @valid_indexes')    \n",
    "    target_1_train = target_1[train_indexes]\n",
    "    target_1_valid = target_1[valid_indexes]\n",
    "    target_2_train = target_2[train_indexes]\n",
    "    target_2_valid = target_2[valid_indexes]\n",
    "    dtr_model_1 = DecisionTreeRegressor(random_state=12345, max_depth=5)\n",
    "    dtr_model_2 = DecisionTreeRegressor(random_state=12345, max_depth=5)\n",
    "    dtr_model_1 = dtr_model_1.fit(features_train, target_1_train)\n",
    "    dtr_model_2 = dtr_model_2.fit(features_train, target_2_train)\n",
    "    predictions_valid_1 = dtr_model_1.predict(features_valid)\n",
    "    predictions_valid_2 = dtr_model_2.predict(features_valid)\n",
    "    score = smape(target_1_valid, predictions_valid_1, target_2_valid, predictions_valid_2)\n",
    "    scores.append(score)"
   ]
  },
  {
   "cell_type": "code",
   "execution_count": 277,
   "metadata": {},
   "outputs": [],
   "source": [
    "#Итоговая оценка модели\n",
    "final_score = sum(scores) / len(scores)"
   ]
  },
  {
   "cell_type": "code",
   "execution_count": 278,
   "metadata": {},
   "outputs": [
    {
     "data": {
      "text/plain": [
       "10.427183605474024"
      ]
     },
     "execution_count": 278,
     "metadata": {},
     "output_type": "execute_result"
    }
   ],
   "source": [
    "#Вывод итоговой оценки модели\n",
    "final_score"
   ]
  },
  {
   "cell_type": "markdown",
   "metadata": {},
   "source": [
    "#### Модель случайного леса в регрессии"
   ]
  },
  {
   "cell_type": "code",
   "execution_count": 279,
   "metadata": {},
   "outputs": [],
   "source": [
    "#Пустой список для оценок модели\n",
    "scores = []"
   ]
  },
  {
   "cell_type": "code",
   "execution_count": 280,
   "metadata": {},
   "outputs": [],
   "source": [
    "#Размер каждого блока данных в кросс-валидации\n",
    "sample_size = int(len(data)/100)"
   ]
  },
  {
   "cell_type": "code",
   "execution_count": 281,
   "metadata": {},
   "outputs": [],
   "source": [
    "#Обучение и оценка моделей методом кросс-валидации\n",
    "for i in range(0, len(data), sample_size):\n",
    "    valid_indexes = list(data.loc[i:i+sample_size-1].index)\n",
    "    train_indexes = list(data.loc[:i-1].index) + list(data.loc[i+sample_size:].index)\n",
    "    features_train = features.query('index in @train_indexes')\n",
    "    features_valid = features.query('index in @valid_indexes')\n",
    "    target_1_train = target_1[train_indexes]\n",
    "    target_1_valid = target_1[valid_indexes]\n",
    "    target_2_train = target_2[train_indexes]\n",
    "    target_2_valid = target_2[valid_indexes]\n",
    "    rfr_model_1 = RandomForestRegressor(random_state=12345, n_estimators=8, max_depth=5)\n",
    "    rfr_model_2 = RandomForestRegressor(random_state=12345, n_estimators=8, max_depth=5)\n",
    "    rfr_model_1 = rfr_model_1.fit(features_train, target_1_train)\n",
    "    rfr_model_2 = rfr_model_2.fit(features_train, target_2_train)\n",
    "    predictions_valid_1 = rfr_model_1.predict(features_valid)\n",
    "    predictions_valid_2 = rfr_model_2.predict(features_valid)\n",
    "    score = smape(target_1_valid, predictions_valid_1, target_2_valid, predictions_valid_2)\n",
    "    scores.append(score)"
   ]
  },
  {
   "cell_type": "code",
   "execution_count": 282,
   "metadata": {},
   "outputs": [],
   "source": [
    "#Итоговая оценка модели\n",
    "final_score = sum(scores) / len(scores)"
   ]
  },
  {
   "cell_type": "code",
   "execution_count": 283,
   "metadata": {},
   "outputs": [
    {
     "data": {
      "text/plain": [
       "9.723457029725257"
      ]
     },
     "execution_count": 283,
     "metadata": {},
     "output_type": "execute_result"
    }
   ],
   "source": [
    "#Вывод итоговой оценки модели\n",
    "final_score"
   ]
  },
  {
   "cell_type": "markdown",
   "metadata": {},
   "source": [
    "**Вывод.** Судя по итоговым оценкам, лучшей моделью оказалась модель случайного леса в регрессии. Проведем проверку этой модели на тестовой выборке и в сравнении с константной моделью."
   ]
  },
  {
   "cell_type": "markdown",
   "metadata": {},
   "source": [
    "### Оценка константной модели"
   ]
  },
  {
   "cell_type": "code",
   "execution_count": 284,
   "metadata": {},
   "outputs": [],
   "source": [
    "#Пустой список для оценок модели\n",
    "scores = []"
   ]
  },
  {
   "cell_type": "code",
   "execution_count": 285,
   "metadata": {},
   "outputs": [],
   "source": [
    "#Размер каждого блока данных в кросс-валидации\n",
    "sample_size = int(len(data)/100)"
   ]
  },
  {
   "cell_type": "code",
   "execution_count": 286,
   "metadata": {},
   "outputs": [],
   "source": [
    "#Обучение и оценка моделей методом кросс-валидации\n",
    "for i in range(0, len(data), sample_size):\n",
    "    valid_indexes = list(data.loc[i:i+sample_size-1].index)\n",
    "    train_indexes = list(data.loc[:i-1].index) + list(data.loc[i+sample_size:].index)\n",
    "    features_train = features.query('index in @train_indexes')\n",
    "    features_valid = features.query('index in @valid_indexes')\n",
    "    target_1_train = target_1[train_indexes]\n",
    "    target_1_valid = target_1[valid_indexes]\n",
    "    target_2_train = target_2[train_indexes]\n",
    "    target_2_valid = target_2[valid_indexes]\n",
    "    \n",
    "    #Создание и обучение двух константных моделей предсказывающих медиану\n",
    "    model_1 = pd.Series([target_1_train.median()]*len(target_1_train))\n",
    "    model_2 = pd.Series([target_2_train.median()]*len(target_2_train))\n",
    "    \n",
    "    #Предсказания константных моделей\n",
    "    predictions_valid_1 = model_1\n",
    "    predictions_valid_2 = model_2\n",
    "    \n",
    "    #Оценка метрикой sMAPE\n",
    "    score = smape(target_1_valid, predictions_valid_1, target_2_valid, predictions_valid_2)\n",
    "    scores.append(score)"
   ]
  },
  {
   "cell_type": "code",
   "execution_count": 287,
   "metadata": {},
   "outputs": [],
   "source": [
    "#Итоговая оценка модели\n",
    "final_score = sum(scores) / len(scores)"
   ]
  },
  {
   "cell_type": "code",
   "execution_count": 288,
   "metadata": {},
   "outputs": [
    {
     "data": {
      "text/plain": [
       "10.994726250579427"
      ]
     },
     "execution_count": 288,
     "metadata": {},
     "output_type": "execute_result"
    }
   ],
   "source": [
    "#Вывод итоговой оценки модели\n",
    "final_score"
   ]
  },
  {
   "cell_type": "markdown",
   "metadata": {},
   "source": [
    "### Проверка лучшей модели на тестовой выборке"
   ]
  },
  {
   "cell_type": "code",
   "execution_count": 289,
   "metadata": {},
   "outputs": [],
   "source": [
    "#Для предсказания целевого признака используем в качестве признаков признаки тестовой выборки.\n",
    "data = data_test"
   ]
  },
  {
   "cell_type": "code",
   "execution_count": 290,
   "metadata": {},
   "outputs": [],
   "source": [
    "# Удалим из тестовых данных бесполезный для обучения и предсказания признак даты\n",
    "data = data.drop(['date'], axis=1)"
   ]
  },
  {
   "cell_type": "code",
   "execution_count": 291,
   "metadata": {},
   "outputs": [],
   "source": [
    "#Сохраним признаки в переменную features_test\n",
    "features_test = data"
   ]
  },
  {
   "cell_type": "code",
   "execution_count": 292,
   "metadata": {},
   "outputs": [],
   "source": [
    "#Извлечем целевые признаки их исходных данных беря только те объекты, которые присутствуют в тестовой выборке\n",
    "target_1 = data_full[data_full['date'].isin(data_test['date'])]['rougher.output.recovery'].reset_index(drop\n",
    "= True)\n",
    "target_2 = data_full[data_full['date'].isin(data_test['date'])]['final.output.recovery'].reset_index(drop\n",
    "= True)"
   ]
  },
  {
   "cell_type": "code",
   "execution_count": 293,
   "metadata": {},
   "outputs": [],
   "source": [
    "#Предсказания модели\n",
    "predictions_test_1 = rfr_model_1.predict(features_test)\n",
    "predictions_test_2 = rfr_model_2.predict(features_test)"
   ]
  },
  {
   "cell_type": "code",
   "execution_count": 294,
   "metadata": {},
   "outputs": [],
   "source": [
    "#Оценка моделей\n",
    "score = smape(target_1, predictions_test_1, target_2, predictions_test_2)"
   ]
  },
  {
   "cell_type": "code",
   "execution_count": 295,
   "metadata": {},
   "outputs": [
    {
     "data": {
      "text/plain": [
       "10.210046134434169"
      ]
     },
     "execution_count": 295,
     "metadata": {},
     "output_type": "execute_result"
    }
   ],
   "source": [
    "#Вывод оценки\n",
    "score"
   ]
  },
  {
   "cell_type": "markdown",
   "metadata": {},
   "source": [
    "**Вывод.** Оценка sMAPE модели случайного леса в регрессии оказалась ниже, то есть лучше, оценки константной модели. Следовательна модель корректна."
   ]
  },
  {
   "cell_type": "markdown",
   "metadata": {},
   "source": [
    "## Вывод"
   ]
  },
  {
   "cell_type": "markdown",
   "metadata": {},
   "source": [
    "Лучшей моделью оказалась модель случайного леса в регрессии (оценка sMAPE на валидационной выборке 9.723457029725257). Оценка модели в результате проверки на тестовой выборке отличается от оценки при проверке на валидационной выборке незначительно (sMAPE = 10.210046134434169). Следовательно, модель обучена и работает корректно.\n",
    "Полученная оценка константной модели оказалась выше (sMAPE = 10.994726250579427), то есть хуже, по отношению к оценкам всех моделей, а также в сравнении с оценкой лучшей модели, полученной на тестовой выборке. Следовательно, значения метрик всех рассмотренных моделей являются допустимыми, а сами модели корректными."
   ]
  }
 ],
 "metadata": {
  "ExecuteTimeLog": [
   {
    "duration": 346,
    "start_time": "2022-02-08T16:53:36.644Z"
   },
   {
    "duration": 511,
    "start_time": "2022-02-08T16:53:43.578Z"
   },
   {
    "duration": 615,
    "start_time": "2022-02-08T16:53:44.453Z"
   },
   {
    "duration": 22,
    "start_time": "2022-02-08T16:53:46.277Z"
   },
   {
    "duration": 2,
    "start_time": "2022-02-08T17:29:05.151Z"
   },
   {
    "duration": 657,
    "start_time": "2022-02-08T17:29:05.846Z"
   },
   {
    "duration": 16,
    "start_time": "2022-02-08T17:29:07.207Z"
   },
   {
    "duration": 13,
    "start_time": "2022-02-08T17:29:09.934Z"
   },
   {
    "duration": 9,
    "start_time": "2022-02-08T17:29:22.501Z"
   },
   {
    "duration": 336,
    "start_time": "2022-02-08T17:31:56.674Z"
   },
   {
    "duration": 8,
    "start_time": "2022-02-08T17:32:29.338Z"
   },
   {
    "duration": 17,
    "start_time": "2022-02-08T17:32:42.377Z"
   },
   {
    "duration": 9,
    "start_time": "2022-02-08T17:32:50.611Z"
   },
   {
    "duration": 6,
    "start_time": "2022-02-08T17:32:56.416Z"
   },
   {
    "duration": 16,
    "start_time": "2022-02-08T17:33:18.616Z"
   },
   {
    "duration": 15,
    "start_time": "2022-02-08T17:33:24.056Z"
   },
   {
    "duration": 10,
    "start_time": "2022-02-08T17:33:30.680Z"
   },
   {
    "duration": 353,
    "start_time": "2022-02-09T18:09:14.403Z"
   },
   {
    "duration": 984,
    "start_time": "2022-02-09T18:09:21.252Z"
   },
   {
    "duration": 632,
    "start_time": "2022-02-09T18:09:22.239Z"
   },
   {
    "duration": 22,
    "start_time": "2022-02-09T18:09:22.873Z"
   },
   {
    "duration": 13,
    "start_time": "2022-02-09T18:09:22.897Z"
   },
   {
    "duration": 20,
    "start_time": "2022-02-09T18:09:22.912Z"
   },
   {
    "duration": 18,
    "start_time": "2022-02-09T18:09:22.933Z"
   },
   {
    "duration": 8,
    "start_time": "2022-02-09T18:09:22.952Z"
   },
   {
    "duration": 5,
    "start_time": "2022-02-09T18:09:22.962Z"
   },
   {
    "duration": 15,
    "start_time": "2022-02-09T18:09:22.969Z"
   },
   {
    "duration": 44,
    "start_time": "2022-02-09T18:09:22.985Z"
   },
   {
    "duration": 9,
    "start_time": "2022-02-09T18:09:23.030Z"
   },
   {
    "duration": 184,
    "start_time": "2022-02-09T18:09:28.205Z"
   },
   {
    "duration": 5,
    "start_time": "2022-02-09T18:10:00.269Z"
   },
   {
    "duration": 8,
    "start_time": "2022-02-09T19:11:18.444Z"
   },
   {
    "duration": 102,
    "start_time": "2022-02-09T19:11:29.842Z"
   },
   {
    "duration": 218,
    "start_time": "2022-02-09T19:20:19.696Z"
   },
   {
    "duration": 4,
    "start_time": "2022-02-09T19:21:33.006Z"
   },
   {
    "duration": 3,
    "start_time": "2022-02-09T19:23:23.539Z"
   },
   {
    "duration": 4,
    "start_time": "2022-02-09T19:23:43.058Z"
   },
   {
    "duration": 2,
    "start_time": "2022-02-09T19:48:47.905Z"
   },
   {
    "duration": 628,
    "start_time": "2022-02-09T19:48:47.909Z"
   },
   {
    "duration": 17,
    "start_time": "2022-02-09T19:48:48.539Z"
   },
   {
    "duration": 19,
    "start_time": "2022-02-09T19:48:48.558Z"
   },
   {
    "duration": 9,
    "start_time": "2022-02-09T19:48:48.578Z"
   },
   {
    "duration": 39,
    "start_time": "2022-02-09T19:48:48.589Z"
   },
   {
    "duration": 10,
    "start_time": "2022-02-09T19:48:48.630Z"
   },
   {
    "duration": 5,
    "start_time": "2022-02-09T19:48:48.641Z"
   },
   {
    "duration": 16,
    "start_time": "2022-02-09T19:48:48.647Z"
   },
   {
    "duration": 19,
    "start_time": "2022-02-09T19:48:48.664Z"
   },
   {
    "duration": 8,
    "start_time": "2022-02-09T19:48:48.684Z"
   },
   {
    "duration": 34,
    "start_time": "2022-02-09T19:48:48.693Z"
   },
   {
    "duration": 4,
    "start_time": "2022-02-09T19:48:48.728Z"
   },
   {
    "duration": 4,
    "start_time": "2022-02-09T19:49:19.161Z"
   },
   {
    "duration": 5,
    "start_time": "2022-02-09T19:49:46.689Z"
   },
   {
    "duration": 4,
    "start_time": "2022-02-09T19:49:47.433Z"
   },
   {
    "duration": 4,
    "start_time": "2022-02-09T19:50:15.040Z"
   },
   {
    "duration": 5,
    "start_time": "2022-02-09T19:50:17.967Z"
   },
   {
    "duration": 4,
    "start_time": "2022-02-09T19:50:18.408Z"
   },
   {
    "duration": 5,
    "start_time": "2022-02-09T19:50:30.815Z"
   },
   {
    "duration": 5,
    "start_time": "2022-02-09T19:50:31.367Z"
   },
   {
    "duration": 8,
    "start_time": "2022-02-09T19:52:56.964Z"
   },
   {
    "duration": 308,
    "start_time": "2022-02-09T19:55:27.609Z"
   },
   {
    "duration": 3,
    "start_time": "2022-02-09T19:55:33.008Z"
   },
   {
    "duration": 4,
    "start_time": "2022-02-09T19:55:57.111Z"
   },
   {
    "duration": 4,
    "start_time": "2022-02-09T19:56:13.823Z"
   },
   {
    "duration": 5,
    "start_time": "2022-02-09T20:01:53.306Z"
   },
   {
    "duration": 330,
    "start_time": "2022-02-09T20:03:49.406Z"
   },
   {
    "duration": 287,
    "start_time": "2022-02-09T20:04:13.767Z"
   },
   {
    "duration": 6,
    "start_time": "2022-02-09T20:06:33.443Z"
   },
   {
    "duration": 3,
    "start_time": "2022-02-09T20:16:48.692Z"
   },
   {
    "duration": 309,
    "start_time": "2022-02-09T20:17:31.565Z"
   },
   {
    "duration": 4,
    "start_time": "2022-02-09T20:18:05.327Z"
   },
   {
    "duration": 998,
    "start_time": "2022-02-10T06:20:30.194Z"
   },
   {
    "duration": 321,
    "start_time": "2022-02-10T06:20:36.635Z"
   },
   {
    "duration": 1239,
    "start_time": "2022-02-10T06:20:42.097Z"
   },
   {
    "duration": 833,
    "start_time": "2022-02-10T06:20:43.338Z"
   },
   {
    "duration": 38,
    "start_time": "2022-02-10T06:20:44.174Z"
   },
   {
    "duration": 48,
    "start_time": "2022-02-10T06:20:44.215Z"
   },
   {
    "duration": 13,
    "start_time": "2022-02-10T06:20:44.265Z"
   },
   {
    "duration": 29,
    "start_time": "2022-02-10T06:20:44.280Z"
   },
   {
    "duration": 50,
    "start_time": "2022-02-10T06:20:44.311Z"
   },
   {
    "duration": 9,
    "start_time": "2022-02-10T06:20:44.364Z"
   },
   {
    "duration": 29,
    "start_time": "2022-02-10T06:20:44.375Z"
   },
   {
    "duration": 66,
    "start_time": "2022-02-10T06:20:44.406Z"
   },
   {
    "duration": 14,
    "start_time": "2022-02-10T06:20:44.474Z"
   },
   {
    "duration": 12,
    "start_time": "2022-02-10T06:20:44.490Z"
   },
   {
    "duration": 7,
    "start_time": "2022-02-10T06:20:44.505Z"
   },
   {
    "duration": 45,
    "start_time": "2022-02-10T06:20:44.514Z"
   },
   {
    "duration": 6,
    "start_time": "2022-02-10T06:20:44.562Z"
   },
   {
    "duration": 12,
    "start_time": "2022-02-10T06:20:44.570Z"
   },
   {
    "duration": 3,
    "start_time": "2022-02-10T09:18:18.937Z"
   },
   {
    "duration": 1493,
    "start_time": "2022-02-10T09:18:18.943Z"
   },
   {
    "duration": 47,
    "start_time": "2022-02-10T09:18:20.439Z"
   },
   {
    "duration": 24,
    "start_time": "2022-02-10T09:18:20.490Z"
   },
   {
    "duration": 12,
    "start_time": "2022-02-10T09:18:20.516Z"
   },
   {
    "duration": 31,
    "start_time": "2022-02-10T09:18:20.560Z"
   },
   {
    "duration": 14,
    "start_time": "2022-02-10T09:18:20.595Z"
   },
   {
    "duration": 9,
    "start_time": "2022-02-10T09:18:20.612Z"
   },
   {
    "duration": 66,
    "start_time": "2022-02-10T09:18:20.623Z"
   },
   {
    "duration": 29,
    "start_time": "2022-02-10T09:18:20.692Z"
   },
   {
    "duration": 48,
    "start_time": "2022-02-10T09:18:20.724Z"
   },
   {
    "duration": 7,
    "start_time": "2022-02-10T09:18:20.775Z"
   },
   {
    "duration": 8,
    "start_time": "2022-02-10T09:18:20.785Z"
   },
   {
    "duration": 7,
    "start_time": "2022-02-10T09:18:20.795Z"
   },
   {
    "duration": 56,
    "start_time": "2022-02-10T09:18:20.805Z"
   },
   {
    "duration": 6,
    "start_time": "2022-02-10T09:18:20.864Z"
   },
   {
    "duration": 9508,
    "start_time": "2022-02-10T09:18:20.875Z"
   },
   {
    "duration": 28,
    "start_time": "2022-02-10T09:20:49.710Z"
   },
   {
    "duration": 178,
    "start_time": "2022-02-10T09:21:10.277Z"
   },
   {
    "duration": 1025,
    "start_time": "2022-02-10T14:58:19.143Z"
   },
   {
    "duration": 697,
    "start_time": "2022-02-10T14:58:20.170Z"
   },
   {
    "duration": 24,
    "start_time": "2022-02-10T14:58:20.869Z"
   },
   {
    "duration": 14,
    "start_time": "2022-02-10T14:58:20.895Z"
   },
   {
    "duration": 8,
    "start_time": "2022-02-10T14:58:20.911Z"
   },
   {
    "duration": 52,
    "start_time": "2022-02-10T14:58:20.920Z"
   },
   {
    "duration": 17,
    "start_time": "2022-02-10T14:58:20.974Z"
   },
   {
    "duration": 6,
    "start_time": "2022-02-10T14:58:20.993Z"
   },
   {
    "duration": 23,
    "start_time": "2022-02-10T14:58:21.001Z"
   },
   {
    "duration": 45,
    "start_time": "2022-02-10T14:58:21.025Z"
   },
   {
    "duration": 10,
    "start_time": "2022-02-10T14:58:21.072Z"
   },
   {
    "duration": 5,
    "start_time": "2022-02-10T14:58:21.084Z"
   },
   {
    "duration": 5,
    "start_time": "2022-02-10T14:58:21.091Z"
   },
   {
    "duration": 4,
    "start_time": "2022-02-10T14:58:21.097Z"
   },
   {
    "duration": 5,
    "start_time": "2022-02-10T14:58:21.103Z"
   },
   {
    "duration": 8,
    "start_time": "2022-02-10T14:58:21.109Z"
   },
   {
    "duration": 214,
    "start_time": "2022-02-10T15:00:26.123Z"
   },
   {
    "duration": 14,
    "start_time": "2022-02-10T15:00:36.681Z"
   },
   {
    "duration": 14,
    "start_time": "2022-02-10T15:00:54.769Z"
   },
   {
    "duration": 14,
    "start_time": "2022-02-10T15:01:37.128Z"
   },
   {
    "duration": 210,
    "start_time": "2022-02-10T15:02:13.782Z"
   },
   {
    "duration": 9,
    "start_time": "2022-02-10T15:02:55.929Z"
   },
   {
    "duration": 137,
    "start_time": "2022-02-10T15:05:29.067Z"
   },
   {
    "duration": 3,
    "start_time": "2022-02-10T15:10:41.295Z"
   },
   {
    "duration": 716,
    "start_time": "2022-02-10T15:10:41.299Z"
   },
   {
    "duration": 19,
    "start_time": "2022-02-10T15:10:42.017Z"
   },
   {
    "duration": 33,
    "start_time": "2022-02-10T15:10:42.038Z"
   },
   {
    "duration": 15,
    "start_time": "2022-02-10T15:10:42.073Z"
   },
   {
    "duration": 32,
    "start_time": "2022-02-10T15:10:42.089Z"
   },
   {
    "duration": 24,
    "start_time": "2022-02-10T15:10:42.122Z"
   },
   {
    "duration": 17,
    "start_time": "2022-02-10T15:10:42.148Z"
   },
   {
    "duration": 28,
    "start_time": "2022-02-10T15:10:42.167Z"
   },
   {
    "duration": 41,
    "start_time": "2022-02-10T15:10:42.197Z"
   },
   {
    "duration": 18,
    "start_time": "2022-02-10T15:10:42.240Z"
   },
   {
    "duration": 10,
    "start_time": "2022-02-10T15:10:42.260Z"
   },
   {
    "duration": 13,
    "start_time": "2022-02-10T15:10:42.271Z"
   },
   {
    "duration": 21,
    "start_time": "2022-02-10T15:10:42.285Z"
   },
   {
    "duration": 12,
    "start_time": "2022-02-10T15:10:42.308Z"
   },
   {
    "duration": 18,
    "start_time": "2022-02-10T15:10:42.322Z"
   },
   {
    "duration": 155,
    "start_time": "2022-02-10T15:10:42.342Z"
   },
   {
    "duration": 125,
    "start_time": "2022-02-10T15:10:42.498Z"
   },
   {
    "duration": 186,
    "start_time": "2022-02-10T15:14:27.329Z"
   },
   {
    "duration": 9,
    "start_time": "2022-02-10T15:14:44.521Z"
   },
   {
    "duration": 155,
    "start_time": "2022-02-10T15:22:36.623Z"
   },
   {
    "duration": 140,
    "start_time": "2022-02-10T15:23:39.814Z"
   },
   {
    "duration": 388,
    "start_time": "2022-02-10T15:24:08.295Z"
   },
   {
    "duration": 4,
    "start_time": "2022-02-10T15:24:46.324Z"
   },
   {
    "duration": 147,
    "start_time": "2022-02-10T15:24:58.660Z"
   },
   {
    "duration": 7,
    "start_time": "2022-02-10T15:25:06.634Z"
   },
   {
    "duration": 4,
    "start_time": "2022-02-10T15:25:14.291Z"
   },
   {
    "duration": 9,
    "start_time": "2022-02-10T15:27:22.473Z"
   },
   {
    "duration": 1608,
    "start_time": "2022-02-10T15:28:17.703Z"
   },
   {
    "duration": 35,
    "start_time": "2022-02-10T15:28:49.777Z"
   },
   {
    "duration": 39,
    "start_time": "2022-02-10T15:29:00.654Z"
   },
   {
    "duration": 140,
    "start_time": "2022-02-10T15:29:52.838Z"
   },
   {
    "duration": 142,
    "start_time": "2022-02-10T15:30:52.516Z"
   },
   {
    "duration": 1796,
    "start_time": "2022-02-10T15:31:32.134Z"
   },
   {
    "duration": 131,
    "start_time": "2022-02-10T15:32:14.410Z"
   },
   {
    "duration": 37,
    "start_time": "2022-02-10T15:32:35.050Z"
   },
   {
    "duration": 137,
    "start_time": "2022-02-10T15:32:59.362Z"
   },
   {
    "duration": 137,
    "start_time": "2022-02-10T15:33:35.809Z"
   },
   {
    "duration": 5,
    "start_time": "2022-02-10T15:34:23.488Z"
   },
   {
    "duration": 12,
    "start_time": "2022-02-10T15:51:43.987Z"
   },
   {
    "duration": 63,
    "start_time": "2022-02-10T15:52:02.713Z"
   },
   {
    "duration": 6,
    "start_time": "2022-02-10T15:52:14.741Z"
   },
   {
    "duration": 117,
    "start_time": "2022-02-10T16:01:05.242Z"
   },
   {
    "duration": 5,
    "start_time": "2022-02-10T16:03:47.261Z"
   },
   {
    "duration": 7,
    "start_time": "2022-02-10T16:06:13.483Z"
   },
   {
    "duration": 8,
    "start_time": "2022-02-10T16:09:08.574Z"
   },
   {
    "duration": 7,
    "start_time": "2022-02-10T16:09:20.687Z"
   },
   {
    "duration": 9,
    "start_time": "2022-02-10T16:12:27.290Z"
   },
   {
    "duration": 3,
    "start_time": "2022-02-10T16:13:12.957Z"
   },
   {
    "duration": 735,
    "start_time": "2022-02-10T16:13:12.962Z"
   },
   {
    "duration": 20,
    "start_time": "2022-02-10T16:13:13.699Z"
   },
   {
    "duration": 26,
    "start_time": "2022-02-10T16:13:13.721Z"
   },
   {
    "duration": 18,
    "start_time": "2022-02-10T16:13:13.749Z"
   },
   {
    "duration": 30,
    "start_time": "2022-02-10T16:13:13.769Z"
   },
   {
    "duration": 23,
    "start_time": "2022-02-10T16:13:13.801Z"
   },
   {
    "duration": 17,
    "start_time": "2022-02-10T16:13:13.826Z"
   },
   {
    "duration": 48,
    "start_time": "2022-02-10T16:13:13.845Z"
   },
   {
    "duration": 20,
    "start_time": "2022-02-10T16:13:13.894Z"
   },
   {
    "duration": 22,
    "start_time": "2022-02-10T16:13:13.916Z"
   },
   {
    "duration": 6,
    "start_time": "2022-02-10T16:13:13.939Z"
   },
   {
    "duration": 20,
    "start_time": "2022-02-10T16:13:13.947Z"
   },
   {
    "duration": 14,
    "start_time": "2022-02-10T16:13:13.968Z"
   },
   {
    "duration": 21,
    "start_time": "2022-02-10T16:13:13.983Z"
   },
   {
    "duration": 24,
    "start_time": "2022-02-10T16:13:14.006Z"
   },
   {
    "duration": 120,
    "start_time": "2022-02-10T16:13:14.032Z"
   },
   {
    "duration": 8,
    "start_time": "2022-02-10T16:13:25.887Z"
   },
   {
    "duration": 111,
    "start_time": "2022-02-10T16:13:47.809Z"
   },
   {
    "duration": 9,
    "start_time": "2022-02-10T16:22:35.005Z"
   },
   {
    "duration": 4,
    "start_time": "2022-02-10T16:22:42.340Z"
   },
   {
    "duration": 45,
    "start_time": "2022-02-10T16:25:00.307Z"
   },
   {
    "duration": 46,
    "start_time": "2022-02-10T16:25:13.090Z"
   },
   {
    "duration": 7,
    "start_time": "2022-02-10T16:25:28.593Z"
   },
   {
    "duration": 48,
    "start_time": "2022-02-10T16:25:41.898Z"
   },
   {
    "duration": 7,
    "start_time": "2022-02-10T16:25:56.088Z"
   },
   {
    "duration": 156,
    "start_time": "2022-02-10T16:26:35.880Z"
   },
   {
    "duration": 253,
    "start_time": "2022-02-10T16:28:27.590Z"
   },
   {
    "duration": 157,
    "start_time": "2022-02-10T16:29:53.221Z"
   },
   {
    "duration": 56,
    "start_time": "2022-02-10T16:31:12.387Z"
   },
   {
    "duration": 154,
    "start_time": "2022-02-10T16:32:09.313Z"
   },
   {
    "duration": 2,
    "start_time": "2022-02-10T16:32:41.158Z"
   },
   {
    "duration": 713,
    "start_time": "2022-02-10T16:32:41.162Z"
   },
   {
    "duration": 19,
    "start_time": "2022-02-10T16:32:41.878Z"
   },
   {
    "duration": 18,
    "start_time": "2022-02-10T16:32:41.899Z"
   },
   {
    "duration": 8,
    "start_time": "2022-02-10T16:32:41.919Z"
   },
   {
    "duration": 46,
    "start_time": "2022-02-10T16:32:41.929Z"
   },
   {
    "duration": 11,
    "start_time": "2022-02-10T16:32:41.977Z"
   },
   {
    "duration": 6,
    "start_time": "2022-02-10T16:32:41.990Z"
   },
   {
    "duration": 19,
    "start_time": "2022-02-10T16:32:41.998Z"
   },
   {
    "duration": 49,
    "start_time": "2022-02-10T16:32:42.019Z"
   },
   {
    "duration": 10,
    "start_time": "2022-02-10T16:32:42.070Z"
   },
   {
    "duration": 4,
    "start_time": "2022-02-10T16:32:42.082Z"
   },
   {
    "duration": 6,
    "start_time": "2022-02-10T16:32:42.088Z"
   },
   {
    "duration": 5,
    "start_time": "2022-02-10T16:32:42.096Z"
   },
   {
    "duration": 6,
    "start_time": "2022-02-10T16:32:42.103Z"
   },
   {
    "duration": 8,
    "start_time": "2022-02-10T16:32:42.110Z"
   },
   {
    "duration": 114,
    "start_time": "2022-02-10T16:32:42.160Z"
   },
   {
    "duration": 2436,
    "start_time": "2022-02-10T16:32:49.745Z"
   },
   {
    "duration": 4,
    "start_time": "2022-02-10T16:33:28.888Z"
   },
   {
    "duration": 116,
    "start_time": "2022-02-10T16:33:43.159Z"
   },
   {
    "duration": 108,
    "start_time": "2022-02-10T16:33:48.359Z"
   },
   {
    "duration": 5,
    "start_time": "2022-02-10T16:34:05.119Z"
   },
   {
    "duration": 114,
    "start_time": "2022-02-10T16:34:10.023Z"
   },
   {
    "duration": 43,
    "start_time": "2022-02-10T16:40:47.542Z"
   },
   {
    "duration": 148,
    "start_time": "2022-02-10T16:41:47.165Z"
   },
   {
    "duration": 5,
    "start_time": "2022-02-10T17:04:31.896Z"
   },
   {
    "duration": 3,
    "start_time": "2022-02-10T17:05:13.947Z"
   },
   {
    "duration": 682,
    "start_time": "2022-02-10T17:05:13.952Z"
   },
   {
    "duration": 24,
    "start_time": "2022-02-10T17:05:14.636Z"
   },
   {
    "duration": 15,
    "start_time": "2022-02-10T17:05:14.662Z"
   },
   {
    "duration": 9,
    "start_time": "2022-02-10T17:05:14.678Z"
   },
   {
    "duration": 18,
    "start_time": "2022-02-10T17:05:14.688Z"
   },
   {
    "duration": 10,
    "start_time": "2022-02-10T17:05:14.709Z"
   },
   {
    "duration": 42,
    "start_time": "2022-02-10T17:05:14.721Z"
   },
   {
    "duration": 19,
    "start_time": "2022-02-10T17:05:14.765Z"
   },
   {
    "duration": 19,
    "start_time": "2022-02-10T17:05:14.785Z"
   },
   {
    "duration": 9,
    "start_time": "2022-02-10T17:05:14.806Z"
   },
   {
    "duration": 4,
    "start_time": "2022-02-10T17:05:14.816Z"
   },
   {
    "duration": 5,
    "start_time": "2022-02-10T17:05:14.859Z"
   },
   {
    "duration": 5,
    "start_time": "2022-02-10T17:05:14.865Z"
   },
   {
    "duration": 9,
    "start_time": "2022-02-10T17:05:14.871Z"
   },
   {
    "duration": 8,
    "start_time": "2022-02-10T17:05:14.881Z"
   },
   {
    "duration": 108,
    "start_time": "2022-02-10T17:05:18.471Z"
   },
   {
    "duration": 5,
    "start_time": "2022-02-10T17:06:22.685Z"
   },
   {
    "duration": 5,
    "start_time": "2022-02-10T17:06:38.581Z"
   },
   {
    "duration": 109,
    "start_time": "2022-02-10T17:07:02.534Z"
   },
   {
    "duration": 6,
    "start_time": "2022-02-10T17:09:17.018Z"
   },
   {
    "duration": 113,
    "start_time": "2022-02-10T17:09:20.011Z"
   },
   {
    "duration": 134,
    "start_time": "2022-02-10T17:30:42.879Z"
   },
   {
    "duration": 132,
    "start_time": "2022-02-10T17:30:52.318Z"
   },
   {
    "duration": 8,
    "start_time": "2022-02-10T17:31:26.609Z"
   },
   {
    "duration": 3,
    "start_time": "2022-02-10T17:31:51.618Z"
   },
   {
    "duration": 721,
    "start_time": "2022-02-10T17:31:51.623Z"
   },
   {
    "duration": 30,
    "start_time": "2022-02-10T17:31:52.346Z"
   },
   {
    "duration": 15,
    "start_time": "2022-02-10T17:31:52.378Z"
   },
   {
    "duration": 9,
    "start_time": "2022-02-10T17:31:52.394Z"
   },
   {
    "duration": 19,
    "start_time": "2022-02-10T17:31:52.405Z"
   },
   {
    "duration": 45,
    "start_time": "2022-02-10T17:31:52.425Z"
   },
   {
    "duration": 6,
    "start_time": "2022-02-10T17:31:52.472Z"
   },
   {
    "duration": 22,
    "start_time": "2022-02-10T17:31:52.480Z"
   },
   {
    "duration": 18,
    "start_time": "2022-02-10T17:31:52.504Z"
   },
   {
    "duration": 43,
    "start_time": "2022-02-10T17:31:52.524Z"
   },
   {
    "duration": 4,
    "start_time": "2022-02-10T17:31:52.568Z"
   },
   {
    "duration": 10,
    "start_time": "2022-02-10T17:31:52.573Z"
   },
   {
    "duration": 6,
    "start_time": "2022-02-10T17:31:52.585Z"
   },
   {
    "duration": 9,
    "start_time": "2022-02-10T17:31:52.592Z"
   },
   {
    "duration": 13,
    "start_time": "2022-02-10T17:31:52.602Z"
   },
   {
    "duration": 8,
    "start_time": "2022-02-10T17:31:55.452Z"
   },
   {
    "duration": 9,
    "start_time": "2022-02-10T17:39:46.652Z"
   },
   {
    "duration": 133,
    "start_time": "2022-02-10T17:40:28.830Z"
   },
   {
    "duration": 4,
    "start_time": "2022-02-10T17:40:36.805Z"
   },
   {
    "duration": 113,
    "start_time": "2022-02-10T19:27:18.689Z"
   },
   {
    "duration": 2,
    "start_time": "2022-02-10T19:31:13.913Z"
   },
   {
    "duration": 716,
    "start_time": "2022-02-10T19:31:13.917Z"
   },
   {
    "duration": 26,
    "start_time": "2022-02-10T19:31:14.635Z"
   },
   {
    "duration": 36,
    "start_time": "2022-02-10T19:31:14.662Z"
   },
   {
    "duration": 13,
    "start_time": "2022-02-10T19:31:14.700Z"
   },
   {
    "duration": 35,
    "start_time": "2022-02-10T19:31:14.715Z"
   },
   {
    "duration": 32,
    "start_time": "2022-02-10T19:31:14.752Z"
   },
   {
    "duration": 21,
    "start_time": "2022-02-10T19:31:14.786Z"
   },
   {
    "duration": 45,
    "start_time": "2022-02-10T19:31:14.809Z"
   },
   {
    "duration": 48,
    "start_time": "2022-02-10T19:31:14.856Z"
   },
   {
    "duration": 11,
    "start_time": "2022-02-10T19:31:14.906Z"
   },
   {
    "duration": 4,
    "start_time": "2022-02-10T19:31:14.919Z"
   },
   {
    "duration": 8,
    "start_time": "2022-02-10T19:31:14.924Z"
   },
   {
    "duration": 4,
    "start_time": "2022-02-10T19:31:14.934Z"
   },
   {
    "duration": 6,
    "start_time": "2022-02-10T19:31:14.939Z"
   },
   {
    "duration": 17,
    "start_time": "2022-02-10T19:31:14.946Z"
   },
   {
    "duration": 109,
    "start_time": "2022-02-10T19:31:38.268Z"
   },
   {
    "duration": 106,
    "start_time": "2022-02-10T19:32:04.266Z"
   },
   {
    "duration": 3,
    "start_time": "2022-02-10T19:32:45.259Z"
   },
   {
    "duration": 110,
    "start_time": "2022-02-10T19:32:53.914Z"
   },
   {
    "duration": 5,
    "start_time": "2022-02-10T19:34:49.711Z"
   },
   {
    "duration": 11,
    "start_time": "2022-02-10T19:40:43.231Z"
   },
   {
    "duration": 8,
    "start_time": "2022-02-10T19:43:42.726Z"
   },
   {
    "duration": 9,
    "start_time": "2022-02-10T19:43:58.341Z"
   },
   {
    "duration": 7,
    "start_time": "2022-02-10T19:45:53.600Z"
   },
   {
    "duration": 11,
    "start_time": "2022-02-10T19:46:27.442Z"
   },
   {
    "duration": 7,
    "start_time": "2022-02-10T19:47:29.023Z"
   },
   {
    "duration": 1380,
    "start_time": "2022-02-10T20:10:25.836Z"
   },
   {
    "duration": 1734,
    "start_time": "2022-02-10T20:11:05.305Z"
   },
   {
    "duration": 7714,
    "start_time": "2022-02-10T20:23:49.289Z"
   },
   {
    "duration": 14,
    "start_time": "2022-02-10T20:25:04.725Z"
   },
   {
    "duration": 378,
    "start_time": "2022-02-11T06:20:10.313Z"
   },
   {
    "duration": 1256,
    "start_time": "2022-02-11T06:20:17.347Z"
   },
   {
    "duration": 852,
    "start_time": "2022-02-11T06:20:18.606Z"
   },
   {
    "duration": 42,
    "start_time": "2022-02-11T06:20:19.462Z"
   },
   {
    "duration": 41,
    "start_time": "2022-02-11T06:20:19.507Z"
   },
   {
    "duration": 13,
    "start_time": "2022-02-11T06:20:19.550Z"
   },
   {
    "duration": 66,
    "start_time": "2022-02-11T06:20:19.566Z"
   },
   {
    "duration": 16,
    "start_time": "2022-02-11T06:20:19.635Z"
   },
   {
    "duration": 8,
    "start_time": "2022-02-11T06:20:19.655Z"
   },
   {
    "duration": 75,
    "start_time": "2022-02-11T06:20:19.666Z"
   },
   {
    "duration": 30,
    "start_time": "2022-02-11T06:20:19.743Z"
   },
   {
    "duration": 14,
    "start_time": "2022-02-11T06:20:19.775Z"
   },
   {
    "duration": 43,
    "start_time": "2022-02-11T06:20:19.791Z"
   },
   {
    "duration": 6,
    "start_time": "2022-02-11T06:20:19.836Z"
   },
   {
    "duration": 6,
    "start_time": "2022-02-11T06:20:19.845Z"
   },
   {
    "duration": 9,
    "start_time": "2022-02-11T06:20:19.853Z"
   },
   {
    "duration": 13,
    "start_time": "2022-02-11T06:20:19.864Z"
   },
   {
    "duration": 13,
    "start_time": "2022-02-11T06:20:19.931Z"
   },
   {
    "duration": 8,
    "start_time": "2022-02-11T06:20:19.947Z"
   },
   {
    "duration": 12,
    "start_time": "2022-02-11T06:20:19.957Z"
   },
   {
    "duration": 5,
    "start_time": "2022-02-11T06:20:30.600Z"
   },
   {
    "duration": 23,
    "start_time": "2022-02-11T10:24:25.325Z"
   },
   {
    "duration": 8,
    "start_time": "2022-02-11T10:30:06.631Z"
   },
   {
    "duration": 4,
    "start_time": "2022-02-11T10:30:10.570Z"
   },
   {
    "duration": 819,
    "start_time": "2022-02-11T10:30:10.577Z"
   },
   {
    "duration": 39,
    "start_time": "2022-02-11T10:30:11.399Z"
   },
   {
    "duration": 24,
    "start_time": "2022-02-11T10:30:11.441Z"
   },
   {
    "duration": 13,
    "start_time": "2022-02-11T10:30:11.467Z"
   },
   {
    "duration": 68,
    "start_time": "2022-02-11T10:30:11.483Z"
   },
   {
    "duration": 15,
    "start_time": "2022-02-11T10:30:11.554Z"
   },
   {
    "duration": 18,
    "start_time": "2022-02-11T10:30:11.573Z"
   },
   {
    "duration": 52,
    "start_time": "2022-02-11T10:30:11.594Z"
   },
   {
    "duration": 34,
    "start_time": "2022-02-11T10:30:11.649Z"
   },
   {
    "duration": 16,
    "start_time": "2022-02-11T10:30:11.685Z"
   },
   {
    "duration": 29,
    "start_time": "2022-02-11T10:30:11.703Z"
   },
   {
    "duration": 20,
    "start_time": "2022-02-11T10:30:11.735Z"
   },
   {
    "duration": 8,
    "start_time": "2022-02-11T10:30:11.757Z"
   },
   {
    "duration": 10,
    "start_time": "2022-02-11T10:30:11.767Z"
   },
   {
    "duration": 16,
    "start_time": "2022-02-11T10:30:11.779Z"
   },
   {
    "duration": 22,
    "start_time": "2022-02-11T10:30:11.797Z"
   },
   {
    "duration": 16,
    "start_time": "2022-02-11T10:30:11.821Z"
   },
   {
    "duration": 13,
    "start_time": "2022-02-11T10:30:11.840Z"
   },
   {
    "duration": 23,
    "start_time": "2022-02-11T10:30:11.856Z"
   },
   {
    "duration": 8,
    "start_time": "2022-02-11T10:30:11.882Z"
   },
   {
    "duration": 281,
    "start_time": "2022-02-11T10:54:24.008Z"
   },
   {
    "duration": 145,
    "start_time": "2022-02-11T10:54:47.959Z"
   },
   {
    "duration": 4,
    "start_time": "2022-02-11T10:54:59.726Z"
   },
   {
    "duration": 135,
    "start_time": "2022-02-11T10:55:21.277Z"
   },
   {
    "duration": 9,
    "start_time": "2022-02-11T10:55:51.405Z"
   },
   {
    "duration": 4,
    "start_time": "2022-02-11T10:55:54.277Z"
   },
   {
    "duration": 4,
    "start_time": "2022-02-11T10:56:17.852Z"
   },
   {
    "duration": 6,
    "start_time": "2022-02-11T10:58:08.563Z"
   },
   {
    "duration": 4,
    "start_time": "2022-02-11T10:59:54.471Z"
   },
   {
    "duration": 417,
    "start_time": "2022-02-12T14:45:40.261Z"
   },
   {
    "duration": 1349,
    "start_time": "2022-02-12T14:45:45.601Z"
   },
   {
    "duration": 862,
    "start_time": "2022-02-12T14:45:46.952Z"
   },
   {
    "duration": 54,
    "start_time": "2022-02-12T14:45:47.817Z"
   },
   {
    "duration": 25,
    "start_time": "2022-02-12T14:45:47.874Z"
   },
   {
    "duration": 14,
    "start_time": "2022-02-12T14:45:47.901Z"
   },
   {
    "duration": 69,
    "start_time": "2022-02-12T14:45:47.917Z"
   },
   {
    "duration": 16,
    "start_time": "2022-02-12T14:45:47.989Z"
   },
   {
    "duration": 11,
    "start_time": "2022-02-12T14:45:48.010Z"
   },
   {
    "duration": 37,
    "start_time": "2022-02-12T14:45:48.069Z"
   },
   {
    "duration": 66,
    "start_time": "2022-02-12T14:45:48.108Z"
   },
   {
    "duration": 16,
    "start_time": "2022-02-12T14:45:48.176Z"
   },
   {
    "duration": 13,
    "start_time": "2022-02-12T14:45:48.194Z"
   },
   {
    "duration": 8,
    "start_time": "2022-02-12T14:45:48.210Z"
   },
   {
    "duration": 50,
    "start_time": "2022-02-12T14:45:48.221Z"
   },
   {
    "duration": 7,
    "start_time": "2022-02-12T14:45:48.274Z"
   },
   {
    "duration": 18,
    "start_time": "2022-02-12T14:45:48.284Z"
   },
   {
    "duration": 65,
    "start_time": "2022-02-12T14:45:48.305Z"
   },
   {
    "duration": 20,
    "start_time": "2022-02-12T14:45:48.373Z"
   },
   {
    "duration": 7675,
    "start_time": "2022-02-12T14:45:48.396Z"
   },
   {
    "duration": -159,
    "start_time": "2022-02-12T14:45:56.233Z"
   },
   {
    "duration": -163,
    "start_time": "2022-02-12T14:45:56.239Z"
   },
   {
    "duration": -165,
    "start_time": "2022-02-12T14:45:56.243Z"
   },
   {
    "duration": -167,
    "start_time": "2022-02-12T14:45:56.246Z"
   },
   {
    "duration": 3,
    "start_time": "2022-02-12T14:46:11.288Z"
   },
   {
    "duration": 855,
    "start_time": "2022-02-12T14:46:11.294Z"
   },
   {
    "duration": 51,
    "start_time": "2022-02-12T14:46:12.152Z"
   },
   {
    "duration": 30,
    "start_time": "2022-02-12T14:46:12.206Z"
   },
   {
    "duration": 34,
    "start_time": "2022-02-12T14:46:12.238Z"
   },
   {
    "duration": 44,
    "start_time": "2022-02-12T14:46:12.274Z"
   },
   {
    "duration": 31,
    "start_time": "2022-02-12T14:46:12.320Z"
   },
   {
    "duration": 21,
    "start_time": "2022-02-12T14:46:12.355Z"
   },
   {
    "duration": 43,
    "start_time": "2022-02-12T14:46:12.379Z"
   },
   {
    "duration": 59,
    "start_time": "2022-02-12T14:46:12.425Z"
   },
   {
    "duration": 19,
    "start_time": "2022-02-12T14:46:12.487Z"
   },
   {
    "duration": 21,
    "start_time": "2022-02-12T14:46:12.509Z"
   },
   {
    "duration": 37,
    "start_time": "2022-02-12T14:46:12.533Z"
   },
   {
    "duration": 12,
    "start_time": "2022-02-12T14:46:12.573Z"
   },
   {
    "duration": 8,
    "start_time": "2022-02-12T14:46:12.588Z"
   },
   {
    "duration": 22,
    "start_time": "2022-02-12T14:46:12.599Z"
   },
   {
    "duration": 48,
    "start_time": "2022-02-12T14:46:12.623Z"
   },
   {
    "duration": 25,
    "start_time": "2022-02-12T14:46:12.674Z"
   },
   {
    "duration": 13,
    "start_time": "2022-02-12T14:46:12.703Z"
   },
   {
    "duration": 322,
    "start_time": "2022-02-12T14:46:12.718Z"
   },
   {
    "duration": -149,
    "start_time": "2022-02-12T14:46:13.192Z"
   },
   {
    "duration": -154,
    "start_time": "2022-02-12T14:46:13.198Z"
   },
   {
    "duration": -156,
    "start_time": "2022-02-12T14:46:13.201Z"
   },
   {
    "duration": 3,
    "start_time": "2022-02-12T14:46:18.400Z"
   },
   {
    "duration": 850,
    "start_time": "2022-02-12T14:46:18.406Z"
   },
   {
    "duration": 36,
    "start_time": "2022-02-12T14:46:19.259Z"
   },
   {
    "duration": 32,
    "start_time": "2022-02-12T14:46:19.298Z"
   },
   {
    "duration": 45,
    "start_time": "2022-02-12T14:46:19.333Z"
   },
   {
    "duration": 33,
    "start_time": "2022-02-12T14:46:19.380Z"
   },
   {
    "duration": 63,
    "start_time": "2022-02-12T14:46:19.416Z"
   },
   {
    "duration": 12,
    "start_time": "2022-02-12T14:46:19.485Z"
   },
   {
    "duration": 71,
    "start_time": "2022-02-12T14:46:19.502Z"
   },
   {
    "duration": 49,
    "start_time": "2022-02-12T14:46:19.577Z"
   },
   {
    "duration": 46,
    "start_time": "2022-02-12T14:46:19.629Z"
   },
   {
    "duration": 9,
    "start_time": "2022-02-12T14:46:19.679Z"
   },
   {
    "duration": 20,
    "start_time": "2022-02-12T14:46:19.691Z"
   },
   {
    "duration": 11,
    "start_time": "2022-02-12T14:46:19.714Z"
   },
   {
    "duration": 41,
    "start_time": "2022-02-12T14:46:19.728Z"
   },
   {
    "duration": 10,
    "start_time": "2022-02-12T14:46:19.772Z"
   },
   {
    "duration": 14,
    "start_time": "2022-02-12T14:46:19.785Z"
   },
   {
    "duration": 41,
    "start_time": "2022-02-12T14:46:19.801Z"
   },
   {
    "duration": 13,
    "start_time": "2022-02-12T14:46:19.871Z"
   },
   {
    "duration": 303,
    "start_time": "2022-02-12T14:46:19.887Z"
   },
   {
    "duration": -143,
    "start_time": "2022-02-12T14:46:20.336Z"
   },
   {
    "duration": -153,
    "start_time": "2022-02-12T14:46:20.348Z"
   },
   {
    "duration": -154,
    "start_time": "2022-02-12T14:46:20.351Z"
   },
   {
    "duration": 4,
    "start_time": "2022-02-12T14:46:38.150Z"
   },
   {
    "duration": 852,
    "start_time": "2022-02-12T14:46:38.158Z"
   },
   {
    "duration": 36,
    "start_time": "2022-02-12T14:46:39.014Z"
   },
   {
    "duration": 37,
    "start_time": "2022-02-12T14:46:39.053Z"
   },
   {
    "duration": 12,
    "start_time": "2022-02-12T14:46:39.093Z"
   },
   {
    "duration": 69,
    "start_time": "2022-02-12T14:46:39.108Z"
   },
   {
    "duration": 20,
    "start_time": "2022-02-12T14:46:39.180Z"
   },
   {
    "duration": 12,
    "start_time": "2022-02-12T14:46:39.205Z"
   },
   {
    "duration": 77,
    "start_time": "2022-02-12T14:46:39.220Z"
   },
   {
    "duration": 32,
    "start_time": "2022-02-12T14:46:39.300Z"
   },
   {
    "duration": 49,
    "start_time": "2022-02-12T14:46:39.335Z"
   },
   {
    "duration": 8,
    "start_time": "2022-02-12T14:46:39.387Z"
   },
   {
    "duration": 10,
    "start_time": "2022-02-12T14:46:39.398Z"
   },
   {
    "duration": 60,
    "start_time": "2022-02-12T14:46:39.411Z"
   },
   {
    "duration": 11,
    "start_time": "2022-02-12T14:46:39.473Z"
   },
   {
    "duration": 12,
    "start_time": "2022-02-12T14:46:39.487Z"
   },
   {
    "duration": 12,
    "start_time": "2022-02-12T14:46:39.502Z"
   },
   {
    "duration": 67,
    "start_time": "2022-02-12T14:46:39.517Z"
   },
   {
    "duration": 11,
    "start_time": "2022-02-12T14:46:39.587Z"
   },
   {
    "duration": 4,
    "start_time": "2022-02-12T14:46:48.549Z"
   },
   {
    "duration": 851,
    "start_time": "2022-02-12T14:46:48.566Z"
   },
   {
    "duration": 30,
    "start_time": "2022-02-12T14:46:49.421Z"
   },
   {
    "duration": 27,
    "start_time": "2022-02-12T14:46:49.469Z"
   },
   {
    "duration": 13,
    "start_time": "2022-02-12T14:46:49.498Z"
   },
   {
    "duration": 64,
    "start_time": "2022-02-12T14:46:49.513Z"
   },
   {
    "duration": 15,
    "start_time": "2022-02-12T14:46:49.580Z"
   },
   {
    "duration": 10,
    "start_time": "2022-02-12T14:46:49.598Z"
   },
   {
    "duration": 84,
    "start_time": "2022-02-12T14:46:49.611Z"
   },
   {
    "duration": 24,
    "start_time": "2022-02-12T14:46:49.698Z"
   },
   {
    "duration": 46,
    "start_time": "2022-02-12T14:46:49.725Z"
   },
   {
    "duration": 7,
    "start_time": "2022-02-12T14:46:49.774Z"
   },
   {
    "duration": 12,
    "start_time": "2022-02-12T14:46:49.783Z"
   },
   {
    "duration": 24,
    "start_time": "2022-02-12T14:46:49.798Z"
   },
   {
    "duration": 10,
    "start_time": "2022-02-12T14:46:49.824Z"
   },
   {
    "duration": 42,
    "start_time": "2022-02-12T14:46:49.836Z"
   },
   {
    "duration": 30,
    "start_time": "2022-02-12T14:46:49.880Z"
   },
   {
    "duration": 25,
    "start_time": "2022-02-12T14:46:49.912Z"
   },
   {
    "duration": 17,
    "start_time": "2022-02-12T14:46:49.940Z"
   },
   {
    "duration": 28,
    "start_time": "2022-02-12T14:46:49.959Z"
   },
   {
    "duration": 307,
    "start_time": "2022-02-12T14:46:49.990Z"
   },
   {
    "duration": -140,
    "start_time": "2022-02-12T14:46:50.440Z"
   },
   {
    "duration": -147,
    "start_time": "2022-02-12T14:46:50.448Z"
   },
   {
    "duration": 4,
    "start_time": "2022-02-12T14:47:12.126Z"
   },
   {
    "duration": 878,
    "start_time": "2022-02-12T14:47:12.134Z"
   },
   {
    "duration": 32,
    "start_time": "2022-02-12T14:47:13.016Z"
   },
   {
    "duration": 27,
    "start_time": "2022-02-12T14:47:13.069Z"
   },
   {
    "duration": 20,
    "start_time": "2022-02-12T14:47:13.099Z"
   },
   {
    "duration": 61,
    "start_time": "2022-02-12T14:47:13.123Z"
   },
   {
    "duration": 17,
    "start_time": "2022-02-12T14:47:13.187Z"
   },
   {
    "duration": 11,
    "start_time": "2022-02-12T14:47:13.209Z"
   },
   {
    "duration": 79,
    "start_time": "2022-02-12T14:47:13.224Z"
   },
   {
    "duration": 47,
    "start_time": "2022-02-12T14:47:13.306Z"
   },
   {
    "duration": 29,
    "start_time": "2022-02-12T14:47:13.355Z"
   },
   {
    "duration": 8,
    "start_time": "2022-02-12T14:47:13.387Z"
   },
   {
    "duration": 18,
    "start_time": "2022-02-12T14:47:13.397Z"
   },
   {
    "duration": 53,
    "start_time": "2022-02-12T14:47:13.417Z"
   },
   {
    "duration": 5,
    "start_time": "2022-02-12T14:47:13.473Z"
   },
   {
    "duration": 15,
    "start_time": "2022-02-12T14:47:13.481Z"
   },
   {
    "duration": 30,
    "start_time": "2022-02-12T14:47:13.499Z"
   },
   {
    "duration": 56,
    "start_time": "2022-02-12T14:47:13.531Z"
   },
   {
    "duration": 10,
    "start_time": "2022-02-12T14:47:13.589Z"
   },
   {
    "duration": 16,
    "start_time": "2022-02-12T14:47:13.602Z"
   },
   {
    "duration": 23,
    "start_time": "2022-02-12T14:47:13.620Z"
   },
   {
    "duration": 36,
    "start_time": "2022-02-12T14:47:13.646Z"
   },
   {
    "duration": 29,
    "start_time": "2022-02-12T14:47:13.686Z"
   },
   {
    "duration": 301,
    "start_time": "2022-02-12T14:47:16.754Z"
   },
   {
    "duration": 3,
    "start_time": "2022-02-12T14:47:24.518Z"
   },
   {
    "duration": 852,
    "start_time": "2022-02-12T14:47:24.524Z"
   },
   {
    "duration": 33,
    "start_time": "2022-02-12T14:47:25.379Z"
   },
   {
    "duration": 60,
    "start_time": "2022-02-12T14:47:25.414Z"
   },
   {
    "duration": 16,
    "start_time": "2022-02-12T14:47:25.477Z"
   },
   {
    "duration": 72,
    "start_time": "2022-02-12T14:47:25.496Z"
   },
   {
    "duration": 24,
    "start_time": "2022-02-12T14:47:25.572Z"
   },
   {
    "duration": 12,
    "start_time": "2022-02-12T14:47:25.601Z"
   },
   {
    "duration": 78,
    "start_time": "2022-02-12T14:47:25.617Z"
   },
   {
    "duration": 27,
    "start_time": "2022-02-12T14:47:25.697Z"
   },
   {
    "duration": 46,
    "start_time": "2022-02-12T14:47:25.727Z"
   },
   {
    "duration": 8,
    "start_time": "2022-02-12T14:47:25.776Z"
   },
   {
    "duration": 13,
    "start_time": "2022-02-12T14:47:25.787Z"
   },
   {
    "duration": 7,
    "start_time": "2022-02-12T14:47:25.803Z"
   },
   {
    "duration": 7,
    "start_time": "2022-02-12T14:47:25.813Z"
   },
   {
    "duration": 11,
    "start_time": "2022-02-12T14:47:25.870Z"
   },
   {
    "duration": 8,
    "start_time": "2022-02-12T14:47:25.884Z"
   },
   {
    "duration": 20,
    "start_time": "2022-02-12T14:47:25.895Z"
   },
   {
    "duration": 10,
    "start_time": "2022-02-12T14:47:25.971Z"
   },
   {
    "duration": 5,
    "start_time": "2022-02-12T14:47:25.984Z"
   },
   {
    "duration": 9,
    "start_time": "2022-02-12T14:47:25.991Z"
   },
   {
    "duration": 5,
    "start_time": "2022-02-12T14:47:26.003Z"
   },
   {
    "duration": 3,
    "start_time": "2022-02-12T14:47:26.013Z"
   },
   {
    "duration": 4,
    "start_time": "2022-02-12T14:47:33.375Z"
   },
   {
    "duration": 338,
    "start_time": "2022-02-12T14:47:45.368Z"
   },
   {
    "duration": 7,
    "start_time": "2022-02-12T14:48:00.952Z"
   },
   {
    "duration": 316,
    "start_time": "2022-02-12T14:48:17.903Z"
   },
   {
    "duration": 300,
    "start_time": "2022-02-12T14:48:30.462Z"
   },
   {
    "duration": 308,
    "start_time": "2022-02-12T14:48:37.006Z"
   },
   {
    "duration": 4,
    "start_time": "2022-02-12T14:48:49.663Z"
   },
   {
    "duration": 292,
    "start_time": "2022-02-12T14:48:51.518Z"
   },
   {
    "duration": 306,
    "start_time": "2022-02-12T14:49:05.182Z"
   },
   {
    "duration": 4,
    "start_time": "2022-02-12T14:50:06.292Z"
   },
   {
    "duration": 4,
    "start_time": "2022-02-12T14:50:11.908Z"
   },
   {
    "duration": 8,
    "start_time": "2022-02-12T14:50:20.756Z"
   },
   {
    "duration": 6,
    "start_time": "2022-02-12T14:50:38.436Z"
   },
   {
    "duration": 4,
    "start_time": "2022-02-12T14:50:53.068Z"
   },
   {
    "duration": 6,
    "start_time": "2022-02-12T14:50:53.996Z"
   },
   {
    "duration": 7,
    "start_time": "2022-02-12T14:51:30.499Z"
   },
   {
    "duration": 4,
    "start_time": "2022-02-12T14:52:46.577Z"
   },
   {
    "duration": 6,
    "start_time": "2022-02-12T14:52:47.041Z"
   },
   {
    "duration": 5,
    "start_time": "2022-02-12T14:52:56.497Z"
   },
   {
    "duration": 11,
    "start_time": "2022-02-12T15:01:30.110Z"
   },
   {
    "duration": 311,
    "start_time": "2022-02-12T15:01:32.662Z"
   },
   {
    "duration": 4,
    "start_time": "2022-02-12T15:02:16.197Z"
   },
   {
    "duration": 362,
    "start_time": "2022-02-12T15:02:18.661Z"
   },
   {
    "duration": 14,
    "start_time": "2022-02-12T15:03:22.820Z"
   },
   {
    "duration": 5,
    "start_time": "2022-02-12T15:03:23.859Z"
   },
   {
    "duration": 197,
    "start_time": "2022-02-12T15:03:26.235Z"
   },
   {
    "duration": 11,
    "start_time": "2022-02-12T15:03:57.553Z"
   },
   {
    "duration": 4,
    "start_time": "2022-02-12T15:03:57.571Z"
   },
   {
    "duration": 6,
    "start_time": "2022-02-12T15:03:59.258Z"
   },
   {
    "duration": 13,
    "start_time": "2022-02-12T15:06:42.399Z"
   },
   {
    "duration": 5,
    "start_time": "2022-02-12T15:06:42.878Z"
   },
   {
    "duration": 5,
    "start_time": "2022-02-12T15:06:43.414Z"
   },
   {
    "duration": 7,
    "start_time": "2022-02-12T15:06:45.647Z"
   },
   {
    "duration": 7,
    "start_time": "2022-02-12T15:06:56.374Z"
   },
   {
    "duration": 5,
    "start_time": "2022-02-12T15:08:14.261Z"
   },
   {
    "duration": 11,
    "start_time": "2022-02-12T16:13:07.995Z"
   },
   {
    "duration": 5,
    "start_time": "2022-02-12T16:13:09.753Z"
   },
   {
    "duration": 6,
    "start_time": "2022-02-12T16:13:11.961Z"
   },
   {
    "duration": 5,
    "start_time": "2022-02-12T16:13:20.282Z"
   },
   {
    "duration": 6,
    "start_time": "2022-02-12T16:13:25.484Z"
   },
   {
    "duration": 4,
    "start_time": "2022-02-12T16:15:15.027Z"
   },
   {
    "duration": 1086,
    "start_time": "2022-02-12T16:15:15.034Z"
   },
   {
    "duration": 31,
    "start_time": "2022-02-12T16:15:16.124Z"
   },
   {
    "duration": 29,
    "start_time": "2022-02-12T16:15:16.169Z"
   },
   {
    "duration": 14,
    "start_time": "2022-02-12T16:15:16.201Z"
   },
   {
    "duration": 91,
    "start_time": "2022-02-12T16:15:16.218Z"
   },
   {
    "duration": 19,
    "start_time": "2022-02-12T16:15:16.312Z"
   },
   {
    "duration": 33,
    "start_time": "2022-02-12T16:15:16.335Z"
   },
   {
    "duration": 34,
    "start_time": "2022-02-12T16:15:16.372Z"
   },
   {
    "duration": 26,
    "start_time": "2022-02-12T16:15:16.409Z"
   },
   {
    "duration": 21,
    "start_time": "2022-02-12T16:15:16.469Z"
   },
   {
    "duration": 7,
    "start_time": "2022-02-12T16:15:16.494Z"
   },
   {
    "duration": 11,
    "start_time": "2022-02-12T16:15:16.503Z"
   },
   {
    "duration": 62,
    "start_time": "2022-02-12T16:15:16.517Z"
   },
   {
    "duration": 7,
    "start_time": "2022-02-12T16:15:16.583Z"
   },
   {
    "duration": 12,
    "start_time": "2022-02-12T16:15:16.592Z"
   },
   {
    "duration": 9,
    "start_time": "2022-02-12T16:15:16.606Z"
   },
   {
    "duration": 72,
    "start_time": "2022-02-12T16:15:16.618Z"
   },
   {
    "duration": 12,
    "start_time": "2022-02-12T16:15:16.692Z"
   },
   {
    "duration": 6,
    "start_time": "2022-02-12T16:15:16.706Z"
   },
   {
    "duration": 55,
    "start_time": "2022-02-12T16:15:16.715Z"
   },
   {
    "duration": 5,
    "start_time": "2022-02-12T16:15:16.779Z"
   },
   {
    "duration": 11,
    "start_time": "2022-02-12T16:15:16.790Z"
   },
   {
    "duration": 10,
    "start_time": "2022-02-12T16:15:48.462Z"
   },
   {
    "duration": 35,
    "start_time": "2022-02-12T16:15:51.662Z"
   },
   {
    "duration": 13,
    "start_time": "2022-02-12T16:15:57.293Z"
   },
   {
    "duration": 4,
    "start_time": "2022-02-12T16:15:58.037Z"
   },
   {
    "duration": 6,
    "start_time": "2022-02-12T16:15:58.749Z"
   },
   {
    "duration": 6,
    "start_time": "2022-02-12T16:16:00.493Z"
   },
   {
    "duration": 6,
    "start_time": "2022-02-12T16:16:02.037Z"
   },
   {
    "duration": 19,
    "start_time": "2022-02-12T16:16:31.516Z"
   },
   {
    "duration": 5,
    "start_time": "2022-02-12T16:29:16.096Z"
   },
   {
    "duration": 914,
    "start_time": "2022-02-12T16:29:16.103Z"
   },
   {
    "duration": 32,
    "start_time": "2022-02-12T16:29:17.019Z"
   },
   {
    "duration": 25,
    "start_time": "2022-02-12T16:29:17.070Z"
   },
   {
    "duration": 14,
    "start_time": "2022-02-12T16:29:17.097Z"
   },
   {
    "duration": 70,
    "start_time": "2022-02-12T16:29:17.113Z"
   },
   {
    "duration": 17,
    "start_time": "2022-02-12T16:29:17.186Z"
   },
   {
    "duration": 12,
    "start_time": "2022-02-12T16:29:17.208Z"
   },
   {
    "duration": 77,
    "start_time": "2022-02-12T16:29:17.223Z"
   },
   {
    "duration": 65,
    "start_time": "2022-02-12T16:29:17.304Z"
   },
   {
    "duration": 21,
    "start_time": "2022-02-12T16:29:17.373Z"
   },
   {
    "duration": 7,
    "start_time": "2022-02-12T16:29:17.397Z"
   },
   {
    "duration": 8,
    "start_time": "2022-02-12T16:29:17.407Z"
   },
   {
    "duration": 5,
    "start_time": "2022-02-12T16:29:17.418Z"
   },
   {
    "duration": 5,
    "start_time": "2022-02-12T16:29:17.470Z"
   },
   {
    "duration": 14,
    "start_time": "2022-02-12T16:29:17.477Z"
   },
   {
    "duration": 8,
    "start_time": "2022-02-12T16:29:17.494Z"
   },
   {
    "duration": 64,
    "start_time": "2022-02-12T16:29:17.505Z"
   },
   {
    "duration": 28,
    "start_time": "2022-02-12T16:29:17.572Z"
   },
   {
    "duration": 11,
    "start_time": "2022-02-12T16:29:21.723Z"
   },
   {
    "duration": 5,
    "start_time": "2022-02-12T16:29:22.274Z"
   },
   {
    "duration": 5,
    "start_time": "2022-02-12T16:29:23.851Z"
   },
   {
    "duration": 5,
    "start_time": "2022-02-12T16:29:26.354Z"
   },
   {
    "duration": 7,
    "start_time": "2022-02-12T16:29:27.946Z"
   },
   {
    "duration": 5,
    "start_time": "2022-02-12T16:52:00.893Z"
   },
   {
    "duration": 621,
    "start_time": "2022-02-12T16:52:01.828Z"
   },
   {
    "duration": 5,
    "start_time": "2022-02-12T16:52:58.803Z"
   },
   {
    "duration": 621,
    "start_time": "2022-02-12T16:52:59.540Z"
   },
   {
    "duration": 6,
    "start_time": "2022-02-12T16:54:25.593Z"
   },
   {
    "duration": 431,
    "start_time": "2022-02-12T16:54:26.242Z"
   },
   {
    "duration": 4,
    "start_time": "2022-02-12T17:23:06.157Z"
   },
   {
    "duration": 752,
    "start_time": "2022-02-12T17:23:07.441Z"
   },
   {
    "duration": 5,
    "start_time": "2022-02-12T17:23:30.442Z"
   },
   {
    "duration": 589,
    "start_time": "2022-02-12T17:23:31.082Z"
   },
   {
    "duration": 3,
    "start_time": "2022-02-12T17:23:42.538Z"
   },
   {
    "duration": 654,
    "start_time": "2022-02-12T17:23:43.090Z"
   },
   {
    "duration": 4,
    "start_time": "2022-02-12T17:25:53.742Z"
   },
   {
    "duration": 668,
    "start_time": "2022-02-12T17:25:54.591Z"
   },
   {
    "duration": 306,
    "start_time": "2022-02-12T17:27:56.077Z"
   },
   {
    "duration": 12,
    "start_time": "2022-02-12T17:28:09.788Z"
   },
   {
    "duration": 295,
    "start_time": "2022-02-12T17:28:40.627Z"
   },
   {
    "duration": 353,
    "start_time": "2022-02-12T17:29:31.260Z"
   },
   {
    "duration": 708,
    "start_time": "2022-02-12T17:29:59.931Z"
   },
   {
    "duration": 13,
    "start_time": "2022-02-12T17:30:07.546Z"
   },
   {
    "duration": 12,
    "start_time": "2022-02-12T17:31:26.792Z"
   },
   {
    "duration": 8,
    "start_time": "2022-02-12T17:31:36.270Z"
   },
   {
    "duration": 12,
    "start_time": "2022-02-12T17:32:24.709Z"
   },
   {
    "duration": 9,
    "start_time": "2022-02-12T17:32:26.279Z"
   },
   {
    "duration": 257,
    "start_time": "2022-02-12T17:32:43.027Z"
   },
   {
    "duration": 9,
    "start_time": "2022-02-12T17:32:43.677Z"
   },
   {
    "duration": 805,
    "start_time": "2022-02-12T17:33:10.237Z"
   },
   {
    "duration": 299,
    "start_time": "2022-02-12T17:34:15.077Z"
   },
   {
    "duration": 5,
    "start_time": "2022-02-12T17:34:17.699Z"
   },
   {
    "duration": 340,
    "start_time": "2022-02-12T17:34:18.222Z"
   },
   {
    "duration": 4,
    "start_time": "2022-02-12T17:34:54.121Z"
   },
   {
    "duration": 959,
    "start_time": "2022-02-12T17:34:54.546Z"
   },
   {
    "duration": 8,
    "start_time": "2022-02-12T18:45:56.578Z"
   },
   {
    "duration": 938,
    "start_time": "2022-02-12T18:45:59.601Z"
   },
   {
    "duration": 329,
    "start_time": "2022-02-12T18:50:34.634Z"
   },
   {
    "duration": 278,
    "start_time": "2022-02-12T18:50:47.875Z"
   },
   {
    "duration": 315,
    "start_time": "2022-02-12T18:51:08.114Z"
   },
   {
    "duration": 4,
    "start_time": "2022-02-12T18:52:07.313Z"
   },
   {
    "duration": 11,
    "start_time": "2022-02-12T18:52:08.385Z"
   },
   {
    "duration": 5,
    "start_time": "2022-02-12T18:52:28.752Z"
   },
   {
    "duration": 286,
    "start_time": "2022-02-12T18:52:29.145Z"
   },
   {
    "duration": 853,
    "start_time": "2022-02-12T18:56:05.492Z"
   },
   {
    "duration": -439,
    "start_time": "2022-02-12T18:56:06.787Z"
   },
   {
    "duration": 304,
    "start_time": "2022-02-12T18:57:18.674Z"
   },
   {
    "duration": 802,
    "start_time": "2022-02-12T18:57:22.858Z"
   },
   {
    "duration": -426,
    "start_time": "2022-02-12T18:57:24.090Z"
   },
   {
    "duration": 782,
    "start_time": "2022-02-12T18:57:32.513Z"
   },
   {
    "duration": -425,
    "start_time": "2022-02-12T18:57:33.722Z"
   },
   {
    "duration": 821,
    "start_time": "2022-02-12T18:57:51.153Z"
   },
   {
    "duration": -414,
    "start_time": "2022-02-12T18:57:52.392Z"
   },
   {
    "duration": 1393,
    "start_time": "2022-02-12T18:58:27.640Z"
   },
   {
    "duration": 6,
    "start_time": "2022-02-12T18:58:44.001Z"
   },
   {
    "duration": 401,
    "start_time": "2022-02-12T18:58:46.392Z"
   },
   {
    "duration": 4,
    "start_time": "2022-02-12T19:06:42.637Z"
   },
   {
    "duration": 273,
    "start_time": "2022-02-12T19:06:43.062Z"
   },
   {
    "duration": 4,
    "start_time": "2022-02-12T19:07:04.453Z"
   },
   {
    "duration": 596,
    "start_time": "2022-02-12T19:07:05.357Z"
   },
   {
    "duration": 4,
    "start_time": "2022-02-12T19:07:21.301Z"
   },
   {
    "duration": 598,
    "start_time": "2022-02-12T19:07:21.733Z"
   },
   {
    "duration": 5,
    "start_time": "2022-02-12T19:07:37.314Z"
   },
   {
    "duration": 590,
    "start_time": "2022-02-12T19:07:38.004Z"
   },
   {
    "duration": 13,
    "start_time": "2022-02-12T19:08:01.173Z"
   },
   {
    "duration": 6,
    "start_time": "2022-02-12T19:08:09.532Z"
   },
   {
    "duration": 601,
    "start_time": "2022-02-12T19:08:10.060Z"
   },
   {
    "duration": 4,
    "start_time": "2022-02-12T19:08:34.259Z"
   },
   {
    "duration": 697,
    "start_time": "2022-02-12T19:08:34.951Z"
   },
   {
    "duration": 4,
    "start_time": "2022-02-12T20:19:27.908Z"
   },
   {
    "duration": 899,
    "start_time": "2022-02-12T20:19:28.973Z"
   },
   {
    "duration": 4,
    "start_time": "2022-02-12T20:19:51.203Z"
   },
   {
    "duration": 403,
    "start_time": "2022-02-12T20:19:51.827Z"
   },
   {
    "duration": 5,
    "start_time": "2022-02-12T20:20:12.507Z"
   },
   {
    "duration": 852,
    "start_time": "2022-02-12T20:20:12.851Z"
   },
   {
    "duration": 5,
    "start_time": "2022-02-12T20:20:32.691Z"
   },
   {
    "duration": 301,
    "start_time": "2022-02-12T20:20:33.236Z"
   },
   {
    "duration": 5,
    "start_time": "2022-02-12T20:21:27.393Z"
   },
   {
    "duration": 988,
    "start_time": "2022-02-12T20:21:28.026Z"
   },
   {
    "duration": 6,
    "start_time": "2022-02-12T20:21:51.089Z"
   },
   {
    "duration": 324,
    "start_time": "2022-02-12T20:21:51.818Z"
   },
   {
    "duration": 5,
    "start_time": "2022-02-12T20:22:26.618Z"
   },
   {
    "duration": 313,
    "start_time": "2022-02-12T20:22:27.320Z"
   },
   {
    "duration": 5,
    "start_time": "2022-02-12T20:25:06.196Z"
   },
   {
    "duration": 898,
    "start_time": "2022-02-12T20:25:06.572Z"
   },
   {
    "duration": 5,
    "start_time": "2022-02-12T20:25:37.051Z"
   },
   {
    "duration": 317,
    "start_time": "2022-02-12T20:25:37.485Z"
   },
   {
    "duration": 11,
    "start_time": "2022-02-12T20:38:05.123Z"
   },
   {
    "duration": 10,
    "start_time": "2022-02-12T20:38:05.635Z"
   },
   {
    "duration": 4,
    "start_time": "2022-02-12T20:38:10.055Z"
   },
   {
    "duration": 1027,
    "start_time": "2022-02-12T20:38:10.062Z"
   },
   {
    "duration": 38,
    "start_time": "2022-02-12T20:38:11.093Z"
   },
   {
    "duration": 55,
    "start_time": "2022-02-12T20:38:11.135Z"
   },
   {
    "duration": 18,
    "start_time": "2022-02-12T20:38:11.193Z"
   },
   {
    "duration": 79,
    "start_time": "2022-02-12T20:38:11.213Z"
   },
   {
    "duration": 19,
    "start_time": "2022-02-12T20:38:11.295Z"
   },
   {
    "duration": 10,
    "start_time": "2022-02-12T20:38:11.320Z"
   },
   {
    "duration": 45,
    "start_time": "2022-02-12T20:38:11.371Z"
   },
   {
    "duration": 61,
    "start_time": "2022-02-12T20:38:11.419Z"
   },
   {
    "duration": 15,
    "start_time": "2022-02-12T20:38:11.483Z"
   },
   {
    "duration": 8,
    "start_time": "2022-02-12T20:38:11.502Z"
   },
   {
    "duration": 61,
    "start_time": "2022-02-12T20:38:11.514Z"
   },
   {
    "duration": 6,
    "start_time": "2022-02-12T20:38:11.578Z"
   },
   {
    "duration": 9,
    "start_time": "2022-02-12T20:38:11.586Z"
   },
   {
    "duration": 13,
    "start_time": "2022-02-12T20:38:11.597Z"
   },
   {
    "duration": 57,
    "start_time": "2022-02-12T20:38:11.613Z"
   },
   {
    "duration": 10,
    "start_time": "2022-02-12T20:38:11.673Z"
   },
   {
    "duration": 4,
    "start_time": "2022-02-12T20:38:11.686Z"
   },
   {
    "duration": 400,
    "start_time": "2022-02-12T20:38:11.693Z"
   },
   {
    "duration": 25,
    "start_time": "2022-02-12T20:40:51.528Z"
   },
   {
    "duration": 477,
    "start_time": "2022-02-12T20:54:41.238Z"
   },
   {
    "duration": 350,
    "start_time": "2022-02-12T20:58:50.480Z"
   },
   {
    "duration": 478,
    "start_time": "2022-02-12T21:00:02.967Z"
   },
   {
    "duration": 686,
    "start_time": "2022-02-12T21:00:09.733Z"
   },
   {
    "duration": 660,
    "start_time": "2022-02-12T21:00:27.238Z"
   },
   {
    "duration": 660,
    "start_time": "2022-02-12T21:00:57.989Z"
   },
   {
    "duration": 1614,
    "start_time": "2022-02-13T04:09:16.697Z"
   },
   {
    "duration": 944,
    "start_time": "2022-02-13T04:09:18.314Z"
   },
   {
    "duration": 43,
    "start_time": "2022-02-13T04:09:19.261Z"
   },
   {
    "duration": 28,
    "start_time": "2022-02-13T04:09:19.323Z"
   },
   {
    "duration": 19,
    "start_time": "2022-02-13T04:09:19.355Z"
   },
   {
    "duration": 92,
    "start_time": "2022-02-13T04:09:19.378Z"
   },
   {
    "duration": 59,
    "start_time": "2022-02-13T04:09:19.475Z"
   },
   {
    "duration": 10,
    "start_time": "2022-02-13T04:09:19.538Z"
   },
   {
    "duration": 35,
    "start_time": "2022-02-13T04:09:19.552Z"
   },
   {
    "duration": 55,
    "start_time": "2022-02-13T04:09:19.590Z"
   },
   {
    "duration": 17,
    "start_time": "2022-02-13T04:09:19.648Z"
   },
   {
    "duration": 12,
    "start_time": "2022-02-13T04:09:19.668Z"
   },
   {
    "duration": 7,
    "start_time": "2022-02-13T04:09:19.683Z"
   },
   {
    "duration": 6,
    "start_time": "2022-02-13T04:09:19.724Z"
   },
   {
    "duration": 11,
    "start_time": "2022-02-13T04:09:19.733Z"
   },
   {
    "duration": 22,
    "start_time": "2022-02-13T04:09:19.746Z"
   },
   {
    "duration": 17,
    "start_time": "2022-02-13T04:09:19.770Z"
   },
   {
    "duration": 34,
    "start_time": "2022-02-13T04:09:19.789Z"
   },
   {
    "duration": 4,
    "start_time": "2022-02-13T04:09:19.826Z"
   },
   {
    "duration": 442,
    "start_time": "2022-02-13T04:09:19.834Z"
   },
   {
    "duration": 23,
    "start_time": "2022-02-13T04:09:20.279Z"
   },
   {
    "duration": 723,
    "start_time": "2022-02-13T04:09:20.305Z"
   },
   {
    "duration": 676,
    "start_time": "2022-02-13T04:09:21.034Z"
   },
   {
    "duration": 4,
    "start_time": "2022-02-13T04:28:01.107Z"
   },
   {
    "duration": 1087,
    "start_time": "2022-02-13T04:28:01.961Z"
   },
   {
    "duration": 55,
    "start_time": "2022-02-13T04:28:03.729Z"
   },
   {
    "duration": 24,
    "start_time": "2022-02-13T04:28:04.353Z"
   },
   {
    "duration": 14,
    "start_time": "2022-02-13T04:28:05.305Z"
   },
   {
    "duration": 38,
    "start_time": "2022-02-13T04:28:06.121Z"
   },
   {
    "duration": 16,
    "start_time": "2022-02-13T04:28:06.864Z"
   },
   {
    "duration": 11,
    "start_time": "2022-02-13T04:28:07.625Z"
   },
   {
    "duration": 42,
    "start_time": "2022-02-13T04:28:08.097Z"
   },
   {
    "duration": 26,
    "start_time": "2022-02-13T04:28:08.592Z"
   },
   {
    "duration": 16,
    "start_time": "2022-02-13T04:28:09.089Z"
   },
   {
    "duration": 7,
    "start_time": "2022-02-13T04:28:10.041Z"
   },
   {
    "duration": 8,
    "start_time": "2022-02-13T04:28:10.545Z"
   },
   {
    "duration": 6,
    "start_time": "2022-02-13T04:28:11.873Z"
   },
   {
    "duration": 6,
    "start_time": "2022-02-13T04:28:12.288Z"
   },
   {
    "duration": 10,
    "start_time": "2022-02-13T04:28:13.185Z"
   },
   {
    "duration": 9,
    "start_time": "2022-02-13T04:28:14.145Z"
   },
   {
    "duration": 13,
    "start_time": "2022-02-13T04:28:14.425Z"
   },
   {
    "duration": 5,
    "start_time": "2022-02-13T04:28:15.512Z"
   },
   {
    "duration": 556,
    "start_time": "2022-02-13T04:28:15.953Z"
   },
   {
    "duration": 25,
    "start_time": "2022-02-13T04:28:17.273Z"
   },
   {
    "duration": 3053,
    "start_time": "2022-02-13T04:28:18.192Z"
   },
   {
    "duration": 635,
    "start_time": "2022-02-13T04:28:22.472Z"
   },
   {
    "duration": 7808,
    "start_time": "2022-02-13T04:28:24.176Z"
   },
   {
    "duration": 4,
    "start_time": "2022-02-13T04:28:46.632Z"
   },
   {
    "duration": 302,
    "start_time": "2022-02-13T04:28:47.815Z"
   },
   {
    "duration": 374,
    "start_time": "2022-02-13T04:29:21.791Z"
   },
   {
    "duration": 351,
    "start_time": "2022-02-13T04:29:36.295Z"
   },
   {
    "duration": 1012,
    "start_time": "2022-02-13T04:30:00.842Z"
   },
   {
    "duration": 842,
    "start_time": "2022-02-13T04:30:36.774Z"
   },
   {
    "duration": 826,
    "start_time": "2022-02-13T04:30:56.892Z"
   },
   {
    "duration": 636,
    "start_time": "2022-02-13T04:31:40.956Z"
   },
   {
    "duration": 643,
    "start_time": "2022-02-13T04:31:47.676Z"
   },
   {
    "duration": 130,
    "start_time": "2022-02-13T04:57:14.395Z"
   },
   {
    "duration": 100,
    "start_time": "2022-02-13T04:57:40.082Z"
   },
   {
    "duration": 23,
    "start_time": "2022-02-13T04:57:47.482Z"
   },
   {
    "duration": 601,
    "start_time": "2022-02-13T05:04:02.755Z"
   },
   {
    "duration": 621,
    "start_time": "2022-02-13T05:04:17.831Z"
   },
   {
    "duration": 3314,
    "start_time": "2022-02-13T05:04:27.721Z"
   },
   {
    "duration": 586,
    "start_time": "2022-02-13T05:04:39.624Z"
   },
   {
    "duration": 533,
    "start_time": "2022-02-13T05:04:46.849Z"
   },
   {
    "duration": 419,
    "start_time": "2022-02-13T05:05:02.240Z"
   },
   {
    "duration": 332,
    "start_time": "2022-02-13T05:05:23.872Z"
   },
   {
    "duration": 20,
    "start_time": "2022-02-13T07:44:09.428Z"
   },
   {
    "duration": 13,
    "start_time": "2022-02-13T07:54:54.919Z"
   },
   {
    "duration": 12,
    "start_time": "2022-02-13T07:57:13.220Z"
   },
   {
    "duration": 528,
    "start_time": "2022-02-13T07:57:55.683Z"
   },
   {
    "duration": 518,
    "start_time": "2022-02-13T07:59:26.449Z"
   },
   {
    "duration": 566,
    "start_time": "2022-02-13T07:59:30.609Z"
   },
   {
    "duration": 540,
    "start_time": "2022-02-13T07:59:34.400Z"
   },
   {
    "duration": 6,
    "start_time": "2022-02-13T08:34:56.402Z"
   },
   {
    "duration": 511,
    "start_time": "2022-02-13T08:34:57.315Z"
   },
   {
    "duration": 5,
    "start_time": "2022-02-13T08:35:46.714Z"
   },
   {
    "duration": 571,
    "start_time": "2022-02-13T08:36:05.489Z"
   },
   {
    "duration": 5,
    "start_time": "2022-02-13T08:36:20.696Z"
   },
   {
    "duration": 587,
    "start_time": "2022-02-13T08:36:21.680Z"
   },
   {
    "duration": 7,
    "start_time": "2022-02-13T08:37:17.112Z"
   },
   {
    "duration": 570,
    "start_time": "2022-02-13T08:37:27.767Z"
   },
   {
    "duration": 884,
    "start_time": "2022-02-13T08:39:41.771Z"
   },
   {
    "duration": 1180,
    "start_time": "2022-02-13T08:40:09.188Z"
   },
   {
    "duration": 868,
    "start_time": "2022-02-13T08:40:49.700Z"
   },
   {
    "duration": 570,
    "start_time": "2022-02-13T08:41:22.026Z"
   },
   {
    "duration": 558,
    "start_time": "2022-02-13T08:41:36.082Z"
   },
   {
    "duration": 547,
    "start_time": "2022-02-13T08:41:43.416Z"
   },
   {
    "duration": 910,
    "start_time": "2022-02-13T08:42:03.361Z"
   },
   {
    "duration": 6,
    "start_time": "2022-02-13T08:43:15.009Z"
   },
   {
    "duration": 595,
    "start_time": "2022-02-13T08:43:26.479Z"
   },
   {
    "duration": 656,
    "start_time": "2022-02-13T08:43:54.247Z"
   },
   {
    "duration": 890,
    "start_time": "2022-02-13T08:44:35.229Z"
   },
   {
    "duration": 551,
    "start_time": "2022-02-13T08:45:18.597Z"
   },
   {
    "duration": 4,
    "start_time": "2022-02-13T08:45:23.122Z"
   },
   {
    "duration": 4532,
    "start_time": "2022-02-13T08:45:23.130Z"
   },
   {
    "duration": 32,
    "start_time": "2022-02-13T08:45:27.665Z"
   },
   {
    "duration": 36,
    "start_time": "2022-02-13T08:45:27.700Z"
   },
   {
    "duration": 15,
    "start_time": "2022-02-13T08:45:27.739Z"
   },
   {
    "duration": 72,
    "start_time": "2022-02-13T08:45:27.757Z"
   },
   {
    "duration": 17,
    "start_time": "2022-02-13T08:45:27.835Z"
   },
   {
    "duration": 11,
    "start_time": "2022-02-13T08:45:27.857Z"
   },
   {
    "duration": 74,
    "start_time": "2022-02-13T08:45:27.871Z"
   },
   {
    "duration": 27,
    "start_time": "2022-02-13T08:45:27.948Z"
   },
   {
    "duration": 51,
    "start_time": "2022-02-13T08:45:27.979Z"
   },
   {
    "duration": 9,
    "start_time": "2022-02-13T08:45:28.033Z"
   },
   {
    "duration": 14,
    "start_time": "2022-02-13T08:45:28.045Z"
   },
   {
    "duration": 7,
    "start_time": "2022-02-13T08:45:28.062Z"
   },
   {
    "duration": 10,
    "start_time": "2022-02-13T08:45:28.072Z"
   },
   {
    "duration": 45,
    "start_time": "2022-02-13T08:45:28.085Z"
   },
   {
    "duration": 11,
    "start_time": "2022-02-13T08:45:28.134Z"
   },
   {
    "duration": 13,
    "start_time": "2022-02-13T08:45:28.148Z"
   },
   {
    "duration": 13,
    "start_time": "2022-02-13T08:45:28.169Z"
   },
   {
    "duration": 522,
    "start_time": "2022-02-13T08:45:28.223Z"
   },
   {
    "duration": 41,
    "start_time": "2022-02-13T08:45:28.748Z"
   },
   {
    "duration": 702,
    "start_time": "2022-02-13T08:45:28.792Z"
   },
   {
    "duration": 761,
    "start_time": "2022-02-13T08:45:29.497Z"
   },
   {
    "duration": 5,
    "start_time": "2022-02-13T08:45:30.261Z"
   },
   {
    "duration": 1147,
    "start_time": "2022-02-13T08:45:30.269Z"
   },
   {
    "duration": 12,
    "start_time": "2022-02-13T08:45:31.419Z"
   },
   {
    "duration": 21,
    "start_time": "2022-02-13T08:45:31.434Z"
   },
   {
    "duration": 628,
    "start_time": "2022-02-13T08:45:31.458Z"
   },
   {
    "duration": 550,
    "start_time": "2022-02-13T08:45:36.276Z"
   },
   {
    "duration": 5,
    "start_time": "2022-02-13T08:52:41.876Z"
   },
   {
    "duration": 536,
    "start_time": "2022-02-13T08:53:39.714Z"
   },
   {
    "duration": 690,
    "start_time": "2022-02-13T08:53:58.649Z"
   },
   {
    "duration": 4,
    "start_time": "2022-02-13T08:54:01.905Z"
   },
   {
    "duration": 533,
    "start_time": "2022-02-13T08:54:31.564Z"
   },
   {
    "duration": 326,
    "start_time": "2022-02-13T08:56:04.136Z"
   },
   {
    "duration": 1077,
    "start_time": "2022-02-13T08:56:14.072Z"
   },
   {
    "duration": 819,
    "start_time": "2022-02-13T08:56:21.590Z"
   },
   {
    "duration": 898,
    "start_time": "2022-02-13T08:57:29.519Z"
   },
   {
    "duration": 1304,
    "start_time": "2022-02-13T08:59:49.802Z"
   },
   {
    "duration": 558,
    "start_time": "2022-02-13T09:03:41.950Z"
   },
   {
    "duration": 566,
    "start_time": "2022-02-13T09:06:22.944Z"
   },
   {
    "duration": 548,
    "start_time": "2022-02-13T09:06:55.825Z"
   },
   {
    "duration": 105,
    "start_time": "2022-02-13T09:07:28.936Z"
   },
   {
    "duration": 988,
    "start_time": "2022-02-13T09:08:35.304Z"
   },
   {
    "duration": 574,
    "start_time": "2022-02-13T09:10:55.139Z"
   },
   {
    "duration": 118,
    "start_time": "2022-02-13T09:11:34.930Z"
   },
   {
    "duration": 891,
    "start_time": "2022-02-13T09:12:00.402Z"
   },
   {
    "duration": 6,
    "start_time": "2022-02-13T09:12:07.745Z"
   },
   {
    "duration": 558,
    "start_time": "2022-02-13T09:12:08.386Z"
   },
   {
    "duration": 568,
    "start_time": "2022-02-13T09:12:31.882Z"
   },
   {
    "duration": 568,
    "start_time": "2022-02-13T09:12:45.233Z"
   },
   {
    "duration": 200,
    "start_time": "2022-02-13T09:17:04.828Z"
   },
   {
    "duration": 918,
    "start_time": "2022-02-13T09:17:17.627Z"
   },
   {
    "duration": 6,
    "start_time": "2022-02-13T09:17:25.459Z"
   },
   {
    "duration": 607,
    "start_time": "2022-02-13T09:17:51.819Z"
   },
   {
    "duration": 607,
    "start_time": "2022-02-13T09:19:08.130Z"
   },
   {
    "duration": 6,
    "start_time": "2022-02-13T09:19:26.416Z"
   },
   {
    "duration": 587,
    "start_time": "2022-02-13T09:19:33.392Z"
   },
   {
    "duration": 579,
    "start_time": "2022-02-13T09:21:34.726Z"
   },
   {
    "duration": 642,
    "start_time": "2022-02-13T09:21:45.037Z"
   },
   {
    "duration": 554,
    "start_time": "2022-02-13T09:21:51.237Z"
   },
   {
    "duration": 5,
    "start_time": "2022-02-13T09:21:55.325Z"
   },
   {
    "duration": 766,
    "start_time": "2022-02-13T09:21:55.813Z"
   },
   {
    "duration": 601,
    "start_time": "2022-02-13T09:22:00.541Z"
   },
   {
    "duration": 6,
    "start_time": "2022-02-13T09:22:03.692Z"
   },
   {
    "duration": 595,
    "start_time": "2022-02-13T09:22:04.332Z"
   },
   {
    "duration": 747,
    "start_time": "2022-02-13T09:22:08.693Z"
   },
   {
    "duration": 5,
    "start_time": "2022-02-13T09:22:12.294Z"
   },
   {
    "duration": 704,
    "start_time": "2022-02-13T09:22:12.844Z"
   },
   {
    "duration": 5,
    "start_time": "2022-02-13T09:23:10.185Z"
   },
   {
    "duration": 858,
    "start_time": "2022-02-13T09:23:10.192Z"
   },
   {
    "duration": 30,
    "start_time": "2022-02-13T09:23:11.053Z"
   },
   {
    "duration": 60,
    "start_time": "2022-02-13T09:23:11.086Z"
   },
   {
    "duration": 13,
    "start_time": "2022-02-13T09:23:11.149Z"
   },
   {
    "duration": 66,
    "start_time": "2022-02-13T09:23:11.164Z"
   },
   {
    "duration": 25,
    "start_time": "2022-02-13T09:23:11.234Z"
   },
   {
    "duration": 12,
    "start_time": "2022-02-13T09:23:11.265Z"
   },
   {
    "duration": 72,
    "start_time": "2022-02-13T09:23:11.280Z"
   },
   {
    "duration": 27,
    "start_time": "2022-02-13T09:23:11.355Z"
   },
   {
    "duration": 43,
    "start_time": "2022-02-13T09:23:11.384Z"
   },
   {
    "duration": 6,
    "start_time": "2022-02-13T09:23:11.430Z"
   },
   {
    "duration": 7,
    "start_time": "2022-02-13T09:23:11.438Z"
   },
   {
    "duration": 5,
    "start_time": "2022-02-13T09:23:11.447Z"
   },
   {
    "duration": 5,
    "start_time": "2022-02-13T09:23:11.454Z"
   },
   {
    "duration": 66,
    "start_time": "2022-02-13T09:23:11.462Z"
   },
   {
    "duration": 11,
    "start_time": "2022-02-13T09:23:11.531Z"
   },
   {
    "duration": 13,
    "start_time": "2022-02-13T09:23:11.545Z"
   },
   {
    "duration": 6,
    "start_time": "2022-02-13T09:23:11.560Z"
   },
   {
    "duration": 355,
    "start_time": "2022-02-13T09:23:11.569Z"
   },
   {
    "duration": 26,
    "start_time": "2022-02-13T09:23:11.929Z"
   },
   {
    "duration": 741,
    "start_time": "2022-02-13T09:23:11.958Z"
   },
   {
    "duration": 856,
    "start_time": "2022-02-13T09:23:12.705Z"
   },
   {
    "duration": 4,
    "start_time": "2022-02-13T09:23:13.565Z"
   },
   {
    "duration": 1251,
    "start_time": "2022-02-13T09:23:13.572Z"
   },
   {
    "duration": 15,
    "start_time": "2022-02-13T09:23:14.826Z"
   },
   {
    "duration": 18,
    "start_time": "2022-02-13T09:23:14.845Z"
   },
   {
    "duration": 911,
    "start_time": "2022-02-13T09:23:14.867Z"
   },
   {
    "duration": 886,
    "start_time": "2022-02-13T09:23:15.781Z"
   },
   {
    "duration": 25,
    "start_time": "2022-02-13T09:23:16.670Z"
   },
   {
    "duration": 634,
    "start_time": "2022-02-13T09:23:16.698Z"
   },
   {
    "duration": 631,
    "start_time": "2022-02-13T09:23:17.335Z"
   },
   {
    "duration": 5,
    "start_time": "2022-02-13T09:23:17.969Z"
   },
   {
    "duration": 857,
    "start_time": "2022-02-13T09:23:17.976Z"
   },
   {
    "duration": 618,
    "start_time": "2022-02-13T09:23:18.836Z"
   },
   {
    "duration": 6,
    "start_time": "2022-02-13T09:23:19.457Z"
   },
   {
    "duration": 609,
    "start_time": "2022-02-13T09:23:19.466Z"
   },
   {
    "duration": 56,
    "start_time": "2022-02-13T13:08:28.910Z"
   },
   {
    "duration": 1107,
    "start_time": "2022-02-14T20:15:44.315Z"
   },
   {
    "duration": 674,
    "start_time": "2022-02-14T20:15:49.991Z"
   },
   {
    "duration": 22,
    "start_time": "2022-02-14T20:15:54.330Z"
   },
   {
    "duration": 14,
    "start_time": "2022-02-14T20:15:57.808Z"
   },
   {
    "duration": 9,
    "start_time": "2022-02-14T20:16:03.801Z"
   },
   {
    "duration": 19,
    "start_time": "2022-02-14T20:16:08.761Z"
   },
   {
    "duration": 10,
    "start_time": "2022-02-14T20:16:12.249Z"
   },
   {
    "duration": 7,
    "start_time": "2022-02-14T20:16:15.944Z"
   },
   {
    "duration": 20,
    "start_time": "2022-02-14T20:16:21.153Z"
   },
   {
    "duration": 17,
    "start_time": "2022-02-14T20:16:25.784Z"
   },
   {
    "duration": 10,
    "start_time": "2022-02-14T20:16:31.761Z"
   },
   {
    "duration": 5,
    "start_time": "2022-02-14T20:16:39.824Z"
   },
   {
    "duration": 5,
    "start_time": "2022-02-14T20:16:42.175Z"
   },
   {
    "duration": 3,
    "start_time": "2022-02-14T20:16:46.048Z"
   },
   {
    "duration": 4,
    "start_time": "2022-02-14T20:16:53.503Z"
   },
   {
    "duration": 6,
    "start_time": "2022-02-14T20:16:57.559Z"
   },
   {
    "duration": 6,
    "start_time": "2022-02-14T20:18:15.518Z"
   },
   {
    "duration": 7,
    "start_time": "2022-02-14T20:18:33.205Z"
   },
   {
    "duration": 4,
    "start_time": "2022-02-14T20:18:54.861Z"
   },
   {
    "duration": 4,
    "start_time": "2022-02-14T20:19:25.373Z"
   },
   {
    "duration": 212,
    "start_time": "2022-02-14T20:19:26.374Z"
   },
   {
    "duration": 16,
    "start_time": "2022-02-14T20:19:33.749Z"
   },
   {
    "duration": 389,
    "start_time": "2022-02-14T20:19:43.758Z"
   },
   {
    "duration": 376,
    "start_time": "2022-02-14T20:19:48.637Z"
   },
   {
    "duration": 3,
    "start_time": "2022-02-14T20:19:52.349Z"
   },
   {
    "duration": 569,
    "start_time": "2022-02-14T20:19:52.981Z"
   },
   {
    "duration": 7,
    "start_time": "2022-02-14T20:20:07.140Z"
   },
   {
    "duration": 9,
    "start_time": "2022-02-14T20:20:07.762Z"
   },
   {
    "duration": 360,
    "start_time": "2022-02-14T20:20:09.772Z"
   },
   {
    "duration": 369,
    "start_time": "2022-02-14T20:20:13.660Z"
   },
   {
    "duration": 4,
    "start_time": "2022-02-14T20:20:15.356Z"
   },
   {
    "duration": 359,
    "start_time": "2022-02-14T20:20:18.405Z"
   },
   {
    "duration": 363,
    "start_time": "2022-02-14T20:20:28.932Z"
   },
   {
    "duration": 4,
    "start_time": "2022-02-14T20:20:32.308Z"
   },
   {
    "duration": 439,
    "start_time": "2022-02-14T20:20:33.187Z"
   },
   {
    "duration": 358,
    "start_time": "2022-02-14T20:20:38.163Z"
   },
   {
    "duration": 4,
    "start_time": "2022-02-14T20:20:41.499Z"
   },
   {
    "duration": 368,
    "start_time": "2022-02-14T20:20:42.492Z"
   },
   {
    "duration": 4,
    "start_time": "2022-02-14T20:20:57.979Z"
   },
   {
    "duration": 2,
    "start_time": "2022-02-14T20:27:21.826Z"
   },
   {
    "duration": 840,
    "start_time": "2022-02-14T20:27:34.754Z"
   },
   {
    "duration": 8,
    "start_time": "2022-02-14T20:28:36.985Z"
   },
   {
    "duration": 88,
    "start_time": "2022-02-14T20:29:15.560Z"
   },
   {
    "duration": 7,
    "start_time": "2022-02-14T20:29:54.903Z"
   },
   {
    "duration": 3,
    "start_time": "2022-02-14T20:29:57.543Z"
   },
   {
    "duration": 3,
    "start_time": "2022-02-14T20:29:57.975Z"
   },
   {
    "duration": 3,
    "start_time": "2022-02-14T20:47:14.593Z"
   },
   {
    "duration": 22,
    "start_time": "2022-02-14T20:47:15.400Z"
   },
   {
    "duration": 104,
    "start_time": "2022-02-14T20:47:30.462Z"
   },
   {
    "duration": 18,
    "start_time": "2022-02-14T20:48:50.341Z"
   },
   {
    "duration": 107,
    "start_time": "2022-02-14T20:48:51.779Z"
   },
   {
    "duration": 1632,
    "start_time": "2022-02-14T21:08:59.283Z"
   },
   {
    "duration": 2,
    "start_time": "2022-02-14T21:09:02.179Z"
   },
   {
    "duration": 4,
    "start_time": "2022-02-14T21:09:03.155Z"
   },
   {
    "duration": 3,
    "start_time": "2022-02-14T21:09:15.386Z"
   },
   {
    "duration": 3,
    "start_time": "2022-02-14T21:09:15.898Z"
   },
   {
    "duration": 42499,
    "start_time": "2022-02-14T21:09:16.417Z"
   },
   {
    "duration": 94,
    "start_time": "2022-02-14T21:09:58.918Z"
   },
   {
    "duration": 4,
    "start_time": "2022-02-14T21:09:59.014Z"
   },
   {
    "duration": 2,
    "start_time": "2022-02-14T21:16:59.395Z"
   },
   {
    "duration": 2,
    "start_time": "2022-02-14T21:17:00.034Z"
   },
   {
    "duration": 72082,
    "start_time": "2022-02-14T21:17:00.786Z"
   },
   {
    "duration": 2,
    "start_time": "2022-02-14T21:18:12.870Z"
   },
   {
    "duration": 5,
    "start_time": "2022-02-14T21:18:12.874Z"
   },
   {
    "duration": 3,
    "start_time": "2022-02-14T21:21:39.732Z"
   },
   {
    "duration": 3,
    "start_time": "2022-02-14T21:21:40.268Z"
   },
   {
    "duration": 338630,
    "start_time": "2022-02-14T21:21:40.811Z"
   },
   {
    "duration": 2,
    "start_time": "2022-02-14T21:27:19.443Z"
   },
   {
    "duration": 5,
    "start_time": "2022-02-14T21:27:19.446Z"
   },
   {
    "duration": 2,
    "start_time": "2022-02-14T21:30:15.987Z"
   },
   {
    "duration": 4,
    "start_time": "2022-02-14T21:30:16.713Z"
   },
   {
    "duration": 3,
    "start_time": "2022-02-14T21:31:40.936Z"
   },
   {
    "duration": 15,
    "start_time": "2022-02-14T21:31:41.399Z"
   },
   {
    "duration": 239,
    "start_time": "2022-02-14T21:34:18.780Z"
   },
   {
    "duration": 3,
    "start_time": "2022-02-14T21:34:22.996Z"
   },
   {
    "duration": 4,
    "start_time": "2022-02-14T21:34:23.427Z"
   },
   {
    "duration": 2,
    "start_time": "2022-02-14T21:34:23.812Z"
   },
   {
    "duration": 10,
    "start_time": "2022-02-14T21:34:24.245Z"
   },
   {
    "duration": 8,
    "start_time": "2022-02-14T21:34:24.932Z"
   },
   {
    "duration": 5,
    "start_time": "2022-02-14T21:35:11.115Z"
   },
   {
    "duration": 3,
    "start_time": "2022-02-14T21:35:19.587Z"
   },
   {
    "duration": 3,
    "start_time": "2022-02-14T21:40:03.718Z"
   },
   {
    "duration": 2,
    "start_time": "2022-02-14T21:45:07.062Z"
   },
   {
    "duration": 9,
    "start_time": "2022-02-14T21:45:09.045Z"
   },
   {
    "duration": 4,
    "start_time": "2022-02-14T21:46:56.131Z"
   },
   {
    "duration": 3,
    "start_time": "2022-02-14T21:48:16.623Z"
   },
   {
    "duration": 655,
    "start_time": "2022-02-14T21:48:16.628Z"
   },
   {
    "duration": 18,
    "start_time": "2022-02-14T21:48:17.285Z"
   },
   {
    "duration": 19,
    "start_time": "2022-02-14T21:48:17.305Z"
   },
   {
    "duration": 8,
    "start_time": "2022-02-14T21:48:17.325Z"
   },
   {
    "duration": 17,
    "start_time": "2022-02-14T21:48:17.334Z"
   },
   {
    "duration": 11,
    "start_time": "2022-02-14T21:48:17.353Z"
   },
   {
    "duration": 5,
    "start_time": "2022-02-14T21:48:17.366Z"
   },
   {
    "duration": 50,
    "start_time": "2022-02-14T21:48:17.372Z"
   },
   {
    "duration": 16,
    "start_time": "2022-02-14T21:48:17.424Z"
   },
   {
    "duration": 9,
    "start_time": "2022-02-14T21:48:17.441Z"
   },
   {
    "duration": 4,
    "start_time": "2022-02-14T21:48:17.451Z"
   },
   {
    "duration": 5,
    "start_time": "2022-02-14T21:48:17.457Z"
   },
   {
    "duration": 4,
    "start_time": "2022-02-14T21:48:17.463Z"
   },
   {
    "duration": 44,
    "start_time": "2022-02-14T21:48:17.469Z"
   },
   {
    "duration": 6,
    "start_time": "2022-02-14T21:48:17.514Z"
   },
   {
    "duration": 6,
    "start_time": "2022-02-14T21:48:17.522Z"
   },
   {
    "duration": 7,
    "start_time": "2022-02-14T21:48:17.529Z"
   },
   {
    "duration": 3,
    "start_time": "2022-02-14T21:48:17.539Z"
   },
   {
    "duration": 4,
    "start_time": "2022-02-14T21:48:17.544Z"
   },
   {
    "duration": 217,
    "start_time": "2022-02-14T21:48:17.549Z"
   },
   {
    "duration": 14,
    "start_time": "2022-02-14T21:48:17.768Z"
   },
   {
    "duration": 388,
    "start_time": "2022-02-14T21:48:17.783Z"
   },
   {
    "duration": 476,
    "start_time": "2022-02-14T21:48:18.172Z"
   },
   {
    "duration": 2,
    "start_time": "2022-02-14T21:48:18.650Z"
   },
   {
    "duration": 548,
    "start_time": "2022-02-14T21:48:18.654Z"
   },
   {
    "duration": 10,
    "start_time": "2022-02-14T21:48:19.205Z"
   },
   {
    "duration": 14,
    "start_time": "2022-02-14T21:48:19.217Z"
   },
   {
    "duration": 443,
    "start_time": "2022-02-14T21:48:19.233Z"
   },
   {
    "duration": 376,
    "start_time": "2022-02-14T21:48:19.677Z"
   },
   {
    "duration": 4,
    "start_time": "2022-02-14T21:48:20.054Z"
   },
   {
    "duration": 346,
    "start_time": "2022-02-14T21:48:20.059Z"
   },
   {
    "duration": 488,
    "start_time": "2022-02-14T21:48:20.406Z"
   },
   {
    "duration": 4,
    "start_time": "2022-02-14T21:48:20.895Z"
   },
   {
    "duration": 379,
    "start_time": "2022-02-14T21:48:20.901Z"
   },
   {
    "duration": 367,
    "start_time": "2022-02-14T21:48:21.281Z"
   },
   {
    "duration": 4,
    "start_time": "2022-02-14T21:48:21.649Z"
   },
   {
    "duration": 365,
    "start_time": "2022-02-14T21:48:21.655Z"
   },
   {
    "duration": 4,
    "start_time": "2022-02-14T21:48:22.022Z"
   },
   {
    "duration": 15,
    "start_time": "2022-02-14T21:48:22.027Z"
   },
   {
    "duration": 13,
    "start_time": "2022-02-14T21:48:22.043Z"
   },
   {
    "duration": 8,
    "start_time": "2022-02-14T21:48:22.058Z"
   },
   {
    "duration": 12,
    "start_time": "2022-02-14T21:48:22.067Z"
   },
   {
    "duration": 23,
    "start_time": "2022-02-14T21:48:22.080Z"
   },
   {
    "duration": 11,
    "start_time": "2022-02-14T21:48:22.105Z"
   },
   {
    "duration": 19,
    "start_time": "2022-02-14T21:48:22.118Z"
   },
   {
    "duration": 8,
    "start_time": "2022-02-14T21:48:22.139Z"
   },
   {
    "duration": 8,
    "start_time": "2022-02-14T21:48:22.149Z"
   },
   {
    "duration": 407,
    "start_time": "2022-02-14T21:48:22.159Z"
   },
   {
    "duration": 843,
    "start_time": "2022-02-14T21:48:21.725Z"
   },
   {
    "duration": 831,
    "start_time": "2022-02-14T21:48:21.738Z"
   },
   {
    "duration": 6,
    "start_time": "2022-02-14T21:49:28.481Z"
   },
   {
    "duration": 5,
    "start_time": "2022-02-14T21:49:29.024Z"
   },
   {
    "duration": 3,
    "start_time": "2022-02-14T21:49:29.448Z"
   },
   {
    "duration": 3,
    "start_time": "2022-02-14T21:49:29.873Z"
   },
   {
    "duration": 14,
    "start_time": "2022-02-14T21:49:30.257Z"
   },
   {
    "duration": 6,
    "start_time": "2022-02-14T21:49:30.809Z"
   },
   {
    "duration": 14,
    "start_time": "2022-02-14T21:49:31.265Z"
   },
   {
    "duration": 2,
    "start_time": "2022-02-14T21:49:32.713Z"
   },
   {
    "duration": 3,
    "start_time": "2022-02-14T21:49:33.361Z"
   },
   {
    "duration": 319,
    "start_time": "2022-02-14T21:49:34.113Z"
   },
   {
    "duration": 7,
    "start_time": "2022-02-14T21:50:26.791Z"
   },
   {
    "duration": 5,
    "start_time": "2022-02-14T21:50:27.166Z"
   },
   {
    "duration": 3,
    "start_time": "2022-02-14T21:50:27.455Z"
   },
   {
    "duration": 15,
    "start_time": "2022-02-14T21:50:27.767Z"
   },
   {
    "duration": 6,
    "start_time": "2022-02-14T21:52:12.677Z"
   },
   {
    "duration": 5,
    "start_time": "2022-02-14T21:52:13.093Z"
   },
   {
    "duration": 2,
    "start_time": "2022-02-14T21:52:13.477Z"
   },
   {
    "duration": 16,
    "start_time": "2022-02-14T21:52:14.044Z"
   },
   {
    "duration": 2,
    "start_time": "2022-02-14T21:52:15.270Z"
   },
   {
    "duration": 3,
    "start_time": "2022-02-14T21:52:15.832Z"
   },
   {
    "duration": 42415,
    "start_time": "2022-02-14T21:52:16.398Z"
   },
   {
    "duration": 3,
    "start_time": "2022-02-14T21:52:58.816Z"
   },
   {
    "duration": 96,
    "start_time": "2022-02-14T21:52:58.821Z"
   },
   {
    "duration": 3,
    "start_time": "2022-02-14T21:55:06.337Z"
   },
   {
    "duration": 2187,
    "start_time": "2022-02-14T21:55:06.342Z"
   },
   {
    "duration": 22,
    "start_time": "2022-02-14T21:55:08.531Z"
   },
   {
    "duration": 17,
    "start_time": "2022-02-14T21:55:08.555Z"
   },
   {
    "duration": 8,
    "start_time": "2022-02-14T21:55:08.574Z"
   },
   {
    "duration": 20,
    "start_time": "2022-02-14T21:55:08.613Z"
   },
   {
    "duration": 17,
    "start_time": "2022-02-14T21:55:08.636Z"
   },
   {
    "duration": 6,
    "start_time": "2022-02-14T21:55:08.656Z"
   },
   {
    "duration": 19,
    "start_time": "2022-02-14T21:55:08.663Z"
   },
   {
    "duration": 39,
    "start_time": "2022-02-14T21:55:08.684Z"
   },
   {
    "duration": 10,
    "start_time": "2022-02-14T21:55:08.725Z"
   },
   {
    "duration": 5,
    "start_time": "2022-02-14T21:55:08.737Z"
   },
   {
    "duration": 5,
    "start_time": "2022-02-14T21:55:08.743Z"
   },
   {
    "duration": 4,
    "start_time": "2022-02-14T21:55:08.750Z"
   },
   {
    "duration": 3,
    "start_time": "2022-02-14T21:55:08.756Z"
   },
   {
    "duration": 53,
    "start_time": "2022-02-14T21:55:08.761Z"
   },
   {
    "duration": 6,
    "start_time": "2022-02-14T21:55:08.816Z"
   },
   {
    "duration": 8,
    "start_time": "2022-02-14T21:55:08.824Z"
   },
   {
    "duration": 4,
    "start_time": "2022-02-14T21:55:08.835Z"
   },
   {
    "duration": 3,
    "start_time": "2022-02-14T21:55:08.841Z"
   },
   {
    "duration": 218,
    "start_time": "2022-02-14T21:55:08.846Z"
   },
   {
    "duration": 14,
    "start_time": "2022-02-14T21:55:09.065Z"
   },
   {
    "duration": 388,
    "start_time": "2022-02-14T21:55:09.080Z"
   },
   {
    "duration": 384,
    "start_time": "2022-02-14T21:55:09.470Z"
   },
   {
    "duration": 3,
    "start_time": "2022-02-14T21:55:09.855Z"
   },
   {
    "duration": 644,
    "start_time": "2022-02-14T21:55:09.859Z"
   },
   {
    "duration": 11,
    "start_time": "2022-02-14T21:55:10.505Z"
   },
   {
    "duration": 8,
    "start_time": "2022-02-14T21:55:10.518Z"
   },
   {
    "duration": 353,
    "start_time": "2022-02-14T21:55:10.528Z"
   },
   {
    "duration": 341,
    "start_time": "2022-02-14T21:55:10.883Z"
   },
   {
    "duration": 4,
    "start_time": "2022-02-14T21:55:11.225Z"
   },
   {
    "duration": 353,
    "start_time": "2022-02-14T21:55:11.230Z"
   },
   {
    "duration": 363,
    "start_time": "2022-02-14T21:55:11.584Z"
   },
   {
    "duration": 3,
    "start_time": "2022-02-14T21:55:11.949Z"
   },
   {
    "duration": 367,
    "start_time": "2022-02-14T21:55:11.953Z"
   },
   {
    "duration": 355,
    "start_time": "2022-02-14T21:55:12.321Z"
   },
   {
    "duration": 3,
    "start_time": "2022-02-14T21:55:12.678Z"
   },
   {
    "duration": 516,
    "start_time": "2022-02-14T21:55:12.682Z"
   },
   {
    "duration": 4,
    "start_time": "2022-02-14T21:55:13.199Z"
   },
   {
    "duration": 20,
    "start_time": "2022-02-14T21:55:13.204Z"
   },
   {
    "duration": 20,
    "start_time": "2022-02-14T21:55:13.226Z"
   },
   {
    "duration": 15,
    "start_time": "2022-02-14T21:55:13.247Z"
   },
   {
    "duration": 37,
    "start_time": "2022-02-14T21:55:13.263Z"
   },
   {
    "duration": 3,
    "start_time": "2022-02-14T21:55:13.301Z"
   },
   {
    "duration": 5,
    "start_time": "2022-02-14T21:55:13.305Z"
   },
   {
    "duration": 41805,
    "start_time": "2022-02-14T21:55:13.311Z"
   },
   {
    "duration": 91,
    "start_time": "2022-02-14T21:55:55.122Z"
   },
   {
    "duration": 5,
    "start_time": "2022-02-14T21:55:55.215Z"
   },
   {
    "duration": 4,
    "start_time": "2022-02-14T21:55:55.221Z"
   },
   {
    "duration": 4,
    "start_time": "2022-02-14T21:55:55.226Z"
   },
   {
    "duration": 71140,
    "start_time": "2022-02-14T21:55:55.233Z"
   },
   {
    "duration": 2,
    "start_time": "2022-02-14T21:57:06.375Z"
   },
   {
    "duration": 7,
    "start_time": "2022-02-14T21:57:06.379Z"
   },
   {
    "duration": 2,
    "start_time": "2022-02-14T21:57:27.230Z"
   },
   {
    "duration": 3,
    "start_time": "2022-02-14T21:57:27.781Z"
   },
   {
    "duration": 333965,
    "start_time": "2022-02-14T21:57:28.302Z"
   },
   {
    "duration": 3,
    "start_time": "2022-02-14T22:03:02.268Z"
   },
   {
    "duration": 7,
    "start_time": "2022-02-14T22:03:02.273Z"
   },
   {
    "duration": 6,
    "start_time": "2022-02-14T22:03:39.925Z"
   },
   {
    "duration": 5,
    "start_time": "2022-02-14T22:03:40.349Z"
   },
   {
    "duration": 2,
    "start_time": "2022-02-14T22:03:40.694Z"
   },
   {
    "duration": 17,
    "start_time": "2022-02-14T22:03:41.013Z"
   },
   {
    "duration": 3,
    "start_time": "2022-02-14T22:03:41.598Z"
   },
   {
    "duration": 3,
    "start_time": "2022-02-14T22:03:41.886Z"
   },
   {
    "duration": 42057,
    "start_time": "2022-02-14T22:03:42.156Z"
   },
   {
    "duration": 97,
    "start_time": "2022-02-14T22:04:24.215Z"
   },
   {
    "duration": 4,
    "start_time": "2022-02-14T22:04:24.314Z"
   },
   {
    "duration": 4,
    "start_time": "2022-02-14T22:04:24.319Z"
   },
   {
    "duration": 4,
    "start_time": "2022-02-14T22:04:24.324Z"
   },
   {
    "duration": 70113,
    "start_time": "2022-02-14T22:04:24.330Z"
   },
   {
    "duration": 2,
    "start_time": "2022-02-14T22:05:34.445Z"
   },
   {
    "duration": 5,
    "start_time": "2022-02-14T22:05:34.449Z"
   },
   {
    "duration": 3,
    "start_time": "2022-02-14T22:05:34.455Z"
   },
   {
    "duration": 4,
    "start_time": "2022-02-14T22:05:34.459Z"
   },
   {
    "duration": 338728,
    "start_time": "2022-02-14T22:05:34.464Z"
   },
   {
    "duration": 3,
    "start_time": "2022-02-14T22:11:13.193Z"
   },
   {
    "duration": 5,
    "start_time": "2022-02-14T22:11:13.198Z"
   },
   {
    "duration": 9,
    "start_time": "2022-02-14T22:11:13.204Z"
   },
   {
    "duration": 7,
    "start_time": "2022-02-14T22:11:13.214Z"
   },
   {
    "duration": 4,
    "start_time": "2022-02-14T22:11:13.222Z"
   },
   {
    "duration": 11,
    "start_time": "2022-02-14T22:11:13.228Z"
   },
   {
    "duration": 8,
    "start_time": "2022-02-14T22:11:13.241Z"
   },
   {
    "duration": 5,
    "start_time": "2022-02-14T22:11:13.250Z"
   },
   {
    "duration": 4,
    "start_time": "2022-02-14T22:11:13.256Z"
   },
   {
    "duration": 4,
    "start_time": "2022-02-15T10:36:22.736Z"
   },
   {
    "duration": 856,
    "start_time": "2022-02-15T10:36:23.500Z"
   },
   {
    "duration": 37,
    "start_time": "2022-02-15T10:36:25.190Z"
   },
   {
    "duration": 25,
    "start_time": "2022-02-15T10:36:25.702Z"
   },
   {
    "duration": 14,
    "start_time": "2022-02-15T10:36:26.242Z"
   },
   {
    "duration": 34,
    "start_time": "2022-02-15T10:36:26.759Z"
   },
   {
    "duration": 18,
    "start_time": "2022-02-15T10:36:28.263Z"
   },
   {
    "duration": 9,
    "start_time": "2022-02-15T10:36:28.834Z"
   },
   {
    "duration": 33,
    "start_time": "2022-02-15T10:36:32.628Z"
   },
   {
    "duration": 26,
    "start_time": "2022-02-15T10:36:33.668Z"
   },
   {
    "duration": 26,
    "start_time": "2022-02-15T10:36:34.845Z"
   },
   {
    "duration": 20,
    "start_time": "2022-02-15T10:51:53.819Z"
   },
   {
    "duration": 7,
    "start_time": "2022-02-15T10:51:54.552Z"
   },
   {
    "duration": 5,
    "start_time": "2022-02-15T10:51:55.943Z"
   },
   {
    "duration": 5,
    "start_time": "2022-02-15T10:51:56.548Z"
   },
   {
    "duration": 10,
    "start_time": "2022-02-15T10:51:57.907Z"
   },
   {
    "duration": 8,
    "start_time": "2022-02-15T10:52:36.540Z"
   },
   {
    "duration": 13,
    "start_time": "2022-02-15T10:52:37.008Z"
   },
   {
    "duration": 7,
    "start_time": "2022-02-15T10:52:37.407Z"
   },
   {
    "duration": 8,
    "start_time": "2022-02-15T10:52:38.363Z"
   },
   {
    "duration": 330,
    "start_time": "2022-02-15T10:52:39.022Z"
   },
   {
    "duration": 617,
    "start_time": "2022-02-15T10:52:40.684Z"
   },
   {
    "duration": 695,
    "start_time": "2022-02-15T10:52:41.303Z"
   },
   {
    "duration": 4,
    "start_time": "2022-02-15T10:52:42.000Z"
   },
   {
    "duration": 919,
    "start_time": "2022-02-15T10:52:42.022Z"
   },
   {
    "duration": 9,
    "start_time": "2022-02-15T10:52:42.944Z"
   },
   {
    "duration": 13,
    "start_time": "2022-02-15T10:52:42.956Z"
   },
   {
    "duration": 578,
    "start_time": "2022-02-15T10:52:43.132Z"
   },
   {
    "duration": 587,
    "start_time": "2022-02-15T10:52:43.713Z"
   },
   {
    "duration": 19,
    "start_time": "2022-02-15T10:52:44.304Z"
   },
   {
    "duration": 680,
    "start_time": "2022-02-15T10:52:44.326Z"
   },
   {
    "duration": 647,
    "start_time": "2022-02-15T10:52:45.009Z"
   },
   {
    "duration": 7,
    "start_time": "2022-02-15T10:52:45.660Z"
   },
   {
    "duration": 755,
    "start_time": "2022-02-15T10:52:45.671Z"
   },
   {
    "duration": 597,
    "start_time": "2022-02-15T10:52:46.429Z"
   },
   {
    "duration": 6,
    "start_time": "2022-02-15T10:52:47.029Z"
   },
   {
    "duration": 610,
    "start_time": "2022-02-15T10:52:47.038Z"
   },
   {
    "duration": 7,
    "start_time": "2022-02-15T10:53:07.127Z"
   },
   {
    "duration": 9,
    "start_time": "2022-02-15T10:53:22.445Z"
   },
   {
    "duration": 11,
    "start_time": "2022-02-15T10:53:22.457Z"
   },
   {
    "duration": 8,
    "start_time": "2022-02-15T10:53:22.471Z"
   },
   {
    "duration": 26,
    "start_time": "2022-02-15T10:53:22.713Z"
   },
   {
    "duration": 4,
    "start_time": "2022-02-15T10:53:25.518Z"
   },
   {
    "duration": 5,
    "start_time": "2022-02-15T10:53:25.735Z"
   },
   {
    "duration": 72918,
    "start_time": "2022-02-15T10:53:25.908Z"
   },
   {
    "duration": 5,
    "start_time": "2022-02-15T10:54:38.831Z"
   },
   {
    "duration": 93,
    "start_time": "2022-02-15T10:54:38.840Z"
   },
   {
    "duration": 4,
    "start_time": "2022-02-15T10:54:38.936Z"
   },
   {
    "duration": 7,
    "start_time": "2022-02-15T10:54:38.942Z"
   },
   {
    "duration": 104721,
    "start_time": "2022-02-15T10:54:38.952Z"
   },
   {
    "duration": 3,
    "start_time": "2022-02-15T10:56:23.676Z"
   },
   {
    "duration": 8,
    "start_time": "2022-02-15T10:56:23.683Z"
   },
   {
    "duration": 4,
    "start_time": "2022-02-15T10:56:23.694Z"
   },
   {
    "duration": 4,
    "start_time": "2022-02-15T10:56:23.723Z"
   },
   {
    "duration": 1148,
    "start_time": "2022-02-16T21:26:55.325Z"
   },
   {
    "duration": 710,
    "start_time": "2022-02-16T21:26:56.475Z"
   },
   {
    "duration": 23,
    "start_time": "2022-02-16T21:26:57.187Z"
   },
   {
    "duration": 26,
    "start_time": "2022-02-16T21:26:57.212Z"
   },
   {
    "duration": 10,
    "start_time": "2022-02-16T21:26:57.240Z"
   },
   {
    "duration": 19,
    "start_time": "2022-02-16T21:26:57.252Z"
   },
   {
    "duration": 9,
    "start_time": "2022-02-16T21:26:57.273Z"
   },
   {
    "duration": 6,
    "start_time": "2022-02-16T21:26:57.285Z"
   },
   {
    "duration": 53,
    "start_time": "2022-02-16T21:26:57.293Z"
   },
   {
    "duration": 17,
    "start_time": "2022-02-16T21:26:57.348Z"
   },
   {
    "duration": 11,
    "start_time": "2022-02-16T21:26:57.367Z"
   },
   {
    "duration": 7,
    "start_time": "2022-02-16T21:26:57.379Z"
   },
   {
    "duration": 5,
    "start_time": "2022-02-16T21:26:57.387Z"
   },
   {
    "duration": 39,
    "start_time": "2022-02-16T21:26:57.394Z"
   },
   {
    "duration": 10,
    "start_time": "2022-02-16T21:26:57.435Z"
   },
   {
    "duration": 9,
    "start_time": "2022-02-16T21:26:57.447Z"
   },
   {
    "duration": 10,
    "start_time": "2022-02-16T21:26:57.457Z"
   },
   {
    "duration": 10,
    "start_time": "2022-02-16T21:26:57.469Z"
   },
   {
    "duration": 7,
    "start_time": "2022-02-16T21:26:57.481Z"
   },
   {
    "duration": 6,
    "start_time": "2022-02-16T21:26:57.490Z"
   },
   {
    "duration": 212,
    "start_time": "2022-02-16T21:26:57.497Z"
   },
   {
    "duration": 368,
    "start_time": "2022-02-16T21:26:57.710Z"
   },
   {
    "duration": 372,
    "start_time": "2022-02-16T21:26:58.082Z"
   },
   {
    "duration": 3,
    "start_time": "2022-02-16T21:26:58.456Z"
   },
   {
    "duration": 556,
    "start_time": "2022-02-16T21:26:58.460Z"
   },
   {
    "duration": 13,
    "start_time": "2022-02-16T21:26:59.018Z"
   },
   {
    "duration": 11,
    "start_time": "2022-02-16T21:26:59.032Z"
   },
   {
    "duration": 355,
    "start_time": "2022-02-16T21:26:59.044Z"
   },
   {
    "duration": 327,
    "start_time": "2022-02-16T21:26:59.401Z"
   },
   {
    "duration": 4,
    "start_time": "2022-02-16T21:26:59.730Z"
   },
   {
    "duration": 337,
    "start_time": "2022-02-16T21:26:59.736Z"
   },
   {
    "duration": 348,
    "start_time": "2022-02-16T21:27:00.074Z"
   },
   {
    "duration": 8,
    "start_time": "2022-02-16T21:27:00.424Z"
   },
   {
    "duration": 450,
    "start_time": "2022-02-16T21:27:00.433Z"
   },
   {
    "duration": 355,
    "start_time": "2022-02-16T21:27:00.885Z"
   },
   {
    "duration": 3,
    "start_time": "2022-02-16T21:27:01.242Z"
   },
   {
    "duration": 341,
    "start_time": "2022-02-16T21:27:01.247Z"
   },
   {
    "duration": 4,
    "start_time": "2022-02-16T21:27:01.590Z"
   },
   {
    "duration": 14,
    "start_time": "2022-02-16T21:27:01.595Z"
   },
   {
    "duration": 19,
    "start_time": "2022-02-16T21:27:01.611Z"
   },
   {
    "duration": 6,
    "start_time": "2022-02-16T21:27:01.632Z"
   },
   {
    "duration": 32,
    "start_time": "2022-02-16T21:27:01.639Z"
   },
   {
    "duration": 4,
    "start_time": "2022-02-16T21:27:01.673Z"
   },
   {
    "duration": 5,
    "start_time": "2022-02-16T21:27:01.679Z"
   },
   {
    "duration": 43550,
    "start_time": "2022-02-16T21:27:01.685Z"
   },
   {
    "duration": 92,
    "start_time": "2022-02-16T21:27:45.238Z"
   },
   {
    "duration": 6,
    "start_time": "2022-02-16T21:27:45.332Z"
   },
   {
    "duration": 5,
    "start_time": "2022-02-16T21:27:45.340Z"
   },
   {
    "duration": 10,
    "start_time": "2022-02-16T21:27:45.346Z"
   },
   {
    "duration": 73531,
    "start_time": "2022-02-16T21:27:45.358Z"
   },
   {
    "duration": 3,
    "start_time": "2022-02-16T21:28:58.890Z"
   },
   {
    "duration": 6,
    "start_time": "2022-02-16T21:28:58.895Z"
   },
   {
    "duration": 4,
    "start_time": "2022-02-16T21:28:58.902Z"
   },
   {
    "duration": 22,
    "start_time": "2022-02-16T21:28:58.908Z"
   },
   {
    "duration": 354434,
    "start_time": "2022-02-16T21:28:58.932Z"
   },
   {
    "duration": 3,
    "start_time": "2022-02-16T21:34:53.367Z"
   },
   {
    "duration": 6,
    "start_time": "2022-02-16T21:34:53.372Z"
   },
   {
    "duration": 4,
    "start_time": "2022-02-16T21:34:53.379Z"
   },
   {
    "duration": 5,
    "start_time": "2022-02-16T21:34:53.384Z"
   },
   {
    "duration": 3065,
    "start_time": "2022-02-16T21:34:53.390Z"
   },
   {
    "duration": 2,
    "start_time": "2022-02-16T21:34:56.457Z"
   },
   {
    "duration": 9,
    "start_time": "2022-02-16T21:34:56.460Z"
   },
   {
    "duration": 3,
    "start_time": "2022-02-16T21:35:23.065Z"
   },
   {
    "duration": 4,
    "start_time": "2022-02-16T21:35:23.448Z"
   },
   {
    "duration": 3,
    "start_time": "2022-02-16T21:35:23.808Z"
   },
   {
    "duration": 11,
    "start_time": "2022-02-16T21:35:24.129Z"
   },
   {
    "duration": 9,
    "start_time": "2022-02-16T21:35:24.976Z"
   },
   {
    "duration": 5,
    "start_time": "2022-02-16T21:35:25.521Z"
   },
   {
    "duration": 3,
    "start_time": "2022-02-16T21:35:26.096Z"
   }
  ],
  "kernelspec": {
   "display_name": "Python 3 (ipykernel)",
   "language": "python",
   "name": "python3"
  },
  "language_info": {
   "codemirror_mode": {
    "name": "ipython",
    "version": 3
   },
   "file_extension": ".py",
   "mimetype": "text/x-python",
   "name": "python",
   "nbconvert_exporter": "python",
   "pygments_lexer": "ipython3",
   "version": "3.11.0"
  },
  "toc": {
   "base_numbering": 1,
   "nav_menu": {},
   "number_sections": true,
   "sideBar": true,
   "skip_h1_title": true,
   "title_cell": "Содержание",
   "title_sidebar": "Contents",
   "toc_cell": true,
   "toc_position": {},
   "toc_section_display": true,
   "toc_window_display": false
  }
 },
 "nbformat": 4,
 "nbformat_minor": 4
}
