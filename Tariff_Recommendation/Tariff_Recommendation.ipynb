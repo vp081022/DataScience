{
 "cells": [
  {
   "cell_type": "markdown",
   "metadata": {},
   "source": [
    "# Рекомендация тарифов"
   ]
  },
  {
   "cell_type": "markdown",
   "metadata": {},
   "source": [
    "# Описание задачи"
   ]
  },
  {
   "cell_type": "markdown",
   "metadata": {},
   "source": [
    "Оператор мобильной связи собирается создать систему, способную проанализировав поведение клиентов предложить им новый тариф: \"Смарт\" или \"Ультра\". В распоряжении имеются данные о поведении клиентов, которые уже перешли на эти тарифы. Необходимо построить модель машинного обучения, которая выберет подходящий для клиента тариф. "
   ]
  },
  {
   "cell_type": "markdown",
   "metadata": {},
   "source": [
    "Построить модель с максимально большим значением accuracy, не менее 0.75."
   ]
  },
  {
   "cell_type": "markdown",
   "metadata": {},
   "source": [
    "# План работы"
   ]
  },
  {
   "cell_type": "markdown",
   "metadata": {},
   "source": [
    "1. Обзор данных\n",
    "    1. Чтение файлов с данными\n",
    "2. Разбиение данных на выборки\n",
    "3. Исследование моделей машинного обучения\n",
    "    1. Модель \"решающее дерево\"\n",
    "    2. Модель \"случайный лес\"\n",
    "    3. Вывод\n",
    "4. Проверка моделей на тестовой выборке\n",
    "    1. Модель \"решающее дерево\"\n",
    "    2. Модель \"случайный лес\"\n",
    "    3. Вывод\n",
    "5. Проверка моделей на адекватность\n",
    "6. Вывод"
   ]
  },
  {
   "cell_type": "markdown",
   "metadata": {},
   "source": [
    "# Описание данных"
   ]
  },
  {
   "cell_type": "markdown",
   "metadata": {},
   "source": [
    "* сalls — количество звонков,\n",
    "* minutes — суммарная длительность звонков в минутах,\n",
    "* messages — количество sms-сообщений,\n",
    "* mb_used — израсходованный интернет-трафик в Мб,\n",
    "* is_ultra — каким тарифом пользовался в течение месяца («Ультра» — 1, «Смарт» — 0)."
   ]
  },
  {
   "cell_type": "markdown",
   "metadata": {},
   "source": [
    "## Обзор данных"
   ]
  },
  {
   "cell_type": "markdown",
   "metadata": {},
   "source": [
    "### Чтение файлов с данными"
   ]
  },
  {
   "cell_type": "code",
   "execution_count": 2,
   "metadata": {},
   "outputs": [],
   "source": [
    "#Импорт библиотеки pandas и функции деления на выборки\n",
    "import pandas as pd\n",
    "#Импорт функции деления на выборки\n",
    "from sklearn.model_selection import train_test_split\n",
    "#Импорт модели случайного леса\n",
    "from sklearn.ensemble import RandomForestClassifier\n",
    "#Импорт  модели решающего дерева\n",
    "from sklearn.tree import DecisionTreeClassifier\n",
    "#Импорт функции оценки точности\n",
    "from sklearn.metrics import accuracy_score\n",
    "#Импорт модели DummyClassifier\n",
    "from sklearn.dummy import DummyClassifier"
   ]
  },
  {
   "cell_type": "code",
   "execution_count": 3,
   "metadata": {},
   "outputs": [],
   "source": [
    "#Чтение таблицы\n",
    "data = pd.read_csv('datasets/users_behavior.csv')"
   ]
  },
  {
   "cell_type": "code",
   "execution_count": 4,
   "metadata": {
    "scrolled": true
   },
   "outputs": [
    {
     "data": {
      "text/html": [
       "<div>\n",
       "<style scoped>\n",
       "    .dataframe tbody tr th:only-of-type {\n",
       "        vertical-align: middle;\n",
       "    }\n",
       "\n",
       "    .dataframe tbody tr th {\n",
       "        vertical-align: top;\n",
       "    }\n",
       "\n",
       "    .dataframe thead th {\n",
       "        text-align: right;\n",
       "    }\n",
       "</style>\n",
       "<table border=\"1\" class=\"dataframe\">\n",
       "  <thead>\n",
       "    <tr style=\"text-align: right;\">\n",
       "      <th></th>\n",
       "      <th>calls</th>\n",
       "      <th>minutes</th>\n",
       "      <th>messages</th>\n",
       "      <th>mb_used</th>\n",
       "      <th>is_ultra</th>\n",
       "    </tr>\n",
       "  </thead>\n",
       "  <tbody>\n",
       "    <tr>\n",
       "      <th>0</th>\n",
       "      <td>40.0</td>\n",
       "      <td>311.90</td>\n",
       "      <td>83.0</td>\n",
       "      <td>19915.42</td>\n",
       "      <td>0</td>\n",
       "    </tr>\n",
       "    <tr>\n",
       "      <th>1</th>\n",
       "      <td>85.0</td>\n",
       "      <td>516.75</td>\n",
       "      <td>56.0</td>\n",
       "      <td>22696.96</td>\n",
       "      <td>0</td>\n",
       "    </tr>\n",
       "    <tr>\n",
       "      <th>2</th>\n",
       "      <td>77.0</td>\n",
       "      <td>467.66</td>\n",
       "      <td>86.0</td>\n",
       "      <td>21060.45</td>\n",
       "      <td>0</td>\n",
       "    </tr>\n",
       "    <tr>\n",
       "      <th>3</th>\n",
       "      <td>106.0</td>\n",
       "      <td>745.53</td>\n",
       "      <td>81.0</td>\n",
       "      <td>8437.39</td>\n",
       "      <td>1</td>\n",
       "    </tr>\n",
       "    <tr>\n",
       "      <th>4</th>\n",
       "      <td>66.0</td>\n",
       "      <td>418.74</td>\n",
       "      <td>1.0</td>\n",
       "      <td>14502.75</td>\n",
       "      <td>0</td>\n",
       "    </tr>\n",
       "    <tr>\n",
       "      <th>...</th>\n",
       "      <td>...</td>\n",
       "      <td>...</td>\n",
       "      <td>...</td>\n",
       "      <td>...</td>\n",
       "      <td>...</td>\n",
       "    </tr>\n",
       "    <tr>\n",
       "      <th>3209</th>\n",
       "      <td>122.0</td>\n",
       "      <td>910.98</td>\n",
       "      <td>20.0</td>\n",
       "      <td>35124.90</td>\n",
       "      <td>1</td>\n",
       "    </tr>\n",
       "    <tr>\n",
       "      <th>3210</th>\n",
       "      <td>25.0</td>\n",
       "      <td>190.36</td>\n",
       "      <td>0.0</td>\n",
       "      <td>3275.61</td>\n",
       "      <td>0</td>\n",
       "    </tr>\n",
       "    <tr>\n",
       "      <th>3211</th>\n",
       "      <td>97.0</td>\n",
       "      <td>634.44</td>\n",
       "      <td>70.0</td>\n",
       "      <td>13974.06</td>\n",
       "      <td>0</td>\n",
       "    </tr>\n",
       "    <tr>\n",
       "      <th>3212</th>\n",
       "      <td>64.0</td>\n",
       "      <td>462.32</td>\n",
       "      <td>90.0</td>\n",
       "      <td>31239.78</td>\n",
       "      <td>0</td>\n",
       "    </tr>\n",
       "    <tr>\n",
       "      <th>3213</th>\n",
       "      <td>80.0</td>\n",
       "      <td>566.09</td>\n",
       "      <td>6.0</td>\n",
       "      <td>29480.52</td>\n",
       "      <td>1</td>\n",
       "    </tr>\n",
       "  </tbody>\n",
       "</table>\n",
       "<p>3214 rows × 5 columns</p>\n",
       "</div>"
      ],
      "text/plain": [
       "      calls  minutes  messages   mb_used  is_ultra\n",
       "0      40.0   311.90      83.0  19915.42         0\n",
       "1      85.0   516.75      56.0  22696.96         0\n",
       "2      77.0   467.66      86.0  21060.45         0\n",
       "3     106.0   745.53      81.0   8437.39         1\n",
       "4      66.0   418.74       1.0  14502.75         0\n",
       "...     ...      ...       ...       ...       ...\n",
       "3209  122.0   910.98      20.0  35124.90         1\n",
       "3210   25.0   190.36       0.0   3275.61         0\n",
       "3211   97.0   634.44      70.0  13974.06         0\n",
       "3212   64.0   462.32      90.0  31239.78         0\n",
       "3213   80.0   566.09       6.0  29480.52         1\n",
       "\n",
       "[3214 rows x 5 columns]"
      ]
     },
     "execution_count": 4,
     "metadata": {},
     "output_type": "execute_result"
    }
   ],
   "source": [
    "#Просмотр таблицы\n",
    "data"
   ]
  },
  {
   "cell_type": "code",
   "execution_count": 5,
   "metadata": {},
   "outputs": [
    {
     "data": {
      "text/plain": [
       "calls       0\n",
       "minutes     0\n",
       "messages    0\n",
       "mb_used     0\n",
       "is_ultra    0\n",
       "dtype: int64"
      ]
     },
     "execution_count": 5,
     "metadata": {},
     "output_type": "execute_result"
    }
   ],
   "source": [
    "#Проверка таблицы на пропуски\n",
    "data.isna().sum()"
   ]
  },
  {
   "cell_type": "markdown",
   "metadata": {},
   "source": [
    "Вывод:"
   ]
  },
  {
   "cell_type": "markdown",
   "metadata": {},
   "source": [
    "Названия столбцов указаны в едином регистре, пропуски отсутствуют."
   ]
  },
  {
   "cell_type": "markdown",
   "metadata": {},
   "source": [
    "## Разбиение данных на выборки"
   ]
  },
  {
   "cell_type": "code",
   "execution_count": 6,
   "metadata": {},
   "outputs": [],
   "source": [
    "#Деление таблицы на обучающую и тестовую выборки в соотношении 60% на 40%\n",
    "features_train, features_test = train_test_split(data, test_size=0.4, random_state=12345)"
   ]
  },
  {
   "cell_type": "code",
   "execution_count": 7,
   "metadata": {},
   "outputs": [],
   "source": [
    "#Деление тестовой выборки на валидационную и тестовую в равных пропорциях\n",
    "features_valid, features_test = train_test_split(features_test, test_size=0.5, random_state=12345)"
   ]
  },
  {
   "cell_type": "code",
   "execution_count": 8,
   "metadata": {},
   "outputs": [
    {
     "data": {
      "text/plain": [
       "(1928, 5)"
      ]
     },
     "execution_count": 8,
     "metadata": {},
     "output_type": "execute_result"
    }
   ],
   "source": [
    "#Размер обучающей выборки\n",
    "features_train.shape"
   ]
  },
  {
   "cell_type": "code",
   "execution_count": 9,
   "metadata": {},
   "outputs": [
    {
     "data": {
      "text/plain": [
       "(643, 5)"
      ]
     },
     "execution_count": 9,
     "metadata": {},
     "output_type": "execute_result"
    }
   ],
   "source": [
    "#Размер валидационной выборки\n",
    "features_valid.shape"
   ]
  },
  {
   "cell_type": "code",
   "execution_count": 10,
   "metadata": {},
   "outputs": [
    {
     "data": {
      "text/plain": [
       "(643, 5)"
      ]
     },
     "execution_count": 10,
     "metadata": {},
     "output_type": "execute_result"
    }
   ],
   "source": [
    "#Размер тестовой выборки\n",
    "features_test.shape"
   ]
  },
  {
   "cell_type": "markdown",
   "metadata": {},
   "source": [
    "Вывод:"
   ]
  },
  {
   "cell_type": "markdown",
   "metadata": {},
   "source": [
    "Таблица поделена на три выборки - обучающую, валидационную и тестовую в соотношении 60%, 20%, 20%."
   ]
  },
  {
   "cell_type": "markdown",
   "metadata": {},
   "source": [
    "## Исследование моделей машинного обучения"
   ]
  },
  {
   "cell_type": "markdown",
   "metadata": {},
   "source": [
    "Выполним подбор гиперпараметров для разных моделей"
   ]
  },
  {
   "cell_type": "markdown",
   "metadata": {},
   "source": [
    "Гиперпараметры - max_depth (модель \"решающее дерево\"), n_estimators (модель \"случайный лес\")"
   ]
  },
  {
   "cell_type": "markdown",
   "metadata": {},
   "source": [
    "### Модель \"решающее дерево\""
   ]
  },
  {
   "cell_type": "code",
   "execution_count": 11,
   "metadata": {},
   "outputs": [],
   "source": [
    "#Деление признаков обучающей выборки на целевой и остальные\n",
    "target_train = features_train['is_ultra']\n",
    "features_train = features_train.drop('is_ultra', axis=1)"
   ]
  },
  {
   "cell_type": "code",
   "execution_count": 12,
   "metadata": {},
   "outputs": [],
   "source": [
    "#Деление признаков валидационной выборки на целевой и остальные\n",
    "target_valid = features_valid['is_ultra']\n",
    "features_valid = features_valid.drop('is_ultra', axis=1)"
   ]
  },
  {
   "cell_type": "code",
   "execution_count": 13,
   "metadata": {},
   "outputs": [],
   "source": [
    "#Начальные значения переменных \n",
    "#лучшей модели\n",
    "best_model = None\n",
    "#лучшего результата accuracy\n",
    "best_result = 0\n",
    "#глубины дерева лучшей модели\n",
    "best_depth = 0"
   ]
  },
  {
   "cell_type": "code",
   "execution_count": 14,
   "metadata": {},
   "outputs": [],
   "source": [
    "#Определение лучшей модели, ее accuracy и глубины ее дерева\n",
    "for depth in range(1, 6):\n",
    "    model = DecisionTreeClassifier(random_state=12345, max_depth=depth)\n",
    "    model.fit(features_train, target_train)\n",
    "    predictions = model.predict(features_valid)\n",
    "    result = accuracy_score(target_valid, predictions)\n",
    "    if result > best_result:\n",
    "        best_model = model\n",
    "        best_result = result\n",
    "        best_depth = depth"
   ]
  },
  {
   "cell_type": "code",
   "execution_count": 15,
   "metadata": {},
   "outputs": [
    {
     "name": "stdout",
     "output_type": "stream",
     "text": [
      "Accuracy лучшей модели: 0.7853810264385692\n",
      "Глубина дерева лучшей модели: 3\n"
     ]
    }
   ],
   "source": [
    "#Вывод результатов определения accuracy и глубины дерева лучшей модели.\n",
    "print(\"Accuracy лучшей модели:\", best_result)\n",
    "print(\"Глубина дерева лучшей модели:\", best_depth)"
   ]
  },
  {
   "cell_type": "markdown",
   "metadata": {},
   "source": [
    "### Модель \"случайный лес\""
   ]
  },
  {
   "cell_type": "code",
   "execution_count": 16,
   "metadata": {},
   "outputs": [],
   "source": [
    "#Начальные значения переменных \n",
    "#лучшей модели\n",
    "best_model = None\n",
    "#лучшего результата accuracy\n",
    "best_result = 0\n",
    "#глубины дерева лучшей модели\n",
    "best_depth = 0\n",
    "#количества деревьев лучшей модели\n",
    "best_est = 0"
   ]
  },
  {
   "cell_type": "code",
   "execution_count": 17,
   "metadata": {},
   "outputs": [
    {
     "name": "stdout",
     "output_type": "stream",
     "text": [
      "Accuracy наилучшей модели: 0.7931570762052877\n",
      "Количество деревьев наилучшей модели: 8\n",
      "Глубина деревьев наилучшей модели: 5\n"
     ]
    }
   ],
   "source": [
    "#Определение лучшей модели, ее accuracy, количества ее деревьев и их глубины\n",
    "for est in range(1, 11):\n",
    "    for depth in range(1, 6):\n",
    "        model = RandomForestClassifier(random_state=12345, n_estimators=est, max_depth=depth)\n",
    "        model.fit(features_train, target_train)\n",
    "        predictions = model.predict(features_valid)\n",
    "        result = accuracy_score(target_valid, predictions)\n",
    "        if result > best_result:\n",
    "            best_model = model\n",
    "            best_result = result\n",
    "            best_est = est\n",
    "            best_depth = depth\n",
    "            \n",
    "print(\"Accuracy наилучшей модели:\", best_result)\n",
    "print(\"Количество деревьев наилучшей модели:\", best_est)\n",
    "print(\"Глубина деревьев наилучшей модели:\", best_depth)\n"
   ]
  },
  {
   "cell_type": "markdown",
   "metadata": {},
   "source": [
    "### Вывод"
   ]
  },
  {
   "cell_type": "markdown",
   "metadata": {},
   "source": [
    "Исследованы две модели - модель \"решающее дерево\" и модель \"случайный лес\". В модели \"решающее дерево\" была определена глубина дерева наилучшей модели равная 3. В модели \"случайный лес\" было определено количество деревьев и их глубина для наилучшей модели равные 8 и 5."
   ]
  },
  {
   "cell_type": "markdown",
   "metadata": {},
   "source": [
    "## Проверка моделей на тестовой выборке"
   ]
  },
  {
   "cell_type": "markdown",
   "metadata": {},
   "source": [
    "### Модель \"решающее дерево\""
   ]
  },
  {
   "cell_type": "code",
   "execution_count": 18,
   "metadata": {},
   "outputs": [],
   "source": [
    "#Деление признаков тестовой выборки на целевой и остальные\n",
    "target_test = features_test['is_ultra']\n",
    "features_test = features_test.drop('is_ultra', axis=1)"
   ]
  },
  {
   "cell_type": "code",
   "execution_count": 19,
   "metadata": {},
   "outputs": [],
   "source": [
    "#Сохранение модели решающего дерева в переменной model\n",
    "model = DecisionTreeClassifier(random_state=12345, max_depth=3)"
   ]
  },
  {
   "cell_type": "code",
   "execution_count": 20,
   "metadata": {},
   "outputs": [
    {
     "data": {
      "text/html": [
       "<style>#sk-container-id-1 {color: black;}#sk-container-id-1 pre{padding: 0;}#sk-container-id-1 div.sk-toggleable {background-color: white;}#sk-container-id-1 label.sk-toggleable__label {cursor: pointer;display: block;width: 100%;margin-bottom: 0;padding: 0.3em;box-sizing: border-box;text-align: center;}#sk-container-id-1 label.sk-toggleable__label-arrow:before {content: \"▸\";float: left;margin-right: 0.25em;color: #696969;}#sk-container-id-1 label.sk-toggleable__label-arrow:hover:before {color: black;}#sk-container-id-1 div.sk-estimator:hover label.sk-toggleable__label-arrow:before {color: black;}#sk-container-id-1 div.sk-toggleable__content {max-height: 0;max-width: 0;overflow: hidden;text-align: left;background-color: #f0f8ff;}#sk-container-id-1 div.sk-toggleable__content pre {margin: 0.2em;color: black;border-radius: 0.25em;background-color: #f0f8ff;}#sk-container-id-1 input.sk-toggleable__control:checked~div.sk-toggleable__content {max-height: 200px;max-width: 100%;overflow: auto;}#sk-container-id-1 input.sk-toggleable__control:checked~label.sk-toggleable__label-arrow:before {content: \"▾\";}#sk-container-id-1 div.sk-estimator input.sk-toggleable__control:checked~label.sk-toggleable__label {background-color: #d4ebff;}#sk-container-id-1 div.sk-label input.sk-toggleable__control:checked~label.sk-toggleable__label {background-color: #d4ebff;}#sk-container-id-1 input.sk-hidden--visually {border: 0;clip: rect(1px 1px 1px 1px);clip: rect(1px, 1px, 1px, 1px);height: 1px;margin: -1px;overflow: hidden;padding: 0;position: absolute;width: 1px;}#sk-container-id-1 div.sk-estimator {font-family: monospace;background-color: #f0f8ff;border: 1px dotted black;border-radius: 0.25em;box-sizing: border-box;margin-bottom: 0.5em;}#sk-container-id-1 div.sk-estimator:hover {background-color: #d4ebff;}#sk-container-id-1 div.sk-parallel-item::after {content: \"\";width: 100%;border-bottom: 1px solid gray;flex-grow: 1;}#sk-container-id-1 div.sk-label:hover label.sk-toggleable__label {background-color: #d4ebff;}#sk-container-id-1 div.sk-serial::before {content: \"\";position: absolute;border-left: 1px solid gray;box-sizing: border-box;top: 0;bottom: 0;left: 50%;z-index: 0;}#sk-container-id-1 div.sk-serial {display: flex;flex-direction: column;align-items: center;background-color: white;padding-right: 0.2em;padding-left: 0.2em;position: relative;}#sk-container-id-1 div.sk-item {position: relative;z-index: 1;}#sk-container-id-1 div.sk-parallel {display: flex;align-items: stretch;justify-content: center;background-color: white;position: relative;}#sk-container-id-1 div.sk-item::before, #sk-container-id-1 div.sk-parallel-item::before {content: \"\";position: absolute;border-left: 1px solid gray;box-sizing: border-box;top: 0;bottom: 0;left: 50%;z-index: -1;}#sk-container-id-1 div.sk-parallel-item {display: flex;flex-direction: column;z-index: 1;position: relative;background-color: white;}#sk-container-id-1 div.sk-parallel-item:first-child::after {align-self: flex-end;width: 50%;}#sk-container-id-1 div.sk-parallel-item:last-child::after {align-self: flex-start;width: 50%;}#sk-container-id-1 div.sk-parallel-item:only-child::after {width: 0;}#sk-container-id-1 div.sk-dashed-wrapped {border: 1px dashed gray;margin: 0 0.4em 0.5em 0.4em;box-sizing: border-box;padding-bottom: 0.4em;background-color: white;}#sk-container-id-1 div.sk-label label {font-family: monospace;font-weight: bold;display: inline-block;line-height: 1.2em;}#sk-container-id-1 div.sk-label-container {text-align: center;}#sk-container-id-1 div.sk-container {/* jupyter's `normalize.less` sets `[hidden] { display: none; }` but bootstrap.min.css set `[hidden] { display: none !important; }` so we also need the `!important` here to be able to override the default hidden behavior on the sphinx rendered scikit-learn.org. See: https://github.com/scikit-learn/scikit-learn/issues/21755 */display: inline-block !important;position: relative;}#sk-container-id-1 div.sk-text-repr-fallback {display: none;}</style><div id=\"sk-container-id-1\" class=\"sk-top-container\"><div class=\"sk-text-repr-fallback\"><pre>DecisionTreeClassifier(max_depth=3, random_state=12345)</pre><b>In a Jupyter environment, please rerun this cell to show the HTML representation or trust the notebook. <br />On GitHub, the HTML representation is unable to render, please try loading this page with nbviewer.org.</b></div><div class=\"sk-container\" hidden><div class=\"sk-item\"><div class=\"sk-estimator sk-toggleable\"><input class=\"sk-toggleable__control sk-hidden--visually\" id=\"sk-estimator-id-1\" type=\"checkbox\" checked><label for=\"sk-estimator-id-1\" class=\"sk-toggleable__label sk-toggleable__label-arrow\">DecisionTreeClassifier</label><div class=\"sk-toggleable__content\"><pre>DecisionTreeClassifier(max_depth=3, random_state=12345)</pre></div></div></div></div></div>"
      ],
      "text/plain": [
       "DecisionTreeClassifier(max_depth=3, random_state=12345)"
      ]
     },
     "execution_count": 20,
     "metadata": {},
     "output_type": "execute_result"
    }
   ],
   "source": [
    "#Обучение модели на обучающей выборке\n",
    "model.fit(features_train, target_train)"
   ]
  },
  {
   "cell_type": "code",
   "execution_count": 21,
   "metadata": {},
   "outputs": [],
   "source": [
    "#Предсказание обученной модели на тестовой выборке значений целевого признака\n",
    "predictions = model.predict(features_test)"
   ]
  },
  {
   "cell_type": "code",
   "execution_count": 22,
   "metadata": {},
   "outputs": [],
   "source": [
    "#Оценка точночти результатов предсказания\n",
    "result = accuracy_score(target_test, predictions)"
   ]
  },
  {
   "cell_type": "code",
   "execution_count": 23,
   "metadata": {},
   "outputs": [
    {
     "name": "stdout",
     "output_type": "stream",
     "text": [
      "Accuracy лучшей модели на тестовой выборке: 0.7791601866251944\n"
     ]
    }
   ],
   "source": [
    "#Вывод полученной точности\n",
    "print(\"Accuracy лучшей модели на тестовой выборке:\", result)"
   ]
  },
  {
   "cell_type": "markdown",
   "metadata": {},
   "source": [
    "Вывод: на тестовой выборке была проверена лучшая модель с глубиной дерева равной 3. Accuracy лучшей модели на тестовой выборке получилось равным 0.7791601866251944"
   ]
  },
  {
   "cell_type": "markdown",
   "metadata": {},
   "source": [
    "### Модель \"случайный лес\""
   ]
  },
  {
   "cell_type": "code",
   "execution_count": 24,
   "metadata": {},
   "outputs": [],
   "source": [
    "#Сохранение модели случайного леса в переменной model\n",
    "model = RandomForestClassifier(random_state=12345, n_estimators=8, max_depth=5)"
   ]
  },
  {
   "cell_type": "code",
   "execution_count": 25,
   "metadata": {},
   "outputs": [
    {
     "data": {
      "text/html": [
       "<style>#sk-container-id-2 {color: black;}#sk-container-id-2 pre{padding: 0;}#sk-container-id-2 div.sk-toggleable {background-color: white;}#sk-container-id-2 label.sk-toggleable__label {cursor: pointer;display: block;width: 100%;margin-bottom: 0;padding: 0.3em;box-sizing: border-box;text-align: center;}#sk-container-id-2 label.sk-toggleable__label-arrow:before {content: \"▸\";float: left;margin-right: 0.25em;color: #696969;}#sk-container-id-2 label.sk-toggleable__label-arrow:hover:before {color: black;}#sk-container-id-2 div.sk-estimator:hover label.sk-toggleable__label-arrow:before {color: black;}#sk-container-id-2 div.sk-toggleable__content {max-height: 0;max-width: 0;overflow: hidden;text-align: left;background-color: #f0f8ff;}#sk-container-id-2 div.sk-toggleable__content pre {margin: 0.2em;color: black;border-radius: 0.25em;background-color: #f0f8ff;}#sk-container-id-2 input.sk-toggleable__control:checked~div.sk-toggleable__content {max-height: 200px;max-width: 100%;overflow: auto;}#sk-container-id-2 input.sk-toggleable__control:checked~label.sk-toggleable__label-arrow:before {content: \"▾\";}#sk-container-id-2 div.sk-estimator input.sk-toggleable__control:checked~label.sk-toggleable__label {background-color: #d4ebff;}#sk-container-id-2 div.sk-label input.sk-toggleable__control:checked~label.sk-toggleable__label {background-color: #d4ebff;}#sk-container-id-2 input.sk-hidden--visually {border: 0;clip: rect(1px 1px 1px 1px);clip: rect(1px, 1px, 1px, 1px);height: 1px;margin: -1px;overflow: hidden;padding: 0;position: absolute;width: 1px;}#sk-container-id-2 div.sk-estimator {font-family: monospace;background-color: #f0f8ff;border: 1px dotted black;border-radius: 0.25em;box-sizing: border-box;margin-bottom: 0.5em;}#sk-container-id-2 div.sk-estimator:hover {background-color: #d4ebff;}#sk-container-id-2 div.sk-parallel-item::after {content: \"\";width: 100%;border-bottom: 1px solid gray;flex-grow: 1;}#sk-container-id-2 div.sk-label:hover label.sk-toggleable__label {background-color: #d4ebff;}#sk-container-id-2 div.sk-serial::before {content: \"\";position: absolute;border-left: 1px solid gray;box-sizing: border-box;top: 0;bottom: 0;left: 50%;z-index: 0;}#sk-container-id-2 div.sk-serial {display: flex;flex-direction: column;align-items: center;background-color: white;padding-right: 0.2em;padding-left: 0.2em;position: relative;}#sk-container-id-2 div.sk-item {position: relative;z-index: 1;}#sk-container-id-2 div.sk-parallel {display: flex;align-items: stretch;justify-content: center;background-color: white;position: relative;}#sk-container-id-2 div.sk-item::before, #sk-container-id-2 div.sk-parallel-item::before {content: \"\";position: absolute;border-left: 1px solid gray;box-sizing: border-box;top: 0;bottom: 0;left: 50%;z-index: -1;}#sk-container-id-2 div.sk-parallel-item {display: flex;flex-direction: column;z-index: 1;position: relative;background-color: white;}#sk-container-id-2 div.sk-parallel-item:first-child::after {align-self: flex-end;width: 50%;}#sk-container-id-2 div.sk-parallel-item:last-child::after {align-self: flex-start;width: 50%;}#sk-container-id-2 div.sk-parallel-item:only-child::after {width: 0;}#sk-container-id-2 div.sk-dashed-wrapped {border: 1px dashed gray;margin: 0 0.4em 0.5em 0.4em;box-sizing: border-box;padding-bottom: 0.4em;background-color: white;}#sk-container-id-2 div.sk-label label {font-family: monospace;font-weight: bold;display: inline-block;line-height: 1.2em;}#sk-container-id-2 div.sk-label-container {text-align: center;}#sk-container-id-2 div.sk-container {/* jupyter's `normalize.less` sets `[hidden] { display: none; }` but bootstrap.min.css set `[hidden] { display: none !important; }` so we also need the `!important` here to be able to override the default hidden behavior on the sphinx rendered scikit-learn.org. See: https://github.com/scikit-learn/scikit-learn/issues/21755 */display: inline-block !important;position: relative;}#sk-container-id-2 div.sk-text-repr-fallback {display: none;}</style><div id=\"sk-container-id-2\" class=\"sk-top-container\"><div class=\"sk-text-repr-fallback\"><pre>RandomForestClassifier(max_depth=5, n_estimators=8, random_state=12345)</pre><b>In a Jupyter environment, please rerun this cell to show the HTML representation or trust the notebook. <br />On GitHub, the HTML representation is unable to render, please try loading this page with nbviewer.org.</b></div><div class=\"sk-container\" hidden><div class=\"sk-item\"><div class=\"sk-estimator sk-toggleable\"><input class=\"sk-toggleable__control sk-hidden--visually\" id=\"sk-estimator-id-2\" type=\"checkbox\" checked><label for=\"sk-estimator-id-2\" class=\"sk-toggleable__label sk-toggleable__label-arrow\">RandomForestClassifier</label><div class=\"sk-toggleable__content\"><pre>RandomForestClassifier(max_depth=5, n_estimators=8, random_state=12345)</pre></div></div></div></div></div>"
      ],
      "text/plain": [
       "RandomForestClassifier(max_depth=5, n_estimators=8, random_state=12345)"
      ]
     },
     "execution_count": 25,
     "metadata": {},
     "output_type": "execute_result"
    }
   ],
   "source": [
    "#Обучение модели на обучающей выборке\n",
    "model.fit(features_train, target_train)"
   ]
  },
  {
   "cell_type": "code",
   "execution_count": 26,
   "metadata": {},
   "outputs": [],
   "source": [
    "#Предсказание моделью значений целевого признака на тестовой выборке\n",
    "predictions = model.predict(features_test)"
   ]
  },
  {
   "cell_type": "code",
   "execution_count": 27,
   "metadata": {},
   "outputs": [],
   "source": [
    "#Оценка точности предсказания модели\n",
    "result = accuracy_score(target_test, predictions)"
   ]
  },
  {
   "cell_type": "code",
   "execution_count": 28,
   "metadata": {},
   "outputs": [
    {
     "name": "stdout",
     "output_type": "stream",
     "text": [
      "Accuracy лучшей модели на тестовой выборке: 0.7962674961119751\n"
     ]
    }
   ],
   "source": [
    "#Вывод полученной точности\n",
    "print(\"Accuracy лучшей модели на тестовой выборке:\", result)"
   ]
  },
  {
   "cell_type": "markdown",
   "metadata": {},
   "source": [
    "Вывод: на тестовой выборке была проверена лучшая модель с количеством деревьев равным 8 и глубиной дерева равной 3. Accuracy лучшей модели на тестовой выборке: 0.7962674961119751"
   ]
  },
  {
   "cell_type": "markdown",
   "metadata": {},
   "source": [
    "### Вывод"
   ]
  },
  {
   "cell_type": "markdown",
   "metadata": {},
   "source": [
    "На тестовой выборке были проверены две лучшие модели со значениями гиперпараметров найденными в предыдущем разделе 3. \n",
    "Accuracy лучшей модели \"решающее дерево\" на тестовой выборке оказалось равным 0.7791601866251944.  Accuracy лучшей модели \"случайный лес\" на тестовой выборке оказалось равным 0.7962674961119751. Оба значения не меньше 0.75, что соответствует требованиям."
   ]
  },
  {
   "cell_type": "markdown",
   "metadata": {},
   "source": [
    "## Проверка моделей на адекватность"
   ]
  },
  {
   "cell_type": "markdown",
   "metadata": {},
   "source": [
    "Проверка модели на адекватность заключается в сравнении с константной моделью или моделью DummyClassifier.\n",
    "Константная модель всегда предсказывает одно и то же значение. Чтобы предсказать значения целевого признака в тестовой выборке и свести ошибки к минимуму, будем предсказывать моду набора значений целевого признака обучающей выборки, которая, по сути, даст нам значение бОльшего класса."
   ]
  },
  {
   "cell_type": "code",
   "execution_count": 29,
   "metadata": {},
   "outputs": [],
   "source": [
    "#Сохранение модели DummyClassifier в переменной model\n",
    "model = DummyClassifier()"
   ]
  },
  {
   "cell_type": "code",
   "execution_count": 30,
   "metadata": {},
   "outputs": [
    {
     "data": {
      "text/html": [
       "<style>#sk-container-id-3 {color: black;}#sk-container-id-3 pre{padding: 0;}#sk-container-id-3 div.sk-toggleable {background-color: white;}#sk-container-id-3 label.sk-toggleable__label {cursor: pointer;display: block;width: 100%;margin-bottom: 0;padding: 0.3em;box-sizing: border-box;text-align: center;}#sk-container-id-3 label.sk-toggleable__label-arrow:before {content: \"▸\";float: left;margin-right: 0.25em;color: #696969;}#sk-container-id-3 label.sk-toggleable__label-arrow:hover:before {color: black;}#sk-container-id-3 div.sk-estimator:hover label.sk-toggleable__label-arrow:before {color: black;}#sk-container-id-3 div.sk-toggleable__content {max-height: 0;max-width: 0;overflow: hidden;text-align: left;background-color: #f0f8ff;}#sk-container-id-3 div.sk-toggleable__content pre {margin: 0.2em;color: black;border-radius: 0.25em;background-color: #f0f8ff;}#sk-container-id-3 input.sk-toggleable__control:checked~div.sk-toggleable__content {max-height: 200px;max-width: 100%;overflow: auto;}#sk-container-id-3 input.sk-toggleable__control:checked~label.sk-toggleable__label-arrow:before {content: \"▾\";}#sk-container-id-3 div.sk-estimator input.sk-toggleable__control:checked~label.sk-toggleable__label {background-color: #d4ebff;}#sk-container-id-3 div.sk-label input.sk-toggleable__control:checked~label.sk-toggleable__label {background-color: #d4ebff;}#sk-container-id-3 input.sk-hidden--visually {border: 0;clip: rect(1px 1px 1px 1px);clip: rect(1px, 1px, 1px, 1px);height: 1px;margin: -1px;overflow: hidden;padding: 0;position: absolute;width: 1px;}#sk-container-id-3 div.sk-estimator {font-family: monospace;background-color: #f0f8ff;border: 1px dotted black;border-radius: 0.25em;box-sizing: border-box;margin-bottom: 0.5em;}#sk-container-id-3 div.sk-estimator:hover {background-color: #d4ebff;}#sk-container-id-3 div.sk-parallel-item::after {content: \"\";width: 100%;border-bottom: 1px solid gray;flex-grow: 1;}#sk-container-id-3 div.sk-label:hover label.sk-toggleable__label {background-color: #d4ebff;}#sk-container-id-3 div.sk-serial::before {content: \"\";position: absolute;border-left: 1px solid gray;box-sizing: border-box;top: 0;bottom: 0;left: 50%;z-index: 0;}#sk-container-id-3 div.sk-serial {display: flex;flex-direction: column;align-items: center;background-color: white;padding-right: 0.2em;padding-left: 0.2em;position: relative;}#sk-container-id-3 div.sk-item {position: relative;z-index: 1;}#sk-container-id-3 div.sk-parallel {display: flex;align-items: stretch;justify-content: center;background-color: white;position: relative;}#sk-container-id-3 div.sk-item::before, #sk-container-id-3 div.sk-parallel-item::before {content: \"\";position: absolute;border-left: 1px solid gray;box-sizing: border-box;top: 0;bottom: 0;left: 50%;z-index: -1;}#sk-container-id-3 div.sk-parallel-item {display: flex;flex-direction: column;z-index: 1;position: relative;background-color: white;}#sk-container-id-3 div.sk-parallel-item:first-child::after {align-self: flex-end;width: 50%;}#sk-container-id-3 div.sk-parallel-item:last-child::after {align-self: flex-start;width: 50%;}#sk-container-id-3 div.sk-parallel-item:only-child::after {width: 0;}#sk-container-id-3 div.sk-dashed-wrapped {border: 1px dashed gray;margin: 0 0.4em 0.5em 0.4em;box-sizing: border-box;padding-bottom: 0.4em;background-color: white;}#sk-container-id-3 div.sk-label label {font-family: monospace;font-weight: bold;display: inline-block;line-height: 1.2em;}#sk-container-id-3 div.sk-label-container {text-align: center;}#sk-container-id-3 div.sk-container {/* jupyter's `normalize.less` sets `[hidden] { display: none; }` but bootstrap.min.css set `[hidden] { display: none !important; }` so we also need the `!important` here to be able to override the default hidden behavior on the sphinx rendered scikit-learn.org. See: https://github.com/scikit-learn/scikit-learn/issues/21755 */display: inline-block !important;position: relative;}#sk-container-id-3 div.sk-text-repr-fallback {display: none;}</style><div id=\"sk-container-id-3\" class=\"sk-top-container\"><div class=\"sk-text-repr-fallback\"><pre>DummyClassifier()</pre><b>In a Jupyter environment, please rerun this cell to show the HTML representation or trust the notebook. <br />On GitHub, the HTML representation is unable to render, please try loading this page with nbviewer.org.</b></div><div class=\"sk-container\" hidden><div class=\"sk-item\"><div class=\"sk-estimator sk-toggleable\"><input class=\"sk-toggleable__control sk-hidden--visually\" id=\"sk-estimator-id-3\" type=\"checkbox\" checked><label for=\"sk-estimator-id-3\" class=\"sk-toggleable__label sk-toggleable__label-arrow\">DummyClassifier</label><div class=\"sk-toggleable__content\"><pre>DummyClassifier()</pre></div></div></div></div></div>"
      ],
      "text/plain": [
       "DummyClassifier()"
      ]
     },
     "execution_count": 30,
     "metadata": {},
     "output_type": "execute_result"
    }
   ],
   "source": [
    "#Обучение модели на обучающей выборке\n",
    "model.fit(features_train, target_train)"
   ]
  },
  {
   "cell_type": "code",
   "execution_count": 39,
   "metadata": {},
   "outputs": [],
   "source": [
    "#Предсказание константной модели для валидационной выборки\n",
    "predictions_valid = pd.Series(int(target_valid.mode().iloc[0]), index=target_valid.index)"
   ]
  },
  {
   "cell_type": "code",
   "execution_count": 40,
   "metadata": {},
   "outputs": [
    {
     "data": {
      "text/plain": [
       "1386    0\n",
       "3124    0\n",
       "1956    0\n",
       "2286    0\n",
       "3077    0\n",
       "dtype: int64"
      ]
     },
     "execution_count": 40,
     "metadata": {},
     "output_type": "execute_result"
    }
   ],
   "source": [
    "#Результат предсказания, первые 5 строк\n",
    "predictions_valid.head()"
   ]
  },
  {
   "cell_type": "code",
   "execution_count": 41,
   "metadata": {},
   "outputs": [],
   "source": [
    "#Определение значения accuracy на валидационной выборке\n",
    "accuracy_valid = accuracy_score(target_valid, predictions_valid)"
   ]
  },
  {
   "cell_type": "code",
   "execution_count": 42,
   "metadata": {},
   "outputs": [],
   "source": [
    "#Предсказание константной модели для тестовой выборки\n",
    "predictions_test = pd.Series(int(target_test.mode().iloc[0]), index=target_test.index)"
   ]
  },
  {
   "cell_type": "code",
   "execution_count": 43,
   "metadata": {},
   "outputs": [],
   "source": [
    "#Определение значения accuracy на тестовой выборке\n",
    "accuracy_test = accuracy_score(target_test, predictions_test)"
   ]
  },
  {
   "cell_type": "code",
   "execution_count": 44,
   "metadata": {},
   "outputs": [
    {
     "name": "stdout",
     "output_type": "stream",
     "text": [
      "Значение accuracy на валидационной выборке 0.7060653188180405\n",
      "Значение accuracy на тестовой выборке 0.6842923794712286\n"
     ]
    }
   ],
   "source": [
    "#Вывод значений accuracy для обучающей и тестовой выборки\n",
    "print (\"Значение accuracy на валидационной выборке\", accuracy_valid)\n",
    "print(\"Значение accuracy на тестовой выборке\", accuracy_test)"
   ]
  },
  {
   "cell_type": "code",
   "execution_count": 45,
   "metadata": {},
   "outputs": [
    {
     "data": {
      "text/plain": [
       "1335"
      ]
     },
     "execution_count": 45,
     "metadata": {},
     "output_type": "execute_result"
    }
   ],
   "source": [
    "#Количество значений 0 у целевого признака обучающей выборки\n",
    "target_train[target_train==0].count()"
   ]
  },
  {
   "cell_type": "code",
   "execution_count": 46,
   "metadata": {},
   "outputs": [
    {
     "data": {
      "text/plain": [
       "(1928,)"
      ]
     },
     "execution_count": 46,
     "metadata": {},
     "output_type": "execute_result"
    }
   ],
   "source": [
    "#Общее количество значений целевого признака в обучающей выборке\n",
    "target_train.shape"
   ]
  },
  {
   "cell_type": "markdown",
   "metadata": {},
   "source": [
    "Модой набора значений целевого признака обучающей выборки оказалось значение 0. Соответственно, именно это значение и было выбрано для предсказания константной моделью для каждого объекта. Количество значений 0 в обучающей выборке у целевого признака равно 1335. Всего значений у целевого признака 1928 (0 и 1). Нетрудно подсчитать, что доля 0 составляет 69%, что соответствует значению accuracy 0,69.\n",
    "    \n",
    "У модели \"решающее дерево\" точность на тестовой выборке получилась равной 0.7791601866251944. Это значительно больше значения 0.6842923794712286. Модель \"решающее дерево\" адекватна.\n",
    "    \n",
    "У модели \"случайный лес\" точность на тестовой выборке получилась равной 0.7962674961119751. Это значительно больше значения 0.6842923794712286. Модель \"случайный лес\" адекватна."
   ]
  },
  {
   "cell_type": "markdown",
   "metadata": {},
   "source": [
    "## Вывод"
   ]
  },
  {
   "cell_type": "markdown",
   "metadata": {},
   "source": [
    "Наилучшей моделью оказалась модель \"случайный лес\" с точностью равной 0.7962674961119751."
   ]
  },
  {
   "cell_type": "code",
   "execution_count": null,
   "metadata": {},
   "outputs": [],
   "source": []
  }
 ],
 "metadata": {
  "ExecuteTimeLog": [
   {
    "duration": 772,
    "start_time": "2021-12-21T18:49:20.297Z"
   },
   {
    "duration": 435,
    "start_time": "2021-12-21T18:50:23.779Z"
   },
   {
    "duration": 99,
    "start_time": "2021-12-21T18:50:34.196Z"
   },
   {
    "duration": 28,
    "start_time": "2021-12-21T18:53:23.350Z"
   },
   {
    "duration": 296,
    "start_time": "2021-12-21T19:20:21.571Z"
   },
   {
    "duration": 648,
    "start_time": "2021-12-21T19:20:45.705Z"
   },
   {
    "duration": 8,
    "start_time": "2021-12-21T19:20:50.365Z"
   },
   {
    "duration": 18,
    "start_time": "2021-12-21T19:32:59.578Z"
   },
   {
    "duration": 22,
    "start_time": "2021-12-21T19:33:12.224Z"
   },
   {
    "duration": 7,
    "start_time": "2021-12-21T19:38:33.858Z"
   },
   {
    "duration": 7,
    "start_time": "2021-12-21T19:38:36.537Z"
   },
   {
    "duration": 9,
    "start_time": "2021-12-21T19:38:37.009Z"
   },
   {
    "duration": 23,
    "start_time": "2021-12-21T19:39:06.248Z"
   },
   {
    "duration": 23,
    "start_time": "2021-12-21T19:39:24.457Z"
   },
   {
    "duration": 17,
    "start_time": "2021-12-21T19:39:33.336Z"
   },
   {
    "duration": 7,
    "start_time": "2021-12-21T19:41:52.125Z"
   },
   {
    "duration": 8,
    "start_time": "2021-12-21T19:41:52.804Z"
   },
   {
    "duration": 23,
    "start_time": "2021-12-21T19:41:54.549Z"
   },
   {
    "duration": 20,
    "start_time": "2021-12-21T19:42:00.613Z"
   },
   {
    "duration": 20,
    "start_time": "2021-12-21T19:42:03.692Z"
   },
   {
    "duration": 9,
    "start_time": "2021-12-21T19:47:36.965Z"
   },
   {
    "duration": 7,
    "start_time": "2021-12-21T19:47:37.541Z"
   },
   {
    "duration": 19,
    "start_time": "2021-12-21T19:47:38.462Z"
   },
   {
    "duration": 4,
    "start_time": "2021-12-21T19:49:25.994Z"
   },
   {
    "duration": 25,
    "start_time": "2021-12-21T19:49:26.483Z"
   },
   {
    "duration": 17,
    "start_time": "2021-12-21T19:49:26.971Z"
   },
   {
    "duration": 6,
    "start_time": "2021-12-21T19:49:30.763Z"
   },
   {
    "duration": 7,
    "start_time": "2021-12-21T19:49:31.323Z"
   },
   {
    "duration": 18,
    "start_time": "2021-12-21T19:49:32.203Z"
   },
   {
    "duration": 17,
    "start_time": "2021-12-21T19:49:36.651Z"
   },
   {
    "duration": 17,
    "start_time": "2021-12-21T19:49:37.947Z"
   },
   {
    "duration": 6,
    "start_time": "2021-12-21T19:50:46.041Z"
   },
   {
    "duration": 6,
    "start_time": "2021-12-21T19:50:54.321Z"
   },
   {
    "duration": 5,
    "start_time": "2021-12-21T19:51:02.793Z"
   },
   {
    "duration": 681,
    "start_time": "2021-12-22T18:12:01.247Z"
   },
   {
    "duration": 418,
    "start_time": "2021-12-22T18:12:06.749Z"
   },
   {
    "duration": 24,
    "start_time": "2021-12-22T18:12:07.239Z"
   },
   {
    "duration": 18,
    "start_time": "2021-12-22T18:12:07.729Z"
   },
   {
    "duration": 6,
    "start_time": "2021-12-22T18:12:11.392Z"
   },
   {
    "duration": 6,
    "start_time": "2021-12-22T18:12:11.856Z"
   },
   {
    "duration": 4,
    "start_time": "2021-12-22T18:12:12.272Z"
   },
   {
    "duration": 4,
    "start_time": "2021-12-22T18:12:14.432Z"
   },
   {
    "duration": 4,
    "start_time": "2021-12-22T18:12:15.056Z"
   },
   {
    "duration": 2,
    "start_time": "2021-12-22T18:12:17.396Z"
   },
   {
    "duration": 5,
    "start_time": "2021-12-22T18:33:18.020Z"
   },
   {
    "duration": 3,
    "start_time": "2021-12-22T18:39:37.443Z"
   },
   {
    "duration": 7064,
    "start_time": "2021-12-22T18:39:38.443Z"
   },
   {
    "duration": 3,
    "start_time": "2021-12-22T18:40:04.314Z"
   },
   {
    "duration": 296,
    "start_time": "2021-12-22T18:40:05.011Z"
   },
   {
    "duration": 3,
    "start_time": "2021-12-22T18:40:58.057Z"
   },
   {
    "duration": 19,
    "start_time": "2021-12-22T18:40:58.529Z"
   },
   {
    "duration": 11,
    "start_time": "2021-12-22T18:40:58.970Z"
   },
   {
    "duration": 5,
    "start_time": "2021-12-22T18:41:03.929Z"
   },
   {
    "duration": 5,
    "start_time": "2021-12-22T18:41:04.265Z"
   },
   {
    "duration": 4,
    "start_time": "2021-12-22T18:41:04.552Z"
   },
   {
    "duration": 4,
    "start_time": "2021-12-22T18:41:04.832Z"
   },
   {
    "duration": 4,
    "start_time": "2021-12-22T18:41:05.536Z"
   },
   {
    "duration": 2,
    "start_time": "2021-12-22T18:41:10.025Z"
   },
   {
    "duration": 5,
    "start_time": "2021-12-22T18:41:11.907Z"
   },
   {
    "duration": 3,
    "start_time": "2021-12-22T18:43:25.653Z"
   },
   {
    "duration": 3,
    "start_time": "2021-12-22T18:43:26.125Z"
   },
   {
    "duration": 4,
    "start_time": "2021-12-22T18:43:42.085Z"
   },
   {
    "duration": 3,
    "start_time": "2021-12-22T18:43:44.222Z"
   },
   {
    "duration": 22,
    "start_time": "2021-12-22T18:45:26.747Z"
   },
   {
    "duration": 4,
    "start_time": "2021-12-22T18:45:41.155Z"
   },
   {
    "duration": 3,
    "start_time": "2021-12-22T18:47:21.105Z"
   },
   {
    "duration": 24,
    "start_time": "2021-12-22T18:49:03.078Z"
   },
   {
    "duration": 3,
    "start_time": "2021-12-22T18:49:06.694Z"
   },
   {
    "duration": 24,
    "start_time": "2021-12-22T18:49:07.182Z"
   },
   {
    "duration": 3,
    "start_time": "2021-12-22T18:49:08.679Z"
   },
   {
    "duration": 10,
    "start_time": "2021-12-22T19:01:36.998Z"
   },
   {
    "duration": 3,
    "start_time": "2021-12-22T19:03:20.900Z"
   },
   {
    "duration": 1090,
    "start_time": "2021-12-23T09:44:55.879Z"
   },
   {
    "duration": 19,
    "start_time": "2021-12-23T09:44:57.849Z"
   },
   {
    "duration": 19,
    "start_time": "2021-12-23T09:44:58.660Z"
   },
   {
    "duration": 5,
    "start_time": "2021-12-23T09:45:02.509Z"
   },
   {
    "duration": 6,
    "start_time": "2021-12-23T09:45:03.243Z"
   },
   {
    "duration": 4,
    "start_time": "2021-12-23T09:45:03.827Z"
   },
   {
    "duration": 4,
    "start_time": "2021-12-23T09:45:04.771Z"
   },
   {
    "duration": 4,
    "start_time": "2021-12-23T09:45:05.758Z"
   },
   {
    "duration": 32,
    "start_time": "2021-12-23T09:45:11.059Z"
   },
   {
    "duration": 4,
    "start_time": "2021-12-23T09:45:11.611Z"
   },
   {
    "duration": 5,
    "start_time": "2021-12-23T09:45:12.322Z"
   },
   {
    "duration": 3,
    "start_time": "2021-12-23T09:45:14.651Z"
   },
   {
    "duration": 23,
    "start_time": "2021-12-23T09:45:15.339Z"
   },
   {
    "duration": 4,
    "start_time": "2021-12-23T09:45:19.931Z"
   },
   {
    "duration": 11,
    "start_time": "2021-12-23T09:45:24.939Z"
   },
   {
    "duration": 6,
    "start_time": "2021-12-23T09:45:26.499Z"
   },
   {
    "duration": 3,
    "start_time": "2021-12-23T11:13:57.848Z"
   },
   {
    "duration": 3,
    "start_time": "2021-12-23T11:13:58.638Z"
   },
   {
    "duration": 572,
    "start_time": "2021-12-23T11:14:00.118Z"
   },
   {
    "duration": 613,
    "start_time": "2021-12-23T11:16:06.140Z"
   },
   {
    "duration": 3,
    "start_time": "2021-12-23T11:22:11.356Z"
   },
   {
    "duration": 3,
    "start_time": "2021-12-23T11:24:12.473Z"
   },
   {
    "duration": 13,
    "start_time": "2021-12-23T11:24:20.169Z"
   },
   {
    "duration": 2,
    "start_time": "2021-12-23T13:53:48.625Z"
   },
   {
    "duration": 18,
    "start_time": "2021-12-23T13:53:49.688Z"
   },
   {
    "duration": 12,
    "start_time": "2021-12-23T13:53:50.809Z"
   },
   {
    "duration": 5,
    "start_time": "2021-12-23T13:53:54.528Z"
   },
   {
    "duration": 4,
    "start_time": "2021-12-23T13:53:54.896Z"
   },
   {
    "duration": 4,
    "start_time": "2021-12-23T13:53:55.215Z"
   },
   {
    "duration": 4,
    "start_time": "2021-12-23T13:53:55.847Z"
   },
   {
    "duration": 4,
    "start_time": "2021-12-23T13:53:56.576Z"
   },
   {
    "duration": 3,
    "start_time": "2021-12-23T13:54:03.663Z"
   },
   {
    "duration": 4,
    "start_time": "2021-12-23T13:54:07.535Z"
   },
   {
    "duration": 4,
    "start_time": "2021-12-23T13:54:08.807Z"
   },
   {
    "duration": 3,
    "start_time": "2021-12-23T13:54:21.606Z"
   },
   {
    "duration": 3,
    "start_time": "2021-12-23T13:54:25.110Z"
   },
   {
    "duration": 14,
    "start_time": "2021-12-23T13:54:26.607Z"
   },
   {
    "duration": 3,
    "start_time": "2021-12-23T13:58:41.200Z"
   },
   {
    "duration": 3,
    "start_time": "2021-12-23T13:58:41.616Z"
   },
   {
    "duration": 3,
    "start_time": "2021-12-23T13:58:43.423Z"
   },
   {
    "duration": 13,
    "start_time": "2021-12-23T13:58:43.865Z"
   },
   {
    "duration": 3,
    "start_time": "2021-12-23T13:59:14.431Z"
   },
   {
    "duration": 3,
    "start_time": "2021-12-23T13:59:15.559Z"
   },
   {
    "duration": 13,
    "start_time": "2021-12-23T13:59:15.911Z"
   },
   {
    "duration": 2,
    "start_time": "2021-12-23T14:00:06.110Z"
   },
   {
    "duration": 3,
    "start_time": "2021-12-23T14:00:06.494Z"
   },
   {
    "duration": 14,
    "start_time": "2021-12-23T14:00:06.902Z"
   },
   {
    "duration": 5,
    "start_time": "2021-12-23T14:00:43.742Z"
   },
   {
    "duration": 4,
    "start_time": "2021-12-23T14:01:33.692Z"
   },
   {
    "duration": 4,
    "start_time": "2021-12-23T14:03:07.561Z"
   },
   {
    "duration": 4,
    "start_time": "2021-12-23T14:03:08.281Z"
   },
   {
    "duration": 2,
    "start_time": "2021-12-23T14:03:17.448Z"
   },
   {
    "duration": 27,
    "start_time": "2021-12-23T14:03:17.452Z"
   },
   {
    "duration": 11,
    "start_time": "2021-12-23T14:03:17.481Z"
   },
   {
    "duration": 8,
    "start_time": "2021-12-23T14:03:17.494Z"
   },
   {
    "duration": 10,
    "start_time": "2021-12-23T14:03:17.503Z"
   },
   {
    "duration": 5,
    "start_time": "2021-12-23T14:03:17.514Z"
   },
   {
    "duration": 9,
    "start_time": "2021-12-23T14:03:17.521Z"
   },
   {
    "duration": 5,
    "start_time": "2021-12-23T14:03:17.533Z"
   },
   {
    "duration": 4,
    "start_time": "2021-12-23T14:03:17.540Z"
   },
   {
    "duration": 15,
    "start_time": "2021-12-23T14:03:17.545Z"
   },
   {
    "duration": 3,
    "start_time": "2021-12-23T14:03:17.562Z"
   },
   {
    "duration": 6,
    "start_time": "2021-12-23T14:03:17.566Z"
   },
   {
    "duration": 24,
    "start_time": "2021-12-23T14:03:17.573Z"
   },
   {
    "duration": 3,
    "start_time": "2021-12-23T14:03:17.598Z"
   },
   {
    "duration": 6,
    "start_time": "2021-12-23T14:03:17.603Z"
   },
   {
    "duration": 14,
    "start_time": "2021-12-23T14:03:17.610Z"
   },
   {
    "duration": 599,
    "start_time": "2021-12-23T14:03:17.625Z"
   },
   {
    "duration": 3,
    "start_time": "2021-12-23T14:03:24.497Z"
   },
   {
    "duration": 3,
    "start_time": "2021-12-23T14:03:24.817Z"
   },
   {
    "duration": 13,
    "start_time": "2021-12-23T14:03:25.449Z"
   },
   {
    "duration": 4,
    "start_time": "2021-12-23T14:03:26.601Z"
   },
   {
    "duration": 4,
    "start_time": "2021-12-23T14:03:27.208Z"
   },
   {
    "duration": 3,
    "start_time": "2021-12-23T14:03:30.449Z"
   },
   {
    "duration": 6,
    "start_time": "2021-12-23T14:55:40.729Z"
   },
   {
    "duration": 3,
    "start_time": "2021-12-23T14:55:53.433Z"
   },
   {
    "duration": 5,
    "start_time": "2021-12-23T14:56:54.112Z"
   },
   {
    "duration": 3,
    "start_time": "2021-12-23T14:56:55.432Z"
   },
   {
    "duration": 3,
    "start_time": "2021-12-23T14:57:22.807Z"
   },
   {
    "duration": 3,
    "start_time": "2021-12-23T14:57:28.006Z"
   },
   {
    "duration": 3,
    "start_time": "2021-12-23T14:57:28.437Z"
   },
   {
    "duration": 5,
    "start_time": "2021-12-23T15:41:06.937Z"
   },
   {
    "duration": 276,
    "start_time": "2021-12-23T15:41:32.615Z"
   },
   {
    "duration": 4,
    "start_time": "2021-12-23T15:41:52.143Z"
   },
   {
    "duration": 2,
    "start_time": "2021-12-23T15:46:31.915Z"
   },
   {
    "duration": 8,
    "start_time": "2021-12-23T15:47:29.682Z"
   },
   {
    "duration": 3,
    "start_time": "2021-12-23T15:48:12.929Z"
   },
   {
    "duration": 21,
    "start_time": "2021-12-23T15:48:12.933Z"
   },
   {
    "duration": 13,
    "start_time": "2021-12-23T15:48:12.956Z"
   },
   {
    "duration": 6,
    "start_time": "2021-12-23T15:48:12.971Z"
   },
   {
    "duration": 6,
    "start_time": "2021-12-23T15:48:12.978Z"
   },
   {
    "duration": 9,
    "start_time": "2021-12-23T15:48:12.985Z"
   },
   {
    "duration": 10,
    "start_time": "2021-12-23T15:48:12.996Z"
   },
   {
    "duration": 5,
    "start_time": "2021-12-23T15:48:13.008Z"
   },
   {
    "duration": 7,
    "start_time": "2021-12-23T15:48:13.015Z"
   },
   {
    "duration": 9,
    "start_time": "2021-12-23T15:48:13.024Z"
   },
   {
    "duration": 8,
    "start_time": "2021-12-23T15:48:13.034Z"
   },
   {
    "duration": 17,
    "start_time": "2021-12-23T15:48:13.043Z"
   },
   {
    "duration": 3,
    "start_time": "2021-12-23T15:48:20.817Z"
   },
   {
    "duration": 22,
    "start_time": "2021-12-23T15:48:20.822Z"
   },
   {
    "duration": 12,
    "start_time": "2021-12-23T15:48:20.846Z"
   },
   {
    "duration": 6,
    "start_time": "2021-12-23T15:48:20.860Z"
   },
   {
    "duration": 9,
    "start_time": "2021-12-23T15:48:20.868Z"
   },
   {
    "duration": 9,
    "start_time": "2021-12-23T15:48:20.878Z"
   },
   {
    "duration": 4,
    "start_time": "2021-12-23T15:48:20.889Z"
   },
   {
    "duration": 5,
    "start_time": "2021-12-23T15:48:20.895Z"
   },
   {
    "duration": 7,
    "start_time": "2021-12-23T15:48:20.902Z"
   },
   {
    "duration": 6,
    "start_time": "2021-12-23T15:48:20.910Z"
   },
   {
    "duration": 7,
    "start_time": "2021-12-23T15:48:20.918Z"
   },
   {
    "duration": 2,
    "start_time": "2021-12-23T15:48:30.665Z"
   },
   {
    "duration": 21,
    "start_time": "2021-12-23T15:48:30.670Z"
   },
   {
    "duration": 13,
    "start_time": "2021-12-23T15:48:30.694Z"
   },
   {
    "duration": 7,
    "start_time": "2021-12-23T15:48:30.710Z"
   },
   {
    "duration": 7,
    "start_time": "2021-12-23T15:48:30.719Z"
   },
   {
    "duration": 6,
    "start_time": "2021-12-23T15:48:30.728Z"
   },
   {
    "duration": 24,
    "start_time": "2021-12-23T15:48:30.737Z"
   },
   {
    "duration": 3,
    "start_time": "2021-12-23T15:48:30.763Z"
   },
   {
    "duration": 5,
    "start_time": "2021-12-23T15:48:30.768Z"
   },
   {
    "duration": 8,
    "start_time": "2021-12-23T15:48:30.774Z"
   },
   {
    "duration": 6,
    "start_time": "2021-12-23T15:48:30.784Z"
   },
   {
    "duration": 14,
    "start_time": "2021-12-23T15:48:30.792Z"
   },
   {
    "duration": 29,
    "start_time": "2021-12-23T15:48:30.807Z"
   },
   {
    "duration": 3,
    "start_time": "2021-12-23T15:48:30.837Z"
   },
   {
    "duration": 7,
    "start_time": "2021-12-23T15:48:30.842Z"
   },
   {
    "duration": 16,
    "start_time": "2021-12-23T15:48:30.850Z"
   },
   {
    "duration": 583,
    "start_time": "2021-12-23T15:48:30.867Z"
   },
   {
    "duration": 9,
    "start_time": "2021-12-23T15:48:31.452Z"
   },
   {
    "duration": 14,
    "start_time": "2021-12-23T15:48:31.463Z"
   },
   {
    "duration": 15,
    "start_time": "2021-12-23T15:48:31.479Z"
   },
   {
    "duration": 4,
    "start_time": "2021-12-23T15:48:31.495Z"
   },
   {
    "duration": 8,
    "start_time": "2021-12-23T15:48:31.500Z"
   },
   {
    "duration": 14,
    "start_time": "2021-12-23T15:48:31.510Z"
   },
   {
    "duration": 10,
    "start_time": "2021-12-23T15:48:31.526Z"
   },
   {
    "duration": 5515,
    "start_time": "2021-12-23T15:48:34.295Z"
   },
   {
    "duration": -466,
    "start_time": "2021-12-23T15:48:40.277Z"
   },
   {
    "duration": 4985,
    "start_time": "2021-12-23T15:49:50.918Z"
   },
   {
    "duration": 2,
    "start_time": "2021-12-23T15:49:59.862Z"
   },
   {
    "duration": 18,
    "start_time": "2021-12-23T15:50:00.413Z"
   },
   {
    "duration": 12,
    "start_time": "2021-12-23T15:50:00.975Z"
   },
   {
    "duration": 3,
    "start_time": "2021-12-23T15:50:06.982Z"
   },
   {
    "duration": 18,
    "start_time": "2021-12-23T15:50:07.567Z"
   },
   {
    "duration": 13,
    "start_time": "2021-12-23T15:50:08.110Z"
   },
   {
    "duration": 5,
    "start_time": "2021-12-23T15:50:13.173Z"
   },
   {
    "duration": 5,
    "start_time": "2021-12-23T15:50:13.470Z"
   },
   {
    "duration": 3,
    "start_time": "2021-12-23T15:50:13.766Z"
   },
   {
    "duration": 4,
    "start_time": "2021-12-23T15:50:14.045Z"
   },
   {
    "duration": 4,
    "start_time": "2021-12-23T15:50:14.382Z"
   },
   {
    "duration": 3,
    "start_time": "2021-12-23T15:50:21.798Z"
   },
   {
    "duration": 4,
    "start_time": "2021-12-23T15:50:22.478Z"
   },
   {
    "duration": 4,
    "start_time": "2021-12-23T15:50:22.960Z"
   },
   {
    "duration": 3,
    "start_time": "2021-12-23T15:50:23.430Z"
   },
   {
    "duration": 25,
    "start_time": "2021-12-23T15:50:23.870Z"
   },
   {
    "duration": 4,
    "start_time": "2021-12-23T15:50:25.701Z"
   },
   {
    "duration": 2,
    "start_time": "2021-12-23T15:50:27.142Z"
   },
   {
    "duration": 3,
    "start_time": "2021-12-23T15:50:27.717Z"
   },
   {
    "duration": 616,
    "start_time": "2021-12-23T15:50:30.061Z"
   },
   {
    "duration": 3,
    "start_time": "2021-12-23T15:50:41.525Z"
   },
   {
    "duration": 3,
    "start_time": "2021-12-23T15:50:42.022Z"
   },
   {
    "duration": 14,
    "start_time": "2021-12-23T15:50:42.469Z"
   },
   {
    "duration": 4,
    "start_time": "2021-12-23T15:50:43.461Z"
   },
   {
    "duration": 4,
    "start_time": "2021-12-23T15:50:44.109Z"
   },
   {
    "duration": 3,
    "start_time": "2021-12-23T15:50:44.573Z"
   },
   {
    "duration": 4,
    "start_time": "2021-12-23T15:50:54.485Z"
   },
   {
    "duration": 9,
    "start_time": "2021-12-23T15:51:04.332Z"
   },
   {
    "duration": 14,
    "start_time": "2021-12-23T15:51:20.037Z"
   },
   {
    "duration": 3,
    "start_time": "2021-12-23T15:51:50.245Z"
   },
   {
    "duration": 8,
    "start_time": "2021-12-23T15:51:53.875Z"
   },
   {
    "duration": 2,
    "start_time": "2021-12-23T16:01:00.409Z"
   },
   {
    "duration": 8,
    "start_time": "2021-12-23T16:01:02.082Z"
   },
   {
    "duration": 10,
    "start_time": "2021-12-23T16:01:07.486Z"
   },
   {
    "duration": 6270,
    "start_time": "2021-12-23T16:04:34.324Z"
   },
   {
    "duration": -452,
    "start_time": "2021-12-23T16:04:41.048Z"
   },
   {
    "duration": 3,
    "start_time": "2021-12-23T16:04:49.034Z"
   },
   {
    "duration": 19,
    "start_time": "2021-12-23T16:04:49.689Z"
   },
   {
    "duration": 12,
    "start_time": "2021-12-23T16:04:51.042Z"
   },
   {
    "duration": 5,
    "start_time": "2021-12-23T16:04:56.113Z"
   },
   {
    "duration": 5,
    "start_time": "2021-12-23T16:04:56.473Z"
   },
   {
    "duration": 5,
    "start_time": "2021-12-23T16:04:56.754Z"
   },
   {
    "duration": 3,
    "start_time": "2021-12-23T16:04:57.362Z"
   },
   {
    "duration": 4,
    "start_time": "2021-12-23T16:04:58.257Z"
   },
   {
    "duration": 3,
    "start_time": "2021-12-23T16:05:08.601Z"
   },
   {
    "duration": 4,
    "start_time": "2021-12-23T16:05:13.272Z"
   },
   {
    "duration": 4,
    "start_time": "2021-12-23T16:05:13.840Z"
   },
   {
    "duration": 4,
    "start_time": "2021-12-23T16:05:24.105Z"
   },
   {
    "duration": 2,
    "start_time": "2021-12-23T16:05:25.217Z"
   },
   {
    "duration": 8,
    "start_time": "2021-12-23T16:05:26.305Z"
   },
   {
    "duration": 3,
    "start_time": "2021-12-23T16:06:37.896Z"
   },
   {
    "duration": 4,
    "start_time": "2021-12-23T16:07:16.478Z"
   },
   {
    "duration": 4,
    "start_time": "2021-12-23T16:07:58.406Z"
   },
   {
    "duration": 3,
    "start_time": "2021-12-23T16:11:10.642Z"
   },
   {
    "duration": 22,
    "start_time": "2021-12-23T16:11:47.067Z"
   },
   {
    "duration": 5,
    "start_time": "2021-12-23T16:13:09.080Z"
   },
   {
    "duration": 4,
    "start_time": "2021-12-23T16:15:13.957Z"
   },
   {
    "duration": 3,
    "start_time": "2021-12-23T16:15:25.855Z"
   },
   {
    "duration": 3,
    "start_time": "2021-12-23T16:18:02.297Z"
   },
   {
    "duration": 13,
    "start_time": "2021-12-23T16:18:20.257Z"
   },
   {
    "duration": 4,
    "start_time": "2021-12-23T16:19:29.735Z"
   },
   {
    "duration": 3,
    "start_time": "2021-12-23T16:20:04.511Z"
   },
   {
    "duration": 4,
    "start_time": "2021-12-23T16:20:25.430Z"
   },
   {
    "duration": 5,
    "start_time": "2021-12-23T16:25:11.231Z"
   },
   {
    "duration": 4,
    "start_time": "2021-12-23T16:25:13.224Z"
   },
   {
    "duration": 4,
    "start_time": "2021-12-23T16:25:38.191Z"
   },
   {
    "duration": 4,
    "start_time": "2021-12-23T16:25:38.625Z"
   },
   {
    "duration": 2,
    "start_time": "2021-12-23T16:32:00.709Z"
   },
   {
    "duration": 20,
    "start_time": "2021-12-23T16:32:01.477Z"
   },
   {
    "duration": 4,
    "start_time": "2021-12-23T16:32:08.444Z"
   },
   {
    "duration": 3,
    "start_time": "2021-12-23T16:32:09.220Z"
   },
   {
    "duration": 3,
    "start_time": "2021-12-23T16:32:10.524Z"
   },
   {
    "duration": 3,
    "start_time": "2021-12-23T16:32:39.562Z"
   },
   {
    "duration": 84,
    "start_time": "2021-12-23T16:32:40.595Z"
   },
   {
    "duration": 2,
    "start_time": "2021-12-23T16:33:09.530Z"
   },
   {
    "duration": 12,
    "start_time": "2021-12-23T16:33:10.043Z"
   },
   {
    "duration": 4,
    "start_time": "2021-12-23T16:33:12.499Z"
   },
   {
    "duration": 4,
    "start_time": "2021-12-23T16:33:13.277Z"
   },
   {
    "duration": 4,
    "start_time": "2021-12-23T16:33:13.474Z"
   },
   {
    "duration": 3,
    "start_time": "2021-12-23T16:33:23.266Z"
   },
   {
    "duration": 12,
    "start_time": "2021-12-23T16:33:25.562Z"
   },
   {
    "duration": 3,
    "start_time": "2021-12-23T16:33:45.529Z"
   },
   {
    "duration": 14,
    "start_time": "2021-12-23T16:33:46.305Z"
   },
   {
    "duration": 4,
    "start_time": "2021-12-23T16:33:49.586Z"
   },
   {
    "duration": 4,
    "start_time": "2021-12-23T16:33:50.120Z"
   },
   {
    "duration": 3,
    "start_time": "2021-12-23T16:33:50.593Z"
   },
   {
    "duration": 4,
    "start_time": "2021-12-23T16:34:00.009Z"
   },
   {
    "duration": 12,
    "start_time": "2021-12-23T16:34:00.472Z"
   },
   {
    "duration": 4,
    "start_time": "2021-12-23T16:34:00.888Z"
   },
   {
    "duration": 4,
    "start_time": "2021-12-23T16:34:01.328Z"
   },
   {
    "duration": 4,
    "start_time": "2021-12-23T16:34:01.929Z"
   },
   {
    "duration": 2,
    "start_time": "2021-12-23T16:34:24.617Z"
   },
   {
    "duration": 24,
    "start_time": "2021-12-23T16:34:26.113Z"
   },
   {
    "duration": 3,
    "start_time": "2021-12-23T16:34:31.672Z"
   },
   {
    "duration": 4,
    "start_time": "2021-12-23T16:34:32.144Z"
   },
   {
    "duration": 4,
    "start_time": "2021-12-23T16:34:32.560Z"
   },
   {
    "duration": 3,
    "start_time": "2021-12-23T16:34:54.335Z"
   },
   {
    "duration": 25,
    "start_time": "2021-12-23T16:34:54.848Z"
   },
   {
    "duration": 4,
    "start_time": "2021-12-23T16:34:55.999Z"
   },
   {
    "duration": 4,
    "start_time": "2021-12-23T16:34:56.430Z"
   },
   {
    "duration": 3,
    "start_time": "2021-12-23T16:34:56.832Z"
   },
   {
    "duration": 3,
    "start_time": "2021-12-23T16:35:07.110Z"
   },
   {
    "duration": 13,
    "start_time": "2021-12-23T16:35:07.772Z"
   },
   {
    "duration": 4,
    "start_time": "2021-12-23T16:35:09.190Z"
   },
   {
    "duration": 3,
    "start_time": "2021-12-23T16:35:09.663Z"
   },
   {
    "duration": 3,
    "start_time": "2021-12-23T16:35:10.063Z"
   },
   {
    "duration": 3,
    "start_time": "2021-12-23T16:36:07.046Z"
   },
   {
    "duration": 18,
    "start_time": "2021-12-23T16:36:07.733Z"
   },
   {
    "duration": 4,
    "start_time": "2021-12-23T16:36:11.637Z"
   },
   {
    "duration": 4,
    "start_time": "2021-12-23T16:36:12.020Z"
   },
   {
    "duration": 4,
    "start_time": "2021-12-23T16:36:12.461Z"
   },
   {
    "duration": 2,
    "start_time": "2021-12-23T16:36:23.102Z"
   },
   {
    "duration": 20,
    "start_time": "2021-12-23T16:36:23.534Z"
   },
   {
    "duration": 4,
    "start_time": "2021-12-23T16:36:23.885Z"
   },
   {
    "duration": 4,
    "start_time": "2021-12-23T16:36:24.341Z"
   },
   {
    "duration": 3,
    "start_time": "2021-12-23T16:36:24.983Z"
   },
   {
    "duration": 3,
    "start_time": "2021-12-23T16:41:32.917Z"
   },
   {
    "duration": 15,
    "start_time": "2021-12-23T16:41:33.742Z"
   },
   {
    "duration": 3,
    "start_time": "2021-12-23T16:41:35.285Z"
   },
   {
    "duration": 3,
    "start_time": "2021-12-23T16:41:40.917Z"
   },
   {
    "duration": 3,
    "start_time": "2021-12-23T16:41:41.926Z"
   },
   {
    "duration": 213,
    "start_time": "2021-12-23T16:44:45.312Z"
   },
   {
    "duration": 2,
    "start_time": "2021-12-23T16:45:24.401Z"
   },
   {
    "duration": 12,
    "start_time": "2021-12-23T16:45:25.431Z"
   },
   {
    "duration": 4,
    "start_time": "2021-12-23T16:45:26.345Z"
   },
   {
    "duration": 4,
    "start_time": "2021-12-23T16:45:26.847Z"
   },
   {
    "duration": 9,
    "start_time": "2021-12-23T16:45:27.385Z"
   },
   {
    "duration": 3,
    "start_time": "2021-12-23T17:04:27.773Z"
   },
   {
    "duration": 13,
    "start_time": "2021-12-23T17:04:28.277Z"
   },
   {
    "duration": 4,
    "start_time": "2021-12-23T17:04:29.300Z"
   },
   {
    "duration": 4,
    "start_time": "2021-12-23T17:04:29.772Z"
   },
   {
    "duration": 3,
    "start_time": "2021-12-23T17:04:30.316Z"
   },
   {
    "duration": 3,
    "start_time": "2021-12-23T17:04:56.994Z"
   },
   {
    "duration": 2,
    "start_time": "2021-12-23T17:04:57.428Z"
   },
   {
    "duration": 13,
    "start_time": "2021-12-23T17:04:57.859Z"
   },
   {
    "duration": 2,
    "start_time": "2021-12-23T17:05:18.202Z"
   },
   {
    "duration": 18,
    "start_time": "2021-12-23T17:05:18.617Z"
   },
   {
    "duration": 11,
    "start_time": "2021-12-23T17:05:18.987Z"
   },
   {
    "duration": 6,
    "start_time": "2021-12-23T17:05:21.905Z"
   },
   {
    "duration": 5,
    "start_time": "2021-12-23T17:05:22.233Z"
   },
   {
    "duration": 4,
    "start_time": "2021-12-23T17:05:22.545Z"
   },
   {
    "duration": 4,
    "start_time": "2021-12-23T17:05:23.146Z"
   },
   {
    "duration": 4,
    "start_time": "2021-12-23T17:05:23.665Z"
   },
   {
    "duration": 2,
    "start_time": "2021-12-23T17:05:27.553Z"
   },
   {
    "duration": 4,
    "start_time": "2021-12-23T17:05:27.985Z"
   },
   {
    "duration": 4,
    "start_time": "2021-12-23T17:05:30.930Z"
   },
   {
    "duration": 2,
    "start_time": "2021-12-23T17:05:31.569Z"
   },
   {
    "duration": 22,
    "start_time": "2021-12-23T17:05:32.073Z"
   },
   {
    "duration": 4,
    "start_time": "2021-12-23T17:05:34.961Z"
   },
   {
    "duration": 3,
    "start_time": "2021-12-23T17:05:39.289Z"
   },
   {
    "duration": 2,
    "start_time": "2021-12-23T17:05:40.009Z"
   },
   {
    "duration": 571,
    "start_time": "2021-12-23T17:05:45.057Z"
   },
   {
    "duration": 4,
    "start_time": "2021-12-23T17:05:53.177Z"
   },
   {
    "duration": 3,
    "start_time": "2021-12-23T17:05:53.897Z"
   },
   {
    "duration": 8,
    "start_time": "2021-12-23T17:05:54.400Z"
   },
   {
    "duration": 3,
    "start_time": "2021-12-23T17:06:16.082Z"
   },
   {
    "duration": 13,
    "start_time": "2021-12-23T17:06:16.584Z"
   },
   {
    "duration": 2,
    "start_time": "2021-12-23T17:06:30.377Z"
   },
   {
    "duration": 8,
    "start_time": "2021-12-23T17:06:30.888Z"
   },
   {
    "duration": 4,
    "start_time": "2021-12-23T17:06:31.600Z"
   },
   {
    "duration": 3,
    "start_time": "2021-12-23T17:06:32.152Z"
   },
   {
    "duration": 3,
    "start_time": "2021-12-23T17:06:32.632Z"
   },
   {
    "duration": 3,
    "start_time": "2021-12-23T17:06:38.136Z"
   },
   {
    "duration": 23,
    "start_time": "2021-12-23T17:06:38.432Z"
   },
   {
    "duration": 6,
    "start_time": "2021-12-23T17:06:39.696Z"
   },
   {
    "duration": 4,
    "start_time": "2021-12-23T17:06:40.248Z"
   },
   {
    "duration": 3,
    "start_time": "2021-12-23T17:06:40.568Z"
   },
   {
    "duration": 7,
    "start_time": "2021-12-23T17:08:44.575Z"
   },
   {
    "duration": 5,
    "start_time": "2021-12-23T17:37:00.279Z"
   },
   {
    "duration": 3,
    "start_time": "2021-12-23T19:34:50.637Z"
   },
   {
    "duration": 194,
    "start_time": "2021-12-23T19:36:56.810Z"
   },
   {
    "duration": 3,
    "start_time": "2021-12-23T19:38:05.656Z"
   },
   {
    "duration": 18,
    "start_time": "2021-12-23T19:38:06.249Z"
   },
   {
    "duration": 11,
    "start_time": "2021-12-23T19:38:06.777Z"
   },
   {
    "duration": 7,
    "start_time": "2021-12-23T19:38:07.329Z"
   },
   {
    "duration": 5,
    "start_time": "2021-12-23T19:38:09.033Z"
   },
   {
    "duration": 6,
    "start_time": "2021-12-23T19:38:09.288Z"
   },
   {
    "duration": 3,
    "start_time": "2021-12-23T19:38:09.562Z"
   },
   {
    "duration": 4,
    "start_time": "2021-12-23T19:38:09.824Z"
   },
   {
    "duration": 4,
    "start_time": "2021-12-23T19:38:10.113Z"
   },
   {
    "duration": 2,
    "start_time": "2021-12-23T19:38:12.352Z"
   },
   {
    "duration": 4,
    "start_time": "2021-12-23T19:38:12.584Z"
   },
   {
    "duration": 4,
    "start_time": "2021-12-23T19:38:12.848Z"
   },
   {
    "duration": 2,
    "start_time": "2021-12-23T19:38:13.121Z"
   },
   {
    "duration": 24,
    "start_time": "2021-12-23T19:38:13.360Z"
   },
   {
    "duration": 4,
    "start_time": "2021-12-23T19:38:13.626Z"
   },
   {
    "duration": 2,
    "start_time": "2021-12-23T19:38:14.432Z"
   },
   {
    "duration": 3,
    "start_time": "2021-12-23T19:38:14.712Z"
   },
   {
    "duration": 581,
    "start_time": "2021-12-23T19:38:14.999Z"
   },
   {
    "duration": 4,
    "start_time": "2021-12-23T19:38:16.400Z"
   },
   {
    "duration": 2,
    "start_time": "2021-12-23T19:38:16.728Z"
   },
   {
    "duration": 8,
    "start_time": "2021-12-23T19:38:17.064Z"
   },
   {
    "duration": 3,
    "start_time": "2021-12-23T19:38:17.400Z"
   },
   {
    "duration": 3,
    "start_time": "2021-12-23T19:38:17.729Z"
   },
   {
    "duration": 3,
    "start_time": "2021-12-23T19:38:18.047Z"
   },
   {
    "duration": 3,
    "start_time": "2021-12-23T19:38:18.984Z"
   },
   {
    "duration": 24,
    "start_time": "2021-12-23T19:38:19.273Z"
   },
   {
    "duration": 5,
    "start_time": "2021-12-23T19:38:19.560Z"
   },
   {
    "duration": 5,
    "start_time": "2021-12-23T19:38:19.832Z"
   },
   {
    "duration": 4,
    "start_time": "2021-12-23T19:38:20.079Z"
   },
   {
    "duration": 3,
    "start_time": "2021-12-23T19:38:22.063Z"
   },
   {
    "duration": 8,
    "start_time": "2021-12-23T19:38:22.352Z"
   },
   {
    "duration": 4,
    "start_time": "2021-12-23T19:38:22.712Z"
   },
   {
    "duration": 4,
    "start_time": "2021-12-23T19:39:54.334Z"
   },
   {
    "duration": 4,
    "start_time": "2021-12-23T19:42:47.602Z"
   },
   {
    "duration": 3,
    "start_time": "2021-12-23T19:45:07.679Z"
   },
   {
    "duration": 3,
    "start_time": "2021-12-23T19:48:27.322Z"
   },
   {
    "duration": 3,
    "start_time": "2021-12-23T20:01:41.080Z"
   },
   {
    "duration": 24,
    "start_time": "2021-12-23T20:02:02.736Z"
   },
   {
    "duration": 6,
    "start_time": "2021-12-23T20:02:46.839Z"
   },
   {
    "duration": 6,
    "start_time": "2021-12-23T20:03:07.231Z"
   },
   {
    "duration": 4,
    "start_time": "2021-12-23T20:03:27.525Z"
   },
   {
    "duration": 3,
    "start_time": "2021-12-23T20:03:49.430Z"
   },
   {
    "duration": 3,
    "start_time": "2021-12-23T20:04:09.823Z"
   },
   {
    "duration": 1374,
    "start_time": "2021-12-24T07:14:12.530Z"
   },
   {
    "duration": 89,
    "start_time": "2021-12-24T07:14:15.729Z"
   },
   {
    "duration": 41,
    "start_time": "2021-12-24T07:14:17.982Z"
   },
   {
    "duration": 8,
    "start_time": "2021-12-24T07:14:21.172Z"
   },
   {
    "duration": 8,
    "start_time": "2021-12-24T07:14:25.910Z"
   },
   {
    "duration": 7,
    "start_time": "2021-12-24T07:14:26.523Z"
   },
   {
    "duration": 5,
    "start_time": "2021-12-24T07:14:27.107Z"
   },
   {
    "duration": 5,
    "start_time": "2021-12-24T07:14:29.643Z"
   },
   {
    "duration": 5,
    "start_time": "2021-12-24T07:14:30.243Z"
   },
   {
    "duration": 41,
    "start_time": "2021-12-24T07:14:35.844Z"
   },
   {
    "duration": 5,
    "start_time": "2021-12-24T07:14:36.347Z"
   },
   {
    "duration": 5,
    "start_time": "2021-12-24T07:14:36.931Z"
   },
   {
    "duration": 3,
    "start_time": "2021-12-24T07:14:37.427Z"
   },
   {
    "duration": 34,
    "start_time": "2021-12-24T07:14:39.675Z"
   },
   {
    "duration": 5,
    "start_time": "2021-12-24T07:14:40.211Z"
   },
   {
    "duration": 32,
    "start_time": "2021-12-24T07:14:44.835Z"
   },
   {
    "duration": 5,
    "start_time": "2021-12-24T07:14:45.547Z"
   },
   {
    "duration": 1097,
    "start_time": "2021-12-24T07:14:48.659Z"
   },
   {
    "duration": 5,
    "start_time": "2021-12-24T07:17:55.839Z"
   },
   {
    "duration": 4,
    "start_time": "2021-12-24T07:17:56.498Z"
   },
   {
    "duration": 15,
    "start_time": "2021-12-24T07:17:57.382Z"
   },
   {
    "duration": 5,
    "start_time": "2021-12-24T07:17:59.887Z"
   },
   {
    "duration": 4,
    "start_time": "2021-12-24T07:18:00.679Z"
   },
   {
    "duration": 4,
    "start_time": "2021-12-24T07:18:03.015Z"
   },
   {
    "duration": 4,
    "start_time": "2021-12-24T07:18:05.358Z"
   },
   {
    "duration": 35,
    "start_time": "2021-12-24T07:18:07.688Z"
   },
   {
    "duration": 11,
    "start_time": "2021-12-24T07:18:10.246Z"
   },
   {
    "duration": 5,
    "start_time": "2021-12-24T07:18:10.982Z"
   },
   {
    "duration": 5,
    "start_time": "2021-12-24T07:18:11.630Z"
   },
   {
    "duration": 4,
    "start_time": "2021-12-24T07:18:19.518Z"
   },
   {
    "duration": 10,
    "start_time": "2021-12-24T07:18:21.935Z"
   },
   {
    "duration": 5,
    "start_time": "2021-12-24T07:18:23.438Z"
   },
   {
    "duration": 5,
    "start_time": "2021-12-24T07:18:24.318Z"
   },
   {
    "duration": 5,
    "start_time": "2021-12-24T07:18:27.334Z"
   },
   {
    "duration": 5,
    "start_time": "2021-12-24T07:18:28.103Z"
   },
   {
    "duration": 5,
    "start_time": "2021-12-24T07:18:28.734Z"
   },
   {
    "duration": 4,
    "start_time": "2021-12-24T07:18:35.702Z"
   },
   {
    "duration": 34,
    "start_time": "2021-12-24T07:18:36.188Z"
   },
   {
    "duration": 9,
    "start_time": "2021-12-24T07:18:36.646Z"
   },
   {
    "duration": 8,
    "start_time": "2021-12-24T07:18:39.206Z"
   },
   {
    "duration": 4,
    "start_time": "2021-12-24T07:18:39.679Z"
   },
   {
    "duration": 5,
    "start_time": "2021-12-24T07:18:40.198Z"
   },
   {
    "duration": 5,
    "start_time": "2021-12-24T07:18:40.702Z"
   },
   {
    "duration": 5,
    "start_time": "2021-12-24T07:30:42.712Z"
   },
   {
    "duration": 3,
    "start_time": "2021-12-24T07:30:45.135Z"
   },
   {
    "duration": 4,
    "start_time": "2021-12-24T07:30:55.878Z"
   },
   {
    "duration": 6,
    "start_time": "2021-12-24T07:31:46.374Z"
   },
   {
    "duration": 5,
    "start_time": "2021-12-24T07:32:31.037Z"
   },
   {
    "duration": 390,
    "start_time": "2021-12-24T07:33:33.380Z"
   },
   {
    "duration": 7,
    "start_time": "2021-12-24T08:54:12.284Z"
   },
   {
    "duration": 7,
    "start_time": "2021-12-24T08:54:37.212Z"
   },
   {
    "duration": 5,
    "start_time": "2021-12-24T08:56:34.290Z"
   },
   {
    "duration": 7,
    "start_time": "2021-12-24T08:56:35.882Z"
   },
   {
    "duration": 6,
    "start_time": "2021-12-24T08:56:57.504Z"
   },
   {
    "duration": 6,
    "start_time": "2021-12-24T08:56:58.305Z"
   },
   {
    "duration": 5,
    "start_time": "2021-12-24T08:57:06.994Z"
   },
   {
    "duration": 5,
    "start_time": "2021-12-24T09:01:55.898Z"
   },
   {
    "duration": 5,
    "start_time": "2021-12-24T09:04:08.415Z"
   },
   {
    "duration": 410,
    "start_time": "2021-12-24T09:04:24.008Z"
   },
   {
    "duration": 7,
    "start_time": "2021-12-24T09:06:04.983Z"
   },
   {
    "duration": 266,
    "start_time": "2021-12-24T09:06:28.759Z"
   },
   {
    "duration": 5,
    "start_time": "2021-12-24T09:07:49.385Z"
   },
   {
    "duration": 6,
    "start_time": "2021-12-24T09:07:50.139Z"
   },
   {
    "duration": 5,
    "start_time": "2021-12-24T09:08:23.394Z"
   },
   {
    "duration": 4,
    "start_time": "2021-12-24T09:09:15.810Z"
   },
   {
    "duration": 5,
    "start_time": "2021-12-24T09:09:28.570Z"
   },
   {
    "duration": 7,
    "start_time": "2021-12-24T09:12:39.295Z"
   },
   {
    "duration": 8,
    "start_time": "2021-12-24T09:13:02.893Z"
   },
   {
    "duration": 5,
    "start_time": "2021-12-24T09:13:57.589Z"
   },
   {
    "duration": 6,
    "start_time": "2021-12-24T09:15:57.930Z"
   },
   {
    "duration": 254,
    "start_time": "2021-12-24T09:23:09.458Z"
   },
   {
    "duration": 5,
    "start_time": "2021-12-24T10:02:44.624Z"
   },
   {
    "duration": 21,
    "start_time": "2021-12-24T10:02:51.198Z"
   },
   {
    "duration": 17,
    "start_time": "2021-12-24T10:02:55.254Z"
   },
   {
    "duration": 8,
    "start_time": "2021-12-24T10:03:02.950Z"
   },
   {
    "duration": 7,
    "start_time": "2021-12-24T10:03:20.773Z"
   },
   {
    "duration": 7,
    "start_time": "2021-12-24T10:03:33.428Z"
   },
   {
    "duration": 6,
    "start_time": "2021-12-24T10:03:35.764Z"
   },
   {
    "duration": 5,
    "start_time": "2021-12-24T10:03:40.611Z"
   },
   {
    "duration": 5,
    "start_time": "2021-12-24T10:03:42.956Z"
   },
   {
    "duration": 5,
    "start_time": "2021-12-24T10:04:14.323Z"
   },
   {
    "duration": 6,
    "start_time": "2021-12-24T10:04:18.899Z"
   },
   {
    "duration": 3,
    "start_time": "2021-12-24T10:04:42.291Z"
   },
   {
    "duration": 38,
    "start_time": "2021-12-24T10:08:36.590Z"
   },
   {
    "duration": 4,
    "start_time": "2021-12-24T10:08:42.429Z"
   },
   {
    "duration": 3,
    "start_time": "2021-12-24T10:09:26.437Z"
   },
   {
    "duration": 1038,
    "start_time": "2021-12-24T10:09:28.270Z"
   },
   {
    "duration": 5,
    "start_time": "2021-12-24T10:10:10.260Z"
   },
   {
    "duration": 4,
    "start_time": "2021-12-24T10:10:18.611Z"
   },
   {
    "duration": 11,
    "start_time": "2021-12-24T10:10:24.899Z"
   },
   {
    "duration": 5,
    "start_time": "2021-12-24T10:10:44.090Z"
   },
   {
    "duration": 5,
    "start_time": "2021-12-24T10:11:46.513Z"
   },
   {
    "duration": 5,
    "start_time": "2021-12-24T10:11:50.289Z"
   },
   {
    "duration": 5,
    "start_time": "2021-12-24T10:11:54.298Z"
   },
   {
    "duration": 4,
    "start_time": "2021-12-24T10:12:03.578Z"
   },
   {
    "duration": 32,
    "start_time": "2021-12-24T10:12:14.057Z"
   },
   {
    "duration": 8,
    "start_time": "2021-12-24T10:12:41.440Z"
   },
   {
    "duration": 5,
    "start_time": "2021-12-24T10:12:49.184Z"
   },
   {
    "duration": 4,
    "start_time": "2021-12-24T10:12:57.040Z"
   },
   {
    "duration": 3,
    "start_time": "2021-12-24T10:13:07.640Z"
   },
   {
    "duration": 11,
    "start_time": "2021-12-24T10:13:10.024Z"
   },
   {
    "duration": 4,
    "start_time": "2021-12-24T10:13:36.175Z"
   },
   {
    "duration": 5,
    "start_time": "2021-12-24T10:13:49.184Z"
   },
   {
    "duration": 5,
    "start_time": "2021-12-24T10:13:56.630Z"
   },
   {
    "duration": 5,
    "start_time": "2021-12-24T10:13:59.974Z"
   },
   {
    "duration": 5,
    "start_time": "2021-12-24T10:14:05.094Z"
   },
   {
    "duration": 4,
    "start_time": "2021-12-24T10:14:20.071Z"
   },
   {
    "duration": 50,
    "start_time": "2021-12-24T10:14:24.255Z"
   },
   {
    "duration": 8,
    "start_time": "2021-12-24T10:14:39.278Z"
   },
   {
    "duration": 7,
    "start_time": "2021-12-24T10:14:50.775Z"
   },
   {
    "duration": 5,
    "start_time": "2021-12-24T10:14:57.189Z"
   },
   {
    "duration": 5,
    "start_time": "2021-12-24T10:14:59.774Z"
   },
   {
    "duration": 5,
    "start_time": "2021-12-24T10:15:05.166Z"
   },
   {
    "duration": 3,
    "start_time": "2021-12-24T10:15:25.933Z"
   },
   {
    "duration": 7,
    "start_time": "2021-12-24T10:15:33.748Z"
   },
   {
    "duration": 5,
    "start_time": "2021-12-24T10:15:46.101Z"
   },
   {
    "duration": 6,
    "start_time": "2021-12-24T10:15:46.989Z"
   },
   {
    "duration": 5,
    "start_time": "2021-12-24T10:16:04.981Z"
   },
   {
    "duration": 5,
    "start_time": "2021-12-24T10:16:13.964Z"
   },
   {
    "duration": 5,
    "start_time": "2021-12-24T10:16:20.908Z"
   },
   {
    "duration": 5,
    "start_time": "2021-12-24T10:16:28.061Z"
   },
   {
    "duration": 6,
    "start_time": "2021-12-24T10:16:39.668Z"
   },
   {
    "duration": 6,
    "start_time": "2021-12-24T10:16:43.555Z"
   }
  ],
  "kernelspec": {
   "display_name": "Python 3 (ipykernel)",
   "language": "python",
   "name": "python3"
  },
  "language_info": {
   "codemirror_mode": {
    "name": "ipython",
    "version": 3
   },
   "file_extension": ".py",
   "mimetype": "text/x-python",
   "name": "python",
   "nbconvert_exporter": "python",
   "pygments_lexer": "ipython3",
   "version": "3.11.0"
  },
  "toc": {
   "base_numbering": 1,
   "nav_menu": {},
   "number_sections": true,
   "sideBar": true,
   "skip_h1_title": true,
   "title_cell": "Table of Contents",
   "title_sidebar": "Contents",
   "toc_cell": false,
   "toc_position": {},
   "toc_section_display": true,
   "toc_window_display": false
  }
 },
 "nbformat": 4,
 "nbformat_minor": 4
}
