{
 "cells": [
  {
   "cell_type": "markdown",
   "metadata": {},
   "source": [
    "# Определение наилучшего тарифа для телеком-компании"
   ]
  },
  {
   "cell_type": "markdown",
   "metadata": {},
   "source": [
    "# Описание задачи"
   ]
  },
  {
   "cell_type": "markdown",
   "metadata": {},
   "source": [
    "У телеком-компании имеются два тарифных плана: «Смарт» и «Ультра». Имеется выборка клиентов с информацией о том кто они, откуда, каким тарифом пользуются, сколько звонков и сообщений отправили за 2018 год. Необходимо выполнить анализ тарифов на выборке клиентов и определить, какой тариф приносит больше денег. Также нужно проверить отличается ли средняя выручка по Москве от выручки по другим регионам."
   ]
  },
  {
   "cell_type": "markdown",
   "metadata": {},
   "source": [
    "# План работы"
   ]
  },
  {
   "cell_type": "markdown",
   "metadata": {},
   "source": [
    "1. Обзор данных\n",
    "    1. Чтение файлов с данными\n",
    "    2. Оценка содержимого и размера прочитанных таблиц\n",
    "    3. Поиск пропусков данных в таблицах\n",
    "    4. Поиск строк-дубликатов в таблицах\n",
    "    5. Вывод\n",
    "2. Подготовка данных\n",
    "    1. Приведение данных к нужному виду\n",
    "    2. Поиск и исправление ошибок в данных\n",
    "    3. Подсчёт данных для каждого пользователя\n",
    "    4. Вывод\n",
    "3. Анализ данных\n",
    "    1. Вывод\n",
    "4. Проверка гипотез\n",
    "    1. Cредняя выручка пользователей тарифов «Ультра» и «Смарт» различаются\n",
    "    2. Cредняя выручка пользователей из Москвы отличается от выручки пользователей из других регионов\n",
    "    3. Вывод\n",
    "5. Общий вывод"
   ]
  },
  {
   "cell_type": "markdown",
   "metadata": {},
   "source": [
    "# Описание тарифов"
   ]
  },
  {
   "cell_type": "markdown",
   "metadata": {},
   "source": [
    "Тариф «Смарт»\n",
    "\n",
    "   1. Ежемесячная плата: 550 рублей\n",
    "    \n",
    "   2. Включено 500 минут разговора, 50 сообщений и 15 Гб интернет-трафика\n",
    "    \n",
    "   3. Стоимость услуг сверх тарифного пакета: 1. минута разговора: 3 рубля («Мегалайн» всегда округляет вверх значения минут и мегабайтов. Если пользователь проговорил всего 1 секунду, в тарифе засчитывается целая минута); 2. сообщение: 3 рубля; 3. 1 Гб интернет-трафика: 200 рублей.\n",
    "   \n",
    "Тариф «Ультра»\n",
    "\n",
    "   1. Ежемесячная плата: 1950 рублей\n",
    "   \n",
    "   2. Включено 3000 минут разговора, 1000 сообщений и 30 Гб интернет-трафика\n",
    "   \n",
    "   3. Стоимость услуг сверх тарифного пакета: 1. минута разговора: 1 рубль; 2. сообщение: 1 рубль; 3. 1 Гб интернет-трафика: 150 рублей.\n",
    "   \n",
    "Примечание:\n",
    "\n",
    "«Мегалайн» всегда округляет секунды до минут, а мегабайты — до гигабайт. Каждый звонок округляется отдельно: даже если он длился всего 1 секунду, будет засчитан как 1 минута.\n",
    "    \n",
    "Для веб-трафика отдельные сессии не считаются. Вместо этого общая сумма за месяц округляется в бо́льшую сторону. Если абонент использует 1025 мегабайт в этом месяце, с него возьмут плату за 2 гигабайта."
   ]
  },
  {
   "cell_type": "markdown",
   "metadata": {},
   "source": [
    "# Описание данных"
   ]
  },
  {
   "cell_type": "markdown",
   "metadata": {},
   "source": [
    "Таблица `users` (информация о пользователях):"
   ]
  },
  {
   "cell_type": "markdown",
   "metadata": {},
   "source": [
    "* user_id — уникальный идентификатор пользователя\r",
    "*  first_name — имя пользовтеля\n",
    "* last_name — фамилия пользователя\n",
    "* age — возраст пользователя (годы)\n",
    "* reg_date — дата подключения тарифа (день, месяц, год)\n",
    "* churn_date — дата прекращения пользования тарифом  (если значение пропущено, то тариф ещё действовал на момент выгрузки данных)\n",
    "* city — город проживания пользователя\n",
    "* tariff — название тарифного планао плана"
   ]
  },
  {
   "cell_type": "markdown",
   "metadata": {},
   "source": [
    "Таблица `calls` (информация о звонках):"
   ]
  },
  {
   "cell_type": "markdown",
   "metadata": {},
   "source": [
    "* id — уникальный номер звонка\n",
    "* call_date — дата звонка\n",
    "* duration — длительность звонка в минутах\n",
    "* user_id — идентификатор пользователя, сделавшего звонок"
   ]
  },
  {
   "cell_type": "markdown",
   "metadata": {},
   "source": [
    "Таблица `messages` (информация о сообщениях):"
   ]
  },
  {
   "cell_type": "markdown",
   "metadata": {},
   "source": [
    "* id — уникальный номер сообщения\n",
    "* message_date — дата сообщения\n",
    "* user_id — идентификатор пользователя, отправившего сообщение"
   ]
  },
  {
   "cell_type": "markdown",
   "metadata": {},
   "source": [
    "Таблица `internet` (информация об интернет-сессиях):"
   ]
  },
  {
   "cell_type": "markdown",
   "metadata": {},
   "source": [
    "* id — уникальный номер сессии\n",
    "* mb_used —  объём потраченного за сессию интернет-трафика (в мегабайтах)\n",
    "* session_date — дата интернет-сессии\n",
    "* user_id — идентификатор пользователя"
   ]
  },
  {
   "cell_type": "markdown",
   "metadata": {},
   "source": [
    "Таблица `tariffs` (информация о тарифах):"
   ]
  },
  {
   "cell_type": "markdown",
   "metadata": {},
   "source": [
    "* tariff_name — название тарифа\n",
    "* rub_monthly_fee — ежемесячная абонентская плата в рублях\n",
    "* minutes_included — количество минут разговора в месяц, включённых в абонентскую плату\n",
    "* messages_included — количество сообщений в месяц, включённых в абонентскую плату\n",
    "* mb_per_month_included — объём интернет-трафика, включённого в абонентскую плату (в мегабайтах)\n",
    "* rub_per_minute — стоимость минуты разговора сверх тарифного пакета (например, если в тарифе 100 минут разговора в месяц, то со 101 минуты будет взиматься плата)\n",
    "* rub_per_message — стоимость отправки сообщения сверх тарифного пакета\n",
    "* rub_per_gb — стоимость дополнительного гигабайта интернет-трафика сверх тарифного пакета (1 гигабайт = 1024 мегабайта)"
   ]
  },
  {
   "cell_type": "markdown",
   "metadata": {},
   "source": [
    "## Обзор данных"
   ]
  },
  {
   "cell_type": "markdown",
   "metadata": {},
   "source": [
    "### Чтение файлов с данными"
   ]
  },
  {
   "cell_type": "markdown",
   "metadata": {},
   "source": [
    "Импортируем необходимые библиотеки и прочитаем таблицы"
   ]
  },
  {
   "cell_type": "code",
   "execution_count": 123,
   "metadata": {},
   "outputs": [],
   "source": [
    "import pandas as pd\n",
    "from math import ceil"
   ]
  },
  {
   "cell_type": "code",
   "execution_count": 124,
   "metadata": {},
   "outputs": [],
   "source": [
    "data_calls = pd.read_csv('/datasets/calls.csv')"
   ]
  },
  {
   "cell_type": "code",
   "execution_count": 125,
   "metadata": {},
   "outputs": [],
   "source": [
    "data_internet = pd.read_csv('/datasets/internet.csv')"
   ]
  },
  {
   "cell_type": "code",
   "execution_count": 126,
   "metadata": {},
   "outputs": [],
   "source": [
    "data_messages = pd.read_csv('/datasets/messages.csv')"
   ]
  },
  {
   "cell_type": "code",
   "execution_count": 127,
   "metadata": {},
   "outputs": [],
   "source": [
    "data_tariffs = pd.read_csv('/datasets/tariffs.csv')"
   ]
  },
  {
   "cell_type": "code",
   "execution_count": 128,
   "metadata": {},
   "outputs": [],
   "source": [
    "data_users = pd.read_csv('/datasets/users.csv')"
   ]
  },
  {
   "cell_type": "markdown",
   "metadata": {},
   "source": [
    "### Оценка содержимого и размера прочитанных таблиц"
   ]
  },
  {
   "cell_type": "markdown",
   "metadata": {},
   "source": [
    "Далее выполним оценку содержимого и размера прочитанных таблиц"
   ]
  },
  {
   "cell_type": "code",
   "execution_count": 129,
   "metadata": {},
   "outputs": [
    {
     "data": {
      "text/html": [
       "<div>\n",
       "<style scoped>\n",
       "    .dataframe tbody tr th:only-of-type {\n",
       "        vertical-align: middle;\n",
       "    }\n",
       "\n",
       "    .dataframe tbody tr th {\n",
       "        vertical-align: top;\n",
       "    }\n",
       "\n",
       "    .dataframe thead th {\n",
       "        text-align: right;\n",
       "    }\n",
       "</style>\n",
       "<table border=\"1\" class=\"dataframe\">\n",
       "  <thead>\n",
       "    <tr style=\"text-align: right;\">\n",
       "      <th></th>\n",
       "      <th>id</th>\n",
       "      <th>call_date</th>\n",
       "      <th>duration</th>\n",
       "      <th>user_id</th>\n",
       "    </tr>\n",
       "  </thead>\n",
       "  <tbody>\n",
       "    <tr>\n",
       "      <td>0</td>\n",
       "      <td>1000_0</td>\n",
       "      <td>2018-07-25</td>\n",
       "      <td>0.00</td>\n",
       "      <td>1000</td>\n",
       "    </tr>\n",
       "    <tr>\n",
       "      <td>1</td>\n",
       "      <td>1000_1</td>\n",
       "      <td>2018-08-17</td>\n",
       "      <td>0.00</td>\n",
       "      <td>1000</td>\n",
       "    </tr>\n",
       "    <tr>\n",
       "      <td>2</td>\n",
       "      <td>1000_2</td>\n",
       "      <td>2018-06-11</td>\n",
       "      <td>2.85</td>\n",
       "      <td>1000</td>\n",
       "    </tr>\n",
       "    <tr>\n",
       "      <td>3</td>\n",
       "      <td>1000_3</td>\n",
       "      <td>2018-09-21</td>\n",
       "      <td>13.80</td>\n",
       "      <td>1000</td>\n",
       "    </tr>\n",
       "    <tr>\n",
       "      <td>4</td>\n",
       "      <td>1000_4</td>\n",
       "      <td>2018-12-15</td>\n",
       "      <td>5.18</td>\n",
       "      <td>1000</td>\n",
       "    </tr>\n",
       "    <tr>\n",
       "      <td>...</td>\n",
       "      <td>...</td>\n",
       "      <td>...</td>\n",
       "      <td>...</td>\n",
       "      <td>...</td>\n",
       "    </tr>\n",
       "    <tr>\n",
       "      <td>202602</td>\n",
       "      <td>1499_215</td>\n",
       "      <td>2018-12-26</td>\n",
       "      <td>0.76</td>\n",
       "      <td>1499</td>\n",
       "    </tr>\n",
       "    <tr>\n",
       "      <td>202603</td>\n",
       "      <td>1499_216</td>\n",
       "      <td>2018-10-18</td>\n",
       "      <td>18.83</td>\n",
       "      <td>1499</td>\n",
       "    </tr>\n",
       "    <tr>\n",
       "      <td>202604</td>\n",
       "      <td>1499_217</td>\n",
       "      <td>2018-11-10</td>\n",
       "      <td>10.81</td>\n",
       "      <td>1499</td>\n",
       "    </tr>\n",
       "    <tr>\n",
       "      <td>202605</td>\n",
       "      <td>1499_218</td>\n",
       "      <td>2018-10-06</td>\n",
       "      <td>4.27</td>\n",
       "      <td>1499</td>\n",
       "    </tr>\n",
       "    <tr>\n",
       "      <td>202606</td>\n",
       "      <td>1499_219</td>\n",
       "      <td>2018-12-14</td>\n",
       "      <td>19.62</td>\n",
       "      <td>1499</td>\n",
       "    </tr>\n",
       "  </tbody>\n",
       "</table>\n",
       "<p>202607 rows × 4 columns</p>\n",
       "</div>"
      ],
      "text/plain": [
       "              id   call_date  duration  user_id\n",
       "0         1000_0  2018-07-25      0.00     1000\n",
       "1         1000_1  2018-08-17      0.00     1000\n",
       "2         1000_2  2018-06-11      2.85     1000\n",
       "3         1000_3  2018-09-21     13.80     1000\n",
       "4         1000_4  2018-12-15      5.18     1000\n",
       "...          ...         ...       ...      ...\n",
       "202602  1499_215  2018-12-26      0.76     1499\n",
       "202603  1499_216  2018-10-18     18.83     1499\n",
       "202604  1499_217  2018-11-10     10.81     1499\n",
       "202605  1499_218  2018-10-06      4.27     1499\n",
       "202606  1499_219  2018-12-14     19.62     1499\n",
       "\n",
       "[202607 rows x 4 columns]"
      ]
     },
     "execution_count": 129,
     "metadata": {},
     "output_type": "execute_result"
    }
   ],
   "source": [
    "data_calls"
   ]
  },
  {
   "cell_type": "code",
   "execution_count": 130,
   "metadata": {},
   "outputs": [
    {
     "data": {
      "text/html": [
       "<div>\n",
       "<style scoped>\n",
       "    .dataframe tbody tr th:only-of-type {\n",
       "        vertical-align: middle;\n",
       "    }\n",
       "\n",
       "    .dataframe tbody tr th {\n",
       "        vertical-align: top;\n",
       "    }\n",
       "\n",
       "    .dataframe thead th {\n",
       "        text-align: right;\n",
       "    }\n",
       "</style>\n",
       "<table border=\"1\" class=\"dataframe\">\n",
       "  <thead>\n",
       "    <tr style=\"text-align: right;\">\n",
       "      <th></th>\n",
       "      <th>Unnamed: 0</th>\n",
       "      <th>id</th>\n",
       "      <th>mb_used</th>\n",
       "      <th>session_date</th>\n",
       "      <th>user_id</th>\n",
       "    </tr>\n",
       "  </thead>\n",
       "  <tbody>\n",
       "    <tr>\n",
       "      <td>0</td>\n",
       "      <td>0</td>\n",
       "      <td>1000_0</td>\n",
       "      <td>112.95</td>\n",
       "      <td>2018-11-25</td>\n",
       "      <td>1000</td>\n",
       "    </tr>\n",
       "    <tr>\n",
       "      <td>1</td>\n",
       "      <td>1</td>\n",
       "      <td>1000_1</td>\n",
       "      <td>1052.81</td>\n",
       "      <td>2018-09-07</td>\n",
       "      <td>1000</td>\n",
       "    </tr>\n",
       "    <tr>\n",
       "      <td>2</td>\n",
       "      <td>2</td>\n",
       "      <td>1000_2</td>\n",
       "      <td>1197.26</td>\n",
       "      <td>2018-06-25</td>\n",
       "      <td>1000</td>\n",
       "    </tr>\n",
       "    <tr>\n",
       "      <td>3</td>\n",
       "      <td>3</td>\n",
       "      <td>1000_3</td>\n",
       "      <td>550.27</td>\n",
       "      <td>2018-08-22</td>\n",
       "      <td>1000</td>\n",
       "    </tr>\n",
       "    <tr>\n",
       "      <td>4</td>\n",
       "      <td>4</td>\n",
       "      <td>1000_4</td>\n",
       "      <td>302.56</td>\n",
       "      <td>2018-09-24</td>\n",
       "      <td>1000</td>\n",
       "    </tr>\n",
       "    <tr>\n",
       "      <td>...</td>\n",
       "      <td>...</td>\n",
       "      <td>...</td>\n",
       "      <td>...</td>\n",
       "      <td>...</td>\n",
       "      <td>...</td>\n",
       "    </tr>\n",
       "    <tr>\n",
       "      <td>149391</td>\n",
       "      <td>149391</td>\n",
       "      <td>1499_152</td>\n",
       "      <td>318.90</td>\n",
       "      <td>2018-10-03</td>\n",
       "      <td>1499</td>\n",
       "    </tr>\n",
       "    <tr>\n",
       "      <td>149392</td>\n",
       "      <td>149392</td>\n",
       "      <td>1499_153</td>\n",
       "      <td>490.13</td>\n",
       "      <td>2018-12-14</td>\n",
       "      <td>1499</td>\n",
       "    </tr>\n",
       "    <tr>\n",
       "      <td>149393</td>\n",
       "      <td>149393</td>\n",
       "      <td>1499_154</td>\n",
       "      <td>0.00</td>\n",
       "      <td>2018-10-27</td>\n",
       "      <td>1499</td>\n",
       "    </tr>\n",
       "    <tr>\n",
       "      <td>149394</td>\n",
       "      <td>149394</td>\n",
       "      <td>1499_155</td>\n",
       "      <td>1246.32</td>\n",
       "      <td>2018-11-26</td>\n",
       "      <td>1499</td>\n",
       "    </tr>\n",
       "    <tr>\n",
       "      <td>149395</td>\n",
       "      <td>149395</td>\n",
       "      <td>1499_156</td>\n",
       "      <td>544.37</td>\n",
       "      <td>2018-10-26</td>\n",
       "      <td>1499</td>\n",
       "    </tr>\n",
       "  </tbody>\n",
       "</table>\n",
       "<p>149396 rows × 5 columns</p>\n",
       "</div>"
      ],
      "text/plain": [
       "        Unnamed: 0        id  mb_used session_date  user_id\n",
       "0                0    1000_0   112.95   2018-11-25     1000\n",
       "1                1    1000_1  1052.81   2018-09-07     1000\n",
       "2                2    1000_2  1197.26   2018-06-25     1000\n",
       "3                3    1000_3   550.27   2018-08-22     1000\n",
       "4                4    1000_4   302.56   2018-09-24     1000\n",
       "...            ...       ...      ...          ...      ...\n",
       "149391      149391  1499_152   318.90   2018-10-03     1499\n",
       "149392      149392  1499_153   490.13   2018-12-14     1499\n",
       "149393      149393  1499_154     0.00   2018-10-27     1499\n",
       "149394      149394  1499_155  1246.32   2018-11-26     1499\n",
       "149395      149395  1499_156   544.37   2018-10-26     1499\n",
       "\n",
       "[149396 rows x 5 columns]"
      ]
     },
     "execution_count": 130,
     "metadata": {},
     "output_type": "execute_result"
    }
   ],
   "source": [
    "data_internet"
   ]
  },
  {
   "cell_type": "code",
   "execution_count": 131,
   "metadata": {},
   "outputs": [
    {
     "data": {
      "text/html": [
       "<div>\n",
       "<style scoped>\n",
       "    .dataframe tbody tr th:only-of-type {\n",
       "        vertical-align: middle;\n",
       "    }\n",
       "\n",
       "    .dataframe tbody tr th {\n",
       "        vertical-align: top;\n",
       "    }\n",
       "\n",
       "    .dataframe thead th {\n",
       "        text-align: right;\n",
       "    }\n",
       "</style>\n",
       "<table border=\"1\" class=\"dataframe\">\n",
       "  <thead>\n",
       "    <tr style=\"text-align: right;\">\n",
       "      <th></th>\n",
       "      <th>id</th>\n",
       "      <th>message_date</th>\n",
       "      <th>user_id</th>\n",
       "    </tr>\n",
       "  </thead>\n",
       "  <tbody>\n",
       "    <tr>\n",
       "      <td>0</td>\n",
       "      <td>1000_0</td>\n",
       "      <td>2018-06-27</td>\n",
       "      <td>1000</td>\n",
       "    </tr>\n",
       "    <tr>\n",
       "      <td>1</td>\n",
       "      <td>1000_1</td>\n",
       "      <td>2018-10-08</td>\n",
       "      <td>1000</td>\n",
       "    </tr>\n",
       "    <tr>\n",
       "      <td>2</td>\n",
       "      <td>1000_2</td>\n",
       "      <td>2018-08-04</td>\n",
       "      <td>1000</td>\n",
       "    </tr>\n",
       "    <tr>\n",
       "      <td>3</td>\n",
       "      <td>1000_3</td>\n",
       "      <td>2018-06-16</td>\n",
       "      <td>1000</td>\n",
       "    </tr>\n",
       "    <tr>\n",
       "      <td>4</td>\n",
       "      <td>1000_4</td>\n",
       "      <td>2018-12-05</td>\n",
       "      <td>1000</td>\n",
       "    </tr>\n",
       "    <tr>\n",
       "      <td>...</td>\n",
       "      <td>...</td>\n",
       "      <td>...</td>\n",
       "      <td>...</td>\n",
       "    </tr>\n",
       "    <tr>\n",
       "      <td>123031</td>\n",
       "      <td>1499_179</td>\n",
       "      <td>2018-12-12</td>\n",
       "      <td>1499</td>\n",
       "    </tr>\n",
       "    <tr>\n",
       "      <td>123032</td>\n",
       "      <td>1499_180</td>\n",
       "      <td>2018-09-28</td>\n",
       "      <td>1499</td>\n",
       "    </tr>\n",
       "    <tr>\n",
       "      <td>123033</td>\n",
       "      <td>1499_181</td>\n",
       "      <td>2018-09-27</td>\n",
       "      <td>1499</td>\n",
       "    </tr>\n",
       "    <tr>\n",
       "      <td>123034</td>\n",
       "      <td>1499_182</td>\n",
       "      <td>2018-11-15</td>\n",
       "      <td>1499</td>\n",
       "    </tr>\n",
       "    <tr>\n",
       "      <td>123035</td>\n",
       "      <td>1499_183</td>\n",
       "      <td>2018-11-16</td>\n",
       "      <td>1499</td>\n",
       "    </tr>\n",
       "  </tbody>\n",
       "</table>\n",
       "<p>123036 rows × 3 columns</p>\n",
       "</div>"
      ],
      "text/plain": [
       "              id message_date  user_id\n",
       "0         1000_0   2018-06-27     1000\n",
       "1         1000_1   2018-10-08     1000\n",
       "2         1000_2   2018-08-04     1000\n",
       "3         1000_3   2018-06-16     1000\n",
       "4         1000_4   2018-12-05     1000\n",
       "...          ...          ...      ...\n",
       "123031  1499_179   2018-12-12     1499\n",
       "123032  1499_180   2018-09-28     1499\n",
       "123033  1499_181   2018-09-27     1499\n",
       "123034  1499_182   2018-11-15     1499\n",
       "123035  1499_183   2018-11-16     1499\n",
       "\n",
       "[123036 rows x 3 columns]"
      ]
     },
     "execution_count": 131,
     "metadata": {},
     "output_type": "execute_result"
    }
   ],
   "source": [
    "data_messages"
   ]
  },
  {
   "cell_type": "code",
   "execution_count": 132,
   "metadata": {},
   "outputs": [
    {
     "data": {
      "text/html": [
       "<div>\n",
       "<style scoped>\n",
       "    .dataframe tbody tr th:only-of-type {\n",
       "        vertical-align: middle;\n",
       "    }\n",
       "\n",
       "    .dataframe tbody tr th {\n",
       "        vertical-align: top;\n",
       "    }\n",
       "\n",
       "    .dataframe thead th {\n",
       "        text-align: right;\n",
       "    }\n",
       "</style>\n",
       "<table border=\"1\" class=\"dataframe\">\n",
       "  <thead>\n",
       "    <tr style=\"text-align: right;\">\n",
       "      <th></th>\n",
       "      <th>messages_included</th>\n",
       "      <th>mb_per_month_included</th>\n",
       "      <th>minutes_included</th>\n",
       "      <th>rub_monthly_fee</th>\n",
       "      <th>rub_per_gb</th>\n",
       "      <th>rub_per_message</th>\n",
       "      <th>rub_per_minute</th>\n",
       "      <th>tariff_name</th>\n",
       "    </tr>\n",
       "  </thead>\n",
       "  <tbody>\n",
       "    <tr>\n",
       "      <td>0</td>\n",
       "      <td>50</td>\n",
       "      <td>15360</td>\n",
       "      <td>500</td>\n",
       "      <td>550</td>\n",
       "      <td>200</td>\n",
       "      <td>3</td>\n",
       "      <td>3</td>\n",
       "      <td>smart</td>\n",
       "    </tr>\n",
       "    <tr>\n",
       "      <td>1</td>\n",
       "      <td>1000</td>\n",
       "      <td>30720</td>\n",
       "      <td>3000</td>\n",
       "      <td>1950</td>\n",
       "      <td>150</td>\n",
       "      <td>1</td>\n",
       "      <td>1</td>\n",
       "      <td>ultra</td>\n",
       "    </tr>\n",
       "  </tbody>\n",
       "</table>\n",
       "</div>"
      ],
      "text/plain": [
       "   messages_included  mb_per_month_included  minutes_included  \\\n",
       "0                 50                  15360               500   \n",
       "1               1000                  30720              3000   \n",
       "\n",
       "   rub_monthly_fee  rub_per_gb  rub_per_message  rub_per_minute tariff_name  \n",
       "0              550         200                3               3       smart  \n",
       "1             1950         150                1               1       ultra  "
      ]
     },
     "execution_count": 132,
     "metadata": {},
     "output_type": "execute_result"
    }
   ],
   "source": [
    "data_tariffs"
   ]
  },
  {
   "cell_type": "code",
   "execution_count": 133,
   "metadata": {
    "scrolled": true
   },
   "outputs": [
    {
     "data": {
      "text/html": [
       "<div>\n",
       "<style scoped>\n",
       "    .dataframe tbody tr th:only-of-type {\n",
       "        vertical-align: middle;\n",
       "    }\n",
       "\n",
       "    .dataframe tbody tr th {\n",
       "        vertical-align: top;\n",
       "    }\n",
       "\n",
       "    .dataframe thead th {\n",
       "        text-align: right;\n",
       "    }\n",
       "</style>\n",
       "<table border=\"1\" class=\"dataframe\">\n",
       "  <thead>\n",
       "    <tr style=\"text-align: right;\">\n",
       "      <th></th>\n",
       "      <th>user_id</th>\n",
       "      <th>age</th>\n",
       "      <th>churn_date</th>\n",
       "      <th>city</th>\n",
       "      <th>first_name</th>\n",
       "      <th>last_name</th>\n",
       "      <th>reg_date</th>\n",
       "      <th>tariff</th>\n",
       "    </tr>\n",
       "  </thead>\n",
       "  <tbody>\n",
       "    <tr>\n",
       "      <td>0</td>\n",
       "      <td>1000</td>\n",
       "      <td>52</td>\n",
       "      <td>NaN</td>\n",
       "      <td>Краснодар</td>\n",
       "      <td>Рафаил</td>\n",
       "      <td>Верещагин</td>\n",
       "      <td>2018-05-25</td>\n",
       "      <td>ultra</td>\n",
       "    </tr>\n",
       "    <tr>\n",
       "      <td>1</td>\n",
       "      <td>1001</td>\n",
       "      <td>41</td>\n",
       "      <td>NaN</td>\n",
       "      <td>Москва</td>\n",
       "      <td>Иван</td>\n",
       "      <td>Ежов</td>\n",
       "      <td>2018-11-01</td>\n",
       "      <td>smart</td>\n",
       "    </tr>\n",
       "    <tr>\n",
       "      <td>2</td>\n",
       "      <td>1002</td>\n",
       "      <td>59</td>\n",
       "      <td>NaN</td>\n",
       "      <td>Стерлитамак</td>\n",
       "      <td>Евгений</td>\n",
       "      <td>Абрамович</td>\n",
       "      <td>2018-06-17</td>\n",
       "      <td>smart</td>\n",
       "    </tr>\n",
       "    <tr>\n",
       "      <td>3</td>\n",
       "      <td>1003</td>\n",
       "      <td>23</td>\n",
       "      <td>NaN</td>\n",
       "      <td>Москва</td>\n",
       "      <td>Белла</td>\n",
       "      <td>Белякова</td>\n",
       "      <td>2018-08-17</td>\n",
       "      <td>ultra</td>\n",
       "    </tr>\n",
       "    <tr>\n",
       "      <td>4</td>\n",
       "      <td>1004</td>\n",
       "      <td>68</td>\n",
       "      <td>NaN</td>\n",
       "      <td>Новокузнецк</td>\n",
       "      <td>Татьяна</td>\n",
       "      <td>Авдеенко</td>\n",
       "      <td>2018-05-14</td>\n",
       "      <td>ultra</td>\n",
       "    </tr>\n",
       "    <tr>\n",
       "      <td>...</td>\n",
       "      <td>...</td>\n",
       "      <td>...</td>\n",
       "      <td>...</td>\n",
       "      <td>...</td>\n",
       "      <td>...</td>\n",
       "      <td>...</td>\n",
       "      <td>...</td>\n",
       "      <td>...</td>\n",
       "    </tr>\n",
       "    <tr>\n",
       "      <td>495</td>\n",
       "      <td>1495</td>\n",
       "      <td>65</td>\n",
       "      <td>NaN</td>\n",
       "      <td>Иркутск</td>\n",
       "      <td>Авксентий</td>\n",
       "      <td>Фокин</td>\n",
       "      <td>2018-08-28</td>\n",
       "      <td>ultra</td>\n",
       "    </tr>\n",
       "    <tr>\n",
       "      <td>496</td>\n",
       "      <td>1496</td>\n",
       "      <td>36</td>\n",
       "      <td>NaN</td>\n",
       "      <td>Вологда</td>\n",
       "      <td>Трифон</td>\n",
       "      <td>Блохин</td>\n",
       "      <td>2018-01-27</td>\n",
       "      <td>smart</td>\n",
       "    </tr>\n",
       "    <tr>\n",
       "      <td>497</td>\n",
       "      <td>1497</td>\n",
       "      <td>32</td>\n",
       "      <td>NaN</td>\n",
       "      <td>Челябинск</td>\n",
       "      <td>Каролина</td>\n",
       "      <td>Агеева</td>\n",
       "      <td>2018-10-09</td>\n",
       "      <td>smart</td>\n",
       "    </tr>\n",
       "    <tr>\n",
       "      <td>498</td>\n",
       "      <td>1498</td>\n",
       "      <td>68</td>\n",
       "      <td>2018-10-25</td>\n",
       "      <td>Владикавказ</td>\n",
       "      <td>Всеволод</td>\n",
       "      <td>Акимчин</td>\n",
       "      <td>2018-07-19</td>\n",
       "      <td>smart</td>\n",
       "    </tr>\n",
       "    <tr>\n",
       "      <td>499</td>\n",
       "      <td>1499</td>\n",
       "      <td>35</td>\n",
       "      <td>NaN</td>\n",
       "      <td>Пермь</td>\n",
       "      <td>Гектор</td>\n",
       "      <td>Корнилов</td>\n",
       "      <td>2018-09-27</td>\n",
       "      <td>smart</td>\n",
       "    </tr>\n",
       "  </tbody>\n",
       "</table>\n",
       "<p>500 rows × 8 columns</p>\n",
       "</div>"
      ],
      "text/plain": [
       "     user_id  age  churn_date         city first_name  last_name    reg_date  \\\n",
       "0       1000   52         NaN    Краснодар     Рафаил  Верещагин  2018-05-25   \n",
       "1       1001   41         NaN       Москва       Иван       Ежов  2018-11-01   \n",
       "2       1002   59         NaN  Стерлитамак    Евгений  Абрамович  2018-06-17   \n",
       "3       1003   23         NaN       Москва      Белла   Белякова  2018-08-17   \n",
       "4       1004   68         NaN  Новокузнецк    Татьяна   Авдеенко  2018-05-14   \n",
       "..       ...  ...         ...          ...        ...        ...         ...   \n",
       "495     1495   65         NaN      Иркутск  Авксентий      Фокин  2018-08-28   \n",
       "496     1496   36         NaN      Вологда     Трифон     Блохин  2018-01-27   \n",
       "497     1497   32         NaN    Челябинск   Каролина     Агеева  2018-10-09   \n",
       "498     1498   68  2018-10-25  Владикавказ   Всеволод    Акимчин  2018-07-19   \n",
       "499     1499   35         NaN        Пермь     Гектор   Корнилов  2018-09-27   \n",
       "\n",
       "    tariff  \n",
       "0    ultra  \n",
       "1    smart  \n",
       "2    smart  \n",
       "3    ultra  \n",
       "4    ultra  \n",
       "..     ...  \n",
       "495  ultra  \n",
       "496  smart  \n",
       "497  smart  \n",
       "498  smart  \n",
       "499  smart  \n",
       "\n",
       "[500 rows x 8 columns]"
      ]
     },
     "execution_count": 133,
     "metadata": {},
     "output_type": "execute_result"
    }
   ],
   "source": [
    "data_users"
   ]
  },
  {
   "cell_type": "markdown",
   "metadata": {},
   "source": [
    "### Поиск пропусков данных в таблицах"
   ]
  },
  {
   "cell_type": "markdown",
   "metadata": {},
   "source": [
    "Далее выполним поиск пропусков в каждой таблице, кроме data_tariffs, у которой 2 строки"
   ]
  },
  {
   "cell_type": "code",
   "execution_count": 134,
   "metadata": {
    "scrolled": true
   },
   "outputs": [
    {
     "data": {
      "text/plain": [
       "id           0\n",
       "call_date    0\n",
       "duration     0\n",
       "user_id      0\n",
       "dtype: int64"
      ]
     },
     "execution_count": 134,
     "metadata": {},
     "output_type": "execute_result"
    }
   ],
   "source": [
    "data_calls.isna().sum()"
   ]
  },
  {
   "cell_type": "code",
   "execution_count": 135,
   "metadata": {},
   "outputs": [
    {
     "data": {
      "text/plain": [
       "Unnamed: 0      0\n",
       "id              0\n",
       "mb_used         0\n",
       "session_date    0\n",
       "user_id         0\n",
       "dtype: int64"
      ]
     },
     "execution_count": 135,
     "metadata": {},
     "output_type": "execute_result"
    }
   ],
   "source": [
    "data_internet.isna().sum()"
   ]
  },
  {
   "cell_type": "code",
   "execution_count": 136,
   "metadata": {},
   "outputs": [
    {
     "data": {
      "text/plain": [
       "id              0\n",
       "message_date    0\n",
       "user_id         0\n",
       "dtype: int64"
      ]
     },
     "execution_count": 136,
     "metadata": {},
     "output_type": "execute_result"
    }
   ],
   "source": [
    "data_messages.isna().sum()"
   ]
  },
  {
   "cell_type": "code",
   "execution_count": 137,
   "metadata": {},
   "outputs": [
    {
     "data": {
      "text/plain": [
       "user_id         0\n",
       "age             0\n",
       "churn_date    462\n",
       "city            0\n",
       "first_name      0\n",
       "last_name       0\n",
       "reg_date        0\n",
       "tariff          0\n",
       "dtype: int64"
      ]
     },
     "execution_count": 137,
     "metadata": {},
     "output_type": "execute_result"
    }
   ],
   "source": [
    "data_users.isna().sum()"
   ]
  },
  {
   "cell_type": "markdown",
   "metadata": {},
   "source": [
    "В таблице data_users присутствуют 462 пропуска в столбце \"дата прекращения пользования тарифом\". В примечании к этим данным сказано, что \"если значение пропущено, то тариф ещё действовал на момент выгрузки данных\". Вывод: пропусков, которые нужно заполнять, нет."
   ]
  },
  {
   "cell_type": "markdown",
   "metadata": {},
   "source": [
    "### Поиск строк-дубликатов в таблицах"
   ]
  },
  {
   "cell_type": "markdown",
   "metadata": {},
   "source": [
    "Далее выполним поиск строк-дубликатов в каждой таблице, кроме data_tariffs, у которой 2 строки"
   ]
  },
  {
   "cell_type": "code",
   "execution_count": 138,
   "metadata": {},
   "outputs": [
    {
     "data": {
      "text/plain": [
       "0"
      ]
     },
     "execution_count": 138,
     "metadata": {},
     "output_type": "execute_result"
    }
   ],
   "source": [
    "data_calls.duplicated().sum()"
   ]
  },
  {
   "cell_type": "code",
   "execution_count": 139,
   "metadata": {},
   "outputs": [
    {
     "data": {
      "text/plain": [
       "0"
      ]
     },
     "execution_count": 139,
     "metadata": {},
     "output_type": "execute_result"
    }
   ],
   "source": [
    "data_internet.duplicated().sum()"
   ]
  },
  {
   "cell_type": "code",
   "execution_count": 140,
   "metadata": {},
   "outputs": [
    {
     "data": {
      "text/plain": [
       "0"
      ]
     },
     "execution_count": 140,
     "metadata": {},
     "output_type": "execute_result"
    }
   ],
   "source": [
    "data_messages.duplicated().sum()"
   ]
  },
  {
   "cell_type": "code",
   "execution_count": 141,
   "metadata": {},
   "outputs": [
    {
     "data": {
      "text/plain": [
       "0"
      ]
     },
     "execution_count": 141,
     "metadata": {},
     "output_type": "execute_result"
    }
   ],
   "source": [
    "data_users.duplicated().sum()"
   ]
  },
  {
   "cell_type": "markdown",
   "metadata": {},
   "source": [
    "Вывод: строки-дубликаты во всех таблицах отсутствуют"
   ]
  },
  {
   "cell_type": "markdown",
   "metadata": {},
   "source": [
    "### Вывод"
   ]
  },
  {
   "cell_type": "markdown",
   "metadata": {},
   "source": [
    "Во всех таблицах отсутствуют пропуски, которые необходимо заполнить. Строки-дубликаты также отсутствуют."
   ]
  },
  {
   "cell_type": "markdown",
   "metadata": {},
   "source": [
    "## Подготовка данных"
   ]
  },
  {
   "cell_type": "markdown",
   "metadata": {},
   "source": [
    "### Приведение данных к нужному виду"
   ]
  },
  {
   "cell_type": "code",
   "execution_count": 142,
   "metadata": {
    "scrolled": true
   },
   "outputs": [
    {
     "name": "stdout",
     "output_type": "stream",
     "text": [
      "<class 'pandas.core.frame.DataFrame'>\n",
      "RangeIndex: 202607 entries, 0 to 202606\n",
      "Data columns (total 4 columns):\n",
      "id           202607 non-null object\n",
      "call_date    202607 non-null object\n",
      "duration     202607 non-null float64\n",
      "user_id      202607 non-null int64\n",
      "dtypes: float64(1), int64(1), object(2)\n",
      "memory usage: 6.2+ MB\n"
     ]
    }
   ],
   "source": [
    "#Вывод сводной информации о таблице\n",
    "data_calls.info()"
   ]
  },
  {
   "cell_type": "markdown",
   "metadata": {},
   "source": [
    "Требуется привести данные к нужным типам в следующих столбцах:\n",
    "\n",
    "id - необходимо привести данные к типу int64\n",
    "\n",
    "call_date - необходимо привести данные к типу datetime64\n",
    "\n",
    "duration - необходимо привести данные к типу int64"
   ]
  },
  {
   "cell_type": "markdown",
   "metadata": {},
   "source": [
    "Выполним округление значений столбца duration в большую сторону."
   ]
  },
  {
   "cell_type": "code",
   "execution_count": 143,
   "metadata": {},
   "outputs": [],
   "source": [
    "#Округление значений столбца duration в бОльшую сторону\n",
    "data_calls['duration'] = data_calls['duration'].apply(ceil)"
   ]
  },
  {
   "cell_type": "code",
   "execution_count": 144,
   "metadata": {},
   "outputs": [
    {
     "data": {
      "text/plain": [
       "id                    int64\n",
       "call_date    datetime64[ns]\n",
       "duration              int64\n",
       "user_id               int64\n",
       "dtype: object"
      ]
     },
     "execution_count": 144,
     "metadata": {},
     "output_type": "execute_result"
    }
   ],
   "source": [
    "#Приведение данных к нужным типам и проверка результата\n",
    "data_calls['id'] = data_calls['id'].astype('int64')\n",
    "data_calls['call_date'] = data_calls['call_date'].astype('datetime64')\n",
    "data_calls['duration'] = data_calls['duration'].astype('int64')\n",
    "data_calls.dtypes"
   ]
  },
  {
   "cell_type": "code",
   "execution_count": 145,
   "metadata": {
    "scrolled": true
   },
   "outputs": [
    {
     "name": "stdout",
     "output_type": "stream",
     "text": [
      "<class 'pandas.core.frame.DataFrame'>\n",
      "RangeIndex: 149396 entries, 0 to 149395\n",
      "Data columns (total 5 columns):\n",
      "Unnamed: 0      149396 non-null int64\n",
      "id              149396 non-null object\n",
      "mb_used         149396 non-null float64\n",
      "session_date    149396 non-null object\n",
      "user_id         149396 non-null int64\n",
      "dtypes: float64(1), int64(2), object(2)\n",
      "memory usage: 5.7+ MB\n"
     ]
    }
   ],
   "source": [
    "#Вывод сводной информации о таблице\n",
    "data_internet.info()"
   ]
  },
  {
   "cell_type": "markdown",
   "metadata": {},
   "source": [
    "Требуется привести данные к нужным типам в следующих столбцах:\n",
    "\n",
    "id - необходимо привести данные к типу int64\n",
    "\n",
    "mb_used - необходимо привести данные к типу int64\n",
    "\n",
    "session_date - необходимо привести данные к типу datetime64"
   ]
  },
  {
   "cell_type": "markdown",
   "metadata": {},
   "source": [
    "Выполним округление значений столбца mb_used в большую сторону."
   ]
  },
  {
   "cell_type": "code",
   "execution_count": 146,
   "metadata": {},
   "outputs": [],
   "source": [
    "#Округление значений столбца mb_used в бОльшую сторону\n",
    "data_internet['mb_used'] = data_internet['mb_used'].apply(ceil)"
   ]
  },
  {
   "cell_type": "code",
   "execution_count": 147,
   "metadata": {},
   "outputs": [
    {
     "data": {
      "text/plain": [
       "Unnamed: 0               int64\n",
       "id                       int64\n",
       "mb_used                  int64\n",
       "session_date    datetime64[ns]\n",
       "user_id                  int64\n",
       "dtype: object"
      ]
     },
     "execution_count": 147,
     "metadata": {},
     "output_type": "execute_result"
    }
   ],
   "source": [
    "#Приведение данных к нужным типам\n",
    "data_internet['id'] = data_internet['id'].astype('int64')\n",
    "data_internet['mb_used'] = data_internet['mb_used'].astype('int64')\n",
    "data_internet['session_date'] = data_internet['session_date'].astype('datetime64')\n",
    "data_internet.dtypes"
   ]
  },
  {
   "cell_type": "code",
   "execution_count": 148,
   "metadata": {},
   "outputs": [
    {
     "name": "stdout",
     "output_type": "stream",
     "text": [
      "<class 'pandas.core.frame.DataFrame'>\n",
      "RangeIndex: 123036 entries, 0 to 123035\n",
      "Data columns (total 3 columns):\n",
      "id              123036 non-null object\n",
      "message_date    123036 non-null object\n",
      "user_id         123036 non-null int64\n",
      "dtypes: int64(1), object(2)\n",
      "memory usage: 2.8+ MB\n"
     ]
    }
   ],
   "source": [
    "#Вывод сводной информации о таблице\n",
    "data_messages.info()"
   ]
  },
  {
   "cell_type": "markdown",
   "metadata": {},
   "source": [
    "Требуется привести данные к нужным типам в следующих столбцах:\n",
    "    \n",
    "id - необходимо привести данные к типу int64\n",
    "\n",
    "message_date - необходимо привести данные к типу datetime64"
   ]
  },
  {
   "cell_type": "code",
   "execution_count": 149,
   "metadata": {},
   "outputs": [
    {
     "data": {
      "text/plain": [
       "id                       int64\n",
       "message_date    datetime64[ns]\n",
       "user_id                  int64\n",
       "dtype: object"
      ]
     },
     "execution_count": 149,
     "metadata": {},
     "output_type": "execute_result"
    }
   ],
   "source": [
    "#Приведение данных к нужным типам\n",
    "data_messages['id'] = data_messages['id'].astype('int64')\n",
    "data_messages['message_date'] = data_messages['message_date'].astype('datetime64')\n",
    "data_messages.dtypes"
   ]
  },
  {
   "cell_type": "code",
   "execution_count": 150,
   "metadata": {},
   "outputs": [
    {
     "name": "stdout",
     "output_type": "stream",
     "text": [
      "<class 'pandas.core.frame.DataFrame'>\n",
      "RangeIndex: 2 entries, 0 to 1\n",
      "Data columns (total 8 columns):\n",
      "messages_included        2 non-null int64\n",
      "mb_per_month_included    2 non-null int64\n",
      "minutes_included         2 non-null int64\n",
      "rub_monthly_fee          2 non-null int64\n",
      "rub_per_gb               2 non-null int64\n",
      "rub_per_message          2 non-null int64\n",
      "rub_per_minute           2 non-null int64\n",
      "tariff_name              2 non-null object\n",
      "dtypes: int64(7), object(1)\n",
      "memory usage: 256.0+ bytes\n"
     ]
    }
   ],
   "source": [
    "#Вывод сводной информации о таблице\n",
    "data_tariffs.info()"
   ]
  },
  {
   "cell_type": "markdown",
   "metadata": {},
   "source": [
    "В данной таблице нет необходимости изменять тип данных.  "
   ]
  },
  {
   "cell_type": "code",
   "execution_count": 151,
   "metadata": {},
   "outputs": [
    {
     "name": "stdout",
     "output_type": "stream",
     "text": [
      "<class 'pandas.core.frame.DataFrame'>\n",
      "RangeIndex: 500 entries, 0 to 499\n",
      "Data columns (total 8 columns):\n",
      "user_id       500 non-null int64\n",
      "age           500 non-null int64\n",
      "churn_date    38 non-null object\n",
      "city          500 non-null object\n",
      "first_name    500 non-null object\n",
      "last_name     500 non-null object\n",
      "reg_date      500 non-null object\n",
      "tariff        500 non-null object\n",
      "dtypes: int64(2), object(6)\n",
      "memory usage: 31.4+ KB\n"
     ]
    }
   ],
   "source": [
    "#Вывод сводной информации о таблице\n",
    "data_users.info()"
   ]
  },
  {
   "cell_type": "markdown",
   "metadata": {},
   "source": [
    "Требуется привести данные к нужным типам в следующих столбцах:\n",
    "\n",
    "churn_date - необходимо привести данные к типу datetime64\n",
    "\n",
    "reg_date - необходимо привести данные к типу datetime64"
   ]
  },
  {
   "cell_type": "code",
   "execution_count": 152,
   "metadata": {},
   "outputs": [
    {
     "data": {
      "text/plain": [
       "user_id                int64\n",
       "age                    int64\n",
       "churn_date    datetime64[ns]\n",
       "city                  object\n",
       "first_name            object\n",
       "last_name             object\n",
       "reg_date      datetime64[ns]\n",
       "tariff                object\n",
       "dtype: object"
      ]
     },
     "execution_count": 152,
     "metadata": {},
     "output_type": "execute_result"
    }
   ],
   "source": [
    "#Приведение данных к нужным типам\n",
    "data_users['churn_date'] = data_users['churn_date'].astype('datetime64')\n",
    "data_users['reg_date'] = data_users['reg_date'].astype('datetime64')\n",
    "data_users.dtypes"
   ]
  },
  {
   "cell_type": "markdown",
   "metadata": {},
   "source": [
    "### Поиск и исправление ошибок в данных"
   ]
  },
  {
   "cell_type": "markdown",
   "metadata": {},
   "source": [
    "Проверим данные для трафика на наличие нулевых значений"
   ]
  },
  {
   "cell_type": "code",
   "execution_count": 154,
   "metadata": {},
   "outputs": [
    {
     "data": {
      "text/plain": [
       "Unnamed: 0          1\n",
       "id                  0\n",
       "mb_used         19598\n",
       "session_date        0\n",
       "user_id             0\n",
       "dtype: int64"
      ]
     },
     "execution_count": 154,
     "metadata": {},
     "output_type": "execute_result"
    }
   ],
   "source": [
    "#Поиск значений 0 в таблице data_internet\n",
    "data_internet[data_internet[:]==0].count()"
   ]
  },
  {
   "cell_type": "code",
   "execution_count": 155,
   "metadata": {},
   "outputs": [
    {
     "data": {
      "text/plain": [
       "(149396, 5)"
      ]
     },
     "execution_count": 155,
     "metadata": {},
     "output_type": "execute_result"
    }
   ],
   "source": [
    "#Размер таблицы data_internet\n",
    "data_internet.shape"
   ]
  },
  {
   "cell_type": "markdown",
   "metadata": {},
   "source": [
    "Из 149396 записей в таблице, 19598 записей в столбце mb_used содержат значения 0. Одно значение 0 содержится в безымянном столбце Unnamed: 0, значения которого дублируют индексы записей в таблице."
   ]
  },
  {
   "cell_type": "markdown",
   "metadata": {},
   "source": [
    "### Подсчет данных для каждого пользователя"
   ]
  },
  {
   "cell_type": "code",
   "execution_count": 156,
   "metadata": {},
   "outputs": [],
   "source": [
    "#Определение порядкового номера месяца в каждой таблице по столбцу даты и запись его в новый столбец\n",
    "data_calls['month'] = pd.DatetimeIndex(data_calls['call_date']).month\n",
    "data_messages['month'] = pd.DatetimeIndex(data_messages['message_date']).month\n",
    "data_internet['month'] = pd.DatetimeIndex(data_internet['session_date']).month"
   ]
  },
  {
   "cell_type": "code",
   "execution_count": 157,
   "metadata": {},
   "outputs": [
    {
     "data": {
      "text/html": [
       "<div>\n",
       "<style scoped>\n",
       "    .dataframe tbody tr th:only-of-type {\n",
       "        vertical-align: middle;\n",
       "    }\n",
       "\n",
       "    .dataframe tbody tr th {\n",
       "        vertical-align: top;\n",
       "    }\n",
       "\n",
       "    .dataframe thead th {\n",
       "        text-align: right;\n",
       "    }\n",
       "</style>\n",
       "<table border=\"1\" class=\"dataframe\">\n",
       "  <thead>\n",
       "    <tr style=\"text-align: right;\">\n",
       "      <th></th>\n",
       "      <th></th>\n",
       "      <th>number_calls_per_month</th>\n",
       "    </tr>\n",
       "    <tr>\n",
       "      <th>user_id</th>\n",
       "      <th>month</th>\n",
       "      <th></th>\n",
       "    </tr>\n",
       "  </thead>\n",
       "  <tbody>\n",
       "    <tr>\n",
       "      <td rowspan=\"5\" valign=\"top\">1000</td>\n",
       "      <td>5</td>\n",
       "      <td>22</td>\n",
       "    </tr>\n",
       "    <tr>\n",
       "      <td>6</td>\n",
       "      <td>43</td>\n",
       "    </tr>\n",
       "    <tr>\n",
       "      <td>7</td>\n",
       "      <td>47</td>\n",
       "    </tr>\n",
       "    <tr>\n",
       "      <td>8</td>\n",
       "      <td>52</td>\n",
       "    </tr>\n",
       "    <tr>\n",
       "      <td>9</td>\n",
       "      <td>58</td>\n",
       "    </tr>\n",
       "    <tr>\n",
       "      <td>...</td>\n",
       "      <td>...</td>\n",
       "      <td>...</td>\n",
       "    </tr>\n",
       "    <tr>\n",
       "      <td>1498</td>\n",
       "      <td>10</td>\n",
       "      <td>41</td>\n",
       "    </tr>\n",
       "    <tr>\n",
       "      <td rowspan=\"4\" valign=\"top\">1499</td>\n",
       "      <td>9</td>\n",
       "      <td>9</td>\n",
       "    </tr>\n",
       "    <tr>\n",
       "      <td>10</td>\n",
       "      <td>68</td>\n",
       "    </tr>\n",
       "    <tr>\n",
       "      <td>11</td>\n",
       "      <td>74</td>\n",
       "    </tr>\n",
       "    <tr>\n",
       "      <td>12</td>\n",
       "      <td>69</td>\n",
       "    </tr>\n",
       "  </tbody>\n",
       "</table>\n",
       "<p>3174 rows × 1 columns</p>\n",
       "</div>"
      ],
      "text/plain": [
       "               number_calls_per_month\n",
       "user_id month                        \n",
       "1000    5                          22\n",
       "        6                          43\n",
       "        7                          47\n",
       "        8                          52\n",
       "        9                          58\n",
       "...                               ...\n",
       "1498    10                         41\n",
       "1499    9                           9\n",
       "        10                         68\n",
       "        11                         74\n",
       "        12                         69\n",
       "\n",
       "[3174 rows x 1 columns]"
      ]
     },
     "execution_count": 157,
     "metadata": {},
     "output_type": "execute_result"
    }
   ],
   "source": [
    "#количество сделанных звонков по месяцам\n",
    "data_calls_number = data_calls.groupby(['user_id', 'month'])['duration'].count()\n",
    "data_calls_number = pd.DataFrame(data_calls_number)\n",
    "data_calls_number.set_axis(['number_calls_per_month'],axis = 'columns',inplace = True)\n",
    "data_calls_number"
   ]
  },
  {
   "cell_type": "code",
   "execution_count": 158,
   "metadata": {
    "scrolled": true
   },
   "outputs": [
    {
     "data": {
      "text/html": [
       "<div>\n",
       "<style scoped>\n",
       "    .dataframe tbody tr th:only-of-type {\n",
       "        vertical-align: middle;\n",
       "    }\n",
       "\n",
       "    .dataframe tbody tr th {\n",
       "        vertical-align: top;\n",
       "    }\n",
       "\n",
       "    .dataframe thead th {\n",
       "        text-align: right;\n",
       "    }\n",
       "</style>\n",
       "<table border=\"1\" class=\"dataframe\">\n",
       "  <thead>\n",
       "    <tr style=\"text-align: right;\">\n",
       "      <th></th>\n",
       "      <th></th>\n",
       "      <th>duration</th>\n",
       "    </tr>\n",
       "    <tr>\n",
       "      <th>user_id</th>\n",
       "      <th>month</th>\n",
       "      <th></th>\n",
       "    </tr>\n",
       "  </thead>\n",
       "  <tbody>\n",
       "    <tr>\n",
       "      <td rowspan=\"8\" valign=\"top\">1000</td>\n",
       "      <td>5</td>\n",
       "      <td>159</td>\n",
       "    </tr>\n",
       "    <tr>\n",
       "      <td>6</td>\n",
       "      <td>172</td>\n",
       "    </tr>\n",
       "    <tr>\n",
       "      <td>7</td>\n",
       "      <td>340</td>\n",
       "    </tr>\n",
       "    <tr>\n",
       "      <td>8</td>\n",
       "      <td>408</td>\n",
       "    </tr>\n",
       "    <tr>\n",
       "      <td>9</td>\n",
       "      <td>466</td>\n",
       "    </tr>\n",
       "    <tr>\n",
       "      <td>10</td>\n",
       "      <td>350</td>\n",
       "    </tr>\n",
       "    <tr>\n",
       "      <td>11</td>\n",
       "      <td>338</td>\n",
       "    </tr>\n",
       "    <tr>\n",
       "      <td>12</td>\n",
       "      <td>333</td>\n",
       "    </tr>\n",
       "  </tbody>\n",
       "</table>\n",
       "</div>"
      ],
      "text/plain": [
       "               duration\n",
       "user_id month          \n",
       "1000    5           159\n",
       "        6           172\n",
       "        7           340\n",
       "        8           408\n",
       "        9           466\n",
       "        10          350\n",
       "        11          338\n",
       "        12          333"
      ]
     },
     "execution_count": 158,
     "metadata": {},
     "output_type": "execute_result"
    }
   ],
   "source": [
    "#Количество израсходованных минут разговора по месяцам\n",
    "data_calls_duration = data_calls.groupby(['user_id', 'month'])['duration'].sum()\n",
    "data_calls_duration = pd.DataFrame(data_calls_duration)\n",
    "data_calls_duration.query('user_id==1000')"
   ]
  },
  {
   "cell_type": "code",
   "execution_count": 159,
   "metadata": {
    "scrolled": true
   },
   "outputs": [
    {
     "data": {
      "text/html": [
       "<div>\n",
       "<style scoped>\n",
       "    .dataframe tbody tr th:only-of-type {\n",
       "        vertical-align: middle;\n",
       "    }\n",
       "\n",
       "    .dataframe tbody tr th {\n",
       "        vertical-align: top;\n",
       "    }\n",
       "\n",
       "    .dataframe thead th {\n",
       "        text-align: right;\n",
       "    }\n",
       "</style>\n",
       "<table border=\"1\" class=\"dataframe\">\n",
       "  <thead>\n",
       "    <tr style=\"text-align: right;\">\n",
       "      <th></th>\n",
       "      <th></th>\n",
       "      <th>number_messages_per_month</th>\n",
       "    </tr>\n",
       "    <tr>\n",
       "      <th>user_id</th>\n",
       "      <th>month</th>\n",
       "      <th></th>\n",
       "    </tr>\n",
       "  </thead>\n",
       "  <tbody>\n",
       "    <tr>\n",
       "      <td rowspan=\"5\" valign=\"top\">1000</td>\n",
       "      <td>5</td>\n",
       "      <td>22</td>\n",
       "    </tr>\n",
       "    <tr>\n",
       "      <td>6</td>\n",
       "      <td>60</td>\n",
       "    </tr>\n",
       "    <tr>\n",
       "      <td>7</td>\n",
       "      <td>75</td>\n",
       "    </tr>\n",
       "    <tr>\n",
       "      <td>8</td>\n",
       "      <td>81</td>\n",
       "    </tr>\n",
       "    <tr>\n",
       "      <td>9</td>\n",
       "      <td>57</td>\n",
       "    </tr>\n",
       "    <tr>\n",
       "      <td>...</td>\n",
       "      <td>...</td>\n",
       "      <td>...</td>\n",
       "    </tr>\n",
       "    <tr>\n",
       "      <td>1498</td>\n",
       "      <td>10</td>\n",
       "      <td>42</td>\n",
       "    </tr>\n",
       "    <tr>\n",
       "      <td rowspan=\"4\" valign=\"top\">1499</td>\n",
       "      <td>9</td>\n",
       "      <td>11</td>\n",
       "    </tr>\n",
       "    <tr>\n",
       "      <td>10</td>\n",
       "      <td>48</td>\n",
       "    </tr>\n",
       "    <tr>\n",
       "      <td>11</td>\n",
       "      <td>59</td>\n",
       "    </tr>\n",
       "    <tr>\n",
       "      <td>12</td>\n",
       "      <td>66</td>\n",
       "    </tr>\n",
       "  </tbody>\n",
       "</table>\n",
       "<p>2717 rows × 1 columns</p>\n",
       "</div>"
      ],
      "text/plain": [
       "               number_messages_per_month\n",
       "user_id month                           \n",
       "1000    5                             22\n",
       "        6                             60\n",
       "        7                             75\n",
       "        8                             81\n",
       "        9                             57\n",
       "...                                  ...\n",
       "1498    10                            42\n",
       "1499    9                             11\n",
       "        10                            48\n",
       "        11                            59\n",
       "        12                            66\n",
       "\n",
       "[2717 rows x 1 columns]"
      ]
     },
     "execution_count": 159,
     "metadata": {},
     "output_type": "execute_result"
    }
   ],
   "source": [
    "#количество отправленных сообщений по месяцам\n",
    "data_messages_number = data_messages.groupby(['user_id', 'month'])['message_date'].count()\n",
    "data_messages_number = pd.DataFrame(data_messages_number)\n",
    "data_messages_number.set_axis(['number_messages_per_month'],axis = 'columns',inplace = True)\n",
    "data_messages_number"
   ]
  },
  {
   "cell_type": "code",
   "execution_count": 160,
   "metadata": {
    "scrolled": true
   },
   "outputs": [
    {
     "data": {
      "text/html": [
       "<div>\n",
       "<style scoped>\n",
       "    .dataframe tbody tr th:only-of-type {\n",
       "        vertical-align: middle;\n",
       "    }\n",
       "\n",
       "    .dataframe tbody tr th {\n",
       "        vertical-align: top;\n",
       "    }\n",
       "\n",
       "    .dataframe thead th {\n",
       "        text-align: right;\n",
       "    }\n",
       "</style>\n",
       "<table border=\"1\" class=\"dataframe\">\n",
       "  <thead>\n",
       "    <tr style=\"text-align: right;\">\n",
       "      <th></th>\n",
       "      <th></th>\n",
       "      <th>mb_used</th>\n",
       "    </tr>\n",
       "    <tr>\n",
       "      <th>user_id</th>\n",
       "      <th>month</th>\n",
       "      <th></th>\n",
       "    </tr>\n",
       "  </thead>\n",
       "  <tbody>\n",
       "    <tr>\n",
       "      <td rowspan=\"5\" valign=\"top\">1000</td>\n",
       "      <td>5</td>\n",
       "      <td>2256</td>\n",
       "    </tr>\n",
       "    <tr>\n",
       "      <td>6</td>\n",
       "      <td>23257</td>\n",
       "    </tr>\n",
       "    <tr>\n",
       "      <td>7</td>\n",
       "      <td>14016</td>\n",
       "    </tr>\n",
       "    <tr>\n",
       "      <td>8</td>\n",
       "      <td>14070</td>\n",
       "    </tr>\n",
       "    <tr>\n",
       "      <td>9</td>\n",
       "      <td>14581</td>\n",
       "    </tr>\n",
       "    <tr>\n",
       "      <td>...</td>\n",
       "      <td>...</td>\n",
       "      <td>...</td>\n",
       "    </tr>\n",
       "    <tr>\n",
       "      <td>1498</td>\n",
       "      <td>10</td>\n",
       "      <td>20604</td>\n",
       "    </tr>\n",
       "    <tr>\n",
       "      <td rowspan=\"4\" valign=\"top\">1499</td>\n",
       "      <td>9</td>\n",
       "      <td>1848</td>\n",
       "    </tr>\n",
       "    <tr>\n",
       "      <td>10</td>\n",
       "      <td>17809</td>\n",
       "    </tr>\n",
       "    <tr>\n",
       "      <td>11</td>\n",
       "      <td>17984</td>\n",
       "    </tr>\n",
       "    <tr>\n",
       "      <td>12</td>\n",
       "      <td>13077</td>\n",
       "    </tr>\n",
       "  </tbody>\n",
       "</table>\n",
       "<p>3203 rows × 1 columns</p>\n",
       "</div>"
      ],
      "text/plain": [
       "               mb_used\n",
       "user_id month         \n",
       "1000    5         2256\n",
       "        6        23257\n",
       "        7        14016\n",
       "        8        14070\n",
       "        9        14581\n",
       "...                ...\n",
       "1498    10       20604\n",
       "1499    9         1848\n",
       "        10       17809\n",
       "        11       17984\n",
       "        12       13077\n",
       "\n",
       "[3203 rows x 1 columns]"
      ]
     },
     "execution_count": 160,
     "metadata": {},
     "output_type": "execute_result"
    }
   ],
   "source": [
    "#объем израсходованного интернет-трафика по месяцам\n",
    "data_internet_mb_used = data_internet.groupby(['user_id', 'month'])['mb_used'].sum()\n",
    "data_internet_mb_used = pd.DataFrame(data_internet_mb_used)\n",
    "data_internet_mb_used"
   ]
  },
  {
   "cell_type": "code",
   "execution_count": 161,
   "metadata": {},
   "outputs": [],
   "source": [
    "#Объединение таблиц data_calls_number и data_calls_duration и сохранение в data_union\n",
    "data_union = data_calls_number.merge(data_calls_duration, on=['user_id','month'], how='outer')"
   ]
  },
  {
   "cell_type": "code",
   "execution_count": 162,
   "metadata": {},
   "outputs": [],
   "source": [
    "#Присоединение к таблице data_union таблицы data_messages_number\n",
    "data_union = data_union.merge(data_messages_number, on=['user_id','month'], how='outer')"
   ]
  },
  {
   "cell_type": "code",
   "execution_count": 163,
   "metadata": {},
   "outputs": [],
   "source": [
    "#присоединение к таблице data_union таблицы data_internet_mb_used\n",
    "data_union = data_union.merge(data_internet_mb_used, on=['user_id','month'], how='outer')"
   ]
  },
  {
   "cell_type": "code",
   "execution_count": 164,
   "metadata": {},
   "outputs": [],
   "source": [
    "#Сохранение из столбца мультииндекса значения порядкового номера месяца в новый обычный столбец. Эти данные в дальнейшем понадобятся.\n",
    "data_union['month'] = data_union.index.get_level_values('month')"
   ]
  },
  {
   "cell_type": "code",
   "execution_count": 165,
   "metadata": {
    "scrolled": true
   },
   "outputs": [
    {
     "data": {
      "text/html": [
       "<div>\n",
       "<style scoped>\n",
       "    .dataframe tbody tr th:only-of-type {\n",
       "        vertical-align: middle;\n",
       "    }\n",
       "\n",
       "    .dataframe tbody tr th {\n",
       "        vertical-align: top;\n",
       "    }\n",
       "\n",
       "    .dataframe thead th {\n",
       "        text-align: right;\n",
       "    }\n",
       "</style>\n",
       "<table border=\"1\" class=\"dataframe\">\n",
       "  <thead>\n",
       "    <tr style=\"text-align: right;\">\n",
       "      <th></th>\n",
       "      <th>messages_included</th>\n",
       "      <th>mb_per_month_included</th>\n",
       "      <th>minutes_included</th>\n",
       "      <th>rub_monthly_fee</th>\n",
       "      <th>rub_per_gb</th>\n",
       "      <th>rub_per_message</th>\n",
       "      <th>rub_per_minute</th>\n",
       "      <th>tariff</th>\n",
       "    </tr>\n",
       "  </thead>\n",
       "  <tbody>\n",
       "    <tr>\n",
       "      <td>0</td>\n",
       "      <td>50</td>\n",
       "      <td>15360</td>\n",
       "      <td>500</td>\n",
       "      <td>550</td>\n",
       "      <td>200</td>\n",
       "      <td>3</td>\n",
       "      <td>3</td>\n",
       "      <td>smart</td>\n",
       "    </tr>\n",
       "    <tr>\n",
       "      <td>1</td>\n",
       "      <td>1000</td>\n",
       "      <td>30720</td>\n",
       "      <td>3000</td>\n",
       "      <td>1950</td>\n",
       "      <td>150</td>\n",
       "      <td>1</td>\n",
       "      <td>1</td>\n",
       "      <td>ultra</td>\n",
       "    </tr>\n",
       "  </tbody>\n",
       "</table>\n",
       "</div>"
      ],
      "text/plain": [
       "   messages_included  mb_per_month_included  minutes_included  \\\n",
       "0                 50                  15360               500   \n",
       "1               1000                  30720              3000   \n",
       "\n",
       "   rub_monthly_fee  rub_per_gb  rub_per_message  rub_per_minute tariff  \n",
       "0              550         200                3               3  smart  \n",
       "1             1950         150                1               1  ultra  "
      ]
     },
     "execution_count": 165,
     "metadata": {},
     "output_type": "execute_result"
    }
   ],
   "source": [
    "#Переименование столбца с названием тарифа в tariff. Такое же название используется в таблице data_users, к которой будем подключать таблицу data_tariffs по данному столбцу\n",
    "data_tariffs.set_axis(['messages_included','mb_per_month_included','minutes_included','rub_monthly_fee','rub_per_gb','rub_per_message','rub_per_minute','tariff'],axis = 'columns',inplace = True)\n",
    "data_tariffs"
   ]
  },
  {
   "cell_type": "code",
   "execution_count": 166,
   "metadata": {},
   "outputs": [],
   "source": [
    "# Присоединение к таблице data_union таблицы data_users. В этот раз только по столбцу use_id.\n",
    "# Мультииндекс исчезнет со столбцом month. Здесь нам пригодится обычный столбец month, в котором останутся номера месяцев.\n",
    "data_union = data_union.merge(data_users, on='user_id', how='outer')"
   ]
  },
  {
   "cell_type": "code",
   "execution_count": 167,
   "metadata": {},
   "outputs": [],
   "source": [
    "# Присоединение к таблице data_union таблицы data_tariffs\n",
    "data_union = data_union.merge(data_tariffs, on='tariff', how='outer')"
   ]
  },
  {
   "cell_type": "code",
   "execution_count": 168,
   "metadata": {},
   "outputs": [
    {
     "data": {
      "text/html": [
       "<div>\n",
       "<style scoped>\n",
       "    .dataframe tbody tr th:only-of-type {\n",
       "        vertical-align: middle;\n",
       "    }\n",
       "\n",
       "    .dataframe tbody tr th {\n",
       "        vertical-align: top;\n",
       "    }\n",
       "\n",
       "    .dataframe thead th {\n",
       "        text-align: right;\n",
       "    }\n",
       "</style>\n",
       "<table border=\"1\" class=\"dataframe\">\n",
       "  <thead>\n",
       "    <tr style=\"text-align: right;\">\n",
       "      <th></th>\n",
       "      <th>user_id</th>\n",
       "      <th>number_calls_per_month</th>\n",
       "      <th>duration</th>\n",
       "      <th>number_messages_per_month</th>\n",
       "      <th>mb_used</th>\n",
       "      <th>month</th>\n",
       "      <th>age</th>\n",
       "      <th>churn_date</th>\n",
       "      <th>city</th>\n",
       "      <th>first_name</th>\n",
       "      <th>last_name</th>\n",
       "      <th>reg_date</th>\n",
       "      <th>tariff</th>\n",
       "      <th>messages_included</th>\n",
       "      <th>mb_per_month_included</th>\n",
       "      <th>minutes_included</th>\n",
       "      <th>rub_monthly_fee</th>\n",
       "      <th>rub_per_gb</th>\n",
       "      <th>rub_per_message</th>\n",
       "      <th>rub_per_minute</th>\n",
       "    </tr>\n",
       "  </thead>\n",
       "  <tbody>\n",
       "    <tr>\n",
       "      <td>0</td>\n",
       "      <td>1000</td>\n",
       "      <td>22.0</td>\n",
       "      <td>159.0</td>\n",
       "      <td>22.0</td>\n",
       "      <td>2256.0</td>\n",
       "      <td>5.0</td>\n",
       "      <td>52</td>\n",
       "      <td>NaT</td>\n",
       "      <td>Краснодар</td>\n",
       "      <td>Рафаил</td>\n",
       "      <td>Верещагин</td>\n",
       "      <td>2018-05-25</td>\n",
       "      <td>ultra</td>\n",
       "      <td>1000</td>\n",
       "      <td>30720</td>\n",
       "      <td>3000</td>\n",
       "      <td>1950</td>\n",
       "      <td>150</td>\n",
       "      <td>1</td>\n",
       "      <td>1</td>\n",
       "    </tr>\n",
       "    <tr>\n",
       "      <td>1</td>\n",
       "      <td>1000</td>\n",
       "      <td>43.0</td>\n",
       "      <td>172.0</td>\n",
       "      <td>60.0</td>\n",
       "      <td>23257.0</td>\n",
       "      <td>6.0</td>\n",
       "      <td>52</td>\n",
       "      <td>NaT</td>\n",
       "      <td>Краснодар</td>\n",
       "      <td>Рафаил</td>\n",
       "      <td>Верещагин</td>\n",
       "      <td>2018-05-25</td>\n",
       "      <td>ultra</td>\n",
       "      <td>1000</td>\n",
       "      <td>30720</td>\n",
       "      <td>3000</td>\n",
       "      <td>1950</td>\n",
       "      <td>150</td>\n",
       "      <td>1</td>\n",
       "      <td>1</td>\n",
       "    </tr>\n",
       "    <tr>\n",
       "      <td>2</td>\n",
       "      <td>1000</td>\n",
       "      <td>47.0</td>\n",
       "      <td>340.0</td>\n",
       "      <td>75.0</td>\n",
       "      <td>14016.0</td>\n",
       "      <td>7.0</td>\n",
       "      <td>52</td>\n",
       "      <td>NaT</td>\n",
       "      <td>Краснодар</td>\n",
       "      <td>Рафаил</td>\n",
       "      <td>Верещагин</td>\n",
       "      <td>2018-05-25</td>\n",
       "      <td>ultra</td>\n",
       "      <td>1000</td>\n",
       "      <td>30720</td>\n",
       "      <td>3000</td>\n",
       "      <td>1950</td>\n",
       "      <td>150</td>\n",
       "      <td>1</td>\n",
       "      <td>1</td>\n",
       "    </tr>\n",
       "    <tr>\n",
       "      <td>3</td>\n",
       "      <td>1000</td>\n",
       "      <td>52.0</td>\n",
       "      <td>408.0</td>\n",
       "      <td>81.0</td>\n",
       "      <td>14070.0</td>\n",
       "      <td>8.0</td>\n",
       "      <td>52</td>\n",
       "      <td>NaT</td>\n",
       "      <td>Краснодар</td>\n",
       "      <td>Рафаил</td>\n",
       "      <td>Верещагин</td>\n",
       "      <td>2018-05-25</td>\n",
       "      <td>ultra</td>\n",
       "      <td>1000</td>\n",
       "      <td>30720</td>\n",
       "      <td>3000</td>\n",
       "      <td>1950</td>\n",
       "      <td>150</td>\n",
       "      <td>1</td>\n",
       "      <td>1</td>\n",
       "    </tr>\n",
       "    <tr>\n",
       "      <td>4</td>\n",
       "      <td>1000</td>\n",
       "      <td>58.0</td>\n",
       "      <td>466.0</td>\n",
       "      <td>57.0</td>\n",
       "      <td>14581.0</td>\n",
       "      <td>9.0</td>\n",
       "      <td>52</td>\n",
       "      <td>NaT</td>\n",
       "      <td>Краснодар</td>\n",
       "      <td>Рафаил</td>\n",
       "      <td>Верещагин</td>\n",
       "      <td>2018-05-25</td>\n",
       "      <td>ultra</td>\n",
       "      <td>1000</td>\n",
       "      <td>30720</td>\n",
       "      <td>3000</td>\n",
       "      <td>1950</td>\n",
       "      <td>150</td>\n",
       "      <td>1</td>\n",
       "      <td>1</td>\n",
       "    </tr>\n",
       "    <tr>\n",
       "      <td>...</td>\n",
       "      <td>...</td>\n",
       "      <td>...</td>\n",
       "      <td>...</td>\n",
       "      <td>...</td>\n",
       "      <td>...</td>\n",
       "      <td>...</td>\n",
       "      <td>...</td>\n",
       "      <td>...</td>\n",
       "      <td>...</td>\n",
       "      <td>...</td>\n",
       "      <td>...</td>\n",
       "      <td>...</td>\n",
       "      <td>...</td>\n",
       "      <td>...</td>\n",
       "      <td>...</td>\n",
       "      <td>...</td>\n",
       "      <td>...</td>\n",
       "      <td>...</td>\n",
       "      <td>...</td>\n",
       "      <td>...</td>\n",
       "    </tr>\n",
       "    <tr>\n",
       "      <td>3211</td>\n",
       "      <td>1489</td>\n",
       "      <td>NaN</td>\n",
       "      <td>NaN</td>\n",
       "      <td>32.0</td>\n",
       "      <td>17232.0</td>\n",
       "      <td>9.0</td>\n",
       "      <td>35</td>\n",
       "      <td>NaT</td>\n",
       "      <td>Санкт-Петербург</td>\n",
       "      <td>Павел</td>\n",
       "      <td>Гончаров</td>\n",
       "      <td>2018-08-15</td>\n",
       "      <td>smart</td>\n",
       "      <td>50</td>\n",
       "      <td>15360</td>\n",
       "      <td>500</td>\n",
       "      <td>550</td>\n",
       "      <td>200</td>\n",
       "      <td>3</td>\n",
       "      <td>3</td>\n",
       "    </tr>\n",
       "    <tr>\n",
       "      <td>3212</td>\n",
       "      <td>1489</td>\n",
       "      <td>NaN</td>\n",
       "      <td>NaN</td>\n",
       "      <td>21.0</td>\n",
       "      <td>19588.0</td>\n",
       "      <td>10.0</td>\n",
       "      <td>35</td>\n",
       "      <td>NaT</td>\n",
       "      <td>Санкт-Петербург</td>\n",
       "      <td>Павел</td>\n",
       "      <td>Гончаров</td>\n",
       "      <td>2018-08-15</td>\n",
       "      <td>smart</td>\n",
       "      <td>50</td>\n",
       "      <td>15360</td>\n",
       "      <td>500</td>\n",
       "      <td>550</td>\n",
       "      <td>200</td>\n",
       "      <td>3</td>\n",
       "      <td>3</td>\n",
       "    </tr>\n",
       "    <tr>\n",
       "      <td>3213</td>\n",
       "      <td>1489</td>\n",
       "      <td>NaN</td>\n",
       "      <td>NaN</td>\n",
       "      <td>20.0</td>\n",
       "      <td>17516.0</td>\n",
       "      <td>11.0</td>\n",
       "      <td>35</td>\n",
       "      <td>NaT</td>\n",
       "      <td>Санкт-Петербург</td>\n",
       "      <td>Павел</td>\n",
       "      <td>Гончаров</td>\n",
       "      <td>2018-08-15</td>\n",
       "      <td>smart</td>\n",
       "      <td>50</td>\n",
       "      <td>15360</td>\n",
       "      <td>500</td>\n",
       "      <td>550</td>\n",
       "      <td>200</td>\n",
       "      <td>3</td>\n",
       "      <td>3</td>\n",
       "    </tr>\n",
       "    <tr>\n",
       "      <td>3214</td>\n",
       "      <td>1489</td>\n",
       "      <td>NaN</td>\n",
       "      <td>NaN</td>\n",
       "      <td>35.0</td>\n",
       "      <td>17341.0</td>\n",
       "      <td>12.0</td>\n",
       "      <td>35</td>\n",
       "      <td>NaT</td>\n",
       "      <td>Санкт-Петербург</td>\n",
       "      <td>Павел</td>\n",
       "      <td>Гончаров</td>\n",
       "      <td>2018-08-15</td>\n",
       "      <td>smart</td>\n",
       "      <td>50</td>\n",
       "      <td>15360</td>\n",
       "      <td>500</td>\n",
       "      <td>550</td>\n",
       "      <td>200</td>\n",
       "      <td>3</td>\n",
       "      <td>3</td>\n",
       "    </tr>\n",
       "    <tr>\n",
       "      <td>3215</td>\n",
       "      <td>1371</td>\n",
       "      <td>NaN</td>\n",
       "      <td>NaN</td>\n",
       "      <td>NaN</td>\n",
       "      <td>NaN</td>\n",
       "      <td>NaN</td>\n",
       "      <td>50</td>\n",
       "      <td>2018-12-30</td>\n",
       "      <td>Омск</td>\n",
       "      <td>Ириней</td>\n",
       "      <td>Трофимов</td>\n",
       "      <td>2018-12-25</td>\n",
       "      <td>smart</td>\n",
       "      <td>50</td>\n",
       "      <td>15360</td>\n",
       "      <td>500</td>\n",
       "      <td>550</td>\n",
       "      <td>200</td>\n",
       "      <td>3</td>\n",
       "      <td>3</td>\n",
       "    </tr>\n",
       "  </tbody>\n",
       "</table>\n",
       "<p>3216 rows × 20 columns</p>\n",
       "</div>"
      ],
      "text/plain": [
       "      user_id  number_calls_per_month  duration  number_messages_per_month  \\\n",
       "0        1000                    22.0     159.0                       22.0   \n",
       "1        1000                    43.0     172.0                       60.0   \n",
       "2        1000                    47.0     340.0                       75.0   \n",
       "3        1000                    52.0     408.0                       81.0   \n",
       "4        1000                    58.0     466.0                       57.0   \n",
       "...       ...                     ...       ...                        ...   \n",
       "3211     1489                     NaN       NaN                       32.0   \n",
       "3212     1489                     NaN       NaN                       21.0   \n",
       "3213     1489                     NaN       NaN                       20.0   \n",
       "3214     1489                     NaN       NaN                       35.0   \n",
       "3215     1371                     NaN       NaN                        NaN   \n",
       "\n",
       "      mb_used  month  age churn_date             city first_name  last_name  \\\n",
       "0      2256.0    5.0   52        NaT        Краснодар     Рафаил  Верещагин   \n",
       "1     23257.0    6.0   52        NaT        Краснодар     Рафаил  Верещагин   \n",
       "2     14016.0    7.0   52        NaT        Краснодар     Рафаил  Верещагин   \n",
       "3     14070.0    8.0   52        NaT        Краснодар     Рафаил  Верещагин   \n",
       "4     14581.0    9.0   52        NaT        Краснодар     Рафаил  Верещагин   \n",
       "...       ...    ...  ...        ...              ...        ...        ...   \n",
       "3211  17232.0    9.0   35        NaT  Санкт-Петербург      Павел   Гончаров   \n",
       "3212  19588.0   10.0   35        NaT  Санкт-Петербург      Павел   Гончаров   \n",
       "3213  17516.0   11.0   35        NaT  Санкт-Петербург      Павел   Гончаров   \n",
       "3214  17341.0   12.0   35        NaT  Санкт-Петербург      Павел   Гончаров   \n",
       "3215      NaN    NaN   50 2018-12-30             Омск     Ириней   Трофимов   \n",
       "\n",
       "       reg_date tariff  messages_included  mb_per_month_included  \\\n",
       "0    2018-05-25  ultra               1000                  30720   \n",
       "1    2018-05-25  ultra               1000                  30720   \n",
       "2    2018-05-25  ultra               1000                  30720   \n",
       "3    2018-05-25  ultra               1000                  30720   \n",
       "4    2018-05-25  ultra               1000                  30720   \n",
       "...         ...    ...                ...                    ...   \n",
       "3211 2018-08-15  smart                 50                  15360   \n",
       "3212 2018-08-15  smart                 50                  15360   \n",
       "3213 2018-08-15  smart                 50                  15360   \n",
       "3214 2018-08-15  smart                 50                  15360   \n",
       "3215 2018-12-25  smart                 50                  15360   \n",
       "\n",
       "      minutes_included  rub_monthly_fee  rub_per_gb  rub_per_message  \\\n",
       "0                 3000             1950         150                1   \n",
       "1                 3000             1950         150                1   \n",
       "2                 3000             1950         150                1   \n",
       "3                 3000             1950         150                1   \n",
       "4                 3000             1950         150                1   \n",
       "...                ...              ...         ...              ...   \n",
       "3211               500              550         200                3   \n",
       "3212               500              550         200                3   \n",
       "3213               500              550         200                3   \n",
       "3214               500              550         200                3   \n",
       "3215               500              550         200                3   \n",
       "\n",
       "      rub_per_minute  \n",
       "0                  1  \n",
       "1                  1  \n",
       "2                  1  \n",
       "3                  1  \n",
       "4                  1  \n",
       "...              ...  \n",
       "3211               3  \n",
       "3212               3  \n",
       "3213               3  \n",
       "3214               3  \n",
       "3215               3  \n",
       "\n",
       "[3216 rows x 20 columns]"
      ]
     },
     "execution_count": 168,
     "metadata": {},
     "output_type": "execute_result"
    }
   ],
   "source": [
    "# Результат объединения таблиц\n",
    "data_union"
   ]
  },
  {
   "cell_type": "markdown",
   "metadata": {},
   "source": [
    "Далее начинается поэтапное вычисление размера выручки. Учитывается тот факт, что разность между затраченными минутами и минутами включенными в тариф может оказаться отрицательной."
   ]
  },
  {
   "cell_type": "code",
   "execution_count": 169,
   "metadata": {},
   "outputs": [],
   "source": [
    "#Добавление нового столбца с размером выручки за разговоры\n",
    "data_union['calls_proceeds'] = (data_union [data_union['duration']>data_union['minutes_included']] ['duration'] - data_union [data_union['duration']>data_union['minutes_included']] ['minutes_included']) * data_union['rub_per_minute']"
   ]
  },
  {
   "cell_type": "code",
   "execution_count": 170,
   "metadata": {},
   "outputs": [],
   "source": [
    "#Заполнение нулями пропусков означающих, что разность между затраченными минутами и минутами включенными в тариф\n",
    "# была отрицательной, а значит выручка оказалась нулевой\n",
    "data_union['calls_proceeds'] = data_union['calls_proceeds'].fillna(0)"
   ]
  },
  {
   "cell_type": "code",
   "execution_count": 171,
   "metadata": {},
   "outputs": [],
   "source": [
    "#Добавление нового столбца с размером выручки за сообщения\n",
    "data_union['messages_proceeds'] = (data_union [data_union['number_messages_per_month']>data_union['messages_included']] ['number_messages_per_month'] - data_union [data_union['number_messages_per_month']>data_union['messages_included']]['messages_included']) * data_union['rub_per_message']"
   ]
  },
  {
   "cell_type": "code",
   "execution_count": 172,
   "metadata": {},
   "outputs": [],
   "source": [
    "#Заполнение нулями пропусков означающих, что разность между затраченными сообщениями и сообщениями включенными в тариф\n",
    "# была отрицательной, а значит выручка оказалась нулевой\n",
    "data_union['messages_proceeds'] = data_union['messages_proceeds'].fillna(0)"
   ]
  },
  {
   "cell_type": "code",
   "execution_count": 173,
   "metadata": {},
   "outputs": [],
   "source": [
    "#Добавление нового столбца с размером выручки за интернет\n",
    "data_union['mg_proceeds'] = (data_union [data_union['mb_used']>data_union['mb_per_month_included']] ['mb_used'] - data_union [data_union['mb_used']>data_union['mb_per_month_included']] ['mb_per_month_included'])/1024 * data_union['rub_per_gb']"
   ]
  },
  {
   "cell_type": "code",
   "execution_count": 174,
   "metadata": {},
   "outputs": [],
   "source": [
    "#Заполнение нулями пропусков означающих, что разность между затраченным трафиком и трафиком включенным в тариф\n",
    "# была отрицательной, а значит выручка оказалась нулевой\n",
    "data_union['mg_proceeds'] = data_union['mg_proceeds'].fillna(0)"
   ]
  },
  {
   "cell_type": "code",
   "execution_count": 175,
   "metadata": {},
   "outputs": [],
   "source": [
    "#Подсчет итоговой выручки в столбце proceeds\n",
    "data_union['proceeds'] = data_union['calls_proceeds'] + \\\n",
    "data_union['messages_proceeds'] + \\\n",
    "data_union['mg_proceeds'] + \\\n",
    "data_union['rub_monthly_fee']"
   ]
  },
  {
   "cell_type": "code",
   "execution_count": 176,
   "metadata": {
    "scrolled": true
   },
   "outputs": [
    {
     "data": {
      "text/html": [
       "<div>\n",
       "<style scoped>\n",
       "    .dataframe tbody tr th:only-of-type {\n",
       "        vertical-align: middle;\n",
       "    }\n",
       "\n",
       "    .dataframe tbody tr th {\n",
       "        vertical-align: top;\n",
       "    }\n",
       "\n",
       "    .dataframe thead th {\n",
       "        text-align: right;\n",
       "    }\n",
       "</style>\n",
       "<table border=\"1\" class=\"dataframe\">\n",
       "  <thead>\n",
       "    <tr style=\"text-align: right;\">\n",
       "      <th></th>\n",
       "      <th>user_id</th>\n",
       "      <th>number_calls_per_month</th>\n",
       "      <th>duration</th>\n",
       "      <th>number_messages_per_month</th>\n",
       "      <th>mb_used</th>\n",
       "      <th>month</th>\n",
       "      <th>age</th>\n",
       "      <th>churn_date</th>\n",
       "      <th>city</th>\n",
       "      <th>first_name</th>\n",
       "      <th>last_name</th>\n",
       "      <th>reg_date</th>\n",
       "      <th>tariff</th>\n",
       "      <th>messages_included</th>\n",
       "      <th>mb_per_month_included</th>\n",
       "      <th>minutes_included</th>\n",
       "      <th>rub_monthly_fee</th>\n",
       "      <th>rub_per_gb</th>\n",
       "      <th>rub_per_message</th>\n",
       "      <th>rub_per_minute</th>\n",
       "      <th>calls_proceeds</th>\n",
       "      <th>messages_proceeds</th>\n",
       "      <th>mg_proceeds</th>\n",
       "      <th>proceeds</th>\n",
       "    </tr>\n",
       "  </thead>\n",
       "  <tbody>\n",
       "    <tr>\n",
       "      <td>0</td>\n",
       "      <td>1000</td>\n",
       "      <td>22.0</td>\n",
       "      <td>159.0</td>\n",
       "      <td>22.0</td>\n",
       "      <td>2256.0</td>\n",
       "      <td>5.0</td>\n",
       "      <td>52</td>\n",
       "      <td>NaT</td>\n",
       "      <td>Краснодар</td>\n",
       "      <td>Рафаил</td>\n",
       "      <td>Верещагин</td>\n",
       "      <td>2018-05-25</td>\n",
       "      <td>ultra</td>\n",
       "      <td>1000</td>\n",
       "      <td>30720</td>\n",
       "      <td>3000</td>\n",
       "      <td>1950</td>\n",
       "      <td>150</td>\n",
       "      <td>1</td>\n",
       "      <td>1</td>\n",
       "      <td>0.0</td>\n",
       "      <td>0.0</td>\n",
       "      <td>0.000000</td>\n",
       "      <td>1950.000000</td>\n",
       "    </tr>\n",
       "    <tr>\n",
       "      <td>1</td>\n",
       "      <td>1000</td>\n",
       "      <td>43.0</td>\n",
       "      <td>172.0</td>\n",
       "      <td>60.0</td>\n",
       "      <td>23257.0</td>\n",
       "      <td>6.0</td>\n",
       "      <td>52</td>\n",
       "      <td>NaT</td>\n",
       "      <td>Краснодар</td>\n",
       "      <td>Рафаил</td>\n",
       "      <td>Верещагин</td>\n",
       "      <td>2018-05-25</td>\n",
       "      <td>ultra</td>\n",
       "      <td>1000</td>\n",
       "      <td>30720</td>\n",
       "      <td>3000</td>\n",
       "      <td>1950</td>\n",
       "      <td>150</td>\n",
       "      <td>1</td>\n",
       "      <td>1</td>\n",
       "      <td>0.0</td>\n",
       "      <td>0.0</td>\n",
       "      <td>0.000000</td>\n",
       "      <td>1950.000000</td>\n",
       "    </tr>\n",
       "    <tr>\n",
       "      <td>2</td>\n",
       "      <td>1000</td>\n",
       "      <td>47.0</td>\n",
       "      <td>340.0</td>\n",
       "      <td>75.0</td>\n",
       "      <td>14016.0</td>\n",
       "      <td>7.0</td>\n",
       "      <td>52</td>\n",
       "      <td>NaT</td>\n",
       "      <td>Краснодар</td>\n",
       "      <td>Рафаил</td>\n",
       "      <td>Верещагин</td>\n",
       "      <td>2018-05-25</td>\n",
       "      <td>ultra</td>\n",
       "      <td>1000</td>\n",
       "      <td>30720</td>\n",
       "      <td>3000</td>\n",
       "      <td>1950</td>\n",
       "      <td>150</td>\n",
       "      <td>1</td>\n",
       "      <td>1</td>\n",
       "      <td>0.0</td>\n",
       "      <td>0.0</td>\n",
       "      <td>0.000000</td>\n",
       "      <td>1950.000000</td>\n",
       "    </tr>\n",
       "    <tr>\n",
       "      <td>3</td>\n",
       "      <td>1000</td>\n",
       "      <td>52.0</td>\n",
       "      <td>408.0</td>\n",
       "      <td>81.0</td>\n",
       "      <td>14070.0</td>\n",
       "      <td>8.0</td>\n",
       "      <td>52</td>\n",
       "      <td>NaT</td>\n",
       "      <td>Краснодар</td>\n",
       "      <td>Рафаил</td>\n",
       "      <td>Верещагин</td>\n",
       "      <td>2018-05-25</td>\n",
       "      <td>ultra</td>\n",
       "      <td>1000</td>\n",
       "      <td>30720</td>\n",
       "      <td>3000</td>\n",
       "      <td>1950</td>\n",
       "      <td>150</td>\n",
       "      <td>1</td>\n",
       "      <td>1</td>\n",
       "      <td>0.0</td>\n",
       "      <td>0.0</td>\n",
       "      <td>0.000000</td>\n",
       "      <td>1950.000000</td>\n",
       "    </tr>\n",
       "    <tr>\n",
       "      <td>4</td>\n",
       "      <td>1000</td>\n",
       "      <td>58.0</td>\n",
       "      <td>466.0</td>\n",
       "      <td>57.0</td>\n",
       "      <td>14581.0</td>\n",
       "      <td>9.0</td>\n",
       "      <td>52</td>\n",
       "      <td>NaT</td>\n",
       "      <td>Краснодар</td>\n",
       "      <td>Рафаил</td>\n",
       "      <td>Верещагин</td>\n",
       "      <td>2018-05-25</td>\n",
       "      <td>ultra</td>\n",
       "      <td>1000</td>\n",
       "      <td>30720</td>\n",
       "      <td>3000</td>\n",
       "      <td>1950</td>\n",
       "      <td>150</td>\n",
       "      <td>1</td>\n",
       "      <td>1</td>\n",
       "      <td>0.0</td>\n",
       "      <td>0.0</td>\n",
       "      <td>0.000000</td>\n",
       "      <td>1950.000000</td>\n",
       "    </tr>\n",
       "    <tr>\n",
       "      <td>...</td>\n",
       "      <td>...</td>\n",
       "      <td>...</td>\n",
       "      <td>...</td>\n",
       "      <td>...</td>\n",
       "      <td>...</td>\n",
       "      <td>...</td>\n",
       "      <td>...</td>\n",
       "      <td>...</td>\n",
       "      <td>...</td>\n",
       "      <td>...</td>\n",
       "      <td>...</td>\n",
       "      <td>...</td>\n",
       "      <td>...</td>\n",
       "      <td>...</td>\n",
       "      <td>...</td>\n",
       "      <td>...</td>\n",
       "      <td>...</td>\n",
       "      <td>...</td>\n",
       "      <td>...</td>\n",
       "      <td>...</td>\n",
       "      <td>...</td>\n",
       "      <td>...</td>\n",
       "      <td>...</td>\n",
       "      <td>...</td>\n",
       "    </tr>\n",
       "    <tr>\n",
       "      <td>3211</td>\n",
       "      <td>1489</td>\n",
       "      <td>NaN</td>\n",
       "      <td>NaN</td>\n",
       "      <td>32.0</td>\n",
       "      <td>17232.0</td>\n",
       "      <td>9.0</td>\n",
       "      <td>35</td>\n",
       "      <td>NaT</td>\n",
       "      <td>Санкт-Петербург</td>\n",
       "      <td>Павел</td>\n",
       "      <td>Гончаров</td>\n",
       "      <td>2018-08-15</td>\n",
       "      <td>smart</td>\n",
       "      <td>50</td>\n",
       "      <td>15360</td>\n",
       "      <td>500</td>\n",
       "      <td>550</td>\n",
       "      <td>200</td>\n",
       "      <td>3</td>\n",
       "      <td>3</td>\n",
       "      <td>0.0</td>\n",
       "      <td>0.0</td>\n",
       "      <td>365.625000</td>\n",
       "      <td>915.625000</td>\n",
       "    </tr>\n",
       "    <tr>\n",
       "      <td>3212</td>\n",
       "      <td>1489</td>\n",
       "      <td>NaN</td>\n",
       "      <td>NaN</td>\n",
       "      <td>21.0</td>\n",
       "      <td>19588.0</td>\n",
       "      <td>10.0</td>\n",
       "      <td>35</td>\n",
       "      <td>NaT</td>\n",
       "      <td>Санкт-Петербург</td>\n",
       "      <td>Павел</td>\n",
       "      <td>Гончаров</td>\n",
       "      <td>2018-08-15</td>\n",
       "      <td>smart</td>\n",
       "      <td>50</td>\n",
       "      <td>15360</td>\n",
       "      <td>500</td>\n",
       "      <td>550</td>\n",
       "      <td>200</td>\n",
       "      <td>3</td>\n",
       "      <td>3</td>\n",
       "      <td>0.0</td>\n",
       "      <td>0.0</td>\n",
       "      <td>825.781250</td>\n",
       "      <td>1375.781250</td>\n",
       "    </tr>\n",
       "    <tr>\n",
       "      <td>3213</td>\n",
       "      <td>1489</td>\n",
       "      <td>NaN</td>\n",
       "      <td>NaN</td>\n",
       "      <td>20.0</td>\n",
       "      <td>17516.0</td>\n",
       "      <td>11.0</td>\n",
       "      <td>35</td>\n",
       "      <td>NaT</td>\n",
       "      <td>Санкт-Петербург</td>\n",
       "      <td>Павел</td>\n",
       "      <td>Гончаров</td>\n",
       "      <td>2018-08-15</td>\n",
       "      <td>smart</td>\n",
       "      <td>50</td>\n",
       "      <td>15360</td>\n",
       "      <td>500</td>\n",
       "      <td>550</td>\n",
       "      <td>200</td>\n",
       "      <td>3</td>\n",
       "      <td>3</td>\n",
       "      <td>0.0</td>\n",
       "      <td>0.0</td>\n",
       "      <td>421.093750</td>\n",
       "      <td>971.093750</td>\n",
       "    </tr>\n",
       "    <tr>\n",
       "      <td>3214</td>\n",
       "      <td>1489</td>\n",
       "      <td>NaN</td>\n",
       "      <td>NaN</td>\n",
       "      <td>35.0</td>\n",
       "      <td>17341.0</td>\n",
       "      <td>12.0</td>\n",
       "      <td>35</td>\n",
       "      <td>NaT</td>\n",
       "      <td>Санкт-Петербург</td>\n",
       "      <td>Павел</td>\n",
       "      <td>Гончаров</td>\n",
       "      <td>2018-08-15</td>\n",
       "      <td>smart</td>\n",
       "      <td>50</td>\n",
       "      <td>15360</td>\n",
       "      <td>500</td>\n",
       "      <td>550</td>\n",
       "      <td>200</td>\n",
       "      <td>3</td>\n",
       "      <td>3</td>\n",
       "      <td>0.0</td>\n",
       "      <td>0.0</td>\n",
       "      <td>386.914062</td>\n",
       "      <td>936.914062</td>\n",
       "    </tr>\n",
       "    <tr>\n",
       "      <td>3215</td>\n",
       "      <td>1371</td>\n",
       "      <td>NaN</td>\n",
       "      <td>NaN</td>\n",
       "      <td>NaN</td>\n",
       "      <td>NaN</td>\n",
       "      <td>NaN</td>\n",
       "      <td>50</td>\n",
       "      <td>2018-12-30</td>\n",
       "      <td>Омск</td>\n",
       "      <td>Ириней</td>\n",
       "      <td>Трофимов</td>\n",
       "      <td>2018-12-25</td>\n",
       "      <td>smart</td>\n",
       "      <td>50</td>\n",
       "      <td>15360</td>\n",
       "      <td>500</td>\n",
       "      <td>550</td>\n",
       "      <td>200</td>\n",
       "      <td>3</td>\n",
       "      <td>3</td>\n",
       "      <td>0.0</td>\n",
       "      <td>0.0</td>\n",
       "      <td>0.000000</td>\n",
       "      <td>550.000000</td>\n",
       "    </tr>\n",
       "  </tbody>\n",
       "</table>\n",
       "<p>3216 rows × 24 columns</p>\n",
       "</div>"
      ],
      "text/plain": [
       "      user_id  number_calls_per_month  duration  number_messages_per_month  \\\n",
       "0        1000                    22.0     159.0                       22.0   \n",
       "1        1000                    43.0     172.0                       60.0   \n",
       "2        1000                    47.0     340.0                       75.0   \n",
       "3        1000                    52.0     408.0                       81.0   \n",
       "4        1000                    58.0     466.0                       57.0   \n",
       "...       ...                     ...       ...                        ...   \n",
       "3211     1489                     NaN       NaN                       32.0   \n",
       "3212     1489                     NaN       NaN                       21.0   \n",
       "3213     1489                     NaN       NaN                       20.0   \n",
       "3214     1489                     NaN       NaN                       35.0   \n",
       "3215     1371                     NaN       NaN                        NaN   \n",
       "\n",
       "      mb_used  month  age churn_date             city first_name  last_name  \\\n",
       "0      2256.0    5.0   52        NaT        Краснодар     Рафаил  Верещагин   \n",
       "1     23257.0    6.0   52        NaT        Краснодар     Рафаил  Верещагин   \n",
       "2     14016.0    7.0   52        NaT        Краснодар     Рафаил  Верещагин   \n",
       "3     14070.0    8.0   52        NaT        Краснодар     Рафаил  Верещагин   \n",
       "4     14581.0    9.0   52        NaT        Краснодар     Рафаил  Верещагин   \n",
       "...       ...    ...  ...        ...              ...        ...        ...   \n",
       "3211  17232.0    9.0   35        NaT  Санкт-Петербург      Павел   Гончаров   \n",
       "3212  19588.0   10.0   35        NaT  Санкт-Петербург      Павел   Гончаров   \n",
       "3213  17516.0   11.0   35        NaT  Санкт-Петербург      Павел   Гончаров   \n",
       "3214  17341.0   12.0   35        NaT  Санкт-Петербург      Павел   Гончаров   \n",
       "3215      NaN    NaN   50 2018-12-30             Омск     Ириней   Трофимов   \n",
       "\n",
       "       reg_date tariff  messages_included  mb_per_month_included  \\\n",
       "0    2018-05-25  ultra               1000                  30720   \n",
       "1    2018-05-25  ultra               1000                  30720   \n",
       "2    2018-05-25  ultra               1000                  30720   \n",
       "3    2018-05-25  ultra               1000                  30720   \n",
       "4    2018-05-25  ultra               1000                  30720   \n",
       "...         ...    ...                ...                    ...   \n",
       "3211 2018-08-15  smart                 50                  15360   \n",
       "3212 2018-08-15  smart                 50                  15360   \n",
       "3213 2018-08-15  smart                 50                  15360   \n",
       "3214 2018-08-15  smart                 50                  15360   \n",
       "3215 2018-12-25  smart                 50                  15360   \n",
       "\n",
       "      minutes_included  rub_monthly_fee  rub_per_gb  rub_per_message  \\\n",
       "0                 3000             1950         150                1   \n",
       "1                 3000             1950         150                1   \n",
       "2                 3000             1950         150                1   \n",
       "3                 3000             1950         150                1   \n",
       "4                 3000             1950         150                1   \n",
       "...                ...              ...         ...              ...   \n",
       "3211               500              550         200                3   \n",
       "3212               500              550         200                3   \n",
       "3213               500              550         200                3   \n",
       "3214               500              550         200                3   \n",
       "3215               500              550         200                3   \n",
       "\n",
       "      rub_per_minute  calls_proceeds  messages_proceeds  mg_proceeds  \\\n",
       "0                  1             0.0                0.0     0.000000   \n",
       "1                  1             0.0                0.0     0.000000   \n",
       "2                  1             0.0                0.0     0.000000   \n",
       "3                  1             0.0                0.0     0.000000   \n",
       "4                  1             0.0                0.0     0.000000   \n",
       "...              ...             ...                ...          ...   \n",
       "3211               3             0.0                0.0   365.625000   \n",
       "3212               3             0.0                0.0   825.781250   \n",
       "3213               3             0.0                0.0   421.093750   \n",
       "3214               3             0.0                0.0   386.914062   \n",
       "3215               3             0.0                0.0     0.000000   \n",
       "\n",
       "         proceeds  \n",
       "0     1950.000000  \n",
       "1     1950.000000  \n",
       "2     1950.000000  \n",
       "3     1950.000000  \n",
       "4     1950.000000  \n",
       "...           ...  \n",
       "3211   915.625000  \n",
       "3212  1375.781250  \n",
       "3213   971.093750  \n",
       "3214   936.914062  \n",
       "3215   550.000000  \n",
       "\n",
       "[3216 rows x 24 columns]"
      ]
     },
     "execution_count": 176,
     "metadata": {},
     "output_type": "execute_result"
    }
   ],
   "source": [
    "#Результат добавления и заполнения столбцов\n",
    "data_union"
   ]
  },
  {
   "cell_type": "code",
   "execution_count": 179,
   "metadata": {},
   "outputs": [],
   "source": [
    "pd.set_option('display.max_columns', None)"
   ]
  },
  {
   "cell_type": "code",
   "execution_count": 180,
   "metadata": {},
   "outputs": [
    {
     "data": {
      "text/html": [
       "<div>\n",
       "<style scoped>\n",
       "    .dataframe tbody tr th:only-of-type {\n",
       "        vertical-align: middle;\n",
       "    }\n",
       "\n",
       "    .dataframe tbody tr th {\n",
       "        vertical-align: top;\n",
       "    }\n",
       "\n",
       "    .dataframe thead th {\n",
       "        text-align: right;\n",
       "    }\n",
       "</style>\n",
       "<table border=\"1\" class=\"dataframe\">\n",
       "  <thead>\n",
       "    <tr style=\"text-align: right;\">\n",
       "      <th></th>\n",
       "      <th>user_id</th>\n",
       "      <th>number_calls_per_month</th>\n",
       "      <th>duration</th>\n",
       "      <th>number_messages_per_month</th>\n",
       "      <th>mb_used</th>\n",
       "      <th>month</th>\n",
       "      <th>age</th>\n",
       "      <th>churn_date</th>\n",
       "      <th>city</th>\n",
       "      <th>first_name</th>\n",
       "      <th>last_name</th>\n",
       "      <th>reg_date</th>\n",
       "      <th>tariff</th>\n",
       "      <th>messages_included</th>\n",
       "      <th>mb_per_month_included</th>\n",
       "      <th>minutes_included</th>\n",
       "      <th>rub_monthly_fee</th>\n",
       "      <th>rub_per_gb</th>\n",
       "      <th>rub_per_message</th>\n",
       "      <th>rub_per_minute</th>\n",
       "      <th>calls_proceeds</th>\n",
       "      <th>messages_proceeds</th>\n",
       "      <th>mg_proceeds</th>\n",
       "      <th>proceeds</th>\n",
       "    </tr>\n",
       "  </thead>\n",
       "  <tbody>\n",
       "    <tr>\n",
       "      <td>0</td>\n",
       "      <td>1000</td>\n",
       "      <td>22.0</td>\n",
       "      <td>159.0</td>\n",
       "      <td>22.0</td>\n",
       "      <td>2256.0</td>\n",
       "      <td>5.0</td>\n",
       "      <td>52</td>\n",
       "      <td>NaT</td>\n",
       "      <td>Краснодар</td>\n",
       "      <td>Рафаил</td>\n",
       "      <td>Верещагин</td>\n",
       "      <td>2018-05-25</td>\n",
       "      <td>ultra</td>\n",
       "      <td>1000</td>\n",
       "      <td>30720</td>\n",
       "      <td>3000</td>\n",
       "      <td>1950</td>\n",
       "      <td>150</td>\n",
       "      <td>1</td>\n",
       "      <td>1</td>\n",
       "      <td>0.0</td>\n",
       "      <td>0.0</td>\n",
       "      <td>0.000000</td>\n",
       "      <td>1950.000000</td>\n",
       "    </tr>\n",
       "    <tr>\n",
       "      <td>1</td>\n",
       "      <td>1000</td>\n",
       "      <td>43.0</td>\n",
       "      <td>172.0</td>\n",
       "      <td>60.0</td>\n",
       "      <td>23257.0</td>\n",
       "      <td>6.0</td>\n",
       "      <td>52</td>\n",
       "      <td>NaT</td>\n",
       "      <td>Краснодар</td>\n",
       "      <td>Рафаил</td>\n",
       "      <td>Верещагин</td>\n",
       "      <td>2018-05-25</td>\n",
       "      <td>ultra</td>\n",
       "      <td>1000</td>\n",
       "      <td>30720</td>\n",
       "      <td>3000</td>\n",
       "      <td>1950</td>\n",
       "      <td>150</td>\n",
       "      <td>1</td>\n",
       "      <td>1</td>\n",
       "      <td>0.0</td>\n",
       "      <td>0.0</td>\n",
       "      <td>0.000000</td>\n",
       "      <td>1950.000000</td>\n",
       "    </tr>\n",
       "    <tr>\n",
       "      <td>2</td>\n",
       "      <td>1000</td>\n",
       "      <td>47.0</td>\n",
       "      <td>340.0</td>\n",
       "      <td>75.0</td>\n",
       "      <td>14016.0</td>\n",
       "      <td>7.0</td>\n",
       "      <td>52</td>\n",
       "      <td>NaT</td>\n",
       "      <td>Краснодар</td>\n",
       "      <td>Рафаил</td>\n",
       "      <td>Верещагин</td>\n",
       "      <td>2018-05-25</td>\n",
       "      <td>ultra</td>\n",
       "      <td>1000</td>\n",
       "      <td>30720</td>\n",
       "      <td>3000</td>\n",
       "      <td>1950</td>\n",
       "      <td>150</td>\n",
       "      <td>1</td>\n",
       "      <td>1</td>\n",
       "      <td>0.0</td>\n",
       "      <td>0.0</td>\n",
       "      <td>0.000000</td>\n",
       "      <td>1950.000000</td>\n",
       "    </tr>\n",
       "    <tr>\n",
       "      <td>3</td>\n",
       "      <td>1000</td>\n",
       "      <td>52.0</td>\n",
       "      <td>408.0</td>\n",
       "      <td>81.0</td>\n",
       "      <td>14070.0</td>\n",
       "      <td>8.0</td>\n",
       "      <td>52</td>\n",
       "      <td>NaT</td>\n",
       "      <td>Краснодар</td>\n",
       "      <td>Рафаил</td>\n",
       "      <td>Верещагин</td>\n",
       "      <td>2018-05-25</td>\n",
       "      <td>ultra</td>\n",
       "      <td>1000</td>\n",
       "      <td>30720</td>\n",
       "      <td>3000</td>\n",
       "      <td>1950</td>\n",
       "      <td>150</td>\n",
       "      <td>1</td>\n",
       "      <td>1</td>\n",
       "      <td>0.0</td>\n",
       "      <td>0.0</td>\n",
       "      <td>0.000000</td>\n",
       "      <td>1950.000000</td>\n",
       "    </tr>\n",
       "    <tr>\n",
       "      <td>4</td>\n",
       "      <td>1000</td>\n",
       "      <td>58.0</td>\n",
       "      <td>466.0</td>\n",
       "      <td>57.0</td>\n",
       "      <td>14581.0</td>\n",
       "      <td>9.0</td>\n",
       "      <td>52</td>\n",
       "      <td>NaT</td>\n",
       "      <td>Краснодар</td>\n",
       "      <td>Рафаил</td>\n",
       "      <td>Верещагин</td>\n",
       "      <td>2018-05-25</td>\n",
       "      <td>ultra</td>\n",
       "      <td>1000</td>\n",
       "      <td>30720</td>\n",
       "      <td>3000</td>\n",
       "      <td>1950</td>\n",
       "      <td>150</td>\n",
       "      <td>1</td>\n",
       "      <td>1</td>\n",
       "      <td>0.0</td>\n",
       "      <td>0.0</td>\n",
       "      <td>0.000000</td>\n",
       "      <td>1950.000000</td>\n",
       "    </tr>\n",
       "    <tr>\n",
       "      <td>...</td>\n",
       "      <td>...</td>\n",
       "      <td>...</td>\n",
       "      <td>...</td>\n",
       "      <td>...</td>\n",
       "      <td>...</td>\n",
       "      <td>...</td>\n",
       "      <td>...</td>\n",
       "      <td>...</td>\n",
       "      <td>...</td>\n",
       "      <td>...</td>\n",
       "      <td>...</td>\n",
       "      <td>...</td>\n",
       "      <td>...</td>\n",
       "      <td>...</td>\n",
       "      <td>...</td>\n",
       "      <td>...</td>\n",
       "      <td>...</td>\n",
       "      <td>...</td>\n",
       "      <td>...</td>\n",
       "      <td>...</td>\n",
       "      <td>...</td>\n",
       "      <td>...</td>\n",
       "      <td>...</td>\n",
       "      <td>...</td>\n",
       "    </tr>\n",
       "    <tr>\n",
       "      <td>3211</td>\n",
       "      <td>1489</td>\n",
       "      <td>NaN</td>\n",
       "      <td>NaN</td>\n",
       "      <td>32.0</td>\n",
       "      <td>17232.0</td>\n",
       "      <td>9.0</td>\n",
       "      <td>35</td>\n",
       "      <td>NaT</td>\n",
       "      <td>Санкт-Петербург</td>\n",
       "      <td>Павел</td>\n",
       "      <td>Гончаров</td>\n",
       "      <td>2018-08-15</td>\n",
       "      <td>smart</td>\n",
       "      <td>50</td>\n",
       "      <td>15360</td>\n",
       "      <td>500</td>\n",
       "      <td>550</td>\n",
       "      <td>200</td>\n",
       "      <td>3</td>\n",
       "      <td>3</td>\n",
       "      <td>0.0</td>\n",
       "      <td>0.0</td>\n",
       "      <td>365.625000</td>\n",
       "      <td>915.625000</td>\n",
       "    </tr>\n",
       "    <tr>\n",
       "      <td>3212</td>\n",
       "      <td>1489</td>\n",
       "      <td>NaN</td>\n",
       "      <td>NaN</td>\n",
       "      <td>21.0</td>\n",
       "      <td>19588.0</td>\n",
       "      <td>10.0</td>\n",
       "      <td>35</td>\n",
       "      <td>NaT</td>\n",
       "      <td>Санкт-Петербург</td>\n",
       "      <td>Павел</td>\n",
       "      <td>Гончаров</td>\n",
       "      <td>2018-08-15</td>\n",
       "      <td>smart</td>\n",
       "      <td>50</td>\n",
       "      <td>15360</td>\n",
       "      <td>500</td>\n",
       "      <td>550</td>\n",
       "      <td>200</td>\n",
       "      <td>3</td>\n",
       "      <td>3</td>\n",
       "      <td>0.0</td>\n",
       "      <td>0.0</td>\n",
       "      <td>825.781250</td>\n",
       "      <td>1375.781250</td>\n",
       "    </tr>\n",
       "    <tr>\n",
       "      <td>3213</td>\n",
       "      <td>1489</td>\n",
       "      <td>NaN</td>\n",
       "      <td>NaN</td>\n",
       "      <td>20.0</td>\n",
       "      <td>17516.0</td>\n",
       "      <td>11.0</td>\n",
       "      <td>35</td>\n",
       "      <td>NaT</td>\n",
       "      <td>Санкт-Петербург</td>\n",
       "      <td>Павел</td>\n",
       "      <td>Гончаров</td>\n",
       "      <td>2018-08-15</td>\n",
       "      <td>smart</td>\n",
       "      <td>50</td>\n",
       "      <td>15360</td>\n",
       "      <td>500</td>\n",
       "      <td>550</td>\n",
       "      <td>200</td>\n",
       "      <td>3</td>\n",
       "      <td>3</td>\n",
       "      <td>0.0</td>\n",
       "      <td>0.0</td>\n",
       "      <td>421.093750</td>\n",
       "      <td>971.093750</td>\n",
       "    </tr>\n",
       "    <tr>\n",
       "      <td>3214</td>\n",
       "      <td>1489</td>\n",
       "      <td>NaN</td>\n",
       "      <td>NaN</td>\n",
       "      <td>35.0</td>\n",
       "      <td>17341.0</td>\n",
       "      <td>12.0</td>\n",
       "      <td>35</td>\n",
       "      <td>NaT</td>\n",
       "      <td>Санкт-Петербург</td>\n",
       "      <td>Павел</td>\n",
       "      <td>Гончаров</td>\n",
       "      <td>2018-08-15</td>\n",
       "      <td>smart</td>\n",
       "      <td>50</td>\n",
       "      <td>15360</td>\n",
       "      <td>500</td>\n",
       "      <td>550</td>\n",
       "      <td>200</td>\n",
       "      <td>3</td>\n",
       "      <td>3</td>\n",
       "      <td>0.0</td>\n",
       "      <td>0.0</td>\n",
       "      <td>386.914062</td>\n",
       "      <td>936.914062</td>\n",
       "    </tr>\n",
       "    <tr>\n",
       "      <td>3215</td>\n",
       "      <td>1371</td>\n",
       "      <td>NaN</td>\n",
       "      <td>NaN</td>\n",
       "      <td>NaN</td>\n",
       "      <td>NaN</td>\n",
       "      <td>NaN</td>\n",
       "      <td>50</td>\n",
       "      <td>2018-12-30</td>\n",
       "      <td>Омск</td>\n",
       "      <td>Ириней</td>\n",
       "      <td>Трофимов</td>\n",
       "      <td>2018-12-25</td>\n",
       "      <td>smart</td>\n",
       "      <td>50</td>\n",
       "      <td>15360</td>\n",
       "      <td>500</td>\n",
       "      <td>550</td>\n",
       "      <td>200</td>\n",
       "      <td>3</td>\n",
       "      <td>3</td>\n",
       "      <td>0.0</td>\n",
       "      <td>0.0</td>\n",
       "      <td>0.000000</td>\n",
       "      <td>550.000000</td>\n",
       "    </tr>\n",
       "  </tbody>\n",
       "</table>\n",
       "<p>3216 rows × 24 columns</p>\n",
       "</div>"
      ],
      "text/plain": [
       "      user_id  number_calls_per_month  duration  number_messages_per_month  \\\n",
       "0        1000                    22.0     159.0                       22.0   \n",
       "1        1000                    43.0     172.0                       60.0   \n",
       "2        1000                    47.0     340.0                       75.0   \n",
       "3        1000                    52.0     408.0                       81.0   \n",
       "4        1000                    58.0     466.0                       57.0   \n",
       "...       ...                     ...       ...                        ...   \n",
       "3211     1489                     NaN       NaN                       32.0   \n",
       "3212     1489                     NaN       NaN                       21.0   \n",
       "3213     1489                     NaN       NaN                       20.0   \n",
       "3214     1489                     NaN       NaN                       35.0   \n",
       "3215     1371                     NaN       NaN                        NaN   \n",
       "\n",
       "      mb_used  month  age churn_date             city first_name  last_name  \\\n",
       "0      2256.0    5.0   52        NaT        Краснодар     Рафаил  Верещагин   \n",
       "1     23257.0    6.0   52        NaT        Краснодар     Рафаил  Верещагин   \n",
       "2     14016.0    7.0   52        NaT        Краснодар     Рафаил  Верещагин   \n",
       "3     14070.0    8.0   52        NaT        Краснодар     Рафаил  Верещагин   \n",
       "4     14581.0    9.0   52        NaT        Краснодар     Рафаил  Верещагин   \n",
       "...       ...    ...  ...        ...              ...        ...        ...   \n",
       "3211  17232.0    9.0   35        NaT  Санкт-Петербург      Павел   Гончаров   \n",
       "3212  19588.0   10.0   35        NaT  Санкт-Петербург      Павел   Гончаров   \n",
       "3213  17516.0   11.0   35        NaT  Санкт-Петербург      Павел   Гончаров   \n",
       "3214  17341.0   12.0   35        NaT  Санкт-Петербург      Павел   Гончаров   \n",
       "3215      NaN    NaN   50 2018-12-30             Омск     Ириней   Трофимов   \n",
       "\n",
       "       reg_date tariff  messages_included  mb_per_month_included  \\\n",
       "0    2018-05-25  ultra               1000                  30720   \n",
       "1    2018-05-25  ultra               1000                  30720   \n",
       "2    2018-05-25  ultra               1000                  30720   \n",
       "3    2018-05-25  ultra               1000                  30720   \n",
       "4    2018-05-25  ultra               1000                  30720   \n",
       "...         ...    ...                ...                    ...   \n",
       "3211 2018-08-15  smart                 50                  15360   \n",
       "3212 2018-08-15  smart                 50                  15360   \n",
       "3213 2018-08-15  smart                 50                  15360   \n",
       "3214 2018-08-15  smart                 50                  15360   \n",
       "3215 2018-12-25  smart                 50                  15360   \n",
       "\n",
       "      minutes_included  rub_monthly_fee  rub_per_gb  rub_per_message  \\\n",
       "0                 3000             1950         150                1   \n",
       "1                 3000             1950         150                1   \n",
       "2                 3000             1950         150                1   \n",
       "3                 3000             1950         150                1   \n",
       "4                 3000             1950         150                1   \n",
       "...                ...              ...         ...              ...   \n",
       "3211               500              550         200                3   \n",
       "3212               500              550         200                3   \n",
       "3213               500              550         200                3   \n",
       "3214               500              550         200                3   \n",
       "3215               500              550         200                3   \n",
       "\n",
       "      rub_per_minute  calls_proceeds  messages_proceeds  mg_proceeds  \\\n",
       "0                  1             0.0                0.0     0.000000   \n",
       "1                  1             0.0                0.0     0.000000   \n",
       "2                  1             0.0                0.0     0.000000   \n",
       "3                  1             0.0                0.0     0.000000   \n",
       "4                  1             0.0                0.0     0.000000   \n",
       "...              ...             ...                ...          ...   \n",
       "3211               3             0.0                0.0   365.625000   \n",
       "3212               3             0.0                0.0   825.781250   \n",
       "3213               3             0.0                0.0   421.093750   \n",
       "3214               3             0.0                0.0   386.914062   \n",
       "3215               3             0.0                0.0     0.000000   \n",
       "\n",
       "         proceeds  \n",
       "0     1950.000000  \n",
       "1     1950.000000  \n",
       "2     1950.000000  \n",
       "3     1950.000000  \n",
       "4     1950.000000  \n",
       "...           ...  \n",
       "3211   915.625000  \n",
       "3212  1375.781250  \n",
       "3213   971.093750  \n",
       "3214   936.914062  \n",
       "3215   550.000000  \n",
       "\n",
       "[3216 rows x 24 columns]"
      ]
     },
     "execution_count": 180,
     "metadata": {},
     "output_type": "execute_result"
    }
   ],
   "source": [
    "data_union"
   ]
  },
  {
   "cell_type": "markdown",
   "metadata": {},
   "source": [
    "Там где выручка за разговоры, сообщения и интернет нулевая, там в столбце proceeds присутствует только размер абонентской платы."
   ]
  },
  {
   "cell_type": "markdown",
   "metadata": {},
   "source": [
    "### Вывод"
   ]
  },
  {
   "cell_type": "markdown",
   "metadata": {},
   "source": [
    "Был выявлен и указан ряд столбцов, у которых требуется изменение типа данных. Для этих столбцов было выполнено приведение типа данных к требуемому. \n",
    "\n",
    "Ошибки в данных найдены не были.\n",
    "\n",
    "Для каждого пользователя были посчитаны и указаны требуемые данные."
   ]
  },
  {
   "cell_type": "markdown",
   "metadata": {},
   "source": [
    "## Анализ данных"
   ]
  },
  {
   "cell_type": "code",
   "execution_count": 181,
   "metadata": {},
   "outputs": [
    {
     "data": {
      "text/html": [
       "<div>\n",
       "<style scoped>\n",
       "    .dataframe tbody tr th:only-of-type {\n",
       "        vertical-align: middle;\n",
       "    }\n",
       "\n",
       "    .dataframe tbody tr th {\n",
       "        vertical-align: top;\n",
       "    }\n",
       "\n",
       "    .dataframe thead th {\n",
       "        text-align: right;\n",
       "    }\n",
       "</style>\n",
       "<table border=\"1\" class=\"dataframe\">\n",
       "  <thead>\n",
       "    <tr style=\"text-align: right;\">\n",
       "      <th></th>\n",
       "      <th>duration</th>\n",
       "      <th>number_messages_per_month</th>\n",
       "      <th>mb_used</th>\n",
       "    </tr>\n",
       "    <tr>\n",
       "      <th>month</th>\n",
       "      <th></th>\n",
       "      <th></th>\n",
       "      <th></th>\n",
       "    </tr>\n",
       "  </thead>\n",
       "  <tbody>\n",
       "    <tr>\n",
       "      <td>1.0</td>\n",
       "      <td>6931.0</td>\n",
       "      <td>620.0</td>\n",
       "      <td>289831.0</td>\n",
       "    </tr>\n",
       "    <tr>\n",
       "      <td>2.0</td>\n",
       "      <td>17324.0</td>\n",
       "      <td>1397.0</td>\n",
       "      <td>673461.0</td>\n",
       "    </tr>\n",
       "    <tr>\n",
       "      <td>3.0</td>\n",
       "      <td>30034.0</td>\n",
       "      <td>2453.0</td>\n",
       "      <td>1164537.0</td>\n",
       "    </tr>\n",
       "    <tr>\n",
       "      <td>4.0</td>\n",
       "      <td>41119.0</td>\n",
       "      <td>3443.0</td>\n",
       "      <td>1509702.0</td>\n",
       "    </tr>\n",
       "    <tr>\n",
       "      <td>5.0</td>\n",
       "      <td>54618.0</td>\n",
       "      <td>4762.0</td>\n",
       "      <td>2231353.0</td>\n",
       "    </tr>\n",
       "    <tr>\n",
       "      <td>6.0</td>\n",
       "      <td>64885.0</td>\n",
       "      <td>5478.0</td>\n",
       "      <td>2593622.0</td>\n",
       "    </tr>\n",
       "    <tr>\n",
       "      <td>7.0</td>\n",
       "      <td>82079.0</td>\n",
       "      <td>6784.0</td>\n",
       "      <td>3168466.0</td>\n",
       "    </tr>\n",
       "    <tr>\n",
       "      <td>8.0</td>\n",
       "      <td>99045.0</td>\n",
       "      <td>7905.0</td>\n",
       "      <td>3908561.0</td>\n",
       "    </tr>\n",
       "    <tr>\n",
       "      <td>9.0</td>\n",
       "      <td>111439.0</td>\n",
       "      <td>8746.0</td>\n",
       "      <td>4244377.0</td>\n",
       "    </tr>\n",
       "    <tr>\n",
       "      <td>10.0</td>\n",
       "      <td>125284.0</td>\n",
       "      <td>9927.0</td>\n",
       "      <td>4932898.0</td>\n",
       "    </tr>\n",
       "    <tr>\n",
       "      <td>11.0</td>\n",
       "      <td>137544.0</td>\n",
       "      <td>10768.0</td>\n",
       "      <td>5345940.0</td>\n",
       "    </tr>\n",
       "    <tr>\n",
       "      <td>12.0</td>\n",
       "      <td>161275.0</td>\n",
       "      <td>12130.0</td>\n",
       "      <td>6112113.0</td>\n",
       "    </tr>\n",
       "  </tbody>\n",
       "</table>\n",
       "</div>"
      ],
      "text/plain": [
       "       duration  number_messages_per_month    mb_used\n",
       "month                                                \n",
       "1.0      6931.0                      620.0   289831.0\n",
       "2.0     17324.0                     1397.0   673461.0\n",
       "3.0     30034.0                     2453.0  1164537.0\n",
       "4.0     41119.0                     3443.0  1509702.0\n",
       "5.0     54618.0                     4762.0  2231353.0\n",
       "6.0     64885.0                     5478.0  2593622.0\n",
       "7.0     82079.0                     6784.0  3168466.0\n",
       "8.0     99045.0                     7905.0  3908561.0\n",
       "9.0    111439.0                     8746.0  4244377.0\n",
       "10.0   125284.0                     9927.0  4932898.0\n",
       "11.0   137544.0                    10768.0  5345940.0\n",
       "12.0   161275.0                    12130.0  6112113.0"
      ]
     },
     "execution_count": 181,
     "metadata": {},
     "output_type": "execute_result"
    }
   ],
   "source": [
    "#Суммарное количество минут, сообщений и трафика в мб всех пользователей тарифа smart по месяцам\n",
    "data_union[data_union['tariff']=='smart'].groupby('month')[['duration', 'number_messages_per_month', 'mb_used']].sum()"
   ]
  },
  {
   "cell_type": "code",
   "execution_count": 182,
   "metadata": {},
   "outputs": [
    {
     "data": {
      "text/html": [
       "<div>\n",
       "<style scoped>\n",
       "    .dataframe tbody tr th:only-of-type {\n",
       "        vertical-align: middle;\n",
       "    }\n",
       "\n",
       "    .dataframe tbody tr th {\n",
       "        vertical-align: top;\n",
       "    }\n",
       "\n",
       "    .dataframe thead th {\n",
       "        text-align: right;\n",
       "    }\n",
       "</style>\n",
       "<table border=\"1\" class=\"dataframe\">\n",
       "  <thead>\n",
       "    <tr style=\"text-align: right;\">\n",
       "      <th></th>\n",
       "      <th>duration</th>\n",
       "      <th>number_messages_per_month</th>\n",
       "      <th>mb_used</th>\n",
       "    </tr>\n",
       "    <tr>\n",
       "      <th>month</th>\n",
       "      <th></th>\n",
       "      <th></th>\n",
       "      <th></th>\n",
       "    </tr>\n",
       "  </thead>\n",
       "  <tbody>\n",
       "    <tr>\n",
       "      <td>1.0</td>\n",
       "      <td>3853.0</td>\n",
       "      <td>304.0</td>\n",
       "      <td>118382.0</td>\n",
       "    </tr>\n",
       "    <tr>\n",
       "      <td>2.0</td>\n",
       "      <td>7131.0</td>\n",
       "      <td>527.0</td>\n",
       "      <td>282887.0</td>\n",
       "    </tr>\n",
       "    <tr>\n",
       "      <td>3.0</td>\n",
       "      <td>18117.0</td>\n",
       "      <td>1195.0</td>\n",
       "      <td>649423.0</td>\n",
       "    </tr>\n",
       "    <tr>\n",
       "      <td>4.0</td>\n",
       "      <td>25191.0</td>\n",
       "      <td>1736.0</td>\n",
       "      <td>926409.0</td>\n",
       "    </tr>\n",
       "    <tr>\n",
       "      <td>5.0</td>\n",
       "      <td>34192.0</td>\n",
       "      <td>2536.0</td>\n",
       "      <td>1298540.0</td>\n",
       "    </tr>\n",
       "    <tr>\n",
       "      <td>6.0</td>\n",
       "      <td>40295.0</td>\n",
       "      <td>3505.0</td>\n",
       "      <td>1591148.0</td>\n",
       "    </tr>\n",
       "    <tr>\n",
       "      <td>7.0</td>\n",
       "      <td>49667.0</td>\n",
       "      <td>4536.0</td>\n",
       "      <td>1866833.0</td>\n",
       "    </tr>\n",
       "    <tr>\n",
       "      <td>8.0</td>\n",
       "      <td>54653.0</td>\n",
       "      <td>5183.0</td>\n",
       "      <td>2096565.0</td>\n",
       "    </tr>\n",
       "    <tr>\n",
       "      <td>9.0</td>\n",
       "      <td>62036.0</td>\n",
       "      <td>6013.0</td>\n",
       "      <td>2210554.0</td>\n",
       "    </tr>\n",
       "    <tr>\n",
       "      <td>10.0</td>\n",
       "      <td>68644.0</td>\n",
       "      <td>7187.0</td>\n",
       "      <td>2467856.0</td>\n",
       "    </tr>\n",
       "    <tr>\n",
       "      <td>11.0</td>\n",
       "      <td>72545.0</td>\n",
       "      <td>7476.0</td>\n",
       "      <td>2653912.0</td>\n",
       "    </tr>\n",
       "    <tr>\n",
       "      <td>12.0</td>\n",
       "      <td>82400.0</td>\n",
       "      <td>8425.0</td>\n",
       "      <td>3032089.0</td>\n",
       "    </tr>\n",
       "  </tbody>\n",
       "</table>\n",
       "</div>"
      ],
      "text/plain": [
       "       duration  number_messages_per_month    mb_used\n",
       "month                                                \n",
       "1.0      3853.0                      304.0   118382.0\n",
       "2.0      7131.0                      527.0   282887.0\n",
       "3.0     18117.0                     1195.0   649423.0\n",
       "4.0     25191.0                     1736.0   926409.0\n",
       "5.0     34192.0                     2536.0  1298540.0\n",
       "6.0     40295.0                     3505.0  1591148.0\n",
       "7.0     49667.0                     4536.0  1866833.0\n",
       "8.0     54653.0                     5183.0  2096565.0\n",
       "9.0     62036.0                     6013.0  2210554.0\n",
       "10.0    68644.0                     7187.0  2467856.0\n",
       "11.0    72545.0                     7476.0  2653912.0\n",
       "12.0    82400.0                     8425.0  3032089.0"
      ]
     },
     "execution_count": 182,
     "metadata": {},
     "output_type": "execute_result"
    }
   ],
   "source": [
    "#Суммарное количество минут, сообщений и трафика в мб всех пользователей тарифа ultra по месяцам\n",
    "data_union[data_union['tariff']=='ultra'].groupby('month')[['duration', 'number_messages_per_month', 'mb_used']].sum()"
   ]
  },
  {
   "cell_type": "code",
   "execution_count": 183,
   "metadata": {
    "scrolled": true
   },
   "outputs": [
    {
     "name": "stdout",
     "output_type": "stream",
     "text": [
      "         duration  number_messages_per_month       mb_used\n",
      "month                                                     \n",
      "1.0    203.852941                  20.000000   8524.441176\n",
      "2.0    298.689655                  27.940000  11611.396552\n",
      "3.0    390.051948                  35.550725  15123.857143\n",
      "4.0    367.133929                  35.864583  13479.482143\n",
      "5.0    387.361702                  39.032787  15825.198582\n",
      "6.0    398.067485                  38.577465  15814.768293\n",
      "7.0    408.353234                  38.988506  15763.512438\n",
      "8.0    423.269231                  38.750000  16703.252137\n",
      "9.0    430.266409                  39.219731  16324.526923\n",
      "10.0   427.590444                  39.082677  16778.564626\n",
      "11.0   436.647619                  39.881481  16917.531646\n",
      "12.0   479.985119                  42.264808  18136.833828\n"
     ]
    }
   ],
   "source": [
    "#Среднее количество минут, сообщений и трафика в мб всех пользователей тарифа smart по месяцам\n",
    "x=data_union[data_union['tariff']=='smart'].groupby('month')[['duration', 'number_messages_per_month', 'mb_used']].mean()\n",
    "print(x)"
   ]
  },
  {
   "cell_type": "code",
   "execution_count": 184,
   "metadata": {},
   "outputs": [
    {
     "data": {
      "text/plain": [
       "array([[<matplotlib.axes._subplots.AxesSubplot object at 0x7f0ddbec6110>,\n",
       "        <matplotlib.axes._subplots.AxesSubplot object at 0x7f0ddbec7710>],\n",
       "       [<matplotlib.axes._subplots.AxesSubplot object at 0x7f0ddbecdc50>,\n",
       "        <matplotlib.axes._subplots.AxesSubplot object at 0x7f0ddbed5310>]],\n",
       "      dtype=object)"
      ]
     },
     "execution_count": 184,
     "metadata": {},
     "output_type": "execute_result"
    },
    {
     "data": {
      "image/png": "[encoded data removed]",
      "text/plain": [
       "<Figure size 432x288 with 4 Axes>"
      ]
     },
     "metadata": {
      "needs_background": "light"
     },
     "output_type": "display_data"
    }
   ],
   "source": [
    "#Построение гистограмм полученных данных\n",
    "x.hist()"
   ]
  },
  {
   "cell_type": "code",
   "execution_count": 185,
   "metadata": {
    "scrolled": true
   },
   "outputs": [
    {
     "name": "stdout",
     "output_type": "stream",
     "text": [
      "         duration  number_messages_per_month       mb_used\n",
      "month                                                     \n",
      "1.0    428.111111                  43.428571  13153.555556\n",
      "2.0    297.125000                  32.937500  12858.500000\n",
      "3.0    489.648649                  47.800000  17551.972973\n",
      "4.0    475.301887                  44.512821  16843.800000\n",
      "5.0    534.250000                  48.769231  19674.848485\n",
      "6.0    497.469136                  52.313433  19170.457831\n",
      "7.0    564.397727                  62.136986  20742.588889\n",
      "8.0    530.611650                  58.897727  19778.915094\n",
      "9.0    558.882883                  63.294737  19390.824561\n",
      "10.0   581.728814                  69.776699  20228.327869\n",
      "11.0   562.364341                  66.159292  19954.225564\n",
      "12.0   614.925373                  72.008547  21971.659420\n"
     ]
    }
   ],
   "source": [
    "#Среднее количество минут, сообщений и трафика в мб всех пользователей тарифа ultra по месяцам\n",
    "x=data_union[data_union['tariff']=='ultra'].groupby('month')[['duration', 'number_messages_per_month', 'mb_used']].mean()\n",
    "print(x)"
   ]
  },
  {
   "cell_type": "code",
   "execution_count": 186,
   "metadata": {},
   "outputs": [
    {
     "data": {
      "text/plain": [
       "array([[<matplotlib.axes._subplots.AxesSubplot object at 0x7f0ddbef6e50>,\n",
       "        <matplotlib.axes._subplots.AxesSubplot object at 0x7f0ddbef9a10>],\n",
       "       [<matplotlib.axes._subplots.AxesSubplot object at 0x7f0ddbe80ad0>,\n",
       "        <matplotlib.axes._subplots.AxesSubplot object at 0x7f0ddbe88890>]],\n",
       "      dtype=object)"
      ]
     },
     "execution_count": 186,
     "metadata": {},
     "output_type": "execute_result"
    },
    {
     "data": {
      "image/png": "[encoded data removed]",
      "text/plain": [
       "<Figure size 432x288 with 4 Axes>"
      ]
     },
     "metadata": {
      "needs_background": "light"
     },
     "output_type": "display_data"
    }
   ],
   "source": [
    "#Построение гистограмм полученных данных\n",
    "x.hist()\n"
   ]
  },
  {
   "cell_type": "code",
   "execution_count": 188,
   "metadata": {},
   "outputs": [
    {
     "data": {
      "image/png": "[encoded data removed]",
      "text/plain": [
       "<Figure size 432x288 with 4 Axes>"
      ]
     },
     "metadata": {
      "needs_background": "light"
     },
     "output_type": "display_data"
    }
   ],
   "source": [
    "#Построение гистограмм полученных данных\n",
    "import matplotlib.pyplot as plt\n",
    "x.hist()\n",
    "plt.tight_layout()\n",
    "plt.show()"
   ]
  },
  {
   "cell_type": "code",
   "execution_count": 189,
   "metadata": {},
   "outputs": [
    {
     "name": "stdout",
     "output_type": "stream",
     "text": [
      "            duration       mb_used  number_messages_per_month\n",
      "month                                                        \n",
      "1.0     72769.361111  4.722641e+07                 765.285714\n",
      "2.0     87919.679348  1.098915e+08                 713.395833\n",
      "3.0    111384.900901  1.201640e+08                1826.666667\n",
      "4.0     66036.830189  9.462393e+07                1408.256410\n",
      "5.0     74881.015873  9.680491e+07                1559.553544\n",
      "6.0     86019.652160  8.314920e+07                1935.672999\n",
      "7.0     86952.587121  9.783655e+07                2190.730974\n",
      "8.0     91169.553588  1.073123e+08                2022.966432\n",
      "9.0     98597.904341  8.764804e+07                1906.763270\n",
      "10.0    97140.336086  9.371314e+07                2426.606511\n",
      "11.0    88449.624031  9.609150e+07                2249.295828\n",
      "12.0   107981.031983  1.051943e+08                2362.870616\n"
     ]
    }
   ],
   "source": [
    "#Дисперсия количества минут, сообщений и трафика в мб всех пользователей тарифа ultra по месяцам\n",
    "x=data_union[data_union['tariff']=='ultra'].pivot_table(index='month', values=['duration', 'number_messages_per_month', 'mb_used'], aggfunc='var')\n",
    "print(x)"
   ]
  },
  {
   "cell_type": "code",
   "execution_count": 191,
   "metadata": {
    "scrolled": true
   },
   "outputs": [
    {
     "data": {
      "image/png": "[encoded data removed]",
      "text/plain": [
       "<Figure size 432x288 with 4 Axes>"
      ]
     },
     "metadata": {
      "needs_background": "light"
     },
     "output_type": "display_data"
    }
   ],
   "source": [
    "#Построение гистограмм полученных данных\n",
    "import matplotlib.pyplot as plt\n",
    "x.hist()\n",
    "plt.tight_layout()\n",
    "plt.show()"
   ]
  },
  {
   "cell_type": "code",
   "execution_count": 192,
   "metadata": {},
   "outputs": [
    {
     "name": "stdout",
     "output_type": "stream",
     "text": [
      "           duration       mb_used  number_messages_per_month\n",
      "month                                                       \n",
      "1.0    23787.341355  4.162621e+07                 252.133333\n",
      "2.0    36412.287961  3.911935e+07                 440.465714\n",
      "3.0    36823.155161  3.405260e+07                 669.780477\n",
      "4.0    34778.207127  3.254736e+07                 517.865680\n",
      "5.0    34820.061094  3.582236e+07                 638.775776\n",
      "6.0    29960.520109  3.361642e+07                 731.635801\n",
      "7.0    32250.269602  3.486110e+07                 719.352468\n",
      "8.0    34177.270551  3.030580e+07                 767.213054\n",
      "9.0    32950.529526  2.706215e+07                 702.505555\n",
      "10.0   34889.530319  3.441711e+07                 736.503019\n",
      "11.0   31100.611101  2.858852e+07                 711.361366\n",
      "12.0   39131.447539  3.114083e+07                 832.447114\n"
     ]
    }
   ],
   "source": [
    "#Дисперсия количества минут, сообщений и трафика в мб всех пользователей тарифа smart по месяцам\n",
    "x=data_union[data_union['tariff']=='smart'].pivot_table(index='month', values=['duration', 'number_messages_per_month', 'mb_used'], aggfunc='var')\n",
    "print(x)"
   ]
  },
  {
   "cell_type": "code",
   "execution_count": 193,
   "metadata": {},
   "outputs": [
    {
     "data": {
      "image/png": "[encoded data removed]",
      "text/plain": [
       "<Figure size 432x288 with 4 Axes>"
      ]
     },
     "metadata": {
      "needs_background": "light"
     },
     "output_type": "display_data"
    }
   ],
   "source": [
    "#Построение гистограмм полученных данных\n",
    "import matplotlib.pyplot as plt\n",
    "x.hist()\n",
    "plt.tight_layout()\n",
    "plt.show()"
   ]
  },
  {
   "cell_type": "code",
   "execution_count": 194,
   "metadata": {
    "scrolled": true
   },
   "outputs": [
    {
     "name": "stdout",
     "output_type": "stream",
     "text": [
      "         duration       mb_used  number_messages_per_month\n",
      "month                                                     \n",
      "1.0    269.757968   6872.147046                  27.663798\n",
      "2.0    296.512528  10482.912471                  26.709471\n",
      "3.0    333.743765  10961.936316                  42.739521\n",
      "4.0    256.976322   9727.483304                  37.526743\n",
      "5.0    273.643958   9838.948697                  39.491183\n",
      "6.0    293.291071   9118.618095                  43.996284\n",
      "7.0    294.877241   9891.235899                  46.805245\n",
      "8.0    301.942964  10359.164436                  44.977399\n",
      "9.0    314.003032   9362.053368                  43.666501\n",
      "10.0   311.673445   9680.554593                  49.260598\n",
      "11.0   297.404815   9802.627285                  47.426742\n",
      "12.0   328.604674  10256.429423                  48.609368\n"
     ]
    }
   ],
   "source": [
    "#Стандартное отклонение количества минут, сообщений и трафика в мб всех пользователей тарифа ultra по месяцам\n",
    "x=data_union[data_union['tariff']=='ultra'].pivot_table(index='month', values=['duration', 'number_messages_per_month', 'mb_used'], aggfunc='std')\n",
    "print(x)"
   ]
  },
  {
   "cell_type": "code",
   "execution_count": 195,
   "metadata": {},
   "outputs": [
    {
     "data": {
      "image/png": "[encoded data removed]",
      "text/plain": [
       "<Figure size 432x288 with 4 Axes>"
      ]
     },
     "metadata": {
      "needs_background": "light"
     },
     "output_type": "display_data"
    }
   ],
   "source": [
    "#Построение гистограмм полученных данных\n",
    "import matplotlib.pyplot as plt\n",
    "x.hist()\n",
    "plt.tight_layout()\n",
    "plt.show()"
   ]
  },
  {
   "cell_type": "code",
   "execution_count": 196,
   "metadata": {
    "scrolled": true
   },
   "outputs": [
    {
     "name": "stdout",
     "output_type": "stream",
     "text": [
      "         duration      mb_used  number_messages_per_month\n",
      "month                                                    \n",
      "1.0    154.231454  6451.837940                  15.878707\n",
      "2.0    190.820041  6254.546293                  20.987275\n",
      "3.0    191.893604  5835.460138                  25.880117\n",
      "4.0    186.489161  5705.029114                  22.756662\n",
      "5.0    186.601343  5985.177978                  25.274014\n",
      "6.0    173.091075  5797.966469                  27.048767\n",
      "7.0    179.583601  5904.328642                  26.820747\n",
      "8.0    184.870956  5505.070456                  27.698611\n",
      "9.0    181.522807  5202.129029                  26.504821\n",
      "10.0   186.787393  5866.609964                  27.138589\n",
      "11.0   176.353653  5346.823769                  26.671359\n",
      "12.0   197.816702  5580.397230                  28.852160\n"
     ]
    }
   ],
   "source": [
    "#Стандартное отклонение количества минут, сообщений и трафика в мб всех пользователей тарифа smart по месяцам\n",
    "x=data_union[data_union['tariff']=='smart'].pivot_table(index='month', values=['duration', 'number_messages_per_month', 'mb_used'], aggfunc='std')\n",
    "print(x)"
   ]
  },
  {
   "cell_type": "code",
   "execution_count": 197,
   "metadata": {},
   "outputs": [
    {
     "data": {
      "image/png": "[encoded data removed]",
      "text/plain": [
       "<Figure size 432x288 with 4 Axes>"
      ]
     },
     "metadata": {
      "needs_background": "light"
     },
     "output_type": "display_data"
    }
   ],
   "source": [
    "#Построение гистограмм полученных данных\n",
    "import matplotlib.pyplot as plt\n",
    "x.hist()\n",
    "plt.tight_layout()\n",
    "plt.show()"
   ]
  },
  {
   "cell_type": "markdown",
   "metadata": {},
   "source": [
    "### Вывод"
   ]
  },
  {
   "cell_type": "markdown",
   "metadata": {},
   "source": [
    "Было посчитано среднее количество, дисперсия и стандартное отклонение минут разговоров, количества сообщений и трафика интернета для пользователей кадого тарифа в месяц. По результатам построены гистограммы."
   ]
  },
  {
   "cell_type": "markdown",
   "metadata": {},
   "source": [
    "## Проверка гипотез"
   ]
  },
  {
   "cell_type": "markdown",
   "metadata": {},
   "source": [
    "### Cредняя выручка пользователей тарифов «Ультра» и «Смарт» различаются"
   ]
  },
  {
   "cell_type": "markdown",
   "metadata": {},
   "source": [
    "Здесь проверяется гипотеза о равенстве средних двух совокупностей. Чтобы проверить гипотезу о равенстве среднего двух генеральных совокупностей по взятым из них выборкам, применяют метод scipy.stats.ttest_ind (array1, array2, equal_var)"
   ]
  },
  {
   "cell_type": "code",
   "execution_count": 198,
   "metadata": {},
   "outputs": [],
   "source": [
    "#Импорт библиотеки scipy для применения метода st.ttest_ind\n",
    "from scipy import stats as st"
   ]
  },
  {
   "cell_type": "code",
   "execution_count": 199,
   "metadata": {},
   "outputs": [],
   "source": [
    "#Задание порогового значения alpha\n",
    "alpha=0.05"
   ]
  },
  {
   "cell_type": "code",
   "execution_count": 200,
   "metadata": {},
   "outputs": [],
   "source": [
    "#Применение метода st.ttest_ind к двум совокупностям\n",
    "results=st.ttest_ind(data_union[data_union['tariff']=='smart']['proceeds'], data_union[data_union['tariff']=='ultra']['proceeds'])"
   ]
  },
  {
   "cell_type": "code",
   "execution_count": 201,
   "metadata": {},
   "outputs": [
    {
     "name": "stdout",
     "output_type": "stream",
     "text": [
      "p-значение: 6.129437607155033e-191\n"
     ]
    }
   ],
   "source": [
    "#Вывод полученного p-value\n",
    "print('p-значение:', results.pvalue)"
   ]
  },
  {
   "cell_type": "markdown",
   "metadata": {},
   "source": [
    "Далее следует результат проверки гипотезы. Нулевая гипотеза утверждает, что среднии двух совокупностей равны. Альтернативная гипотеза утверждает, что средние двух совокупностей неравны."
   ]
  },
  {
   "cell_type": "code",
   "execution_count": 202,
   "metadata": {},
   "outputs": [
    {
     "name": "stdout",
     "output_type": "stream",
     "text": [
      "Отвергаем нулевую гипотезу\n"
     ]
    }
   ],
   "source": [
    "#Результат проверки гипотезы\n",
    "if results.pvalue < alpha:\n",
    "    print(\"Отвергаем нулевую гипотезу\")\n",
    "else:\n",
    "    print(\"Не получилось отвергнуть нулевую гипотезу\")"
   ]
  },
  {
   "cell_type": "markdown",
   "metadata": {},
   "source": [
    "Результат: средние двух совокупностей неравны."
   ]
  },
  {
   "cell_type": "markdown",
   "metadata": {},
   "source": [
    "Этот результат и саму гипотезу можно проверить также следующим образом:"
   ]
  },
  {
   "cell_type": "code",
   "execution_count": 203,
   "metadata": {},
   "outputs": [
    {
     "data": {
      "text/plain": [
       "1233.0430318105382"
      ]
     },
     "execution_count": 203,
     "metadata": {},
     "output_type": "execute_result"
    }
   ],
   "source": [
    "#Вычисление среднего первой совокупности\n",
    "data_union[data_union['tariff']=='smart']['proceeds'].mean()"
   ]
  },
  {
   "cell_type": "code",
   "execution_count": 204,
   "metadata": {},
   "outputs": [
    {
     "data": {
      "text/plain": [
       "2060.417871688007"
      ]
     },
     "execution_count": 204,
     "metadata": {},
     "output_type": "execute_result"
    }
   ],
   "source": [
    "#Вычисление среднего второй совокупности\n",
    "data_union[data_union['tariff']=='ultra']['proceeds'].mean()"
   ]
  },
  {
   "cell_type": "markdown",
   "metadata": {},
   "source": [
    "Средние двух совокупностей существенно отличаются. "
   ]
  },
  {
   "cell_type": "markdown",
   "metadata": {},
   "source": [
    "### Cредняя выручка пользователей из Москвы отличается от выручки пользователей из других регионов"
   ]
  },
  {
   "cell_type": "markdown",
   "metadata": {},
   "source": [
    "Здесь проверяется гипотеза о равенстве средних двух совокупностей. Чтобы проверить гипотезу о равенстве среднего двух генеральных совокупностей по взятым из них выборкам, применяют метод scipy.stats.ttest_ind (array1, array2, equal_var)"
   ]
  },
  {
   "cell_type": "code",
   "execution_count": 205,
   "metadata": {},
   "outputs": [],
   "source": [
    "#Импорт библиотеки scipy для использования метода st.ttest_ind\n",
    "from scipy import stats as st"
   ]
  },
  {
   "cell_type": "code",
   "execution_count": 206,
   "metadata": {},
   "outputs": [],
   "source": [
    "#Задание порогового значения alpha\n",
    "alpha=0.05"
   ]
  },
  {
   "cell_type": "code",
   "execution_count": 207,
   "metadata": {},
   "outputs": [],
   "source": [
    "#Применение метода st.ttest_ind к двум совокупностям\n",
    "results=st.ttest_ind(data_union[data_union['city']=='Москва']['proceeds'], data_union[data_union['city']!='Москва']['proceeds'])"
   ]
  },
  {
   "cell_type": "code",
   "execution_count": 208,
   "metadata": {},
   "outputs": [
    {
     "name": "stdout",
     "output_type": "stream",
     "text": [
      "p-значение: 0.4712668200760739\n"
     ]
    }
   ],
   "source": [
    "#Вывод полученного p-value\n",
    "print('p-значение:', results.pvalue)"
   ]
  },
  {
   "cell_type": "markdown",
   "metadata": {},
   "source": [
    "Далее следует результат проверки гипотезы. Нулевая гипотеза утверждает, что среднии двух совокупностей равны. Альтернативная гипотеза утверждает, что средние двух совокупностей неравны."
   ]
  },
  {
   "cell_type": "code",
   "execution_count": 209,
   "metadata": {},
   "outputs": [
    {
     "name": "stdout",
     "output_type": "stream",
     "text": [
      "Не получилось отвергнуть нулевую гипотезу\n"
     ]
    }
   ],
   "source": [
    "#Результат проверки гипотезы\n",
    "if results.pvalue < alpha:\n",
    "    print(\"Отвергаем нулевую гипотезу\")\n",
    "else:\n",
    "    print(\"Не получилось отвергнуть нулевую гипотезу\")"
   ]
  },
  {
   "cell_type": "markdown",
   "metadata": {},
   "source": [
    "Результат: средние двух совокупностей равны."
   ]
  },
  {
   "cell_type": "markdown",
   "metadata": {},
   "source": [
    "Этот результат и саму гипотезу можно проверить также следующим образом:"
   ]
  },
  {
   "cell_type": "code",
   "execution_count": 210,
   "metadata": {},
   "outputs": [
    {
     "data": {
      "text/plain": [
       "1507.276761968085"
      ]
     },
     "execution_count": 210,
     "metadata": {},
     "output_type": "execute_result"
    }
   ],
   "source": [
    "#Вычисление среднего первой совокупности\n",
    "data_union[data_union['city']=='Москва']['proceeds'].mean()"
   ]
  },
  {
   "cell_type": "code",
   "execution_count": 211,
   "metadata": {},
   "outputs": [
    {
     "data": {
      "text/plain": [
       "1481.8855588711613"
      ]
     },
     "execution_count": 211,
     "metadata": {},
     "output_type": "execute_result"
    }
   ],
   "source": [
    "#Вычисление среднего второй совокупности\n",
    "data_union[data_union['city']!='Москва']['proceeds'].mean()"
   ]
  },
  {
   "cell_type": "markdown",
   "metadata": {},
   "source": [
    "Средние двух совокупностей, в пределах допустимой погрешности, можно считать примерно равными. В предыдущем случае разница между средними была намного больше. "
   ]
  },
  {
   "cell_type": "markdown",
   "metadata": {},
   "source": [
    "### Вывод "
   ]
  },
  {
   "cell_type": "markdown",
   "metadata": {},
   "source": [
    "Были проверены две сформулированные в условиях задачи гипотезы, одна из которых подтвердилась, а другая - нет. Проверялись гипотезы о равенстве средних двух генеральных совокупностей и для этой проверки использовался соответствующий метод из библиотеки scipy."
   ]
  },
  {
   "cell_type": "markdown",
   "metadata": {},
   "source": [
    "## Общий вывод"
   ]
  },
  {
   "cell_type": "markdown",
   "metadata": {},
   "source": [
    "Были проверены две сформулированные в решении задачи гипотезы, одна из которых подтвердилась, а другая - нет:\n",
    "1. Гипотеза о том, что средняя выручка тарифов \"Смарт\" и \"Ультра\" различается подтвердилась. Средняя выручка тарифа \"Ультра\" больше и этот тариф является наиболее выгодным для телеком-компании.\n",
    "2. Гипотеза о том, что средняя выручка пользователей из Москвы отличается от выручки пользователей из других регионов не подтвердилась. Средняя выручка по Москве и по другим регионам значимо не различаются."
   ]
  },
  {
   "cell_type": "code",
   "execution_count": null,
   "metadata": {},
   "outputs": [],
   "source": []
  }
 ],
 "metadata": {
  "ExecuteTimeLog": [
   {
    "duration": 773,
    "start_time": "2021-12-04T13:56:19.900Z"
   },
   {
    "duration": 204,
    "start_time": "2021-12-04T13:56:21.818Z"
   },
   {
    "duration": 117,
    "start_time": "2021-12-04T13:57:52.110Z"
   },
   {
    "duration": 206,
    "start_time": "2021-12-04T13:57:56.037Z"
   },
   {
    "duration": 129,
    "start_time": "2021-12-04T13:57:56.868Z"
   },
   {
    "duration": 19,
    "start_time": "2021-12-04T13:59:27.155Z"
   },
   {
    "duration": 46,
    "start_time": "2021-12-04T13:59:28.066Z"
   },
   {
    "duration": 29,
    "start_time": "2021-12-04T14:00:56.992Z"
   },
   {
    "duration": 16,
    "start_time": "2021-12-04T14:01:23.360Z"
   },
   {
    "duration": 15,
    "start_time": "2021-12-04T14:01:42.745Z"
   },
   {
    "duration": 12,
    "start_time": "2021-12-04T14:01:55.360Z"
   },
   {
    "duration": 19,
    "start_time": "2021-12-04T14:02:33.431Z"
   },
   {
    "duration": 12,
    "start_time": "2021-12-04T14:06:04.427Z"
   },
   {
    "duration": 16,
    "start_time": "2021-12-04T14:06:04.895Z"
   },
   {
    "duration": 10,
    "start_time": "2021-12-04T14:06:08.315Z"
   },
   {
    "duration": 14,
    "start_time": "2021-12-04T14:06:10.347Z"
   },
   {
    "duration": 20,
    "start_time": "2021-12-04T14:06:11.868Z"
   },
   {
    "duration": 28,
    "start_time": "2021-12-04T14:23:54.039Z"
   },
   {
    "duration": 13,
    "start_time": "2021-12-04T14:24:09.539Z"
   },
   {
    "duration": 26,
    "start_time": "2021-12-04T14:24:49.476Z"
   },
   {
    "duration": 27,
    "start_time": "2021-12-04T14:25:12.835Z"
   },
   {
    "duration": 19,
    "start_time": "2021-12-04T14:25:33.042Z"
   },
   {
    "duration": 9,
    "start_time": "2021-12-04T14:26:05.129Z"
   },
   {
    "duration": 10,
    "start_time": "2021-12-04T14:26:34.809Z"
   },
   {
    "duration": 681,
    "start_time": "2021-12-04T14:48:12.935Z"
   },
   {
    "duration": 800,
    "start_time": "2021-12-04T14:48:20.662Z"
   },
   {
    "duration": 211,
    "start_time": "2021-12-04T14:48:21.465Z"
   },
   {
    "duration": 204,
    "start_time": "2021-12-04T14:48:21.679Z"
   },
   {
    "duration": 126,
    "start_time": "2021-12-04T14:48:21.886Z"
   },
   {
    "duration": 16,
    "start_time": "2021-12-04T14:48:22.015Z"
   },
   {
    "duration": 63,
    "start_time": "2021-12-04T14:48:22.033Z"
   },
   {
    "duration": 21,
    "start_time": "2021-12-04T14:48:22.099Z"
   },
   {
    "duration": 11,
    "start_time": "2021-12-04T14:48:22.123Z"
   },
   {
    "duration": 11,
    "start_time": "2021-12-04T14:48:22.137Z"
   },
   {
    "duration": 13,
    "start_time": "2021-12-04T14:48:22.183Z"
   },
   {
    "duration": 19,
    "start_time": "2021-12-04T14:48:22.198Z"
   },
   {
    "duration": 35,
    "start_time": "2021-12-04T14:48:22.220Z"
   },
   {
    "duration": 28,
    "start_time": "2021-12-04T14:48:22.283Z"
   },
   {
    "duration": 20,
    "start_time": "2021-12-04T14:48:22.313Z"
   },
   {
    "duration": 47,
    "start_time": "2021-12-04T14:48:22.336Z"
   },
   {
    "duration": 522,
    "start_time": "2021-12-04T14:48:43.328Z"
   },
   {
    "duration": 285,
    "start_time": "2021-12-04T14:49:02.927Z"
   },
   {
    "duration": 706,
    "start_time": "2021-12-04T14:49:10.931Z"
   },
   {
    "duration": 207,
    "start_time": "2021-12-04T14:49:11.639Z"
   },
   {
    "duration": 204,
    "start_time": "2021-12-04T14:49:11.849Z"
   },
   {
    "duration": 112,
    "start_time": "2021-12-04T14:49:12.055Z"
   },
   {
    "duration": 16,
    "start_time": "2021-12-04T14:49:12.169Z"
   },
   {
    "duration": 50,
    "start_time": "2021-12-04T14:49:12.187Z"
   },
   {
    "duration": 21,
    "start_time": "2021-12-04T14:49:12.240Z"
   },
   {
    "duration": 10,
    "start_time": "2021-12-04T14:49:12.265Z"
   },
   {
    "duration": 16,
    "start_time": "2021-12-04T14:49:12.277Z"
   },
   {
    "duration": 12,
    "start_time": "2021-12-04T14:49:12.295Z"
   },
   {
    "duration": 17,
    "start_time": "2021-12-04T14:49:12.309Z"
   },
   {
    "duration": 61,
    "start_time": "2021-12-04T14:49:12.328Z"
   },
   {
    "duration": 42,
    "start_time": "2021-12-04T14:49:12.392Z"
   },
   {
    "duration": 52,
    "start_time": "2021-12-04T14:49:12.437Z"
   },
   {
    "duration": 11,
    "start_time": "2021-12-04T14:49:12.492Z"
   },
   {
    "duration": 353,
    "start_time": "2021-12-04T14:49:25.366Z"
   },
   {
    "duration": 343,
    "start_time": "2021-12-04T14:49:34.382Z"
   },
   {
    "duration": 776,
    "start_time": "2021-12-04T14:49:41.445Z"
   },
   {
    "duration": 210,
    "start_time": "2021-12-04T14:49:42.223Z"
   },
   {
    "duration": 195,
    "start_time": "2021-12-04T14:49:43.142Z"
   },
   {
    "duration": 117,
    "start_time": "2021-12-04T14:49:43.710Z"
   },
   {
    "duration": 18,
    "start_time": "2021-12-04T14:49:44.509Z"
   },
   {
    "duration": 46,
    "start_time": "2021-12-04T14:49:45.277Z"
   },
   {
    "duration": 21,
    "start_time": "2021-12-04T14:49:45.773Z"
   },
   {
    "duration": 11,
    "start_time": "2021-12-04T14:49:46.405Z"
   },
   {
    "duration": 10,
    "start_time": "2021-12-04T14:49:48.981Z"
   },
   {
    "duration": 13,
    "start_time": "2021-12-04T14:49:49.581Z"
   },
   {
    "duration": 16,
    "start_time": "2021-12-04T14:49:50.349Z"
   },
   {
    "duration": 27,
    "start_time": "2021-12-04T14:49:53.909Z"
   },
   {
    "duration": 27,
    "start_time": "2021-12-04T14:49:56.596Z"
   },
   {
    "duration": 19,
    "start_time": "2021-12-04T14:49:57.429Z"
   },
   {
    "duration": 10,
    "start_time": "2021-12-04T14:50:00.421Z"
   },
   {
    "duration": 343,
    "start_time": "2021-12-04T15:06:58.442Z"
   },
   {
    "duration": 1067,
    "start_time": "2021-12-04T15:07:21.712Z"
   },
   {
    "duration": 302,
    "start_time": "2021-12-04T15:07:46.192Z"
   },
   {
    "duration": 294,
    "start_time": "2021-12-04T15:07:50.752Z"
   },
   {
    "duration": 3,
    "start_time": "2021-12-04T15:07:56.989Z"
   },
   {
    "duration": 215,
    "start_time": "2021-12-04T15:07:56.996Z"
   },
   {
    "duration": 210,
    "start_time": "2021-12-04T15:07:57.214Z"
   },
   {
    "duration": 119,
    "start_time": "2021-12-04T15:07:57.426Z"
   },
   {
    "duration": 17,
    "start_time": "2021-12-04T15:07:57.547Z"
   },
   {
    "duration": 67,
    "start_time": "2021-12-04T15:07:57.566Z"
   },
   {
    "duration": 21,
    "start_time": "2021-12-04T15:07:57.635Z"
   },
   {
    "duration": 11,
    "start_time": "2021-12-04T15:07:57.660Z"
   },
   {
    "duration": 10,
    "start_time": "2021-12-04T15:07:57.674Z"
   },
   {
    "duration": 12,
    "start_time": "2021-12-04T15:07:57.686Z"
   },
   {
    "duration": 16,
    "start_time": "2021-12-04T15:07:57.700Z"
   },
   {
    "duration": 77,
    "start_time": "2021-12-04T15:07:57.718Z"
   },
   {
    "duration": 31,
    "start_time": "2021-12-04T15:07:57.797Z"
   },
   {
    "duration": 59,
    "start_time": "2021-12-04T15:07:57.831Z"
   },
   {
    "duration": 10,
    "start_time": "2021-12-04T15:07:57.892Z"
   },
   {
    "duration": 801,
    "start_time": "2021-12-04T15:08:45.270Z"
   },
   {
    "duration": 634,
    "start_time": "2021-12-04T15:08:46.073Z"
   },
   {
    "duration": 227,
    "start_time": "2021-12-04T15:08:46.710Z"
   },
   {
    "duration": 403,
    "start_time": "2021-12-04T15:08:46.939Z"
   },
   {
    "duration": 38,
    "start_time": "2021-12-04T15:08:47.346Z"
   },
   {
    "duration": 22,
    "start_time": "2021-12-04T15:08:47.386Z"
   },
   {
    "duration": 26,
    "start_time": "2021-12-04T15:08:47.411Z"
   },
   {
    "duration": 44,
    "start_time": "2021-12-04T15:08:47.443Z"
   },
   {
    "duration": 26,
    "start_time": "2021-12-04T15:08:47.491Z"
   },
   {
    "duration": 13,
    "start_time": "2021-12-04T15:08:47.520Z"
   },
   {
    "duration": 63,
    "start_time": "2021-12-04T15:08:47.536Z"
   },
   {
    "duration": 34,
    "start_time": "2021-12-04T15:08:47.602Z"
   },
   {
    "duration": 53,
    "start_time": "2021-12-04T15:08:47.639Z"
   },
   {
    "duration": 31,
    "start_time": "2021-12-04T15:08:47.695Z"
   },
   {
    "duration": 12,
    "start_time": "2021-12-04T15:08:47.729Z"
   },
   {
    "duration": 1186,
    "start_time": "2021-12-04T15:08:56.351Z"
   },
   {
    "duration": 325,
    "start_time": "2021-12-04T15:09:22.757Z"
   },
   {
    "duration": 5,
    "start_time": "2021-12-04T15:09:31.163Z"
   },
   {
    "duration": 500,
    "start_time": "2021-12-04T15:09:31.171Z"
   },
   {
    "duration": 214,
    "start_time": "2021-12-04T15:09:31.674Z"
   },
   {
    "duration": 445,
    "start_time": "2021-12-04T15:09:31.892Z"
   },
   {
    "duration": 36,
    "start_time": "2021-12-04T15:09:32.341Z"
   },
   {
    "duration": 22,
    "start_time": "2021-12-04T15:09:32.380Z"
   },
   {
    "duration": 22,
    "start_time": "2021-12-04T15:09:32.404Z"
   },
   {
    "duration": 12,
    "start_time": "2021-12-04T15:09:32.429Z"
   },
   {
    "duration": 52,
    "start_time": "2021-12-04T15:09:32.447Z"
   },
   {
    "duration": 16,
    "start_time": "2021-12-04T15:09:32.502Z"
   },
   {
    "duration": 16,
    "start_time": "2021-12-04T15:09:32.521Z"
   },
   {
    "duration": 98,
    "start_time": "2021-12-04T15:09:32.583Z"
   },
   {
    "duration": 79,
    "start_time": "2021-12-04T15:09:32.698Z"
   },
   {
    "duration": 35,
    "start_time": "2021-12-04T15:09:32.780Z"
   },
   {
    "duration": 22,
    "start_time": "2021-12-04T15:09:32.819Z"
   },
   {
    "duration": 22,
    "start_time": "2021-12-04T15:09:44.653Z"
   },
   {
    "duration": 402,
    "start_time": "2021-12-04T15:57:52.240Z"
   },
   {
    "duration": 756,
    "start_time": "2021-12-04T15:57:58.105Z"
   },
   {
    "duration": 591,
    "start_time": "2021-12-04T15:57:58.864Z"
   },
   {
    "duration": 200,
    "start_time": "2021-12-04T15:57:59.461Z"
   },
   {
    "duration": 441,
    "start_time": "2021-12-04T15:57:59.664Z"
   },
   {
    "duration": 36,
    "start_time": "2021-12-04T15:58:00.108Z"
   },
   {
    "duration": 21,
    "start_time": "2021-12-04T15:58:00.147Z"
   },
   {
    "duration": 26,
    "start_time": "2021-12-04T15:58:00.171Z"
   },
   {
    "duration": 12,
    "start_time": "2021-12-04T15:58:00.200Z"
   },
   {
    "duration": 17,
    "start_time": "2021-12-04T15:58:00.216Z"
   },
   {
    "duration": 25,
    "start_time": "2021-12-04T15:58:00.235Z"
   },
   {
    "duration": 15,
    "start_time": "2021-12-04T15:58:00.288Z"
   },
   {
    "duration": 35,
    "start_time": "2021-12-04T15:58:00.306Z"
   },
   {
    "duration": 28,
    "start_time": "2021-12-04T15:58:31.042Z"
   },
   {
    "duration": 19,
    "start_time": "2021-12-04T15:59:05.242Z"
   },
   {
    "duration": 8,
    "start_time": "2021-12-04T15:59:40.985Z"
   },
   {
    "duration": 162,
    "start_time": "2021-12-04T16:05:36.082Z"
   },
   {
    "duration": 186,
    "start_time": "2021-12-04T16:07:08.736Z"
   },
   {
    "duration": 84,
    "start_time": "2021-12-04T16:07:09.744Z"
   },
   {
    "duration": 15,
    "start_time": "2021-12-04T16:07:10.528Z"
   },
   {
    "duration": 16,
    "start_time": "2021-12-04T16:08:15.775Z"
   },
   {
    "duration": 17,
    "start_time": "2021-12-04T16:08:24.648Z"
   },
   {
    "duration": 19,
    "start_time": "2021-12-04T16:08:31.527Z"
   },
   {
    "duration": 16,
    "start_time": "2021-12-04T16:08:39.007Z"
   },
   {
    "duration": 19,
    "start_time": "2021-12-04T16:08:46.791Z"
   },
   {
    "duration": 17,
    "start_time": "2021-12-04T16:14:31.384Z"
   },
   {
    "duration": 23,
    "start_time": "2021-12-04T16:14:36.807Z"
   },
   {
    "duration": 19,
    "start_time": "2021-12-04T16:14:40.031Z"
   },
   {
    "duration": 14,
    "start_time": "2021-12-04T16:14:44.807Z"
   },
   {
    "duration": 26,
    "start_time": "2021-12-04T16:14:46.703Z"
   },
   {
    "duration": 28,
    "start_time": "2021-12-04T16:15:38.118Z"
   },
   {
    "duration": 41,
    "start_time": "2021-12-04T16:15:38.861Z"
   },
   {
    "duration": 28,
    "start_time": "2021-12-04T16:15:39.542Z"
   },
   {
    "duration": 8,
    "start_time": "2021-12-04T16:15:40.398Z"
   },
   {
    "duration": 134,
    "start_time": "2021-12-04T16:16:37.724Z"
   },
   {
    "duration": 183,
    "start_time": "2021-12-04T16:16:38.765Z"
   },
   {
    "duration": 63,
    "start_time": "2021-12-04T16:16:39.469Z"
   },
   {
    "duration": 12,
    "start_time": "2021-12-04T16:16:40.132Z"
   },
   {
    "duration": 28,
    "start_time": "2021-12-04T16:21:24.327Z"
   },
   {
    "duration": 43,
    "start_time": "2021-12-04T16:28:16.326Z"
   },
   {
    "duration": 172,
    "start_time": "2021-12-04T16:30:25.042Z"
   },
   {
    "duration": 4,
    "start_time": "2021-12-04T16:30:44.258Z"
   },
   {
    "duration": 206,
    "start_time": "2021-12-04T16:30:44.906Z"
   },
   {
    "duration": 176,
    "start_time": "2021-12-04T16:30:45.778Z"
   },
   {
    "duration": 120,
    "start_time": "2021-12-04T16:30:46.522Z"
   },
   {
    "duration": 18,
    "start_time": "2021-12-04T16:30:47.058Z"
   },
   {
    "duration": 31,
    "start_time": "2021-12-04T16:30:47.577Z"
   },
   {
    "duration": 15,
    "start_time": "2021-12-04T16:30:48.811Z"
   },
   {
    "duration": 19,
    "start_time": "2021-12-04T16:30:53.699Z"
   },
   {
    "duration": 14,
    "start_time": "2021-12-04T16:30:59.042Z"
   },
   {
    "duration": 13,
    "start_time": "2021-12-04T16:31:02.843Z"
   },
   {
    "duration": 20,
    "start_time": "2021-12-04T16:31:03.859Z"
   },
   {
    "duration": 27,
    "start_time": "2021-12-04T16:31:07.306Z"
   },
   {
    "duration": 23,
    "start_time": "2021-12-04T16:31:10.282Z"
   },
   {
    "duration": 20,
    "start_time": "2021-12-04T16:31:13.530Z"
   },
   {
    "duration": 9,
    "start_time": "2021-12-04T16:31:14.339Z"
   },
   {
    "duration": 125,
    "start_time": "2021-12-04T16:31:18.394Z"
   },
   {
    "duration": 90,
    "start_time": "2021-12-04T16:31:19.297Z"
   },
   {
    "duration": 70,
    "start_time": "2021-12-04T16:31:21.874Z"
   },
   {
    "duration": 12,
    "start_time": "2021-12-04T16:31:22.458Z"
   },
   {
    "duration": 26,
    "start_time": "2021-12-04T16:31:27.530Z"
   },
   {
    "duration": 24,
    "start_time": "2021-12-04T16:31:35.138Z"
   },
   {
    "duration": 19,
    "start_time": "2021-12-04T16:36:24.851Z"
   },
   {
    "duration": 8,
    "start_time": "2021-12-04T16:36:28.596Z"
   },
   {
    "duration": 9,
    "start_time": "2021-12-04T16:36:32.307Z"
   },
   {
    "duration": 328,
    "start_time": "2021-12-04T17:04:52.886Z"
   },
   {
    "duration": 69,
    "start_time": "2021-12-04T17:05:22.715Z"
   },
   {
    "duration": 329,
    "start_time": "2021-12-04T17:07:36.584Z"
   },
   {
    "duration": 70,
    "start_time": "2021-12-04T17:07:54.320Z"
   },
   {
    "duration": 71,
    "start_time": "2021-12-04T17:08:34.487Z"
   },
   {
    "duration": 69,
    "start_time": "2021-12-04T17:08:59.400Z"
   },
   {
    "duration": 66,
    "start_time": "2021-12-04T17:09:11.215Z"
   },
   {
    "duration": 9,
    "start_time": "2021-12-04T17:09:24.903Z"
   },
   {
    "duration": 12,
    "start_time": "2021-12-04T17:09:32.902Z"
   },
   {
    "duration": 73,
    "start_time": "2021-12-04T17:10:10.535Z"
   },
   {
    "duration": 63,
    "start_time": "2021-12-04T17:10:25.950Z"
   },
   {
    "duration": 7,
    "start_time": "2021-12-04T17:10:38.870Z"
   },
   {
    "duration": 15,
    "start_time": "2021-12-04T17:10:50.038Z"
   },
   {
    "duration": 14,
    "start_time": "2021-12-04T17:11:23.740Z"
   },
   {
    "duration": 15,
    "start_time": "2021-12-04T17:12:13.844Z"
   },
   {
    "duration": 286,
    "start_time": "2021-12-04T17:14:53.511Z"
   },
   {
    "duration": 276,
    "start_time": "2021-12-04T17:15:55.110Z"
   },
   {
    "duration": 59,
    "start_time": "2021-12-04T17:16:36.893Z"
   },
   {
    "duration": 52,
    "start_time": "2021-12-04T17:19:14.266Z"
   },
   {
    "duration": 13,
    "start_time": "2021-12-04T17:21:48.951Z"
   },
   {
    "duration": 17,
    "start_time": "2021-12-04T18:47:50.679Z"
   },
   {
    "duration": 18,
    "start_time": "2021-12-04T18:48:16.997Z"
   },
   {
    "duration": 16,
    "start_time": "2021-12-04T18:48:56.543Z"
   },
   {
    "duration": 16,
    "start_time": "2021-12-04T18:49:07.868Z"
   },
   {
    "duration": 25,
    "start_time": "2021-12-04T18:49:27.723Z"
   },
   {
    "duration": 12,
    "start_time": "2021-12-04T18:52:20.888Z"
   },
   {
    "duration": 13,
    "start_time": "2021-12-04T18:52:36.471Z"
   },
   {
    "duration": 17,
    "start_time": "2021-12-04T18:52:50.046Z"
   },
   {
    "duration": 17,
    "start_time": "2021-12-04T18:53:05.974Z"
   },
   {
    "duration": 18,
    "start_time": "2021-12-04T19:03:47.008Z"
   },
   {
    "duration": 16,
    "start_time": "2021-12-04T19:18:56.655Z"
   },
   {
    "duration": 291,
    "start_time": "2021-12-04T19:23:26.293Z"
   },
   {
    "duration": 90,
    "start_time": "2021-12-04T19:24:57.388Z"
   },
   {
    "duration": 276,
    "start_time": "2021-12-04T19:25:06.084Z"
   },
   {
    "duration": 272,
    "start_time": "2021-12-04T19:25:17.302Z"
   },
   {
    "duration": 7317,
    "start_time": "2021-12-04T19:26:43.802Z"
   },
   {
    "duration": 7633,
    "start_time": "2021-12-04T19:26:52.178Z"
   },
   {
    "duration": -761,
    "start_time": "2021-12-04T19:27:17.016Z"
   },
   {
    "duration": 7093,
    "start_time": "2021-12-04T19:27:33.489Z"
   },
   {
    "duration": 3,
    "start_time": "2021-12-04T19:27:53.984Z"
   },
   {
    "duration": 32,
    "start_time": "2021-12-04T19:30:16.877Z"
   },
   {
    "duration": 96,
    "start_time": "2021-12-04T19:30:56.831Z"
   },
   {
    "duration": 274,
    "start_time": "2021-12-04T19:31:03.365Z"
   },
   {
    "duration": 33,
    "start_time": "2021-12-04T19:31:42.468Z"
   },
   {
    "duration": 34,
    "start_time": "2021-12-04T19:32:34.283Z"
   },
   {
    "duration": 35,
    "start_time": "2021-12-04T19:32:53.002Z"
   },
   {
    "duration": 319,
    "start_time": "2021-12-04T19:33:21.035Z"
   },
   {
    "duration": 41,
    "start_time": "2021-12-04T19:33:57.001Z"
   },
   {
    "duration": 15,
    "start_time": "2021-12-04T20:08:37.675Z"
   },
   {
    "duration": 7503,
    "start_time": "2021-12-04T20:10:54.582Z"
   },
   {
    "duration": 7089,
    "start_time": "2021-12-04T20:11:39.694Z"
   },
   {
    "duration": 28,
    "start_time": "2021-12-04T20:12:11.901Z"
   },
   {
    "duration": 27,
    "start_time": "2021-12-04T20:12:23.644Z"
   },
   {
    "duration": 17,
    "start_time": "2021-12-04T20:13:47.652Z"
   },
   {
    "duration": 32,
    "start_time": "2021-12-04T20:15:20.937Z"
   },
   {
    "duration": 24,
    "start_time": "2021-12-04T20:19:21.213Z"
   },
   {
    "duration": 6,
    "start_time": "2021-12-04T20:21:21.554Z"
   },
   {
    "duration": 6,
    "start_time": "2021-12-04T20:21:51.161Z"
   },
   {
    "duration": 6,
    "start_time": "2021-12-04T20:22:04.073Z"
   },
   {
    "duration": 10,
    "start_time": "2021-12-04T20:22:58.847Z"
   },
   {
    "duration": 73,
    "start_time": "2021-12-04T20:26:31.475Z"
   },
   {
    "duration": 40,
    "start_time": "2021-12-04T20:26:47.898Z"
   },
   {
    "duration": 38,
    "start_time": "2021-12-04T20:26:53.442Z"
   },
   {
    "duration": 38,
    "start_time": "2021-12-04T20:30:44.206Z"
   },
   {
    "duration": 41,
    "start_time": "2021-12-04T20:31:44.829Z"
   },
   {
    "duration": 27,
    "start_time": "2021-12-04T20:33:01.171Z"
   },
   {
    "duration": 42,
    "start_time": "2021-12-04T20:33:58.472Z"
   },
   {
    "duration": 33,
    "start_time": "2021-12-04T20:36:53.638Z"
   },
   {
    "duration": 12,
    "start_time": "2021-12-04T20:39:11.026Z"
   },
   {
    "duration": 16,
    "start_time": "2021-12-04T20:41:13.496Z"
   },
   {
    "duration": 15,
    "start_time": "2021-12-04T20:41:37.159Z"
   },
   {
    "duration": 18,
    "start_time": "2021-12-04T20:42:01.607Z"
   },
   {
    "duration": 20,
    "start_time": "2021-12-04T20:48:34.575Z"
   },
   {
    "duration": 287,
    "start_time": "2021-12-04T20:52:05.802Z"
   },
   {
    "duration": 350,
    "start_time": "2021-12-04T20:52:26.650Z"
   },
   {
    "duration": 10258,
    "start_time": "2021-12-04T20:52:50.067Z"
   },
   {
    "duration": 39,
    "start_time": "2021-12-04T20:53:28.171Z"
   },
   {
    "duration": 31,
    "start_time": "2021-12-04T20:53:50.369Z"
   },
   {
    "duration": 35,
    "start_time": "2021-12-04T20:54:01.016Z"
   },
   {
    "duration": 322,
    "start_time": "2021-12-04T20:54:52.304Z"
   },
   {
    "duration": 37,
    "start_time": "2021-12-04T20:55:07.495Z"
   },
   {
    "duration": 1770,
    "start_time": "2021-12-04T20:55:45.239Z"
   },
   {
    "duration": 8625,
    "start_time": "2021-12-04T20:56:21.095Z"
   },
   {
    "duration": 107,
    "start_time": "2021-12-04T21:02:01.639Z"
   },
   {
    "duration": 18,
    "start_time": "2021-12-04T21:03:32.637Z"
   },
   {
    "duration": 14,
    "start_time": "2021-12-04T21:03:44.116Z"
   },
   {
    "duration": 20,
    "start_time": "2021-12-04T21:03:51.526Z"
   },
   {
    "duration": 315,
    "start_time": "2021-12-04T21:04:49.316Z"
   },
   {
    "duration": 41,
    "start_time": "2021-12-04T21:05:06.644Z"
   },
   {
    "duration": 323,
    "start_time": "2021-12-04T21:06:49.249Z"
   },
   {
    "duration": 107,
    "start_time": "2021-12-04T21:07:02.649Z"
   },
   {
    "duration": 87,
    "start_time": "2021-12-04T22:22:13.677Z"
   },
   {
    "duration": 53,
    "start_time": "2021-12-04T22:24:51.423Z"
   },
   {
    "duration": 52,
    "start_time": "2021-12-04T22:25:28.237Z"
   },
   {
    "duration": 49,
    "start_time": "2021-12-04T22:25:44.469Z"
   },
   {
    "duration": 52,
    "start_time": "2021-12-04T22:26:59.132Z"
   },
   {
    "duration": 37,
    "start_time": "2021-12-04T22:27:32.763Z"
   },
   {
    "duration": 41,
    "start_time": "2021-12-04T22:28:04.467Z"
   },
   {
    "duration": 264,
    "start_time": "2021-12-05T04:31:56.165Z"
   },
   {
    "duration": 635,
    "start_time": "2021-12-05T04:32:06.158Z"
   },
   {
    "duration": 148,
    "start_time": "2021-12-05T04:32:06.795Z"
   },
   {
    "duration": 131,
    "start_time": "2021-12-05T04:32:06.945Z"
   },
   {
    "duration": 86,
    "start_time": "2021-12-05T04:32:07.078Z"
   },
   {
    "duration": 17,
    "start_time": "2021-12-05T04:32:07.166Z"
   },
   {
    "duration": 35,
    "start_time": "2021-12-05T04:32:07.185Z"
   },
   {
    "duration": 15,
    "start_time": "2021-12-05T04:32:07.222Z"
   },
   {
    "duration": 16,
    "start_time": "2021-12-05T04:32:07.238Z"
   },
   {
    "duration": 9,
    "start_time": "2021-12-05T04:32:07.257Z"
   },
   {
    "duration": 7,
    "start_time": "2021-12-05T04:32:07.268Z"
   },
   {
    "duration": 14,
    "start_time": "2021-12-05T04:32:07.277Z"
   },
   {
    "duration": 22,
    "start_time": "2021-12-05T04:32:07.292Z"
   },
   {
    "duration": 16,
    "start_time": "2021-12-05T04:32:07.316Z"
   },
   {
    "duration": 37,
    "start_time": "2021-12-05T04:32:07.334Z"
   },
   {
    "duration": 6,
    "start_time": "2021-12-05T04:32:07.373Z"
   },
   {
    "duration": 119,
    "start_time": "2021-12-05T04:32:07.381Z"
   },
   {
    "duration": 72,
    "start_time": "2021-12-05T04:32:07.502Z"
   },
   {
    "duration": 47,
    "start_time": "2021-12-05T04:32:07.576Z"
   },
   {
    "duration": 6,
    "start_time": "2021-12-05T04:32:07.625Z"
   },
   {
    "duration": 40,
    "start_time": "2021-12-05T04:32:07.633Z"
   },
   {
    "duration": 52,
    "start_time": "2021-12-05T04:32:07.675Z"
   },
   {
    "duration": 34,
    "start_time": "2021-12-05T04:32:07.729Z"
   },
   {
    "duration": 42,
    "start_time": "2021-12-05T04:32:07.765Z"
   },
   {
    "duration": 14,
    "start_time": "2021-12-05T04:32:07.808Z"
   },
   {
    "duration": 50,
    "start_time": "2021-12-05T04:32:07.823Z"
   },
   {
    "duration": 6,
    "start_time": "2021-12-05T04:32:07.874Z"
   },
   {
    "duration": 84,
    "start_time": "2021-12-05T04:32:07.883Z"
   },
   {
    "duration": 1033,
    "start_time": "2021-12-05T04:32:06.936Z"
   },
   {
    "duration": 1024,
    "start_time": "2021-12-05T04:32:06.946Z"
   },
   {
    "duration": 1022,
    "start_time": "2021-12-05T04:32:06.949Z"
   },
   {
    "duration": 1019,
    "start_time": "2021-12-05T04:32:06.953Z"
   },
   {
    "duration": 1012,
    "start_time": "2021-12-05T04:32:06.961Z"
   },
   {
    "duration": 1007,
    "start_time": "2021-12-05T04:32:06.966Z"
   },
   {
    "duration": 1006,
    "start_time": "2021-12-05T04:32:06.968Z"
   },
   {
    "duration": 6,
    "start_time": "2021-12-05T04:32:23.279Z"
   },
   {
    "duration": 9,
    "start_time": "2021-12-05T04:32:24.983Z"
   },
   {
    "duration": 11,
    "start_time": "2021-12-05T04:32:29.511Z"
   },
   {
    "duration": 45,
    "start_time": "2021-12-05T04:32:31.343Z"
   },
   {
    "duration": 37,
    "start_time": "2021-12-05T04:32:33.758Z"
   },
   {
    "duration": 27,
    "start_time": "2021-12-05T04:32:35.222Z"
   },
   {
    "duration": 32,
    "start_time": "2021-12-05T04:32:35.742Z"
   },
   {
    "duration": 320,
    "start_time": "2021-12-05T04:32:36.822Z"
   },
   {
    "duration": 230,
    "start_time": "2021-12-05T04:32:58.590Z"
   },
   {
    "duration": 260,
    "start_time": "2021-12-05T04:33:28.438Z"
   },
   {
    "duration": 5657,
    "start_time": "2021-12-05T04:33:59.525Z"
   },
   {
    "duration": 6305,
    "start_time": "2021-12-05T04:34:29.869Z"
   },
   {
    "duration": 8,
    "start_time": "2021-12-05T04:34:49.692Z"
   },
   {
    "duration": 6,
    "start_time": "2021-12-05T04:35:53.771Z"
   },
   {
    "duration": 4,
    "start_time": "2021-12-05T04:36:06.483Z"
   },
   {
    "duration": 4,
    "start_time": "2021-12-05T04:36:14.602Z"
   },
   {
    "duration": 6,
    "start_time": "2021-12-05T04:36:37.554Z"
   },
   {
    "duration": 6135,
    "start_time": "2021-12-05T04:37:18.729Z"
   },
   {
    "duration": 10,
    "start_time": "2021-12-05T04:37:42.368Z"
   },
   {
    "duration": 13,
    "start_time": "2021-12-05T04:38:03.104Z"
   },
   {
    "duration": 10,
    "start_time": "2021-12-05T04:40:17.389Z"
   },
   {
    "duration": 11,
    "start_time": "2021-12-05T04:40:43.740Z"
   },
   {
    "duration": 5,
    "start_time": "2021-12-05T04:41:11.627Z"
   },
   {
    "duration": 75,
    "start_time": "2021-12-05T04:41:35.876Z"
   },
   {
    "duration": 244,
    "start_time": "2021-12-05T07:25:07.797Z"
   },
   {
    "duration": 34,
    "start_time": "2021-12-05T07:26:12.323Z"
   },
   {
    "duration": 33,
    "start_time": "2021-12-05T07:26:36.506Z"
   },
   {
    "duration": 11,
    "start_time": "2021-12-05T07:26:40.506Z"
   },
   {
    "duration": 39,
    "start_time": "2021-12-05T07:27:16.961Z"
   },
   {
    "duration": 40,
    "start_time": "2021-12-05T07:27:35.328Z"
   },
   {
    "duration": 20,
    "start_time": "2021-12-05T07:27:43.416Z"
   },
   {
    "duration": 35,
    "start_time": "2021-12-05T07:28:24.969Z"
   },
   {
    "duration": 35,
    "start_time": "2021-12-05T07:28:30.913Z"
   },
   {
    "duration": 10,
    "start_time": "2021-12-05T07:28:40.479Z"
   },
   {
    "duration": 268,
    "start_time": "2021-12-05T08:34:42.796Z"
   },
   {
    "duration": 11,
    "start_time": "2021-12-05T08:34:57.177Z"
   },
   {
    "duration": 243,
    "start_time": "2021-12-05T08:35:16.760Z"
   },
   {
    "duration": 270,
    "start_time": "2021-12-05T08:35:28.169Z"
   },
   {
    "duration": 10,
    "start_time": "2021-12-05T08:37:09.143Z"
   },
   {
    "duration": 10,
    "start_time": "2021-12-05T08:38:09.277Z"
   },
   {
    "duration": 236,
    "start_time": "2021-12-05T08:39:21.764Z"
   },
   {
    "duration": 23,
    "start_time": "2021-12-05T08:40:09.035Z"
   },
   {
    "duration": 234,
    "start_time": "2021-12-05T08:40:14.075Z"
   },
   {
    "duration": 261,
    "start_time": "2021-12-05T08:42:34.128Z"
   },
   {
    "duration": 42,
    "start_time": "2021-12-05T08:46:49.602Z"
   },
   {
    "duration": 931,
    "start_time": "2021-12-05T08:48:07.361Z"
   },
   {
    "duration": 11,
    "start_time": "2021-12-05T08:48:35.608Z"
   },
   {
    "duration": 21,
    "start_time": "2021-12-05T08:49:05.743Z"
   },
   {
    "duration": 33,
    "start_time": "2021-12-05T08:55:04.384Z"
   },
   {
    "duration": 34,
    "start_time": "2021-12-05T08:55:09.062Z"
   },
   {
    "duration": 6431,
    "start_time": "2021-12-05T08:58:41.955Z"
   },
   {
    "duration": 11,
    "start_time": "2021-12-05T08:59:29.938Z"
   },
   {
    "duration": 24,
    "start_time": "2021-12-05T08:59:54.938Z"
   },
   {
    "duration": 6078,
    "start_time": "2021-12-05T09:00:07.121Z"
   },
   {
    "duration": 15,
    "start_time": "2021-12-05T09:00:47.689Z"
   },
   {
    "duration": 6016,
    "start_time": "2021-12-05T09:01:03.951Z"
   },
   {
    "duration": 52,
    "start_time": "2021-12-05T09:01:14.672Z"
   },
   {
    "duration": 14,
    "start_time": "2021-12-05T09:01:28.998Z"
   },
   {
    "duration": 12,
    "start_time": "2021-12-05T09:01:38.400Z"
   },
   {
    "duration": 12,
    "start_time": "2021-12-05T09:01:45.799Z"
   },
   {
    "duration": 21,
    "start_time": "2021-12-05T09:02:25.223Z"
   },
   {
    "duration": 15,
    "start_time": "2021-12-05T09:02:39.061Z"
   },
   {
    "duration": 15,
    "start_time": "2021-12-05T09:02:49.742Z"
   },
   {
    "duration": 23,
    "start_time": "2021-12-05T09:03:06.246Z"
   },
   {
    "duration": 12,
    "start_time": "2021-12-05T09:03:40.869Z"
   },
   {
    "duration": 49,
    "start_time": "2021-12-05T09:03:54.462Z"
   },
   {
    "duration": 13,
    "start_time": "2021-12-05T09:03:54.568Z"
   },
   {
    "duration": 14,
    "start_time": "2021-12-05T09:03:55.020Z"
   },
   {
    "duration": 11,
    "start_time": "2021-12-05T09:03:55.436Z"
   },
   {
    "duration": 12,
    "start_time": "2021-12-05T09:03:55.876Z"
   },
   {
    "duration": 77,
    "start_time": "2021-12-05T09:07:42.416Z"
   },
   {
    "duration": 22,
    "start_time": "2021-12-05T09:08:32.847Z"
   },
   {
    "duration": 18,
    "start_time": "2021-12-05T09:08:43.695Z"
   },
   {
    "duration": 22,
    "start_time": "2021-12-05T09:10:16.108Z"
   },
   {
    "duration": 21,
    "start_time": "2021-12-05T09:10:26.876Z"
   },
   {
    "duration": 18,
    "start_time": "2021-12-05T09:10:33.212Z"
   },
   {
    "duration": 249,
    "start_time": "2021-12-05T09:13:08.001Z"
   },
   {
    "duration": 24,
    "start_time": "2021-12-05T09:13:21.745Z"
   },
   {
    "duration": 1097,
    "start_time": "2021-12-05T09:14:57.222Z"
   },
   {
    "duration": 49,
    "start_time": "2021-12-05T09:15:35.479Z"
   },
   {
    "duration": 14,
    "start_time": "2021-12-05T09:16:56.076Z"
   },
   {
    "duration": 21,
    "start_time": "2021-12-05T09:17:16.620Z"
   },
   {
    "duration": 20,
    "start_time": "2021-12-05T09:18:00.004Z"
   },
   {
    "duration": 20,
    "start_time": "2021-12-05T09:19:44.578Z"
   },
   {
    "duration": 21,
    "start_time": "2021-12-05T09:20:09.832Z"
   },
   {
    "duration": 23,
    "start_time": "2021-12-05T09:20:21.736Z"
   },
   {
    "duration": 16,
    "start_time": "2021-12-05T09:20:22.858Z"
   },
   {
    "duration": 10,
    "start_time": "2021-12-05T09:39:12.468Z"
   },
   {
    "duration": 32,
    "start_time": "2021-12-05T09:39:24.029Z"
   },
   {
    "duration": 10,
    "start_time": "2021-12-05T09:40:30.444Z"
   },
   {
    "duration": 9,
    "start_time": "2021-12-05T09:41:52.625Z"
   },
   {
    "duration": 5,
    "start_time": "2021-12-05T09:45:50.389Z"
   },
   {
    "duration": 9,
    "start_time": "2021-12-05T09:46:03.765Z"
   },
   {
    "duration": 17,
    "start_time": "2021-12-05T09:47:04.619Z"
   },
   {
    "duration": 52,
    "start_time": "2021-12-05T09:47:15.763Z"
   },
   {
    "duration": 30,
    "start_time": "2021-12-05T10:19:59.780Z"
   },
   {
    "duration": 672,
    "start_time": "2021-12-05T11:44:12.491Z"
   },
   {
    "duration": 286,
    "start_time": "2021-12-05T11:44:22.286Z"
   },
   {
    "duration": 5,
    "start_time": "2021-12-05T11:44:48.790Z"
   },
   {
    "duration": 5,
    "start_time": "2021-12-05T11:45:01.813Z"
   },
   {
    "duration": 236,
    "start_time": "2021-12-05T11:48:24.528Z"
   },
   {
    "duration": 27,
    "start_time": "2021-12-05T11:48:51.864Z"
   },
   {
    "duration": 5963,
    "start_time": "2021-12-05T11:49:53.232Z"
   },
   {
    "duration": 3,
    "start_time": "2021-12-05T15:29:40.004Z"
   },
   {
    "duration": 2,
    "start_time": "2021-12-05T15:30:08.002Z"
   },
   {
    "duration": 11,
    "start_time": "2021-12-05T19:29:40.206Z"
   },
   {
    "duration": 12,
    "start_time": "2021-12-05T19:29:40.997Z"
   },
   {
    "duration": 11,
    "start_time": "2021-12-05T19:29:41.743Z"
   },
   {
    "duration": 19,
    "start_time": "2021-12-05T19:29:59.597Z"
   },
   {
    "duration": 17,
    "start_time": "2021-12-05T19:30:23.245Z"
   },
   {
    "duration": 18,
    "start_time": "2021-12-05T19:31:24.099Z"
   },
   {
    "duration": 17,
    "start_time": "2021-12-05T19:32:00.610Z"
   },
   {
    "duration": 15,
    "start_time": "2021-12-05T19:32:15.338Z"
   },
   {
    "duration": 17,
    "start_time": "2021-12-05T19:32:48.978Z"
   },
   {
    "duration": 10,
    "start_time": "2021-12-05T19:34:13.055Z"
   },
   {
    "duration": 15,
    "start_time": "2021-12-05T19:34:13.519Z"
   },
   {
    "duration": 10,
    "start_time": "2021-12-05T19:34:13.887Z"
   },
   {
    "duration": 9,
    "start_time": "2021-12-05T19:34:14.366Z"
   },
   {
    "duration": 9,
    "start_time": "2021-12-05T19:34:16.247Z"
   },
   {
    "duration": 10,
    "start_time": "2021-12-05T19:34:24.550Z"
   },
   {
    "duration": 42,
    "start_time": "2021-12-05T19:34:25.601Z"
   },
   {
    "duration": 11,
    "start_time": "2021-12-05T19:34:36.494Z"
   },
   {
    "duration": 14,
    "start_time": "2021-12-05T19:34:39.583Z"
   },
   {
    "duration": 11,
    "start_time": "2021-12-05T19:34:43.918Z"
   },
   {
    "duration": 22,
    "start_time": "2021-12-05T19:34:47.063Z"
   },
   {
    "duration": 13,
    "start_time": "2021-12-05T19:34:50.822Z"
   },
   {
    "duration": 12,
    "start_time": "2021-12-05T19:34:52.189Z"
   },
   {
    "duration": 22,
    "start_time": "2021-12-05T19:34:58.478Z"
   },
   {
    "duration": 11,
    "start_time": "2021-12-05T19:35:07.301Z"
   },
   {
    "duration": 11,
    "start_time": "2021-12-05T19:35:07.734Z"
   },
   {
    "duration": 11,
    "start_time": "2021-12-05T19:35:08.093Z"
   },
   {
    "duration": 17,
    "start_time": "2021-12-05T19:35:11.159Z"
   },
   {
    "duration": 278,
    "start_time": "2021-12-05T19:35:44.628Z"
   },
   {
    "duration": 642,
    "start_time": "2021-12-05T19:35:55.925Z"
   },
   {
    "duration": 603,
    "start_time": "2021-12-05T19:35:58.957Z"
   },
   {
    "duration": 12,
    "start_time": "2021-12-05T19:36:06.028Z"
   },
   {
    "duration": 18,
    "start_time": "2021-12-05T19:36:24.379Z"
   },
   {
    "duration": 10,
    "start_time": "2021-12-05T19:37:00.643Z"
   },
   {
    "duration": 11,
    "start_time": "2021-12-05T19:37:01.020Z"
   },
   {
    "duration": 12,
    "start_time": "2021-12-05T19:37:01.380Z"
   },
   {
    "duration": 17,
    "start_time": "2021-12-05T19:37:06.411Z"
   },
   {
    "duration": 9,
    "start_time": "2021-12-05T19:37:28.282Z"
   },
   {
    "duration": 27,
    "start_time": "2021-12-05T19:37:30.251Z"
   },
   {
    "duration": 271,
    "start_time": "2021-12-05T19:38:09.570Z"
   },
   {
    "duration": 4,
    "start_time": "2021-12-05T19:38:21.570Z"
   },
   {
    "duration": 21,
    "start_time": "2021-12-05T19:38:31.322Z"
   },
   {
    "duration": 16,
    "start_time": "2021-12-05T19:38:39.001Z"
   },
   {
    "duration": 11,
    "start_time": "2021-12-05T19:38:39.377Z"
   },
   {
    "duration": 12,
    "start_time": "2021-12-05T19:38:39.736Z"
   },
   {
    "duration": 19,
    "start_time": "2021-12-05T19:38:43.361Z"
   },
   {
    "duration": 10,
    "start_time": "2021-12-05T19:40:48.110Z"
   },
   {
    "duration": 22,
    "start_time": "2021-12-05T19:40:50.854Z"
   },
   {
    "duration": 17,
    "start_time": "2021-12-05T19:42:17.958Z"
   },
   {
    "duration": 6,
    "start_time": "2021-12-05T19:42:29.460Z"
   },
   {
    "duration": 5,
    "start_time": "2021-12-05T19:42:44.075Z"
   },
   {
    "duration": 4,
    "start_time": "2021-12-05T19:44:06.482Z"
   },
   {
    "duration": 23,
    "start_time": "2021-12-05T19:44:29.482Z"
   },
   {
    "duration": 17,
    "start_time": "2021-12-05T19:45:21.768Z"
   },
   {
    "duration": 11,
    "start_time": "2021-12-05T19:46:58.013Z"
   },
   {
    "duration": 11,
    "start_time": "2021-12-05T19:46:58.374Z"
   },
   {
    "duration": 12,
    "start_time": "2021-12-05T19:46:58.742Z"
   },
   {
    "duration": 17,
    "start_time": "2021-12-05T19:47:09.885Z"
   },
   {
    "duration": 9,
    "start_time": "2021-12-05T19:50:28.738Z"
   },
   {
    "duration": 21,
    "start_time": "2021-12-05T19:50:39.499Z"
   },
   {
    "duration": 11,
    "start_time": "2021-12-05T19:52:25.896Z"
   },
   {
    "duration": 13,
    "start_time": "2021-12-05T19:52:26.792Z"
   },
   {
    "duration": 13,
    "start_time": "2021-12-05T19:52:27.680Z"
   },
   {
    "duration": 10,
    "start_time": "2021-12-05T19:52:29.344Z"
   },
   {
    "duration": 7,
    "start_time": "2021-12-05T19:52:37.520Z"
   },
   {
    "duration": 21,
    "start_time": "2021-12-05T19:52:39.273Z"
   },
   {
    "duration": 17,
    "start_time": "2021-12-05T19:52:51.486Z"
   },
   {
    "duration": 10307,
    "start_time": "2021-12-05T19:55:08.780Z"
   },
   {
    "duration": 4712,
    "start_time": "2021-12-05T19:55:20.396Z"
   },
   {
    "duration": 7430,
    "start_time": "2021-12-05T19:55:28.036Z"
   },
   {
    "duration": 3824,
    "start_time": "2021-12-05T19:55:53.956Z"
   },
   {
    "duration": 5872,
    "start_time": "2021-12-05T19:56:01.828Z"
   },
   {
    "duration": -102,
    "start_time": "2021-12-05T19:56:26.394Z"
   },
   {
    "duration": 17,
    "start_time": "2021-12-05T19:56:39.148Z"
   },
   {
    "duration": 19,
    "start_time": "2021-12-05T19:56:43.755Z"
   },
   {
    "duration": 18,
    "start_time": "2021-12-05T19:56:58.034Z"
   },
   {
    "duration": 6637,
    "start_time": "2021-12-05T19:57:05.587Z"
   },
   {
    "duration": 19,
    "start_time": "2021-12-05T19:57:16.594Z"
   },
   {
    "duration": 273,
    "start_time": "2021-12-05T19:57:30.324Z"
   },
   {
    "duration": 6055,
    "start_time": "2021-12-05T19:57:56.392Z"
   },
   {
    "duration": 6427,
    "start_time": "2021-12-05T19:58:31.801Z"
   },
   {
    "duration": 7353,
    "start_time": "2021-12-05T20:00:24.599Z"
   },
   {
    "duration": 6104,
    "start_time": "2021-12-05T20:00:37.870Z"
   },
   {
    "duration": 2,
    "start_time": "2021-12-05T20:00:49.630Z"
   },
   {
    "duration": 3,
    "start_time": "2021-12-05T20:00:58.342Z"
   },
   {
    "duration": 20,
    "start_time": "2021-12-05T20:01:26.860Z"
   },
   {
    "duration": 3,
    "start_time": "2021-12-05T20:01:39.805Z"
   },
   {
    "duration": 19,
    "start_time": "2021-12-05T20:01:52.244Z"
   },
   {
    "duration": 8,
    "start_time": "2021-12-05T20:02:19.988Z"
   },
   {
    "duration": 248,
    "start_time": "2021-12-05T20:02:55.187Z"
   },
   {
    "duration": 12,
    "start_time": "2021-12-05T20:03:04.947Z"
   },
   {
    "duration": 6,
    "start_time": "2021-12-05T20:03:57.874Z"
   },
   {
    "duration": 4990,
    "start_time": "2021-12-05T20:06:19.638Z"
   },
   {
    "duration": 4,
    "start_time": "2021-12-05T20:09:16.036Z"
   },
   {
    "duration": 16,
    "start_time": "2021-12-05T20:09:29.810Z"
   },
   {
    "duration": 8,
    "start_time": "2021-12-05T20:10:15.978Z"
   },
   {
    "duration": 7041,
    "start_time": "2021-12-05T20:11:06.097Z"
   },
   {
    "duration": 251,
    "start_time": "2021-12-05T20:11:26.319Z"
   },
   {
    "duration": 291,
    "start_time": "2021-12-05T20:11:43.159Z"
   },
   {
    "duration": 4,
    "start_time": "2021-12-05T20:11:53.201Z"
   },
   {
    "duration": 8,
    "start_time": "2021-12-05T20:12:00.641Z"
   },
   {
    "duration": 8286,
    "start_time": "2021-12-05T20:12:09.136Z"
   },
   {
    "duration": 10,
    "start_time": "2021-12-05T20:13:32.004Z"
   },
   {
    "duration": 22,
    "start_time": "2021-12-05T20:14:14.356Z"
   },
   {
    "duration": 8,
    "start_time": "2021-12-05T20:25:22.860Z"
   },
   {
    "duration": 21,
    "start_time": "2021-12-05T20:25:27.475Z"
   },
   {
    "duration": 250,
    "start_time": "2021-12-05T20:28:47.934Z"
   },
   {
    "duration": 12,
    "start_time": "2021-12-05T20:29:18.782Z"
   },
   {
    "duration": 13,
    "start_time": "2021-12-05T20:29:19.293Z"
   },
   {
    "duration": 12,
    "start_time": "2021-12-05T20:29:19.854Z"
   },
   {
    "duration": 10,
    "start_time": "2021-12-05T20:29:20.382Z"
   },
   {
    "duration": 8,
    "start_time": "2021-12-05T20:29:21.054Z"
   },
   {
    "duration": 18,
    "start_time": "2021-12-05T20:29:23.102Z"
   },
   {
    "duration": 23,
    "start_time": "2021-12-05T20:29:26.447Z"
   },
   {
    "duration": 11,
    "start_time": "2021-12-05T20:29:29.669Z"
   },
   {
    "duration": 29,
    "start_time": "2021-12-05T20:29:50.092Z"
   },
   {
    "duration": 21,
    "start_time": "2021-12-05T20:31:05.931Z"
   },
   {
    "duration": 13,
    "start_time": "2021-12-05T20:37:05.195Z"
   },
   {
    "duration": 11,
    "start_time": "2021-12-05T20:38:08.171Z"
   },
   {
    "duration": 26,
    "start_time": "2021-12-05T20:38:40.513Z"
   },
   {
    "duration": 250,
    "start_time": "2021-12-05T21:01:42.959Z"
   },
   {
    "duration": 6,
    "start_time": "2021-12-05T21:03:01.664Z"
   },
   {
    "duration": 239,
    "start_time": "2021-12-05T21:09:41.704Z"
   },
   {
    "duration": 254,
    "start_time": "2021-12-05T21:11:12.326Z"
   },
   {
    "duration": 254,
    "start_time": "2021-12-05T21:12:43.029Z"
   },
   {
    "duration": 4791,
    "start_time": "2021-12-05T21:13:21.371Z"
   },
   {
    "duration": 17,
    "start_time": "2021-12-05T21:28:30.121Z"
   },
   {
    "duration": 30,
    "start_time": "2021-12-05T21:29:01.383Z"
   },
   {
    "duration": 10,
    "start_time": "2021-12-05T21:29:17.490Z"
   },
   {
    "duration": 28,
    "start_time": "2021-12-05T21:30:16.702Z"
   },
   {
    "duration": 243,
    "start_time": "2021-12-05T21:30:38.216Z"
   },
   {
    "duration": 27,
    "start_time": "2021-12-05T21:30:52.101Z"
   },
   {
    "duration": 27,
    "start_time": "2021-12-05T21:31:12.854Z"
   },
   {
    "duration": 13,
    "start_time": "2021-12-05T21:43:33.220Z"
   },
   {
    "duration": 29,
    "start_time": "2021-12-05T21:43:39.899Z"
   },
   {
    "duration": 232,
    "start_time": "2021-12-05T21:58:21.790Z"
   },
   {
    "duration": 8,
    "start_time": "2021-12-05T21:59:16.541Z"
   },
   {
    "duration": 9,
    "start_time": "2021-12-05T22:00:19.115Z"
   },
   {
    "duration": 9,
    "start_time": "2021-12-05T22:01:05.415Z"
   },
   {
    "duration": 4,
    "start_time": "2021-12-05T22:02:25.001Z"
   },
   {
    "duration": 31,
    "start_time": "2021-12-05T22:02:27.562Z"
   },
   {
    "duration": 4,
    "start_time": "2021-12-05T22:06:40.451Z"
   },
   {
    "duration": 3,
    "start_time": "2021-12-05T22:07:07.620Z"
   },
   {
    "duration": 8,
    "start_time": "2021-12-05T22:07:09.203Z"
   },
   {
    "duration": 3,
    "start_time": "2021-12-05T22:07:57.515Z"
   },
   {
    "duration": 5,
    "start_time": "2021-12-05T22:08:00.394Z"
   },
   {
    "duration": 31,
    "start_time": "2021-12-05T22:08:03.428Z"
   },
   {
    "duration": 6095,
    "start_time": "2021-12-05T22:30:48.262Z"
   },
   {
    "duration": 6187,
    "start_time": "2021-12-05T22:31:12.178Z"
   },
   {
    "duration": 20,
    "start_time": "2021-12-05T22:31:33.034Z"
   },
   {
    "duration": 23,
    "start_time": "2021-12-05T22:31:51.625Z"
   },
   {
    "duration": 18,
    "start_time": "2021-12-05T22:33:19.743Z"
   },
   {
    "duration": 6358,
    "start_time": "2021-12-05T22:33:59.221Z"
   },
   {
    "duration": -268,
    "start_time": "2021-12-05T22:34:16.902Z"
   },
   {
    "duration": 6277,
    "start_time": "2021-12-05T22:34:21.436Z"
   },
   {
    "duration": 6733,
    "start_time": "2021-12-05T22:34:29.813Z"
   },
   {
    "duration": 6657,
    "start_time": "2021-12-05T22:34:44.501Z"
   },
   {
    "duration": 22,
    "start_time": "2021-12-05T22:36:55.683Z"
   },
   {
    "duration": 21,
    "start_time": "2021-12-05T22:37:16.282Z"
   },
   {
    "duration": 28,
    "start_time": "2021-12-05T23:17:44.317Z"
   },
   {
    "duration": 30,
    "start_time": "2021-12-05T23:20:16.754Z"
   },
   {
    "duration": 29,
    "start_time": "2021-12-05T23:20:40.831Z"
   },
   {
    "duration": 9,
    "start_time": "2021-12-05T23:34:07.501Z"
   },
   {
    "duration": 28,
    "start_time": "2021-12-05T23:34:23.485Z"
   },
   {
    "duration": 30,
    "start_time": "2021-12-05T23:35:17.356Z"
   },
   {
    "duration": 953,
    "start_time": "2021-12-05T23:36:45.348Z"
   },
   {
    "duration": 969,
    "start_time": "2021-12-05T23:36:52.482Z"
   },
   {
    "duration": 16,
    "start_time": "2021-12-05T23:37:08.530Z"
   },
   {
    "duration": 19,
    "start_time": "2021-12-05T23:37:51.746Z"
   },
   {
    "duration": 22,
    "start_time": "2021-12-05T23:38:13.097Z"
   },
   {
    "duration": 10,
    "start_time": "2021-12-05T23:39:03.327Z"
   },
   {
    "duration": 11,
    "start_time": "2021-12-05T23:39:04.062Z"
   },
   {
    "duration": 11,
    "start_time": "2021-12-05T23:39:05.783Z"
   },
   {
    "duration": 7072,
    "start_time": "2021-12-05T23:40:00.614Z"
   },
   {
    "duration": 11,
    "start_time": "2021-12-05T23:40:24.582Z"
   },
   {
    "duration": 252,
    "start_time": "2021-12-05T23:40:57.125Z"
   },
   {
    "duration": 953,
    "start_time": "2021-12-05T23:41:05.285Z"
   },
   {
    "duration": 6,
    "start_time": "2021-12-05T23:41:41.924Z"
   },
   {
    "duration": 6282,
    "start_time": "2021-12-05T23:43:04.402Z"
   },
   {
    "duration": 4742,
    "start_time": "2021-12-05T23:43:18.611Z"
   },
   {
    "duration": 4438,
    "start_time": "2021-12-05T23:46:03.184Z"
   },
   {
    "duration": 4345,
    "start_time": "2021-12-05T23:46:20.839Z"
   },
   {
    "duration": 2,
    "start_time": "2021-12-05T23:47:49.109Z"
   },
   {
    "duration": 4,
    "start_time": "2021-12-05T23:47:56.932Z"
   },
   {
    "duration": 254,
    "start_time": "2021-12-05T23:48:19.619Z"
   },
   {
    "duration": 6,
    "start_time": "2021-12-05T23:48:27.562Z"
   },
   {
    "duration": 240,
    "start_time": "2021-12-05T23:49:04.532Z"
   },
   {
    "duration": 4,
    "start_time": "2021-12-05T23:49:11.035Z"
   },
   {
    "duration": 5,
    "start_time": "2021-12-05T23:49:17.474Z"
   },
   {
    "duration": 4,
    "start_time": "2021-12-05T23:49:58.865Z"
   },
   {
    "duration": 5,
    "start_time": "2021-12-05T23:50:14.233Z"
   },
   {
    "duration": 4,
    "start_time": "2021-12-05T23:50:21.801Z"
   },
   {
    "duration": 232,
    "start_time": "2021-12-05T23:50:51.696Z"
   },
   {
    "duration": 76,
    "start_time": "2021-12-05T23:51:00.225Z"
   },
   {
    "duration": 6,
    "start_time": "2021-12-05T23:51:16.207Z"
   },
   {
    "duration": 249,
    "start_time": "2021-12-05T23:52:23.630Z"
   },
   {
    "duration": 5,
    "start_time": "2021-12-05T23:52:37.062Z"
   },
   {
    "duration": 255,
    "start_time": "2021-12-05T23:52:47.863Z"
   },
   {
    "duration": 6,
    "start_time": "2021-12-05T23:53:13.917Z"
   },
   {
    "duration": 4,
    "start_time": "2021-12-05T23:53:25.423Z"
   },
   {
    "duration": 6,
    "start_time": "2021-12-05T23:53:35.997Z"
   },
   {
    "duration": 3,
    "start_time": "2021-12-05T23:54:58.915Z"
   },
   {
    "duration": 8,
    "start_time": "2021-12-05T23:55:15.259Z"
   },
   {
    "duration": 8,
    "start_time": "2021-12-05T23:55:46.603Z"
   },
   {
    "duration": 10,
    "start_time": "2021-12-05T23:55:52.265Z"
   },
   {
    "duration": 9,
    "start_time": "2021-12-05T23:55:53.353Z"
   },
   {
    "duration": 26,
    "start_time": "2021-12-05T23:56:06.731Z"
   },
   {
    "duration": 6,
    "start_time": "2021-12-05T23:56:47.361Z"
   },
   {
    "duration": 10,
    "start_time": "2021-12-05T23:57:14.776Z"
   },
   {
    "duration": 11,
    "start_time": "2021-12-05T23:57:15.336Z"
   },
   {
    "duration": 10,
    "start_time": "2021-12-05T23:57:15.856Z"
   },
   {
    "duration": 10,
    "start_time": "2021-12-05T23:57:30.080Z"
   },
   {
    "duration": 9,
    "start_time": "2021-12-05T23:57:32.775Z"
   },
   {
    "duration": 6686,
    "start_time": "2021-12-05T23:57:38.952Z"
   },
   {
    "duration": 237,
    "start_time": "2021-12-05T23:58:28.646Z"
   },
   {
    "duration": 11,
    "start_time": "2021-12-05T23:58:33.846Z"
   },
   {
    "duration": 10,
    "start_time": "2021-12-05T23:58:34.327Z"
   },
   {
    "duration": 11,
    "start_time": "2021-12-05T23:58:34.822Z"
   },
   {
    "duration": 3,
    "start_time": "2021-12-05T23:58:53.878Z"
   },
   {
    "duration": 4,
    "start_time": "2021-12-05T23:58:59.030Z"
   },
   {
    "duration": 8,
    "start_time": "2021-12-05T23:59:06.462Z"
   },
   {
    "duration": 9,
    "start_time": "2021-12-05T23:59:15.207Z"
   },
   {
    "duration": 10,
    "start_time": "2021-12-05T23:59:18.589Z"
   },
   {
    "duration": 5,
    "start_time": "2021-12-05T23:59:21.317Z"
   },
   {
    "duration": 10,
    "start_time": "2021-12-06T00:00:46.011Z"
   },
   {
    "duration": 1015,
    "start_time": "2021-12-06T00:00:47.163Z"
   },
   {
    "duration": 11,
    "start_time": "2021-12-06T00:00:53.347Z"
   },
   {
    "duration": 14,
    "start_time": "2021-12-06T00:00:53.795Z"
   },
   {
    "duration": 13,
    "start_time": "2021-12-06T00:00:54.324Z"
   },
   {
    "duration": 3,
    "start_time": "2021-12-06T00:00:54.899Z"
   },
   {
    "duration": 4,
    "start_time": "2021-12-06T00:00:55.891Z"
   },
   {
    "duration": 8,
    "start_time": "2021-12-06T00:00:57.075Z"
   },
   {
    "duration": 9,
    "start_time": "2021-12-06T00:01:01.539Z"
   },
   {
    "duration": 10,
    "start_time": "2021-12-06T00:01:02.963Z"
   },
   {
    "duration": 9,
    "start_time": "2021-12-06T00:01:03.444Z"
   },
   {
    "duration": 16,
    "start_time": "2021-12-06T00:01:07.156Z"
   },
   {
    "duration": 20,
    "start_time": "2021-12-06T00:01:12.196Z"
   },
   {
    "duration": 27,
    "start_time": "2021-12-06T00:01:15.148Z"
   },
   {
    "duration": 258,
    "start_time": "2021-12-06T00:02:16.162Z"
   },
   {
    "duration": 253,
    "start_time": "2021-12-06T00:03:40.520Z"
   },
   {
    "duration": 250,
    "start_time": "2021-12-06T00:04:22.200Z"
   },
   {
    "duration": 10,
    "start_time": "2021-12-06T00:05:38.189Z"
   },
   {
    "duration": 4,
    "start_time": "2021-12-06T00:05:38.845Z"
   },
   {
    "duration": 9,
    "start_time": "2021-12-06T00:05:39.461Z"
   },
   {
    "duration": 4,
    "start_time": "2021-12-06T00:05:40.029Z"
   },
   {
    "duration": 9,
    "start_time": "2021-12-06T00:05:42.325Z"
   },
   {
    "duration": 4,
    "start_time": "2021-12-06T00:05:42.917Z"
   },
   {
    "duration": 5,
    "start_time": "2021-12-06T00:05:43.397Z"
   },
   {
    "duration": 31,
    "start_time": "2021-12-06T00:05:44.413Z"
   },
   {
    "duration": 28,
    "start_time": "2021-12-06T00:06:24.892Z"
   },
   {
    "duration": 29,
    "start_time": "2021-12-06T00:07:21.476Z"
   },
   {
    "duration": 7,
    "start_time": "2021-12-06T00:07:58.484Z"
   },
   {
    "duration": 7,
    "start_time": "2021-12-06T00:08:39.714Z"
   },
   {
    "duration": 9,
    "start_time": "2021-12-06T00:08:52.490Z"
   },
   {
    "duration": 557,
    "start_time": "2021-12-06T05:35:56.506Z"
   },
   {
    "duration": 150,
    "start_time": "2021-12-06T05:35:57.065Z"
   },
   {
    "duration": 133,
    "start_time": "2021-12-06T05:35:57.217Z"
   },
   {
    "duration": 87,
    "start_time": "2021-12-06T05:35:57.352Z"
   },
   {
    "duration": 18,
    "start_time": "2021-12-06T05:35:57.441Z"
   },
   {
    "duration": 48,
    "start_time": "2021-12-06T05:35:57.460Z"
   },
   {
    "duration": 18,
    "start_time": "2021-12-06T05:35:57.510Z"
   },
   {
    "duration": 25,
    "start_time": "2021-12-06T05:35:57.530Z"
   },
   {
    "duration": 8,
    "start_time": "2021-12-06T05:35:57.557Z"
   },
   {
    "duration": 13,
    "start_time": "2021-12-06T05:35:57.566Z"
   },
   {
    "duration": 13,
    "start_time": "2021-12-06T05:35:57.581Z"
   },
   {
    "duration": 23,
    "start_time": "2021-12-06T05:35:57.596Z"
   },
   {
    "duration": 18,
    "start_time": "2021-12-06T05:35:57.620Z"
   },
   {
    "duration": 13,
    "start_time": "2021-12-06T05:35:57.640Z"
   },
   {
    "duration": 5,
    "start_time": "2021-12-06T05:35:57.655Z"
   },
   {
    "duration": 133,
    "start_time": "2021-12-06T05:35:57.661Z"
   },
   {
    "duration": 60,
    "start_time": "2021-12-06T05:35:57.795Z"
   },
   {
    "duration": 66,
    "start_time": "2021-12-06T05:35:57.857Z"
   },
   {
    "duration": 7,
    "start_time": "2021-12-06T05:35:57.925Z"
   },
   {
    "duration": 23,
    "start_time": "2021-12-06T05:35:57.933Z"
   },
   {
    "duration": 71,
    "start_time": "2021-12-06T05:35:57.958Z"
   },
   {
    "duration": 17,
    "start_time": "2021-12-06T05:35:58.031Z"
   },
   {
    "duration": 63,
    "start_time": "2021-12-06T05:35:58.052Z"
   },
   {
    "duration": 15,
    "start_time": "2021-12-06T05:35:58.118Z"
   },
   {
    "duration": 57,
    "start_time": "2021-12-06T05:35:58.135Z"
   },
   {
    "duration": 7,
    "start_time": "2021-12-06T05:35:58.194Z"
   },
   {
    "duration": 9,
    "start_time": "2021-12-06T05:35:58.203Z"
   },
   {
    "duration": 9,
    "start_time": "2021-12-06T05:35:58.213Z"
   },
   {
    "duration": 68,
    "start_time": "2021-12-06T05:35:58.223Z"
   },
   {
    "duration": 30,
    "start_time": "2021-12-06T05:35:58.293Z"
   },
   {
    "duration": 19,
    "start_time": "2021-12-06T05:35:58.325Z"
   },
   {
    "duration": 18,
    "start_time": "2021-12-06T05:35:58.346Z"
   },
   {
    "duration": 48,
    "start_time": "2021-12-06T05:35:58.366Z"
   },
   {
    "duration": 9,
    "start_time": "2021-12-06T05:35:58.415Z"
   },
   {
    "duration": 9,
    "start_time": "2021-12-06T05:35:58.425Z"
   },
   {
    "duration": 9,
    "start_time": "2021-12-06T05:35:58.436Z"
   },
   {
    "duration": 2,
    "start_time": "2021-12-06T05:35:58.446Z"
   },
   {
    "duration": 5,
    "start_time": "2021-12-06T05:35:58.450Z"
   },
   {
    "duration": 36,
    "start_time": "2021-12-06T05:35:58.456Z"
   },
   {
    "duration": 8,
    "start_time": "2021-12-06T05:35:58.493Z"
   },
   {
    "duration": 8,
    "start_time": "2021-12-06T05:35:58.503Z"
   },
   {
    "duration": 7,
    "start_time": "2021-12-06T05:35:58.513Z"
   },
   {
    "duration": 221,
    "start_time": "2021-12-06T05:35:58.522Z"
   },
   {
    "duration": 2334,
    "start_time": "2021-12-06T05:35:56.410Z"
   },
   {
    "duration": 2321,
    "start_time": "2021-12-06T05:35:56.424Z"
   },
   {
    "duration": 2316,
    "start_time": "2021-12-06T05:35:56.430Z"
   },
   {
    "duration": 2303,
    "start_time": "2021-12-06T05:35:56.444Z"
   },
   {
    "duration": 2292,
    "start_time": "2021-12-06T05:35:56.456Z"
   },
   {
    "duration": 2286,
    "start_time": "2021-12-06T05:35:56.463Z"
   },
   {
    "duration": 2269,
    "start_time": "2021-12-06T05:35:56.481Z"
   },
   {
    "duration": 2258,
    "start_time": "2021-12-06T05:35:56.493Z"
   },
   {
    "duration": 2242,
    "start_time": "2021-12-06T05:35:56.510Z"
   },
   {
    "duration": 2227,
    "start_time": "2021-12-06T05:35:56.526Z"
   },
   {
    "duration": 2212,
    "start_time": "2021-12-06T05:35:56.541Z"
   },
   {
    "duration": 2207,
    "start_time": "2021-12-06T05:35:56.547Z"
   },
   {
    "duration": 2191,
    "start_time": "2021-12-06T05:35:56.564Z"
   },
   {
    "duration": 29,
    "start_time": "2021-12-06T05:36:31.541Z"
   },
   {
    "duration": 9,
    "start_time": "2021-12-06T05:36:47.791Z"
   },
   {
    "duration": 4,
    "start_time": "2021-12-06T05:36:48.699Z"
   },
   {
    "duration": 9,
    "start_time": "2021-12-06T05:36:49.403Z"
   },
   {
    "duration": 5,
    "start_time": "2021-12-06T05:36:50.106Z"
   },
   {
    "duration": 9,
    "start_time": "2021-12-06T05:36:50.691Z"
   },
   {
    "duration": 4,
    "start_time": "2021-12-06T05:36:51.811Z"
   },
   {
    "duration": 4,
    "start_time": "2021-12-06T05:36:54.771Z"
   },
   {
    "duration": 30,
    "start_time": "2021-12-06T05:36:55.331Z"
   },
   {
    "duration": 57,
    "start_time": "2021-12-06T05:37:08.186Z"
   },
   {
    "duration": 8,
    "start_time": "2021-12-06T05:37:18.132Z"
   },
   {
    "duration": 169,
    "start_time": "2021-12-06T05:38:12.437Z"
   },
   {
    "duration": 14,
    "start_time": "2021-12-06T05:38:50.554Z"
   },
   {
    "duration": 13,
    "start_time": "2021-12-06T05:39:29.138Z"
   },
   {
    "duration": 13,
    "start_time": "2021-12-06T05:40:14.344Z"
   },
   {
    "duration": 13,
    "start_time": "2021-12-06T05:47:44.328Z"
   },
   {
    "duration": 13,
    "start_time": "2021-12-06T05:49:06.526Z"
   },
   {
    "duration": 2,
    "start_time": "2021-12-06T05:50:14.798Z"
   },
   {
    "duration": 164,
    "start_time": "2021-12-06T05:51:37.724Z"
   },
   {
    "duration": 307,
    "start_time": "2021-12-06T05:52:09.684Z"
   },
   {
    "duration": 565,
    "start_time": "2021-12-06T05:52:53.003Z"
   },
   {
    "duration": 6,
    "start_time": "2021-12-06T05:53:19.178Z"
   },
   {
    "duration": 295,
    "start_time": "2021-12-06T05:53:30.666Z"
   },
   {
    "duration": 307,
    "start_time": "2021-12-06T05:54:34.489Z"
   },
   {
    "duration": 22,
    "start_time": "2021-12-06T05:54:50.154Z"
   },
   {
    "duration": 10,
    "start_time": "2021-12-06T05:55:19.407Z"
   },
   {
    "duration": 5,
    "start_time": "2021-12-06T05:56:39.845Z"
   },
   {
    "duration": 8,
    "start_time": "2021-12-06T05:56:43.236Z"
   },
   {
    "duration": 8,
    "start_time": "2021-12-06T05:57:02.573Z"
   },
   {
    "duration": 22,
    "start_time": "2021-12-06T05:57:07.107Z"
   },
   {
    "duration": 290,
    "start_time": "2021-12-06T05:57:41.581Z"
   },
   {
    "duration": 56,
    "start_time": "2021-12-06T05:57:58.685Z"
   },
   {
    "duration": 284,
    "start_time": "2021-12-06T05:58:04.755Z"
   },
   {
    "duration": 5,
    "start_time": "2021-12-06T06:14:21.874Z"
   },
   {
    "duration": 7,
    "start_time": "2021-12-06T06:14:26.914Z"
   },
   {
    "duration": 278,
    "start_time": "2021-12-06T06:15:13.178Z"
   },
   {
    "duration": 184,
    "start_time": "2021-12-06T06:16:57.751Z"
   },
   {
    "duration": 6,
    "start_time": "2021-12-06T06:17:31.414Z"
   },
   {
    "duration": 3,
    "start_time": "2021-12-06T06:17:49.726Z"
   },
   {
    "duration": 159,
    "start_time": "2021-12-06T06:19:56.292Z"
   },
   {
    "duration": 15,
    "start_time": "2021-12-06T06:21:31.361Z"
   },
   {
    "duration": 12,
    "start_time": "2021-12-06T06:22:18.400Z"
   },
   {
    "duration": 14,
    "start_time": "2021-12-06T06:22:40.312Z"
   },
   {
    "duration": 182,
    "start_time": "2021-12-06T06:22:56.264Z"
   },
   {
    "duration": 11,
    "start_time": "2021-12-06T06:23:07.544Z"
   },
   {
    "duration": 16,
    "start_time": "2021-12-06T06:24:43.222Z"
   },
   {
    "duration": 185,
    "start_time": "2021-12-06T06:26:00.744Z"
   },
   {
    "duration": 175,
    "start_time": "2021-12-06T06:26:16.177Z"
   },
   {
    "duration": 18,
    "start_time": "2021-12-06T06:26:21.857Z"
   },
   {
    "duration": 13,
    "start_time": "2021-12-06T06:27:12.488Z"
   },
   {
    "duration": 173,
    "start_time": "2021-12-06T06:27:50.878Z"
   },
   {
    "duration": 14,
    "start_time": "2021-12-06T06:27:56.487Z"
   },
   {
    "duration": 687,
    "start_time": "2021-12-06T06:29:21.157Z"
   },
   {
    "duration": 664,
    "start_time": "2021-12-06T06:29:29.933Z"
   },
   {
    "duration": 12,
    "start_time": "2021-12-06T06:30:01.166Z"
   },
   {
    "duration": 14,
    "start_time": "2021-12-06T06:30:17.204Z"
   },
   {
    "duration": 4,
    "start_time": "2021-12-06T06:31:52.515Z"
   },
   {
    "duration": 5,
    "start_time": "2021-12-06T06:46:11.947Z"
   },
   {
    "duration": 14,
    "start_time": "2021-12-06T06:48:19.678Z"
   },
   {
    "duration": 13,
    "start_time": "2021-12-06T06:48:54.949Z"
   },
   {
    "duration": 12,
    "start_time": "2021-12-06T06:49:33.852Z"
   },
   {
    "duration": 13,
    "start_time": "2021-12-06T06:50:18.363Z"
   },
   {
    "duration": 12,
    "start_time": "2021-12-06T06:54:29.798Z"
   },
   {
    "duration": 12,
    "start_time": "2021-12-06T06:54:42.766Z"
   },
   {
    "duration": 168,
    "start_time": "2021-12-06T06:56:46.995Z"
   },
   {
    "duration": 14,
    "start_time": "2021-12-06T06:56:57.900Z"
   },
   {
    "duration": 13,
    "start_time": "2021-12-06T06:58:44.842Z"
   },
   {
    "duration": 12,
    "start_time": "2021-12-06T06:58:52.400Z"
   },
   {
    "duration": 12,
    "start_time": "2021-12-06T06:59:06.361Z"
   },
   {
    "duration": 13,
    "start_time": "2021-12-06T06:59:14.304Z"
   },
   {
    "duration": 13,
    "start_time": "2021-12-06T06:59:33.471Z"
   },
   {
    "duration": 266,
    "start_time": "2021-12-06T07:02:03.452Z"
   },
   {
    "duration": 192,
    "start_time": "2021-12-06T07:02:26.212Z"
   },
   {
    "duration": 202,
    "start_time": "2021-12-06T07:02:48.579Z"
   },
   {
    "duration": 239,
    "start_time": "2021-12-06T07:03:07.667Z"
   },
   {
    "duration": 345,
    "start_time": "2021-12-06T07:03:31.682Z"
   },
   {
    "duration": 265,
    "start_time": "2021-12-06T07:03:40.996Z"
   },
   {
    "duration": 201,
    "start_time": "2021-12-06T07:03:48.346Z"
   },
   {
    "duration": 203,
    "start_time": "2021-12-06T07:03:56.697Z"
   },
   {
    "duration": 6,
    "start_time": "2021-12-06T08:11:52.057Z"
   },
   {
    "duration": 7,
    "start_time": "2021-12-06T08:13:01.632Z"
   },
   {
    "duration": 3,
    "start_time": "2021-12-06T08:15:08.103Z"
   },
   {
    "duration": 177,
    "start_time": "2021-12-06T08:15:09.174Z"
   },
   {
    "duration": 9,
    "start_time": "2021-12-06T08:16:06.829Z"
   },
   {
    "duration": 170,
    "start_time": "2021-12-06T08:16:46.743Z"
   },
   {
    "duration": 401,
    "start_time": "2021-12-06T08:17:11.484Z"
   },
   {
    "duration": 3,
    "start_time": "2021-12-06T08:17:12.302Z"
   },
   {
    "duration": 8,
    "start_time": "2021-12-06T08:17:13.341Z"
   },
   {
    "duration": 4,
    "start_time": "2021-12-06T08:17:15.676Z"
   },
   {
    "duration": 4,
    "start_time": "2021-12-06T08:17:18.701Z"
   },
   {
    "duration": 6,
    "start_time": "2021-12-06T08:17:33.244Z"
   },
   {
    "duration": 7,
    "start_time": "2021-12-06T08:17:45.684Z"
   },
   {
    "duration": 3,
    "start_time": "2021-12-06T08:18:57.962Z"
   },
   {
    "duration": 2,
    "start_time": "2021-12-06T08:19:06.795Z"
   },
   {
    "duration": 28,
    "start_time": "2021-12-06T08:20:19.234Z"
   },
   {
    "duration": 8,
    "start_time": "2021-12-06T08:21:28.457Z"
   },
   {
    "duration": 4,
    "start_time": "2021-12-06T08:21:44.328Z"
   },
   {
    "duration": 3,
    "start_time": "2021-12-06T08:21:56.514Z"
   },
   {
    "duration": 6,
    "start_time": "2021-12-06T08:22:31.880Z"
   },
   {
    "duration": 6,
    "start_time": "2021-12-06T08:22:57.960Z"
   },
   {
    "duration": 4,
    "start_time": "2021-12-06T08:30:54.703Z"
   },
   {
    "duration": 2,
    "start_time": "2021-12-06T08:33:57.019Z"
   },
   {
    "duration": 2,
    "start_time": "2021-12-06T08:33:57.579Z"
   },
   {
    "duration": 3,
    "start_time": "2021-12-06T08:35:33.987Z"
   },
   {
    "duration": 11,
    "start_time": "2021-12-06T08:51:11.187Z"
   },
   {
    "duration": 10,
    "start_time": "2021-12-06T08:51:34.458Z"
   },
   {
    "duration": 399,
    "start_time": "2021-12-06T08:52:03.895Z"
   },
   {
    "duration": 416,
    "start_time": "2021-12-06T08:52:26.296Z"
   },
   {
    "duration": 11,
    "start_time": "2021-12-06T08:59:54.379Z"
   },
   {
    "duration": 15,
    "start_time": "2021-12-06T09:01:45.605Z"
   },
   {
    "duration": 15,
    "start_time": "2021-12-06T09:02:37.069Z"
   },
   {
    "duration": 457,
    "start_time": "2021-12-06T09:02:37.965Z"
   },
   {
    "duration": 432,
    "start_time": "2021-12-06T09:02:53.252Z"
   },
   {
    "duration": 14,
    "start_time": "2021-12-06T09:03:38.667Z"
   },
   {
    "duration": 426,
    "start_time": "2021-12-06T09:03:42.354Z"
   },
   {
    "duration": 15,
    "start_time": "2021-12-06T09:04:29.233Z"
   },
   {
    "duration": 503,
    "start_time": "2021-12-06T09:04:34.481Z"
   },
   {
    "duration": 15,
    "start_time": "2021-12-06T09:04:52.784Z"
   },
   {
    "duration": 453,
    "start_time": "2021-12-06T09:04:55.681Z"
   },
   {
    "duration": 21,
    "start_time": "2021-12-06T09:06:07.528Z"
   },
   {
    "duration": 416,
    "start_time": "2021-12-06T09:06:13.895Z"
   },
   {
    "duration": 13,
    "start_time": "2021-12-06T09:07:04.998Z"
   },
   {
    "duration": 426,
    "start_time": "2021-12-06T09:07:07.142Z"
   },
   {
    "duration": 3,
    "start_time": "2021-12-06T09:13:00.783Z"
   },
   {
    "duration": 161,
    "start_time": "2021-12-06T09:13:01.359Z"
   },
   {
    "duration": 143,
    "start_time": "2021-12-06T09:13:02.255Z"
   },
   {
    "duration": 95,
    "start_time": "2021-12-06T09:13:03.054Z"
   },
   {
    "duration": 19,
    "start_time": "2021-12-06T09:13:03.790Z"
   },
   {
    "duration": 74,
    "start_time": "2021-12-06T09:13:04.311Z"
   },
   {
    "duration": 11,
    "start_time": "2021-12-06T09:13:07.920Z"
   },
   {
    "duration": 14,
    "start_time": "2021-12-06T09:13:11.383Z"
   },
   {
    "duration": 10,
    "start_time": "2021-12-06T09:13:13.791Z"
   },
   {
    "duration": 7,
    "start_time": "2021-12-06T09:13:16.119Z"
   },
   {
    "duration": 13,
    "start_time": "2021-12-06T09:13:18.495Z"
   },
   {
    "duration": 21,
    "start_time": "2021-12-06T09:13:22.479Z"
   },
   {
    "duration": 17,
    "start_time": "2021-12-06T09:13:23.079Z"
   },
   {
    "duration": 15,
    "start_time": "2021-12-06T09:13:23.686Z"
   },
   {
    "duration": 6,
    "start_time": "2021-12-06T09:13:26.439Z"
   },
   {
    "duration": 82,
    "start_time": "2021-12-06T09:13:28.815Z"
   },
   {
    "duration": 52,
    "start_time": "2021-12-06T09:13:31.447Z"
   },
   {
    "duration": 42,
    "start_time": "2021-12-06T09:13:31.950Z"
   },
   {
    "duration": 7,
    "start_time": "2021-12-06T09:13:32.454Z"
   },
   {
    "duration": 19,
    "start_time": "2021-12-06T09:13:39.591Z"
   },
   {
    "duration": 48,
    "start_time": "2021-12-06T09:13:52.911Z"
   },
   {
    "duration": 17,
    "start_time": "2021-12-06T09:13:54.150Z"
   },
   {
    "duration": 42,
    "start_time": "2021-12-06T09:13:57.694Z"
   },
   {
    "duration": 16,
    "start_time": "2021-12-06T09:13:58.606Z"
   },
   {
    "duration": 35,
    "start_time": "2021-12-06T09:14:02.183Z"
   },
   {
    "duration": 7,
    "start_time": "2021-12-06T09:14:05.582Z"
   },
   {
    "duration": 7,
    "start_time": "2021-12-06T09:14:07.717Z"
   },
   {
    "duration": 11,
    "start_time": "2021-12-06T09:14:11.037Z"
   },
   {
    "duration": 48,
    "start_time": "2021-12-06T09:14:21.557Z"
   },
   {
    "duration": 47,
    "start_time": "2021-12-06T09:17:37.571Z"
   },
   {
    "duration": 24,
    "start_time": "2021-12-06T09:17:38.492Z"
   },
   {
    "duration": 18,
    "start_time": "2021-12-06T09:17:42.022Z"
   },
   {
    "duration": 20,
    "start_time": "2021-12-06T09:17:44.772Z"
   },
   {
    "duration": 25,
    "start_time": "2021-12-06T09:17:48.203Z"
   },
   {
    "duration": 10,
    "start_time": "2021-12-06T09:20:19.266Z"
   },
   {
    "duration": 10,
    "start_time": "2021-12-06T09:20:19.849Z"
   },
   {
    "duration": 10,
    "start_time": "2021-12-06T09:20:20.417Z"
   },
   {
    "duration": 11,
    "start_time": "2021-12-06T09:25:03.997Z"
   },
   {
    "duration": 11,
    "start_time": "2021-12-06T09:25:04.478Z"
   },
   {
    "duration": 11,
    "start_time": "2021-12-06T09:25:05.021Z"
   },
   {
    "duration": 4,
    "start_time": "2021-12-06T09:25:05.534Z"
   },
   {
    "duration": 9,
    "start_time": "2021-12-06T09:25:06.238Z"
   },
   {
    "duration": 9,
    "start_time": "2021-12-06T09:30:48.897Z"
   },
   {
    "duration": 8,
    "start_time": "2021-12-06T09:32:12.495Z"
   },
   {
    "duration": 26,
    "start_time": "2021-12-06T09:32:13.753Z"
   },
   {
    "duration": 9,
    "start_time": "2021-12-06T09:38:12.040Z"
   },
   {
    "duration": 3,
    "start_time": "2021-12-06T09:38:12.920Z"
   },
   {
    "duration": 7,
    "start_time": "2021-12-06T09:38:14.545Z"
   },
   {
    "duration": 4,
    "start_time": "2021-12-06T09:38:57.456Z"
   },
   {
    "duration": 9,
    "start_time": "2021-12-06T09:40:10.774Z"
   },
   {
    "duration": 4,
    "start_time": "2021-12-06T09:40:11.438Z"
   },
   {
    "duration": 5,
    "start_time": "2021-12-06T09:40:49.158Z"
   },
   {
    "duration": 40,
    "start_time": "2021-12-06T09:41:40.917Z"
   },
   {
    "duration": 550,
    "start_time": "2021-12-06T19:09:20.410Z"
   },
   {
    "duration": 134,
    "start_time": "2021-12-06T19:09:20.961Z"
   },
   {
    "duration": 108,
    "start_time": "2021-12-06T19:09:21.097Z"
   },
   {
    "duration": 75,
    "start_time": "2021-12-06T19:09:21.207Z"
   },
   {
    "duration": 16,
    "start_time": "2021-12-06T19:09:21.283Z"
   },
   {
    "duration": 36,
    "start_time": "2021-12-06T19:09:21.301Z"
   },
   {
    "duration": 15,
    "start_time": "2021-12-06T19:09:21.338Z"
   },
   {
    "duration": 10,
    "start_time": "2021-12-06T19:09:21.355Z"
   },
   {
    "duration": 11,
    "start_time": "2021-12-06T19:09:21.367Z"
   },
   {
    "duration": 8,
    "start_time": "2021-12-06T19:09:21.379Z"
   },
   {
    "duration": 12,
    "start_time": "2021-12-06T19:09:21.388Z"
   },
   {
    "duration": 19,
    "start_time": "2021-12-06T19:09:21.402Z"
   },
   {
    "duration": 14,
    "start_time": "2021-12-06T19:09:21.423Z"
   },
   {
    "duration": 12,
    "start_time": "2021-12-06T19:09:21.438Z"
   },
   {
    "duration": 4,
    "start_time": "2021-12-06T19:09:21.451Z"
   },
   {
    "duration": 102,
    "start_time": "2021-12-06T19:09:21.456Z"
   },
   {
    "duration": 53,
    "start_time": "2021-12-06T19:09:21.560Z"
   },
   {
    "duration": 35,
    "start_time": "2021-12-06T19:09:21.614Z"
   },
   {
    "duration": 7,
    "start_time": "2021-12-06T19:09:21.650Z"
   },
   {
    "duration": 38,
    "start_time": "2021-12-06T19:09:21.658Z"
   },
   {
    "duration": 48,
    "start_time": "2021-12-06T19:09:21.697Z"
   },
   {
    "duration": 15,
    "start_time": "2021-12-06T19:09:21.747Z"
   },
   {
    "duration": 53,
    "start_time": "2021-12-06T19:09:21.766Z"
   },
   {
    "duration": 12,
    "start_time": "2021-12-06T19:09:21.821Z"
   },
   {
    "duration": 32,
    "start_time": "2021-12-06T19:09:21.835Z"
   },
   {
    "duration": 21,
    "start_time": "2021-12-06T19:09:21.868Z"
   },
   {
    "duration": 6,
    "start_time": "2021-12-06T19:09:21.891Z"
   },
   {
    "duration": 16,
    "start_time": "2021-12-06T19:09:21.898Z"
   },
   {
    "duration": 63,
    "start_time": "2021-12-06T19:09:21.915Z"
   },
   {
    "duration": 25,
    "start_time": "2021-12-06T19:09:21.980Z"
   },
   {
    "duration": 18,
    "start_time": "2021-12-06T19:09:22.007Z"
   },
   {
    "duration": 17,
    "start_time": "2021-12-06T19:09:22.026Z"
   },
   {
    "duration": 21,
    "start_time": "2021-12-06T19:09:22.045Z"
   },
   {
    "duration": 26,
    "start_time": "2021-12-06T19:09:22.067Z"
   },
   {
    "duration": 8,
    "start_time": "2021-12-06T19:09:22.094Z"
   },
   {
    "duration": 8,
    "start_time": "2021-12-06T19:09:22.104Z"
   },
   {
    "duration": 2,
    "start_time": "2021-12-06T19:09:22.113Z"
   },
   {
    "duration": 8,
    "start_time": "2021-12-06T19:09:22.117Z"
   },
   {
    "duration": 9,
    "start_time": "2021-12-06T19:09:22.126Z"
   },
   {
    "duration": 6,
    "start_time": "2021-12-06T19:09:22.137Z"
   },
   {
    "duration": 50,
    "start_time": "2021-12-06T19:09:22.144Z"
   },
   {
    "duration": 7,
    "start_time": "2021-12-06T19:09:22.195Z"
   },
   {
    "duration": 2,
    "start_time": "2021-12-06T19:09:22.204Z"
   },
   {
    "duration": 8,
    "start_time": "2021-12-06T19:09:22.208Z"
   },
   {
    "duration": 3,
    "start_time": "2021-12-06T19:09:22.217Z"
   },
   {
    "duration": 8,
    "start_time": "2021-12-06T19:09:22.221Z"
   },
   {
    "duration": 2,
    "start_time": "2021-12-06T19:09:22.231Z"
   },
   {
    "duration": 7,
    "start_time": "2021-12-06T19:09:22.235Z"
   },
   {
    "duration": 50,
    "start_time": "2021-12-06T19:09:22.243Z"
   },
   {
    "duration": 11,
    "start_time": "2021-12-06T19:09:22.295Z"
   },
   {
    "duration": 11,
    "start_time": "2021-12-06T19:09:22.308Z"
   },
   {
    "duration": 8,
    "start_time": "2021-12-06T19:09:22.320Z"
   },
   {
    "duration": 431,
    "start_time": "2021-12-06T19:09:22.329Z"
   },
   {
    "duration": 9,
    "start_time": "2021-12-06T19:09:22.761Z"
   },
   {
    "duration": 400,
    "start_time": "2021-12-06T19:09:22.772Z"
   },
   {
    "duration": 20,
    "start_time": "2021-12-06T19:09:23.174Z"
   },
   {
    "duration": 359,
    "start_time": "2021-12-06T19:09:23.196Z"
   },
   {
    "duration": 11,
    "start_time": "2021-12-06T19:09:23.557Z"
   },
   {
    "duration": 357,
    "start_time": "2021-12-06T19:09:23.570Z"
   },
   {
    "duration": 12,
    "start_time": "2021-12-06T19:09:23.928Z"
   },
   {
    "duration": 362,
    "start_time": "2021-12-06T19:09:23.942Z"
   },
   {
    "duration": 12,
    "start_time": "2021-12-06T19:09:24.306Z"
   },
   {
    "duration": 370,
    "start_time": "2021-12-06T19:09:24.320Z"
   },
   {
    "duration": 383,
    "start_time": "2021-12-06T19:09:24.692Z"
   },
   {
    "duration": 3,
    "start_time": "2021-12-06T19:09:25.076Z"
   },
   {
    "duration": 16,
    "start_time": "2021-12-06T19:09:25.080Z"
   },
   {
    "duration": 12,
    "start_time": "2021-12-06T19:09:25.098Z"
   },
   {
    "duration": 6,
    "start_time": "2021-12-06T19:09:25.113Z"
   },
   {
    "duration": 6,
    "start_time": "2021-12-06T19:09:25.121Z"
   },
   {
    "duration": 5,
    "start_time": "2021-12-06T19:09:25.128Z"
   },
   {
    "duration": 5,
    "start_time": "2021-12-06T19:09:25.134Z"
   },
   {
    "duration": 7,
    "start_time": "2021-12-06T19:09:25.141Z"
   },
   {
    "duration": 9,
    "start_time": "2021-12-06T19:09:25.149Z"
   },
   {
    "duration": 5,
    "start_time": "2021-12-06T19:09:25.159Z"
   },
   {
    "duration": 7,
    "start_time": "2021-12-06T19:09:25.165Z"
   },
   {
    "duration": 17,
    "start_time": "2021-12-06T19:09:25.173Z"
   },
   {
    "duration": 6,
    "start_time": "2021-12-06T19:09:25.192Z"
   },
   {
    "duration": 10,
    "start_time": "2021-12-06T19:11:41.393Z"
   },
   {
    "duration": 12,
    "start_time": "2021-12-06T19:12:23.780Z"
   },
   {
    "duration": 127,
    "start_time": "2021-12-06T19:12:47.441Z"
   },
   {
    "duration": 6,
    "start_time": "2021-12-06T19:12:54.270Z"
   },
   {
    "duration": 6,
    "start_time": "2021-12-06T19:13:00.738Z"
   },
   {
    "duration": 18,
    "start_time": "2021-12-06T19:15:21.349Z"
   },
   {
    "duration": 341,
    "start_time": "2021-12-06T19:17:13.726Z"
   },
   {
    "duration": 672,
    "start_time": "2021-12-06T19:17:24.148Z"
   },
   {
    "duration": 600,
    "start_time": "2021-12-06T19:17:38.829Z"
   },
   {
    "duration": 283,
    "start_time": "2021-12-06T19:17:52.261Z"
   },
   {
    "duration": 678,
    "start_time": "2021-12-06T19:18:15.503Z"
   },
   {
    "duration": 225,
    "start_time": "2021-12-06T19:18:23.134Z"
   },
   {
    "duration": 237,
    "start_time": "2021-12-06T19:18:31.672Z"
   },
   {
    "duration": 651,
    "start_time": "2021-12-06T19:19:08.449Z"
   },
   {
    "duration": 743,
    "start_time": "2021-12-06T19:19:24.910Z"
   },
   {
    "duration": 589,
    "start_time": "2021-12-06T19:20:00.608Z"
   },
   {
    "duration": 551,
    "start_time": "2021-12-06T19:20:06.279Z"
   },
   {
    "duration": 328,
    "start_time": "2021-12-06T19:20:32.659Z"
   },
   {
    "duration": 327,
    "start_time": "2021-12-07T01:25:29.060Z"
   },
   {
    "duration": 750,
    "start_time": "2021-12-07T01:25:54.425Z"
   },
   {
    "duration": 212,
    "start_time": "2021-12-07T01:25:55.269Z"
   },
   {
    "duration": 174,
    "start_time": "2021-12-07T01:25:56.196Z"
   },
   {
    "duration": 116,
    "start_time": "2021-12-07T01:25:56.860Z"
   },
   {
    "duration": 18,
    "start_time": "2021-12-07T01:25:57.493Z"
   },
   {
    "duration": 61,
    "start_time": "2021-12-07T01:25:58.052Z"
   },
   {
    "duration": 29,
    "start_time": "2021-12-07T01:26:04.573Z"
   },
   {
    "duration": 21,
    "start_time": "2021-12-07T01:26:08.445Z"
   },
   {
    "duration": 16,
    "start_time": "2021-12-07T01:26:12.140Z"
   },
   {
    "duration": 11,
    "start_time": "2021-12-07T01:26:15.709Z"
   },
   {
    "duration": 20,
    "start_time": "2021-12-07T01:26:18.188Z"
   },
   {
    "duration": 27,
    "start_time": "2021-12-07T01:26:28.836Z"
   },
   {
    "duration": 22,
    "start_time": "2021-12-07T01:26:29.988Z"
   },
   {
    "duration": 19,
    "start_time": "2021-12-07T01:26:30.676Z"
   },
   {
    "duration": 9,
    "start_time": "2021-12-07T01:26:33.628Z"
   },
   {
    "duration": 139,
    "start_time": "2021-12-07T01:26:37.020Z"
   },
   {
    "duration": 109,
    "start_time": "2021-12-07T01:26:37.572Z"
   },
   {
    "duration": 62,
    "start_time": "2021-12-07T01:26:40.219Z"
   },
   {
    "duration": 11,
    "start_time": "2021-12-07T01:26:40.860Z"
   },
   {
    "duration": 28,
    "start_time": "2021-12-07T01:26:49.371Z"
   },
   {
    "duration": 85,
    "start_time": "2021-12-07T01:26:53.316Z"
   },
   {
    "duration": 18,
    "start_time": "2021-12-07T01:27:03.931Z"
   },
   {
    "duration": 18,
    "start_time": "2021-12-07T01:27:30.515Z"
   },
   {
    "duration": 18,
    "start_time": "2021-12-07T01:28:40.744Z"
   },
   {
    "duration": 18,
    "start_time": "2021-12-07T01:38:17.877Z"
   },
   {
    "duration": 17,
    "start_time": "2021-12-07T01:38:33.220Z"
   },
   {
    "duration": 18,
    "start_time": "2021-12-07T01:38:53.635Z"
   },
   {
    "duration": 20,
    "start_time": "2021-12-07T01:39:13.658Z"
   },
   {
    "duration": 4,
    "start_time": "2021-12-07T01:40:58.217Z"
   },
   {
    "duration": 305,
    "start_time": "2021-12-07T01:41:03.712Z"
   },
   {
    "duration": 177,
    "start_time": "2021-12-07T01:41:05.352Z"
   },
   {
    "duration": 127,
    "start_time": "2021-12-07T01:41:05.944Z"
   },
   {
    "duration": 17,
    "start_time": "2021-12-07T01:41:06.552Z"
   },
   {
    "duration": 44,
    "start_time": "2021-12-07T01:41:07.056Z"
   },
   {
    "duration": 15,
    "start_time": "2021-12-07T01:41:12.049Z"
   },
   {
    "duration": 15,
    "start_time": "2021-12-07T01:41:21.888Z"
   },
   {
    "duration": 20,
    "start_time": "2021-12-07T01:41:29.840Z"
   },
   {
    "duration": 14,
    "start_time": "2021-12-07T01:41:33.728Z"
   },
   {
    "duration": 15,
    "start_time": "2021-12-07T01:41:36.832Z"
   },
   {
    "duration": 19,
    "start_time": "2021-12-07T01:41:39.393Z"
   },
   {
    "duration": 42,
    "start_time": "2021-12-07T01:41:43.776Z"
   },
   {
    "duration": 34,
    "start_time": "2021-12-07T01:41:44.439Z"
   },
   {
    "duration": 28,
    "start_time": "2021-12-07T01:41:45.000Z"
   },
   {
    "duration": 10,
    "start_time": "2021-12-07T01:41:47.887Z"
   },
   {
    "duration": 176,
    "start_time": "2021-12-07T01:41:50.903Z"
   },
   {
    "duration": 138,
    "start_time": "2021-12-07T01:41:53.799Z"
   },
   {
    "duration": 64,
    "start_time": "2021-12-07T01:41:54.447Z"
   },
   {
    "duration": 11,
    "start_time": "2021-12-07T01:41:54.943Z"
   },
   {
    "duration": 29,
    "start_time": "2021-12-07T01:42:01.655Z"
   },
   {
    "duration": 15,
    "start_time": "2021-12-07T01:42:15.686Z"
   },
   {
    "duration": 18,
    "start_time": "2021-12-07T02:02:32.556Z"
   },
   {
    "duration": 5,
    "start_time": "2021-12-07T02:03:36.434Z"
   },
   {
    "duration": 17,
    "start_time": "2021-12-07T02:03:44.105Z"
   },
   {
    "duration": 6,
    "start_time": "2021-12-07T02:06:32.872Z"
   },
   {
    "duration": 16,
    "start_time": "2021-12-07T02:06:43.312Z"
   },
   {
    "duration": 15,
    "start_time": "2021-12-07T02:06:47.415Z"
   },
   {
    "duration": 5,
    "start_time": "2021-12-07T02:07:03.152Z"
   },
   {
    "duration": 16,
    "start_time": "2021-12-07T02:07:04.104Z"
   },
   {
    "duration": 205,
    "start_time": "2021-12-07T02:07:15.543Z"
   },
   {
    "duration": 16,
    "start_time": "2021-12-07T02:07:23.592Z"
   },
   {
    "duration": 6,
    "start_time": "2021-12-07T02:07:31.455Z"
   },
   {
    "duration": 16,
    "start_time": "2021-12-07T02:07:32.519Z"
   },
   {
    "duration": 17,
    "start_time": "2021-12-07T02:11:21.962Z"
   },
   {
    "duration": 215,
    "start_time": "2021-12-07T02:11:31.089Z"
   },
   {
    "duration": 18,
    "start_time": "2021-12-07T02:11:48.561Z"
   },
   {
    "duration": 571,
    "start_time": "2021-12-07T02:11:53.640Z"
   },
   {
    "duration": 332,
    "start_time": "2021-12-07T02:12:30.072Z"
   },
   {
    "duration": 268,
    "start_time": "2021-12-07T02:12:35.712Z"
   },
   {
    "duration": 290,
    "start_time": "2021-12-07T02:13:10.064Z"
   },
   {
    "duration": 260,
    "start_time": "2021-12-07T02:13:19.367Z"
   },
   {
    "duration": 5,
    "start_time": "2021-12-07T02:13:57.974Z"
   },
   {
    "duration": 271,
    "start_time": "2021-12-07T02:14:24.389Z"
   },
   {
    "duration": 270,
    "start_time": "2021-12-07T02:15:33.948Z"
   },
   {
    "duration": 100,
    "start_time": "2021-12-07T02:17:10.074Z"
   },
   {
    "duration": 104,
    "start_time": "2021-12-07T02:17:28.377Z"
   },
   {
    "duration": 91,
    "start_time": "2021-12-07T02:18:00.889Z"
   },
   {
    "duration": 15,
    "start_time": "2021-12-07T02:18:14.897Z"
   },
   {
    "duration": 82,
    "start_time": "2021-12-07T02:24:14.872Z"
   },
   {
    "duration": 19,
    "start_time": "2021-12-07T02:28:45.259Z"
   },
   {
    "duration": 72,
    "start_time": "2021-12-07T02:29:37.602Z"
   },
   {
    "duration": 21,
    "start_time": "2021-12-07T02:29:46.866Z"
   },
   {
    "duration": 60,
    "start_time": "2021-12-07T02:32:45.925Z"
   },
   {
    "duration": 59,
    "start_time": "2021-12-07T02:32:48.846Z"
   },
   {
    "duration": 79,
    "start_time": "2021-12-07T02:52:53.499Z"
   },
   {
    "duration": 16,
    "start_time": "2021-12-07T02:52:54.409Z"
   },
   {
    "duration": 17,
    "start_time": "2021-12-07T02:52:59.921Z"
   },
   {
    "duration": 58,
    "start_time": "2021-12-07T02:53:04.280Z"
   },
   {
    "duration": 11,
    "start_time": "2021-12-07T02:53:06.600Z"
   },
   {
    "duration": 19,
    "start_time": "2021-12-07T02:53:07.497Z"
   },
   {
    "duration": 51,
    "start_time": "2021-12-07T02:53:10.880Z"
   },
   {
    "duration": 8,
    "start_time": "2021-12-07T02:53:11.688Z"
   },
   {
    "duration": 12,
    "start_time": "2021-12-07T02:53:15.000Z"
   },
   {
    "duration": 13,
    "start_time": "2021-12-07T02:53:19.496Z"
   },
   {
    "duration": 17,
    "start_time": "2021-12-07T02:54:15.639Z"
   },
   {
    "duration": 11,
    "start_time": "2021-12-07T02:54:51.615Z"
   },
   {
    "duration": 978,
    "start_time": "2021-12-07T02:55:41.701Z"
   },
   {
    "duration": 18,
    "start_time": "2021-12-07T02:58:30.577Z"
   },
   {
    "duration": 18,
    "start_time": "2021-12-07T02:59:08.985Z"
   },
   {
    "duration": 10,
    "start_time": "2021-12-07T02:59:27.976Z"
   },
   {
    "duration": 4,
    "start_time": "2021-12-07T03:02:48.980Z"
   },
   {
    "duration": 5,
    "start_time": "2021-12-07T03:03:18.306Z"
   },
   {
    "duration": 8,
    "start_time": "2021-12-07T03:03:25.386Z"
   },
   {
    "duration": 7,
    "start_time": "2021-12-07T03:03:49.475Z"
   },
   {
    "duration": 17,
    "start_time": "2021-12-07T03:06:41.143Z"
   },
   {
    "duration": 93,
    "start_time": "2021-12-07T03:07:16.126Z"
   },
   {
    "duration": 40,
    "start_time": "2021-12-07T03:09:33.267Z"
   },
   {
    "duration": 11,
    "start_time": "2021-12-07T03:10:15.361Z"
   },
   {
    "duration": 12,
    "start_time": "2021-12-07T03:10:36.961Z"
   },
   {
    "duration": 4,
    "start_time": "2021-12-07T03:10:46.977Z"
   },
   {
    "duration": 11,
    "start_time": "2021-12-07T03:10:48.473Z"
   },
   {
    "duration": 16,
    "start_time": "2021-12-07T03:12:06.679Z"
   },
   {
    "duration": 9,
    "start_time": "2021-12-07T03:12:34.823Z"
   },
   {
    "duration": 16,
    "start_time": "2021-12-07T03:12:56.926Z"
   },
   {
    "duration": 5,
    "start_time": "2021-12-07T03:13:28.294Z"
   },
   {
    "duration": 10,
    "start_time": "2021-12-07T03:31:02.250Z"
   },
   {
    "duration": 180,
    "start_time": "2021-12-07T03:35:14.319Z"
   },
   {
    "duration": 77,
    "start_time": "2021-12-07T03:35:25.015Z"
   },
   {
    "duration": 75,
    "start_time": "2021-12-07T03:35:42.767Z"
   },
   {
    "duration": 25,
    "start_time": "2021-12-07T03:36:29.775Z"
   },
   {
    "duration": 4,
    "start_time": "2021-12-07T03:43:33.135Z"
   },
   {
    "duration": 275,
    "start_time": "2021-12-07T03:43:44.007Z"
   },
   {
    "duration": 3,
    "start_time": "2021-12-07T03:44:12.505Z"
   },
   {
    "duration": 197,
    "start_time": "2021-12-07T03:44:13.022Z"
   },
   {
    "duration": 170,
    "start_time": "2021-12-07T03:44:13.518Z"
   },
   {
    "duration": 110,
    "start_time": "2021-12-07T03:44:14.031Z"
   },
   {
    "duration": 17,
    "start_time": "2021-12-07T03:44:14.542Z"
   },
   {
    "duration": 60,
    "start_time": "2021-12-07T03:44:15.166Z"
   },
   {
    "duration": 17,
    "start_time": "2021-12-07T03:44:17.135Z"
   },
   {
    "duration": 20,
    "start_time": "2021-12-07T03:44:18.343Z"
   },
   {
    "duration": 14,
    "start_time": "2021-12-07T03:44:23.716Z"
   },
   {
    "duration": 12,
    "start_time": "2021-12-07T03:44:23.967Z"
   },
   {
    "duration": 20,
    "start_time": "2021-12-07T03:44:27.327Z"
   },
   {
    "duration": 26,
    "start_time": "2021-12-07T03:44:29.295Z"
   },
   {
    "duration": 22,
    "start_time": "2021-12-07T03:44:29.998Z"
   },
   {
    "duration": 19,
    "start_time": "2021-12-07T03:44:32.486Z"
   },
   {
    "duration": 9,
    "start_time": "2021-12-07T03:44:33.222Z"
   },
   {
    "duration": 128,
    "start_time": "2021-12-07T03:44:37.134Z"
   },
   {
    "duration": 104,
    "start_time": "2021-12-07T03:44:37.590Z"
   },
   {
    "duration": 64,
    "start_time": "2021-12-07T03:44:38.182Z"
   },
   {
    "duration": 11,
    "start_time": "2021-12-07T03:44:38.694Z"
   },
   {
    "duration": 27,
    "start_time": "2021-12-07T03:44:43.927Z"
   },
   {
    "duration": 94,
    "start_time": "2021-12-07T03:44:49.582Z"
   },
   {
    "duration": 76,
    "start_time": "2021-12-07T03:44:50.055Z"
   },
   {
    "duration": 24,
    "start_time": "2021-12-07T03:44:53.694Z"
   },
   {
    "duration": 68,
    "start_time": "2021-12-07T03:44:58.469Z"
   },
   {
    "duration": 59,
    "start_time": "2021-12-07T03:44:59.590Z"
   },
   {
    "duration": 20,
    "start_time": "2021-12-07T03:45:04.014Z"
   },
   {
    "duration": 47,
    "start_time": "2021-12-07T03:45:08.527Z"
   },
   {
    "duration": 9,
    "start_time": "2021-12-07T03:45:16.933Z"
   },
   {
    "duration": 9,
    "start_time": "2021-12-07T03:45:18.797Z"
   },
   {
    "duration": 13,
    "start_time": "2021-12-07T03:45:22.261Z"
   },
   {
    "duration": 48,
    "start_time": "2021-12-07T03:45:28.117Z"
   },
   {
    "duration": 35,
    "start_time": "2021-12-07T03:46:02.893Z"
   },
   {
    "duration": 5,
    "start_time": "2021-12-07T03:46:08.757Z"
   },
   {
    "duration": 71,
    "start_time": "2021-12-07T03:46:13.108Z"
   },
   {
    "duration": 35,
    "start_time": "2021-12-07T03:46:13.885Z"
   },
   {
    "duration": 26,
    "start_time": "2021-12-07T03:46:18.477Z"
   },
   {
    "duration": 31,
    "start_time": "2021-12-07T03:46:21.557Z"
   },
   {
    "duration": 37,
    "start_time": "2021-12-07T03:46:23.008Z"
   },
   {
    "duration": 16,
    "start_time": "2021-12-07T03:46:25.748Z"
   },
   {
    "duration": 16,
    "start_time": "2021-12-07T03:46:26.516Z"
   },
   {
    "duration": 16,
    "start_time": "2021-12-07T03:46:26.980Z"
   },
   {
    "duration": 5,
    "start_time": "2021-12-07T03:46:29.869Z"
   },
   {
    "duration": 12,
    "start_time": "2021-12-07T03:46:30.357Z"
   },
   {
    "duration": 16,
    "start_time": "2021-12-07T03:46:32.733Z"
   },
   {
    "duration": 12,
    "start_time": "2021-12-07T03:46:33.205Z"
   },
   {
    "duration": 43,
    "start_time": "2021-12-07T03:46:33.677Z"
   },
   {
    "duration": 13,
    "start_time": "2021-12-07T03:46:37.340Z"
   },
   {
    "duration": 4,
    "start_time": "2021-12-07T03:46:37.917Z"
   },
   {
    "duration": 10,
    "start_time": "2021-12-07T03:46:38.493Z"
   },
   {
    "duration": 4,
    "start_time": "2021-12-07T03:46:41.164Z"
   },
   {
    "duration": 14,
    "start_time": "2021-12-07T03:46:41.604Z"
   },
   {
    "duration": 6,
    "start_time": "2021-12-07T03:46:42.053Z"
   },
   {
    "duration": 6,
    "start_time": "2021-12-07T03:46:42.484Z"
   },
   {
    "duration": 47,
    "start_time": "2021-12-07T03:46:44.453Z"
   },
   {
    "duration": 4,
    "start_time": "2021-12-07T03:46:50.164Z"
   },
   {
    "duration": 50,
    "start_time": "2021-12-07T03:46:51.060Z"
   },
   {
    "duration": 3,
    "start_time": "2021-12-07T03:47:50.524Z"
   },
   {
    "duration": 50,
    "start_time": "2021-12-07T03:47:51.413Z"
   },
   {
    "duration": 21,
    "start_time": "2021-12-07T03:48:07.780Z"
   },
   {
    "duration": 20,
    "start_time": "2021-12-07T03:48:11.284Z"
   },
   {
    "duration": 14,
    "start_time": "2021-12-07T03:48:12.124Z"
   },
   {
    "duration": 767,
    "start_time": "2021-12-07T03:48:15.548Z"
   },
   {
    "duration": 14,
    "start_time": "2021-12-07T03:48:17.356Z"
   },
   {
    "duration": 675,
    "start_time": "2021-12-07T03:48:20.837Z"
   },
   {
    "duration": 888,
    "start_time": "2021-12-07T03:48:46.979Z"
   },
   {
    "duration": 890,
    "start_time": "2021-12-07T03:49:20.283Z"
   },
   {
    "duration": 21,
    "start_time": "2021-12-07T03:49:25.669Z"
   },
   {
    "duration": 915,
    "start_time": "2021-12-07T03:50:05.187Z"
   },
   {
    "duration": 1001,
    "start_time": "2021-12-07T03:50:30.018Z"
   },
   {
    "duration": 20,
    "start_time": "2021-12-07T03:50:33.723Z"
   },
   {
    "duration": 874,
    "start_time": "2021-12-07T03:50:47.466Z"
   },
   {
    "duration": 20,
    "start_time": "2021-12-07T03:50:51.299Z"
   },
   {
    "duration": 945,
    "start_time": "2021-12-07T03:50:57.323Z"
   },
   {
    "duration": 21,
    "start_time": "2021-12-07T03:51:01.290Z"
   },
   {
    "duration": 920,
    "start_time": "2021-12-07T03:51:07.522Z"
   },
   {
    "duration": 573,
    "start_time": "2021-12-07T03:51:37.617Z"
   },
   {
    "duration": 3,
    "start_time": "2021-12-07T03:51:38.233Z"
   },
   {
    "duration": 10,
    "start_time": "2021-12-07T03:51:38.905Z"
   },
   {
    "duration": 5,
    "start_time": "2021-12-07T03:51:39.498Z"
   },
   {
    "duration": 5,
    "start_time": "2021-12-07T03:51:52.721Z"
   },
   {
    "duration": 9,
    "start_time": "2021-12-07T03:52:00.818Z"
   },
   {
    "duration": 8,
    "start_time": "2021-12-07T03:52:04.736Z"
   },
   {
    "duration": 4,
    "start_time": "2021-12-07T03:52:33.648Z"
   },
   {
    "duration": 4,
    "start_time": "2021-12-07T03:52:34.152Z"
   },
   {
    "duration": 9,
    "start_time": "2021-12-07T03:52:36.536Z"
   },
   {
    "duration": 4,
    "start_time": "2021-12-07T03:52:38.145Z"
   },
   {
    "duration": 5,
    "start_time": "2021-12-07T03:52:43.808Z"
   },
   {
    "duration": 11,
    "start_time": "2021-12-07T03:52:50.872Z"
   },
   {
    "duration": 9,
    "start_time": "2021-12-07T03:52:52.456Z"
   }
  ],
  "kernelspec": {
   "display_name": "Python 3 (ipykernel)",
   "language": "python",
   "name": "python3"
  },
  "language_info": {
   "codemirror_mode": {
    "name": "ipython",
    "version": 3
   },
   "file_extension": ".py",
   "mimetype": "text/x-python",
   "name": "python",
   "nbconvert_exporter": "python",
   "pygments_lexer": "ipython3",
   "version": "3.11.0"
  },
  "toc": {
   "base_numbering": 1,
   "nav_menu": {},
   "number_sections": true,
   "sideBar": true,
   "skip_h1_title": true,
   "title_cell": "Table of Contents",
   "title_sidebar": "Contents",
   "toc_cell": false,
   "toc_position": {},
   "toc_section_display": true,
   "toc_window_display": false
  }
 },
 "nbformat": 4,
 "nbformat_minor": 4
}
