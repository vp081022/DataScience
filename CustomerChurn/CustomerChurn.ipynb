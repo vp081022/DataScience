{
 "cells": [
  {
   "cell_type": "markdown",
   "metadata": {},
   "source": [
    "# Прогнозирование оттока клиентов"
   ]
  },
  {
   "cell_type": "markdown",
   "metadata": {},
   "source": [
    "### Описание задачи"
   ]
  },
  {
   "cell_type": "markdown",
   "metadata": {},
   "source": [
    "Имеются данные об ушедших и оставшихся клиентах банка. По этим данным требуется спрогнозировать, уйдет клиент из банка в ближайшее время или останется. Качество модели машинного обучения оценивается с помощью *F1*-меры и *AUC-ROC*. "
   ]
  },
  {
   "cell_type": "markdown",
   "metadata": {},
   "source": [
    "### План работы"
   ]
  },
  {
   "cell_type": "markdown",
   "metadata": {},
   "source": [
    "1. Загрузка и подготовка данных\n",
    "    1. Выполнение обзора данных\n",
    "    1. Выполнение предобработки данных\n",
    "2. Решение без учета дисбаланса классов\n",
    "    2. Исследование баланса классов\n",
    "    2. Обучение модели логистической регрессии\n",
    "    2. Обучение модели решающего дерева\n",
    "    2. Обучение модели случайного леса\n",
    "3. Решение с учетом дисбаланса классов\n",
    "    3. Устранение дисбаланса и обучение модели логистической регрессии\n",
    "    3. Устранение дисбаланса и обучение модели решающего дерева\n",
    "    3. Устранение дисбаланса и обучение модели случайного леса\n",
    "    3. Сравнение моделей по метрикам *F1* и *AUC-ROC*\n",
    "4. Тестирование моделей\n",
    "    4. Тестирование модели логистической регрессии\n",
    "    4. Тестирование модели решающего дерева\n",
    "    4. Тестирование модели случайного леса\n",
    "5. Вывод: сравнение результатов тестирования и выявление лучшей модели."
   ]
  },
  {
   "cell_type": "markdown",
   "metadata": {},
   "source": [
    "### Описание данных"
   ]
  },
  {
   "cell_type": "markdown",
   "metadata": {},
   "source": [
    "#### Признаки"
   ]
  },
  {
   "cell_type": "markdown",
   "metadata": {},
   "source": [
    "* `RowNumber` — индекс строки\n",
    "* `CustomerId` — идентификатор клиента\n",
    "* `Surname` — фамилия\n",
    "* `CreditScore` — кредитный рейтинг\n",
    "* `Geography` — страна проживания\n",
    "* `Gender` — пол\n",
    "* `Age` — возраст\n",
    "* `Tenure` — сколько лет человек является клиентом банка\n",
    "* `Balance` — баланс на счёте\n",
    "* `NumOfProducts` — количество продуктов банка, используемых клиентом\n",
    "* `HasCrCard` — наличие кредитной карты\n",
    "* `IsActiveMember` — активность клиента\n",
    "* `EstimatedSalary` — предполагаемая зарплата"
   ]
  },
  {
   "cell_type": "markdown",
   "metadata": {},
   "source": [
    "#### Целевой признак"
   ]
  },
  {
   "cell_type": "markdown",
   "metadata": {},
   "source": [
    "* `Exited` — факт ухода клиента"
   ]
  },
  {
   "cell_type": "markdown",
   "metadata": {},
   "source": [
    "## Обзор и подготовка данных"
   ]
  },
  {
   "cell_type": "markdown",
   "metadata": {},
   "source": [
    "Обзор и подготовка данных будет включать в себя загрузку, заполнение пропусков, масштабирование и кодирование."
   ]
  },
  {
   "cell_type": "code",
   "execution_count": 1,
   "metadata": {},
   "outputs": [],
   "source": [
    "#Импорт необходимых библиотек и функций\n",
    "\n",
    "import pandas as pd\n",
    "import numpy as np\n",
    "\n",
    "from sklearn.tree import DecisionTreeClassifier\n",
    "from sklearn.ensemble import RandomForestClassifier \n",
    "from sklearn.linear_model import LogisticRegression\n",
    "\n",
    "from sklearn.model_selection import train_test_split\n",
    "from sklearn.utils import shuffle\n",
    "\n",
    "from sklearn.preprocessing import OrdinalEncoder\n",
    "from sklearn.preprocessing import StandardScaler \n",
    "\n",
    "from sklearn.metrics import f1_score\n",
    "from sklearn.metrics import precision_score, recall_score\n",
    "from sklearn.metrics import roc_auc_score"
   ]
  },
  {
   "cell_type": "code",
   "execution_count": 2,
   "metadata": {},
   "outputs": [],
   "source": [
    "#Загрузка данных\n",
    "data = pd.read_csv('C:/Users/datasets/customer_churn.csv')"
   ]
  },
  {
   "cell_type": "code",
   "execution_count": 3,
   "metadata": {},
   "outputs": [
    {
     "data": {
      "text/html": [
       "<div>\n",
       "<style scoped>\n",
       "    .dataframe tbody tr th:only-of-type {\n",
       "        vertical-align: middle;\n",
       "    }\n",
       "\n",
       "    .dataframe tbody tr th {\n",
       "        vertical-align: top;\n",
       "    }\n",
       "\n",
       "    .dataframe thead th {\n",
       "        text-align: right;\n",
       "    }\n",
       "</style>\n",
       "<table border=\"1\" class=\"dataframe\">\n",
       "  <thead>\n",
       "    <tr style=\"text-align: right;\">\n",
       "      <th></th>\n",
       "      <th>RowNumber</th>\n",
       "      <th>CustomerId</th>\n",
       "      <th>Surname</th>\n",
       "      <th>CreditScore</th>\n",
       "      <th>Geography</th>\n",
       "      <th>Gender</th>\n",
       "      <th>Age</th>\n",
       "      <th>Tenure</th>\n",
       "      <th>Balance</th>\n",
       "      <th>NumOfProducts</th>\n",
       "      <th>HasCrCard</th>\n",
       "      <th>IsActiveMember</th>\n",
       "      <th>EstimatedSalary</th>\n",
       "      <th>Exited</th>\n",
       "    </tr>\n",
       "  </thead>\n",
       "  <tbody>\n",
       "    <tr>\n",
       "      <td>0</td>\n",
       "      <td>1</td>\n",
       "      <td>15634602</td>\n",
       "      <td>Hargrave</td>\n",
       "      <td>619</td>\n",
       "      <td>France</td>\n",
       "      <td>Female</td>\n",
       "      <td>42</td>\n",
       "      <td>2.0</td>\n",
       "      <td>0.00</td>\n",
       "      <td>1</td>\n",
       "      <td>1</td>\n",
       "      <td>1</td>\n",
       "      <td>101348.88</td>\n",
       "      <td>1</td>\n",
       "    </tr>\n",
       "    <tr>\n",
       "      <td>1</td>\n",
       "      <td>2</td>\n",
       "      <td>15647311</td>\n",
       "      <td>Hill</td>\n",
       "      <td>608</td>\n",
       "      <td>Spain</td>\n",
       "      <td>Female</td>\n",
       "      <td>41</td>\n",
       "      <td>1.0</td>\n",
       "      <td>83807.86</td>\n",
       "      <td>1</td>\n",
       "      <td>0</td>\n",
       "      <td>1</td>\n",
       "      <td>112542.58</td>\n",
       "      <td>0</td>\n",
       "    </tr>\n",
       "    <tr>\n",
       "      <td>2</td>\n",
       "      <td>3</td>\n",
       "      <td>15619304</td>\n",
       "      <td>Onio</td>\n",
       "      <td>502</td>\n",
       "      <td>France</td>\n",
       "      <td>Female</td>\n",
       "      <td>42</td>\n",
       "      <td>8.0</td>\n",
       "      <td>159660.80</td>\n",
       "      <td>3</td>\n",
       "      <td>1</td>\n",
       "      <td>0</td>\n",
       "      <td>113931.57</td>\n",
       "      <td>1</td>\n",
       "    </tr>\n",
       "    <tr>\n",
       "      <td>3</td>\n",
       "      <td>4</td>\n",
       "      <td>15701354</td>\n",
       "      <td>Boni</td>\n",
       "      <td>699</td>\n",
       "      <td>France</td>\n",
       "      <td>Female</td>\n",
       "      <td>39</td>\n",
       "      <td>1.0</td>\n",
       "      <td>0.00</td>\n",
       "      <td>2</td>\n",
       "      <td>0</td>\n",
       "      <td>0</td>\n",
       "      <td>93826.63</td>\n",
       "      <td>0</td>\n",
       "    </tr>\n",
       "    <tr>\n",
       "      <td>4</td>\n",
       "      <td>5</td>\n",
       "      <td>15737888</td>\n",
       "      <td>Mitchell</td>\n",
       "      <td>850</td>\n",
       "      <td>Spain</td>\n",
       "      <td>Female</td>\n",
       "      <td>43</td>\n",
       "      <td>2.0</td>\n",
       "      <td>125510.82</td>\n",
       "      <td>1</td>\n",
       "      <td>1</td>\n",
       "      <td>1</td>\n",
       "      <td>79084.10</td>\n",
       "      <td>0</td>\n",
       "    </tr>\n",
       "    <tr>\n",
       "      <td>...</td>\n",
       "      <td>...</td>\n",
       "      <td>...</td>\n",
       "      <td>...</td>\n",
       "      <td>...</td>\n",
       "      <td>...</td>\n",
       "      <td>...</td>\n",
       "      <td>...</td>\n",
       "      <td>...</td>\n",
       "      <td>...</td>\n",
       "      <td>...</td>\n",
       "      <td>...</td>\n",
       "      <td>...</td>\n",
       "      <td>...</td>\n",
       "      <td>...</td>\n",
       "    </tr>\n",
       "    <tr>\n",
       "      <td>9995</td>\n",
       "      <td>9996</td>\n",
       "      <td>15606229</td>\n",
       "      <td>Obijiaku</td>\n",
       "      <td>771</td>\n",
       "      <td>France</td>\n",
       "      <td>Male</td>\n",
       "      <td>39</td>\n",
       "      <td>5.0</td>\n",
       "      <td>0.00</td>\n",
       "      <td>2</td>\n",
       "      <td>1</td>\n",
       "      <td>0</td>\n",
       "      <td>96270.64</td>\n",
       "      <td>0</td>\n",
       "    </tr>\n",
       "    <tr>\n",
       "      <td>9996</td>\n",
       "      <td>9997</td>\n",
       "      <td>15569892</td>\n",
       "      <td>Johnstone</td>\n",
       "      <td>516</td>\n",
       "      <td>France</td>\n",
       "      <td>Male</td>\n",
       "      <td>35</td>\n",
       "      <td>10.0</td>\n",
       "      <td>57369.61</td>\n",
       "      <td>1</td>\n",
       "      <td>1</td>\n",
       "      <td>1</td>\n",
       "      <td>101699.77</td>\n",
       "      <td>0</td>\n",
       "    </tr>\n",
       "    <tr>\n",
       "      <td>9997</td>\n",
       "      <td>9998</td>\n",
       "      <td>15584532</td>\n",
       "      <td>Liu</td>\n",
       "      <td>709</td>\n",
       "      <td>France</td>\n",
       "      <td>Female</td>\n",
       "      <td>36</td>\n",
       "      <td>7.0</td>\n",
       "      <td>0.00</td>\n",
       "      <td>1</td>\n",
       "      <td>0</td>\n",
       "      <td>1</td>\n",
       "      <td>42085.58</td>\n",
       "      <td>1</td>\n",
       "    </tr>\n",
       "    <tr>\n",
       "      <td>9998</td>\n",
       "      <td>9999</td>\n",
       "      <td>15682355</td>\n",
       "      <td>Sabbatini</td>\n",
       "      <td>772</td>\n",
       "      <td>Germany</td>\n",
       "      <td>Male</td>\n",
       "      <td>42</td>\n",
       "      <td>3.0</td>\n",
       "      <td>75075.31</td>\n",
       "      <td>2</td>\n",
       "      <td>1</td>\n",
       "      <td>0</td>\n",
       "      <td>92888.52</td>\n",
       "      <td>1</td>\n",
       "    </tr>\n",
       "    <tr>\n",
       "      <td>9999</td>\n",
       "      <td>10000</td>\n",
       "      <td>15628319</td>\n",
       "      <td>Walker</td>\n",
       "      <td>792</td>\n",
       "      <td>France</td>\n",
       "      <td>Female</td>\n",
       "      <td>28</td>\n",
       "      <td>NaN</td>\n",
       "      <td>130142.79</td>\n",
       "      <td>1</td>\n",
       "      <td>1</td>\n",
       "      <td>0</td>\n",
       "      <td>38190.78</td>\n",
       "      <td>0</td>\n",
       "    </tr>\n",
       "  </tbody>\n",
       "</table>\n",
       "<p>10000 rows × 14 columns</p>\n",
       "</div>"
      ],
      "text/plain": [
       "      RowNumber  CustomerId    Surname  CreditScore Geography  Gender  Age  \\\n",
       "0             1    15634602   Hargrave          619    France  Female   42   \n",
       "1             2    15647311       Hill          608     Spain  Female   41   \n",
       "2             3    15619304       Onio          502    France  Female   42   \n",
       "3             4    15701354       Boni          699    France  Female   39   \n",
       "4             5    15737888   Mitchell          850     Spain  Female   43   \n",
       "...         ...         ...        ...          ...       ...     ...  ...   \n",
       "9995       9996    15606229   Obijiaku          771    France    Male   39   \n",
       "9996       9997    15569892  Johnstone          516    France    Male   35   \n",
       "9997       9998    15584532        Liu          709    France  Female   36   \n",
       "9998       9999    15682355  Sabbatini          772   Germany    Male   42   \n",
       "9999      10000    15628319     Walker          792    France  Female   28   \n",
       "\n",
       "      Tenure    Balance  NumOfProducts  HasCrCard  IsActiveMember  \\\n",
       "0        2.0       0.00              1          1               1   \n",
       "1        1.0   83807.86              1          0               1   \n",
       "2        8.0  159660.80              3          1               0   \n",
       "3        1.0       0.00              2          0               0   \n",
       "4        2.0  125510.82              1          1               1   \n",
       "...      ...        ...            ...        ...             ...   \n",
       "9995     5.0       0.00              2          1               0   \n",
       "9996    10.0   57369.61              1          1               1   \n",
       "9997     7.0       0.00              1          0               1   \n",
       "9998     3.0   75075.31              2          1               0   \n",
       "9999     NaN  130142.79              1          1               0   \n",
       "\n",
       "      EstimatedSalary  Exited  \n",
       "0           101348.88       1  \n",
       "1           112542.58       0  \n",
       "2           113931.57       1  \n",
       "3            93826.63       0  \n",
       "4            79084.10       0  \n",
       "...               ...     ...  \n",
       "9995         96270.64       0  \n",
       "9996        101699.77       0  \n",
       "9997         42085.58       1  \n",
       "9998         92888.52       1  \n",
       "9999         38190.78       0  \n",
       "\n",
       "[10000 rows x 14 columns]"
      ]
     },
     "execution_count": 3,
     "metadata": {},
     "output_type": "execute_result"
    }
   ],
   "source": [
    "#Просмотр данных\n",
    "data"
   ]
  },
  {
   "cell_type": "markdown",
   "metadata": {},
   "source": [
    "Для улучшения обучения модели и повышения ее качества удалим из данных признаки, которые могут привести к ухудшению обучения модели и таким образом к ухудшению её качества. К таким признакам может относиться, например, порядковый индекс объекта."
   ]
  },
  {
   "cell_type": "code",
   "execution_count": 4,
   "metadata": {},
   "outputs": [],
   "source": [
    "data = data.drop(['RowNumber','Surname', 'CustomerId'],axis=1)"
   ]
  },
  {
   "cell_type": "code",
   "execution_count": 5,
   "metadata": {},
   "outputs": [
    {
     "data": {
      "text/plain": [
       "CreditScore          0\n",
       "Geography            0\n",
       "Gender               0\n",
       "Age                  0\n",
       "Tenure             909\n",
       "Balance              0\n",
       "NumOfProducts        0\n",
       "HasCrCard            0\n",
       "IsActiveMember       0\n",
       "EstimatedSalary      0\n",
       "Exited               0\n",
       "dtype: int64"
      ]
     },
     "execution_count": 5,
     "metadata": {},
     "output_type": "execute_result"
    }
   ],
   "source": [
    "#Проверка данных на пропуски\n",
    "data.isna().sum()"
   ]
  },
  {
   "cell_type": "markdown",
   "metadata": {},
   "source": [
    "Пропуски стоят в столбце, в котором указывается сколько лет человек является клиентом банка. Можно предположить, что данные в этом столбце в некоторых случаях не указывались для новых клиентов банка, а значит заполнять их логичнее нулями."
   ]
  },
  {
   "cell_type": "code",
   "execution_count": 6,
   "metadata": {},
   "outputs": [],
   "source": [
    "#Заполнение пропусков в данных\n",
    "data['Tenure'] = data['Tenure'].fillna(0)"
   ]
  },
  {
   "cell_type": "code",
   "execution_count": 7,
   "metadata": {},
   "outputs": [
    {
     "data": {
      "text/plain": [
       "CreditScore        0\n",
       "Geography          0\n",
       "Gender             0\n",
       "Age                0\n",
       "Tenure             0\n",
       "Balance            0\n",
       "NumOfProducts      0\n",
       "HasCrCard          0\n",
       "IsActiveMember     0\n",
       "EstimatedSalary    0\n",
       "Exited             0\n",
       "dtype: int64"
      ]
     },
     "execution_count": 7,
     "metadata": {},
     "output_type": "execute_result"
    }
   ],
   "source": [
    "#Повторная проверка на пропуски в данных\n",
    "data.isna().sum()"
   ]
  },
  {
   "cell_type": "markdown",
   "metadata": {},
   "source": [
    "Вывод: все пропуски были заполнены."
   ]
  },
  {
   "cell_type": "markdown",
   "metadata": {},
   "source": [
    "Преобразование категориальных признаков в численные прямым кодированием (англ. One-Hot Encoding, OHE):"
   ]
  },
  {
   "cell_type": "code",
   "execution_count": 8,
   "metadata": {},
   "outputs": [],
   "source": [
    "data_ohe = pd.get_dummies(data, drop_first=True)"
   ]
  },
  {
   "cell_type": "markdown",
   "metadata": {},
   "source": [
    "Разделение признаков на целевые и остальные:"
   ]
  },
  {
   "cell_type": "code",
   "execution_count": 9,
   "metadata": {},
   "outputs": [],
   "source": [
    "#Целевые признаки\n",
    "target = data_ohe['Exited']"
   ]
  },
  {
   "cell_type": "code",
   "execution_count": 10,
   "metadata": {},
   "outputs": [],
   "source": [
    "#Основные признаки\n",
    "features = data_ohe.drop('Exited', axis=1)"
   ]
  },
  {
   "cell_type": "markdown",
   "metadata": {},
   "source": [
    "Разбиение данных на обучающую 60%, валидационную 20% и тестовую 20% выборки:"
   ]
  },
  {
   "cell_type": "code",
   "execution_count": 11,
   "metadata": {},
   "outputs": [],
   "source": [
    "#Разбиение данных на обучающую и валидационную выборки\n",
    "features_train, features_valid, target_train, target_valid = train_test_split(features, target, test_size=0.4, random_state=12345)"
   ]
  },
  {
   "cell_type": "code",
   "execution_count": 12,
   "metadata": {},
   "outputs": [],
   "source": [
    "#Разбиение, в свою очередь, валидационной выборки на валидационную и тестовую\n",
    "features_valid, features_test, target_valid, target_test = train_test_split(features_valid, target_valid, test_size=0.5, random_state=12345)"
   ]
  },
  {
   "cell_type": "markdown",
   "metadata": {},
   "source": [
    "Проверка результата разбиения на соответствие пропорциям 60%,20%,20%"
   ]
  },
  {
   "cell_type": "code",
   "execution_count": 13,
   "metadata": {},
   "outputs": [
    {
     "data": {
      "text/plain": [
       "(6000,)"
      ]
     },
     "execution_count": 13,
     "metadata": {},
     "output_type": "execute_result"
    }
   ],
   "source": [
    "#Размер обучающей выборки\n",
    "target_train.shape"
   ]
  },
  {
   "cell_type": "code",
   "execution_count": 14,
   "metadata": {},
   "outputs": [
    {
     "data": {
      "text/plain": [
       "(2000,)"
      ]
     },
     "execution_count": 14,
     "metadata": {},
     "output_type": "execute_result"
    }
   ],
   "source": [
    "#Размер валидационной выборки\n",
    "target_valid.shape"
   ]
  },
  {
   "cell_type": "code",
   "execution_count": 15,
   "metadata": {},
   "outputs": [
    {
     "data": {
      "text/plain": [
       "(2000,)"
      ]
     },
     "execution_count": 15,
     "metadata": {},
     "output_type": "execute_result"
    }
   ],
   "source": [
    "#Размер тестовой выборки\n",
    "target_test.shape"
   ]
  },
  {
   "cell_type": "markdown",
   "metadata": {},
   "source": [
    "Масштабирование численных признаков:"
   ]
  },
  {
   "cell_type": "code",
   "execution_count": 16,
   "metadata": {},
   "outputs": [],
   "source": [
    "#Список численных признаков, которые будем масштабировать\n",
    "numeric = ['CreditScore', 'Age', 'Tenure', 'Balance', 'NumOfProducts', 'EstimatedSalary']"
   ]
  },
  {
   "cell_type": "code",
   "execution_count": 17,
   "metadata": {},
   "outputs": [],
   "source": [
    "#Создание объекта для стандартизации данных\n",
    "scaler = StandardScaler()"
   ]
  },
  {
   "cell_type": "code",
   "execution_count": 18,
   "metadata": {},
   "outputs": [
    {
     "data": {
      "text/plain": [
       "StandardScaler(copy=True, with_mean=True, with_std=True)"
      ]
     },
     "execution_count": 18,
     "metadata": {},
     "output_type": "execute_result"
    }
   ],
   "source": [
    "#Настройка объекта стандартизации на обучающих данных\n",
    "scaler.fit(features_train[numeric])"
   ]
  },
  {
   "cell_type": "code",
   "execution_count": 19,
   "metadata": {},
   "outputs": [],
   "source": [
    "pd.options.mode.chained_assignment = None"
   ]
  },
  {
   "cell_type": "code",
   "execution_count": 20,
   "metadata": {},
   "outputs": [],
   "source": [
    "#Преобразование обучающей выборки\n",
    "features_train[numeric] = scaler.transform(features_train[numeric])"
   ]
  },
  {
   "cell_type": "code",
   "execution_count": 21,
   "metadata": {},
   "outputs": [],
   "source": [
    "#Преобразование валидационной выборки\n",
    "features_valid[numeric] = scaler.transform(features_valid[numeric])"
   ]
  },
  {
   "cell_type": "code",
   "execution_count": 22,
   "metadata": {},
   "outputs": [],
   "source": [
    "#Преобразование тестовой выборки\n",
    "features_test[numeric] = scaler.transform(features_test[numeric])"
   ]
  },
  {
   "cell_type": "markdown",
   "metadata": {},
   "source": [
    "## Решение без учета дисбаланса классов"
   ]
  },
  {
   "cell_type": "markdown",
   "metadata": {},
   "source": [
    "Исследование баланса классов, обучение модели без учета дисбаланса, расчет F1-меры"
   ]
  },
  {
   "cell_type": "markdown",
   "metadata": {},
   "source": [
    "### Исследование баланса классов"
   ]
  },
  {
   "cell_type": "code",
   "execution_count": 23,
   "metadata": {
    "scrolled": true
   },
   "outputs": [
    {
     "data": {
      "text/plain": [
       "0    0.7963\n",
       "1    0.2037\n",
       "Name: Exited, dtype: float64"
      ]
     },
     "execution_count": 23,
     "metadata": {},
     "output_type": "execute_result"
    }
   ],
   "source": [
    "#Доли классов в исходных данных\n",
    "data['Exited'].value_counts(normalize=True)"
   ]
  },
  {
   "cell_type": "code",
   "execution_count": 24,
   "metadata": {},
   "outputs": [
    {
     "data": {
      "text/plain": [
       "0    0.800667\n",
       "1    0.199333\n",
       "Name: Exited, dtype: float64"
      ]
     },
     "execution_count": 24,
     "metadata": {},
     "output_type": "execute_result"
    }
   ],
   "source": [
    "#Доли классов в обучающей выборке\n",
    "target_train.value_counts(normalize=True)"
   ]
  },
  {
   "cell_type": "code",
   "execution_count": 25,
   "metadata": {
    "scrolled": true
   },
   "outputs": [
    {
     "data": {
      "text/plain": [
       "0    0.791\n",
       "1    0.209\n",
       "Name: Exited, dtype: float64"
      ]
     },
     "execution_count": 25,
     "metadata": {},
     "output_type": "execute_result"
    }
   ],
   "source": [
    "#Доли классов в валидационной выборке\n",
    "target_valid.value_counts(normalize=True)"
   ]
  },
  {
   "cell_type": "code",
   "execution_count": 26,
   "metadata": {
    "scrolled": true
   },
   "outputs": [
    {
     "data": {
      "text/plain": [
       "0    0.7885\n",
       "1    0.2115\n",
       "Name: Exited, dtype: float64"
      ]
     },
     "execution_count": 26,
     "metadata": {},
     "output_type": "execute_result"
    }
   ],
   "source": [
    "#Доли классов в тестовой выборке\n",
    "target_test.value_counts(normalize=True)"
   ]
  },
  {
   "cell_type": "markdown",
   "metadata": {},
   "source": [
    "Вывод: рассмотрев несколько выборок мы убедились, что соотношение долей практически одно и то же."
   ]
  },
  {
   "cell_type": "markdown",
   "metadata": {},
   "source": [
    "### Логистическая регрессия"
   ]
  },
  {
   "cell_type": "markdown",
   "metadata": {},
   "source": [
    "Логистическая регрессия. Создадим, обучим и проверим с помощью F1-меры модель логистической регрессии."
   ]
  },
  {
   "cell_type": "code",
   "execution_count": 27,
   "metadata": {},
   "outputs": [],
   "source": [
    "#Создание модели логистической регрессии\n",
    "model_lr = LogisticRegression(random_state=12345, solver='liblinear')"
   ]
  },
  {
   "cell_type": "code",
   "execution_count": 28,
   "metadata": {},
   "outputs": [
    {
     "data": {
      "text/plain": [
       "LogisticRegression(C=1.0, class_weight=None, dual=False, fit_intercept=True,\n",
       "                   intercept_scaling=1, l1_ratio=None, max_iter=100,\n",
       "                   multi_class='warn', n_jobs=None, penalty='l2',\n",
       "                   random_state=12345, solver='liblinear', tol=0.0001,\n",
       "                   verbose=0, warm_start=False)"
      ]
     },
     "execution_count": 28,
     "metadata": {},
     "output_type": "execute_result"
    }
   ],
   "source": [
    "#Обучение модели логистической регрессии\n",
    "model_lr.fit(features_train, target_train)"
   ]
  },
  {
   "cell_type": "code",
   "execution_count": 29,
   "metadata": {},
   "outputs": [],
   "source": [
    "#Предсказания модели логистической регрессии\n",
    "predicted_valid = model_lr.predict(features_valid)"
   ]
  },
  {
   "cell_type": "code",
   "execution_count": 30,
   "metadata": {},
   "outputs": [
    {
     "name": "stdout",
     "output_type": "stream",
     "text": [
      "F1: 0.33389544688026984\n"
     ]
    }
   ],
   "source": [
    "#Вычисление F1-меры для модели логистической регрессии\n",
    "print(\"F1:\", f1_score(target_valid, predicted_valid))"
   ]
  },
  {
   "cell_type": "markdown",
   "metadata": {},
   "source": [
    "### Решающее дерево"
   ]
  },
  {
   "cell_type": "markdown",
   "metadata": {},
   "source": [
    "Решающее дерево. Создадим, обучим и проверим с помощью F1-меры модель решающего дерева."
   ]
  },
  {
   "cell_type": "code",
   "execution_count": 31,
   "metadata": {},
   "outputs": [],
   "source": [
    "#Создание модели решающего дерева\n",
    "model_dtc = DecisionTreeClassifier(random_state=12345, max_depth=9)"
   ]
  },
  {
   "cell_type": "code",
   "execution_count": 32,
   "metadata": {},
   "outputs": [
    {
     "data": {
      "text/plain": [
       "DecisionTreeClassifier(class_weight=None, criterion='gini', max_depth=9,\n",
       "                       max_features=None, max_leaf_nodes=None,\n",
       "                       min_impurity_decrease=0.0, min_impurity_split=None,\n",
       "                       min_samples_leaf=1, min_samples_split=2,\n",
       "                       min_weight_fraction_leaf=0.0, presort=False,\n",
       "                       random_state=12345, splitter='best')"
      ]
     },
     "execution_count": 32,
     "metadata": {},
     "output_type": "execute_result"
    }
   ],
   "source": [
    "#Обучение модели решающего дерева\n",
    "model_dtc.fit(features_train, target_train)"
   ]
  },
  {
   "cell_type": "code",
   "execution_count": 33,
   "metadata": {},
   "outputs": [],
   "source": [
    "#Предсказания модели решающего дерева\n",
    "predicted_valid = model_dtc.predict(features_valid)"
   ]
  },
  {
   "cell_type": "code",
   "execution_count": 34,
   "metadata": {},
   "outputs": [
    {
     "name": "stdout",
     "output_type": "stream",
     "text": [
      "F1: 0.5786516853932585\n"
     ]
    }
   ],
   "source": [
    "#Вычисление F1-меры для модели решающего дерева\n",
    "print(\"F1:\", f1_score(target_valid, predicted_valid))"
   ]
  },
  {
   "cell_type": "code",
   "execution_count": null,
   "metadata": {},
   "outputs": [],
   "source": []
  },
  {
   "cell_type": "markdown",
   "metadata": {},
   "source": [
    "### Случайный лес"
   ]
  },
  {
   "cell_type": "markdown",
   "metadata": {},
   "source": [
    "Случайный лес. Создадим, обучим и проверим с помощью F1-меры модель случайного леса."
   ]
  },
  {
   "cell_type": "code",
   "execution_count": 35,
   "metadata": {},
   "outputs": [],
   "source": [
    "#Создание модели случайного леса\n",
    "model_rfc = RandomForestClassifier(random_state=12345, n_estimators=200, max_depth=9)"
   ]
  },
  {
   "cell_type": "code",
   "execution_count": 36,
   "metadata": {},
   "outputs": [
    {
     "data": {
      "text/plain": [
       "RandomForestClassifier(bootstrap=True, class_weight=None, criterion='gini',\n",
       "                       max_depth=9, max_features='auto', max_leaf_nodes=None,\n",
       "                       min_impurity_decrease=0.0, min_impurity_split=None,\n",
       "                       min_samples_leaf=1, min_samples_split=2,\n",
       "                       min_weight_fraction_leaf=0.0, n_estimators=200,\n",
       "                       n_jobs=None, oob_score=False, random_state=12345,\n",
       "                       verbose=0, warm_start=False)"
      ]
     },
     "execution_count": 36,
     "metadata": {},
     "output_type": "execute_result"
    }
   ],
   "source": [
    "#Обучение модели случайного леса\n",
    "model_rfc.fit(features_train, target_train)"
   ]
  },
  {
   "cell_type": "code",
   "execution_count": 37,
   "metadata": {},
   "outputs": [],
   "source": [
    "#Предсказания модели случайного леса\n",
    "predicted_valid = model_rfc.predict(features_valid)"
   ]
  },
  {
   "cell_type": "code",
   "execution_count": 38,
   "metadata": {},
   "outputs": [
    {
     "name": "stdout",
     "output_type": "stream",
     "text": [
      "F1: 0.5705329153605015\n"
     ]
    }
   ],
   "source": [
    "#вычисление F1-меры для модели случайного леса\n",
    "print(\"F1:\", f1_score(target_valid, predicted_valid))"
   ]
  },
  {
   "cell_type": "markdown",
   "metadata": {},
   "source": [
    "### Вывод"
   ]
  },
  {
   "cell_type": "markdown",
   "metadata": {},
   "source": [
    "Вывод. Баланс классов был исследован на исходных данных и дополнительно на трех выборках - обучающей, валидационной и тестовой. Соотношение долей классов во всех случаях, как можно было предположить, получилось практически одним и тем же. Исследование задачи проводилось с помощью трёх моделей - логистической регрессии, решающего дерева и случайного леса. Каждая модель была обучена на тестовой выборке и проверена на валидационной выборке с помощью F1-меры. "
   ]
  },
  {
   "cell_type": "markdown",
   "metadata": {},
   "source": [
    "## Решение с учетом дисбаланса классов"
   ]
  },
  {
   "cell_type": "code",
   "execution_count": 39,
   "metadata": {},
   "outputs": [],
   "source": [
    "#Функция увеличения выборки для борьбы с дисбалансом классов\n",
    "\n",
    "def upsample(features, target, repeat):\n",
    "    features_zeros = features[target == 0]\n",
    "    features_ones = features[target == 1]\n",
    "    target_zeros = target[target == 0]\n",
    "    target_ones = target[target == 1]\n",
    "    \n",
    "    features_upsampled = pd.concat([features_zeros] + [features_ones] * repeat)\n",
    "    target_upsampled = pd.concat([target_zeros] + [target_ones] * repeat)\n",
    "    \n",
    "    features_upsampled, target_upsampled = shuffle(\n",
    "        features_upsampled, target_upsampled, random_state=12345)\n",
    "    \n",
    "    return features_upsampled, target_upsampled"
   ]
  },
  {
   "cell_type": "markdown",
   "metadata": {},
   "source": [
    "### Логистическая регрессия"
   ]
  },
  {
   "cell_type": "markdown",
   "metadata": {},
   "source": [
    "Логистическая регрессия. Устранение дисбаланса классов в логистической регрессии и проверка с помощью F1-меры. Наилучшим балансом классов считается тот, который дает наилучшее значение F1-меры."
   ]
  },
  {
   "cell_type": "code",
   "execution_count": 40,
   "metadata": {},
   "outputs": [],
   "source": [
    "#Обращение к функции увеличения выборки для устранения дисбаланса\n",
    "features_upsampled, target_upsampled = upsample(features_train, target_train, 5)"
   ]
  },
  {
   "cell_type": "code",
   "execution_count": 41,
   "metadata": {},
   "outputs": [
    {
     "data": {
      "text/plain": [
       "1    0.554525\n",
       "0    0.445475\n",
       "Name: Exited, dtype: float64"
      ]
     },
     "execution_count": 41,
     "metadata": {},
     "output_type": "execute_result"
    }
   ],
   "source": [
    "#После увеличения выборки просмотр соотношения долей классов\n",
    "target_upsampled.value_counts(normalize=True)"
   ]
  },
  {
   "cell_type": "markdown",
   "metadata": {},
   "source": [
    "При создании далее модели логистической регрессии использовался параметр class_weight, который \"уравновешивает\" классы и тем самым также борется с дисбалансом."
   ]
  },
  {
   "cell_type": "code",
   "execution_count": 42,
   "metadata": {},
   "outputs": [],
   "source": [
    "#Создание модели логистической регрессии с использование параметра class_weight='balanced'\n",
    "model_lr = LogisticRegression(random_state=12345, solver='liblinear', class_weight='balanced')"
   ]
  },
  {
   "cell_type": "code",
   "execution_count": 43,
   "metadata": {},
   "outputs": [
    {
     "data": {
      "text/plain": [
       "LogisticRegression(C=1.0, class_weight='balanced', dual=False,\n",
       "                   fit_intercept=True, intercept_scaling=1, l1_ratio=None,\n",
       "                   max_iter=100, multi_class='warn', n_jobs=None, penalty='l2',\n",
       "                   random_state=12345, solver='liblinear', tol=0.0001,\n",
       "                   verbose=0, warm_start=False)"
      ]
     },
     "execution_count": 43,
     "metadata": {},
     "output_type": "execute_result"
    }
   ],
   "source": [
    "#Обучение модели логистической регрессии на увеличенной выборке с лучше сбалансированными классами\n",
    "model_lr.fit(features_upsampled, target_upsampled)"
   ]
  },
  {
   "cell_type": "code",
   "execution_count": 44,
   "metadata": {},
   "outputs": [],
   "source": [
    "#Предсказания модели логистической регрессии\n",
    "predicted_valid = model_lr.predict(features_valid)"
   ]
  },
  {
   "cell_type": "code",
   "execution_count": 45,
   "metadata": {},
   "outputs": [
    {
     "name": "stdout",
     "output_type": "stream",
     "text": [
      "F1: 0.4888888888888888\n"
     ]
    }
   ],
   "source": [
    "#Вычисление F1-меры для модели логистической регрессии\n",
    "print(\"F1:\", f1_score(target_valid, predicted_valid))"
   ]
  },
  {
   "cell_type": "markdown",
   "metadata": {},
   "source": [
    "AUC-ROC логистической регрессии"
   ]
  },
  {
   "cell_type": "code",
   "execution_count": 46,
   "metadata": {},
   "outputs": [],
   "source": [
    "#Вычисление вероятностей классов каждого объекта валидационной выборки\n",
    "probabilities_valid = model_lr.predict_proba(features_valid)"
   ]
  },
  {
   "cell_type": "code",
   "execution_count": 47,
   "metadata": {},
   "outputs": [],
   "source": [
    "#Вероятность класса 1 у каждого объекта валидационной выборки\n",
    "probabilities_one_valid = probabilities_valid[:, 1]"
   ]
  },
  {
   "cell_type": "code",
   "execution_count": 48,
   "metadata": {},
   "outputs": [],
   "source": [
    "#Вычисление значения AUC-ROC для логистической регрессии\n",
    "auc_roc = roc_auc_score(target_valid, probabilities_one_valid)"
   ]
  },
  {
   "cell_type": "code",
   "execution_count": 49,
   "metadata": {},
   "outputs": [
    {
     "data": {
      "text/plain": [
       "0.7634754625905068"
      ]
     },
     "execution_count": 49,
     "metadata": {},
     "output_type": "execute_result"
    }
   ],
   "source": [
    "#Вывод полученного значения AUC-ROC\n",
    "auc_roc"
   ]
  },
  {
   "cell_type": "markdown",
   "metadata": {},
   "source": [
    "### Решающее дерево"
   ]
  },
  {
   "cell_type": "markdown",
   "metadata": {},
   "source": [
    "Решающее дерево. Устранение дисбаланса классов в случае модели решающего дерева и проверка с помощью F1-меры. Наилучшим балансом классов считается тот, который дает наилучшее значение F1-меры."
   ]
  },
  {
   "cell_type": "code",
   "execution_count": 50,
   "metadata": {},
   "outputs": [],
   "source": [
    "#Обращение к функции увеличения выборки для устранения дисбаланса\n",
    "features_upsampled, target_upsampled = upsample(features_train, target_train, 5)"
   ]
  },
  {
   "cell_type": "code",
   "execution_count": 51,
   "metadata": {},
   "outputs": [
    {
     "data": {
      "text/plain": [
       "1    0.554525\n",
       "0    0.445475\n",
       "Name: Exited, dtype: float64"
      ]
     },
     "execution_count": 51,
     "metadata": {},
     "output_type": "execute_result"
    }
   ],
   "source": [
    "#После увеличения выборки просмотр соотношения долей классов\n",
    "target_upsampled.value_counts(normalize=True)"
   ]
  },
  {
   "cell_type": "code",
   "execution_count": 52,
   "metadata": {},
   "outputs": [],
   "source": [
    "#Создание модели решающего дерева с использование параметра class_weight='balanced'\n",
    "model_dtc = DecisionTreeClassifier(random_state=12345, class_weight='balanced', max_depth=5)"
   ]
  },
  {
   "cell_type": "code",
   "execution_count": 53,
   "metadata": {},
   "outputs": [
    {
     "data": {
      "text/plain": [
       "DecisionTreeClassifier(class_weight='balanced', criterion='gini', max_depth=5,\n",
       "                       max_features=None, max_leaf_nodes=None,\n",
       "                       min_impurity_decrease=0.0, min_impurity_split=None,\n",
       "                       min_samples_leaf=1, min_samples_split=2,\n",
       "                       min_weight_fraction_leaf=0.0, presort=False,\n",
       "                       random_state=12345, splitter='best')"
      ]
     },
     "execution_count": 53,
     "metadata": {},
     "output_type": "execute_result"
    }
   ],
   "source": [
    "#Обучение модели решающего дерева на увеличенной выборке с лучше сбалансированными классами\n",
    "model_dtc.fit(features_upsampled, target_upsampled)"
   ]
  },
  {
   "cell_type": "code",
   "execution_count": 54,
   "metadata": {},
   "outputs": [],
   "source": [
    "#Предсказания модели решающего дерева\n",
    "predicted_valid = model_dtc.predict(features_valid)"
   ]
  },
  {
   "cell_type": "code",
   "execution_count": 55,
   "metadata": {},
   "outputs": [
    {
     "name": "stdout",
     "output_type": "stream",
     "text": [
      "F1: 0.5963791267305644\n"
     ]
    }
   ],
   "source": [
    "#Вычисление F1-меры для модели решающего дерева\n",
    "print(\"F1:\", f1_score(target_valid, predicted_valid))"
   ]
  },
  {
   "cell_type": "markdown",
   "metadata": {},
   "source": [
    "AUC-ROC решающего дерева"
   ]
  },
  {
   "cell_type": "code",
   "execution_count": 56,
   "metadata": {},
   "outputs": [],
   "source": [
    "#Вычисление вероятностей классов каждого объекта валидационной выборки\n",
    "probabilities_valid = model_dtc.predict_proba(features_valid)"
   ]
  },
  {
   "cell_type": "code",
   "execution_count": 57,
   "metadata": {},
   "outputs": [],
   "source": [
    "#Вероятность класса 1 у каждого объекта валидационной выборки\n",
    "probabilities_one_valid = probabilities_valid[:, 1]"
   ]
  },
  {
   "cell_type": "code",
   "execution_count": 58,
   "metadata": {},
   "outputs": [],
   "source": [
    "#Вычисление значения AUC-ROC для модели решающего дерева\n",
    "auc_roc = roc_auc_score(target_valid, probabilities_one_valid)"
   ]
  },
  {
   "cell_type": "code",
   "execution_count": 59,
   "metadata": {},
   "outputs": [
    {
     "data": {
      "text/plain": [
       "0.8310244134068074"
      ]
     },
     "execution_count": 59,
     "metadata": {},
     "output_type": "execute_result"
    }
   ],
   "source": [
    "#Вывод полученного значения AUC-ROC\n",
    "auc_roc"
   ]
  },
  {
   "cell_type": "markdown",
   "metadata": {},
   "source": [
    "### Случайный лес"
   ]
  },
  {
   "cell_type": "markdown",
   "metadata": {},
   "source": [
    "Случайный лес. Устранение дисбаланса классов в случае модели случайного леса и проверка с помощью F1-меры. Наилучшим балансом классов считается тот, который дает наилучшее значение F1-меры."
   ]
  },
  {
   "cell_type": "code",
   "execution_count": 60,
   "metadata": {},
   "outputs": [],
   "source": [
    "#Обращение к функции увеличения выборки для устранения дисбаланса\n",
    "features_upsampled, target_upsampled = upsample(features_train, target_train, 5)"
   ]
  },
  {
   "cell_type": "code",
   "execution_count": 61,
   "metadata": {},
   "outputs": [
    {
     "data": {
      "text/plain": [
       "1    0.554525\n",
       "0    0.445475\n",
       "Name: Exited, dtype: float64"
      ]
     },
     "execution_count": 61,
     "metadata": {},
     "output_type": "execute_result"
    }
   ],
   "source": [
    "#После увеличения выборки просмотр соотношения долей классов\n",
    "target_upsampled.value_counts(normalize=True)"
   ]
  },
  {
   "cell_type": "code",
   "execution_count": 62,
   "metadata": {},
   "outputs": [],
   "source": [
    "#Создание модели случайного леса с использование параметра class_weight='balanced'\n",
    "model_rfc = RandomForestClassifier(random_state=12345, class_weight='balanced', n_estimators=1000, max_depth=11)"
   ]
  },
  {
   "cell_type": "code",
   "execution_count": 63,
   "metadata": {
    "scrolled": true
   },
   "outputs": [
    {
     "data": {
      "text/plain": [
       "RandomForestClassifier(bootstrap=True, class_weight='balanced',\n",
       "                       criterion='gini', max_depth=11, max_features='auto',\n",
       "                       max_leaf_nodes=None, min_impurity_decrease=0.0,\n",
       "                       min_impurity_split=None, min_samples_leaf=1,\n",
       "                       min_samples_split=2, min_weight_fraction_leaf=0.0,\n",
       "                       n_estimators=1000, n_jobs=None, oob_score=False,\n",
       "                       random_state=12345, verbose=0, warm_start=False)"
      ]
     },
     "execution_count": 63,
     "metadata": {},
     "output_type": "execute_result"
    }
   ],
   "source": [
    "#Обучение модели случайного леса на увеличенной выборке с лучше сбалансированными классами\n",
    "model_rfc.fit(features_upsampled, target_upsampled)"
   ]
  },
  {
   "cell_type": "code",
   "execution_count": 64,
   "metadata": {},
   "outputs": [],
   "source": [
    "#Предсказания модели случайного леса\n",
    "predicted_valid = model_rfc.predict(features_valid)"
   ]
  },
  {
   "cell_type": "code",
   "execution_count": 65,
   "metadata": {},
   "outputs": [
    {
     "name": "stdout",
     "output_type": "stream",
     "text": [
      "F1: 0.6232876712328768\n"
     ]
    }
   ],
   "source": [
    "#Вычисление F1-меры для модели случайного леса\n",
    "print(\"F1:\", f1_score(target_valid, predicted_valid))"
   ]
  },
  {
   "cell_type": "markdown",
   "metadata": {},
   "source": [
    "AUC-ROC случайного леса"
   ]
  },
  {
   "cell_type": "code",
   "execution_count": 66,
   "metadata": {},
   "outputs": [],
   "source": [
    "#Вычисление вероятностей классов каждого объекта валидационной выборки\n",
    "probabilities_valid = model_rfc.predict_proba(features_valid)"
   ]
  },
  {
   "cell_type": "code",
   "execution_count": 67,
   "metadata": {},
   "outputs": [],
   "source": [
    "#Вероятность класса 1 у каждого объекта валидационной выборки\n",
    "probabilities_one_valid = probabilities_valid[:, 1]"
   ]
  },
  {
   "cell_type": "code",
   "execution_count": 68,
   "metadata": {},
   "outputs": [],
   "source": [
    "#Вычисление значения AUC-ROC для модели случайного леса\n",
    "auc_roc = roc_auc_score(target_valid, probabilities_one_valid)"
   ]
  },
  {
   "cell_type": "code",
   "execution_count": 69,
   "metadata": {},
   "outputs": [
    {
     "data": {
      "text/plain": [
       "0.8517759604159231"
      ]
     },
     "execution_count": 69,
     "metadata": {},
     "output_type": "execute_result"
    }
   ],
   "source": [
    "#Вывод полученного значения AUC-ROC\n",
    "auc_roc"
   ]
  },
  {
   "cell_type": "markdown",
   "metadata": {},
   "source": [
    "### Вывод"
   ]
  },
  {
   "cell_type": "markdown",
   "metadata": {},
   "source": [
    "Вывод. Поскольку при исследовании баланса классов оказалось, что количество 1 меньше чем 0, для борьбы с дисбалансом была использована функция увеличения выборки, которая увеличивает число объектов со значением целевого признака 1. В результате, после обращения к данной функции мы получаем новую обучающую выборку с большим числом объектов и с лучше сбалансированными 1 и 0. Затем мы обучаем каждую модель на новой обучающей выборке. При создании каждой модели в качестве еще одного способа для борьбы с дисбалансом используется параметр class_weight='balanced'. Далее выполняем предсказания с её помощью на валидационной выборке и вычисляем для неё F1-меру. Сравнивая F1-меру каждой модели можно сказать, что лучшее значение у модели случайного леса, значение F1-меры у неё удалось довести до 0.623. Метрика AUC-ROC у модели случайного леса также обладает наилучшим значением по сравнению с метриками других моделей, её значение равно 0.85. Следовательно, наилучшей моделью является модель случайного леса. Далее осуществим тестирование моделей, проверив их метрики на тестовой выборке."
   ]
  },
  {
   "cell_type": "markdown",
   "metadata": {},
   "source": [
    "## Тестирование модели"
   ]
  },
  {
   "cell_type": "markdown",
   "metadata": {},
   "source": [
    "### Логистическая регрессия"
   ]
  },
  {
   "cell_type": "code",
   "execution_count": 70,
   "metadata": {},
   "outputs": [],
   "source": [
    "#Предсказания модели логистической регрессии на тестовой выборке\n",
    "predicted_test = model_lr.predict(features_test)"
   ]
  },
  {
   "cell_type": "code",
   "execution_count": 71,
   "metadata": {},
   "outputs": [
    {
     "name": "stdout",
     "output_type": "stream",
     "text": [
      "F1: 0.4797238999137188\n"
     ]
    }
   ],
   "source": [
    "#Вычисление F1-меры для модели логистической регрессии на тестовой выборке\n",
    "print(\"F1:\", f1_score(target_test, predicted_test))"
   ]
  },
  {
   "cell_type": "code",
   "execution_count": 72,
   "metadata": {},
   "outputs": [],
   "source": [
    "#Вычисление вероятностей классов каждого объекта тестовой выборки\n",
    "probabilities_test = model_lr.predict_proba(features_test)"
   ]
  },
  {
   "cell_type": "code",
   "execution_count": 73,
   "metadata": {},
   "outputs": [],
   "source": [
    "#Вероятность класса 1 у каждого объекта тестовой выборки\n",
    "probabilities_one_test = probabilities_test[:, 1]"
   ]
  },
  {
   "cell_type": "code",
   "execution_count": 74,
   "metadata": {},
   "outputs": [],
   "source": [
    "#Вычисление значения AUC-ROC для модели логистической регрессии на тестовой выборке\n",
    "auc_roc = roc_auc_score(target_test, probabilities_one_test)"
   ]
  },
  {
   "cell_type": "code",
   "execution_count": 75,
   "metadata": {},
   "outputs": [
    {
     "data": {
      "text/plain": [
       "0.7417456312746319"
      ]
     },
     "execution_count": 75,
     "metadata": {},
     "output_type": "execute_result"
    }
   ],
   "source": [
    "#Вывод полученного значения AUC-ROC\n",
    "auc_roc"
   ]
  },
  {
   "cell_type": "markdown",
   "metadata": {},
   "source": [
    "### Решающее дерево"
   ]
  },
  {
   "cell_type": "code",
   "execution_count": 76,
   "metadata": {},
   "outputs": [],
   "source": [
    "#Предсказания модели решающего дерева на тестовой выборке\n",
    "predicted_test = model_dtc.predict(features_test)"
   ]
  },
  {
   "cell_type": "code",
   "execution_count": 77,
   "metadata": {},
   "outputs": [
    {
     "name": "stdout",
     "output_type": "stream",
     "text": [
      "F1: 0.5809128630705395\n"
     ]
    }
   ],
   "source": [
    "#Вычисление F1-меры для модели решающего дерева на тестовой выборке\n",
    "print(\"F1:\", f1_score(target_test, predicted_test))"
   ]
  },
  {
   "cell_type": "code",
   "execution_count": 78,
   "metadata": {},
   "outputs": [],
   "source": [
    "#Вычисление вероятностей классов каждого объекта тестовой выборки\n",
    "probabilities_test = model_dtc.predict_proba(features_test)"
   ]
  },
  {
   "cell_type": "code",
   "execution_count": 79,
   "metadata": {},
   "outputs": [],
   "source": [
    "#Вероятность класса 1 у каждого объекта тестовой выборки\n",
    "probabilities_one_test = probabilities_test[:, 1]"
   ]
  },
  {
   "cell_type": "code",
   "execution_count": 80,
   "metadata": {},
   "outputs": [],
   "source": [
    "#Вычисление значения AUC-ROC для модели решающего дерева на тестовой выборке\n",
    "auc_roc = roc_auc_score(target_test, probabilities_one_test)"
   ]
  },
  {
   "cell_type": "code",
   "execution_count": 81,
   "metadata": {},
   "outputs": [
    {
     "data": {
      "text/plain": [
       "0.8355347481752318"
      ]
     },
     "execution_count": 81,
     "metadata": {},
     "output_type": "execute_result"
    }
   ],
   "source": [
    "#Вывод полученного значения AUC-ROC\n",
    "auc_roc"
   ]
  },
  {
   "cell_type": "markdown",
   "metadata": {},
   "source": [
    "### Случайный лес"
   ]
  },
  {
   "cell_type": "code",
   "execution_count": 82,
   "metadata": {},
   "outputs": [],
   "source": [
    "#Предсказания модели случайного леса на тестовой выборке\n",
    "predicted_test = model_rfc.predict(features_test)"
   ]
  },
  {
   "cell_type": "code",
   "execution_count": 83,
   "metadata": {},
   "outputs": [
    {
     "name": "stdout",
     "output_type": "stream",
     "text": [
      "F1: 0.6008968609865472\n"
     ]
    }
   ],
   "source": [
    "#Вычисление F1-меры для модели случайного леса на тестовой выборке\n",
    "print(\"F1:\", f1_score(target_test, predicted_test))"
   ]
  },
  {
   "cell_type": "code",
   "execution_count": 84,
   "metadata": {},
   "outputs": [],
   "source": [
    "#Вычисление вероятностей классов каждого объекта тестовой выборки\n",
    "probabilities_test = model_rfc.predict_proba(features_test)"
   ]
  },
  {
   "cell_type": "code",
   "execution_count": 85,
   "metadata": {},
   "outputs": [],
   "source": [
    "#ероятность класса 1 у каждого объекта тестовой выборки\n",
    "probabilities_one_test = probabilities_test[:, 1]"
   ]
  },
  {
   "cell_type": "code",
   "execution_count": 86,
   "metadata": {},
   "outputs": [],
   "source": [
    "#Вычисление значения AUC-ROC для модели случайного леса на тестовой выборке\n",
    "auc_roc = roc_auc_score(target_test, probabilities_one_test)"
   ]
  },
  {
   "cell_type": "code",
   "execution_count": 87,
   "metadata": {},
   "outputs": [
    {
     "data": {
      "text/plain": [
       "0.8595741682669461"
      ]
     },
     "execution_count": 87,
     "metadata": {},
     "output_type": "execute_result"
    }
   ],
   "source": [
    "#Вывод полученного значения AUC-ROC\n",
    "auc_roc"
   ]
  },
  {
   "cell_type": "markdown",
   "metadata": {},
   "source": [
    "### Вывод"
   ]
  },
  {
   "cell_type": "markdown",
   "metadata": {},
   "source": [
    "Вывод. В результате подсчета метрик F1-мера и AUC-ROC на тестовой выборке наилучшие показатели у модели случайного леса - F1-мера равна 0.60, и AUC-ROC равен 0.85. Тестирование моделей показывает, что модели обучены корректно, поскольку разница метрик незначительная и что наилучшей и с приемлемым качеством моделью является модель случайного леса."
   ]
  }
 ],
 "metadata": {
  "ExecuteTimeLog": [
   {
    "duration": 1318,
    "start_time": "2022-01-19T19:15:00.793Z"
   },
   {
    "duration": 36,
    "start_time": "2022-01-19T19:15:03.120Z"
   },
   {
    "duration": 9,
    "start_time": "2022-01-19T19:25:31.951Z"
   },
   {
    "duration": 9,
    "start_time": "2022-01-19T19:32:55.084Z"
   },
   {
    "duration": 6,
    "start_time": "2022-01-19T19:32:55.931Z"
   },
   {
    "duration": 293,
    "start_time": "2022-01-19T19:55:49.806Z"
   },
   {
    "duration": 71,
    "start_time": "2022-01-19T19:55:50.726Z"
   },
   {
    "duration": 4,
    "start_time": "2022-01-19T19:55:51.526Z"
   },
   {
    "duration": 3,
    "start_time": "2022-01-19T19:56:51.972Z"
   },
   {
    "duration": 31,
    "start_time": "2022-01-19T19:56:52.492Z"
   },
   {
    "duration": 310,
    "start_time": "2022-01-19T19:56:53.084Z"
   },
   {
    "duration": 43,
    "start_time": "2022-01-19T19:56:53.635Z"
   },
   {
    "duration": 4,
    "start_time": "2022-01-19T19:56:54.491Z"
   },
   {
    "duration": 218,
    "start_time": "2022-01-19T19:56:55.227Z"
   },
   {
    "duration": 443,
    "start_time": "2022-01-19T19:57:13.931Z"
   },
   {
    "duration": 21,
    "start_time": "2022-01-19T19:57:31.275Z"
   },
   {
    "duration": 4,
    "start_time": "2022-01-19T19:57:34.499Z"
   },
   {
    "duration": 719,
    "start_time": "2022-01-19T19:58:02.962Z"
   },
   {
    "duration": 1047,
    "start_time": "2022-01-20T15:48:05.916Z"
   },
   {
    "duration": 39,
    "start_time": "2022-01-20T15:48:07.582Z"
   },
   {
    "duration": 220,
    "start_time": "2022-01-20T15:48:08.398Z"
   },
   {
    "duration": 3,
    "start_time": "2022-01-20T15:48:09.774Z"
   },
   {
    "duration": 62,
    "start_time": "2022-01-20T15:48:11.117Z"
   },
   {
    "duration": 161,
    "start_time": "2022-01-20T15:48:12.326Z"
   },
   {
    "duration": 3,
    "start_time": "2022-01-20T15:48:37.277Z"
   },
   {
    "duration": 645,
    "start_time": "2022-01-20T15:48:48.349Z"
   },
   {
    "duration": 3,
    "start_time": "2022-01-20T15:49:30.164Z"
   },
   {
    "duration": 547,
    "start_time": "2022-01-20T15:49:31.212Z"
   },
   {
    "duration": 3,
    "start_time": "2022-01-20T15:50:02.788Z"
   },
   {
    "duration": 640,
    "start_time": "2022-01-20T15:50:03.724Z"
   },
   {
    "duration": 1095,
    "start_time": "2022-01-20T20:16:02.111Z"
   },
   {
    "duration": 32,
    "start_time": "2022-01-20T20:16:05.368Z"
   },
   {
    "duration": 208,
    "start_time": "2022-01-20T20:16:08.167Z"
   },
   {
    "duration": 3,
    "start_time": "2022-01-20T20:16:23.095Z"
   },
   {
    "duration": 64,
    "start_time": "2022-01-20T20:16:25.926Z"
   },
   {
    "duration": 170,
    "start_time": "2022-01-20T20:16:35.830Z"
   },
   {
    "duration": 3,
    "start_time": "2022-01-20T20:16:39.134Z"
   },
   {
    "duration": 701,
    "start_time": "2022-01-20T20:16:46.303Z"
   },
   {
    "duration": 18,
    "start_time": "2022-01-20T20:18:24.388Z"
   },
   {
    "duration": 25,
    "start_time": "2022-01-20T20:18:27.236Z"
   },
   {
    "duration": 3,
    "start_time": "2022-01-20T20:18:48.835Z"
   },
   {
    "duration": 235,
    "start_time": "2022-01-20T20:19:08.563Z"
   },
   {
    "duration": 212,
    "start_time": "2022-01-20T20:19:24.956Z"
   },
   {
    "duration": 303,
    "start_time": "2022-01-20T20:27:14.106Z"
   },
   {
    "duration": 23,
    "start_time": "2022-01-20T20:27:55.152Z"
   },
   {
    "duration": 10,
    "start_time": "2022-01-20T20:28:08.753Z"
   },
   {
    "duration": 9,
    "start_time": "2022-01-20T20:56:03.367Z"
   },
   {
    "duration": 387,
    "start_time": "2022-01-21T07:21:16.225Z"
   },
   {
    "duration": 1340,
    "start_time": "2022-01-21T07:21:21.863Z"
   },
   {
    "duration": 36,
    "start_time": "2022-01-21T07:21:23.206Z"
   },
   {
    "duration": 16,
    "start_time": "2022-01-21T07:21:23.244Z"
   },
   {
    "duration": 14,
    "start_time": "2022-01-21T07:21:25.762Z"
   },
   {
    "duration": 12,
    "start_time": "2022-01-21T07:22:26.888Z"
   },
   {
    "duration": 40,
    "start_time": "2022-01-21T07:22:48.535Z"
   },
   {
    "duration": 440,
    "start_time": "2022-01-21T07:31:43.635Z"
   },
   {
    "duration": 384,
    "start_time": "2022-01-21T07:32:39.971Z"
   },
   {
    "duration": 10,
    "start_time": "2022-01-21T07:32:50.642Z"
   },
   {
    "duration": 4,
    "start_time": "2022-01-21T07:33:23.106Z"
   },
   {
    "duration": 11,
    "start_time": "2022-01-21T07:33:38.913Z"
   },
   {
    "duration": 320,
    "start_time": "2022-01-21T07:34:43.448Z"
   },
   {
    "duration": 5,
    "start_time": "2022-01-21T07:35:10.190Z"
   },
   {
    "duration": 72,
    "start_time": "2022-01-21T07:35:27.782Z"
   },
   {
    "duration": 212,
    "start_time": "2022-01-21T07:35:43.190Z"
   },
   {
    "duration": 432,
    "start_time": "2022-01-21T07:35:56.829Z"
   },
   {
    "duration": 4,
    "start_time": "2022-01-21T07:36:17.598Z"
   },
   {
    "duration": 3,
    "start_time": "2022-01-21T07:36:22.134Z"
   },
   {
    "duration": 446,
    "start_time": "2022-01-21T07:36:37.877Z"
   },
   {
    "duration": 31,
    "start_time": "2022-01-21T07:37:18.491Z"
   },
   {
    "duration": 15,
    "start_time": "2022-01-21T07:38:03.492Z"
   },
   {
    "duration": 32,
    "start_time": "2022-01-21T07:38:13.418Z"
   },
   {
    "duration": 13,
    "start_time": "2022-01-21T07:38:23.459Z"
   },
   {
    "duration": 13,
    "start_time": "2022-01-21T07:38:32.354Z"
   },
   {
    "duration": 28,
    "start_time": "2022-01-21T07:38:46.730Z"
   },
   {
    "duration": 14,
    "start_time": "2022-01-21T07:38:57.076Z"
   },
   {
    "duration": 11,
    "start_time": "2022-01-21T07:40:59.872Z"
   },
   {
    "duration": 8,
    "start_time": "2022-01-21T07:42:03.110Z"
   },
   {
    "duration": 13,
    "start_time": "2022-01-21T07:42:41.421Z"
   },
   {
    "duration": 7,
    "start_time": "2022-01-21T07:43:22.982Z"
   },
   {
    "duration": 12,
    "start_time": "2022-01-21T07:43:50.547Z"
   },
   {
    "duration": 33,
    "start_time": "2022-01-21T07:43:59.220Z"
   },
   {
    "duration": 379,
    "start_time": "2022-01-21T07:44:10.620Z"
   },
   {
    "duration": 49,
    "start_time": "2022-01-21T07:44:41.091Z"
   },
   {
    "duration": 10,
    "start_time": "2022-01-21T07:58:27.609Z"
   },
   {
    "duration": 10,
    "start_time": "2022-01-21T07:59:49.301Z"
   },
   {
    "duration": 5,
    "start_time": "2022-01-21T08:00:19.301Z"
   },
   {
    "duration": 10,
    "start_time": "2022-01-21T08:00:33.365Z"
   },
   {
    "duration": 340,
    "start_time": "2022-01-21T08:00:40.172Z"
   },
   {
    "duration": 5,
    "start_time": "2022-01-21T08:00:42.340Z"
   },
   {
    "duration": 41,
    "start_time": "2022-01-21T08:00:43.740Z"
   },
   {
    "duration": 212,
    "start_time": "2022-01-21T08:00:48.324Z"
   },
   {
    "duration": 4,
    "start_time": "2022-01-21T08:00:49.588Z"
   },
   {
    "duration": 441,
    "start_time": "2022-01-21T08:00:50.381Z"
   },
   {
    "duration": 33,
    "start_time": "2022-01-21T08:18:41.477Z"
   },
   {
    "duration": 22,
    "start_time": "2022-01-21T08:18:58.454Z"
   },
   {
    "duration": 34,
    "start_time": "2022-01-21T08:22:44.847Z"
   },
   {
    "duration": 4,
    "start_time": "2022-01-21T08:24:25.548Z"
   },
   {
    "duration": 32,
    "start_time": "2022-01-21T08:24:40.036Z"
   },
   {
    "duration": 33,
    "start_time": "2022-01-21T08:24:40.581Z"
   },
   {
    "duration": 14,
    "start_time": "2022-01-21T08:24:44.565Z"
   },
   {
    "duration": 10,
    "start_time": "2022-01-21T08:24:47.572Z"
   },
   {
    "duration": 5,
    "start_time": "2022-01-21T08:24:48.724Z"
   },
   {
    "duration": 10,
    "start_time": "2022-01-21T08:24:50.756Z"
   },
   {
    "duration": 264,
    "start_time": "2022-01-21T08:24:53.604Z"
   },
   {
    "duration": 4,
    "start_time": "2022-01-21T08:24:54.156Z"
   },
   {
    "duration": 52,
    "start_time": "2022-01-21T08:24:54.795Z"
   },
   {
    "duration": 208,
    "start_time": "2022-01-21T08:24:55.435Z"
   },
   {
    "duration": 5,
    "start_time": "2022-01-21T08:24:56.052Z"
   },
   {
    "duration": 3,
    "start_time": "2022-01-21T08:37:32.557Z"
   },
   {
    "duration": 10,
    "start_time": "2022-01-21T08:37:50.339Z"
   },
   {
    "duration": 19,
    "start_time": "2022-01-21T08:49:45.732Z"
   },
   {
    "duration": 4,
    "start_time": "2022-01-21T08:50:07.442Z"
   },
   {
    "duration": 18,
    "start_time": "2022-01-21T08:50:20.850Z"
   },
   {
    "duration": 15,
    "start_time": "2022-01-21T08:50:37.170Z"
   },
   {
    "duration": 5,
    "start_time": "2022-01-21T08:51:20.568Z"
   },
   {
    "duration": 34,
    "start_time": "2022-01-21T08:51:21.488Z"
   },
   {
    "duration": 32,
    "start_time": "2022-01-21T08:51:22.322Z"
   },
   {
    "duration": 19,
    "start_time": "2022-01-21T08:51:25.377Z"
   },
   {
    "duration": 12,
    "start_time": "2022-01-21T08:51:26.064Z"
   },
   {
    "duration": 4,
    "start_time": "2022-01-21T08:51:29.552Z"
   },
   {
    "duration": 10,
    "start_time": "2022-01-21T08:51:30.320Z"
   },
   {
    "duration": 285,
    "start_time": "2022-01-21T08:51:34.040Z"
   },
   {
    "duration": 4,
    "start_time": "2022-01-21T08:51:35.215Z"
   },
   {
    "duration": 42,
    "start_time": "2022-01-21T08:51:36.064Z"
   },
   {
    "duration": 213,
    "start_time": "2022-01-21T08:51:37.096Z"
   },
   {
    "duration": 4,
    "start_time": "2022-01-21T08:51:38.223Z"
   },
   {
    "duration": 3,
    "start_time": "2022-01-21T08:51:39.016Z"
   },
   {
    "duration": 10,
    "start_time": "2022-01-21T08:51:39.720Z"
   },
   {
    "duration": 4,
    "start_time": "2022-01-21T08:51:40.631Z"
   },
   {
    "duration": 18,
    "start_time": "2022-01-21T08:51:41.319Z"
   },
   {
    "duration": 12,
    "start_time": "2022-01-21T08:51:41.967Z"
   },
   {
    "duration": 4,
    "start_time": "2022-01-21T08:51:47.175Z"
   },
   {
    "duration": 412,
    "start_time": "2022-01-21T08:51:47.967Z"
   },
   {
    "duration": 1135,
    "start_time": "2022-01-21T14:39:41.578Z"
   },
   {
    "duration": 31,
    "start_time": "2022-01-21T14:39:42.715Z"
   },
   {
    "duration": 31,
    "start_time": "2022-01-21T14:39:44.037Z"
   },
   {
    "duration": 11,
    "start_time": "2022-01-21T14:39:46.732Z"
   },
   {
    "duration": 8,
    "start_time": "2022-01-21T14:39:47.331Z"
   },
   {
    "duration": 3,
    "start_time": "2022-01-21T14:39:47.940Z"
   },
   {
    "duration": 9,
    "start_time": "2022-01-21T14:39:48.475Z"
   },
   {
    "duration": 203,
    "start_time": "2022-01-21T14:39:49.019Z"
   },
   {
    "duration": 3,
    "start_time": "2022-01-21T14:39:49.636Z"
   },
   {
    "duration": 65,
    "start_time": "2022-01-21T14:39:50.260Z"
   },
   {
    "duration": 185,
    "start_time": "2022-01-21T14:39:50.796Z"
   },
   {
    "duration": 3,
    "start_time": "2022-01-21T14:39:51.435Z"
   },
   {
    "duration": 3,
    "start_time": "2022-01-21T14:39:52.224Z"
   },
   {
    "duration": 8,
    "start_time": "2022-01-21T14:40:03.236Z"
   },
   {
    "duration": 3,
    "start_time": "2022-01-21T14:40:04.332Z"
   },
   {
    "duration": 17,
    "start_time": "2022-01-21T14:40:05.067Z"
   },
   {
    "duration": 13,
    "start_time": "2022-01-21T14:40:05.659Z"
   },
   {
    "duration": 4,
    "start_time": "2022-01-21T14:40:10.875Z"
   },
   {
    "duration": 548,
    "start_time": "2022-01-21T14:40:25.898Z"
   },
   {
    "duration": 32,
    "start_time": "2022-01-21T14:40:41.154Z"
   },
   {
    "duration": 659,
    "start_time": "2022-01-21T14:41:21.530Z"
   },
   {
    "duration": 3,
    "start_time": "2022-01-21T14:41:46.825Z"
   },
   {
    "duration": 581,
    "start_time": "2022-01-21T14:41:53.173Z"
   },
   {
    "duration": 46,
    "start_time": "2022-01-21T14:41:54.961Z"
   },
   {
    "duration": 14,
    "start_time": "2022-01-21T14:41:55.585Z"
   },
   {
    "duration": 8,
    "start_time": "2022-01-21T15:46:14.425Z"
   },
   {
    "duration": 68,
    "start_time": "2022-01-21T15:46:38.153Z"
   },
   {
    "duration": 13,
    "start_time": "2022-01-21T15:49:04.774Z"
   },
   {
    "duration": 238,
    "start_time": "2022-01-21T15:49:52.012Z"
   },
   {
    "duration": 9,
    "start_time": "2022-01-21T15:50:10.949Z"
   },
   {
    "duration": 134,
    "start_time": "2022-01-21T16:22:17.212Z"
   },
   {
    "duration": 208,
    "start_time": "2022-01-21T16:47:36.544Z"
   },
   {
    "duration": 3,
    "start_time": "2022-01-21T16:47:42.031Z"
   },
   {
    "duration": 43,
    "start_time": "2022-01-21T16:47:42.831Z"
   },
   {
    "duration": 165,
    "start_time": "2022-01-21T16:47:43.495Z"
   },
   {
    "duration": 3,
    "start_time": "2022-01-21T16:47:44.447Z"
   },
   {
    "duration": 3,
    "start_time": "2022-01-21T16:47:45.382Z"
   },
   {
    "duration": 8,
    "start_time": "2022-01-21T16:47:48.118Z"
   },
   {
    "duration": 3,
    "start_time": "2022-01-21T16:47:48.910Z"
   },
   {
    "duration": 14,
    "start_time": "2022-01-21T16:47:49.806Z"
   },
   {
    "duration": 9,
    "start_time": "2022-01-21T16:47:50.326Z"
   },
   {
    "duration": 3,
    "start_time": "2022-01-21T16:47:54.462Z"
   },
   {
    "duration": 575,
    "start_time": "2022-01-21T16:47:55.905Z"
   },
   {
    "duration": 82,
    "start_time": "2022-01-21T16:47:56.482Z"
   },
   {
    "duration": 9,
    "start_time": "2022-01-21T16:47:56.677Z"
   },
   {
    "duration": 6,
    "start_time": "2022-01-21T17:34:36.615Z"
   },
   {
    "duration": 130,
    "start_time": "2022-01-21T17:34:57.582Z"
   },
   {
    "duration": 4,
    "start_time": "2022-01-21T18:56:02.409Z"
   },
   {
    "duration": 35,
    "start_time": "2022-01-21T18:56:03.168Z"
   },
   {
    "duration": 20,
    "start_time": "2022-01-21T18:56:03.666Z"
   },
   {
    "duration": 7,
    "start_time": "2022-01-21T18:56:04.120Z"
   },
   {
    "duration": 4,
    "start_time": "2022-01-21T18:56:04.559Z"
   },
   {
    "duration": 9,
    "start_time": "2022-01-21T18:56:04.888Z"
   },
   {
    "duration": 195,
    "start_time": "2022-01-21T18:56:05.216Z"
   },
   {
    "duration": 4,
    "start_time": "2022-01-21T18:56:05.511Z"
   },
   {
    "duration": 40,
    "start_time": "2022-01-21T18:56:05.808Z"
   },
   {
    "duration": 163,
    "start_time": "2022-01-21T18:56:06.216Z"
   },
   {
    "duration": 3,
    "start_time": "2022-01-21T18:56:06.520Z"
   },
   {
    "duration": 3,
    "start_time": "2022-01-21T18:56:06.831Z"
   },
   {
    "duration": 9,
    "start_time": "2022-01-21T18:56:07.159Z"
   },
   {
    "duration": 2,
    "start_time": "2022-01-21T18:56:07.496Z"
   },
   {
    "duration": 14,
    "start_time": "2022-01-21T18:56:08.047Z"
   },
   {
    "duration": 13,
    "start_time": "2022-01-21T18:56:08.520Z"
   },
   {
    "duration": 9,
    "start_time": "2022-01-21T18:56:09.992Z"
   },
   {
    "duration": 186,
    "start_time": "2022-01-21T18:56:10.552Z"
   },
   {
    "duration": 3,
    "start_time": "2022-01-21T18:56:11.496Z"
   },
   {
    "duration": 557,
    "start_time": "2022-01-21T18:56:12.319Z"
   },
   {
    "duration": 36,
    "start_time": "2022-01-21T18:56:13.992Z"
   },
   {
    "duration": 6,
    "start_time": "2022-01-21T18:56:15.336Z"
   },
   {
    "duration": 3,
    "start_time": "2022-01-21T19:05:12.644Z"
   },
   {
    "duration": 375,
    "start_time": "2022-01-21T19:05:13.940Z"
   },
   {
    "duration": 43,
    "start_time": "2022-01-21T19:05:15.324Z"
   },
   {
    "duration": 7,
    "start_time": "2022-01-21T19:05:15.804Z"
   },
   {
    "duration": 3,
    "start_time": "2022-01-21T19:05:33.180Z"
   },
   {
    "duration": 27,
    "start_time": "2022-01-21T19:05:33.652Z"
   },
   {
    "duration": 21,
    "start_time": "2022-01-21T19:05:34.093Z"
   },
   {
    "duration": 8,
    "start_time": "2022-01-21T19:05:34.460Z"
   },
   {
    "duration": 4,
    "start_time": "2022-01-21T19:05:34.796Z"
   },
   {
    "duration": 7,
    "start_time": "2022-01-21T19:05:35.101Z"
   },
   {
    "duration": 183,
    "start_time": "2022-01-21T19:05:35.388Z"
   },
   {
    "duration": 3,
    "start_time": "2022-01-21T19:05:35.653Z"
   },
   {
    "duration": 43,
    "start_time": "2022-01-21T19:05:35.907Z"
   },
   {
    "duration": 170,
    "start_time": "2022-01-21T19:05:36.196Z"
   },
   {
    "duration": 3,
    "start_time": "2022-01-21T19:05:36.539Z"
   },
   {
    "duration": 3,
    "start_time": "2022-01-21T19:05:36.868Z"
   },
   {
    "duration": 8,
    "start_time": "2022-01-21T19:05:37.212Z"
   },
   {
    "duration": 3,
    "start_time": "2022-01-21T19:05:37.540Z"
   },
   {
    "duration": 14,
    "start_time": "2022-01-21T19:05:38.188Z"
   },
   {
    "duration": 8,
    "start_time": "2022-01-21T19:05:38.660Z"
   },
   {
    "duration": 7,
    "start_time": "2022-01-21T19:05:39.932Z"
   },
   {
    "duration": 134,
    "start_time": "2022-01-21T19:05:40.332Z"
   },
   {
    "duration": 3,
    "start_time": "2022-01-21T19:05:41.772Z"
   },
   {
    "duration": 367,
    "start_time": "2022-01-21T19:05:42.716Z"
   },
   {
    "duration": 30,
    "start_time": "2022-01-21T19:05:46.331Z"
   },
   {
    "duration": 7,
    "start_time": "2022-01-21T19:05:47.052Z"
   },
   {
    "duration": 3,
    "start_time": "2022-01-21T19:06:21.746Z"
   },
   {
    "duration": 529,
    "start_time": "2022-01-21T19:06:22.275Z"
   },
   {
    "duration": 55,
    "start_time": "2022-01-21T19:06:22.806Z"
   },
   {
    "duration": 6,
    "start_time": "2022-01-21T19:06:23.458Z"
   },
   {
    "duration": 4,
    "start_time": "2022-01-21T19:11:34.540Z"
   },
   {
    "duration": 553,
    "start_time": "2022-01-21T19:11:35.771Z"
   },
   {
    "duration": 4,
    "start_time": "2022-01-21T19:11:58.939Z"
   },
   {
    "duration": 340,
    "start_time": "2022-01-21T19:12:07.230Z"
   },
   {
    "duration": 3,
    "start_time": "2022-01-21T19:12:59.522Z"
   },
   {
    "duration": 610,
    "start_time": "2022-01-21T19:13:00.074Z"
   },
   {
    "duration": 31,
    "start_time": "2022-01-21T19:13:00.686Z"
   },
   {
    "duration": 5,
    "start_time": "2022-01-21T19:13:16.530Z"
   },
   {
    "duration": 3,
    "start_time": "2022-01-21T19:13:51.113Z"
   },
   {
    "duration": 719,
    "start_time": "2022-01-21T19:13:52.289Z"
   },
   {
    "duration": 30,
    "start_time": "2022-01-21T19:13:53.249Z"
   },
   {
    "duration": 6,
    "start_time": "2022-01-21T19:13:54.122Z"
   },
   {
    "duration": 313,
    "start_time": "2022-01-21T19:14:03.841Z"
   },
   {
    "duration": 3,
    "start_time": "2022-01-21T19:14:04.474Z"
   },
   {
    "duration": 597,
    "start_time": "2022-01-21T19:14:05.650Z"
   },
   {
    "duration": 30,
    "start_time": "2022-01-21T19:14:07.448Z"
   },
   {
    "duration": 6,
    "start_time": "2022-01-21T19:14:08.137Z"
   },
   {
    "duration": 360,
    "start_time": "2022-01-21T19:14:15.913Z"
   },
   {
    "duration": 3,
    "start_time": "2022-01-21T19:14:16.489Z"
   },
   {
    "duration": 763,
    "start_time": "2022-01-21T19:14:17.009Z"
   },
   {
    "duration": 29,
    "start_time": "2022-01-21T19:14:17.773Z"
   },
   {
    "duration": 6,
    "start_time": "2022-01-21T19:14:18.617Z"
   },
   {
    "duration": 281,
    "start_time": "2022-01-21T19:14:24.728Z"
   },
   {
    "duration": 3,
    "start_time": "2022-01-21T19:14:25.360Z"
   },
   {
    "duration": 541,
    "start_time": "2022-01-21T19:14:25.848Z"
   },
   {
    "duration": 30,
    "start_time": "2022-01-21T19:14:26.481Z"
   },
   {
    "duration": 6,
    "start_time": "2022-01-21T19:14:27.369Z"
   },
   {
    "duration": 246,
    "start_time": "2022-01-21T19:14:37.216Z"
   },
   {
    "duration": 3,
    "start_time": "2022-01-21T19:14:37.784Z"
   },
   {
    "duration": 492,
    "start_time": "2022-01-21T19:14:38.329Z"
   },
   {
    "duration": 30,
    "start_time": "2022-01-21T19:14:38.944Z"
   },
   {
    "duration": 6,
    "start_time": "2022-01-21T19:14:39.505Z"
   },
   {
    "duration": 338,
    "start_time": "2022-01-21T19:14:52.136Z"
   },
   {
    "duration": 3,
    "start_time": "2022-01-21T19:14:52.648Z"
   },
   {
    "duration": 715,
    "start_time": "2022-01-21T19:14:53.057Z"
   },
   {
    "duration": 30,
    "start_time": "2022-01-21T19:14:53.774Z"
   },
   {
    "duration": 6,
    "start_time": "2022-01-21T19:14:54.176Z"
   },
   {
    "duration": 3,
    "start_time": "2022-01-21T19:18:36.461Z"
   },
   {
    "duration": 26,
    "start_time": "2022-01-21T19:18:37.230Z"
   },
   {
    "duration": 19,
    "start_time": "2022-01-21T19:18:37.823Z"
   },
   {
    "duration": 9,
    "start_time": "2022-01-21T19:18:40.901Z"
   },
   {
    "duration": 4,
    "start_time": "2022-01-21T19:18:41.492Z"
   },
   {
    "duration": 7,
    "start_time": "2022-01-21T19:18:42.141Z"
   },
   {
    "duration": 2,
    "start_time": "2022-01-21T19:18:45.525Z"
   },
   {
    "duration": 470,
    "start_time": "2022-01-21T19:18:46.748Z"
   },
   {
    "duration": 3,
    "start_time": "2022-01-21T19:18:49.188Z"
   },
   {
    "duration": 176,
    "start_time": "2022-01-21T19:18:50.157Z"
   },
   {
    "duration": 62,
    "start_time": "2022-01-21T19:18:50.973Z"
   },
   {
    "duration": 187,
    "start_time": "2022-01-21T19:19:00.604Z"
   },
   {
    "duration": 4,
    "start_time": "2022-01-21T19:19:02.276Z"
   },
   {
    "duration": 38,
    "start_time": "2022-01-21T19:19:03.604Z"
   },
   {
    "duration": 183,
    "start_time": "2022-01-21T19:19:04.732Z"
   },
   {
    "duration": 8,
    "start_time": "2022-01-21T19:19:16.437Z"
   },
   {
    "duration": 140,
    "start_time": "2022-01-21T19:19:17.853Z"
   },
   {
    "duration": 3,
    "start_time": "2022-01-21T19:19:24.084Z"
   },
   {
    "duration": 421,
    "start_time": "2022-01-21T19:19:25.340Z"
   },
   {
    "duration": 52,
    "start_time": "2022-01-21T19:19:26.724Z"
   },
   {
    "duration": 6,
    "start_time": "2022-01-21T19:19:27.349Z"
   },
   {
    "duration": 4,
    "start_time": "2022-01-21T19:19:33.947Z"
   },
   {
    "duration": 337,
    "start_time": "2022-01-21T19:19:34.908Z"
   },
   {
    "duration": 3,
    "start_time": "2022-01-21T19:19:35.588Z"
   },
   {
    "duration": 668,
    "start_time": "2022-01-21T19:19:36.203Z"
   },
   {
    "duration": 38,
    "start_time": "2022-01-21T19:19:39.244Z"
   },
   {
    "duration": 6,
    "start_time": "2022-01-21T19:19:40.036Z"
   },
   {
    "duration": 3,
    "start_time": "2022-01-21T19:19:49.403Z"
   },
   {
    "duration": 671,
    "start_time": "2022-01-21T19:19:49.980Z"
   },
   {
    "duration": 30,
    "start_time": "2022-01-21T19:19:50.787Z"
   },
   {
    "duration": 7,
    "start_time": "2022-01-21T19:19:51.602Z"
   },
   {
    "duration": 8,
    "start_time": "2022-01-21T19:20:09.835Z"
   },
   {
    "duration": 5,
    "start_time": "2022-01-21T19:20:23.658Z"
   },
   {
    "duration": 354,
    "start_time": "2022-01-21T19:20:24.482Z"
   },
   {
    "duration": 3,
    "start_time": "2022-01-21T19:20:25.499Z"
   },
   {
    "duration": 687,
    "start_time": "2022-01-21T19:20:26.219Z"
   },
   {
    "duration": 33,
    "start_time": "2022-01-21T19:20:27.347Z"
   },
   {
    "duration": 6,
    "start_time": "2022-01-21T19:20:30.195Z"
   },
   {
    "duration": 8,
    "start_time": "2022-01-21T19:20:30.954Z"
   },
   {
    "duration": 6,
    "start_time": "2022-01-21T19:22:49.207Z"
   },
   {
    "duration": 207,
    "start_time": "2022-01-21T19:36:07.318Z"
   },
   {
    "duration": 6,
    "start_time": "2022-01-21T19:36:53.700Z"
   },
   {
    "duration": 64,
    "start_time": "2022-01-21T19:41:38.806Z"
   },
   {
    "duration": 27,
    "start_time": "2022-01-21T19:41:39.596Z"
   },
   {
    "duration": 21,
    "start_time": "2022-01-21T19:41:40.302Z"
   },
   {
    "duration": 8,
    "start_time": "2022-01-21T19:41:43.604Z"
   },
   {
    "duration": 4,
    "start_time": "2022-01-21T19:41:45.197Z"
   },
   {
    "duration": 8,
    "start_time": "2022-01-21T19:41:46.596Z"
   },
   {
    "duration": 2,
    "start_time": "2022-01-21T19:41:50.780Z"
   },
   {
    "duration": 464,
    "start_time": "2022-01-21T19:41:52.140Z"
   },
   {
    "duration": 3,
    "start_time": "2022-01-21T19:42:01.580Z"
   },
   {
    "duration": 170,
    "start_time": "2022-01-21T19:42:03.852Z"
   },
   {
    "duration": 61,
    "start_time": "2022-01-21T19:42:05.292Z"
   },
   {
    "duration": 181,
    "start_time": "2022-01-21T19:42:08.900Z"
   },
   {
    "duration": 4,
    "start_time": "2022-01-21T19:42:21.347Z"
   },
   {
    "duration": 39,
    "start_time": "2022-01-21T19:42:22.020Z"
   },
   {
    "duration": 170,
    "start_time": "2022-01-21T19:42:23.036Z"
   },
   {
    "duration": 7,
    "start_time": "2022-01-21T19:42:29.619Z"
   },
   {
    "duration": 129,
    "start_time": "2022-01-21T19:42:30.539Z"
   },
   {
    "duration": 3,
    "start_time": "2022-01-21T19:42:34.084Z"
   },
   {
    "duration": 417,
    "start_time": "2022-01-21T19:42:35.060Z"
   },
   {
    "duration": 25,
    "start_time": "2022-01-21T19:42:36.148Z"
   },
   {
    "duration": 6,
    "start_time": "2022-01-21T19:42:36.748Z"
   },
   {
    "duration": 4,
    "start_time": "2022-01-21T19:42:54.075Z"
   },
   {
    "duration": 390,
    "start_time": "2022-01-21T19:42:55.739Z"
   },
   {
    "duration": 649,
    "start_time": "2022-01-21T19:42:57.147Z"
   },
   {
    "duration": 19,
    "start_time": "2022-01-21T19:42:59.226Z"
   },
   {
    "duration": 6,
    "start_time": "2022-01-21T19:42:59.771Z"
   },
   {
    "duration": 4,
    "start_time": "2022-01-21T19:47:15.326Z"
   },
   {
    "duration": 343,
    "start_time": "2022-01-21T19:47:15.821Z"
   },
   {
    "duration": 3,
    "start_time": "2022-01-21T19:47:16.349Z"
   },
   {
    "duration": 667,
    "start_time": "2022-01-21T19:47:17.409Z"
   },
   {
    "duration": 20,
    "start_time": "2022-01-21T19:47:20.644Z"
   },
   {
    "duration": 6,
    "start_time": "2022-01-21T19:47:21.949Z"
   },
   {
    "duration": 6,
    "start_time": "2022-01-21T19:48:24.723Z"
   },
   {
    "duration": 3,
    "start_time": "2022-01-21T19:48:58.419Z"
   },
   {
    "duration": 27,
    "start_time": "2022-01-21T19:48:58.883Z"
   },
   {
    "duration": 21,
    "start_time": "2022-01-21T19:48:59.172Z"
   },
   {
    "duration": 7,
    "start_time": "2022-01-21T19:48:59.435Z"
   },
   {
    "duration": 4,
    "start_time": "2022-01-21T19:48:59.706Z"
   },
   {
    "duration": 7,
    "start_time": "2022-01-21T19:48:59.947Z"
   },
   {
    "duration": 3,
    "start_time": "2022-01-21T19:49:00.195Z"
   },
   {
    "duration": 464,
    "start_time": "2022-01-21T19:49:00.411Z"
   },
   {
    "duration": 2,
    "start_time": "2022-01-21T19:49:00.877Z"
   },
   {
    "duration": 183,
    "start_time": "2022-01-21T19:49:00.884Z"
   },
   {
    "duration": 51,
    "start_time": "2022-01-21T19:49:01.125Z"
   },
   {
    "duration": 195,
    "start_time": "2022-01-21T19:49:01.874Z"
   },
   {
    "duration": 3,
    "start_time": "2022-01-21T19:49:02.219Z"
   },
   {
    "duration": 44,
    "start_time": "2022-01-21T19:49:02.522Z"
   },
   {
    "duration": 164,
    "start_time": "2022-01-21T19:49:02.834Z"
   },
   {
    "duration": 3,
    "start_time": "2022-01-21T19:49:03.338Z"
   },
   {
    "duration": 3,
    "start_time": "2022-01-21T19:49:03.674Z"
   },
   {
    "duration": 2,
    "start_time": "2022-01-21T19:49:03.979Z"
   },
   {
    "duration": 2,
    "start_time": "2022-01-21T19:49:04.434Z"
   },
   {
    "duration": 3,
    "start_time": "2022-01-21T19:49:04.746Z"
   },
   {
    "duration": 2,
    "start_time": "2022-01-21T19:49:05.044Z"
   },
   {
    "duration": 7,
    "start_time": "2022-01-21T19:49:06.731Z"
   },
   {
    "duration": 3,
    "start_time": "2022-01-21T19:50:59.256Z"
   },
   {
    "duration": 366,
    "start_time": "2022-01-21T19:50:59.769Z"
   },
   {
    "duration": 20,
    "start_time": "2022-01-21T19:51:00.463Z"
   },
   {
    "duration": 9,
    "start_time": "2022-01-21T19:51:01.018Z"
   },
   {
    "duration": 187,
    "start_time": "2022-01-21T20:12:27.970Z"
   },
   {
    "duration": 3,
    "start_time": "2022-01-21T20:12:32.610Z"
   },
   {
    "duration": 26,
    "start_time": "2022-01-21T20:12:33.001Z"
   },
   {
    "duration": 21,
    "start_time": "2022-01-21T20:12:33.339Z"
   },
   {
    "duration": 7,
    "start_time": "2022-01-21T20:12:33.730Z"
   },
   {
    "duration": 4,
    "start_time": "2022-01-21T20:12:36.520Z"
   },
   {
    "duration": 9,
    "start_time": "2022-01-21T20:12:37.104Z"
   },
   {
    "duration": 194,
    "start_time": "2022-01-21T20:12:42.552Z"
   },
   {
    "duration": 3,
    "start_time": "2022-01-21T20:12:43.369Z"
   },
   {
    "duration": 39,
    "start_time": "2022-01-21T20:12:44.369Z"
   },
   {
    "duration": 161,
    "start_time": "2022-01-21T20:12:45.139Z"
   },
   {
    "duration": 3,
    "start_time": "2022-01-21T20:12:53.912Z"
   },
   {
    "duration": 3,
    "start_time": "2022-01-21T20:15:42.796Z"
   },
   {
    "duration": 467,
    "start_time": "2022-01-21T20:15:43.238Z"
   },
   {
    "duration": 2,
    "start_time": "2022-01-21T20:15:43.707Z"
   },
   {
    "duration": 170,
    "start_time": "2022-01-21T20:15:44.965Z"
   },
   {
    "duration": 63,
    "start_time": "2022-01-21T20:15:45.676Z"
   },
   {
    "duration": 7,
    "start_time": "2022-01-21T20:15:50.557Z"
   },
   {
    "duration": 144,
    "start_time": "2022-01-21T20:15:51.717Z"
   },
   {
    "duration": 3,
    "start_time": "2022-01-21T20:15:54.980Z"
   },
   {
    "duration": 8436,
    "start_time": "2022-01-21T20:15:55.412Z"
   },
   {
    "duration": 13,
    "start_time": "2022-01-21T20:16:04.956Z"
   },
   {
    "duration": 6,
    "start_time": "2022-01-21T20:16:05.877Z"
   },
   {
    "duration": 4,
    "start_time": "2022-01-21T20:16:22.420Z"
   },
   {
    "duration": 693,
    "start_time": "2022-01-21T20:16:23.083Z"
   },
   {
    "duration": 3,
    "start_time": "2022-01-21T20:16:23.811Z"
   },
   {
    "duration": 4,
    "start_time": "2022-01-21T20:23:44.514Z"
   },
   {
    "duration": 49,
    "start_time": "2022-01-21T20:23:44.520Z"
   },
   {
    "duration": 25,
    "start_time": "2022-01-21T20:23:44.572Z"
   },
   {
    "duration": 14,
    "start_time": "2022-01-21T20:23:44.600Z"
   },
   {
    "duration": 5,
    "start_time": "2022-01-21T20:23:44.616Z"
   },
   {
    "duration": 44,
    "start_time": "2022-01-21T20:23:44.623Z"
   },
   {
    "duration": 216,
    "start_time": "2022-01-21T20:23:44.670Z"
   },
   {
    "duration": 3,
    "start_time": "2022-01-21T20:23:44.888Z"
   },
   {
    "duration": 44,
    "start_time": "2022-01-21T20:23:44.893Z"
   },
   {
    "duration": 200,
    "start_time": "2022-01-21T20:23:44.939Z"
   },
   {
    "duration": 2,
    "start_time": "2022-01-21T20:23:45.141Z"
   },
   {
    "duration": 6,
    "start_time": "2022-01-21T20:23:45.145Z"
   },
   {
    "duration": 482,
    "start_time": "2022-01-21T20:23:45.161Z"
   },
   {
    "duration": 3,
    "start_time": "2022-01-21T20:23:45.644Z"
   },
   {
    "duration": 197,
    "start_time": "2022-01-21T20:23:45.648Z"
   },
   {
    "duration": 69,
    "start_time": "2022-01-21T20:23:45.847Z"
   },
   {
    "duration": 6,
    "start_time": "2022-01-21T20:23:45.918Z"
   },
   {
    "duration": 152,
    "start_time": "2022-01-21T20:23:45.925Z"
   },
   {
    "duration": 3,
    "start_time": "2022-01-21T20:23:46.081Z"
   },
   {
    "duration": 7395,
    "start_time": "2022-01-21T20:23:46.086Z"
   },
   {
    "duration": 78,
    "start_time": "2022-01-21T20:23:53.483Z"
   },
   {
    "duration": 106,
    "start_time": "2022-01-21T20:23:53.563Z"
   },
   {
    "duration": 4,
    "start_time": "2022-01-21T20:23:58.553Z"
   },
   {
    "duration": 731,
    "start_time": "2022-01-21T20:23:59.938Z"
   },
   {
    "duration": 5,
    "start_time": "2022-01-21T20:24:30.976Z"
   },
   {
    "duration": 4,
    "start_time": "2022-01-21T20:25:51.503Z"
   },
   {
    "duration": 31,
    "start_time": "2022-01-21T20:25:51.509Z"
   },
   {
    "duration": 21,
    "start_time": "2022-01-21T20:25:51.542Z"
   },
   {
    "duration": 7,
    "start_time": "2022-01-21T20:25:51.565Z"
   },
   {
    "duration": 5,
    "start_time": "2022-01-21T20:25:51.574Z"
   },
   {
    "duration": 9,
    "start_time": "2022-01-21T20:25:51.580Z"
   },
   {
    "duration": 369,
    "start_time": "2022-01-21T20:25:51.592Z"
   },
   {
    "duration": 3,
    "start_time": "2022-01-21T20:25:51.963Z"
   },
   {
    "duration": 78,
    "start_time": "2022-01-21T20:25:51.968Z"
   },
   {
    "duration": 169,
    "start_time": "2022-01-21T20:25:52.048Z"
   },
   {
    "duration": 2,
    "start_time": "2022-01-21T20:25:52.219Z"
   },
   {
    "duration": 29,
    "start_time": "2022-01-21T20:25:52.223Z"
   },
   {
    "duration": 490,
    "start_time": "2022-01-21T20:25:52.254Z"
   },
   {
    "duration": 2,
    "start_time": "2022-01-21T20:25:52.746Z"
   },
   {
    "duration": 199,
    "start_time": "2022-01-21T20:25:52.750Z"
   },
   {
    "duration": 66,
    "start_time": "2022-01-21T20:25:52.951Z"
   },
   {
    "duration": 6,
    "start_time": "2022-01-21T20:25:53.019Z"
   },
   {
    "duration": 153,
    "start_time": "2022-01-21T20:25:53.027Z"
   },
   {
    "duration": 2,
    "start_time": "2022-01-21T20:25:53.183Z"
   },
   {
    "duration": 8081,
    "start_time": "2022-01-21T20:25:53.187Z"
   },
   {
    "duration": 97,
    "start_time": "2022-01-21T20:26:01.270Z"
   },
   {
    "duration": 101,
    "start_time": "2022-01-21T20:26:01.370Z"
   },
   {
    "duration": 10,
    "start_time": "2022-01-21T20:26:01.473Z"
   },
   {
    "duration": 792,
    "start_time": "2022-01-21T20:26:01.485Z"
   },
   {
    "duration": -844,
    "start_time": "2022-01-21T20:26:03.124Z"
   },
   {
    "duration": -848,
    "start_time": "2022-01-21T20:26:03.129Z"
   },
   {
    "duration": -856,
    "start_time": "2022-01-21T20:26:03.139Z"
   },
   {
    "duration": -858,
    "start_time": "2022-01-21T20:26:03.142Z"
   },
   {
    "duration": -862,
    "start_time": "2022-01-21T20:26:03.147Z"
   },
   {
    "duration": 4,
    "start_time": "2022-01-21T20:27:08.701Z"
   },
   {
    "duration": 56,
    "start_time": "2022-01-21T20:27:08.706Z"
   },
   {
    "duration": 36,
    "start_time": "2022-01-21T20:27:08.765Z"
   },
   {
    "duration": 32,
    "start_time": "2022-01-21T20:27:08.804Z"
   },
   {
    "duration": 29,
    "start_time": "2022-01-21T20:27:08.837Z"
   },
   {
    "duration": 25,
    "start_time": "2022-01-21T20:27:08.868Z"
   },
   {
    "duration": 202,
    "start_time": "2022-01-21T20:27:08.896Z"
   },
   {
    "duration": 3,
    "start_time": "2022-01-21T20:27:09.100Z"
   },
   {
    "duration": 78,
    "start_time": "2022-01-21T20:27:09.105Z"
   },
   {
    "duration": 171,
    "start_time": "2022-01-21T20:27:09.185Z"
   },
   {
    "duration": 3,
    "start_time": "2022-01-21T20:27:09.358Z"
   },
   {
    "duration": 33,
    "start_time": "2022-01-21T20:27:09.362Z"
   },
   {
    "duration": 24,
    "start_time": "2022-01-21T20:27:09.397Z"
   },
   {
    "duration": 13,
    "start_time": "2022-01-21T20:27:09.423Z"
   },
   {
    "duration": 31,
    "start_time": "2022-01-21T20:27:09.438Z"
   },
   {
    "duration": 14,
    "start_time": "2022-01-21T20:27:09.470Z"
   },
   {
    "duration": 29,
    "start_time": "2022-01-21T20:27:09.485Z"
   },
   {
    "duration": 157,
    "start_time": "2022-01-21T20:27:09.516Z"
   },
   {
    "duration": 3,
    "start_time": "2022-01-21T20:27:09.676Z"
   },
   {
    "duration": 484,
    "start_time": "2022-01-21T20:27:09.681Z"
   },
   {
    "duration": 31,
    "start_time": "2022-01-21T20:27:10.167Z"
   },
   {
    "duration": 9,
    "start_time": "2022-01-21T20:27:10.262Z"
   },
   {
    "duration": 33,
    "start_time": "2022-01-21T20:27:10.362Z"
   },
   {
    "duration": 366,
    "start_time": "2022-01-21T20:27:10.397Z"
   },
   {
    "duration": 2,
    "start_time": "2022-01-21T20:27:10.765Z"
   },
   {
    "duration": 712,
    "start_time": "2022-01-21T20:27:10.769Z"
   },
   {
    "duration": 29,
    "start_time": "2022-01-21T20:27:11.483Z"
   },
   {
    "duration": 98,
    "start_time": "2022-01-21T20:27:11.562Z"
   },
   {
    "duration": 19,
    "start_time": "2022-01-21T20:27:11.662Z"
   },
   {
    "duration": 4,
    "start_time": "2022-01-21T20:31:04.658Z"
   },
   {
    "duration": 38,
    "start_time": "2022-01-21T20:31:04.664Z"
   },
   {
    "duration": 21,
    "start_time": "2022-01-21T20:31:04.704Z"
   },
   {
    "duration": 9,
    "start_time": "2022-01-21T20:31:04.726Z"
   },
   {
    "duration": 24,
    "start_time": "2022-01-21T20:31:04.737Z"
   },
   {
    "duration": 7,
    "start_time": "2022-01-21T20:31:04.763Z"
   },
   {
    "duration": 207,
    "start_time": "2022-01-21T20:31:04.773Z"
   },
   {
    "duration": 3,
    "start_time": "2022-01-21T20:31:04.982Z"
   },
   {
    "duration": 66,
    "start_time": "2022-01-21T20:31:04.987Z"
   },
   {
    "duration": 165,
    "start_time": "2022-01-21T20:31:05.054Z"
   },
   {
    "duration": 2,
    "start_time": "2022-01-21T20:31:05.221Z"
   },
   {
    "duration": 8,
    "start_time": "2022-01-21T20:31:05.225Z"
   },
   {
    "duration": 14,
    "start_time": "2022-01-21T20:31:05.235Z"
   },
   {
    "duration": 10,
    "start_time": "2022-01-21T20:31:05.250Z"
   },
   {
    "duration": 18,
    "start_time": "2022-01-21T20:31:05.262Z"
   },
   {
    "duration": 9,
    "start_time": "2022-01-21T20:31:05.282Z"
   },
   {
    "duration": 19,
    "start_time": "2022-01-21T20:31:05.293Z"
   },
   {
    "duration": 148,
    "start_time": "2022-01-21T20:31:05.314Z"
   },
   {
    "duration": 3,
    "start_time": "2022-01-21T20:31:05.465Z"
   },
   {
    "duration": 421,
    "start_time": "2022-01-21T20:31:05.470Z"
   },
   {
    "duration": 71,
    "start_time": "2022-01-21T20:31:05.893Z"
   },
   {
    "duration": 97,
    "start_time": "2022-01-21T20:31:05.966Z"
   },
   {
    "duration": 7,
    "start_time": "2022-01-21T20:31:06.065Z"
   },
   {
    "duration": 358,
    "start_time": "2022-01-21T20:31:06.074Z"
   },
   {
    "duration": 2,
    "start_time": "2022-01-21T20:31:06.434Z"
   },
   {
    "duration": 736,
    "start_time": "2022-01-21T20:31:06.438Z"
   },
   {
    "duration": 85,
    "start_time": "2022-01-21T20:31:07.176Z"
   },
   {
    "duration": 98,
    "start_time": "2022-01-21T20:31:07.263Z"
   },
   {
    "duration": 6,
    "start_time": "2022-01-21T20:31:07.363Z"
   },
   {
    "duration": 3,
    "start_time": "2022-01-21T20:32:39.534Z"
   },
   {
    "duration": 34,
    "start_time": "2022-01-21T20:32:39.539Z"
   },
   {
    "duration": 22,
    "start_time": "2022-01-21T20:32:39.575Z"
   },
   {
    "duration": 9,
    "start_time": "2022-01-21T20:32:39.599Z"
   },
   {
    "duration": 5,
    "start_time": "2022-01-21T20:32:39.609Z"
   },
   {
    "duration": 50,
    "start_time": "2022-01-21T20:32:39.616Z"
   },
   {
    "duration": 211,
    "start_time": "2022-01-21T20:32:39.670Z"
   },
   {
    "duration": 3,
    "start_time": "2022-01-21T20:32:39.884Z"
   },
   {
    "duration": 40,
    "start_time": "2022-01-21T20:32:39.890Z"
   },
   {
    "duration": 199,
    "start_time": "2022-01-21T20:32:39.932Z"
   },
   {
    "duration": 3,
    "start_time": "2022-01-21T20:32:40.133Z"
   },
   {
    "duration": 16,
    "start_time": "2022-01-21T20:32:40.138Z"
   },
   {
    "duration": 19,
    "start_time": "2022-01-21T20:32:40.156Z"
   },
   {
    "duration": 3,
    "start_time": "2022-01-21T20:32:40.177Z"
   },
   {
    "duration": 24,
    "start_time": "2022-01-21T20:32:40.182Z"
   },
   {
    "duration": 12,
    "start_time": "2022-01-21T20:32:40.207Z"
   },
   {
    "duration": 9,
    "start_time": "2022-01-21T20:32:40.220Z"
   },
   {
    "duration": 169,
    "start_time": "2022-01-21T20:32:40.231Z"
   },
   {
    "duration": 3,
    "start_time": "2022-01-21T20:32:40.404Z"
   },
   {
    "duration": 385,
    "start_time": "2022-01-21T20:32:40.409Z"
   },
   {
    "duration": 70,
    "start_time": "2022-01-21T20:32:40.796Z"
   },
   {
    "duration": 95,
    "start_time": "2022-01-21T20:32:40.869Z"
   },
   {
    "duration": 6,
    "start_time": "2022-01-21T20:32:40.966Z"
   },
   {
    "duration": 436,
    "start_time": "2022-01-21T20:32:40.974Z"
   },
   {
    "duration": 3,
    "start_time": "2022-01-21T20:32:41.412Z"
   },
   {
    "duration": 720,
    "start_time": "2022-01-21T20:32:41.416Z"
   },
   {
    "duration": 39,
    "start_time": "2022-01-21T20:32:42.137Z"
   },
   {
    "duration": 86,
    "start_time": "2022-01-21T20:32:42.179Z"
   },
   {
    "duration": 106,
    "start_time": "2022-01-21T20:32:42.267Z"
   },
   {
    "duration": 3,
    "start_time": "2022-01-21T20:34:08.901Z"
   },
   {
    "duration": 36,
    "start_time": "2022-01-21T20:34:08.907Z"
   },
   {
    "duration": 32,
    "start_time": "2022-01-21T20:34:08.945Z"
   },
   {
    "duration": 9,
    "start_time": "2022-01-21T20:34:08.979Z"
   },
   {
    "duration": 3,
    "start_time": "2022-01-21T20:34:08.990Z"
   },
   {
    "duration": 10,
    "start_time": "2022-01-21T20:34:08.994Z"
   },
   {
    "duration": 227,
    "start_time": "2022-01-21T20:34:09.006Z"
   },
   {
    "duration": 3,
    "start_time": "2022-01-21T20:34:09.235Z"
   },
   {
    "duration": 48,
    "start_time": "2022-01-21T20:34:09.240Z"
   },
   {
    "duration": 178,
    "start_time": "2022-01-21T20:34:09.289Z"
   },
   {
    "duration": 4,
    "start_time": "2022-01-21T20:34:09.469Z"
   },
   {
    "duration": 6,
    "start_time": "2022-01-21T20:34:09.475Z"
   },
   {
    "duration": 11,
    "start_time": "2022-01-21T20:34:09.483Z"
   },
   {
    "duration": 2,
    "start_time": "2022-01-21T20:34:09.496Z"
   },
   {
    "duration": 19,
    "start_time": "2022-01-21T20:34:09.500Z"
   },
   {
    "duration": 40,
    "start_time": "2022-01-21T20:34:09.521Z"
   },
   {
    "duration": 9,
    "start_time": "2022-01-21T20:34:09.563Z"
   },
   {
    "duration": 157,
    "start_time": "2022-01-21T20:34:09.574Z"
   },
   {
    "duration": 3,
    "start_time": "2022-01-21T20:34:09.735Z"
   },
   {
    "duration": 431,
    "start_time": "2022-01-21T20:34:09.740Z"
   },
   {
    "duration": 188,
    "start_time": "2022-01-21T20:34:10.173Z"
   },
   {
    "duration": 5,
    "start_time": "2022-01-21T20:34:10.365Z"
   },
   {
    "duration": 5,
    "start_time": "2022-01-21T20:34:10.372Z"
   },
   {
    "duration": 346,
    "start_time": "2022-01-21T20:34:10.379Z"
   },
   {
    "duration": 2,
    "start_time": "2022-01-21T20:34:10.727Z"
   },
   {
    "duration": 693,
    "start_time": "2022-01-21T20:34:10.731Z"
   },
   {
    "duration": 49,
    "start_time": "2022-01-21T20:34:11.425Z"
   },
   {
    "duration": 90,
    "start_time": "2022-01-21T20:34:11.477Z"
   },
   {
    "duration": 92,
    "start_time": "2022-01-21T20:34:11.569Z"
   },
   {
    "duration": 4,
    "start_time": "2022-01-21T20:35:21.787Z"
   },
   {
    "duration": 49,
    "start_time": "2022-01-21T20:35:21.793Z"
   },
   {
    "duration": 24,
    "start_time": "2022-01-21T20:35:21.844Z"
   },
   {
    "duration": 31,
    "start_time": "2022-01-21T20:35:21.870Z"
   },
   {
    "duration": 21,
    "start_time": "2022-01-21T20:35:21.903Z"
   },
   {
    "duration": 42,
    "start_time": "2022-01-21T20:35:21.926Z"
   },
   {
    "duration": 209,
    "start_time": "2022-01-21T20:35:21.971Z"
   },
   {
    "duration": 3,
    "start_time": "2022-01-21T20:35:22.182Z"
   },
   {
    "duration": 62,
    "start_time": "2022-01-21T20:35:22.187Z"
   },
   {
    "duration": 158,
    "start_time": "2022-01-21T20:35:22.251Z"
   },
   {
    "duration": 3,
    "start_time": "2022-01-21T20:35:22.411Z"
   },
   {
    "duration": 28,
    "start_time": "2022-01-21T20:35:22.415Z"
   },
   {
    "duration": 26,
    "start_time": "2022-01-21T20:35:22.445Z"
   },
   {
    "duration": 28,
    "start_time": "2022-01-21T20:35:22.472Z"
   },
   {
    "duration": 42,
    "start_time": "2022-01-21T20:35:22.502Z"
   },
   {
    "duration": 18,
    "start_time": "2022-01-21T20:35:22.545Z"
   },
   {
    "duration": 20,
    "start_time": "2022-01-21T20:35:22.565Z"
   },
   {
    "duration": 154,
    "start_time": "2022-01-21T20:35:22.587Z"
   },
   {
    "duration": 2,
    "start_time": "2022-01-21T20:35:22.745Z"
   },
   {
    "duration": 440,
    "start_time": "2022-01-21T20:35:22.749Z"
   },
   {
    "duration": 74,
    "start_time": "2022-01-21T20:35:23.190Z"
   },
   {
    "duration": 95,
    "start_time": "2022-01-21T20:35:23.268Z"
   },
   {
    "duration": 18,
    "start_time": "2022-01-21T20:35:23.365Z"
   },
   {
    "duration": 363,
    "start_time": "2022-01-21T20:35:23.385Z"
   },
   {
    "duration": 630,
    "start_time": "2022-01-21T20:35:23.750Z"
   },
   {
    "duration": -864,
    "start_time": "2022-01-21T20:35:25.246Z"
   },
   {
    "duration": -871,
    "start_time": "2022-01-21T20:35:25.253Z"
   },
   {
    "duration": -882,
    "start_time": "2022-01-21T20:35:25.265Z"
   },
   {
    "duration": -889,
    "start_time": "2022-01-21T20:35:25.273Z"
   },
   {
    "duration": 3,
    "start_time": "2022-01-21T20:35:37.939Z"
   },
   {
    "duration": 55,
    "start_time": "2022-01-21T20:35:37.944Z"
   },
   {
    "duration": 52,
    "start_time": "2022-01-21T20:35:38.002Z"
   },
   {
    "duration": 40,
    "start_time": "2022-01-21T20:35:38.055Z"
   },
   {
    "duration": 38,
    "start_time": "2022-01-21T20:35:38.097Z"
   },
   {
    "duration": 38,
    "start_time": "2022-01-21T20:35:38.137Z"
   },
   {
    "duration": 218,
    "start_time": "2022-01-21T20:35:38.179Z"
   },
   {
    "duration": 3,
    "start_time": "2022-01-21T20:35:38.399Z"
   },
   {
    "duration": 62,
    "start_time": "2022-01-21T20:35:38.403Z"
   },
   {
    "duration": 166,
    "start_time": "2022-01-21T20:35:38.466Z"
   },
   {
    "duration": 2,
    "start_time": "2022-01-21T20:35:38.634Z"
   },
   {
    "duration": 6,
    "start_time": "2022-01-21T20:35:38.638Z"
   },
   {
    "duration": 20,
    "start_time": "2022-01-21T20:35:38.646Z"
   },
   {
    "duration": 4,
    "start_time": "2022-01-21T20:35:38.668Z"
   },
   {
    "duration": 18,
    "start_time": "2022-01-21T20:35:38.674Z"
   },
   {
    "duration": 10,
    "start_time": "2022-01-21T20:35:38.694Z"
   },
   {
    "duration": 6,
    "start_time": "2022-01-21T20:35:38.705Z"
   },
   {
    "duration": 171,
    "start_time": "2022-01-21T20:35:38.712Z"
   },
   {
    "duration": 3,
    "start_time": "2022-01-21T20:35:38.886Z"
   },
   {
    "duration": 417,
    "start_time": "2022-01-21T20:35:38.890Z"
   },
   {
    "duration": 66,
    "start_time": "2022-01-21T20:35:39.309Z"
   },
   {
    "duration": 9,
    "start_time": "2022-01-21T20:35:39.461Z"
   },
   {
    "duration": 5,
    "start_time": "2022-01-21T20:35:39.473Z"
   },
   {
    "duration": 519,
    "start_time": "2022-01-21T20:35:39.480Z"
   },
   {
    "duration": 3,
    "start_time": "2022-01-21T20:35:40.002Z"
   },
   {
    "duration": 668,
    "start_time": "2022-01-21T20:35:40.008Z"
   },
   {
    "duration": 85,
    "start_time": "2022-01-21T20:35:40.678Z"
   },
   {
    "duration": 101,
    "start_time": "2022-01-21T20:35:40.765Z"
   },
   {
    "duration": 18,
    "start_time": "2022-01-21T20:35:40.868Z"
   },
   {
    "duration": 5,
    "start_time": "2022-01-21T20:37:12.864Z"
   },
   {
    "duration": 44,
    "start_time": "2022-01-21T20:37:12.871Z"
   },
   {
    "duration": 20,
    "start_time": "2022-01-21T20:37:12.917Z"
   },
   {
    "duration": 19,
    "start_time": "2022-01-21T20:37:12.939Z"
   },
   {
    "duration": 7,
    "start_time": "2022-01-21T20:37:12.960Z"
   },
   {
    "duration": 15,
    "start_time": "2022-01-21T20:37:12.968Z"
   },
   {
    "duration": 217,
    "start_time": "2022-01-21T20:37:12.984Z"
   },
   {
    "duration": 3,
    "start_time": "2022-01-21T20:37:13.204Z"
   },
   {
    "duration": 54,
    "start_time": "2022-01-21T20:37:13.209Z"
   },
   {
    "duration": 177,
    "start_time": "2022-01-21T20:37:13.264Z"
   },
   {
    "duration": 3,
    "start_time": "2022-01-21T20:37:13.442Z"
   },
   {
    "duration": 28,
    "start_time": "2022-01-21T20:37:13.447Z"
   },
   {
    "duration": 32,
    "start_time": "2022-01-21T20:37:13.476Z"
   },
   {
    "duration": 12,
    "start_time": "2022-01-21T20:37:13.509Z"
   },
   {
    "duration": 54,
    "start_time": "2022-01-21T20:37:13.523Z"
   },
   {
    "duration": 11,
    "start_time": "2022-01-21T20:37:13.579Z"
   },
   {
    "duration": 24,
    "start_time": "2022-01-21T20:37:13.592Z"
   },
   {
    "duration": 156,
    "start_time": "2022-01-21T20:37:13.618Z"
   },
   {
    "duration": 3,
    "start_time": "2022-01-21T20:37:13.776Z"
   },
   {
    "duration": 429,
    "start_time": "2022-01-21T20:37:13.780Z"
   },
   {
    "duration": 59,
    "start_time": "2022-01-21T20:37:14.210Z"
   },
   {
    "duration": 98,
    "start_time": "2022-01-21T20:37:14.363Z"
   },
   {
    "duration": 4,
    "start_time": "2022-01-21T20:37:14.464Z"
   },
   {
    "duration": 408,
    "start_time": "2022-01-21T20:37:14.470Z"
   },
   {
    "duration": 3,
    "start_time": "2022-01-21T20:37:14.880Z"
   },
   {
    "duration": 628,
    "start_time": "2022-01-21T20:37:14.884Z"
   },
   {
    "duration": 59,
    "start_time": "2022-01-21T20:37:15.514Z"
   },
   {
    "duration": 89,
    "start_time": "2022-01-21T20:37:15.576Z"
   },
   {
    "duration": 108,
    "start_time": "2022-01-21T20:37:15.667Z"
   },
   {
    "duration": 3,
    "start_time": "2022-01-21T20:38:15.216Z"
   },
   {
    "duration": 66,
    "start_time": "2022-01-21T20:38:15.222Z"
   },
   {
    "duration": 26,
    "start_time": "2022-01-21T20:38:15.290Z"
   },
   {
    "duration": 36,
    "start_time": "2022-01-21T20:38:15.319Z"
   },
   {
    "duration": 18,
    "start_time": "2022-01-21T20:38:15.357Z"
   },
   {
    "duration": 38,
    "start_time": "2022-01-21T20:38:15.377Z"
   },
   {
    "duration": 352,
    "start_time": "2022-01-21T20:38:15.419Z"
   },
   {
    "duration": 4,
    "start_time": "2022-01-21T20:38:15.774Z"
   },
   {
    "duration": 45,
    "start_time": "2022-01-21T20:38:15.780Z"
   },
   {
    "duration": 294,
    "start_time": "2022-01-21T20:38:15.828Z"
   },
   {
    "duration": 4,
    "start_time": "2022-01-21T20:38:16.124Z"
   },
   {
    "duration": 7,
    "start_time": "2022-01-21T20:38:16.130Z"
   },
   {
    "duration": 28,
    "start_time": "2022-01-21T20:38:16.139Z"
   },
   {
    "duration": 4,
    "start_time": "2022-01-21T20:38:16.169Z"
   },
   {
    "duration": 19,
    "start_time": "2022-01-21T20:38:16.175Z"
   },
   {
    "duration": 11,
    "start_time": "2022-01-21T20:38:16.196Z"
   },
   {
    "duration": 9,
    "start_time": "2022-01-21T20:38:16.208Z"
   },
   {
    "duration": 158,
    "start_time": "2022-01-21T20:38:16.218Z"
   },
   {
    "duration": 3,
    "start_time": "2022-01-21T20:38:16.379Z"
   },
   {
    "duration": 433,
    "start_time": "2022-01-21T20:38:16.383Z"
   },
   {
    "duration": 50,
    "start_time": "2022-01-21T20:38:16.818Z"
   },
   {
    "duration": 93,
    "start_time": "2022-01-21T20:38:16.870Z"
   },
   {
    "duration": 6,
    "start_time": "2022-01-21T20:38:16.966Z"
   },
   {
    "duration": 503,
    "start_time": "2022-01-21T20:38:16.974Z"
   },
   {
    "duration": 3,
    "start_time": "2022-01-21T20:38:17.479Z"
   },
   {
    "duration": 782,
    "start_time": "2022-01-21T20:38:17.484Z"
   },
   {
    "duration": 97,
    "start_time": "2022-01-21T20:38:18.268Z"
   },
   {
    "duration": 93,
    "start_time": "2022-01-21T20:38:18.368Z"
   },
   {
    "duration": 10,
    "start_time": "2022-01-21T20:38:18.463Z"
   },
   {
    "duration": 3,
    "start_time": "2022-01-21T20:41:07.285Z"
   },
   {
    "duration": 33,
    "start_time": "2022-01-21T20:41:07.290Z"
   },
   {
    "duration": 22,
    "start_time": "2022-01-21T20:41:07.325Z"
   },
   {
    "duration": 9,
    "start_time": "2022-01-21T20:41:07.349Z"
   },
   {
    "duration": 5,
    "start_time": "2022-01-21T20:41:07.359Z"
   },
   {
    "duration": 12,
    "start_time": "2022-01-21T20:41:07.366Z"
   },
   {
    "duration": 230,
    "start_time": "2022-01-21T20:41:07.380Z"
   },
   {
    "duration": 4,
    "start_time": "2022-01-21T20:41:07.613Z"
   },
   {
    "duration": 57,
    "start_time": "2022-01-21T20:41:07.619Z"
   },
   {
    "duration": 179,
    "start_time": "2022-01-21T20:41:07.678Z"
   },
   {
    "duration": 3,
    "start_time": "2022-01-21T20:41:07.860Z"
   },
   {
    "duration": 27,
    "start_time": "2022-01-21T20:41:07.865Z"
   },
   {
    "duration": 20,
    "start_time": "2022-01-21T20:41:07.894Z"
   },
   {
    "duration": 20,
    "start_time": "2022-01-21T20:41:07.916Z"
   },
   {
    "duration": 30,
    "start_time": "2022-01-21T20:41:07.938Z"
   },
   {
    "duration": 10,
    "start_time": "2022-01-21T20:41:07.970Z"
   },
   {
    "duration": 6,
    "start_time": "2022-01-21T20:41:07.982Z"
   },
   {
    "duration": 164,
    "start_time": "2022-01-21T20:41:07.989Z"
   },
   {
    "duration": 4,
    "start_time": "2022-01-21T20:41:08.156Z"
   },
   {
    "duration": 432,
    "start_time": "2022-01-21T20:41:08.162Z"
   },
   {
    "duration": 73,
    "start_time": "2022-01-21T20:41:08.595Z"
   },
   {
    "duration": 95,
    "start_time": "2022-01-21T20:41:08.670Z"
   },
   {
    "duration": 4,
    "start_time": "2022-01-21T20:41:08.767Z"
   },
   {
    "duration": 354,
    "start_time": "2022-01-21T20:41:08.773Z"
   },
   {
    "duration": 3,
    "start_time": "2022-01-21T20:41:09.128Z"
   },
   {
    "duration": 699,
    "start_time": "2022-01-21T20:41:09.133Z"
   },
   {
    "duration": 43,
    "start_time": "2022-01-21T20:41:09.834Z"
   },
   {
    "duration": 87,
    "start_time": "2022-01-21T20:41:09.879Z"
   },
   {
    "duration": 97,
    "start_time": "2022-01-21T20:41:09.968Z"
   },
   {
    "duration": 4,
    "start_time": "2022-01-21T20:41:37.116Z"
   },
   {
    "duration": 28,
    "start_time": "2022-01-21T20:41:37.123Z"
   },
   {
    "duration": 26,
    "start_time": "2022-01-21T20:41:37.153Z"
   },
   {
    "duration": 11,
    "start_time": "2022-01-21T20:41:37.181Z"
   },
   {
    "duration": 5,
    "start_time": "2022-01-21T20:41:37.194Z"
   },
   {
    "duration": 7,
    "start_time": "2022-01-21T20:41:37.201Z"
   },
   {
    "duration": 225,
    "start_time": "2022-01-21T20:41:37.211Z"
   },
   {
    "duration": 4,
    "start_time": "2022-01-21T20:41:37.439Z"
   },
   {
    "duration": 53,
    "start_time": "2022-01-21T20:41:37.445Z"
   },
   {
    "duration": 235,
    "start_time": "2022-01-21T20:41:37.500Z"
   },
   {
    "duration": 3,
    "start_time": "2022-01-21T20:41:37.736Z"
   },
   {
    "duration": 5,
    "start_time": "2022-01-21T20:41:37.741Z"
   },
   {
    "duration": 19,
    "start_time": "2022-01-21T20:41:37.747Z"
   },
   {
    "duration": 3,
    "start_time": "2022-01-21T20:41:37.768Z"
   },
   {
    "duration": 16,
    "start_time": "2022-01-21T20:41:37.773Z"
   },
   {
    "duration": 8,
    "start_time": "2022-01-21T20:41:37.791Z"
   },
   {
    "duration": 5,
    "start_time": "2022-01-21T20:41:37.801Z"
   },
   {
    "duration": 184,
    "start_time": "2022-01-21T20:41:37.808Z"
   },
   {
    "duration": 3,
    "start_time": "2022-01-21T20:41:37.995Z"
   },
   {
    "duration": 519,
    "start_time": "2022-01-21T20:41:38.000Z"
   },
   {
    "duration": 42,
    "start_time": "2022-01-21T20:41:38.521Z"
   },
   {
    "duration": 6,
    "start_time": "2022-01-21T20:41:38.565Z"
   },
   {
    "duration": 5,
    "start_time": "2022-01-21T20:41:38.662Z"
   },
   {
    "duration": 436,
    "start_time": "2022-01-21T20:41:38.669Z"
   },
   {
    "duration": 2,
    "start_time": "2022-01-21T20:41:39.107Z"
   },
   {
    "duration": 703,
    "start_time": "2022-01-21T20:41:39.111Z"
   },
   {
    "duration": 48,
    "start_time": "2022-01-21T20:41:39.815Z"
   },
   {
    "duration": 98,
    "start_time": "2022-01-21T20:41:39.866Z"
   },
   {
    "duration": 100,
    "start_time": "2022-01-21T20:41:39.967Z"
   },
   {
    "duration": 4,
    "start_time": "2022-01-21T20:42:24.018Z"
   },
   {
    "duration": 52,
    "start_time": "2022-01-21T20:42:24.024Z"
   },
   {
    "duration": 20,
    "start_time": "2022-01-21T20:42:24.078Z"
   },
   {
    "duration": 25,
    "start_time": "2022-01-21T20:42:24.100Z"
   },
   {
    "duration": 22,
    "start_time": "2022-01-21T20:42:24.127Z"
   },
   {
    "duration": 25,
    "start_time": "2022-01-21T20:42:24.151Z"
   },
   {
    "duration": 198,
    "start_time": "2022-01-21T20:42:24.179Z"
   },
   {
    "duration": 4,
    "start_time": "2022-01-21T20:42:24.379Z"
   },
   {
    "duration": 60,
    "start_time": "2022-01-21T20:42:24.385Z"
   },
   {
    "duration": 175,
    "start_time": "2022-01-21T20:42:24.447Z"
   },
   {
    "duration": 2,
    "start_time": "2022-01-21T20:42:24.625Z"
   },
   {
    "duration": 29,
    "start_time": "2022-01-21T20:42:24.629Z"
   },
   {
    "duration": 28,
    "start_time": "2022-01-21T20:42:24.660Z"
   },
   {
    "duration": 29,
    "start_time": "2022-01-21T20:42:24.690Z"
   },
   {
    "duration": 28,
    "start_time": "2022-01-21T20:42:24.720Z"
   },
   {
    "duration": 23,
    "start_time": "2022-01-21T20:42:24.749Z"
   },
   {
    "duration": 25,
    "start_time": "2022-01-21T20:42:24.773Z"
   },
   {
    "duration": 147,
    "start_time": "2022-01-21T20:42:24.800Z"
   },
   {
    "duration": 3,
    "start_time": "2022-01-21T20:42:24.950Z"
   },
   {
    "duration": 432,
    "start_time": "2022-01-21T20:42:24.955Z"
   },
   {
    "duration": 75,
    "start_time": "2022-01-21T20:42:25.388Z"
   },
   {
    "duration": 96,
    "start_time": "2022-01-21T20:42:25.466Z"
   },
   {
    "duration": 5,
    "start_time": "2022-01-21T20:42:25.563Z"
   },
   {
    "duration": 465,
    "start_time": "2022-01-21T20:42:25.569Z"
   },
   {
    "duration": 3,
    "start_time": "2022-01-21T20:42:26.036Z"
   },
   {
    "duration": 692,
    "start_time": "2022-01-21T20:42:26.040Z"
   },
   {
    "duration": 45,
    "start_time": "2022-01-21T20:42:26.734Z"
   },
   {
    "duration": 97,
    "start_time": "2022-01-21T20:42:26.781Z"
   },
   {
    "duration": 104,
    "start_time": "2022-01-21T20:42:26.880Z"
   },
   {
    "duration": 3,
    "start_time": "2022-01-21T20:53:30.256Z"
   },
   {
    "duration": 31,
    "start_time": "2022-01-21T20:53:30.261Z"
   },
   {
    "duration": 31,
    "start_time": "2022-01-21T20:53:30.294Z"
   },
   {
    "duration": 22,
    "start_time": "2022-01-21T20:53:30.328Z"
   },
   {
    "duration": 15,
    "start_time": "2022-01-21T20:53:30.352Z"
   },
   {
    "duration": 54,
    "start_time": "2022-01-21T20:53:30.369Z"
   },
   {
    "duration": 224,
    "start_time": "2022-01-21T20:53:30.425Z"
   },
   {
    "duration": 9,
    "start_time": "2022-01-21T20:53:30.652Z"
   },
   {
    "duration": 58,
    "start_time": "2022-01-21T20:53:30.664Z"
   },
   {
    "duration": 184,
    "start_time": "2022-01-21T20:53:30.724Z"
   },
   {
    "duration": 4,
    "start_time": "2022-01-21T20:53:30.910Z"
   },
   {
    "duration": 22,
    "start_time": "2022-01-21T20:53:30.916Z"
   },
   {
    "duration": 25,
    "start_time": "2022-01-21T20:53:30.940Z"
   },
   {
    "duration": 23,
    "start_time": "2022-01-21T20:53:30.967Z"
   },
   {
    "duration": 32,
    "start_time": "2022-01-21T20:53:30.992Z"
   },
   {
    "duration": 20,
    "start_time": "2022-01-21T20:53:31.026Z"
   },
   {
    "duration": 24,
    "start_time": "2022-01-21T20:53:31.049Z"
   },
   {
    "duration": 156,
    "start_time": "2022-01-21T20:53:31.076Z"
   },
   {
    "duration": 3,
    "start_time": "2022-01-21T20:53:31.234Z"
   },
   {
    "duration": 552,
    "start_time": "2022-01-21T20:53:31.239Z"
   },
   {
    "duration": 75,
    "start_time": "2022-01-21T20:53:31.793Z"
   },
   {
    "duration": 104,
    "start_time": "2022-01-21T20:53:31.871Z"
   },
   {
    "duration": 18,
    "start_time": "2022-01-21T20:53:31.979Z"
   },
   {
    "duration": 510,
    "start_time": "2022-01-21T20:53:31.999Z"
   },
   {
    "duration": 3,
    "start_time": "2022-01-21T20:53:32.511Z"
   },
   {
    "duration": 768,
    "start_time": "2022-01-21T20:53:32.515Z"
   },
   {
    "duration": 87,
    "start_time": "2022-01-21T20:53:33.285Z"
   },
   {
    "duration": 87,
    "start_time": "2022-01-21T20:53:33.375Z"
   },
   {
    "duration": 9,
    "start_time": "2022-01-21T20:53:33.464Z"
   },
   {
    "duration": 4,
    "start_time": "2022-01-21T20:54:07.782Z"
   },
   {
    "duration": 386,
    "start_time": "2022-01-21T20:54:08.714Z"
   },
   {
    "duration": 31,
    "start_time": "2022-01-21T20:54:09.914Z"
   },
   {
    "duration": 7,
    "start_time": "2022-01-21T20:54:10.402Z"
   },
   {
    "duration": 3,
    "start_time": "2022-01-21T20:54:13.354Z"
   },
   {
    "duration": 51,
    "start_time": "2022-01-21T20:54:13.358Z"
   },
   {
    "duration": 18,
    "start_time": "2022-01-21T20:54:13.411Z"
   },
   {
    "duration": 22,
    "start_time": "2022-01-21T20:54:13.431Z"
   },
   {
    "duration": 16,
    "start_time": "2022-01-21T20:54:13.454Z"
   },
   {
    "duration": 24,
    "start_time": "2022-01-21T20:54:13.472Z"
   },
   {
    "duration": 193,
    "start_time": "2022-01-21T20:54:13.499Z"
   },
   {
    "duration": 3,
    "start_time": "2022-01-21T20:54:13.694Z"
   },
   {
    "duration": 61,
    "start_time": "2022-01-21T20:54:13.699Z"
   },
   {
    "duration": 178,
    "start_time": "2022-01-21T20:54:13.762Z"
   },
   {
    "duration": 3,
    "start_time": "2022-01-21T20:54:13.942Z"
   },
   {
    "duration": 24,
    "start_time": "2022-01-21T20:54:13.946Z"
   },
   {
    "duration": 27,
    "start_time": "2022-01-21T20:54:13.972Z"
   },
   {
    "duration": 19,
    "start_time": "2022-01-21T20:54:14.001Z"
   },
   {
    "duration": 36,
    "start_time": "2022-01-21T20:54:14.022Z"
   },
   {
    "duration": 12,
    "start_time": "2022-01-21T20:54:14.060Z"
   },
   {
    "duration": 34,
    "start_time": "2022-01-21T20:54:14.074Z"
   },
   {
    "duration": 145,
    "start_time": "2022-01-21T20:54:14.109Z"
   },
   {
    "duration": 4,
    "start_time": "2022-01-21T20:54:14.257Z"
   },
   {
    "duration": 412,
    "start_time": "2022-01-21T20:54:14.262Z"
   },
   {
    "duration": 87,
    "start_time": "2022-01-21T20:54:14.675Z"
   },
   {
    "duration": 97,
    "start_time": "2022-01-21T20:54:14.765Z"
   },
   {
    "duration": 4,
    "start_time": "2022-01-21T20:54:14.864Z"
   },
   {
    "duration": 455,
    "start_time": "2022-01-21T20:54:14.870Z"
   },
   {
    "duration": 3,
    "start_time": "2022-01-21T20:54:15.326Z"
   },
   {
    "duration": 738,
    "start_time": "2022-01-21T20:54:15.331Z"
   },
   {
    "duration": 31,
    "start_time": "2022-01-21T20:54:16.071Z"
   },
   {
    "duration": 8,
    "start_time": "2022-01-21T20:54:16.162Z"
   },
   {
    "duration": 8,
    "start_time": "2022-01-21T20:54:16.262Z"
   },
   {
    "duration": 3,
    "start_time": "2022-01-21T21:09:40.422Z"
   },
   {
    "duration": 32,
    "start_time": "2022-01-21T21:09:40.427Z"
   },
   {
    "duration": 21,
    "start_time": "2022-01-21T21:09:40.461Z"
   },
   {
    "duration": 14,
    "start_time": "2022-01-21T21:09:40.484Z"
   },
   {
    "duration": 13,
    "start_time": "2022-01-21T21:09:40.500Z"
   },
   {
    "duration": 11,
    "start_time": "2022-01-21T21:09:40.515Z"
   },
   {
    "duration": 203,
    "start_time": "2022-01-21T21:09:40.529Z"
   },
   {
    "duration": 3,
    "start_time": "2022-01-21T21:09:40.734Z"
   },
   {
    "duration": 49,
    "start_time": "2022-01-21T21:09:40.738Z"
   },
   {
    "duration": 182,
    "start_time": "2022-01-21T21:09:40.789Z"
   },
   {
    "duration": 3,
    "start_time": "2022-01-21T21:09:40.973Z"
   },
   {
    "duration": 12,
    "start_time": "2022-01-21T21:09:40.978Z"
   },
   {
    "duration": 15,
    "start_time": "2022-01-21T21:09:40.992Z"
   },
   {
    "duration": 3,
    "start_time": "2022-01-21T21:09:41.009Z"
   },
   {
    "duration": 18,
    "start_time": "2022-01-21T21:09:41.014Z"
   },
   {
    "duration": 29,
    "start_time": "2022-01-21T21:09:41.034Z"
   },
   {
    "duration": 16,
    "start_time": "2022-01-21T21:09:41.065Z"
   },
   {
    "duration": 138,
    "start_time": "2022-01-21T21:09:41.083Z"
   },
   {
    "duration": 2,
    "start_time": "2022-01-21T21:09:41.224Z"
   },
   {
    "duration": 386,
    "start_time": "2022-01-21T21:09:41.228Z"
   },
   {
    "duration": 49,
    "start_time": "2022-01-21T21:09:41.616Z"
   },
   {
    "duration": 100,
    "start_time": "2022-01-21T21:09:41.668Z"
   },
   {
    "duration": 112,
    "start_time": "2022-01-21T21:09:41.771Z"
   },
   {
    "duration": 375,
    "start_time": "2022-01-21T21:09:41.885Z"
   },
   {
    "duration": 3,
    "start_time": "2022-01-21T21:09:42.262Z"
   },
   {
    "duration": 711,
    "start_time": "2022-01-21T21:09:42.266Z"
   },
   {
    "duration": 21,
    "start_time": "2022-01-21T21:09:42.979Z"
   },
   {
    "duration": 95,
    "start_time": "2022-01-21T21:09:43.067Z"
   },
   {
    "duration": 7,
    "start_time": "2022-01-21T21:09:43.163Z"
   },
   {
    "duration": 3,
    "start_time": "2022-01-22T11:12:14.898Z"
   },
   {
    "duration": 1043,
    "start_time": "2022-01-22T11:12:21.612Z"
   },
   {
    "duration": 38,
    "start_time": "2022-01-22T11:12:24.078Z"
   },
   {
    "duration": 26,
    "start_time": "2022-01-22T11:12:24.694Z"
   },
   {
    "duration": 8,
    "start_time": "2022-01-22T11:12:25.346Z"
   },
   {
    "duration": 4,
    "start_time": "2022-01-22T11:12:28.346Z"
   },
   {
    "duration": 9,
    "start_time": "2022-01-22T11:12:28.773Z"
   },
   {
    "duration": 194,
    "start_time": "2022-01-22T11:12:30.434Z"
   },
   {
    "duration": 3,
    "start_time": "2022-01-22T11:12:31.010Z"
   },
   {
    "duration": 64,
    "start_time": "2022-01-22T11:12:31.482Z"
   },
   {
    "duration": 163,
    "start_time": "2022-01-22T11:12:34.234Z"
   },
   {
    "duration": 3,
    "start_time": "2022-01-22T11:12:35.634Z"
   },
   {
    "duration": 3,
    "start_time": "2022-01-22T11:12:36.177Z"
   },
   {
    "duration": 14,
    "start_time": "2022-01-22T11:12:36.626Z"
   },
   {
    "duration": 2,
    "start_time": "2022-01-22T11:12:37.226Z"
   },
   {
    "duration": 12,
    "start_time": "2022-01-22T11:12:37.730Z"
   },
   {
    "duration": 8,
    "start_time": "2022-01-22T11:12:38.186Z"
   },
   {
    "duration": 2690,
    "start_time": "2022-01-22T11:17:13.213Z"
   },
   {
    "duration": 10,
    "start_time": "2022-01-22T11:17:25.996Z"
   },
   {
    "duration": 93,
    "start_time": "2022-01-22T11:17:58.570Z"
   },
   {
    "duration": 5,
    "start_time": "2022-01-22T11:18:04.492Z"
   },
   {
    "duration": 3,
    "start_time": "2022-01-22T11:20:12.737Z"
   },
   {
    "duration": 351,
    "start_time": "2022-01-22T11:20:18.433Z"
   },
   {
    "duration": 32,
    "start_time": "2022-01-22T11:20:25.897Z"
   },
   {
    "duration": 21,
    "start_time": "2022-01-22T11:20:27.057Z"
   },
   {
    "duration": 3,
    "start_time": "2022-01-22T11:24:24.603Z"
   },
   {
    "duration": 499,
    "start_time": "2022-01-22T11:24:26.355Z"
   },
   {
    "duration": 29,
    "start_time": "2022-01-22T11:24:28.515Z"
   },
   {
    "duration": 6,
    "start_time": "2022-01-22T11:24:29.043Z"
   },
   {
    "duration": 4,
    "start_time": "2022-01-22T11:26:14.017Z"
   },
   {
    "duration": 334,
    "start_time": "2022-01-22T11:26:15.344Z"
   },
   {
    "duration": 3,
    "start_time": "2022-01-22T11:26:18.632Z"
   },
   {
    "duration": 574,
    "start_time": "2022-01-22T11:26:20.064Z"
   },
   {
    "duration": 28,
    "start_time": "2022-01-22T11:26:26.672Z"
   },
   {
    "duration": 6,
    "start_time": "2022-01-22T11:26:27.560Z"
   },
   {
    "duration": 6,
    "start_time": "2022-01-22T11:27:31.607Z"
   },
   {
    "duration": 6,
    "start_time": "2022-01-22T11:28:12.799Z"
   },
   {
    "duration": 62,
    "start_time": "2022-01-22T11:28:32.341Z"
   },
   {
    "duration": 6,
    "start_time": "2022-01-22T11:28:45.475Z"
   },
   {
    "duration": 287,
    "start_time": "2022-01-22T11:40:56.557Z"
   },
   {
    "duration": 6,
    "start_time": "2022-01-22T11:40:57.411Z"
   },
   {
    "duration": 2,
    "start_time": "2022-01-22T11:40:58.836Z"
   },
   {
    "duration": 498,
    "start_time": "2022-01-22T11:40:59.412Z"
   },
   {
    "duration": 29,
    "start_time": "2022-01-22T11:41:03.691Z"
   },
   {
    "duration": 6,
    "start_time": "2022-01-22T11:41:04.347Z"
   },
   {
    "duration": 315,
    "start_time": "2022-01-22T11:41:23.330Z"
   },
   {
    "duration": 6,
    "start_time": "2022-01-22T11:41:24.204Z"
   },
   {
    "duration": 3,
    "start_time": "2022-01-22T11:41:25.074Z"
   },
   {
    "duration": 410,
    "start_time": "2022-01-22T11:41:25.363Z"
   },
   {
    "duration": 67,
    "start_time": "2022-01-22T11:41:25.775Z"
   },
   {
    "duration": 2,
    "start_time": "2022-01-22T13:07:20.895Z"
   },
   {
    "duration": 535,
    "start_time": "2022-01-22T13:07:21.798Z"
   },
   {
    "duration": 111,
    "start_time": "2022-01-22T13:07:23.533Z"
   },
   {
    "duration": 7,
    "start_time": "2022-01-22T13:07:31.214Z"
   },
   {
    "duration": 232,
    "start_time": "2022-01-22T13:07:40.836Z"
   },
   {
    "duration": 2,
    "start_time": "2022-01-22T13:07:50.141Z"
   },
   {
    "duration": 465,
    "start_time": "2022-01-22T13:07:50.629Z"
   },
   {
    "duration": 86,
    "start_time": "2022-01-22T13:07:51.556Z"
   },
   {
    "duration": 5,
    "start_time": "2022-01-22T13:07:52.196Z"
   },
   {
    "duration": 250,
    "start_time": "2022-01-22T13:07:59.147Z"
   },
   {
    "duration": 3,
    "start_time": "2022-01-22T13:08:03.021Z"
   },
   {
    "duration": 519,
    "start_time": "2022-01-22T13:08:04.364Z"
   },
   {
    "duration": 19,
    "start_time": "2022-01-22T13:08:06.132Z"
   },
   {
    "duration": 5,
    "start_time": "2022-01-22T13:08:07.133Z"
   },
   {
    "duration": 271,
    "start_time": "2022-01-22T13:08:26.259Z"
   },
   {
    "duration": 3,
    "start_time": "2022-01-22T13:08:31.851Z"
   },
   {
    "duration": 597,
    "start_time": "2022-01-22T13:08:32.699Z"
   },
   {
    "duration": 34,
    "start_time": "2022-01-22T13:08:34.436Z"
   },
   {
    "duration": 8,
    "start_time": "2022-01-22T13:08:35.331Z"
   },
   {
    "duration": 278,
    "start_time": "2022-01-22T13:08:45.444Z"
   },
   {
    "duration": 3,
    "start_time": "2022-01-22T13:08:56.004Z"
   },
   {
    "duration": 499,
    "start_time": "2022-01-22T13:08:56.819Z"
   },
   {
    "duration": 18,
    "start_time": "2022-01-22T13:08:58.251Z"
   },
   {
    "duration": 6,
    "start_time": "2022-01-22T13:08:58.819Z"
   },
   {
    "duration": 305,
    "start_time": "2022-01-22T13:09:07.698Z"
   },
   {
    "duration": 3,
    "start_time": "2022-01-22T13:09:10.458Z"
   },
   {
    "duration": 673,
    "start_time": "2022-01-22T13:09:11.075Z"
   },
   {
    "duration": 57,
    "start_time": "2022-01-22T13:09:12.585Z"
   },
   {
    "duration": 6,
    "start_time": "2022-01-22T13:09:13.499Z"
   },
   {
    "duration": 359,
    "start_time": "2022-01-22T13:09:27.995Z"
   },
   {
    "duration": 8,
    "start_time": "2022-01-22T13:09:28.794Z"
   },
   {
    "duration": 2,
    "start_time": "2022-01-22T13:09:30.146Z"
   },
   {
    "duration": 723,
    "start_time": "2022-01-22T13:09:30.563Z"
   },
   {
    "duration": 29,
    "start_time": "2022-01-22T13:09:32.026Z"
   },
   {
    "duration": 7,
    "start_time": "2022-01-22T13:09:32.562Z"
   },
   {
    "duration": 415,
    "start_time": "2022-01-22T13:09:43.009Z"
   },
   {
    "duration": 2,
    "start_time": "2022-01-22T13:09:46.538Z"
   },
   {
    "duration": 694,
    "start_time": "2022-01-22T13:09:47.138Z"
   },
   {
    "duration": 33,
    "start_time": "2022-01-22T13:09:48.689Z"
   },
   {
    "duration": 7,
    "start_time": "2022-01-22T13:09:49.577Z"
   },
   {
    "duration": 387,
    "start_time": "2022-01-22T13:10:00.594Z"
   },
   {
    "duration": 7,
    "start_time": "2022-01-22T13:10:01.049Z"
   },
   {
    "duration": 280,
    "start_time": "2022-01-22T13:10:12.889Z"
   },
   {
    "duration": 6,
    "start_time": "2022-01-22T13:10:13.337Z"
   },
   {
    "duration": 3,
    "start_time": "2022-01-22T13:10:17.057Z"
   },
   {
    "duration": 594,
    "start_time": "2022-01-22T13:10:17.913Z"
   },
   {
    "duration": 28,
    "start_time": "2022-01-22T13:10:18.841Z"
   },
   {
    "duration": 6,
    "start_time": "2022-01-22T13:10:19.705Z"
   },
   {
    "duration": 3,
    "start_time": "2022-01-22T14:08:10.770Z"
   },
   {
    "duration": 29,
    "start_time": "2022-01-22T14:08:10.775Z"
   },
   {
    "duration": 23,
    "start_time": "2022-01-22T14:08:10.806Z"
   },
   {
    "duration": 8,
    "start_time": "2022-01-22T14:08:10.831Z"
   },
   {
    "duration": 7,
    "start_time": "2022-01-22T14:08:10.841Z"
   },
   {
    "duration": 14,
    "start_time": "2022-01-22T14:08:10.849Z"
   },
   {
    "duration": 189,
    "start_time": "2022-01-22T14:08:10.865Z"
   },
   {
    "duration": 3,
    "start_time": "2022-01-22T14:08:11.056Z"
   },
   {
    "duration": 49,
    "start_time": "2022-01-22T14:08:11.060Z"
   },
   {
    "duration": 168,
    "start_time": "2022-01-22T14:08:11.111Z"
   },
   {
    "duration": 3,
    "start_time": "2022-01-22T14:08:11.281Z"
   },
   {
    "duration": 8,
    "start_time": "2022-01-22T14:08:11.285Z"
   },
   {
    "duration": 27,
    "start_time": "2022-01-22T14:08:11.294Z"
   },
   {
    "duration": 16,
    "start_time": "2022-01-22T14:08:11.323Z"
   },
   {
    "duration": 36,
    "start_time": "2022-01-22T14:08:11.340Z"
   },
   {
    "duration": 8,
    "start_time": "2022-01-22T14:08:11.378Z"
   },
   {
    "duration": 28,
    "start_time": "2022-01-22T14:08:11.387Z"
   },
   {
    "duration": 24,
    "start_time": "2022-01-22T14:08:11.416Z"
   },
   {
    "duration": 6,
    "start_time": "2022-01-22T14:08:11.442Z"
   },
   {
    "duration": 4,
    "start_time": "2022-01-22T14:08:11.450Z"
   },
   {
    "duration": 514,
    "start_time": "2022-01-22T14:08:11.455Z"
   },
   {
    "duration": 73,
    "start_time": "2022-01-22T14:08:11.970Z"
   },
   {
    "duration": 95,
    "start_time": "2022-01-22T14:08:12.046Z"
   },
   {
    "duration": 4,
    "start_time": "2022-01-22T14:08:12.143Z"
   },
   {
    "duration": 273,
    "start_time": "2022-01-22T14:08:12.149Z"
   },
   {
    "duration": 6,
    "start_time": "2022-01-22T14:08:12.423Z"
   },
   {
    "duration": 27,
    "start_time": "2022-01-22T14:08:12.430Z"
   },
   {
    "duration": 522,
    "start_time": "2022-01-22T14:08:12.458Z"
   },
   {
    "duration": 60,
    "start_time": "2022-01-22T14:08:12.982Z"
   },
   {
    "duration": 97,
    "start_time": "2022-01-22T14:08:13.044Z"
   },
   {
    "duration": 4,
    "start_time": "2022-01-22T14:08:34.931Z"
   },
   {
    "duration": 27,
    "start_time": "2022-01-22T14:08:34.937Z"
   },
   {
    "duration": 19,
    "start_time": "2022-01-22T14:08:34.967Z"
   },
   {
    "duration": 9,
    "start_time": "2022-01-22T14:08:34.988Z"
   },
   {
    "duration": 4,
    "start_time": "2022-01-22T14:08:34.998Z"
   },
   {
    "duration": 38,
    "start_time": "2022-01-22T14:08:35.004Z"
   },
   {
    "duration": 198,
    "start_time": "2022-01-22T14:08:35.044Z"
   },
   {
    "duration": 4,
    "start_time": "2022-01-22T14:08:35.244Z"
   },
   {
    "duration": 47,
    "start_time": "2022-01-22T14:08:35.251Z"
   },
   {
    "duration": 185,
    "start_time": "2022-01-22T14:08:35.301Z"
   },
   {
    "duration": 3,
    "start_time": "2022-01-22T14:08:35.488Z"
   },
   {
    "duration": 6,
    "start_time": "2022-01-22T14:08:35.493Z"
   },
   {
    "duration": 17,
    "start_time": "2022-01-22T14:08:35.501Z"
   },
   {
    "duration": 22,
    "start_time": "2022-01-22T14:08:35.520Z"
   },
   {
    "duration": 18,
    "start_time": "2022-01-22T14:08:35.543Z"
   },
   {
    "duration": 11,
    "start_time": "2022-01-22T14:08:35.563Z"
   },
   {
    "duration": 8,
    "start_time": "2022-01-22T14:08:35.575Z"
   },
   {
    "duration": 7,
    "start_time": "2022-01-22T14:08:35.585Z"
   },
   {
    "duration": 25,
    "start_time": "2022-01-22T14:08:35.594Z"
   },
   {
    "duration": 2,
    "start_time": "2022-01-22T14:08:35.642Z"
   },
   {
    "duration": 542,
    "start_time": "2022-01-22T14:08:35.646Z"
   },
   {
    "duration": 54,
    "start_time": "2022-01-22T14:08:36.190Z"
   },
   {
    "duration": 97,
    "start_time": "2022-01-22T14:08:36.247Z"
   },
   {
    "duration": 107,
    "start_time": "2022-01-22T14:08:36.346Z"
   },
   {
    "duration": 305,
    "start_time": "2022-01-22T14:08:36.454Z"
   },
   {
    "duration": 6,
    "start_time": "2022-01-22T14:08:36.760Z"
   },
   {
    "duration": 19,
    "start_time": "2022-01-22T14:08:36.769Z"
   },
   {
    "duration": 601,
    "start_time": "2022-01-22T14:08:36.790Z"
   },
   {
    "duration": 51,
    "start_time": "2022-01-22T14:08:37.393Z"
   },
   {
    "duration": 8,
    "start_time": "2022-01-22T14:08:37.446Z"
   },
   {
    "duration": 3,
    "start_time": "2022-01-22T14:08:51.057Z"
   },
   {
    "duration": 30,
    "start_time": "2022-01-22T14:08:51.062Z"
   },
   {
    "duration": 18,
    "start_time": "2022-01-22T14:08:51.095Z"
   },
   {
    "duration": 7,
    "start_time": "2022-01-22T14:08:51.115Z"
   },
   {
    "duration": 4,
    "start_time": "2022-01-22T14:08:51.124Z"
   },
   {
    "duration": 6,
    "start_time": "2022-01-22T14:08:51.141Z"
   },
   {
    "duration": 182,
    "start_time": "2022-01-22T14:08:51.149Z"
   },
   {
    "duration": 3,
    "start_time": "2022-01-22T14:08:51.333Z"
   },
   {
    "duration": 54,
    "start_time": "2022-01-22T14:08:51.342Z"
   },
   {
    "duration": 171,
    "start_time": "2022-01-22T14:08:51.398Z"
   },
   {
    "duration": 3,
    "start_time": "2022-01-22T14:08:51.571Z"
   },
   {
    "duration": 15,
    "start_time": "2022-01-22T14:08:51.575Z"
   },
   {
    "duration": 36,
    "start_time": "2022-01-22T14:08:51.591Z"
   },
   {
    "duration": 6,
    "start_time": "2022-01-22T14:08:51.629Z"
   },
   {
    "duration": 27,
    "start_time": "2022-01-22T14:08:51.637Z"
   },
   {
    "duration": 9,
    "start_time": "2022-01-22T14:08:51.665Z"
   },
   {
    "duration": 6,
    "start_time": "2022-01-22T14:08:51.675Z"
   },
   {
    "duration": 7,
    "start_time": "2022-01-22T14:08:51.682Z"
   },
   {
    "duration": 8,
    "start_time": "2022-01-22T14:08:51.690Z"
   },
   {
    "duration": 4,
    "start_time": "2022-01-22T14:08:51.699Z"
   },
   {
    "duration": 520,
    "start_time": "2022-01-22T14:08:51.704Z"
   },
   {
    "duration": 37,
    "start_time": "2022-01-22T14:08:52.226Z"
   },
   {
    "duration": 78,
    "start_time": "2022-01-22T14:08:52.265Z"
   },
   {
    "duration": 102,
    "start_time": "2022-01-22T14:08:52.345Z"
   },
   {
    "duration": 309,
    "start_time": "2022-01-22T14:08:52.449Z"
   },
   {
    "duration": 5,
    "start_time": "2022-01-22T14:08:52.760Z"
   },
   {
    "duration": 23,
    "start_time": "2022-01-22T14:08:52.768Z"
   },
   {
    "duration": 703,
    "start_time": "2022-01-22T14:08:52.793Z"
   },
   {
    "duration": 47,
    "start_time": "2022-01-22T14:08:53.497Z"
   },
   {
    "duration": 100,
    "start_time": "2022-01-22T14:08:53.547Z"
   },
   {
    "duration": 4,
    "start_time": "2022-01-22T14:10:03.230Z"
   },
   {
    "duration": 43,
    "start_time": "2022-01-22T14:10:03.235Z"
   },
   {
    "duration": 21,
    "start_time": "2022-01-22T14:10:03.280Z"
   },
   {
    "duration": 10,
    "start_time": "2022-01-22T14:10:03.303Z"
   },
   {
    "duration": 13,
    "start_time": "2022-01-22T14:10:03.314Z"
   },
   {
    "duration": 9,
    "start_time": "2022-01-22T14:10:03.328Z"
   },
   {
    "duration": 179,
    "start_time": "2022-01-22T14:10:03.339Z"
   },
   {
    "duration": 3,
    "start_time": "2022-01-22T14:10:03.521Z"
   },
   {
    "duration": 47,
    "start_time": "2022-01-22T14:10:03.525Z"
   },
   {
    "duration": 172,
    "start_time": "2022-01-22T14:10:03.574Z"
   },
   {
    "duration": 3,
    "start_time": "2022-01-22T14:10:03.748Z"
   },
   {
    "duration": 33,
    "start_time": "2022-01-22T14:10:03.752Z"
   },
   {
    "duration": 32,
    "start_time": "2022-01-22T14:10:03.787Z"
   },
   {
    "duration": 16,
    "start_time": "2022-01-22T14:10:03.821Z"
   },
   {
    "duration": 28,
    "start_time": "2022-01-22T14:10:03.839Z"
   },
   {
    "duration": 22,
    "start_time": "2022-01-22T14:10:03.868Z"
   },
   {
    "duration": 46,
    "start_time": "2022-01-22T14:10:03.892Z"
   },
   {
    "duration": 25,
    "start_time": "2022-01-22T14:10:03.940Z"
   },
   {
    "duration": 31,
    "start_time": "2022-01-22T14:10:03.966Z"
   },
   {
    "duration": 28,
    "start_time": "2022-01-22T14:10:03.998Z"
   },
   {
    "duration": 556,
    "start_time": "2022-01-22T14:10:04.028Z"
   },
   {
    "duration": 57,
    "start_time": "2022-01-22T14:10:04.586Z"
   },
   {
    "duration": 99,
    "start_time": "2022-01-22T14:10:04.648Z"
   },
   {
    "duration": 17,
    "start_time": "2022-01-22T14:10:04.749Z"
   },
   {
    "duration": 420,
    "start_time": "2022-01-22T14:10:04.768Z"
   },
   {
    "duration": 6,
    "start_time": "2022-01-22T14:10:05.190Z"
   },
   {
    "duration": 23,
    "start_time": "2022-01-22T14:10:05.198Z"
   },
   {
    "duration": 797,
    "start_time": "2022-01-22T14:10:05.223Z"
   },
   {
    "duration": 37,
    "start_time": "2022-01-22T14:10:06.022Z"
   },
   {
    "duration": 86,
    "start_time": "2022-01-22T14:10:06.061Z"
   },
   {
    "duration": 3,
    "start_time": "2022-01-22T14:10:16.791Z"
   },
   {
    "duration": 75,
    "start_time": "2022-01-22T14:10:16.796Z"
   },
   {
    "duration": 43,
    "start_time": "2022-01-22T14:10:16.873Z"
   },
   {
    "duration": 46,
    "start_time": "2022-01-22T14:10:16.918Z"
   },
   {
    "duration": 27,
    "start_time": "2022-01-22T14:10:16.966Z"
   },
   {
    "duration": 43,
    "start_time": "2022-01-22T14:10:16.994Z"
   },
   {
    "duration": 182,
    "start_time": "2022-01-22T14:10:17.038Z"
   },
   {
    "duration": 3,
    "start_time": "2022-01-22T14:10:17.222Z"
   },
   {
    "duration": 77,
    "start_time": "2022-01-22T14:10:17.227Z"
   },
   {
    "duration": 171,
    "start_time": "2022-01-22T14:10:17.306Z"
   },
   {
    "duration": 2,
    "start_time": "2022-01-22T14:10:17.479Z"
   },
   {
    "duration": 22,
    "start_time": "2022-01-22T14:10:17.483Z"
   },
   {
    "duration": 34,
    "start_time": "2022-01-22T14:10:17.506Z"
   },
   {
    "duration": 46,
    "start_time": "2022-01-22T14:10:17.541Z"
   },
   {
    "duration": 29,
    "start_time": "2022-01-22T14:10:17.589Z"
   },
   {
    "duration": 28,
    "start_time": "2022-01-22T14:10:17.620Z"
   },
   {
    "duration": 31,
    "start_time": "2022-01-22T14:10:17.650Z"
   },
   {
    "duration": 20,
    "start_time": "2022-01-22T14:10:17.682Z"
   },
   {
    "duration": 38,
    "start_time": "2022-01-22T14:10:17.704Z"
   },
   {
    "duration": 17,
    "start_time": "2022-01-22T14:10:17.744Z"
   },
   {
    "duration": 520,
    "start_time": "2022-01-22T14:10:17.763Z"
   },
   {
    "duration": 60,
    "start_time": "2022-01-22T14:10:18.285Z"
   },
   {
    "duration": 92,
    "start_time": "2022-01-22T14:10:18.350Z"
   },
   {
    "duration": 5,
    "start_time": "2022-01-22T14:10:18.446Z"
   },
   {
    "duration": 438,
    "start_time": "2022-01-22T14:10:18.453Z"
   },
   {
    "duration": 5,
    "start_time": "2022-01-22T14:10:18.892Z"
   },
   {
    "duration": 4,
    "start_time": "2022-01-22T14:10:18.899Z"
   },
   {
    "duration": 851,
    "start_time": "2022-01-22T14:10:18.905Z"
   },
   {
    "duration": 29,
    "start_time": "2022-01-22T14:10:19.758Z"
   },
   {
    "duration": 58,
    "start_time": "2022-01-22T14:10:19.788Z"
   },
   {
    "duration": 4,
    "start_time": "2022-01-22T14:10:29.782Z"
   },
   {
    "duration": 49,
    "start_time": "2022-01-22T14:10:29.791Z"
   },
   {
    "duration": 19,
    "start_time": "2022-01-22T14:10:29.842Z"
   },
   {
    "duration": 25,
    "start_time": "2022-01-22T14:10:29.863Z"
   },
   {
    "duration": 16,
    "start_time": "2022-01-22T14:10:29.889Z"
   },
   {
    "duration": 30,
    "start_time": "2022-01-22T14:10:29.906Z"
   },
   {
    "duration": 189,
    "start_time": "2022-01-22T14:10:29.937Z"
   },
   {
    "duration": 3,
    "start_time": "2022-01-22T14:10:30.128Z"
   },
   {
    "duration": 61,
    "start_time": "2022-01-22T14:10:30.132Z"
   },
   {
    "duration": 157,
    "start_time": "2022-01-22T14:10:30.196Z"
   },
   {
    "duration": 2,
    "start_time": "2022-01-22T14:10:30.355Z"
   },
   {
    "duration": 31,
    "start_time": "2022-01-22T14:10:30.359Z"
   },
   {
    "duration": 23,
    "start_time": "2022-01-22T14:10:30.391Z"
   },
   {
    "duration": 26,
    "start_time": "2022-01-22T14:10:30.416Z"
   },
   {
    "duration": 36,
    "start_time": "2022-01-22T14:10:30.443Z"
   },
   {
    "duration": 23,
    "start_time": "2022-01-22T14:10:30.481Z"
   },
   {
    "duration": 37,
    "start_time": "2022-01-22T14:10:30.505Z"
   },
   {
    "duration": 23,
    "start_time": "2022-01-22T14:10:30.543Z"
   },
   {
    "duration": 27,
    "start_time": "2022-01-22T14:10:30.567Z"
   },
   {
    "duration": 32,
    "start_time": "2022-01-22T14:10:30.596Z"
   },
   {
    "duration": 549,
    "start_time": "2022-01-22T14:10:30.630Z"
   },
   {
    "duration": 63,
    "start_time": "2022-01-22T14:10:31.180Z"
   },
   {
    "duration": 97,
    "start_time": "2022-01-22T14:10:31.247Z"
   },
   {
    "duration": 10,
    "start_time": "2022-01-22T14:10:31.346Z"
   },
   {
    "duration": 608,
    "start_time": "2022-01-22T14:10:31.358Z"
   },
   {
    "duration": 7,
    "start_time": "2022-01-22T14:10:31.968Z"
   },
   {
    "duration": 21,
    "start_time": "2022-01-22T14:10:31.976Z"
   },
   {
    "duration": 1088,
    "start_time": "2022-01-22T14:10:32.000Z"
   },
   {
    "duration": 61,
    "start_time": "2022-01-22T14:10:33.090Z"
   },
   {
    "duration": 94,
    "start_time": "2022-01-22T14:10:33.153Z"
   },
   {
    "duration": 4,
    "start_time": "2022-01-22T14:10:46.446Z"
   },
   {
    "duration": 48,
    "start_time": "2022-01-22T14:10:46.452Z"
   },
   {
    "duration": 34,
    "start_time": "2022-01-22T14:10:46.502Z"
   },
   {
    "duration": 46,
    "start_time": "2022-01-22T14:10:46.538Z"
   },
   {
    "duration": 25,
    "start_time": "2022-01-22T14:10:46.585Z"
   },
   {
    "duration": 29,
    "start_time": "2022-01-22T14:10:46.612Z"
   },
   {
    "duration": 180,
    "start_time": "2022-01-22T14:10:46.643Z"
   },
   {
    "duration": 3,
    "start_time": "2022-01-22T14:10:46.825Z"
   },
   {
    "duration": 71,
    "start_time": "2022-01-22T14:10:46.830Z"
   },
   {
    "duration": 155,
    "start_time": "2022-01-22T14:10:46.903Z"
   },
   {
    "duration": 3,
    "start_time": "2022-01-22T14:10:47.059Z"
   },
   {
    "duration": 26,
    "start_time": "2022-01-22T14:10:47.064Z"
   },
   {
    "duration": 27,
    "start_time": "2022-01-22T14:10:47.091Z"
   },
   {
    "duration": 31,
    "start_time": "2022-01-22T14:10:47.120Z"
   },
   {
    "duration": 42,
    "start_time": "2022-01-22T14:10:47.153Z"
   },
   {
    "duration": 28,
    "start_time": "2022-01-22T14:10:47.197Z"
   },
   {
    "duration": 33,
    "start_time": "2022-01-22T14:10:47.226Z"
   },
   {
    "duration": 40,
    "start_time": "2022-01-22T14:10:47.261Z"
   },
   {
    "duration": 33,
    "start_time": "2022-01-22T14:10:47.303Z"
   },
   {
    "duration": 31,
    "start_time": "2022-01-22T14:10:47.337Z"
   },
   {
    "duration": 536,
    "start_time": "2022-01-22T14:10:47.370Z"
   },
   {
    "duration": 47,
    "start_time": "2022-01-22T14:10:47.907Z"
   },
   {
    "duration": 184,
    "start_time": "2022-01-22T14:10:47.958Z"
   },
   {
    "duration": 4,
    "start_time": "2022-01-22T14:10:48.144Z"
   },
   {
    "duration": 404,
    "start_time": "2022-01-22T14:10:48.149Z"
   },
   {
    "duration": 6,
    "start_time": "2022-01-22T14:10:48.555Z"
   },
   {
    "duration": 4,
    "start_time": "2022-01-22T14:10:48.563Z"
   },
   {
    "duration": 1160,
    "start_time": "2022-01-22T14:10:48.568Z"
   },
   {
    "duration": 44,
    "start_time": "2022-01-22T14:10:49.730Z"
   },
   {
    "duration": 7,
    "start_time": "2022-01-22T14:10:49.844Z"
   },
   {
    "duration": 4,
    "start_time": "2022-01-22T14:11:04.589Z"
   },
   {
    "duration": 29,
    "start_time": "2022-01-22T14:11:04.595Z"
   },
   {
    "duration": 23,
    "start_time": "2022-01-22T14:11:04.626Z"
   },
   {
    "duration": 9,
    "start_time": "2022-01-22T14:11:04.652Z"
   },
   {
    "duration": 4,
    "start_time": "2022-01-22T14:11:04.663Z"
   },
   {
    "duration": 9,
    "start_time": "2022-01-22T14:11:04.669Z"
   },
   {
    "duration": 243,
    "start_time": "2022-01-22T14:11:04.680Z"
   },
   {
    "duration": 4,
    "start_time": "2022-01-22T14:11:04.927Z"
   },
   {
    "duration": 45,
    "start_time": "2022-01-22T14:11:04.933Z"
   },
   {
    "duration": 216,
    "start_time": "2022-01-22T14:11:04.980Z"
   },
   {
    "duration": 2,
    "start_time": "2022-01-22T14:11:05.198Z"
   },
   {
    "duration": 6,
    "start_time": "2022-01-22T14:11:05.202Z"
   },
   {
    "duration": 10,
    "start_time": "2022-01-22T14:11:05.209Z"
   },
   {
    "duration": 21,
    "start_time": "2022-01-22T14:11:05.221Z"
   },
   {
    "duration": 18,
    "start_time": "2022-01-22T14:11:05.244Z"
   },
   {
    "duration": 8,
    "start_time": "2022-01-22T14:11:05.264Z"
   },
   {
    "duration": 6,
    "start_time": "2022-01-22T14:11:05.274Z"
   },
   {
    "duration": 10,
    "start_time": "2022-01-22T14:11:05.282Z"
   },
   {
    "duration": 13,
    "start_time": "2022-01-22T14:11:05.294Z"
   },
   {
    "duration": 32,
    "start_time": "2022-01-22T14:11:05.309Z"
   },
   {
    "duration": 546,
    "start_time": "2022-01-22T14:11:05.343Z"
   },
   {
    "duration": 54,
    "start_time": "2022-01-22T14:11:05.890Z"
   },
   {
    "duration": 95,
    "start_time": "2022-01-22T14:11:05.948Z"
   },
   {
    "duration": 6,
    "start_time": "2022-01-22T14:11:06.046Z"
   },
   {
    "duration": 519,
    "start_time": "2022-01-22T14:11:06.054Z"
   },
   {
    "duration": 6,
    "start_time": "2022-01-22T14:11:06.575Z"
   },
   {
    "duration": 4,
    "start_time": "2022-01-22T14:11:06.582Z"
   },
   {
    "duration": 1075,
    "start_time": "2022-01-22T14:11:06.588Z"
   },
   {
    "duration": 29,
    "start_time": "2022-01-22T14:11:07.664Z"
   },
   {
    "duration": 52,
    "start_time": "2022-01-22T14:11:07.695Z"
   },
   {
    "duration": 3,
    "start_time": "2022-01-22T14:11:38.973Z"
   },
   {
    "duration": 31,
    "start_time": "2022-01-22T14:11:38.977Z"
   },
   {
    "duration": 21,
    "start_time": "2022-01-22T14:11:39.011Z"
   },
   {
    "duration": 8,
    "start_time": "2022-01-22T14:11:39.034Z"
   },
   {
    "duration": 3,
    "start_time": "2022-01-22T14:11:39.043Z"
   },
   {
    "duration": 7,
    "start_time": "2022-01-22T14:11:39.047Z"
   },
   {
    "duration": 182,
    "start_time": "2022-01-22T14:11:39.055Z"
   },
   {
    "duration": 3,
    "start_time": "2022-01-22T14:11:39.240Z"
   },
   {
    "duration": 39,
    "start_time": "2022-01-22T14:11:39.245Z"
   },
   {
    "duration": 173,
    "start_time": "2022-01-22T14:11:39.286Z"
   },
   {
    "duration": 3,
    "start_time": "2022-01-22T14:11:39.460Z"
   },
   {
    "duration": 5,
    "start_time": "2022-01-22T14:11:39.464Z"
   },
   {
    "duration": 10,
    "start_time": "2022-01-22T14:11:39.470Z"
   },
   {
    "duration": 3,
    "start_time": "2022-01-22T14:11:39.481Z"
   },
   {
    "duration": 15,
    "start_time": "2022-01-22T14:11:39.485Z"
   },
   {
    "duration": 7,
    "start_time": "2022-01-22T14:11:39.501Z"
   },
   {
    "duration": 34,
    "start_time": "2022-01-22T14:11:39.510Z"
   },
   {
    "duration": 5,
    "start_time": "2022-01-22T14:11:39.546Z"
   },
   {
    "duration": 12,
    "start_time": "2022-01-22T14:11:39.552Z"
   },
   {
    "duration": 8,
    "start_time": "2022-01-22T14:11:39.565Z"
   },
   {
    "duration": 513,
    "start_time": "2022-01-22T14:11:39.575Z"
   },
   {
    "duration": 53,
    "start_time": "2022-01-22T14:11:40.090Z"
   },
   {
    "duration": 5,
    "start_time": "2022-01-22T14:11:40.145Z"
   },
   {
    "duration": 8,
    "start_time": "2022-01-22T14:11:40.241Z"
   },
   {
    "duration": 277,
    "start_time": "2022-01-22T14:11:40.341Z"
   },
   {
    "duration": 6,
    "start_time": "2022-01-22T14:11:40.619Z"
   },
   {
    "duration": 18,
    "start_time": "2022-01-22T14:11:40.627Z"
   },
   {
    "duration": 598,
    "start_time": "2022-01-22T14:11:40.647Z"
   },
   {
    "duration": 30,
    "start_time": "2022-01-22T14:11:41.247Z"
   },
   {
    "duration": 101,
    "start_time": "2022-01-22T14:11:41.340Z"
   },
   {
    "duration": 2,
    "start_time": "2022-01-22T14:11:56.941Z"
   },
   {
    "duration": 50,
    "start_time": "2022-01-22T14:11:56.945Z"
   },
   {
    "duration": 22,
    "start_time": "2022-01-22T14:11:56.997Z"
   },
   {
    "duration": 16,
    "start_time": "2022-01-22T14:11:57.021Z"
   },
   {
    "duration": 3,
    "start_time": "2022-01-22T14:11:57.039Z"
   },
   {
    "duration": 18,
    "start_time": "2022-01-22T14:11:57.044Z"
   },
   {
    "duration": 191,
    "start_time": "2022-01-22T14:11:57.064Z"
   },
   {
    "duration": 3,
    "start_time": "2022-01-22T14:11:57.257Z"
   },
   {
    "duration": 38,
    "start_time": "2022-01-22T14:11:57.262Z"
   },
   {
    "duration": 170,
    "start_time": "2022-01-22T14:11:57.302Z"
   },
   {
    "duration": 3,
    "start_time": "2022-01-22T14:11:57.474Z"
   },
   {
    "duration": 6,
    "start_time": "2022-01-22T14:11:57.478Z"
   },
   {
    "duration": 11,
    "start_time": "2022-01-22T14:11:57.485Z"
   },
   {
    "duration": 2,
    "start_time": "2022-01-22T14:11:57.498Z"
   },
   {
    "duration": 15,
    "start_time": "2022-01-22T14:11:57.501Z"
   },
   {
    "duration": 28,
    "start_time": "2022-01-22T14:11:57.517Z"
   },
   {
    "duration": 7,
    "start_time": "2022-01-22T14:11:57.546Z"
   },
   {
    "duration": 8,
    "start_time": "2022-01-22T14:11:57.554Z"
   },
   {
    "duration": 8,
    "start_time": "2022-01-22T14:11:57.563Z"
   },
   {
    "duration": 8,
    "start_time": "2022-01-22T14:11:57.573Z"
   },
   {
    "duration": 622,
    "start_time": "2022-01-22T14:11:57.583Z"
   },
   {
    "duration": 38,
    "start_time": "2022-01-22T14:11:58.207Z"
   },
   {
    "duration": 97,
    "start_time": "2022-01-22T14:11:58.247Z"
   },
   {
    "duration": 5,
    "start_time": "2022-01-22T14:11:58.346Z"
   },
   {
    "duration": 488,
    "start_time": "2022-01-22T14:11:58.442Z"
   },
   {
    "duration": 10,
    "start_time": "2022-01-22T14:11:58.932Z"
   },
   {
    "duration": 17,
    "start_time": "2022-01-22T14:11:58.945Z"
   },
   {
    "duration": 1125,
    "start_time": "2022-01-22T14:11:58.963Z"
   },
   {
    "duration": 53,
    "start_time": "2022-01-22T14:12:00.090Z"
   },
   {
    "duration": 97,
    "start_time": "2022-01-22T14:12:00.146Z"
   },
   {
    "duration": 3,
    "start_time": "2022-01-22T14:12:17.044Z"
   },
   {
    "duration": 31,
    "start_time": "2022-01-22T14:12:17.049Z"
   },
   {
    "duration": 25,
    "start_time": "2022-01-22T14:12:17.082Z"
   },
   {
    "duration": 32,
    "start_time": "2022-01-22T14:12:17.110Z"
   },
   {
    "duration": 3,
    "start_time": "2022-01-22T14:12:17.144Z"
   },
   {
    "duration": 8,
    "start_time": "2022-01-22T14:12:17.149Z"
   },
   {
    "duration": 187,
    "start_time": "2022-01-22T14:12:17.159Z"
   },
   {
    "duration": 3,
    "start_time": "2022-01-22T14:12:17.349Z"
   },
   {
    "duration": 54,
    "start_time": "2022-01-22T14:12:17.353Z"
   },
   {
    "duration": 159,
    "start_time": "2022-01-22T14:12:17.409Z"
   },
   {
    "duration": 2,
    "start_time": "2022-01-22T14:12:17.570Z"
   },
   {
    "duration": 6,
    "start_time": "2022-01-22T14:12:17.573Z"
   },
   {
    "duration": 9,
    "start_time": "2022-01-22T14:12:17.580Z"
   },
   {
    "duration": 12,
    "start_time": "2022-01-22T14:12:17.590Z"
   },
   {
    "duration": 18,
    "start_time": "2022-01-22T14:12:17.604Z"
   },
   {
    "duration": 21,
    "start_time": "2022-01-22T14:12:17.624Z"
   },
   {
    "duration": 6,
    "start_time": "2022-01-22T14:12:17.646Z"
   },
   {
    "duration": 11,
    "start_time": "2022-01-22T14:12:17.654Z"
   },
   {
    "duration": 5,
    "start_time": "2022-01-22T14:12:17.667Z"
   },
   {
    "duration": 4,
    "start_time": "2022-01-22T14:12:17.673Z"
   },
   {
    "duration": 520,
    "start_time": "2022-01-22T14:12:17.679Z"
   },
   {
    "duration": 44,
    "start_time": "2022-01-22T14:12:18.200Z"
   },
   {
    "duration": 98,
    "start_time": "2022-01-22T14:12:18.249Z"
   },
   {
    "duration": 95,
    "start_time": "2022-01-22T14:12:18.350Z"
   },
   {
    "duration": 544,
    "start_time": "2022-01-22T14:12:18.447Z"
   },
   {
    "duration": 6,
    "start_time": "2022-01-22T14:12:18.993Z"
   },
   {
    "duration": 4,
    "start_time": "2022-01-22T14:12:19.001Z"
   },
   {
    "duration": 1286,
    "start_time": "2022-01-22T14:12:19.007Z"
   },
   {
    "duration": 55,
    "start_time": "2022-01-22T14:12:20.295Z"
   },
   {
    "duration": 7,
    "start_time": "2022-01-22T14:12:20.441Z"
   },
   {
    "duration": 3,
    "start_time": "2022-01-22T14:12:29.779Z"
   },
   {
    "duration": 37,
    "start_time": "2022-01-22T14:12:29.784Z"
   },
   {
    "duration": 19,
    "start_time": "2022-01-22T14:12:29.823Z"
   },
   {
    "duration": 6,
    "start_time": "2022-01-22T14:12:29.844Z"
   },
   {
    "duration": 9,
    "start_time": "2022-01-22T14:12:29.851Z"
   },
   {
    "duration": 16,
    "start_time": "2022-01-22T14:12:29.861Z"
   },
   {
    "duration": 180,
    "start_time": "2022-01-22T14:12:29.879Z"
   },
   {
    "duration": 3,
    "start_time": "2022-01-22T14:12:30.061Z"
   },
   {
    "duration": 56,
    "start_time": "2022-01-22T14:12:30.066Z"
   },
   {
    "duration": 164,
    "start_time": "2022-01-22T14:12:30.123Z"
   },
   {
    "duration": 3,
    "start_time": "2022-01-22T14:12:30.289Z"
   },
   {
    "duration": 24,
    "start_time": "2022-01-22T14:12:30.294Z"
   },
   {
    "duration": 20,
    "start_time": "2022-01-22T14:12:30.319Z"
   },
   {
    "duration": 9,
    "start_time": "2022-01-22T14:12:30.341Z"
   },
   {
    "duration": 31,
    "start_time": "2022-01-22T14:12:30.352Z"
   },
   {
    "duration": 23,
    "start_time": "2022-01-22T14:12:30.384Z"
   },
   {
    "duration": 16,
    "start_time": "2022-01-22T14:12:30.408Z"
   },
   {
    "duration": 15,
    "start_time": "2022-01-22T14:12:30.426Z"
   },
   {
    "duration": 11,
    "start_time": "2022-01-22T14:12:30.444Z"
   },
   {
    "duration": 12,
    "start_time": "2022-01-22T14:12:30.456Z"
   },
   {
    "duration": 509,
    "start_time": "2022-01-22T14:12:30.469Z"
   },
   {
    "duration": 68,
    "start_time": "2022-01-22T14:12:30.979Z"
   },
   {
    "duration": 96,
    "start_time": "2022-01-22T14:12:31.049Z"
   },
   {
    "duration": 26,
    "start_time": "2022-01-22T14:12:31.147Z"
   },
   {
    "duration": 609,
    "start_time": "2022-01-22T14:12:31.174Z"
   },
   {
    "duration": 6,
    "start_time": "2022-01-22T14:12:31.785Z"
   },
   {
    "duration": 3,
    "start_time": "2022-01-22T14:12:31.793Z"
   },
   {
    "duration": 1532,
    "start_time": "2022-01-22T14:12:31.798Z"
   },
   {
    "duration": 33,
    "start_time": "2022-01-22T14:12:33.332Z"
   },
   {
    "duration": 75,
    "start_time": "2022-01-22T14:12:33.367Z"
   },
   {
    "duration": 3,
    "start_time": "2022-01-22T14:12:47.500Z"
   },
   {
    "duration": 29,
    "start_time": "2022-01-22T14:12:47.504Z"
   },
   {
    "duration": 20,
    "start_time": "2022-01-22T14:12:47.535Z"
   },
   {
    "duration": 8,
    "start_time": "2022-01-22T14:12:47.556Z"
   },
   {
    "duration": 3,
    "start_time": "2022-01-22T14:12:47.565Z"
   },
   {
    "duration": 7,
    "start_time": "2022-01-22T14:12:47.570Z"
   },
   {
    "duration": 200,
    "start_time": "2022-01-22T14:12:47.578Z"
   },
   {
    "duration": 3,
    "start_time": "2022-01-22T14:12:47.781Z"
   },
   {
    "duration": 39,
    "start_time": "2022-01-22T14:12:47.786Z"
   },
   {
    "duration": 173,
    "start_time": "2022-01-22T14:12:47.826Z"
   },
   {
    "duration": 2,
    "start_time": "2022-01-22T14:12:48.001Z"
   },
   {
    "duration": 4,
    "start_time": "2022-01-22T14:12:48.005Z"
   },
   {
    "duration": 8,
    "start_time": "2022-01-22T14:12:48.011Z"
   },
   {
    "duration": 3,
    "start_time": "2022-01-22T14:12:48.020Z"
   },
   {
    "duration": 27,
    "start_time": "2022-01-22T14:12:48.025Z"
   },
   {
    "duration": 7,
    "start_time": "2022-01-22T14:12:48.054Z"
   },
   {
    "duration": 5,
    "start_time": "2022-01-22T14:12:48.063Z"
   },
   {
    "duration": 9,
    "start_time": "2022-01-22T14:12:48.070Z"
   },
   {
    "duration": 7,
    "start_time": "2022-01-22T14:12:48.080Z"
   },
   {
    "duration": 8,
    "start_time": "2022-01-22T14:12:48.088Z"
   },
   {
    "duration": 516,
    "start_time": "2022-01-22T14:12:48.097Z"
   },
   {
    "duration": 42,
    "start_time": "2022-01-22T14:12:48.615Z"
   },
   {
    "duration": 8,
    "start_time": "2022-01-22T14:12:48.742Z"
   },
   {
    "duration": 3,
    "start_time": "2022-01-22T14:12:48.842Z"
   },
   {
    "duration": 546,
    "start_time": "2022-01-22T14:12:48.847Z"
   },
   {
    "duration": 7,
    "start_time": "2022-01-22T14:12:49.395Z"
   },
   {
    "duration": 6,
    "start_time": "2022-01-22T14:12:49.404Z"
   },
   {
    "duration": 1519,
    "start_time": "2022-01-22T14:12:49.411Z"
   },
   {
    "duration": 35,
    "start_time": "2022-01-22T14:12:50.932Z"
   },
   {
    "duration": 79,
    "start_time": "2022-01-22T14:12:50.969Z"
   },
   {
    "duration": 3,
    "start_time": "2022-01-22T14:13:07.619Z"
   },
   {
    "duration": 31,
    "start_time": "2022-01-22T14:13:07.624Z"
   },
   {
    "duration": 21,
    "start_time": "2022-01-22T14:13:07.658Z"
   },
   {
    "duration": 9,
    "start_time": "2022-01-22T14:13:07.682Z"
   },
   {
    "duration": 6,
    "start_time": "2022-01-22T14:13:07.693Z"
   },
   {
    "duration": 45,
    "start_time": "2022-01-22T14:13:07.700Z"
   },
   {
    "duration": 177,
    "start_time": "2022-01-22T14:13:07.747Z"
   },
   {
    "duration": 2,
    "start_time": "2022-01-22T14:13:07.927Z"
   },
   {
    "duration": 44,
    "start_time": "2022-01-22T14:13:07.931Z"
   },
   {
    "duration": 166,
    "start_time": "2022-01-22T14:13:07.977Z"
   },
   {
    "duration": 3,
    "start_time": "2022-01-22T14:13:08.145Z"
   },
   {
    "duration": 6,
    "start_time": "2022-01-22T14:13:08.149Z"
   },
   {
    "duration": 9,
    "start_time": "2022-01-22T14:13:08.156Z"
   },
   {
    "duration": 3,
    "start_time": "2022-01-22T14:13:08.166Z"
   },
   {
    "duration": 13,
    "start_time": "2022-01-22T14:13:08.171Z"
   },
   {
    "duration": 7,
    "start_time": "2022-01-22T14:13:08.185Z"
   },
   {
    "duration": 5,
    "start_time": "2022-01-22T14:13:08.194Z"
   },
   {
    "duration": 41,
    "start_time": "2022-01-22T14:13:08.201Z"
   },
   {
    "duration": 6,
    "start_time": "2022-01-22T14:13:08.243Z"
   },
   {
    "duration": 5,
    "start_time": "2022-01-22T14:13:08.250Z"
   },
   {
    "duration": 540,
    "start_time": "2022-01-22T14:13:08.257Z"
   },
   {
    "duration": 47,
    "start_time": "2022-01-22T14:13:08.798Z"
   },
   {
    "duration": 96,
    "start_time": "2022-01-22T14:13:08.849Z"
   },
   {
    "duration": 96,
    "start_time": "2022-01-22T14:13:08.947Z"
   },
   {
    "duration": 567,
    "start_time": "2022-01-22T14:13:09.044Z"
   },
   {
    "duration": 6,
    "start_time": "2022-01-22T14:13:09.612Z"
   },
   {
    "duration": 5,
    "start_time": "2022-01-22T14:13:09.619Z"
   },
   {
    "duration": 1550,
    "start_time": "2022-01-22T14:13:09.625Z"
   },
   {
    "duration": 64,
    "start_time": "2022-01-22T14:13:11.177Z"
   },
   {
    "duration": 7,
    "start_time": "2022-01-22T14:13:11.244Z"
   },
   {
    "duration": 3,
    "start_time": "2022-01-22T14:13:33.483Z"
   },
   {
    "duration": 38,
    "start_time": "2022-01-22T14:13:33.489Z"
   },
   {
    "duration": 19,
    "start_time": "2022-01-22T14:13:33.529Z"
   },
   {
    "duration": 9,
    "start_time": "2022-01-22T14:13:33.550Z"
   },
   {
    "duration": 6,
    "start_time": "2022-01-22T14:13:33.560Z"
   },
   {
    "duration": 7,
    "start_time": "2022-01-22T14:13:33.567Z"
   },
   {
    "duration": 202,
    "start_time": "2022-01-22T14:13:33.576Z"
   },
   {
    "duration": 3,
    "start_time": "2022-01-22T14:13:33.780Z"
   },
   {
    "duration": 56,
    "start_time": "2022-01-22T14:13:33.785Z"
   },
   {
    "duration": 167,
    "start_time": "2022-01-22T14:13:33.843Z"
   },
   {
    "duration": 2,
    "start_time": "2022-01-22T14:13:34.012Z"
   },
   {
    "duration": 5,
    "start_time": "2022-01-22T14:13:34.015Z"
   },
   {
    "duration": 22,
    "start_time": "2022-01-22T14:13:34.022Z"
   },
   {
    "duration": 3,
    "start_time": "2022-01-22T14:13:34.046Z"
   },
   {
    "duration": 16,
    "start_time": "2022-01-22T14:13:34.051Z"
   },
   {
    "duration": 12,
    "start_time": "2022-01-22T14:13:34.068Z"
   },
   {
    "duration": 7,
    "start_time": "2022-01-22T14:13:34.082Z"
   },
   {
    "duration": 7,
    "start_time": "2022-01-22T14:13:34.092Z"
   },
   {
    "duration": 46,
    "start_time": "2022-01-22T14:13:34.100Z"
   },
   {
    "duration": 4,
    "start_time": "2022-01-22T14:13:34.148Z"
   },
   {
    "duration": 578,
    "start_time": "2022-01-22T14:13:34.154Z"
   },
   {
    "duration": 102,
    "start_time": "2022-01-22T14:13:34.741Z"
   },
   {
    "duration": 97,
    "start_time": "2022-01-22T14:13:34.846Z"
   },
   {
    "duration": 3,
    "start_time": "2022-01-22T14:13:34.945Z"
   },
   {
    "duration": 644,
    "start_time": "2022-01-22T14:13:34.950Z"
   },
   {
    "duration": 6,
    "start_time": "2022-01-22T14:13:35.596Z"
   },
   {
    "duration": 8,
    "start_time": "2022-01-22T14:13:35.605Z"
   },
   {
    "duration": 1579,
    "start_time": "2022-01-22T14:13:35.614Z"
   },
   {
    "duration": 48,
    "start_time": "2022-01-22T14:13:37.195Z"
   },
   {
    "duration": 96,
    "start_time": "2022-01-22T14:13:37.246Z"
   },
   {
    "duration": 3,
    "start_time": "2022-01-22T14:13:52.968Z"
   },
   {
    "duration": 25,
    "start_time": "2022-01-22T14:13:52.979Z"
   },
   {
    "duration": 17,
    "start_time": "2022-01-22T14:13:53.006Z"
   },
   {
    "duration": 6,
    "start_time": "2022-01-22T14:13:53.024Z"
   },
   {
    "duration": 3,
    "start_time": "2022-01-22T14:13:53.032Z"
   },
   {
    "duration": 9,
    "start_time": "2022-01-22T14:13:53.036Z"
   },
   {
    "duration": 177,
    "start_time": "2022-01-22T14:13:53.046Z"
   },
   {
    "duration": 3,
    "start_time": "2022-01-22T14:13:53.225Z"
   },
   {
    "duration": 52,
    "start_time": "2022-01-22T14:13:53.230Z"
   },
   {
    "duration": 204,
    "start_time": "2022-01-22T14:13:53.285Z"
   },
   {
    "duration": 2,
    "start_time": "2022-01-22T14:13:53.491Z"
   },
   {
    "duration": 2,
    "start_time": "2022-01-22T14:13:53.494Z"
   },
   {
    "duration": 32,
    "start_time": "2022-01-22T14:13:53.498Z"
   },
   {
    "duration": 34,
    "start_time": "2022-01-22T14:13:53.531Z"
   },
   {
    "duration": 41,
    "start_time": "2022-01-22T14:13:53.567Z"
   },
   {
    "duration": 20,
    "start_time": "2022-01-22T14:13:53.609Z"
   },
   {
    "duration": 22,
    "start_time": "2022-01-22T14:13:53.630Z"
   },
   {
    "duration": 28,
    "start_time": "2022-01-22T14:13:53.653Z"
   },
   {
    "duration": 34,
    "start_time": "2022-01-22T14:13:53.682Z"
   },
   {
    "duration": 40,
    "start_time": "2022-01-22T14:13:53.718Z"
   },
   {
    "duration": 628,
    "start_time": "2022-01-22T14:13:53.759Z"
   },
   {
    "duration": 55,
    "start_time": "2022-01-22T14:13:54.388Z"
   },
   {
    "duration": 97,
    "start_time": "2022-01-22T14:13:54.445Z"
   },
   {
    "duration": 19,
    "start_time": "2022-01-22T14:13:54.546Z"
   },
   {
    "duration": 771,
    "start_time": "2022-01-22T14:13:54.567Z"
   },
   {
    "duration": 6,
    "start_time": "2022-01-22T14:13:55.341Z"
   },
   {
    "duration": 12,
    "start_time": "2022-01-22T14:13:55.348Z"
   },
   {
    "duration": 2146,
    "start_time": "2022-01-22T14:13:55.361Z"
   },
   {
    "duration": 133,
    "start_time": "2022-01-22T14:13:57.508Z"
   },
   {
    "duration": 7,
    "start_time": "2022-01-22T14:13:57.644Z"
   },
   {
    "duration": 4,
    "start_time": "2022-01-22T14:14:05.346Z"
   },
   {
    "duration": 36,
    "start_time": "2022-01-22T14:14:05.352Z"
   },
   {
    "duration": 25,
    "start_time": "2022-01-22T14:14:05.391Z"
   },
   {
    "duration": 6,
    "start_time": "2022-01-22T14:14:05.418Z"
   },
   {
    "duration": 15,
    "start_time": "2022-01-22T14:14:05.426Z"
   },
   {
    "duration": 9,
    "start_time": "2022-01-22T14:14:05.442Z"
   },
   {
    "duration": 193,
    "start_time": "2022-01-22T14:14:05.453Z"
   },
   {
    "duration": 3,
    "start_time": "2022-01-22T14:14:05.647Z"
   },
   {
    "duration": 42,
    "start_time": "2022-01-22T14:14:05.653Z"
   },
   {
    "duration": 182,
    "start_time": "2022-01-22T14:14:05.697Z"
   },
   {
    "duration": 2,
    "start_time": "2022-01-22T14:14:05.881Z"
   },
   {
    "duration": 10,
    "start_time": "2022-01-22T14:14:05.885Z"
   },
   {
    "duration": 28,
    "start_time": "2022-01-22T14:14:05.896Z"
   },
   {
    "duration": 8,
    "start_time": "2022-01-22T14:14:05.925Z"
   },
   {
    "duration": 30,
    "start_time": "2022-01-22T14:14:05.934Z"
   },
   {
    "duration": 8,
    "start_time": "2022-01-22T14:14:05.966Z"
   },
   {
    "duration": 14,
    "start_time": "2022-01-22T14:14:05.975Z"
   },
   {
    "duration": 18,
    "start_time": "2022-01-22T14:14:05.991Z"
   },
   {
    "duration": 13,
    "start_time": "2022-01-22T14:14:06.011Z"
   },
   {
    "duration": 21,
    "start_time": "2022-01-22T14:14:06.025Z"
   },
   {
    "duration": 550,
    "start_time": "2022-01-22T14:14:06.048Z"
   },
   {
    "duration": 147,
    "start_time": "2022-01-22T14:14:06.600Z"
   },
   {
    "duration": 91,
    "start_time": "2022-01-22T14:14:06.753Z"
   },
   {
    "duration": 3,
    "start_time": "2022-01-22T14:14:06.846Z"
   },
   {
    "duration": 811,
    "start_time": "2022-01-22T14:14:06.851Z"
   },
   {
    "duration": 8,
    "start_time": "2022-01-22T14:14:07.664Z"
   },
   {
    "duration": 16,
    "start_time": "2022-01-22T14:14:07.676Z"
   },
   {
    "duration": 2835,
    "start_time": "2022-01-22T14:14:07.694Z"
   },
   {
    "duration": 111,
    "start_time": "2022-01-22T14:14:10.531Z"
   },
   {
    "duration": 7,
    "start_time": "2022-01-22T14:14:10.644Z"
   },
   {
    "duration": 3,
    "start_time": "2022-01-22T14:14:21.185Z"
   },
   {
    "duration": 47,
    "start_time": "2022-01-22T14:14:21.191Z"
   },
   {
    "duration": 18,
    "start_time": "2022-01-22T14:14:21.240Z"
   },
   {
    "duration": 15,
    "start_time": "2022-01-22T14:14:21.260Z"
   },
   {
    "duration": 7,
    "start_time": "2022-01-22T14:14:21.276Z"
   },
   {
    "duration": 20,
    "start_time": "2022-01-22T14:14:21.284Z"
   },
   {
    "duration": 182,
    "start_time": "2022-01-22T14:14:21.306Z"
   },
   {
    "duration": 3,
    "start_time": "2022-01-22T14:14:21.489Z"
   },
   {
    "duration": 48,
    "start_time": "2022-01-22T14:14:21.495Z"
   },
   {
    "duration": 166,
    "start_time": "2022-01-22T14:14:21.545Z"
   },
   {
    "duration": 2,
    "start_time": "2022-01-22T14:14:21.713Z"
   },
   {
    "duration": 6,
    "start_time": "2022-01-22T14:14:21.717Z"
   },
   {
    "duration": 19,
    "start_time": "2022-01-22T14:14:21.725Z"
   },
   {
    "duration": 2,
    "start_time": "2022-01-22T14:14:21.745Z"
   },
   {
    "duration": 13,
    "start_time": "2022-01-22T14:14:21.749Z"
   },
   {
    "duration": 7,
    "start_time": "2022-01-22T14:14:21.764Z"
   },
   {
    "duration": 5,
    "start_time": "2022-01-22T14:14:21.773Z"
   },
   {
    "duration": 9,
    "start_time": "2022-01-22T14:14:21.779Z"
   },
   {
    "duration": 7,
    "start_time": "2022-01-22T14:14:21.789Z"
   },
   {
    "duration": 8,
    "start_time": "2022-01-22T14:14:21.797Z"
   },
   {
    "duration": 535,
    "start_time": "2022-01-22T14:14:21.807Z"
   },
   {
    "duration": 32,
    "start_time": "2022-01-22T14:14:22.343Z"
   },
   {
    "duration": 6,
    "start_time": "2022-01-22T14:14:22.442Z"
   },
   {
    "duration": 95,
    "start_time": "2022-01-22T14:14:22.450Z"
   },
   {
    "duration": 814,
    "start_time": "2022-01-22T14:14:22.546Z"
   },
   {
    "duration": 6,
    "start_time": "2022-01-22T14:14:23.362Z"
   },
   {
    "duration": 3,
    "start_time": "2022-01-22T14:14:23.371Z"
   },
   {
    "duration": 2866,
    "start_time": "2022-01-22T14:14:23.376Z"
   },
   {
    "duration": 108,
    "start_time": "2022-01-22T14:14:26.243Z"
   },
   {
    "duration": 92,
    "start_time": "2022-01-22T14:14:26.353Z"
   },
   {
    "duration": 4,
    "start_time": "2022-01-22T14:14:34.441Z"
   },
   {
    "duration": 29,
    "start_time": "2022-01-22T14:14:34.447Z"
   },
   {
    "duration": 21,
    "start_time": "2022-01-22T14:14:34.478Z"
   },
   {
    "duration": 7,
    "start_time": "2022-01-22T14:14:34.501Z"
   },
   {
    "duration": 34,
    "start_time": "2022-01-22T14:14:34.510Z"
   },
   {
    "duration": 8,
    "start_time": "2022-01-22T14:14:34.546Z"
   },
   {
    "duration": 206,
    "start_time": "2022-01-22T14:14:34.556Z"
   },
   {
    "duration": 3,
    "start_time": "2022-01-22T14:14:34.765Z"
   },
   {
    "duration": 43,
    "start_time": "2022-01-22T14:14:34.770Z"
   },
   {
    "duration": 187,
    "start_time": "2022-01-22T14:14:34.815Z"
   },
   {
    "duration": 3,
    "start_time": "2022-01-22T14:14:35.004Z"
   },
   {
    "duration": 8,
    "start_time": "2022-01-22T14:14:35.008Z"
   },
   {
    "duration": 9,
    "start_time": "2022-01-22T14:14:35.017Z"
   },
   {
    "duration": 14,
    "start_time": "2022-01-22T14:14:35.028Z"
   },
   {
    "duration": 17,
    "start_time": "2022-01-22T14:14:35.044Z"
   },
   {
    "duration": 11,
    "start_time": "2022-01-22T14:14:35.063Z"
   },
   {
    "duration": 9,
    "start_time": "2022-01-22T14:14:35.075Z"
   },
   {
    "duration": 7,
    "start_time": "2022-01-22T14:14:35.086Z"
   },
   {
    "duration": 51,
    "start_time": "2022-01-22T14:14:35.095Z"
   },
   {
    "duration": 6,
    "start_time": "2022-01-22T14:14:35.147Z"
   },
   {
    "duration": 538,
    "start_time": "2022-01-22T14:14:35.154Z"
   },
   {
    "duration": 54,
    "start_time": "2022-01-22T14:14:35.694Z"
   },
   {
    "duration": 188,
    "start_time": "2022-01-22T14:14:35.753Z"
   },
   {
    "duration": 4,
    "start_time": "2022-01-22T14:14:35.943Z"
   },
   {
    "duration": 893,
    "start_time": "2022-01-22T14:14:35.948Z"
   },
   {
    "duration": 6,
    "start_time": "2022-01-22T14:14:36.842Z"
   },
   {
    "duration": 5,
    "start_time": "2022-01-22T14:14:36.849Z"
   },
   {
    "duration": 2582,
    "start_time": "2022-01-22T14:14:36.855Z"
   },
   {
    "duration": 30,
    "start_time": "2022-01-22T14:14:39.440Z"
   },
   {
    "duration": 9,
    "start_time": "2022-01-22T14:14:39.541Z"
   },
   {
    "duration": 4,
    "start_time": "2022-01-22T14:15:05.160Z"
   },
   {
    "duration": 46,
    "start_time": "2022-01-22T14:15:05.166Z"
   },
   {
    "duration": 22,
    "start_time": "2022-01-22T14:15:05.215Z"
   },
   {
    "duration": 10,
    "start_time": "2022-01-22T14:15:05.239Z"
   },
   {
    "duration": 15,
    "start_time": "2022-01-22T14:15:05.251Z"
   },
   {
    "duration": 22,
    "start_time": "2022-01-22T14:15:05.268Z"
   },
   {
    "duration": 212,
    "start_time": "2022-01-22T14:15:05.292Z"
   },
   {
    "duration": 3,
    "start_time": "2022-01-22T14:15:05.506Z"
   },
   {
    "duration": 52,
    "start_time": "2022-01-22T14:15:05.513Z"
   },
   {
    "duration": 178,
    "start_time": "2022-01-22T14:15:05.568Z"
   },
   {
    "duration": 3,
    "start_time": "2022-01-22T14:15:05.748Z"
   },
   {
    "duration": 5,
    "start_time": "2022-01-22T14:15:05.752Z"
   },
   {
    "duration": 8,
    "start_time": "2022-01-22T14:15:05.759Z"
   },
   {
    "duration": 3,
    "start_time": "2022-01-22T14:15:05.768Z"
   },
   {
    "duration": 14,
    "start_time": "2022-01-22T14:15:05.773Z"
   },
   {
    "duration": 8,
    "start_time": "2022-01-22T14:15:05.789Z"
   },
   {
    "duration": 12,
    "start_time": "2022-01-22T14:15:05.798Z"
   },
   {
    "duration": 34,
    "start_time": "2022-01-22T14:15:05.811Z"
   },
   {
    "duration": 10,
    "start_time": "2022-01-22T14:15:05.847Z"
   },
   {
    "duration": 5,
    "start_time": "2022-01-22T14:15:05.859Z"
   },
   {
    "duration": 555,
    "start_time": "2022-01-22T14:15:05.865Z"
   },
   {
    "duration": 44,
    "start_time": "2022-01-22T14:15:06.422Z"
   },
   {
    "duration": 75,
    "start_time": "2022-01-22T14:15:06.468Z"
   },
   {
    "duration": 6,
    "start_time": "2022-01-22T14:15:06.546Z"
   },
   {
    "duration": 795,
    "start_time": "2022-01-22T14:15:06.642Z"
   },
   {
    "duration": 6,
    "start_time": "2022-01-22T14:15:07.441Z"
   },
   {
    "duration": 2,
    "start_time": "2022-01-22T14:15:07.450Z"
   },
   {
    "duration": 2654,
    "start_time": "2022-01-22T14:15:07.454Z"
   },
   {
    "duration": 37,
    "start_time": "2022-01-22T14:15:10.109Z"
   },
   {
    "duration": 93,
    "start_time": "2022-01-22T14:15:10.148Z"
   },
   {
    "duration": 3,
    "start_time": "2022-01-22T14:15:18.024Z"
   },
   {
    "duration": 34,
    "start_time": "2022-01-22T14:15:18.029Z"
   },
   {
    "duration": 19,
    "start_time": "2022-01-22T14:15:18.066Z"
   },
   {
    "duration": 9,
    "start_time": "2022-01-22T14:15:18.087Z"
   },
   {
    "duration": 5,
    "start_time": "2022-01-22T14:15:18.097Z"
   },
   {
    "duration": 8,
    "start_time": "2022-01-22T14:15:18.104Z"
   },
   {
    "duration": 194,
    "start_time": "2022-01-22T14:15:18.114Z"
   },
   {
    "duration": 3,
    "start_time": "2022-01-22T14:15:18.311Z"
   },
   {
    "duration": 58,
    "start_time": "2022-01-22T14:15:18.317Z"
   },
   {
    "duration": 177,
    "start_time": "2022-01-22T14:15:18.377Z"
   },
   {
    "duration": 3,
    "start_time": "2022-01-22T14:15:18.555Z"
   },
   {
    "duration": 6,
    "start_time": "2022-01-22T14:15:18.559Z"
   },
   {
    "duration": 9,
    "start_time": "2022-01-22T14:15:18.566Z"
   },
   {
    "duration": 3,
    "start_time": "2022-01-22T14:15:18.576Z"
   },
   {
    "duration": 18,
    "start_time": "2022-01-22T14:15:18.580Z"
   },
   {
    "duration": 8,
    "start_time": "2022-01-22T14:15:18.600Z"
   },
   {
    "duration": 33,
    "start_time": "2022-01-22T14:15:18.609Z"
   },
   {
    "duration": 7,
    "start_time": "2022-01-22T14:15:18.644Z"
   },
   {
    "duration": 8,
    "start_time": "2022-01-22T14:15:18.653Z"
   },
   {
    "duration": 6,
    "start_time": "2022-01-22T14:15:18.663Z"
   },
   {
    "duration": 623,
    "start_time": "2022-01-22T14:15:18.671Z"
   },
   {
    "duration": 54,
    "start_time": "2022-01-22T14:15:19.296Z"
   },
   {
    "duration": 96,
    "start_time": "2022-01-22T14:15:19.446Z"
   },
   {
    "duration": 4,
    "start_time": "2022-01-22T14:15:19.544Z"
   },
   {
    "duration": 800,
    "start_time": "2022-01-22T14:15:19.549Z"
   },
   {
    "duration": 7,
    "start_time": "2022-01-22T14:15:20.351Z"
   },
   {
    "duration": 7,
    "start_time": "2022-01-22T14:15:20.360Z"
   },
   {
    "duration": 2913,
    "start_time": "2022-01-22T14:15:20.369Z"
   },
   {
    "duration": 66,
    "start_time": "2022-01-22T14:15:23.284Z"
   },
   {
    "duration": 7,
    "start_time": "2022-01-22T14:15:23.442Z"
   },
   {
    "duration": 4,
    "start_time": "2022-01-22T14:15:33.536Z"
   },
   {
    "duration": 42,
    "start_time": "2022-01-22T14:15:33.542Z"
   },
   {
    "duration": 22,
    "start_time": "2022-01-22T14:15:33.586Z"
   },
   {
    "duration": 14,
    "start_time": "2022-01-22T14:15:33.610Z"
   },
   {
    "duration": 20,
    "start_time": "2022-01-22T14:15:33.626Z"
   },
   {
    "duration": 16,
    "start_time": "2022-01-22T14:15:33.647Z"
   },
   {
    "duration": 179,
    "start_time": "2022-01-22T14:15:33.665Z"
   },
   {
    "duration": 4,
    "start_time": "2022-01-22T14:15:33.846Z"
   },
   {
    "duration": 59,
    "start_time": "2022-01-22T14:15:33.853Z"
   },
   {
    "duration": 157,
    "start_time": "2022-01-22T14:15:33.915Z"
   },
   {
    "duration": 4,
    "start_time": "2022-01-22T14:15:34.073Z"
   },
   {
    "duration": 34,
    "start_time": "2022-01-22T14:15:34.078Z"
   },
   {
    "duration": 15,
    "start_time": "2022-01-22T14:15:34.113Z"
   },
   {
    "duration": 36,
    "start_time": "2022-01-22T14:15:34.130Z"
   },
   {
    "duration": 42,
    "start_time": "2022-01-22T14:15:34.167Z"
   },
   {
    "duration": 17,
    "start_time": "2022-01-22T14:15:34.211Z"
   },
   {
    "duration": 30,
    "start_time": "2022-01-22T14:15:34.229Z"
   },
   {
    "duration": 35,
    "start_time": "2022-01-22T14:15:34.261Z"
   },
   {
    "duration": 14,
    "start_time": "2022-01-22T14:15:34.297Z"
   },
   {
    "duration": 22,
    "start_time": "2022-01-22T14:15:34.312Z"
   },
   {
    "duration": 565,
    "start_time": "2022-01-22T14:15:34.335Z"
   },
   {
    "duration": 43,
    "start_time": "2022-01-22T14:15:34.902Z"
   },
   {
    "duration": 101,
    "start_time": "2022-01-22T14:15:34.947Z"
   },
   {
    "duration": 93,
    "start_time": "2022-01-22T14:15:35.050Z"
   },
   {
    "duration": 838,
    "start_time": "2022-01-22T14:15:35.145Z"
   },
   {
    "duration": 6,
    "start_time": "2022-01-22T14:15:35.985Z"
   },
   {
    "duration": 16,
    "start_time": "2022-01-22T14:15:35.993Z"
   },
   {
    "duration": 2437,
    "start_time": "2022-01-22T14:15:36.010Z"
   },
   {
    "duration": 38,
    "start_time": "2022-01-22T14:15:38.449Z"
   },
   {
    "duration": 8,
    "start_time": "2022-01-22T14:15:38.542Z"
   },
   {
    "duration": 3,
    "start_time": "2022-01-22T14:15:48.257Z"
   },
   {
    "duration": 31,
    "start_time": "2022-01-22T14:15:48.262Z"
   },
   {
    "duration": 22,
    "start_time": "2022-01-22T14:15:48.295Z"
   },
   {
    "duration": 7,
    "start_time": "2022-01-22T14:15:48.319Z"
   },
   {
    "duration": 4,
    "start_time": "2022-01-22T14:15:48.341Z"
   },
   {
    "duration": 7,
    "start_time": "2022-01-22T14:15:48.347Z"
   },
   {
    "duration": 193,
    "start_time": "2022-01-22T14:15:48.356Z"
   },
   {
    "duration": 3,
    "start_time": "2022-01-22T14:15:48.551Z"
   },
   {
    "duration": 40,
    "start_time": "2022-01-22T14:15:48.557Z"
   },
   {
    "duration": 180,
    "start_time": "2022-01-22T14:15:48.599Z"
   },
   {
    "duration": 3,
    "start_time": "2022-01-22T14:15:48.781Z"
   },
   {
    "duration": 6,
    "start_time": "2022-01-22T14:15:48.785Z"
   },
   {
    "duration": 8,
    "start_time": "2022-01-22T14:15:48.793Z"
   },
   {
    "duration": 3,
    "start_time": "2022-01-22T14:15:48.803Z"
   },
   {
    "duration": 42,
    "start_time": "2022-01-22T14:15:48.807Z"
   },
   {
    "duration": 8,
    "start_time": "2022-01-22T14:15:48.850Z"
   },
   {
    "duration": 7,
    "start_time": "2022-01-22T14:15:48.859Z"
   },
   {
    "duration": 7,
    "start_time": "2022-01-22T14:15:48.867Z"
   },
   {
    "duration": 5,
    "start_time": "2022-01-22T14:15:48.876Z"
   },
   {
    "duration": 3,
    "start_time": "2022-01-22T14:15:48.883Z"
   },
   {
    "duration": 544,
    "start_time": "2022-01-22T14:15:48.888Z"
   },
   {
    "duration": 38,
    "start_time": "2022-01-22T14:15:49.434Z"
   },
   {
    "duration": 8,
    "start_time": "2022-01-22T14:15:49.542Z"
   },
   {
    "duration": 5,
    "start_time": "2022-01-22T14:15:49.642Z"
   },
   {
    "duration": 819,
    "start_time": "2022-01-22T14:15:49.648Z"
   },
   {
    "duration": 6,
    "start_time": "2022-01-22T14:15:50.468Z"
   },
   {
    "duration": 4,
    "start_time": "2022-01-22T14:15:50.476Z"
   },
   {
    "duration": 2348,
    "start_time": "2022-01-22T14:15:50.482Z"
   },
   {
    "duration": 35,
    "start_time": "2022-01-22T14:15:52.832Z"
   },
   {
    "duration": 73,
    "start_time": "2022-01-22T14:15:52.869Z"
   },
   {
    "duration": 4,
    "start_time": "2022-01-22T14:16:02.175Z"
   },
   {
    "duration": 55,
    "start_time": "2022-01-22T14:16:02.180Z"
   },
   {
    "duration": 37,
    "start_time": "2022-01-22T14:16:02.237Z"
   },
   {
    "duration": 31,
    "start_time": "2022-01-22T14:16:02.275Z"
   },
   {
    "duration": 8,
    "start_time": "2022-01-22T14:16:02.308Z"
   },
   {
    "duration": 8,
    "start_time": "2022-01-22T14:16:02.318Z"
   },
   {
    "duration": 175,
    "start_time": "2022-01-22T14:16:02.327Z"
   },
   {
    "duration": 3,
    "start_time": "2022-01-22T14:16:02.504Z"
   },
   {
    "duration": 57,
    "start_time": "2022-01-22T14:16:02.511Z"
   },
   {
    "duration": 171,
    "start_time": "2022-01-22T14:16:02.571Z"
   },
   {
    "duration": 2,
    "start_time": "2022-01-22T14:16:02.744Z"
   },
   {
    "duration": 5,
    "start_time": "2022-01-22T14:16:02.748Z"
   },
   {
    "duration": 11,
    "start_time": "2022-01-22T14:16:02.755Z"
   },
   {
    "duration": 3,
    "start_time": "2022-01-22T14:16:02.767Z"
   },
   {
    "duration": 14,
    "start_time": "2022-01-22T14:16:02.771Z"
   },
   {
    "duration": 7,
    "start_time": "2022-01-22T14:16:02.787Z"
   },
   {
    "duration": 6,
    "start_time": "2022-01-22T14:16:02.796Z"
   },
   {
    "duration": 44,
    "start_time": "2022-01-22T14:16:02.803Z"
   },
   {
    "duration": 6,
    "start_time": "2022-01-22T14:16:02.849Z"
   },
   {
    "duration": 4,
    "start_time": "2022-01-22T14:16:02.857Z"
   },
   {
    "duration": 524,
    "start_time": "2022-01-22T14:16:02.863Z"
   },
   {
    "duration": 55,
    "start_time": "2022-01-22T14:16:03.389Z"
   },
   {
    "duration": 97,
    "start_time": "2022-01-22T14:16:03.446Z"
   },
   {
    "duration": 8,
    "start_time": "2022-01-22T14:16:03.546Z"
   },
   {
    "duration": 952,
    "start_time": "2022-01-22T14:16:03.556Z"
   },
   {
    "duration": 7,
    "start_time": "2022-01-22T14:16:04.510Z"
   },
   {
    "duration": 16,
    "start_time": "2022-01-22T14:16:04.520Z"
   },
   {
    "duration": 2527,
    "start_time": "2022-01-22T14:16:04.538Z"
   },
   {
    "duration": 74,
    "start_time": "2022-01-22T14:16:07.067Z"
   },
   {
    "duration": 15,
    "start_time": "2022-01-22T14:16:07.143Z"
   },
   {
    "duration": 4,
    "start_time": "2022-01-22T14:16:16.694Z"
   },
   {
    "duration": 31,
    "start_time": "2022-01-22T14:16:16.700Z"
   },
   {
    "duration": 23,
    "start_time": "2022-01-22T14:16:16.734Z"
   },
   {
    "duration": 8,
    "start_time": "2022-01-22T14:16:16.759Z"
   },
   {
    "duration": 3,
    "start_time": "2022-01-22T14:16:16.769Z"
   },
   {
    "duration": 8,
    "start_time": "2022-01-22T14:16:16.774Z"
   },
   {
    "duration": 211,
    "start_time": "2022-01-22T14:16:16.784Z"
   },
   {
    "duration": 3,
    "start_time": "2022-01-22T14:16:16.997Z"
   },
   {
    "duration": 50,
    "start_time": "2022-01-22T14:16:17.002Z"
   },
   {
    "duration": 165,
    "start_time": "2022-01-22T14:16:17.054Z"
   },
   {
    "duration": 2,
    "start_time": "2022-01-22T14:16:17.221Z"
   },
   {
    "duration": 16,
    "start_time": "2022-01-22T14:16:17.225Z"
   },
   {
    "duration": 7,
    "start_time": "2022-01-22T14:16:17.242Z"
   },
   {
    "duration": 4,
    "start_time": "2022-01-22T14:16:17.250Z"
   },
   {
    "duration": 13,
    "start_time": "2022-01-22T14:16:17.256Z"
   },
   {
    "duration": 8,
    "start_time": "2022-01-22T14:16:17.270Z"
   },
   {
    "duration": 7,
    "start_time": "2022-01-22T14:16:17.279Z"
   },
   {
    "duration": 13,
    "start_time": "2022-01-22T14:16:17.287Z"
   },
   {
    "duration": 6,
    "start_time": "2022-01-22T14:16:17.341Z"
   },
   {
    "duration": 6,
    "start_time": "2022-01-22T14:16:17.348Z"
   },
   {
    "duration": 506,
    "start_time": "2022-01-22T14:16:17.355Z"
   },
   {
    "duration": 86,
    "start_time": "2022-01-22T14:16:17.862Z"
   },
   {
    "duration": 91,
    "start_time": "2022-01-22T14:16:17.953Z"
   },
   {
    "duration": 5,
    "start_time": "2022-01-22T14:16:18.047Z"
   },
   {
    "duration": 960,
    "start_time": "2022-01-22T14:16:18.053Z"
   },
   {
    "duration": 6,
    "start_time": "2022-01-22T14:16:19.015Z"
   },
   {
    "duration": 5,
    "start_time": "2022-01-22T14:16:19.022Z"
   },
   {
    "duration": 3494,
    "start_time": "2022-01-22T14:16:19.041Z"
   },
   {
    "duration": 28,
    "start_time": "2022-01-22T14:16:22.536Z"
   },
   {
    "duration": 75,
    "start_time": "2022-01-22T14:16:22.567Z"
   },
   {
    "duration": 3,
    "start_time": "2022-01-22T14:16:38.309Z"
   },
   {
    "duration": 45,
    "start_time": "2022-01-22T14:16:38.314Z"
   },
   {
    "duration": 25,
    "start_time": "2022-01-22T14:16:38.361Z"
   },
   {
    "duration": 10,
    "start_time": "2022-01-22T14:16:38.388Z"
   },
   {
    "duration": 28,
    "start_time": "2022-01-22T14:16:38.399Z"
   },
   {
    "duration": 17,
    "start_time": "2022-01-22T14:16:38.428Z"
   },
   {
    "duration": 198,
    "start_time": "2022-01-22T14:16:38.447Z"
   },
   {
    "duration": 4,
    "start_time": "2022-01-22T14:16:38.648Z"
   },
   {
    "duration": 46,
    "start_time": "2022-01-22T14:16:38.654Z"
   },
   {
    "duration": 169,
    "start_time": "2022-01-22T14:16:38.702Z"
   },
   {
    "duration": 3,
    "start_time": "2022-01-22T14:16:38.872Z"
   },
   {
    "duration": 30,
    "start_time": "2022-01-22T14:16:38.876Z"
   },
   {
    "duration": 27,
    "start_time": "2022-01-22T14:16:38.908Z"
   },
   {
    "duration": 27,
    "start_time": "2022-01-22T14:16:38.937Z"
   },
   {
    "duration": 37,
    "start_time": "2022-01-22T14:16:38.965Z"
   },
   {
    "duration": 32,
    "start_time": "2022-01-22T14:16:39.004Z"
   },
   {
    "duration": 34,
    "start_time": "2022-01-22T14:16:39.037Z"
   },
   {
    "duration": 30,
    "start_time": "2022-01-22T14:16:39.072Z"
   },
   {
    "duration": 30,
    "start_time": "2022-01-22T14:16:39.103Z"
   },
   {
    "duration": 21,
    "start_time": "2022-01-22T14:16:39.135Z"
   },
   {
    "duration": 502,
    "start_time": "2022-01-22T14:16:39.158Z"
   },
   {
    "duration": 79,
    "start_time": "2022-01-22T14:16:39.662Z"
   },
   {
    "duration": 97,
    "start_time": "2022-01-22T14:16:39.745Z"
   },
   {
    "duration": 4,
    "start_time": "2022-01-22T14:16:39.844Z"
   },
   {
    "duration": 903,
    "start_time": "2022-01-22T14:16:39.849Z"
   },
   {
    "duration": 6,
    "start_time": "2022-01-22T14:16:40.753Z"
   },
   {
    "duration": 4,
    "start_time": "2022-01-22T14:16:40.761Z"
   },
   {
    "duration": 2539,
    "start_time": "2022-01-22T14:16:40.766Z"
   },
   {
    "duration": 45,
    "start_time": "2022-01-22T14:16:43.307Z"
   },
   {
    "duration": 92,
    "start_time": "2022-01-22T14:16:43.354Z"
   },
   {
    "duration": 3,
    "start_time": "2022-01-22T14:16:55.005Z"
   },
   {
    "duration": 31,
    "start_time": "2022-01-22T14:16:55.010Z"
   },
   {
    "duration": 18,
    "start_time": "2022-01-22T14:16:55.043Z"
   },
   {
    "duration": 7,
    "start_time": "2022-01-22T14:16:55.063Z"
   },
   {
    "duration": 4,
    "start_time": "2022-01-22T14:16:55.071Z"
   },
   {
    "duration": 7,
    "start_time": "2022-01-22T14:16:55.077Z"
   },
   {
    "duration": 210,
    "start_time": "2022-01-22T14:16:55.087Z"
   },
   {
    "duration": 3,
    "start_time": "2022-01-22T14:16:55.299Z"
   },
   {
    "duration": 52,
    "start_time": "2022-01-22T14:16:55.303Z"
   },
   {
    "duration": 167,
    "start_time": "2022-01-22T14:16:55.358Z"
   },
   {
    "duration": 2,
    "start_time": "2022-01-22T14:16:55.527Z"
   },
   {
    "duration": 12,
    "start_time": "2022-01-22T14:16:55.531Z"
   },
   {
    "duration": 24,
    "start_time": "2022-01-22T14:16:55.545Z"
   },
   {
    "duration": 22,
    "start_time": "2022-01-22T14:16:55.571Z"
   },
   {
    "duration": 25,
    "start_time": "2022-01-22T14:16:55.594Z"
   },
   {
    "duration": 10,
    "start_time": "2022-01-22T14:16:55.621Z"
   },
   {
    "duration": 26,
    "start_time": "2022-01-22T14:16:55.633Z"
   },
   {
    "duration": 22,
    "start_time": "2022-01-22T14:16:55.661Z"
   },
   {
    "duration": 7,
    "start_time": "2022-01-22T14:16:55.687Z"
   },
   {
    "duration": 12,
    "start_time": "2022-01-22T14:16:55.696Z"
   },
   {
    "duration": 572,
    "start_time": "2022-01-22T14:16:55.710Z"
   },
   {
    "duration": 66,
    "start_time": "2022-01-22T14:16:56.284Z"
   },
   {
    "duration": 7,
    "start_time": "2022-01-22T14:16:56.442Z"
   },
   {
    "duration": 5,
    "start_time": "2022-01-22T14:16:56.451Z"
   },
   {
    "duration": 1486,
    "start_time": "2022-01-22T14:16:56.458Z"
   },
   {
    "duration": 7,
    "start_time": "2022-01-22T14:16:57.946Z"
   },
   {
    "duration": 9,
    "start_time": "2022-01-22T14:16:57.955Z"
   },
   {
    "duration": 3776,
    "start_time": "2022-01-22T14:16:57.966Z"
   },
   {
    "duration": 99,
    "start_time": "2022-01-22T14:17:01.744Z"
   },
   {
    "duration": 98,
    "start_time": "2022-01-22T14:17:01.845Z"
   },
   {
    "duration": 3,
    "start_time": "2022-01-22T14:17:10.477Z"
   },
   {
    "duration": 46,
    "start_time": "2022-01-22T14:17:10.482Z"
   },
   {
    "duration": 25,
    "start_time": "2022-01-22T14:17:10.531Z"
   },
   {
    "duration": 22,
    "start_time": "2022-01-22T14:17:10.558Z"
   },
   {
    "duration": 14,
    "start_time": "2022-01-22T14:17:10.582Z"
   },
   {
    "duration": 24,
    "start_time": "2022-01-22T14:17:10.598Z"
   },
   {
    "duration": 198,
    "start_time": "2022-01-22T14:17:10.624Z"
   },
   {
    "duration": 4,
    "start_time": "2022-01-22T14:17:10.824Z"
   },
   {
    "duration": 51,
    "start_time": "2022-01-22T14:17:10.831Z"
   },
   {
    "duration": 257,
    "start_time": "2022-01-22T14:17:10.884Z"
   },
   {
    "duration": 3,
    "start_time": "2022-01-22T14:17:11.143Z"
   },
   {
    "duration": 6,
    "start_time": "2022-01-22T14:17:11.147Z"
   },
   {
    "duration": 9,
    "start_time": "2022-01-22T14:17:11.155Z"
   },
   {
    "duration": 2,
    "start_time": "2022-01-22T14:17:11.166Z"
   },
   {
    "duration": 19,
    "start_time": "2022-01-22T14:17:11.170Z"
   },
   {
    "duration": 23,
    "start_time": "2022-01-22T14:17:11.191Z"
   },
   {
    "duration": 27,
    "start_time": "2022-01-22T14:17:11.216Z"
   },
   {
    "duration": 14,
    "start_time": "2022-01-22T14:17:11.245Z"
   },
   {
    "duration": 32,
    "start_time": "2022-01-22T14:17:11.260Z"
   },
   {
    "duration": 22,
    "start_time": "2022-01-22T14:17:11.294Z"
   },
   {
    "duration": 507,
    "start_time": "2022-01-22T14:17:11.317Z"
   },
   {
    "duration": 43,
    "start_time": "2022-01-22T14:17:11.826Z"
   },
   {
    "duration": 7,
    "start_time": "2022-01-22T14:17:11.943Z"
   },
   {
    "duration": 114,
    "start_time": "2022-01-22T14:17:11.952Z"
   },
   {
    "duration": 994,
    "start_time": "2022-01-22T14:17:12.067Z"
   },
   {
    "duration": 5,
    "start_time": "2022-01-22T14:17:13.062Z"
   },
   {
    "duration": 28,
    "start_time": "2022-01-22T14:17:13.070Z"
   },
   {
    "duration": 2922,
    "start_time": "2022-01-22T14:17:13.100Z"
   },
   {
    "duration": 117,
    "start_time": "2022-01-22T14:17:16.024Z"
   },
   {
    "duration": 101,
    "start_time": "2022-01-22T14:17:16.144Z"
   },
   {
    "duration": 3,
    "start_time": "2022-01-22T14:17:24.756Z"
   },
   {
    "duration": 28,
    "start_time": "2022-01-22T14:17:24.760Z"
   },
   {
    "duration": 17,
    "start_time": "2022-01-22T14:17:24.790Z"
   },
   {
    "duration": 6,
    "start_time": "2022-01-22T14:17:24.809Z"
   },
   {
    "duration": 5,
    "start_time": "2022-01-22T14:17:24.816Z"
   },
   {
    "duration": 21,
    "start_time": "2022-01-22T14:17:24.822Z"
   },
   {
    "duration": 181,
    "start_time": "2022-01-22T14:17:24.845Z"
   },
   {
    "duration": 3,
    "start_time": "2022-01-22T14:17:25.028Z"
   },
   {
    "duration": 75,
    "start_time": "2022-01-22T14:17:25.033Z"
   },
   {
    "duration": 161,
    "start_time": "2022-01-22T14:17:25.110Z"
   },
   {
    "duration": 2,
    "start_time": "2022-01-22T14:17:25.273Z"
   },
   {
    "duration": 22,
    "start_time": "2022-01-22T14:17:25.276Z"
   },
   {
    "duration": 27,
    "start_time": "2022-01-22T14:17:25.300Z"
   },
   {
    "duration": 16,
    "start_time": "2022-01-22T14:17:25.328Z"
   },
   {
    "duration": 32,
    "start_time": "2022-01-22T14:17:25.345Z"
   },
   {
    "duration": 26,
    "start_time": "2022-01-22T14:17:25.379Z"
   },
   {
    "duration": 33,
    "start_time": "2022-01-22T14:17:25.406Z"
   },
   {
    "duration": 32,
    "start_time": "2022-01-22T14:17:25.441Z"
   },
   {
    "duration": 30,
    "start_time": "2022-01-22T14:17:25.475Z"
   },
   {
    "duration": 39,
    "start_time": "2022-01-22T14:17:25.506Z"
   },
   {
    "duration": 538,
    "start_time": "2022-01-22T14:17:25.546Z"
   },
   {
    "duration": 159,
    "start_time": "2022-01-22T14:17:26.086Z"
   },
   {
    "duration": 7,
    "start_time": "2022-01-22T14:17:26.248Z"
   },
   {
    "duration": 83,
    "start_time": "2022-01-22T14:17:26.258Z"
   },
   {
    "duration": 1115,
    "start_time": "2022-01-22T14:17:26.343Z"
   },
   {
    "duration": 6,
    "start_time": "2022-01-22T14:17:27.459Z"
   },
   {
    "duration": 35,
    "start_time": "2022-01-22T14:17:27.466Z"
   },
   {
    "duration": 3002,
    "start_time": "2022-01-22T14:17:27.503Z"
   },
   {
    "duration": 48,
    "start_time": "2022-01-22T14:17:30.507Z"
   },
   {
    "duration": 85,
    "start_time": "2022-01-22T14:17:30.557Z"
   },
   {
    "duration": 4,
    "start_time": "2022-01-22T14:17:38.660Z"
   },
   {
    "duration": 30,
    "start_time": "2022-01-22T14:17:38.665Z"
   },
   {
    "duration": 18,
    "start_time": "2022-01-22T14:17:38.697Z"
   },
   {
    "duration": 7,
    "start_time": "2022-01-22T14:17:38.717Z"
   },
   {
    "duration": 4,
    "start_time": "2022-01-22T14:17:38.725Z"
   },
   {
    "duration": 12,
    "start_time": "2022-01-22T14:17:38.731Z"
   },
   {
    "duration": 179,
    "start_time": "2022-01-22T14:17:38.745Z"
   },
   {
    "duration": 3,
    "start_time": "2022-01-22T14:17:38.926Z"
   },
   {
    "duration": 45,
    "start_time": "2022-01-22T14:17:38.930Z"
   },
   {
    "duration": 159,
    "start_time": "2022-01-22T14:17:38.976Z"
   },
   {
    "duration": 4,
    "start_time": "2022-01-22T14:17:39.137Z"
   },
   {
    "duration": 6,
    "start_time": "2022-01-22T14:17:39.143Z"
   },
   {
    "duration": 16,
    "start_time": "2022-01-22T14:17:39.151Z"
   },
   {
    "duration": 11,
    "start_time": "2022-01-22T14:17:39.168Z"
   },
   {
    "duration": 13,
    "start_time": "2022-01-22T14:17:39.181Z"
   },
   {
    "duration": 7,
    "start_time": "2022-01-22T14:17:39.196Z"
   },
   {
    "duration": 6,
    "start_time": "2022-01-22T14:17:39.204Z"
   },
   {
    "duration": 6,
    "start_time": "2022-01-22T14:17:39.211Z"
   },
   {
    "duration": 6,
    "start_time": "2022-01-22T14:17:39.241Z"
   },
   {
    "duration": 6,
    "start_time": "2022-01-22T14:17:39.248Z"
   },
   {
    "duration": 507,
    "start_time": "2022-01-22T14:17:39.255Z"
   },
   {
    "duration": 29,
    "start_time": "2022-01-22T14:17:39.764Z"
   },
   {
    "duration": 52,
    "start_time": "2022-01-22T14:17:39.795Z"
   },
   {
    "duration": 99,
    "start_time": "2022-01-22T14:17:39.849Z"
   },
   {
    "duration": 497,
    "start_time": "2022-01-22T14:17:39.949Z"
   },
   {
    "duration": 6,
    "start_time": "2022-01-22T14:17:40.448Z"
   },
   {
    "duration": 6,
    "start_time": "2022-01-22T14:17:40.455Z"
   },
   {
    "duration": 1238,
    "start_time": "2022-01-22T14:17:40.462Z"
   },
   {
    "duration": 48,
    "start_time": "2022-01-22T14:17:41.702Z"
   },
   {
    "duration": 97,
    "start_time": "2022-01-22T14:17:41.753Z"
   },
   {
    "duration": 3,
    "start_time": "2022-01-22T14:17:49.973Z"
   },
   {
    "duration": 55,
    "start_time": "2022-01-22T14:17:49.977Z"
   },
   {
    "duration": 33,
    "start_time": "2022-01-22T14:17:50.034Z"
   },
   {
    "duration": 33,
    "start_time": "2022-01-22T14:17:50.069Z"
   },
   {
    "duration": 31,
    "start_time": "2022-01-22T14:17:50.103Z"
   },
   {
    "duration": 36,
    "start_time": "2022-01-22T14:17:50.136Z"
   },
   {
    "duration": 183,
    "start_time": "2022-01-22T14:17:50.174Z"
   },
   {
    "duration": 3,
    "start_time": "2022-01-22T14:17:50.360Z"
   },
   {
    "duration": 54,
    "start_time": "2022-01-22T14:17:50.365Z"
   },
   {
    "duration": 161,
    "start_time": "2022-01-22T14:17:50.421Z"
   },
   {
    "duration": 3,
    "start_time": "2022-01-22T14:17:50.583Z"
   },
   {
    "duration": 28,
    "start_time": "2022-01-22T14:17:50.587Z"
   },
   {
    "duration": 39,
    "start_time": "2022-01-22T14:17:50.616Z"
   },
   {
    "duration": 51,
    "start_time": "2022-01-22T14:17:50.657Z"
   },
   {
    "duration": 31,
    "start_time": "2022-01-22T14:17:50.710Z"
   },
   {
    "duration": 26,
    "start_time": "2022-01-22T14:17:50.742Z"
   },
   {
    "duration": 33,
    "start_time": "2022-01-22T14:17:50.770Z"
   },
   {
    "duration": 31,
    "start_time": "2022-01-22T14:17:50.805Z"
   },
   {
    "duration": 36,
    "start_time": "2022-01-22T14:17:50.840Z"
   },
   {
    "duration": 29,
    "start_time": "2022-01-22T14:17:50.878Z"
   },
   {
    "duration": 533,
    "start_time": "2022-01-22T14:17:50.909Z"
   },
   {
    "duration": 32,
    "start_time": "2022-01-22T14:17:51.444Z"
   },
   {
    "duration": 69,
    "start_time": "2022-01-22T14:17:51.478Z"
   },
   {
    "duration": 117,
    "start_time": "2022-01-22T14:17:51.549Z"
   },
   {
    "duration": 878,
    "start_time": "2022-01-22T14:17:51.669Z"
   },
   {
    "duration": 7,
    "start_time": "2022-01-22T14:17:52.550Z"
   },
   {
    "duration": 28,
    "start_time": "2022-01-22T14:17:52.558Z"
   },
   {
    "duration": 1398,
    "start_time": "2022-01-22T14:17:52.588Z"
   },
   {
    "duration": 54,
    "start_time": "2022-01-22T14:17:53.988Z"
   },
   {
    "duration": 10,
    "start_time": "2022-01-22T14:17:54.044Z"
   },
   {
    "duration": 4,
    "start_time": "2022-01-22T14:18:01.868Z"
   },
   {
    "duration": 39,
    "start_time": "2022-01-22T14:18:01.874Z"
   },
   {
    "duration": 24,
    "start_time": "2022-01-22T14:18:01.916Z"
   },
   {
    "duration": 11,
    "start_time": "2022-01-22T14:18:01.942Z"
   },
   {
    "duration": 7,
    "start_time": "2022-01-22T14:18:01.954Z"
   },
   {
    "duration": 9,
    "start_time": "2022-01-22T14:18:01.962Z"
   },
   {
    "duration": 204,
    "start_time": "2022-01-22T14:18:01.973Z"
   },
   {
    "duration": 3,
    "start_time": "2022-01-22T14:18:02.180Z"
   },
   {
    "duration": 56,
    "start_time": "2022-01-22T14:18:02.185Z"
   },
   {
    "duration": 171,
    "start_time": "2022-01-22T14:18:02.243Z"
   },
   {
    "duration": 2,
    "start_time": "2022-01-22T14:18:02.416Z"
   },
   {
    "duration": 7,
    "start_time": "2022-01-22T14:18:02.419Z"
   },
   {
    "duration": 19,
    "start_time": "2022-01-22T14:18:02.428Z"
   },
   {
    "duration": 3,
    "start_time": "2022-01-22T14:18:02.448Z"
   },
   {
    "duration": 14,
    "start_time": "2022-01-22T14:18:02.452Z"
   },
   {
    "duration": 9,
    "start_time": "2022-01-22T14:18:02.467Z"
   },
   {
    "duration": 6,
    "start_time": "2022-01-22T14:18:02.477Z"
   },
   {
    "duration": 10,
    "start_time": "2022-01-22T14:18:02.485Z"
   },
   {
    "duration": 49,
    "start_time": "2022-01-22T14:18:02.496Z"
   },
   {
    "duration": 7,
    "start_time": "2022-01-22T14:18:02.547Z"
   },
   {
    "duration": 551,
    "start_time": "2022-01-22T14:18:02.555Z"
   },
   {
    "duration": 52,
    "start_time": "2022-01-22T14:18:03.108Z"
   },
   {
    "duration": 8,
    "start_time": "2022-01-22T14:18:03.241Z"
   },
   {
    "duration": 91,
    "start_time": "2022-01-22T14:18:03.251Z"
   },
   {
    "duration": 607,
    "start_time": "2022-01-22T14:18:03.344Z"
   },
   {
    "duration": 8,
    "start_time": "2022-01-22T14:18:03.953Z"
   },
   {
    "duration": 15,
    "start_time": "2022-01-22T14:18:03.963Z"
   },
   {
    "duration": 1670,
    "start_time": "2022-01-22T14:18:03.980Z"
   },
   {
    "duration": 89,
    "start_time": "2022-01-22T14:18:05.652Z"
   },
   {
    "duration": 7,
    "start_time": "2022-01-22T14:18:05.744Z"
   },
   {
    "duration": 4,
    "start_time": "2022-01-22T14:18:14.091Z"
   },
   {
    "duration": 33,
    "start_time": "2022-01-22T14:18:14.097Z"
   },
   {
    "duration": 19,
    "start_time": "2022-01-22T14:18:14.132Z"
   },
   {
    "duration": 7,
    "start_time": "2022-01-22T14:18:14.153Z"
   },
   {
    "duration": 4,
    "start_time": "2022-01-22T14:18:14.161Z"
   },
   {
    "duration": 8,
    "start_time": "2022-01-22T14:18:14.166Z"
   },
   {
    "duration": 221,
    "start_time": "2022-01-22T14:18:14.176Z"
   },
   {
    "duration": 3,
    "start_time": "2022-01-22T14:18:14.400Z"
   },
   {
    "duration": 54,
    "start_time": "2022-01-22T14:18:14.405Z"
   },
   {
    "duration": 179,
    "start_time": "2022-01-22T14:18:14.461Z"
   },
   {
    "duration": 2,
    "start_time": "2022-01-22T14:18:14.642Z"
   },
   {
    "duration": 6,
    "start_time": "2022-01-22T14:18:14.646Z"
   },
   {
    "duration": 10,
    "start_time": "2022-01-22T14:18:14.653Z"
   },
   {
    "duration": 2,
    "start_time": "2022-01-22T14:18:14.665Z"
   },
   {
    "duration": 13,
    "start_time": "2022-01-22T14:18:14.669Z"
   },
   {
    "duration": 8,
    "start_time": "2022-01-22T14:18:14.684Z"
   },
   {
    "duration": 47,
    "start_time": "2022-01-22T14:18:14.694Z"
   },
   {
    "duration": 7,
    "start_time": "2022-01-22T14:18:14.743Z"
   },
   {
    "duration": 7,
    "start_time": "2022-01-22T14:18:14.752Z"
   },
   {
    "duration": 6,
    "start_time": "2022-01-22T14:18:14.761Z"
   },
   {
    "duration": 539,
    "start_time": "2022-01-22T14:18:14.768Z"
   },
   {
    "duration": 45,
    "start_time": "2022-01-22T14:18:15.309Z"
   },
   {
    "duration": 88,
    "start_time": "2022-01-22T14:18:15.358Z"
   },
   {
    "duration": 134,
    "start_time": "2022-01-22T14:18:15.448Z"
   },
   {
    "duration": 578,
    "start_time": "2022-01-22T14:18:15.584Z"
   },
   {
    "duration": 8,
    "start_time": "2022-01-22T14:18:16.164Z"
   },
   {
    "duration": 30,
    "start_time": "2022-01-22T14:18:16.174Z"
   },
   {
    "duration": 1724,
    "start_time": "2022-01-22T14:18:16.206Z"
   },
   {
    "duration": 110,
    "start_time": "2022-01-22T14:18:17.932Z"
   },
   {
    "duration": 96,
    "start_time": "2022-01-22T14:18:18.045Z"
   },
   {
    "duration": 3,
    "start_time": "2022-01-22T14:18:26.132Z"
   },
   {
    "duration": 52,
    "start_time": "2022-01-22T14:18:26.137Z"
   },
   {
    "duration": 27,
    "start_time": "2022-01-22T14:18:26.191Z"
   },
   {
    "duration": 15,
    "start_time": "2022-01-22T14:18:26.220Z"
   },
   {
    "duration": 17,
    "start_time": "2022-01-22T14:18:26.236Z"
   },
   {
    "duration": 30,
    "start_time": "2022-01-22T14:18:26.255Z"
   },
   {
    "duration": 187,
    "start_time": "2022-01-22T14:18:26.286Z"
   },
   {
    "duration": 3,
    "start_time": "2022-01-22T14:18:26.475Z"
   },
   {
    "duration": 60,
    "start_time": "2022-01-22T14:18:26.480Z"
   },
   {
    "duration": 158,
    "start_time": "2022-01-22T14:18:26.542Z"
   },
   {
    "duration": 3,
    "start_time": "2022-01-22T14:18:26.702Z"
   },
   {
    "duration": 11,
    "start_time": "2022-01-22T14:18:26.706Z"
   },
   {
    "duration": 39,
    "start_time": "2022-01-22T14:18:26.718Z"
   },
   {
    "duration": 11,
    "start_time": "2022-01-22T14:18:26.759Z"
   },
   {
    "duration": 32,
    "start_time": "2022-01-22T14:18:26.771Z"
   },
   {
    "duration": 12,
    "start_time": "2022-01-22T14:18:26.804Z"
   },
   {
    "duration": 42,
    "start_time": "2022-01-22T14:18:26.817Z"
   },
   {
    "duration": 27,
    "start_time": "2022-01-22T14:18:26.860Z"
   },
   {
    "duration": 39,
    "start_time": "2022-01-22T14:18:26.888Z"
   },
   {
    "duration": 28,
    "start_time": "2022-01-22T14:18:26.928Z"
   },
   {
    "duration": 511,
    "start_time": "2022-01-22T14:18:26.958Z"
   },
   {
    "duration": 74,
    "start_time": "2022-01-22T14:18:27.470Z"
   },
   {
    "duration": 92,
    "start_time": "2022-01-22T14:18:27.550Z"
   },
   {
    "duration": 21,
    "start_time": "2022-01-22T14:18:27.644Z"
   },
   {
    "duration": 636,
    "start_time": "2022-01-22T14:18:27.666Z"
   },
   {
    "duration": 6,
    "start_time": "2022-01-22T14:18:28.304Z"
   },
   {
    "duration": 6,
    "start_time": "2022-01-22T14:18:28.311Z"
   },
   {
    "duration": 1596,
    "start_time": "2022-01-22T14:18:28.318Z"
   },
   {
    "duration": 42,
    "start_time": "2022-01-22T14:18:29.916Z"
   },
   {
    "duration": 82,
    "start_time": "2022-01-22T14:18:29.960Z"
   },
   {
    "duration": 3,
    "start_time": "2022-01-22T14:18:46.492Z"
   },
   {
    "duration": 1409,
    "start_time": "2022-01-22T14:18:47.093Z"
   },
   {
    "duration": 32,
    "start_time": "2022-01-22T14:18:49.332Z"
   },
   {
    "duration": 7,
    "start_time": "2022-01-22T14:18:50.029Z"
   },
   {
    "duration": 4,
    "start_time": "2022-01-22T14:19:25.211Z"
   },
   {
    "duration": 1597,
    "start_time": "2022-01-22T14:19:25.812Z"
   },
   {
    "duration": 37,
    "start_time": "2022-01-22T14:19:27.411Z"
   },
   {
    "duration": 92,
    "start_time": "2022-01-22T14:19:27.451Z"
   },
   {
    "duration": 627,
    "start_time": "2022-01-22T14:19:36.219Z"
   },
   {
    "duration": 5,
    "start_time": "2022-01-22T14:19:36.848Z"
   },
   {
    "duration": 3,
    "start_time": "2022-01-22T14:19:37.987Z"
   },
   {
    "duration": 1862,
    "start_time": "2022-01-22T14:19:38.580Z"
   },
   {
    "duration": 29,
    "start_time": "2022-01-22T14:19:40.443Z"
   },
   {
    "duration": 74,
    "start_time": "2022-01-22T14:19:40.474Z"
   },
   {
    "duration": 1023,
    "start_time": "2022-01-22T14:19:47.155Z"
   },
   {
    "duration": 7,
    "start_time": "2022-01-22T14:19:48.181Z"
   },
   {
    "duration": 8,
    "start_time": "2022-01-22T14:19:48.354Z"
   },
   {
    "duration": 2386,
    "start_time": "2022-01-22T14:19:48.667Z"
   },
   {
    "duration": 89,
    "start_time": "2022-01-22T14:19:51.054Z"
   },
   {
    "duration": 96,
    "start_time": "2022-01-22T14:19:51.146Z"
   },
   {
    "duration": 666,
    "start_time": "2022-01-22T14:19:57.547Z"
   },
   {
    "duration": 6,
    "start_time": "2022-01-22T14:19:58.215Z"
   },
   {
    "duration": 3,
    "start_time": "2022-01-22T14:19:58.650Z"
   },
   {
    "duration": 1795,
    "start_time": "2022-01-22T14:19:58.994Z"
   },
   {
    "duration": 53,
    "start_time": "2022-01-22T14:20:00.791Z"
   },
   {
    "duration": 100,
    "start_time": "2022-01-22T14:20:00.847Z"
   },
   {
    "duration": 702,
    "start_time": "2022-01-22T14:20:10.426Z"
   },
   {
    "duration": 16,
    "start_time": "2022-01-22T14:20:11.129Z"
   },
   {
    "duration": 3,
    "start_time": "2022-01-22T14:20:11.458Z"
   },
   {
    "duration": 1988,
    "start_time": "2022-01-22T14:20:11.754Z"
   },
   {
    "duration": 29,
    "start_time": "2022-01-22T14:20:13.744Z"
   },
   {
    "duration": 72,
    "start_time": "2022-01-22T14:20:13.775Z"
   },
   {
    "duration": 716,
    "start_time": "2022-01-22T14:20:20.810Z"
   },
   {
    "duration": 14,
    "start_time": "2022-01-22T14:20:21.528Z"
   },
   {
    "duration": 3,
    "start_time": "2022-01-22T14:20:21.626Z"
   },
   {
    "duration": 2149,
    "start_time": "2022-01-22T14:20:21.858Z"
   },
   {
    "duration": 41,
    "start_time": "2022-01-22T14:20:24.009Z"
   },
   {
    "duration": 8,
    "start_time": "2022-01-22T14:20:24.053Z"
   },
   {
    "duration": 301,
    "start_time": "2022-01-22T14:20:30.834Z"
   },
   {
    "duration": 8,
    "start_time": "2022-01-22T14:20:31.226Z"
   },
   {
    "duration": 3,
    "start_time": "2022-01-22T14:20:31.778Z"
   },
   {
    "duration": 622,
    "start_time": "2022-01-22T14:20:32.041Z"
   },
   {
    "duration": 82,
    "start_time": "2022-01-22T14:20:32.666Z"
   },
   {
    "duration": 95,
    "start_time": "2022-01-22T14:20:32.751Z"
   },
   {
    "duration": 4,
    "start_time": "2022-01-22T16:12:29.675Z"
   },
   {
    "duration": 4,
    "start_time": "2022-01-22T16:16:32.159Z"
   },
   {
    "duration": 32,
    "start_time": "2022-01-22T16:16:39.422Z"
   },
   {
    "duration": 189,
    "start_time": "2022-01-22T16:16:42.398Z"
   },
   {
    "duration": 3,
    "start_time": "2022-01-22T16:17:12.206Z"
   },
   {
    "duration": 29,
    "start_time": "2022-01-22T16:17:21.254Z"
   },
   {
    "duration": 3,
    "start_time": "2022-01-22T16:17:21.838Z"
   },
   {
    "duration": 4,
    "start_time": "2022-01-22T16:17:24.285Z"
   },
   {
    "duration": 265,
    "start_time": "2022-01-22T16:18:06.428Z"
   },
   {
    "duration": 398,
    "start_time": "2022-01-22T16:18:25.933Z"
   },
   {
    "duration": 3,
    "start_time": "2022-01-22T16:18:36.516Z"
   },
   {
    "duration": 6,
    "start_time": "2022-01-22T16:19:22.454Z"
   },
   {
    "duration": 70,
    "start_time": "2022-01-22T16:19:33.977Z"
   },
   {
    "duration": 31,
    "start_time": "2022-01-22T16:19:34.875Z"
   },
   {
    "duration": 3,
    "start_time": "2022-01-22T16:19:35.402Z"
   },
   {
    "duration": 6,
    "start_time": "2022-01-22T16:19:36.067Z"
   },
   {
    "duration": 4,
    "start_time": "2022-01-22T16:22:03.664Z"
   },
   {
    "duration": 10,
    "start_time": "2022-01-22T16:23:03.190Z"
   },
   {
    "duration": 102,
    "start_time": "2022-01-22T16:23:56.756Z"
   },
   {
    "duration": 101,
    "start_time": "2022-01-22T16:24:49.827Z"
   },
   {
    "duration": 3,
    "start_time": "2022-01-22T17:49:07.798Z"
   },
   {
    "duration": 123,
    "start_time": "2022-01-22T17:52:12.818Z"
   },
   {
    "duration": 3,
    "start_time": "2022-01-22T17:52:13.874Z"
   },
   {
    "duration": 208,
    "start_time": "2022-01-22T17:52:14.634Z"
   },
   {
    "duration": 4,
    "start_time": "2022-01-22T17:52:47.577Z"
   },
   {
    "duration": 5,
    "start_time": "2022-01-22T17:52:52.713Z"
   },
   {
    "duration": 4,
    "start_time": "2022-01-22T17:52:54.087Z"
   },
   {
    "duration": 4,
    "start_time": "2022-01-22T18:07:35.206Z"
   },
   {
    "duration": 10,
    "start_time": "2022-01-22T18:11:26.089Z"
   },
   {
    "duration": 982,
    "start_time": "2022-01-23T07:59:44.979Z"
   },
   {
    "duration": 31,
    "start_time": "2022-01-23T07:59:46.636Z"
   },
   {
    "duration": 25,
    "start_time": "2022-01-23T07:59:47.383Z"
   },
   {
    "duration": 7,
    "start_time": "2022-01-23T07:59:50.837Z"
   },
   {
    "duration": 4,
    "start_time": "2022-01-23T07:59:51.345Z"
   },
   {
    "duration": 7,
    "start_time": "2022-01-23T07:59:54.136Z"
   },
   {
    "duration": 185,
    "start_time": "2022-01-23T07:59:55.856Z"
   },
   {
    "duration": 3,
    "start_time": "2022-01-23T07:59:56.487Z"
   },
   {
    "duration": 59,
    "start_time": "2022-01-23T07:59:57.047Z"
   },
   {
    "duration": 154,
    "start_time": "2022-01-23T08:00:00.424Z"
   },
   {
    "duration": 66,
    "start_time": "2022-01-23T08:01:43.902Z"
   },
   {
    "duration": 3,
    "start_time": "2022-01-23T08:02:28.277Z"
   },
   {
    "duration": 4,
    "start_time": "2022-01-23T08:02:31.692Z"
   },
   {
    "duration": 4,
    "start_time": "2022-01-23T08:02:48.595Z"
   },
   {
    "duration": 4,
    "start_time": "2022-01-23T08:03:24.166Z"
   },
   {
    "duration": 27,
    "start_time": "2022-01-23T08:03:24.172Z"
   },
   {
    "duration": 17,
    "start_time": "2022-01-23T08:03:24.201Z"
   },
   {
    "duration": 5,
    "start_time": "2022-01-23T08:03:24.220Z"
   },
   {
    "duration": 5,
    "start_time": "2022-01-23T08:03:24.227Z"
   },
   {
    "duration": 7,
    "start_time": "2022-01-23T08:03:24.233Z"
   },
   {
    "duration": 195,
    "start_time": "2022-01-23T08:03:24.242Z"
   },
   {
    "duration": 3,
    "start_time": "2022-01-23T08:03:24.439Z"
   },
   {
    "duration": 44,
    "start_time": "2022-01-23T08:03:24.443Z"
   },
   {
    "duration": 163,
    "start_time": "2022-01-23T08:03:24.488Z"
   },
   {
    "duration": 64,
    "start_time": "2022-01-23T08:03:24.653Z"
   },
   {
    "duration": 3,
    "start_time": "2022-01-23T08:03:24.719Z"
   },
   {
    "duration": 18,
    "start_time": "2022-01-23T08:03:24.724Z"
   },
   {
    "duration": 3,
    "start_time": "2022-01-23T08:03:24.743Z"
   },
   {
    "duration": 17,
    "start_time": "2022-01-23T08:03:24.748Z"
   },
   {
    "duration": 11,
    "start_time": "2022-01-23T08:03:24.766Z"
   },
   {
    "duration": 11,
    "start_time": "2022-01-23T08:03:24.778Z"
   },
   {
    "duration": 8,
    "start_time": "2022-01-23T08:03:24.790Z"
   },
   {
    "duration": 10,
    "start_time": "2022-01-23T08:03:24.801Z"
   },
   {
    "duration": 7,
    "start_time": "2022-01-23T08:03:24.813Z"
   },
   {
    "duration": 12,
    "start_time": "2022-01-23T08:03:24.821Z"
   },
   {
    "duration": 9,
    "start_time": "2022-01-23T08:03:24.835Z"
   },
   {
    "duration": 5,
    "start_time": "2022-01-23T08:03:24.846Z"
   },
   {
    "duration": 9,
    "start_time": "2022-01-23T08:03:24.853Z"
   },
   {
    "duration": 353,
    "start_time": "2022-01-23T08:03:24.863Z"
   },
   {
    "duration": 35,
    "start_time": "2022-01-23T08:03:25.218Z"
   },
   {
    "duration": 87,
    "start_time": "2022-01-23T08:03:25.255Z"
   },
   {
    "duration": 102,
    "start_time": "2022-01-23T08:03:25.345Z"
   },
   {
    "duration": 231,
    "start_time": "2022-01-23T08:03:25.449Z"
   },
   {
    "duration": 5,
    "start_time": "2022-01-23T08:03:25.682Z"
   },
   {
    "duration": 7,
    "start_time": "2022-01-23T08:03:25.689Z"
   },
   {
    "duration": 477,
    "start_time": "2022-01-23T08:03:25.697Z"
   },
   {
    "duration": 70,
    "start_time": "2022-01-23T08:03:26.176Z"
   },
   {
    "duration": 94,
    "start_time": "2022-01-23T08:03:26.248Z"
   },
   {
    "duration": 29,
    "start_time": "2022-01-23T08:03:26.344Z"
   },
   {
    "duration": 5,
    "start_time": "2022-01-23T08:03:26.440Z"
   },
   {
    "duration": 98,
    "start_time": "2022-01-23T08:03:26.447Z"
   },
   {
    "duration": 9,
    "start_time": "2022-01-23T08:03:26.546Z"
   },
   {
    "duration": 7,
    "start_time": "2022-01-23T08:08:19.724Z"
   },
   {
    "duration": 3,
    "start_time": "2022-01-23T08:09:22.186Z"
   },
   {
    "duration": 378,
    "start_time": "2022-01-23T08:09:29.180Z"
   },
   {
    "duration": 25,
    "start_time": "2022-01-23T08:09:36.060Z"
   },
   {
    "duration": 6,
    "start_time": "2022-01-23T08:09:36.603Z"
   },
   {
    "duration": 5,
    "start_time": "2022-01-23T08:09:54.652Z"
   },
   {
    "duration": 238,
    "start_time": "2022-01-23T08:10:06.018Z"
   },
   {
    "duration": 6,
    "start_time": "2022-01-23T08:10:06.595Z"
   },
   {
    "duration": 3,
    "start_time": "2022-01-23T08:10:32.409Z"
   },
   {
    "duration": 478,
    "start_time": "2022-01-23T08:10:33.137Z"
   },
   {
    "duration": 29,
    "start_time": "2022-01-23T08:10:42.848Z"
   },
   {
    "duration": 5,
    "start_time": "2022-01-23T08:10:55.193Z"
   },
   {
    "duration": 238,
    "start_time": "2022-01-23T08:11:09.248Z"
   },
   {
    "duration": 2,
    "start_time": "2022-01-23T08:11:12.705Z"
   },
   {
    "duration": 488,
    "start_time": "2022-01-23T08:11:13.176Z"
   },
   {
    "duration": 16,
    "start_time": "2022-01-23T08:11:14.056Z"
   },
   {
    "duration": 5,
    "start_time": "2022-01-23T08:11:14.801Z"
   },
   {
    "duration": 259,
    "start_time": "2022-01-23T08:11:41.399Z"
   },
   {
    "duration": 6,
    "start_time": "2022-01-23T08:11:42.746Z"
   },
   {
    "duration": 3,
    "start_time": "2022-01-23T08:11:46.207Z"
   },
   {
    "duration": 579,
    "start_time": "2022-01-23T08:11:46.665Z"
   },
   {
    "duration": 23,
    "start_time": "2022-01-23T08:11:48.072Z"
   },
   {
    "duration": 5,
    "start_time": "2022-01-23T08:11:48.801Z"
   },
   {
    "duration": 281,
    "start_time": "2022-01-23T08:11:57.911Z"
   },
   {
    "duration": 7,
    "start_time": "2022-01-23T08:11:58.803Z"
   },
   {
    "duration": 271,
    "start_time": "2022-01-23T08:12:06.464Z"
   },
   {
    "duration": 6,
    "start_time": "2022-01-23T08:12:07.823Z"
   },
   {
    "duration": 221,
    "start_time": "2022-01-23T08:12:22.439Z"
   },
   {
    "duration": 7,
    "start_time": "2022-01-23T08:12:23.416Z"
   },
   {
    "duration": 234,
    "start_time": "2022-01-23T08:12:37.391Z"
   },
   {
    "duration": 6,
    "start_time": "2022-01-23T08:12:38.247Z"
   },
   {
    "duration": 3,
    "start_time": "2022-01-23T08:12:48.654Z"
   },
   {
    "duration": 508,
    "start_time": "2022-01-23T08:12:49.119Z"
   },
   {
    "duration": 28,
    "start_time": "2022-01-23T08:12:49.629Z"
   },
   {
    "duration": 5,
    "start_time": "2022-01-23T08:12:50.718Z"
   },
   {
    "duration": 254,
    "start_time": "2022-01-23T08:13:02.142Z"
   },
   {
    "duration": 3,
    "start_time": "2022-01-23T08:13:06.158Z"
   },
   {
    "duration": 384,
    "start_time": "2022-01-23T08:13:06.550Z"
   },
   {
    "duration": 27,
    "start_time": "2022-01-23T08:13:06.936Z"
   },
   {
    "duration": 7,
    "start_time": "2022-01-23T08:13:07.678Z"
   },
   {
    "duration": 244,
    "start_time": "2022-01-23T08:13:16.725Z"
   },
   {
    "duration": 3,
    "start_time": "2022-01-23T08:13:22.846Z"
   },
   {
    "duration": 510,
    "start_time": "2022-01-23T08:13:23.301Z"
   },
   {
    "duration": 22,
    "start_time": "2022-01-23T08:13:23.989Z"
   },
   {
    "duration": 5,
    "start_time": "2022-01-23T08:13:24.534Z"
   },
   {
    "duration": 256,
    "start_time": "2022-01-23T08:13:30.055Z"
   },
   {
    "duration": 6,
    "start_time": "2022-01-23T08:13:30.446Z"
   },
   {
    "duration": 3,
    "start_time": "2022-01-23T08:13:31.110Z"
   },
   {
    "duration": 593,
    "start_time": "2022-01-23T08:13:31.390Z"
   },
   {
    "duration": 57,
    "start_time": "2022-01-23T08:13:31.985Z"
   },
   {
    "duration": 5,
    "start_time": "2022-01-23T08:13:32.342Z"
   },
   {
    "duration": 288,
    "start_time": "2022-01-23T08:13:38.197Z"
   },
   {
    "duration": 7,
    "start_time": "2022-01-23T08:13:38.574Z"
   },
   {
    "duration": 3,
    "start_time": "2022-01-23T08:13:39.189Z"
   },
   {
    "duration": 626,
    "start_time": "2022-01-23T08:13:39.518Z"
   },
   {
    "duration": 24,
    "start_time": "2022-01-23T08:13:40.146Z"
   },
   {
    "duration": 6,
    "start_time": "2022-01-23T08:13:40.735Z"
   },
   {
    "duration": 321,
    "start_time": "2022-01-23T08:13:46.949Z"
   },
   {
    "duration": 7,
    "start_time": "2022-01-23T08:13:47.272Z"
   },
   {
    "duration": 3,
    "start_time": "2022-01-23T08:13:47.901Z"
   },
   {
    "duration": 702,
    "start_time": "2022-01-23T08:13:48.197Z"
   },
   {
    "duration": 41,
    "start_time": "2022-01-23T08:13:48.902Z"
   },
   {
    "duration": 8,
    "start_time": "2022-01-23T08:13:49.042Z"
   },
   {
    "duration": 331,
    "start_time": "2022-01-23T08:13:57.157Z"
   },
   {
    "duration": 5,
    "start_time": "2022-01-23T08:13:57.490Z"
   },
   {
    "duration": 2,
    "start_time": "2022-01-23T08:13:58.061Z"
   },
   {
    "duration": 758,
    "start_time": "2022-01-23T08:13:58.349Z"
   },
   {
    "duration": 34,
    "start_time": "2022-01-23T08:13:59.109Z"
   },
   {
    "duration": 96,
    "start_time": "2022-01-23T08:13:59.146Z"
   },
   {
    "duration": 352,
    "start_time": "2022-01-23T08:14:05.653Z"
   },
   {
    "duration": 7,
    "start_time": "2022-01-23T08:14:06.008Z"
   },
   {
    "duration": 3,
    "start_time": "2022-01-23T08:14:06.493Z"
   },
   {
    "duration": 851,
    "start_time": "2022-01-23T08:14:06.781Z"
   },
   {
    "duration": 28,
    "start_time": "2022-01-23T08:14:07.633Z"
   },
   {
    "duration": 100,
    "start_time": "2022-01-23T08:14:07.742Z"
   },
   {
    "duration": 370,
    "start_time": "2022-01-23T08:14:14.397Z"
   },
   {
    "duration": 7,
    "start_time": "2022-01-23T08:14:14.769Z"
   },
   {
    "duration": 2,
    "start_time": "2022-01-23T08:14:15.077Z"
   },
   {
    "duration": 922,
    "start_time": "2022-01-23T08:14:15.308Z"
   },
   {
    "duration": 31,
    "start_time": "2022-01-23T08:14:16.231Z"
   },
   {
    "duration": 80,
    "start_time": "2022-01-23T08:14:16.264Z"
   },
   {
    "duration": 390,
    "start_time": "2022-01-23T08:15:10.867Z"
   },
   {
    "duration": 5,
    "start_time": "2022-01-23T08:15:11.259Z"
   },
   {
    "duration": 3,
    "start_time": "2022-01-23T08:15:11.779Z"
   },
   {
    "duration": 967,
    "start_time": "2022-01-23T08:15:12.211Z"
   },
   {
    "duration": 61,
    "start_time": "2022-01-23T08:15:13.180Z"
   },
   {
    "duration": 8,
    "start_time": "2022-01-23T08:15:13.244Z"
   },
   {
    "duration": 415,
    "start_time": "2022-01-23T08:15:25.635Z"
   },
   {
    "duration": 6,
    "start_time": "2022-01-23T08:15:26.052Z"
   },
   {
    "duration": 3,
    "start_time": "2022-01-23T08:15:26.483Z"
   },
   {
    "duration": 1027,
    "start_time": "2022-01-23T08:15:26.787Z"
   },
   {
    "duration": 35,
    "start_time": "2022-01-23T08:15:27.815Z"
   },
   {
    "duration": 89,
    "start_time": "2022-01-23T08:15:27.853Z"
   },
   {
    "duration": 435,
    "start_time": "2022-01-23T08:15:35.307Z"
   },
   {
    "duration": 7,
    "start_time": "2022-01-23T08:15:35.743Z"
   },
   {
    "duration": 3,
    "start_time": "2022-01-23T08:15:36.163Z"
   },
   {
    "duration": 1415,
    "start_time": "2022-01-23T08:15:36.498Z"
   },
   {
    "duration": 31,
    "start_time": "2022-01-23T08:15:37.914Z"
   },
   {
    "duration": 94,
    "start_time": "2022-01-23T08:15:37.948Z"
   },
   {
    "duration": 473,
    "start_time": "2022-01-23T08:15:44.787Z"
   },
   {
    "duration": 6,
    "start_time": "2022-01-23T08:15:45.262Z"
   },
   {
    "duration": 3,
    "start_time": "2022-01-23T08:15:45.595Z"
   },
   {
    "duration": 1175,
    "start_time": "2022-01-23T08:15:45.882Z"
   },
   {
    "duration": 26,
    "start_time": "2022-01-23T08:15:47.058Z"
   },
   {
    "duration": 59,
    "start_time": "2022-01-23T08:15:47.087Z"
   },
   {
    "duration": 504,
    "start_time": "2022-01-23T08:15:53.171Z"
   },
   {
    "duration": 6,
    "start_time": "2022-01-23T08:15:53.677Z"
   },
   {
    "duration": 3,
    "start_time": "2022-01-23T08:15:53.987Z"
   },
   {
    "duration": 1349,
    "start_time": "2022-01-23T08:15:54.299Z"
   },
   {
    "duration": 26,
    "start_time": "2022-01-23T08:15:55.650Z"
   },
   {
    "duration": 64,
    "start_time": "2022-01-23T08:15:55.679Z"
   },
   {
    "duration": 513,
    "start_time": "2022-01-23T08:16:01.923Z"
   },
   {
    "duration": 7,
    "start_time": "2022-01-23T08:16:02.438Z"
   },
   {
    "duration": 2,
    "start_time": "2022-01-23T08:16:02.715Z"
   },
   {
    "duration": 1357,
    "start_time": "2022-01-23T08:16:02.995Z"
   },
   {
    "duration": 25,
    "start_time": "2022-01-23T08:16:04.354Z"
   },
   {
    "duration": 159,
    "start_time": "2022-01-23T08:16:04.382Z"
   },
   {
    "duration": 528,
    "start_time": "2022-01-23T08:16:10.098Z"
   },
   {
    "duration": 6,
    "start_time": "2022-01-23T08:16:10.628Z"
   },
   {
    "duration": 3,
    "start_time": "2022-01-23T08:16:10.875Z"
   },
   {
    "duration": 1451,
    "start_time": "2022-01-23T08:16:11.130Z"
   },
   {
    "duration": 59,
    "start_time": "2022-01-23T08:16:12.583Z"
   },
   {
    "duration": 8,
    "start_time": "2022-01-23T08:16:12.645Z"
   },
   {
    "duration": 534,
    "start_time": "2022-01-23T08:16:18.099Z"
   },
   {
    "duration": 10,
    "start_time": "2022-01-23T08:16:18.635Z"
   },
   {
    "duration": 2,
    "start_time": "2022-01-23T08:16:18.842Z"
   },
   {
    "duration": 1514,
    "start_time": "2022-01-23T08:16:19.114Z"
   },
   {
    "duration": 31,
    "start_time": "2022-01-23T08:16:20.630Z"
   },
   {
    "duration": 82,
    "start_time": "2022-01-23T08:16:20.668Z"
   },
   {
    "duration": 572,
    "start_time": "2022-01-23T08:16:26.530Z"
   },
   {
    "duration": 7,
    "start_time": "2022-01-23T08:16:27.104Z"
   },
   {
    "duration": 3,
    "start_time": "2022-01-23T08:16:27.251Z"
   },
   {
    "duration": 1564,
    "start_time": "2022-01-23T08:16:27.514Z"
   },
   {
    "duration": 62,
    "start_time": "2022-01-23T08:16:29.080Z"
   },
   {
    "duration": 97,
    "start_time": "2022-01-23T08:16:29.144Z"
   },
   {
    "duration": 586,
    "start_time": "2022-01-23T08:16:38.985Z"
   },
   {
    "duration": 6,
    "start_time": "2022-01-23T08:16:39.573Z"
   },
   {
    "duration": 3,
    "start_time": "2022-01-23T08:16:39.723Z"
   },
   {
    "duration": 1587,
    "start_time": "2022-01-23T08:16:39.961Z"
   },
   {
    "duration": 24,
    "start_time": "2022-01-23T08:16:41.550Z"
   },
   {
    "duration": 164,
    "start_time": "2022-01-23T08:16:41.578Z"
   },
   {
    "duration": 225,
    "start_time": "2022-01-23T08:16:49.241Z"
   },
   {
    "duration": 6,
    "start_time": "2022-01-23T08:16:49.891Z"
   },
   {
    "duration": 3,
    "start_time": "2022-01-23T08:16:50.449Z"
   },
   {
    "duration": 460,
    "start_time": "2022-01-23T08:16:50.738Z"
   },
   {
    "duration": 44,
    "start_time": "2022-01-23T08:16:51.200Z"
   },
   {
    "duration": 6,
    "start_time": "2022-01-23T08:16:51.514Z"
   },
   {
    "duration": 222,
    "start_time": "2022-01-23T08:17:03.352Z"
   },
   {
    "duration": 7,
    "start_time": "2022-01-23T08:17:04.626Z"
   },
   {
    "duration": 3,
    "start_time": "2022-01-23T08:17:05.161Z"
   },
   {
    "duration": 411,
    "start_time": "2022-01-23T08:17:05.450Z"
   },
   {
    "duration": 92,
    "start_time": "2022-01-23T08:17:05.863Z"
   },
   {
    "duration": 7,
    "start_time": "2022-01-23T08:17:06.169Z"
   },
   {
    "duration": 395,
    "start_time": "2022-01-23T08:17:30.673Z"
   },
   {
    "duration": 6,
    "start_time": "2022-01-23T08:17:31.070Z"
   },
   {
    "duration": 3,
    "start_time": "2022-01-23T08:17:31.681Z"
   },
   {
    "duration": 888,
    "start_time": "2022-01-23T08:17:31.968Z"
   },
   {
    "duration": 25,
    "start_time": "2022-01-23T08:17:32.858Z"
   },
   {
    "duration": 8,
    "start_time": "2022-01-23T08:17:32.944Z"
   },
   {
    "duration": 384,
    "start_time": "2022-01-23T08:17:44.040Z"
   },
   {
    "duration": 15,
    "start_time": "2022-01-23T08:17:44.426Z"
   },
   {
    "duration": 3,
    "start_time": "2022-01-23T08:17:44.968Z"
   },
   {
    "duration": 948,
    "start_time": "2022-01-23T08:17:45.257Z"
   },
   {
    "duration": 43,
    "start_time": "2022-01-23T08:17:46.207Z"
   },
   {
    "duration": 187,
    "start_time": "2022-01-23T08:17:46.253Z"
   },
   {
    "duration": 24,
    "start_time": "2022-01-23T08:17:52.712Z"
   },
   {
    "duration": 3,
    "start_time": "2022-01-23T08:17:53.040Z"
   },
   {
    "duration": 5,
    "start_time": "2022-01-23T08:17:53.345Z"
   },
   {
    "duration": 5,
    "start_time": "2022-01-23T08:17:53.688Z"
   },
   {
    "duration": 282,
    "start_time": "2022-01-23T08:29:05.664Z"
   },
   {
    "duration": 3,
    "start_time": "2022-01-23T08:29:23.672Z"
   },
   {
    "duration": 491,
    "start_time": "2022-01-23T08:30:00.647Z"
   },
   {
    "duration": 5,
    "start_time": "2022-01-23T08:30:59.822Z"
   },
   {
    "duration": 3,
    "start_time": "2022-01-23T08:32:20.975Z"
   },
   {
    "duration": 243,
    "start_time": "2022-01-23T08:32:21.541Z"
   },
   {
    "duration": 24,
    "start_time": "2022-01-23T08:32:22.500Z"
   },
   {
    "duration": 5,
    "start_time": "2022-01-23T08:32:23.012Z"
   },
   {
    "duration": 2,
    "start_time": "2022-01-23T08:32:33.004Z"
   },
   {
    "duration": 235,
    "start_time": "2022-01-23T08:32:33.924Z"
   },
   {
    "duration": 25,
    "start_time": "2022-01-23T08:32:35.028Z"
   },
   {
    "duration": 7,
    "start_time": "2022-01-23T08:32:35.788Z"
   },
   {
    "duration": 3,
    "start_time": "2022-01-23T08:32:46.850Z"
   },
   {
    "duration": 144,
    "start_time": "2022-01-23T08:32:47.331Z"
   },
   {
    "duration": 24,
    "start_time": "2022-01-23T08:32:48.036Z"
   },
   {
    "duration": 5,
    "start_time": "2022-01-23T08:32:48.483Z"
   },
   {
    "duration": 66,
    "start_time": "2022-01-23T08:33:11.339Z"
   },
   {
    "duration": 2,
    "start_time": "2022-01-23T08:33:21.236Z"
   },
   {
    "duration": 239,
    "start_time": "2022-01-23T08:33:24.355Z"
   },
   {
    "duration": 29,
    "start_time": "2022-01-23T08:33:31.426Z"
   },
   {
    "duration": 5,
    "start_time": "2022-01-23T08:33:32.642Z"
   },
   {
    "duration": 2,
    "start_time": "2022-01-23T08:33:45.057Z"
   },
   {
    "duration": 237,
    "start_time": "2022-01-23T08:33:45.546Z"
   },
   {
    "duration": 28,
    "start_time": "2022-01-23T08:33:46.378Z"
   },
   {
    "duration": 5,
    "start_time": "2022-01-23T08:33:46.858Z"
   },
   {
    "duration": 3,
    "start_time": "2022-01-23T08:34:01.849Z"
   },
   {
    "duration": 145,
    "start_time": "2022-01-23T08:34:02.971Z"
   },
   {
    "duration": 29,
    "start_time": "2022-01-23T08:34:03.434Z"
   },
   {
    "duration": 6,
    "start_time": "2022-01-23T08:34:03.929Z"
   },
   {
    "duration": 3,
    "start_time": "2022-01-23T08:34:09.041Z"
   },
   {
    "duration": 192,
    "start_time": "2022-01-23T08:34:09.521Z"
   },
   {
    "duration": 27,
    "start_time": "2022-01-23T08:34:10.025Z"
   },
   {
    "duration": 6,
    "start_time": "2022-01-23T08:34:10.473Z"
   },
   {
    "duration": 3,
    "start_time": "2022-01-23T08:34:17.883Z"
   },
   {
    "duration": 231,
    "start_time": "2022-01-23T08:34:18.313Z"
   },
   {
    "duration": 27,
    "start_time": "2022-01-23T08:34:18.709Z"
   },
   {
    "duration": 5,
    "start_time": "2022-01-23T08:34:19.114Z"
   },
   {
    "duration": 2,
    "start_time": "2022-01-23T08:34:24.825Z"
   },
   {
    "duration": 270,
    "start_time": "2022-01-23T08:34:25.297Z"
   },
   {
    "duration": 27,
    "start_time": "2022-01-23T08:34:25.737Z"
   },
   {
    "duration": 5,
    "start_time": "2022-01-23T08:34:26.281Z"
   },
   {
    "duration": 3,
    "start_time": "2022-01-23T08:34:34.064Z"
   },
   {
    "duration": 328,
    "start_time": "2022-01-23T08:34:34.481Z"
   },
   {
    "duration": 29,
    "start_time": "2022-01-23T08:34:34.961Z"
   },
   {
    "duration": 5,
    "start_time": "2022-01-23T08:34:35.474Z"
   },
   {
    "duration": 31,
    "start_time": "2022-01-23T08:36:18.327Z"
   },
   {
    "duration": 3,
    "start_time": "2022-01-23T08:36:19.263Z"
   },
   {
    "duration": 4,
    "start_time": "2022-01-23T08:36:20.095Z"
   },
   {
    "duration": 4,
    "start_time": "2022-01-23T08:36:20.591Z"
   },
   {
    "duration": 5,
    "start_time": "2022-01-23T08:41:08.930Z"
   },
   {
    "duration": 3,
    "start_time": "2022-01-23T08:41:12.649Z"
   },
   {
    "duration": 930,
    "start_time": "2022-01-23T08:41:13.155Z"
   },
   {
    "duration": 55,
    "start_time": "2022-01-23T08:41:14.087Z"
   },
   {
    "duration": 6,
    "start_time": "2022-01-23T08:41:14.801Z"
   },
   {
    "duration": 386,
    "start_time": "2022-01-23T08:43:28.934Z"
   },
   {
    "duration": 6,
    "start_time": "2022-01-23T08:43:30.422Z"
   },
   {
    "duration": 2,
    "start_time": "2022-01-23T08:43:32.702Z"
   },
   {
    "duration": 832,
    "start_time": "2022-01-23T08:43:33.406Z"
   },
   {
    "duration": 26,
    "start_time": "2022-01-23T08:43:34.240Z"
   },
   {
    "duration": 6,
    "start_time": "2022-01-23T08:43:38.445Z"
   },
   {
    "duration": 355,
    "start_time": "2022-01-23T08:43:48.813Z"
   },
   {
    "duration": 6,
    "start_time": "2022-01-23T08:43:50.038Z"
   },
   {
    "duration": 3,
    "start_time": "2022-01-23T08:43:50.661Z"
   },
   {
    "duration": 784,
    "start_time": "2022-01-23T08:43:51.701Z"
   },
   {
    "duration": 28,
    "start_time": "2022-01-23T08:43:52.829Z"
   },
   {
    "duration": 6,
    "start_time": "2022-01-23T08:43:53.518Z"
   },
   {
    "duration": 343,
    "start_time": "2022-01-23T08:43:58.932Z"
   },
   {
    "duration": 6,
    "start_time": "2022-01-23T08:43:59.429Z"
   },
   {
    "duration": 3,
    "start_time": "2022-01-23T08:43:59.932Z"
   },
   {
    "duration": 780,
    "start_time": "2022-01-23T08:44:00.405Z"
   },
   {
    "duration": 30,
    "start_time": "2022-01-23T08:44:01.187Z"
   },
   {
    "duration": 6,
    "start_time": "2022-01-23T08:44:01.518Z"
   },
   {
    "duration": 312,
    "start_time": "2022-01-23T08:44:07.052Z"
   },
   {
    "duration": 6,
    "start_time": "2022-01-23T08:44:07.525Z"
   },
   {
    "duration": 3,
    "start_time": "2022-01-23T08:44:08.012Z"
   },
   {
    "duration": 664,
    "start_time": "2022-01-23T08:44:08.493Z"
   },
   {
    "duration": 27,
    "start_time": "2022-01-23T08:44:09.158Z"
   },
   {
    "duration": 5,
    "start_time": "2022-01-23T08:44:09.573Z"
   },
   {
    "duration": 388,
    "start_time": "2022-01-23T08:44:26.333Z"
   },
   {
    "duration": 6,
    "start_time": "2022-01-23T08:44:26.813Z"
   },
   {
    "duration": 3,
    "start_time": "2022-01-23T08:44:27.300Z"
   },
   {
    "duration": 823,
    "start_time": "2022-01-23T08:44:27.798Z"
   },
   {
    "duration": 36,
    "start_time": "2022-01-23T08:44:28.623Z"
   },
   {
    "duration": 5,
    "start_time": "2022-01-23T08:44:29.280Z"
   },
   {
    "duration": 282,
    "start_time": "2022-01-23T08:44:36.051Z"
   },
   {
    "duration": 5,
    "start_time": "2022-01-23T08:44:36.557Z"
   },
   {
    "duration": 3,
    "start_time": "2022-01-23T08:44:37.021Z"
   },
   {
    "duration": 597,
    "start_time": "2022-01-23T08:44:37.476Z"
   },
   {
    "duration": 28,
    "start_time": "2022-01-23T08:44:38.074Z"
   },
   {
    "duration": 6,
    "start_time": "2022-01-23T08:44:38.500Z"
   },
   {
    "duration": 264,
    "start_time": "2022-01-23T08:44:47.652Z"
   },
   {
    "duration": 7,
    "start_time": "2022-01-23T08:44:48.173Z"
   },
   {
    "duration": 3,
    "start_time": "2022-01-23T08:44:48.764Z"
   },
   {
    "duration": 551,
    "start_time": "2022-01-23T08:44:49.332Z"
   },
   {
    "duration": 27,
    "start_time": "2022-01-23T08:44:50.060Z"
   },
   {
    "duration": 5,
    "start_time": "2022-01-23T08:44:50.861Z"
   },
   {
    "duration": 242,
    "start_time": "2022-01-23T08:45:01.691Z"
   },
   {
    "duration": 6,
    "start_time": "2022-01-23T08:45:02.149Z"
   },
   {
    "duration": 2,
    "start_time": "2022-01-23T08:45:02.644Z"
   },
   {
    "duration": 705,
    "start_time": "2022-01-23T08:45:04.660Z"
   },
   {
    "duration": 29,
    "start_time": "2022-01-23T08:45:06.732Z"
   },
   {
    "duration": 6,
    "start_time": "2022-01-23T08:45:07.740Z"
   },
   {
    "duration": 215,
    "start_time": "2022-01-23T08:45:13.647Z"
   },
   {
    "duration": 7,
    "start_time": "2022-01-23T08:45:14.163Z"
   },
   {
    "duration": 3,
    "start_time": "2022-01-23T08:45:14.618Z"
   },
   {
    "duration": 426,
    "start_time": "2022-01-23T08:45:15.060Z"
   },
   {
    "duration": 33,
    "start_time": "2022-01-23T08:45:15.611Z"
   },
   {
    "duration": 5,
    "start_time": "2022-01-23T08:45:16.188Z"
   },
   {
    "duration": 257,
    "start_time": "2022-01-23T08:45:26.459Z"
   },
   {
    "duration": 6,
    "start_time": "2022-01-23T08:45:26.828Z"
   },
   {
    "duration": 3,
    "start_time": "2022-01-23T08:45:27.211Z"
   },
   {
    "duration": 467,
    "start_time": "2022-01-23T08:45:27.564Z"
   },
   {
    "duration": 33,
    "start_time": "2022-01-23T08:45:28.032Z"
   },
   {
    "duration": 5,
    "start_time": "2022-01-23T08:45:30.156Z"
   },
   {
    "duration": 432,
    "start_time": "2022-01-23T08:45:35.099Z"
   },
   {
    "duration": 6,
    "start_time": "2022-01-23T08:45:35.547Z"
   },
   {
    "duration": 3,
    "start_time": "2022-01-23T08:45:35.874Z"
   },
   {
    "duration": 937,
    "start_time": "2022-01-23T08:45:36.251Z"
   },
   {
    "duration": 34,
    "start_time": "2022-01-23T08:45:37.190Z"
   },
   {
    "duration": 5,
    "start_time": "2022-01-23T08:45:37.507Z"
   },
   {
    "duration": 415,
    "start_time": "2022-01-23T08:45:42.251Z"
   },
   {
    "duration": 6,
    "start_time": "2022-01-23T08:45:42.668Z"
   },
   {
    "duration": 3,
    "start_time": "2022-01-23T08:45:42.690Z"
   },
   {
    "duration": 939,
    "start_time": "2022-01-23T08:45:42.954Z"
   },
   {
    "duration": 28,
    "start_time": "2022-01-23T08:45:43.895Z"
   },
   {
    "duration": 19,
    "start_time": "2022-01-23T08:45:43.925Z"
   },
   {
    "duration": 456,
    "start_time": "2022-01-23T08:45:49.475Z"
   },
   {
    "duration": 10,
    "start_time": "2022-01-23T08:45:49.932Z"
   },
   {
    "duration": 3,
    "start_time": "2022-01-23T08:45:49.977Z"
   },
   {
    "duration": 1001,
    "start_time": "2022-01-23T08:45:50.259Z"
   },
   {
    "duration": 27,
    "start_time": "2022-01-23T08:45:51.261Z"
   },
   {
    "duration": 5,
    "start_time": "2022-01-23T08:45:51.290Z"
   },
   {
    "duration": 457,
    "start_time": "2022-01-23T08:45:57.026Z"
   },
   {
    "duration": 5,
    "start_time": "2022-01-23T08:45:57.485Z"
   },
   {
    "duration": 2,
    "start_time": "2022-01-23T08:45:57.561Z"
   },
   {
    "duration": 1145,
    "start_time": "2022-01-23T08:45:57.818Z"
   },
   {
    "duration": 28,
    "start_time": "2022-01-23T08:45:58.964Z"
   },
   {
    "duration": 5,
    "start_time": "2022-01-23T08:45:58.994Z"
   },
   {
    "duration": 486,
    "start_time": "2022-01-23T08:46:03.905Z"
   },
   {
    "duration": 6,
    "start_time": "2022-01-23T08:46:04.393Z"
   },
   {
    "duration": 15,
    "start_time": "2022-01-23T08:46:04.401Z"
   },
   {
    "duration": 1362,
    "start_time": "2022-01-23T08:46:04.627Z"
   },
   {
    "duration": 28,
    "start_time": "2022-01-23T08:46:05.990Z"
   },
   {
    "duration": 5,
    "start_time": "2022-01-23T08:46:06.020Z"
   },
   {
    "duration": 50,
    "start_time": "2022-01-23T08:46:06.026Z"
   },
   {
    "duration": 488,
    "start_time": "2022-01-23T08:46:11.034Z"
   },
   {
    "duration": 5,
    "start_time": "2022-01-23T08:46:11.524Z"
   },
   {
    "duration": 11,
    "start_time": "2022-01-23T08:46:11.531Z"
   },
   {
    "duration": 1189,
    "start_time": "2022-01-23T08:46:11.738Z"
   },
   {
    "duration": 37,
    "start_time": "2022-01-23T08:46:12.929Z"
   },
   {
    "duration": 6,
    "start_time": "2022-01-23T08:46:12.968Z"
   },
   {
    "duration": 513,
    "start_time": "2022-01-23T08:46:18.554Z"
   },
   {
    "duration": 6,
    "start_time": "2022-01-23T08:46:19.069Z"
   },
   {
    "duration": 5,
    "start_time": "2022-01-23T08:46:19.077Z"
   },
   {
    "duration": 1281,
    "start_time": "2022-01-23T08:46:19.307Z"
   },
   {
    "duration": 27,
    "start_time": "2022-01-23T08:46:20.590Z"
   },
   {
    "duration": 5,
    "start_time": "2022-01-23T08:46:20.619Z"
   },
   {
    "duration": 540,
    "start_time": "2022-01-23T08:46:26.209Z"
   },
   {
    "duration": 6,
    "start_time": "2022-01-23T08:46:26.750Z"
   },
   {
    "duration": 4,
    "start_time": "2022-01-23T08:46:26.757Z"
   },
   {
    "duration": 1289,
    "start_time": "2022-01-23T08:46:26.906Z"
   },
   {
    "duration": 43,
    "start_time": "2022-01-23T08:46:28.198Z"
   },
   {
    "duration": 8,
    "start_time": "2022-01-23T08:46:28.243Z"
   },
   {
    "duration": 574,
    "start_time": "2022-01-23T08:46:32.689Z"
   },
   {
    "duration": 6,
    "start_time": "2022-01-23T08:46:33.265Z"
   },
   {
    "duration": 18,
    "start_time": "2022-01-23T08:46:33.272Z"
   },
   {
    "duration": 1389,
    "start_time": "2022-01-23T08:46:33.387Z"
   },
   {
    "duration": 28,
    "start_time": "2022-01-23T08:46:34.778Z"
   },
   {
    "duration": 4,
    "start_time": "2022-01-23T08:46:34.808Z"
   },
   {
    "duration": 574,
    "start_time": "2022-01-23T08:46:40.576Z"
   },
   {
    "duration": 5,
    "start_time": "2022-01-23T08:46:41.151Z"
   },
   {
    "duration": 4,
    "start_time": "2022-01-23T08:46:41.158Z"
   },
   {
    "duration": 1395,
    "start_time": "2022-01-23T08:46:41.305Z"
   },
   {
    "duration": 28,
    "start_time": "2022-01-23T08:46:42.701Z"
   },
   {
    "duration": 13,
    "start_time": "2022-01-23T08:46:42.731Z"
   },
   {
    "duration": 29,
    "start_time": "2022-01-23T08:46:42.745Z"
   },
   {
    "duration": 304,
    "start_time": "2022-01-23T08:46:53.321Z"
   },
   {
    "duration": 14,
    "start_time": "2022-01-23T08:46:53.627Z"
   },
   {
    "duration": 2,
    "start_time": "2022-01-23T08:46:53.881Z"
   },
   {
    "duration": 854,
    "start_time": "2022-01-23T08:46:54.121Z"
   },
   {
    "duration": 27,
    "start_time": "2022-01-23T08:46:54.977Z"
   },
   {
    "duration": 5,
    "start_time": "2022-01-23T08:46:55.006Z"
   },
   {
    "duration": 314,
    "start_time": "2022-01-23T08:47:00.569Z"
   },
   {
    "duration": 6,
    "start_time": "2022-01-23T08:47:00.885Z"
   },
   {
    "duration": 3,
    "start_time": "2022-01-23T08:47:01.033Z"
   },
   {
    "duration": 665,
    "start_time": "2022-01-23T08:47:01.265Z"
   },
   {
    "duration": 38,
    "start_time": "2022-01-23T08:47:01.931Z"
   },
   {
    "duration": 5,
    "start_time": "2022-01-23T08:47:01.971Z"
   },
   {
    "duration": 3,
    "start_time": "2022-01-23T08:47:42.816Z"
   },
   {
    "duration": 697,
    "start_time": "2022-01-23T08:47:43.801Z"
   },
   {
    "duration": 29,
    "start_time": "2022-01-23T08:47:44.775Z"
   },
   {
    "duration": 6,
    "start_time": "2022-01-23T08:47:45.512Z"
   },
   {
    "duration": 2,
    "start_time": "2022-01-23T08:47:51.191Z"
   },
   {
    "duration": 739,
    "start_time": "2022-01-23T08:47:51.704Z"
   },
   {
    "duration": 28,
    "start_time": "2022-01-23T08:47:52.445Z"
   },
   {
    "duration": 5,
    "start_time": "2022-01-23T08:47:52.617Z"
   },
   {
    "duration": 3,
    "start_time": "2022-01-23T08:47:57.231Z"
   },
   {
    "duration": 754,
    "start_time": "2022-01-23T08:47:57.649Z"
   },
   {
    "duration": 37,
    "start_time": "2022-01-23T08:47:58.404Z"
   },
   {
    "duration": 6,
    "start_time": "2022-01-23T08:47:58.569Z"
   },
   {
    "duration": 2,
    "start_time": "2022-01-23T08:48:03.887Z"
   },
   {
    "duration": 816,
    "start_time": "2022-01-23T08:48:04.288Z"
   },
   {
    "duration": 27,
    "start_time": "2022-01-23T08:48:05.105Z"
   },
   {
    "duration": 9,
    "start_time": "2022-01-23T08:48:05.134Z"
   },
   {
    "duration": 3,
    "start_time": "2022-01-23T08:48:10.711Z"
   },
   {
    "duration": 829,
    "start_time": "2022-01-23T08:48:11.104Z"
   },
   {
    "duration": 32,
    "start_time": "2022-01-23T08:48:11.935Z"
   },
   {
    "duration": 5,
    "start_time": "2022-01-23T08:48:11.969Z"
   },
   {
    "duration": 2,
    "start_time": "2022-01-23T08:48:17.527Z"
   },
   {
    "duration": 667,
    "start_time": "2022-01-23T08:48:17.880Z"
   },
   {
    "duration": 28,
    "start_time": "2022-01-23T08:48:18.549Z"
   },
   {
    "duration": 5,
    "start_time": "2022-01-23T08:48:18.612Z"
   },
   {
    "duration": 313,
    "start_time": "2022-01-23T08:48:28.863Z"
   },
   {
    "duration": 6,
    "start_time": "2022-01-23T08:48:29.208Z"
   },
   {
    "duration": 3,
    "start_time": "2022-01-23T08:48:29.469Z"
   },
   {
    "duration": 630,
    "start_time": "2022-01-23T08:48:29.767Z"
   },
   {
    "duration": 30,
    "start_time": "2022-01-23T08:48:30.399Z"
   },
   {
    "duration": 6,
    "start_time": "2022-01-23T08:48:30.448Z"
   },
   {
    "duration": 272,
    "start_time": "2022-01-23T08:48:35.095Z"
   },
   {
    "duration": 6,
    "start_time": "2022-01-23T08:48:35.382Z"
   },
   {
    "duration": 3,
    "start_time": "2022-01-23T08:48:35.655Z"
   },
   {
    "duration": 571,
    "start_time": "2022-01-23T08:48:35.903Z"
   },
   {
    "duration": 30,
    "start_time": "2022-01-23T08:48:36.475Z"
   },
   {
    "duration": 7,
    "start_time": "2022-01-23T08:48:36.507Z"
   },
   {
    "duration": 28,
    "start_time": "2022-01-23T08:48:53.918Z"
   },
   {
    "duration": 3,
    "start_time": "2022-01-23T08:48:54.783Z"
   },
   {
    "duration": 5,
    "start_time": "2022-01-23T08:48:56.961Z"
   },
   {
    "duration": 4,
    "start_time": "2022-01-23T08:48:57.616Z"
   },
   {
    "duration": 3,
    "start_time": "2022-01-23T08:56:56.988Z"
   },
   {
    "duration": 142,
    "start_time": "2022-01-23T08:57:22.354Z"
   },
   {
    "duration": 30,
    "start_time": "2022-01-23T08:57:35.363Z"
   },
   {
    "duration": 32,
    "start_time": "2022-01-23T08:57:52.090Z"
   },
   {
    "duration": 5,
    "start_time": "2022-01-23T08:58:03.570Z"
   },
   {
    "duration": 3,
    "start_time": "2022-01-23T08:58:53.144Z"
   },
   {
    "duration": 141,
    "start_time": "2022-01-23T08:58:53.736Z"
   },
   {
    "duration": 31,
    "start_time": "2022-01-23T08:58:54.432Z"
   },
   {
    "duration": 6,
    "start_time": "2022-01-23T08:58:54.968Z"
   },
   {
    "duration": 3,
    "start_time": "2022-01-23T08:59:17.863Z"
   },
   {
    "duration": 133,
    "start_time": "2022-01-23T08:59:18.272Z"
   },
   {
    "duration": 32,
    "start_time": "2022-01-23T08:59:18.704Z"
   },
   {
    "duration": 5,
    "start_time": "2022-01-23T08:59:19.088Z"
   },
   {
    "duration": 5,
    "start_time": "2022-01-23T08:59:25.087Z"
   },
   {
    "duration": 94,
    "start_time": "2022-01-23T08:59:25.559Z"
   },
   {
    "duration": 29,
    "start_time": "2022-01-23T08:59:26.046Z"
   },
   {
    "duration": 5,
    "start_time": "2022-01-23T08:59:26.568Z"
   },
   {
    "duration": 3,
    "start_time": "2022-01-23T08:59:33.175Z"
   },
   {
    "duration": 99,
    "start_time": "2022-01-23T08:59:33.639Z"
   },
   {
    "duration": 29,
    "start_time": "2022-01-23T08:59:34.095Z"
   },
   {
    "duration": 6,
    "start_time": "2022-01-23T08:59:34.520Z"
   },
   {
    "duration": 3,
    "start_time": "2022-01-23T08:59:39.447Z"
   },
   {
    "duration": 100,
    "start_time": "2022-01-23T08:59:39.903Z"
   },
   {
    "duration": 29,
    "start_time": "2022-01-23T08:59:40.390Z"
   },
   {
    "duration": 5,
    "start_time": "2022-01-23T08:59:40.887Z"
   },
   {
    "duration": 3,
    "start_time": "2022-01-23T08:59:45.902Z"
   },
   {
    "duration": 111,
    "start_time": "2022-01-23T08:59:46.342Z"
   },
   {
    "duration": 28,
    "start_time": "2022-01-23T08:59:46.783Z"
   },
   {
    "duration": 5,
    "start_time": "2022-01-23T08:59:47.215Z"
   },
   {
    "duration": 3,
    "start_time": "2022-01-23T08:59:55.239Z"
   },
   {
    "duration": 115,
    "start_time": "2022-01-23T08:59:55.374Z"
   },
   {
    "duration": 29,
    "start_time": "2022-01-23T08:59:55.847Z"
   },
   {
    "duration": 6,
    "start_time": "2022-01-23T08:59:56.255Z"
   },
   {
    "duration": 2,
    "start_time": "2022-01-23T09:00:03.069Z"
   },
   {
    "duration": 123,
    "start_time": "2022-01-23T09:00:03.519Z"
   },
   {
    "duration": 29,
    "start_time": "2022-01-23T09:00:03.958Z"
   },
   {
    "duration": 5,
    "start_time": "2022-01-23T09:00:04.334Z"
   },
   {
    "duration": 2,
    "start_time": "2022-01-23T09:00:09.734Z"
   },
   {
    "duration": 124,
    "start_time": "2022-01-23T09:00:10.206Z"
   },
   {
    "duration": 29,
    "start_time": "2022-01-23T09:00:10.653Z"
   },
   {
    "duration": 6,
    "start_time": "2022-01-23T09:00:11.301Z"
   },
   {
    "duration": 3,
    "start_time": "2022-01-23T09:00:16.430Z"
   },
   {
    "duration": 131,
    "start_time": "2022-01-23T09:00:16.886Z"
   },
   {
    "duration": 31,
    "start_time": "2022-01-23T09:00:17.269Z"
   },
   {
    "duration": 6,
    "start_time": "2022-01-23T09:00:17.654Z"
   },
   {
    "duration": 3,
    "start_time": "2022-01-23T09:00:23.413Z"
   },
   {
    "duration": 138,
    "start_time": "2022-01-23T09:00:23.855Z"
   },
   {
    "duration": 32,
    "start_time": "2022-01-23T09:00:24.277Z"
   },
   {
    "duration": 5,
    "start_time": "2022-01-23T09:00:24.718Z"
   },
   {
    "duration": 3,
    "start_time": "2022-01-23T09:00:33.141Z"
   },
   {
    "duration": 146,
    "start_time": "2022-01-23T09:00:33.574Z"
   },
   {
    "duration": 30,
    "start_time": "2022-01-23T09:00:34.030Z"
   },
   {
    "duration": 5,
    "start_time": "2022-01-23T09:00:34.551Z"
   },
   {
    "duration": 2,
    "start_time": "2022-01-23T09:00:40.805Z"
   },
   {
    "duration": 145,
    "start_time": "2022-01-23T09:00:41.318Z"
   },
   {
    "duration": 30,
    "start_time": "2022-01-23T09:00:41.837Z"
   },
   {
    "duration": 5,
    "start_time": "2022-01-23T09:00:42.397Z"
   },
   {
    "duration": 2,
    "start_time": "2022-01-23T09:00:49.165Z"
   },
   {
    "duration": 169,
    "start_time": "2022-01-23T09:00:49.638Z"
   },
   {
    "duration": 31,
    "start_time": "2022-01-23T09:00:50.093Z"
   },
   {
    "duration": 6,
    "start_time": "2022-01-23T09:00:50.669Z"
   },
   {
    "duration": 3,
    "start_time": "2022-01-23T09:01:04.669Z"
   },
   {
    "duration": 163,
    "start_time": "2022-01-23T09:01:05.213Z"
   },
   {
    "duration": 31,
    "start_time": "2022-01-23T09:01:05.709Z"
   },
   {
    "duration": 5,
    "start_time": "2022-01-23T09:01:06.230Z"
   },
   {
    "duration": 3,
    "start_time": "2022-01-23T09:01:17.572Z"
   },
   {
    "duration": 163,
    "start_time": "2022-01-23T09:01:18.052Z"
   },
   {
    "duration": 29,
    "start_time": "2022-01-23T09:01:18.525Z"
   },
   {
    "duration": 6,
    "start_time": "2022-01-23T09:01:19.172Z"
   },
   {
    "duration": 3,
    "start_time": "2022-01-23T09:01:24.684Z"
   },
   {
    "duration": 176,
    "start_time": "2022-01-23T09:01:25.189Z"
   },
   {
    "duration": 33,
    "start_time": "2022-01-23T09:01:25.725Z"
   },
   {
    "duration": 6,
    "start_time": "2022-01-23T09:01:26.180Z"
   },
   {
    "duration": 3,
    "start_time": "2022-01-23T09:01:34.172Z"
   },
   {
    "duration": 183,
    "start_time": "2022-01-23T09:01:34.645Z"
   },
   {
    "duration": 34,
    "start_time": "2022-01-23T09:01:35.140Z"
   },
   {
    "duration": 6,
    "start_time": "2022-01-23T09:01:35.628Z"
   },
   {
    "duration": 3,
    "start_time": "2022-01-23T09:01:40.844Z"
   },
   {
    "duration": 180,
    "start_time": "2022-01-23T09:01:41.284Z"
   },
   {
    "duration": 31,
    "start_time": "2022-01-23T09:01:42.450Z"
   },
   {
    "duration": 5,
    "start_time": "2022-01-23T09:01:42.483Z"
   },
   {
    "duration": 3,
    "start_time": "2022-01-23T09:01:48.484Z"
   },
   {
    "duration": 177,
    "start_time": "2022-01-23T09:01:48.884Z"
   },
   {
    "duration": 31,
    "start_time": "2022-01-23T09:01:49.300Z"
   },
   {
    "duration": 6,
    "start_time": "2022-01-23T09:01:49.716Z"
   },
   {
    "duration": 3,
    "start_time": "2022-01-23T09:01:55.292Z"
   },
   {
    "duration": 194,
    "start_time": "2022-01-23T09:01:55.748Z"
   },
   {
    "duration": 32,
    "start_time": "2022-01-23T09:01:56.267Z"
   },
   {
    "duration": 5,
    "start_time": "2022-01-23T09:01:56.748Z"
   },
   {
    "duration": 3,
    "start_time": "2022-01-23T09:02:04.075Z"
   },
   {
    "duration": 226,
    "start_time": "2022-01-23T09:02:04.516Z"
   },
   {
    "duration": 33,
    "start_time": "2022-01-23T09:02:04.931Z"
   },
   {
    "duration": 6,
    "start_time": "2022-01-23T09:02:05.420Z"
   },
   {
    "duration": 3,
    "start_time": "2022-01-23T09:02:11.108Z"
   },
   {
    "duration": 217,
    "start_time": "2022-01-23T09:02:11.603Z"
   },
   {
    "duration": 34,
    "start_time": "2022-01-23T09:02:12.027Z"
   },
   {
    "duration": 6,
    "start_time": "2022-01-23T09:02:12.572Z"
   },
   {
    "duration": 3,
    "start_time": "2022-01-23T09:02:24.747Z"
   },
   {
    "duration": 219,
    "start_time": "2022-01-23T09:02:25.180Z"
   },
   {
    "duration": 35,
    "start_time": "2022-01-23T09:02:25.596Z"
   },
   {
    "duration": 6,
    "start_time": "2022-01-23T09:02:26.012Z"
   },
   {
    "duration": 3,
    "start_time": "2022-01-23T09:02:32.484Z"
   },
   {
    "duration": 246,
    "start_time": "2022-01-23T09:02:32.899Z"
   },
   {
    "duration": 36,
    "start_time": "2022-01-23T09:02:33.331Z"
   },
   {
    "duration": 7,
    "start_time": "2022-01-23T09:02:33.923Z"
   },
   {
    "duration": 3,
    "start_time": "2022-01-23T09:02:40.739Z"
   },
   {
    "duration": 227,
    "start_time": "2022-01-23T09:02:41.148Z"
   },
   {
    "duration": 34,
    "start_time": "2022-01-23T09:02:41.491Z"
   },
   {
    "duration": 6,
    "start_time": "2022-01-23T09:02:41.907Z"
   },
   {
    "duration": 2,
    "start_time": "2022-01-23T09:02:47.459Z"
   },
   {
    "duration": 235,
    "start_time": "2022-01-23T09:02:47.779Z"
   },
   {
    "duration": 35,
    "start_time": "2022-01-23T09:02:48.146Z"
   },
   {
    "duration": 5,
    "start_time": "2022-01-23T09:02:48.501Z"
   },
   {
    "duration": 3,
    "start_time": "2022-01-23T09:02:54.218Z"
   },
   {
    "duration": 239,
    "start_time": "2022-01-23T09:02:54.587Z"
   },
   {
    "duration": 35,
    "start_time": "2022-01-23T09:02:54.922Z"
   },
   {
    "duration": 5,
    "start_time": "2022-01-23T09:02:55.299Z"
   },
   {
    "duration": 3,
    "start_time": "2022-01-23T09:03:00.394Z"
   },
   {
    "duration": 251,
    "start_time": "2022-01-23T09:03:00.730Z"
   },
   {
    "duration": 46,
    "start_time": "2022-01-23T09:03:01.047Z"
   },
   {
    "duration": 6,
    "start_time": "2022-01-23T09:03:01.450Z"
   },
   {
    "duration": 3,
    "start_time": "2022-01-23T09:03:06.786Z"
   },
   {
    "duration": 270,
    "start_time": "2022-01-23T09:03:07.123Z"
   },
   {
    "duration": 36,
    "start_time": "2022-01-23T09:03:07.450Z"
   },
   {
    "duration": 5,
    "start_time": "2022-01-23T09:03:07.835Z"
   },
   {
    "duration": 3,
    "start_time": "2022-01-23T09:03:13.451Z"
   },
   {
    "duration": 255,
    "start_time": "2022-01-23T09:03:13.787Z"
   },
   {
    "duration": 34,
    "start_time": "2022-01-23T09:03:14.066Z"
   },
   {
    "duration": 6,
    "start_time": "2022-01-23T09:03:14.498Z"
   },
   {
    "duration": 3,
    "start_time": "2022-01-23T09:03:21.257Z"
   },
   {
    "duration": 248,
    "start_time": "2022-01-23T09:03:21.626Z"
   },
   {
    "duration": 34,
    "start_time": "2022-01-23T09:03:21.986Z"
   },
   {
    "duration": 5,
    "start_time": "2022-01-23T09:03:22.442Z"
   },
   {
    "duration": 2,
    "start_time": "2022-01-23T09:04:41.321Z"
   },
   {
    "duration": 251,
    "start_time": "2022-01-23T09:04:41.920Z"
   },
   {
    "duration": 34,
    "start_time": "2022-01-23T09:04:42.711Z"
   },
   {
    "duration": 6,
    "start_time": "2022-01-23T09:04:43.232Z"
   },
   {
    "duration": 3,
    "start_time": "2022-01-23T09:04:49.151Z"
   },
   {
    "duration": 278,
    "start_time": "2022-01-23T09:04:49.568Z"
   },
   {
    "duration": 35,
    "start_time": "2022-01-23T09:04:50.000Z"
   },
   {
    "duration": 5,
    "start_time": "2022-01-23T09:04:50.528Z"
   },
   {
    "duration": 3,
    "start_time": "2022-01-23T09:04:56.960Z"
   },
   {
    "duration": 257,
    "start_time": "2022-01-23T09:04:57.360Z"
   },
   {
    "duration": 33,
    "start_time": "2022-01-23T09:04:57.744Z"
   },
   {
    "duration": 5,
    "start_time": "2022-01-23T09:04:58.152Z"
   },
   {
    "duration": 2,
    "start_time": "2022-01-23T09:05:10.800Z"
   },
   {
    "duration": 270,
    "start_time": "2022-01-23T09:05:11.192Z"
   },
   {
    "duration": 34,
    "start_time": "2022-01-23T09:05:11.560Z"
   },
   {
    "duration": 5,
    "start_time": "2022-01-23T09:05:12.104Z"
   },
   {
    "duration": 3,
    "start_time": "2022-01-23T09:05:19.359Z"
   },
   {
    "duration": 328,
    "start_time": "2022-01-23T09:05:19.737Z"
   },
   {
    "duration": 38,
    "start_time": "2022-01-23T09:05:20.184Z"
   },
   {
    "duration": 5,
    "start_time": "2022-01-23T09:05:20.776Z"
   },
   {
    "duration": 3,
    "start_time": "2022-01-23T09:05:27.183Z"
   },
   {
    "duration": 360,
    "start_time": "2022-01-23T09:05:27.607Z"
   },
   {
    "duration": 38,
    "start_time": "2022-01-23T09:05:28.049Z"
   },
   {
    "duration": 6,
    "start_time": "2022-01-23T09:05:28.519Z"
   },
   {
    "duration": 2,
    "start_time": "2022-01-23T09:05:34.816Z"
   },
   {
    "duration": 440,
    "start_time": "2022-01-23T09:05:35.175Z"
   },
   {
    "duration": 48,
    "start_time": "2022-01-23T09:05:35.618Z"
   },
   {
    "duration": 5,
    "start_time": "2022-01-23T09:05:36.055Z"
   },
   {
    "duration": 3,
    "start_time": "2022-01-23T09:05:42.375Z"
   },
   {
    "duration": 456,
    "start_time": "2022-01-23T09:05:42.798Z"
   },
   {
    "duration": 39,
    "start_time": "2022-01-23T09:05:43.286Z"
   },
   {
    "duration": 6,
    "start_time": "2022-01-23T09:05:43.871Z"
   },
   {
    "duration": 3,
    "start_time": "2022-01-23T09:05:49.399Z"
   },
   {
    "duration": 504,
    "start_time": "2022-01-23T09:05:49.790Z"
   },
   {
    "duration": 49,
    "start_time": "2022-01-23T09:05:50.296Z"
   },
   {
    "duration": 6,
    "start_time": "2022-01-23T09:05:50.719Z"
   },
   {
    "duration": 3,
    "start_time": "2022-01-23T09:05:56.535Z"
   },
   {
    "duration": 557,
    "start_time": "2022-01-23T09:05:56.968Z"
   },
   {
    "duration": 45,
    "start_time": "2022-01-23T09:05:57.526Z"
   },
   {
    "duration": 6,
    "start_time": "2022-01-23T09:05:57.864Z"
   },
   {
    "duration": 3,
    "start_time": "2022-01-23T09:06:04.431Z"
   },
   {
    "duration": 605,
    "start_time": "2022-01-23T09:06:07.775Z"
   },
   {
    "duration": 41,
    "start_time": "2022-01-23T09:06:08.382Z"
   },
   {
    "duration": 5,
    "start_time": "2022-01-23T09:06:08.814Z"
   },
   {
    "duration": 2,
    "start_time": "2022-01-23T09:06:17.878Z"
   },
   {
    "duration": 1667,
    "start_time": "2022-01-23T09:06:18.302Z"
   },
   {
    "duration": 74,
    "start_time": "2022-01-23T09:06:19.972Z"
   },
   {
    "duration": 5,
    "start_time": "2022-01-23T09:06:20.048Z"
   },
   {
    "duration": 3,
    "start_time": "2022-01-23T09:06:30.286Z"
   },
   {
    "duration": 1517,
    "start_time": "2022-01-23T09:06:30.718Z"
   },
   {
    "duration": 66,
    "start_time": "2022-01-23T09:06:32.241Z"
   },
   {
    "duration": 5,
    "start_time": "2022-01-23T09:06:32.309Z"
   },
   {
    "duration": 3,
    "start_time": "2022-01-23T09:06:39.854Z"
   },
   {
    "duration": 1633,
    "start_time": "2022-01-23T09:06:40.254Z"
   },
   {
    "duration": 78,
    "start_time": "2022-01-23T09:06:41.889Z"
   },
   {
    "duration": 5,
    "start_time": "2022-01-23T09:06:41.969Z"
   },
   {
    "duration": 2,
    "start_time": "2022-01-23T09:06:49.734Z"
   },
   {
    "duration": 2147,
    "start_time": "2022-01-23T09:06:50.142Z"
   },
   {
    "duration": 97,
    "start_time": "2022-01-23T09:06:52.291Z"
   },
   {
    "duration": 5,
    "start_time": "2022-01-23T09:06:52.390Z"
   },
   {
    "duration": 3,
    "start_time": "2022-01-23T09:06:59.957Z"
   },
   {
    "duration": 2768,
    "start_time": "2022-01-23T09:07:00.397Z"
   },
   {
    "duration": 112,
    "start_time": "2022-01-23T09:07:03.167Z"
   },
   {
    "duration": 5,
    "start_time": "2022-01-23T09:07:03.281Z"
   },
   {
    "duration": 3,
    "start_time": "2022-01-23T09:07:12.540Z"
   },
   {
    "duration": 3162,
    "start_time": "2022-01-23T09:07:12.830Z"
   },
   {
    "duration": 122,
    "start_time": "2022-01-23T09:07:15.994Z"
   },
   {
    "duration": 5,
    "start_time": "2022-01-23T09:07:16.119Z"
   },
   {
    "duration": 3,
    "start_time": "2022-01-23T09:07:25.853Z"
   },
   {
    "duration": 3843,
    "start_time": "2022-01-23T09:07:26.206Z"
   },
   {
    "duration": 212,
    "start_time": "2022-01-23T09:07:30.051Z"
   },
   {
    "duration": 5,
    "start_time": "2022-01-23T09:07:30.264Z"
   },
   {
    "duration": 3,
    "start_time": "2022-01-23T09:07:36.740Z"
   },
   {
    "duration": 4170,
    "start_time": "2022-01-23T09:07:37.076Z"
   },
   {
    "duration": 172,
    "start_time": "2022-01-23T09:07:41.248Z"
   },
   {
    "duration": 5,
    "start_time": "2022-01-23T09:07:41.422Z"
   },
   {
    "duration": 4,
    "start_time": "2022-01-23T09:07:48.968Z"
   },
   {
    "duration": 4688,
    "start_time": "2022-01-23T09:07:49.309Z"
   },
   {
    "duration": 160,
    "start_time": "2022-01-23T09:07:53.999Z"
   },
   {
    "duration": 5,
    "start_time": "2022-01-23T09:07:54.160Z"
   },
   {
    "duration": 2,
    "start_time": "2022-01-23T09:08:02.932Z"
   },
   {
    "duration": 5522,
    "start_time": "2022-01-23T09:08:03.357Z"
   },
   {
    "duration": 180,
    "start_time": "2022-01-23T09:08:08.881Z"
   },
   {
    "duration": 5,
    "start_time": "2022-01-23T09:08:09.063Z"
   },
   {
    "duration": 2,
    "start_time": "2022-01-23T09:08:16.668Z"
   },
   {
    "duration": 204,
    "start_time": "2022-01-23T09:08:17.109Z"
   },
   {
    "duration": 34,
    "start_time": "2022-01-23T09:08:17.523Z"
   },
   {
    "duration": 5,
    "start_time": "2022-01-23T09:08:18.212Z"
   },
   {
    "duration": 287,
    "start_time": "2022-01-23T09:11:09.043Z"
   },
   {
    "duration": 7,
    "start_time": "2022-01-23T09:11:11.065Z"
   },
   {
    "duration": 3,
    "start_time": "2022-01-23T09:11:13.362Z"
   },
   {
    "duration": 348,
    "start_time": "2022-01-23T09:11:15.522Z"
   },
   {
    "duration": 32,
    "start_time": "2022-01-23T09:11:17.665Z"
   },
   {
    "duration": 4,
    "start_time": "2022-01-23T09:11:19.225Z"
   },
   {
    "duration": 283,
    "start_time": "2022-01-23T09:11:31.832Z"
   },
   {
    "duration": 6,
    "start_time": "2022-01-23T09:11:32.164Z"
   },
   {
    "duration": 3,
    "start_time": "2022-01-23T09:11:32.464Z"
   },
   {
    "duration": 241,
    "start_time": "2022-01-23T09:11:32.777Z"
   },
   {
    "duration": 36,
    "start_time": "2022-01-23T09:11:33.050Z"
   },
   {
    "duration": 6,
    "start_time": "2022-01-23T09:11:33.481Z"
   },
   {
    "duration": 228,
    "start_time": "2022-01-23T09:11:38.624Z"
   },
   {
    "duration": 6,
    "start_time": "2022-01-23T09:11:38.872Z"
   },
   {
    "duration": 3,
    "start_time": "2022-01-23T09:11:39.137Z"
   },
   {
    "duration": 280,
    "start_time": "2022-01-23T09:11:39.385Z"
   },
   {
    "duration": 31,
    "start_time": "2022-01-23T09:11:39.667Z"
   },
   {
    "duration": 5,
    "start_time": "2022-01-23T09:11:39.889Z"
   },
   {
    "duration": 247,
    "start_time": "2022-01-23T09:11:45.320Z"
   },
   {
    "duration": 7,
    "start_time": "2022-01-23T09:11:45.601Z"
   },
   {
    "duration": 3,
    "start_time": "2022-01-23T09:11:45.856Z"
   },
   {
    "duration": 301,
    "start_time": "2022-01-23T09:11:46.096Z"
   },
   {
    "duration": 23,
    "start_time": "2022-01-23T09:11:46.399Z"
   },
   {
    "duration": 5,
    "start_time": "2022-01-23T09:11:46.625Z"
   },
   {
    "duration": 254,
    "start_time": "2022-01-23T09:11:51.672Z"
   },
   {
    "duration": 14,
    "start_time": "2022-01-23T09:11:51.927Z"
   },
   {
    "duration": 3,
    "start_time": "2022-01-23T09:11:52.104Z"
   },
   {
    "duration": 346,
    "start_time": "2022-01-23T09:11:52.320Z"
   },
   {
    "duration": 32,
    "start_time": "2022-01-23T09:11:52.668Z"
   },
   {
    "duration": 6,
    "start_time": "2022-01-23T09:11:52.769Z"
   },
   {
    "duration": 290,
    "start_time": "2022-01-23T09:11:58.255Z"
   },
   {
    "duration": 7,
    "start_time": "2022-01-23T09:11:58.547Z"
   },
   {
    "duration": 3,
    "start_time": "2022-01-23T09:11:58.666Z"
   },
   {
    "duration": 368,
    "start_time": "2022-01-23T09:11:58.888Z"
   },
   {
    "duration": 30,
    "start_time": "2022-01-23T09:11:59.258Z"
   },
   {
    "duration": 5,
    "start_time": "2022-01-23T09:11:59.338Z"
   },
   {
    "duration": 346,
    "start_time": "2022-01-23T09:12:04.504Z"
   },
   {
    "duration": 6,
    "start_time": "2022-01-23T09:12:04.852Z"
   },
   {
    "duration": 3,
    "start_time": "2022-01-23T09:12:04.960Z"
   },
   {
    "duration": 415,
    "start_time": "2022-01-23T09:12:05.183Z"
   },
   {
    "duration": 31,
    "start_time": "2022-01-23T09:12:05.599Z"
   },
   {
    "duration": 17,
    "start_time": "2022-01-23T09:12:05.632Z"
   },
   {
    "duration": 329,
    "start_time": "2022-01-23T09:12:11.071Z"
   },
   {
    "duration": 5,
    "start_time": "2022-01-23T09:12:11.402Z"
   },
   {
    "duration": 3,
    "start_time": "2022-01-23T09:12:11.503Z"
   },
   {
    "duration": 442,
    "start_time": "2022-01-23T09:12:11.721Z"
   },
   {
    "duration": 32,
    "start_time": "2022-01-23T09:12:12.164Z"
   },
   {
    "duration": 4,
    "start_time": "2022-01-23T09:12:12.198Z"
   },
   {
    "duration": 357,
    "start_time": "2022-01-23T09:12:17.375Z"
   },
   {
    "duration": 7,
    "start_time": "2022-01-23T09:12:17.734Z"
   },
   {
    "duration": 2,
    "start_time": "2022-01-23T09:12:17.831Z"
   },
   {
    "duration": 478,
    "start_time": "2022-01-23T09:12:18.049Z"
   },
   {
    "duration": 40,
    "start_time": "2022-01-23T09:12:18.529Z"
   },
   {
    "duration": 5,
    "start_time": "2022-01-23T09:12:18.570Z"
   },
   {
    "duration": 400,
    "start_time": "2022-01-23T09:12:25.151Z"
   },
   {
    "duration": 6,
    "start_time": "2022-01-23T09:12:25.552Z"
   },
   {
    "duration": 13,
    "start_time": "2022-01-23T09:12:25.559Z"
   },
   {
    "duration": 529,
    "start_time": "2022-01-23T09:12:25.792Z"
   },
   {
    "duration": 40,
    "start_time": "2022-01-23T09:12:26.323Z"
   },
   {
    "duration": 5,
    "start_time": "2022-01-23T09:12:26.365Z"
   },
   {
    "duration": 421,
    "start_time": "2022-01-23T09:12:32.831Z"
   },
   {
    "duration": 6,
    "start_time": "2022-01-23T09:12:33.254Z"
   },
   {
    "duration": 26,
    "start_time": "2022-01-23T09:12:33.264Z"
   },
   {
    "duration": 586,
    "start_time": "2022-01-23T09:12:33.472Z"
   },
   {
    "duration": 33,
    "start_time": "2022-01-23T09:12:34.060Z"
   },
   {
    "duration": 15,
    "start_time": "2022-01-23T09:12:34.094Z"
   },
   {
    "duration": 412,
    "start_time": "2022-01-23T09:12:43.030Z"
   },
   {
    "duration": 6,
    "start_time": "2022-01-23T09:12:43.443Z"
   },
   {
    "duration": 38,
    "start_time": "2022-01-23T09:12:43.463Z"
   },
   {
    "duration": 593,
    "start_time": "2022-01-23T09:12:43.687Z"
   },
   {
    "duration": 32,
    "start_time": "2022-01-23T09:12:44.281Z"
   },
   {
    "duration": 13,
    "start_time": "2022-01-23T09:12:44.315Z"
   },
   {
    "duration": 440,
    "start_time": "2022-01-23T09:12:57.102Z"
   },
   {
    "duration": 5,
    "start_time": "2022-01-23T09:12:57.544Z"
   },
   {
    "duration": 5,
    "start_time": "2022-01-23T09:12:57.551Z"
   },
   {
    "duration": 614,
    "start_time": "2022-01-23T09:12:57.751Z"
   },
   {
    "duration": 31,
    "start_time": "2022-01-23T09:12:58.367Z"
   },
   {
    "duration": 5,
    "start_time": "2022-01-23T09:12:58.400Z"
   },
   {
    "duration": 454,
    "start_time": "2022-01-23T09:13:05.470Z"
   },
   {
    "duration": 6,
    "start_time": "2022-01-23T09:13:05.926Z"
   },
   {
    "duration": 9,
    "start_time": "2022-01-23T09:13:05.933Z"
   },
   {
    "duration": 662,
    "start_time": "2022-01-23T09:13:06.127Z"
   },
   {
    "duration": 32,
    "start_time": "2022-01-23T09:13:06.790Z"
   },
   {
    "duration": 5,
    "start_time": "2022-01-23T09:13:06.823Z"
   },
   {
    "duration": 474,
    "start_time": "2022-01-23T09:13:12.623Z"
   },
   {
    "duration": 6,
    "start_time": "2022-01-23T09:13:13.099Z"
   },
   {
    "duration": 6,
    "start_time": "2022-01-23T09:13:13.106Z"
   },
   {
    "duration": 687,
    "start_time": "2022-01-23T09:13:13.270Z"
   },
   {
    "duration": 32,
    "start_time": "2022-01-23T09:13:13.958Z"
   },
   {
    "duration": 5,
    "start_time": "2022-01-23T09:13:13.991Z"
   },
   {
    "duration": 533,
    "start_time": "2022-01-23T09:13:19.326Z"
   },
   {
    "duration": 6,
    "start_time": "2022-01-23T09:13:19.861Z"
   },
   {
    "duration": 25,
    "start_time": "2022-01-23T09:13:19.869Z"
   },
   {
    "duration": 738,
    "start_time": "2022-01-23T09:13:19.982Z"
   },
   {
    "duration": 40,
    "start_time": "2022-01-23T09:13:20.722Z"
   },
   {
    "duration": 5,
    "start_time": "2022-01-23T09:13:20.763Z"
   },
   {
    "duration": 536,
    "start_time": "2022-01-23T09:13:26.222Z"
   },
   {
    "duration": 6,
    "start_time": "2022-01-23T09:13:26.760Z"
   },
   {
    "duration": 4,
    "start_time": "2022-01-23T09:13:26.767Z"
   },
   {
    "duration": 763,
    "start_time": "2022-01-23T09:13:26.859Z"
   },
   {
    "duration": 35,
    "start_time": "2022-01-23T09:13:27.624Z"
   },
   {
    "duration": 5,
    "start_time": "2022-01-23T09:13:27.661Z"
   },
   {
    "duration": 531,
    "start_time": "2022-01-23T09:13:32.950Z"
   },
   {
    "duration": 6,
    "start_time": "2022-01-23T09:13:33.482Z"
   },
   {
    "duration": 5,
    "start_time": "2022-01-23T09:13:33.489Z"
   },
   {
    "duration": 829,
    "start_time": "2022-01-23T09:13:33.576Z"
   },
   {
    "duration": 47,
    "start_time": "2022-01-23T09:13:34.408Z"
   },
   {
    "duration": 6,
    "start_time": "2022-01-23T09:13:34.457Z"
   },
   {
    "duration": 590,
    "start_time": "2022-01-23T09:13:47.412Z"
   },
   {
    "duration": 5,
    "start_time": "2022-01-23T09:13:48.022Z"
   },
   {
    "duration": 3,
    "start_time": "2022-01-23T09:13:56.949Z"
   },
   {
    "duration": 903,
    "start_time": "2022-01-23T09:13:57.190Z"
   },
   {
    "duration": 32,
    "start_time": "2022-01-23T09:13:58.094Z"
   },
   {
    "duration": 16,
    "start_time": "2022-01-23T09:13:58.128Z"
   },
   {
    "duration": 2,
    "start_time": "2022-01-23T09:14:03.917Z"
   },
   {
    "duration": 1023,
    "start_time": "2022-01-23T09:14:04.118Z"
   },
   {
    "duration": 32,
    "start_time": "2022-01-23T09:14:05.143Z"
   },
   {
    "duration": 5,
    "start_time": "2022-01-23T09:14:05.177Z"
   },
   {
    "duration": 2,
    "start_time": "2022-01-23T09:14:10.613Z"
   },
   {
    "duration": 1040,
    "start_time": "2022-01-23T09:14:10.813Z"
   },
   {
    "duration": 31,
    "start_time": "2022-01-23T09:14:11.855Z"
   },
   {
    "duration": 7,
    "start_time": "2022-01-23T09:14:11.888Z"
   },
   {
    "duration": 3,
    "start_time": "2022-01-23T09:14:17.876Z"
   },
   {
    "duration": 1124,
    "start_time": "2022-01-23T09:14:18.101Z"
   },
   {
    "duration": 40,
    "start_time": "2022-01-23T09:14:19.227Z"
   },
   {
    "duration": 5,
    "start_time": "2022-01-23T09:14:19.269Z"
   },
   {
    "duration": 3,
    "start_time": "2022-01-23T09:14:24.812Z"
   },
   {
    "duration": 1220,
    "start_time": "2022-01-23T09:14:25.028Z"
   },
   {
    "duration": 32,
    "start_time": "2022-01-23T09:14:26.250Z"
   },
   {
    "duration": 5,
    "start_time": "2022-01-23T09:14:26.283Z"
   },
   {
    "duration": 3,
    "start_time": "2022-01-23T09:14:32.644Z"
   },
   {
    "duration": 852,
    "start_time": "2022-01-23T09:14:32.869Z"
   },
   {
    "duration": 43,
    "start_time": "2022-01-23T09:14:33.723Z"
   },
   {
    "duration": 5,
    "start_time": "2022-01-23T09:14:33.768Z"
   },
   {
    "duration": 3,
    "start_time": "2022-01-23T09:15:42.562Z"
   },
   {
    "duration": 408,
    "start_time": "2022-01-23T09:15:42.900Z"
   },
   {
    "duration": 34,
    "start_time": "2022-01-23T09:15:43.309Z"
   },
   {
    "duration": 5,
    "start_time": "2022-01-23T09:15:43.563Z"
   },
   {
    "duration": 3,
    "start_time": "2022-01-23T09:15:48.402Z"
   },
   {
    "duration": 436,
    "start_time": "2022-01-23T09:15:48.659Z"
   },
   {
    "duration": 43,
    "start_time": "2022-01-23T09:15:49.098Z"
   },
   {
    "duration": 6,
    "start_time": "2022-01-23T09:15:49.219Z"
   },
   {
    "duration": 3,
    "start_time": "2022-01-23T09:15:55.906Z"
   },
   {
    "duration": 445,
    "start_time": "2022-01-23T09:15:56.211Z"
   },
   {
    "duration": 28,
    "start_time": "2022-01-23T09:15:56.658Z"
   },
   {
    "duration": 6,
    "start_time": "2022-01-23T09:15:56.719Z"
   },
   {
    "duration": 3,
    "start_time": "2022-01-23T09:16:02.466Z"
   },
   {
    "duration": 475,
    "start_time": "2022-01-23T09:16:02.715Z"
   },
   {
    "duration": 29,
    "start_time": "2022-01-23T09:16:03.192Z"
   },
   {
    "duration": 5,
    "start_time": "2022-01-23T09:16:03.276Z"
   },
   {
    "duration": 3,
    "start_time": "2022-01-23T09:16:07.914Z"
   },
   {
    "duration": 516,
    "start_time": "2022-01-23T09:16:08.155Z"
   },
   {
    "duration": 30,
    "start_time": "2022-01-23T09:16:08.673Z"
   },
   {
    "duration": 5,
    "start_time": "2022-01-23T09:16:08.705Z"
   },
   {
    "duration": 3,
    "start_time": "2022-01-23T09:16:14.122Z"
   },
   {
    "duration": 525,
    "start_time": "2022-01-23T09:16:14.394Z"
   },
   {
    "duration": 38,
    "start_time": "2022-01-23T09:16:14.921Z"
   },
   {
    "duration": 4,
    "start_time": "2022-01-23T09:16:14.962Z"
   },
   {
    "duration": 3,
    "start_time": "2022-01-23T09:16:30.026Z"
   },
   {
    "duration": 615,
    "start_time": "2022-01-23T09:16:30.258Z"
   },
   {
    "duration": 30,
    "start_time": "2022-01-23T09:16:30.875Z"
   },
   {
    "duration": 5,
    "start_time": "2022-01-23T09:16:30.907Z"
   },
   {
    "duration": 3,
    "start_time": "2022-01-23T09:16:35.929Z"
   },
   {
    "duration": 568,
    "start_time": "2022-01-23T09:16:36.210Z"
   },
   {
    "duration": 32,
    "start_time": "2022-01-23T09:16:36.780Z"
   },
   {
    "duration": 7,
    "start_time": "2022-01-23T09:16:36.814Z"
   },
   {
    "duration": 3,
    "start_time": "2022-01-23T09:16:43.833Z"
   },
   {
    "duration": 585,
    "start_time": "2022-01-23T09:16:44.090Z"
   },
   {
    "duration": 32,
    "start_time": "2022-01-23T09:16:44.677Z"
   },
   {
    "duration": 7,
    "start_time": "2022-01-23T09:16:44.710Z"
   },
   {
    "duration": 3,
    "start_time": "2022-01-23T09:16:49.522Z"
   },
   {
    "duration": 617,
    "start_time": "2022-01-23T09:16:49.746Z"
   },
   {
    "duration": 32,
    "start_time": "2022-01-23T09:16:50.365Z"
   },
   {
    "duration": 5,
    "start_time": "2022-01-23T09:16:50.399Z"
   },
   {
    "duration": 3,
    "start_time": "2022-01-23T09:16:58.057Z"
   },
   {
    "duration": 645,
    "start_time": "2022-01-23T09:16:58.314Z"
   },
   {
    "duration": 33,
    "start_time": "2022-01-23T09:16:58.961Z"
   },
   {
    "duration": 5,
    "start_time": "2022-01-23T09:16:58.996Z"
   },
   {
    "duration": 3,
    "start_time": "2022-01-23T09:17:06.416Z"
   },
   {
    "duration": 663,
    "start_time": "2022-01-23T09:17:06.666Z"
   },
   {
    "duration": 37,
    "start_time": "2022-01-23T09:17:07.331Z"
   },
   {
    "duration": 7,
    "start_time": "2022-01-23T09:17:07.370Z"
   },
   {
    "duration": 2,
    "start_time": "2022-01-23T09:17:12.409Z"
   },
   {
    "duration": 676,
    "start_time": "2022-01-23T09:17:12.658Z"
   },
   {
    "duration": 34,
    "start_time": "2022-01-23T09:17:13.336Z"
   },
   {
    "duration": 7,
    "start_time": "2022-01-23T09:17:13.372Z"
   },
   {
    "duration": 3,
    "start_time": "2022-01-23T09:17:18.576Z"
   },
   {
    "duration": 705,
    "start_time": "2022-01-23T09:17:18.793Z"
   },
   {
    "duration": 41,
    "start_time": "2022-01-23T09:17:19.500Z"
   },
   {
    "duration": 6,
    "start_time": "2022-01-23T09:17:19.543Z"
   },
   {
    "duration": 3,
    "start_time": "2022-01-23T09:17:24.208Z"
   },
   {
    "duration": 701,
    "start_time": "2022-01-23T09:17:24.425Z"
   },
   {
    "duration": 39,
    "start_time": "2022-01-23T09:17:25.127Z"
   },
   {
    "duration": 5,
    "start_time": "2022-01-23T09:17:25.168Z"
   },
   {
    "duration": 3,
    "start_time": "2022-01-23T09:17:29.872Z"
   },
   {
    "duration": 737,
    "start_time": "2022-01-23T09:17:30.097Z"
   },
   {
    "duration": 35,
    "start_time": "2022-01-23T09:17:30.841Z"
   },
   {
    "duration": 5,
    "start_time": "2022-01-23T09:17:30.878Z"
   },
   {
    "duration": 2,
    "start_time": "2022-01-23T09:17:35.944Z"
   },
   {
    "duration": 773,
    "start_time": "2022-01-23T09:17:36.169Z"
   },
   {
    "duration": 34,
    "start_time": "2022-01-23T09:17:36.944Z"
   },
   {
    "duration": 6,
    "start_time": "2022-01-23T09:17:36.980Z"
   },
   {
    "duration": 3,
    "start_time": "2022-01-23T09:17:42.835Z"
   },
   {
    "duration": 808,
    "start_time": "2022-01-23T09:17:42.840Z"
   },
   {
    "duration": 34,
    "start_time": "2022-01-23T09:17:43.651Z"
   },
   {
    "duration": 6,
    "start_time": "2022-01-23T09:17:43.686Z"
   },
   {
    "duration": 4,
    "start_time": "2022-01-23T09:17:50.284Z"
   },
   {
    "duration": 808,
    "start_time": "2022-01-23T09:17:50.512Z"
   },
   {
    "duration": 40,
    "start_time": "2022-01-23T09:17:51.322Z"
   },
   {
    "duration": 5,
    "start_time": "2022-01-23T09:17:51.364Z"
   },
   {
    "duration": 3,
    "start_time": "2022-01-23T09:17:56.248Z"
   },
   {
    "duration": 822,
    "start_time": "2022-01-23T09:17:56.465Z"
   },
   {
    "duration": 33,
    "start_time": "2022-01-23T09:17:57.289Z"
   },
   {
    "duration": 18,
    "start_time": "2022-01-23T09:17:57.323Z"
   },
   {
    "duration": 3,
    "start_time": "2022-01-23T09:18:04.255Z"
   },
   {
    "duration": 576,
    "start_time": "2022-01-23T09:18:04.480Z"
   },
   {
    "duration": 34,
    "start_time": "2022-01-23T09:18:05.058Z"
   },
   {
    "duration": 5,
    "start_time": "2022-01-23T09:18:05.094Z"
   },
   {
    "duration": 205,
    "start_time": "2022-01-23T09:18:11.176Z"
   },
   {
    "duration": 8,
    "start_time": "2022-01-23T09:18:11.415Z"
   },
   {
    "duration": 3,
    "start_time": "2022-01-23T09:18:11.646Z"
   },
   {
    "duration": 157,
    "start_time": "2022-01-23T09:18:11.873Z"
   },
   {
    "duration": 32,
    "start_time": "2022-01-23T09:18:12.122Z"
   },
   {
    "duration": 5,
    "start_time": "2022-01-23T09:18:12.361Z"
   },
   {
    "duration": 236,
    "start_time": "2022-01-23T09:18:17.023Z"
   },
   {
    "duration": 6,
    "start_time": "2022-01-23T09:18:17.261Z"
   },
   {
    "duration": 3,
    "start_time": "2022-01-23T09:18:17.447Z"
   },
   {
    "duration": 180,
    "start_time": "2022-01-23T09:18:17.670Z"
   },
   {
    "duration": 31,
    "start_time": "2022-01-23T09:18:17.879Z"
   },
   {
    "duration": 6,
    "start_time": "2022-01-23T09:18:18.111Z"
   },
   {
    "duration": 257,
    "start_time": "2022-01-23T09:22:46.490Z"
   },
   {
    "duration": 6,
    "start_time": "2022-01-23T09:22:46.813Z"
   },
   {
    "duration": 3,
    "start_time": "2022-01-23T09:22:47.115Z"
   },
   {
    "duration": 204,
    "start_time": "2022-01-23T09:22:47.427Z"
   },
   {
    "duration": 30,
    "start_time": "2022-01-23T09:22:47.709Z"
   },
   {
    "duration": 6,
    "start_time": "2022-01-23T09:22:48.179Z"
   },
   {
    "duration": 267,
    "start_time": "2022-01-23T09:22:55.482Z"
   },
   {
    "duration": 6,
    "start_time": "2022-01-23T09:22:55.751Z"
   },
   {
    "duration": 3,
    "start_time": "2022-01-23T09:22:56.002Z"
   },
   {
    "duration": 228,
    "start_time": "2022-01-23T09:22:56.219Z"
   },
   {
    "duration": 32,
    "start_time": "2022-01-23T09:22:56.502Z"
   },
   {
    "duration": 6,
    "start_time": "2022-01-23T09:22:56.795Z"
   },
   {
    "duration": 298,
    "start_time": "2022-01-23T09:23:01.634Z"
   },
   {
    "duration": 10,
    "start_time": "2022-01-23T09:23:01.934Z"
   },
   {
    "duration": 3,
    "start_time": "2022-01-23T09:23:02.194Z"
   },
   {
    "duration": 266,
    "start_time": "2022-01-23T09:23:02.452Z"
   },
   {
    "duration": 36,
    "start_time": "2022-01-23T09:23:02.813Z"
   },
   {
    "duration": 6,
    "start_time": "2022-01-23T09:23:04.060Z"
   },
   {
    "duration": 317,
    "start_time": "2022-01-23T09:23:09.395Z"
   },
   {
    "duration": 6,
    "start_time": "2022-01-23T09:23:09.714Z"
   },
   {
    "duration": 3,
    "start_time": "2022-01-23T09:23:09.874Z"
   },
   {
    "duration": 281,
    "start_time": "2022-01-23T09:23:10.107Z"
   },
   {
    "duration": 32,
    "start_time": "2022-01-23T09:23:10.390Z"
   },
   {
    "duration": 6,
    "start_time": "2022-01-23T09:23:10.634Z"
   },
   {
    "duration": 348,
    "start_time": "2022-01-23T09:23:15.586Z"
   },
   {
    "duration": 8,
    "start_time": "2022-01-23T09:23:15.936Z"
   },
   {
    "duration": 3,
    "start_time": "2022-01-23T09:23:16.083Z"
   },
   {
    "duration": 304,
    "start_time": "2022-01-23T09:23:16.363Z"
   },
   {
    "duration": 32,
    "start_time": "2022-01-23T09:23:16.669Z"
   },
   {
    "duration": 5,
    "start_time": "2022-01-23T09:23:16.956Z"
   },
   {
    "duration": 426,
    "start_time": "2022-01-23T09:23:21.985Z"
   },
   {
    "duration": 6,
    "start_time": "2022-01-23T09:23:22.413Z"
   },
   {
    "duration": 3,
    "start_time": "2022-01-23T09:23:22.490Z"
   },
   {
    "duration": 331,
    "start_time": "2022-01-23T09:23:22.715Z"
   },
   {
    "duration": 30,
    "start_time": "2022-01-23T09:23:23.048Z"
   },
   {
    "duration": 5,
    "start_time": "2022-01-23T09:23:23.238Z"
   },
   {
    "duration": 382,
    "start_time": "2022-01-23T09:23:29.121Z"
   },
   {
    "duration": 6,
    "start_time": "2022-01-23T09:23:29.505Z"
   },
   {
    "duration": 3,
    "start_time": "2022-01-23T09:23:29.649Z"
   },
   {
    "duration": 350,
    "start_time": "2022-01-23T09:23:29.914Z"
   },
   {
    "duration": 32,
    "start_time": "2022-01-23T09:23:30.266Z"
   },
   {
    "duration": 6,
    "start_time": "2022-01-23T09:23:30.466Z"
   },
   {
    "duration": 412,
    "start_time": "2022-01-23T09:23:35.873Z"
   },
   {
    "duration": 6,
    "start_time": "2022-01-23T09:23:36.287Z"
   },
   {
    "duration": 3,
    "start_time": "2022-01-23T09:23:36.404Z"
   },
   {
    "duration": 392,
    "start_time": "2022-01-23T09:23:36.643Z"
   },
   {
    "duration": 34,
    "start_time": "2022-01-23T09:23:37.036Z"
   },
   {
    "duration": 6,
    "start_time": "2022-01-23T09:23:37.179Z"
   },
   {
    "duration": 429,
    "start_time": "2022-01-23T09:23:42.667Z"
   },
   {
    "duration": 6,
    "start_time": "2022-01-23T09:23:43.098Z"
   },
   {
    "duration": 7,
    "start_time": "2022-01-23T09:23:43.106Z"
   },
   {
    "duration": 386,
    "start_time": "2022-01-23T09:23:43.305Z"
   },
   {
    "duration": 31,
    "start_time": "2022-01-23T09:23:43.693Z"
   },
   {
    "duration": 6,
    "start_time": "2022-01-23T09:23:43.835Z"
   },
   {
    "duration": 656,
    "start_time": "2022-01-23T09:23:49.025Z"
   },
   {
    "duration": 8,
    "start_time": "2022-01-23T09:23:49.684Z"
   },
   {
    "duration": 3,
    "start_time": "2022-01-23T09:23:49.695Z"
   },
   {
    "duration": 411,
    "start_time": "2022-01-23T09:23:49.790Z"
   },
   {
    "duration": 40,
    "start_time": "2022-01-23T09:23:50.203Z"
   },
   {
    "duration": 6,
    "start_time": "2022-01-23T09:23:50.309Z"
   },
   {
    "duration": 459,
    "start_time": "2022-01-23T09:23:55.761Z"
   },
   {
    "duration": 6,
    "start_time": "2022-01-23T09:23:56.222Z"
   },
   {
    "duration": 3,
    "start_time": "2022-01-23T09:23:56.279Z"
   },
   {
    "duration": 431,
    "start_time": "2022-01-23T09:23:56.538Z"
   },
   {
    "duration": 30,
    "start_time": "2022-01-23T09:23:56.971Z"
   },
   {
    "duration": 7,
    "start_time": "2022-01-23T09:23:57.069Z"
   },
   {
    "duration": 498,
    "start_time": "2022-01-23T09:24:02.161Z"
   },
   {
    "duration": 6,
    "start_time": "2022-01-23T09:24:02.661Z"
   },
   {
    "duration": 32,
    "start_time": "2022-01-23T09:24:02.669Z"
   },
   {
    "duration": 473,
    "start_time": "2022-01-23T09:24:02.875Z"
   },
   {
    "duration": 32,
    "start_time": "2022-01-23T09:24:03.350Z"
   },
   {
    "duration": 6,
    "start_time": "2022-01-23T09:24:03.414Z"
   },
   {
    "duration": 507,
    "start_time": "2022-01-23T09:24:12.168Z"
   },
   {
    "duration": 6,
    "start_time": "2022-01-23T09:24:12.677Z"
   },
   {
    "duration": 19,
    "start_time": "2022-01-23T09:24:12.685Z"
   },
   {
    "duration": 480,
    "start_time": "2022-01-23T09:24:12.921Z"
   },
   {
    "duration": 40,
    "start_time": "2022-01-23T09:24:13.403Z"
   },
   {
    "duration": 6,
    "start_time": "2022-01-23T09:24:13.478Z"
   },
   {
    "duration": 530,
    "start_time": "2022-01-23T09:24:18.825Z"
   },
   {
    "duration": 8,
    "start_time": "2022-01-23T09:24:19.357Z"
   },
   {
    "duration": 3,
    "start_time": "2022-01-23T09:24:19.367Z"
   },
   {
    "duration": 540,
    "start_time": "2022-01-23T09:24:19.505Z"
   },
   {
    "duration": 33,
    "start_time": "2022-01-23T09:24:20.048Z"
   },
   {
    "duration": 7,
    "start_time": "2022-01-23T09:24:20.083Z"
   },
   {
    "duration": 553,
    "start_time": "2022-01-23T09:24:24.872Z"
   },
   {
    "duration": 16,
    "start_time": "2022-01-23T09:24:25.427Z"
   },
   {
    "duration": 3,
    "start_time": "2022-01-23T09:24:25.445Z"
   },
   {
    "duration": 523,
    "start_time": "2022-01-23T09:24:25.547Z"
   },
   {
    "duration": 30,
    "start_time": "2022-01-23T09:24:26.072Z"
   },
   {
    "duration": 7,
    "start_time": "2022-01-23T09:24:26.105Z"
   },
   {
    "duration": 560,
    "start_time": "2022-01-23T09:24:38.993Z"
   },
   {
    "duration": 7,
    "start_time": "2022-01-23T09:24:39.555Z"
   },
   {
    "duration": 25,
    "start_time": "2022-01-23T09:24:39.565Z"
   },
   {
    "duration": 550,
    "start_time": "2022-01-23T09:24:39.723Z"
   },
   {
    "duration": 31,
    "start_time": "2022-01-23T09:24:40.274Z"
   },
   {
    "duration": 5,
    "start_time": "2022-01-23T09:24:40.307Z"
   },
   {
    "duration": 570,
    "start_time": "2022-01-23T09:24:53.023Z"
   },
   {
    "duration": 6,
    "start_time": "2022-01-23T09:24:53.594Z"
   },
   {
    "duration": 14,
    "start_time": "2022-01-23T09:24:53.602Z"
   },
   {
    "duration": 552,
    "start_time": "2022-01-23T09:24:53.753Z"
   },
   {
    "duration": 38,
    "start_time": "2022-01-23T09:24:54.307Z"
   },
   {
    "duration": 5,
    "start_time": "2022-01-23T09:24:54.347Z"
   },
   {
    "duration": 714,
    "start_time": "2022-01-23T09:26:23.079Z"
   },
   {
    "duration": 7,
    "start_time": "2022-01-23T09:26:23.795Z"
   },
   {
    "duration": 7,
    "start_time": "2022-01-23T09:26:23.804Z"
   },
   {
    "duration": 576,
    "start_time": "2022-01-23T09:26:23.813Z"
   },
   {
    "duration": 30,
    "start_time": "2022-01-23T09:26:24.391Z"
   },
   {
    "duration": 5,
    "start_time": "2022-01-23T09:26:24.422Z"
   },
   {
    "duration": 602,
    "start_time": "2022-01-23T09:26:29.598Z"
   },
   {
    "duration": 5,
    "start_time": "2022-01-23T09:26:30.202Z"
   },
   {
    "duration": 5,
    "start_time": "2022-01-23T09:26:30.209Z"
   },
   {
    "duration": 597,
    "start_time": "2022-01-23T09:26:30.215Z"
   },
   {
    "duration": 37,
    "start_time": "2022-01-23T09:26:30.814Z"
   },
   {
    "duration": 5,
    "start_time": "2022-01-23T09:26:30.853Z"
   },
   {
    "duration": 721,
    "start_time": "2022-01-23T09:26:37.846Z"
   },
   {
    "duration": 5,
    "start_time": "2022-01-23T09:26:38.569Z"
   },
   {
    "duration": 6,
    "start_time": "2022-01-23T09:26:38.576Z"
   },
   {
    "duration": 591,
    "start_time": "2022-01-23T09:26:38.583Z"
   },
   {
    "duration": 28,
    "start_time": "2022-01-23T09:26:39.176Z"
   },
   {
    "duration": 5,
    "start_time": "2022-01-23T09:26:39.205Z"
   },
   {
    "duration": 659,
    "start_time": "2022-01-23T09:26:44.592Z"
   },
   {
    "duration": 5,
    "start_time": "2022-01-23T09:26:45.253Z"
   },
   {
    "duration": 29,
    "start_time": "2022-01-23T09:26:45.259Z"
   },
   {
    "duration": 653,
    "start_time": "2022-01-23T09:26:45.289Z"
   },
   {
    "duration": 30,
    "start_time": "2022-01-23T09:26:45.945Z"
   },
   {
    "duration": 19,
    "start_time": "2022-01-23T09:26:45.976Z"
   },
   {
    "duration": 728,
    "start_time": "2022-01-23T09:26:51.381Z"
   },
   {
    "duration": 6,
    "start_time": "2022-01-23T09:26:52.111Z"
   },
   {
    "duration": 28,
    "start_time": "2022-01-23T09:26:52.119Z"
   },
   {
    "duration": 711,
    "start_time": "2022-01-23T09:26:52.149Z"
   },
   {
    "duration": 28,
    "start_time": "2022-01-23T09:26:52.862Z"
   },
   {
    "duration": 6,
    "start_time": "2022-01-23T09:26:52.892Z"
   },
   {
    "duration": 723,
    "start_time": "2022-01-23T09:26:58.461Z"
   },
   {
    "duration": 5,
    "start_time": "2022-01-23T09:26:59.186Z"
   },
   {
    "duration": 4,
    "start_time": "2022-01-23T09:26:59.193Z"
   },
   {
    "duration": 716,
    "start_time": "2022-01-23T09:26:59.198Z"
   },
   {
    "duration": 42,
    "start_time": "2022-01-23T09:26:59.916Z"
   },
   {
    "duration": 6,
    "start_time": "2022-01-23T09:26:59.960Z"
   },
   {
    "duration": 727,
    "start_time": "2022-01-23T09:27:05.982Z"
   },
   {
    "duration": 5,
    "start_time": "2022-01-23T09:27:06.711Z"
   },
   {
    "duration": 24,
    "start_time": "2022-01-23T09:27:06.718Z"
   },
   {
    "duration": 702,
    "start_time": "2022-01-23T09:27:06.744Z"
   },
   {
    "duration": 31,
    "start_time": "2022-01-23T09:27:07.448Z"
   },
   {
    "duration": 23,
    "start_time": "2022-01-23T09:27:07.482Z"
   },
   {
    "duration": 818,
    "start_time": "2022-01-23T09:27:12.205Z"
   },
   {
    "duration": 5,
    "start_time": "2022-01-23T09:27:13.032Z"
   },
   {
    "duration": 37,
    "start_time": "2022-01-23T09:27:13.040Z"
   },
   {
    "duration": 776,
    "start_time": "2022-01-23T09:27:13.078Z"
   },
   {
    "duration": 30,
    "start_time": "2022-01-23T09:27:13.855Z"
   },
   {
    "duration": 23,
    "start_time": "2022-01-23T09:27:13.886Z"
   },
   {
    "duration": 928,
    "start_time": "2022-01-23T09:27:19.038Z"
   },
   {
    "duration": 7,
    "start_time": "2022-01-23T09:27:19.969Z"
   },
   {
    "duration": 38,
    "start_time": "2022-01-23T09:27:19.979Z"
   },
   {
    "duration": 802,
    "start_time": "2022-01-23T09:27:20.019Z"
   },
   {
    "duration": 37,
    "start_time": "2022-01-23T09:27:20.823Z"
   },
   {
    "duration": 27,
    "start_time": "2022-01-23T09:27:20.863Z"
   },
   {
    "duration": 885,
    "start_time": "2022-01-23T09:27:26.212Z"
   },
   {
    "duration": 8,
    "start_time": "2022-01-23T09:27:27.099Z"
   },
   {
    "duration": 39,
    "start_time": "2022-01-23T09:27:27.109Z"
   },
   {
    "duration": 838,
    "start_time": "2022-01-23T09:27:27.150Z"
   },
   {
    "duration": 30,
    "start_time": "2022-01-23T09:27:27.989Z"
   },
   {
    "duration": 20,
    "start_time": "2022-01-23T09:27:28.021Z"
   },
   {
    "duration": 958,
    "start_time": "2022-01-23T09:27:33.996Z"
   },
   {
    "duration": 7,
    "start_time": "2022-01-23T09:27:34.956Z"
   },
   {
    "duration": 40,
    "start_time": "2022-01-23T09:27:34.965Z"
   },
   {
    "duration": 859,
    "start_time": "2022-01-23T09:27:35.008Z"
   },
   {
    "duration": 36,
    "start_time": "2022-01-23T09:27:35.869Z"
   },
   {
    "duration": 5,
    "start_time": "2022-01-23T09:27:35.906Z"
   },
   {
    "duration": 936,
    "start_time": "2022-01-23T09:27:41.196Z"
   },
   {
    "duration": 8,
    "start_time": "2022-01-23T09:27:42.133Z"
   },
   {
    "duration": 3,
    "start_time": "2022-01-23T09:27:42.648Z"
   },
   {
    "duration": 828,
    "start_time": "2022-01-23T09:27:42.653Z"
   },
   {
    "duration": 29,
    "start_time": "2022-01-23T09:27:43.483Z"
   },
   {
    "duration": 5,
    "start_time": "2022-01-23T09:27:43.513Z"
   },
   {
    "duration": 1035,
    "start_time": "2022-01-23T09:27:49.954Z"
   },
   {
    "duration": 5,
    "start_time": "2022-01-23T09:27:50.991Z"
   },
   {
    "duration": 5,
    "start_time": "2022-01-23T09:27:50.998Z"
   },
   {
    "duration": 1115,
    "start_time": "2022-01-23T09:27:51.005Z"
   },
   {
    "duration": 39,
    "start_time": "2022-01-23T09:27:52.121Z"
   },
   {
    "duration": 5,
    "start_time": "2022-01-23T09:27:52.162Z"
   },
   {
    "duration": 668,
    "start_time": "2022-01-23T09:28:02.737Z"
   },
   {
    "duration": 6,
    "start_time": "2022-01-23T09:28:03.406Z"
   },
   {
    "duration": 3,
    "start_time": "2022-01-23T09:28:04.946Z"
   },
   {
    "duration": 582,
    "start_time": "2022-01-23T09:28:05.202Z"
   },
   {
    "duration": 30,
    "start_time": "2022-01-23T09:28:05.787Z"
   },
   {
    "duration": 5,
    "start_time": "2022-01-23T09:28:05.820Z"
   },
   {
    "duration": 606,
    "start_time": "2022-01-23T09:28:33.673Z"
   },
   {
    "duration": 6,
    "start_time": "2022-01-23T09:28:34.281Z"
   },
   {
    "duration": 5,
    "start_time": "2022-01-23T09:28:34.289Z"
   },
   {
    "duration": 575,
    "start_time": "2022-01-23T09:28:34.440Z"
   },
   {
    "duration": 38,
    "start_time": "2022-01-23T09:28:35.017Z"
   },
   {
    "duration": 5,
    "start_time": "2022-01-23T09:28:35.057Z"
   },
   {
    "duration": 544,
    "start_time": "2022-01-23T09:28:42.721Z"
   },
   {
    "duration": 6,
    "start_time": "2022-01-23T09:28:43.267Z"
   },
   {
    "duration": 7,
    "start_time": "2022-01-23T09:28:43.275Z"
   },
   {
    "duration": 520,
    "start_time": "2022-01-23T09:28:43.408Z"
   },
   {
    "duration": 38,
    "start_time": "2022-01-23T09:28:43.930Z"
   },
   {
    "duration": 6,
    "start_time": "2022-01-23T09:28:43.970Z"
   },
   {
    "duration": 570,
    "start_time": "2022-01-23T09:32:14.604Z"
   },
   {
    "duration": 7,
    "start_time": "2022-01-23T09:32:15.175Z"
   },
   {
    "duration": 3,
    "start_time": "2022-01-23T09:32:15.467Z"
   },
   {
    "duration": 2904,
    "start_time": "2022-01-23T09:32:15.955Z"
   },
   {
    "duration": 45,
    "start_time": "2022-01-23T09:32:18.862Z"
   },
   {
    "duration": 6,
    "start_time": "2022-01-23T09:32:18.909Z"
   },
   {
    "duration": 233,
    "start_time": "2022-01-23T09:32:49.827Z"
   },
   {
    "duration": 7,
    "start_time": "2022-01-23T09:32:50.243Z"
   },
   {
    "duration": 287,
    "start_time": "2022-01-23T09:32:57.306Z"
   },
   {
    "duration": 6,
    "start_time": "2022-01-23T09:32:58.122Z"
   },
   {
    "duration": 4,
    "start_time": "2022-01-23T09:33:05.459Z"
   },
   {
    "duration": 247,
    "start_time": "2022-01-23T09:33:05.810Z"
   },
   {
    "duration": 32,
    "start_time": "2022-01-23T09:33:06.090Z"
   },
   {
    "duration": 7,
    "start_time": "2022-01-23T09:33:06.506Z"
   },
   {
    "duration": 4,
    "start_time": "2022-01-23T09:33:13.177Z"
   },
   {
    "duration": 1069,
    "start_time": "2022-01-23T09:33:13.451Z"
   },
   {
    "duration": 66,
    "start_time": "2022-01-23T09:33:14.522Z"
   },
   {
    "duration": 6,
    "start_time": "2022-01-23T09:33:14.590Z"
   },
   {
    "duration": 4,
    "start_time": "2022-01-23T09:33:21.474Z"
   },
   {
    "duration": 2227,
    "start_time": "2022-01-23T09:33:21.746Z"
   },
   {
    "duration": 75,
    "start_time": "2022-01-23T09:33:23.975Z"
   },
   {
    "duration": 6,
    "start_time": "2022-01-23T09:33:24.052Z"
   },
   {
    "duration": 565,
    "start_time": "2022-01-23T09:49:22.030Z"
   },
   {
    "duration": 6,
    "start_time": "2022-01-23T09:49:22.597Z"
   },
   {
    "duration": 3,
    "start_time": "2022-01-23T09:49:22.787Z"
   },
   {
    "duration": 4609,
    "start_time": "2022-01-23T09:49:23.395Z"
   },
   {
    "duration": 68,
    "start_time": "2022-01-23T09:49:28.006Z"
   },
   {
    "duration": 5,
    "start_time": "2022-01-23T09:49:28.075Z"
   },
   {
    "duration": 3,
    "start_time": "2022-01-23T09:49:36.771Z"
   },
   {
    "duration": 861,
    "start_time": "2022-01-23T09:49:37.067Z"
   },
   {
    "duration": 37,
    "start_time": "2022-01-23T09:49:37.930Z"
   },
   {
    "duration": 5,
    "start_time": "2022-01-23T09:49:37.970Z"
   },
   {
    "duration": 3,
    "start_time": "2022-01-23T09:50:05.983Z"
   },
   {
    "duration": 46,
    "start_time": "2022-01-23T09:50:05.988Z"
   },
   {
    "duration": 20,
    "start_time": "2022-01-23T09:50:06.036Z"
   },
   {
    "duration": 6,
    "start_time": "2022-01-23T09:50:06.058Z"
   },
   {
    "duration": 3,
    "start_time": "2022-01-23T09:50:06.066Z"
   },
   {
    "duration": 15,
    "start_time": "2022-01-23T09:50:06.071Z"
   },
   {
    "duration": 210,
    "start_time": "2022-01-23T09:50:06.088Z"
   },
   {
    "duration": 3,
    "start_time": "2022-01-23T09:50:06.300Z"
   },
   {
    "duration": 48,
    "start_time": "2022-01-23T09:50:06.305Z"
   },
   {
    "duration": 165,
    "start_time": "2022-01-23T09:50:06.355Z"
   },
   {
    "duration": 72,
    "start_time": "2022-01-23T09:50:06.521Z"
   },
   {
    "duration": 4,
    "start_time": "2022-01-23T09:50:06.594Z"
   },
   {
    "duration": 4,
    "start_time": "2022-01-23T09:50:06.600Z"
   },
   {
    "duration": 4,
    "start_time": "2022-01-23T09:50:06.606Z"
   },
   {
    "duration": 3,
    "start_time": "2022-01-23T09:50:06.612Z"
   },
   {
    "duration": 25,
    "start_time": "2022-01-23T09:50:06.616Z"
   },
   {
    "duration": 18,
    "start_time": "2022-01-23T09:50:06.643Z"
   },
   {
    "duration": 3,
    "start_time": "2022-01-23T09:50:06.662Z"
   },
   {
    "duration": 12,
    "start_time": "2022-01-23T09:50:06.669Z"
   },
   {
    "duration": 9,
    "start_time": "2022-01-23T09:50:06.684Z"
   },
   {
    "duration": 15,
    "start_time": "2022-01-23T09:50:06.694Z"
   },
   {
    "duration": 9,
    "start_time": "2022-01-23T09:50:06.711Z"
   },
   {
    "duration": 21,
    "start_time": "2022-01-23T09:50:06.722Z"
   },
   {
    "duration": 6,
    "start_time": "2022-01-23T09:50:06.745Z"
   },
   {
    "duration": 9,
    "start_time": "2022-01-23T09:50:06.753Z"
   },
   {
    "duration": 360,
    "start_time": "2022-01-23T09:50:06.763Z"
   },
   {
    "duration": 117,
    "start_time": "2022-01-23T09:50:07.125Z"
   },
   {
    "duration": 97,
    "start_time": "2022-01-23T09:50:07.244Z"
   },
   {
    "duration": 11,
    "start_time": "2022-01-23T09:50:07.343Z"
   },
   {
    "duration": 332,
    "start_time": "2022-01-23T09:50:07.356Z"
   },
   {
    "duration": 29,
    "start_time": "2022-01-23T09:50:07.690Z"
   },
   {
    "duration": 21,
    "start_time": "2022-01-23T09:50:07.721Z"
   },
   {
    "duration": 2,
    "start_time": "2022-01-23T09:50:07.744Z"
   },
   {
    "duration": 225,
    "start_time": "2022-01-23T09:50:07.748Z"
   },
   {
    "duration": 34,
    "start_time": "2022-01-23T09:50:07.974Z"
   },
   {
    "duration": 12,
    "start_time": "2022-01-23T09:50:08.009Z"
   },
   {
    "duration": 55,
    "start_time": "2022-01-23T09:50:08.022Z"
   },
   {
    "duration": 444,
    "start_time": "2022-01-23T09:50:08.078Z"
   },
   {
    "duration": 7,
    "start_time": "2022-01-23T09:50:08.525Z"
   },
   {
    "duration": 43,
    "start_time": "2022-01-23T09:50:08.541Z"
   },
   {
    "duration": 971,
    "start_time": "2022-01-23T09:50:08.586Z"
   },
   {
    "duration": 83,
    "start_time": "2022-01-23T09:50:09.558Z"
   },
   {
    "duration": 8,
    "start_time": "2022-01-23T09:50:09.643Z"
   },
   {
    "duration": 120,
    "start_time": "2022-01-23T09:50:09.653Z"
   },
   {
    "duration": 101,
    "start_time": "2022-01-23T09:50:09.841Z"
   },
   {
    "duration": 49,
    "start_time": "2022-01-23T09:50:09.944Z"
   },
   {
    "duration": 51,
    "start_time": "2022-01-23T09:50:09.995Z"
   },
   {
    "duration": 330,
    "start_time": "2022-01-23T09:50:10.047Z"
   },
   {
    "duration": 6,
    "start_time": "2022-01-23T09:50:10.378Z"
   },
   {
    "duration": 39,
    "start_time": "2022-01-23T09:50:10.386Z"
   },
   {
    "duration": 615,
    "start_time": "2022-01-23T09:50:10.427Z"
   },
   {
    "duration": 30,
    "start_time": "2022-01-23T09:50:11.044Z"
   },
   {
    "duration": 42,
    "start_time": "2022-01-23T09:50:11.075Z"
   },
   {
    "duration": 81,
    "start_time": "2022-01-23T09:50:11.119Z"
   },
   {
    "duration": 9,
    "start_time": "2022-01-23T09:50:11.204Z"
   },
   {
    "duration": 71,
    "start_time": "2022-01-23T09:50:11.215Z"
   },
   {
    "duration": 33,
    "start_time": "2022-01-23T09:50:11.288Z"
   },
   {
    "duration": 599,
    "start_time": "2022-01-23T09:50:11.322Z"
   },
   {
    "duration": 6,
    "start_time": "2022-01-23T09:50:11.923Z"
   },
   {
    "duration": 66,
    "start_time": "2022-01-23T09:50:11.930Z"
   },
   {
    "duration": 912,
    "start_time": "2022-01-23T09:50:11.998Z"
   },
   {
    "duration": 42,
    "start_time": "2022-01-23T09:50:12.911Z"
   },
   {
    "duration": 5,
    "start_time": "2022-01-23T09:50:12.954Z"
   },
   {
    "duration": 3,
    "start_time": "2022-01-23T09:51:02.577Z"
   },
   {
    "duration": 808,
    "start_time": "2022-01-23T09:51:02.841Z"
   },
   {
    "duration": 33,
    "start_time": "2022-01-23T09:51:03.651Z"
   },
   {
    "duration": 15,
    "start_time": "2022-01-23T09:51:03.686Z"
   },
   {
    "duration": 3,
    "start_time": "2022-01-23T09:51:10.641Z"
   },
   {
    "duration": 739,
    "start_time": "2022-01-23T09:51:10.849Z"
   },
   {
    "duration": 31,
    "start_time": "2022-01-23T09:51:11.590Z"
   },
   {
    "duration": 17,
    "start_time": "2022-01-23T09:51:11.623Z"
   },
   {
    "duration": 2,
    "start_time": "2022-01-23T09:51:17.233Z"
   },
   {
    "duration": 772,
    "start_time": "2022-01-23T09:51:17.464Z"
   },
   {
    "duration": 32,
    "start_time": "2022-01-23T09:51:18.237Z"
   },
   {
    "duration": 5,
    "start_time": "2022-01-23T09:51:18.271Z"
   },
   {
    "duration": 3,
    "start_time": "2022-01-23T09:51:23.497Z"
   },
   {
    "duration": 735,
    "start_time": "2022-01-23T09:51:23.713Z"
   },
   {
    "duration": 31,
    "start_time": "2022-01-23T09:51:24.450Z"
   },
   {
    "duration": 4,
    "start_time": "2022-01-23T09:51:24.483Z"
   },
   {
    "duration": 3,
    "start_time": "2022-01-23T09:51:29.832Z"
   },
   {
    "duration": 784,
    "start_time": "2022-01-23T09:51:30.049Z"
   },
   {
    "duration": 34,
    "start_time": "2022-01-23T09:51:30.835Z"
   },
   {
    "duration": 7,
    "start_time": "2022-01-23T09:51:30.871Z"
   },
   {
    "duration": 3,
    "start_time": "2022-01-23T09:51:35.936Z"
   },
   {
    "duration": 719,
    "start_time": "2022-01-23T09:51:36.144Z"
   },
   {
    "duration": 32,
    "start_time": "2022-01-23T09:51:36.865Z"
   },
   {
    "duration": 5,
    "start_time": "2022-01-23T09:51:36.899Z"
   },
   {
    "duration": 3,
    "start_time": "2022-01-23T09:51:44.920Z"
   },
   {
    "duration": 723,
    "start_time": "2022-01-23T09:51:45.120Z"
   },
   {
    "duration": 34,
    "start_time": "2022-01-23T09:51:45.844Z"
   },
   {
    "duration": 5,
    "start_time": "2022-01-23T09:51:45.879Z"
   },
   {
    "duration": 3,
    "start_time": "2022-01-23T09:51:51.176Z"
   },
   {
    "duration": 662,
    "start_time": "2022-01-23T09:51:51.384Z"
   },
   {
    "duration": 34,
    "start_time": "2022-01-23T09:51:52.048Z"
   },
   {
    "duration": 6,
    "start_time": "2022-01-23T09:51:52.085Z"
   },
   {
    "duration": 3,
    "start_time": "2022-01-23T09:51:57.296Z"
   },
   {
    "duration": 854,
    "start_time": "2022-01-23T09:51:57.512Z"
   },
   {
    "duration": 40,
    "start_time": "2022-01-23T09:51:58.368Z"
   },
   {
    "duration": 6,
    "start_time": "2022-01-23T09:51:58.411Z"
   },
   {
    "duration": 2,
    "start_time": "2022-01-23T09:52:08.112Z"
   },
   {
    "duration": 645,
    "start_time": "2022-01-23T09:52:08.327Z"
   },
   {
    "duration": 32,
    "start_time": "2022-01-23T09:52:08.974Z"
   },
   {
    "duration": 4,
    "start_time": "2022-01-23T09:52:09.008Z"
   },
   {
    "duration": 3,
    "start_time": "2022-01-23T09:52:14.879Z"
   },
   {
    "duration": 616,
    "start_time": "2022-01-23T09:52:15.087Z"
   },
   {
    "duration": 41,
    "start_time": "2022-01-23T09:52:15.705Z"
   },
   {
    "duration": 5,
    "start_time": "2022-01-23T09:52:15.748Z"
   },
   {
    "duration": 3,
    "start_time": "2022-01-23T09:52:27.255Z"
   },
   {
    "duration": 593,
    "start_time": "2022-01-23T09:52:27.487Z"
   },
   {
    "duration": 31,
    "start_time": "2022-01-23T09:52:28.082Z"
   },
   {
    "duration": 5,
    "start_time": "2022-01-23T09:52:28.115Z"
   },
   {
    "duration": 3,
    "start_time": "2022-01-23T09:52:33.552Z"
   },
   {
    "duration": 548,
    "start_time": "2022-01-23T09:52:33.759Z"
   },
   {
    "duration": 44,
    "start_time": "2022-01-23T09:52:34.308Z"
   },
   {
    "duration": 5,
    "start_time": "2022-01-23T09:52:34.354Z"
   },
   {
    "duration": 2,
    "start_time": "2022-01-23T09:52:40.758Z"
   },
   {
    "duration": 586,
    "start_time": "2022-01-23T09:52:40.950Z"
   },
   {
    "duration": 31,
    "start_time": "2022-01-23T09:52:41.541Z"
   },
   {
    "duration": 5,
    "start_time": "2022-01-23T09:52:41.574Z"
   },
   {
    "duration": 253,
    "start_time": "2022-01-23T09:52:51.222Z"
   },
   {
    "duration": 6,
    "start_time": "2022-01-23T09:52:51.477Z"
   },
   {
    "duration": 2,
    "start_time": "2022-01-23T09:52:51.623Z"
   },
   {
    "duration": 227,
    "start_time": "2022-01-23T09:52:51.822Z"
   },
   {
    "duration": 32,
    "start_time": "2022-01-23T09:52:52.051Z"
   },
   {
    "duration": 6,
    "start_time": "2022-01-23T09:52:52.390Z"
   },
   {
    "duration": 227,
    "start_time": "2022-01-23T09:52:59.223Z"
   },
   {
    "duration": 6,
    "start_time": "2022-01-23T09:52:59.451Z"
   },
   {
    "duration": 3,
    "start_time": "2022-01-23T09:52:59.638Z"
   },
   {
    "duration": 207,
    "start_time": "2022-01-23T09:52:59.846Z"
   },
   {
    "duration": 33,
    "start_time": "2022-01-23T09:53:00.070Z"
   },
   {
    "duration": 5,
    "start_time": "2022-01-23T09:53:00.280Z"
   },
   {
    "duration": 251,
    "start_time": "2022-01-23T09:53:04.854Z"
   },
   {
    "duration": 7,
    "start_time": "2022-01-23T09:53:05.107Z"
   },
   {
    "duration": 3,
    "start_time": "2022-01-23T09:53:05.270Z"
   },
   {
    "duration": 232,
    "start_time": "2022-01-23T09:53:05.478Z"
   },
   {
    "duration": 48,
    "start_time": "2022-01-23T09:53:05.712Z"
   },
   {
    "duration": 5,
    "start_time": "2022-01-23T09:53:05.898Z"
   },
   {
    "duration": 272,
    "start_time": "2022-01-23T09:53:10.550Z"
   },
   {
    "duration": 8,
    "start_time": "2022-01-23T09:53:10.824Z"
   },
   {
    "duration": 2,
    "start_time": "2022-01-23T09:53:10.967Z"
   },
   {
    "duration": 248,
    "start_time": "2022-01-23T09:53:11.166Z"
   },
   {
    "duration": 39,
    "start_time": "2022-01-23T09:53:11.417Z"
   },
   {
    "duration": 7,
    "start_time": "2022-01-23T09:53:11.574Z"
   },
   {
    "duration": 297,
    "start_time": "2022-01-23T09:53:16.230Z"
   },
   {
    "duration": 15,
    "start_time": "2022-01-23T09:53:16.529Z"
   },
   {
    "duration": 3,
    "start_time": "2022-01-23T09:53:16.646Z"
   },
   {
    "duration": 287,
    "start_time": "2022-01-23T09:53:16.838Z"
   },
   {
    "duration": 43,
    "start_time": "2022-01-23T09:53:17.127Z"
   },
   {
    "duration": 5,
    "start_time": "2022-01-23T09:53:17.262Z"
   },
   {
    "duration": 338,
    "start_time": "2022-01-23T09:53:22.215Z"
   },
   {
    "duration": 6,
    "start_time": "2022-01-23T09:53:22.555Z"
   },
   {
    "duration": 2,
    "start_time": "2022-01-23T09:53:22.616Z"
   },
   {
    "duration": 308,
    "start_time": "2022-01-23T09:53:22.814Z"
   },
   {
    "duration": 33,
    "start_time": "2022-01-23T09:53:23.124Z"
   },
   {
    "duration": 5,
    "start_time": "2022-01-23T09:53:23.239Z"
   },
   {
    "duration": 347,
    "start_time": "2022-01-23T09:53:28.598Z"
   },
   {
    "duration": 6,
    "start_time": "2022-01-23T09:53:28.947Z"
   },
   {
    "duration": 2,
    "start_time": "2022-01-23T09:53:28.993Z"
   },
   {
    "duration": 323,
    "start_time": "2022-01-23T09:53:29.198Z"
   },
   {
    "duration": 40,
    "start_time": "2022-01-23T09:53:29.522Z"
   },
   {
    "duration": 6,
    "start_time": "2022-01-23T09:53:29.615Z"
   },
   {
    "duration": 374,
    "start_time": "2022-01-23T09:53:34.501Z"
   },
   {
    "duration": 6,
    "start_time": "2022-01-23T09:53:34.877Z"
   },
   {
    "duration": 3,
    "start_time": "2022-01-23T09:53:34.901Z"
   },
   {
    "duration": 358,
    "start_time": "2022-01-23T09:53:35.093Z"
   },
   {
    "duration": 30,
    "start_time": "2022-01-23T09:53:35.453Z"
   },
   {
    "duration": 5,
    "start_time": "2022-01-23T09:53:35.540Z"
   },
   {
    "duration": 465,
    "start_time": "2022-01-23T09:53:41.316Z"
   },
   {
    "duration": 6,
    "start_time": "2022-01-23T09:53:42.606Z"
   },
   {
    "duration": 24,
    "start_time": "2022-01-23T09:53:42.614Z"
   },
   {
    "duration": 415,
    "start_time": "2022-01-23T09:53:42.640Z"
   },
   {
    "duration": 32,
    "start_time": "2022-01-23T09:53:43.057Z"
   },
   {
    "duration": 7,
    "start_time": "2022-01-23T09:53:43.091Z"
   },
   {
    "duration": 538,
    "start_time": "2022-01-23T09:53:48.084Z"
   },
   {
    "duration": 6,
    "start_time": "2022-01-23T09:53:48.623Z"
   },
   {
    "duration": 36,
    "start_time": "2022-01-23T09:53:48.631Z"
   },
   {
    "duration": 447,
    "start_time": "2022-01-23T09:53:48.705Z"
   },
   {
    "duration": 37,
    "start_time": "2022-01-23T09:53:49.154Z"
   },
   {
    "duration": 6,
    "start_time": "2022-01-23T09:53:49.194Z"
   },
   {
    "duration": 417,
    "start_time": "2022-01-23T09:53:53.950Z"
   },
   {
    "duration": 6,
    "start_time": "2022-01-23T09:53:54.369Z"
   },
   {
    "duration": 25,
    "start_time": "2022-01-23T09:53:54.377Z"
   },
   {
    "duration": 519,
    "start_time": "2022-01-23T09:53:54.549Z"
   },
   {
    "duration": 32,
    "start_time": "2022-01-23T09:53:55.070Z"
   },
   {
    "duration": 5,
    "start_time": "2022-01-23T09:53:55.104Z"
   },
   {
    "duration": 522,
    "start_time": "2022-01-23T09:54:01.384Z"
   },
   {
    "duration": 7,
    "start_time": "2022-01-23T09:54:01.908Z"
   },
   {
    "duration": 39,
    "start_time": "2022-01-23T09:54:01.917Z"
   },
   {
    "duration": 496,
    "start_time": "2022-01-23T09:54:01.993Z"
   },
   {
    "duration": 34,
    "start_time": "2022-01-23T09:54:02.491Z"
   },
   {
    "duration": 14,
    "start_time": "2022-01-23T09:54:02.527Z"
   },
   {
    "duration": 464,
    "start_time": "2022-01-23T09:54:09.253Z"
   },
   {
    "duration": 8,
    "start_time": "2022-01-23T09:54:09.719Z"
   },
   {
    "duration": 13,
    "start_time": "2022-01-23T09:54:09.729Z"
   },
   {
    "duration": 486,
    "start_time": "2022-01-23T09:54:09.862Z"
   },
   {
    "duration": 33,
    "start_time": "2022-01-23T09:54:10.350Z"
   },
   {
    "duration": 5,
    "start_time": "2022-01-23T09:54:10.385Z"
   },
   {
    "duration": 582,
    "start_time": "2022-01-23T09:54:15.109Z"
   },
   {
    "duration": 7,
    "start_time": "2022-01-23T09:54:15.693Z"
   },
   {
    "duration": 19,
    "start_time": "2022-01-23T09:54:15.702Z"
   },
   {
    "duration": 529,
    "start_time": "2022-01-23T09:54:15.725Z"
   },
   {
    "duration": 33,
    "start_time": "2022-01-23T09:54:16.256Z"
   },
   {
    "duration": 5,
    "start_time": "2022-01-23T09:54:16.291Z"
   },
   {
    "duration": 497,
    "start_time": "2022-01-23T09:54:21.389Z"
   },
   {
    "duration": 6,
    "start_time": "2022-01-23T09:54:21.888Z"
   },
   {
    "duration": 8,
    "start_time": "2022-01-23T09:54:21.895Z"
   },
   {
    "duration": 538,
    "start_time": "2022-01-23T09:54:21.991Z"
   },
   {
    "duration": 36,
    "start_time": "2022-01-23T09:54:22.531Z"
   },
   {
    "duration": 5,
    "start_time": "2022-01-23T09:54:22.569Z"
   },
   {
    "duration": 561,
    "start_time": "2022-01-23T09:54:28.831Z"
   },
   {
    "duration": 6,
    "start_time": "2022-01-23T09:54:29.394Z"
   },
   {
    "duration": 4,
    "start_time": "2022-01-23T09:54:29.402Z"
   },
   {
    "duration": 560,
    "start_time": "2022-01-23T09:54:29.429Z"
   },
   {
    "duration": 31,
    "start_time": "2022-01-23T09:54:29.991Z"
   },
   {
    "duration": 5,
    "start_time": "2022-01-23T09:54:30.024Z"
   },
   {
    "duration": 582,
    "start_time": "2022-01-23T09:54:35.525Z"
   },
   {
    "duration": 7,
    "start_time": "2022-01-23T09:54:36.109Z"
   },
   {
    "duration": 4,
    "start_time": "2022-01-23T09:54:36.118Z"
   },
   {
    "duration": 605,
    "start_time": "2022-01-23T09:54:36.131Z"
   },
   {
    "duration": 31,
    "start_time": "2022-01-23T09:54:36.741Z"
   },
   {
    "duration": 15,
    "start_time": "2022-01-23T09:54:36.774Z"
   },
   {
    "duration": 572,
    "start_time": "2022-01-23T09:54:48.718Z"
   },
   {
    "duration": 5,
    "start_time": "2022-01-23T09:54:49.292Z"
   },
   {
    "duration": 16,
    "start_time": "2022-01-23T09:54:49.299Z"
   },
   {
    "duration": 639,
    "start_time": "2022-01-23T09:54:49.358Z"
   },
   {
    "duration": 42,
    "start_time": "2022-01-23T09:54:49.999Z"
   },
   {
    "duration": 5,
    "start_time": "2022-01-23T09:54:50.043Z"
   },
   {
    "duration": 593,
    "start_time": "2022-01-23T09:54:57.750Z"
   },
   {
    "duration": 6,
    "start_time": "2022-01-23T09:54:58.345Z"
   },
   {
    "duration": 3,
    "start_time": "2022-01-23T09:54:58.353Z"
   },
   {
    "duration": 667,
    "start_time": "2022-01-23T09:54:58.358Z"
   },
   {
    "duration": 36,
    "start_time": "2022-01-23T09:54:59.027Z"
   },
   {
    "duration": 5,
    "start_time": "2022-01-23T09:54:59.065Z"
   },
   {
    "duration": 721,
    "start_time": "2022-01-23T09:55:04.925Z"
   },
   {
    "duration": 6,
    "start_time": "2022-01-23T09:55:05.648Z"
   },
   {
    "duration": 27,
    "start_time": "2022-01-23T09:55:05.655Z"
   },
   {
    "duration": 750,
    "start_time": "2022-01-23T09:55:05.683Z"
   },
   {
    "duration": 37,
    "start_time": "2022-01-23T09:55:06.435Z"
   },
   {
    "duration": 6,
    "start_time": "2022-01-23T09:55:06.474Z"
   },
   {
    "duration": 560,
    "start_time": "2022-01-23T09:55:16.972Z"
   },
   {
    "duration": 10,
    "start_time": "2022-01-23T09:55:17.534Z"
   },
   {
    "duration": 28,
    "start_time": "2022-01-23T09:55:17.545Z"
   },
   {
    "duration": 595,
    "start_time": "2022-01-23T09:55:17.607Z"
   },
   {
    "duration": 37,
    "start_time": "2022-01-23T09:55:18.204Z"
   },
   {
    "duration": 10,
    "start_time": "2022-01-23T09:55:18.243Z"
   },
   {
    "duration": 3,
    "start_time": "2022-01-23T09:55:26.227Z"
   },
   {
    "duration": 21837,
    "start_time": "2022-01-23T09:55:26.435Z"
   },
   {
    "duration": 175,
    "start_time": "2022-01-23T09:55:48.273Z"
   },
   {
    "duration": 4,
    "start_time": "2022-01-23T09:55:48.450Z"
   },
   {
    "duration": 4,
    "start_time": "2022-01-23T09:56:02.058Z"
   },
   {
    "duration": 43772,
    "start_time": "2022-01-23T09:56:02.291Z"
   },
   {
    "duration": 329,
    "start_time": "2022-01-23T09:56:46.065Z"
   },
   {
    "duration": 5,
    "start_time": "2022-01-23T09:56:46.396Z"
   },
   {
    "duration": 3,
    "start_time": "2022-01-23T09:57:00.217Z"
   },
   {
    "duration": 2609439,
    "start_time": "2022-01-23T09:57:00.658Z"
   },
   {
    "duration": 612,
    "start_time": "2022-01-23T10:40:29.488Z"
   },
   {
    "duration": 607,
    "start_time": "2022-01-23T10:40:29.495Z"
   },
   {
    "duration": 665,
    "start_time": "2022-01-23T10:40:43.752Z"
   },
   {
    "duration": 6,
    "start_time": "2022-01-23T10:40:44.419Z"
   },
   {
    "duration": 3,
    "start_time": "2022-01-23T10:40:44.646Z"
   },
   {
    "duration": 3950,
    "start_time": "2022-01-23T10:40:45.126Z"
   },
   {
    "duration": 44,
    "start_time": "2022-01-23T10:40:49.078Z"
   },
   {
    "duration": 17,
    "start_time": "2022-01-23T10:40:49.124Z"
   },
   {
    "duration": 569,
    "start_time": "2022-01-23T10:41:11.470Z"
   },
   {
    "duration": 6,
    "start_time": "2022-01-23T10:41:12.041Z"
   },
   {
    "duration": 63,
    "start_time": "2022-01-23T10:41:12.254Z"
   },
   {
    "duration": 3992,
    "start_time": "2022-01-23T10:41:12.589Z"
   },
   {
    "duration": 57,
    "start_time": "2022-01-23T10:41:16.584Z"
   },
   {
    "duration": 7,
    "start_time": "2022-01-23T10:41:16.643Z"
   },
   {
    "duration": 626,
    "start_time": "2022-01-23T10:41:26.605Z"
   },
   {
    "duration": 10,
    "start_time": "2022-01-23T10:41:27.233Z"
   },
   {
    "duration": 3,
    "start_time": "2022-01-23T10:41:27.278Z"
   },
   {
    "duration": 590,
    "start_time": "2022-01-23T10:41:27.613Z"
   },
   {
    "duration": 46,
    "start_time": "2022-01-23T10:41:28.205Z"
   },
   {
    "duration": 6,
    "start_time": "2022-01-23T10:41:28.501Z"
   },
   {
    "duration": 293,
    "start_time": "2022-01-23T10:42:03.948Z"
   },
   {
    "duration": 8,
    "start_time": "2022-01-23T10:42:04.379Z"
   },
   {
    "duration": 3,
    "start_time": "2022-01-23T10:42:04.780Z"
   },
   {
    "duration": 271,
    "start_time": "2022-01-23T10:42:05.188Z"
   },
   {
    "duration": 36,
    "start_time": "2022-01-23T10:42:05.556Z"
   },
   {
    "duration": 7,
    "start_time": "2022-01-23T10:42:05.972Z"
   },
   {
    "duration": 3,
    "start_time": "2022-01-23T10:42:17.827Z"
   },
   {
    "duration": 186,
    "start_time": "2022-01-23T10:42:18.356Z"
   },
   {
    "duration": 32,
    "start_time": "2022-01-23T10:42:18.716Z"
   },
   {
    "duration": 6,
    "start_time": "2022-01-23T10:42:19.420Z"
   },
   {
    "duration": 3,
    "start_time": "2022-01-23T10:42:25.043Z"
   },
   {
    "duration": 181,
    "start_time": "2022-01-23T10:42:25.355Z"
   },
   {
    "duration": 30,
    "start_time": "2022-01-23T10:42:25.606Z"
   },
   {
    "duration": 5,
    "start_time": "2022-01-23T10:42:25.844Z"
   },
   {
    "duration": 3,
    "start_time": "2022-01-23T10:42:30.948Z"
   },
   {
    "duration": 194,
    "start_time": "2022-01-23T10:42:31.163Z"
   },
   {
    "duration": 31,
    "start_time": "2022-01-23T10:42:31.397Z"
   },
   {
    "duration": 6,
    "start_time": "2022-01-23T10:42:31.635Z"
   },
   {
    "duration": 3,
    "start_time": "2022-01-23T10:42:36.434Z"
   },
   {
    "duration": 212,
    "start_time": "2022-01-23T10:42:36.659Z"
   },
   {
    "duration": 37,
    "start_time": "2022-01-23T10:42:36.874Z"
   },
   {
    "duration": 7,
    "start_time": "2022-01-23T10:42:37.091Z"
   },
   {
    "duration": 2,
    "start_time": "2022-01-23T10:42:41.596Z"
   },
   {
    "duration": 205,
    "start_time": "2022-01-23T10:42:41.819Z"
   },
   {
    "duration": 29,
    "start_time": "2022-01-23T10:42:42.034Z"
   },
   {
    "duration": 6,
    "start_time": "2022-01-23T10:42:42.267Z"
   },
   {
    "duration": 3,
    "start_time": "2022-01-23T10:42:46.323Z"
   },
   {
    "duration": 221,
    "start_time": "2022-01-23T10:42:46.539Z"
   },
   {
    "duration": 29,
    "start_time": "2022-01-23T10:42:46.762Z"
   },
   {
    "duration": 6,
    "start_time": "2022-01-23T10:42:46.962Z"
   },
   {
    "duration": 3,
    "start_time": "2022-01-23T10:42:51.634Z"
   },
   {
    "duration": 244,
    "start_time": "2022-01-23T10:42:51.835Z"
   },
   {
    "duration": 35,
    "start_time": "2022-01-23T10:42:52.081Z"
   },
   {
    "duration": 6,
    "start_time": "2022-01-23T10:42:52.258Z"
   },
   {
    "duration": 4,
    "start_time": "2022-01-23T10:42:57.187Z"
   },
   {
    "duration": 253,
    "start_time": "2022-01-23T10:42:57.394Z"
   },
   {
    "duration": 30,
    "start_time": "2022-01-23T10:42:57.649Z"
   },
   {
    "duration": 5,
    "start_time": "2022-01-23T10:42:57.827Z"
   },
   {
    "duration": 3,
    "start_time": "2022-01-23T10:43:04.507Z"
   },
   {
    "duration": 293,
    "start_time": "2022-01-23T10:43:04.698Z"
   },
   {
    "duration": 35,
    "start_time": "2022-01-23T10:43:04.993Z"
   },
   {
    "duration": 7,
    "start_time": "2022-01-23T10:43:05.115Z"
   },
   {
    "duration": 5,
    "start_time": "2022-01-23T10:43:15.578Z"
   },
   {
    "duration": 358,
    "start_time": "2022-01-23T10:43:15.793Z"
   },
   {
    "duration": 32,
    "start_time": "2022-01-23T10:43:16.152Z"
   },
   {
    "duration": 5,
    "start_time": "2022-01-23T10:43:16.227Z"
   },
   {
    "duration": 626,
    "start_time": "2022-01-23T10:43:23.426Z"
   },
   {
    "duration": 6,
    "start_time": "2022-01-23T10:43:24.054Z"
   },
   {
    "duration": 12,
    "start_time": "2022-01-23T10:43:24.062Z"
   },
   {
    "duration": 856,
    "start_time": "2022-01-23T10:43:24.201Z"
   },
   {
    "duration": 36,
    "start_time": "2022-01-23T10:43:25.059Z"
   },
   {
    "duration": 6,
    "start_time": "2022-01-23T10:43:25.097Z"
   },
   {
    "duration": 3,
    "start_time": "2022-01-23T10:43:31.986Z"
   },
   {
    "duration": 827,
    "start_time": "2022-01-23T10:43:32.219Z"
   },
   {
    "duration": 34,
    "start_time": "2022-01-23T10:43:33.048Z"
   },
   {
    "duration": 6,
    "start_time": "2022-01-23T10:43:33.084Z"
   },
   {
    "duration": 4,
    "start_time": "2022-01-23T10:43:38.497Z"
   },
   {
    "duration": 616,
    "start_time": "2022-01-23T10:43:38.689Z"
   },
   {
    "duration": 43,
    "start_time": "2022-01-23T10:43:39.307Z"
   },
   {
    "duration": 7,
    "start_time": "2022-01-23T10:43:39.352Z"
   },
   {
    "duration": 35,
    "start_time": "2022-01-23T10:45:20.258Z"
   },
   {
    "duration": 3,
    "start_time": "2022-01-23T10:45:33.073Z"
   },
   {
    "duration": 5,
    "start_time": "2022-01-23T10:45:45.448Z"
   },
   {
    "duration": 4,
    "start_time": "2022-01-23T10:45:57.432Z"
   },
   {
    "duration": 24,
    "start_time": "2022-01-23T10:50:02.917Z"
   },
   {
    "duration": 6,
    "start_time": "2022-01-23T10:50:03.893Z"
   },
   {
    "duration": 30,
    "start_time": "2022-01-23T10:52:40.772Z"
   },
   {
    "duration": 6,
    "start_time": "2022-01-23T10:52:41.714Z"
   },
   {
    "duration": 34,
    "start_time": "2022-01-23T10:54:39.599Z"
   },
   {
    "duration": 5,
    "start_time": "2022-01-23T10:54:40.504Z"
   },
   {
    "duration": 258,
    "start_time": "2022-01-23T11:00:54.878Z"
   },
   {
    "duration": 6,
    "start_time": "2022-01-23T11:00:55.405Z"
   },
   {
    "duration": 3,
    "start_time": "2022-01-23T11:00:57.740Z"
   },
   {
    "duration": 231,
    "start_time": "2022-01-23T11:00:58.204Z"
   },
   {
    "duration": 32,
    "start_time": "2022-01-23T11:00:59.605Z"
   },
   {
    "duration": 6,
    "start_time": "2022-01-23T11:01:02.350Z"
   },
   {
    "duration": 32,
    "start_time": "2022-01-23T11:01:11.604Z"
   },
   {
    "duration": 6,
    "start_time": "2022-01-23T11:01:12.284Z"
   },
   {
    "duration": 537,
    "start_time": "2022-01-23T11:02:34.737Z"
   },
   {
    "duration": 6,
    "start_time": "2022-01-23T11:02:35.275Z"
   },
   {
    "duration": 3,
    "start_time": "2022-01-23T11:02:35.642Z"
   },
   {
    "duration": 572,
    "start_time": "2022-01-23T11:02:35.977Z"
   },
   {
    "duration": 36,
    "start_time": "2022-01-23T11:02:36.551Z"
   },
   {
    "duration": 5,
    "start_time": "2022-01-23T11:02:36.970Z"
   },
   {
    "duration": 518,
    "start_time": "2022-01-23T11:02:42.401Z"
   },
   {
    "duration": 6,
    "start_time": "2022-01-23T11:02:42.921Z"
   },
   {
    "duration": 3,
    "start_time": "2022-01-23T11:02:43.033Z"
   },
   {
    "duration": 578,
    "start_time": "2022-01-23T11:02:43.337Z"
   },
   {
    "duration": 39,
    "start_time": "2022-01-23T11:02:43.916Z"
   },
   {
    "duration": 23,
    "start_time": "2022-01-23T11:02:43.957Z"
   },
   {
    "duration": 492,
    "start_time": "2022-01-23T11:02:52.184Z"
   },
   {
    "duration": 6,
    "start_time": "2022-01-23T11:02:52.678Z"
   },
   {
    "duration": 3,
    "start_time": "2022-01-23T11:02:52.795Z"
   },
   {
    "duration": 554,
    "start_time": "2022-01-23T11:02:53.105Z"
   },
   {
    "duration": 31,
    "start_time": "2022-01-23T11:02:53.660Z"
   },
   {
    "duration": 6,
    "start_time": "2022-01-23T11:02:53.763Z"
   },
   {
    "duration": 509,
    "start_time": "2022-01-23T11:03:01.256Z"
   },
   {
    "duration": 6,
    "start_time": "2022-01-23T11:03:01.767Z"
   },
   {
    "duration": 2,
    "start_time": "2022-01-23T11:03:01.849Z"
   },
   {
    "duration": 520,
    "start_time": "2022-01-23T11:03:02.145Z"
   },
   {
    "duration": 34,
    "start_time": "2022-01-23T11:03:02.666Z"
   },
   {
    "duration": 5,
    "start_time": "2022-01-23T11:03:02.747Z"
   },
   {
    "duration": 31,
    "start_time": "2022-01-23T11:03:11.873Z"
   },
   {
    "duration": 5,
    "start_time": "2022-01-23T11:03:12.353Z"
   },
   {
    "duration": 461,
    "start_time": "2022-01-23T11:03:30.552Z"
   },
   {
    "duration": 8,
    "start_time": "2022-01-23T11:03:31.015Z"
   },
   {
    "duration": 3,
    "start_time": "2022-01-23T11:03:31.592Z"
   },
   {
    "duration": 490,
    "start_time": "2022-01-23T11:03:32.176Z"
   },
   {
    "duration": 31,
    "start_time": "2022-01-23T11:03:33.000Z"
   },
   {
    "duration": 6,
    "start_time": "2022-01-23T11:03:33.592Z"
   },
   {
    "duration": 440,
    "start_time": "2022-01-23T11:03:43.127Z"
   },
   {
    "duration": 7,
    "start_time": "2022-01-23T11:03:43.569Z"
   },
   {
    "duration": 3,
    "start_time": "2022-01-23T11:03:43.618Z"
   },
   {
    "duration": 447,
    "start_time": "2022-01-23T11:03:43.880Z"
   },
   {
    "duration": 34,
    "start_time": "2022-01-23T11:03:44.329Z"
   },
   {
    "duration": 5,
    "start_time": "2022-01-23T11:03:44.433Z"
   },
   {
    "duration": 30,
    "start_time": "2022-01-23T11:03:50.962Z"
   },
   {
    "duration": 5,
    "start_time": "2022-01-23T11:03:51.272Z"
   },
   {
    "duration": 378,
    "start_time": "2022-01-23T11:04:03.847Z"
   },
   {
    "duration": 15,
    "start_time": "2022-01-23T11:04:04.226Z"
   },
   {
    "duration": 3,
    "start_time": "2022-01-23T11:04:04.551Z"
   },
   {
    "duration": 513,
    "start_time": "2022-01-23T11:04:04.872Z"
   },
   {
    "duration": 36,
    "start_time": "2022-01-23T11:04:05.387Z"
   },
   {
    "duration": 38,
    "start_time": "2022-01-23T11:04:12.391Z"
   },
   {
    "duration": 5,
    "start_time": "2022-01-23T11:04:12.920Z"
   },
   {
    "duration": 545,
    "start_time": "2022-01-23T11:04:30.863Z"
   },
   {
    "duration": 6,
    "start_time": "2022-01-23T11:04:31.410Z"
   },
   {
    "duration": 10,
    "start_time": "2022-01-23T11:04:31.417Z"
   },
   {
    "duration": 568,
    "start_time": "2022-01-23T11:04:31.663Z"
   },
   {
    "duration": 36,
    "start_time": "2022-01-23T11:04:32.233Z"
   },
   {
    "duration": 6,
    "start_time": "2022-01-23T11:04:32.639Z"
   },
   {
    "duration": 4,
    "start_time": "2022-01-23T11:06:14.922Z"
   },
   {
    "duration": 29,
    "start_time": "2022-01-23T11:06:14.928Z"
   },
   {
    "duration": 18,
    "start_time": "2022-01-23T11:06:14.958Z"
   },
   {
    "duration": 6,
    "start_time": "2022-01-23T11:06:14.977Z"
   },
   {
    "duration": 6,
    "start_time": "2022-01-23T11:06:14.984Z"
   },
   {
    "duration": 8,
    "start_time": "2022-01-23T11:06:14.992Z"
   },
   {
    "duration": 229,
    "start_time": "2022-01-23T11:06:15.002Z"
   },
   {
    "duration": 3,
    "start_time": "2022-01-23T11:06:15.242Z"
   },
   {
    "duration": 45,
    "start_time": "2022-01-23T11:06:15.246Z"
   },
   {
    "duration": 171,
    "start_time": "2022-01-23T11:06:15.293Z"
   },
   {
    "duration": 65,
    "start_time": "2022-01-23T11:06:15.465Z"
   },
   {
    "duration": 10,
    "start_time": "2022-01-23T11:06:15.532Z"
   },
   {
    "duration": 8,
    "start_time": "2022-01-23T11:06:15.543Z"
   },
   {
    "duration": 5,
    "start_time": "2022-01-23T11:06:15.552Z"
   },
   {
    "duration": 5,
    "start_time": "2022-01-23T11:06:15.558Z"
   },
   {
    "duration": 4,
    "start_time": "2022-01-23T11:06:15.564Z"
   },
   {
    "duration": 7,
    "start_time": "2022-01-23T11:06:15.570Z"
   },
   {
    "duration": 6,
    "start_time": "2022-01-23T11:06:15.578Z"
   },
   {
    "duration": 25,
    "start_time": "2022-01-23T11:06:15.587Z"
   },
   {
    "duration": 12,
    "start_time": "2022-01-23T11:06:15.614Z"
   },
   {
    "duration": 19,
    "start_time": "2022-01-23T11:06:15.627Z"
   },
   {
    "duration": 20,
    "start_time": "2022-01-23T11:06:15.647Z"
   },
   {
    "duration": 17,
    "start_time": "2022-01-23T11:06:15.669Z"
   },
   {
    "duration": 18,
    "start_time": "2022-01-23T11:06:15.687Z"
   },
   {
    "duration": 21,
    "start_time": "2022-01-23T11:06:15.707Z"
   },
   {
    "duration": 362,
    "start_time": "2022-01-23T11:06:15.729Z"
   },
   {
    "duration": 56,
    "start_time": "2022-01-23T11:06:16.092Z"
   },
   {
    "duration": 95,
    "start_time": "2022-01-23T11:06:16.151Z"
   },
   {
    "duration": 3,
    "start_time": "2022-01-23T11:06:16.248Z"
   },
   {
    "duration": 331,
    "start_time": "2022-01-23T11:06:16.252Z"
   },
   {
    "duration": 22,
    "start_time": "2022-01-23T11:06:16.585Z"
   },
   {
    "duration": 6,
    "start_time": "2022-01-23T11:06:16.609Z"
   },
   {
    "duration": 3,
    "start_time": "2022-01-23T11:06:16.617Z"
   },
   {
    "duration": 221,
    "start_time": "2022-01-23T11:06:16.621Z"
   },
   {
    "duration": 23,
    "start_time": "2022-01-23T11:06:16.843Z"
   },
   {
    "duration": 5,
    "start_time": "2022-01-23T11:06:16.868Z"
   },
   {
    "duration": 4,
    "start_time": "2022-01-23T11:06:16.874Z"
   },
   {
    "duration": 393,
    "start_time": "2022-01-23T11:06:16.879Z"
   },
   {
    "duration": 6,
    "start_time": "2022-01-23T11:06:17.274Z"
   },
   {
    "duration": 8,
    "start_time": "2022-01-23T11:06:17.282Z"
   },
   {
    "duration": 922,
    "start_time": "2022-01-23T11:06:17.292Z"
   },
   {
    "duration": 34,
    "start_time": "2022-01-23T11:06:18.215Z"
   },
   {
    "duration": 98,
    "start_time": "2022-01-23T11:06:18.251Z"
   },
   {
    "duration": 101,
    "start_time": "2022-01-23T11:06:18.351Z"
   },
   {
    "duration": 3,
    "start_time": "2022-01-23T11:06:18.454Z"
   },
   {
    "duration": 101,
    "start_time": "2022-01-23T11:06:18.546Z"
   },
   {
    "duration": 5,
    "start_time": "2022-01-23T11:06:18.648Z"
   },
   {
    "duration": 271,
    "start_time": "2022-01-23T11:06:18.654Z"
   },
   {
    "duration": 6,
    "start_time": "2022-01-23T11:06:18.926Z"
   },
   {
    "duration": 3,
    "start_time": "2022-01-23T11:06:18.940Z"
   },
   {
    "duration": 538,
    "start_time": "2022-01-23T11:06:18.945Z"
   },
   {
    "duration": 20,
    "start_time": "2022-01-23T11:06:19.484Z"
   },
   {
    "duration": 5,
    "start_time": "2022-01-23T11:06:19.505Z"
   },
   {
    "duration": 38,
    "start_time": "2022-01-23T11:06:19.511Z"
   },
   {
    "duration": 3,
    "start_time": "2022-01-23T11:06:19.553Z"
   },
   {
    "duration": 21,
    "start_time": "2022-01-23T11:06:19.557Z"
   },
   {
    "duration": 20,
    "start_time": "2022-01-23T11:06:19.579Z"
   },
   {
    "duration": 600,
    "start_time": "2022-01-23T11:06:19.600Z"
   },
   {
    "duration": 7,
    "start_time": "2022-01-23T11:06:20.202Z"
   },
   {
    "duration": 7,
    "start_time": "2022-01-23T11:06:20.211Z"
   },
   {
    "duration": 597,
    "start_time": "2022-01-23T11:06:20.220Z"
   },
   {
    "duration": 34,
    "start_time": "2022-01-23T11:06:20.819Z"
   },
   {
    "duration": 7,
    "start_time": "2022-01-23T11:06:20.855Z"
   },
   {
    "duration": 26,
    "start_time": "2022-01-23T11:06:20.863Z"
   },
   {
    "duration": 3,
    "start_time": "2022-01-23T11:06:20.891Z"
   },
   {
    "duration": 7,
    "start_time": "2022-01-23T11:06:20.895Z"
   },
   {
    "duration": 5,
    "start_time": "2022-01-23T11:06:20.903Z"
   },
   {
    "duration": 45,
    "start_time": "2022-01-23T11:06:20.910Z"
   },
   {
    "duration": 88,
    "start_time": "2022-01-23T11:06:20.957Z"
   },
   {
    "duration": 113,
    "start_time": "2022-01-23T11:06:21.047Z"
   },
   {
    "duration": 5,
    "start_time": "2022-01-23T11:06:21.161Z"
   },
   {
    "duration": 24,
    "start_time": "2022-01-23T11:06:21.167Z"
   },
   {
    "duration": 5,
    "start_time": "2022-01-23T11:06:21.192Z"
   },
   {
    "duration": 16,
    "start_time": "2022-01-23T11:08:34.835Z"
   },
   {
    "duration": 2,
    "start_time": "2022-01-23T11:08:35.379Z"
   },
   {
    "duration": 5,
    "start_time": "2022-01-23T11:08:35.842Z"
   },
   {
    "duration": 3,
    "start_time": "2022-01-23T11:08:36.315Z"
   },
   {
    "duration": 16,
    "start_time": "2022-01-23T11:09:54.321Z"
   },
   {
    "duration": 2,
    "start_time": "2022-01-23T11:09:54.866Z"
   },
   {
    "duration": 4,
    "start_time": "2022-01-23T11:09:55.298Z"
   },
   {
    "duration": 3,
    "start_time": "2022-01-23T11:09:55.730Z"
   },
   {
    "duration": 22,
    "start_time": "2022-01-23T11:13:50.485Z"
   },
   {
    "duration": 2,
    "start_time": "2022-01-23T11:13:50.981Z"
   },
   {
    "duration": 5,
    "start_time": "2022-01-23T11:13:51.635Z"
   },
   {
    "duration": 5,
    "start_time": "2022-01-23T11:14:07.620Z"
   },
   {
    "duration": 24,
    "start_time": "2022-01-23T11:16:22.697Z"
   },
   {
    "duration": 5,
    "start_time": "2022-01-23T11:16:23.560Z"
   },
   {
    "duration": 5,
    "start_time": "2022-01-23T11:16:24.128Z"
   },
   {
    "duration": 4,
    "start_time": "2022-01-23T11:16:24.648Z"
   },
   {
    "duration": 3,
    "start_time": "2022-01-23T11:16:40.050Z"
   },
   {
    "duration": 45,
    "start_time": "2022-01-23T11:16:40.055Z"
   },
   {
    "duration": 21,
    "start_time": "2022-01-23T11:16:40.102Z"
   },
   {
    "duration": 8,
    "start_time": "2022-01-23T11:16:40.124Z"
   },
   {
    "duration": 15,
    "start_time": "2022-01-23T11:16:40.134Z"
   },
   {
    "duration": 24,
    "start_time": "2022-01-23T11:16:40.151Z"
   },
   {
    "duration": 208,
    "start_time": "2022-01-23T11:16:40.178Z"
   },
   {
    "duration": 3,
    "start_time": "2022-01-23T11:16:40.389Z"
   },
   {
    "duration": 71,
    "start_time": "2022-01-23T11:16:40.394Z"
   },
   {
    "duration": 263,
    "start_time": "2022-01-23T11:16:40.467Z"
   },
   {
    "duration": 72,
    "start_time": "2022-01-23T11:16:40.731Z"
   },
   {
    "duration": 3,
    "start_time": "2022-01-23T11:16:40.805Z"
   },
   {
    "duration": 7,
    "start_time": "2022-01-23T11:16:40.810Z"
   },
   {
    "duration": 18,
    "start_time": "2022-01-23T11:16:40.818Z"
   },
   {
    "duration": 18,
    "start_time": "2022-01-23T11:16:40.838Z"
   },
   {
    "duration": 8,
    "start_time": "2022-01-23T11:16:40.857Z"
   },
   {
    "duration": 18,
    "start_time": "2022-01-23T11:16:40.866Z"
   },
   {
    "duration": 6,
    "start_time": "2022-01-23T11:16:40.885Z"
   },
   {
    "duration": 16,
    "start_time": "2022-01-23T11:16:40.895Z"
   },
   {
    "duration": 23,
    "start_time": "2022-01-23T11:16:40.914Z"
   },
   {
    "duration": 20,
    "start_time": "2022-01-23T11:16:40.938Z"
   },
   {
    "duration": 23,
    "start_time": "2022-01-23T11:16:40.960Z"
   },
   {
    "duration": 15,
    "start_time": "2022-01-23T11:16:40.985Z"
   },
   {
    "duration": 19,
    "start_time": "2022-01-23T11:16:41.001Z"
   },
   {
    "duration": 16,
    "start_time": "2022-01-23T11:16:41.021Z"
   },
   {
    "duration": 361,
    "start_time": "2022-01-23T11:16:41.039Z"
   },
   {
    "duration": 42,
    "start_time": "2022-01-23T11:16:41.402Z"
   },
   {
    "duration": 99,
    "start_time": "2022-01-23T11:16:41.447Z"
   },
   {
    "duration": 8,
    "start_time": "2022-01-23T11:16:41.549Z"
   },
   {
    "duration": 326,
    "start_time": "2022-01-23T11:16:41.642Z"
   },
   {
    "duration": 22,
    "start_time": "2022-01-23T11:16:41.969Z"
   },
   {
    "duration": 5,
    "start_time": "2022-01-23T11:16:41.993Z"
   },
   {
    "duration": 6,
    "start_time": "2022-01-23T11:16:42.000Z"
   },
   {
    "duration": 238,
    "start_time": "2022-01-23T11:16:42.008Z"
   },
   {
    "duration": 25,
    "start_time": "2022-01-23T11:16:42.248Z"
   },
   {
    "duration": 5,
    "start_time": "2022-01-23T11:16:42.275Z"
   },
   {
    "duration": 5,
    "start_time": "2022-01-23T11:16:42.282Z"
   },
   {
    "duration": 423,
    "start_time": "2022-01-23T11:16:42.288Z"
   },
   {
    "duration": 8,
    "start_time": "2022-01-23T11:16:42.713Z"
   },
   {
    "duration": 6,
    "start_time": "2022-01-23T11:16:42.723Z"
   },
   {
    "duration": 989,
    "start_time": "2022-01-23T11:16:42.730Z"
   },
   {
    "duration": 30,
    "start_time": "2022-01-23T11:16:43.720Z"
   },
   {
    "duration": 92,
    "start_time": "2022-01-23T11:16:43.752Z"
   },
   {
    "duration": 109,
    "start_time": "2022-01-23T11:16:43.847Z"
   },
   {
    "duration": 4,
    "start_time": "2022-01-23T11:16:43.958Z"
   },
   {
    "duration": 102,
    "start_time": "2022-01-23T11:16:44.045Z"
   },
   {
    "duration": 8,
    "start_time": "2022-01-23T11:16:44.149Z"
   },
   {
    "duration": 274,
    "start_time": "2022-01-23T11:16:44.158Z"
   },
   {
    "duration": 10,
    "start_time": "2022-01-23T11:16:44.434Z"
   },
   {
    "duration": 13,
    "start_time": "2022-01-23T11:16:44.446Z"
   },
   {
    "duration": 564,
    "start_time": "2022-01-23T11:16:44.460Z"
   },
   {
    "duration": 29,
    "start_time": "2022-01-23T11:16:45.026Z"
   },
   {
    "duration": 5,
    "start_time": "2022-01-23T11:16:45.057Z"
   },
   {
    "duration": 32,
    "start_time": "2022-01-23T11:16:45.063Z"
   },
   {
    "duration": 2,
    "start_time": "2022-01-23T11:16:45.101Z"
   },
   {
    "duration": 8,
    "start_time": "2022-01-23T11:16:45.106Z"
   },
   {
    "duration": 15,
    "start_time": "2022-01-23T11:16:45.115Z"
   },
   {
    "duration": 565,
    "start_time": "2022-01-23T11:16:45.131Z"
   },
   {
    "duration": 6,
    "start_time": "2022-01-23T11:16:45.698Z"
   },
   {
    "duration": 17,
    "start_time": "2022-01-23T11:16:45.705Z"
   },
   {
    "duration": 588,
    "start_time": "2022-01-23T11:16:45.724Z"
   },
   {
    "duration": 32,
    "start_time": "2022-01-23T11:16:46.314Z"
   },
   {
    "duration": 6,
    "start_time": "2022-01-23T11:16:46.347Z"
   },
   {
    "duration": 33,
    "start_time": "2022-01-23T11:16:46.354Z"
   },
   {
    "duration": 3,
    "start_time": "2022-01-23T11:16:46.389Z"
   },
   {
    "duration": 24,
    "start_time": "2022-01-23T11:16:46.394Z"
   },
   {
    "duration": 11,
    "start_time": "2022-01-23T11:16:46.420Z"
   },
   {
    "duration": 40,
    "start_time": "2022-01-23T11:16:46.433Z"
   },
   {
    "duration": 11,
    "start_time": "2022-01-23T11:16:46.541Z"
   },
   {
    "duration": 18,
    "start_time": "2022-01-23T11:16:46.642Z"
   },
   {
    "duration": 81,
    "start_time": "2022-01-23T11:16:46.662Z"
   },
   {
    "duration": 102,
    "start_time": "2022-01-23T11:16:46.745Z"
   },
   {
    "duration": 5,
    "start_time": "2022-01-23T11:16:46.849Z"
   },
   {
    "duration": 26,
    "start_time": "2022-01-23T11:16:46.856Z"
   },
   {
    "duration": 5,
    "start_time": "2022-01-23T11:16:46.883Z"
   },
   {
    "duration": 43,
    "start_time": "2022-01-23T11:16:46.890Z"
   },
   {
    "duration": 7,
    "start_time": "2022-01-23T11:16:46.935Z"
   },
   {
    "duration": 12,
    "start_time": "2022-01-23T11:16:46.944Z"
   },
   {
    "duration": 28,
    "start_time": "2022-01-23T11:16:46.957Z"
   },
   {
    "duration": 39,
    "start_time": "2022-01-23T11:16:46.987Z"
   },
   {
    "duration": 9,
    "start_time": "2022-01-23T11:16:47.028Z"
   },
   {
    "duration": 45,
    "start_time": "2022-01-23T11:16:47.039Z"
   },
   {
    "duration": 2,
    "start_time": "2022-01-23T11:16:47.086Z"
   },
   {
    "duration": 23,
    "start_time": "2022-01-23T11:16:47.090Z"
   },
   {
    "duration": 23,
    "start_time": "2022-01-23T11:16:47.114Z"
   },
   {
    "duration": 4,
    "start_time": "2022-01-23T11:37:12.924Z"
   },
   {
    "duration": 9,
    "start_time": "2022-01-23T11:37:37.331Z"
   },
   {
    "duration": 10,
    "start_time": "2022-01-23T12:02:31.954Z"
   },
   {
    "duration": 9,
    "start_time": "2022-01-23T12:02:57.714Z"
   },
   {
    "duration": 4,
    "start_time": "2022-01-23T12:04:25.074Z"
   },
   {
    "duration": 41,
    "start_time": "2022-01-23T12:04:25.080Z"
   },
   {
    "duration": 21,
    "start_time": "2022-01-23T12:04:25.123Z"
   },
   {
    "duration": 34,
    "start_time": "2022-01-23T12:04:25.145Z"
   },
   {
    "duration": 7,
    "start_time": "2022-01-23T12:04:25.181Z"
   },
   {
    "duration": 29,
    "start_time": "2022-01-23T12:04:25.189Z"
   },
   {
    "duration": 202,
    "start_time": "2022-01-23T12:04:25.221Z"
   },
   {
    "duration": 3,
    "start_time": "2022-01-23T12:04:25.426Z"
   },
   {
    "duration": 68,
    "start_time": "2022-01-23T12:04:25.431Z"
   },
   {
    "duration": 163,
    "start_time": "2022-01-23T12:04:25.501Z"
   },
   {
    "duration": 78,
    "start_time": "2022-01-23T12:04:25.665Z"
   },
   {
    "duration": 4,
    "start_time": "2022-01-23T12:04:25.744Z"
   },
   {
    "duration": 14,
    "start_time": "2022-01-23T12:04:25.750Z"
   },
   {
    "duration": 35,
    "start_time": "2022-01-23T12:04:25.766Z"
   },
   {
    "duration": 22,
    "start_time": "2022-01-23T12:04:25.803Z"
   },
   {
    "duration": 14,
    "start_time": "2022-01-23T12:04:25.826Z"
   },
   {
    "duration": 29,
    "start_time": "2022-01-23T12:04:25.841Z"
   },
   {
    "duration": 9,
    "start_time": "2022-01-23T12:04:25.872Z"
   },
   {
    "duration": 39,
    "start_time": "2022-01-23T12:04:25.882Z"
   },
   {
    "duration": 19,
    "start_time": "2022-01-23T12:04:25.923Z"
   },
   {
    "duration": 24,
    "start_time": "2022-01-23T12:04:25.944Z"
   },
   {
    "duration": 1104,
    "start_time": "2022-01-23T12:34:19.803Z"
   },
   {
    "duration": 31,
    "start_time": "2022-01-23T12:34:20.909Z"
   },
   {
    "duration": 25,
    "start_time": "2022-01-23T12:34:20.943Z"
   },
   {
    "duration": 9,
    "start_time": "2022-01-23T12:34:20.970Z"
   },
   {
    "duration": 5,
    "start_time": "2022-01-23T12:34:20.980Z"
   },
   {
    "duration": 8,
    "start_time": "2022-01-23T12:34:20.987Z"
   },
   {
    "duration": 216,
    "start_time": "2022-01-23T12:34:20.997Z"
   },
   {
    "duration": 3,
    "start_time": "2022-01-23T12:34:21.215Z"
   },
   {
    "duration": 76,
    "start_time": "2022-01-23T12:34:21.221Z"
   },
   {
    "duration": 175,
    "start_time": "2022-01-23T12:34:21.299Z"
   },
   {
    "duration": 78,
    "start_time": "2022-01-23T12:34:21.476Z"
   },
   {
    "duration": 3,
    "start_time": "2022-01-23T12:34:21.556Z"
   },
   {
    "duration": 9,
    "start_time": "2022-01-23T12:34:21.560Z"
   },
   {
    "duration": 5,
    "start_time": "2022-01-23T12:34:21.570Z"
   },
   {
    "duration": 3,
    "start_time": "2022-01-23T12:34:21.576Z"
   },
   {
    "duration": 11,
    "start_time": "2022-01-23T12:34:21.581Z"
   },
   {
    "duration": 14,
    "start_time": "2022-01-23T12:34:21.594Z"
   },
   {
    "duration": 4,
    "start_time": "2022-01-23T12:34:21.610Z"
   },
   {
    "duration": 16,
    "start_time": "2022-01-23T12:34:21.615Z"
   },
   {
    "duration": 16,
    "start_time": "2022-01-23T12:34:21.632Z"
   },
   {
    "duration": 10,
    "start_time": "2022-01-23T12:34:21.650Z"
   },
   {
    "duration": 8,
    "start_time": "2022-01-23T12:34:21.661Z"
   },
   {
    "duration": 9,
    "start_time": "2022-01-23T12:34:21.671Z"
   },
   {
    "duration": 13,
    "start_time": "2022-01-23T12:34:21.681Z"
   },
   {
    "duration": 9,
    "start_time": "2022-01-23T12:34:21.696Z"
   },
   {
    "duration": 5,
    "start_time": "2022-01-23T12:34:21.707Z"
   },
   {
    "duration": 394,
    "start_time": "2022-01-23T12:34:21.716Z"
   },
   {
    "duration": 45,
    "start_time": "2022-01-23T12:34:22.113Z"
   },
   {
    "duration": 8,
    "start_time": "2022-01-23T12:34:22.243Z"
   },
   {
    "duration": 5,
    "start_time": "2022-01-23T12:34:22.342Z"
   },
   {
    "duration": 362,
    "start_time": "2022-01-23T12:34:22.349Z"
   },
   {
    "duration": 44,
    "start_time": "2022-01-23T12:34:22.713Z"
   },
   {
    "duration": 5,
    "start_time": "2022-01-23T12:34:22.759Z"
   },
   {
    "duration": 11,
    "start_time": "2022-01-23T12:34:22.766Z"
   },
   {
    "duration": 242,
    "start_time": "2022-01-23T12:34:22.779Z"
   },
   {
    "duration": 41,
    "start_time": "2022-01-23T12:34:23.023Z"
   },
   {
    "duration": 5,
    "start_time": "2022-01-23T12:34:23.065Z"
   },
   {
    "duration": 5,
    "start_time": "2022-01-23T12:34:23.072Z"
   },
   {
    "duration": 422,
    "start_time": "2022-01-23T12:34:23.079Z"
   },
   {
    "duration": 7,
    "start_time": "2022-01-23T12:34:23.503Z"
   },
   {
    "duration": 9,
    "start_time": "2022-01-23T12:34:23.512Z"
   },
   {
    "duration": 954,
    "start_time": "2022-01-23T12:34:23.522Z"
   },
   {
    "duration": 68,
    "start_time": "2022-01-23T12:34:24.478Z"
   },
   {
    "duration": 93,
    "start_time": "2022-01-23T12:34:24.548Z"
   },
   {
    "duration": 26,
    "start_time": "2022-01-23T12:34:24.643Z"
   },
   {
    "duration": 5,
    "start_time": "2022-01-23T12:34:24.743Z"
   },
   {
    "duration": 98,
    "start_time": "2022-01-23T12:34:24.750Z"
   },
   {
    "duration": 4,
    "start_time": "2022-01-23T12:34:24.850Z"
   },
   {
    "duration": 299,
    "start_time": "2022-01-23T12:34:24.855Z"
   },
   {
    "duration": 6,
    "start_time": "2022-01-23T12:34:25.156Z"
   },
   {
    "duration": 7,
    "start_time": "2022-01-23T12:34:25.164Z"
   },
   {
    "duration": 602,
    "start_time": "2022-01-23T12:34:25.172Z"
   },
   {
    "duration": 29,
    "start_time": "2022-01-23T12:34:25.776Z"
   },
   {
    "duration": 5,
    "start_time": "2022-01-23T12:34:25.807Z"
   },
   {
    "duration": 49,
    "start_time": "2022-01-23T12:34:25.814Z"
   },
   {
    "duration": 5,
    "start_time": "2022-01-23T12:34:25.865Z"
   },
   {
    "duration": 27,
    "start_time": "2022-01-23T12:34:25.872Z"
   },
   {
    "duration": 19,
    "start_time": "2022-01-23T12:34:25.901Z"
   },
   {
    "duration": 571,
    "start_time": "2022-01-23T12:34:25.922Z"
   },
   {
    "duration": 7,
    "start_time": "2022-01-23T12:34:26.495Z"
   },
   {
    "duration": 27,
    "start_time": "2022-01-23T12:34:26.503Z"
   },
   {
    "duration": 637,
    "start_time": "2022-01-23T12:34:26.532Z"
   },
   {
    "duration": 34,
    "start_time": "2022-01-23T12:34:27.171Z"
   },
   {
    "duration": 7,
    "start_time": "2022-01-23T12:34:27.207Z"
   },
   {
    "duration": 55,
    "start_time": "2022-01-23T12:34:27.216Z"
   },
   {
    "duration": 2,
    "start_time": "2022-01-23T12:34:27.273Z"
   },
   {
    "duration": 26,
    "start_time": "2022-01-23T12:34:27.276Z"
   },
   {
    "duration": 17,
    "start_time": "2022-01-23T12:34:27.304Z"
   },
   {
    "duration": 44,
    "start_time": "2022-01-23T12:34:27.323Z"
   },
   {
    "duration": 75,
    "start_time": "2022-01-23T12:34:27.369Z"
   },
   {
    "duration": 140,
    "start_time": "2022-01-23T12:34:27.446Z"
   },
   {
    "duration": 58,
    "start_time": "2022-01-23T12:34:27.589Z"
   },
   {
    "duration": 100,
    "start_time": "2022-01-23T12:34:27.651Z"
   },
   {
    "duration": 33,
    "start_time": "2022-01-23T12:34:27.753Z"
   },
   {
    "duration": 45,
    "start_time": "2022-01-23T12:34:27.788Z"
   },
   {
    "duration": 6,
    "start_time": "2022-01-23T12:34:27.835Z"
   },
   {
    "duration": 44,
    "start_time": "2022-01-23T12:34:27.843Z"
   },
   {
    "duration": 4,
    "start_time": "2022-01-23T12:34:27.888Z"
   },
   {
    "duration": 27,
    "start_time": "2022-01-23T12:34:27.894Z"
   },
   {
    "duration": 26,
    "start_time": "2022-01-23T12:34:27.923Z"
   },
   {
    "duration": 41,
    "start_time": "2022-01-23T12:34:27.955Z"
   },
   {
    "duration": 7,
    "start_time": "2022-01-23T12:34:27.998Z"
   },
   {
    "duration": 35,
    "start_time": "2022-01-23T12:34:28.006Z"
   },
   {
    "duration": 3,
    "start_time": "2022-01-23T12:34:28.043Z"
   },
   {
    "duration": 21,
    "start_time": "2022-01-23T12:34:28.048Z"
   },
   {
    "duration": 17,
    "start_time": "2022-01-23T12:34:28.071Z"
   },
   {
    "duration": 4,
    "start_time": "2022-01-23T13:28:10.312Z"
   },
   {
    "duration": 33,
    "start_time": "2022-01-23T13:28:10.317Z"
   },
   {
    "duration": 29,
    "start_time": "2022-01-23T13:28:10.352Z"
   },
   {
    "duration": 10,
    "start_time": "2022-01-23T13:28:10.383Z"
   },
   {
    "duration": 3,
    "start_time": "2022-01-23T13:28:10.394Z"
   },
   {
    "duration": 8,
    "start_time": "2022-01-23T13:28:10.399Z"
   },
   {
    "duration": 232,
    "start_time": "2022-01-23T13:28:10.409Z"
   },
   {
    "duration": 3,
    "start_time": "2022-01-23T13:28:10.643Z"
   },
   {
    "duration": 53,
    "start_time": "2022-01-23T13:28:10.648Z"
   },
   {
    "duration": 199,
    "start_time": "2022-01-23T13:28:10.703Z"
   },
   {
    "duration": 85,
    "start_time": "2022-01-23T13:28:10.904Z"
   },
   {
    "duration": 4,
    "start_time": "2022-01-23T13:28:10.991Z"
   },
   {
    "duration": 7,
    "start_time": "2022-01-23T13:28:10.997Z"
   },
   {
    "duration": 10,
    "start_time": "2022-01-23T13:28:11.005Z"
   },
   {
    "duration": 6,
    "start_time": "2022-01-23T13:28:11.017Z"
   },
   {
    "duration": 17,
    "start_time": "2022-01-23T13:28:11.025Z"
   },
   {
    "duration": 10,
    "start_time": "2022-01-23T13:28:11.044Z"
   },
   {
    "duration": 4,
    "start_time": "2022-01-23T13:28:11.057Z"
   },
   {
    "duration": 18,
    "start_time": "2022-01-23T13:28:11.063Z"
   },
   {
    "duration": 8,
    "start_time": "2022-01-23T13:28:11.082Z"
   },
   {
    "duration": 15,
    "start_time": "2022-01-23T13:28:11.092Z"
   },
   {
    "duration": 10,
    "start_time": "2022-01-23T13:28:11.109Z"
   },
   {
    "duration": 24,
    "start_time": "2022-01-23T13:28:11.121Z"
   },
   {
    "duration": 15,
    "start_time": "2022-01-23T13:28:11.146Z"
   },
   {
    "duration": 9,
    "start_time": "2022-01-23T13:28:11.162Z"
   },
   {
    "duration": 9,
    "start_time": "2022-01-23T13:28:11.174Z"
   },
   {
    "duration": 378,
    "start_time": "2022-01-23T13:28:11.185Z"
   },
   {
    "duration": 20,
    "start_time": "2022-01-23T13:28:11.565Z"
   },
   {
    "duration": 8,
    "start_time": "2022-01-23T13:28:11.643Z"
   },
   {
    "duration": 92,
    "start_time": "2022-01-23T13:28:11.653Z"
   },
   {
    "duration": 486,
    "start_time": "2022-01-23T13:28:11.747Z"
   },
   {
    "duration": 32,
    "start_time": "2022-01-23T13:28:12.235Z"
   },
   {
    "duration": 6,
    "start_time": "2022-01-23T13:28:12.270Z"
   },
   {
    "duration": 21,
    "start_time": "2022-01-23T13:28:12.278Z"
   },
   {
    "duration": 303,
    "start_time": "2022-01-23T13:28:12.302Z"
   },
   {
    "duration": 25,
    "start_time": "2022-01-23T13:28:12.607Z"
   },
   {
    "duration": 10,
    "start_time": "2022-01-23T13:28:12.633Z"
   },
   {
    "duration": 5,
    "start_time": "2022-01-23T13:28:12.645Z"
   },
   {
    "duration": 392,
    "start_time": "2022-01-23T13:28:12.652Z"
   },
   {
    "duration": 8,
    "start_time": "2022-01-23T13:28:13.046Z"
   },
   {
    "duration": 6,
    "start_time": "2022-01-23T13:28:13.055Z"
   },
   {
    "duration": 973,
    "start_time": "2022-01-23T13:28:13.063Z"
   },
   {
    "duration": 22,
    "start_time": "2022-01-23T13:28:14.041Z"
   },
   {
    "duration": 85,
    "start_time": "2022-01-23T13:28:14.066Z"
   },
   {
    "duration": 112,
    "start_time": "2022-01-23T13:28:14.155Z"
   },
   {
    "duration": 74,
    "start_time": "2022-01-23T13:28:14.269Z"
   },
   {
    "duration": 103,
    "start_time": "2022-01-23T13:28:14.346Z"
   },
   {
    "duration": 11,
    "start_time": "2022-01-23T13:28:14.451Z"
   },
   {
    "duration": 332,
    "start_time": "2022-01-23T13:28:14.464Z"
   },
   {
    "duration": 6,
    "start_time": "2022-01-23T13:28:14.801Z"
   },
   {
    "duration": 3,
    "start_time": "2022-01-23T13:28:14.810Z"
   },
   {
    "duration": 604,
    "start_time": "2022-01-23T13:28:14.815Z"
   },
   {
    "duration": 32,
    "start_time": "2022-01-23T13:28:15.422Z"
   },
   {
    "duration": 7,
    "start_time": "2022-01-23T13:28:15.456Z"
   },
   {
    "duration": 24,
    "start_time": "2022-01-23T13:28:15.465Z"
   },
   {
    "duration": 3,
    "start_time": "2022-01-23T13:28:15.491Z"
   },
   {
    "duration": 7,
    "start_time": "2022-01-23T13:28:15.496Z"
   },
   {
    "duration": 11,
    "start_time": "2022-01-23T13:28:15.505Z"
   },
   {
    "duration": 557,
    "start_time": "2022-01-23T13:28:15.542Z"
   },
   {
    "duration": 7,
    "start_time": "2022-01-23T13:28:16.101Z"
   },
   {
    "duration": 8,
    "start_time": "2022-01-23T13:28:16.110Z"
   },
   {
    "duration": 611,
    "start_time": "2022-01-23T13:28:16.119Z"
   },
   {
    "duration": 29,
    "start_time": "2022-01-23T13:28:16.732Z"
   },
   {
    "duration": 6,
    "start_time": "2022-01-23T13:28:16.763Z"
   },
   {
    "duration": 24,
    "start_time": "2022-01-23T13:28:16.771Z"
   },
   {
    "duration": 3,
    "start_time": "2022-01-23T13:28:16.797Z"
   },
   {
    "duration": 6,
    "start_time": "2022-01-23T13:28:16.802Z"
   },
   {
    "duration": 33,
    "start_time": "2022-01-23T13:28:16.810Z"
   },
   {
    "duration": 95,
    "start_time": "2022-01-23T13:28:16.845Z"
   },
   {
    "duration": 97,
    "start_time": "2022-01-23T13:28:16.943Z"
   },
   {
    "duration": 20,
    "start_time": "2022-01-23T13:28:17.042Z"
   },
   {
    "duration": 87,
    "start_time": "2022-01-23T13:28:17.064Z"
   },
   {
    "duration": 91,
    "start_time": "2022-01-23T13:28:17.154Z"
   },
   {
    "duration": 6,
    "start_time": "2022-01-23T13:28:17.247Z"
   },
   {
    "duration": 25,
    "start_time": "2022-01-23T13:28:17.255Z"
   },
   {
    "duration": 6,
    "start_time": "2022-01-23T13:28:17.282Z"
   },
   {
    "duration": 24,
    "start_time": "2022-01-23T13:28:17.289Z"
   },
   {
    "duration": 2,
    "start_time": "2022-01-23T13:28:17.315Z"
   },
   {
    "duration": 5,
    "start_time": "2022-01-23T13:28:17.342Z"
   },
   {
    "duration": 4,
    "start_time": "2022-01-23T13:28:17.349Z"
   },
   {
    "duration": 27,
    "start_time": "2022-01-23T13:28:17.354Z"
   },
   {
    "duration": 5,
    "start_time": "2022-01-23T13:28:17.383Z"
   },
   {
    "duration": 26,
    "start_time": "2022-01-23T13:28:17.390Z"
   },
   {
    "duration": 23,
    "start_time": "2022-01-23T13:28:17.418Z"
   },
   {
    "duration": 7,
    "start_time": "2022-01-23T13:28:17.443Z"
   },
   {
    "duration": 6,
    "start_time": "2022-01-23T13:28:17.452Z"
   },
   {
    "duration": 4,
    "start_time": "2022-01-23T14:13:09.503Z"
   },
   {
    "duration": 30,
    "start_time": "2022-01-23T14:13:09.509Z"
   },
   {
    "duration": 18,
    "start_time": "2022-01-23T14:13:09.541Z"
   },
   {
    "duration": 6,
    "start_time": "2022-01-23T14:13:09.561Z"
   },
   {
    "duration": 3,
    "start_time": "2022-01-23T14:13:09.569Z"
   },
   {
    "duration": 8,
    "start_time": "2022-01-23T14:13:09.573Z"
   },
   {
    "duration": 212,
    "start_time": "2022-01-23T14:13:09.583Z"
   },
   {
    "duration": 3,
    "start_time": "2022-01-23T14:13:09.797Z"
   },
   {
    "duration": 61,
    "start_time": "2022-01-23T14:13:09.801Z"
   },
   {
    "duration": 157,
    "start_time": "2022-01-23T14:13:09.864Z"
   },
   {
    "duration": 79,
    "start_time": "2022-01-23T14:13:10.022Z"
   },
   {
    "duration": 4,
    "start_time": "2022-01-23T14:13:10.103Z"
   },
   {
    "duration": 13,
    "start_time": "2022-01-23T14:13:10.109Z"
   },
   {
    "duration": 17,
    "start_time": "2022-01-23T14:13:10.124Z"
   },
   {
    "duration": 15,
    "start_time": "2022-01-23T14:13:10.143Z"
   },
   {
    "duration": 9,
    "start_time": "2022-01-23T14:13:10.160Z"
   },
   {
    "duration": 11,
    "start_time": "2022-01-23T14:13:10.170Z"
   },
   {
    "duration": 3,
    "start_time": "2022-01-23T14:13:10.183Z"
   },
   {
    "duration": 15,
    "start_time": "2022-01-23T14:13:10.189Z"
   },
   {
    "duration": 8,
    "start_time": "2022-01-23T14:13:10.206Z"
   },
   {
    "duration": 9,
    "start_time": "2022-01-23T14:13:10.216Z"
   },
   {
    "duration": 8,
    "start_time": "2022-01-23T14:13:10.226Z"
   },
   {
    "duration": 9,
    "start_time": "2022-01-23T14:13:10.236Z"
   },
   {
    "duration": 8,
    "start_time": "2022-01-23T14:13:10.246Z"
   },
   {
    "duration": 10,
    "start_time": "2022-01-23T14:13:10.255Z"
   },
   {
    "duration": 7,
    "start_time": "2022-01-23T14:13:10.266Z"
   },
   {
    "duration": 359,
    "start_time": "2022-01-23T14:13:10.275Z"
   },
   {
    "duration": 17,
    "start_time": "2022-01-23T14:13:10.635Z"
   },
   {
    "duration": 89,
    "start_time": "2022-01-23T14:13:10.653Z"
   },
   {
    "duration": 102,
    "start_time": "2022-01-23T14:13:10.744Z"
   },
   {
    "duration": 304,
    "start_time": "2022-01-23T14:13:10.848Z"
   },
   {
    "duration": 20,
    "start_time": "2022-01-23T14:13:11.154Z"
   },
   {
    "duration": 6,
    "start_time": "2022-01-23T14:13:11.175Z"
   },
   {
    "duration": 3,
    "start_time": "2022-01-23T14:13:11.183Z"
   },
   {
    "duration": 216,
    "start_time": "2022-01-23T14:13:11.188Z"
   },
   {
    "duration": 22,
    "start_time": "2022-01-23T14:13:11.405Z"
   },
   {
    "duration": 14,
    "start_time": "2022-01-23T14:13:11.428Z"
   },
   {
    "duration": 3,
    "start_time": "2022-01-23T14:13:11.443Z"
   },
   {
    "duration": 381,
    "start_time": "2022-01-23T14:13:11.448Z"
   },
   {
    "duration": 12,
    "start_time": "2022-01-23T14:13:11.831Z"
   },
   {
    "duration": 21,
    "start_time": "2022-01-23T14:13:11.844Z"
   },
   {
    "duration": 912,
    "start_time": "2022-01-23T14:13:11.867Z"
   },
   {
    "duration": 60,
    "start_time": "2022-01-23T14:13:12.781Z"
   },
   {
    "duration": 10,
    "start_time": "2022-01-23T14:13:12.843Z"
   },
   {
    "duration": 104,
    "start_time": "2022-01-23T14:13:12.855Z"
   },
   {
    "duration": 81,
    "start_time": "2022-01-23T14:13:12.962Z"
   },
   {
    "duration": 111,
    "start_time": "2022-01-23T14:13:13.045Z"
   },
   {
    "duration": 22,
    "start_time": "2022-01-23T14:13:13.157Z"
   },
   {
    "duration": 266,
    "start_time": "2022-01-23T14:13:13.181Z"
   },
   {
    "duration": 7,
    "start_time": "2022-01-23T14:13:13.448Z"
   },
   {
    "duration": 12,
    "start_time": "2022-01-23T14:13:13.457Z"
   },
   {
    "duration": 561,
    "start_time": "2022-01-23T14:13:13.471Z"
   },
   {
    "duration": 25,
    "start_time": "2022-01-23T14:13:14.034Z"
   },
   {
    "duration": 18,
    "start_time": "2022-01-23T14:13:14.061Z"
   },
   {
    "duration": 24,
    "start_time": "2022-01-23T14:13:14.084Z"
   },
   {
    "duration": 5,
    "start_time": "2022-01-23T14:13:14.110Z"
   },
   {
    "duration": 18,
    "start_time": "2022-01-23T14:13:14.117Z"
   },
   {
    "duration": 16,
    "start_time": "2022-01-23T14:13:14.136Z"
   },
   {
    "duration": 563,
    "start_time": "2022-01-23T14:13:14.154Z"
   },
   {
    "duration": 6,
    "start_time": "2022-01-23T14:13:14.718Z"
   },
   {
    "duration": 5,
    "start_time": "2022-01-23T14:13:14.725Z"
   },
   {
    "duration": 575,
    "start_time": "2022-01-23T14:13:14.731Z"
   },
   {
    "duration": 33,
    "start_time": "2022-01-23T14:13:15.308Z"
   },
   {
    "duration": 5,
    "start_time": "2022-01-23T14:13:15.343Z"
   },
   {
    "duration": 24,
    "start_time": "2022-01-23T14:13:15.350Z"
   },
   {
    "duration": 3,
    "start_time": "2022-01-23T14:13:15.376Z"
   },
   {
    "duration": 11,
    "start_time": "2022-01-23T14:13:15.381Z"
   },
   {
    "duration": 4,
    "start_time": "2022-01-23T14:13:15.394Z"
   },
   {
    "duration": 50,
    "start_time": "2022-01-23T14:13:15.399Z"
   },
   {
    "duration": 98,
    "start_time": "2022-01-23T14:13:15.451Z"
   },
   {
    "duration": 102,
    "start_time": "2022-01-23T14:13:15.552Z"
   },
   {
    "duration": 3,
    "start_time": "2022-01-23T14:13:15.657Z"
   },
   {
    "duration": 80,
    "start_time": "2022-01-23T14:13:15.662Z"
   },
   {
    "duration": 96,
    "start_time": "2022-01-23T14:13:15.745Z"
   },
   {
    "duration": 19,
    "start_time": "2022-01-23T14:13:15.843Z"
   },
   {
    "duration": 5,
    "start_time": "2022-01-23T14:13:15.864Z"
   },
   {
    "duration": 19,
    "start_time": "2022-01-23T14:13:15.870Z"
   },
   {
    "duration": 2,
    "start_time": "2022-01-23T14:13:15.891Z"
   },
   {
    "duration": 6,
    "start_time": "2022-01-23T14:13:15.894Z"
   },
   {
    "duration": 7,
    "start_time": "2022-01-23T14:13:15.901Z"
   },
   {
    "duration": 45,
    "start_time": "2022-01-23T14:13:15.909Z"
   },
   {
    "duration": 5,
    "start_time": "2022-01-23T14:13:15.956Z"
   },
   {
    "duration": 24,
    "start_time": "2022-01-23T14:13:15.962Z"
   },
   {
    "duration": 2,
    "start_time": "2022-01-23T14:13:15.987Z"
   },
   {
    "duration": 11,
    "start_time": "2022-01-23T14:13:15.991Z"
   },
   {
    "duration": 47,
    "start_time": "2022-01-23T14:13:16.003Z"
   },
   {
    "duration": 6,
    "start_time": "2022-01-23T22:40:03.440Z"
   },
   {
    "duration": 51,
    "start_time": "2022-01-23T22:40:03.449Z"
   },
   {
    "duration": 23,
    "start_time": "2022-01-23T22:40:03.502Z"
   },
   {
    "duration": 16,
    "start_time": "2022-01-23T22:40:03.527Z"
   },
   {
    "duration": 27,
    "start_time": "2022-01-23T22:40:03.545Z"
   },
   {
    "duration": 23,
    "start_time": "2022-01-23T22:40:03.574Z"
   },
   {
    "duration": 13,
    "start_time": "2022-01-23T22:40:03.599Z"
   },
   {
    "duration": 18,
    "start_time": "2022-01-23T22:40:03.615Z"
   },
   {
    "duration": 3,
    "start_time": "2022-01-23T22:40:03.635Z"
   },
   {
    "duration": 19,
    "start_time": "2022-01-23T22:40:03.640Z"
   },
   {
    "duration": 17,
    "start_time": "2022-01-23T22:40:03.661Z"
   },
   {
    "duration": 33,
    "start_time": "2022-01-23T22:40:03.680Z"
   },
   {
    "duration": 31,
    "start_time": "2022-01-23T22:40:03.715Z"
   },
   {
    "duration": 19,
    "start_time": "2022-01-23T22:40:03.748Z"
   },
   {
    "duration": 15,
    "start_time": "2022-01-23T22:40:03.769Z"
   },
   {
    "duration": 22,
    "start_time": "2022-01-23T22:40:03.786Z"
   },
   {
    "duration": 15,
    "start_time": "2022-01-23T22:40:03.810Z"
   },
   {
    "duration": 30,
    "start_time": "2022-01-23T22:40:03.827Z"
   },
   {
    "duration": 20,
    "start_time": "2022-01-23T22:40:03.860Z"
   },
   {
    "duration": 31,
    "start_time": "2022-01-23T22:40:03.882Z"
   },
   {
    "duration": 27,
    "start_time": "2022-01-23T22:40:03.915Z"
   },
   {
    "duration": 31,
    "start_time": "2022-01-23T22:40:03.944Z"
   },
   {
    "duration": 33,
    "start_time": "2022-01-23T22:40:03.980Z"
   },
   {
    "duration": 14,
    "start_time": "2022-01-23T22:40:04.016Z"
   },
   {
    "duration": 11,
    "start_time": "2022-01-23T22:40:04.032Z"
   },
   {
    "duration": 13,
    "start_time": "2022-01-23T22:40:04.045Z"
   },
   {
    "duration": 8,
    "start_time": "2022-01-23T22:40:04.060Z"
   },
   {
    "duration": 32,
    "start_time": "2022-01-23T22:40:04.070Z"
   },
   {
    "duration": 13,
    "start_time": "2022-01-23T22:40:04.104Z"
   },
   {
    "duration": 97,
    "start_time": "2022-01-23T22:40:04.120Z"
   },
   {
    "duration": 25,
    "start_time": "2022-01-23T22:40:04.308Z"
   },
   {
    "duration": 34,
    "start_time": "2022-01-23T22:40:04.335Z"
   },
   {
    "duration": 5,
    "start_time": "2022-01-23T22:40:04.371Z"
   },
   {
    "duration": 27,
    "start_time": "2022-01-23T22:40:04.377Z"
   },
   {
    "duration": 10,
    "start_time": "2022-01-23T22:40:04.407Z"
   },
   {
    "duration": 101,
    "start_time": "2022-01-23T22:40:04.419Z"
   },
   {
    "duration": 9,
    "start_time": "2022-01-23T22:40:04.522Z"
   },
   {
    "duration": 31,
    "start_time": "2022-01-23T22:40:04.533Z"
   },
   {
    "duration": 7,
    "start_time": "2022-01-23T22:40:04.567Z"
   },
   {
    "duration": 33,
    "start_time": "2022-01-23T22:40:04.576Z"
   },
   {
    "duration": 10,
    "start_time": "2022-01-23T22:40:04.611Z"
   },
   {
    "duration": 12,
    "start_time": "2022-01-23T22:40:04.623Z"
   },
   {
    "duration": 45,
    "start_time": "2022-01-23T22:40:04.637Z"
   },
   {
    "duration": 30,
    "start_time": "2022-01-23T22:40:04.684Z"
   },
   {
    "duration": 190,
    "start_time": "2022-01-23T22:40:04.717Z"
   },
   {
    "duration": 11,
    "start_time": "2022-01-23T22:40:04.909Z"
   },
   {
    "duration": 85,
    "start_time": "2022-01-23T22:40:04.923Z"
   },
   {
    "duration": 99,
    "start_time": "2022-01-23T22:40:05.012Z"
   },
   {
    "duration": 10,
    "start_time": "2022-01-23T22:40:05.112Z"
   },
   {
    "duration": 24,
    "start_time": "2022-01-23T22:40:05.124Z"
   },
   {
    "duration": 6,
    "start_time": "2022-01-23T22:40:05.151Z"
   },
   {
    "duration": 11,
    "start_time": "2022-01-23T22:40:05.159Z"
   },
   {
    "duration": 36,
    "start_time": "2022-01-23T22:40:05.172Z"
   },
   {
    "duration": 5,
    "start_time": "2022-01-23T22:40:05.210Z"
   },
   {
    "duration": 33,
    "start_time": "2022-01-23T22:40:05.217Z"
   },
   {
    "duration": 35,
    "start_time": "2022-01-23T22:40:05.252Z"
   },
   {
    "duration": 27,
    "start_time": "2022-01-23T22:40:05.288Z"
   },
   {
    "duration": 27,
    "start_time": "2022-01-23T22:40:05.317Z"
   },
   {
    "duration": 27,
    "start_time": "2022-01-23T22:40:05.345Z"
   },
   {
    "duration": 39,
    "start_time": "2022-01-23T22:40:05.374Z"
   },
   {
    "duration": 20,
    "start_time": "2022-01-23T22:40:05.416Z"
   },
   {
    "duration": 23,
    "start_time": "2022-01-23T22:40:05.438Z"
   },
   {
    "duration": 154,
    "start_time": "2022-01-23T22:40:05.463Z"
   },
   {
    "duration": 7,
    "start_time": "2022-01-23T22:40:05.619Z"
   },
   {
    "duration": 10,
    "start_time": "2022-01-23T22:40:05.628Z"
   },
   {
    "duration": 19,
    "start_time": "2022-01-23T22:40:05.640Z"
   },
   {
    "duration": 7,
    "start_time": "2022-01-23T22:40:05.661Z"
   },
   {
    "duration": 9,
    "start_time": "2022-01-23T22:40:05.673Z"
   },
   {
    "duration": 28,
    "start_time": "2022-01-23T22:40:05.684Z"
   },
   {
    "duration": 17,
    "start_time": "2022-01-23T22:40:05.714Z"
   },
   {
    "duration": 182,
    "start_time": "2022-01-23T22:40:05.734Z"
   },
   {
    "duration": 12,
    "start_time": "2022-01-23T22:40:05.918Z"
   },
   {
    "duration": 75,
    "start_time": "2022-01-23T22:40:05.933Z"
   },
   {
    "duration": 96,
    "start_time": "2022-01-23T22:40:06.015Z"
   },
   {
    "duration": 10,
    "start_time": "2022-01-23T22:40:06.113Z"
   },
   {
    "duration": 10,
    "start_time": "2022-01-23T22:40:06.125Z"
   },
   {
    "duration": 13,
    "start_time": "2022-01-23T22:40:06.137Z"
   },
   {
    "duration": 10,
    "start_time": "2022-01-23T22:40:06.152Z"
   },
   {
    "duration": 14,
    "start_time": "2022-01-23T22:40:06.164Z"
   },
   {
    "duration": 15,
    "start_time": "2022-01-23T22:40:06.180Z"
   },
   {
    "duration": 11,
    "start_time": "2022-01-23T22:40:06.197Z"
   },
   {
    "duration": 10,
    "start_time": "2022-01-23T22:40:06.210Z"
   },
   {
    "duration": 15,
    "start_time": "2022-01-23T22:40:06.222Z"
   },
   {
    "duration": 17,
    "start_time": "2022-01-23T22:40:06.239Z"
   },
   {
    "duration": 11,
    "start_time": "2022-01-23T22:40:06.258Z"
   },
   {
    "duration": 21,
    "start_time": "2022-01-23T22:40:06.271Z"
   },
   {
    "duration": 36,
    "start_time": "2022-01-23T22:40:06.294Z"
   },
   {
    "duration": 14,
    "start_time": "2022-01-23T22:42:13.235Z"
   },
   {
    "duration": 7,
    "start_time": "2022-01-23T22:42:13.834Z"
   },
   {
    "duration": 3,
    "start_time": "2022-01-23T22:42:15.763Z"
   },
   {
    "duration": 37,
    "start_time": "2022-01-23T22:42:16.227Z"
   },
   {
    "duration": 41,
    "start_time": "2022-01-23T22:42:17.466Z"
   },
   {
    "duration": 7,
    "start_time": "2022-01-23T22:42:20.306Z"
   },
   {
    "duration": 13,
    "start_time": "2022-01-23T22:42:40.946Z"
   },
   {
    "duration": 7,
    "start_time": "2022-01-23T22:42:41.306Z"
   },
   {
    "duration": 3,
    "start_time": "2022-01-23T22:42:42.026Z"
   },
   {
    "duration": 36,
    "start_time": "2022-01-23T22:42:42.354Z"
   },
   {
    "duration": 5,
    "start_time": "2022-01-23T22:42:44.858Z"
   },
   {
    "duration": 7,
    "start_time": "2022-01-23T22:42:45.338Z"
   },
   {
    "duration": 14,
    "start_time": "2022-01-23T22:43:03.242Z"
   },
   {
    "duration": 8,
    "start_time": "2022-01-23T22:43:04.002Z"
   },
   {
    "duration": 4,
    "start_time": "2022-01-23T22:43:06.387Z"
   },
   {
    "duration": 28,
    "start_time": "2022-01-23T22:43:06.834Z"
   },
   {
    "duration": 13,
    "start_time": "2022-01-23T22:43:07.474Z"
   },
   {
    "duration": 6,
    "start_time": "2022-01-23T22:43:09.649Z"
   },
   {
    "duration": 4,
    "start_time": "2022-01-23T22:43:33.377Z"
   },
   {
    "duration": 30,
    "start_time": "2022-01-23T22:43:37.072Z"
   },
   {
    "duration": 23,
    "start_time": "2022-01-23T22:43:37.938Z"
   },
   {
    "duration": 5,
    "start_time": "2022-01-23T22:43:41.896Z"
   },
   {
    "duration": 8,
    "start_time": "2022-01-23T22:43:42.872Z"
   },
   {
    "duration": 4,
    "start_time": "2022-01-23T22:43:47.249Z"
   },
   {
    "duration": 7,
    "start_time": "2022-01-23T22:43:47.889Z"
   },
   {
    "duration": 14,
    "start_time": "2022-01-23T22:43:52.088Z"
   },
   {
    "duration": 4,
    "start_time": "2022-01-23T22:43:54.001Z"
   },
   {
    "duration": 6,
    "start_time": "2022-01-23T22:43:56.465Z"
   },
   {
    "duration": 7,
    "start_time": "2022-01-23T22:43:58.145Z"
   },
   {
    "duration": 6,
    "start_time": "2022-01-23T22:43:58.808Z"
   },
   {
    "duration": 4,
    "start_time": "2022-01-23T22:44:00.552Z"
   },
   {
    "duration": 4,
    "start_time": "2022-01-23T22:44:03.466Z"
   },
   {
    "duration": 4,
    "start_time": "2022-01-23T22:44:04.064Z"
   },
   {
    "duration": 3,
    "start_time": "2022-01-23T22:44:08.232Z"
   },
   {
    "duration": 3,
    "start_time": "2022-01-23T22:44:11.353Z"
   },
   {
    "duration": 7,
    "start_time": "2022-01-23T22:44:12.336Z"
   },
   {
    "duration": 3,
    "start_time": "2022-01-23T22:44:13.976Z"
   },
   {
    "duration": 12,
    "start_time": "2022-01-23T22:44:16.649Z"
   },
   {
    "duration": 8,
    "start_time": "2022-01-23T22:44:17.393Z"
   },
   {
    "duration": 8,
    "start_time": "2022-01-23T22:44:18.312Z"
   },
   {
    "duration": 6,
    "start_time": "2022-01-23T22:44:24.576Z"
   },
   {
    "duration": 6,
    "start_time": "2022-01-23T22:44:25.536Z"
   },
   {
    "duration": 7,
    "start_time": "2022-01-23T22:44:26.392Z"
   },
   {
    "duration": 6,
    "start_time": "2022-01-23T22:44:29.161Z"
   },
   {
    "duration": 3,
    "start_time": "2022-01-23T22:44:32.783Z"
   },
   {
    "duration": 3,
    "start_time": "2022-01-23T22:44:57.832Z"
   },
   {
    "duration": 17,
    "start_time": "2022-01-23T22:45:11.296Z"
   },
   {
    "duration": 6,
    "start_time": "2022-01-23T22:45:20.159Z"
   },
   {
    "duration": 6,
    "start_time": "2022-01-23T22:45:20.943Z"
   },
   {
    "duration": 3,
    "start_time": "2022-01-23T22:45:51.246Z"
   },
   {
    "duration": 20,
    "start_time": "2022-01-23T22:45:52.479Z"
   },
   {
    "duration": 4,
    "start_time": "2022-01-23T22:45:56.910Z"
   },
   {
    "duration": 7,
    "start_time": "2022-01-23T22:45:57.935Z"
   },
   {
    "duration": 3,
    "start_time": "2022-01-23T22:46:16.326Z"
   },
   {
    "duration": 33,
    "start_time": "2022-01-23T22:46:16.944Z"
   },
   {
    "duration": 4,
    "start_time": "2022-01-23T22:46:17.718Z"
   },
   {
    "duration": 7,
    "start_time": "2022-01-23T22:46:18.799Z"
   },
   {
    "duration": 2,
    "start_time": "2022-01-23T22:46:40.750Z"
   },
   {
    "duration": 29,
    "start_time": "2022-01-23T22:46:41.134Z"
   },
   {
    "duration": 4,
    "start_time": "2022-01-23T22:46:41.558Z"
   },
   {
    "duration": 7,
    "start_time": "2022-01-23T22:46:42.070Z"
   },
   {
    "duration": 3,
    "start_time": "2022-01-23T22:46:51.136Z"
   },
   {
    "duration": 37,
    "start_time": "2022-01-23T22:46:51.454Z"
   },
   {
    "duration": 4,
    "start_time": "2022-01-23T22:46:51.774Z"
   },
   {
    "duration": 6,
    "start_time": "2022-01-23T22:46:52.111Z"
   },
   {
    "duration": 2,
    "start_time": "2022-01-23T22:46:59.118Z"
   },
   {
    "duration": 27,
    "start_time": "2022-01-23T22:46:59.382Z"
   },
   {
    "duration": 4,
    "start_time": "2022-01-23T22:46:59.629Z"
   },
   {
    "duration": 7,
    "start_time": "2022-01-23T22:46:59.902Z"
   },
   {
    "duration": 3,
    "start_time": "2022-01-23T22:47:37.941Z"
   },
   {
    "duration": 98,
    "start_time": "2022-01-23T22:47:38.501Z"
   },
   {
    "duration": 11,
    "start_time": "2022-01-23T22:47:39.471Z"
   },
   {
    "duration": 6,
    "start_time": "2022-01-23T22:47:40.118Z"
   },
   {
    "duration": 4,
    "start_time": "2022-01-23T22:47:48.940Z"
   },
   {
    "duration": 115,
    "start_time": "2022-01-23T22:47:49.285Z"
   },
   {
    "duration": 12,
    "start_time": "2022-01-23T22:47:49.597Z"
   },
   {
    "duration": 6,
    "start_time": "2022-01-23T22:47:49.989Z"
   },
   {
    "duration": 4,
    "start_time": "2022-01-23T22:47:59.284Z"
   },
   {
    "duration": 156,
    "start_time": "2022-01-23T22:47:59.652Z"
   },
   {
    "duration": 13,
    "start_time": "2022-01-23T22:47:59.980Z"
   },
   {
    "duration": 6,
    "start_time": "2022-01-23T22:48:00.413Z"
   },
   {
    "duration": 3,
    "start_time": "2022-01-23T22:48:08.348Z"
   },
   {
    "duration": 498,
    "start_time": "2022-01-23T22:48:08.684Z"
   },
   {
    "duration": 36,
    "start_time": "2022-01-23T22:48:09.183Z"
   },
   {
    "duration": 5,
    "start_time": "2022-01-23T22:48:10.349Z"
   },
   {
    "duration": 3,
    "start_time": "2022-01-23T22:48:20.756Z"
   },
   {
    "duration": 974,
    "start_time": "2022-01-23T22:48:21.076Z"
   },
   {
    "duration": 67,
    "start_time": "2022-01-23T22:48:22.052Z"
   },
   {
    "duration": 6,
    "start_time": "2022-01-23T22:48:22.171Z"
   },
   {
    "duration": 3,
    "start_time": "2022-01-23T22:48:33.531Z"
   },
   {
    "duration": 1566,
    "start_time": "2022-01-23T22:48:33.844Z"
   },
   {
    "duration": 82,
    "start_time": "2022-01-23T22:48:35.411Z"
   },
   {
    "duration": 15,
    "start_time": "2022-01-23T22:48:35.495Z"
   },
   {
    "duration": 3,
    "start_time": "2022-01-23T22:48:43.004Z"
   },
   {
    "duration": 1001,
    "start_time": "2022-01-23T22:48:43.396Z"
   },
   {
    "duration": 62,
    "start_time": "2022-01-23T22:48:44.399Z"
   },
   {
    "duration": 5,
    "start_time": "2022-01-23T22:48:44.464Z"
   },
   {
    "duration": 5,
    "start_time": "2022-01-23T22:49:26.091Z"
   },
   {
    "duration": 13,
    "start_time": "2022-01-23T22:49:30.371Z"
   },
   {
    "duration": 7,
    "start_time": "2022-01-23T22:49:31.525Z"
   },
   {
    "duration": 3,
    "start_time": "2022-01-23T22:49:34.898Z"
   },
   {
    "duration": 29,
    "start_time": "2022-01-23T22:49:37.851Z"
   },
   {
    "duration": 4,
    "start_time": "2022-01-23T22:49:41.762Z"
   },
   {
    "duration": 7,
    "start_time": "2022-01-23T22:49:42.906Z"
   },
   {
    "duration": 31,
    "start_time": "2022-01-23T22:49:58.979Z"
   },
   {
    "duration": 9,
    "start_time": "2022-01-23T22:49:59.298Z"
   },
   {
    "duration": 3,
    "start_time": "2022-01-23T22:49:59.794Z"
   },
   {
    "duration": 117,
    "start_time": "2022-01-23T22:50:00.060Z"
   },
   {
    "duration": 9,
    "start_time": "2022-01-23T22:50:00.345Z"
   },
   {
    "duration": 7,
    "start_time": "2022-01-23T22:50:01.034Z"
   },
   {
    "duration": 13,
    "start_time": "2022-01-23T22:50:08.257Z"
   },
   {
    "duration": 7,
    "start_time": "2022-01-23T22:50:08.675Z"
   },
   {
    "duration": 3,
    "start_time": "2022-01-23T22:50:10.489Z"
   },
   {
    "duration": 29,
    "start_time": "2022-01-23T22:50:10.777Z"
   },
   {
    "duration": 13,
    "start_time": "2022-01-23T22:50:11.090Z"
   },
   {
    "duration": 6,
    "start_time": "2022-01-23T22:50:11.691Z"
   },
   {
    "duration": 5,
    "start_time": "2022-01-23T22:50:24.305Z"
   },
   {
    "duration": 3,
    "start_time": "2022-01-23T22:50:24.673Z"
   },
   {
    "duration": 6,
    "start_time": "2022-01-23T22:50:25.042Z"
   },
   {
    "duration": 4,
    "start_time": "2022-01-23T22:50:25.466Z"
   },
   {
    "duration": 12,
    "start_time": "2022-01-23T22:50:33.793Z"
   },
   {
    "duration": 8,
    "start_time": "2022-01-23T22:50:36.231Z"
   },
   {
    "duration": 3,
    "start_time": "2022-01-23T22:50:41.913Z"
   },
   {
    "duration": 27,
    "start_time": "2022-01-23T22:50:42.745Z"
   },
   {
    "duration": 5,
    "start_time": "2022-01-23T22:50:46.345Z"
   },
   {
    "duration": 5,
    "start_time": "2022-01-23T22:50:46.866Z"
   },
   {
    "duration": 5,
    "start_time": "2022-01-23T22:50:53.921Z"
   },
   {
    "duration": 2,
    "start_time": "2022-01-23T22:50:54.473Z"
   },
   {
    "duration": 5,
    "start_time": "2022-01-23T22:50:54.817Z"
   },
   {
    "duration": 4,
    "start_time": "2022-01-23T22:50:55.145Z"
   },
   {
    "duration": 12,
    "start_time": "2022-01-23T22:51:16.081Z"
   },
   {
    "duration": 7,
    "start_time": "2022-01-23T22:51:16.497Z"
   },
   {
    "duration": 3,
    "start_time": "2022-01-23T22:51:16.832Z"
   },
   {
    "duration": 37,
    "start_time": "2022-01-23T22:51:17.329Z"
   },
   {
    "duration": 5,
    "start_time": "2022-01-23T22:51:20.680Z"
   },
   {
    "duration": 7,
    "start_time": "2022-01-23T22:51:21.384Z"
   },
   {
    "duration": 12,
    "start_time": "2022-01-23T22:51:38.312Z"
   },
   {
    "duration": 6,
    "start_time": "2022-01-23T22:51:38.745Z"
   },
   {
    "duration": 3,
    "start_time": "2022-01-23T22:51:39.071Z"
   },
   {
    "duration": 29,
    "start_time": "2022-01-23T22:51:39.416Z"
   },
   {
    "duration": 4,
    "start_time": "2022-01-23T22:51:39.882Z"
   },
   {
    "duration": 7,
    "start_time": "2022-01-23T22:51:42.544Z"
   },
   {
    "duration": 4,
    "start_time": "2022-01-23T22:51:45.592Z"
   },
   {
    "duration": 3,
    "start_time": "2022-01-23T22:51:45.904Z"
   },
   {
    "duration": 5,
    "start_time": "2022-01-23T22:51:46.288Z"
   },
   {
    "duration": 4,
    "start_time": "2022-01-23T22:51:46.784Z"
   },
   {
    "duration": 13,
    "start_time": "2022-01-23T22:54:00.316Z"
   },
   {
    "duration": 7,
    "start_time": "2022-01-23T22:54:01.726Z"
   },
   {
    "duration": 4,
    "start_time": "2022-01-23T22:54:13.652Z"
   },
   {
    "duration": 10144,
    "start_time": "2022-01-23T22:54:14.646Z"
   },
   {
    "duration": 401,
    "start_time": "2022-01-23T22:54:24.792Z"
   },
   {
    "duration": 11,
    "start_time": "2022-01-23T22:54:25.196Z"
   },
   {
    "duration": 390,
    "start_time": "2022-01-23T22:54:44.220Z"
   },
   {
    "duration": 3,
    "start_time": "2022-01-23T22:54:44.612Z"
   },
   {
    "duration": 5,
    "start_time": "2022-01-23T22:54:44.949Z"
   },
   {
    "duration": 4,
    "start_time": "2022-01-23T22:54:45.325Z"
   },
   {
    "duration": 11,
    "start_time": "2022-01-23T22:55:12.764Z"
   },
   {
    "duration": 6,
    "start_time": "2022-01-23T22:55:14.885Z"
   },
   {
    "duration": 8,
    "start_time": "2022-01-23T22:55:22.418Z"
   },
   {
    "duration": 2,
    "start_time": "2022-01-23T22:55:23.620Z"
   },
   {
    "duration": 5,
    "start_time": "2022-01-23T22:55:25.659Z"
   },
   {
    "duration": 4,
    "start_time": "2022-01-23T22:55:27.997Z"
   },
   {
    "duration": 5,
    "start_time": "2022-01-23T22:55:34.618Z"
   },
   {
    "duration": 7,
    "start_time": "2022-01-23T22:55:38.172Z"
   },
   {
    "duration": 5,
    "start_time": "2022-01-23T22:59:28.071Z"
   },
   {
    "duration": 3,
    "start_time": "2022-01-23T22:59:28.487Z"
   },
   {
    "duration": 5,
    "start_time": "2022-01-23T22:59:28.790Z"
   },
   {
    "duration": 4,
    "start_time": "2022-01-23T22:59:29.095Z"
   },
   {
    "duration": 375,
    "start_time": "2022-01-23T22:59:35.319Z"
   },
   {
    "duration": 5,
    "start_time": "2022-01-23T22:59:36.703Z"
   },
   {
    "duration": 14,
    "start_time": "2022-01-23T23:00:44.933Z"
   },
   {
    "duration": 8,
    "start_time": "2022-01-23T23:00:45.317Z"
   },
   {
    "duration": 3,
    "start_time": "2022-01-23T23:00:46.022Z"
   },
   {
    "duration": 10639,
    "start_time": "2022-01-23T23:00:46.616Z"
   },
   {
    "duration": 495,
    "start_time": "2022-01-23T23:00:57.257Z"
   },
   {
    "duration": 6,
    "start_time": "2022-01-23T23:00:57.754Z"
   },
   {
    "duration": 392,
    "start_time": "2022-01-23T23:01:04.981Z"
   },
   {
    "duration": 6,
    "start_time": "2022-01-23T23:01:05.486Z"
   },
   {
    "duration": 5,
    "start_time": "2022-01-23T23:11:01.839Z"
   },
   {
    "duration": 13,
    "start_time": "2022-01-23T23:11:30.415Z"
   },
   {
    "duration": 7,
    "start_time": "2022-01-23T23:11:30.952Z"
   },
   {
    "duration": 4,
    "start_time": "2022-01-23T23:11:33.023Z"
   },
   {
    "duration": 29,
    "start_time": "2022-01-23T23:11:34.303Z"
   },
   {
    "duration": 12,
    "start_time": "2022-01-23T23:11:36.007Z"
   },
   {
    "duration": 7,
    "start_time": "2022-01-23T23:11:38.944Z"
   },
   {
    "duration": 8,
    "start_time": "2022-01-23T23:11:50.942Z"
   },
   {
    "duration": 3,
    "start_time": "2022-01-23T23:11:51.262Z"
   },
   {
    "duration": 6,
    "start_time": "2022-01-23T23:11:51.574Z"
   },
   {
    "duration": 5,
    "start_time": "2022-01-23T23:11:51.878Z"
   },
   {
    "duration": 13,
    "start_time": "2022-01-23T23:12:26.626Z"
   },
   {
    "duration": 7,
    "start_time": "2022-01-23T23:12:27.303Z"
   },
   {
    "duration": 3,
    "start_time": "2022-01-23T23:12:28.237Z"
   },
   {
    "duration": 26,
    "start_time": "2022-01-23T23:12:30.887Z"
   },
   {
    "duration": 5,
    "start_time": "2022-01-23T23:12:31.637Z"
   },
   {
    "duration": 6,
    "start_time": "2022-01-23T23:12:34.030Z"
   },
   {
    "duration": 4,
    "start_time": "2022-01-23T23:12:56.278Z"
   },
   {
    "duration": 3,
    "start_time": "2022-01-23T23:12:56.557Z"
   },
   {
    "duration": 6,
    "start_time": "2022-01-23T23:12:56.813Z"
   },
   {
    "duration": 4,
    "start_time": "2022-01-23T23:12:57.070Z"
   },
   {
    "duration": 13,
    "start_time": "2022-01-23T23:14:09.580Z"
   },
   {
    "duration": 8,
    "start_time": "2022-01-23T23:14:10.580Z"
   },
   {
    "duration": 3,
    "start_time": "2022-01-23T23:14:11.932Z"
   },
   {
    "duration": 9971,
    "start_time": "2022-01-23T23:14:14.596Z"
   },
   {
    "duration": 396,
    "start_time": "2022-01-23T23:14:24.569Z"
   },
   {
    "duration": 8,
    "start_time": "2022-01-23T23:14:24.967Z"
   },
   {
    "duration": 3,
    "start_time": "2022-01-23T23:18:49.998Z"
   },
   {
    "duration": 10158,
    "start_time": "2022-01-23T23:18:50.382Z"
   },
   {
    "duration": 404,
    "start_time": "2022-01-23T23:19:00.542Z"
   },
   {
    "duration": 7,
    "start_time": "2022-01-23T23:19:00.949Z"
   },
   {
    "duration": 3,
    "start_time": "2022-01-23T23:19:13.797Z"
   },
   {
    "duration": 9935,
    "start_time": "2022-01-23T23:19:13.802Z"
   },
   {
    "duration": 401,
    "start_time": "2022-01-23T23:19:23.739Z"
   },
   {
    "duration": 6,
    "start_time": "2022-01-23T23:19:24.142Z"
   },
   {
    "duration": 3,
    "start_time": "2022-01-23T23:19:35.726Z"
   },
   {
    "duration": 8433,
    "start_time": "2022-01-23T23:19:36.030Z"
   },
   {
    "duration": 394,
    "start_time": "2022-01-23T23:19:44.465Z"
   },
   {
    "duration": 6,
    "start_time": "2022-01-23T23:19:44.861Z"
   },
   {
    "duration": 3,
    "start_time": "2022-01-23T23:19:58.644Z"
   },
   {
    "duration": 7907,
    "start_time": "2022-01-23T23:19:58.942Z"
   },
   {
    "duration": 280,
    "start_time": "2022-01-23T23:20:06.851Z"
   },
   {
    "duration": 6,
    "start_time": "2022-01-23T23:20:07.133Z"
   },
   {
    "duration": 3,
    "start_time": "2022-01-23T23:20:15.364Z"
   },
   {
    "duration": 5271,
    "start_time": "2022-01-23T23:20:15.684Z"
   },
   {
    "duration": 216,
    "start_time": "2022-01-23T23:20:20.957Z"
   },
   {
    "duration": 5,
    "start_time": "2022-01-23T23:20:21.175Z"
   },
   {
    "duration": 3,
    "start_time": "2022-01-23T23:20:30.628Z"
   },
   {
    "duration": 8613,
    "start_time": "2022-01-23T23:20:30.924Z"
   },
   {
    "duration": 321,
    "start_time": "2022-01-23T23:20:39.539Z"
   },
   {
    "duration": 6,
    "start_time": "2022-01-23T23:20:39.862Z"
   },
   {
    "duration": 3,
    "start_time": "2022-01-23T23:20:47.084Z"
   },
   {
    "duration": 9678,
    "start_time": "2022-01-23T23:20:47.324Z"
   },
   {
    "duration": 338,
    "start_time": "2022-01-23T23:20:57.008Z"
   },
   {
    "duration": 6,
    "start_time": "2022-01-23T23:20:57.348Z"
   },
   {
    "duration": 3,
    "start_time": "2022-01-23T23:21:03.771Z"
   },
   {
    "duration": 8641,
    "start_time": "2022-01-23T23:21:04.028Z"
   },
   {
    "duration": 345,
    "start_time": "2022-01-23T23:21:12.671Z"
   },
   {
    "duration": 6,
    "start_time": "2022-01-23T23:21:13.018Z"
   },
   {
    "duration": 315,
    "start_time": "2022-01-23T23:21:19.602Z"
   },
   {
    "duration": 3,
    "start_time": "2022-01-23T23:21:19.931Z"
   },
   {
    "duration": 5,
    "start_time": "2022-01-23T23:21:20.267Z"
   },
   {
    "duration": 4,
    "start_time": "2022-01-23T23:21:20.691Z"
   },
   {
    "duration": 5,
    "start_time": "2022-01-23T23:21:33.410Z"
   },
   {
    "duration": 6,
    "start_time": "2022-01-23T23:21:33.962Z"
   },
   {
    "duration": 5,
    "start_time": "2022-01-23T23:21:36.947Z"
   },
   {
    "duration": 3,
    "start_time": "2022-01-23T23:21:37.307Z"
   },
   {
    "duration": 6,
    "start_time": "2022-01-23T23:21:37.626Z"
   },
   {
    "duration": 4,
    "start_time": "2022-01-23T23:21:37.979Z"
   },
   {
    "duration": 4,
    "start_time": "2022-01-23T23:21:41.730Z"
   },
   {
    "duration": 7,
    "start_time": "2022-01-23T23:21:42.083Z"
   },
   {
    "duration": 4,
    "start_time": "2022-01-23T23:21:42.707Z"
   },
   {
    "duration": 2,
    "start_time": "2022-01-23T23:21:43.147Z"
   },
   {
    "duration": 6,
    "start_time": "2022-01-23T23:21:43.499Z"
   },
   {
    "duration": 4,
    "start_time": "2022-01-23T23:21:43.899Z"
   },
   {
    "duration": 313,
    "start_time": "2022-01-23T23:21:49.547Z"
   },
   {
    "duration": 6,
    "start_time": "2022-01-23T23:21:50.317Z"
   },
   {
    "duration": 326,
    "start_time": "2022-01-23T23:21:54.001Z"
   },
   {
    "duration": 3,
    "start_time": "2022-01-23T23:21:54.579Z"
   },
   {
    "duration": 6,
    "start_time": "2022-01-23T23:21:55.034Z"
   },
   {
    "duration": 3,
    "start_time": "2022-01-23T23:21:55.547Z"
   },
   {
    "duration": 1407,
    "start_time": "2022-01-24T04:28:45.906Z"
   },
   {
    "duration": 134,
    "start_time": "2022-01-24T04:28:47.315Z"
   },
   {
    "duration": 40,
    "start_time": "2022-01-24T04:28:47.453Z"
   },
   {
    "duration": 6,
    "start_time": "2022-01-24T04:28:47.496Z"
   },
   {
    "duration": 23,
    "start_time": "2022-01-24T04:28:47.505Z"
   },
   {
    "duration": 5,
    "start_time": "2022-01-24T04:28:47.531Z"
   },
   {
    "duration": 10,
    "start_time": "2022-01-24T04:28:47.539Z"
   },
   {
    "duration": 19,
    "start_time": "2022-01-24T04:28:47.552Z"
   },
   {
    "duration": 3,
    "start_time": "2022-01-24T04:28:47.574Z"
   },
   {
    "duration": 48,
    "start_time": "2022-01-24T04:28:47.579Z"
   },
   {
    "duration": 7,
    "start_time": "2022-01-24T04:28:47.629Z"
   },
   {
    "duration": 7,
    "start_time": "2022-01-24T04:28:47.639Z"
   },
   {
    "duration": 4,
    "start_time": "2022-01-24T04:28:47.648Z"
   },
   {
    "duration": 7,
    "start_time": "2022-01-24T04:28:47.654Z"
   },
   {
    "duration": 5,
    "start_time": "2022-01-24T04:28:47.663Z"
   },
   {
    "duration": 4,
    "start_time": "2022-01-24T04:28:47.670Z"
   },
   {
    "duration": 3,
    "start_time": "2022-01-24T04:28:47.724Z"
   },
   {
    "duration": 14,
    "start_time": "2022-01-24T04:28:47.729Z"
   },
   {
    "duration": 5,
    "start_time": "2022-01-24T04:28:47.745Z"
   },
   {
    "duration": 19,
    "start_time": "2022-01-24T04:28:47.752Z"
   },
   {
    "duration": 10,
    "start_time": "2022-01-24T04:28:47.773Z"
   },
   {
    "duration": 38,
    "start_time": "2022-01-24T04:28:47.785Z"
   },
   {
    "duration": 10,
    "start_time": "2022-01-24T04:28:47.828Z"
   },
   {
    "duration": 7,
    "start_time": "2022-01-24T04:28:47.841Z"
   },
   {
    "duration": 7,
    "start_time": "2022-01-24T04:28:47.850Z"
   },
   {
    "duration": 7,
    "start_time": "2022-01-24T04:28:47.860Z"
   },
   {
    "duration": 8,
    "start_time": "2022-01-24T04:28:47.869Z"
   },
   {
    "duration": 67,
    "start_time": "2022-01-24T04:28:47.879Z"
   },
   {
    "duration": 8,
    "start_time": "2022-01-24T04:28:47.949Z"
   },
   {
    "duration": 175,
    "start_time": "2022-01-24T04:28:47.959Z"
   },
   {
    "duration": 4,
    "start_time": "2022-01-24T04:28:48.136Z"
   },
   {
    "duration": 41,
    "start_time": "2022-01-24T04:28:48.142Z"
   },
   {
    "duration": 4,
    "start_time": "2022-01-24T04:28:48.186Z"
   },
   {
    "duration": 32,
    "start_time": "2022-01-24T04:28:48.192Z"
   },
   {
    "duration": 3,
    "start_time": "2022-01-24T04:28:48.227Z"
   },
   {
    "duration": 1371,
    "start_time": "2022-01-24T04:28:48.232Z"
   },
   {
    "duration": 82,
    "start_time": "2022-01-24T04:28:49.605Z"
   },
   {
    "duration": 7,
    "start_time": "2022-01-24T04:28:49.689Z"
   },
   {
    "duration": 5,
    "start_time": "2022-01-24T04:28:49.698Z"
   },
   {
    "duration": 15,
    "start_time": "2022-01-24T04:28:49.723Z"
   },
   {
    "duration": 8,
    "start_time": "2022-01-24T04:28:49.740Z"
   },
   {
    "duration": 4,
    "start_time": "2022-01-24T04:28:49.750Z"
   },
   {
    "duration": 76,
    "start_time": "2022-01-24T04:28:49.756Z"
   },
   {
    "duration": 8,
    "start_time": "2022-01-24T04:28:49.834Z"
   },
   {
    "duration": 179,
    "start_time": "2022-01-24T04:28:49.846Z"
   },
   {
    "duration": 5,
    "start_time": "2022-01-24T04:28:50.027Z"
   },
   {
    "duration": 90,
    "start_time": "2022-01-24T04:28:50.035Z"
   },
   {
    "duration": 98,
    "start_time": "2022-01-24T04:28:50.128Z"
   },
   {
    "duration": 5,
    "start_time": "2022-01-24T04:28:50.228Z"
   },
   {
    "duration": 15,
    "start_time": "2022-01-24T04:28:50.236Z"
   },
   {
    "duration": 7,
    "start_time": "2022-01-24T04:28:50.253Z"
   },
   {
    "duration": 3,
    "start_time": "2022-01-24T04:28:50.263Z"
   },
   {
    "duration": 72,
    "start_time": "2022-01-24T04:28:50.268Z"
   },
   {
    "duration": 6,
    "start_time": "2022-01-24T04:28:50.343Z"
   },
   {
    "duration": 11,
    "start_time": "2022-01-24T04:28:50.351Z"
   },
   {
    "duration": 6,
    "start_time": "2022-01-24T04:28:50.364Z"
   },
   {
    "duration": 4,
    "start_time": "2022-01-24T04:28:50.372Z"
   },
   {
    "duration": 8,
    "start_time": "2022-01-24T04:28:50.378Z"
   },
   {
    "duration": 37,
    "start_time": "2022-01-24T04:28:50.388Z"
   },
   {
    "duration": 14,
    "start_time": "2022-01-24T04:28:50.427Z"
   },
   {
    "duration": 8,
    "start_time": "2022-01-24T04:28:50.443Z"
   },
   {
    "duration": 7,
    "start_time": "2022-01-24T04:28:50.454Z"
   },
   {
    "duration": 11200,
    "start_time": "2022-01-24T04:28:50.463Z"
   },
   {
    "duration": 433,
    "start_time": "2022-01-24T04:29:01.666Z"
   },
   {
    "duration": 7,
    "start_time": "2022-01-24T04:29:02.101Z"
   },
   {
    "duration": 433,
    "start_time": "2022-01-24T04:29:02.123Z"
   },
   {
    "duration": 4,
    "start_time": "2022-01-24T04:29:02.558Z"
   },
   {
    "duration": 13,
    "start_time": "2022-01-24T04:29:02.569Z"
   },
   {
    "duration": 16,
    "start_time": "2022-01-24T04:29:02.585Z"
   },
   {
    "duration": 20,
    "start_time": "2022-01-24T04:29:02.603Z"
   },
   {
    "duration": 199,
    "start_time": "2022-01-24T04:29:02.626Z"
   },
   {
    "duration": 6,
    "start_time": "2022-01-24T04:29:02.828Z"
   },
   {
    "duration": 188,
    "start_time": "2022-01-24T04:29:02.838Z"
   },
   {
    "duration": 34,
    "start_time": "2022-01-24T04:29:03.029Z"
   },
   {
    "duration": 34,
    "start_time": "2022-01-24T04:29:03.065Z"
   },
   {
    "duration": 14,
    "start_time": "2022-01-24T04:29:03.101Z"
   },
   {
    "duration": 19,
    "start_time": "2022-01-24T04:29:03.118Z"
   },
   {
    "duration": 22,
    "start_time": "2022-01-24T04:29:03.139Z"
   },
   {
    "duration": 18,
    "start_time": "2022-01-24T04:29:03.163Z"
   },
   {
    "duration": 20,
    "start_time": "2022-01-24T04:29:03.184Z"
   },
   {
    "duration": 31,
    "start_time": "2022-01-24T04:29:03.206Z"
   },
   {
    "duration": 425,
    "start_time": "2022-01-24T04:29:03.239Z"
   },
   {
    "duration": 7,
    "start_time": "2022-01-24T04:29:03.666Z"
   },
   {
    "duration": 429,
    "start_time": "2022-01-24T04:29:03.675Z"
   },
   {
    "duration": 3,
    "start_time": "2022-01-24T04:29:04.106Z"
   },
   {
    "duration": 17,
    "start_time": "2022-01-24T04:29:04.111Z"
   },
   {
    "duration": 6,
    "start_time": "2022-01-24T04:29:04.130Z"
   }
  ],
  "kernelspec": {
   "display_name": "Python 3 (ipykernel)",
   "language": "python",
   "name": "python3"
  },
  "language_info": {
   "codemirror_mode": {
    "name": "ipython",
    "version": 3
   },
   "file_extension": ".py",
   "mimetype": "text/x-python",
   "name": "python",
   "nbconvert_exporter": "python",
   "pygments_lexer": "ipython3",
   "version": "3.9.13"
  },
  "toc": {
   "base_numbering": 1,
   "nav_menu": {},
   "number_sections": true,
   "sideBar": true,
   "skip_h1_title": true,
   "title_cell": "Содержание",
   "title_sidebar": "Contents",
   "toc_cell": true,
   "toc_position": {},
   "toc_section_display": true,
   "toc_window_display": false
  }
 },
 "nbformat": 4,
 "nbformat_minor": 2
}
