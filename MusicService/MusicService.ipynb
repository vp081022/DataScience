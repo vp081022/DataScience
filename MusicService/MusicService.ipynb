{
 "cells": [
  {
   "cell_type": "markdown",
   "metadata": {},
   "source": [
    "# Анализ данных музыкального сервиса"
   ]
  },
  {
   "cell_type": "markdown",
   "metadata": {},
   "source": [
    "### Описание задачи"
   ]
  },
  {
   "cell_type": "markdown",
   "metadata": {},
   "source": [
    "Необходимо проанализировать данные музыкального сервиса, которые описывают действия пользователей из Москвы и Санкт-Петербурга и проверить следующие предположения:\n",
    "* пользователи в Москве и Санкт-Петербурге слушают музыку по-разному;\n",
    "* в понедельник утром и в пятницу вечером в Москве преобладают прослушивания одних жанров, а в Петербурге - других;\n",
    "* в Петербурге рэп слушают чаще, чем в Москве, а в Москве наиболее популярным жанром является поп-музыка."
   ]
  },
  {
   "cell_type": "markdown",
   "metadata": {},
   "source": [
    "### План работы"
   ]
  },
  {
   "cell_type": "markdown",
   "metadata": {},
   "source": [
    "1. Загрузить и подготовить данные\n",
    "1.1. Выполнить обзор данных \n",
    "1.2. Выполнить предобработку данных\n",
    "2. Провести проверку гипотез\n",
    "3. Сделать выводы."
   ]
  },
  {
   "cell_type": "markdown",
   "metadata": {},
   "source": [
    "### Описание данных"
   ]
  },
  {
   "cell_type": "markdown",
   "metadata": {},
   "source": [
    "#### Признаки:"
   ]
  },
  {
   "cell_type": "markdown",
   "metadata": {},
   "source": [
    "* userID - идентификатор пользователя\n",
    "* Track - название трека\n",
    "* artist - имя исполнителя\n",
    "* genre - название жанра\n",
    "* City - город пользователя\n",
    "* time - время начала прослушивания\n",
    "* Day - день недели прослушивания"
   ]
  },
  {
   "cell_type": "markdown",
   "metadata": {
    "id": "Ml1hmfXC_Zcs"
   },
   "source": [
    "## Обзор данных\n",
    "\n",
    "Первое представление о данных музыкального сервиса.\n",
    "\n",
    "\n"
   ]
  },
  {
   "cell_type": "markdown",
   "metadata": {
    "id": "57eAOGIz_Zcs"
   },
   "source": [
    "Основной инструмент в данном проекте — pandas."
   ]
  },
  {
   "cell_type": "code",
   "execution_count": 90,
   "metadata": {
    "id": "AXN7PHPN_Zcs"
   },
   "outputs": [],
   "source": [
    "# Импорт библиотеки pandas как переменной pd.\n",
    "import pandas as pd"
   ]
  },
  {
   "cell_type": "markdown",
   "metadata": {
    "id": "SG23P8tt_Zcs"
   },
   "source": [
    "Чтение файла `yandex_music_project.csv` из папки `/datasets` и сохранение его в переменной `df`:"
   ]
  },
  {
   "cell_type": "code",
   "execution_count": 91,
   "metadata": {
    "id": "fFVu7vqh_Zct"
   },
   "outputs": [],
   "source": [
    "# Чтение файла с данными и сохранение в df\n",
    "try:\n",
    "    df = pd.read_csv('C:/Users/datasets/yandex_music_project.csv')  # Локальный путь\n",
    "except:\n",
    "    df = pd.read_csv('/datasets/yandex_music_project.csv')  # Серверный путь"
   ]
  },
  {
   "cell_type": "markdown",
   "metadata": {
    "id": "rDoOMd3uTqnZ"
   },
   "source": [
    "Вывод на экран первых десяти строк таблицы:"
   ]
  },
  {
   "cell_type": "code",
   "execution_count": 92,
   "metadata": {
    "id": "oWTVX3gW_Zct"
   },
   "outputs": [
    {
     "data": {
      "text/html": [
       "<div>\n",
       "<style scoped>\n",
       "    .dataframe tbody tr th:only-of-type {\n",
       "        vertical-align: middle;\n",
       "    }\n",
       "\n",
       "    .dataframe tbody tr th {\n",
       "        vertical-align: top;\n",
       "    }\n",
       "\n",
       "    .dataframe thead th {\n",
       "        text-align: right;\n",
       "    }\n",
       "</style>\n",
       "<table border=\"1\" class=\"dataframe\">\n",
       "  <thead>\n",
       "    <tr style=\"text-align: right;\">\n",
       "      <th></th>\n",
       "      <th>userID</th>\n",
       "      <th>Track</th>\n",
       "      <th>artist</th>\n",
       "      <th>genre</th>\n",
       "      <th>City</th>\n",
       "      <th>time</th>\n",
       "      <th>Day</th>\n",
       "    </tr>\n",
       "  </thead>\n",
       "  <tbody>\n",
       "    <tr>\n",
       "      <td>0</td>\n",
       "      <td>FFB692EC</td>\n",
       "      <td>Kamigata To Boots</td>\n",
       "      <td>The Mass Missile</td>\n",
       "      <td>rock</td>\n",
       "      <td>Saint-Petersburg</td>\n",
       "      <td>20:28:33</td>\n",
       "      <td>Wednesday</td>\n",
       "    </tr>\n",
       "    <tr>\n",
       "      <td>1</td>\n",
       "      <td>55204538</td>\n",
       "      <td>Delayed Because of Accident</td>\n",
       "      <td>Andreas Rönnberg</td>\n",
       "      <td>rock</td>\n",
       "      <td>Moscow</td>\n",
       "      <td>14:07:09</td>\n",
       "      <td>Friday</td>\n",
       "    </tr>\n",
       "    <tr>\n",
       "      <td>2</td>\n",
       "      <td>20EC38</td>\n",
       "      <td>Funiculì funiculà</td>\n",
       "      <td>Mario Lanza</td>\n",
       "      <td>pop</td>\n",
       "      <td>Saint-Petersburg</td>\n",
       "      <td>20:58:07</td>\n",
       "      <td>Wednesday</td>\n",
       "    </tr>\n",
       "    <tr>\n",
       "      <td>3</td>\n",
       "      <td>A3DD03C9</td>\n",
       "      <td>Dragons in the Sunset</td>\n",
       "      <td>Fire + Ice</td>\n",
       "      <td>folk</td>\n",
       "      <td>Saint-Petersburg</td>\n",
       "      <td>08:37:09</td>\n",
       "      <td>Monday</td>\n",
       "    </tr>\n",
       "    <tr>\n",
       "      <td>4</td>\n",
       "      <td>E2DC1FAE</td>\n",
       "      <td>Soul People</td>\n",
       "      <td>Space Echo</td>\n",
       "      <td>dance</td>\n",
       "      <td>Moscow</td>\n",
       "      <td>08:34:34</td>\n",
       "      <td>Monday</td>\n",
       "    </tr>\n",
       "    <tr>\n",
       "      <td>5</td>\n",
       "      <td>842029A1</td>\n",
       "      <td>Преданная</td>\n",
       "      <td>IMPERVTOR</td>\n",
       "      <td>rusrap</td>\n",
       "      <td>Saint-Petersburg</td>\n",
       "      <td>13:09:41</td>\n",
       "      <td>Friday</td>\n",
       "    </tr>\n",
       "    <tr>\n",
       "      <td>6</td>\n",
       "      <td>4CB90AA5</td>\n",
       "      <td>True</td>\n",
       "      <td>Roman Messer</td>\n",
       "      <td>dance</td>\n",
       "      <td>Moscow</td>\n",
       "      <td>13:00:07</td>\n",
       "      <td>Wednesday</td>\n",
       "    </tr>\n",
       "    <tr>\n",
       "      <td>7</td>\n",
       "      <td>F03E1C1F</td>\n",
       "      <td>Feeling This Way</td>\n",
       "      <td>Polina Griffith</td>\n",
       "      <td>dance</td>\n",
       "      <td>Moscow</td>\n",
       "      <td>20:47:49</td>\n",
       "      <td>Wednesday</td>\n",
       "    </tr>\n",
       "    <tr>\n",
       "      <td>8</td>\n",
       "      <td>8FA1D3BE</td>\n",
       "      <td>И вновь продолжается бой</td>\n",
       "      <td>NaN</td>\n",
       "      <td>ruspop</td>\n",
       "      <td>Moscow</td>\n",
       "      <td>09:17:40</td>\n",
       "      <td>Friday</td>\n",
       "    </tr>\n",
       "    <tr>\n",
       "      <td>9</td>\n",
       "      <td>E772D5C0</td>\n",
       "      <td>Pessimist</td>\n",
       "      <td>NaN</td>\n",
       "      <td>dance</td>\n",
       "      <td>Saint-Petersburg</td>\n",
       "      <td>21:20:49</td>\n",
       "      <td>Wednesday</td>\n",
       "    </tr>\n",
       "  </tbody>\n",
       "</table>\n",
       "</div>"
      ],
      "text/plain": [
       "     userID                        Track            artist   genre  \\\n",
       "0  FFB692EC            Kamigata To Boots  The Mass Missile    rock   \n",
       "1  55204538  Delayed Because of Accident  Andreas Rönnberg    rock   \n",
       "2    20EC38            Funiculì funiculà       Mario Lanza     pop   \n",
       "3  A3DD03C9        Dragons in the Sunset        Fire + Ice    folk   \n",
       "4  E2DC1FAE                  Soul People        Space Echo   dance   \n",
       "5  842029A1                    Преданная         IMPERVTOR  rusrap   \n",
       "6  4CB90AA5                         True      Roman Messer   dance   \n",
       "7  F03E1C1F             Feeling This Way   Polina Griffith   dance   \n",
       "8  8FA1D3BE     И вновь продолжается бой               NaN  ruspop   \n",
       "9  E772D5C0                    Pessimist               NaN   dance   \n",
       "\n",
       "             City        time        Day  \n",
       "0  Saint-Petersburg  20:28:33  Wednesday  \n",
       "1            Moscow  14:07:09     Friday  \n",
       "2  Saint-Petersburg  20:58:07  Wednesday  \n",
       "3  Saint-Petersburg  08:37:09     Monday  \n",
       "4            Moscow  08:34:34     Monday  \n",
       "5  Saint-Petersburg  13:09:41     Friday  \n",
       "6            Moscow  13:00:07  Wednesday  \n",
       "7            Moscow  20:47:49  Wednesday  \n",
       "8            Moscow  09:17:40     Friday  \n",
       "9  Saint-Petersburg  21:20:49  Wednesday  "
      ]
     },
     "execution_count": 92,
     "metadata": {},
     "output_type": "execute_result"
    }
   ],
   "source": [
    "# Получение первых 10 строк таблицы df.\n",
    "df.head(10)"
   ]
  },
  {
   "cell_type": "markdown",
   "metadata": {
    "id": "EO73Kwic_Zct"
   },
   "source": [
    "Получение общей информации о таблице:"
   ]
  },
  {
   "cell_type": "code",
   "execution_count": 93,
   "metadata": {
    "id": "DSf2kIb-_Zct"
   },
   "outputs": [
    {
     "name": "stdout",
     "output_type": "stream",
     "text": [
      "<class 'pandas.core.frame.DataFrame'>\n",
      "RangeIndex: 65079 entries, 0 to 65078\n",
      "Data columns (total 7 columns):\n",
      "  userID    65079 non-null object\n",
      "Track       63848 non-null object\n",
      "artist      57876 non-null object\n",
      "genre       63881 non-null object\n",
      "  City      65079 non-null object\n",
      "time        65079 non-null object\n",
      "Day         65079 non-null object\n",
      "dtypes: object(7)\n",
      "memory usage: 3.5+ MB\n"
     ]
    }
   ],
   "source": [
    "# Получение общей информации о данных в таблице df.\n",
    "df.info()"
   ]
  },
  {
   "cell_type": "markdown",
   "metadata": {
    "id": "TaQ2Iwbr_Zct"
   },
   "source": [
    "Итак, в таблице семь столбцов. Тип данных во всех столбцах — `object`.\n",
    "\n",
    "Согласно документации к данным:\n",
    "* `userID` — идентификатор пользователя;\n",
    "* `Track` — название трека;  \n",
    "* `artist` — имя исполнителя;\n",
    "* `genre` — название жанра;\n",
    "* `City` — город пользователя;\n",
    "* `time` — время начала прослушивания;\n",
    "* `Day` — день недели.\n",
    "\n",
    "В названиях колонок видны три нарушения стиля:\n",
    "1. Строчные буквы сочетаются с прописными.\n",
    "2. Встречаются пробелы.\n",
    "3. Ещё одной проблемой в названиях столбцов является то, что из их названия не всегда понятно, что за данные хранятся в столбце.\n",
    "\n",
    "\n",
    "\n",
    "Количество значений в столбцах различается. Значит, в данных есть пропущенные значения.\n"
   ]
  },
  {
   "cell_type": "markdown",
   "metadata": {
    "id": "MCB6-dXG_Zct"
   },
   "source": [
    "**Выводы**\n",
    "\n",
    "В каждой строке таблицы — данные о прослушанном треке. Часть колонок описывает саму композицию: название, исполнителя и жанр. Остальные данные рассказывают о пользователе: из какого он города, когда он слушал музыку. \n",
    "\n",
    "Предварительно можно утверждать, что, данных достаточно для проверки гипотез. Но встречаются пропуски в данных, а в названиях колонок — расхождения с хорошим стилем.\n",
    "\n",
    "Чтобы двигаться дальше, нужно устранить проблемы в данных."
   ]
  },
  {
   "cell_type": "markdown",
   "metadata": {
    "id": "SjYF6Ub9_Zct"
   },
   "source": [
    "## Предобработка данных\n",
    "Исправление стиля в заголовках столбцов, исключение пропусков. Затем проверка данных на дубликаты."
   ]
  },
  {
   "cell_type": "markdown",
   "metadata": {
    "id": "dIaKXr29_Zct"
   },
   "source": [
    "### Стиль заголовков\n",
    "Вывод на экран названия столбцов:"
   ]
  },
  {
   "cell_type": "code",
   "execution_count": 94,
   "metadata": {
    "id": "oKOTdF_Q_Zct"
   },
   "outputs": [
    {
     "data": {
      "text/plain": [
       "Index(['  userID', 'Track', 'artist', 'genre', '  City  ', 'time', 'Day'], dtype='object')"
      ]
     },
     "execution_count": 94,
     "metadata": {},
     "output_type": "execute_result"
    }
   ],
   "source": [
    "# Перечень названий столбцов таблицы df можно вывести используя метод columns.\n",
    "df.columns"
   ]
  },
  {
   "cell_type": "markdown",
   "metadata": {
    "id": "zj5534cv_Zct"
   },
   "source": [
    "Приведение названий в соответствие с хорошим стилем. Для этого переименуем колонки так:\n",
    "* `'  userID'` → `'user_id'`;\n",
    "* `'Track'` → `'track'`;\n",
    "* `'  City  '` → `'city'`;\n",
    "* `'Day'` → `'day'`."
   ]
  },
  {
   "cell_type": "code",
   "execution_count": 95,
   "metadata": {
    "id": "ISlFqs5y_Zct"
   },
   "outputs": [],
   "source": [
    "# Переименование столбцов выполняется с сиспользованием метода .rename() с параметром columns.\n",
    "# Параметр columns - это словарь, в котором ключи - это старые названия столбцов, а значения - новые названия.\n",
    "df = df.rename(columns={'  userID': 'user_id', 'Track': 'track', '  City  ': 'city', 'Day': 'day'})"
   ]
  },
  {
   "cell_type": "markdown",
   "metadata": {
    "id": "1dqbh00J_Zct"
   },
   "source": [
    "Проверка результата. Для этого ещё раз выведем на экран названия столбцов:"
   ]
  },
  {
   "cell_type": "code",
   "execution_count": 96,
   "metadata": {
    "id": "d4NOAmTW_Zct"
   },
   "outputs": [
    {
     "data": {
      "text/plain": [
       "Index(['user_id', 'track', 'artist', 'genre', 'city', 'time', 'day'], dtype='object')"
      ]
     },
     "execution_count": 96,
     "metadata": {},
     "output_type": "execute_result"
    }
   ],
   "source": [
    "# Проверка результатов - перечень названий столбцов.\n",
    "# Для проверки результата и вывода на экран названия стобцов еще раз воспользуемся командой df.columns\n",
    "df.columns"
   ]
  },
  {
   "cell_type": "markdown",
   "metadata": {
    "id": "5ISfbcfY_Zct"
   },
   "source": [
    "### Пропуски значений\n",
    "Посчитаем количество NaN в каждой колонке методом .isna() вместе с .sum()."
   ]
  },
  {
   "cell_type": "code",
   "execution_count": 97,
   "metadata": {
    "id": "RskX29qr_Zct",
    "scrolled": false
   },
   "outputs": [
    {
     "data": {
      "text/plain": [
       "user_id       0\n",
       "track      1231\n",
       "artist     7203\n",
       "genre      1198\n",
       "city          0\n",
       "time          0\n",
       "day           0\n",
       "dtype: int64"
      ]
     },
     "execution_count": 97,
     "metadata": {},
     "output_type": "execute_result"
    }
   ],
   "source": [
    "# Подсчёт пропусков значений \n",
    "df.isna().sum()"
   ]
  },
  {
   "cell_type": "markdown",
   "metadata": {
    "id": "fSv2laPA_Zct"
   },
   "source": [
    "Заменим пропущенные значения в столбцах `track`, `artist` и `genre` на строку `'unknown'`."
   ]
  },
  {
   "cell_type": "code",
   "execution_count": 98,
   "metadata": {
    "id": "KplB5qWs_Zct"
   },
   "outputs": [],
   "source": [
    "# Перебор названий столбцов в цикле и замена пропущенных значений на 'unknown'.\n",
    "# Сначала создаётся список с названиями столбцов для их перебора.\n",
    "# Затем создаётся цикл for, который перебирает названия столбцов, помещая их в переменную column.\n",
    "# Для замены пропущенных значений в каждом столбце используется метод .fillna()\n",
    "columns_to_replace = [['track'],['artist'],['genre']]\n",
    "for column in columns_to_replace:\n",
    "    df[column] = df[column].fillna('unknown')"
   ]
  },
  {
   "cell_type": "markdown",
   "metadata": {
    "id": "Ilsm-MZo_Zct"
   },
   "source": [
    "Убедимся, что в таблице не осталось пропусков."
   ]
  },
  {
   "cell_type": "code",
   "execution_count": 99,
   "metadata": {
    "id": "Tq4nYRX4_Zct"
   },
   "outputs": [
    {
     "data": {
      "text/plain": [
       "user_id    0\n",
       "track      0\n",
       "artist     0\n",
       "genre      0\n",
       "city       0\n",
       "time       0\n",
       "day        0\n",
       "dtype: int64"
      ]
     },
     "execution_count": 99,
     "metadata": {},
     "output_type": "execute_result"
    }
   ],
   "source": [
    "# Подсчёт пропусков методом .isna() вместе с .sum()\n",
    "# Метод .isna() ищет значения NaN,\n",
    "# а функция sum() считает их количество.\n",
    "df.isna().sum()"
   ]
  },
  {
   "cell_type": "markdown",
   "metadata": {
    "id": "BWKRtBJ3_Zct"
   },
   "source": [
    "### Дубликаты\n",
    "Подсчет явных дубликатов:"
   ]
  },
  {
   "cell_type": "code",
   "execution_count": 100,
   "metadata": {
    "id": "36eES_S0_Zct"
   },
   "outputs": [
    {
     "name": "stdout",
     "output_type": "stream",
     "text": [
      "Количество явных дубликатов: 3826\n"
     ]
    }
   ],
   "source": [
    "# Подсчёт явных дубликатов осуществляется с помощью метода .duplicated()\n",
    "# Результатом метода .duplicated являются значения True для строк-дубликатов.\n",
    "# Для подсчета строк-дубликатов результат метода .duplicated() передаётся функции sum().\n",
    "print(\"Количество явных дубликатов:\", df.duplicated().sum())"
   ]
  },
  {
   "cell_type": "markdown",
   "metadata": {
    "id": "Ot25h6XR_Zct"
   },
   "source": [
    "Удаление явных дубликатов:"
   ]
  },
  {
   "cell_type": "code",
   "execution_count": 101,
   "metadata": {
    "id": "exFHq6tt_Zct"
   },
   "outputs": [],
   "source": [
    "# Удаление явных дубликатов (с удалением старых индексов и формированием новых).\n",
    "# Для удаления явных дубликатов используется метод .drop_duplicates().\n",
    "# Для обновления индексации после удаления дубликатов используется метод .reset_index():\n",
    "# df.drop_duplicates().reset_index().\n",
    "# Для удаления старых индексов вместе с методом reset_index() используется параметр drop=True:\n",
    "df = df.drop_duplicates().reset_index(drop=True) "
   ]
  },
  {
   "cell_type": "markdown",
   "metadata": {
    "id": "Im2YwBEG_Zct"
   },
   "source": [
    "Повторный подсчет явных дубликатов, чтобы убедиться, что полностью от них избавились:"
   ]
  },
  {
   "cell_type": "code",
   "execution_count": 102,
   "metadata": {
    "id": "-8PuNWQ0_Zct"
   },
   "outputs": [
    {
     "name": "stdout",
     "output_type": "stream",
     "text": [
      "Количество явных дубликатов: 0\n"
     ]
    }
   ],
   "source": [
    "# Проверка на отсутствие дубликатов.\n",
    "# Повторно посчитаем дубликаты, воспользовавшись командой df.duplicated().sum():\n",
    "print(\"Количество явных дубликатов:\", df.duplicated().sum())"
   ]
  },
  {
   "cell_type": "markdown",
   "metadata": {},
   "source": [
    "Поиск неявных дубликатов в столбце 'genre'."
   ]
  },
  {
   "cell_type": "code",
   "execution_count": 103,
   "metadata": {
    "id": "JIUcqzZN_Zct"
   },
   "outputs": [
    {
     "data": {
      "text/plain": [
       "['acid',\n",
       " 'acoustic',\n",
       " 'action',\n",
       " 'adult',\n",
       " 'africa',\n",
       " 'afrikaans',\n",
       " 'alternative',\n",
       " 'alternativepunk',\n",
       " 'ambient',\n",
       " 'americana',\n",
       " 'animated',\n",
       " 'anime',\n",
       " 'arabesk',\n",
       " 'arabic',\n",
       " 'arena',\n",
       " 'argentinetango',\n",
       " 'art',\n",
       " 'audiobook',\n",
       " 'author',\n",
       " 'avantgarde',\n",
       " 'axé',\n",
       " 'baile',\n",
       " 'balkan',\n",
       " 'beats',\n",
       " 'bigroom',\n",
       " 'black',\n",
       " 'bluegrass',\n",
       " 'blues',\n",
       " 'bollywood',\n",
       " 'bossa',\n",
       " 'brazilian',\n",
       " 'breakbeat',\n",
       " 'breaks',\n",
       " 'broadway',\n",
       " 'cantautori',\n",
       " 'cantopop',\n",
       " 'canzone',\n",
       " 'caribbean',\n",
       " 'caucasian',\n",
       " 'celtic',\n",
       " 'chamber',\n",
       " 'chanson',\n",
       " 'children',\n",
       " 'chill',\n",
       " 'chinese',\n",
       " 'choral',\n",
       " 'christian',\n",
       " 'christmas',\n",
       " 'classical',\n",
       " 'classicmetal',\n",
       " 'club',\n",
       " 'colombian',\n",
       " 'comedy',\n",
       " 'conjazz',\n",
       " 'contemporary',\n",
       " 'country',\n",
       " 'cuban',\n",
       " 'dance',\n",
       " 'dancehall',\n",
       " 'dancepop',\n",
       " 'dark',\n",
       " 'death',\n",
       " 'deep',\n",
       " 'deutschrock',\n",
       " 'deutschspr',\n",
       " 'dirty',\n",
       " 'disco',\n",
       " 'dnb',\n",
       " 'documentary',\n",
       " 'downbeat',\n",
       " 'downtempo',\n",
       " 'drum',\n",
       " 'dub',\n",
       " 'dubstep',\n",
       " 'eastern',\n",
       " 'easy',\n",
       " 'electronic',\n",
       " 'electropop',\n",
       " 'emo',\n",
       " 'entehno',\n",
       " 'epicmetal',\n",
       " 'estrada',\n",
       " 'ethnic',\n",
       " 'eurofolk',\n",
       " 'european',\n",
       " 'experimental',\n",
       " 'extrememetal',\n",
       " 'fado',\n",
       " 'fairytail',\n",
       " 'film',\n",
       " 'fitness',\n",
       " 'flamenco',\n",
       " 'folk',\n",
       " 'folklore',\n",
       " 'folkmetal',\n",
       " 'folkrock',\n",
       " 'folktronica',\n",
       " 'forró',\n",
       " 'frankreich',\n",
       " 'französisch',\n",
       " 'french',\n",
       " 'funk',\n",
       " 'future',\n",
       " 'gangsta',\n",
       " 'garage',\n",
       " 'german',\n",
       " 'ghazal',\n",
       " 'gitarre',\n",
       " 'glitch',\n",
       " 'gospel',\n",
       " 'gothic',\n",
       " 'grime',\n",
       " 'grunge',\n",
       " 'gypsy',\n",
       " 'handsup',\n",
       " \"hard'n'heavy\",\n",
       " 'hardcore',\n",
       " 'hardstyle',\n",
       " 'hardtechno',\n",
       " 'hip',\n",
       " 'hip-hop',\n",
       " 'hiphop',\n",
       " 'historisch',\n",
       " 'holiday',\n",
       " 'hop',\n",
       " 'horror',\n",
       " 'house',\n",
       " 'hymn',\n",
       " 'idm',\n",
       " 'independent',\n",
       " 'indian',\n",
       " 'indie',\n",
       " 'indipop',\n",
       " 'industrial',\n",
       " 'inspirational',\n",
       " 'instrumental',\n",
       " 'international',\n",
       " 'irish',\n",
       " 'jam',\n",
       " 'japanese',\n",
       " 'jazz',\n",
       " 'jewish',\n",
       " 'jpop',\n",
       " 'jungle',\n",
       " 'k-pop',\n",
       " 'karadeniz',\n",
       " 'karaoke',\n",
       " 'kayokyoku',\n",
       " 'korean',\n",
       " 'laiko',\n",
       " 'latin',\n",
       " 'latino',\n",
       " 'leftfield',\n",
       " 'local',\n",
       " 'lounge',\n",
       " 'loungeelectronic',\n",
       " 'lovers',\n",
       " 'malaysian',\n",
       " 'mandopop',\n",
       " 'marschmusik',\n",
       " 'meditative',\n",
       " 'mediterranean',\n",
       " 'melodic',\n",
       " 'metal',\n",
       " 'metalcore',\n",
       " 'mexican',\n",
       " 'middle',\n",
       " 'minimal',\n",
       " 'miscellaneous',\n",
       " 'modern',\n",
       " 'mood',\n",
       " 'mpb',\n",
       " 'muslim',\n",
       " 'native',\n",
       " 'neoklassik',\n",
       " 'neue',\n",
       " 'new',\n",
       " 'newage',\n",
       " 'newwave',\n",
       " 'nu',\n",
       " 'nujazz',\n",
       " 'numetal',\n",
       " 'oceania',\n",
       " 'old',\n",
       " 'opera',\n",
       " 'orchestral',\n",
       " 'other',\n",
       " 'piano',\n",
       " 'podcasts',\n",
       " 'pop',\n",
       " 'popdance',\n",
       " 'popelectronic',\n",
       " 'popeurodance',\n",
       " 'poprussian',\n",
       " 'post',\n",
       " 'posthardcore',\n",
       " 'postrock',\n",
       " 'power',\n",
       " 'progmetal',\n",
       " 'progressive',\n",
       " 'psychedelic',\n",
       " 'punjabi',\n",
       " 'punk',\n",
       " 'quebecois',\n",
       " 'ragga',\n",
       " 'ram',\n",
       " 'rancheras',\n",
       " 'rap',\n",
       " 'rave',\n",
       " 'reggae',\n",
       " 'reggaeton',\n",
       " 'regional',\n",
       " 'relax',\n",
       " 'religious',\n",
       " 'retro',\n",
       " 'rhythm',\n",
       " 'rnb',\n",
       " 'rnr',\n",
       " 'rock',\n",
       " 'rockabilly',\n",
       " 'rockalternative',\n",
       " 'rockindie',\n",
       " 'rockother',\n",
       " 'romance',\n",
       " 'roots',\n",
       " 'ruspop',\n",
       " 'rusrap',\n",
       " 'rusrock',\n",
       " 'russian',\n",
       " 'salsa',\n",
       " 'samba',\n",
       " 'scenic',\n",
       " 'schlager',\n",
       " 'self',\n",
       " 'sertanejo',\n",
       " 'shanson',\n",
       " 'shoegazing',\n",
       " 'showtunes',\n",
       " 'singer',\n",
       " 'ska',\n",
       " 'skarock',\n",
       " 'slow',\n",
       " 'smooth',\n",
       " 'soft',\n",
       " 'soul',\n",
       " 'soulful',\n",
       " 'sound',\n",
       " 'soundtrack',\n",
       " 'southern',\n",
       " 'specialty',\n",
       " 'speech',\n",
       " 'spiritual',\n",
       " 'sport',\n",
       " 'stonerrock',\n",
       " 'surf',\n",
       " 'swing',\n",
       " 'synthpop',\n",
       " 'synthrock',\n",
       " 'sängerportrait',\n",
       " 'tango',\n",
       " 'tanzorchester',\n",
       " 'taraftar',\n",
       " 'tatar',\n",
       " 'tech',\n",
       " 'techno',\n",
       " 'teen',\n",
       " 'thrash',\n",
       " 'top',\n",
       " 'traditional',\n",
       " 'tradjazz',\n",
       " 'trance',\n",
       " 'tribal',\n",
       " 'trip',\n",
       " 'triphop',\n",
       " 'tropical',\n",
       " 'türk',\n",
       " 'türkçe',\n",
       " 'ukrrock',\n",
       " 'unknown',\n",
       " 'urban',\n",
       " 'uzbek',\n",
       " 'variété',\n",
       " 'vi',\n",
       " 'videogame',\n",
       " 'vocal',\n",
       " 'western',\n",
       " 'world',\n",
       " 'worldbeat',\n",
       " 'ïîï',\n",
       " 'электроника']"
      ]
     },
     "execution_count": 103,
     "metadata": {},
     "output_type": "execute_result"
    }
   ],
   "source": [
    "# Просмотр уникальных названий жанров.\n",
    "# Метод .unique() возвращает список уникальных значений в столбце 'genre',\n",
    "# а функция sorted() сортирует эти значения в алфавитном порядке:\n",
    "sorted(df['genre'].unique())\n"
   ]
  },
  {
   "cell_type": "markdown",
   "metadata": {},
   "source": [
    "Найдены неявные дубликаты *hip*, *hop*, *hip-hop*. Напишем функцию для их замены:"
   ]
  },
  {
   "cell_type": "code",
   "execution_count": 104,
   "metadata": {
    "id": "ErNDkmns_Zct"
   },
   "outputs": [],
   "source": [
    "# Функция для замены неявных дубликатов.\n",
    "# Объявление функции начинается с ключевого слова def, затем следует имя функции с параметрами.\n",
    "# Для замены каждого неправильного значения на правильное используется метод .replace()\n",
    "# Метод .replace() содержит в скобках два параметра - \n",
    "# список из заменяемых неправильных значений (wrong_genres) и правильное значение (correct_genre).\n",
    "\n",
    "def replace_wrong_genres(wrong_genres, correct_genre):\n",
    "    for wrong_genre in wrong_genres:\n",
    "        df['genre'] = df['genre'].replace(wrong_genre, correct_genre)"
   ]
  },
  {
   "cell_type": "markdown",
   "metadata": {
    "id": "aDoBJxbA_Zct"
   },
   "source": [
    "Замена неявных дубликатов: `hip`, `hop` и `hip-hop` заменяем на `hiphop`."
   ]
  },
  {
   "cell_type": "code",
   "execution_count": 105,
   "metadata": {
    "id": "YN5i2hpmSo09"
   },
   "outputs": [],
   "source": [
    "# Устранение неявных дубликатов.\n",
    "# Обращение к функции использует её имя и два позиционных аргумента - \n",
    "# список неправильных значений и правильное значение.\n",
    "# Первое значение,список ['hip', 'hop', 'hip-hop'], передается первому параметру функции - wrong_genres,\n",
    "# второе значение, 'hiphop', передаётся второму параметру функции - correct_genre.\n",
    "replace_wrong_genres(['hip', 'hop', 'hip-hop'], 'hiphop')"
   ]
  },
  {
   "cell_type": "markdown",
   "metadata": {
    "id": "zQKF16_RG15m"
   },
   "source": [
    "Повторный просмотр списка уникальных значений столбца `genre`:"
   ]
  },
  {
   "cell_type": "code",
   "execution_count": 106,
   "metadata": {
    "id": "wvixALnFG15m"
   },
   "outputs": [
    {
     "data": {
      "text/plain": [
       "['acid',\n",
       " 'acoustic',\n",
       " 'action',\n",
       " 'adult',\n",
       " 'africa',\n",
       " 'afrikaans',\n",
       " 'alternative',\n",
       " 'alternativepunk',\n",
       " 'ambient',\n",
       " 'americana',\n",
       " 'animated',\n",
       " 'anime',\n",
       " 'arabesk',\n",
       " 'arabic',\n",
       " 'arena',\n",
       " 'argentinetango',\n",
       " 'art',\n",
       " 'audiobook',\n",
       " 'author',\n",
       " 'avantgarde',\n",
       " 'axé',\n",
       " 'baile',\n",
       " 'balkan',\n",
       " 'beats',\n",
       " 'bigroom',\n",
       " 'black',\n",
       " 'bluegrass',\n",
       " 'blues',\n",
       " 'bollywood',\n",
       " 'bossa',\n",
       " 'brazilian',\n",
       " 'breakbeat',\n",
       " 'breaks',\n",
       " 'broadway',\n",
       " 'cantautori',\n",
       " 'cantopop',\n",
       " 'canzone',\n",
       " 'caribbean',\n",
       " 'caucasian',\n",
       " 'celtic',\n",
       " 'chamber',\n",
       " 'chanson',\n",
       " 'children',\n",
       " 'chill',\n",
       " 'chinese',\n",
       " 'choral',\n",
       " 'christian',\n",
       " 'christmas',\n",
       " 'classical',\n",
       " 'classicmetal',\n",
       " 'club',\n",
       " 'colombian',\n",
       " 'comedy',\n",
       " 'conjazz',\n",
       " 'contemporary',\n",
       " 'country',\n",
       " 'cuban',\n",
       " 'dance',\n",
       " 'dancehall',\n",
       " 'dancepop',\n",
       " 'dark',\n",
       " 'death',\n",
       " 'deep',\n",
       " 'deutschrock',\n",
       " 'deutschspr',\n",
       " 'dirty',\n",
       " 'disco',\n",
       " 'dnb',\n",
       " 'documentary',\n",
       " 'downbeat',\n",
       " 'downtempo',\n",
       " 'drum',\n",
       " 'dub',\n",
       " 'dubstep',\n",
       " 'eastern',\n",
       " 'easy',\n",
       " 'electronic',\n",
       " 'electropop',\n",
       " 'emo',\n",
       " 'entehno',\n",
       " 'epicmetal',\n",
       " 'estrada',\n",
       " 'ethnic',\n",
       " 'eurofolk',\n",
       " 'european',\n",
       " 'experimental',\n",
       " 'extrememetal',\n",
       " 'fado',\n",
       " 'fairytail',\n",
       " 'film',\n",
       " 'fitness',\n",
       " 'flamenco',\n",
       " 'folk',\n",
       " 'folklore',\n",
       " 'folkmetal',\n",
       " 'folkrock',\n",
       " 'folktronica',\n",
       " 'forró',\n",
       " 'frankreich',\n",
       " 'französisch',\n",
       " 'french',\n",
       " 'funk',\n",
       " 'future',\n",
       " 'gangsta',\n",
       " 'garage',\n",
       " 'german',\n",
       " 'ghazal',\n",
       " 'gitarre',\n",
       " 'glitch',\n",
       " 'gospel',\n",
       " 'gothic',\n",
       " 'grime',\n",
       " 'grunge',\n",
       " 'gypsy',\n",
       " 'handsup',\n",
       " \"hard'n'heavy\",\n",
       " 'hardcore',\n",
       " 'hardstyle',\n",
       " 'hardtechno',\n",
       " 'hiphop',\n",
       " 'historisch',\n",
       " 'holiday',\n",
       " 'horror',\n",
       " 'house',\n",
       " 'hymn',\n",
       " 'idm',\n",
       " 'independent',\n",
       " 'indian',\n",
       " 'indie',\n",
       " 'indipop',\n",
       " 'industrial',\n",
       " 'inspirational',\n",
       " 'instrumental',\n",
       " 'international',\n",
       " 'irish',\n",
       " 'jam',\n",
       " 'japanese',\n",
       " 'jazz',\n",
       " 'jewish',\n",
       " 'jpop',\n",
       " 'jungle',\n",
       " 'k-pop',\n",
       " 'karadeniz',\n",
       " 'karaoke',\n",
       " 'kayokyoku',\n",
       " 'korean',\n",
       " 'laiko',\n",
       " 'latin',\n",
       " 'latino',\n",
       " 'leftfield',\n",
       " 'local',\n",
       " 'lounge',\n",
       " 'loungeelectronic',\n",
       " 'lovers',\n",
       " 'malaysian',\n",
       " 'mandopop',\n",
       " 'marschmusik',\n",
       " 'meditative',\n",
       " 'mediterranean',\n",
       " 'melodic',\n",
       " 'metal',\n",
       " 'metalcore',\n",
       " 'mexican',\n",
       " 'middle',\n",
       " 'minimal',\n",
       " 'miscellaneous',\n",
       " 'modern',\n",
       " 'mood',\n",
       " 'mpb',\n",
       " 'muslim',\n",
       " 'native',\n",
       " 'neoklassik',\n",
       " 'neue',\n",
       " 'new',\n",
       " 'newage',\n",
       " 'newwave',\n",
       " 'nu',\n",
       " 'nujazz',\n",
       " 'numetal',\n",
       " 'oceania',\n",
       " 'old',\n",
       " 'opera',\n",
       " 'orchestral',\n",
       " 'other',\n",
       " 'piano',\n",
       " 'podcasts',\n",
       " 'pop',\n",
       " 'popdance',\n",
       " 'popelectronic',\n",
       " 'popeurodance',\n",
       " 'poprussian',\n",
       " 'post',\n",
       " 'posthardcore',\n",
       " 'postrock',\n",
       " 'power',\n",
       " 'progmetal',\n",
       " 'progressive',\n",
       " 'psychedelic',\n",
       " 'punjabi',\n",
       " 'punk',\n",
       " 'quebecois',\n",
       " 'ragga',\n",
       " 'ram',\n",
       " 'rancheras',\n",
       " 'rap',\n",
       " 'rave',\n",
       " 'reggae',\n",
       " 'reggaeton',\n",
       " 'regional',\n",
       " 'relax',\n",
       " 'religious',\n",
       " 'retro',\n",
       " 'rhythm',\n",
       " 'rnb',\n",
       " 'rnr',\n",
       " 'rock',\n",
       " 'rockabilly',\n",
       " 'rockalternative',\n",
       " 'rockindie',\n",
       " 'rockother',\n",
       " 'romance',\n",
       " 'roots',\n",
       " 'ruspop',\n",
       " 'rusrap',\n",
       " 'rusrock',\n",
       " 'russian',\n",
       " 'salsa',\n",
       " 'samba',\n",
       " 'scenic',\n",
       " 'schlager',\n",
       " 'self',\n",
       " 'sertanejo',\n",
       " 'shanson',\n",
       " 'shoegazing',\n",
       " 'showtunes',\n",
       " 'singer',\n",
       " 'ska',\n",
       " 'skarock',\n",
       " 'slow',\n",
       " 'smooth',\n",
       " 'soft',\n",
       " 'soul',\n",
       " 'soulful',\n",
       " 'sound',\n",
       " 'soundtrack',\n",
       " 'southern',\n",
       " 'specialty',\n",
       " 'speech',\n",
       " 'spiritual',\n",
       " 'sport',\n",
       " 'stonerrock',\n",
       " 'surf',\n",
       " 'swing',\n",
       " 'synthpop',\n",
       " 'synthrock',\n",
       " 'sängerportrait',\n",
       " 'tango',\n",
       " 'tanzorchester',\n",
       " 'taraftar',\n",
       " 'tatar',\n",
       " 'tech',\n",
       " 'techno',\n",
       " 'teen',\n",
       " 'thrash',\n",
       " 'top',\n",
       " 'traditional',\n",
       " 'tradjazz',\n",
       " 'trance',\n",
       " 'tribal',\n",
       " 'trip',\n",
       " 'triphop',\n",
       " 'tropical',\n",
       " 'türk',\n",
       " 'türkçe',\n",
       " 'ukrrock',\n",
       " 'unknown',\n",
       " 'urban',\n",
       " 'uzbek',\n",
       " 'variété',\n",
       " 'vi',\n",
       " 'videogame',\n",
       " 'vocal',\n",
       " 'western',\n",
       " 'world',\n",
       " 'worldbeat',\n",
       " 'ïîï',\n",
       " 'электроника']"
      ]
     },
     "execution_count": 106,
     "metadata": {},
     "output_type": "execute_result"
    }
   ],
   "source": [
    "# Проверка на неявные дубликаты.\n",
    "# Повторный просмотр уникальных значений жанров с помощью метода .unique() и функции sorted()\n",
    "sorted(df['genre'].unique())"
   ]
  },
  {
   "cell_type": "markdown",
   "metadata": {},
   "source": [
    "Неявные дубликаты были удалены."
   ]
  },
  {
   "cell_type": "markdown",
   "metadata": {
    "id": "jz6a9-7HQUDd"
   },
   "source": [
    "**Вывод**\n",
    "\n",
    "Были обнаружены следующие проблемы в данных:\n",
    "\n",
    "- нарушения в стиле заголовков,\n",
    "- пропущенные значения,\n",
    "- явные и неявные дубликаты.\n",
    "\n",
    "Указанные проблемы были устранены."
   ]
  },
  {
   "cell_type": "markdown",
   "metadata": {
    "id": "WttZHXH0SqKk"
   },
   "source": [
    "## Проверка гипотез"
   ]
  },
  {
   "cell_type": "markdown",
   "metadata": {
    "id": "Im936VVi_Zcu"
   },
   "source": [
    "### Сравнение предпочтений пользователей в Москве и Санкт-Петербурге"
   ]
  },
  {
   "cell_type": "markdown",
   "metadata": {},
   "source": [
    "Проверим гипотезу о том, что пользователи в Москве и Санкт-Петербурге по-разному слушают музыку."
   ]
  },
  {
   "cell_type": "markdown",
   "metadata": {},
   "source": [
    "Сначала выполним подсчет числа прослушиваний в каждом городе."
   ]
  },
  {
   "cell_type": "code",
   "execution_count": 107,
   "metadata": {
    "id": "0_Qs96oh_Zcu"
   },
   "outputs": [
    {
     "data": {
      "text/html": [
       "<div>\n",
       "<style scoped>\n",
       "    .dataframe tbody tr th:only-of-type {\n",
       "        vertical-align: middle;\n",
       "    }\n",
       "\n",
       "    .dataframe tbody tr th {\n",
       "        vertical-align: top;\n",
       "    }\n",
       "\n",
       "    .dataframe thead th {\n",
       "        text-align: right;\n",
       "    }\n",
       "</style>\n",
       "<table border=\"1\" class=\"dataframe\">\n",
       "  <thead>\n",
       "    <tr style=\"text-align: right;\">\n",
       "      <th></th>\n",
       "      <th>user_id</th>\n",
       "      <th>track</th>\n",
       "      <th>artist</th>\n",
       "      <th>genre</th>\n",
       "      <th>time</th>\n",
       "      <th>day</th>\n",
       "    </tr>\n",
       "    <tr>\n",
       "      <th>city</th>\n",
       "      <th></th>\n",
       "      <th></th>\n",
       "      <th></th>\n",
       "      <th></th>\n",
       "      <th></th>\n",
       "      <th></th>\n",
       "    </tr>\n",
       "  </thead>\n",
       "  <tbody>\n",
       "    <tr>\n",
       "      <td>Moscow</td>\n",
       "      <td>42741</td>\n",
       "      <td>42741</td>\n",
       "      <td>42741</td>\n",
       "      <td>42741</td>\n",
       "      <td>42741</td>\n",
       "      <td>42741</td>\n",
       "    </tr>\n",
       "    <tr>\n",
       "      <td>Saint-Petersburg</td>\n",
       "      <td>18512</td>\n",
       "      <td>18512</td>\n",
       "      <td>18512</td>\n",
       "      <td>18512</td>\n",
       "      <td>18512</td>\n",
       "      <td>18512</td>\n",
       "    </tr>\n",
       "  </tbody>\n",
       "</table>\n",
       "</div>"
      ],
      "text/plain": [
       "                  user_id  track  artist  genre   time    day\n",
       "city                                                         \n",
       "Moscow              42741  42741   42741  42741  42741  42741\n",
       "Saint-Petersburg    18512  18512   18512  18512  18512  18512"
      ]
     },
     "execution_count": 107,
     "metadata": {},
     "output_type": "execute_result"
    }
   ],
   "source": [
    "# Подсчёт прослушиваний в каждом городе.\n",
    "# Таблица df группируется по городу с помощью метода .groupby()\n",
    "# и с помощью count() подсчитываются прослушивания в каждой группе.\n",
    "df.groupby('city').count()"
   ]
  },
  {
   "cell_type": "markdown",
   "metadata": {},
   "source": [
    "В Москве число прослушиваний оказалось больше."
   ]
  },
  {
   "cell_type": "markdown",
   "metadata": {},
   "source": [
    "Теперь подсчитаем общее число прослушиваний в обоих городах по дням недели."
   ]
  },
  {
   "cell_type": "code",
   "execution_count": 108,
   "metadata": {
    "id": "uZMKjiJz_Zcu"
   },
   "outputs": [
    {
     "data": {
      "text/html": [
       "<div>\n",
       "<style scoped>\n",
       "    .dataframe tbody tr th:only-of-type {\n",
       "        vertical-align: middle;\n",
       "    }\n",
       "\n",
       "    .dataframe tbody tr th {\n",
       "        vertical-align: top;\n",
       "    }\n",
       "\n",
       "    .dataframe thead th {\n",
       "        text-align: right;\n",
       "    }\n",
       "</style>\n",
       "<table border=\"1\" class=\"dataframe\">\n",
       "  <thead>\n",
       "    <tr style=\"text-align: right;\">\n",
       "      <th></th>\n",
       "      <th>user_id</th>\n",
       "      <th>track</th>\n",
       "      <th>artist</th>\n",
       "      <th>genre</th>\n",
       "      <th>city</th>\n",
       "      <th>time</th>\n",
       "    </tr>\n",
       "    <tr>\n",
       "      <th>day</th>\n",
       "      <th></th>\n",
       "      <th></th>\n",
       "      <th></th>\n",
       "      <th></th>\n",
       "      <th></th>\n",
       "      <th></th>\n",
       "    </tr>\n",
       "  </thead>\n",
       "  <tbody>\n",
       "    <tr>\n",
       "      <td>Friday</td>\n",
       "      <td>21840</td>\n",
       "      <td>21840</td>\n",
       "      <td>21840</td>\n",
       "      <td>21840</td>\n",
       "      <td>21840</td>\n",
       "      <td>21840</td>\n",
       "    </tr>\n",
       "    <tr>\n",
       "      <td>Monday</td>\n",
       "      <td>21354</td>\n",
       "      <td>21354</td>\n",
       "      <td>21354</td>\n",
       "      <td>21354</td>\n",
       "      <td>21354</td>\n",
       "      <td>21354</td>\n",
       "    </tr>\n",
       "    <tr>\n",
       "      <td>Wednesday</td>\n",
       "      <td>18059</td>\n",
       "      <td>18059</td>\n",
       "      <td>18059</td>\n",
       "      <td>18059</td>\n",
       "      <td>18059</td>\n",
       "      <td>18059</td>\n",
       "    </tr>\n",
       "  </tbody>\n",
       "</table>\n",
       "</div>"
      ],
      "text/plain": [
       "           user_id  track  artist  genre   city   time\n",
       "day                                                   \n",
       "Friday       21840  21840   21840  21840  21840  21840\n",
       "Monday       21354  21354   21354  21354  21354  21354\n",
       "Wednesday    18059  18059   18059  18059  18059  18059"
      ]
     },
     "execution_count": 108,
     "metadata": {},
     "output_type": "execute_result"
    }
   ],
   "source": [
    "# Подсчёт прослушиваний в каждый из трёх дней.\n",
    "# Таблица df группируется по дням с помощью метода groupby()\n",
    "# и с помощью count() подсчитываются прослушивания в каждой группе - \n",
    "# в понедельник, среду и пятницу.\n",
    "df.groupby('day').count()"
   ]
  },
  {
   "cell_type": "markdown",
   "metadata": {},
   "source": [
    "Меньше всего слушают музыку в среду. Данные имеются только для понедельника, среды и пятницы."
   ]
  },
  {
   "cell_type": "markdown",
   "metadata": {},
   "source": [
    "Теперь напишем функцию для подсчета числа прослушиваний в определенном городе в определенный день недели."
   ]
  },
  {
   "cell_type": "code",
   "execution_count": 109,
   "metadata": {
    "id": "Nz3GdQB1_Zcu"
   },
   "outputs": [],
   "source": [
    "# <создание функции number_tracks()>\n",
    "# Объявляется функция с двумя параметрами: day, city.\n",
    "# В переменной track_list сохраняются те строки таблицы df, для которых \n",
    "# значение в столбце 'day' равно параметру day и одновременно значение\n",
    "# в столбце 'city' равно параметру city (используйте последовательную фильтрацию\n",
    "# с помощью логической индексации).\n",
    "# В переменной track_list_count сохраняется число значений столбца 'user_id',\n",
    "# рассчитанное методом count() для таблицы track_list.\n",
    "# Функция возвращает число - значение track_list_count.\n",
    "\n",
    "# Функция для подсчёта прослушиваний для конкретного города и дня.\n",
    "# С помощью последовательной фильтрации с логической индексацией она \n",
    "# сначала получит из исходной таблицы строки с нужным днём,\n",
    "# затем из результата отфильтрует строки с нужным городом,\n",
    "# методом count() посчитает количество значений в колонке user_id. \n",
    "# Это количество функция вернёт в качестве результата\n",
    "def number_tracks(day, city):\n",
    "    track_list = df[df['day'] == day]\n",
    "    track_list = track_list[track_list['city'] == city]\n",
    "    track_list_count = track_list['user_id'].count()\n",
    "    return track_list_count"
   ]
  },
  {
   "cell_type": "markdown",
   "metadata": {},
   "source": [
    "Используем написанную функцию для получения числа прослушиваний в каждом городе в каждый день недели (данные имеются для понедельника, среды и пятницы)."
   ]
  },
  {
   "cell_type": "code",
   "execution_count": 110,
   "metadata": {
    "id": "rJcRATNQ_Zcu"
   },
   "outputs": [
    {
     "name": "stdout",
     "output_type": "stream",
     "text": [
      "Количество прослушиваний в Москве в понедельник: 15740\n"
     ]
    }
   ],
   "source": [
    "# количество прослушиваний в Москве по понедельникам.\n",
    "# Вызывается функция number_tracks() c двумя позиционными аргументами,\n",
    "# которые передаются соответствующим параметрам функции -\n",
    "# значение 'Monday' передается параметру day,\n",
    "# а значение 'Moscow' передается параметру city.\n",
    "print(\"Количество прослушиваний в Москве в понедельник:\", number_tracks('Monday', 'Moscow'))"
   ]
  },
  {
   "cell_type": "code",
   "execution_count": 111,
   "metadata": {
    "id": "hq_ncZ5T_Zcu"
   },
   "outputs": [
    {
     "name": "stdout",
     "output_type": "stream",
     "text": [
      "Количество прослушиваний в Санкт-Петербурге по понедельникам: 5614\n"
     ]
    }
   ],
   "source": [
    "# количество прослушиваний в Санкт-Петербурге по понедельникам.\n",
    "# Вызывается функция number_tracks() c двумя позиционными аргументами,\n",
    "# которые передаются соответствующим параметрам функции -\n",
    "# значение 'Monday' передается параметру day,\n",
    "# а значение 'Saint-Petersburg' передается параметру city.\n",
    "print(\"Количество прослушиваний в Санкт-Петербурге по понедельникам:\", number_tracks('Monday', 'Saint-Petersburg'))"
   ]
  },
  {
   "cell_type": "code",
   "execution_count": 112,
   "metadata": {
    "id": "_NTy2VPU_Zcu"
   },
   "outputs": [
    {
     "name": "stdout",
     "output_type": "stream",
     "text": [
      "Количество прослушиваний в Москве по средам: 11056\n"
     ]
    }
   ],
   "source": [
    "# количество прослушиваний в Москве по средам.\n",
    "# Вызывается функция number_tracks() c двумя позиционными аргументами,\n",
    "# которые передаются соответствующим параметрам функции -\n",
    "# значение 'Wednesday' передается параметру day,\n",
    "# а значение 'Moscow' передается параметру city.\n",
    "print(\"Количество прослушиваний в Москве по средам:\", number_tracks('Wednesday', 'Moscow'))"
   ]
  },
  {
   "cell_type": "code",
   "execution_count": 113,
   "metadata": {
    "id": "j2y3TAwo_Zcu"
   },
   "outputs": [
    {
     "name": "stdout",
     "output_type": "stream",
     "text": [
      "Количество прослушиваний в Санкт-Петербурге по средам: 7003\n"
     ]
    }
   ],
   "source": [
    "# количество прослушиваний в Санкт-Петербурге по средам.\n",
    "# Вызывается функция number_tracks() c двумя позиционными аргументами,\n",
    "# которые передаются соответствующим параметрам функции -\n",
    "# значение 'Wednesday' передается параметру day,\n",
    "# а значение 'Saint-Petersburg' передается параметру city.\n",
    "print(\"Количество прослушиваний в Санкт-Петербурге по средам:\", number_tracks('Wednesday', 'Saint-Petersburg'))"
   ]
  },
  {
   "cell_type": "code",
   "execution_count": 114,
   "metadata": {
    "id": "vYDw5u_K_Zcu"
   },
   "outputs": [
    {
     "name": "stdout",
     "output_type": "stream",
     "text": [
      "Количество прослушиваний в Москве по пятницам: 15945\n"
     ]
    }
   ],
   "source": [
    "# количество прослушиваний в Москве по пятницам.\n",
    "# Вызывается функция number_tracks() c двумя позиционными аргументами,\n",
    "# которые передаются соответствующим параметрам функции -\n",
    "# значение 'Friday' передается параметру day,\n",
    "# а значение 'Moscow' передается параметру city.\n",
    "print(\"Количество прослушиваний в Москве по пятницам:\", number_tracks('Friday', 'Moscow'))"
   ]
  },
  {
   "cell_type": "code",
   "execution_count": 115,
   "metadata": {
    "id": "8_yzFtW3_Zcu"
   },
   "outputs": [
    {
     "name": "stdout",
     "output_type": "stream",
     "text": [
      "Количество прослушиваний в Санкт-Петербурге по пятницам: 5895\n"
     ]
    }
   ],
   "source": [
    "# количество прослушиваний в Санкт-Петербурге по пятницам.\n",
    "# Вызывается функция number_tracks() c двумя позиционными аргументами,\n",
    "# которые передаются соответствующим параметрам функции -\n",
    "# значение 'Friday' передается параметру day,\n",
    "# а значение 'Saint-Petersburg' передается параметру city.\n",
    "print(\"Количество прослушиваний в Санкт-Петербурге по пятницам:\", number_tracks('Friday', 'Saint-Petersburg'))"
   ]
  },
  {
   "cell_type": "markdown",
   "metadata": {},
   "source": [
    "Для удобства сравнения полученных результатов создадим на их основе таблицу."
   ]
  },
  {
   "cell_type": "code",
   "execution_count": 116,
   "metadata": {
    "id": "APAcLpOr_Zcu"
   },
   "outputs": [
    {
     "data": {
      "text/html": [
       "<div>\n",
       "<style scoped>\n",
       "    .dataframe tbody tr th:only-of-type {\n",
       "        vertical-align: middle;\n",
       "    }\n",
       "\n",
       "    .dataframe tbody tr th {\n",
       "        vertical-align: top;\n",
       "    }\n",
       "\n",
       "    .dataframe thead th {\n",
       "        text-align: right;\n",
       "    }\n",
       "</style>\n",
       "<table border=\"1\" class=\"dataframe\">\n",
       "  <thead>\n",
       "    <tr style=\"text-align: right;\">\n",
       "      <th></th>\n",
       "      <th>city</th>\n",
       "      <th>monday</th>\n",
       "      <th>wednesday</th>\n",
       "      <th>friday</th>\n",
       "    </tr>\n",
       "  </thead>\n",
       "  <tbody>\n",
       "    <tr>\n",
       "      <td>0</td>\n",
       "      <td>Moscow</td>\n",
       "      <td>15740</td>\n",
       "      <td>11056</td>\n",
       "      <td>15945</td>\n",
       "    </tr>\n",
       "    <tr>\n",
       "      <td>1</td>\n",
       "      <td>Saint-Petersburg</td>\n",
       "      <td>5614</td>\n",
       "      <td>7003</td>\n",
       "      <td>5895</td>\n",
       "    </tr>\n",
       "  </tbody>\n",
       "</table>\n",
       "</div>"
      ],
      "text/plain": [
       "               city  monday  wednesday  friday\n",
       "0            Moscow   15740      11056   15945\n",
       "1  Saint-Petersburg    5614       7003    5895"
      ]
     },
     "execution_count": 116,
     "metadata": {},
     "output_type": "execute_result"
    }
   ],
   "source": [
    "# Таблица с результатами.\n",
    "# Создание таблицы с указанием названий колонок с помощью параметра columns\n",
    "# и с указанием построчно данных для разных городов - Moscow и Saint-Petersburg.\n",
    "pd.DataFrame(data=[['Moscow', 15740, 11056, 15945], ['Saint-Petersburg', 5614, 7003, 5895]], columns=['city', 'monday', 'wednesday', 'friday'])"
   ]
  },
  {
   "cell_type": "markdown",
   "metadata": {
    "id": "-EgPIHYu_Zcu"
   },
   "source": [
    "**Выводы**\n",
    "\n",
    "Данные показывают разницу поведения пользователей:\n",
    "\n",
    "- В Москве пик прослушиваний приходится на понедельник и пятницу, а в среду заметен спад.\n",
    "- В Петербурге, наоборот, больше слушают музыку по средам. Активность в понедельник и пятницу здесь почти в равной мере уступает среде.\n",
    "\n",
    "Значит, данные говорят в пользу сформулированной гипотезы."
   ]
  },
  {
   "cell_type": "markdown",
   "metadata": {
    "id": "atZAxtq4_Zcu"
   },
   "source": [
    "### Прослушивания в начале недели и в конце"
   ]
  },
  {
   "cell_type": "markdown",
   "metadata": {},
   "source": [
    "Проверим следующую гипотезу, согласно которой в понедельник утром и в пятницу вечером в Москве преобладают прослушивания одних жанров, а в Петербурге - других."
   ]
  },
  {
   "cell_type": "markdown",
   "metadata": {},
   "source": [
    "Выделим данные для Москвы и Санкт-Петербурга и сохраним в разные таблицы."
   ]
  },
  {
   "cell_type": "code",
   "execution_count": 117,
   "metadata": {
    "id": "qeaFfM_P_Zcu"
   },
   "outputs": [],
   "source": [
    "# Получение таблицы moscow_general из тех строк таблицы df, \n",
    "# для которых значение в столбце 'city' равно 'Moscow'.\n",
    "moscow_general = df[df['city'] == 'Moscow']"
   ]
  },
  {
   "cell_type": "code",
   "execution_count": 118,
   "metadata": {
    "id": "ORaVRKto_Zcu"
   },
   "outputs": [],
   "source": [
    "# Получение таблицы spb_general из тех строк таблицы df,\n",
    "# для которых значение в столбце 'city' равно 'Saint-Petersburg'.\n",
    "spb_general = df[df['city'] == 'Saint-Petersburg']"
   ]
  },
  {
   "cell_type": "markdown",
   "metadata": {},
   "source": [
    "Создание функции, возвращающей 10 самых популярных жанров, с четырьмя параметрами:\n",
    "\n",
    "* table - таблица с данными\n",
    "* day - день недели\n",
    "* time1 - начало временного интервала в формате 'hh:mm'\n",
    "* time2 - конец временного интервала в формате 'hh:mm'.\n",
    "\n"
   ]
  },
  {
   "cell_type": "code",
   "execution_count": 119,
   "metadata": {
    "id": "laJT9BYl_Zcu"
   },
   "outputs": [],
   "source": [
    "# Объявление функции genre_weekday() с параметрами table, day, time1, time2,\n",
    "# которая возвращает информацию о самых популярных жанрах в указанный день в\n",
    "# заданное время:\n",
    "# 1) в переменную genre_df сохраняются те строки переданного датафрейма table, для\n",
    "#    которых одновременно:\n",
    "#    - значение в столбце day равно значению аргумента day\n",
    "#    - значение в столбце time больше значения аргумента time1\n",
    "#    - значение в столбце time меньше значения аргумента time2\n",
    "#    Используйте последовательную фильтрацию с помощью логической индексации.\n",
    "# 2) сгруппировать датафрейм genre_df по столбцу genre, взять один из его\n",
    "#    столбцов и посчитать методом count() количество записей для каждого из\n",
    "#    присутствующих жанров, получившийся Series записать в переменную\n",
    "#    genre_df_count\n",
    "# 3) отсортировать genre_df_count по убыванию встречаемости и сохранить\n",
    "#    в переменную genre_df_sorted\n",
    "# 4) вернуть Series из 10 первых значений genre_df_sorted, это будут топ-10\n",
    "#    популярных жанров (в указанный день, в заданное время)\n",
    "def genre_weekday(table, day, time1, time2):\n",
    "  genre_df = table[table['day'] == day]\n",
    "  genre_df = genre_df[genre_df['time'] > time1]\n",
    "  genre_df = genre_df[genre_df['time'] < time2]\n",
    "  genre_df_count = genre_df.groupby('genre')['track'].count()\n",
    "  genre_df_sorted = genre_df_count.sort_values(ascending=False)\n",
    "  return genre_df_sorted.head(10)"
   ]
  },
  {
   "cell_type": "markdown",
   "metadata": {},
   "source": [
    "10 самых популярных жанров в понедельник утром в Москве."
   ]
  },
  {
   "cell_type": "code",
   "execution_count": 120,
   "metadata": {
    "id": "yz7itPUQ_Zcu"
   },
   "outputs": [
    {
     "data": {
      "text/plain": [
       "genre\n",
       "pop            781\n",
       "dance          549\n",
       "electronic     480\n",
       "rock           474\n",
       "hiphop         286\n",
       "ruspop         186\n",
       "world          181\n",
       "rusrap         175\n",
       "alternative    164\n",
       "unknown        161\n",
       "Name: track, dtype: int64"
      ]
     },
     "execution_count": 120,
     "metadata": {},
     "output_type": "execute_result"
    }
   ],
   "source": [
    "# Вызов функции для утра понедельника в Москве (вместо df — таблица moscow_general).\n",
    "# Объекты, хранящие время, являются строками и сравниваются как строки.\n",
    "# При вызове функции таблица moscow_general передается параметру функции table,\n",
    "# значение 'Monday' передается параметру функции day,\n",
    "# значение '07:00' - параметру time1, значение '11:00' - параметру time2.\n",
    "# Пример вызова: genre_weekday(moscow_general, 'Monday', '07:00', '11:00')\n",
    "genre_weekday(moscow_general, 'Monday', '07:00', '11:00')"
   ]
  },
  {
   "cell_type": "markdown",
   "metadata": {},
   "source": [
    "10 самых популярных жанров в понедельник утром в Петербурге."
   ]
  },
  {
   "cell_type": "code",
   "execution_count": 121,
   "metadata": {
    "id": "kwUcHPdy_Zcu"
   },
   "outputs": [
    {
     "data": {
      "text/plain": [
       "genre\n",
       "pop            218\n",
       "dance          182\n",
       "rock           162\n",
       "electronic     147\n",
       "hiphop          80\n",
       "ruspop          64\n",
       "alternative     58\n",
       "rusrap          55\n",
       "jazz            44\n",
       "classical       40\n",
       "Name: track, dtype: int64"
      ]
     },
     "execution_count": 121,
     "metadata": {},
     "output_type": "execute_result"
    }
   ],
   "source": [
    "# Вызов функции для утра понедельника в Петербурге (вместо df — таблица spb_general).\n",
    "# При вызове функции таблица spb_general передается параметру функции table,\n",
    "# значение 'Monday' передается параметру функции day,\n",
    "# значение '07:00' - параметру time1, значение '11:00' - параметру time2.\n",
    "genre_weekday(spb_general, 'Monday', '07:00', '11:00')"
   ]
  },
  {
   "cell_type": "markdown",
   "metadata": {},
   "source": [
    "10 самых популярных жанров в пятницу вечером в Москве."
   ]
  },
  {
   "cell_type": "code",
   "execution_count": 122,
   "metadata": {
    "id": "EzXVRE1o_Zcu",
    "scrolled": true
   },
   "outputs": [
    {
     "data": {
      "text/plain": [
       "genre\n",
       "pop            713\n",
       "rock           517\n",
       "dance          495\n",
       "electronic     482\n",
       "hiphop         273\n",
       "world          208\n",
       "ruspop         170\n",
       "alternative    163\n",
       "classical      163\n",
       "rusrap         142\n",
       "Name: track, dtype: int64"
      ]
     },
     "execution_count": 122,
     "metadata": {},
     "output_type": "execute_result"
    }
   ],
   "source": [
    "# Вызов функции для вечера пятницы в Москве.\n",
    "# При вызове функции таблица moscow_general передается параметру функции table,\n",
    "# значение 'Friday' передается параметру функции day,\n",
    "# значение '17:00' - параметру time1, значение '23:00' - параметру time2.\n",
    "genre_weekday(moscow_general, 'Friday', '17:00', '23:00')"
   ]
  },
  {
   "cell_type": "markdown",
   "metadata": {},
   "source": [
    "10 самых популярных жанров в пятницу вечером в Петербурге."
   ]
  },
  {
   "cell_type": "code",
   "execution_count": 123,
   "metadata": {
    "id": "JZaEKu5v_Zcu"
   },
   "outputs": [
    {
     "data": {
      "text/plain": [
       "genre\n",
       "pop            256\n",
       "rock           216\n",
       "electronic     216\n",
       "dance          210\n",
       "hiphop          97\n",
       "alternative     63\n",
       "jazz            61\n",
       "classical       60\n",
       "rusrap          59\n",
       "world           54\n",
       "Name: track, dtype: int64"
      ]
     },
     "execution_count": 123,
     "metadata": {},
     "output_type": "execute_result"
    }
   ],
   "source": [
    "# вызов функции для вечера пятницы в Петербурге.\n",
    "# При вызове функции таблица spb_general передается параметру функции table,\n",
    "# значение 'Friday' передается параметру функции day,\n",
    "# значение '17:00' - параметру time1, значение '23:00' - параметру time2.\n",
    "genre_weekday(spb_general, 'Friday', '17:00', '23:00')"
   ]
  },
  {
   "cell_type": "markdown",
   "metadata": {
    "id": "wrCe4MNX_Zcu"
   },
   "source": [
    "**Выводы**\n",
    "\n",
    "Если сравнить топ-10 жанров в понедельник утром, можно сделать такие выводы:\n",
    "\n",
    "1. В Москве и Петербурге слушают похожую музыку. Единственное отличие — в московский рейтинг вошёл жанр “world”, а в петербургский — джаз и классика.\n",
    "\n",
    "2. В Москве пропущенных значений оказалось так много, что значение `'unknown'` заняло десятое место среди самых популярных жанров. Значит, пропущенные значения занимают существенную долю в данных и угрожают достоверности исследования.\n",
    "\n",
    "Вечер пятницы не меняет эту картину. Некоторые жанры поднимаются немного выше, другие спускаются, но в целом топ-10 остаётся тем же самым.\n",
    "\n",
    "Таким образом, вторая гипотеза подтвердилась лишь частично:\n",
    "* Пользователи слушают похожую музыку в начале недели и в конце.\n",
    "* Разница между Москвой и Петербургом не слишком выражена. В Москве чаще слушают русскую популярную музыку, в Петербурге — джаз.\n",
    "\n",
    "Однако пропуски в данных ставят под сомнение этот результат. В Москве их так много, что рейтинг топ-10 мог бы выглядеть иначе, если бы не утерянные  данные о жанрах."
   ]
  },
  {
   "cell_type": "markdown",
   "metadata": {
    "id": "JolODAqr_Zcu"
   },
   "source": [
    "### Музыкальные предпочтения в Москве и Петербурге\n",
    "\n",
    "Проверим следующую гипотезу, которая заключается в том, что в Петербурге рэп слушают чаще, чем в Москве, а в Москве наиболее популярным жанром является поп-музыка."
   ]
  },
  {
   "cell_type": "markdown",
   "metadata": {},
   "source": [
    "Получим таблицу для Москвы, включающую в себя жанры, отсортированные в порядке убывания их популярности."
   ]
  },
  {
   "cell_type": "code",
   "execution_count": 130,
   "metadata": {
    "id": "r19lIPke_Zcu"
   },
   "outputs": [],
   "source": [
    "# одной строкой: группировка таблицы moscow_general по столбцу 'genre', \n",
    "# подсчёт числа значений 'genre' в этой группировке методом count(), \n",
    "# сортировка получившегося Series в порядке убывания и сохранение в moscow_genres\n",
    "moscow_genres = moscow_general.groupby('genre')['track'].count().sort_values(ascending=False)"
   ]
  },
  {
   "cell_type": "markdown",
   "metadata": {},
   "source": [
    "Выведем для Москвы 10 самых популярных музыкальных жанров."
   ]
  },
  {
   "cell_type": "code",
   "execution_count": 135,
   "metadata": {
    "id": "WhCSooF8_Zcv"
   },
   "outputs": [
    {
     "name": "stdout",
     "output_type": "stream",
     "text": [
      "Количество прослушиваний 10 самых популярных жанров в Москве:\n",
      "\n",
      "genre\n",
      "pop            5892\n",
      "dance          4435\n",
      "rock           3965\n",
      "electronic     3786\n",
      "hiphop         2096\n",
      "classical      1616\n",
      "world          1432\n",
      "alternative    1379\n",
      "ruspop         1372\n",
      "rusrap         1161\n",
      "Name: track, dtype: int64\n"
     ]
    }
   ],
   "source": [
    "# просмотр первых 10 строк moscow_genres\n",
    "# с помощью метода .head(). Число строк указывается в скобках.\n",
    "print(\"Количество прослушиваний 10 самых популярных жанров в Москве:\")\n",
    "print()\n",
    "print(moscow_genres.head(10))"
   ]
  },
  {
   "cell_type": "markdown",
   "metadata": {
    "id": "cnPG2vnN_Zcv"
   },
   "source": [
    "Теперь получим 10 смых популярных жанров для Петербурга."
   ]
  },
  {
   "cell_type": "code",
   "execution_count": 132,
   "metadata": {
    "id": "gluLIpE7_Zcv"
   },
   "outputs": [],
   "source": [
    "# одной строкой: группировка таблицы spb_general по столбцу 'genre', \n",
    "# подсчёт числа значений 'genre' в этой группировке методом count(), \n",
    "# сортировка получившегося Series в порядке убывания и сохранение в spb_genres\n",
    "spb_genres = spb_general.groupby('genre')['track'].count().sort_values(ascending=False)"
   ]
  },
  {
   "cell_type": "code",
   "execution_count": 136,
   "metadata": {
    "id": "uaGJHjVU_Zcv"
   },
   "outputs": [
    {
     "name": "stdout",
     "output_type": "stream",
     "text": [
      "Количество прослушиваний 10 самых популярных жанров в Санкт-Петербурге:\n",
      "\n",
      "genre\n",
      "pop            2431\n",
      "dance          1932\n",
      "rock           1879\n",
      "electronic     1736\n",
      "hiphop          960\n",
      "alternative     649\n",
      "classical       646\n",
      "rusrap          564\n",
      "ruspop          538\n",
      "world           515\n",
      "Name: track, dtype: int64\n"
     ]
    }
   ],
   "source": [
    "# просмотр первых 10 строк spb_genres.\n",
    "# С этой целью используется метод .head().\n",
    "print(\"Количество прослушиваний 10 самых популярных жанров в Санкт-Петербурге:\")\n",
    "print()\n",
    "print(spb_genres.head(10))"
   ]
  },
  {
   "cell_type": "markdown",
   "metadata": {
    "id": "RY51YJYu_Zcv"
   },
   "source": [
    "**Выводы**"
   ]
  },
  {
   "cell_type": "markdown",
   "metadata": {
    "id": "nVhnJEm__Zcv"
   },
   "source": [
    "Гипотеза частично подтвердилась:\n",
    "* Поп-музыка — самый популярный жанр в Москве, как и предполагала гипотеза. Более того, в топ-10 жанров встречается близкий жанр — русская популярная музыка.\n",
    "* Вопреки ожиданиям, рэп одинаково популярен в Москве и Петербурге. \n"
   ]
  },
  {
   "cell_type": "markdown",
   "metadata": {
    "id": "ykKQ0N65_Zcv"
   },
   "source": [
    "## Общие выводы"
   ]
  },
  {
   "cell_type": "markdown",
   "metadata": {},
   "source": [
    "В результате проверки трех предположений можно сделать следующие выводы:\n",
    "1. Число прослушиваний в зависимости от дня недели определяется по-разному в Москве и Санкт-Петербурге. Первая гипотеза полностью подтвердилась;\n",
    "2. Музыкальные предпочтения в Москве и Петербурге в течение недели меняются не сильно. Различия в предпочтениях в Москве и Петербурге заметно в понедельник, когда в Москве слушают музыку жанра “world”, а в Петербурге - джаз и классику. Вторая гипотеза подтвердилась частично;\n",
    "3. Музыкальные прдпочтения пользователей в Москве и Петербурге во многом схожи, в них больше общего, чем отличий. Третья гипотеза не подтвердилась, так как отличия на основной массе пользователей незаметны."
   ]
  }
 ],
 "metadata": {
  "ExecuteTimeLog": [
   {
    "duration": 759,
    "start_time": "2021-10-18T10:41:27.498Z"
   },
   {
    "duration": 326,
    "start_time": "2021-10-18T10:41:46.254Z"
   },
   {
    "duration": 4,
    "start_time": "2021-10-18T10:42:17.114Z"
   },
   {
    "duration": 259,
    "start_time": "2021-10-18T10:44:25.484Z"
   },
   {
    "duration": 254,
    "start_time": "2021-10-18T10:51:22.746Z"
   },
   {
    "duration": 4,
    "start_time": "2021-10-18T10:51:32.164Z"
   },
   {
    "duration": 177,
    "start_time": "2021-10-18T10:51:35.620Z"
   },
   {
    "duration": 25,
    "start_time": "2021-10-18T10:53:55.825Z"
   },
   {
    "duration": 16,
    "start_time": "2021-10-18T10:54:18.466Z"
   },
   {
    "duration": 16,
    "start_time": "2021-10-18T10:56:59.814Z"
   },
   {
    "duration": 11,
    "start_time": "2021-10-18T10:57:35.429Z"
   },
   {
    "duration": 15,
    "start_time": "2021-10-18T10:57:47.348Z"
   },
   {
    "duration": 15,
    "start_time": "2021-10-18T10:57:56.620Z"
   },
   {
    "duration": 17,
    "start_time": "2021-10-18T11:00:50.423Z"
   },
   {
    "duration": 34,
    "start_time": "2021-10-18T11:01:37.766Z"
   },
   {
    "duration": 34,
    "start_time": "2021-10-18T11:01:53.870Z"
   },
   {
    "duration": 35,
    "start_time": "2021-10-18T11:02:03.214Z"
   },
   {
    "duration": 231,
    "start_time": "2021-10-18T11:02:28.422Z"
   },
   {
    "duration": 30,
    "start_time": "2021-10-18T11:02:40.462Z"
   },
   {
    "duration": 30,
    "start_time": "2021-10-18T11:03:45.445Z"
   },
   {
    "duration": 440,
    "start_time": "2021-10-18T12:50:45.558Z"
   },
   {
    "duration": 792,
    "start_time": "2021-10-18T12:51:09.796Z"
   },
   {
    "duration": 183,
    "start_time": "2021-10-18T12:51:10.591Z"
   },
   {
    "duration": 26,
    "start_time": "2021-10-18T12:51:10.777Z"
   },
   {
    "duration": 53,
    "start_time": "2021-10-18T12:51:10.805Z"
   },
   {
    "duration": 5,
    "start_time": "2021-10-18T12:51:10.860Z"
   },
   {
    "duration": 23,
    "start_time": "2021-10-18T12:51:10.868Z"
   },
   {
    "duration": 12,
    "start_time": "2021-10-18T12:51:10.893Z"
   },
   {
    "duration": 13,
    "start_time": "2021-10-18T12:51:10.908Z"
   },
   {
    "duration": 12,
    "start_time": "2021-10-18T12:51:10.927Z"
   },
   {
    "duration": 18,
    "start_time": "2021-10-18T12:51:10.941Z"
   },
   {
    "duration": 20,
    "start_time": "2021-10-18T12:51:10.962Z"
   },
   {
    "duration": 17,
    "start_time": "2021-10-18T12:51:10.985Z"
   },
   {
    "duration": 22,
    "start_time": "2021-10-18T12:51:11.004Z"
   },
   {
    "duration": 26,
    "start_time": "2021-10-18T12:51:11.028Z"
   },
   {
    "duration": 22,
    "start_time": "2021-10-18T12:51:11.056Z"
   },
   {
    "duration": 22,
    "start_time": "2021-10-18T12:51:11.081Z"
   },
   {
    "duration": 23,
    "start_time": "2021-10-18T12:51:11.105Z"
   },
   {
    "duration": 15,
    "start_time": "2021-10-18T12:51:11.130Z"
   },
   {
    "duration": 16,
    "start_time": "2021-10-18T12:51:11.148Z"
   },
   {
    "duration": 25,
    "start_time": "2021-10-18T12:51:11.166Z"
   },
   {
    "duration": 14,
    "start_time": "2021-10-18T12:51:11.194Z"
   },
   {
    "duration": 23,
    "start_time": "2021-10-18T12:51:11.210Z"
   },
   {
    "duration": 21,
    "start_time": "2021-10-18T12:51:11.235Z"
   },
   {
    "duration": 20,
    "start_time": "2021-10-18T12:51:11.258Z"
   },
   {
    "duration": 17,
    "start_time": "2021-10-18T12:51:11.280Z"
   },
   {
    "duration": 13,
    "start_time": "2021-10-18T12:51:11.300Z"
   },
   {
    "duration": 32,
    "start_time": "2021-10-18T12:51:11.320Z"
   },
   {
    "duration": 20,
    "start_time": "2021-10-18T12:51:11.354Z"
   },
   {
    "duration": 23,
    "start_time": "2021-10-18T12:51:11.376Z"
   },
   {
    "duration": 24,
    "start_time": "2021-10-18T12:51:11.402Z"
   },
   {
    "duration": 10,
    "start_time": "2021-10-18T12:51:11.428Z"
   },
   {
    "duration": 29,
    "start_time": "2021-10-18T12:51:11.440Z"
   },
   {
    "duration": 22,
    "start_time": "2021-10-18T12:51:11.472Z"
   },
   {
    "duration": 37,
    "start_time": "2021-10-18T12:51:11.496Z"
   },
   {
    "duration": 16,
    "start_time": "2021-10-18T12:51:11.536Z"
   },
   {
    "duration": 16,
    "start_time": "2021-10-18T12:51:11.555Z"
   },
   {
    "duration": 16,
    "start_time": "2021-10-18T12:51:11.574Z"
   },
   {
    "duration": 12,
    "start_time": "2021-10-18T12:51:11.593Z"
   },
   {
    "duration": 4,
    "start_time": "2021-10-18T12:51:41.076Z"
   },
   {
    "duration": 197,
    "start_time": "2021-10-18T12:51:41.082Z"
   },
   {
    "duration": 16,
    "start_time": "2021-10-18T12:51:41.281Z"
   },
   {
    "duration": 37,
    "start_time": "2021-10-18T12:51:41.299Z"
   },
   {
    "duration": 6,
    "start_time": "2021-10-18T12:52:50.548Z"
   },
   {
    "duration": 6,
    "start_time": "2021-10-18T12:53:15.660Z"
   },
   {
    "duration": 5,
    "start_time": "2021-10-18T12:55:23.243Z"
   },
   {
    "duration": 24,
    "start_time": "2021-10-18T13:07:57.032Z"
   },
   {
    "duration": 6,
    "start_time": "2021-10-18T13:08:33.511Z"
   },
   {
    "duration": 6,
    "start_time": "2021-10-18T13:10:00.685Z"
   },
   {
    "duration": 31,
    "start_time": "2021-10-18T14:50:22.228Z"
   },
   {
    "duration": 6,
    "start_time": "2021-10-18T14:56:10.706Z"
   },
   {
    "duration": 39,
    "start_time": "2021-10-18T15:10:47.964Z"
   },
   {
    "duration": 30,
    "start_time": "2021-10-18T15:11:22.242Z"
   },
   {
    "duration": 108,
    "start_time": "2021-10-18T15:54:47.905Z"
   },
   {
    "duration": 97,
    "start_time": "2021-10-18T16:57:40.539Z"
   },
   {
    "duration": 112,
    "start_time": "2021-10-18T16:58:48.630Z"
   },
   {
    "duration": 7,
    "start_time": "2021-10-18T17:35:50.441Z"
   },
   {
    "duration": 9,
    "start_time": "2021-10-18T17:36:22.216Z"
   },
   {
    "duration": 46,
    "start_time": "2021-10-18T17:37:38.797Z"
   },
   {
    "duration": 484,
    "start_time": "2021-10-18T17:38:42.637Z"
   },
   {
    "duration": 359,
    "start_time": "2021-10-18T17:40:40.617Z"
   },
   {
    "duration": 9,
    "start_time": "2021-10-18T17:42:07.759Z"
   },
   {
    "duration": 47,
    "start_time": "2021-10-18T17:44:34.164Z"
   },
   {
    "duration": 14,
    "start_time": "2021-10-18T17:44:55.244Z"
   },
   {
    "duration": 44,
    "start_time": "2021-10-18T17:45:26.451Z"
   },
   {
    "duration": 382,
    "start_time": "2021-10-18T17:46:06.699Z"
   },
   {
    "duration": 409,
    "start_time": "2021-10-18T17:46:21.242Z"
   },
   {
    "duration": 701,
    "start_time": "2021-10-18T17:47:08.856Z"
   },
   {
    "duration": 45,
    "start_time": "2021-10-18T17:48:04.175Z"
   },
   {
    "duration": 27,
    "start_time": "2021-10-18T17:48:20.519Z"
   },
   {
    "duration": 7,
    "start_time": "2021-10-18T17:48:34.062Z"
   },
   {
    "duration": 14,
    "start_time": "2021-10-18T17:50:39.172Z"
   },
   {
    "duration": 4,
    "start_time": "2021-10-18T18:07:54.885Z"
   },
   {
    "duration": 14,
    "start_time": "2021-10-18T18:08:02.460Z"
   },
   {
    "duration": 14,
    "start_time": "2021-10-18T18:08:29.124Z"
   },
   {
    "duration": 13,
    "start_time": "2021-10-18T19:02:44.003Z"
   },
   {
    "duration": 783,
    "start_time": "2021-10-19T20:52:16.644Z"
   },
   {
    "duration": 227,
    "start_time": "2021-10-19T20:52:19.641Z"
   },
   {
    "duration": 27,
    "start_time": "2021-10-19T20:52:23.877Z"
   },
   {
    "duration": 4,
    "start_time": "2021-10-19T20:52:36.728Z"
   },
   {
    "duration": 297,
    "start_time": "2021-10-19T20:52:36.736Z"
   },
   {
    "duration": 23,
    "start_time": "2021-10-19T20:52:37.036Z"
   },
   {
    "duration": 53,
    "start_time": "2021-10-19T20:52:37.069Z"
   },
   {
    "duration": 7,
    "start_time": "2021-10-19T20:52:37.125Z"
   },
   {
    "duration": 64,
    "start_time": "2021-10-19T20:52:37.135Z"
   },
   {
    "duration": 6,
    "start_time": "2021-10-19T20:52:37.204Z"
   },
   {
    "duration": 68,
    "start_time": "2021-10-19T20:52:37.213Z"
   },
   {
    "duration": 29,
    "start_time": "2021-10-19T20:52:37.284Z"
   },
   {
    "duration": 54,
    "start_time": "2021-10-19T20:52:37.316Z"
   },
   {
    "duration": 97,
    "start_time": "2021-10-19T20:52:37.373Z"
   },
   {
    "duration": 108,
    "start_time": "2021-10-19T20:52:37.473Z"
   },
   {
    "duration": 86,
    "start_time": "2021-10-19T20:52:37.583Z"
   },
   {
    "duration": 14,
    "start_time": "2021-10-19T20:52:37.671Z"
   },
   {
    "duration": 4,
    "start_time": "2021-10-19T20:52:37.687Z"
   },
   {
    "duration": 19,
    "start_time": "2021-10-19T20:52:37.693Z"
   },
   {
    "duration": 15,
    "start_time": "2021-10-19T20:52:37.715Z"
   },
   {
    "duration": 78,
    "start_time": "2021-10-19T20:52:37.732Z"
   },
   {
    "duration": 65,
    "start_time": "2021-10-19T20:52:37.814Z"
   },
   {
    "duration": 5,
    "start_time": "2021-10-19T20:52:37.882Z"
   },
   {
    "duration": 31,
    "start_time": "2021-10-19T20:52:37.890Z"
   },
   {
    "duration": 42,
    "start_time": "2021-10-19T20:52:37.924Z"
   },
   {
    "duration": 21,
    "start_time": "2021-10-19T20:52:37.968Z"
   },
   {
    "duration": 20,
    "start_time": "2021-10-19T20:52:37.991Z"
   },
   {
    "duration": 58,
    "start_time": "2021-10-19T20:52:38.013Z"
   },
   {
    "duration": 22,
    "start_time": "2021-10-19T20:52:38.073Z"
   },
   {
    "duration": 11,
    "start_time": "2021-10-19T20:52:38.098Z"
   },
   {
    "duration": 18,
    "start_time": "2021-10-19T20:52:38.111Z"
   },
   {
    "duration": 45,
    "start_time": "2021-10-19T20:52:38.132Z"
   },
   {
    "duration": 7,
    "start_time": "2021-10-19T20:52:38.180Z"
   },
   {
    "duration": 32,
    "start_time": "2021-10-19T20:52:38.190Z"
   },
   {
    "duration": 52,
    "start_time": "2021-10-19T20:52:38.225Z"
   },
   {
    "duration": 31,
    "start_time": "2021-10-19T20:52:38.280Z"
   },
   {
    "duration": 24,
    "start_time": "2021-10-19T20:52:38.314Z"
   },
   {
    "duration": 72,
    "start_time": "2021-10-19T20:52:38.341Z"
   },
   {
    "duration": 16,
    "start_time": "2021-10-19T20:52:38.416Z"
   },
   {
    "duration": 48,
    "start_time": "2021-10-19T20:52:38.435Z"
   },
   {
    "duration": 14,
    "start_time": "2021-10-19T20:52:38.485Z"
   },
   {
    "duration": 17,
    "start_time": "2021-10-19T20:54:05.388Z"
   },
   {
    "duration": 3,
    "start_time": "2021-10-19T20:54:25.835Z"
   },
   {
    "duration": 231,
    "start_time": "2021-10-19T20:54:25.842Z"
   },
   {
    "duration": 16,
    "start_time": "2021-10-19T20:54:26.076Z"
   },
   {
    "duration": 36,
    "start_time": "2021-10-19T20:54:26.096Z"
   },
   {
    "duration": 34,
    "start_time": "2021-10-19T20:54:26.135Z"
   },
   {
    "duration": 27,
    "start_time": "2021-10-19T20:54:26.172Z"
   },
   {
    "duration": 6,
    "start_time": "2021-10-19T20:54:26.203Z"
   },
   {
    "duration": 62,
    "start_time": "2021-10-19T20:54:26.212Z"
   },
   {
    "duration": 29,
    "start_time": "2021-10-19T20:54:26.276Z"
   },
   {
    "duration": 30,
    "start_time": "2021-10-19T20:54:26.308Z"
   },
   {
    "duration": 86,
    "start_time": "2021-10-19T20:54:26.367Z"
   },
   {
    "duration": 107,
    "start_time": "2021-10-19T20:54:26.468Z"
   },
   {
    "duration": 91,
    "start_time": "2021-10-19T20:54:26.577Z"
   },
   {
    "duration": 14,
    "start_time": "2021-10-19T20:54:26.671Z"
   },
   {
    "duration": 4,
    "start_time": "2021-10-19T20:54:26.688Z"
   },
   {
    "duration": 20,
    "start_time": "2021-10-19T20:54:26.694Z"
   },
   {
    "duration": 57,
    "start_time": "2021-10-19T20:54:26.716Z"
   },
   {
    "duration": 46,
    "start_time": "2021-10-19T20:54:26.775Z"
   },
   {
    "duration": 68,
    "start_time": "2021-10-19T20:54:26.826Z"
   },
   {
    "duration": 4,
    "start_time": "2021-10-19T20:54:26.897Z"
   },
   {
    "duration": 31,
    "start_time": "2021-10-19T20:54:26.903Z"
   },
   {
    "duration": 41,
    "start_time": "2021-10-19T20:54:26.936Z"
   },
   {
    "duration": 20,
    "start_time": "2021-10-19T20:54:26.979Z"
   },
   {
    "duration": 19,
    "start_time": "2021-10-19T20:54:27.001Z"
   },
   {
    "duration": 51,
    "start_time": "2021-10-19T20:54:27.022Z"
   },
   {
    "duration": 21,
    "start_time": "2021-10-19T20:54:27.075Z"
   },
   {
    "duration": 12,
    "start_time": "2021-10-19T20:54:27.098Z"
   },
   {
    "duration": 18,
    "start_time": "2021-10-19T20:54:27.112Z"
   },
   {
    "duration": 14,
    "start_time": "2021-10-19T20:54:27.167Z"
   },
   {
    "duration": 7,
    "start_time": "2021-10-19T20:54:27.183Z"
   },
   {
    "duration": 42,
    "start_time": "2021-10-19T20:54:27.193Z"
   },
   {
    "duration": 34,
    "start_time": "2021-10-19T20:54:27.237Z"
   },
   {
    "duration": 23,
    "start_time": "2021-10-19T20:54:27.273Z"
   },
   {
    "duration": 25,
    "start_time": "2021-10-19T20:54:27.298Z"
   },
   {
    "duration": 75,
    "start_time": "2021-10-19T20:54:27.326Z"
   },
   {
    "duration": 18,
    "start_time": "2021-10-19T20:54:27.404Z"
   },
   {
    "duration": 54,
    "start_time": "2021-10-19T20:54:27.426Z"
   },
   {
    "duration": 17,
    "start_time": "2021-10-19T20:54:27.483Z"
   },
   {
    "duration": 712,
    "start_time": "2021-10-20T10:14:02.100Z"
   },
   {
    "duration": 594,
    "start_time": "2021-10-20T10:14:13.282Z"
   },
   {
    "duration": 340,
    "start_time": "2021-10-20T10:14:16.509Z"
   },
   {
    "duration": 15,
    "start_time": "2021-10-20T10:25:44.672Z"
   },
   {
    "duration": 2,
    "start_time": "2021-10-20T10:32:02.961Z"
   },
   {
    "duration": 342,
    "start_time": "2021-10-20T10:32:02.966Z"
   },
   {
    "duration": 10,
    "start_time": "2021-10-20T10:32:03.310Z"
   },
   {
    "duration": 28,
    "start_time": "2021-10-20T10:32:03.322Z"
   },
   {
    "duration": 4,
    "start_time": "2021-10-20T10:32:03.352Z"
   },
   {
    "duration": 32,
    "start_time": "2021-10-20T10:32:03.357Z"
   },
   {
    "duration": 6,
    "start_time": "2021-10-20T10:32:03.390Z"
   },
   {
    "duration": 29,
    "start_time": "2021-10-20T10:32:03.398Z"
   },
   {
    "duration": 21,
    "start_time": "2021-10-20T10:32:03.430Z"
   },
   {
    "duration": 33,
    "start_time": "2021-10-20T10:32:03.452Z"
   },
   {
    "duration": 52,
    "start_time": "2021-10-20T10:32:13.492Z"
   },
   {
    "duration": 62,
    "start_time": "2021-10-20T10:32:53.507Z"
   },
   {
    "duration": 48,
    "start_time": "2021-10-20T10:32:57.106Z"
   },
   {
    "duration": 3,
    "start_time": "2021-10-20T10:39:19.839Z"
   },
   {
    "duration": 338,
    "start_time": "2021-10-20T10:39:19.845Z"
   },
   {
    "duration": 9,
    "start_time": "2021-10-20T10:39:20.185Z"
   },
   {
    "duration": 24,
    "start_time": "2021-10-20T10:39:20.196Z"
   },
   {
    "duration": 4,
    "start_time": "2021-10-20T10:39:20.221Z"
   },
   {
    "duration": 14,
    "start_time": "2021-10-20T10:39:20.226Z"
   },
   {
    "duration": 3,
    "start_time": "2021-10-20T10:39:20.242Z"
   },
   {
    "duration": 46,
    "start_time": "2021-10-20T10:39:20.247Z"
   },
   {
    "duration": 22,
    "start_time": "2021-10-20T10:39:20.295Z"
   },
   {
    "duration": 21,
    "start_time": "2021-10-20T10:39:20.318Z"
   },
   {
    "duration": 69,
    "start_time": "2021-10-20T10:39:20.340Z"
   },
   {
    "duration": 65,
    "start_time": "2021-10-20T10:39:20.411Z"
   },
   {
    "duration": 45,
    "start_time": "2021-10-20T10:39:20.478Z"
   },
   {
    "duration": 8,
    "start_time": "2021-10-20T10:39:20.525Z"
   },
   {
    "duration": 2,
    "start_time": "2021-10-20T10:39:20.535Z"
   },
   {
    "duration": 13,
    "start_time": "2021-10-20T10:39:20.539Z"
   },
   {
    "duration": 25,
    "start_time": "2021-10-20T10:39:20.554Z"
   },
   {
    "duration": 32,
    "start_time": "2021-10-20T10:39:20.581Z"
   },
   {
    "duration": 31,
    "start_time": "2021-10-20T10:39:20.615Z"
   },
   {
    "duration": 31,
    "start_time": "2021-10-20T10:39:20.648Z"
   },
   {
    "duration": 16,
    "start_time": "2021-10-20T10:39:29.221Z"
   },
   {
    "duration": 2,
    "start_time": "2021-10-20T10:42:33.700Z"
   },
   {
    "duration": 351,
    "start_time": "2021-10-20T10:42:33.707Z"
   },
   {
    "duration": 11,
    "start_time": "2021-10-20T10:42:34.060Z"
   },
   {
    "duration": 26,
    "start_time": "2021-10-20T10:42:34.073Z"
   },
   {
    "duration": 3,
    "start_time": "2021-10-20T10:42:34.101Z"
   },
   {
    "duration": 21,
    "start_time": "2021-10-20T10:42:34.106Z"
   },
   {
    "duration": 4,
    "start_time": "2021-10-20T10:42:34.129Z"
   },
   {
    "duration": 49,
    "start_time": "2021-10-20T10:42:34.136Z"
   },
   {
    "duration": 20,
    "start_time": "2021-10-20T10:42:34.189Z"
   },
   {
    "duration": 22,
    "start_time": "2021-10-20T10:42:34.211Z"
   },
   {
    "duration": 79,
    "start_time": "2021-10-20T10:42:34.235Z"
   },
   {
    "duration": 67,
    "start_time": "2021-10-20T10:42:34.316Z"
   },
   {
    "duration": 47,
    "start_time": "2021-10-20T10:42:34.385Z"
   },
   {
    "duration": 9,
    "start_time": "2021-10-20T10:42:34.434Z"
   },
   {
    "duration": 3,
    "start_time": "2021-10-20T10:42:34.444Z"
   },
   {
    "duration": 30,
    "start_time": "2021-10-20T10:42:34.449Z"
   },
   {
    "duration": 9,
    "start_time": "2021-10-20T10:42:34.481Z"
   },
   {
    "duration": 28,
    "start_time": "2021-10-20T10:42:34.491Z"
   },
   {
    "duration": 56,
    "start_time": "2021-10-20T10:42:34.521Z"
   },
   {
    "duration": 3,
    "start_time": "2021-10-20T10:42:34.579Z"
   },
   {
    "duration": 21,
    "start_time": "2021-10-20T10:42:34.584Z"
   },
   {
    "duration": 15,
    "start_time": "2021-10-20T10:42:40.822Z"
   },
   {
    "duration": 15,
    "start_time": "2021-10-20T10:43:43.173Z"
   },
   {
    "duration": 3,
    "start_time": "2021-10-20T10:44:51.098Z"
   },
   {
    "duration": 348,
    "start_time": "2021-10-20T10:44:51.105Z"
   },
   {
    "duration": 11,
    "start_time": "2021-10-20T10:44:51.455Z"
   },
   {
    "duration": 31,
    "start_time": "2021-10-20T10:44:51.468Z"
   },
   {
    "duration": 5,
    "start_time": "2021-10-20T10:44:51.501Z"
   },
   {
    "duration": 21,
    "start_time": "2021-10-20T10:44:51.508Z"
   },
   {
    "duration": 5,
    "start_time": "2021-10-20T10:44:51.531Z"
   },
   {
    "duration": 47,
    "start_time": "2021-10-20T10:44:51.537Z"
   },
   {
    "duration": 21,
    "start_time": "2021-10-20T10:44:51.587Z"
   },
   {
    "duration": 20,
    "start_time": "2021-10-20T10:44:51.610Z"
   },
   {
    "duration": 75,
    "start_time": "2021-10-20T10:44:51.632Z"
   },
   {
    "duration": 67,
    "start_time": "2021-10-20T10:44:51.709Z"
   },
   {
    "duration": 47,
    "start_time": "2021-10-20T10:44:51.778Z"
   },
   {
    "duration": 9,
    "start_time": "2021-10-20T10:44:51.827Z"
   },
   {
    "duration": 3,
    "start_time": "2021-10-20T10:44:51.837Z"
   },
   {
    "duration": 34,
    "start_time": "2021-10-20T10:44:51.842Z"
   },
   {
    "duration": 10,
    "start_time": "2021-10-20T10:44:51.878Z"
   },
   {
    "duration": 30,
    "start_time": "2021-10-20T10:44:51.889Z"
   },
   {
    "duration": 30,
    "start_time": "2021-10-20T10:44:51.921Z"
   },
   {
    "duration": 23,
    "start_time": "2021-10-20T10:44:51.953Z"
   },
   {
    "duration": 17,
    "start_time": "2021-10-20T10:44:51.978Z"
   },
   {
    "duration": 15,
    "start_time": "2021-10-20T10:44:51.997Z"
   },
   {
    "duration": 13,
    "start_time": "2021-10-20T10:44:52.014Z"
   },
   {
    "duration": 46,
    "start_time": "2021-10-20T10:44:52.030Z"
   },
   {
    "duration": 15,
    "start_time": "2021-10-20T10:44:52.079Z"
   },
   {
    "duration": 13,
    "start_time": "2021-10-20T10:44:56.827Z"
   },
   {
    "duration": 424,
    "start_time": "2021-10-20T11:15:54.915Z"
   },
   {
    "duration": 310,
    "start_time": "2021-10-20T11:16:26.512Z"
   },
   {
    "duration": 2,
    "start_time": "2021-10-20T11:16:34.590Z"
   },
   {
    "duration": 336,
    "start_time": "2021-10-20T11:16:34.596Z"
   },
   {
    "duration": 9,
    "start_time": "2021-10-20T11:16:34.934Z"
   },
   {
    "duration": 32,
    "start_time": "2021-10-20T11:16:34.945Z"
   },
   {
    "duration": 5,
    "start_time": "2021-10-20T11:16:34.980Z"
   },
   {
    "duration": 18,
    "start_time": "2021-10-20T11:16:34.986Z"
   },
   {
    "duration": 8,
    "start_time": "2021-10-20T11:16:35.006Z"
   },
   {
    "duration": 33,
    "start_time": "2021-10-20T11:16:35.016Z"
   },
   {
    "duration": 37,
    "start_time": "2021-10-20T11:16:35.051Z"
   },
   {
    "duration": 21,
    "start_time": "2021-10-20T11:16:35.090Z"
   },
   {
    "duration": 65,
    "start_time": "2021-10-20T11:16:35.112Z"
   },
   {
    "duration": 63,
    "start_time": "2021-10-20T11:16:35.179Z"
   },
   {
    "duration": 64,
    "start_time": "2021-10-20T11:16:35.244Z"
   },
   {
    "duration": 9,
    "start_time": "2021-10-20T11:16:35.310Z"
   },
   {
    "duration": 3,
    "start_time": "2021-10-20T11:16:35.321Z"
   },
   {
    "duration": 13,
    "start_time": "2021-10-20T11:16:35.325Z"
   },
   {
    "duration": 9,
    "start_time": "2021-10-20T11:16:35.340Z"
   },
   {
    "duration": 53,
    "start_time": "2021-10-20T11:16:35.351Z"
   },
   {
    "duration": 28,
    "start_time": "2021-10-20T11:16:35.406Z"
   },
   {
    "duration": 2,
    "start_time": "2021-10-20T11:16:35.436Z"
   },
   {
    "duration": 38,
    "start_time": "2021-10-20T11:16:35.440Z"
   },
   {
    "duration": 14,
    "start_time": "2021-10-20T11:16:35.480Z"
   },
   {
    "duration": 13,
    "start_time": "2021-10-20T11:16:35.495Z"
   },
   {
    "duration": 12,
    "start_time": "2021-10-20T11:16:35.511Z"
   },
   {
    "duration": 15,
    "start_time": "2021-10-20T11:16:35.525Z"
   },
   {
    "duration": 44,
    "start_time": "2021-10-20T11:16:35.541Z"
   },
   {
    "duration": 7,
    "start_time": "2021-10-20T11:16:35.586Z"
   },
   {
    "duration": 13,
    "start_time": "2021-10-20T11:16:35.594Z"
   },
   {
    "duration": 8,
    "start_time": "2021-10-20T11:16:35.609Z"
   },
   {
    "duration": 3,
    "start_time": "2021-10-20T11:16:35.619Z"
   },
   {
    "duration": 20,
    "start_time": "2021-10-20T11:16:35.624Z"
   },
   {
    "duration": 37,
    "start_time": "2021-10-20T11:16:35.645Z"
   },
   {
    "duration": 15,
    "start_time": "2021-10-20T11:16:35.683Z"
   },
   {
    "duration": 12,
    "start_time": "2021-10-20T11:16:35.700Z"
   },
   {
    "duration": 22,
    "start_time": "2021-10-20T11:16:35.713Z"
   },
   {
    "duration": 334,
    "start_time": "2021-10-20T11:16:56.599Z"
   },
   {
    "duration": 507,
    "start_time": "2021-10-20T11:17:27.807Z"
   },
   {
    "duration": 24,
    "start_time": "2021-10-20T11:17:38.719Z"
   },
   {
    "duration": 421,
    "start_time": "2021-10-20T11:19:22.251Z"
   },
   {
    "duration": 407,
    "start_time": "2021-10-20T11:19:59.331Z"
   },
   {
    "duration": 9,
    "start_time": "2021-10-20T11:21:51.896Z"
   },
   {
    "duration": 6,
    "start_time": "2021-10-20T11:21:59.618Z"
   },
   {
    "duration": 7,
    "start_time": "2021-10-20T11:22:54.526Z"
   },
   {
    "duration": 5,
    "start_time": "2021-10-20T11:23:00.279Z"
   },
   {
    "duration": 5,
    "start_time": "2021-10-20T11:26:36.114Z"
   },
   {
    "duration": 4,
    "start_time": "2021-10-20T11:26:55.115Z"
   },
   {
    "duration": 4,
    "start_time": "2021-10-20T11:28:50.039Z"
   }
  ],
  "colab": {
   "collapsed_sections": [
    "E0vqbgi9ay0H",
    "VUC88oWjTJw2"
   ],
   "name": "yandex_music_project_2021.2.ipynb",
   "provenance": []
  },
  "kernelspec": {
   "display_name": "Python 3 (ipykernel)",
   "language": "python",
   "name": "python3"
  },
  "language_info": {
   "codemirror_mode": {
    "name": "ipython",
    "version": 3
   },
   "file_extension": ".py",
   "mimetype": "text/x-python",
   "name": "python",
   "nbconvert_exporter": "python",
   "pygments_lexer": "ipython3",
   "version": "3.9.13"
  },
  "toc": {
   "base_numbering": 1,
   "nav_menu": {},
   "number_sections": true,
   "sideBar": true,
   "skip_h1_title": true,
   "title_cell": "Table of Contents",
   "title_sidebar": "Contents",
   "toc_cell": false,
   "toc_position": {},
   "toc_section_display": true,
   "toc_window_display": true
  }
 },
 "nbformat": 4,
 "nbformat_minor": 1
}
