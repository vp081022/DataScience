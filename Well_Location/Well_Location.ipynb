{
 "cells": [
  {
   "cell_type": "markdown",
   "metadata": {},
   "source": [
    "# Выбор места локации для скважины"
   ]
  },
  {
   "cell_type": "markdown",
   "metadata": {},
   "source": [
    "# Описание задачи"
   ]
  },
  {
   "cell_type": "markdown",
   "metadata": {},
   "source": [
    "Имеются пробы нефти в трёх регионах, в каждом из которых по 10000 месторождений, а также замеры качества нефти и информация об объёме её запасов. Необходимо построить модель, позволяющую определить регион, в котором добыча принесёт наибольшую прибыль."
   ]
  },
  {
   "cell_type": "markdown",
   "metadata": {},
   "source": [
    "# Условия задачи:"
   ]
  },
  {
   "cell_type": "markdown",
   "metadata": {},
   "source": [
    "* При разведке региона исследуют 500 точек, из которых выбирают 200 лучших для разработки.\n",
    "* Бюджет на разработку скважин в регионе — 10 млрд рублей.\n",
    "* При текущих ценах один баррель сырья приносит 450 рублей дохода. Поскольку объём указан в тысячах баррелей, то доход с каждой единицы продукта составляет 450 тыс.\n",
    "* После оценки рисков необходимо оставить только те регионы, в которых вероятность убытков меньше 2.5%. Среди них выбирается регион с наибольшей средней прибылью."
   ]
  },
  {
   "cell_type": "markdown",
   "metadata": {},
   "source": [
    "# План работы"
   ]
  },
  {
   "cell_type": "markdown",
   "metadata": {},
   "source": [
    "1. Обзор данных\n",
    "    1. Загрузка и подготовка данных\n",
    "2. Обучение и проверка модели\n",
    "3. Подготовка к расчету прибыли\n",
    "4. Расчет прибыли и рисков\n",
    "5. Вывод"
   ]
  },
  {
   "cell_type": "markdown",
   "metadata": {},
   "source": [
    "# Описание данных"
   ]
  },
  {
   "cell_type": "markdown",
   "metadata": {},
   "source": [
    "* `id` — уникальный идентификатор скважины;\n",
    "* `f0`, `f1`, `f2` — три признака точек;\n",
    "* `product` — объём запасов в скважине (тыс. баррелей)."
   ]
  },
  {
   "cell_type": "markdown",
   "metadata": {},
   "source": [
    "## Обзор данных"
   ]
  },
  {
   "cell_type": "markdown",
   "metadata": {},
   "source": [
    "### Загрузка и подготовка данных"
   ]
  },
  {
   "cell_type": "code",
   "execution_count": 115,
   "metadata": {},
   "outputs": [],
   "source": [
    "# Импорт необходимых библиотек и функций\n",
    "import pandas as pd\n",
    "import numpy as np\n",
    "from sklearn.linear_model import LinearRegression\n",
    "from sklearn.model_selection import train_test_split\n",
    "from sklearn.metrics import mean_squared_error"
   ]
  },
  {
   "cell_type": "code",
   "execution_count": 116,
   "metadata": {},
   "outputs": [],
   "source": [
    "#Чтение данных для трех регионов.\n",
    "data_0 = pd.read_csv('/datasets/geo_data_0.csv')\n",
    "data_1 = pd.read_csv('/datasets/geo_data_1.csv')\n",
    "data_2 = pd.read_csv('/datasets/geo_data_2.csv')"
   ]
  },
  {
   "cell_type": "code",
   "execution_count": 117,
   "metadata": {},
   "outputs": [
    {
     "data": {
      "text/html": [
       "<div>\n",
       "<style scoped>\n",
       "    .dataframe tbody tr th:only-of-type {\n",
       "        vertical-align: middle;\n",
       "    }\n",
       "\n",
       "    .dataframe tbody tr th {\n",
       "        vertical-align: top;\n",
       "    }\n",
       "\n",
       "    .dataframe thead th {\n",
       "        text-align: right;\n",
       "    }\n",
       "</style>\n",
       "<table border=\"1\" class=\"dataframe\">\n",
       "  <thead>\n",
       "    <tr style=\"text-align: right;\">\n",
       "      <th></th>\n",
       "      <th>id</th>\n",
       "      <th>f0</th>\n",
       "      <th>f1</th>\n",
       "      <th>f2</th>\n",
       "      <th>product</th>\n",
       "    </tr>\n",
       "  </thead>\n",
       "  <tbody>\n",
       "    <tr>\n",
       "      <td>0</td>\n",
       "      <td>txEyH</td>\n",
       "      <td>0.705745</td>\n",
       "      <td>-0.497823</td>\n",
       "      <td>1.221170</td>\n",
       "      <td>105.280062</td>\n",
       "    </tr>\n",
       "    <tr>\n",
       "      <td>1</td>\n",
       "      <td>2acmU</td>\n",
       "      <td>1.334711</td>\n",
       "      <td>-0.340164</td>\n",
       "      <td>4.365080</td>\n",
       "      <td>73.037750</td>\n",
       "    </tr>\n",
       "    <tr>\n",
       "      <td>2</td>\n",
       "      <td>409Wp</td>\n",
       "      <td>1.022732</td>\n",
       "      <td>0.151990</td>\n",
       "      <td>1.419926</td>\n",
       "      <td>85.265647</td>\n",
       "    </tr>\n",
       "    <tr>\n",
       "      <td>3</td>\n",
       "      <td>iJLyR</td>\n",
       "      <td>-0.032172</td>\n",
       "      <td>0.139033</td>\n",
       "      <td>2.978566</td>\n",
       "      <td>168.620776</td>\n",
       "    </tr>\n",
       "    <tr>\n",
       "      <td>4</td>\n",
       "      <td>Xdl7t</td>\n",
       "      <td>1.988431</td>\n",
       "      <td>0.155413</td>\n",
       "      <td>4.751769</td>\n",
       "      <td>154.036647</td>\n",
       "    </tr>\n",
       "  </tbody>\n",
       "</table>\n",
       "</div>"
      ],
      "text/plain": [
       "      id        f0        f1        f2     product\n",
       "0  txEyH  0.705745 -0.497823  1.221170  105.280062\n",
       "1  2acmU  1.334711 -0.340164  4.365080   73.037750\n",
       "2  409Wp  1.022732  0.151990  1.419926   85.265647\n",
       "3  iJLyR -0.032172  0.139033  2.978566  168.620776\n",
       "4  Xdl7t  1.988431  0.155413  4.751769  154.036647"
      ]
     },
     "execution_count": 117,
     "metadata": {},
     "output_type": "execute_result"
    }
   ],
   "source": [
    "#Просмотр первых 5 строк таблицы data_0\n",
    "data_0.head()"
   ]
  },
  {
   "cell_type": "code",
   "execution_count": 118,
   "metadata": {},
   "outputs": [
    {
     "data": {
      "text/html": [
       "<div>\n",
       "<style scoped>\n",
       "    .dataframe tbody tr th:only-of-type {\n",
       "        vertical-align: middle;\n",
       "    }\n",
       "\n",
       "    .dataframe tbody tr th {\n",
       "        vertical-align: top;\n",
       "    }\n",
       "\n",
       "    .dataframe thead th {\n",
       "        text-align: right;\n",
       "    }\n",
       "</style>\n",
       "<table border=\"1\" class=\"dataframe\">\n",
       "  <thead>\n",
       "    <tr style=\"text-align: right;\">\n",
       "      <th></th>\n",
       "      <th>id</th>\n",
       "      <th>f0</th>\n",
       "      <th>f1</th>\n",
       "      <th>f2</th>\n",
       "      <th>product</th>\n",
       "    </tr>\n",
       "  </thead>\n",
       "  <tbody>\n",
       "    <tr>\n",
       "      <td>0</td>\n",
       "      <td>kBEdx</td>\n",
       "      <td>-15.001348</td>\n",
       "      <td>-8.276000</td>\n",
       "      <td>-0.005876</td>\n",
       "      <td>3.179103</td>\n",
       "    </tr>\n",
       "    <tr>\n",
       "      <td>1</td>\n",
       "      <td>62mP7</td>\n",
       "      <td>14.272088</td>\n",
       "      <td>-3.475083</td>\n",
       "      <td>0.999183</td>\n",
       "      <td>26.953261</td>\n",
       "    </tr>\n",
       "    <tr>\n",
       "      <td>2</td>\n",
       "      <td>vyE1P</td>\n",
       "      <td>6.263187</td>\n",
       "      <td>-5.948386</td>\n",
       "      <td>5.001160</td>\n",
       "      <td>134.766305</td>\n",
       "    </tr>\n",
       "    <tr>\n",
       "      <td>3</td>\n",
       "      <td>KcrkZ</td>\n",
       "      <td>-13.081196</td>\n",
       "      <td>-11.506057</td>\n",
       "      <td>4.999415</td>\n",
       "      <td>137.945408</td>\n",
       "    </tr>\n",
       "    <tr>\n",
       "      <td>4</td>\n",
       "      <td>AHL4O</td>\n",
       "      <td>12.702195</td>\n",
       "      <td>-8.147433</td>\n",
       "      <td>5.004363</td>\n",
       "      <td>134.766305</td>\n",
       "    </tr>\n",
       "  </tbody>\n",
       "</table>\n",
       "</div>"
      ],
      "text/plain": [
       "      id         f0         f1        f2     product\n",
       "0  kBEdx -15.001348  -8.276000 -0.005876    3.179103\n",
       "1  62mP7  14.272088  -3.475083  0.999183   26.953261\n",
       "2  vyE1P   6.263187  -5.948386  5.001160  134.766305\n",
       "3  KcrkZ -13.081196 -11.506057  4.999415  137.945408\n",
       "4  AHL4O  12.702195  -8.147433  5.004363  134.766305"
      ]
     },
     "execution_count": 118,
     "metadata": {},
     "output_type": "execute_result"
    }
   ],
   "source": [
    "#Просмотр первых 5 строк таблицы data_1\n",
    "data_1.head()"
   ]
  },
  {
   "cell_type": "code",
   "execution_count": 119,
   "metadata": {
    "scrolled": true
   },
   "outputs": [
    {
     "data": {
      "text/html": [
       "<div>\n",
       "<style scoped>\n",
       "    .dataframe tbody tr th:only-of-type {\n",
       "        vertical-align: middle;\n",
       "    }\n",
       "\n",
       "    .dataframe tbody tr th {\n",
       "        vertical-align: top;\n",
       "    }\n",
       "\n",
       "    .dataframe thead th {\n",
       "        text-align: right;\n",
       "    }\n",
       "</style>\n",
       "<table border=\"1\" class=\"dataframe\">\n",
       "  <thead>\n",
       "    <tr style=\"text-align: right;\">\n",
       "      <th></th>\n",
       "      <th>id</th>\n",
       "      <th>f0</th>\n",
       "      <th>f1</th>\n",
       "      <th>f2</th>\n",
       "      <th>product</th>\n",
       "    </tr>\n",
       "  </thead>\n",
       "  <tbody>\n",
       "    <tr>\n",
       "      <td>0</td>\n",
       "      <td>fwXo0</td>\n",
       "      <td>-1.146987</td>\n",
       "      <td>0.963328</td>\n",
       "      <td>-0.828965</td>\n",
       "      <td>27.758673</td>\n",
       "    </tr>\n",
       "    <tr>\n",
       "      <td>1</td>\n",
       "      <td>WJtFt</td>\n",
       "      <td>0.262778</td>\n",
       "      <td>0.269839</td>\n",
       "      <td>-2.530187</td>\n",
       "      <td>56.069697</td>\n",
       "    </tr>\n",
       "    <tr>\n",
       "      <td>2</td>\n",
       "      <td>ovLUW</td>\n",
       "      <td>0.194587</td>\n",
       "      <td>0.289035</td>\n",
       "      <td>-5.586433</td>\n",
       "      <td>62.871910</td>\n",
       "    </tr>\n",
       "    <tr>\n",
       "      <td>3</td>\n",
       "      <td>q6cA6</td>\n",
       "      <td>2.236060</td>\n",
       "      <td>-0.553760</td>\n",
       "      <td>0.930038</td>\n",
       "      <td>114.572842</td>\n",
       "    </tr>\n",
       "    <tr>\n",
       "      <td>4</td>\n",
       "      <td>WPMUX</td>\n",
       "      <td>-0.515993</td>\n",
       "      <td>1.716266</td>\n",
       "      <td>5.899011</td>\n",
       "      <td>149.600746</td>\n",
       "    </tr>\n",
       "  </tbody>\n",
       "</table>\n",
       "</div>"
      ],
      "text/plain": [
       "      id        f0        f1        f2     product\n",
       "0  fwXo0 -1.146987  0.963328 -0.828965   27.758673\n",
       "1  WJtFt  0.262778  0.269839 -2.530187   56.069697\n",
       "2  ovLUW  0.194587  0.289035 -5.586433   62.871910\n",
       "3  q6cA6  2.236060 -0.553760  0.930038  114.572842\n",
       "4  WPMUX -0.515993  1.716266  5.899011  149.600746"
      ]
     },
     "execution_count": 119,
     "metadata": {},
     "output_type": "execute_result"
    }
   ],
   "source": [
    "#Просмотр первых 5 строк таблицы data_2\n",
    "data_2.head()"
   ]
  },
  {
   "cell_type": "code",
   "execution_count": 120,
   "metadata": {},
   "outputs": [
    {
     "name": "stdout",
     "output_type": "stream",
     "text": [
      "<class 'pandas.core.frame.DataFrame'>\n",
      "RangeIndex: 100000 entries, 0 to 99999\n",
      "Data columns (total 5 columns):\n",
      "id         100000 non-null object\n",
      "f0         100000 non-null float64\n",
      "f1         100000 non-null float64\n",
      "f2         100000 non-null float64\n",
      "product    100000 non-null float64\n",
      "dtypes: float64(4), object(1)\n",
      "memory usage: 3.8+ MB\n"
     ]
    }
   ],
   "source": [
    "#Сводная информация о таблице data_0\n",
    "data_0.info()"
   ]
  },
  {
   "cell_type": "code",
   "execution_count": 121,
   "metadata": {},
   "outputs": [
    {
     "name": "stdout",
     "output_type": "stream",
     "text": [
      "<class 'pandas.core.frame.DataFrame'>\n",
      "RangeIndex: 100000 entries, 0 to 99999\n",
      "Data columns (total 5 columns):\n",
      "id         100000 non-null object\n",
      "f0         100000 non-null float64\n",
      "f1         100000 non-null float64\n",
      "f2         100000 non-null float64\n",
      "product    100000 non-null float64\n",
      "dtypes: float64(4), object(1)\n",
      "memory usage: 3.8+ MB\n"
     ]
    }
   ],
   "source": [
    "#Сводная информация о таблице data_1\n",
    "data_1.info()"
   ]
  },
  {
   "cell_type": "code",
   "execution_count": 122,
   "metadata": {},
   "outputs": [
    {
     "name": "stdout",
     "output_type": "stream",
     "text": [
      "<class 'pandas.core.frame.DataFrame'>\n",
      "RangeIndex: 100000 entries, 0 to 99999\n",
      "Data columns (total 5 columns):\n",
      "id         100000 non-null object\n",
      "f0         100000 non-null float64\n",
      "f1         100000 non-null float64\n",
      "f2         100000 non-null float64\n",
      "product    100000 non-null float64\n",
      "dtypes: float64(4), object(1)\n",
      "memory usage: 3.8+ MB\n"
     ]
    }
   ],
   "source": [
    "#Сводная информация о таблице data_2\n",
    "data_2.info()"
   ]
  },
  {
   "cell_type": "code",
   "execution_count": 123,
   "metadata": {
    "scrolled": true
   },
   "outputs": [],
   "source": [
    "#Удаление столбца с уникальными идентификаторами из таблицы каждого региона.\n",
    "data_0 = data_0.drop(['id'], axis=1)\n",
    "data_1 = data_1.drop(['id'], axis=1)\n",
    "data_2 = data_2.drop(['id'], axis=1)"
   ]
  },
  {
   "cell_type": "code",
   "execution_count": 124,
   "metadata": {},
   "outputs": [],
   "source": [
    "#Выделение в таблице первого региона основных признаков и целевого.\n",
    "features_0 = data_0.drop(['product'], axis=1)\n",
    "target_0 = data_0['product']"
   ]
  },
  {
   "cell_type": "code",
   "execution_count": 125,
   "metadata": {},
   "outputs": [],
   "source": [
    "#Выделение в таблице второго региона основных признаков и целевого.\n",
    "features_1 = data_1.drop(['product'], axis=1)\n",
    "target_1 = data_1['product']"
   ]
  },
  {
   "cell_type": "code",
   "execution_count": 126,
   "metadata": {},
   "outputs": [],
   "source": [
    "#Выделение в таблице третьего региона основных признаков и целевого.\n",
    "features_2 = data_2.drop(['product'], axis=1)\n",
    "target_2 = data_2['product']"
   ]
  },
  {
   "cell_type": "markdown",
   "metadata": {},
   "source": [
    "## Обучение и проверка модели"
   ]
  },
  {
   "cell_type": "code",
   "execution_count": 127,
   "metadata": {},
   "outputs": [],
   "source": [
    "#Разбиение данных первого региона на обучающую и валидационную выборки.\n",
    "features_0_train, features_0_valid, target_0_train, target_0_valid = train_test_split(\n",
    "    features_0, target_0, test_size=0.25, random_state=12345)"
   ]
  },
  {
   "cell_type": "code",
   "execution_count": 128,
   "metadata": {},
   "outputs": [],
   "source": [
    "#Разбиение данных второго региона на обучающую и валидационную выборки.\n",
    "features_1_train, features_1_valid, target_1_train, target_1_valid = train_test_split(\n",
    "    features_1, target_1, test_size=0.25, random_state=12345)"
   ]
  },
  {
   "cell_type": "code",
   "execution_count": 129,
   "metadata": {},
   "outputs": [],
   "source": [
    "#Разбиение данных третьего региона на обучающую и валидационную выборки.\n",
    "features_2_train, features_2_valid, target_2_train, target_2_valid = train_test_split(\n",
    "    features_2, target_2, test_size=0.25, random_state=12345)"
   ]
  },
  {
   "cell_type": "code",
   "execution_count": 130,
   "metadata": {},
   "outputs": [],
   "source": [
    "#Создание для каждого региона модели линейной регрессии.\n",
    "model_0 = LinearRegression()\n",
    "model_1 = LinearRegression()\n",
    "model_2 = LinearRegression()"
   ]
  },
  {
   "cell_type": "code",
   "execution_count": 131,
   "metadata": {},
   "outputs": [
    {
     "data": {
      "text/plain": [
       "LinearRegression(copy_X=True, fit_intercept=True, n_jobs=None, normalize=False)"
      ]
     },
     "execution_count": 131,
     "metadata": {},
     "output_type": "execute_result"
    }
   ],
   "source": [
    "#Обучение каждой модели на данных соответствующих регионов\n",
    "model_0.fit(features_0_train, target_0_train)\n",
    "model_1.fit(features_1_train, target_1_train)\n",
    "model_2.fit(features_2_train, target_2_train)"
   ]
  },
  {
   "cell_type": "code",
   "execution_count": 132,
   "metadata": {},
   "outputs": [],
   "source": [
    "#Предсказания с использованием модели и валидационной выборки каждого региона.\n",
    "predictions_0_valid = model_0.predict(features_0_valid)\n",
    "predictions_1_valid = model_1.predict(features_1_valid)\n",
    "predictions_2_valid = model_2.predict(features_2_valid)"
   ]
  },
  {
   "cell_type": "code",
   "execution_count": 133,
   "metadata": {},
   "outputs": [],
   "source": [
    "#Вычисление среднего для спрогнозированных данных в каждом регионе\n",
    "predictions_0_valid_mean = predictions_0_valid.mean()\n",
    "predictions_1_valid_mean = predictions_1_valid.mean()\n",
    "predictions_2_valid_mean = predictions_2_valid.mean()"
   ]
  },
  {
   "cell_type": "code",
   "execution_count": 134,
   "metadata": {},
   "outputs": [],
   "source": [
    "#Вычисление RMSE для каждого региона\n",
    "result_0 = mean_squared_error(target_0_valid, predictions_0_valid) ** 0.5\n",
    "result_1 = mean_squared_error(target_1_valid, predictions_1_valid) ** 0.5\n",
    "result_2 = mean_squared_error(target_2_valid, predictions_2_valid) ** 0.5"
   ]
  },
  {
   "cell_type": "code",
   "execution_count": 135,
   "metadata": {
    "scrolled": true
   },
   "outputs": [
    {
     "name": "stdout",
     "output_type": "stream",
     "text": [
      "Cредний запас предсказанного сырья в первом регионе: 92.59256778438038\n",
      "Cредний запас предсказанного сырья во втором регионе: 68.728546895446\n",
      "Cредний запас предсказанного сырья в третьем регионе: 94.96504596800489\n"
     ]
    }
   ],
   "source": [
    "#Вывод вычисленных средних значений для спрогнозированных данных в каждом регионе.\n",
    "print(\"Cредний запас предсказанного сырья в первом регионе:\", predictions_0_valid_mean)\n",
    "print(\"Cредний запас предсказанного сырья во втором регионе:\", predictions_1_valid_mean)\n",
    "print(\"Cредний запас предсказанного сырья в третьем регионе:\", predictions_2_valid_mean)"
   ]
  },
  {
   "cell_type": "code",
   "execution_count": 136,
   "metadata": {},
   "outputs": [
    {
     "name": "stdout",
     "output_type": "stream",
     "text": [
      "RMSE модели  для первого региона: 37.5794217150813\n",
      "RMSE модели для второго региона: 0.893099286775616\n",
      "RMSE модели для третьего региона: 40.02970873393434\n"
     ]
    }
   ],
   "source": [
    "#Вывод вычисленного RMSE для каждого региона.\n",
    "print(\"RMSE модели  для первого региона:\", result_0)\n",
    "print(\"RMSE модели для второго региона:\", result_1)\n",
    "print(\"RMSE модели для третьего региона:\", result_2)"
   ]
  },
  {
   "cell_type": "markdown",
   "metadata": {},
   "source": [
    "Вывод. Как видно по значениям метрики RMSE для регионов, с большим отрывом, наиболее точной является модель второго региона. Эту модель можно назвать самой точной, она предсказывает целевой параметр с наименьшими ошибками."
   ]
  },
  {
   "cell_type": "markdown",
   "metadata": {},
   "source": [
    "## Подготовка к расчёту прибыли"
   ]
  },
  {
   "cell_type": "code",
   "execution_count": 137,
   "metadata": {},
   "outputs": [],
   "source": [
    "#Бюджет на разработку скважин в регионе, создание константы.\n",
    "BUDGET = 10000000000\n",
    "\n",
    "#Доход с каждой единицы продукта, создание константы.\n",
    "PROFIT = 450000\n",
    "\n",
    "#200 наиболее перспективных скважин для разработки, создание константы.\n",
    "TOP_POINTS = 200"
   ]
  },
  {
   "cell_type": "code",
   "execution_count": 138,
   "metadata": {},
   "outputs": [],
   "source": [
    "#Вычисление достаточного объёма сырья для безубыточной разработки новой скважины.\n",
    "volume_min = BUDGET / (PROFIT * TOP_POINTS)"
   ]
  },
  {
   "cell_type": "code",
   "execution_count": 139,
   "metadata": {},
   "outputs": [
    {
     "name": "stdout",
     "output_type": "stream",
     "text": [
      "Достаточный объём сырья для безубыточной разработки новой скважины: 111.11111111111111\n"
     ]
    }
   ],
   "source": [
    "#Вывод полученного значения достаточного объёма сырья для безубыточной разработки новой скважины.\n",
    "print('Достаточный объём сырья для безубыточной разработки новой скважины:', volume_min)"
   ]
  },
  {
   "cell_type": "code",
   "execution_count": 140,
   "metadata": {},
   "outputs": [],
   "source": [
    "#Функция для расчёта прибыли по выбранным скважинам и предсказаниям модели.\n",
    "def profit_oil(subsample, target):\n",
    "    #Сортировка подвыюорки по убыванию\n",
    "    subsample_sorted = subsample.sort_values(ascending=False)\n",
    "    #Выбор 200 лучших скважин\n",
    "    selected = subsample_sorted[:TOP_POINTS]\n",
    "    #Суммирование целевого значения объема сырья\n",
    "    barrel = target[selected.index]\n",
    "    barrel_sum = barrel.sum()\n",
    "    #Подсчет прибыли\n",
    "    sum_income = barrel_sum * PROFIT - BUDGET\n",
    "    \n",
    "    return sum_income"
   ]
  },
  {
   "cell_type": "markdown",
   "metadata": {},
   "source": [
    "Вывод. Как видно из предыдущего пункта, средний запаса предсказанного сырья в каждом регионе для отдельной скважины ниже достаточного объема сырья для безубыточной разработки новой скважины. Наименее рискованной будет разработка скважин в третьем регионе, поскольку средний запас предсказанного сырья в нем больше, чем в остальных регионах."
   ]
  },
  {
   "cell_type": "markdown",
   "metadata": {},
   "source": [
    "## Расчёт прибыли и рисков "
   ]
  },
  {
   "cell_type": "code",
   "execution_count": 141,
   "metadata": {},
   "outputs": [],
   "source": [
    "#Применение техники Bootstrap с 1000 выборок для каждого региона.\n",
    "\n",
    "state = np.random.RandomState(12345)\n",
    "#Преобразование предсказаний в Series\n",
    "predictions_0_valid = pd.Series(predictions_0_valid, index=target_0_valid.index)\n",
    "predictions_1_valid = pd.Series(predictions_1_valid, index=target_1_valid.index)\n",
    "predictions_2_valid = pd.Series(predictions_2_valid, index=target_2_valid.index)\n",
    "#Создание списков для 1000 значений рассчитанной прибыли тысячи разных подвыборок, в каждом регионе.\n",
    "values_0 = []\n",
    "values_1 = []\n",
    "values_2 = []\n",
    "#Поочередное взятие 1000 разных подвыборок из предсказанных значений для каждого региона.\n",
    "for i in range(1000):\n",
    "    subsample_0 = predictions_0_valid.sample(n=500, replace=False, random_state=state)\n",
    "    subsample_1 = predictions_1_valid.sample(n=500, replace=False, random_state=state)\n",
    "    subsample_2 = predictions_2_valid.sample(n=500, replace=False, random_state=state)\n",
    "    #Вычисление значения прибыли для каждого региона с использованием каждой из 1000 подвыборок \n",
    "    values_0.append(profit_oil(subsample_0, target_0))\n",
    "    values_1.append(profit_oil(subsample_1, target_1))\n",
    "    values_2.append(profit_oil(subsample_2, target_2))   "
   ]
  },
  {
   "cell_type": "code",
   "execution_count": 142,
   "metadata": {},
   "outputs": [],
   "source": [
    "#Преобразование списков с возможными значениями прибыли в Series.\n",
    "values_0 = pd.Series(values_0)\n",
    "values_1 = pd.Series(values_1)\n",
    "values_2 = pd.Series(values_2)"
   ]
  },
  {
   "cell_type": "code",
   "execution_count": 143,
   "metadata": {},
   "outputs": [],
   "source": [
    "#Вычисление среднего значения прибыли для каждого региона.\n",
    "mean_0 = values_0.mean()\n",
    "mean_1 = values_1.mean()\n",
    "mean_2 = values_2.mean()"
   ]
  },
  {
   "cell_type": "code",
   "execution_count": 144,
   "metadata": {},
   "outputs": [
    {
     "name": "stdout",
     "output_type": "stream",
     "text": [
      "Cреднее значения прибыли для первого региона: 383130172.9119874\n",
      "Cреднее значения прибыли для второго региона: 461647880.15728706\n",
      "Cреднее значения прибыли для третьего региона: 385875293.1307218\n"
     ]
    }
   ],
   "source": [
    "print('Cреднее значения прибыли для первого региона:', mean_0)\n",
    "print('Cреднее значения прибыли для второго региона:', mean_1)\n",
    "print('Cреднее значения прибыли для третьего региона:', mean_2)"
   ]
  },
  {
   "cell_type": "code",
   "execution_count": 145,
   "metadata": {},
   "outputs": [],
   "source": [
    "#Функция для вычисления доверительного интервала\n",
    "def confidence_interval(values):\n",
    "    lower = values.quantile(0.025)\n",
    "    upper = values.quantile(0.975)\n",
    "    return (lower, upper)"
   ]
  },
  {
   "cell_type": "code",
   "execution_count": 147,
   "metadata": {},
   "outputs": [],
   "source": [
    "#Вычисление для прибыли 95%-го доверительного интервала, для каждого региона.\n",
    "confidence_interval_0 = confidence_interval(values_0)\n",
    "confidence_interval_1 = confidence_interval(values_1)\n",
    "confidence_interval_2 = confidence_interval(values_2)"
   ]
  },
  {
   "cell_type": "code",
   "execution_count": 148,
   "metadata": {},
   "outputs": [
    {
     "name": "stdout",
     "output_type": "stream",
     "text": [
      "95%-й доверительный интервал для первого региона: (-122628872.20709155, 907659204.8963034)\n",
      "95%-й доверительный интервал для второго региона:: (70232291.72482277, 843920466.3157415)\n",
      "95%-й доверительный интервал для третьего региона:: (-125915595.7251412, 924563382.8229748)\n"
     ]
    }
   ],
   "source": [
    "print('95%-й доверительный интервал для первого региона:', confidence_interval_0)\n",
    "print('95%-й доверительный интервал для второго региона::', confidence_interval_1)\n",
    "print('95%-й доверительный интервал для третьего региона::', confidence_interval_2)"
   ]
  },
  {
   "cell_type": "code",
   "execution_count": 149,
   "metadata": {},
   "outputs": [
    {
     "name": "stdout",
     "output_type": "stream",
     "text": [
      "Доля возможных убытков в первом регионе: 7%\n"
     ]
    }
   ],
   "source": [
    "#Доля возможных убытков в первом регионе, в процентах.\n",
    "print('Доля возможных убытков в первом регионе:','{:.0%}'.format((values_0 < 0).mean()))"
   ]
  },
  {
   "cell_type": "code",
   "execution_count": 150,
   "metadata": {},
   "outputs": [
    {
     "name": "stdout",
     "output_type": "stream",
     "text": [
      "Доля возможных убытков во втором регионе: 0.90%\n"
     ]
    }
   ],
   "source": [
    "#Доля возможных убытков во втором регионе, в процентах.\n",
    "values_1[values_1 < 0].count() / len(values_1)\n",
    "print('Доля возможных убытков во втором регионе:','{:.2%}'.format((values_1 < 0).mean()))"
   ]
  },
  {
   "cell_type": "code",
   "execution_count": 151,
   "metadata": {},
   "outputs": [
    {
     "name": "stdout",
     "output_type": "stream",
     "text": [
      "Доля возможных убытков в третьем регионе: 8.4%\n"
     ]
    }
   ],
   "source": [
    "#Доля возможных убытков во третьем регионе, в процентах.\n",
    "print('Доля возможных убытков в третьем регионе:','{:.1%}'.format((values_2 < 0).mean()))"
   ]
  },
  {
   "cell_type": "markdown",
   "metadata": {},
   "source": [
    "## Вывод"
   ]
  },
  {
   "cell_type": "markdown",
   "metadata": {},
   "source": [
    "Для разработки месторождения рекомендуется второй регион. Кроме того, что модель для данного региона является самой точной, среднее значение прибыли для данного региона является самым высоким и вероятность убытков ниже требуемых 2.5%, то есть риски приемлемы в отличие от остальных регионов, где вероятность убытков больше 2.5%. Однако, средний запас предсказанного сырья во втором регионе меньше, чем в остальных и меньше достаточного объёма сырья для безубыточной разработки новой скважины. Объяснить самое высокое значение прибыли во втором регионе можно применением техники Bootstrap при ее расчете, которая дает более достоверные и точные значения, чем просто взятие среднего значения."
   ]
  }
 ],
 "metadata": {
  "ExecuteTimeLog": [
   {
    "duration": 603,
    "start_time": "2022-02-05T05:02:10.331Z"
   },
   {
    "duration": 399,
    "start_time": "2022-02-05T05:02:10.945Z"
   },
   {
    "duration": 445,
    "start_time": "2022-02-05T05:03:28.500Z"
   },
   {
    "duration": 397,
    "start_time": "2022-02-05T05:03:28.996Z"
   },
   {
    "duration": 7,
    "start_time": "2022-02-05T05:17:47.881Z"
   },
   {
    "duration": 2,
    "start_time": "2022-02-05T05:18:45.552Z"
   },
   {
    "duration": 387,
    "start_time": "2022-02-05T05:18:46.376Z"
   },
   {
    "duration": 8,
    "start_time": "2022-02-05T05:18:47.866Z"
   },
   {
    "duration": 6,
    "start_time": "2022-02-05T05:18:48.599Z"
   },
   {
    "duration": 6,
    "start_time": "2022-02-05T05:18:49.408Z"
   },
   {
    "duration": 19,
    "start_time": "2022-02-05T06:16:12.516Z"
   },
   {
    "duration": 316,
    "start_time": "2022-02-05T06:16:33.156Z"
   },
   {
    "duration": 16,
    "start_time": "2022-02-05T06:17:13.794Z"
   },
   {
    "duration": 12,
    "start_time": "2022-02-05T06:17:27.617Z"
   },
   {
    "duration": 7,
    "start_time": "2022-02-05T06:17:43.410Z"
   },
   {
    "duration": 221,
    "start_time": "2022-02-05T06:18:21.432Z"
   },
   {
    "duration": 2,
    "start_time": "2022-02-05T06:19:34.479Z"
   },
   {
    "duration": 400,
    "start_time": "2022-02-05T06:19:34.951Z"
   },
   {
    "duration": 13,
    "start_time": "2022-02-05T06:19:35.528Z"
   },
   {
    "duration": 2,
    "start_time": "2022-02-05T06:19:44.320Z"
   },
   {
    "duration": 390,
    "start_time": "2022-02-05T06:19:44.759Z"
   },
   {
    "duration": 14,
    "start_time": "2022-02-05T06:19:45.225Z"
   },
   {
    "duration": 11,
    "start_time": "2022-02-05T06:19:46.817Z"
   },
   {
    "duration": 7,
    "start_time": "2022-02-05T07:58:21.688Z"
   },
   {
    "duration": 7,
    "start_time": "2022-02-05T07:58:23.523Z"
   },
   {
    "duration": 7,
    "start_time": "2022-02-05T07:58:24.154Z"
   },
   {
    "duration": 218,
    "start_time": "2022-02-05T08:56:14.735Z"
   },
   {
    "duration": 3,
    "start_time": "2022-02-05T08:56:45.349Z"
   },
   {
    "duration": 395,
    "start_time": "2022-02-05T08:56:46.197Z"
   },
   {
    "duration": 15,
    "start_time": "2022-02-05T08:56:47.293Z"
   },
   {
    "duration": 5,
    "start_time": "2022-02-05T08:56:48.085Z"
   },
   {
    "duration": 5,
    "start_time": "2022-02-05T08:56:48.757Z"
   },
   {
    "duration": 5,
    "start_time": "2022-02-05T08:56:49.357Z"
   },
   {
    "duration": 13,
    "start_time": "2022-02-05T08:56:53.350Z"
   },
   {
    "duration": 15,
    "start_time": "2022-02-05T08:57:28.356Z"
   },
   {
    "duration": 13,
    "start_time": "2022-02-05T08:57:53.412Z"
   },
   {
    "duration": 2,
    "start_time": "2022-02-05T09:01:37.303Z"
   },
   {
    "duration": 22,
    "start_time": "2022-02-05T09:03:21.805Z"
   },
   {
    "duration": 77,
    "start_time": "2022-02-05T09:04:59.722Z"
   },
   {
    "duration": 3,
    "start_time": "2022-02-05T09:07:25.783Z"
   },
   {
    "duration": 1240,
    "start_time": "2022-02-05T09:07:28.184Z"
   },
   {
    "duration": 18,
    "start_time": "2022-02-05T09:07:30.191Z"
   },
   {
    "duration": 5,
    "start_time": "2022-02-05T09:07:30.983Z"
   },
   {
    "duration": 5,
    "start_time": "2022-02-05T09:07:31.751Z"
   },
   {
    "duration": 5,
    "start_time": "2022-02-05T09:07:34.046Z"
   },
   {
    "duration": 13,
    "start_time": "2022-02-05T09:07:35.735Z"
   },
   {
    "duration": 14,
    "start_time": "2022-02-05T09:07:36.399Z"
   },
   {
    "duration": 14,
    "start_time": "2022-02-05T09:07:36.943Z"
   },
   {
    "duration": 3,
    "start_time": "2022-02-05T09:07:39.271Z"
   },
   {
    "duration": 24,
    "start_time": "2022-02-05T09:07:40.023Z"
   },
   {
    "duration": 12,
    "start_time": "2022-02-05T09:07:40.975Z"
   },
   {
    "duration": 4,
    "start_time": "2022-02-05T09:11:58.393Z"
   },
   {
    "duration": 5,
    "start_time": "2022-02-05T09:11:59.746Z"
   },
   {
    "duration": 5,
    "start_time": "2022-02-05T09:14:28.127Z"
   },
   {
    "duration": 4,
    "start_time": "2022-02-05T09:15:41.213Z"
   },
   {
    "duration": 214,
    "start_time": "2022-02-05T09:17:20.306Z"
   },
   {
    "duration": 5,
    "start_time": "2022-02-05T09:17:45.331Z"
   },
   {
    "duration": 3,
    "start_time": "2022-02-05T09:18:11.617Z"
   },
   {
    "duration": 376,
    "start_time": "2022-02-05T09:18:12.427Z"
   },
   {
    "duration": 15,
    "start_time": "2022-02-05T09:18:13.538Z"
   },
   {
    "duration": 6,
    "start_time": "2022-02-05T09:18:14.306Z"
   },
   {
    "duration": 5,
    "start_time": "2022-02-05T09:18:15.025Z"
   },
   {
    "duration": 5,
    "start_time": "2022-02-05T09:18:15.730Z"
   },
   {
    "duration": 14,
    "start_time": "2022-02-05T09:18:20.050Z"
   },
   {
    "duration": 14,
    "start_time": "2022-02-05T09:18:20.674Z"
   },
   {
    "duration": 14,
    "start_time": "2022-02-05T09:18:21.218Z"
   },
   {
    "duration": 3,
    "start_time": "2022-02-05T09:18:21.738Z"
   },
   {
    "duration": 23,
    "start_time": "2022-02-05T09:18:22.226Z"
   },
   {
    "duration": 106,
    "start_time": "2022-02-05T09:18:22.993Z"
   },
   {
    "duration": 4,
    "start_time": "2022-02-05T09:18:25.802Z"
   },
   {
    "duration": 5,
    "start_time": "2022-02-05T09:18:26.596Z"
   },
   {
    "duration": 4,
    "start_time": "2022-02-05T09:18:27.220Z"
   },
   {
    "duration": 4,
    "start_time": "2022-02-05T09:18:27.803Z"
   },
   {
    "duration": 4,
    "start_time": "2022-02-05T10:47:03.251Z"
   },
   {
    "duration": 3,
    "start_time": "2022-02-05T10:47:03.971Z"
   },
   {
    "duration": 4,
    "start_time": "2022-02-05T10:47:11.706Z"
   },
   {
    "duration": 4,
    "start_time": "2022-02-05T10:47:57.841Z"
   },
   {
    "duration": 4,
    "start_time": "2022-02-05T10:49:00.073Z"
   },
   {
    "duration": 3,
    "start_time": "2022-02-05T11:36:30.360Z"
   },
   {
    "duration": 3,
    "start_time": "2022-02-05T11:36:31.007Z"
   },
   {
    "duration": 3,
    "start_time": "2022-02-05T11:36:32.728Z"
   },
   {
    "duration": 4,
    "start_time": "2022-02-05T11:37:03.543Z"
   },
   {
    "duration": 4,
    "start_time": "2022-02-05T11:37:43.510Z"
   },
   {
    "duration": 4,
    "start_time": "2022-02-05T11:38:06.789Z"
   },
   {
    "duration": 5,
    "start_time": "2022-02-05T11:38:07.197Z"
   },
   {
    "duration": 5,
    "start_time": "2022-02-05T11:38:07.597Z"
   },
   {
    "duration": 5,
    "start_time": "2022-02-05T11:38:17.085Z"
   },
   {
    "duration": 5,
    "start_time": "2022-02-05T11:38:17.941Z"
   },
   {
    "duration": 3,
    "start_time": "2022-02-05T12:53:53.178Z"
   },
   {
    "duration": 4,
    "start_time": "2022-02-05T12:53:53.841Z"
   },
   {
    "duration": 3,
    "start_time": "2022-02-05T13:12:37.674Z"
   },
   {
    "duration": 447,
    "start_time": "2022-02-05T13:12:53.304Z"
   },
   {
    "duration": 5,
    "start_time": "2022-02-05T13:13:52.967Z"
   },
   {
    "duration": 452,
    "start_time": "2022-02-05T13:17:38.049Z"
   },
   {
    "duration": 3,
    "start_time": "2022-02-05T13:18:04.753Z"
   },
   {
    "duration": 443,
    "start_time": "2022-02-05T13:18:05.682Z"
   },
   {
    "duration": 431,
    "start_time": "2022-02-05T13:18:59.904Z"
   },
   {
    "duration": 428,
    "start_time": "2022-02-05T13:30:47.968Z"
   },
   {
    "duration": 3,
    "start_time": "2022-02-05T13:30:50.608Z"
   },
   {
    "duration": 4,
    "start_time": "2022-02-05T13:30:51.160Z"
   },
   {
    "duration": 3,
    "start_time": "2022-02-05T13:31:14.712Z"
   },
   {
    "duration": 4,
    "start_time": "2022-02-05T13:32:54.877Z"
   },
   {
    "duration": 3,
    "start_time": "2022-02-05T13:32:57.278Z"
   },
   {
    "duration": 2,
    "start_time": "2022-02-05T13:34:35.363Z"
   },
   {
    "duration": 401,
    "start_time": "2022-02-05T13:34:37.882Z"
   },
   {
    "duration": 3,
    "start_time": "2022-02-05T13:35:06.874Z"
   },
   {
    "duration": 5,
    "start_time": "2022-02-05T13:35:09.451Z"
   },
   {
    "duration": 2,
    "start_time": "2022-02-05T13:35:39.170Z"
   },
   {
    "duration": 4,
    "start_time": "2022-02-05T13:35:41.041Z"
   },
   {
    "duration": 3,
    "start_time": "2022-02-05T13:36:19.025Z"
   },
   {
    "duration": 4,
    "start_time": "2022-02-05T13:36:21.689Z"
   },
   {
    "duration": 3,
    "start_time": "2022-02-05T13:38:08.031Z"
   },
   {
    "duration": 446,
    "start_time": "2022-02-05T13:38:10.430Z"
   },
   {
    "duration": 3,
    "start_time": "2022-02-05T13:40:27.762Z"
   },
   {
    "duration": 4,
    "start_time": "2022-02-05T13:40:30.803Z"
   },
   {
    "duration": 3,
    "start_time": "2022-02-05T13:41:19.234Z"
   },
   {
    "duration": 4,
    "start_time": "2022-02-05T13:41:22.722Z"
   },
   {
    "duration": 4,
    "start_time": "2022-02-05T13:41:34.314Z"
   },
   {
    "duration": 4,
    "start_time": "2022-02-05T13:41:36.105Z"
   },
   {
    "duration": 2,
    "start_time": "2022-02-05T13:41:41.442Z"
   },
   {
    "duration": 4,
    "start_time": "2022-02-05T13:41:43.882Z"
   },
   {
    "duration": 3,
    "start_time": "2022-02-05T13:42:28.776Z"
   },
   {
    "duration": 7,
    "start_time": "2022-02-05T13:44:41.358Z"
   },
   {
    "duration": 3,
    "start_time": "2022-02-05T13:44:43.398Z"
   },
   {
    "duration": 440,
    "start_time": "2022-02-05T13:44:44.726Z"
   },
   {
    "duration": 3,
    "start_time": "2022-02-05T13:48:37.153Z"
   },
   {
    "duration": 6,
    "start_time": "2022-02-05T13:48:42.266Z"
   },
   {
    "duration": 2,
    "start_time": "2022-02-05T13:48:59.121Z"
   },
   {
    "duration": 31,
    "start_time": "2022-02-05T13:49:01.697Z"
   },
   {
    "duration": 3,
    "start_time": "2022-02-05T13:49:56.935Z"
   },
   {
    "duration": 10,
    "start_time": "2022-02-05T13:49:59.770Z"
   },
   {
    "duration": 4,
    "start_time": "2022-02-05T13:50:35.470Z"
   },
   {
    "duration": 12,
    "start_time": "2022-02-05T13:50:38.182Z"
   },
   {
    "duration": 4,
    "start_time": "2022-02-05T13:51:09.925Z"
   },
   {
    "duration": 34,
    "start_time": "2022-02-05T13:51:11.190Z"
   },
   {
    "duration": 3,
    "start_time": "2022-02-05T13:51:44.629Z"
   },
   {
    "duration": 11,
    "start_time": "2022-02-05T13:51:45.736Z"
   },
   {
    "duration": 3,
    "start_time": "2022-02-05T13:54:33.929Z"
   },
   {
    "duration": 3,
    "start_time": "2022-02-05T13:54:35.257Z"
   },
   {
    "duration": 3,
    "start_time": "2022-02-05T13:54:36.426Z"
   },
   {
    "duration": 4,
    "start_time": "2022-02-05T13:54:39.801Z"
   },
   {
    "duration": 3,
    "start_time": "2022-02-05T13:55:15.985Z"
   },
   {
    "duration": 434,
    "start_time": "2022-02-05T13:55:18.033Z"
   },
   {
    "duration": 12,
    "start_time": "2022-02-05T14:37:35.329Z"
   },
   {
    "duration": 13,
    "start_time": "2022-02-05T14:38:16.609Z"
   },
   {
    "duration": 4,
    "start_time": "2022-02-05T14:41:09.999Z"
   },
   {
    "duration": 426,
    "start_time": "2022-02-05T14:41:15.829Z"
   },
   {
    "duration": 3,
    "start_time": "2022-02-05T14:41:25.628Z"
   },
   {
    "duration": 19,
    "start_time": "2022-02-05T14:41:27.908Z"
   },
   {
    "duration": 233,
    "start_time": "2022-02-05T14:47:47.596Z"
   },
   {
    "duration": 3,
    "start_time": "2022-02-05T14:48:09.788Z"
   },
   {
    "duration": 4,
    "start_time": "2022-02-05T14:48:14.171Z"
   },
   {
    "duration": 11,
    "start_time": "2022-02-05T15:03:21.056Z"
   },
   {
    "duration": 4,
    "start_time": "2022-02-05T15:03:35.024Z"
   },
   {
    "duration": 10,
    "start_time": "2022-02-05T15:04:03.240Z"
   },
   {
    "duration": 3,
    "start_time": "2022-02-05T15:22:04.849Z"
   },
   {
    "duration": 5,
    "start_time": "2022-02-05T15:22:18.576Z"
   },
   {
    "duration": 4,
    "start_time": "2022-02-05T15:22:39.863Z"
   },
   {
    "duration": 7,
    "start_time": "2022-02-05T15:22:41.006Z"
   },
   {
    "duration": 3,
    "start_time": "2022-02-05T15:24:59.292Z"
   },
   {
    "duration": 5,
    "start_time": "2022-02-05T15:25:00.451Z"
   },
   {
    "duration": 4,
    "start_time": "2022-02-05T15:25:41.891Z"
   },
   {
    "duration": 4,
    "start_time": "2022-02-05T15:27:27.865Z"
   },
   {
    "duration": 7,
    "start_time": "2022-02-05T15:27:28.944Z"
   },
   {
    "duration": 4,
    "start_time": "2022-02-05T15:31:56.283Z"
   },
   {
    "duration": 4,
    "start_time": "2022-02-05T15:33:03.642Z"
   },
   {
    "duration": 4,
    "start_time": "2022-02-05T15:34:21.328Z"
   },
   {
    "duration": 5,
    "start_time": "2022-02-05T15:34:51.255Z"
   },
   {
    "duration": 7,
    "start_time": "2022-02-05T15:34:53.879Z"
   },
   {
    "duration": 10,
    "start_time": "2022-02-05T16:38:31.472Z"
   },
   {
    "duration": 4,
    "start_time": "2022-02-05T18:15:40.105Z"
   },
   {
    "duration": 4,
    "start_time": "2022-02-05T18:26:15.491Z"
   },
   {
    "duration": 3856,
    "start_time": "2022-02-05T18:26:19.403Z"
   },
   {
    "duration": 5,
    "start_time": "2022-02-05T18:28:02.065Z"
   },
   {
    "duration": 3,
    "start_time": "2022-02-05T18:29:31.432Z"
   },
   {
    "duration": 3,
    "start_time": "2022-02-05T18:31:29.133Z"
   },
   {
    "duration": 9,
    "start_time": "2022-02-05T18:35:36.943Z"
   },
   {
    "duration": 6,
    "start_time": "2022-02-05T18:43:38.058Z"
   },
   {
    "duration": 4,
    "start_time": "2022-02-05T18:43:57.682Z"
   },
   {
    "duration": 377,
    "start_time": "2022-02-05T18:43:58.651Z"
   },
   {
    "duration": 13,
    "start_time": "2022-02-05T18:43:59.747Z"
   },
   {
    "duration": 5,
    "start_time": "2022-02-05T18:44:00.475Z"
   },
   {
    "duration": 5,
    "start_time": "2022-02-05T18:44:01.162Z"
   },
   {
    "duration": 5,
    "start_time": "2022-02-05T18:44:01.868Z"
   },
   {
    "duration": 15,
    "start_time": "2022-02-05T18:44:05.138Z"
   },
   {
    "duration": 13,
    "start_time": "2022-02-05T18:44:05.867Z"
   },
   {
    "duration": 13,
    "start_time": "2022-02-05T18:44:06.530Z"
   },
   {
    "duration": 3,
    "start_time": "2022-02-05T18:44:07.218Z"
   },
   {
    "duration": 22,
    "start_time": "2022-02-05T18:44:09.899Z"
   },
   {
    "duration": 7,
    "start_time": "2022-02-05T18:44:10.842Z"
   },
   {
    "duration": 4,
    "start_time": "2022-02-05T18:44:11.746Z"
   },
   {
    "duration": 6,
    "start_time": "2022-02-05T18:44:15.058Z"
   },
   {
    "duration": 4,
    "start_time": "2022-02-05T18:44:15.795Z"
   },
   {
    "duration": 4,
    "start_time": "2022-02-05T18:44:16.778Z"
   },
   {
    "duration": 3,
    "start_time": "2022-02-05T18:44:24.842Z"
   },
   {
    "duration": 3,
    "start_time": "2022-02-05T18:44:25.657Z"
   },
   {
    "duration": 3,
    "start_time": "2022-02-05T18:44:26.339Z"
   },
   {
    "duration": 3,
    "start_time": "2022-02-05T18:44:30.746Z"
   },
   {
    "duration": 3,
    "start_time": "2022-02-05T18:44:31.594Z"
   },
   {
    "duration": 219,
    "start_time": "2022-02-05T18:44:34.706Z"
   },
   {
    "duration": 3868,
    "start_time": "2022-02-05T19:10:20.239Z"
   },
   {
    "duration": 4,
    "start_time": "2022-02-05T19:10:36.389Z"
   },
   {
    "duration": 4,
    "start_time": "2022-02-05T19:10:37.133Z"
   },
   {
    "duration": 10,
    "start_time": "2022-02-05T19:10:37.653Z"
   },
   {
    "duration": 6,
    "start_time": "2022-02-05T19:10:57.949Z"
   },
   {
    "duration": 3,
    "start_time": "2022-02-05T19:11:07.685Z"
   },
   {
    "duration": 386,
    "start_time": "2022-02-05T19:11:08.557Z"
   },
   {
    "duration": 15,
    "start_time": "2022-02-05T19:11:11.405Z"
   },
   {
    "duration": 4,
    "start_time": "2022-02-05T19:11:11.981Z"
   },
   {
    "duration": 5,
    "start_time": "2022-02-05T19:11:12.620Z"
   },
   {
    "duration": 5,
    "start_time": "2022-02-05T19:11:13.214Z"
   },
   {
    "duration": 13,
    "start_time": "2022-02-05T19:11:14.894Z"
   },
   {
    "duration": 14,
    "start_time": "2022-02-05T19:11:16.964Z"
   },
   {
    "duration": 13,
    "start_time": "2022-02-05T19:11:17.588Z"
   },
   {
    "duration": 3,
    "start_time": "2022-02-05T19:11:18.212Z"
   },
   {
    "duration": 21,
    "start_time": "2022-02-05T19:11:18.908Z"
   },
   {
    "duration": 9,
    "start_time": "2022-02-05T19:11:21.332Z"
   },
   {
    "duration": 4,
    "start_time": "2022-02-05T19:11:21.876Z"
   },
   {
    "duration": 6,
    "start_time": "2022-02-05T19:11:22.485Z"
   },
   {
    "duration": 4,
    "start_time": "2022-02-05T19:11:23.077Z"
   },
   {
    "duration": 4,
    "start_time": "2022-02-05T19:11:25.918Z"
   },
   {
    "duration": 3,
    "start_time": "2022-02-05T19:11:27.652Z"
   },
   {
    "duration": 3,
    "start_time": "2022-02-05T19:11:30.757Z"
   },
   {
    "duration": 4,
    "start_time": "2022-02-05T19:11:31.364Z"
   },
   {
    "duration": 3,
    "start_time": "2022-02-05T19:11:32.836Z"
   },
   {
    "duration": 3,
    "start_time": "2022-02-05T19:11:36.092Z"
   },
   {
    "duration": 3819,
    "start_time": "2022-02-05T19:11:36.812Z"
   },
   {
    "duration": 4,
    "start_time": "2022-02-05T19:11:40.633Z"
   },
   {
    "duration": 4,
    "start_time": "2022-02-05T19:11:44.093Z"
   },
   {
    "duration": 8,
    "start_time": "2022-02-05T19:11:44.972Z"
   },
   {
    "duration": 6,
    "start_time": "2022-02-05T19:11:55.683Z"
   },
   {
    "duration": 7,
    "start_time": "2022-02-05T19:12:03.172Z"
   },
   {
    "duration": 5,
    "start_time": "2022-02-05T19:12:11.291Z"
   },
   {
    "duration": 3923,
    "start_time": "2022-02-05T19:12:20.867Z"
   },
   {
    "duration": 17,
    "start_time": "2022-02-05T19:12:30.779Z"
   },
   {
    "duration": 6,
    "start_time": "2022-02-05T19:12:48.284Z"
   },
   {
    "duration": 5,
    "start_time": "2022-02-05T19:13:05.746Z"
   },
   {
    "duration": 4,
    "start_time": "2022-02-05T19:13:46.618Z"
   },
   {
    "duration": 384,
    "start_time": "2022-02-05T19:13:47.146Z"
   },
   {
    "duration": 14,
    "start_time": "2022-02-05T19:13:48.170Z"
   },
   {
    "duration": 6,
    "start_time": "2022-02-05T19:13:48.825Z"
   },
   {
    "duration": 5,
    "start_time": "2022-02-05T19:13:49.345Z"
   },
   {
    "duration": 5,
    "start_time": "2022-02-05T19:13:50.417Z"
   },
   {
    "duration": 13,
    "start_time": "2022-02-05T19:13:52.761Z"
   },
   {
    "duration": 13,
    "start_time": "2022-02-05T19:13:53.466Z"
   },
   {
    "duration": 12,
    "start_time": "2022-02-05T19:13:54.138Z"
   },
   {
    "duration": 3,
    "start_time": "2022-02-05T19:13:54.737Z"
   },
   {
    "duration": 22,
    "start_time": "2022-02-05T19:13:55.490Z"
   },
   {
    "duration": 29,
    "start_time": "2022-02-05T19:13:56.369Z"
   },
   {
    "duration": 4,
    "start_time": "2022-02-05T19:13:57.569Z"
   },
   {
    "duration": 5,
    "start_time": "2022-02-05T19:13:58.242Z"
   },
   {
    "duration": 5,
    "start_time": "2022-02-05T19:13:59.019Z"
   },
   {
    "duration": 5,
    "start_time": "2022-02-05T19:14:00.170Z"
   },
   {
    "duration": 3,
    "start_time": "2022-02-05T19:14:02.498Z"
   },
   {
    "duration": 3,
    "start_time": "2022-02-05T19:14:03.658Z"
   },
   {
    "duration": 4,
    "start_time": "2022-02-05T19:14:05.490Z"
   },
   {
    "duration": 3,
    "start_time": "2022-02-05T19:14:07.529Z"
   },
   {
    "duration": 4,
    "start_time": "2022-02-05T19:14:09.322Z"
   },
   {
    "duration": 3805,
    "start_time": "2022-02-05T19:14:10.441Z"
   },
   {
    "duration": 4,
    "start_time": "2022-02-05T19:14:14.993Z"
   },
   {
    "duration": 4,
    "start_time": "2022-02-05T19:14:15.745Z"
   },
   {
    "duration": 8,
    "start_time": "2022-02-05T19:14:16.386Z"
   },
   {
    "duration": 5,
    "start_time": "2022-02-05T19:14:18.505Z"
   },
   {
    "duration": 7,
    "start_time": "2022-02-05T19:14:30.137Z"
   },
   {
    "duration": 6,
    "start_time": "2022-02-05T19:14:42.625Z"
   },
   {
    "duration": 6,
    "start_time": "2022-02-05T19:14:58.697Z"
   },
   {
    "duration": 7,
    "start_time": "2022-02-05T19:15:53.944Z"
   },
   {
    "duration": 6,
    "start_time": "2022-02-05T19:22:47.089Z"
   },
   {
    "duration": 14,
    "start_time": "2022-02-05T19:23:01.054Z"
   },
   {
    "duration": 81,
    "start_time": "2022-02-05T19:23:26.781Z"
   },
   {
    "duration": 3,
    "start_time": "2022-02-05T19:23:36.630Z"
   },
   {
    "duration": 3,
    "start_time": "2022-02-05T19:23:44.061Z"
   },
   {
    "duration": 3,
    "start_time": "2022-02-05T19:23:48.972Z"
   },
   {
    "duration": 4,
    "start_time": "2022-02-05T19:27:00.512Z"
   },
   {
    "duration": 405,
    "start_time": "2022-02-05T19:27:00.937Z"
   },
   {
    "duration": 16,
    "start_time": "2022-02-05T19:27:01.344Z"
   },
   {
    "duration": 5,
    "start_time": "2022-02-05T19:27:02.457Z"
   },
   {
    "duration": 6,
    "start_time": "2022-02-05T19:27:03.017Z"
   },
   {
    "duration": 4,
    "start_time": "2022-02-05T19:27:03.785Z"
   },
   {
    "duration": 14,
    "start_time": "2022-02-05T19:27:05.432Z"
   },
   {
    "duration": 13,
    "start_time": "2022-02-05T19:27:06.048Z"
   },
   {
    "duration": 13,
    "start_time": "2022-02-05T19:27:06.600Z"
   },
   {
    "duration": 3,
    "start_time": "2022-02-05T19:27:07.176Z"
   },
   {
    "duration": 22,
    "start_time": "2022-02-05T19:27:07.784Z"
   },
   {
    "duration": 41,
    "start_time": "2022-02-05T19:27:08.457Z"
   },
   {
    "duration": 3,
    "start_time": "2022-02-05T19:27:09.017Z"
   },
   {
    "duration": 5,
    "start_time": "2022-02-05T19:27:09.673Z"
   },
   {
    "duration": 4,
    "start_time": "2022-02-05T19:27:10.257Z"
   },
   {
    "duration": 5,
    "start_time": "2022-02-05T19:27:11.225Z"
   },
   {
    "duration": 3,
    "start_time": "2022-02-05T19:27:12.944Z"
   },
   {
    "duration": 3,
    "start_time": "2022-02-05T19:27:13.593Z"
   },
   {
    "duration": 4,
    "start_time": "2022-02-05T19:27:14.128Z"
   },
   {
    "duration": 2,
    "start_time": "2022-02-05T19:27:15.905Z"
   },
   {
    "duration": 4,
    "start_time": "2022-02-05T19:27:17.024Z"
   },
   {
    "duration": 3708,
    "start_time": "2022-02-05T19:27:18.407Z"
   },
   {
    "duration": 4,
    "start_time": "2022-02-05T19:27:23.076Z"
   },
   {
    "duration": 4,
    "start_time": "2022-02-05T19:27:23.856Z"
   },
   {
    "duration": 8,
    "start_time": "2022-02-05T19:27:24.839Z"
   },
   {
    "duration": 3,
    "start_time": "2022-02-05T19:27:27.928Z"
   },
   {
    "duration": 14,
    "start_time": "2022-02-05T19:31:21.426Z"
   },
   {
    "duration": 16,
    "start_time": "2022-02-05T19:31:40.538Z"
   },
   {
    "duration": 5,
    "start_time": "2022-02-05T19:32:10.162Z"
   },
   {
    "duration": 4,
    "start_time": "2022-02-05T19:32:16.690Z"
   },
   {
    "duration": 4,
    "start_time": "2022-02-05T19:38:13.643Z"
   },
   {
    "duration": 7,
    "start_time": "2022-02-05T19:50:39.714Z"
   },
   {
    "duration": 7,
    "start_time": "2022-02-05T19:50:56.985Z"
   },
   {
    "duration": 6,
    "start_time": "2022-02-05T19:51:12.042Z"
   },
   {
    "duration": 5,
    "start_time": "2022-02-05T19:54:11.644Z"
   },
   {
    "duration": 4,
    "start_time": "2022-02-05T19:54:28.565Z"
   },
   {
    "duration": 7,
    "start_time": "2022-02-05T19:55:37.250Z"
   },
   {
    "duration": 6,
    "start_time": "2022-02-05T19:55:50.890Z"
   },
   {
    "duration": 7,
    "start_time": "2022-02-05T19:56:20.865Z"
   },
   {
    "duration": 7,
    "start_time": "2022-02-05T19:56:48.561Z"
   },
   {
    "duration": 7,
    "start_time": "2022-02-05T19:57:32.873Z"
   },
   {
    "duration": 7,
    "start_time": "2022-02-05T19:57:33.552Z"
   },
   {
    "duration": 6,
    "start_time": "2022-02-05T19:57:34.296Z"
   },
   {
    "duration": 7,
    "start_time": "2022-02-05T20:03:14.169Z"
   },
   {
    "duration": 6,
    "start_time": "2022-02-05T20:03:15.065Z"
   },
   {
    "duration": 7,
    "start_time": "2022-02-05T20:03:16.561Z"
   },
   {
    "duration": 7,
    "start_time": "2022-02-05T20:18:21.199Z"
   },
   {
    "duration": 6,
    "start_time": "2022-02-05T20:24:50.485Z"
   },
   {
    "duration": 6,
    "start_time": "2022-02-05T20:24:52.109Z"
   },
   {
    "duration": 994,
    "start_time": "2022-02-06T03:45:11.931Z"
   },
   {
    "duration": 353,
    "start_time": "2022-02-06T03:45:13.689Z"
   },
   {
    "duration": 17,
    "start_time": "2022-02-06T03:45:14.748Z"
   },
   {
    "duration": 4,
    "start_time": "2022-02-06T03:45:15.892Z"
   },
   {
    "duration": 6,
    "start_time": "2022-02-06T03:45:16.812Z"
   },
   {
    "duration": 6,
    "start_time": "2022-02-06T03:45:17.668Z"
   },
   {
    "duration": 15,
    "start_time": "2022-02-06T03:45:20.476Z"
   },
   {
    "duration": 15,
    "start_time": "2022-02-06T03:45:21.332Z"
   },
   {
    "duration": 15,
    "start_time": "2022-02-06T03:45:22.100Z"
   },
   {
    "duration": 3,
    "start_time": "2022-02-06T03:45:22.853Z"
   },
   {
    "duration": 27,
    "start_time": "2022-02-06T03:45:24.085Z"
   },
   {
    "duration": 12,
    "start_time": "2022-02-06T03:45:24.900Z"
   },
   {
    "duration": 3,
    "start_time": "2022-02-06T03:45:25.780Z"
   },
   {
    "duration": 5,
    "start_time": "2022-02-06T03:45:27.525Z"
   },
   {
    "duration": 4,
    "start_time": "2022-02-06T03:45:30.597Z"
   },
   {
    "duration": 3,
    "start_time": "2022-02-06T03:45:33.837Z"
   },
   {
    "duration": 3,
    "start_time": "2022-02-06T03:45:37.932Z"
   },
   {
    "duration": 2,
    "start_time": "2022-02-06T03:45:38.660Z"
   },
   {
    "duration": 3,
    "start_time": "2022-02-06T03:45:39.333Z"
   },
   {
    "duration": 4,
    "start_time": "2022-02-06T03:45:41.412Z"
   },
   {
    "duration": 3179,
    "start_time": "2022-02-06T03:45:42.972Z"
   },
   {
    "duration": 3,
    "start_time": "2022-02-06T03:45:50.172Z"
   },
   {
    "duration": 4,
    "start_time": "2022-02-06T03:45:50.995Z"
   },
   {
    "duration": 9,
    "start_time": "2022-02-06T03:45:51.932Z"
   },
   {
    "duration": 6,
    "start_time": "2022-02-06T03:45:52.652Z"
   },
   {
    "duration": 6,
    "start_time": "2022-02-06T03:45:53.348Z"
   },
   {
    "duration": 6,
    "start_time": "2022-02-06T03:45:55.004Z"
   },
   {
    "duration": 3,
    "start_time": "2022-02-06T03:50:58.377Z"
   },
   {
    "duration": 354,
    "start_time": "2022-02-06T03:51:01.254Z"
   },
   {
    "duration": 16,
    "start_time": "2022-02-06T03:51:02.509Z"
   },
   {
    "duration": 5,
    "start_time": "2022-02-06T03:51:03.721Z"
   },
   {
    "duration": 4,
    "start_time": "2022-02-06T03:51:04.657Z"
   },
   {
    "duration": 5,
    "start_time": "2022-02-06T03:51:05.377Z"
   },
   {
    "duration": 12,
    "start_time": "2022-02-06T03:51:07.521Z"
   },
   {
    "duration": 11,
    "start_time": "2022-02-06T03:51:08.217Z"
   },
   {
    "duration": 11,
    "start_time": "2022-02-06T03:51:08.849Z"
   },
   {
    "duration": 2,
    "start_time": "2022-02-06T03:51:09.480Z"
   },
   {
    "duration": 19,
    "start_time": "2022-02-06T03:51:10.208Z"
   },
   {
    "duration": 13,
    "start_time": "2022-02-06T03:51:10.921Z"
   },
   {
    "duration": 3,
    "start_time": "2022-02-06T03:51:12.465Z"
   },
   {
    "duration": 5,
    "start_time": "2022-02-06T03:51:13.448Z"
   },
   {
    "duration": 4,
    "start_time": "2022-02-06T03:51:16.480Z"
   },
   {
    "duration": 4,
    "start_time": "2022-02-06T03:51:17.168Z"
   },
   {
    "duration": 2,
    "start_time": "2022-02-06T03:51:19.264Z"
   },
   {
    "duration": 2,
    "start_time": "2022-02-06T03:51:19.976Z"
   },
   {
    "duration": 3,
    "start_time": "2022-02-06T03:51:20.672Z"
   },
   {
    "duration": 4,
    "start_time": "2022-02-06T03:51:21.599Z"
   },
   {
    "duration": 3304,
    "start_time": "2022-02-06T03:51:23.528Z"
   },
   {
    "duration": 4,
    "start_time": "2022-02-06T03:51:31.369Z"
   },
   {
    "duration": 4,
    "start_time": "2022-02-06T03:51:32.007Z"
   },
   {
    "duration": 8,
    "start_time": "2022-02-06T03:51:32.880Z"
   },
   {
    "duration": 6,
    "start_time": "2022-02-06T03:51:33.480Z"
   },
   {
    "duration": 6,
    "start_time": "2022-02-06T03:51:34.176Z"
   },
   {
    "duration": 7,
    "start_time": "2022-02-06T03:51:35.072Z"
   },
   {
    "duration": 3,
    "start_time": "2022-02-06T04:16:06.198Z"
   },
   {
    "duration": 352,
    "start_time": "2022-02-06T04:16:07.556Z"
   },
   {
    "duration": 17,
    "start_time": "2022-02-06T04:16:10.183Z"
   },
   {
    "duration": 4,
    "start_time": "2022-02-06T04:16:29.303Z"
   },
   {
    "duration": 4,
    "start_time": "2022-02-06T04:16:47.461Z"
   },
   {
    "duration": 4,
    "start_time": "2022-02-06T04:16:57.861Z"
   },
   {
    "duration": 3,
    "start_time": "2022-02-06T04:17:24.477Z"
   },
   {
    "duration": 358,
    "start_time": "2022-02-06T04:17:25.372Z"
   },
   {
    "duration": 15,
    "start_time": "2022-02-06T04:17:27.381Z"
   },
   {
    "duration": 4,
    "start_time": "2022-02-06T04:17:28.589Z"
   },
   {
    "duration": 5,
    "start_time": "2022-02-06T04:17:29.469Z"
   },
   {
    "duration": 4,
    "start_time": "2022-02-06T04:17:30.358Z"
   },
   {
    "duration": 13,
    "start_time": "2022-02-06T04:17:32.365Z"
   },
   {
    "duration": 12,
    "start_time": "2022-02-06T04:17:33.077Z"
   },
   {
    "duration": 11,
    "start_time": "2022-02-06T04:17:33.756Z"
   },
   {
    "duration": 3,
    "start_time": "2022-02-06T04:17:34.525Z"
   },
   {
    "duration": 21,
    "start_time": "2022-02-06T04:17:35.388Z"
   },
   {
    "duration": 13,
    "start_time": "2022-02-06T04:17:36.118Z"
   },
   {
    "duration": 4,
    "start_time": "2022-02-06T04:17:36.820Z"
   },
   {
    "duration": 5,
    "start_time": "2022-02-06T04:17:37.797Z"
   },
   {
    "duration": 3,
    "start_time": "2022-02-06T04:17:38.909Z"
   },
   {
    "duration": 4,
    "start_time": "2022-02-06T04:17:39.644Z"
   },
   {
    "duration": 2,
    "start_time": "2022-02-06T04:17:41.549Z"
   },
   {
    "duration": 2,
    "start_time": "2022-02-06T04:17:42.197Z"
   },
   {
    "duration": 4,
    "start_time": "2022-02-06T04:17:42.804Z"
   },
   {
    "duration": 3,
    "start_time": "2022-02-06T04:17:43.468Z"
   },
   {
    "duration": 3263,
    "start_time": "2022-02-06T04:17:46.092Z"
   },
   {
    "duration": 4,
    "start_time": "2022-02-06T04:17:52.284Z"
   },
   {
    "duration": 3,
    "start_time": "2022-02-06T04:17:53.916Z"
   },
   {
    "duration": 7,
    "start_time": "2022-02-06T04:17:54.732Z"
   },
   {
    "duration": 6,
    "start_time": "2022-02-06T04:17:55.692Z"
   },
   {
    "duration": 6,
    "start_time": "2022-02-06T04:17:56.556Z"
   },
   {
    "duration": 7,
    "start_time": "2022-02-06T04:17:57.420Z"
   },
   {
    "duration": 3,
    "start_time": "2022-02-06T04:55:34.196Z"
   },
   {
    "duration": 4,
    "start_time": "2022-02-06T04:56:22.427Z"
   },
   {
    "duration": 3,
    "start_time": "2022-02-06T04:58:21.161Z"
   },
   {
    "duration": 4,
    "start_time": "2022-02-06T04:58:52.256Z"
   },
   {
    "duration": 89,
    "start_time": "2022-02-06T05:03:10.162Z"
   },
   {
    "duration": 5,
    "start_time": "2022-02-06T05:03:43.305Z"
   },
   {
    "duration": 5,
    "start_time": "2022-02-06T05:03:53.121Z"
   },
   {
    "duration": 5,
    "start_time": "2022-02-06T05:04:22.416Z"
   },
   {
    "duration": 8,
    "start_time": "2022-02-06T05:05:14.943Z"
   },
   {
    "duration": 7,
    "start_time": "2022-02-06T05:05:36.151Z"
   },
   {
    "duration": 8,
    "start_time": "2022-02-06T05:05:41.526Z"
   },
   {
    "duration": 8,
    "start_time": "2022-02-06T05:06:24.501Z"
   },
   {
    "duration": 8,
    "start_time": "2022-02-06T05:07:02.181Z"
   },
   {
    "duration": 5,
    "start_time": "2022-02-06T05:07:34.573Z"
   },
   {
    "duration": 3,
    "start_time": "2022-02-06T06:38:12.834Z"
   },
   {
    "duration": 336,
    "start_time": "2022-02-06T06:38:17.882Z"
   },
   {
    "duration": 13,
    "start_time": "2022-02-06T06:38:19.713Z"
   },
   {
    "duration": 5,
    "start_time": "2022-02-06T06:38:21.113Z"
   },
   {
    "duration": 4,
    "start_time": "2022-02-06T06:38:22.737Z"
   },
   {
    "duration": 4,
    "start_time": "2022-02-06T06:38:23.561Z"
   },
   {
    "duration": 12,
    "start_time": "2022-02-06T06:38:25.505Z"
   },
   {
    "duration": 12,
    "start_time": "2022-02-06T06:38:26.145Z"
   },
   {
    "duration": 12,
    "start_time": "2022-02-06T06:38:26.794Z"
   },
   {
    "duration": 2,
    "start_time": "2022-02-06T06:38:27.458Z"
   },
   {
    "duration": 21,
    "start_time": "2022-02-06T06:38:28.753Z"
   },
   {
    "duration": 13,
    "start_time": "2022-02-06T06:38:29.473Z"
   },
   {
    "duration": 3,
    "start_time": "2022-02-06T06:38:30.200Z"
   },
   {
    "duration": 5,
    "start_time": "2022-02-06T06:38:31.497Z"
   },
   {
    "duration": 4,
    "start_time": "2022-02-06T06:38:33.001Z"
   },
   {
    "duration": 3,
    "start_time": "2022-02-06T06:38:34.289Z"
   },
   {
    "duration": 2,
    "start_time": "2022-02-06T06:38:38.985Z"
   },
   {
    "duration": 2,
    "start_time": "2022-02-06T06:38:39.745Z"
   },
   {
    "duration": 3,
    "start_time": "2022-02-06T06:38:41.521Z"
   },
   {
    "duration": 2,
    "start_time": "2022-02-06T06:38:42.201Z"
   },
   {
    "duration": 3280,
    "start_time": "2022-02-06T06:38:44.392Z"
   },
   {
    "duration": 4,
    "start_time": "2022-02-06T06:38:54.568Z"
   },
   {
    "duration": 3,
    "start_time": "2022-02-06T06:38:55.344Z"
   },
   {
    "duration": 4,
    "start_time": "2022-02-06T06:38:56.616Z"
   },
   {
    "duration": 7,
    "start_time": "2022-02-06T06:39:01.544Z"
   },
   {
    "duration": 4,
    "start_time": "2022-02-06T06:39:05.137Z"
   },
   {
    "duration": 5,
    "start_time": "2022-02-06T06:39:08.472Z"
   },
   {
    "duration": 7,
    "start_time": "2022-02-06T06:39:09.296Z"
   },
   {
    "duration": 6,
    "start_time": "2022-02-06T06:39:10.056Z"
   },
   {
    "duration": 3,
    "start_time": "2022-02-06T08:58:25.880Z"
   },
   {
    "duration": 346,
    "start_time": "2022-02-06T08:58:27.591Z"
   },
   {
    "duration": 14,
    "start_time": "2022-02-06T08:58:30.619Z"
   },
   {
    "duration": 4,
    "start_time": "2022-02-06T08:58:32.462Z"
   },
   {
    "duration": 5,
    "start_time": "2022-02-06T08:58:33.450Z"
   },
   {
    "duration": 4,
    "start_time": "2022-02-06T08:58:36.107Z"
   },
   {
    "duration": 12,
    "start_time": "2022-02-06T08:58:37.962Z"
   },
   {
    "duration": 12,
    "start_time": "2022-02-06T08:58:38.586Z"
   },
   {
    "duration": 12,
    "start_time": "2022-02-06T08:58:39.139Z"
   },
   {
    "duration": 3,
    "start_time": "2022-02-06T08:58:41.354Z"
   },
   {
    "duration": 18,
    "start_time": "2022-02-06T08:58:42.067Z"
   },
   {
    "duration": 9,
    "start_time": "2022-02-06T08:58:43.354Z"
   },
   {
    "duration": 4,
    "start_time": "2022-02-06T08:58:43.415Z"
   },
   {
    "duration": 5,
    "start_time": "2022-02-06T08:58:45.082Z"
   },
   {
    "duration": 5,
    "start_time": "2022-02-06T08:58:46.810Z"
   },
   {
    "duration": 4,
    "start_time": "2022-02-06T08:58:51.291Z"
   },
   {
    "duration": 3,
    "start_time": "2022-02-06T08:58:58.378Z"
   },
   {
    "duration": 2,
    "start_time": "2022-02-06T08:59:01.069Z"
   },
   {
    "duration": 3,
    "start_time": "2022-02-06T08:59:01.562Z"
   },
   {
    "duration": 3,
    "start_time": "2022-02-06T08:59:02.554Z"
   },
   {
    "duration": 580,
    "start_time": "2022-02-06T08:59:18.281Z"
   },
   {
    "duration": 3,
    "start_time": "2022-02-06T09:41:09.402Z"
   },
   {
    "duration": 333,
    "start_time": "2022-02-06T09:41:10.889Z"
   },
   {
    "duration": 12,
    "start_time": "2022-02-06T09:41:12.370Z"
   },
   {
    "duration": 5,
    "start_time": "2022-02-06T09:41:15.056Z"
   },
   {
    "duration": 4,
    "start_time": "2022-02-06T09:41:15.553Z"
   },
   {
    "duration": 4,
    "start_time": "2022-02-06T09:41:15.961Z"
   },
   {
    "duration": 12,
    "start_time": "2022-02-06T09:41:18.897Z"
   },
   {
    "duration": 12,
    "start_time": "2022-02-06T09:41:19.424Z"
   },
   {
    "duration": 15,
    "start_time": "2022-02-06T09:41:19.912Z"
   },
   {
    "duration": 3,
    "start_time": "2022-02-06T09:41:22.296Z"
   },
   {
    "duration": 21,
    "start_time": "2022-02-06T09:41:22.880Z"
   },
   {
    "duration": 14,
    "start_time": "2022-02-06T09:41:23.456Z"
   },
   {
    "duration": 3,
    "start_time": "2022-02-06T09:41:24.319Z"
   },
   {
    "duration": 6,
    "start_time": "2022-02-06T09:41:25.263Z"
   },
   {
    "duration": 4,
    "start_time": "2022-02-06T09:41:26.048Z"
   },
   {
    "duration": 4,
    "start_time": "2022-02-06T09:41:26.664Z"
   },
   {
    "duration": 3,
    "start_time": "2022-02-06T09:41:31.088Z"
   },
   {
    "duration": 2,
    "start_time": "2022-02-06T09:41:31.729Z"
   },
   {
    "duration": 3,
    "start_time": "2022-02-06T09:41:32.000Z"
   },
   {
    "duration": 3,
    "start_time": "2022-02-06T09:41:32.287Z"
   },
   {
    "duration": 461,
    "start_time": "2022-02-06T09:41:38.401Z"
   },
   {
    "duration": 3,
    "start_time": "2022-02-06T09:44:13.604Z"
   },
   {
    "duration": 484,
    "start_time": "2022-02-06T09:44:37.788Z"
   },
   {
    "duration": 3,
    "start_time": "2022-02-06T09:45:05.643Z"
   },
   {
    "duration": 464,
    "start_time": "2022-02-06T09:45:12.523Z"
   },
   {
    "duration": 4,
    "start_time": "2022-02-06T09:45:44.450Z"
   },
   {
    "duration": 465,
    "start_time": "2022-02-06T09:48:41.414Z"
   },
   {
    "duration": 3,
    "start_time": "2022-02-06T09:49:01.862Z"
   },
   {
    "duration": 6,
    "start_time": "2022-02-06T09:49:03.494Z"
   },
   {
    "duration": 3,
    "start_time": "2022-02-06T09:49:19.494Z"
   },
   {
    "duration": 6,
    "start_time": "2022-02-06T09:49:20.006Z"
   },
   {
    "duration": 3,
    "start_time": "2022-02-06T09:49:27.550Z"
   },
   {
    "duration": 3,
    "start_time": "2022-02-06T09:49:33.405Z"
   },
   {
    "duration": 5,
    "start_time": "2022-02-06T09:49:33.934Z"
   },
   {
    "duration": 4,
    "start_time": "2022-02-06T09:49:52.373Z"
   },
   {
    "duration": 5,
    "start_time": "2022-02-06T09:49:52.821Z"
   },
   {
    "duration": 2,
    "start_time": "2022-02-06T09:50:20.261Z"
   },
   {
    "duration": 351,
    "start_time": "2022-02-06T09:50:21.389Z"
   },
   {
    "duration": 13,
    "start_time": "2022-02-06T09:50:22.996Z"
   },
   {
    "duration": 5,
    "start_time": "2022-02-06T09:50:26.428Z"
   },
   {
    "duration": 4,
    "start_time": "2022-02-06T09:50:26.917Z"
   },
   {
    "duration": 5,
    "start_time": "2022-02-06T09:50:27.436Z"
   },
   {
    "duration": 13,
    "start_time": "2022-02-06T09:50:28.917Z"
   },
   {
    "duration": 12,
    "start_time": "2022-02-06T09:50:29.501Z"
   },
   {
    "duration": 13,
    "start_time": "2022-02-06T09:50:32.292Z"
   },
   {
    "duration": 3,
    "start_time": "2022-02-06T09:50:32.892Z"
   },
   {
    "duration": 19,
    "start_time": "2022-02-06T09:50:33.389Z"
   },
   {
    "duration": 7,
    "start_time": "2022-02-06T09:50:34.132Z"
   },
   {
    "duration": 3,
    "start_time": "2022-02-06T09:50:34.716Z"
   },
   {
    "duration": 5,
    "start_time": "2022-02-06T09:50:35.412Z"
   },
   {
    "duration": 4,
    "start_time": "2022-02-06T09:50:36.332Z"
   },
   {
    "duration": 4,
    "start_time": "2022-02-06T09:50:37.148Z"
   },
   {
    "duration": 3,
    "start_time": "2022-02-06T09:50:41.516Z"
   },
   {
    "duration": 2,
    "start_time": "2022-02-06T09:50:42.612Z"
   },
   {
    "duration": 3,
    "start_time": "2022-02-06T09:50:43.156Z"
   },
   {
    "duration": 3,
    "start_time": "2022-02-06T09:50:45.492Z"
   },
   {
    "duration": 7637,
    "start_time": "2022-02-06T09:50:56.548Z"
   },
   {
    "duration": 3,
    "start_time": "2022-02-06T09:51:40.371Z"
   },
   {
    "duration": 5205,
    "start_time": "2022-02-06T09:51:44.549Z"
   },
   {
    "duration": 4,
    "start_time": "2022-02-06T09:51:54.898Z"
   },
   {
    "duration": 4,
    "start_time": "2022-02-06T09:51:56.602Z"
   },
   {
    "duration": 3,
    "start_time": "2022-02-06T09:51:58.251Z"
   },
   {
    "duration": 3,
    "start_time": "2022-02-06T09:52:58.112Z"
   },
   {
    "duration": 6905,
    "start_time": "2022-02-06T09:53:02.074Z"
   },
   {
    "duration": 8,
    "start_time": "2022-02-06T09:57:48.707Z"
   },
   {
    "duration": 4,
    "start_time": "2022-02-06T09:58:27.570Z"
   },
   {
    "duration": 6,
    "start_time": "2022-02-06T09:58:28.003Z"
   },
   {
    "duration": 4,
    "start_time": "2022-02-06T09:59:37.840Z"
   },
   {
    "duration": 6,
    "start_time": "2022-02-06T09:59:38.329Z"
   },
   {
    "duration": 4,
    "start_time": "2022-02-06T10:00:22.183Z"
   },
   {
    "duration": 8,
    "start_time": "2022-02-06T10:00:22.600Z"
   },
   {
    "duration": 3,
    "start_time": "2022-02-06T10:00:42.895Z"
   },
   {
    "duration": 7,
    "start_time": "2022-02-06T10:00:43.328Z"
   },
   {
    "duration": 3,
    "start_time": "2022-02-06T10:01:42.269Z"
   },
   {
    "duration": 7,
    "start_time": "2022-02-06T10:01:42.702Z"
   },
   {
    "duration": 4,
    "start_time": "2022-02-06T10:02:02.749Z"
   },
   {
    "duration": 7,
    "start_time": "2022-02-06T10:02:03.182Z"
   },
   {
    "duration": 4,
    "start_time": "2022-02-06T10:03:59.895Z"
   },
   {
    "duration": 10,
    "start_time": "2022-02-06T10:04:00.571Z"
   },
   {
    "duration": 4,
    "start_time": "2022-02-06T10:20:31.996Z"
   },
   {
    "duration": 7,
    "start_time": "2022-02-06T10:20:32.467Z"
   },
   {
    "duration": 3,
    "start_time": "2022-02-06T10:21:00.962Z"
   },
   {
    "duration": 336,
    "start_time": "2022-02-06T10:21:02.410Z"
   },
   {
    "duration": 13,
    "start_time": "2022-02-06T10:21:03.841Z"
   },
   {
    "duration": 4,
    "start_time": "2022-02-06T10:21:05.146Z"
   },
   {
    "duration": 4,
    "start_time": "2022-02-06T10:21:05.906Z"
   },
   {
    "duration": 4,
    "start_time": "2022-02-06T10:21:06.530Z"
   },
   {
    "duration": 12,
    "start_time": "2022-02-06T10:21:08.089Z"
   },
   {
    "duration": 13,
    "start_time": "2022-02-06T10:21:08.769Z"
   },
   {
    "duration": 12,
    "start_time": "2022-02-06T10:21:09.394Z"
   },
   {
    "duration": 3,
    "start_time": "2022-02-06T10:21:10.017Z"
   },
   {
    "duration": 21,
    "start_time": "2022-02-06T10:21:10.617Z"
   },
   {
    "duration": 71,
    "start_time": "2022-02-06T10:21:11.442Z"
   },
   {
    "duration": 3,
    "start_time": "2022-02-06T10:21:12.093Z"
   },
   {
    "duration": 5,
    "start_time": "2022-02-06T10:21:12.857Z"
   },
   {
    "duration": 4,
    "start_time": "2022-02-06T10:21:14.217Z"
   },
   {
    "duration": 3,
    "start_time": "2022-02-06T10:21:14.866Z"
   },
   {
    "duration": 3,
    "start_time": "2022-02-06T10:21:17.313Z"
   },
   {
    "duration": 2,
    "start_time": "2022-02-06T10:21:18.633Z"
   },
   {
    "duration": 3,
    "start_time": "2022-02-06T10:21:19.298Z"
   },
   {
    "duration": 3,
    "start_time": "2022-02-06T10:21:19.969Z"
   },
   {
    "duration": 3,
    "start_time": "2022-02-06T10:22:27.344Z"
   },
   {
    "duration": 5298,
    "start_time": "2022-02-06T10:22:32.922Z"
   },
   {
    "duration": 5,
    "start_time": "2022-02-06T10:22:49.247Z"
   },
   {
    "duration": 344,
    "start_time": "2022-02-06T10:22:50.591Z"
   },
   {
    "duration": 13,
    "start_time": "2022-02-06T10:22:51.991Z"
   },
   {
    "duration": 4,
    "start_time": "2022-02-06T10:22:53.031Z"
   },
   {
    "duration": 4,
    "start_time": "2022-02-06T10:22:54.911Z"
   },
   {
    "duration": 4,
    "start_time": "2022-02-06T10:22:55.335Z"
   },
   {
    "duration": 13,
    "start_time": "2022-02-06T10:22:57.094Z"
   },
   {
    "duration": 13,
    "start_time": "2022-02-06T10:22:59.255Z"
   },
   {
    "duration": 13,
    "start_time": "2022-02-06T10:22:59.886Z"
   },
   {
    "duration": 3,
    "start_time": "2022-02-06T10:23:00.399Z"
   },
   {
    "duration": 19,
    "start_time": "2022-02-06T10:23:00.943Z"
   },
   {
    "duration": 14,
    "start_time": "2022-02-06T10:23:01.871Z"
   },
   {
    "duration": 4,
    "start_time": "2022-02-06T10:23:02.726Z"
   },
   {
    "duration": 6,
    "start_time": "2022-02-06T10:23:04.439Z"
   },
   {
    "duration": 4,
    "start_time": "2022-02-06T10:23:05.535Z"
   },
   {
    "duration": 4,
    "start_time": "2022-02-06T10:23:10.335Z"
   },
   {
    "duration": 3,
    "start_time": "2022-02-06T10:23:15.319Z"
   },
   {
    "duration": 3,
    "start_time": "2022-02-06T10:23:20.030Z"
   },
   {
    "duration": 5,
    "start_time": "2022-02-06T10:23:20.574Z"
   },
   {
    "duration": 5,
    "start_time": "2022-02-06T10:23:21.135Z"
   },
   {
    "duration": 5365,
    "start_time": "2022-02-06T10:23:25.598Z"
   },
   {
    "duration": 4,
    "start_time": "2022-02-06T10:23:33.590Z"
   },
   {
    "duration": 3,
    "start_time": "2022-02-06T10:23:34.342Z"
   },
   {
    "duration": 4,
    "start_time": "2022-02-06T10:23:35.134Z"
   },
   {
    "duration": 3,
    "start_time": "2022-02-06T10:23:43.158Z"
   },
   {
    "duration": 3,
    "start_time": "2022-02-06T10:23:56.493Z"
   },
   {
    "duration": 8,
    "start_time": "2022-02-06T10:24:01.782Z"
   },
   {
    "duration": 5,
    "start_time": "2022-02-06T10:24:02.429Z"
   },
   {
    "duration": 6,
    "start_time": "2022-02-06T10:24:42.869Z"
   },
   {
    "duration": 8,
    "start_time": "2022-02-06T10:24:46.829Z"
   },
   {
    "duration": 6,
    "start_time": "2022-02-06T10:24:48.053Z"
   },
   {
    "duration": 3,
    "start_time": "2022-02-06T11:19:18.044Z"
   },
   {
    "duration": 354,
    "start_time": "2022-02-06T11:19:18.049Z"
   },
   {
    "duration": 13,
    "start_time": "2022-02-06T11:19:18.405Z"
   },
   {
    "duration": 6,
    "start_time": "2022-02-06T11:19:18.420Z"
   },
   {
    "duration": 7,
    "start_time": "2022-02-06T11:19:18.427Z"
   },
   {
    "duration": 9,
    "start_time": "2022-02-06T11:19:18.435Z"
   },
   {
    "duration": 15,
    "start_time": "2022-02-06T11:19:18.447Z"
   },
   {
    "duration": 11,
    "start_time": "2022-02-06T11:19:18.464Z"
   },
   {
    "duration": 36,
    "start_time": "2022-02-06T11:19:18.476Z"
   },
   {
    "duration": 2,
    "start_time": "2022-02-06T11:19:18.514Z"
   },
   {
    "duration": 22,
    "start_time": "2022-02-06T11:19:18.518Z"
   },
   {
    "duration": 73,
    "start_time": "2022-02-06T11:19:18.541Z"
   },
   {
    "duration": 5,
    "start_time": "2022-02-06T11:19:18.617Z"
   },
   {
    "duration": 94,
    "start_time": "2022-02-06T11:19:18.624Z"
   },
   {
    "duration": 5,
    "start_time": "2022-02-06T11:19:18.720Z"
   },
   {
    "duration": 4,
    "start_time": "2022-02-06T11:19:18.727Z"
   },
   {
    "duration": 3,
    "start_time": "2022-02-06T11:19:18.733Z"
   },
   {
    "duration": 5,
    "start_time": "2022-02-06T11:19:18.737Z"
   },
   {
    "duration": 4,
    "start_time": "2022-02-06T11:19:18.745Z"
   },
   {
    "duration": 6,
    "start_time": "2022-02-06T11:19:18.751Z"
   },
   {
    "duration": 5493,
    "start_time": "2022-02-06T11:19:18.758Z"
   },
   {
    "duration": 3,
    "start_time": "2022-02-06T11:19:24.253Z"
   },
   {
    "duration": 6,
    "start_time": "2022-02-06T11:19:24.258Z"
   },
   {
    "duration": 5,
    "start_time": "2022-02-06T11:19:24.266Z"
   },
   {
    "duration": 5,
    "start_time": "2022-02-06T11:19:24.272Z"
   },
   {
    "duration": 3,
    "start_time": "2022-02-06T11:19:24.279Z"
   },
   {
    "duration": 32,
    "start_time": "2022-02-06T11:19:24.284Z"
   },
   {
    "duration": 3,
    "start_time": "2022-02-06T11:19:24.318Z"
   },
   {
    "duration": 5,
    "start_time": "2022-02-06T11:19:24.323Z"
   },
   {
    "duration": 8,
    "start_time": "2022-02-06T11:19:24.330Z"
   },
   {
    "duration": 9,
    "start_time": "2022-02-06T11:19:24.340Z"
   },
   {
    "duration": 968,
    "start_time": "2022-02-07T08:06:25.596Z"
   },
   {
    "duration": 360,
    "start_time": "2022-02-07T08:06:28.631Z"
   },
   {
    "duration": 20,
    "start_time": "2022-02-07T08:06:30.003Z"
   },
   {
    "duration": 4,
    "start_time": "2022-02-07T08:06:32.922Z"
   },
   {
    "duration": 5,
    "start_time": "2022-02-07T08:06:33.658Z"
   },
   {
    "duration": 6,
    "start_time": "2022-02-07T08:06:34.290Z"
   },
   {
    "duration": 15,
    "start_time": "2022-02-07T08:06:36.194Z"
   },
   {
    "duration": 15,
    "start_time": "2022-02-07T08:06:38.683Z"
   },
   {
    "duration": 14,
    "start_time": "2022-02-07T08:06:39.395Z"
   },
   {
    "duration": 2,
    "start_time": "2022-02-07T08:06:40.002Z"
   },
   {
    "duration": 26,
    "start_time": "2022-02-07T08:06:42.962Z"
   },
   {
    "duration": 10,
    "start_time": "2022-02-07T08:06:43.818Z"
   },
   {
    "duration": 5,
    "start_time": "2022-02-07T08:06:44.380Z"
   },
   {
    "duration": 5,
    "start_time": "2022-02-07T08:06:47.202Z"
   },
   {
    "duration": 4,
    "start_time": "2022-02-07T08:06:49.082Z"
   },
   {
    "duration": 3,
    "start_time": "2022-02-07T08:06:49.842Z"
   },
   {
    "duration": 3,
    "start_time": "2022-02-07T08:06:55.905Z"
   },
   {
    "duration": 3,
    "start_time": "2022-02-07T08:06:57.041Z"
   },
   {
    "duration": 3,
    "start_time": "2022-02-07T08:06:57.666Z"
   },
   {
    "duration": 3,
    "start_time": "2022-02-07T08:06:59.578Z"
   },
   {
    "duration": 4886,
    "start_time": "2022-02-07T08:07:17.863Z"
   },
   {
    "duration": 8,
    "start_time": "2022-02-07T08:07:22.751Z"
   },
   {
    "duration": 3,
    "start_time": "2022-02-07T08:07:26.153Z"
   },
   {
    "duration": 4,
    "start_time": "2022-02-07T08:07:26.793Z"
   },
   {
    "duration": 3,
    "start_time": "2022-02-07T08:07:28.140Z"
   },
   {
    "duration": 2,
    "start_time": "2022-02-07T08:07:33.225Z"
   },
   {
    "duration": 7,
    "start_time": "2022-02-07T08:07:38.225Z"
   },
   {
    "duration": 4,
    "start_time": "2022-02-07T08:07:38.865Z"
   },
   {
    "duration": 5,
    "start_time": "2022-02-07T08:07:44.177Z"
   },
   {
    "duration": 7,
    "start_time": "2022-02-07T08:07:50.056Z"
   },
   {
    "duration": 6,
    "start_time": "2022-02-07T08:07:51.784Z"
   },
   {
    "duration": 3,
    "start_time": "2022-02-07T08:17:00.855Z"
   },
   {
    "duration": 3,
    "start_time": "2022-02-07T08:17:05.799Z"
   },
   {
    "duration": 368,
    "start_time": "2022-02-07T08:17:05.804Z"
   },
   {
    "duration": 15,
    "start_time": "2022-02-07T08:17:06.174Z"
   },
   {
    "duration": 8,
    "start_time": "2022-02-07T08:17:06.191Z"
   },
   {
    "duration": 7,
    "start_time": "2022-02-07T08:17:06.201Z"
   },
   {
    "duration": 14,
    "start_time": "2022-02-07T08:17:06.209Z"
   },
   {
    "duration": 30,
    "start_time": "2022-02-07T08:17:06.225Z"
   },
   {
    "duration": 15,
    "start_time": "2022-02-07T08:17:06.257Z"
   },
   {
    "duration": 13,
    "start_time": "2022-02-07T08:17:06.273Z"
   },
   {
    "duration": 3,
    "start_time": "2022-02-07T08:17:06.288Z"
   },
   {
    "duration": 22,
    "start_time": "2022-02-07T08:17:06.293Z"
   },
   {
    "duration": 46,
    "start_time": "2022-02-07T08:17:06.316Z"
   },
   {
    "duration": 104,
    "start_time": "2022-02-07T08:17:06.365Z"
   },
   {
    "duration": 93,
    "start_time": "2022-02-07T08:17:06.472Z"
   },
   {
    "duration": 10,
    "start_time": "2022-02-07T08:17:06.566Z"
   },
   {
    "duration": 17,
    "start_time": "2022-02-07T08:17:06.577Z"
   },
   {
    "duration": 9,
    "start_time": "2022-02-07T08:17:06.596Z"
   },
   {
    "duration": 3,
    "start_time": "2022-02-07T08:24:39.527Z"
   },
   {
    "duration": 388,
    "start_time": "2022-02-07T08:24:39.532Z"
   },
   {
    "duration": 17,
    "start_time": "2022-02-07T08:24:39.922Z"
   },
   {
    "duration": 18,
    "start_time": "2022-02-07T08:24:39.942Z"
   },
   {
    "duration": 9,
    "start_time": "2022-02-07T08:24:39.962Z"
   },
   {
    "duration": 6,
    "start_time": "2022-02-07T08:24:39.973Z"
   },
   {
    "duration": 14,
    "start_time": "2022-02-07T08:24:39.982Z"
   },
   {
    "duration": 13,
    "start_time": "2022-02-07T08:24:39.998Z"
   },
   {
    "duration": 12,
    "start_time": "2022-02-07T08:24:40.013Z"
   },
   {
    "duration": 7,
    "start_time": "2022-02-07T08:24:40.027Z"
   },
   {
    "duration": 20,
    "start_time": "2022-02-07T08:24:40.060Z"
   },
   {
    "duration": 82,
    "start_time": "2022-02-07T08:24:40.082Z"
   },
   {
    "duration": 94,
    "start_time": "2022-02-07T08:24:40.166Z"
   },
   {
    "duration": 102,
    "start_time": "2022-02-07T08:24:40.263Z"
   },
   {
    "duration": 9,
    "start_time": "2022-02-07T08:24:40.367Z"
   },
   {
    "duration": 5,
    "start_time": "2022-02-07T08:24:40.378Z"
   },
   {
    "duration": 4,
    "start_time": "2022-02-07T08:24:40.385Z"
   },
   {
    "duration": 5,
    "start_time": "2022-02-07T08:24:40.391Z"
   },
   {
    "duration": 5,
    "start_time": "2022-02-07T08:24:40.399Z"
   },
   {
    "duration": 7,
    "start_time": "2022-02-07T08:24:40.406Z"
   },
   {
    "duration": 4969,
    "start_time": "2022-02-07T08:24:40.415Z"
   },
   {
    "duration": 4,
    "start_time": "2022-02-07T08:24:45.386Z"
   },
   {
    "duration": 6,
    "start_time": "2022-02-07T08:24:45.392Z"
   },
   {
    "duration": 6,
    "start_time": "2022-02-07T08:24:45.400Z"
   },
   {
    "duration": 6,
    "start_time": "2022-02-07T08:24:45.408Z"
   },
   {
    "duration": 5,
    "start_time": "2022-02-07T08:24:45.416Z"
   },
   {
    "duration": 9,
    "start_time": "2022-02-07T08:24:45.423Z"
   },
   {
    "duration": 29,
    "start_time": "2022-02-07T08:24:45.433Z"
   },
   {
    "duration": 53,
    "start_time": "2022-02-07T08:25:10.060Z"
   },
   {
    "duration": 263,
    "start_time": "2022-02-07T08:25:32.733Z"
   },
   {
    "duration": 4,
    "start_time": "2022-02-07T08:25:46.292Z"
   },
   {
    "duration": 200,
    "start_time": "2022-02-07T08:26:32.435Z"
   },
   {
    "duration": 39,
    "start_time": "2022-02-07T08:27:46.106Z"
   },
   {
    "duration": 6,
    "start_time": "2022-02-07T08:28:02.921Z"
   },
   {
    "duration": 4,
    "start_time": "2022-02-07T08:28:50.977Z"
   },
   {
    "duration": 10,
    "start_time": "2022-02-07T08:35:07.506Z"
   },
   {
    "duration": 8,
    "start_time": "2022-02-07T08:35:21.433Z"
   },
   {
    "duration": 11,
    "start_time": "2022-02-07T08:35:32.369Z"
   },
   {
    "duration": 8,
    "start_time": "2022-02-07T08:35:38.850Z"
   },
   {
    "duration": 8,
    "start_time": "2022-02-07T08:36:06.928Z"
   },
   {
    "duration": 9,
    "start_time": "2022-02-07T08:36:21.112Z"
   },
   {
    "duration": 7,
    "start_time": "2022-02-07T08:36:31.912Z"
   },
   {
    "duration": 3,
    "start_time": "2022-02-07T08:41:13.859Z"
   },
   {
    "duration": 367,
    "start_time": "2022-02-07T08:41:15.634Z"
   },
   {
    "duration": 9,
    "start_time": "2022-02-07T08:41:17.932Z"
   },
   {
    "duration": 9,
    "start_time": "2022-02-07T08:41:23.564Z"
   },
   {
    "duration": 9,
    "start_time": "2022-02-07T08:41:26.227Z"
   },
   {
    "duration": 10,
    "start_time": "2022-02-07T08:41:28.787Z"
   },
   {
    "duration": 10,
    "start_time": "2022-02-07T08:41:31.419Z"
   },
   {
    "duration": 11,
    "start_time": "2022-02-07T08:41:34.203Z"
   },
   {
    "duration": 10,
    "start_time": "2022-02-07T08:41:37.634Z"
   },
   {
    "duration": 5,
    "start_time": "2022-02-07T08:41:43.034Z"
   },
   {
    "duration": 5,
    "start_time": "2022-02-07T08:41:43.907Z"
   },
   {
    "duration": 5,
    "start_time": "2022-02-07T08:41:44.466Z"
   },
   {
    "duration": 20,
    "start_time": "2022-02-07T08:42:43.128Z"
   },
   {
    "duration": 20,
    "start_time": "2022-02-07T08:42:43.767Z"
   },
   {
    "duration": 18,
    "start_time": "2022-02-07T08:42:44.391Z"
   },
   {
    "duration": 3,
    "start_time": "2022-02-07T08:42:44.983Z"
   },
   {
    "duration": 28,
    "start_time": "2022-02-07T08:42:45.951Z"
   },
   {
    "duration": 13,
    "start_time": "2022-02-07T08:42:48.600Z"
   },
   {
    "duration": 4,
    "start_time": "2022-02-07T08:42:49.392Z"
   },
   {
    "duration": 5,
    "start_time": "2022-02-07T08:42:50.054Z"
   },
   {
    "duration": 5,
    "start_time": "2022-02-07T08:42:52.319Z"
   },
   {
    "duration": 5,
    "start_time": "2022-02-07T08:42:55.054Z"
   },
   {
    "duration": 5,
    "start_time": "2022-02-07T08:44:34.215Z"
   },
   {
    "duration": 3,
    "start_time": "2022-02-07T08:44:41.405Z"
   },
   {
    "duration": 372,
    "start_time": "2022-02-07T08:44:42.709Z"
   },
   {
    "duration": 9,
    "start_time": "2022-02-07T08:44:44.901Z"
   },
   {
    "duration": 9,
    "start_time": "2022-02-07T08:44:45.541Z"
   },
   {
    "duration": 8,
    "start_time": "2022-02-07T08:44:46.053Z"
   },
   {
    "duration": 11,
    "start_time": "2022-02-07T08:44:46.468Z"
   },
   {
    "duration": 11,
    "start_time": "2022-02-07T08:44:51.245Z"
   },
   {
    "duration": 11,
    "start_time": "2022-02-07T08:44:53.044Z"
   },
   {
    "duration": 14,
    "start_time": "2022-02-07T08:44:55.084Z"
   },
   {
    "duration": 5,
    "start_time": "2022-02-07T08:44:57.621Z"
   },
   {
    "duration": 5,
    "start_time": "2022-02-07T08:44:58.595Z"
   },
   {
    "duration": 5,
    "start_time": "2022-02-07T08:44:59.212Z"
   },
   {
    "duration": 14,
    "start_time": "2022-02-07T08:45:02.156Z"
   },
   {
    "duration": 13,
    "start_time": "2022-02-07T08:45:02.773Z"
   },
   {
    "duration": 13,
    "start_time": "2022-02-07T08:45:03.428Z"
   },
   {
    "duration": 3,
    "start_time": "2022-02-07T08:45:04.060Z"
   },
   {
    "duration": 21,
    "start_time": "2022-02-07T08:45:04.734Z"
   },
   {
    "duration": 8,
    "start_time": "2022-02-07T08:45:07.596Z"
   },
   {
    "duration": 4,
    "start_time": "2022-02-07T08:45:08.236Z"
   },
   {
    "duration": 5,
    "start_time": "2022-02-07T08:45:08.924Z"
   },
   {
    "duration": 4,
    "start_time": "2022-02-07T08:45:09.620Z"
   },
   {
    "duration": 4,
    "start_time": "2022-02-07T08:45:12.572Z"
   },
   {
    "duration": 3,
    "start_time": "2022-02-07T08:45:17.500Z"
   },
   {
    "duration": 2,
    "start_time": "2022-02-07T08:45:23.667Z"
   },
   {
    "duration": 3,
    "start_time": "2022-02-07T08:45:26.531Z"
   },
   {
    "duration": 3,
    "start_time": "2022-02-07T08:45:27.347Z"
   },
   {
    "duration": 4992,
    "start_time": "2022-02-07T08:45:35.850Z"
   },
   {
    "duration": 4,
    "start_time": "2022-02-07T08:45:44.363Z"
   },
   {
    "duration": 4,
    "start_time": "2022-02-07T08:45:46.531Z"
   },
   {
    "duration": 4,
    "start_time": "2022-02-07T08:45:47.852Z"
   },
   {
    "duration": 3,
    "start_time": "2022-02-07T08:45:50.619Z"
   },
   {
    "duration": 2,
    "start_time": "2022-02-07T08:45:51.475Z"
   },
   {
    "duration": 7,
    "start_time": "2022-02-07T08:45:58.699Z"
   },
   {
    "duration": 4,
    "start_time": "2022-02-07T08:46:04.715Z"
   },
   {
    "duration": 4,
    "start_time": "2022-02-07T08:46:05.691Z"
   },
   {
    "duration": 6,
    "start_time": "2022-02-07T08:46:18.026Z"
   },
   {
    "duration": 4,
    "start_time": "2022-02-07T08:46:22.858Z"
   }
  ],
  "kernelspec": {
   "display_name": "Python 3 (ipykernel)",
   "language": "python",
   "name": "python3"
  },
  "language_info": {
   "codemirror_mode": {
    "name": "ipython",
    "version": 3
   },
   "file_extension": ".py",
   "mimetype": "text/x-python",
   "name": "python",
   "nbconvert_exporter": "python",
   "pygments_lexer": "ipython3",
   "version": "3.11.0"
  },
  "toc": {
   "base_numbering": 1,
   "nav_menu": {},
   "number_sections": true,
   "sideBar": true,
   "skip_h1_title": true,
   "title_cell": "Table of Contents",
   "title_sidebar": "Contents",
   "toc_cell": false,
   "toc_position": {},
   "toc_section_display": true,
   "toc_window_display": false
  }
 },
 "nbformat": 4,
 "nbformat_minor": 4
}
