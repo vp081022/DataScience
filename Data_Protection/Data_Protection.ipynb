{
 "cells": [
  {
   "cell_type": "markdown",
   "metadata": {},
   "source": [
    "# Защита персональных данных"
   ]
  },
  {
   "cell_type": "markdown",
   "metadata": {},
   "source": [
    "# Описание задачи"
   ]
  },
  {
   "cell_type": "markdown",
   "metadata": {},
   "source": [
    "Необходимо защитить персональные данные клиентов компании. Для этого нужно разработать такой метод преобразования данных, чтобы по ним в итоге было сложно восстановить персональную информацию. После преобразования данных качество модели машинного обучения не должно ухудшиться. Предполагается использование метода линейной регрессии."
   ]
  },
  {
   "cell_type": "markdown",
   "metadata": {},
   "source": [
    "# План работы"
   ]
  },
  {
   "cell_type": "markdown",
   "metadata": {},
   "source": [
    "1. Загрузка данных\n",
    "2. Умножение матриц\n",
    "3. Алгоритм преобразования\n",
    "4. Проверка алгоритма\n",
    "5. Вывод"
   ]
  },
  {
   "cell_type": "markdown",
   "metadata": {},
   "source": [
    "# Описание данных"
   ]
  },
  {
   "cell_type": "markdown",
   "metadata": {},
   "source": [
    "* Признаки: пол, возраст, зарплата клиента, количество членов семьи клиента.\n",
    "* Целевой признак: количество страховых выплат клиенту."
   ]
  },
  {
   "cell_type": "markdown",
   "metadata": {},
   "source": [
    "## Загрузка данных"
   ]
  },
  {
   "cell_type": "code",
   "execution_count": 35,
   "metadata": {},
   "outputs": [],
   "source": [
    "# Импорт библиотек и функций\n",
    "import pandas as pd\n",
    "import numpy as np\n",
    "from sklearn.metrics import r2_score"
   ]
  },
  {
   "cell_type": "code",
   "execution_count": 36,
   "metadata": {},
   "outputs": [],
   "source": [
    "# Чтение таблицы данных\n",
    "data = pd.read_csv('datasets/insurance.csv')"
   ]
  },
  {
   "cell_type": "code",
   "execution_count": 37,
   "metadata": {},
   "outputs": [
    {
     "data": {
      "text/html": [
       "<div>\n",
       "<style scoped>\n",
       "    .dataframe tbody tr th:only-of-type {\n",
       "        vertical-align: middle;\n",
       "    }\n",
       "\n",
       "    .dataframe tbody tr th {\n",
       "        vertical-align: top;\n",
       "    }\n",
       "\n",
       "    .dataframe thead th {\n",
       "        text-align: right;\n",
       "    }\n",
       "</style>\n",
       "<table border=\"1\" class=\"dataframe\">\n",
       "  <thead>\n",
       "    <tr style=\"text-align: right;\">\n",
       "      <th></th>\n",
       "      <th>Пол</th>\n",
       "      <th>Возраст</th>\n",
       "      <th>Зарплата</th>\n",
       "      <th>Члены семьи</th>\n",
       "      <th>Страховые выплаты</th>\n",
       "    </tr>\n",
       "  </thead>\n",
       "  <tbody>\n",
       "    <tr>\n",
       "      <th>0</th>\n",
       "      <td>1</td>\n",
       "      <td>41.0</td>\n",
       "      <td>49600.0</td>\n",
       "      <td>1</td>\n",
       "      <td>0</td>\n",
       "    </tr>\n",
       "    <tr>\n",
       "      <th>1</th>\n",
       "      <td>0</td>\n",
       "      <td>46.0</td>\n",
       "      <td>38000.0</td>\n",
       "      <td>1</td>\n",
       "      <td>1</td>\n",
       "    </tr>\n",
       "    <tr>\n",
       "      <th>2</th>\n",
       "      <td>0</td>\n",
       "      <td>29.0</td>\n",
       "      <td>21000.0</td>\n",
       "      <td>0</td>\n",
       "      <td>0</td>\n",
       "    </tr>\n",
       "    <tr>\n",
       "      <th>3</th>\n",
       "      <td>0</td>\n",
       "      <td>21.0</td>\n",
       "      <td>41700.0</td>\n",
       "      <td>2</td>\n",
       "      <td>0</td>\n",
       "    </tr>\n",
       "    <tr>\n",
       "      <th>4</th>\n",
       "      <td>1</td>\n",
       "      <td>28.0</td>\n",
       "      <td>26100.0</td>\n",
       "      <td>0</td>\n",
       "      <td>0</td>\n",
       "    </tr>\n",
       "  </tbody>\n",
       "</table>\n",
       "</div>"
      ],
      "text/plain": [
       "   Пол  Возраст  Зарплата  Члены семьи  Страховые выплаты\n",
       "0    1     41.0   49600.0            1                  0\n",
       "1    0     46.0   38000.0            1                  1\n",
       "2    0     29.0   21000.0            0                  0\n",
       "3    0     21.0   41700.0            2                  0\n",
       "4    1     28.0   26100.0            0                  0"
      ]
     },
     "execution_count": 37,
     "metadata": {},
     "output_type": "execute_result"
    }
   ],
   "source": [
    "# Просмотр первых 5 строк таблицы данных\n",
    "data.head()"
   ]
  },
  {
   "cell_type": "code",
   "execution_count": 38,
   "metadata": {
    "scrolled": true
   },
   "outputs": [
    {
     "name": "stdout",
     "output_type": "stream",
     "text": [
      "<class 'pandas.core.frame.DataFrame'>\n",
      "RangeIndex: 5000 entries, 0 to 4999\n",
      "Data columns (total 5 columns):\n",
      " #   Column             Non-Null Count  Dtype  \n",
      "---  ------             --------------  -----  \n",
      " 0   Пол                5000 non-null   int64  \n",
      " 1   Возраст            5000 non-null   float64\n",
      " 2   Зарплата           5000 non-null   float64\n",
      " 3   Члены семьи        5000 non-null   int64  \n",
      " 4   Страховые выплаты  5000 non-null   int64  \n",
      "dtypes: float64(2), int64(3)\n",
      "memory usage: 195.4 KB\n"
     ]
    }
   ],
   "source": [
    "# Вывод сводной информации о таблице\n",
    "data.info()"
   ]
  },
  {
   "cell_type": "code",
   "execution_count": 39,
   "metadata": {},
   "outputs": [],
   "source": [
    "# Выделение в таблице основных признаков и целевого\n",
    "features = data.drop('Страховые выплаты', axis=1)\n",
    "target = data['Страховые выплаты']"
   ]
  },
  {
   "cell_type": "markdown",
   "metadata": {},
   "source": [
    "## Умножение матриц"
   ]
  },
  {
   "cell_type": "markdown",
   "metadata": {},
   "source": [
    "Для защиты данных используем умножение признаков на обратимую матрицу. Проверим, изменится ли качество линейной регрессии после умножения."
   ]
  },
  {
   "cell_type": "markdown",
   "metadata": {},
   "source": [
    "**Обозначения:**\n",
    "\n",
    "Здесь будут использованы следующие обозначения:\n",
    "\n",
    "- $X$ — матрица признаков (нулевой столбец состоит из единиц)\n",
    "\n",
    "- $y$ — вектор целевого признака\n",
    "\n",
    "- $P$ — матрица, на которую умножаются признаки\n",
    "\n",
    "- $w$ — вектор весов линейной регрессии (нулевой элемент равен сдвигу)"
   ]
  },
  {
   "cell_type": "markdown",
   "metadata": {},
   "source": [
    "**Примечание.** Формулу предсказаний линейной регрессии используем в упрощённом виде $ a = Xw $, который получается, если в матрицу $X$ добавить нулевой столбец, состоящий только из единиц, а к вектору $w$ добавить нулевой элемент со значением $w0$"
   ]
  },
  {
   "cell_type": "markdown",
   "metadata": {},
   "source": [
    "Предсказания:\n",
    "\n",
    "$$\n",
    "a = Xw\n",
    "$$\n",
    "\n",
    "Задача обучения:\n",
    "\n",
    "$$\n",
    "w = \\arg\\min_w MSE(Xw, y)\n",
    "$$\n",
    "\n",
    "Формула обучения:\n",
    "\n",
    "$$\n",
    "w = (X^T X)^{-1} X^T y\n",
    "$$"
   ]
  },
  {
   "cell_type": "markdown",
   "metadata": {},
   "source": [
    "**Решение:** \n",
    "Возьмём формулу обучения и подставим вместо матрицы признаков X произведение признаков на обратимую матрицу P, то есть XP\n",
    "\n",
    "$$\n",
    "w_{XP} = ((XP)^T XP)^{-1} (XP)^T y = (P^{T}X^{T}XP)^{-1}P^{T}X^{T} y = P^{-1}(P^TX^TX)^{-1}P^TX^Ty = P^{-1}(X^TX)^{-1}(P^T)^{-1}P^TX^Ty = P^{-1}(X^TX)^{-1}X^Ty = P^{-1}w\n",
    "$$\n",
    "\n",
    "Возьмём формулу вектора предсказаний и подставим в неё вместо матрицы признаков X произведение признаков на обратимую матрицу P и результат преобразования на предыдущем шаге\n",
    "\n",
    "$$\n",
    "a_{XP} = (XP)w_{XP} = XPP^{-1}w = Xw = a\n",
    "$$\n",
    "\n",
    "**Вывод:** Качество линейной регрессии не изменится. Для преобразования данных можно использовать умножение признаков на обратимую матрицу.\n",
    "\n",
    "\n"
   ]
  },
  {
   "cell_type": "markdown",
   "metadata": {},
   "source": [
    "## Алгоритм преобразования"
   ]
  },
  {
   "cell_type": "markdown",
   "metadata": {},
   "source": [
    "Для преобразования данных будет использовано умножение матрицы признаков на произвольную обратимую матрицу. При этом качество модели машинного обучения не должно ухудшиться."
   ]
  },
  {
   "cell_type": "markdown",
   "metadata": {},
   "source": [
    "* На первом шаге создаётся произвольная обратимая матрица $P$.\n",
    "* На втором шаге проверяется обратимость созданной матрицы $P$.\n",
    "* На третьем шаге создаются два класса линейной регрессии - класс линейной регрессии без преобразования и класс линейной регрессии с преобразованием, в котором матрица $X$ умножается на обратимую матрицу $P$. В каждом классе выполняется вычисление вектора весов линейной регрессии $w$ по формуле $w = (X^T X)^{-1} X^T y$\n",
    "* На четвертом шаге с использованием созданных классов определяются и сравниваются метрики качества линейной регрессии без преобразования и линейной регрессии с преобразованием."
   ]
  },
  {
   "cell_type": "markdown",
   "metadata": {},
   "source": [
    "## Проверка алгоритма"
   ]
  },
  {
   "cell_type": "code",
   "execution_count": 40,
   "metadata": {},
   "outputs": [],
   "source": [
    "# Формирование матрицы признаков с нулевым столбцом состоящим только из единиц\n",
    "X = np.concatenate((np.ones((features.shape[0], 1)), features), axis=1)"
   ]
  },
  {
   "cell_type": "code",
   "execution_count": 41,
   "metadata": {},
   "outputs": [],
   "source": [
    "# Вектор целевого признака\n",
    "y = target"
   ]
  },
  {
   "cell_type": "code",
   "execution_count": 42,
   "metadata": {},
   "outputs": [],
   "source": [
    "# Произвольная обратимая матрица\n",
    "P = np.array([[2, -1, -3, 1, 0],\n",
    "            [-1, -2, 0, 3, -2],\n",
    "            [-2, 0, 2, -2, 1],\n",
    "            [0, -2, 0, 3, -2],\n",
    "            [1, 0, -1, 2, 1]])"
   ]
  },
  {
   "cell_type": "code",
   "execution_count": 43,
   "metadata": {
    "scrolled": true
   },
   "outputs": [
    {
     "data": {
      "text/plain": [
       "array([[-8.32667268e-17, -1.00000000e+00, -1.11022302e-16,\n",
       "         1.00000000e+00,  1.73472348e-17],\n",
       "       [-4.19354839e-01,  4.19354839e-01, -6.12903226e-01,\n",
       "        -7.09677419e-01,  3.22580645e-02],\n",
       "       [-2.58064516e-01, -7.41935484e-01,  1.61290323e-01,\n",
       "         8.70967742e-01,  9.67741935e-02],\n",
       "       [-1.93548387e-01,  1.93548387e-01, -1.29032258e-01,\n",
       "        -9.67741935e-02,  3.22580645e-01],\n",
       "       [ 1.29032258e-01, -1.29032258e-01,  4.19354839e-01,\n",
       "         6.45161290e-02,  4.51612903e-01]])"
      ]
     },
     "execution_count": 43,
     "metadata": {},
     "output_type": "execute_result"
    }
   ],
   "source": [
    "# Проверка возможности вычисления обратной матрицы\n",
    "np.linalg.inv(P)"
   ]
  },
  {
   "cell_type": "markdown",
   "metadata": {},
   "source": [
    "Обратимость матрицы $P$ можно также проверить с помощью её определителя: У обратимой матрицы определитель не должен быть равен нулю."
   ]
  },
  {
   "cell_type": "code",
   "execution_count": 45,
   "metadata": {},
   "outputs": [
    {
     "data": {
      "text/plain": [
       "-31.0"
      ]
     },
     "execution_count": 45,
     "metadata": {},
     "output_type": "execute_result"
    }
   ],
   "source": [
    "# Определитель матрицы\n",
    "np.linalg.det(P)"
   ]
  },
  {
   "cell_type": "code",
   "execution_count": 10,
   "metadata": {},
   "outputs": [],
   "source": [
    "#Класс линейной регрессии без преобразования\n",
    "class LinearRegression:\n",
    "    def fit(self, train_features, train_target):\n",
    "        X = np.concatenate((np.ones((train_features.shape[0], 1)), train_features), axis=1)\n",
    "        y = train_target\n",
    "        self.w = np.linalg.inv(X.T.dot(X)).dot(X.T).dot(y)\n",
    "        \n",
    "    def predict(self, test_features):\n",
    "        X = np.concatenate((np.ones((test_features.shape[0], 1)), test_features), axis=1)\n",
    "        return X.dot(self.w)"
   ]
  },
  {
   "cell_type": "code",
   "execution_count": 11,
   "metadata": {},
   "outputs": [],
   "source": [
    "# Класс линейной регрессии с преобразованием\n",
    "class LinearRegression_secure:\n",
    "    def fit(self, train_features, train_target):\n",
    "        X = np.concatenate((np.ones((train_features.shape[0], 1)), train_features), axis=1)\n",
    "        X = X.dot(P)\n",
    "        y = train_target\n",
    "        self.w = np.linalg.inv(X.T.dot(X)).dot(X.T).dot(y)\n",
    "        \n",
    "    def predict(self, test_features):\n",
    "        X = np.concatenate((np.ones((test_features.shape[0], 1)), test_features), axis=1)\n",
    "        X = X.dot(P)\n",
    "        return X.dot(self.w)"
   ]
  },
  {
   "cell_type": "code",
   "execution_count": 12,
   "metadata": {},
   "outputs": [
    {
     "name": "stdout",
     "output_type": "stream",
     "text": [
      "0.42494550286668\n"
     ]
    }
   ],
   "source": [
    "#Определение качества линейной регрессии без преобразования\n",
    "model = LinearRegression()\n",
    "model.fit(features, target)\n",
    "predictions = model.predict(features)\n",
    "print(r2_score(target, predictions))"
   ]
  },
  {
   "cell_type": "code",
   "execution_count": 13,
   "metadata": {},
   "outputs": [
    {
     "name": "stdout",
     "output_type": "stream",
     "text": [
      "0.42494550286626154\n"
     ]
    }
   ],
   "source": [
    "#Определение качества линейной регрессии с преобразованием\n",
    "model = LinearRegression_secure()\n",
    "model.fit(features, target)\n",
    "predictions = model.predict(features)\n",
    "print(r2_score(target, predictions))"
   ]
  },
  {
   "cell_type": "markdown",
   "metadata": {},
   "source": [
    "**Вывод:** значение метрики R2 до преобразования признаков совпадает со значением R2 после преобразования. Качество модели линейной регрессии после преобразования признаков не меняется."
   ]
  },
  {
   "cell_type": "markdown",
   "metadata": {},
   "source": [
    "## Вывод"
   ]
  },
  {
   "cell_type": "markdown",
   "metadata": {},
   "source": [
    "Для защиты персональных данных был применён метод преобразования, заключающийся в умножении матрицы признаков на произвольную обратимую матрицу. В результате проверки было выяснено, что качество модели машинного обучения после преобразования признаков не ухудшилось."
   ]
  }
 ],
 "metadata": {
  "ExecuteTimeLog": [
   {
    "duration": 503,
    "start_time": "2022-03-21T17:45:21.278Z"
   },
   {
    "duration": 28,
    "start_time": "2022-03-21T17:46:28.931Z"
   },
   {
    "duration": 34,
    "start_time": "2022-03-21T17:46:56.804Z"
   },
   {
    "duration": 17,
    "start_time": "2022-03-21T17:47:22.473Z"
   },
   {
    "duration": 1203,
    "start_time": "2022-03-22T17:59:31.139Z"
   },
   {
    "duration": 106,
    "start_time": "2022-03-22T18:03:06.902Z"
   },
   {
    "duration": 3,
    "start_time": "2022-03-22T18:03:15.004Z"
   },
   {
    "duration": 113,
    "start_time": "2022-03-22T18:03:15.676Z"
   },
   {
    "duration": 18,
    "start_time": "2022-03-22T18:03:16.413Z"
   },
   {
    "duration": 12,
    "start_time": "2022-03-22T18:03:17.275Z"
   },
   {
    "duration": 4,
    "start_time": "2022-03-22T18:03:20.251Z"
   },
   {
    "duration": 73,
    "start_time": "2022-03-22T18:12:29.242Z"
   },
   {
    "duration": 1778,
    "start_time": "2022-03-22T18:13:04.986Z"
   },
   {
    "duration": 92,
    "start_time": "2022-03-22T18:13:06.768Z"
   },
   {
    "duration": 27,
    "start_time": "2022-03-22T18:13:06.863Z"
   },
   {
    "duration": 17,
    "start_time": "2022-03-22T18:13:06.893Z"
   },
   {
    "duration": 8,
    "start_time": "2022-03-22T18:13:07.786Z"
   },
   {
    "duration": 168,
    "start_time": "2022-03-22T18:13:15.107Z"
   },
   {
    "duration": 7,
    "start_time": "2022-03-22T18:13:30.961Z"
   },
   {
    "duration": 4,
    "start_time": "2022-03-22T18:13:55.744Z"
   },
   {
    "duration": 14,
    "start_time": "2022-03-22T18:16:19.125Z"
   },
   {
    "duration": 6,
    "start_time": "2022-03-22T18:16:26.974Z"
   },
   {
    "duration": 5,
    "start_time": "2022-03-22T18:20:25.696Z"
   },
   {
    "duration": 4,
    "start_time": "2022-03-22T18:20:26.431Z"
   },
   {
    "duration": 13,
    "start_time": "2022-03-22T18:20:26.975Z"
   },
   {
    "duration": 5,
    "start_time": "2022-03-22T18:21:11.887Z"
   },
   {
    "duration": 231,
    "start_time": "2022-03-22T18:24:20.003Z"
   },
   {
    "duration": 373,
    "start_time": "2022-03-22T18:24:46.994Z"
   },
   {
    "duration": 5,
    "start_time": "2022-03-22T18:43:43.098Z"
   },
   {
    "duration": 6,
    "start_time": "2022-03-22T18:44:01.145Z"
   },
   {
    "duration": 4,
    "start_time": "2022-03-22T18:44:01.649Z"
   },
   {
    "duration": 5,
    "start_time": "2022-03-22T18:44:02.512Z"
   },
   {
    "duration": 11,
    "start_time": "2022-03-22T18:44:37.728Z"
   },
   {
    "duration": 7,
    "start_time": "2022-03-22T19:30:27.765Z"
   },
   {
    "duration": 10,
    "start_time": "2022-03-22T19:30:50.667Z"
   },
   {
    "duration": 4,
    "start_time": "2022-03-22T19:31:47.476Z"
   },
   {
    "duration": 22,
    "start_time": "2022-03-22T19:31:47.483Z"
   },
   {
    "duration": 12,
    "start_time": "2022-03-22T19:31:47.507Z"
   },
   {
    "duration": 14,
    "start_time": "2022-03-22T19:31:47.522Z"
   },
   {
    "duration": 6,
    "start_time": "2022-03-22T19:31:47.538Z"
   },
   {
    "duration": 5,
    "start_time": "2022-03-22T19:31:47.547Z"
   },
   {
    "duration": 4,
    "start_time": "2022-03-22T19:31:47.555Z"
   },
   {
    "duration": 6,
    "start_time": "2022-03-22T19:31:47.562Z"
   },
   {
    "duration": 10,
    "start_time": "2022-03-22T19:31:47.570Z"
   },
   {
    "duration": 10,
    "start_time": "2022-03-22T19:31:51.568Z"
   },
   {
    "duration": 6,
    "start_time": "2022-03-22T19:31:56.585Z"
   },
   {
    "duration": 8,
    "start_time": "2022-03-22T19:31:57.201Z"
   },
   {
    "duration": 9,
    "start_time": "2022-03-22T19:36:01.285Z"
   },
   {
    "duration": 10,
    "start_time": "2022-03-22T19:36:01.868Z"
   },
   {
    "duration": 3,
    "start_time": "2022-03-22T19:37:20.261Z"
   },
   {
    "duration": 26,
    "start_time": "2022-03-22T19:37:20.267Z"
   },
   {
    "duration": 12,
    "start_time": "2022-03-22T19:37:20.295Z"
   },
   {
    "duration": 16,
    "start_time": "2022-03-22T19:37:20.311Z"
   },
   {
    "duration": 13,
    "start_time": "2022-03-22T19:37:20.330Z"
   },
   {
    "duration": 5,
    "start_time": "2022-03-22T19:37:20.346Z"
   },
   {
    "duration": 6,
    "start_time": "2022-03-22T19:37:20.354Z"
   },
   {
    "duration": 6,
    "start_time": "2022-03-22T19:37:20.362Z"
   },
   {
    "duration": 8,
    "start_time": "2022-03-22T19:37:20.372Z"
   },
   {
    "duration": 6,
    "start_time": "2022-03-22T19:37:20.444Z"
   },
   {
    "duration": 90,
    "start_time": "2022-03-22T19:37:20.453Z"
   },
   {
    "duration": 16,
    "start_time": "2022-03-22T19:37:20.545Z"
   },
   {
    "duration": 9,
    "start_time": "2022-03-22T19:37:22.938Z"
   },
   {
    "duration": 10,
    "start_time": "2022-03-22T19:37:23.546Z"
   },
   {
    "duration": 9,
    "start_time": "2022-03-22T19:49:43.339Z"
   },
   {
    "duration": 8,
    "start_time": "2022-03-22T19:51:46.628Z"
   },
   {
    "duration": 4,
    "start_time": "2022-03-22T19:55:14.558Z"
   },
   {
    "duration": 31,
    "start_time": "2022-03-22T19:55:14.564Z"
   },
   {
    "duration": 11,
    "start_time": "2022-03-22T19:55:14.598Z"
   },
   {
    "duration": 18,
    "start_time": "2022-03-22T19:55:14.612Z"
   },
   {
    "duration": 13,
    "start_time": "2022-03-22T19:55:14.632Z"
   },
   {
    "duration": 10,
    "start_time": "2022-03-22T19:55:14.647Z"
   },
   {
    "duration": 4,
    "start_time": "2022-03-22T19:55:14.659Z"
   },
   {
    "duration": 5,
    "start_time": "2022-03-22T19:55:14.665Z"
   },
   {
    "duration": 72,
    "start_time": "2022-03-22T19:55:14.674Z"
   },
   {
    "duration": 9,
    "start_time": "2022-03-22T19:55:14.749Z"
   },
   {
    "duration": 11,
    "start_time": "2022-03-22T19:55:14.843Z"
   },
   {
    "duration": 8,
    "start_time": "2022-03-22T19:55:14.857Z"
   },
   {
    "duration": 12,
    "start_time": "2022-03-22T19:55:17.147Z"
   },
   {
    "duration": 18,
    "start_time": "2022-03-22T19:55:17.834Z"
   },
   {
    "duration": 1442,
    "start_time": "2022-03-22T20:50:45.199Z"
   },
   {
    "duration": 17,
    "start_time": "2022-03-22T20:50:46.643Z"
   },
   {
    "duration": 14,
    "start_time": "2022-03-22T20:50:46.661Z"
   },
   {
    "duration": 10,
    "start_time": "2022-03-22T20:50:46.677Z"
   },
   {
    "duration": 13,
    "start_time": "2022-03-22T20:50:46.688Z"
   },
   {
    "duration": 5,
    "start_time": "2022-03-22T20:50:46.703Z"
   },
   {
    "duration": 3,
    "start_time": "2022-03-22T20:50:46.709Z"
   },
   {
    "duration": 5,
    "start_time": "2022-03-22T20:50:46.713Z"
   },
   {
    "duration": 10,
    "start_time": "2022-03-22T20:50:46.719Z"
   },
   {
    "duration": 84,
    "start_time": "2022-03-22T20:51:30.304Z"
   },
   {
    "duration": 4,
    "start_time": "2022-03-22T20:51:38.285Z"
   },
   {
    "duration": 4,
    "start_time": "2022-03-22T20:51:45.224Z"
   },
   {
    "duration": 3,
    "start_time": "2022-03-22T20:52:43.066Z"
   },
   {
    "duration": 5,
    "start_time": "2022-03-22T20:52:56.772Z"
   },
   {
    "duration": 15,
    "start_time": "2022-03-22T20:54:17.735Z"
   },
   {
    "duration": 7,
    "start_time": "2022-03-22T20:55:05.085Z"
   },
   {
    "duration": 5,
    "start_time": "2022-03-22T20:55:20.539Z"
   },
   {
    "duration": 5,
    "start_time": "2022-03-22T20:55:26.474Z"
   },
   {
    "duration": 9,
    "start_time": "2022-03-22T20:56:03.699Z"
   },
   {
    "duration": 4,
    "start_time": "2022-03-22T20:56:20.292Z"
   },
   {
    "duration": 4,
    "start_time": "2022-03-22T20:56:21.136Z"
   },
   {
    "duration": 3,
    "start_time": "2022-03-22T20:56:22.075Z"
   },
   {
    "duration": 6,
    "start_time": "2022-03-22T20:56:22.476Z"
   },
   {
    "duration": 8,
    "start_time": "2022-03-22T20:56:31.634Z"
   },
   {
    "duration": 4,
    "start_time": "2022-03-22T20:56:44.767Z"
   },
   {
    "duration": 1384,
    "start_time": "2022-03-22T21:18:42.857Z"
   },
   {
    "duration": 28,
    "start_time": "2022-03-22T21:18:44.243Z"
   },
   {
    "duration": 13,
    "start_time": "2022-03-22T21:18:44.272Z"
   },
   {
    "duration": 10,
    "start_time": "2022-03-22T21:18:44.287Z"
   },
   {
    "duration": 4,
    "start_time": "2022-03-22T21:18:44.298Z"
   },
   {
    "duration": 5,
    "start_time": "2022-03-22T21:18:44.303Z"
   },
   {
    "duration": 3,
    "start_time": "2022-03-22T21:18:44.309Z"
   },
   {
    "duration": 7,
    "start_time": "2022-03-22T21:18:44.314Z"
   },
   {
    "duration": 11,
    "start_time": "2022-03-22T21:18:44.322Z"
   },
   {
    "duration": 65,
    "start_time": "2022-03-22T21:18:44.336Z"
   },
   {
    "duration": 7,
    "start_time": "2022-03-22T21:18:44.403Z"
   },
   {
    "duration": 93,
    "start_time": "2022-03-22T21:18:44.412Z"
   },
   {
    "duration": 95,
    "start_time": "2022-03-22T21:18:44.510Z"
   },
   {
    "duration": 4,
    "start_time": "2022-03-22T21:23:07.745Z"
   },
   {
    "duration": 92,
    "start_time": "2022-03-22T21:23:12.384Z"
   },
   {
    "duration": 4,
    "start_time": "2022-03-22T21:26:11.175Z"
   },
   {
    "duration": 7,
    "start_time": "2022-03-22T21:26:13.769Z"
   },
   {
    "duration": 25,
    "start_time": "2022-03-22T21:27:00.532Z"
   },
   {
    "duration": 9,
    "start_time": "2022-03-22T21:27:14.641Z"
   },
   {
    "duration": 5,
    "start_time": "2022-03-22T21:27:15.506Z"
   },
   {
    "duration": 1426,
    "start_time": "2022-03-22T21:28:06.769Z"
   },
   {
    "duration": 28,
    "start_time": "2022-03-22T21:28:08.198Z"
   },
   {
    "duration": 16,
    "start_time": "2022-03-22T21:28:08.227Z"
   },
   {
    "duration": 11,
    "start_time": "2022-03-22T21:28:08.245Z"
   },
   {
    "duration": 4,
    "start_time": "2022-03-22T21:28:08.258Z"
   },
   {
    "duration": 6,
    "start_time": "2022-03-22T21:28:08.263Z"
   },
   {
    "duration": 3,
    "start_time": "2022-03-22T21:28:08.271Z"
   },
   {
    "duration": 7,
    "start_time": "2022-03-22T21:28:08.275Z"
   },
   {
    "duration": 21,
    "start_time": "2022-03-22T21:28:08.283Z"
   },
   {
    "duration": 5,
    "start_time": "2022-03-22T21:28:08.307Z"
   },
   {
    "duration": 90,
    "start_time": "2022-03-22T21:28:08.314Z"
   },
   {
    "duration": 94,
    "start_time": "2022-03-22T21:28:08.408Z"
   },
   {
    "duration": 7,
    "start_time": "2022-03-22T21:28:08.505Z"
   }
  ],
  "kernelspec": {
   "display_name": "Python 3 (ipykernel)",
   "language": "python",
   "name": "python3"
  },
  "language_info": {
   "codemirror_mode": {
    "name": "ipython",
    "version": 3
   },
   "file_extension": ".py",
   "mimetype": "text/x-python",
   "name": "python",
   "nbconvert_exporter": "python",
   "pygments_lexer": "ipython3",
   "version": "3.11.0"
  },
  "toc": {
   "base_numbering": 1,
   "nav_menu": {},
   "number_sections": true,
   "sideBar": true,
   "skip_h1_title": true,
   "title_cell": "Содержание",
   "title_sidebar": "Contents",
   "toc_cell": true,
   "toc_position": {},
   "toc_section_display": true,
   "toc_window_display": true
  }
 },
 "nbformat": 4,
 "nbformat_minor": 4
}
