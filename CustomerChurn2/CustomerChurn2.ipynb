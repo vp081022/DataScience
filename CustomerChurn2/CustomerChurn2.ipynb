{
 "cells": [
  {
   "cell_type": "markdown",
   "id": "3ef03636",
   "metadata": {},
   "source": [
    "# Телеком — задача проекта"
   ]
  },
  {
   "cell_type": "markdown",
   "id": "fbc83522-ca5d-4ba2-bfdb-49096f0041ca",
   "metadata": {},
   "source": [
    "# Описание задачи"
   ]
  },
  {
   "cell_type": "markdown",
   "id": "a08796cd",
   "metadata": {},
   "source": [
    "Оператору связи необходимо научиться прогнозировать отток клиентов. Собирающимся уйти пользователям будут предложены промокоды и специальные условия. Для решения задачи имеются персональные данные о некоторых клиентах, информация об их тарифах и договорах."
   ]
  },
  {
   "cell_type": "markdown",
   "id": "7f842186-72e9-4cfc-aacf-1abac4bc0bf7",
   "metadata": {},
   "source": [
    "**Описание услуг:**\n",
    "\n",
    "Основные услуги:\n",
    "1. Стационарная телефонная связь. Возможно подключение телефонного аппарата к нескольким линиям одновременно.\n",
    "2. Интернет. Подключение может быть двух типов: через телефонную линию (DSL, от англ. digital subscriber line, «цифровая абонентская линия») или оптоволоконный кабель (Fiber optic).\n",
    "\n",
    "Дополнительные услуги:\n",
    "* Интернет-безопасность: антивирус (DeviceProtection) и блокировка небезопасных сайтов (OnlineSecurity);\n",
    "* Выделенная линия технической поддержки (TechSupport);\n",
    "* Облачное хранилище файлов для резервного копирования данных (OnlineBackup);\n",
    "* Стриминговое телевидение (StreamingTV) и каталог фильмов (StreamingMovies).\n",
    "\n",
    "За услуги клиенты могут платить каждый месяц или заключить договор на 1–2 года. Доступны различные способы расчёта и возможность получения электронного чека."
   ]
  },
  {
   "cell_type": "markdown",
   "id": "178fa36c-17f7-4e30-be3e-62de12639128",
   "metadata": {},
   "source": [
    "# План работы"
   ]
  },
  {
   "cell_type": "markdown",
   "id": "6e77a706-4cf6-45de-900a-e0dbfb370730",
   "metadata": {},
   "source": [
    "1. Подготовка данных\n",
    "    1. Изучение данных\n",
    "    2. Обработка данных\n",
    "        1. Кодирование целевого признака и добавление двух бинарных признаков\n",
    "        2. Время действия контракта\n",
    "        3. Преобразование типов данных\n",
    "        4. Объединение таблиц\n",
    "        5. Удаление бесполезных для обучения признаков\n",
    "        6. Обработка пропусков\n",
    "        7. Кодирование категориальных признаков\n",
    "        8. Разделение набора данных на обучающую, валидационную и тестовую выборки\n",
    "        9. Исследование корреляции численных признаков\n",
    "        10. Исследование важности признаков contract_time и TotalCharges\n",
    "        11. Удаление признака TotalCharges\n",
    "        12. Повторное разделение набора данных на выборки\n",
    "2. Создание и обучение модели\n",
    "    1. Логистическая регрессия\n",
    "    2. Решающее дерево\n",
    "    3. Случайный лес\n",
    "    4. CatBoostClassifier   \n",
    "3. Финальная проверка модели на тестовой выборке\n",
    "    1. Логистическая регрессия\n",
    "    2. Решающее дерево\n",
    "    3. Случайный лес\n",
    "    4. CatBoostClassifier\n",
    "4. Вывод"
   ]
  },
  {
   "cell_type": "markdown",
   "id": "90d6a19f",
   "metadata": {},
   "source": [
    " <font size=\"4\" color='black'><b>Описание данных</b></font>"
   ]
  },
  {
   "cell_type": "markdown",
   "id": "68923d57",
   "metadata": {},
   "source": [
    "Данные состоят из файлов, полученных из разных источников:\n",
    "\n",
    "* contract.csv — информация о договоре;\n",
    "\n",
    "* personal.csv — персональные данные клиента;\n",
    "\n",
    "* internet.csv — информация об интернет-услугах;\n",
    "\n",
    "* phone.csv — информация об услугах телефонии.\n",
    "\n",
    "\n",
    "Во всех файлах столбец customerID содержит код клиента.\n",
    "\n",
    "Информация о договорах актуальна на 1 февраля 2020."
   ]
  },
  {
   "cell_type": "markdown",
   "id": "bd6f9d44",
   "metadata": {},
   "source": [
    "## Подготовка данных"
   ]
  },
  {
   "cell_type": "markdown",
   "id": "5bfa3e96",
   "metadata": {},
   "source": [
    "### Изучение данных"
   ]
  },
  {
   "cell_type": "code",
   "execution_count": 885,
   "id": "5fefbe77",
   "metadata": {},
   "outputs": [],
   "source": [
    "#Импорт необходимых библиотек и функций\n",
    "import pandas as pd\n",
    "from sklearn.tree import DecisionTreeClassifier\n",
    "from sklearn.ensemble import RandomForestClassifier \n",
    "from sklearn.linear_model import LogisticRegression\n",
    "from catboost import CatBoostClassifier\n",
    "from sklearn.model_selection import train_test_split\n",
    "from sklearn.utils import shuffle\n",
    "from sklearn.metrics import roc_auc_score\n",
    "from sklearn.metrics import accuracy_score \n",
    "import matplotlib.pyplot as plt "
   ]
  },
  {
   "cell_type": "code",
   "execution_count": 886,
   "id": "f60bed24",
   "metadata": {},
   "outputs": [],
   "source": [
    "#Загрузка данных\n",
    "data_contract = pd.read_csv('datasets/contract.csv')\n",
    "data_personal = pd.read_csv('datasets/personal.csv')\n",
    "data_internet = pd.read_csv('datasets/internet.csv')\n",
    "data_phone = pd.read_csv('datasets/phone.csv')"
   ]
  },
  {
   "cell_type": "code",
   "execution_count": 887,
   "id": "54564586",
   "metadata": {
    "scrolled": true
   },
   "outputs": [
    {
     "data": {
      "text/html": [
       "<div>\n",
       "<style scoped>\n",
       "    .dataframe tbody tr th:only-of-type {\n",
       "        vertical-align: middle;\n",
       "    }\n",
       "\n",
       "    .dataframe tbody tr th {\n",
       "        vertical-align: top;\n",
       "    }\n",
       "\n",
       "    .dataframe thead th {\n",
       "        text-align: right;\n",
       "    }\n",
       "</style>\n",
       "<table border=\"1\" class=\"dataframe\">\n",
       "  <thead>\n",
       "    <tr style=\"text-align: right;\">\n",
       "      <th></th>\n",
       "      <th>customerID</th>\n",
       "      <th>BeginDate</th>\n",
       "      <th>EndDate</th>\n",
       "      <th>Type</th>\n",
       "      <th>PaperlessBilling</th>\n",
       "      <th>PaymentMethod</th>\n",
       "      <th>MonthlyCharges</th>\n",
       "      <th>TotalCharges</th>\n",
       "    </tr>\n",
       "  </thead>\n",
       "  <tbody>\n",
       "    <tr>\n",
       "      <th>0</th>\n",
       "      <td>7590-VHVEG</td>\n",
       "      <td>2020-01-01</td>\n",
       "      <td>No</td>\n",
       "      <td>Month-to-month</td>\n",
       "      <td>Yes</td>\n",
       "      <td>Electronic check</td>\n",
       "      <td>29.85</td>\n",
       "      <td>29.85</td>\n",
       "    </tr>\n",
       "    <tr>\n",
       "      <th>1</th>\n",
       "      <td>5575-GNVDE</td>\n",
       "      <td>2017-04-01</td>\n",
       "      <td>No</td>\n",
       "      <td>One year</td>\n",
       "      <td>No</td>\n",
       "      <td>Mailed check</td>\n",
       "      <td>56.95</td>\n",
       "      <td>1889.5</td>\n",
       "    </tr>\n",
       "    <tr>\n",
       "      <th>2</th>\n",
       "      <td>3668-QPYBK</td>\n",
       "      <td>2019-10-01</td>\n",
       "      <td>2019-12-01 00:00:00</td>\n",
       "      <td>Month-to-month</td>\n",
       "      <td>Yes</td>\n",
       "      <td>Mailed check</td>\n",
       "      <td>53.85</td>\n",
       "      <td>108.15</td>\n",
       "    </tr>\n",
       "    <tr>\n",
       "      <th>3</th>\n",
       "      <td>7795-CFOCW</td>\n",
       "      <td>2016-05-01</td>\n",
       "      <td>No</td>\n",
       "      <td>One year</td>\n",
       "      <td>No</td>\n",
       "      <td>Bank transfer (automatic)</td>\n",
       "      <td>42.30</td>\n",
       "      <td>1840.75</td>\n",
       "    </tr>\n",
       "    <tr>\n",
       "      <th>4</th>\n",
       "      <td>9237-HQITU</td>\n",
       "      <td>2019-09-01</td>\n",
       "      <td>2019-11-01 00:00:00</td>\n",
       "      <td>Month-to-month</td>\n",
       "      <td>Yes</td>\n",
       "      <td>Electronic check</td>\n",
       "      <td>70.70</td>\n",
       "      <td>151.65</td>\n",
       "    </tr>\n",
       "    <tr>\n",
       "      <th>...</th>\n",
       "      <td>...</td>\n",
       "      <td>...</td>\n",
       "      <td>...</td>\n",
       "      <td>...</td>\n",
       "      <td>...</td>\n",
       "      <td>...</td>\n",
       "      <td>...</td>\n",
       "      <td>...</td>\n",
       "    </tr>\n",
       "    <tr>\n",
       "      <th>7038</th>\n",
       "      <td>6840-RESVB</td>\n",
       "      <td>2018-02-01</td>\n",
       "      <td>No</td>\n",
       "      <td>One year</td>\n",
       "      <td>Yes</td>\n",
       "      <td>Mailed check</td>\n",
       "      <td>84.80</td>\n",
       "      <td>1990.5</td>\n",
       "    </tr>\n",
       "    <tr>\n",
       "      <th>7039</th>\n",
       "      <td>2234-XADUH</td>\n",
       "      <td>2014-02-01</td>\n",
       "      <td>No</td>\n",
       "      <td>One year</td>\n",
       "      <td>Yes</td>\n",
       "      <td>Credit card (automatic)</td>\n",
       "      <td>103.20</td>\n",
       "      <td>7362.9</td>\n",
       "    </tr>\n",
       "    <tr>\n",
       "      <th>7040</th>\n",
       "      <td>4801-JZAZL</td>\n",
       "      <td>2019-03-01</td>\n",
       "      <td>No</td>\n",
       "      <td>Month-to-month</td>\n",
       "      <td>Yes</td>\n",
       "      <td>Electronic check</td>\n",
       "      <td>29.60</td>\n",
       "      <td>346.45</td>\n",
       "    </tr>\n",
       "    <tr>\n",
       "      <th>7041</th>\n",
       "      <td>8361-LTMKD</td>\n",
       "      <td>2019-07-01</td>\n",
       "      <td>2019-11-01 00:00:00</td>\n",
       "      <td>Month-to-month</td>\n",
       "      <td>Yes</td>\n",
       "      <td>Mailed check</td>\n",
       "      <td>74.40</td>\n",
       "      <td>306.6</td>\n",
       "    </tr>\n",
       "    <tr>\n",
       "      <th>7042</th>\n",
       "      <td>3186-AJIEK</td>\n",
       "      <td>2014-08-01</td>\n",
       "      <td>No</td>\n",
       "      <td>Two year</td>\n",
       "      <td>Yes</td>\n",
       "      <td>Bank transfer (automatic)</td>\n",
       "      <td>105.65</td>\n",
       "      <td>6844.5</td>\n",
       "    </tr>\n",
       "  </tbody>\n",
       "</table>\n",
       "<p>7043 rows × 8 columns</p>\n",
       "</div>"
      ],
      "text/plain": [
       "      customerID   BeginDate              EndDate            Type  \\\n",
       "0     7590-VHVEG  2020-01-01                   No  Month-to-month   \n",
       "1     5575-GNVDE  2017-04-01                   No        One year   \n",
       "2     3668-QPYBK  2019-10-01  2019-12-01 00:00:00  Month-to-month   \n",
       "3     7795-CFOCW  2016-05-01                   No        One year   \n",
       "4     9237-HQITU  2019-09-01  2019-11-01 00:00:00  Month-to-month   \n",
       "...          ...         ...                  ...             ...   \n",
       "7038  6840-RESVB  2018-02-01                   No        One year   \n",
       "7039  2234-XADUH  2014-02-01                   No        One year   \n",
       "7040  4801-JZAZL  2019-03-01                   No  Month-to-month   \n",
       "7041  8361-LTMKD  2019-07-01  2019-11-01 00:00:00  Month-to-month   \n",
       "7042  3186-AJIEK  2014-08-01                   No        Two year   \n",
       "\n",
       "     PaperlessBilling              PaymentMethod  MonthlyCharges TotalCharges  \n",
       "0                 Yes           Electronic check           29.85        29.85  \n",
       "1                  No               Mailed check           56.95       1889.5  \n",
       "2                 Yes               Mailed check           53.85       108.15  \n",
       "3                  No  Bank transfer (automatic)           42.30      1840.75  \n",
       "4                 Yes           Electronic check           70.70       151.65  \n",
       "...               ...                        ...             ...          ...  \n",
       "7038              Yes               Mailed check           84.80       1990.5  \n",
       "7039              Yes    Credit card (automatic)          103.20       7362.9  \n",
       "7040              Yes           Electronic check           29.60       346.45  \n",
       "7041              Yes               Mailed check           74.40        306.6  \n",
       "7042              Yes  Bank transfer (automatic)          105.65       6844.5  \n",
       "\n",
       "[7043 rows x 8 columns]"
      ]
     },
     "execution_count": 887,
     "metadata": {},
     "output_type": "execute_result"
    }
   ],
   "source": [
    "# Информация о договоре\n",
    "data_contract"
   ]
  },
  {
   "cell_type": "code",
   "execution_count": 888,
   "id": "9a18da7b",
   "metadata": {},
   "outputs": [
    {
     "data": {
      "text/plain": [
       "customerID          0\n",
       "BeginDate           0\n",
       "EndDate             0\n",
       "Type                0\n",
       "PaperlessBilling    0\n",
       "PaymentMethod       0\n",
       "MonthlyCharges      0\n",
       "TotalCharges        0\n",
       "dtype: int64"
      ]
     },
     "execution_count": 888,
     "metadata": {},
     "output_type": "execute_result"
    }
   ],
   "source": [
    "# Проверка таблицы на пропуски\n",
    "data_contract.isna().sum()"
   ]
  },
  {
   "cell_type": "markdown",
   "id": "c39f08af",
   "metadata": {},
   "source": [
    "Вывод: пропуски отсутствуют"
   ]
  },
  {
   "cell_type": "code",
   "execution_count": 889,
   "id": "2f1bcc0c",
   "metadata": {
    "scrolled": true
   },
   "outputs": [
    {
     "data": {
      "text/html": [
       "<div>\n",
       "<style scoped>\n",
       "    .dataframe tbody tr th:only-of-type {\n",
       "        vertical-align: middle;\n",
       "    }\n",
       "\n",
       "    .dataframe tbody tr th {\n",
       "        vertical-align: top;\n",
       "    }\n",
       "\n",
       "    .dataframe thead th {\n",
       "        text-align: right;\n",
       "    }\n",
       "</style>\n",
       "<table border=\"1\" class=\"dataframe\">\n",
       "  <thead>\n",
       "    <tr style=\"text-align: right;\">\n",
       "      <th></th>\n",
       "      <th>customerID</th>\n",
       "      <th>gender</th>\n",
       "      <th>SeniorCitizen</th>\n",
       "      <th>Partner</th>\n",
       "      <th>Dependents</th>\n",
       "    </tr>\n",
       "  </thead>\n",
       "  <tbody>\n",
       "    <tr>\n",
       "      <th>0</th>\n",
       "      <td>7590-VHVEG</td>\n",
       "      <td>Female</td>\n",
       "      <td>0</td>\n",
       "      <td>Yes</td>\n",
       "      <td>No</td>\n",
       "    </tr>\n",
       "    <tr>\n",
       "      <th>1</th>\n",
       "      <td>5575-GNVDE</td>\n",
       "      <td>Male</td>\n",
       "      <td>0</td>\n",
       "      <td>No</td>\n",
       "      <td>No</td>\n",
       "    </tr>\n",
       "    <tr>\n",
       "      <th>2</th>\n",
       "      <td>3668-QPYBK</td>\n",
       "      <td>Male</td>\n",
       "      <td>0</td>\n",
       "      <td>No</td>\n",
       "      <td>No</td>\n",
       "    </tr>\n",
       "    <tr>\n",
       "      <th>3</th>\n",
       "      <td>7795-CFOCW</td>\n",
       "      <td>Male</td>\n",
       "      <td>0</td>\n",
       "      <td>No</td>\n",
       "      <td>No</td>\n",
       "    </tr>\n",
       "    <tr>\n",
       "      <th>4</th>\n",
       "      <td>9237-HQITU</td>\n",
       "      <td>Female</td>\n",
       "      <td>0</td>\n",
       "      <td>No</td>\n",
       "      <td>No</td>\n",
       "    </tr>\n",
       "    <tr>\n",
       "      <th>...</th>\n",
       "      <td>...</td>\n",
       "      <td>...</td>\n",
       "      <td>...</td>\n",
       "      <td>...</td>\n",
       "      <td>...</td>\n",
       "    </tr>\n",
       "    <tr>\n",
       "      <th>7038</th>\n",
       "      <td>6840-RESVB</td>\n",
       "      <td>Male</td>\n",
       "      <td>0</td>\n",
       "      <td>Yes</td>\n",
       "      <td>Yes</td>\n",
       "    </tr>\n",
       "    <tr>\n",
       "      <th>7039</th>\n",
       "      <td>2234-XADUH</td>\n",
       "      <td>Female</td>\n",
       "      <td>0</td>\n",
       "      <td>Yes</td>\n",
       "      <td>Yes</td>\n",
       "    </tr>\n",
       "    <tr>\n",
       "      <th>7040</th>\n",
       "      <td>4801-JZAZL</td>\n",
       "      <td>Female</td>\n",
       "      <td>0</td>\n",
       "      <td>Yes</td>\n",
       "      <td>Yes</td>\n",
       "    </tr>\n",
       "    <tr>\n",
       "      <th>7041</th>\n",
       "      <td>8361-LTMKD</td>\n",
       "      <td>Male</td>\n",
       "      <td>1</td>\n",
       "      <td>Yes</td>\n",
       "      <td>No</td>\n",
       "    </tr>\n",
       "    <tr>\n",
       "      <th>7042</th>\n",
       "      <td>3186-AJIEK</td>\n",
       "      <td>Male</td>\n",
       "      <td>0</td>\n",
       "      <td>No</td>\n",
       "      <td>No</td>\n",
       "    </tr>\n",
       "  </tbody>\n",
       "</table>\n",
       "<p>7043 rows × 5 columns</p>\n",
       "</div>"
      ],
      "text/plain": [
       "      customerID  gender  SeniorCitizen Partner Dependents\n",
       "0     7590-VHVEG  Female              0     Yes         No\n",
       "1     5575-GNVDE    Male              0      No         No\n",
       "2     3668-QPYBK    Male              0      No         No\n",
       "3     7795-CFOCW    Male              0      No         No\n",
       "4     9237-HQITU  Female              0      No         No\n",
       "...          ...     ...            ...     ...        ...\n",
       "7038  6840-RESVB    Male              0     Yes        Yes\n",
       "7039  2234-XADUH  Female              0     Yes        Yes\n",
       "7040  4801-JZAZL  Female              0     Yes        Yes\n",
       "7041  8361-LTMKD    Male              1     Yes         No\n",
       "7042  3186-AJIEK    Male              0      No         No\n",
       "\n",
       "[7043 rows x 5 columns]"
      ]
     },
     "execution_count": 889,
     "metadata": {},
     "output_type": "execute_result"
    }
   ],
   "source": [
    "# Персональные данные клиента\n",
    "data_personal"
   ]
  },
  {
   "cell_type": "code",
   "execution_count": 890,
   "id": "e29f3fa4",
   "metadata": {
    "scrolled": true
   },
   "outputs": [
    {
     "data": {
      "text/plain": [
       "customerID       0\n",
       "gender           0\n",
       "SeniorCitizen    0\n",
       "Partner          0\n",
       "Dependents       0\n",
       "dtype: int64"
      ]
     },
     "execution_count": 890,
     "metadata": {},
     "output_type": "execute_result"
    }
   ],
   "source": [
    "# Проверка таблицы на пропуски\n",
    "data_personal.isna().sum()"
   ]
  },
  {
   "cell_type": "markdown",
   "id": "d73333c1",
   "metadata": {},
   "source": [
    "Вывод: пропуски отсутствуют"
   ]
  },
  {
   "cell_type": "code",
   "execution_count": 891,
   "id": "dbf3eddf",
   "metadata": {
    "scrolled": true
   },
   "outputs": [
    {
     "data": {
      "text/html": [
       "<div>\n",
       "<style scoped>\n",
       "    .dataframe tbody tr th:only-of-type {\n",
       "        vertical-align: middle;\n",
       "    }\n",
       "\n",
       "    .dataframe tbody tr th {\n",
       "        vertical-align: top;\n",
       "    }\n",
       "\n",
       "    .dataframe thead th {\n",
       "        text-align: right;\n",
       "    }\n",
       "</style>\n",
       "<table border=\"1\" class=\"dataframe\">\n",
       "  <thead>\n",
       "    <tr style=\"text-align: right;\">\n",
       "      <th></th>\n",
       "      <th>customerID</th>\n",
       "      <th>InternetService</th>\n",
       "      <th>OnlineSecurity</th>\n",
       "      <th>OnlineBackup</th>\n",
       "      <th>DeviceProtection</th>\n",
       "      <th>TechSupport</th>\n",
       "      <th>StreamingTV</th>\n",
       "      <th>StreamingMovies</th>\n",
       "    </tr>\n",
       "  </thead>\n",
       "  <tbody>\n",
       "    <tr>\n",
       "      <th>0</th>\n",
       "      <td>7590-VHVEG</td>\n",
       "      <td>DSL</td>\n",
       "      <td>No</td>\n",
       "      <td>Yes</td>\n",
       "      <td>No</td>\n",
       "      <td>No</td>\n",
       "      <td>No</td>\n",
       "      <td>No</td>\n",
       "    </tr>\n",
       "    <tr>\n",
       "      <th>1</th>\n",
       "      <td>5575-GNVDE</td>\n",
       "      <td>DSL</td>\n",
       "      <td>Yes</td>\n",
       "      <td>No</td>\n",
       "      <td>Yes</td>\n",
       "      <td>No</td>\n",
       "      <td>No</td>\n",
       "      <td>No</td>\n",
       "    </tr>\n",
       "    <tr>\n",
       "      <th>2</th>\n",
       "      <td>3668-QPYBK</td>\n",
       "      <td>DSL</td>\n",
       "      <td>Yes</td>\n",
       "      <td>Yes</td>\n",
       "      <td>No</td>\n",
       "      <td>No</td>\n",
       "      <td>No</td>\n",
       "      <td>No</td>\n",
       "    </tr>\n",
       "    <tr>\n",
       "      <th>3</th>\n",
       "      <td>7795-CFOCW</td>\n",
       "      <td>DSL</td>\n",
       "      <td>Yes</td>\n",
       "      <td>No</td>\n",
       "      <td>Yes</td>\n",
       "      <td>Yes</td>\n",
       "      <td>No</td>\n",
       "      <td>No</td>\n",
       "    </tr>\n",
       "    <tr>\n",
       "      <th>4</th>\n",
       "      <td>9237-HQITU</td>\n",
       "      <td>Fiber optic</td>\n",
       "      <td>No</td>\n",
       "      <td>No</td>\n",
       "      <td>No</td>\n",
       "      <td>No</td>\n",
       "      <td>No</td>\n",
       "      <td>No</td>\n",
       "    </tr>\n",
       "    <tr>\n",
       "      <th>...</th>\n",
       "      <td>...</td>\n",
       "      <td>...</td>\n",
       "      <td>...</td>\n",
       "      <td>...</td>\n",
       "      <td>...</td>\n",
       "      <td>...</td>\n",
       "      <td>...</td>\n",
       "      <td>...</td>\n",
       "    </tr>\n",
       "    <tr>\n",
       "      <th>5512</th>\n",
       "      <td>6840-RESVB</td>\n",
       "      <td>DSL</td>\n",
       "      <td>Yes</td>\n",
       "      <td>No</td>\n",
       "      <td>Yes</td>\n",
       "      <td>Yes</td>\n",
       "      <td>Yes</td>\n",
       "      <td>Yes</td>\n",
       "    </tr>\n",
       "    <tr>\n",
       "      <th>5513</th>\n",
       "      <td>2234-XADUH</td>\n",
       "      <td>Fiber optic</td>\n",
       "      <td>No</td>\n",
       "      <td>Yes</td>\n",
       "      <td>Yes</td>\n",
       "      <td>No</td>\n",
       "      <td>Yes</td>\n",
       "      <td>Yes</td>\n",
       "    </tr>\n",
       "    <tr>\n",
       "      <th>5514</th>\n",
       "      <td>4801-JZAZL</td>\n",
       "      <td>DSL</td>\n",
       "      <td>Yes</td>\n",
       "      <td>No</td>\n",
       "      <td>No</td>\n",
       "      <td>No</td>\n",
       "      <td>No</td>\n",
       "      <td>No</td>\n",
       "    </tr>\n",
       "    <tr>\n",
       "      <th>5515</th>\n",
       "      <td>8361-LTMKD</td>\n",
       "      <td>Fiber optic</td>\n",
       "      <td>No</td>\n",
       "      <td>No</td>\n",
       "      <td>No</td>\n",
       "      <td>No</td>\n",
       "      <td>No</td>\n",
       "      <td>No</td>\n",
       "    </tr>\n",
       "    <tr>\n",
       "      <th>5516</th>\n",
       "      <td>3186-AJIEK</td>\n",
       "      <td>Fiber optic</td>\n",
       "      <td>Yes</td>\n",
       "      <td>No</td>\n",
       "      <td>Yes</td>\n",
       "      <td>Yes</td>\n",
       "      <td>Yes</td>\n",
       "      <td>Yes</td>\n",
       "    </tr>\n",
       "  </tbody>\n",
       "</table>\n",
       "<p>5517 rows × 8 columns</p>\n",
       "</div>"
      ],
      "text/plain": [
       "      customerID InternetService OnlineSecurity OnlineBackup DeviceProtection  \\\n",
       "0     7590-VHVEG             DSL             No          Yes               No   \n",
       "1     5575-GNVDE             DSL            Yes           No              Yes   \n",
       "2     3668-QPYBK             DSL            Yes          Yes               No   \n",
       "3     7795-CFOCW             DSL            Yes           No              Yes   \n",
       "4     9237-HQITU     Fiber optic             No           No               No   \n",
       "...          ...             ...            ...          ...              ...   \n",
       "5512  6840-RESVB             DSL            Yes           No              Yes   \n",
       "5513  2234-XADUH     Fiber optic             No          Yes              Yes   \n",
       "5514  4801-JZAZL             DSL            Yes           No               No   \n",
       "5515  8361-LTMKD     Fiber optic             No           No               No   \n",
       "5516  3186-AJIEK     Fiber optic            Yes           No              Yes   \n",
       "\n",
       "     TechSupport StreamingTV StreamingMovies  \n",
       "0             No          No              No  \n",
       "1             No          No              No  \n",
       "2             No          No              No  \n",
       "3            Yes          No              No  \n",
       "4             No          No              No  \n",
       "...          ...         ...             ...  \n",
       "5512         Yes         Yes             Yes  \n",
       "5513          No         Yes             Yes  \n",
       "5514          No          No              No  \n",
       "5515          No          No              No  \n",
       "5516         Yes         Yes             Yes  \n",
       "\n",
       "[5517 rows x 8 columns]"
      ]
     },
     "execution_count": 891,
     "metadata": {},
     "output_type": "execute_result"
    }
   ],
   "source": [
    "# Информация об интернет-услугах\n",
    "data_internet"
   ]
  },
  {
   "cell_type": "code",
   "execution_count": 892,
   "id": "70178c7b",
   "metadata": {
    "scrolled": true
   },
   "outputs": [
    {
     "data": {
      "text/plain": [
       "customerID          0\n",
       "InternetService     0\n",
       "OnlineSecurity      0\n",
       "OnlineBackup        0\n",
       "DeviceProtection    0\n",
       "TechSupport         0\n",
       "StreamingTV         0\n",
       "StreamingMovies     0\n",
       "dtype: int64"
      ]
     },
     "execution_count": 892,
     "metadata": {},
     "output_type": "execute_result"
    }
   ],
   "source": [
    "# Проверка таблицы на пропуски\n",
    "data_internet.isna().sum()"
   ]
  },
  {
   "cell_type": "markdown",
   "id": "89e0b6db",
   "metadata": {},
   "source": [
    "Вывод: пропуски отсутствуют"
   ]
  },
  {
   "cell_type": "code",
   "execution_count": 893,
   "id": "88104778",
   "metadata": {
    "scrolled": true
   },
   "outputs": [
    {
     "data": {
      "text/html": [
       "<div>\n",
       "<style scoped>\n",
       "    .dataframe tbody tr th:only-of-type {\n",
       "        vertical-align: middle;\n",
       "    }\n",
       "\n",
       "    .dataframe tbody tr th {\n",
       "        vertical-align: top;\n",
       "    }\n",
       "\n",
       "    .dataframe thead th {\n",
       "        text-align: right;\n",
       "    }\n",
       "</style>\n",
       "<table border=\"1\" class=\"dataframe\">\n",
       "  <thead>\n",
       "    <tr style=\"text-align: right;\">\n",
       "      <th></th>\n",
       "      <th>customerID</th>\n",
       "      <th>MultipleLines</th>\n",
       "    </tr>\n",
       "  </thead>\n",
       "  <tbody>\n",
       "    <tr>\n",
       "      <th>0</th>\n",
       "      <td>5575-GNVDE</td>\n",
       "      <td>No</td>\n",
       "    </tr>\n",
       "    <tr>\n",
       "      <th>1</th>\n",
       "      <td>3668-QPYBK</td>\n",
       "      <td>No</td>\n",
       "    </tr>\n",
       "    <tr>\n",
       "      <th>2</th>\n",
       "      <td>9237-HQITU</td>\n",
       "      <td>No</td>\n",
       "    </tr>\n",
       "    <tr>\n",
       "      <th>3</th>\n",
       "      <td>9305-CDSKC</td>\n",
       "      <td>Yes</td>\n",
       "    </tr>\n",
       "    <tr>\n",
       "      <th>4</th>\n",
       "      <td>1452-KIOVK</td>\n",
       "      <td>Yes</td>\n",
       "    </tr>\n",
       "    <tr>\n",
       "      <th>...</th>\n",
       "      <td>...</td>\n",
       "      <td>...</td>\n",
       "    </tr>\n",
       "    <tr>\n",
       "      <th>6356</th>\n",
       "      <td>2569-WGERO</td>\n",
       "      <td>No</td>\n",
       "    </tr>\n",
       "    <tr>\n",
       "      <th>6357</th>\n",
       "      <td>6840-RESVB</td>\n",
       "      <td>Yes</td>\n",
       "    </tr>\n",
       "    <tr>\n",
       "      <th>6358</th>\n",
       "      <td>2234-XADUH</td>\n",
       "      <td>Yes</td>\n",
       "    </tr>\n",
       "    <tr>\n",
       "      <th>6359</th>\n",
       "      <td>8361-LTMKD</td>\n",
       "      <td>Yes</td>\n",
       "    </tr>\n",
       "    <tr>\n",
       "      <th>6360</th>\n",
       "      <td>3186-AJIEK</td>\n",
       "      <td>No</td>\n",
       "    </tr>\n",
       "  </tbody>\n",
       "</table>\n",
       "<p>6361 rows × 2 columns</p>\n",
       "</div>"
      ],
      "text/plain": [
       "      customerID MultipleLines\n",
       "0     5575-GNVDE            No\n",
       "1     3668-QPYBK            No\n",
       "2     9237-HQITU            No\n",
       "3     9305-CDSKC           Yes\n",
       "4     1452-KIOVK           Yes\n",
       "...          ...           ...\n",
       "6356  2569-WGERO            No\n",
       "6357  6840-RESVB           Yes\n",
       "6358  2234-XADUH           Yes\n",
       "6359  8361-LTMKD           Yes\n",
       "6360  3186-AJIEK            No\n",
       "\n",
       "[6361 rows x 2 columns]"
      ]
     },
     "execution_count": 893,
     "metadata": {},
     "output_type": "execute_result"
    }
   ],
   "source": [
    "# Информация об услугах интернет-телефонии\n",
    "data_phone"
   ]
  },
  {
   "cell_type": "code",
   "execution_count": 894,
   "id": "82683b59",
   "metadata": {},
   "outputs": [
    {
     "data": {
      "text/plain": [
       "customerID       0\n",
       "MultipleLines    0\n",
       "dtype: int64"
      ]
     },
     "execution_count": 894,
     "metadata": {},
     "output_type": "execute_result"
    }
   ],
   "source": [
    "# Проверки таблицы на пропуски\n",
    "data_phone.isna().sum()"
   ]
  },
  {
   "cell_type": "markdown",
   "id": "f1d80da0",
   "metadata": {},
   "source": [
    "Вывод: пропуски отсутствуют"
   ]
  },
  {
   "cell_type": "markdown",
   "id": "a95ec91a",
   "metadata": {},
   "source": [
    "<font size=\"4\" color='black'><b>Общий вывод</b></font>"
   ]
  },
  {
   "cell_type": "markdown",
   "id": "0ca25cfe",
   "metadata": {},
   "source": [
    "Целевым признаком является столбец EndDate в таблице data_contract. Однако данный столбец необходимо \"закодировать\", создав на основе его значений новый столбец с двумя классами и двумя значениями - 0 и 1. Этот новый столбец будет использован как целевой признак при обучении модели. Пропуски во всех таблицах отсутствуют, однако они могут появиться после объединения таблиц."
   ]
  },
  {
   "cell_type": "markdown",
   "id": "f3108b1e",
   "metadata": {},
   "source": [
    "### Обработка данных"
   ]
  },
  {
   "cell_type": "markdown",
   "id": "6f5c6f68-a9e5-47a4-92c0-e92629a3a68c",
   "metadata": {},
   "source": [
    "#### Кодирование целевого признака и добавление двух бинарных признаков"
   ]
  },
  {
   "cell_type": "code",
   "execution_count": 895,
   "id": "4d2a91df",
   "metadata": {
    "scrolled": true
   },
   "outputs": [],
   "source": [
    "# Добавление столбца целевого признака с классами 0 и 1\n",
    "data_contract['Exited'] = (data_contract['EndDate']!='No').astype(int)"
   ]
  },
  {
   "cell_type": "code",
   "execution_count": 896,
   "id": "3e8785f9",
   "metadata": {
    "scrolled": true
   },
   "outputs": [
    {
     "data": {
      "text/html": [
       "<div>\n",
       "<style scoped>\n",
       "    .dataframe tbody tr th:only-of-type {\n",
       "        vertical-align: middle;\n",
       "    }\n",
       "\n",
       "    .dataframe tbody tr th {\n",
       "        vertical-align: top;\n",
       "    }\n",
       "\n",
       "    .dataframe thead th {\n",
       "        text-align: right;\n",
       "    }\n",
       "</style>\n",
       "<table border=\"1\" class=\"dataframe\">\n",
       "  <thead>\n",
       "    <tr style=\"text-align: right;\">\n",
       "      <th></th>\n",
       "      <th>customerID</th>\n",
       "      <th>BeginDate</th>\n",
       "      <th>EndDate</th>\n",
       "      <th>Type</th>\n",
       "      <th>PaperlessBilling</th>\n",
       "      <th>PaymentMethod</th>\n",
       "      <th>MonthlyCharges</th>\n",
       "      <th>TotalCharges</th>\n",
       "      <th>Exited</th>\n",
       "    </tr>\n",
       "  </thead>\n",
       "  <tbody>\n",
       "    <tr>\n",
       "      <th>0</th>\n",
       "      <td>7590-VHVEG</td>\n",
       "      <td>2020-01-01</td>\n",
       "      <td>No</td>\n",
       "      <td>Month-to-month</td>\n",
       "      <td>Yes</td>\n",
       "      <td>Electronic check</td>\n",
       "      <td>29.85</td>\n",
       "      <td>29.85</td>\n",
       "      <td>0</td>\n",
       "    </tr>\n",
       "    <tr>\n",
       "      <th>1</th>\n",
       "      <td>5575-GNVDE</td>\n",
       "      <td>2017-04-01</td>\n",
       "      <td>No</td>\n",
       "      <td>One year</td>\n",
       "      <td>No</td>\n",
       "      <td>Mailed check</td>\n",
       "      <td>56.95</td>\n",
       "      <td>1889.5</td>\n",
       "      <td>0</td>\n",
       "    </tr>\n",
       "    <tr>\n",
       "      <th>2</th>\n",
       "      <td>3668-QPYBK</td>\n",
       "      <td>2019-10-01</td>\n",
       "      <td>2019-12-01 00:00:00</td>\n",
       "      <td>Month-to-month</td>\n",
       "      <td>Yes</td>\n",
       "      <td>Mailed check</td>\n",
       "      <td>53.85</td>\n",
       "      <td>108.15</td>\n",
       "      <td>1</td>\n",
       "    </tr>\n",
       "    <tr>\n",
       "      <th>3</th>\n",
       "      <td>7795-CFOCW</td>\n",
       "      <td>2016-05-01</td>\n",
       "      <td>No</td>\n",
       "      <td>One year</td>\n",
       "      <td>No</td>\n",
       "      <td>Bank transfer (automatic)</td>\n",
       "      <td>42.30</td>\n",
       "      <td>1840.75</td>\n",
       "      <td>0</td>\n",
       "    </tr>\n",
       "    <tr>\n",
       "      <th>4</th>\n",
       "      <td>9237-HQITU</td>\n",
       "      <td>2019-09-01</td>\n",
       "      <td>2019-11-01 00:00:00</td>\n",
       "      <td>Month-to-month</td>\n",
       "      <td>Yes</td>\n",
       "      <td>Electronic check</td>\n",
       "      <td>70.70</td>\n",
       "      <td>151.65</td>\n",
       "      <td>1</td>\n",
       "    </tr>\n",
       "    <tr>\n",
       "      <th>...</th>\n",
       "      <td>...</td>\n",
       "      <td>...</td>\n",
       "      <td>...</td>\n",
       "      <td>...</td>\n",
       "      <td>...</td>\n",
       "      <td>...</td>\n",
       "      <td>...</td>\n",
       "      <td>...</td>\n",
       "      <td>...</td>\n",
       "    </tr>\n",
       "    <tr>\n",
       "      <th>7038</th>\n",
       "      <td>6840-RESVB</td>\n",
       "      <td>2018-02-01</td>\n",
       "      <td>No</td>\n",
       "      <td>One year</td>\n",
       "      <td>Yes</td>\n",
       "      <td>Mailed check</td>\n",
       "      <td>84.80</td>\n",
       "      <td>1990.5</td>\n",
       "      <td>0</td>\n",
       "    </tr>\n",
       "    <tr>\n",
       "      <th>7039</th>\n",
       "      <td>2234-XADUH</td>\n",
       "      <td>2014-02-01</td>\n",
       "      <td>No</td>\n",
       "      <td>One year</td>\n",
       "      <td>Yes</td>\n",
       "      <td>Credit card (automatic)</td>\n",
       "      <td>103.20</td>\n",
       "      <td>7362.9</td>\n",
       "      <td>0</td>\n",
       "    </tr>\n",
       "    <tr>\n",
       "      <th>7040</th>\n",
       "      <td>4801-JZAZL</td>\n",
       "      <td>2019-03-01</td>\n",
       "      <td>No</td>\n",
       "      <td>Month-to-month</td>\n",
       "      <td>Yes</td>\n",
       "      <td>Electronic check</td>\n",
       "      <td>29.60</td>\n",
       "      <td>346.45</td>\n",
       "      <td>0</td>\n",
       "    </tr>\n",
       "    <tr>\n",
       "      <th>7041</th>\n",
       "      <td>8361-LTMKD</td>\n",
       "      <td>2019-07-01</td>\n",
       "      <td>2019-11-01 00:00:00</td>\n",
       "      <td>Month-to-month</td>\n",
       "      <td>Yes</td>\n",
       "      <td>Mailed check</td>\n",
       "      <td>74.40</td>\n",
       "      <td>306.6</td>\n",
       "      <td>1</td>\n",
       "    </tr>\n",
       "    <tr>\n",
       "      <th>7042</th>\n",
       "      <td>3186-AJIEK</td>\n",
       "      <td>2014-08-01</td>\n",
       "      <td>No</td>\n",
       "      <td>Two year</td>\n",
       "      <td>Yes</td>\n",
       "      <td>Bank transfer (automatic)</td>\n",
       "      <td>105.65</td>\n",
       "      <td>6844.5</td>\n",
       "      <td>0</td>\n",
       "    </tr>\n",
       "  </tbody>\n",
       "</table>\n",
       "<p>7043 rows × 9 columns</p>\n",
       "</div>"
      ],
      "text/plain": [
       "      customerID   BeginDate              EndDate            Type  \\\n",
       "0     7590-VHVEG  2020-01-01                   No  Month-to-month   \n",
       "1     5575-GNVDE  2017-04-01                   No        One year   \n",
       "2     3668-QPYBK  2019-10-01  2019-12-01 00:00:00  Month-to-month   \n",
       "3     7795-CFOCW  2016-05-01                   No        One year   \n",
       "4     9237-HQITU  2019-09-01  2019-11-01 00:00:00  Month-to-month   \n",
       "...          ...         ...                  ...             ...   \n",
       "7038  6840-RESVB  2018-02-01                   No        One year   \n",
       "7039  2234-XADUH  2014-02-01                   No        One year   \n",
       "7040  4801-JZAZL  2019-03-01                   No  Month-to-month   \n",
       "7041  8361-LTMKD  2019-07-01  2019-11-01 00:00:00  Month-to-month   \n",
       "7042  3186-AJIEK  2014-08-01                   No        Two year   \n",
       "\n",
       "     PaperlessBilling              PaymentMethod  MonthlyCharges TotalCharges  \\\n",
       "0                 Yes           Electronic check           29.85        29.85   \n",
       "1                  No               Mailed check           56.95       1889.5   \n",
       "2                 Yes               Mailed check           53.85       108.15   \n",
       "3                  No  Bank transfer (automatic)           42.30      1840.75   \n",
       "4                 Yes           Electronic check           70.70       151.65   \n",
       "...               ...                        ...             ...          ...   \n",
       "7038              Yes               Mailed check           84.80       1990.5   \n",
       "7039              Yes    Credit card (automatic)          103.20       7362.9   \n",
       "7040              Yes           Electronic check           29.60       346.45   \n",
       "7041              Yes               Mailed check           74.40        306.6   \n",
       "7042              Yes  Bank transfer (automatic)          105.65       6844.5   \n",
       "\n",
       "      Exited  \n",
       "0          0  \n",
       "1          0  \n",
       "2          1  \n",
       "3          0  \n",
       "4          1  \n",
       "...      ...  \n",
       "7038       0  \n",
       "7039       0  \n",
       "7040       0  \n",
       "7041       1  \n",
       "7042       0  \n",
       "\n",
       "[7043 rows x 9 columns]"
      ]
     },
     "execution_count": 896,
     "metadata": {},
     "output_type": "execute_result"
    }
   ],
   "source": [
    "#Таблица после добавления нового столбца целевого признака\n",
    "data_contract"
   ]
  },
  {
   "cell_type": "markdown",
   "id": "64c6e9c7",
   "metadata": {},
   "source": [
    "Добавим дополнительно два бинарных признака и затем посмотрим как они будут влиять на метрику. Это признаки отвечающие на вопрос пользуется ли клиент интернетом и телефоном. На данном этапе эти признаки добавляются в таблицы пользователей интернета и телефона и заполняются только утвердительными ответами. После объединения таблиц у этих признаков появятся пропуски, которые заполним значением 'No'. Затем эти признаки будут закодированы."
   ]
  },
  {
   "cell_type": "code",
   "execution_count": 897,
   "id": "c05d7618",
   "metadata": {},
   "outputs": [],
   "source": [
    "# Добавление признака \"Пользуется Интернетом\" со значениями \"Да/Нет\"\n",
    "data_internet['InternetClient'] = 'Yes'"
   ]
  },
  {
   "cell_type": "code",
   "execution_count": 898,
   "id": "6117a0a2",
   "metadata": {},
   "outputs": [],
   "source": [
    "# Добавление признака \"Пользуется Телефоном\" со значениями \"Да/Нет\"\n",
    "data_phone['PhoneClient'] = 'Yes'"
   ]
  },
  {
   "cell_type": "markdown",
   "id": "a8e95933",
   "metadata": {},
   "source": [
    "#### Время действия контракта"
   ]
  },
  {
   "cell_type": "markdown",
   "id": "2a09f37e",
   "metadata": {},
   "source": [
    "Добавим столбец нового признака с временем действия контракта, которое вычислим на основе данных BeginDate и EndDate."
   ]
  },
  {
   "cell_type": "code",
   "execution_count": 899,
   "id": "142eb06f",
   "metadata": {
    "scrolled": true
   },
   "outputs": [
    {
     "data": {
      "text/plain": [
       "BeginDate    object\n",
       "EndDate      object\n",
       "dtype: object"
      ]
     },
     "execution_count": 899,
     "metadata": {},
     "output_type": "execute_result"
    }
   ],
   "source": [
    "# Тип данных в столбцах BeginDate и EndDate\n",
    "data_contract.loc[:,['BeginDate','EndDate']].dtypes"
   ]
  },
  {
   "cell_type": "markdown",
   "id": "ffd25448",
   "metadata": {},
   "source": [
    "По условию задачи информация о договорах актуальна на 1 февраля 2020. Поэтому, в стобце EndDate значения 'No' заполним значением '2020-02-01 00:00:00'."
   ]
  },
  {
   "cell_type": "code",
   "execution_count": 900,
   "id": "b834ae81",
   "metadata": {},
   "outputs": [],
   "source": [
    "#Заполнение значений 'No' в  столбце EndDate значением '2020-02-01 00:00:00'\n",
    "data_contract.loc[data_contract['EndDate']=='No', 'EndDate'] = '2020-02-01 00:00:00'"
   ]
  },
  {
   "cell_type": "markdown",
   "id": "4c7e5bd1",
   "metadata": {},
   "source": [
    "Данные в столбцах BeginDate и EndDate, хотя и содержат даты, относятся к строковому типу. Поэтому, чтобы найти период между двумя датами, данные в этих столбцах нужно преобразовать к типу datetime64."
   ]
  },
  {
   "cell_type": "code",
   "execution_count": 901,
   "id": "4bb1f44b",
   "metadata": {},
   "outputs": [],
   "source": [
    "# Преобразование столбца BeginDate к типу datetime64\n",
    "data_contract['BeginDate'] = data_contract['BeginDate'].astype('datetime64[ns]')"
   ]
  },
  {
   "cell_type": "code",
   "execution_count": 902,
   "id": "43feed76",
   "metadata": {},
   "outputs": [],
   "source": [
    "# Преобразование столбца EndDate к типу datetime64\n",
    "data_contract['EndDate'] = data_contract['EndDate'].astype('datetime64[ns]')"
   ]
  },
  {
   "cell_type": "code",
   "execution_count": 903,
   "id": "ecaf949d",
   "metadata": {
    "scrolled": true
   },
   "outputs": [
    {
     "data": {
      "text/plain": [
       "BeginDate    datetime64[ns]\n",
       "EndDate      datetime64[ns]\n",
       "dtype: object"
      ]
     },
     "execution_count": 903,
     "metadata": {},
     "output_type": "execute_result"
    }
   ],
   "source": [
    "# Тип данных в столбцах BeginDate и EndDate\n",
    "data_contract.loc[:,['BeginDate','EndDate']].dtypes"
   ]
  },
  {
   "cell_type": "code",
   "execution_count": 904,
   "id": "75c628d8",
   "metadata": {},
   "outputs": [],
   "source": [
    "# Нахождение периода между EndDate и BeginDate и сохранение в столбце contract_time\n",
    "data_contract['contract_time'] = data_contract['EndDate'] - data_contract['BeginDate']"
   ]
  },
  {
   "cell_type": "markdown",
   "id": "feb41f55",
   "metadata": {},
   "source": [
    "#### Преобразование типов данных"
   ]
  },
  {
   "cell_type": "markdown",
   "id": "099605cc",
   "metadata": {},
   "source": [
    "Обучение модели может потребовать преобразования типов некоторых признаков."
   ]
  },
  {
   "cell_type": "code",
   "execution_count": 905,
   "id": "0c70574a",
   "metadata": {},
   "outputs": [
    {
     "data": {
      "text/plain": [
       "customerID                   object\n",
       "BeginDate            datetime64[ns]\n",
       "EndDate              datetime64[ns]\n",
       "Type                         object\n",
       "PaperlessBilling             object\n",
       "PaymentMethod                object\n",
       "MonthlyCharges              float64\n",
       "TotalCharges                 object\n",
       "Exited                        int32\n",
       "contract_time       timedelta64[ns]\n",
       "dtype: object"
      ]
     },
     "execution_count": 905,
     "metadata": {},
     "output_type": "execute_result"
    }
   ],
   "source": [
    "# Типы данных признаков\n",
    "data_contract.dtypes"
   ]
  },
  {
   "cell_type": "code",
   "execution_count": 906,
   "id": "697034fe",
   "metadata": {
    "scrolled": true
   },
   "outputs": [
    {
     "data": {
      "text/html": [
       "<div>\n",
       "<style scoped>\n",
       "    .dataframe tbody tr th:only-of-type {\n",
       "        vertical-align: middle;\n",
       "    }\n",
       "\n",
       "    .dataframe tbody tr th {\n",
       "        vertical-align: top;\n",
       "    }\n",
       "\n",
       "    .dataframe thead th {\n",
       "        text-align: right;\n",
       "    }\n",
       "</style>\n",
       "<table border=\"1\" class=\"dataframe\">\n",
       "  <thead>\n",
       "    <tr style=\"text-align: right;\">\n",
       "      <th></th>\n",
       "      <th>customerID</th>\n",
       "      <th>BeginDate</th>\n",
       "      <th>EndDate</th>\n",
       "      <th>Type</th>\n",
       "      <th>PaperlessBilling</th>\n",
       "      <th>PaymentMethod</th>\n",
       "      <th>MonthlyCharges</th>\n",
       "      <th>TotalCharges</th>\n",
       "      <th>Exited</th>\n",
       "      <th>contract_time</th>\n",
       "    </tr>\n",
       "  </thead>\n",
       "  <tbody>\n",
       "    <tr>\n",
       "      <th>0</th>\n",
       "      <td>7590-VHVEG</td>\n",
       "      <td>2020-01-01</td>\n",
       "      <td>2020-02-01</td>\n",
       "      <td>Month-to-month</td>\n",
       "      <td>Yes</td>\n",
       "      <td>Electronic check</td>\n",
       "      <td>29.85</td>\n",
       "      <td>29.85</td>\n",
       "      <td>0</td>\n",
       "      <td>31 days</td>\n",
       "    </tr>\n",
       "    <tr>\n",
       "      <th>1</th>\n",
       "      <td>5575-GNVDE</td>\n",
       "      <td>2017-04-01</td>\n",
       "      <td>2020-02-01</td>\n",
       "      <td>One year</td>\n",
       "      <td>No</td>\n",
       "      <td>Mailed check</td>\n",
       "      <td>56.95</td>\n",
       "      <td>1889.5</td>\n",
       "      <td>0</td>\n",
       "      <td>1036 days</td>\n",
       "    </tr>\n",
       "    <tr>\n",
       "      <th>2</th>\n",
       "      <td>3668-QPYBK</td>\n",
       "      <td>2019-10-01</td>\n",
       "      <td>2019-12-01</td>\n",
       "      <td>Month-to-month</td>\n",
       "      <td>Yes</td>\n",
       "      <td>Mailed check</td>\n",
       "      <td>53.85</td>\n",
       "      <td>108.15</td>\n",
       "      <td>1</td>\n",
       "      <td>61 days</td>\n",
       "    </tr>\n",
       "    <tr>\n",
       "      <th>3</th>\n",
       "      <td>7795-CFOCW</td>\n",
       "      <td>2016-05-01</td>\n",
       "      <td>2020-02-01</td>\n",
       "      <td>One year</td>\n",
       "      <td>No</td>\n",
       "      <td>Bank transfer (automatic)</td>\n",
       "      <td>42.30</td>\n",
       "      <td>1840.75</td>\n",
       "      <td>0</td>\n",
       "      <td>1371 days</td>\n",
       "    </tr>\n",
       "    <tr>\n",
       "      <th>4</th>\n",
       "      <td>9237-HQITU</td>\n",
       "      <td>2019-09-01</td>\n",
       "      <td>2019-11-01</td>\n",
       "      <td>Month-to-month</td>\n",
       "      <td>Yes</td>\n",
       "      <td>Electronic check</td>\n",
       "      <td>70.70</td>\n",
       "      <td>151.65</td>\n",
       "      <td>1</td>\n",
       "      <td>61 days</td>\n",
       "    </tr>\n",
       "    <tr>\n",
       "      <th>...</th>\n",
       "      <td>...</td>\n",
       "      <td>...</td>\n",
       "      <td>...</td>\n",
       "      <td>...</td>\n",
       "      <td>...</td>\n",
       "      <td>...</td>\n",
       "      <td>...</td>\n",
       "      <td>...</td>\n",
       "      <td>...</td>\n",
       "      <td>...</td>\n",
       "    </tr>\n",
       "    <tr>\n",
       "      <th>7038</th>\n",
       "      <td>6840-RESVB</td>\n",
       "      <td>2018-02-01</td>\n",
       "      <td>2020-02-01</td>\n",
       "      <td>One year</td>\n",
       "      <td>Yes</td>\n",
       "      <td>Mailed check</td>\n",
       "      <td>84.80</td>\n",
       "      <td>1990.5</td>\n",
       "      <td>0</td>\n",
       "      <td>730 days</td>\n",
       "    </tr>\n",
       "    <tr>\n",
       "      <th>7039</th>\n",
       "      <td>2234-XADUH</td>\n",
       "      <td>2014-02-01</td>\n",
       "      <td>2020-02-01</td>\n",
       "      <td>One year</td>\n",
       "      <td>Yes</td>\n",
       "      <td>Credit card (automatic)</td>\n",
       "      <td>103.20</td>\n",
       "      <td>7362.9</td>\n",
       "      <td>0</td>\n",
       "      <td>2191 days</td>\n",
       "    </tr>\n",
       "    <tr>\n",
       "      <th>7040</th>\n",
       "      <td>4801-JZAZL</td>\n",
       "      <td>2019-03-01</td>\n",
       "      <td>2020-02-01</td>\n",
       "      <td>Month-to-month</td>\n",
       "      <td>Yes</td>\n",
       "      <td>Electronic check</td>\n",
       "      <td>29.60</td>\n",
       "      <td>346.45</td>\n",
       "      <td>0</td>\n",
       "      <td>337 days</td>\n",
       "    </tr>\n",
       "    <tr>\n",
       "      <th>7041</th>\n",
       "      <td>8361-LTMKD</td>\n",
       "      <td>2019-07-01</td>\n",
       "      <td>2019-11-01</td>\n",
       "      <td>Month-to-month</td>\n",
       "      <td>Yes</td>\n",
       "      <td>Mailed check</td>\n",
       "      <td>74.40</td>\n",
       "      <td>306.6</td>\n",
       "      <td>1</td>\n",
       "      <td>123 days</td>\n",
       "    </tr>\n",
       "    <tr>\n",
       "      <th>7042</th>\n",
       "      <td>3186-AJIEK</td>\n",
       "      <td>2014-08-01</td>\n",
       "      <td>2020-02-01</td>\n",
       "      <td>Two year</td>\n",
       "      <td>Yes</td>\n",
       "      <td>Bank transfer (automatic)</td>\n",
       "      <td>105.65</td>\n",
       "      <td>6844.5</td>\n",
       "      <td>0</td>\n",
       "      <td>2010 days</td>\n",
       "    </tr>\n",
       "  </tbody>\n",
       "</table>\n",
       "<p>7043 rows × 10 columns</p>\n",
       "</div>"
      ],
      "text/plain": [
       "      customerID  BeginDate    EndDate            Type PaperlessBilling  \\\n",
       "0     7590-VHVEG 2020-01-01 2020-02-01  Month-to-month              Yes   \n",
       "1     5575-GNVDE 2017-04-01 2020-02-01        One year               No   \n",
       "2     3668-QPYBK 2019-10-01 2019-12-01  Month-to-month              Yes   \n",
       "3     7795-CFOCW 2016-05-01 2020-02-01        One year               No   \n",
       "4     9237-HQITU 2019-09-01 2019-11-01  Month-to-month              Yes   \n",
       "...          ...        ...        ...             ...              ...   \n",
       "7038  6840-RESVB 2018-02-01 2020-02-01        One year              Yes   \n",
       "7039  2234-XADUH 2014-02-01 2020-02-01        One year              Yes   \n",
       "7040  4801-JZAZL 2019-03-01 2020-02-01  Month-to-month              Yes   \n",
       "7041  8361-LTMKD 2019-07-01 2019-11-01  Month-to-month              Yes   \n",
       "7042  3186-AJIEK 2014-08-01 2020-02-01        Two year              Yes   \n",
       "\n",
       "                  PaymentMethod  MonthlyCharges TotalCharges  Exited  \\\n",
       "0              Electronic check           29.85        29.85       0   \n",
       "1                  Mailed check           56.95       1889.5       0   \n",
       "2                  Mailed check           53.85       108.15       1   \n",
       "3     Bank transfer (automatic)           42.30      1840.75       0   \n",
       "4              Electronic check           70.70       151.65       1   \n",
       "...                         ...             ...          ...     ...   \n",
       "7038               Mailed check           84.80       1990.5       0   \n",
       "7039    Credit card (automatic)          103.20       7362.9       0   \n",
       "7040           Electronic check           29.60       346.45       0   \n",
       "7041               Mailed check           74.40        306.6       1   \n",
       "7042  Bank transfer (automatic)          105.65       6844.5       0   \n",
       "\n",
       "     contract_time  \n",
       "0          31 days  \n",
       "1        1036 days  \n",
       "2          61 days  \n",
       "3        1371 days  \n",
       "4          61 days  \n",
       "...            ...  \n",
       "7038      730 days  \n",
       "7039     2191 days  \n",
       "7040      337 days  \n",
       "7041      123 days  \n",
       "7042     2010 days  \n",
       "\n",
       "[7043 rows x 10 columns]"
      ]
     },
     "execution_count": 906,
     "metadata": {},
     "output_type": "execute_result"
    }
   ],
   "source": [
    "# Просмотр таблицы\n",
    "data_contract"
   ]
  },
  {
   "cell_type": "markdown",
   "id": "4378f17b",
   "metadata": {},
   "source": [
    "Преобразуем признак contract_time к целочисленному. Для этого в столбце contract_time определим число дней и этим целочисленным результатом заменим имеющийся результат."
   ]
  },
  {
   "cell_type": "code",
   "execution_count": 907,
   "id": "a2b19df1",
   "metadata": {},
   "outputs": [],
   "source": [
    "# Преобразование столбца contract_time к целочисленному типу\n",
    "data_contract['contract_time'] = data_contract['contract_time'].dt.days"
   ]
  },
  {
   "cell_type": "markdown",
   "id": "f8db3901",
   "metadata": {},
   "source": [
    "Преобразуем признак TotalCharges, который не относится к категориальным и является числовым, но по-умолчанию имеет строковый тип, к вещественному типу float64. Нужно учесть, что столбец TotalCharges содержит небольшое число \"пустых значений\", то есть пробелы вместо значений. "
   ]
  },
  {
   "cell_type": "code",
   "execution_count": 908,
   "id": "8a763e6a",
   "metadata": {},
   "outputs": [
    {
     "data": {
      "text/plain": [
       "0.001561834445548772"
      ]
     },
     "execution_count": 908,
     "metadata": {},
     "output_type": "execute_result"
    }
   ],
   "source": [
    "# Относительное число пустых значений в столбце TotalCharges\n",
    "(data_contract['TotalCharges']==' ').mean()"
   ]
  },
  {
   "cell_type": "markdown",
   "id": "285fe1ae-6a2b-4ce1-90ed-9c9819d00be6",
   "metadata": {},
   "source": [
    "Просмотрим данные о клиентах, у которых столбец TotalCharges содержит пробелы."
   ]
  },
  {
   "cell_type": "code",
   "execution_count": 909,
   "id": "84435e8c",
   "metadata": {},
   "outputs": [
    {
     "data": {
      "text/html": [
       "<div>\n",
       "<style scoped>\n",
       "    .dataframe tbody tr th:only-of-type {\n",
       "        vertical-align: middle;\n",
       "    }\n",
       "\n",
       "    .dataframe tbody tr th {\n",
       "        vertical-align: top;\n",
       "    }\n",
       "\n",
       "    .dataframe thead th {\n",
       "        text-align: right;\n",
       "    }\n",
       "</style>\n",
       "<table border=\"1\" class=\"dataframe\">\n",
       "  <thead>\n",
       "    <tr style=\"text-align: right;\">\n",
       "      <th></th>\n",
       "      <th>customerID</th>\n",
       "      <th>BeginDate</th>\n",
       "      <th>EndDate</th>\n",
       "      <th>Type</th>\n",
       "      <th>PaperlessBilling</th>\n",
       "      <th>PaymentMethod</th>\n",
       "      <th>MonthlyCharges</th>\n",
       "      <th>TotalCharges</th>\n",
       "      <th>Exited</th>\n",
       "      <th>contract_time</th>\n",
       "    </tr>\n",
       "  </thead>\n",
       "  <tbody>\n",
       "    <tr>\n",
       "      <th>488</th>\n",
       "      <td>4472-LVYGI</td>\n",
       "      <td>2020-02-01</td>\n",
       "      <td>2020-02-01</td>\n",
       "      <td>Two year</td>\n",
       "      <td>Yes</td>\n",
       "      <td>Bank transfer (automatic)</td>\n",
       "      <td>52.55</td>\n",
       "      <td></td>\n",
       "      <td>0</td>\n",
       "      <td>0</td>\n",
       "    </tr>\n",
       "    <tr>\n",
       "      <th>753</th>\n",
       "      <td>3115-CZMZD</td>\n",
       "      <td>2020-02-01</td>\n",
       "      <td>2020-02-01</td>\n",
       "      <td>Two year</td>\n",
       "      <td>No</td>\n",
       "      <td>Mailed check</td>\n",
       "      <td>20.25</td>\n",
       "      <td></td>\n",
       "      <td>0</td>\n",
       "      <td>0</td>\n",
       "    </tr>\n",
       "    <tr>\n",
       "      <th>936</th>\n",
       "      <td>5709-LVOEQ</td>\n",
       "      <td>2020-02-01</td>\n",
       "      <td>2020-02-01</td>\n",
       "      <td>Two year</td>\n",
       "      <td>No</td>\n",
       "      <td>Mailed check</td>\n",
       "      <td>80.85</td>\n",
       "      <td></td>\n",
       "      <td>0</td>\n",
       "      <td>0</td>\n",
       "    </tr>\n",
       "    <tr>\n",
       "      <th>1082</th>\n",
       "      <td>4367-NUYAO</td>\n",
       "      <td>2020-02-01</td>\n",
       "      <td>2020-02-01</td>\n",
       "      <td>Two year</td>\n",
       "      <td>No</td>\n",
       "      <td>Mailed check</td>\n",
       "      <td>25.75</td>\n",
       "      <td></td>\n",
       "      <td>0</td>\n",
       "      <td>0</td>\n",
       "    </tr>\n",
       "    <tr>\n",
       "      <th>1340</th>\n",
       "      <td>1371-DWPAZ</td>\n",
       "      <td>2020-02-01</td>\n",
       "      <td>2020-02-01</td>\n",
       "      <td>Two year</td>\n",
       "      <td>No</td>\n",
       "      <td>Credit card (automatic)</td>\n",
       "      <td>56.05</td>\n",
       "      <td></td>\n",
       "      <td>0</td>\n",
       "      <td>0</td>\n",
       "    </tr>\n",
       "    <tr>\n",
       "      <th>3331</th>\n",
       "      <td>7644-OMVMY</td>\n",
       "      <td>2020-02-01</td>\n",
       "      <td>2020-02-01</td>\n",
       "      <td>Two year</td>\n",
       "      <td>No</td>\n",
       "      <td>Mailed check</td>\n",
       "      <td>19.85</td>\n",
       "      <td></td>\n",
       "      <td>0</td>\n",
       "      <td>0</td>\n",
       "    </tr>\n",
       "    <tr>\n",
       "      <th>3826</th>\n",
       "      <td>3213-VVOLG</td>\n",
       "      <td>2020-02-01</td>\n",
       "      <td>2020-02-01</td>\n",
       "      <td>Two year</td>\n",
       "      <td>No</td>\n",
       "      <td>Mailed check</td>\n",
       "      <td>25.35</td>\n",
       "      <td></td>\n",
       "      <td>0</td>\n",
       "      <td>0</td>\n",
       "    </tr>\n",
       "    <tr>\n",
       "      <th>4380</th>\n",
       "      <td>2520-SGTTA</td>\n",
       "      <td>2020-02-01</td>\n",
       "      <td>2020-02-01</td>\n",
       "      <td>Two year</td>\n",
       "      <td>No</td>\n",
       "      <td>Mailed check</td>\n",
       "      <td>20.00</td>\n",
       "      <td></td>\n",
       "      <td>0</td>\n",
       "      <td>0</td>\n",
       "    </tr>\n",
       "    <tr>\n",
       "      <th>5218</th>\n",
       "      <td>2923-ARZLG</td>\n",
       "      <td>2020-02-01</td>\n",
       "      <td>2020-02-01</td>\n",
       "      <td>One year</td>\n",
       "      <td>Yes</td>\n",
       "      <td>Mailed check</td>\n",
       "      <td>19.70</td>\n",
       "      <td></td>\n",
       "      <td>0</td>\n",
       "      <td>0</td>\n",
       "    </tr>\n",
       "    <tr>\n",
       "      <th>6670</th>\n",
       "      <td>4075-WKNIU</td>\n",
       "      <td>2020-02-01</td>\n",
       "      <td>2020-02-01</td>\n",
       "      <td>Two year</td>\n",
       "      <td>No</td>\n",
       "      <td>Mailed check</td>\n",
       "      <td>73.35</td>\n",
       "      <td></td>\n",
       "      <td>0</td>\n",
       "      <td>0</td>\n",
       "    </tr>\n",
       "    <tr>\n",
       "      <th>6754</th>\n",
       "      <td>2775-SEFEE</td>\n",
       "      <td>2020-02-01</td>\n",
       "      <td>2020-02-01</td>\n",
       "      <td>Two year</td>\n",
       "      <td>Yes</td>\n",
       "      <td>Bank transfer (automatic)</td>\n",
       "      <td>61.90</td>\n",
       "      <td></td>\n",
       "      <td>0</td>\n",
       "      <td>0</td>\n",
       "    </tr>\n",
       "  </tbody>\n",
       "</table>\n",
       "</div>"
      ],
      "text/plain": [
       "      customerID  BeginDate    EndDate      Type PaperlessBilling  \\\n",
       "488   4472-LVYGI 2020-02-01 2020-02-01  Two year              Yes   \n",
       "753   3115-CZMZD 2020-02-01 2020-02-01  Two year               No   \n",
       "936   5709-LVOEQ 2020-02-01 2020-02-01  Two year               No   \n",
       "1082  4367-NUYAO 2020-02-01 2020-02-01  Two year               No   \n",
       "1340  1371-DWPAZ 2020-02-01 2020-02-01  Two year               No   \n",
       "3331  7644-OMVMY 2020-02-01 2020-02-01  Two year               No   \n",
       "3826  3213-VVOLG 2020-02-01 2020-02-01  Two year               No   \n",
       "4380  2520-SGTTA 2020-02-01 2020-02-01  Two year               No   \n",
       "5218  2923-ARZLG 2020-02-01 2020-02-01  One year              Yes   \n",
       "6670  4075-WKNIU 2020-02-01 2020-02-01  Two year               No   \n",
       "6754  2775-SEFEE 2020-02-01 2020-02-01  Two year              Yes   \n",
       "\n",
       "                  PaymentMethod  MonthlyCharges TotalCharges  Exited  \\\n",
       "488   Bank transfer (automatic)           52.55                    0   \n",
       "753                Mailed check           20.25                    0   \n",
       "936                Mailed check           80.85                    0   \n",
       "1082               Mailed check           25.75                    0   \n",
       "1340    Credit card (automatic)           56.05                    0   \n",
       "3331               Mailed check           19.85                    0   \n",
       "3826               Mailed check           25.35                    0   \n",
       "4380               Mailed check           20.00                    0   \n",
       "5218               Mailed check           19.70                    0   \n",
       "6670               Mailed check           73.35                    0   \n",
       "6754  Bank transfer (automatic)           61.90                    0   \n",
       "\n",
       "      contract_time  \n",
       "488               0  \n",
       "753               0  \n",
       "936               0  \n",
       "1082              0  \n",
       "1340              0  \n",
       "3331              0  \n",
       "3826              0  \n",
       "4380              0  \n",
       "5218              0  \n",
       "6670              0  \n",
       "6754              0  "
      ]
     },
     "execution_count": 909,
     "metadata": {},
     "output_type": "execute_result"
    }
   ],
   "source": [
    "data_contract[data_contract['TotalCharges']==' ']"
   ]
  },
  {
   "cell_type": "markdown",
   "id": "d1130400",
   "metadata": {},
   "source": [
    "Поскольку в каждой записи признак contract_time равен нулю, данные клиенты являются \"новичками\", которые еще не успели ничего оплатить. В таком случае, логично заполнить пропуски в столбце TotalCharges нулями."
   ]
  },
  {
   "cell_type": "code",
   "execution_count": 910,
   "id": "676c316c",
   "metadata": {},
   "outputs": [],
   "source": [
    "data_contract['TotalCharges'].replace(' ', 0, inplace=True)"
   ]
  },
  {
   "cell_type": "code",
   "execution_count": 911,
   "id": "63f3e472",
   "metadata": {},
   "outputs": [],
   "source": [
    "# Преобразование данных столбца TotalCharges к вещественному типу.\n",
    "data_contract['TotalCharges'] = pd.to_numeric(data_contract['TotalCharges'])"
   ]
  },
  {
   "cell_type": "code",
   "execution_count": 912,
   "id": "cd287688",
   "metadata": {},
   "outputs": [
    {
     "data": {
      "text/plain": [
       "customerID                  object\n",
       "BeginDate           datetime64[ns]\n",
       "EndDate             datetime64[ns]\n",
       "Type                        object\n",
       "PaperlessBilling            object\n",
       "PaymentMethod               object\n",
       "MonthlyCharges             float64\n",
       "TotalCharges               float64\n",
       "Exited                       int32\n",
       "contract_time                int64\n",
       "dtype: object"
      ]
     },
     "execution_count": 912,
     "metadata": {},
     "output_type": "execute_result"
    }
   ],
   "source": [
    "# Типы данных признаков\n",
    "data_contract.dtypes"
   ]
  },
  {
   "cell_type": "markdown",
   "id": "f5925e0b",
   "metadata": {},
   "source": [
    "Удалим столбцы BeginDate и EndDate"
   ]
  },
  {
   "cell_type": "code",
   "execution_count": 913,
   "id": "90046f02",
   "metadata": {},
   "outputs": [],
   "source": [
    "# Удаление столбцов BeginDate и EndDate\n",
    "data_contract = data_contract.drop(['BeginDate', 'EndDate'],axis=1)"
   ]
  },
  {
   "cell_type": "code",
   "execution_count": 914,
   "id": "6a24879b",
   "metadata": {
    "scrolled": true
   },
   "outputs": [
    {
     "data": {
      "text/plain": [
       "customerID           object\n",
       "Type                 object\n",
       "PaperlessBilling     object\n",
       "PaymentMethod        object\n",
       "MonthlyCharges      float64\n",
       "TotalCharges        float64\n",
       "Exited                int32\n",
       "contract_time         int64\n",
       "dtype: object"
      ]
     },
     "execution_count": 914,
     "metadata": {},
     "output_type": "execute_result"
    }
   ],
   "source": [
    "# Повторный просмотр всех столбцов и их типов данных\n",
    "data_contract.dtypes"
   ]
  },
  {
   "cell_type": "markdown",
   "id": "0cd84ac0",
   "metadata": {},
   "source": [
    "Признаки типа object будут в дальнейшем закодированы и таким образом преобразованы к целочисленным типам. Остальные признаки готовы для обучения модели."
   ]
  },
  {
   "cell_type": "markdown",
   "id": "a255491c",
   "metadata": {},
   "source": [
    "#### Объединение таблиц"
   ]
  },
  {
   "cell_type": "markdown",
   "id": "fc3cd072",
   "metadata": {},
   "source": [
    "Для получения единого набора данных объединим все таблицы по общему признаку customerID."
   ]
  },
  {
   "cell_type": "code",
   "execution_count": 915,
   "id": "76dce506",
   "metadata": {},
   "outputs": [],
   "source": [
    "# Объединение таблиц data_contract и data_personal\n",
    "data_full = data_contract.merge(data_personal, how = 'left')"
   ]
  },
  {
   "cell_type": "code",
   "execution_count": 916,
   "id": "17bda8ec",
   "metadata": {},
   "outputs": [],
   "source": [
    "# Объединение предыдущей таблицы с таблицей data_internet\n",
    "data_full = data_full.merge(data_internet, how = 'left')"
   ]
  },
  {
   "cell_type": "code",
   "execution_count": 917,
   "id": "609d87c7",
   "metadata": {},
   "outputs": [],
   "source": [
    "# Объединение предыдущей таблицы с таблицей data_phone\n",
    "data_full = data_full.merge(data_phone, how = 'left')"
   ]
  },
  {
   "cell_type": "code",
   "execution_count": 918,
   "id": "3ae47a04",
   "metadata": {},
   "outputs": [
    {
     "data": {
      "text/html": [
       "<div>\n",
       "<style scoped>\n",
       "    .dataframe tbody tr th:only-of-type {\n",
       "        vertical-align: middle;\n",
       "    }\n",
       "\n",
       "    .dataframe tbody tr th {\n",
       "        vertical-align: top;\n",
       "    }\n",
       "\n",
       "    .dataframe thead th {\n",
       "        text-align: right;\n",
       "    }\n",
       "</style>\n",
       "<table border=\"1\" class=\"dataframe\">\n",
       "  <thead>\n",
       "    <tr style=\"text-align: right;\">\n",
       "      <th></th>\n",
       "      <th>customerID</th>\n",
       "      <th>Type</th>\n",
       "      <th>PaperlessBilling</th>\n",
       "      <th>PaymentMethod</th>\n",
       "      <th>MonthlyCharges</th>\n",
       "      <th>TotalCharges</th>\n",
       "      <th>Exited</th>\n",
       "      <th>contract_time</th>\n",
       "      <th>gender</th>\n",
       "      <th>SeniorCitizen</th>\n",
       "      <th>Partner</th>\n",
       "      <th>Dependents</th>\n",
       "      <th>InternetService</th>\n",
       "      <th>OnlineSecurity</th>\n",
       "      <th>OnlineBackup</th>\n",
       "      <th>DeviceProtection</th>\n",
       "      <th>TechSupport</th>\n",
       "      <th>StreamingTV</th>\n",
       "      <th>StreamingMovies</th>\n",
       "      <th>InternetClient</th>\n",
       "      <th>MultipleLines</th>\n",
       "      <th>PhoneClient</th>\n",
       "    </tr>\n",
       "  </thead>\n",
       "  <tbody>\n",
       "    <tr>\n",
       "      <th>0</th>\n",
       "      <td>7590-VHVEG</td>\n",
       "      <td>Month-to-month</td>\n",
       "      <td>Yes</td>\n",
       "      <td>Electronic check</td>\n",
       "      <td>29.85</td>\n",
       "      <td>29.85</td>\n",
       "      <td>0</td>\n",
       "      <td>31</td>\n",
       "      <td>Female</td>\n",
       "      <td>0</td>\n",
       "      <td>Yes</td>\n",
       "      <td>No</td>\n",
       "      <td>DSL</td>\n",
       "      <td>No</td>\n",
       "      <td>Yes</td>\n",
       "      <td>No</td>\n",
       "      <td>No</td>\n",
       "      <td>No</td>\n",
       "      <td>No</td>\n",
       "      <td>Yes</td>\n",
       "      <td>NaN</td>\n",
       "      <td>NaN</td>\n",
       "    </tr>\n",
       "    <tr>\n",
       "      <th>1</th>\n",
       "      <td>5575-GNVDE</td>\n",
       "      <td>One year</td>\n",
       "      <td>No</td>\n",
       "      <td>Mailed check</td>\n",
       "      <td>56.95</td>\n",
       "      <td>1889.50</td>\n",
       "      <td>0</td>\n",
       "      <td>1036</td>\n",
       "      <td>Male</td>\n",
       "      <td>0</td>\n",
       "      <td>No</td>\n",
       "      <td>No</td>\n",
       "      <td>DSL</td>\n",
       "      <td>Yes</td>\n",
       "      <td>No</td>\n",
       "      <td>Yes</td>\n",
       "      <td>No</td>\n",
       "      <td>No</td>\n",
       "      <td>No</td>\n",
       "      <td>Yes</td>\n",
       "      <td>No</td>\n",
       "      <td>Yes</td>\n",
       "    </tr>\n",
       "    <tr>\n",
       "      <th>2</th>\n",
       "      <td>3668-QPYBK</td>\n",
       "      <td>Month-to-month</td>\n",
       "      <td>Yes</td>\n",
       "      <td>Mailed check</td>\n",
       "      <td>53.85</td>\n",
       "      <td>108.15</td>\n",
       "      <td>1</td>\n",
       "      <td>61</td>\n",
       "      <td>Male</td>\n",
       "      <td>0</td>\n",
       "      <td>No</td>\n",
       "      <td>No</td>\n",
       "      <td>DSL</td>\n",
       "      <td>Yes</td>\n",
       "      <td>Yes</td>\n",
       "      <td>No</td>\n",
       "      <td>No</td>\n",
       "      <td>No</td>\n",
       "      <td>No</td>\n",
       "      <td>Yes</td>\n",
       "      <td>No</td>\n",
       "      <td>Yes</td>\n",
       "    </tr>\n",
       "    <tr>\n",
       "      <th>3</th>\n",
       "      <td>7795-CFOCW</td>\n",
       "      <td>One year</td>\n",
       "      <td>No</td>\n",
       "      <td>Bank transfer (automatic)</td>\n",
       "      <td>42.30</td>\n",
       "      <td>1840.75</td>\n",
       "      <td>0</td>\n",
       "      <td>1371</td>\n",
       "      <td>Male</td>\n",
       "      <td>0</td>\n",
       "      <td>No</td>\n",
       "      <td>No</td>\n",
       "      <td>DSL</td>\n",
       "      <td>Yes</td>\n",
       "      <td>No</td>\n",
       "      <td>Yes</td>\n",
       "      <td>Yes</td>\n",
       "      <td>No</td>\n",
       "      <td>No</td>\n",
       "      <td>Yes</td>\n",
       "      <td>NaN</td>\n",
       "      <td>NaN</td>\n",
       "    </tr>\n",
       "    <tr>\n",
       "      <th>4</th>\n",
       "      <td>9237-HQITU</td>\n",
       "      <td>Month-to-month</td>\n",
       "      <td>Yes</td>\n",
       "      <td>Electronic check</td>\n",
       "      <td>70.70</td>\n",
       "      <td>151.65</td>\n",
       "      <td>1</td>\n",
       "      <td>61</td>\n",
       "      <td>Female</td>\n",
       "      <td>0</td>\n",
       "      <td>No</td>\n",
       "      <td>No</td>\n",
       "      <td>Fiber optic</td>\n",
       "      <td>No</td>\n",
       "      <td>No</td>\n",
       "      <td>No</td>\n",
       "      <td>No</td>\n",
       "      <td>No</td>\n",
       "      <td>No</td>\n",
       "      <td>Yes</td>\n",
       "      <td>No</td>\n",
       "      <td>Yes</td>\n",
       "    </tr>\n",
       "    <tr>\n",
       "      <th>...</th>\n",
       "      <td>...</td>\n",
       "      <td>...</td>\n",
       "      <td>...</td>\n",
       "      <td>...</td>\n",
       "      <td>...</td>\n",
       "      <td>...</td>\n",
       "      <td>...</td>\n",
       "      <td>...</td>\n",
       "      <td>...</td>\n",
       "      <td>...</td>\n",
       "      <td>...</td>\n",
       "      <td>...</td>\n",
       "      <td>...</td>\n",
       "      <td>...</td>\n",
       "      <td>...</td>\n",
       "      <td>...</td>\n",
       "      <td>...</td>\n",
       "      <td>...</td>\n",
       "      <td>...</td>\n",
       "      <td>...</td>\n",
       "      <td>...</td>\n",
       "      <td>...</td>\n",
       "    </tr>\n",
       "    <tr>\n",
       "      <th>7038</th>\n",
       "      <td>6840-RESVB</td>\n",
       "      <td>One year</td>\n",
       "      <td>Yes</td>\n",
       "      <td>Mailed check</td>\n",
       "      <td>84.80</td>\n",
       "      <td>1990.50</td>\n",
       "      <td>0</td>\n",
       "      <td>730</td>\n",
       "      <td>Male</td>\n",
       "      <td>0</td>\n",
       "      <td>Yes</td>\n",
       "      <td>Yes</td>\n",
       "      <td>DSL</td>\n",
       "      <td>Yes</td>\n",
       "      <td>No</td>\n",
       "      <td>Yes</td>\n",
       "      <td>Yes</td>\n",
       "      <td>Yes</td>\n",
       "      <td>Yes</td>\n",
       "      <td>Yes</td>\n",
       "      <td>Yes</td>\n",
       "      <td>Yes</td>\n",
       "    </tr>\n",
       "    <tr>\n",
       "      <th>7039</th>\n",
       "      <td>2234-XADUH</td>\n",
       "      <td>One year</td>\n",
       "      <td>Yes</td>\n",
       "      <td>Credit card (automatic)</td>\n",
       "      <td>103.20</td>\n",
       "      <td>7362.90</td>\n",
       "      <td>0</td>\n",
       "      <td>2191</td>\n",
       "      <td>Female</td>\n",
       "      <td>0</td>\n",
       "      <td>Yes</td>\n",
       "      <td>Yes</td>\n",
       "      <td>Fiber optic</td>\n",
       "      <td>No</td>\n",
       "      <td>Yes</td>\n",
       "      <td>Yes</td>\n",
       "      <td>No</td>\n",
       "      <td>Yes</td>\n",
       "      <td>Yes</td>\n",
       "      <td>Yes</td>\n",
       "      <td>Yes</td>\n",
       "      <td>Yes</td>\n",
       "    </tr>\n",
       "    <tr>\n",
       "      <th>7040</th>\n",
       "      <td>4801-JZAZL</td>\n",
       "      <td>Month-to-month</td>\n",
       "      <td>Yes</td>\n",
       "      <td>Electronic check</td>\n",
       "      <td>29.60</td>\n",
       "      <td>346.45</td>\n",
       "      <td>0</td>\n",
       "      <td>337</td>\n",
       "      <td>Female</td>\n",
       "      <td>0</td>\n",
       "      <td>Yes</td>\n",
       "      <td>Yes</td>\n",
       "      <td>DSL</td>\n",
       "      <td>Yes</td>\n",
       "      <td>No</td>\n",
       "      <td>No</td>\n",
       "      <td>No</td>\n",
       "      <td>No</td>\n",
       "      <td>No</td>\n",
       "      <td>Yes</td>\n",
       "      <td>NaN</td>\n",
       "      <td>NaN</td>\n",
       "    </tr>\n",
       "    <tr>\n",
       "      <th>7041</th>\n",
       "      <td>8361-LTMKD</td>\n",
       "      <td>Month-to-month</td>\n",
       "      <td>Yes</td>\n",
       "      <td>Mailed check</td>\n",
       "      <td>74.40</td>\n",
       "      <td>306.60</td>\n",
       "      <td>1</td>\n",
       "      <td>123</td>\n",
       "      <td>Male</td>\n",
       "      <td>1</td>\n",
       "      <td>Yes</td>\n",
       "      <td>No</td>\n",
       "      <td>Fiber optic</td>\n",
       "      <td>No</td>\n",
       "      <td>No</td>\n",
       "      <td>No</td>\n",
       "      <td>No</td>\n",
       "      <td>No</td>\n",
       "      <td>No</td>\n",
       "      <td>Yes</td>\n",
       "      <td>Yes</td>\n",
       "      <td>Yes</td>\n",
       "    </tr>\n",
       "    <tr>\n",
       "      <th>7042</th>\n",
       "      <td>3186-AJIEK</td>\n",
       "      <td>Two year</td>\n",
       "      <td>Yes</td>\n",
       "      <td>Bank transfer (automatic)</td>\n",
       "      <td>105.65</td>\n",
       "      <td>6844.50</td>\n",
       "      <td>0</td>\n",
       "      <td>2010</td>\n",
       "      <td>Male</td>\n",
       "      <td>0</td>\n",
       "      <td>No</td>\n",
       "      <td>No</td>\n",
       "      <td>Fiber optic</td>\n",
       "      <td>Yes</td>\n",
       "      <td>No</td>\n",
       "      <td>Yes</td>\n",
       "      <td>Yes</td>\n",
       "      <td>Yes</td>\n",
       "      <td>Yes</td>\n",
       "      <td>Yes</td>\n",
       "      <td>No</td>\n",
       "      <td>Yes</td>\n",
       "    </tr>\n",
       "  </tbody>\n",
       "</table>\n",
       "<p>7043 rows × 22 columns</p>\n",
       "</div>"
      ],
      "text/plain": [
       "      customerID            Type PaperlessBilling              PaymentMethod  \\\n",
       "0     7590-VHVEG  Month-to-month              Yes           Electronic check   \n",
       "1     5575-GNVDE        One year               No               Mailed check   \n",
       "2     3668-QPYBK  Month-to-month              Yes               Mailed check   \n",
       "3     7795-CFOCW        One year               No  Bank transfer (automatic)   \n",
       "4     9237-HQITU  Month-to-month              Yes           Electronic check   \n",
       "...          ...             ...              ...                        ...   \n",
       "7038  6840-RESVB        One year              Yes               Mailed check   \n",
       "7039  2234-XADUH        One year              Yes    Credit card (automatic)   \n",
       "7040  4801-JZAZL  Month-to-month              Yes           Electronic check   \n",
       "7041  8361-LTMKD  Month-to-month              Yes               Mailed check   \n",
       "7042  3186-AJIEK        Two year              Yes  Bank transfer (automatic)   \n",
       "\n",
       "      MonthlyCharges  TotalCharges  Exited  contract_time  gender  \\\n",
       "0              29.85         29.85       0             31  Female   \n",
       "1              56.95       1889.50       0           1036    Male   \n",
       "2              53.85        108.15       1             61    Male   \n",
       "3              42.30       1840.75       0           1371    Male   \n",
       "4              70.70        151.65       1             61  Female   \n",
       "...              ...           ...     ...            ...     ...   \n",
       "7038           84.80       1990.50       0            730    Male   \n",
       "7039          103.20       7362.90       0           2191  Female   \n",
       "7040           29.60        346.45       0            337  Female   \n",
       "7041           74.40        306.60       1            123    Male   \n",
       "7042          105.65       6844.50       0           2010    Male   \n",
       "\n",
       "      SeniorCitizen Partner Dependents InternetService OnlineSecurity  \\\n",
       "0                 0     Yes         No             DSL             No   \n",
       "1                 0      No         No             DSL            Yes   \n",
       "2                 0      No         No             DSL            Yes   \n",
       "3                 0      No         No             DSL            Yes   \n",
       "4                 0      No         No     Fiber optic             No   \n",
       "...             ...     ...        ...             ...            ...   \n",
       "7038              0     Yes        Yes             DSL            Yes   \n",
       "7039              0     Yes        Yes     Fiber optic             No   \n",
       "7040              0     Yes        Yes             DSL            Yes   \n",
       "7041              1     Yes         No     Fiber optic             No   \n",
       "7042              0      No         No     Fiber optic            Yes   \n",
       "\n",
       "     OnlineBackup DeviceProtection TechSupport StreamingTV StreamingMovies  \\\n",
       "0             Yes               No          No          No              No   \n",
       "1              No              Yes          No          No              No   \n",
       "2             Yes               No          No          No              No   \n",
       "3              No              Yes         Yes          No              No   \n",
       "4              No               No          No          No              No   \n",
       "...           ...              ...         ...         ...             ...   \n",
       "7038           No              Yes         Yes         Yes             Yes   \n",
       "7039          Yes              Yes          No         Yes             Yes   \n",
       "7040           No               No          No          No              No   \n",
       "7041           No               No          No          No              No   \n",
       "7042           No              Yes         Yes         Yes             Yes   \n",
       "\n",
       "     InternetClient MultipleLines PhoneClient  \n",
       "0               Yes           NaN         NaN  \n",
       "1               Yes            No         Yes  \n",
       "2               Yes            No         Yes  \n",
       "3               Yes           NaN         NaN  \n",
       "4               Yes            No         Yes  \n",
       "...             ...           ...         ...  \n",
       "7038            Yes           Yes         Yes  \n",
       "7039            Yes           Yes         Yes  \n",
       "7040            Yes           NaN         NaN  \n",
       "7041            Yes           Yes         Yes  \n",
       "7042            Yes            No         Yes  \n",
       "\n",
       "[7043 rows x 22 columns]"
      ]
     },
     "execution_count": 918,
     "metadata": {},
     "output_type": "execute_result"
    }
   ],
   "source": [
    "# Объединенная таблица\n",
    "data_full"
   ]
  },
  {
   "cell_type": "markdown",
   "id": "5339513d",
   "metadata": {},
   "source": [
    "#### Удаление бесполезных для обучения признаков"
   ]
  },
  {
   "cell_type": "markdown",
   "id": "0cf5a047",
   "metadata": {},
   "source": [
    "Просмотрим все столбцы с их значениями и удалим бесполезные для обучения признаки."
   ]
  },
  {
   "cell_type": "code",
   "execution_count": 919,
   "id": "3b8c7ebc",
   "metadata": {
    "scrolled": true
   },
   "outputs": [
    {
     "data": {
      "text/html": [
       "<div>\n",
       "<style scoped>\n",
       "    .dataframe tbody tr th:only-of-type {\n",
       "        vertical-align: middle;\n",
       "    }\n",
       "\n",
       "    .dataframe tbody tr th {\n",
       "        vertical-align: top;\n",
       "    }\n",
       "\n",
       "    .dataframe thead th {\n",
       "        text-align: right;\n",
       "    }\n",
       "</style>\n",
       "<table border=\"1\" class=\"dataframe\">\n",
       "  <thead>\n",
       "    <tr style=\"text-align: right;\">\n",
       "      <th></th>\n",
       "      <th>customerID</th>\n",
       "      <th>Type</th>\n",
       "      <th>PaperlessBilling</th>\n",
       "      <th>PaymentMethod</th>\n",
       "      <th>MonthlyCharges</th>\n",
       "      <th>TotalCharges</th>\n",
       "      <th>Exited</th>\n",
       "      <th>contract_time</th>\n",
       "      <th>gender</th>\n",
       "      <th>SeniorCitizen</th>\n",
       "      <th>Partner</th>\n",
       "      <th>Dependents</th>\n",
       "      <th>InternetService</th>\n",
       "      <th>OnlineSecurity</th>\n",
       "      <th>OnlineBackup</th>\n",
       "      <th>DeviceProtection</th>\n",
       "      <th>TechSupport</th>\n",
       "      <th>StreamingTV</th>\n",
       "      <th>StreamingMovies</th>\n",
       "      <th>InternetClient</th>\n",
       "      <th>MultipleLines</th>\n",
       "      <th>PhoneClient</th>\n",
       "    </tr>\n",
       "  </thead>\n",
       "  <tbody>\n",
       "    <tr>\n",
       "      <th>0</th>\n",
       "      <td>7590-VHVEG</td>\n",
       "      <td>Month-to-month</td>\n",
       "      <td>Yes</td>\n",
       "      <td>Electronic check</td>\n",
       "      <td>29.85</td>\n",
       "      <td>29.85</td>\n",
       "      <td>0</td>\n",
       "      <td>31</td>\n",
       "      <td>Female</td>\n",
       "      <td>0</td>\n",
       "      <td>Yes</td>\n",
       "      <td>No</td>\n",
       "      <td>DSL</td>\n",
       "      <td>No</td>\n",
       "      <td>Yes</td>\n",
       "      <td>No</td>\n",
       "      <td>No</td>\n",
       "      <td>No</td>\n",
       "      <td>No</td>\n",
       "      <td>Yes</td>\n",
       "      <td>NaN</td>\n",
       "      <td>NaN</td>\n",
       "    </tr>\n",
       "    <tr>\n",
       "      <th>1</th>\n",
       "      <td>5575-GNVDE</td>\n",
       "      <td>One year</td>\n",
       "      <td>No</td>\n",
       "      <td>Mailed check</td>\n",
       "      <td>56.95</td>\n",
       "      <td>1889.50</td>\n",
       "      <td>0</td>\n",
       "      <td>1036</td>\n",
       "      <td>Male</td>\n",
       "      <td>0</td>\n",
       "      <td>No</td>\n",
       "      <td>No</td>\n",
       "      <td>DSL</td>\n",
       "      <td>Yes</td>\n",
       "      <td>No</td>\n",
       "      <td>Yes</td>\n",
       "      <td>No</td>\n",
       "      <td>No</td>\n",
       "      <td>No</td>\n",
       "      <td>Yes</td>\n",
       "      <td>No</td>\n",
       "      <td>Yes</td>\n",
       "    </tr>\n",
       "    <tr>\n",
       "      <th>2</th>\n",
       "      <td>3668-QPYBK</td>\n",
       "      <td>Month-to-month</td>\n",
       "      <td>Yes</td>\n",
       "      <td>Mailed check</td>\n",
       "      <td>53.85</td>\n",
       "      <td>108.15</td>\n",
       "      <td>1</td>\n",
       "      <td>61</td>\n",
       "      <td>Male</td>\n",
       "      <td>0</td>\n",
       "      <td>No</td>\n",
       "      <td>No</td>\n",
       "      <td>DSL</td>\n",
       "      <td>Yes</td>\n",
       "      <td>Yes</td>\n",
       "      <td>No</td>\n",
       "      <td>No</td>\n",
       "      <td>No</td>\n",
       "      <td>No</td>\n",
       "      <td>Yes</td>\n",
       "      <td>No</td>\n",
       "      <td>Yes</td>\n",
       "    </tr>\n",
       "    <tr>\n",
       "      <th>3</th>\n",
       "      <td>7795-CFOCW</td>\n",
       "      <td>One year</td>\n",
       "      <td>No</td>\n",
       "      <td>Bank transfer (automatic)</td>\n",
       "      <td>42.30</td>\n",
       "      <td>1840.75</td>\n",
       "      <td>0</td>\n",
       "      <td>1371</td>\n",
       "      <td>Male</td>\n",
       "      <td>0</td>\n",
       "      <td>No</td>\n",
       "      <td>No</td>\n",
       "      <td>DSL</td>\n",
       "      <td>Yes</td>\n",
       "      <td>No</td>\n",
       "      <td>Yes</td>\n",
       "      <td>Yes</td>\n",
       "      <td>No</td>\n",
       "      <td>No</td>\n",
       "      <td>Yes</td>\n",
       "      <td>NaN</td>\n",
       "      <td>NaN</td>\n",
       "    </tr>\n",
       "    <tr>\n",
       "      <th>4</th>\n",
       "      <td>9237-HQITU</td>\n",
       "      <td>Month-to-month</td>\n",
       "      <td>Yes</td>\n",
       "      <td>Electronic check</td>\n",
       "      <td>70.70</td>\n",
       "      <td>151.65</td>\n",
       "      <td>1</td>\n",
       "      <td>61</td>\n",
       "      <td>Female</td>\n",
       "      <td>0</td>\n",
       "      <td>No</td>\n",
       "      <td>No</td>\n",
       "      <td>Fiber optic</td>\n",
       "      <td>No</td>\n",
       "      <td>No</td>\n",
       "      <td>No</td>\n",
       "      <td>No</td>\n",
       "      <td>No</td>\n",
       "      <td>No</td>\n",
       "      <td>Yes</td>\n",
       "      <td>No</td>\n",
       "      <td>Yes</td>\n",
       "    </tr>\n",
       "    <tr>\n",
       "      <th>...</th>\n",
       "      <td>...</td>\n",
       "      <td>...</td>\n",
       "      <td>...</td>\n",
       "      <td>...</td>\n",
       "      <td>...</td>\n",
       "      <td>...</td>\n",
       "      <td>...</td>\n",
       "      <td>...</td>\n",
       "      <td>...</td>\n",
       "      <td>...</td>\n",
       "      <td>...</td>\n",
       "      <td>...</td>\n",
       "      <td>...</td>\n",
       "      <td>...</td>\n",
       "      <td>...</td>\n",
       "      <td>...</td>\n",
       "      <td>...</td>\n",
       "      <td>...</td>\n",
       "      <td>...</td>\n",
       "      <td>...</td>\n",
       "      <td>...</td>\n",
       "      <td>...</td>\n",
       "    </tr>\n",
       "    <tr>\n",
       "      <th>7038</th>\n",
       "      <td>6840-RESVB</td>\n",
       "      <td>One year</td>\n",
       "      <td>Yes</td>\n",
       "      <td>Mailed check</td>\n",
       "      <td>84.80</td>\n",
       "      <td>1990.50</td>\n",
       "      <td>0</td>\n",
       "      <td>730</td>\n",
       "      <td>Male</td>\n",
       "      <td>0</td>\n",
       "      <td>Yes</td>\n",
       "      <td>Yes</td>\n",
       "      <td>DSL</td>\n",
       "      <td>Yes</td>\n",
       "      <td>No</td>\n",
       "      <td>Yes</td>\n",
       "      <td>Yes</td>\n",
       "      <td>Yes</td>\n",
       "      <td>Yes</td>\n",
       "      <td>Yes</td>\n",
       "      <td>Yes</td>\n",
       "      <td>Yes</td>\n",
       "    </tr>\n",
       "    <tr>\n",
       "      <th>7039</th>\n",
       "      <td>2234-XADUH</td>\n",
       "      <td>One year</td>\n",
       "      <td>Yes</td>\n",
       "      <td>Credit card (automatic)</td>\n",
       "      <td>103.20</td>\n",
       "      <td>7362.90</td>\n",
       "      <td>0</td>\n",
       "      <td>2191</td>\n",
       "      <td>Female</td>\n",
       "      <td>0</td>\n",
       "      <td>Yes</td>\n",
       "      <td>Yes</td>\n",
       "      <td>Fiber optic</td>\n",
       "      <td>No</td>\n",
       "      <td>Yes</td>\n",
       "      <td>Yes</td>\n",
       "      <td>No</td>\n",
       "      <td>Yes</td>\n",
       "      <td>Yes</td>\n",
       "      <td>Yes</td>\n",
       "      <td>Yes</td>\n",
       "      <td>Yes</td>\n",
       "    </tr>\n",
       "    <tr>\n",
       "      <th>7040</th>\n",
       "      <td>4801-JZAZL</td>\n",
       "      <td>Month-to-month</td>\n",
       "      <td>Yes</td>\n",
       "      <td>Electronic check</td>\n",
       "      <td>29.60</td>\n",
       "      <td>346.45</td>\n",
       "      <td>0</td>\n",
       "      <td>337</td>\n",
       "      <td>Female</td>\n",
       "      <td>0</td>\n",
       "      <td>Yes</td>\n",
       "      <td>Yes</td>\n",
       "      <td>DSL</td>\n",
       "      <td>Yes</td>\n",
       "      <td>No</td>\n",
       "      <td>No</td>\n",
       "      <td>No</td>\n",
       "      <td>No</td>\n",
       "      <td>No</td>\n",
       "      <td>Yes</td>\n",
       "      <td>NaN</td>\n",
       "      <td>NaN</td>\n",
       "    </tr>\n",
       "    <tr>\n",
       "      <th>7041</th>\n",
       "      <td>8361-LTMKD</td>\n",
       "      <td>Month-to-month</td>\n",
       "      <td>Yes</td>\n",
       "      <td>Mailed check</td>\n",
       "      <td>74.40</td>\n",
       "      <td>306.60</td>\n",
       "      <td>1</td>\n",
       "      <td>123</td>\n",
       "      <td>Male</td>\n",
       "      <td>1</td>\n",
       "      <td>Yes</td>\n",
       "      <td>No</td>\n",
       "      <td>Fiber optic</td>\n",
       "      <td>No</td>\n",
       "      <td>No</td>\n",
       "      <td>No</td>\n",
       "      <td>No</td>\n",
       "      <td>No</td>\n",
       "      <td>No</td>\n",
       "      <td>Yes</td>\n",
       "      <td>Yes</td>\n",
       "      <td>Yes</td>\n",
       "    </tr>\n",
       "    <tr>\n",
       "      <th>7042</th>\n",
       "      <td>3186-AJIEK</td>\n",
       "      <td>Two year</td>\n",
       "      <td>Yes</td>\n",
       "      <td>Bank transfer (automatic)</td>\n",
       "      <td>105.65</td>\n",
       "      <td>6844.50</td>\n",
       "      <td>0</td>\n",
       "      <td>2010</td>\n",
       "      <td>Male</td>\n",
       "      <td>0</td>\n",
       "      <td>No</td>\n",
       "      <td>No</td>\n",
       "      <td>Fiber optic</td>\n",
       "      <td>Yes</td>\n",
       "      <td>No</td>\n",
       "      <td>Yes</td>\n",
       "      <td>Yes</td>\n",
       "      <td>Yes</td>\n",
       "      <td>Yes</td>\n",
       "      <td>Yes</td>\n",
       "      <td>No</td>\n",
       "      <td>Yes</td>\n",
       "    </tr>\n",
       "  </tbody>\n",
       "</table>\n",
       "<p>7043 rows × 22 columns</p>\n",
       "</div>"
      ],
      "text/plain": [
       "      customerID            Type PaperlessBilling              PaymentMethod  \\\n",
       "0     7590-VHVEG  Month-to-month              Yes           Electronic check   \n",
       "1     5575-GNVDE        One year               No               Mailed check   \n",
       "2     3668-QPYBK  Month-to-month              Yes               Mailed check   \n",
       "3     7795-CFOCW        One year               No  Bank transfer (automatic)   \n",
       "4     9237-HQITU  Month-to-month              Yes           Electronic check   \n",
       "...          ...             ...              ...                        ...   \n",
       "7038  6840-RESVB        One year              Yes               Mailed check   \n",
       "7039  2234-XADUH        One year              Yes    Credit card (automatic)   \n",
       "7040  4801-JZAZL  Month-to-month              Yes           Electronic check   \n",
       "7041  8361-LTMKD  Month-to-month              Yes               Mailed check   \n",
       "7042  3186-AJIEK        Two year              Yes  Bank transfer (automatic)   \n",
       "\n",
       "      MonthlyCharges  TotalCharges  Exited  contract_time  gender  \\\n",
       "0              29.85         29.85       0             31  Female   \n",
       "1              56.95       1889.50       0           1036    Male   \n",
       "2              53.85        108.15       1             61    Male   \n",
       "3              42.30       1840.75       0           1371    Male   \n",
       "4              70.70        151.65       1             61  Female   \n",
       "...              ...           ...     ...            ...     ...   \n",
       "7038           84.80       1990.50       0            730    Male   \n",
       "7039          103.20       7362.90       0           2191  Female   \n",
       "7040           29.60        346.45       0            337  Female   \n",
       "7041           74.40        306.60       1            123    Male   \n",
       "7042          105.65       6844.50       0           2010    Male   \n",
       "\n",
       "      SeniorCitizen Partner Dependents InternetService OnlineSecurity  \\\n",
       "0                 0     Yes         No             DSL             No   \n",
       "1                 0      No         No             DSL            Yes   \n",
       "2                 0      No         No             DSL            Yes   \n",
       "3                 0      No         No             DSL            Yes   \n",
       "4                 0      No         No     Fiber optic             No   \n",
       "...             ...     ...        ...             ...            ...   \n",
       "7038              0     Yes        Yes             DSL            Yes   \n",
       "7039              0     Yes        Yes     Fiber optic             No   \n",
       "7040              0     Yes        Yes             DSL            Yes   \n",
       "7041              1     Yes         No     Fiber optic             No   \n",
       "7042              0      No         No     Fiber optic            Yes   \n",
       "\n",
       "     OnlineBackup DeviceProtection TechSupport StreamingTV StreamingMovies  \\\n",
       "0             Yes               No          No          No              No   \n",
       "1              No              Yes          No          No              No   \n",
       "2             Yes               No          No          No              No   \n",
       "3              No              Yes         Yes          No              No   \n",
       "4              No               No          No          No              No   \n",
       "...           ...              ...         ...         ...             ...   \n",
       "7038           No              Yes         Yes         Yes             Yes   \n",
       "7039          Yes              Yes          No         Yes             Yes   \n",
       "7040           No               No          No          No              No   \n",
       "7041           No               No          No          No              No   \n",
       "7042           No              Yes         Yes         Yes             Yes   \n",
       "\n",
       "     InternetClient MultipleLines PhoneClient  \n",
       "0               Yes           NaN         NaN  \n",
       "1               Yes            No         Yes  \n",
       "2               Yes            No         Yes  \n",
       "3               Yes           NaN         NaN  \n",
       "4               Yes            No         Yes  \n",
       "...             ...           ...         ...  \n",
       "7038            Yes           Yes         Yes  \n",
       "7039            Yes           Yes         Yes  \n",
       "7040            Yes           NaN         NaN  \n",
       "7041            Yes           Yes         Yes  \n",
       "7042            Yes            No         Yes  \n",
       "\n",
       "[7043 rows x 22 columns]"
      ]
     },
     "execution_count": 919,
     "metadata": {},
     "output_type": "execute_result"
    }
   ],
   "source": [
    "# Просмотр всех столбцов таблицы\n",
    "pd.set_option('display.max_columns', None)\n",
    "data_full"
   ]
  },
  {
   "cell_type": "markdown",
   "id": "82cb93c0",
   "metadata": {},
   "source": [
    "Удалим бесполезный для обучения признак customerID"
   ]
  },
  {
   "cell_type": "code",
   "execution_count": 920,
   "id": "61151c6e",
   "metadata": {},
   "outputs": [],
   "source": [
    "data_full = data_full.drop(['customerID'],axis=1)"
   ]
  },
  {
   "cell_type": "markdown",
   "id": "ce6fd589",
   "metadata": {},
   "source": [
    "#### Обработка пропусков"
   ]
  },
  {
   "cell_type": "markdown",
   "id": "6260b7d7",
   "metadata": {},
   "source": [
    "Определим наличие и относительное число пропусков, заполним их или удалим."
   ]
  },
  {
   "cell_type": "code",
   "execution_count": 921,
   "id": "90ad893d",
   "metadata": {},
   "outputs": [
    {
     "data": {
      "text/plain": [
       "Type                0.000000\n",
       "PaperlessBilling    0.000000\n",
       "PaymentMethod       0.000000\n",
       "MonthlyCharges      0.000000\n",
       "TotalCharges        0.000000\n",
       "Exited              0.000000\n",
       "contract_time       0.000000\n",
       "gender              0.000000\n",
       "SeniorCitizen       0.000000\n",
       "Partner             0.000000\n",
       "Dependents          0.000000\n",
       "InternetService     0.216669\n",
       "OnlineSecurity      0.216669\n",
       "OnlineBackup        0.216669\n",
       "DeviceProtection    0.216669\n",
       "TechSupport         0.216669\n",
       "StreamingTV         0.216669\n",
       "StreamingMovies     0.216669\n",
       "InternetClient      0.216669\n",
       "MultipleLines       0.096834\n",
       "PhoneClient         0.096834\n",
       "dtype: float64"
      ]
     },
     "execution_count": 921,
     "metadata": {},
     "output_type": "execute_result"
    }
   ],
   "source": [
    "# Относительное число пропусков\n",
    "data_full.isna().mean()"
   ]
  },
  {
   "cell_type": "markdown",
   "id": "8b4d1691",
   "metadata": {},
   "source": [
    "Столбцы с пропусками являются категориальными. Просмотрим их уникальные значения."
   ]
  },
  {
   "cell_type": "code",
   "execution_count": 922,
   "id": "ddbe4958",
   "metadata": {},
   "outputs": [
    {
     "data": {
      "text/plain": [
       "array(['DSL', 'Fiber optic', nan], dtype=object)"
      ]
     },
     "execution_count": 922,
     "metadata": {},
     "output_type": "execute_result"
    }
   ],
   "source": [
    "# Уникальные значения столбца InternetService\n",
    "data_full['InternetService'].unique()"
   ]
  },
  {
   "cell_type": "code",
   "execution_count": 923,
   "id": "6a7c5674",
   "metadata": {},
   "outputs": [
    {
     "data": {
      "text/plain": [
       "array(['No', 'Yes', nan], dtype=object)"
      ]
     },
     "execution_count": 923,
     "metadata": {},
     "output_type": "execute_result"
    }
   ],
   "source": [
    "# Уникальные значения столбца OnlineSecurity\n",
    "data_full['OnlineSecurity'].unique()"
   ]
  },
  {
   "cell_type": "code",
   "execution_count": 924,
   "id": "d1b073ef",
   "metadata": {},
   "outputs": [
    {
     "data": {
      "text/plain": [
       "array(['Yes', 'No', nan], dtype=object)"
      ]
     },
     "execution_count": 924,
     "metadata": {},
     "output_type": "execute_result"
    }
   ],
   "source": [
    "# Уникальные значения столбца OnlineBackup\n",
    "data_full['OnlineBackup'].unique()"
   ]
  },
  {
   "cell_type": "code",
   "execution_count": 925,
   "id": "f0cfbf4a",
   "metadata": {},
   "outputs": [
    {
     "data": {
      "text/plain": [
       "array(['No', 'Yes', nan], dtype=object)"
      ]
     },
     "execution_count": 925,
     "metadata": {},
     "output_type": "execute_result"
    }
   ],
   "source": [
    "# Уникальные значения столбца DeviceProtection\n",
    "data_full['DeviceProtection'].unique()"
   ]
  },
  {
   "cell_type": "code",
   "execution_count": 926,
   "id": "5683a788",
   "metadata": {},
   "outputs": [
    {
     "data": {
      "text/plain": [
       "array(['No', 'Yes', nan], dtype=object)"
      ]
     },
     "execution_count": 926,
     "metadata": {},
     "output_type": "execute_result"
    }
   ],
   "source": [
    "# Уникальные значения столбца TechSupport\n",
    "data_full['TechSupport'].unique()"
   ]
  },
  {
   "cell_type": "code",
   "execution_count": 927,
   "id": "baf3e102",
   "metadata": {},
   "outputs": [
    {
     "data": {
      "text/plain": [
       "array(['No', 'Yes', nan], dtype=object)"
      ]
     },
     "execution_count": 927,
     "metadata": {},
     "output_type": "execute_result"
    }
   ],
   "source": [
    "# Уникальные значения столбца StreamingTV\n",
    "data_full['StreamingTV'].unique()"
   ]
  },
  {
   "cell_type": "code",
   "execution_count": 928,
   "id": "73e05ee2",
   "metadata": {},
   "outputs": [
    {
     "data": {
      "text/plain": [
       "array(['No', 'Yes', nan], dtype=object)"
      ]
     },
     "execution_count": 928,
     "metadata": {},
     "output_type": "execute_result"
    }
   ],
   "source": [
    "# Уникальные значения столбца StreamingMovies\n",
    "data_full['StreamingMovies'].unique()"
   ]
  },
  {
   "cell_type": "code",
   "execution_count": 929,
   "id": "d8b54259",
   "metadata": {},
   "outputs": [
    {
     "data": {
      "text/plain": [
       "array([nan, 'No', 'Yes'], dtype=object)"
      ]
     },
     "execution_count": 929,
     "metadata": {},
     "output_type": "execute_result"
    }
   ],
   "source": [
    "# Уникальные значения столбца MultipleLines\n",
    "data_full['MultipleLines'].unique()"
   ]
  },
  {
   "cell_type": "markdown",
   "id": "325a46ca",
   "metadata": {},
   "source": [
    "Вывод: Все столбцы с пропусками, кроме столбца InternetService, являются бинарными."
   ]
  },
  {
   "cell_type": "markdown",
   "id": "40415237",
   "metadata": {},
   "source": [
    "<font size=\"3\" color='black'><b>Заполнение пропусков</b></font>"
   ]
  },
  {
   "cell_type": "markdown",
   "id": "6389d0a0",
   "metadata": {},
   "source": [
    "Здесь будут заполнены пропуски в столбцах InternetClient и PhoneClient значениями 'No'. Значения 'Yes' уже были подставлены и таким образом будут получены бинарные признаки отвечающие на вопрос является клиент пользователем интернета или телефона."
   ]
  },
  {
   "cell_type": "code",
   "execution_count": 930,
   "id": "850dabfb",
   "metadata": {},
   "outputs": [],
   "source": [
    "data_full['InternetClient'] = data_full['InternetClient'].fillna('No')"
   ]
  },
  {
   "cell_type": "code",
   "execution_count": 931,
   "id": "537e3088",
   "metadata": {},
   "outputs": [],
   "source": [
    "data_full['PhoneClient'] = data_full['PhoneClient'].fillna('No')"
   ]
  },
  {
   "cell_type": "markdown",
   "id": "da10ccad",
   "metadata": {},
   "source": [
    "Пропуск в столбце InternetService означает отсутствие у клиента данной услуги. Заполнить пропуски можно \"заглушкой\", то есть любым неиспользуемым значением, например 'missing'."
   ]
  },
  {
   "cell_type": "code",
   "execution_count": 932,
   "id": "df13f705",
   "metadata": {},
   "outputs": [],
   "source": [
    "# Заполнение пропусков в столбце InternetService\n",
    "data_full['InternetService'] = data_full['InternetService'].fillna('missing')"
   ]
  },
  {
   "cell_type": "markdown",
   "id": "9efa111e",
   "metadata": {},
   "source": [
    "Столбец OnlineSecurity. Услуга может использоваться только у тех клиентов, которые пользуются Интернетом. Если клиент не пользуется Интернетом, то он не пользуется и услугой OnlineSecurity. Следовательно, пропуски можно заполнить значением 'No'."
   ]
  },
  {
   "cell_type": "code",
   "execution_count": 933,
   "id": "d77efa14",
   "metadata": {},
   "outputs": [],
   "source": [
    "# Заполнение пропусков в столбце OnlineSecurity\n",
    "data_full['OnlineSecurity'] = data_full['OnlineSecurity'].fillna('No')"
   ]
  },
  {
   "cell_type": "markdown",
   "id": "3cd2a4d8",
   "metadata": {},
   "source": [
    "Столбец OnlineBackup. Клиенты, которые не пользуются Интернетом, не пользуются и данной услугой. Следовательно, пропуски можно заполнить значением 'No'."
   ]
  },
  {
   "cell_type": "code",
   "execution_count": 934,
   "id": "0c6b569e",
   "metadata": {},
   "outputs": [],
   "source": [
    "# Заполнение пропусков в столбце OnlineBackup\n",
    "data_full['OnlineBackup'] = data_full['OnlineBackup'].fillna('No')"
   ]
  },
  {
   "cell_type": "markdown",
   "id": "e77355e7",
   "metadata": {},
   "source": [
    "Столбец DeviceProtection. Это услуга защиты компьютера при работе в Интернете предоставлением клиенту по подписке антивируса. Если клиент не пользуется Интернетом, то в данной услуге нет необходимости и нет возможности скачать антивирус из Интернета. Следовательно, пропуски можно заполнить значением 'No'."
   ]
  },
  {
   "cell_type": "code",
   "execution_count": 935,
   "id": "f5615446",
   "metadata": {},
   "outputs": [],
   "source": [
    "# Заполнение пропусков в столбце DeviceProtection\n",
    "data_full['DeviceProtection'] = data_full['DeviceProtection'].fillna('No')"
   ]
  },
  {
   "cell_type": "markdown",
   "id": "9af25b8b",
   "metadata": {},
   "source": [
    "Столбец TechSupport. Это услуга технической поддержки при работе в Интернете. Если клиент не пользуется Интернетом, то в данной услуге нет необходимости. Следовательно, пропуски можно заполнить значением 'No'."
   ]
  },
  {
   "cell_type": "code",
   "execution_count": 936,
   "id": "83151041",
   "metadata": {},
   "outputs": [],
   "source": [
    "# Заполнение пропусков в столбце TechSupport\n",
    "data_full['TechSupport'] = data_full['TechSupport'].fillna('No')"
   ]
  },
  {
   "cell_type": "markdown",
   "id": "452b19fe",
   "metadata": {},
   "source": [
    "Столбец StreamingTV. Это услуга предоставления телевидения через Интернет. Если клиент не пользуется Интернетом, то он не может пользоваться и данной услугой. Следовательно, пропуски можно заполнить значением 'No'."
   ]
  },
  {
   "cell_type": "code",
   "execution_count": 937,
   "id": "b7e2f736",
   "metadata": {},
   "outputs": [],
   "source": [
    "# Заполнение пропусков в столбце StreamingTV\n",
    "data_full['StreamingTV'] = data_full['StreamingTV'].fillna('No')"
   ]
  },
  {
   "cell_type": "markdown",
   "id": "6bfde080",
   "metadata": {},
   "source": [
    "Столбец StreamingMovies. Это услуга просмотра фильмов в Интернете. Если клиент не пользуется Интернетом, то данная услуга ему недоступна. Следовательно, пропуски можно заполнить значением 'No'."
   ]
  },
  {
   "cell_type": "code",
   "execution_count": 938,
   "id": "2494693c",
   "metadata": {},
   "outputs": [],
   "source": [
    "# Заполнение пропусков в столбце StreamingMovies\n",
    "data_full['StreamingMovies'] = data_full['StreamingMovies'].fillna('No')"
   ]
  },
  {
   "cell_type": "markdown",
   "id": "3f9aeab8",
   "metadata": {},
   "source": [
    "Столбец MultipleLines. Это услуга ведения параллельных линий во время звонка. Если клиент не пользуется телефоном, то данная услуга ему недоступна. Следовательно, пропуски можно заполнить значением 'No'."
   ]
  },
  {
   "cell_type": "code",
   "execution_count": 939,
   "id": "4bfd61f7",
   "metadata": {},
   "outputs": [],
   "source": [
    "# Заполнение пропусков в столбце MultipleLines\n",
    "data_full['MultipleLines'] = data_full['MultipleLines'].fillna('No')"
   ]
  },
  {
   "cell_type": "markdown",
   "id": "868028db",
   "metadata": {},
   "source": [
    "Комментарий. После заполнения пропусков в столбце InternetService, пропуски в столбцах OnlineSecurity, OnlineBackup, DeviceProtection, TechSupport, StreamingTV, StreamingMovies, MultipleLines можно было выполнить одним действием data_full = data_full.fillna('No') учитывая тот факт, что:\n",
    "1. Данные столбцы взяты из таблиц data_internet (информация об интернет-услугах) и data_phone (информация об услугах телефонии)\n",
    "2. Если клиент не пользуется Интернетом, то он не пользуется и интернет-услугами, этого клиента нет в таблице data_internet\n",
    "3. Если клиент не пользуется телефоном, то он не пользуется и услугами телефонии, этого клиента нет в таблице data_phone\n",
    "\n",
    "Данный подход более лаконичен."
   ]
  },
  {
   "cell_type": "code",
   "execution_count": 940,
   "id": "7890d408",
   "metadata": {
    "scrolled": true
   },
   "outputs": [
    {
     "data": {
      "text/plain": [
       "Type                0.0\n",
       "PaperlessBilling    0.0\n",
       "PaymentMethod       0.0\n",
       "MonthlyCharges      0.0\n",
       "TotalCharges        0.0\n",
       "Exited              0.0\n",
       "contract_time       0.0\n",
       "gender              0.0\n",
       "SeniorCitizen       0.0\n",
       "Partner             0.0\n",
       "Dependents          0.0\n",
       "InternetService     0.0\n",
       "OnlineSecurity      0.0\n",
       "OnlineBackup        0.0\n",
       "DeviceProtection    0.0\n",
       "TechSupport         0.0\n",
       "StreamingTV         0.0\n",
       "StreamingMovies     0.0\n",
       "InternetClient      0.0\n",
       "MultipleLines       0.0\n",
       "PhoneClient         0.0\n",
       "dtype: float64"
      ]
     },
     "execution_count": 940,
     "metadata": {},
     "output_type": "execute_result"
    }
   ],
   "source": [
    "# Повторный просмотр относительного числа пропусков\n",
    "data_full.isna().mean()"
   ]
  },
  {
   "cell_type": "markdown",
   "id": "51945bc9",
   "metadata": {},
   "source": [
    "Вывод. Пропуски отсутствуют."
   ]
  },
  {
   "cell_type": "markdown",
   "id": "27c52909",
   "metadata": {},
   "source": [
    "#### Кодирование категориальных признаков"
   ]
  },
  {
   "cell_type": "markdown",
   "id": "2dad68c4",
   "metadata": {},
   "source": [
    "Перед обучением модели необходимо выполнить кодирование категориальных признаков."
   ]
  },
  {
   "cell_type": "code",
   "execution_count": 941,
   "id": "ed0e3abd",
   "metadata": {},
   "outputs": [],
   "source": [
    "# Кодирование категориальных признаков \n",
    "data_full_ohe = pd.get_dummies(data_full, drop_first=True)"
   ]
  },
  {
   "cell_type": "markdown",
   "id": "8bcbd246",
   "metadata": {},
   "source": [
    "После кодирования категориальных признаков столбцы типа object удаляются и вместо них создаются целочисленные столбцы, на которых можно обучать модель."
   ]
  },
  {
   "cell_type": "code",
   "execution_count": 942,
   "id": "9f7e7146",
   "metadata": {
    "scrolled": true
   },
   "outputs": [
    {
     "data": {
      "text/plain": [
       "MonthlyCharges                           float64\n",
       "TotalCharges                             float64\n",
       "Exited                                     int32\n",
       "contract_time                              int64\n",
       "SeniorCitizen                              int64\n",
       "Type_One year                               bool\n",
       "Type_Two year                               bool\n",
       "PaperlessBilling_Yes                        bool\n",
       "PaymentMethod_Credit card (automatic)       bool\n",
       "PaymentMethod_Electronic check              bool\n",
       "PaymentMethod_Mailed check                  bool\n",
       "gender_Male                                 bool\n",
       "Partner_Yes                                 bool\n",
       "Dependents_Yes                              bool\n",
       "InternetService_Fiber optic                 bool\n",
       "InternetService_missing                     bool\n",
       "OnlineSecurity_Yes                          bool\n",
       "OnlineBackup_Yes                            bool\n",
       "DeviceProtection_Yes                        bool\n",
       "TechSupport_Yes                             bool\n",
       "StreamingTV_Yes                             bool\n",
       "StreamingMovies_Yes                         bool\n",
       "InternetClient_Yes                          bool\n",
       "MultipleLines_Yes                           bool\n",
       "PhoneClient_Yes                             bool\n",
       "dtype: object"
      ]
     },
     "execution_count": 942,
     "metadata": {},
     "output_type": "execute_result"
    }
   ],
   "source": [
    "# Просмотр типов данных признаков\n",
    "data_full_ohe.dtypes"
   ]
  },
  {
   "cell_type": "markdown",
   "id": "f4834a5e",
   "metadata": {},
   "source": [
    "Все признаки готовы для обучения модели."
   ]
  },
  {
   "cell_type": "markdown",
   "id": "e6e30049",
   "metadata": {},
   "source": [
    "#### Разделение набора данных на обучающую, валидационную и тестовую выборки"
   ]
  },
  {
   "cell_type": "markdown",
   "id": "023a7632",
   "metadata": {},
   "source": [
    "Разделение признаков на целевой и остальные:"
   ]
  },
  {
   "cell_type": "code",
   "execution_count": 943,
   "id": "5de73408",
   "metadata": {},
   "outputs": [],
   "source": [
    "#Целевой признак\n",
    "target = data_full_ohe['Exited']"
   ]
  },
  {
   "cell_type": "code",
   "execution_count": 944,
   "id": "07b9160f",
   "metadata": {},
   "outputs": [],
   "source": [
    "#Основные признаки\n",
    "features = data_full_ohe.drop('Exited', axis=1)"
   ]
  },
  {
   "cell_type": "markdown",
   "id": "f89b2459",
   "metadata": {},
   "source": [
    "Разделение набора данных на обучающую, варидационную и тестовую выборки:"
   ]
  },
  {
   "cell_type": "code",
   "execution_count": 945,
   "id": "17f78d17",
   "metadata": {},
   "outputs": [],
   "source": [
    "#Разбиение данных на обучающую и валидационную выборки\n",
    "features_train, features_valid, target_train, target_valid = train_test_split(features, target, test_size=0.4, random_state=12345)"
   ]
  },
  {
   "cell_type": "code",
   "execution_count": 946,
   "id": "a41db5c6",
   "metadata": {},
   "outputs": [],
   "source": [
    "#Разбиение, в свою очередь, валидационной выборки на валидационную и тестовую\n",
    "features_valid, features_test, target_valid, target_test = train_test_split(features_valid, target_valid, test_size=0.5, random_state=12345)"
   ]
  },
  {
   "cell_type": "markdown",
   "id": "dd828947",
   "metadata": {},
   "source": [
    "Проверка результата разбиения на соответствие пропорциям 60%,20%,20%"
   ]
  },
  {
   "cell_type": "code",
   "execution_count": 947,
   "id": "63fae162",
   "metadata": {},
   "outputs": [
    {
     "data": {
      "text/plain": [
       "(4225,)"
      ]
     },
     "execution_count": 947,
     "metadata": {},
     "output_type": "execute_result"
    }
   ],
   "source": [
    "#Размер обучающей выборки\n",
    "target_train.shape"
   ]
  },
  {
   "cell_type": "code",
   "execution_count": 948,
   "id": "8eb1fa84",
   "metadata": {},
   "outputs": [
    {
     "data": {
      "text/plain": [
       "(1409,)"
      ]
     },
     "execution_count": 948,
     "metadata": {},
     "output_type": "execute_result"
    }
   ],
   "source": [
    "#Размер валидационной выборки\n",
    "target_valid.shape"
   ]
  },
  {
   "cell_type": "code",
   "execution_count": 949,
   "id": "e7ee5142",
   "metadata": {},
   "outputs": [
    {
     "data": {
      "text/plain": [
       "(1409,)"
      ]
     },
     "execution_count": 949,
     "metadata": {},
     "output_type": "execute_result"
    }
   ],
   "source": [
    "#Размер тестовой выборки\n",
    "target_test.shape"
   ]
  },
  {
   "cell_type": "markdown",
   "id": "3010a1df",
   "metadata": {},
   "source": [
    "#### Исследование корреляции численных признаков"
   ]
  },
  {
   "cell_type": "code",
   "execution_count": 950,
   "id": "3c591791",
   "metadata": {
    "scrolled": true
   },
   "outputs": [
    {
     "data": {
      "text/html": [
       "<div>\n",
       "<style scoped>\n",
       "    .dataframe tbody tr th:only-of-type {\n",
       "        vertical-align: middle;\n",
       "    }\n",
       "\n",
       "    .dataframe tbody tr th {\n",
       "        vertical-align: top;\n",
       "    }\n",
       "\n",
       "    .dataframe thead th {\n",
       "        text-align: right;\n",
       "    }\n",
       "</style>\n",
       "<table border=\"1\" class=\"dataframe\">\n",
       "  <thead>\n",
       "    <tr style=\"text-align: right;\">\n",
       "      <th></th>\n",
       "      <th>MonthlyCharges</th>\n",
       "      <th>TotalCharges</th>\n",
       "      <th>contract_time</th>\n",
       "    </tr>\n",
       "  </thead>\n",
       "  <tbody>\n",
       "    <tr>\n",
       "      <th>MonthlyCharges</th>\n",
       "      <td>1.000000</td>\n",
       "      <td>0.651174</td>\n",
       "      <td>0.247754</td>\n",
       "    </tr>\n",
       "    <tr>\n",
       "      <th>TotalCharges</th>\n",
       "      <td>0.651174</td>\n",
       "      <td>1.000000</td>\n",
       "      <td>0.826109</td>\n",
       "    </tr>\n",
       "    <tr>\n",
       "      <th>contract_time</th>\n",
       "      <td>0.247754</td>\n",
       "      <td>0.826109</td>\n",
       "      <td>1.000000</td>\n",
       "    </tr>\n",
       "  </tbody>\n",
       "</table>\n",
       "</div>"
      ],
      "text/plain": [
       "                MonthlyCharges  TotalCharges  contract_time\n",
       "MonthlyCharges        1.000000      0.651174       0.247754\n",
       "TotalCharges          0.651174      1.000000       0.826109\n",
       "contract_time         0.247754      0.826109       1.000000"
      ]
     },
     "execution_count": 950,
     "metadata": {},
     "output_type": "execute_result"
    }
   ],
   "source": [
    "#Применение корреляции Пирсона для изучения зависимости друг от друга численных признаков\n",
    "data_full_ohe[['MonthlyCharges', 'TotalCharges', 'contract_time']].corr()"
   ]
  },
  {
   "cell_type": "markdown",
   "id": "4643aa31",
   "metadata": {},
   "source": [
    "Коэффициент корреляции Пирсона для признаков contract_time и TotalCharges больше 0,8. Данный факт говорит о мультиколлинеарности признаков. Один из этих признаков следует удалить. Очевидно, удалить следует тот признак, важность которого для обучения модели ниже. Важность признаков будет определена далее."
   ]
  },
  {
   "cell_type": "code",
   "execution_count": null,
   "id": "65734053-437d-4359-9d43-29f7fb52ced4",
   "metadata": {},
   "outputs": [],
   "source": []
  },
  {
   "cell_type": "markdown",
   "id": "f860485f-d3b5-4768-8572-8a2f09df3463",
   "metadata": {},
   "source": [
    "#### Исследование важности признаков contract_time и TotalCharges"
   ]
  },
  {
   "cell_type": "markdown",
   "id": "35b256b1-1b96-48d2-b8fc-0f640fd41d88",
   "metadata": {},
   "source": [
    "**Логистическая регрессия**"
   ]
  },
  {
   "cell_type": "markdown",
   "id": "e1f0311f-023f-48a3-b0d6-079ce29dc547",
   "metadata": {},
   "source": [
    "Метод feature_importances_ не работает с моделью логистической регрессии."
   ]
  },
  {
   "cell_type": "markdown",
   "id": "0d0ba4d5-0c3b-4529-9c3c-1cde1a2c4fba",
   "metadata": {},
   "source": [
    "**Решающее дерево**"
   ]
  },
  {
   "cell_type": "code",
   "execution_count": 951,
   "id": "924b10a5-c107-476d-bf1b-c8b552f46df4",
   "metadata": {},
   "outputs": [],
   "source": [
    "#Создание модели решающего дерева\n",
    "model_dtc = DecisionTreeClassifier(random_state=12345, max_depth=7)"
   ]
  },
  {
   "cell_type": "code",
   "execution_count": 952,
   "id": "bad6138f-5f23-499f-bac5-f7ec9e94fa76",
   "metadata": {},
   "outputs": [
    {
     "data": {
      "text/html": [
       "<style>#sk-container-id-23 {color: black;}#sk-container-id-23 pre{padding: 0;}#sk-container-id-23 div.sk-toggleable {background-color: white;}#sk-container-id-23 label.sk-toggleable__label {cursor: pointer;display: block;width: 100%;margin-bottom: 0;padding: 0.3em;box-sizing: border-box;text-align: center;}#sk-container-id-23 label.sk-toggleable__label-arrow:before {content: \"▸\";float: left;margin-right: 0.25em;color: #696969;}#sk-container-id-23 label.sk-toggleable__label-arrow:hover:before {color: black;}#sk-container-id-23 div.sk-estimator:hover label.sk-toggleable__label-arrow:before {color: black;}#sk-container-id-23 div.sk-toggleable__content {max-height: 0;max-width: 0;overflow: hidden;text-align: left;background-color: #f0f8ff;}#sk-container-id-23 div.sk-toggleable__content pre {margin: 0.2em;color: black;border-radius: 0.25em;background-color: #f0f8ff;}#sk-container-id-23 input.sk-toggleable__control:checked~div.sk-toggleable__content {max-height: 200px;max-width: 100%;overflow: auto;}#sk-container-id-23 input.sk-toggleable__control:checked~label.sk-toggleable__label-arrow:before {content: \"▾\";}#sk-container-id-23 div.sk-estimator input.sk-toggleable__control:checked~label.sk-toggleable__label {background-color: #d4ebff;}#sk-container-id-23 div.sk-label input.sk-toggleable__control:checked~label.sk-toggleable__label {background-color: #d4ebff;}#sk-container-id-23 input.sk-hidden--visually {border: 0;clip: rect(1px 1px 1px 1px);clip: rect(1px, 1px, 1px, 1px);height: 1px;margin: -1px;overflow: hidden;padding: 0;position: absolute;width: 1px;}#sk-container-id-23 div.sk-estimator {font-family: monospace;background-color: #f0f8ff;border: 1px dotted black;border-radius: 0.25em;box-sizing: border-box;margin-bottom: 0.5em;}#sk-container-id-23 div.sk-estimator:hover {background-color: #d4ebff;}#sk-container-id-23 div.sk-parallel-item::after {content: \"\";width: 100%;border-bottom: 1px solid gray;flex-grow: 1;}#sk-container-id-23 div.sk-label:hover label.sk-toggleable__label {background-color: #d4ebff;}#sk-container-id-23 div.sk-serial::before {content: \"\";position: absolute;border-left: 1px solid gray;box-sizing: border-box;top: 0;bottom: 0;left: 50%;z-index: 0;}#sk-container-id-23 div.sk-serial {display: flex;flex-direction: column;align-items: center;background-color: white;padding-right: 0.2em;padding-left: 0.2em;position: relative;}#sk-container-id-23 div.sk-item {position: relative;z-index: 1;}#sk-container-id-23 div.sk-parallel {display: flex;align-items: stretch;justify-content: center;background-color: white;position: relative;}#sk-container-id-23 div.sk-item::before, #sk-container-id-23 div.sk-parallel-item::before {content: \"\";position: absolute;border-left: 1px solid gray;box-sizing: border-box;top: 0;bottom: 0;left: 50%;z-index: -1;}#sk-container-id-23 div.sk-parallel-item {display: flex;flex-direction: column;z-index: 1;position: relative;background-color: white;}#sk-container-id-23 div.sk-parallel-item:first-child::after {align-self: flex-end;width: 50%;}#sk-container-id-23 div.sk-parallel-item:last-child::after {align-self: flex-start;width: 50%;}#sk-container-id-23 div.sk-parallel-item:only-child::after {width: 0;}#sk-container-id-23 div.sk-dashed-wrapped {border: 1px dashed gray;margin: 0 0.4em 0.5em 0.4em;box-sizing: border-box;padding-bottom: 0.4em;background-color: white;}#sk-container-id-23 div.sk-label label {font-family: monospace;font-weight: bold;display: inline-block;line-height: 1.2em;}#sk-container-id-23 div.sk-label-container {text-align: center;}#sk-container-id-23 div.sk-container {/* jupyter's `normalize.less` sets `[hidden] { display: none; }` but bootstrap.min.css set `[hidden] { display: none !important; }` so we also need the `!important` here to be able to override the default hidden behavior on the sphinx rendered scikit-learn.org. See: https://github.com/scikit-learn/scikit-learn/issues/21755 */display: inline-block !important;position: relative;}#sk-container-id-23 div.sk-text-repr-fallback {display: none;}</style><div id=\"sk-container-id-23\" class=\"sk-top-container\"><div class=\"sk-text-repr-fallback\"><pre>DecisionTreeClassifier(max_depth=7, random_state=12345)</pre><b>In a Jupyter environment, please rerun this cell to show the HTML representation or trust the notebook. <br />On GitHub, the HTML representation is unable to render, please try loading this page with nbviewer.org.</b></div><div class=\"sk-container\" hidden><div class=\"sk-item\"><div class=\"sk-estimator sk-toggleable\"><input class=\"sk-toggleable__control sk-hidden--visually\" id=\"sk-estimator-id-23\" type=\"checkbox\" checked><label for=\"sk-estimator-id-23\" class=\"sk-toggleable__label sk-toggleable__label-arrow\">DecisionTreeClassifier</label><div class=\"sk-toggleable__content\"><pre>DecisionTreeClassifier(max_depth=7, random_state=12345)</pre></div></div></div></div></div>"
      ],
      "text/plain": [
       "DecisionTreeClassifier(max_depth=7, random_state=12345)"
      ]
     },
     "execution_count": 952,
     "metadata": {},
     "output_type": "execute_result"
    }
   ],
   "source": [
    "#Обучение модели решающего дерева\n",
    "model_dtc.fit(features_train, target_train)"
   ]
  },
  {
   "cell_type": "code",
   "execution_count": 953,
   "id": "5eab2f14-c482-4e2a-ba8f-b033bc4865fb",
   "metadata": {},
   "outputs": [],
   "source": [
    "model_dtc_imp = pd.Series(model_dtc.feature_importances_, features_train.columns)"
   ]
  },
  {
   "cell_type": "code",
   "execution_count": 954,
   "id": "17f1f172-5599-479a-9f73-4c25671f497e",
   "metadata": {},
   "outputs": [
    {
     "data": {
      "image/png": "[encoded data removed]",
      "text/plain": [
       "<Figure size 1600x1400 with 1 Axes>"
      ]
     },
     "metadata": {},
     "output_type": "display_data"
    }
   ],
   "source": [
    "fig, ax = plt.subplots(figsize=(16,14))\n",
    "model_dtc_imp.plot.bar(ax=ax)\n",
    "ax.set_title(\"Важность признаков\")\n",
    "ax.set_ylabel('Важность')\n",
    "fig.tight_layout()"
   ]
  },
  {
   "cell_type": "markdown",
   "id": "bd3b7a84-4382-4fb1-ad64-5328838b8be3",
   "metadata": {},
   "source": [
    "**Случайный лес**"
   ]
  },
  {
   "cell_type": "code",
   "execution_count": 955,
   "id": "e4dbb174-b43e-4dc3-87ad-04f51f73cfee",
   "metadata": {},
   "outputs": [],
   "source": [
    "#Создание модели случайного леса\n",
    "model_rfc = RandomForestClassifier(random_state=12345, n_estimators=1000, max_depth=11)"
   ]
  },
  {
   "cell_type": "code",
   "execution_count": 956,
   "id": "4374489a-a777-4d82-94a7-311c385622f5",
   "metadata": {},
   "outputs": [
    {
     "data": {
      "text/html": [
       "<style>#sk-container-id-24 {color: black;}#sk-container-id-24 pre{padding: 0;}#sk-container-id-24 div.sk-toggleable {background-color: white;}#sk-container-id-24 label.sk-toggleable__label {cursor: pointer;display: block;width: 100%;margin-bottom: 0;padding: 0.3em;box-sizing: border-box;text-align: center;}#sk-container-id-24 label.sk-toggleable__label-arrow:before {content: \"▸\";float: left;margin-right: 0.25em;color: #696969;}#sk-container-id-24 label.sk-toggleable__label-arrow:hover:before {color: black;}#sk-container-id-24 div.sk-estimator:hover label.sk-toggleable__label-arrow:before {color: black;}#sk-container-id-24 div.sk-toggleable__content {max-height: 0;max-width: 0;overflow: hidden;text-align: left;background-color: #f0f8ff;}#sk-container-id-24 div.sk-toggleable__content pre {margin: 0.2em;color: black;border-radius: 0.25em;background-color: #f0f8ff;}#sk-container-id-24 input.sk-toggleable__control:checked~div.sk-toggleable__content {max-height: 200px;max-width: 100%;overflow: auto;}#sk-container-id-24 input.sk-toggleable__control:checked~label.sk-toggleable__label-arrow:before {content: \"▾\";}#sk-container-id-24 div.sk-estimator input.sk-toggleable__control:checked~label.sk-toggleable__label {background-color: #d4ebff;}#sk-container-id-24 div.sk-label input.sk-toggleable__control:checked~label.sk-toggleable__label {background-color: #d4ebff;}#sk-container-id-24 input.sk-hidden--visually {border: 0;clip: rect(1px 1px 1px 1px);clip: rect(1px, 1px, 1px, 1px);height: 1px;margin: -1px;overflow: hidden;padding: 0;position: absolute;width: 1px;}#sk-container-id-24 div.sk-estimator {font-family: monospace;background-color: #f0f8ff;border: 1px dotted black;border-radius: 0.25em;box-sizing: border-box;margin-bottom: 0.5em;}#sk-container-id-24 div.sk-estimator:hover {background-color: #d4ebff;}#sk-container-id-24 div.sk-parallel-item::after {content: \"\";width: 100%;border-bottom: 1px solid gray;flex-grow: 1;}#sk-container-id-24 div.sk-label:hover label.sk-toggleable__label {background-color: #d4ebff;}#sk-container-id-24 div.sk-serial::before {content: \"\";position: absolute;border-left: 1px solid gray;box-sizing: border-box;top: 0;bottom: 0;left: 50%;z-index: 0;}#sk-container-id-24 div.sk-serial {display: flex;flex-direction: column;align-items: center;background-color: white;padding-right: 0.2em;padding-left: 0.2em;position: relative;}#sk-container-id-24 div.sk-item {position: relative;z-index: 1;}#sk-container-id-24 div.sk-parallel {display: flex;align-items: stretch;justify-content: center;background-color: white;position: relative;}#sk-container-id-24 div.sk-item::before, #sk-container-id-24 div.sk-parallel-item::before {content: \"\";position: absolute;border-left: 1px solid gray;box-sizing: border-box;top: 0;bottom: 0;left: 50%;z-index: -1;}#sk-container-id-24 div.sk-parallel-item {display: flex;flex-direction: column;z-index: 1;position: relative;background-color: white;}#sk-container-id-24 div.sk-parallel-item:first-child::after {align-self: flex-end;width: 50%;}#sk-container-id-24 div.sk-parallel-item:last-child::after {align-self: flex-start;width: 50%;}#sk-container-id-24 div.sk-parallel-item:only-child::after {width: 0;}#sk-container-id-24 div.sk-dashed-wrapped {border: 1px dashed gray;margin: 0 0.4em 0.5em 0.4em;box-sizing: border-box;padding-bottom: 0.4em;background-color: white;}#sk-container-id-24 div.sk-label label {font-family: monospace;font-weight: bold;display: inline-block;line-height: 1.2em;}#sk-container-id-24 div.sk-label-container {text-align: center;}#sk-container-id-24 div.sk-container {/* jupyter's `normalize.less` sets `[hidden] { display: none; }` but bootstrap.min.css set `[hidden] { display: none !important; }` so we also need the `!important` here to be able to override the default hidden behavior on the sphinx rendered scikit-learn.org. See: https://github.com/scikit-learn/scikit-learn/issues/21755 */display: inline-block !important;position: relative;}#sk-container-id-24 div.sk-text-repr-fallback {display: none;}</style><div id=\"sk-container-id-24\" class=\"sk-top-container\"><div class=\"sk-text-repr-fallback\"><pre>RandomForestClassifier(max_depth=11, n_estimators=1000, random_state=12345)</pre><b>In a Jupyter environment, please rerun this cell to show the HTML representation or trust the notebook. <br />On GitHub, the HTML representation is unable to render, please try loading this page with nbviewer.org.</b></div><div class=\"sk-container\" hidden><div class=\"sk-item\"><div class=\"sk-estimator sk-toggleable\"><input class=\"sk-toggleable__control sk-hidden--visually\" id=\"sk-estimator-id-24\" type=\"checkbox\" checked><label for=\"sk-estimator-id-24\" class=\"sk-toggleable__label sk-toggleable__label-arrow\">RandomForestClassifier</label><div class=\"sk-toggleable__content\"><pre>RandomForestClassifier(max_depth=11, n_estimators=1000, random_state=12345)</pre></div></div></div></div></div>"
      ],
      "text/plain": [
       "RandomForestClassifier(max_depth=11, n_estimators=1000, random_state=12345)"
      ]
     },
     "execution_count": 956,
     "metadata": {},
     "output_type": "execute_result"
    }
   ],
   "source": [
    "#Обучение модели случайного леса\n",
    "model_rfc.fit(features_train, target_train)"
   ]
  },
  {
   "cell_type": "code",
   "execution_count": 957,
   "id": "557d6901-7987-4de8-87f1-654ee3d51500",
   "metadata": {},
   "outputs": [],
   "source": [
    "#Определение важности признаков\n",
    "model_rfc_imp = pd.Series(model_rfc.feature_importances_, features_train.columns)"
   ]
  },
  {
   "cell_type": "code",
   "execution_count": 958,
   "id": "8f8ca8f0-7692-46e4-b5f3-b0349d7a8db3",
   "metadata": {},
   "outputs": [
    {
     "data": {
      "image/png": "[encoded data removed]",
      "text/plain": [
       "<Figure size 1600x1400 with 1 Axes>"
      ]
     },
     "metadata": {},
     "output_type": "display_data"
    }
   ],
   "source": [
    "#Построение графика важности признаков\n",
    "fig, ax = plt.subplots(figsize=(16,14))\n",
    "model_rfc_imp.plot.bar(ax=ax)\n",
    "ax.set_title(\"Важность признаков\")\n",
    "ax.set_ylabel('Важность')\n",
    "fig.tight_layout()"
   ]
  },
  {
   "cell_type": "markdown",
   "id": "e6f5a832-5f9e-4e65-9b1c-d8dce54eecea",
   "metadata": {},
   "source": [
    "**CatBoostClassifier**"
   ]
  },
  {
   "cell_type": "markdown",
   "id": "498b3ab8-bf19-49ea-a6ff-2685143c9286",
   "metadata": {},
   "source": [
    "Поскольку данная модель сама применяет кодирование категориальных признаков, используем для нее незакодированный набор данных data_full и отдельно подготовим выборки."
   ]
  },
  {
   "cell_type": "markdown",
   "id": "8c0a80d5-5bea-4576-8ce9-953f22ec23b0",
   "metadata": {},
   "source": [
    "**Разделение признаков на целевой и остальные:**"
   ]
  },
  {
   "cell_type": "code",
   "execution_count": 959,
   "id": "828b6074-ed68-49ee-b009-faae621353fa",
   "metadata": {},
   "outputs": [],
   "source": [
    "#Целевой признак\n",
    "target_cbc = data_full['Exited']"
   ]
  },
  {
   "cell_type": "code",
   "execution_count": 960,
   "id": "c4a59bf1-5cbf-4ab3-b725-04dd2bef6cfc",
   "metadata": {},
   "outputs": [],
   "source": [
    "#Основные признаки\n",
    "features_cbc = data_full.drop('Exited', axis=1)"
   ]
  },
  {
   "cell_type": "markdown",
   "id": "511efa45-20a1-449b-a710-37343ba6207b",
   "metadata": {},
   "source": [
    "**Разделение набора данных на обучающую, валидационную и тестовую выборки:**"
   ]
  },
  {
   "cell_type": "code",
   "execution_count": 961,
   "id": "e1075cfe-e4a6-4603-812b-d794d871f2da",
   "metadata": {},
   "outputs": [],
   "source": [
    "#Разбиение данных на обучающую и валидационную выборки\n",
    "features_cbc_train, features_cbc_valid, target_cbc_train, target_cbc_valid = train_test_split(features_cbc, target_cbc, test_size=0.4, random_state=12345)"
   ]
  },
  {
   "cell_type": "code",
   "execution_count": 962,
   "id": "8cffe120-67bc-4cde-b59a-b9fb7b0598c1",
   "metadata": {},
   "outputs": [],
   "source": [
    "#Разбиение, в свою очередь, валидационной выборки на валидационную и тестовую\n",
    "features_cbc_valid, features_cbc_test, target_cbc_valid, target_cbc_test = train_test_split(features_cbc_valid, target_cbc_valid, test_size=0.5, random_state=12345)"
   ]
  },
  {
   "cell_type": "markdown",
   "id": "a6ccc0e7-e843-4276-8429-99001e9ab2f8",
   "metadata": {},
   "source": [
    "**Оценка важности признаков**"
   ]
  },
  {
   "cell_type": "code",
   "execution_count": 963,
   "id": "82c15fc5-53d7-4d83-a81c-382a65b70ec2",
   "metadata": {},
   "outputs": [],
   "source": [
    "#Создание модели\n",
    "model_cbc = CatBoostClassifier(learning_rate=0.3, iterations=170) "
   ]
  },
  {
   "cell_type": "code",
   "execution_count": 964,
   "id": "9dc504d4-f702-4bb3-a680-64e13fd79b97",
   "metadata": {},
   "outputs": [],
   "source": [
    "# Формирование списка категориальных признаков для передачи модели\n",
    "cat_features = ['Type',  'PaymentMethod',  'SeniorCitizen',  'Dependents', 'PaperlessBilling','gender',\n",
    "                'Partner','DeviceProtection','InternetService', 'OnlineSecurity', 'OnlineBackup',  'TechSupport',\n",
    "               'StreamingTV', 'StreamingMovies', 'InternetClient', 'MultipleLines', 'PhoneClient']"
   ]
  },
  {
   "cell_type": "code",
   "execution_count": 965,
   "id": "01045c25-6b72-4db3-9676-068ae761866f",
   "metadata": {},
   "outputs": [
    {
     "name": "stdout",
     "output_type": "stream",
     "text": [
      "0:\tlearn: 0.5441330\ttotal: 31.6ms\tremaining: 5.34s\n",
      "169:\tlearn: 0.1548889\ttotal: 4.88s\tremaining: 0us\n"
     ]
    },
    {
     "data": {
      "text/plain": [
       "<catboost.core.CatBoostClassifier at 0x24fd8e40190>"
      ]
     },
     "execution_count": 965,
     "metadata": {},
     "output_type": "execute_result"
    }
   ],
   "source": [
    "#Обучение модели\n",
    "model_cbc.fit(features_cbc_train, target_cbc_train, cat_features=cat_features, verbose=170) "
   ]
  },
  {
   "cell_type": "code",
   "execution_count": 966,
   "id": "d6670aa1-ab40-417f-ad89-be707f313832",
   "metadata": {},
   "outputs": [],
   "source": [
    "#Определение важности признаков\n",
    "model_cbc_imp = pd.Series(model_cbc.feature_importances_, features_cbc_train.columns)"
   ]
  },
  {
   "cell_type": "code",
   "execution_count": 967,
   "id": "855adbc8-6ba6-4e69-8079-5b59d5076c3f",
   "metadata": {},
   "outputs": [
    {
     "data": {
      "image/png": "[encoded data removed]",
      "text/plain": [
       "<Figure size 1600x1400 with 1 Axes>"
      ]
     },
     "metadata": {},
     "output_type": "display_data"
    }
   ],
   "source": [
    "#Построение графика важности признаков\n",
    "fig, ax = plt.subplots(figsize=(16,14))\n",
    "model_cbc_imp.plot.bar(ax=ax)\n",
    "ax.set_title(\"Важность признаков\")\n",
    "ax.set_ylabel('Важность')\n",
    "fig.tight_layout()"
   ]
  },
  {
   "cell_type": "markdown",
   "id": "2f5586f9-d12c-4ca4-ac92-eea418dc41da",
   "metadata": {},
   "source": [
    "**Вывод:**\n",
    "Для всех моделей важность признака TotalCharges ниже, чем важность признака contract_time."
   ]
  },
  {
   "cell_type": "code",
   "execution_count": null,
   "id": "a32cd73f-387e-4868-8e1d-f1850ad6530b",
   "metadata": {},
   "outputs": [],
   "source": []
  },
  {
   "cell_type": "markdown",
   "id": "154b3e06-8f3f-4245-8315-7e51995f43ae",
   "metadata": {},
   "source": [
    "#### Удаление признака TotalCharges"
   ]
  },
  {
   "cell_type": "markdown",
   "id": "78ebcdab-ccd3-4dbe-9758-d56d8be00ca6",
   "metadata": {},
   "source": [
    "Удаление признака TotalCharge будет выполнено отдельно для моделей логистической регрессии, решающего дерева, случайного леса, и отдельно для модели CatBoostClassifier."
   ]
  },
  {
   "cell_type": "code",
   "execution_count": 968,
   "id": "b1d549dd-9585-45e7-b1c6-835926d86063",
   "metadata": {},
   "outputs": [],
   "source": [
    "data_full_ohe = data_full_ohe.drop(['TotalCharges'],axis=1)"
   ]
  },
  {
   "cell_type": "code",
   "execution_count": 969,
   "id": "59b1564e-6f20-497c-b4d6-615afad99d52",
   "metadata": {},
   "outputs": [],
   "source": [
    "data_full = data_full.drop(['TotalCharges'],axis=1)"
   ]
  },
  {
   "cell_type": "markdown",
   "id": "0a7e6441-0dad-4b7b-89c7-c8c4608020ff",
   "metadata": {},
   "source": [
    "#### Повторное разделение набора данных на выборки"
   ]
  },
  {
   "cell_type": "code",
   "execution_count": 970,
   "id": "41a09c93-147c-447c-8503-9e1014bf4d64",
   "metadata": {},
   "outputs": [],
   "source": [
    "#Основные признаки\n",
    "features = data_full_ohe.drop('Exited', axis=1)"
   ]
  },
  {
   "cell_type": "code",
   "execution_count": 971,
   "id": "6de02555-0e2b-41c9-bc5b-59d95812d5e1",
   "metadata": {},
   "outputs": [],
   "source": [
    "#Разбиение данных на обучающую и валидационную выборки\n",
    "features_train, features_valid, target_train, target_valid = train_test_split(features, target, test_size=0.4, random_state=12345)"
   ]
  },
  {
   "cell_type": "code",
   "execution_count": 972,
   "id": "ac978b20-3e35-4610-aca6-eb361116d3a1",
   "metadata": {},
   "outputs": [],
   "source": [
    "#Разбиение, в свою очередь, валидационной выборки на валидационную и тестовую\n",
    "features_valid, features_test, target_valid, target_test = train_test_split(features_valid, target_valid, test_size=0.5, random_state=12345)"
   ]
  },
  {
   "cell_type": "markdown",
   "id": "ad72ffaf-ad88-46ff-adc6-a14e33966b24",
   "metadata": {},
   "source": [
    "#### Повторное разделение данных на выборки для модели CatBoostClassifier"
   ]
  },
  {
   "cell_type": "code",
   "execution_count": 973,
   "id": "b4183f83-fa94-4ffd-9c8a-2336423a4d6c",
   "metadata": {},
   "outputs": [],
   "source": [
    "#Основные признаки\n",
    "features_cbc = data_full.drop('Exited', axis=1)"
   ]
  },
  {
   "cell_type": "code",
   "execution_count": 974,
   "id": "28ad4f91-b07b-4dbf-adf9-abe539c80683",
   "metadata": {},
   "outputs": [],
   "source": [
    "#Разбиение данных на обучающую и валидационную выборки\n",
    "features_cbc_train, features_cbc_valid, target_cbc_train, target_cbc_valid = train_test_split(features_cbc, target_cbc, test_size=0.4, random_state=12345)"
   ]
  },
  {
   "cell_type": "code",
   "execution_count": 975,
   "id": "80df2e4b-2bdc-4683-a85d-6efad1dfd41c",
   "metadata": {},
   "outputs": [],
   "source": [
    "#Разбиение, в свою очередь, валидационной выборки на валидационную и тестовую\n",
    "features_cbc_valid, features_cbc_test, target_cbc_valid, target_cbc_test = train_test_split(features_cbc_valid, target_cbc_valid, test_size=0.5, random_state=12345)"
   ]
  },
  {
   "cell_type": "code",
   "execution_count": null,
   "id": "d7f3d8ca-36d9-42c9-9951-3a20b6ffb759",
   "metadata": {},
   "outputs": [],
   "source": []
  },
  {
   "cell_type": "code",
   "execution_count": null,
   "id": "a0788222-32d7-4751-88b5-acbdd1b3546d",
   "metadata": {},
   "outputs": [],
   "source": []
  },
  {
   "cell_type": "code",
   "execution_count": null,
   "id": "7d60d927-9658-4e56-be2d-acdec1476f26",
   "metadata": {},
   "outputs": [],
   "source": []
  },
  {
   "cell_type": "code",
   "execution_count": null,
   "id": "d2b7604b-6005-4ef9-b364-ec9f7939cc65",
   "metadata": {},
   "outputs": [],
   "source": []
  },
  {
   "cell_type": "code",
   "execution_count": null,
   "id": "41affc97-3546-4a70-8b72-57de95447004",
   "metadata": {},
   "outputs": [],
   "source": []
  },
  {
   "cell_type": "code",
   "execution_count": null,
   "id": "58d81fa9-6493-4e37-9d12-b08d59f7333a",
   "metadata": {},
   "outputs": [],
   "source": []
  },
  {
   "cell_type": "markdown",
   "id": "e161dbe2-63b2-42d8-a0d6-7bb4c3de494b",
   "metadata": {},
   "source": [
    "## Создание и обучение модели"
   ]
  },
  {
   "cell_type": "markdown",
   "id": "31d13bff",
   "metadata": {},
   "source": [
    "### Логистическая регрессия"
   ]
  },
  {
   "cell_type": "markdown",
   "id": "9fccf694",
   "metadata": {},
   "source": [
    "Логистическая регрессия. Создадим, обучим и проверим с помощью AUC-ROC и accuracy модель логистической регрессии."
   ]
  },
  {
   "cell_type": "code",
   "execution_count": 976,
   "id": "cb0cfba0",
   "metadata": {},
   "outputs": [],
   "source": [
    "#Создание модели логистической регрессии\n",
    "model_lr = LogisticRegression(random_state=12345, solver='liblinear')"
   ]
  },
  {
   "cell_type": "code",
   "execution_count": 977,
   "id": "735bf171",
   "metadata": {},
   "outputs": [
    {
     "data": {
      "text/html": [
       "<style>#sk-container-id-25 {color: black;}#sk-container-id-25 pre{padding: 0;}#sk-container-id-25 div.sk-toggleable {background-color: white;}#sk-container-id-25 label.sk-toggleable__label {cursor: pointer;display: block;width: 100%;margin-bottom: 0;padding: 0.3em;box-sizing: border-box;text-align: center;}#sk-container-id-25 label.sk-toggleable__label-arrow:before {content: \"▸\";float: left;margin-right: 0.25em;color: #696969;}#sk-container-id-25 label.sk-toggleable__label-arrow:hover:before {color: black;}#sk-container-id-25 div.sk-estimator:hover label.sk-toggleable__label-arrow:before {color: black;}#sk-container-id-25 div.sk-toggleable__content {max-height: 0;max-width: 0;overflow: hidden;text-align: left;background-color: #f0f8ff;}#sk-container-id-25 div.sk-toggleable__content pre {margin: 0.2em;color: black;border-radius: 0.25em;background-color: #f0f8ff;}#sk-container-id-25 input.sk-toggleable__control:checked~div.sk-toggleable__content {max-height: 200px;max-width: 100%;overflow: auto;}#sk-container-id-25 input.sk-toggleable__control:checked~label.sk-toggleable__label-arrow:before {content: \"▾\";}#sk-container-id-25 div.sk-estimator input.sk-toggleable__control:checked~label.sk-toggleable__label {background-color: #d4ebff;}#sk-container-id-25 div.sk-label input.sk-toggleable__control:checked~label.sk-toggleable__label {background-color: #d4ebff;}#sk-container-id-25 input.sk-hidden--visually {border: 0;clip: rect(1px 1px 1px 1px);clip: rect(1px, 1px, 1px, 1px);height: 1px;margin: -1px;overflow: hidden;padding: 0;position: absolute;width: 1px;}#sk-container-id-25 div.sk-estimator {font-family: monospace;background-color: #f0f8ff;border: 1px dotted black;border-radius: 0.25em;box-sizing: border-box;margin-bottom: 0.5em;}#sk-container-id-25 div.sk-estimator:hover {background-color: #d4ebff;}#sk-container-id-25 div.sk-parallel-item::after {content: \"\";width: 100%;border-bottom: 1px solid gray;flex-grow: 1;}#sk-container-id-25 div.sk-label:hover label.sk-toggleable__label {background-color: #d4ebff;}#sk-container-id-25 div.sk-serial::before {content: \"\";position: absolute;border-left: 1px solid gray;box-sizing: border-box;top: 0;bottom: 0;left: 50%;z-index: 0;}#sk-container-id-25 div.sk-serial {display: flex;flex-direction: column;align-items: center;background-color: white;padding-right: 0.2em;padding-left: 0.2em;position: relative;}#sk-container-id-25 div.sk-item {position: relative;z-index: 1;}#sk-container-id-25 div.sk-parallel {display: flex;align-items: stretch;justify-content: center;background-color: white;position: relative;}#sk-container-id-25 div.sk-item::before, #sk-container-id-25 div.sk-parallel-item::before {content: \"\";position: absolute;border-left: 1px solid gray;box-sizing: border-box;top: 0;bottom: 0;left: 50%;z-index: -1;}#sk-container-id-25 div.sk-parallel-item {display: flex;flex-direction: column;z-index: 1;position: relative;background-color: white;}#sk-container-id-25 div.sk-parallel-item:first-child::after {align-self: flex-end;width: 50%;}#sk-container-id-25 div.sk-parallel-item:last-child::after {align-self: flex-start;width: 50%;}#sk-container-id-25 div.sk-parallel-item:only-child::after {width: 0;}#sk-container-id-25 div.sk-dashed-wrapped {border: 1px dashed gray;margin: 0 0.4em 0.5em 0.4em;box-sizing: border-box;padding-bottom: 0.4em;background-color: white;}#sk-container-id-25 div.sk-label label {font-family: monospace;font-weight: bold;display: inline-block;line-height: 1.2em;}#sk-container-id-25 div.sk-label-container {text-align: center;}#sk-container-id-25 div.sk-container {/* jupyter's `normalize.less` sets `[hidden] { display: none; }` but bootstrap.min.css set `[hidden] { display: none !important; }` so we also need the `!important` here to be able to override the default hidden behavior on the sphinx rendered scikit-learn.org. See: https://github.com/scikit-learn/scikit-learn/issues/21755 */display: inline-block !important;position: relative;}#sk-container-id-25 div.sk-text-repr-fallback {display: none;}</style><div id=\"sk-container-id-25\" class=\"sk-top-container\"><div class=\"sk-text-repr-fallback\"><pre>LogisticRegression(random_state=12345, solver=&#x27;liblinear&#x27;)</pre><b>In a Jupyter environment, please rerun this cell to show the HTML representation or trust the notebook. <br />On GitHub, the HTML representation is unable to render, please try loading this page with nbviewer.org.</b></div><div class=\"sk-container\" hidden><div class=\"sk-item\"><div class=\"sk-estimator sk-toggleable\"><input class=\"sk-toggleable__control sk-hidden--visually\" id=\"sk-estimator-id-25\" type=\"checkbox\" checked><label for=\"sk-estimator-id-25\" class=\"sk-toggleable__label sk-toggleable__label-arrow\">LogisticRegression</label><div class=\"sk-toggleable__content\"><pre>LogisticRegression(random_state=12345, solver=&#x27;liblinear&#x27;)</pre></div></div></div></div></div>"
      ],
      "text/plain": [
       "LogisticRegression(random_state=12345, solver='liblinear')"
      ]
     },
     "execution_count": 977,
     "metadata": {},
     "output_type": "execute_result"
    }
   ],
   "source": [
    "#Обучение модели логистической регрессии\n",
    "model_lr.fit(features_train, target_train)"
   ]
  },
  {
   "cell_type": "code",
   "execution_count": 978,
   "id": "2e36a5ea",
   "metadata": {},
   "outputs": [],
   "source": [
    "#Предсказания модели логистической регрессии\n",
    "predicted_valid = model_lr.predict(features_valid)"
   ]
  },
  {
   "cell_type": "markdown",
   "id": "fe7a791a",
   "metadata": {},
   "source": [
    "AUC-ROC логистической регрессии"
   ]
  },
  {
   "cell_type": "code",
   "execution_count": 979,
   "id": "defd8900",
   "metadata": {},
   "outputs": [],
   "source": [
    "#Вычисление вероятностей классов каждого объекта валидационной выборки\n",
    "probabilities_valid = model_lr.predict_proba(features_valid)"
   ]
  },
  {
   "cell_type": "code",
   "execution_count": 980,
   "id": "a6c2017f",
   "metadata": {},
   "outputs": [],
   "source": [
    "#Вероятность класса 1 у каждого объекта валидационной выборки\n",
    "probabilities_one_valid = probabilities_valid[:, 1]"
   ]
  },
  {
   "cell_type": "code",
   "execution_count": 981,
   "id": "29a4e787",
   "metadata": {},
   "outputs": [],
   "source": [
    "#Вычисление значения AUC-ROC для логистической регрессии\n",
    "auc_roc = roc_auc_score(target_valid, probabilities_one_valid)"
   ]
  },
  {
   "cell_type": "code",
   "execution_count": 982,
   "id": "49016ae1",
   "metadata": {},
   "outputs": [
    {
     "name": "stdout",
     "output_type": "stream",
     "text": [
      "AUC-ROC: 0.8515474849227914\n"
     ]
    }
   ],
   "source": [
    "#Вывод полученного значения AUC-ROC\n",
    "print(\"AUC-ROC:\", auc_roc)"
   ]
  },
  {
   "cell_type": "markdown",
   "id": "c1981c16",
   "metadata": {},
   "source": [
    "Accuracy логистической регрессии"
   ]
  },
  {
   "cell_type": "code",
   "execution_count": 983,
   "id": "8620e9a9",
   "metadata": {},
   "outputs": [],
   "source": [
    "# Вычисление значения accuracy\n",
    "accuracy = accuracy_score(target_valid, predicted_valid) "
   ]
  },
  {
   "cell_type": "code",
   "execution_count": 984,
   "id": "7d8288d2",
   "metadata": {},
   "outputs": [
    {
     "name": "stdout",
     "output_type": "stream",
     "text": [
      "accuracy: 0.8026969481902059\n"
     ]
    }
   ],
   "source": [
    "# Вывод полученного значения accuracy\n",
    "print(\"accuracy:\", accuracy)"
   ]
  },
  {
   "cell_type": "markdown",
   "id": "1f2eaff8",
   "metadata": {},
   "source": [
    "### Решающее дерево"
   ]
  },
  {
   "cell_type": "markdown",
   "id": "0649902b",
   "metadata": {},
   "source": [
    "Решающее дерево. Создадим, обучим и проверим с помощью AUC-ROC и accuracy модель решающего дерева."
   ]
  },
  {
   "cell_type": "code",
   "execution_count": 985,
   "id": "48f0714f",
   "metadata": {},
   "outputs": [],
   "source": [
    "#Создание модели решающего дерева\n",
    "model_dtc = DecisionTreeClassifier(random_state=12345, max_depth=7)"
   ]
  },
  {
   "cell_type": "code",
   "execution_count": 986,
   "id": "d6e80042",
   "metadata": {},
   "outputs": [
    {
     "data": {
      "text/html": [
       "<style>#sk-container-id-26 {color: black;}#sk-container-id-26 pre{padding: 0;}#sk-container-id-26 div.sk-toggleable {background-color: white;}#sk-container-id-26 label.sk-toggleable__label {cursor: pointer;display: block;width: 100%;margin-bottom: 0;padding: 0.3em;box-sizing: border-box;text-align: center;}#sk-container-id-26 label.sk-toggleable__label-arrow:before {content: \"▸\";float: left;margin-right: 0.25em;color: #696969;}#sk-container-id-26 label.sk-toggleable__label-arrow:hover:before {color: black;}#sk-container-id-26 div.sk-estimator:hover label.sk-toggleable__label-arrow:before {color: black;}#sk-container-id-26 div.sk-toggleable__content {max-height: 0;max-width: 0;overflow: hidden;text-align: left;background-color: #f0f8ff;}#sk-container-id-26 div.sk-toggleable__content pre {margin: 0.2em;color: black;border-radius: 0.25em;background-color: #f0f8ff;}#sk-container-id-26 input.sk-toggleable__control:checked~div.sk-toggleable__content {max-height: 200px;max-width: 100%;overflow: auto;}#sk-container-id-26 input.sk-toggleable__control:checked~label.sk-toggleable__label-arrow:before {content: \"▾\";}#sk-container-id-26 div.sk-estimator input.sk-toggleable__control:checked~label.sk-toggleable__label {background-color: #d4ebff;}#sk-container-id-26 div.sk-label input.sk-toggleable__control:checked~label.sk-toggleable__label {background-color: #d4ebff;}#sk-container-id-26 input.sk-hidden--visually {border: 0;clip: rect(1px 1px 1px 1px);clip: rect(1px, 1px, 1px, 1px);height: 1px;margin: -1px;overflow: hidden;padding: 0;position: absolute;width: 1px;}#sk-container-id-26 div.sk-estimator {font-family: monospace;background-color: #f0f8ff;border: 1px dotted black;border-radius: 0.25em;box-sizing: border-box;margin-bottom: 0.5em;}#sk-container-id-26 div.sk-estimator:hover {background-color: #d4ebff;}#sk-container-id-26 div.sk-parallel-item::after {content: \"\";width: 100%;border-bottom: 1px solid gray;flex-grow: 1;}#sk-container-id-26 div.sk-label:hover label.sk-toggleable__label {background-color: #d4ebff;}#sk-container-id-26 div.sk-serial::before {content: \"\";position: absolute;border-left: 1px solid gray;box-sizing: border-box;top: 0;bottom: 0;left: 50%;z-index: 0;}#sk-container-id-26 div.sk-serial {display: flex;flex-direction: column;align-items: center;background-color: white;padding-right: 0.2em;padding-left: 0.2em;position: relative;}#sk-container-id-26 div.sk-item {position: relative;z-index: 1;}#sk-container-id-26 div.sk-parallel {display: flex;align-items: stretch;justify-content: center;background-color: white;position: relative;}#sk-container-id-26 div.sk-item::before, #sk-container-id-26 div.sk-parallel-item::before {content: \"\";position: absolute;border-left: 1px solid gray;box-sizing: border-box;top: 0;bottom: 0;left: 50%;z-index: -1;}#sk-container-id-26 div.sk-parallel-item {display: flex;flex-direction: column;z-index: 1;position: relative;background-color: white;}#sk-container-id-26 div.sk-parallel-item:first-child::after {align-self: flex-end;width: 50%;}#sk-container-id-26 div.sk-parallel-item:last-child::after {align-self: flex-start;width: 50%;}#sk-container-id-26 div.sk-parallel-item:only-child::after {width: 0;}#sk-container-id-26 div.sk-dashed-wrapped {border: 1px dashed gray;margin: 0 0.4em 0.5em 0.4em;box-sizing: border-box;padding-bottom: 0.4em;background-color: white;}#sk-container-id-26 div.sk-label label {font-family: monospace;font-weight: bold;display: inline-block;line-height: 1.2em;}#sk-container-id-26 div.sk-label-container {text-align: center;}#sk-container-id-26 div.sk-container {/* jupyter's `normalize.less` sets `[hidden] { display: none; }` but bootstrap.min.css set `[hidden] { display: none !important; }` so we also need the `!important` here to be able to override the default hidden behavior on the sphinx rendered scikit-learn.org. See: https://github.com/scikit-learn/scikit-learn/issues/21755 */display: inline-block !important;position: relative;}#sk-container-id-26 div.sk-text-repr-fallback {display: none;}</style><div id=\"sk-container-id-26\" class=\"sk-top-container\"><div class=\"sk-text-repr-fallback\"><pre>DecisionTreeClassifier(max_depth=7, random_state=12345)</pre><b>In a Jupyter environment, please rerun this cell to show the HTML representation or trust the notebook. <br />On GitHub, the HTML representation is unable to render, please try loading this page with nbviewer.org.</b></div><div class=\"sk-container\" hidden><div class=\"sk-item\"><div class=\"sk-estimator sk-toggleable\"><input class=\"sk-toggleable__control sk-hidden--visually\" id=\"sk-estimator-id-26\" type=\"checkbox\" checked><label for=\"sk-estimator-id-26\" class=\"sk-toggleable__label sk-toggleable__label-arrow\">DecisionTreeClassifier</label><div class=\"sk-toggleable__content\"><pre>DecisionTreeClassifier(max_depth=7, random_state=12345)</pre></div></div></div></div></div>"
      ],
      "text/plain": [
       "DecisionTreeClassifier(max_depth=7, random_state=12345)"
      ]
     },
     "execution_count": 986,
     "metadata": {},
     "output_type": "execute_result"
    }
   ],
   "source": [
    "#Обучение модели решающего дерева\n",
    "model_dtc.fit(features_train, target_train)"
   ]
  },
  {
   "cell_type": "markdown",
   "id": "eee91b81-4705-4050-a727-bb320eaba5ec",
   "metadata": {},
   "source": [
    "Оценим важность признаков с помощью метода feature_importances_"
   ]
  },
  {
   "cell_type": "code",
   "execution_count": 987,
   "id": "6b8143d6",
   "metadata": {},
   "outputs": [],
   "source": [
    "#Предсказания модели решающего дерева\n",
    "predicted_valid = model_dtc.predict(features_valid)"
   ]
  },
  {
   "cell_type": "markdown",
   "id": "eaf20585",
   "metadata": {},
   "source": [
    "AUC-ROC решающего дерева"
   ]
  },
  {
   "cell_type": "code",
   "execution_count": 988,
   "id": "bbe7d492",
   "metadata": {},
   "outputs": [],
   "source": [
    "#Вычисление вероятностей классов каждого объекта валидационной выборки\n",
    "probabilities_valid = model_dtc.predict_proba(features_valid)"
   ]
  },
  {
   "cell_type": "code",
   "execution_count": 989,
   "id": "1ffef57e",
   "metadata": {},
   "outputs": [],
   "source": [
    "#Вероятность класса 1 у каждого объекта валидационной выборки\n",
    "probabilities_one_valid = probabilities_valid[:, 1]"
   ]
  },
  {
   "cell_type": "code",
   "execution_count": 990,
   "id": "8756de6e",
   "metadata": {},
   "outputs": [],
   "source": [
    "#Вычисление значения AUC-ROC для модели решающего дерева\n",
    "auc_roc = roc_auc_score(target_valid, probabilities_one_valid)"
   ]
  },
  {
   "cell_type": "code",
   "execution_count": 991,
   "id": "bc25fa7b",
   "metadata": {},
   "outputs": [
    {
     "name": "stdout",
     "output_type": "stream",
     "text": [
      "AUC-ROC: 0.8442370142283987\n"
     ]
    }
   ],
   "source": [
    "#Вывод полученного значения AUC-ROC\n",
    "print(\"AUC-ROC:\", auc_roc)"
   ]
  },
  {
   "cell_type": "markdown",
   "id": "f721d9a0",
   "metadata": {},
   "source": [
    "Accuracy решающего дерева"
   ]
  },
  {
   "cell_type": "code",
   "execution_count": 992,
   "id": "7acccdba",
   "metadata": {},
   "outputs": [],
   "source": [
    "# Вычисление значения accuracy\n",
    "accuracy = accuracy_score(target_valid, predicted_valid) "
   ]
  },
  {
   "cell_type": "code",
   "execution_count": 993,
   "id": "b03027e5",
   "metadata": {},
   "outputs": [
    {
     "name": "stdout",
     "output_type": "stream",
     "text": [
      "accuracy: 0.8119233498935415\n"
     ]
    }
   ],
   "source": [
    "# Вывод полученного значения accuracy\n",
    "print(\"accuracy:\", accuracy)"
   ]
  },
  {
   "cell_type": "markdown",
   "id": "659cd1aa",
   "metadata": {},
   "source": [
    "### Случайный лес"
   ]
  },
  {
   "cell_type": "markdown",
   "id": "720e7b68",
   "metadata": {},
   "source": [
    "Случайный лес. Создадим, обучим и проверим с помощью AUC-ROC и accuracy модель случайного леса."
   ]
  },
  {
   "cell_type": "code",
   "execution_count": 1125,
   "id": "4f6996f4",
   "metadata": {},
   "outputs": [],
   "source": [
    "#Создание модели случайного леса\n",
    "model_rfc = RandomForestClassifier(random_state=12345, n_estimators=150, max_depth=10)"
   ]
  },
  {
   "cell_type": "code",
   "execution_count": 1126,
   "id": "e9cebaea",
   "metadata": {},
   "outputs": [
    {
     "data": {
      "text/html": [
       "<style>#sk-container-id-40 {color: black;}#sk-container-id-40 pre{padding: 0;}#sk-container-id-40 div.sk-toggleable {background-color: white;}#sk-container-id-40 label.sk-toggleable__label {cursor: pointer;display: block;width: 100%;margin-bottom: 0;padding: 0.3em;box-sizing: border-box;text-align: center;}#sk-container-id-40 label.sk-toggleable__label-arrow:before {content: \"▸\";float: left;margin-right: 0.25em;color: #696969;}#sk-container-id-40 label.sk-toggleable__label-arrow:hover:before {color: black;}#sk-container-id-40 div.sk-estimator:hover label.sk-toggleable__label-arrow:before {color: black;}#sk-container-id-40 div.sk-toggleable__content {max-height: 0;max-width: 0;overflow: hidden;text-align: left;background-color: #f0f8ff;}#sk-container-id-40 div.sk-toggleable__content pre {margin: 0.2em;color: black;border-radius: 0.25em;background-color: #f0f8ff;}#sk-container-id-40 input.sk-toggleable__control:checked~div.sk-toggleable__content {max-height: 200px;max-width: 100%;overflow: auto;}#sk-container-id-40 input.sk-toggleable__control:checked~label.sk-toggleable__label-arrow:before {content: \"▾\";}#sk-container-id-40 div.sk-estimator input.sk-toggleable__control:checked~label.sk-toggleable__label {background-color: #d4ebff;}#sk-container-id-40 div.sk-label input.sk-toggleable__control:checked~label.sk-toggleable__label {background-color: #d4ebff;}#sk-container-id-40 input.sk-hidden--visually {border: 0;clip: rect(1px 1px 1px 1px);clip: rect(1px, 1px, 1px, 1px);height: 1px;margin: -1px;overflow: hidden;padding: 0;position: absolute;width: 1px;}#sk-container-id-40 div.sk-estimator {font-family: monospace;background-color: #f0f8ff;border: 1px dotted black;border-radius: 0.25em;box-sizing: border-box;margin-bottom: 0.5em;}#sk-container-id-40 div.sk-estimator:hover {background-color: #d4ebff;}#sk-container-id-40 div.sk-parallel-item::after {content: \"\";width: 100%;border-bottom: 1px solid gray;flex-grow: 1;}#sk-container-id-40 div.sk-label:hover label.sk-toggleable__label {background-color: #d4ebff;}#sk-container-id-40 div.sk-serial::before {content: \"\";position: absolute;border-left: 1px solid gray;box-sizing: border-box;top: 0;bottom: 0;left: 50%;z-index: 0;}#sk-container-id-40 div.sk-serial {display: flex;flex-direction: column;align-items: center;background-color: white;padding-right: 0.2em;padding-left: 0.2em;position: relative;}#sk-container-id-40 div.sk-item {position: relative;z-index: 1;}#sk-container-id-40 div.sk-parallel {display: flex;align-items: stretch;justify-content: center;background-color: white;position: relative;}#sk-container-id-40 div.sk-item::before, #sk-container-id-40 div.sk-parallel-item::before {content: \"\";position: absolute;border-left: 1px solid gray;box-sizing: border-box;top: 0;bottom: 0;left: 50%;z-index: -1;}#sk-container-id-40 div.sk-parallel-item {display: flex;flex-direction: column;z-index: 1;position: relative;background-color: white;}#sk-container-id-40 div.sk-parallel-item:first-child::after {align-self: flex-end;width: 50%;}#sk-container-id-40 div.sk-parallel-item:last-child::after {align-self: flex-start;width: 50%;}#sk-container-id-40 div.sk-parallel-item:only-child::after {width: 0;}#sk-container-id-40 div.sk-dashed-wrapped {border: 1px dashed gray;margin: 0 0.4em 0.5em 0.4em;box-sizing: border-box;padding-bottom: 0.4em;background-color: white;}#sk-container-id-40 div.sk-label label {font-family: monospace;font-weight: bold;display: inline-block;line-height: 1.2em;}#sk-container-id-40 div.sk-label-container {text-align: center;}#sk-container-id-40 div.sk-container {/* jupyter's `normalize.less` sets `[hidden] { display: none; }` but bootstrap.min.css set `[hidden] { display: none !important; }` so we also need the `!important` here to be able to override the default hidden behavior on the sphinx rendered scikit-learn.org. See: https://github.com/scikit-learn/scikit-learn/issues/21755 */display: inline-block !important;position: relative;}#sk-container-id-40 div.sk-text-repr-fallback {display: none;}</style><div id=\"sk-container-id-40\" class=\"sk-top-container\"><div class=\"sk-text-repr-fallback\"><pre>RandomForestClassifier(max_depth=10, n_estimators=150, random_state=12345)</pre><b>In a Jupyter environment, please rerun this cell to show the HTML representation or trust the notebook. <br />On GitHub, the HTML representation is unable to render, please try loading this page with nbviewer.org.</b></div><div class=\"sk-container\" hidden><div class=\"sk-item\"><div class=\"sk-estimator sk-toggleable\"><input class=\"sk-toggleable__control sk-hidden--visually\" id=\"sk-estimator-id-40\" type=\"checkbox\" checked><label for=\"sk-estimator-id-40\" class=\"sk-toggleable__label sk-toggleable__label-arrow\">RandomForestClassifier</label><div class=\"sk-toggleable__content\"><pre>RandomForestClassifier(max_depth=10, n_estimators=150, random_state=12345)</pre></div></div></div></div></div>"
      ],
      "text/plain": [
       "RandomForestClassifier(max_depth=10, n_estimators=150, random_state=12345)"
      ]
     },
     "execution_count": 1126,
     "metadata": {},
     "output_type": "execute_result"
    }
   ],
   "source": [
    "#Обучение модели случайного леса\n",
    "model_rfc.fit(features_train, target_train)"
   ]
  },
  {
   "cell_type": "code",
   "execution_count": 1127,
   "id": "bf6fe267",
   "metadata": {},
   "outputs": [],
   "source": [
    "#Предсказания модели случайного леса\n",
    "predicted_valid = model_rfc.predict(features_valid)"
   ]
  },
  {
   "cell_type": "markdown",
   "id": "fd55c86e",
   "metadata": {},
   "source": [
    "AUC-ROC случайного леса"
   ]
  },
  {
   "cell_type": "code",
   "execution_count": 1128,
   "id": "b156e69b",
   "metadata": {},
   "outputs": [],
   "source": [
    "#Вычисление вероятностей классов каждого объекта валидационной выборки\n",
    "probabilities_valid = model_rfc.predict_proba(features_valid)"
   ]
  },
  {
   "cell_type": "code",
   "execution_count": 1129,
   "id": "fc6cc287",
   "metadata": {},
   "outputs": [],
   "source": [
    "#Вероятность класса 1 у каждого объекта валидационной выборки\n",
    "probabilities_one_valid = probabilities_valid[:, 1]"
   ]
  },
  {
   "cell_type": "code",
   "execution_count": 1130,
   "id": "1bc0645a",
   "metadata": {},
   "outputs": [],
   "source": [
    "#Вычисление значения AUC-ROC для модели случайного леса\n",
    "auc_roc = roc_auc_score(target_valid, probabilities_one_valid)"
   ]
  },
  {
   "cell_type": "code",
   "execution_count": 1131,
   "id": "27e17972",
   "metadata": {},
   "outputs": [
    {
     "name": "stdout",
     "output_type": "stream",
     "text": [
      "AUC-ROC: 0.8609430201318332\n"
     ]
    }
   ],
   "source": [
    "#Вывод полученного значения AUC-ROC\n",
    "print(\"AUC-ROC:\", auc_roc)"
   ]
  },
  {
   "cell_type": "markdown",
   "id": "b8c93b5f",
   "metadata": {},
   "source": [
    "Accuracy случайного леса"
   ]
  },
  {
   "cell_type": "code",
   "execution_count": 1132,
   "id": "ed0de779",
   "metadata": {},
   "outputs": [],
   "source": [
    "# Вычисление значения accuracy\n",
    "accuracy = accuracy_score(target_valid, predicted_valid) "
   ]
  },
  {
   "cell_type": "code",
   "execution_count": 1133,
   "id": "80a8d14d",
   "metadata": {},
   "outputs": [
    {
     "name": "stdout",
     "output_type": "stream",
     "text": [
      "accuracy: 0.8161816891412349\n"
     ]
    }
   ],
   "source": [
    "# Вывод полученного значения accuracy\n",
    "print(\"accuracy:\", accuracy)"
   ]
  },
  {
   "cell_type": "markdown",
   "id": "47ddb8e8",
   "metadata": {},
   "source": [
    "### CatBoostClassifier"
   ]
  },
  {
   "cell_type": "code",
   "execution_count": 1003,
   "id": "ca6056dd",
   "metadata": {},
   "outputs": [],
   "source": [
    "#Создание модели\n",
    "model_cbc = CatBoostClassifier(learning_rate=0.3, iterations=200) "
   ]
  },
  {
   "cell_type": "code",
   "execution_count": 1004,
   "id": "dfe6572a",
   "metadata": {},
   "outputs": [],
   "source": [
    "# Формирование списка категориальных признаков для передачи модели\n",
    "cat_features = ['Type',  'PaymentMethod',  'SeniorCitizen',  'Dependents', 'PaperlessBilling','gender',\n",
    "                'Partner','DeviceProtection','InternetService', 'OnlineSecurity', 'OnlineBackup',  'TechSupport',\n",
    "               'StreamingTV', 'StreamingMovies', 'InternetClient', 'MultipleLines', 'PhoneClient']"
   ]
  },
  {
   "cell_type": "code",
   "execution_count": 1005,
   "id": "de682c60",
   "metadata": {},
   "outputs": [
    {
     "name": "stdout",
     "output_type": "stream",
     "text": [
      "0:\tlearn: 0.5375207\ttotal: 29ms\tremaining: 5.76s\n",
      "170:\tlearn: 0.1603912\ttotal: 5.21s\tremaining: 883ms\n",
      "199:\tlearn: 0.1446877\ttotal: 6.14s\tremaining: 0us\n"
     ]
    },
    {
     "data": {
      "text/plain": [
       "<catboost.core.CatBoostClassifier at 0x24fd90e7750>"
      ]
     },
     "execution_count": 1005,
     "metadata": {},
     "output_type": "execute_result"
    }
   ],
   "source": [
    "#Обучение модели\n",
    "model_cbc.fit(features_cbc_train, target_cbc_train, cat_features=cat_features, verbose=170) "
   ]
  },
  {
   "cell_type": "code",
   "execution_count": 1006,
   "id": "0bb98320",
   "metadata": {},
   "outputs": [],
   "source": [
    "#Предсказания модели на валидационной выборке\n",
    "predicted_cbc_valid = model_cbc.predict(features_cbc_valid)"
   ]
  },
  {
   "cell_type": "markdown",
   "id": "bc628b7d",
   "metadata": {},
   "source": [
    "AUC-ROC CatBoostClassifier"
   ]
  },
  {
   "cell_type": "code",
   "execution_count": 1007,
   "id": "8dbcb613",
   "metadata": {},
   "outputs": [],
   "source": [
    "#Вычисление вероятностей классов каждого объекта валидационной выборки\n",
    "probabilities_valid = model_cbc.predict_proba(features_cbc_valid)"
   ]
  },
  {
   "cell_type": "code",
   "execution_count": 1008,
   "id": "24e9f70f",
   "metadata": {},
   "outputs": [],
   "source": [
    "#Вероятность класса 1 у каждого объекта валидационной выборки\n",
    "probabilities_one_valid = probabilities_valid[:, 1]"
   ]
  },
  {
   "cell_type": "code",
   "execution_count": 1009,
   "id": "2ad62e84",
   "metadata": {},
   "outputs": [],
   "source": [
    "#Вычисление значения AUC-ROC для модели CatBoostClassifier\n",
    "auc_roc = roc_auc_score(target_cbc_valid, probabilities_one_valid)"
   ]
  },
  {
   "cell_type": "code",
   "execution_count": 1010,
   "id": "274d252a",
   "metadata": {},
   "outputs": [
    {
     "name": "stdout",
     "output_type": "stream",
     "text": [
      "AUC-ROC: 0.910968000122351\n"
     ]
    }
   ],
   "source": [
    "#Вывод полученного значения AUC-ROC\n",
    "print(\"AUC-ROC:\", auc_roc)"
   ]
  },
  {
   "cell_type": "markdown",
   "id": "de3976e1",
   "metadata": {},
   "source": [
    "Accuracy CatBoostClassifier"
   ]
  },
  {
   "cell_type": "code",
   "execution_count": 1011,
   "id": "d2c2ac27",
   "metadata": {},
   "outputs": [],
   "source": [
    "# Вычисление значения accuracy\n",
    "accuracy = accuracy_score(target_cbc_valid, predicted_cbc_valid) "
   ]
  },
  {
   "cell_type": "code",
   "execution_count": 1012,
   "id": "bd2d8bea",
   "metadata": {},
   "outputs": [
    {
     "name": "stdout",
     "output_type": "stream",
     "text": [
      "accuracy: 0.8559261887863733\n"
     ]
    }
   ],
   "source": [
    "# Вывод полученного значения accuracy\n",
    "print(\"accuracy:\", accuracy)"
   ]
  },
  {
   "cell_type": "markdown",
   "id": "0eef325a",
   "metadata": {},
   "source": [
    "## Проверка модели на тестовой выборке"
   ]
  },
  {
   "cell_type": "markdown",
   "id": "546714c7",
   "metadata": {},
   "source": [
    "### Логистическая регрессия"
   ]
  },
  {
   "cell_type": "code",
   "execution_count": 1013,
   "id": "4482db0f",
   "metadata": {},
   "outputs": [],
   "source": [
    "#Предсказания модели логистической регрессии на тестовой выборке\n",
    "predicted_test = model_lr.predict(features_test)"
   ]
  },
  {
   "cell_type": "markdown",
   "id": "f197feb2",
   "metadata": {},
   "source": [
    "AUC-ROC логистической регрессии"
   ]
  },
  {
   "cell_type": "code",
   "execution_count": 1014,
   "id": "a725a721",
   "metadata": {},
   "outputs": [],
   "source": [
    "#Вычисление вероятностей классов каждого объекта тестовой выборки\n",
    "probabilities_test = model_lr.predict_proba(features_test)"
   ]
  },
  {
   "cell_type": "code",
   "execution_count": 1015,
   "id": "46889101",
   "metadata": {},
   "outputs": [],
   "source": [
    "#Вероятность класса 1 у каждого объекта тестовой выборки\n",
    "probabilities_one_test = probabilities_test[:, 1]"
   ]
  },
  {
   "cell_type": "code",
   "execution_count": 1016,
   "id": "f4795c00",
   "metadata": {},
   "outputs": [],
   "source": [
    "#Вычисление значения AUC-ROC для модели логистической регрессии на тестовой выборке\n",
    "auc_roc = roc_auc_score(target_test, probabilities_one_test)"
   ]
  },
  {
   "cell_type": "code",
   "execution_count": 1017,
   "id": "42a74170",
   "metadata": {},
   "outputs": [
    {
     "name": "stdout",
     "output_type": "stream",
     "text": [
      "AUC-ROC: 0.8205496381160764\n"
     ]
    }
   ],
   "source": [
    "#Вывод полученного значения AUC-ROC\n",
    "print(\"AUC-ROC:\", auc_roc)"
   ]
  },
  {
   "cell_type": "markdown",
   "id": "41b00610",
   "metadata": {},
   "source": [
    "Accuracy логистической регрессии"
   ]
  },
  {
   "cell_type": "code",
   "execution_count": 1018,
   "id": "bd9f5fcd",
   "metadata": {},
   "outputs": [],
   "source": [
    "# Вычисление значения accuracy\n",
    "accuracy = accuracy_score(target_test, predicted_test) "
   ]
  },
  {
   "cell_type": "code",
   "execution_count": 1019,
   "id": "231cc839",
   "metadata": {},
   "outputs": [
    {
     "name": "stdout",
     "output_type": "stream",
     "text": [
      "accuracy: 0.7899219304471257\n"
     ]
    }
   ],
   "source": [
    "# Вывод полученного значения accuracy\n",
    "print(\"accuracy:\", accuracy)"
   ]
  },
  {
   "cell_type": "code",
   "execution_count": null,
   "id": "34fbe734",
   "metadata": {},
   "outputs": [],
   "source": []
  },
  {
   "cell_type": "markdown",
   "id": "5d13df05",
   "metadata": {},
   "source": [
    "### Решающее дерево"
   ]
  },
  {
   "cell_type": "code",
   "execution_count": 1020,
   "id": "bf556e9d",
   "metadata": {},
   "outputs": [],
   "source": [
    "#Предсказания модели решающего дерева на тестовой выборке\n",
    "predicted_test = model_dtc.predict(features_test)"
   ]
  },
  {
   "cell_type": "markdown",
   "id": "41772be8-d8da-4f67-8aee-34d8bfaa5a7f",
   "metadata": {},
   "source": [
    "AUC-ROC решающего дерева"
   ]
  },
  {
   "cell_type": "code",
   "execution_count": 1021,
   "id": "c85a3311",
   "metadata": {},
   "outputs": [],
   "source": [
    "#Вычисление вероятностей классов каждого объекта тестовой выборки\n",
    "probabilities_test = model_dtc.predict_proba(features_test)"
   ]
  },
  {
   "cell_type": "code",
   "execution_count": 1022,
   "id": "b737d27b",
   "metadata": {},
   "outputs": [],
   "source": [
    "#Вероятность класса 1 у каждого объекта тестовой выборки\n",
    "probabilities_one_test = probabilities_test[:, 1]"
   ]
  },
  {
   "cell_type": "code",
   "execution_count": 1023,
   "id": "fbdc7ef6",
   "metadata": {},
   "outputs": [],
   "source": [
    "#Вычисление значения AUC-ROC для модели решающего дерева на тестовой выборке\n",
    "auc_roc = roc_auc_score(target_test, probabilities_one_test)"
   ]
  },
  {
   "cell_type": "code",
   "execution_count": 1024,
   "id": "799a3d4c",
   "metadata": {},
   "outputs": [
    {
     "name": "stdout",
     "output_type": "stream",
     "text": [
      "AUC-ROC: 0.8352592446274545\n"
     ]
    }
   ],
   "source": [
    "#Вывод полученного значения AUC-ROC\n",
    "print(\"AUC-ROC:\", auc_roc)"
   ]
  },
  {
   "cell_type": "markdown",
   "id": "8b4ba881",
   "metadata": {},
   "source": [
    "Accuracy решающего дерева"
   ]
  },
  {
   "cell_type": "code",
   "execution_count": 1025,
   "id": "49ff8385",
   "metadata": {},
   "outputs": [],
   "source": [
    "# Вычисление значения accuracy\n",
    "accuracy = accuracy_score(target_test, predicted_test) "
   ]
  },
  {
   "cell_type": "code",
   "execution_count": 1026,
   "id": "801b4b6b",
   "metadata": {},
   "outputs": [
    {
     "name": "stdout",
     "output_type": "stream",
     "text": [
      "accuracy: 0.8140525195173882\n"
     ]
    }
   ],
   "source": [
    "# Вывод полученного значения accuracy\n",
    "print(\"accuracy:\", accuracy)"
   ]
  },
  {
   "cell_type": "markdown",
   "id": "7adf6fea",
   "metadata": {},
   "source": [
    "### Случайный лес"
   ]
  },
  {
   "cell_type": "code",
   "execution_count": 1134,
   "id": "a544781b",
   "metadata": {},
   "outputs": [],
   "source": [
    "#Предсказания модели случайного леса на тестовой выборке\n",
    "predicted_test = model_rfc.predict(features_test)"
   ]
  },
  {
   "cell_type": "markdown",
   "id": "e8e7bfb7",
   "metadata": {},
   "source": [
    "AUC-ROC случайного леса"
   ]
  },
  {
   "cell_type": "code",
   "execution_count": 1135,
   "id": "29525f68",
   "metadata": {},
   "outputs": [],
   "source": [
    "#Вычисление вероятностей классов каждого объекта тестовой выборки\n",
    "probabilities_test = model_rfc.predict_proba(features_test)"
   ]
  },
  {
   "cell_type": "code",
   "execution_count": 1136,
   "id": "643be941",
   "metadata": {},
   "outputs": [],
   "source": [
    "#Вероятность класса 1 у каждого объекта тестовой выборки\n",
    "probabilities_one_test = probabilities_test[:, 1]"
   ]
  },
  {
   "cell_type": "code",
   "execution_count": 1137,
   "id": "fe79ef89",
   "metadata": {},
   "outputs": [],
   "source": [
    "#Вычисление значения AUC-ROC для модели случайного леса на тестовой выборке\n",
    "auc_roc = roc_auc_score(target_test, probabilities_one_test)"
   ]
  },
  {
   "cell_type": "code",
   "execution_count": 1138,
   "id": "82fdc13e",
   "metadata": {},
   "outputs": [
    {
     "name": "stdout",
     "output_type": "stream",
     "text": [
      "AUC-ROC: 0.8381879973054969\n"
     ]
    }
   ],
   "source": [
    "#Вывод полученного значения AUC-ROC\n",
    "print(\"AUC-ROC:\", auc_roc)"
   ]
  },
  {
   "cell_type": "markdown",
   "id": "592d448c",
   "metadata": {},
   "source": [
    "Accuracy случайного леса"
   ]
  },
  {
   "cell_type": "code",
   "execution_count": 1139,
   "id": "d70d0238",
   "metadata": {},
   "outputs": [],
   "source": [
    "# Вычисление значения accuracy\n",
    "accuracy = accuracy_score(target_test, predicted_test) "
   ]
  },
  {
   "cell_type": "code",
   "execution_count": 1140,
   "id": "4b56981b",
   "metadata": {},
   "outputs": [
    {
     "name": "stdout",
     "output_type": "stream",
     "text": [
      "accuracy: 0.8019872249822569\n"
     ]
    }
   ],
   "source": [
    "# Вывод полученного значения accuracy\n",
    "print(\"accuracy:\", accuracy)"
   ]
  },
  {
   "cell_type": "markdown",
   "id": "0535ce5b",
   "metadata": {},
   "source": [
    "####  CatBoostClassifier"
   ]
  },
  {
   "cell_type": "code",
   "execution_count": 1034,
   "id": "a77cbb35",
   "metadata": {},
   "outputs": [],
   "source": [
    "#Предсказания модели на тестовой выборке\n",
    "predicted_cbc_test = model_cbc.predict(features_cbc_test)"
   ]
  },
  {
   "cell_type": "markdown",
   "id": "1a2504ea",
   "metadata": {},
   "source": [
    "AUC-ROC CatBoostClassifier"
   ]
  },
  {
   "cell_type": "code",
   "execution_count": 1035,
   "id": "9fdddbd7",
   "metadata": {},
   "outputs": [],
   "source": [
    "#Вычисление вероятностей классов каждого объекта валидационной выборки\n",
    "probabilities_test = model_cbc.predict_proba(features_cbc_test)"
   ]
  },
  {
   "cell_type": "code",
   "execution_count": 1036,
   "id": "b34854ce",
   "metadata": {},
   "outputs": [],
   "source": [
    "#Вероятность класса 1 у каждого объекта валидационной выборки\n",
    "probabilities_one_test = probabilities_test[:, 1]"
   ]
  },
  {
   "cell_type": "code",
   "execution_count": 1037,
   "id": "aa64f8a6",
   "metadata": {},
   "outputs": [],
   "source": [
    "#Вычисление значения AUC-ROC для модели CatBoostClassifier\n",
    "auc_roc = roc_auc_score(target_cbc_test, probabilities_one_test)"
   ]
  },
  {
   "cell_type": "code",
   "execution_count": 1038,
   "id": "3a0ae6f8",
   "metadata": {},
   "outputs": [
    {
     "name": "stdout",
     "output_type": "stream",
     "text": [
      "AUC-ROC: 0.905744305836233\n"
     ]
    }
   ],
   "source": [
    "#Вывод полученного значения AUC-ROC\n",
    "print(\"AUC-ROC:\", auc_roc)"
   ]
  },
  {
   "cell_type": "markdown",
   "id": "996d87fc",
   "metadata": {},
   "source": [
    "Это лучшее значение метрики AUC-ROC на тестовой выборке."
   ]
  },
  {
   "cell_type": "markdown",
   "id": "5e909b40",
   "metadata": {},
   "source": [
    "Accuracy CatBoostClassifier"
   ]
  },
  {
   "cell_type": "code",
   "execution_count": 1039,
   "id": "019cb754",
   "metadata": {},
   "outputs": [],
   "source": [
    "# Вычисление значения accuracy\n",
    "accuracy = accuracy_score(target_cbc_test, predicted_cbc_test) "
   ]
  },
  {
   "cell_type": "code",
   "execution_count": 1040,
   "id": "d95265f6",
   "metadata": {},
   "outputs": [
    {
     "name": "stdout",
     "output_type": "stream",
     "text": [
      "accuracy: 0.8630234208658624\n"
     ]
    }
   ],
   "source": [
    "# Вывод полученного значения accuracy\n",
    "print(\"accuracy:\", accuracy)"
   ]
  },
  {
   "cell_type": "markdown",
   "id": "9fd6cfee",
   "metadata": {},
   "source": [
    "## Вывод"
   ]
  },
  {
   "cell_type": "markdown",
   "id": "f1fb16b0",
   "metadata": {},
   "source": [
    "Были созданы и обучены модели логистической регрессии, решающего дерева, случайного леса и CatBoostClassifier. Каждая модель была проверена с помощью двух метрик: AUC-ROC и, дополнительно, accuracy. Наилучшие значения метрик на тестовой выборке были достигнуты с помощью модели CatBoostClassifier.  Наилучшее значение AUC-ROC = 0.905744305836233, и accuracy = 0.8630234208658624."
   ]
  },
  {
   "cell_type": "markdown",
   "id": "0f9b819b",
   "metadata": {},
   "source": []
  }
 ],
 "metadata": {
  "ExecuteTimeLog": [
   {
    "duration": 2676,
    "start_time": "2022-07-05T08:19:15.778Z"
   },
   {
    "duration": 67,
    "start_time": "2022-07-05T08:19:36.223Z"
   },
   {
    "duration": 73,
    "start_time": "2022-07-05T08:19:54.085Z"
   },
   {
    "duration": 33,
    "start_time": "2022-07-05T08:19:55.730Z"
   },
   {
    "duration": 10,
    "start_time": "2022-07-05T08:20:25.989Z"
   },
   {
    "duration": 18,
    "start_time": "2022-07-05T08:20:28.449Z"
   },
   {
    "duration": 8,
    "start_time": "2022-07-05T08:20:29.299Z"
   },
   {
    "duration": 15,
    "start_time": "2022-07-05T08:20:30.299Z"
   },
   {
    "duration": 8,
    "start_time": "2022-07-05T08:20:31.051Z"
   },
   {
    "duration": 11,
    "start_time": "2022-07-05T08:20:32.662Z"
   },
   {
    "duration": 7,
    "start_time": "2022-07-05T08:20:33.424Z"
   },
   {
    "duration": 5,
    "start_time": "2022-07-05T08:24:03.208Z"
   },
   {
    "duration": 22,
    "start_time": "2022-07-05T08:24:03.948Z"
   },
   {
    "duration": 8,
    "start_time": "2022-07-05T08:24:44.984Z"
   },
   {
    "duration": 5,
    "start_time": "2022-07-05T08:24:48.953Z"
   },
   {
    "duration": 9,
    "start_time": "2022-07-05T08:24:52.117Z"
   },
   {
    "duration": 9,
    "start_time": "2022-07-05T08:24:52.574Z"
   },
   {
    "duration": 9,
    "start_time": "2022-07-05T08:24:52.781Z"
   },
   {
    "duration": 5,
    "start_time": "2022-07-05T08:24:53.524Z"
   },
   {
    "duration": 7,
    "start_time": "2022-07-05T08:24:54.415Z"
   },
   {
    "duration": 28,
    "start_time": "2022-07-05T08:24:54.580Z"
   },
   {
    "duration": 4,
    "start_time": "2022-07-05T08:24:54.906Z"
   },
   {
    "duration": 5,
    "start_time": "2022-07-05T08:24:55.095Z"
   },
   {
    "duration": 5,
    "start_time": "2022-07-05T08:24:55.264Z"
   },
   {
    "duration": 5,
    "start_time": "2022-07-05T08:24:55.451Z"
   },
   {
    "duration": 5,
    "start_time": "2022-07-05T08:24:55.655Z"
   },
   {
    "duration": 4,
    "start_time": "2022-07-05T08:24:55.829Z"
   },
   {
    "duration": 4,
    "start_time": "2022-07-05T08:24:56.012Z"
   },
   {
    "duration": 6,
    "start_time": "2022-07-05T08:24:56.332Z"
   },
   {
    "duration": 10,
    "start_time": "2022-07-05T08:24:57.112Z"
   },
   {
    "duration": 9,
    "start_time": "2022-07-05T08:24:57.614Z"
   },
   {
    "duration": 7,
    "start_time": "2022-07-05T08:24:57.785Z"
   },
   {
    "duration": 5,
    "start_time": "2022-07-05T08:24:58.094Z"
   },
   {
    "duration": 5,
    "start_time": "2022-07-05T08:24:58.255Z"
   },
   {
    "duration": 12,
    "start_time": "2022-07-05T08:24:59.239Z"
   },
   {
    "duration": 13,
    "start_time": "2022-07-05T08:24:59.414Z"
   },
   {
    "duration": 12,
    "start_time": "2022-07-05T08:24:59.573Z"
   },
   {
    "duration": 31,
    "start_time": "2022-07-05T08:24:59.742Z"
   },
   {
    "duration": 27,
    "start_time": "2022-07-05T08:25:00.280Z"
   },
   {
    "duration": 8,
    "start_time": "2022-07-05T08:25:00.661Z"
   },
   {
    "duration": 14,
    "start_time": "2022-07-05T08:25:01.722Z"
   },
   {
    "duration": 5,
    "start_time": "2022-07-05T08:25:02.309Z"
   },
   {
    "duration": 5,
    "start_time": "2022-07-05T08:25:02.552Z"
   },
   {
    "duration": 7,
    "start_time": "2022-07-05T08:25:02.755Z"
   },
   {
    "duration": 5,
    "start_time": "2022-07-05T08:25:02.929Z"
   },
   {
    "duration": 5,
    "start_time": "2022-07-05T08:25:03.076Z"
   },
   {
    "duration": 5,
    "start_time": "2022-07-05T08:25:03.226Z"
   },
   {
    "duration": 7,
    "start_time": "2022-07-05T08:25:03.395Z"
   },
   {
    "duration": 4,
    "start_time": "2022-07-05T08:25:03.599Z"
   },
   {
    "duration": 4,
    "start_time": "2022-07-05T08:25:05.027Z"
   },
   {
    "duration": 4,
    "start_time": "2022-07-05T08:25:05.370Z"
   },
   {
    "duration": 5,
    "start_time": "2022-07-05T08:25:05.776Z"
   },
   {
    "duration": 4,
    "start_time": "2022-07-05T08:25:06.204Z"
   },
   {
    "duration": 5,
    "start_time": "2022-07-05T08:25:06.575Z"
   },
   {
    "duration": 4,
    "start_time": "2022-07-05T08:25:06.895Z"
   },
   {
    "duration": 5,
    "start_time": "2022-07-05T08:25:07.480Z"
   },
   {
    "duration": 5,
    "start_time": "2022-07-05T08:25:07.926Z"
   },
   {
    "duration": 15,
    "start_time": "2022-07-05T08:25:08.253Z"
   },
   {
    "duration": 22,
    "start_time": "2022-07-05T08:25:10.277Z"
   },
   {
    "duration": 6,
    "start_time": "2022-07-05T08:25:10.618Z"
   },
   {
    "duration": 3,
    "start_time": "2022-07-05T08:25:11.320Z"
   },
   {
    "duration": 6,
    "start_time": "2022-07-05T08:25:11.520Z"
   },
   {
    "duration": 8,
    "start_time": "2022-07-05T08:25:11.985Z"
   },
   {
    "duration": 7,
    "start_time": "2022-07-05T08:25:12.168Z"
   },
   {
    "duration": 4,
    "start_time": "2022-07-05T08:25:12.491Z"
   },
   {
    "duration": 4,
    "start_time": "2022-07-05T08:25:12.650Z"
   },
   {
    "duration": 4,
    "start_time": "2022-07-05T08:25:12.840Z"
   },
   {
    "duration": 3,
    "start_time": "2022-07-05T08:31:19.347Z"
   },
   {
    "duration": 53,
    "start_time": "2022-07-05T08:31:19.984Z"
   },
   {
    "duration": 12,
    "start_time": "2022-07-05T08:31:20.571Z"
   },
   {
    "duration": 10,
    "start_time": "2022-07-05T08:31:23.447Z"
   },
   {
    "duration": 3,
    "start_time": "2022-07-05T08:31:25.379Z"
   },
   {
    "duration": 7,
    "start_time": "2022-07-05T08:31:25.924Z"
   },
   {
    "duration": 5,
    "start_time": "2022-07-05T08:31:26.098Z"
   },
   {
    "duration": 4,
    "start_time": "2022-07-05T08:31:29.621Z"
   },
   {
    "duration": 4,
    "start_time": "2022-07-05T08:31:30.000Z"
   },
   {
    "duration": 3,
    "start_time": "2022-07-05T08:31:36.501Z"
   },
   {
    "duration": 12,
    "start_time": "2022-07-05T08:31:36.867Z"
   },
   {
    "duration": 5,
    "start_time": "2022-07-05T08:31:37.012Z"
   },
   {
    "duration": 7,
    "start_time": "2022-07-05T08:31:38.115Z"
   },
   {
    "duration": 3,
    "start_time": "2022-07-05T08:31:38.308Z"
   },
   {
    "duration": 6,
    "start_time": "2022-07-05T08:31:38.482Z"
   },
   {
    "duration": 4,
    "start_time": "2022-07-05T08:31:38.638Z"
   },
   {
    "duration": 3,
    "start_time": "2022-07-05T08:31:39.784Z"
   },
   {
    "duration": 4,
    "start_time": "2022-07-05T08:31:39.973Z"
   },
   {
    "duration": 3,
    "start_time": "2022-07-05T08:31:44.120Z"
   },
   {
    "duration": 425,
    "start_time": "2022-07-05T08:31:44.299Z"
   },
   {
    "duration": 50,
    "start_time": "2022-07-05T08:31:44.727Z"
   },
   {
    "duration": 39,
    "start_time": "2022-07-05T08:31:45.080Z"
   },
   {
    "duration": 2,
    "start_time": "2022-07-05T08:31:45.232Z"
   },
   {
    "duration": 4,
    "start_time": "2022-07-05T08:31:45.406Z"
   },
   {
    "duration": 3,
    "start_time": "2022-07-05T08:31:45.563Z"
   },
   {
    "duration": 4,
    "start_time": "2022-07-05T08:31:46.843Z"
   },
   {
    "duration": 3,
    "start_time": "2022-07-05T08:31:47.033Z"
   },
   {
    "duration": 21,
    "start_time": "2022-07-05T08:31:52.618Z"
   },
   {
    "duration": 9,
    "start_time": "2022-07-05T08:31:53.418Z"
   },
   {
    "duration": 4,
    "start_time": "2022-07-05T08:31:53.625Z"
   },
   {
    "duration": 6,
    "start_time": "2022-07-05T08:31:53.730Z"
   },
   {
    "duration": 3,
    "start_time": "2022-07-05T08:31:53.896Z"
   },
   {
    "duration": 4,
    "start_time": "2022-07-05T08:31:54.233Z"
   },
   {
    "duration": 4,
    "start_time": "2022-07-05T08:31:54.573Z"
   },
   {
    "duration": 5,
    "start_time": "2022-07-05T08:31:55.080Z"
   },
   {
    "duration": 6,
    "start_time": "2022-07-05T08:31:55.270Z"
   },
   {
    "duration": 3,
    "start_time": "2022-07-05T08:31:55.446Z"
   },
   {
    "duration": 6,
    "start_time": "2022-07-05T08:31:55.621Z"
   },
   {
    "duration": 3,
    "start_time": "2022-07-05T08:31:55.795Z"
   },
   {
    "duration": 3,
    "start_time": "2022-07-05T08:31:56.128Z"
   },
   {
    "duration": 5,
    "start_time": "2022-07-05T08:31:56.310Z"
   },
   {
    "duration": 58,
    "start_time": "2022-07-05T08:31:56.995Z"
   },
   {
    "duration": 41,
    "start_time": "2022-07-05T08:31:57.164Z"
   },
   {
    "duration": 4,
    "start_time": "2022-07-05T08:31:57.280Z"
   },
   {
    "duration": 6,
    "start_time": "2022-07-05T08:31:57.442Z"
   },
   {
    "duration": 3,
    "start_time": "2022-07-05T08:31:57.598Z"
   },
   {
    "duration": 4,
    "start_time": "2022-07-05T08:31:57.908Z"
   },
   {
    "duration": 4,
    "start_time": "2022-07-05T08:31:58.066Z"
   },
   {
    "duration": 21,
    "start_time": "2022-07-05T08:32:35.046Z"
   }
  ],
  "kernelspec": {
   "display_name": "Python 3 (ipykernel)",
   "language": "python",
   "name": "python3"
  },
  "language_info": {
   "codemirror_mode": {
    "name": "ipython",
    "version": 3
   },
   "file_extension": ".py",
   "mimetype": "text/x-python",
   "name": "python",
   "nbconvert_exporter": "python",
   "pygments_lexer": "ipython3",
   "version": "3.11.0"
  },
  "toc": {
   "base_numbering": 1,
   "nav_menu": {},
   "number_sections": true,
   "sideBar": true,
   "skip_h1_title": false,
   "title_cell": "Table of Contents",
   "title_sidebar": "Contents",
   "toc_cell": false,
   "toc_position": {},
   "toc_section_display": true,
   "toc_window_display": false
  }
 },
 "nbformat": 4,
 "nbformat_minor": 5
}
